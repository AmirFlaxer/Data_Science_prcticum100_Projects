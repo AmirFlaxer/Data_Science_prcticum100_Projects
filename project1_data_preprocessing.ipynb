{
 "cells": [
  {
   "cell_type": "markdown",
   "metadata": {},
   "source": [
    "<div style=\"border:solid Chocolate 2px; padding: 40px\">\n",
    "\n",
    "<b>Hello, Amir!👋 How are you today?</b>\n",
    "    \n",
    "My name is Arina U. and I am glad to be your reviewer in this project! Nice to meet you!<br />\n",
    "\n",
    "\n",
    "You can find my comments in <font color='green'>green</font>, <font color='gold'>yellow</font> and <font color='red'>red</font> boxes. Examples you can see below:\n",
    "    \n",
    "<div class=\"alert alert-block alert-success\">\n",
    "    <h2>Reviewer's commentary <a class=\"tocSkip\"> </h2>\n",
    "    <br/>\n",
    "<b>Well done!👍:</b> In case if task is completely correct and everything is alright!\n",
    "</div>\n",
    "\n",
    "\n",
    "<div class=\"alert alert-block alert-warning\">\n",
    "   <h2>Reviewer's commentary <a class=\"tocSkip\"> </h2>\n",
    "    <br/>\n",
    "<b>Remarks and recommendations📌:</b>  In case when I can give some advice that can help you to improve your work or recommend you some useful links and resources that can help you widen your knowledge and help in future tasks.\n",
    "</div>\n",
    "\n",
    "<div class=\"alert alert-block alert-danger\">\n",
    "    <h2>Reviewer's commentary <a class=\"tocSkip\"> </h2>\n",
    "    <br/>\n",
    "<b>Needs fixing!🤔:</b> In case when step requires some extra work and some corrections. Project can't be accepted with comments in the red boxes\n",
    "</div>\n",
    "\n",
    "Please pay attention to not move or change my comments. It would be good to highlight your answers in some way. \n",
    "\n",
    "#### <font color='Purple'>Student's commentary:</font> for example like this <a class=\"tocSkip\"> </div>\n",
    "    \n",
    "OK, now let's go!😏\n",
    "</font>"
   ]
  },
  {
   "cell_type": "markdown",
   "metadata": {},
   "source": [
    "# Analyzing borrowers’ risk of defaulting\n",
    "\n",
    "The project is to prepare a report for a bank’s loan division. I need to find out if a customer’s marital status and number of children has an impact on whether they will default on a loan. The bank already has some data on customers’ credit worthiness.\n",
    "\n",
    "The prosses includes getting the data file, examine it, deal with missing values, wrong values and categorize the data.\n",
    "\n",
    "Your report will be considered when building a **credit scoring** of a potential customer. A ** credit scoring ** is used to evaluate the ability of a potential borrower to repay their loan."
   ]
  },
  {
   "cell_type": "markdown",
   "metadata": {},
   "source": [
    "\n",
    "<div class=\"alert alert-block alert-warning\">\n",
    "   <h2>Reviewer's commentary <a class=\"tocSkip\"> </h2>\n",
    "    <br/>\n",
    "<b>Remarks and recommendations📌:</b>\n",
    "\n",
    "Ok, Amir,  it is great that you started your project with the short introduction, but it is also important to fix the main aim of the project and include the content plan of your work, so don't forget to do it next time🙂"
   ]
  },
  {
   "cell_type": "markdown",
   "metadata": {},
   "source": [
    "## Open the data file and have a look at the general information. "
   ]
  },
  {
   "cell_type": "code",
   "execution_count": 1,
   "metadata": {},
   "outputs": [],
   "source": [
    "#import pandas library\n",
    "import pandas as pd"
   ]
  },
  {
   "cell_type": "code",
   "execution_count": 2,
   "metadata": {},
   "outputs": [],
   "source": [
    "#read input data\n",
    "try:\n",
    "    df=pd.read_csv(\"credit_scoring_eng.csv\",sep=\",\")\n",
    "except:\n",
    "    df=pd.read_csv(\"/datasets/credit_scoring_eng.csv\",sep=\",\")"
   ]
  },
  {
   "cell_type": "markdown",
   "metadata": {},
   "source": [
    "    \n",
    "<div class=\"alert alert-block alert-success\">\n",
    "    <h2>Reviewer's commentary <a class=\"tocSkip\"> </h2>\n",
    "    <br/>\n",
    "<b>Well done!👍:</b> \n",
    "        \n",
    "It is absolutely correct that you used the `try-except` here, this construction can help to avoid errors when you try to load the data."
   ]
  },
  {
   "cell_type": "code",
   "execution_count": 3,
   "metadata": {},
   "outputs": [
    {
     "name": "stdout",
     "output_type": "stream",
     "text": [
      "<class 'pandas.core.frame.DataFrame'>\n",
      "RangeIndex: 21525 entries, 0 to 21524\n",
      "Data columns (total 12 columns):\n",
      "children            21525 non-null int64\n",
      "days_employed       19351 non-null float64\n",
      "dob_years           21525 non-null int64\n",
      "education           21525 non-null object\n",
      "education_id        21525 non-null int64\n",
      "family_status       21525 non-null object\n",
      "family_status_id    21525 non-null int64\n",
      "gender              21525 non-null object\n",
      "income_type         21525 non-null object\n",
      "debt                21525 non-null int64\n",
      "total_income        19351 non-null float64\n",
      "purpose             21525 non-null object\n",
      "dtypes: float64(2), int64(5), object(5)\n",
      "memory usage: 2.0+ MB\n"
     ]
    }
   ],
   "source": [
    "df.info()"
   ]
  },
  {
   "cell_type": "markdown",
   "metadata": {},
   "source": [
    "### Conclusion"
   ]
  },
  {
   "cell_type": "markdown",
   "metadata": {},
   "source": [
    "1. there are 12 columns\n",
    "2. two of them with missing data: days_employed and total_income\n",
    "3. it is possible that there is connection between  the missing data and other information like is_employed?"
   ]
  },
  {
   "cell_type": "markdown",
   "metadata": {},
   "source": [
    "<div class=\"alert alert-block alert-success\">\n",
    "    <h2>Reviewer's commentary<a class=\"tocSkip\"> </h2>\n",
    "    <br/>\n",
    "<b>Well done!👍:</b> \n",
    "\n",
    "Ok, you have explored the data, pointed out the main problems in it, so, let's see what results you got at the next steps of the analysis!👀"
   ]
  },
  {
   "cell_type": "markdown",
   "metadata": {},
   "source": [
    "## Data preprocessing"
   ]
  },
  {
   "cell_type": "markdown",
   "metadata": {},
   "source": [
    "### Processing missing values"
   ]
  },
  {
   "cell_type": "code",
   "execution_count": 4,
   "metadata": {},
   "outputs": [
    {
     "data": {
      "text/plain": [
       "children               0\n",
       "days_employed       2174\n",
       "dob_years              0\n",
       "education              0\n",
       "education_id           0\n",
       "family_status          0\n",
       "family_status_id       0\n",
       "gender                 0\n",
       "income_type            0\n",
       "debt                   0\n",
       "total_income        2174\n",
       "purpose                0\n",
       "dtype: int64"
      ]
     },
     "execution_count": 4,
     "metadata": {},
     "output_type": "execute_result"
    }
   ],
   "source": [
    "#list of all missing values in the Dataset\n",
    "df.isnull().sum()"
   ]
  },
  {
   "cell_type": "markdown",
   "metadata": {},
   "source": [
    "<div class=\"alert alert-block alert-warning\">\n",
    "   <h2>Reviewer's commentary <a class=\"tocSkip\"> </h2>\n",
    "    <br/>\n",
    "<b>Remarks and recommendations📌:</b>  \n",
    "    \n",
    "Ok, Amir, it is important to look not just at the amount of missing values in every column, but at the percentage of missing values in columns, for example, like this:\n",
    "    \n",
    "`data.isnull().sum()*100/len(data)`\n",
    "       \n",
    "`data.isnull().mean() * 100`\n",
    "\n",
    "Or like this:\n",
    "    \n",
    "`report = data.isna().sum().to_frame()\n",
    "report = report.rename(columns = {0: 'missing_values'})\n",
    "report['% of total'] = (report['missing_values'] / data.shape[0]).round(2)\n",
    "report.sort_values(by = 'missing_values', ascending = False)`\n",
    "       \n",
    "You did it only for column `total_income` but I would like to recommedn you to do it for all column because there are missing values not only in the column `total_income`"
   ]
  },
  {
   "cell_type": "code",
   "execution_count": 5,
   "metadata": {},
   "outputs": [
    {
     "data": {
      "text/html": [
       "<div>\n",
       "<style scoped>\n",
       "    .dataframe tbody tr th:only-of-type {\n",
       "        vertical-align: middle;\n",
       "    }\n",
       "\n",
       "    .dataframe tbody tr th {\n",
       "        vertical-align: top;\n",
       "    }\n",
       "\n",
       "    .dataframe thead th {\n",
       "        text-align: right;\n",
       "    }\n",
       "</style>\n",
       "<table border=\"1\" class=\"dataframe\">\n",
       "  <thead>\n",
       "    <tr style=\"text-align: right;\">\n",
       "      <th></th>\n",
       "      <th>children</th>\n",
       "      <th>days_employed</th>\n",
       "      <th>dob_years</th>\n",
       "      <th>education</th>\n",
       "      <th>education_id</th>\n",
       "      <th>family_status</th>\n",
       "      <th>family_status_id</th>\n",
       "      <th>gender</th>\n",
       "      <th>income_type</th>\n",
       "      <th>debt</th>\n",
       "      <th>total_income</th>\n",
       "      <th>purpose</th>\n",
       "    </tr>\n",
       "  </thead>\n",
       "  <tbody>\n",
       "    <tr>\n",
       "      <td>12</td>\n",
       "      <td>0</td>\n",
       "      <td>NaN</td>\n",
       "      <td>65</td>\n",
       "      <td>secondary education</td>\n",
       "      <td>1</td>\n",
       "      <td>civil partnership</td>\n",
       "      <td>1</td>\n",
       "      <td>M</td>\n",
       "      <td>retiree</td>\n",
       "      <td>0</td>\n",
       "      <td>NaN</td>\n",
       "      <td>to have a wedding</td>\n",
       "    </tr>\n",
       "    <tr>\n",
       "      <td>26</td>\n",
       "      <td>0</td>\n",
       "      <td>NaN</td>\n",
       "      <td>41</td>\n",
       "      <td>secondary education</td>\n",
       "      <td>1</td>\n",
       "      <td>married</td>\n",
       "      <td>0</td>\n",
       "      <td>M</td>\n",
       "      <td>civil servant</td>\n",
       "      <td>0</td>\n",
       "      <td>NaN</td>\n",
       "      <td>education</td>\n",
       "    </tr>\n",
       "    <tr>\n",
       "      <td>29</td>\n",
       "      <td>0</td>\n",
       "      <td>NaN</td>\n",
       "      <td>63</td>\n",
       "      <td>secondary education</td>\n",
       "      <td>1</td>\n",
       "      <td>unmarried</td>\n",
       "      <td>4</td>\n",
       "      <td>F</td>\n",
       "      <td>retiree</td>\n",
       "      <td>0</td>\n",
       "      <td>NaN</td>\n",
       "      <td>building a real estate</td>\n",
       "    </tr>\n",
       "    <tr>\n",
       "      <td>41</td>\n",
       "      <td>0</td>\n",
       "      <td>NaN</td>\n",
       "      <td>50</td>\n",
       "      <td>secondary education</td>\n",
       "      <td>1</td>\n",
       "      <td>married</td>\n",
       "      <td>0</td>\n",
       "      <td>F</td>\n",
       "      <td>civil servant</td>\n",
       "      <td>0</td>\n",
       "      <td>NaN</td>\n",
       "      <td>second-hand car purchase</td>\n",
       "    </tr>\n",
       "    <tr>\n",
       "      <td>55</td>\n",
       "      <td>0</td>\n",
       "      <td>NaN</td>\n",
       "      <td>54</td>\n",
       "      <td>secondary education</td>\n",
       "      <td>1</td>\n",
       "      <td>civil partnership</td>\n",
       "      <td>1</td>\n",
       "      <td>F</td>\n",
       "      <td>retiree</td>\n",
       "      <td>1</td>\n",
       "      <td>NaN</td>\n",
       "      <td>to have a wedding</td>\n",
       "    </tr>\n",
       "    <tr>\n",
       "      <td>65</td>\n",
       "      <td>0</td>\n",
       "      <td>NaN</td>\n",
       "      <td>21</td>\n",
       "      <td>secondary education</td>\n",
       "      <td>1</td>\n",
       "      <td>unmarried</td>\n",
       "      <td>4</td>\n",
       "      <td>M</td>\n",
       "      <td>business</td>\n",
       "      <td>0</td>\n",
       "      <td>NaN</td>\n",
       "      <td>transactions with commercial real estate</td>\n",
       "    </tr>\n",
       "    <tr>\n",
       "      <td>67</td>\n",
       "      <td>0</td>\n",
       "      <td>NaN</td>\n",
       "      <td>52</td>\n",
       "      <td>bachelor's degree</td>\n",
       "      <td>0</td>\n",
       "      <td>married</td>\n",
       "      <td>0</td>\n",
       "      <td>F</td>\n",
       "      <td>retiree</td>\n",
       "      <td>0</td>\n",
       "      <td>NaN</td>\n",
       "      <td>purchase of the house for my family</td>\n",
       "    </tr>\n",
       "    <tr>\n",
       "      <td>72</td>\n",
       "      <td>1</td>\n",
       "      <td>NaN</td>\n",
       "      <td>32</td>\n",
       "      <td>bachelor's degree</td>\n",
       "      <td>0</td>\n",
       "      <td>married</td>\n",
       "      <td>0</td>\n",
       "      <td>M</td>\n",
       "      <td>civil servant</td>\n",
       "      <td>0</td>\n",
       "      <td>NaN</td>\n",
       "      <td>transactions with commercial real estate</td>\n",
       "    </tr>\n",
       "    <tr>\n",
       "      <td>82</td>\n",
       "      <td>2</td>\n",
       "      <td>NaN</td>\n",
       "      <td>50</td>\n",
       "      <td>bachelor's degree</td>\n",
       "      <td>0</td>\n",
       "      <td>married</td>\n",
       "      <td>0</td>\n",
       "      <td>F</td>\n",
       "      <td>employee</td>\n",
       "      <td>0</td>\n",
       "      <td>NaN</td>\n",
       "      <td>housing</td>\n",
       "    </tr>\n",
       "    <tr>\n",
       "      <td>83</td>\n",
       "      <td>0</td>\n",
       "      <td>NaN</td>\n",
       "      <td>52</td>\n",
       "      <td>secondary education</td>\n",
       "      <td>1</td>\n",
       "      <td>married</td>\n",
       "      <td>0</td>\n",
       "      <td>M</td>\n",
       "      <td>employee</td>\n",
       "      <td>0</td>\n",
       "      <td>NaN</td>\n",
       "      <td>housing</td>\n",
       "    </tr>\n",
       "  </tbody>\n",
       "</table>\n",
       "</div>"
      ],
      "text/plain": [
       "    children  days_employed  dob_years            education  education_id  \\\n",
       "12         0            NaN         65  secondary education             1   \n",
       "26         0            NaN         41  secondary education             1   \n",
       "29         0            NaN         63  secondary education             1   \n",
       "41         0            NaN         50  secondary education             1   \n",
       "55         0            NaN         54  secondary education             1   \n",
       "65         0            NaN         21  secondary education             1   \n",
       "67         0            NaN         52    bachelor's degree             0   \n",
       "72         1            NaN         32    bachelor's degree             0   \n",
       "82         2            NaN         50    bachelor's degree             0   \n",
       "83         0            NaN         52  secondary education             1   \n",
       "\n",
       "        family_status  family_status_id gender    income_type  debt  \\\n",
       "12  civil partnership                 1      M        retiree     0   \n",
       "26            married                 0      M  civil servant     0   \n",
       "29          unmarried                 4      F        retiree     0   \n",
       "41            married                 0      F  civil servant     0   \n",
       "55  civil partnership                 1      F        retiree     1   \n",
       "65          unmarried                 4      M       business     0   \n",
       "67            married                 0      F        retiree     0   \n",
       "72            married                 0      M  civil servant     0   \n",
       "82            married                 0      F       employee     0   \n",
       "83            married                 0      M       employee     0   \n",
       "\n",
       "    total_income                                   purpose  \n",
       "12           NaN                         to have a wedding  \n",
       "26           NaN                                 education  \n",
       "29           NaN                    building a real estate  \n",
       "41           NaN                  second-hand car purchase  \n",
       "55           NaN                         to have a wedding  \n",
       "65           NaN  transactions with commercial real estate  \n",
       "67           NaN       purchase of the house for my family  \n",
       "72           NaN  transactions with commercial real estate  \n",
       "82           NaN                                   housing  \n",
       "83           NaN                                   housing  "
      ]
     },
     "execution_count": 5,
     "metadata": {},
     "output_type": "execute_result"
    }
   ],
   "source": [
    "#look at some of them to see if there a reason for the missing value\n",
    "df.loc[df[\"days_employed\"].isnull(),:].head(10)"
   ]
  },
  {
   "cell_type": "code",
   "execution_count": 6,
   "metadata": {},
   "outputs": [
    {
     "data": {
      "text/html": [
       "<div>\n",
       "<style scoped>\n",
       "    .dataframe tbody tr th:only-of-type {\n",
       "        vertical-align: middle;\n",
       "    }\n",
       "\n",
       "    .dataframe tbody tr th {\n",
       "        vertical-align: top;\n",
       "    }\n",
       "\n",
       "    .dataframe thead th {\n",
       "        text-align: right;\n",
       "    }\n",
       "</style>\n",
       "<table border=\"1\" class=\"dataframe\">\n",
       "  <thead>\n",
       "    <tr style=\"text-align: right;\">\n",
       "      <th></th>\n",
       "      <th>children</th>\n",
       "      <th>days_employed</th>\n",
       "      <th>dob_years</th>\n",
       "      <th>education</th>\n",
       "      <th>education_id</th>\n",
       "      <th>family_status</th>\n",
       "      <th>family_status_id</th>\n",
       "      <th>gender</th>\n",
       "      <th>income_type</th>\n",
       "      <th>debt</th>\n",
       "      <th>total_income</th>\n",
       "      <th>purpose</th>\n",
       "    </tr>\n",
       "  </thead>\n",
       "  <tbody>\n",
       "    <tr>\n",
       "      <td>4</td>\n",
       "      <td>0</td>\n",
       "      <td>340266.072047</td>\n",
       "      <td>53</td>\n",
       "      <td>secondary education</td>\n",
       "      <td>1</td>\n",
       "      <td>civil partnership</td>\n",
       "      <td>1</td>\n",
       "      <td>F</td>\n",
       "      <td>retiree</td>\n",
       "      <td>0</td>\n",
       "      <td>25378.572</td>\n",
       "      <td>to have a wedding</td>\n",
       "    </tr>\n",
       "    <tr>\n",
       "      <td>18</td>\n",
       "      <td>0</td>\n",
       "      <td>400281.136913</td>\n",
       "      <td>53</td>\n",
       "      <td>secondary education</td>\n",
       "      <td>1</td>\n",
       "      <td>widow / widower</td>\n",
       "      <td>2</td>\n",
       "      <td>F</td>\n",
       "      <td>retiree</td>\n",
       "      <td>0</td>\n",
       "      <td>9091.804</td>\n",
       "      <td>buying a second-hand car</td>\n",
       "    </tr>\n",
       "    <tr>\n",
       "      <td>24</td>\n",
       "      <td>1</td>\n",
       "      <td>338551.952911</td>\n",
       "      <td>57</td>\n",
       "      <td>secondary education</td>\n",
       "      <td>1</td>\n",
       "      <td>unmarried</td>\n",
       "      <td>4</td>\n",
       "      <td>F</td>\n",
       "      <td>retiree</td>\n",
       "      <td>0</td>\n",
       "      <td>46487.558</td>\n",
       "      <td>transactions with commercial real estate</td>\n",
       "    </tr>\n",
       "    <tr>\n",
       "      <td>25</td>\n",
       "      <td>0</td>\n",
       "      <td>363548.489348</td>\n",
       "      <td>67</td>\n",
       "      <td>secondary education</td>\n",
       "      <td>1</td>\n",
       "      <td>married</td>\n",
       "      <td>0</td>\n",
       "      <td>M</td>\n",
       "      <td>retiree</td>\n",
       "      <td>0</td>\n",
       "      <td>8818.041</td>\n",
       "      <td>buy real estate</td>\n",
       "    </tr>\n",
       "    <tr>\n",
       "      <td>30</td>\n",
       "      <td>1</td>\n",
       "      <td>335581.668515</td>\n",
       "      <td>62</td>\n",
       "      <td>secondary education</td>\n",
       "      <td>1</td>\n",
       "      <td>married</td>\n",
       "      <td>0</td>\n",
       "      <td>F</td>\n",
       "      <td>retiree</td>\n",
       "      <td>0</td>\n",
       "      <td>27432.971</td>\n",
       "      <td>transactions with commercial real estate</td>\n",
       "    </tr>\n",
       "  </tbody>\n",
       "</table>\n",
       "</div>"
      ],
      "text/plain": [
       "    children  days_employed  dob_years            education  education_id  \\\n",
       "4          0  340266.072047         53  secondary education             1   \n",
       "18         0  400281.136913         53  secondary education             1   \n",
       "24         1  338551.952911         57  secondary education             1   \n",
       "25         0  363548.489348         67  secondary education             1   \n",
       "30         1  335581.668515         62  secondary education             1   \n",
       "\n",
       "        family_status  family_status_id gender income_type  debt  \\\n",
       "4   civil partnership                 1      F     retiree     0   \n",
       "18    widow / widower                 2      F     retiree     0   \n",
       "24          unmarried                 4      F     retiree     0   \n",
       "25            married                 0      M     retiree     0   \n",
       "30            married                 0      F     retiree     0   \n",
       "\n",
       "    total_income                                   purpose  \n",
       "4      25378.572                         to have a wedding  \n",
       "18      9091.804                  buying a second-hand car  \n",
       "24     46487.558  transactions with commercial real estate  \n",
       "25      8818.041                           buy real estate  \n",
       "30     27432.971  transactions with commercial real estate  "
      ]
     },
     "execution_count": 6,
     "metadata": {},
     "output_type": "execute_result"
    }
   ],
   "source": [
    "#some of them are retiree so it is acceptable they are not employed and have no total_income\n",
    "#lets check if there are other income_type=\"retiree\" that do have positive days at days_employed\n",
    "df[(df[\"days_employed\"]>0) & (df[\"income_type\"]==\"retiree\")].head(5)"
   ]
  },
  {
   "cell_type": "markdown",
   "metadata": {},
   "source": [
    "<div class=\"alert alert-info\">\n",
    "  <strong>My fix!</strong> here is what I added / changed\n",
    "</div>"
   ]
  },
  {
   "cell_type": "markdown",
   "metadata": {},
   "source": [
    "<div class=\"alert alert-block alert-success\">\n",
    "    <h2>Reviewer's commentary: second iteration of the review <a class=\"tocSkip\"> </h2>\n",
    "    <br/>\n",
    "<b>Well done!👍:</b> \n",
    "        \n",
    "Ok, let's look at your corrections👀"
   ]
  },
  {
   "cell_type": "code",
   "execution_count": 7,
   "metadata": {},
   "outputs": [],
   "source": [
    "#before filling in missing values in column days_employed \n",
    "#it is important to get rid of the negative values in this column. Try to use abs() to handle the negative values\n",
    "df[\"days_employed\"]=df[\"days_employed\"].abs()"
   ]
  },
  {
   "cell_type": "code",
   "execution_count": 8,
   "metadata": {},
   "outputs": [],
   "source": [
    "#there are retiree with days_employed and total_incone, so there are no explenation for the missing data.\n",
    "#I will fill the missing data with the median (on income - median is better than mean)\n",
    "df['days_employed'].fillna(df['days_employed'].median(),inplace=True)"
   ]
  },
  {
   "cell_type": "code",
   "execution_count": 9,
   "metadata": {},
   "outputs": [],
   "source": [
    "#filling the same for total_income\n",
    "df['total_income'].fillna(df['total_income'].median(),inplace=True)"
   ]
  },
  {
   "cell_type": "code",
   "execution_count": 10,
   "metadata": {},
   "outputs": [
    {
     "data": {
      "text/plain": [
       "children            0\n",
       "days_employed       0\n",
       "dob_years           0\n",
       "education           0\n",
       "education_id        0\n",
       "family_status       0\n",
       "family_status_id    0\n",
       "gender              0\n",
       "income_type         0\n",
       "debt                0\n",
       "total_income        0\n",
       "purpose             0\n",
       "dtype: int64"
      ]
     },
     "execution_count": 10,
     "metadata": {},
     "output_type": "execute_result"
    }
   ],
   "source": [
    "#checking there are no more missing values\n",
    "df.isnull().sum()"
   ]
  },
  {
   "cell_type": "markdown",
   "metadata": {},
   "source": [
    "### Conclusion"
   ]
  },
  {
   "cell_type": "markdown",
   "metadata": {},
   "source": [
    "All days employed and total income was filled with the median"
   ]
  },
  {
   "cell_type": "markdown",
   "metadata": {},
   "source": [
    "<div class=\"alert alert-block alert-warning\">\n",
    "   <h2>Reviewer's commentary <a class=\"tocSkip\"> </h2>\n",
    "    <br/>\n",
    "<b>Remarks and recommendations📌:</b>  \n",
    "       \n",
    "As for preprocessing of the missing values.\n",
    "              \n",
    "\n",
    "Common logic is that it is better to think about the strategies of filling in the missing values and if it is impossible to fill in the missing values we can simply leave missing values in the data unchanged, because sometimes when the percentage of the missing values is big and the data is rather sensitive our attempts to fill in missing values using mean or median can be risky in terms of distortion of the original data, so it is important to take it into consideration!\n",
    "       \n",
    "We can use median to fill in missing values in column  `total_income` because this statistics is more resistant to outliers. As a whole I would like to recommend you to be more careful with handling missing values first you should check how large their share is. You did this action, so, I can agree with your strategy.\n",
    "        \n",
    "So, finally is important to understand the nature of the missing values, formulate hypotheses or reasons for the presence of missing values in the data, and based on these hypotheses, try to choose a way to fill the data. It is important to understand that replacing missing values with a simple median or mean by column can significantly distort the original data if the percentage of gaps in the columns exceeds 10%.\n",
    "    \n",
    "So here you can use grouping method, when you try to understand what factors can be connected to each other and use `groupby` method for aggregating and filling in the data. For example, you can check the typical values of the client, depending on the age, education and type of employment of the client. Or check other dependencies. You can lso use correlation to check the dependancies and then use grouping method to restore the data."
   ]
  },
  {
   "cell_type": "markdown",
   "metadata": {},
   "source": [
    "<div class=\"alert alert-block alert-warning\">\n",
    "   <h2>Reviewer's commentary <a class=\"tocSkip\"> </h2>\n",
    "    <br/>\n",
    "<b>Remarks and recommendations📌:</b>  \n",
    "\n",
    "More recommendations about the data preprocessing:\n",
    "       \n",
    "* some of the columns have error values, for example XNA in `gender` it is better to deal with such anomalies and artefacts values\n"
   ]
  },
  {
   "cell_type": "markdown",
   "metadata": {},
   "source": [
    "<div class=\"alert alert-block alert-success\">\n",
    "    <h2>Reviewer's commentary: second iteration of the review <a class=\"tocSkip\"> </h2>\n",
    "    <br/>\n",
    "<b>Well done!👍:</b> \n",
    "        \n",
    "Ok, Amir, good job, agree with your improvements at this step of the analysis!"
   ]
  },
  {
   "cell_type": "markdown",
   "metadata": {},
   "source": [
    "### Data type replacement"
   ]
  },
  {
   "cell_type": "code",
   "execution_count": 11,
   "metadata": {
    "scrolled": false
   },
   "outputs": [
    {
     "name": "stdout",
     "output_type": "stream",
     "text": [
      "<class 'pandas.core.frame.DataFrame'>\n",
      "RangeIndex: 21525 entries, 0 to 21524\n",
      "Data columns (total 12 columns):\n",
      "children            21525 non-null int64\n",
      "days_employed       21525 non-null float64\n",
      "dob_years           21525 non-null int64\n",
      "education           21525 non-null object\n",
      "education_id        21525 non-null int64\n",
      "family_status       21525 non-null object\n",
      "family_status_id    21525 non-null int64\n",
      "gender              21525 non-null object\n",
      "income_type         21525 non-null object\n",
      "debt                21525 non-null int64\n",
      "total_income        21525 non-null float64\n",
      "purpose             21525 non-null object\n",
      "dtypes: float64(2), int64(5), object(5)\n",
      "memory usage: 2.0+ MB\n"
     ]
    }
   ],
   "source": [
    "#checking the data types\n",
    "df.info()"
   ]
  },
  {
   "cell_type": "markdown",
   "metadata": {},
   "source": [
    "My first goal is to change data type to make processing efficient, by changing from general type like \"object\" to specific type like float and from float to integer.\n",
    "My second goal is to use the minimum memory requirement of each column. Thus I check every column to see if memory requirement can be reduce\n",
    "$\\alpha^2$"
   ]
  },
  {
   "cell_type": "markdown",
   "metadata": {},
   "source": [
    "#### Things planned to do\n",
    "1. children $ \\Rightarrow\\ $ int16\n",
    "2. days_employed $ \\Rightarrow\\ $ int64\n",
    "3. dob_years $ \\Rightarrow\\ $ int32\n",
    "4. education - keep (maybe move it to other file and leave only the id)\n",
    "5. education_id $ \\Rightarrow\\ $ int16\n",
    "6. family_status - keep (maybe move it to other file and leave only the id)\n",
    "7. family_status_id $ \\Rightarrow\\ $ int16\n",
    "8. gender $ \\Rightarrow\\ $ bool\n",
    "9. income_type - keep\n",
    "10. debt - keep\n",
    "11. total_income $ \\Rightarrow\\ $ int64\n",
    "12. purpose - keep"
   ]
  },
  {
   "cell_type": "markdown",
   "metadata": {},
   "source": [
    "#### Changes I will do\n",
    "because the data file is not very big, I will change only the necessary data types as follow:\n",
    "2. days_employed $ \\Rightarrow\\ $ int64\n",
    "11. total_income $ \\Rightarrow\\ $ int64\n"
   ]
  },
  {
   "cell_type": "code",
   "execution_count": 12,
   "metadata": {},
   "outputs": [],
   "source": [
    "df[\"days_employed\"]=df[\"days_employed\"].astype(\"int64\")\n",
    "df[\"total_income\"]=df[\"total_income\"].astype(\"int64\")"
   ]
  },
  {
   "cell_type": "code",
   "execution_count": 13,
   "metadata": {},
   "outputs": [
    {
     "name": "stdout",
     "output_type": "stream",
     "text": [
      "<class 'pandas.core.frame.DataFrame'>\n",
      "RangeIndex: 21525 entries, 0 to 21524\n",
      "Data columns (total 12 columns):\n",
      "children            21525 non-null int64\n",
      "days_employed       21525 non-null int64\n",
      "dob_years           21525 non-null int64\n",
      "education           21525 non-null object\n",
      "education_id        21525 non-null int64\n",
      "family_status       21525 non-null object\n",
      "family_status_id    21525 non-null int64\n",
      "gender              21525 non-null object\n",
      "income_type         21525 non-null object\n",
      "debt                21525 non-null int64\n",
      "total_income        21525 non-null int64\n",
      "purpose             21525 non-null object\n",
      "dtypes: int64(7), object(5)\n",
      "memory usage: 2.0+ MB\n"
     ]
    }
   ],
   "source": [
    "#checking the data types are changed\n",
    "df.info()"
   ]
  },
  {
   "cell_type": "markdown",
   "metadata": {},
   "source": [
    "### Conclusion"
   ]
  },
  {
   "cell_type": "markdown",
   "metadata": {},
   "source": [
    "I changed the the data types of two columns from float to integer in order to make it consistent with the other colomns. I could reduce memory usage and change the int columns from int64 to int32 and int16, but it will not save a lot of memory on this small file"
   ]
  },
  {
   "cell_type": "markdown",
   "metadata": {},
   "source": [
    "<div class=\"alert alert-block alert-success\">\n",
    "    <h2>Reviewer's commentary<a class=\"tocSkip\"> </h2>\n",
    "    <br/>\n",
    "<b>Well done!👍:</b> \n",
    "\n",
    "Ok, as a whole you changed the data types correctly."
   ]
  },
  {
   "cell_type": "markdown",
   "metadata": {},
   "source": [
    "### Processing duplicates"
   ]
  },
  {
   "cell_type": "markdown",
   "metadata": {},
   "source": [
    "First, check if there are any duplicates. The problem is that the data doesnt have unique key, so I'll use combitation to simulate unique entity by dob_years + gender + family_status_id. I will check if there are any duplicates:"
   ]
  },
  {
   "cell_type": "markdown",
   "metadata": {},
   "source": [
    "<div class=\"alert alert-info\">\n",
    "  <strong>My fix!</strong> here is what I added / changed\n",
    "</div>"
   ]
  },
  {
   "cell_type": "code",
   "execution_count": 14,
   "metadata": {},
   "outputs": [],
   "source": [
    "#first stage of finding duplicates - make all Object columns lower case \n",
    "#to avoid not finding duplicates with same values but mix upper and lower cases\n",
    "for column in df.select_dtypes(\"object\").columns:\n",
    "    df[column] = df[column].str.lower()"
   ]
  },
  {
   "cell_type": "code",
   "execution_count": 15,
   "metadata": {
    "scrolled": true
   },
   "outputs": [
    {
     "data": {
      "text/plain": [
       "71"
      ]
     },
     "execution_count": 15,
     "metadata": {},
     "output_type": "execute_result"
    }
   ],
   "source": [
    "#fast check to see if there are exact nuplicates:\n",
    "df.duplicated().sum()"
   ]
  },
  {
   "cell_type": "code",
   "execution_count": 16,
   "metadata": {},
   "outputs": [],
   "source": [
    "#remove all duplecates:\n",
    "df=df[~df.duplicated()]"
   ]
  },
  {
   "cell_type": "code",
   "execution_count": 17,
   "metadata": {},
   "outputs": [
    {
     "name": "stdout",
     "output_type": "stream",
     "text": [
      "<class 'pandas.core.frame.DataFrame'>\n",
      "Int64Index: 21454 entries, 0 to 21524\n",
      "Data columns (total 12 columns):\n",
      "children            21454 non-null int64\n",
      "days_employed       21454 non-null int64\n",
      "dob_years           21454 non-null int64\n",
      "education           21454 non-null object\n",
      "education_id        21454 non-null int64\n",
      "family_status       21454 non-null object\n",
      "family_status_id    21454 non-null int64\n",
      "gender              21454 non-null object\n",
      "income_type         21454 non-null object\n",
      "debt                21454 non-null int64\n",
      "total_income        21454 non-null int64\n",
      "purpose             21454 non-null object\n",
      "dtypes: int64(7), object(5)\n",
      "memory usage: 2.1+ MB\n"
     ]
    }
   ],
   "source": [
    "#Checking\n",
    "df.info()"
   ]
  },
  {
   "cell_type": "code",
   "execution_count": 18,
   "metadata": {},
   "outputs": [
    {
     "data": {
      "text/plain": [
       "20952"
      ]
     },
     "execution_count": 18,
     "metadata": {},
     "output_type": "execute_result"
    }
   ],
   "source": [
    "# checking duplicates on 3 columns\n",
    "df[[\"dob_years\", \"gender\", \"family_status_id\"]].duplicated().sum()"
   ]
  },
  {
   "cell_type": "markdown",
   "metadata": {},
   "source": [
    "### Conclusion"
   ]
  },
  {
   "cell_type": "markdown",
   "metadata": {},
   "source": [
    "It tried to look for duplicates. Because I have no unique key for the list (I cannot know the person applying), I deleted exact copy. when I tried to examine closer, there are too many duplicate I am not sure about, so no delete ther"
   ]
  },
  {
   "cell_type": "markdown",
   "metadata": {},
   "source": [
    "<div class=\"alert alert-block alert-success\">\n",
    "    <h2>Reviewer's commentary: second iteration of the review <a class=\"tocSkip\"> </h2>\n",
    "    <br/>\n",
    "<b>Well done!👍:</b> \n",
    "        \n",
    "Ok, everything is alright!"
   ]
  },
  {
   "cell_type": "code",
   "execution_count": 19,
   "metadata": {},
   "outputs": [
    {
     "data": {
      "text/html": [
       "<div>\n",
       "<style scoped>\n",
       "    .dataframe tbody tr th:only-of-type {\n",
       "        vertical-align: middle;\n",
       "    }\n",
       "\n",
       "    .dataframe tbody tr th {\n",
       "        vertical-align: top;\n",
       "    }\n",
       "\n",
       "    .dataframe thead th {\n",
       "        text-align: right;\n",
       "    }\n",
       "</style>\n",
       "<table border=\"1\" class=\"dataframe\">\n",
       "  <thead>\n",
       "    <tr style=\"text-align: right;\">\n",
       "      <th></th>\n",
       "      <th>children</th>\n",
       "      <th>days_employed</th>\n",
       "      <th>dob_years</th>\n",
       "      <th>education_id</th>\n",
       "      <th>family_status_id</th>\n",
       "      <th>debt</th>\n",
       "      <th>total_income</th>\n",
       "    </tr>\n",
       "  </thead>\n",
       "  <tbody>\n",
       "    <tr>\n",
       "      <td>count</td>\n",
       "      <td>21454.000000</td>\n",
       "      <td>21454.000000</td>\n",
       "      <td>21454.000000</td>\n",
       "      <td>21454.000000</td>\n",
       "      <td>21454.000000</td>\n",
       "      <td>21454.000000</td>\n",
       "      <td>21454.000000</td>\n",
       "    </tr>\n",
       "    <tr>\n",
       "      <td>mean</td>\n",
       "      <td>0.539946</td>\n",
       "      <td>60570.114617</td>\n",
       "      <td>43.271231</td>\n",
       "      <td>0.817097</td>\n",
       "      <td>0.973898</td>\n",
       "      <td>0.081150</td>\n",
       "      <td>26435.649389</td>\n",
       "    </tr>\n",
       "    <tr>\n",
       "      <td>std</td>\n",
       "      <td>1.383444</td>\n",
       "      <td>133435.760575</td>\n",
       "      <td>12.570822</td>\n",
       "      <td>0.548674</td>\n",
       "      <td>1.421567</td>\n",
       "      <td>0.273072</td>\n",
       "      <td>15683.370828</td>\n",
       "    </tr>\n",
       "    <tr>\n",
       "      <td>min</td>\n",
       "      <td>-1.000000</td>\n",
       "      <td>24.000000</td>\n",
       "      <td>0.000000</td>\n",
       "      <td>0.000000</td>\n",
       "      <td>0.000000</td>\n",
       "      <td>0.000000</td>\n",
       "      <td>3306.000000</td>\n",
       "    </tr>\n",
       "    <tr>\n",
       "      <td>25%</td>\n",
       "      <td>0.000000</td>\n",
       "      <td>1023.000000</td>\n",
       "      <td>33.000000</td>\n",
       "      <td>1.000000</td>\n",
       "      <td>0.000000</td>\n",
       "      <td>0.000000</td>\n",
       "      <td>17219.500000</td>\n",
       "    </tr>\n",
       "    <tr>\n",
       "      <td>50%</td>\n",
       "      <td>0.000000</td>\n",
       "      <td>2194.000000</td>\n",
       "      <td>42.000000</td>\n",
       "      <td>1.000000</td>\n",
       "      <td>0.000000</td>\n",
       "      <td>0.000000</td>\n",
       "      <td>23202.000000</td>\n",
       "    </tr>\n",
       "    <tr>\n",
       "      <td>75%</td>\n",
       "      <td>1.000000</td>\n",
       "      <td>4797.000000</td>\n",
       "      <td>53.000000</td>\n",
       "      <td>1.000000</td>\n",
       "      <td>1.000000</td>\n",
       "      <td>0.000000</td>\n",
       "      <td>31330.000000</td>\n",
       "    </tr>\n",
       "    <tr>\n",
       "      <td>max</td>\n",
       "      <td>20.000000</td>\n",
       "      <td>401755.000000</td>\n",
       "      <td>75.000000</td>\n",
       "      <td>4.000000</td>\n",
       "      <td>4.000000</td>\n",
       "      <td>1.000000</td>\n",
       "      <td>362496.000000</td>\n",
       "    </tr>\n",
       "  </tbody>\n",
       "</table>\n",
       "</div>"
      ],
      "text/plain": [
       "           children  days_employed     dob_years  education_id  \\\n",
       "count  21454.000000   21454.000000  21454.000000  21454.000000   \n",
       "mean       0.539946   60570.114617     43.271231      0.817097   \n",
       "std        1.383444  133435.760575     12.570822      0.548674   \n",
       "min       -1.000000      24.000000      0.000000      0.000000   \n",
       "25%        0.000000    1023.000000     33.000000      1.000000   \n",
       "50%        0.000000    2194.000000     42.000000      1.000000   \n",
       "75%        1.000000    4797.000000     53.000000      1.000000   \n",
       "max       20.000000  401755.000000     75.000000      4.000000   \n",
       "\n",
       "       family_status_id          debt   total_income  \n",
       "count      21454.000000  21454.000000   21454.000000  \n",
       "mean           0.973898      0.081150   26435.649389  \n",
       "std            1.421567      0.273072   15683.370828  \n",
       "min            0.000000      0.000000    3306.000000  \n",
       "25%            0.000000      0.000000   17219.500000  \n",
       "50%            0.000000      0.000000   23202.000000  \n",
       "75%            1.000000      0.000000   31330.000000  \n",
       "max            4.000000      1.000000  362496.000000  "
      ]
     },
     "execution_count": 19,
     "metadata": {},
     "output_type": "execute_result"
    }
   ],
   "source": [
    "#checking for unwanted data colums- data I cannot fix thus I cannot use:\n",
    "df.describe()"
   ]
  },
  {
   "cell_type": "code",
   "execution_count": 20,
   "metadata": {},
   "outputs": [
    {
     "data": {
      "text/plain": [
       "47"
      ]
     },
     "execution_count": 20,
     "metadata": {},
     "output_type": "execute_result"
    }
   ],
   "source": [
    "#I see children from -1 to 20. negative number of childrem is impossible and \n",
    "#it may be data entry error, ill fix it to absolute value, about 20 children, while it is rare, it is possible:\n",
    "(df[\"children\"]<0).sum()"
   ]
  },
  {
   "cell_type": "code",
   "execution_count": 21,
   "metadata": {
    "scrolled": false
   },
   "outputs": [
    {
     "data": {
      "text/html": [
       "<div>\n",
       "<style scoped>\n",
       "    .dataframe tbody tr th:only-of-type {\n",
       "        vertical-align: middle;\n",
       "    }\n",
       "\n",
       "    .dataframe tbody tr th {\n",
       "        vertical-align: top;\n",
       "    }\n",
       "\n",
       "    .dataframe thead th {\n",
       "        text-align: right;\n",
       "    }\n",
       "</style>\n",
       "<table border=\"1\" class=\"dataframe\">\n",
       "  <thead>\n",
       "    <tr style=\"text-align: right;\">\n",
       "      <th></th>\n",
       "      <th>children</th>\n",
       "      <th>days_employed</th>\n",
       "      <th>dob_years</th>\n",
       "      <th>education</th>\n",
       "      <th>education_id</th>\n",
       "      <th>family_status</th>\n",
       "      <th>family_status_id</th>\n",
       "      <th>gender</th>\n",
       "      <th>income_type</th>\n",
       "      <th>debt</th>\n",
       "      <th>total_income</th>\n",
       "      <th>purpose</th>\n",
       "    </tr>\n",
       "  </thead>\n",
       "  <tbody>\n",
       "    <tr>\n",
       "      <td>291</td>\n",
       "      <td>-1</td>\n",
       "      <td>4417</td>\n",
       "      <td>46</td>\n",
       "      <td>secondary education</td>\n",
       "      <td>1</td>\n",
       "      <td>civil partnership</td>\n",
       "      <td>1</td>\n",
       "      <td>f</td>\n",
       "      <td>employee</td>\n",
       "      <td>0</td>\n",
       "      <td>16450</td>\n",
       "      <td>profile education</td>\n",
       "    </tr>\n",
       "    <tr>\n",
       "      <td>705</td>\n",
       "      <td>-1</td>\n",
       "      <td>902</td>\n",
       "      <td>50</td>\n",
       "      <td>secondary education</td>\n",
       "      <td>1</td>\n",
       "      <td>married</td>\n",
       "      <td>0</td>\n",
       "      <td>f</td>\n",
       "      <td>civil servant</td>\n",
       "      <td>0</td>\n",
       "      <td>22061</td>\n",
       "      <td>car purchase</td>\n",
       "    </tr>\n",
       "    <tr>\n",
       "      <td>742</td>\n",
       "      <td>-1</td>\n",
       "      <td>3174</td>\n",
       "      <td>57</td>\n",
       "      <td>secondary education</td>\n",
       "      <td>1</td>\n",
       "      <td>married</td>\n",
       "      <td>0</td>\n",
       "      <td>f</td>\n",
       "      <td>employee</td>\n",
       "      <td>0</td>\n",
       "      <td>10282</td>\n",
       "      <td>supplementary education</td>\n",
       "    </tr>\n",
       "    <tr>\n",
       "      <td>800</td>\n",
       "      <td>-1</td>\n",
       "      <td>349987</td>\n",
       "      <td>54</td>\n",
       "      <td>secondary education</td>\n",
       "      <td>1</td>\n",
       "      <td>unmarried</td>\n",
       "      <td>4</td>\n",
       "      <td>f</td>\n",
       "      <td>retiree</td>\n",
       "      <td>0</td>\n",
       "      <td>13806</td>\n",
       "      <td>supplementary education</td>\n",
       "    </tr>\n",
       "    <tr>\n",
       "      <td>941</td>\n",
       "      <td>-1</td>\n",
       "      <td>2194</td>\n",
       "      <td>57</td>\n",
       "      <td>secondary education</td>\n",
       "      <td>1</td>\n",
       "      <td>married</td>\n",
       "      <td>0</td>\n",
       "      <td>f</td>\n",
       "      <td>retiree</td>\n",
       "      <td>0</td>\n",
       "      <td>23202</td>\n",
       "      <td>buying my own car</td>\n",
       "    </tr>\n",
       "    <tr>\n",
       "      <td>1363</td>\n",
       "      <td>-1</td>\n",
       "      <td>1195</td>\n",
       "      <td>55</td>\n",
       "      <td>secondary education</td>\n",
       "      <td>1</td>\n",
       "      <td>married</td>\n",
       "      <td>0</td>\n",
       "      <td>f</td>\n",
       "      <td>business</td>\n",
       "      <td>0</td>\n",
       "      <td>11128</td>\n",
       "      <td>profile education</td>\n",
       "    </tr>\n",
       "    <tr>\n",
       "      <td>1929</td>\n",
       "      <td>-1</td>\n",
       "      <td>1461</td>\n",
       "      <td>38</td>\n",
       "      <td>secondary education</td>\n",
       "      <td>1</td>\n",
       "      <td>unmarried</td>\n",
       "      <td>4</td>\n",
       "      <td>m</td>\n",
       "      <td>employee</td>\n",
       "      <td>0</td>\n",
       "      <td>17459</td>\n",
       "      <td>purchase of the house</td>\n",
       "    </tr>\n",
       "    <tr>\n",
       "      <td>2073</td>\n",
       "      <td>-1</td>\n",
       "      <td>2539</td>\n",
       "      <td>42</td>\n",
       "      <td>secondary education</td>\n",
       "      <td>1</td>\n",
       "      <td>divorced</td>\n",
       "      <td>3</td>\n",
       "      <td>f</td>\n",
       "      <td>business</td>\n",
       "      <td>0</td>\n",
       "      <td>26022</td>\n",
       "      <td>purchase of the house</td>\n",
       "    </tr>\n",
       "    <tr>\n",
       "      <td>3814</td>\n",
       "      <td>-1</td>\n",
       "      <td>3045</td>\n",
       "      <td>26</td>\n",
       "      <td>secondary education</td>\n",
       "      <td>1</td>\n",
       "      <td>civil partnership</td>\n",
       "      <td>1</td>\n",
       "      <td>f</td>\n",
       "      <td>civil servant</td>\n",
       "      <td>0</td>\n",
       "      <td>21102</td>\n",
       "      <td>having a wedding</td>\n",
       "    </tr>\n",
       "    <tr>\n",
       "      <td>4201</td>\n",
       "      <td>-1</td>\n",
       "      <td>901</td>\n",
       "      <td>41</td>\n",
       "      <td>secondary education</td>\n",
       "      <td>1</td>\n",
       "      <td>married</td>\n",
       "      <td>0</td>\n",
       "      <td>f</td>\n",
       "      <td>civil servant</td>\n",
       "      <td>0</td>\n",
       "      <td>36220</td>\n",
       "      <td>transactions with my real estate</td>\n",
       "    </tr>\n",
       "    <tr>\n",
       "      <td>4402</td>\n",
       "      <td>-1</td>\n",
       "      <td>398001</td>\n",
       "      <td>64</td>\n",
       "      <td>secondary education</td>\n",
       "      <td>1</td>\n",
       "      <td>married</td>\n",
       "      <td>0</td>\n",
       "      <td>f</td>\n",
       "      <td>retiree</td>\n",
       "      <td>0</td>\n",
       "      <td>26122</td>\n",
       "      <td>buy real estate</td>\n",
       "    </tr>\n",
       "    <tr>\n",
       "      <td>4542</td>\n",
       "      <td>-1</td>\n",
       "      <td>1811</td>\n",
       "      <td>32</td>\n",
       "      <td>secondary education</td>\n",
       "      <td>1</td>\n",
       "      <td>married</td>\n",
       "      <td>0</td>\n",
       "      <td>f</td>\n",
       "      <td>employee</td>\n",
       "      <td>0</td>\n",
       "      <td>25687</td>\n",
       "      <td>education</td>\n",
       "    </tr>\n",
       "    <tr>\n",
       "      <td>5272</td>\n",
       "      <td>-1</td>\n",
       "      <td>1143</td>\n",
       "      <td>46</td>\n",
       "      <td>secondary education</td>\n",
       "      <td>1</td>\n",
       "      <td>widow / widower</td>\n",
       "      <td>2</td>\n",
       "      <td>f</td>\n",
       "      <td>employee</td>\n",
       "      <td>0</td>\n",
       "      <td>44593</td>\n",
       "      <td>buy real estate</td>\n",
       "    </tr>\n",
       "    <tr>\n",
       "      <td>6013</td>\n",
       "      <td>-1</td>\n",
       "      <td>1361</td>\n",
       "      <td>46</td>\n",
       "      <td>bachelor's degree</td>\n",
       "      <td>0</td>\n",
       "      <td>married</td>\n",
       "      <td>0</td>\n",
       "      <td>f</td>\n",
       "      <td>employee</td>\n",
       "      <td>0</td>\n",
       "      <td>22881</td>\n",
       "      <td>construction of own property</td>\n",
       "    </tr>\n",
       "    <tr>\n",
       "      <td>6385</td>\n",
       "      <td>-1</td>\n",
       "      <td>370215</td>\n",
       "      <td>48</td>\n",
       "      <td>secondary education</td>\n",
       "      <td>1</td>\n",
       "      <td>widow / widower</td>\n",
       "      <td>2</td>\n",
       "      <td>f</td>\n",
       "      <td>retiree</td>\n",
       "      <td>0</td>\n",
       "      <td>5768</td>\n",
       "      <td>education</td>\n",
       "    </tr>\n",
       "    <tr>\n",
       "      <td>7190</td>\n",
       "      <td>-1</td>\n",
       "      <td>5928</td>\n",
       "      <td>34</td>\n",
       "      <td>secondary education</td>\n",
       "      <td>1</td>\n",
       "      <td>married</td>\n",
       "      <td>0</td>\n",
       "      <td>m</td>\n",
       "      <td>employee</td>\n",
       "      <td>0</td>\n",
       "      <td>29490</td>\n",
       "      <td>car purchase</td>\n",
       "    </tr>\n",
       "    <tr>\n",
       "      <td>7278</td>\n",
       "      <td>-1</td>\n",
       "      <td>526</td>\n",
       "      <td>51</td>\n",
       "      <td>secondary education</td>\n",
       "      <td>1</td>\n",
       "      <td>married</td>\n",
       "      <td>0</td>\n",
       "      <td>f</td>\n",
       "      <td>employee</td>\n",
       "      <td>0</td>\n",
       "      <td>23508</td>\n",
       "      <td>transactions with commercial real estate</td>\n",
       "    </tr>\n",
       "    <tr>\n",
       "      <td>7615</td>\n",
       "      <td>-1</td>\n",
       "      <td>2194</td>\n",
       "      <td>35</td>\n",
       "      <td>secondary education</td>\n",
       "      <td>1</td>\n",
       "      <td>married</td>\n",
       "      <td>0</td>\n",
       "      <td>m</td>\n",
       "      <td>employee</td>\n",
       "      <td>0</td>\n",
       "      <td>23202</td>\n",
       "      <td>education</td>\n",
       "    </tr>\n",
       "    <tr>\n",
       "      <td>7685</td>\n",
       "      <td>-1</td>\n",
       "      <td>3237</td>\n",
       "      <td>53</td>\n",
       "      <td>secondary education</td>\n",
       "      <td>1</td>\n",
       "      <td>widow / widower</td>\n",
       "      <td>2</td>\n",
       "      <td>f</td>\n",
       "      <td>employee</td>\n",
       "      <td>0</td>\n",
       "      <td>25548</td>\n",
       "      <td>building a real estate</td>\n",
       "    </tr>\n",
       "    <tr>\n",
       "      <td>8229</td>\n",
       "      <td>-1</td>\n",
       "      <td>1803</td>\n",
       "      <td>54</td>\n",
       "      <td>bachelor's degree</td>\n",
       "      <td>0</td>\n",
       "      <td>married</td>\n",
       "      <td>0</td>\n",
       "      <td>f</td>\n",
       "      <td>business</td>\n",
       "      <td>0</td>\n",
       "      <td>22209</td>\n",
       "      <td>buy real estate</td>\n",
       "    </tr>\n",
       "    <tr>\n",
       "      <td>8251</td>\n",
       "      <td>-1</td>\n",
       "      <td>3113</td>\n",
       "      <td>31</td>\n",
       "      <td>secondary education</td>\n",
       "      <td>1</td>\n",
       "      <td>civil partnership</td>\n",
       "      <td>1</td>\n",
       "      <td>f</td>\n",
       "      <td>employee</td>\n",
       "      <td>0</td>\n",
       "      <td>8705</td>\n",
       "      <td>to own a car</td>\n",
       "    </tr>\n",
       "    <tr>\n",
       "      <td>8561</td>\n",
       "      <td>-1</td>\n",
       "      <td>195</td>\n",
       "      <td>31</td>\n",
       "      <td>secondary education</td>\n",
       "      <td>1</td>\n",
       "      <td>married</td>\n",
       "      <td>0</td>\n",
       "      <td>f</td>\n",
       "      <td>employee</td>\n",
       "      <td>0</td>\n",
       "      <td>23292</td>\n",
       "      <td>housing renovation</td>\n",
       "    </tr>\n",
       "    <tr>\n",
       "      <td>9565</td>\n",
       "      <td>-1</td>\n",
       "      <td>2896</td>\n",
       "      <td>34</td>\n",
       "      <td>bachelor's degree</td>\n",
       "      <td>0</td>\n",
       "      <td>married</td>\n",
       "      <td>0</td>\n",
       "      <td>m</td>\n",
       "      <td>employee</td>\n",
       "      <td>0</td>\n",
       "      <td>20280</td>\n",
       "      <td>real estate transactions</td>\n",
       "    </tr>\n",
       "    <tr>\n",
       "      <td>9574</td>\n",
       "      <td>-1</td>\n",
       "      <td>2710</td>\n",
       "      <td>28</td>\n",
       "      <td>bachelor's degree</td>\n",
       "      <td>0</td>\n",
       "      <td>married</td>\n",
       "      <td>0</td>\n",
       "      <td>m</td>\n",
       "      <td>civil servant</td>\n",
       "      <td>0</td>\n",
       "      <td>48501</td>\n",
       "      <td>to get a supplementary education</td>\n",
       "    </tr>\n",
       "    <tr>\n",
       "      <td>10177</td>\n",
       "      <td>-1</td>\n",
       "      <td>1743</td>\n",
       "      <td>37</td>\n",
       "      <td>secondary education</td>\n",
       "      <td>1</td>\n",
       "      <td>married</td>\n",
       "      <td>0</td>\n",
       "      <td>m</td>\n",
       "      <td>employee</td>\n",
       "      <td>0</td>\n",
       "      <td>49658</td>\n",
       "      <td>getting an education</td>\n",
       "    </tr>\n",
       "    <tr>\n",
       "      <td>10365</td>\n",
       "      <td>-1</td>\n",
       "      <td>345774</td>\n",
       "      <td>63</td>\n",
       "      <td>bachelor's degree</td>\n",
       "      <td>0</td>\n",
       "      <td>widow / widower</td>\n",
       "      <td>2</td>\n",
       "      <td>f</td>\n",
       "      <td>retiree</td>\n",
       "      <td>0</td>\n",
       "      <td>27322</td>\n",
       "      <td>building a real estate</td>\n",
       "    </tr>\n",
       "    <tr>\n",
       "      <td>10918</td>\n",
       "      <td>-1</td>\n",
       "      <td>340499</td>\n",
       "      <td>50</td>\n",
       "      <td>secondary education</td>\n",
       "      <td>1</td>\n",
       "      <td>married</td>\n",
       "      <td>0</td>\n",
       "      <td>m</td>\n",
       "      <td>retiree</td>\n",
       "      <td>0</td>\n",
       "      <td>27322</td>\n",
       "      <td>purchase of my own house</td>\n",
       "    </tr>\n",
       "    <tr>\n",
       "      <td>11109</td>\n",
       "      <td>-1</td>\n",
       "      <td>3438</td>\n",
       "      <td>59</td>\n",
       "      <td>secondary education</td>\n",
       "      <td>1</td>\n",
       "      <td>married</td>\n",
       "      <td>0</td>\n",
       "      <td>f</td>\n",
       "      <td>employee</td>\n",
       "      <td>0</td>\n",
       "      <td>35179</td>\n",
       "      <td>housing transactions</td>\n",
       "    </tr>\n",
       "    <tr>\n",
       "      <td>11268</td>\n",
       "      <td>-1</td>\n",
       "      <td>1048</td>\n",
       "      <td>30</td>\n",
       "      <td>bachelor's degree</td>\n",
       "      <td>0</td>\n",
       "      <td>civil partnership</td>\n",
       "      <td>1</td>\n",
       "      <td>f</td>\n",
       "      <td>business</td>\n",
       "      <td>0</td>\n",
       "      <td>51456</td>\n",
       "      <td>to buy a car</td>\n",
       "    </tr>\n",
       "    <tr>\n",
       "      <td>11617</td>\n",
       "      <td>-1</td>\n",
       "      <td>370</td>\n",
       "      <td>27</td>\n",
       "      <td>secondary education</td>\n",
       "      <td>1</td>\n",
       "      <td>married</td>\n",
       "      <td>0</td>\n",
       "      <td>f</td>\n",
       "      <td>business</td>\n",
       "      <td>0</td>\n",
       "      <td>26334</td>\n",
       "      <td>buying property for renting out</td>\n",
       "    </tr>\n",
       "    <tr>\n",
       "      <td>12304</td>\n",
       "      <td>-1</td>\n",
       "      <td>8493</td>\n",
       "      <td>61</td>\n",
       "      <td>some college</td>\n",
       "      <td>2</td>\n",
       "      <td>married</td>\n",
       "      <td>0</td>\n",
       "      <td>m</td>\n",
       "      <td>employee</td>\n",
       "      <td>0</td>\n",
       "      <td>50400</td>\n",
       "      <td>property</td>\n",
       "    </tr>\n",
       "    <tr>\n",
       "      <td>13786</td>\n",
       "      <td>-1</td>\n",
       "      <td>2194</td>\n",
       "      <td>42</td>\n",
       "      <td>secondary education</td>\n",
       "      <td>1</td>\n",
       "      <td>unmarried</td>\n",
       "      <td>4</td>\n",
       "      <td>m</td>\n",
       "      <td>business</td>\n",
       "      <td>0</td>\n",
       "      <td>23202</td>\n",
       "      <td>car</td>\n",
       "    </tr>\n",
       "    <tr>\n",
       "      <td>14357</td>\n",
       "      <td>-1</td>\n",
       "      <td>268</td>\n",
       "      <td>23</td>\n",
       "      <td>secondary education</td>\n",
       "      <td>1</td>\n",
       "      <td>divorced</td>\n",
       "      <td>3</td>\n",
       "      <td>f</td>\n",
       "      <td>business</td>\n",
       "      <td>0</td>\n",
       "      <td>14761</td>\n",
       "      <td>buy residential real estate</td>\n",
       "    </tr>\n",
       "    <tr>\n",
       "      <td>15147</td>\n",
       "      <td>-1</td>\n",
       "      <td>9851</td>\n",
       "      <td>44</td>\n",
       "      <td>secondary education</td>\n",
       "      <td>1</td>\n",
       "      <td>divorced</td>\n",
       "      <td>3</td>\n",
       "      <td>f</td>\n",
       "      <td>employee</td>\n",
       "      <td>0</td>\n",
       "      <td>17758</td>\n",
       "      <td>to own a car</td>\n",
       "    </tr>\n",
       "    <tr>\n",
       "      <td>15435</td>\n",
       "      <td>-1</td>\n",
       "      <td>3614</td>\n",
       "      <td>40</td>\n",
       "      <td>bachelor's degree</td>\n",
       "      <td>0</td>\n",
       "      <td>civil partnership</td>\n",
       "      <td>1</td>\n",
       "      <td>f</td>\n",
       "      <td>employee</td>\n",
       "      <td>0</td>\n",
       "      <td>15700</td>\n",
       "      <td>to have a wedding</td>\n",
       "    </tr>\n",
       "    <tr>\n",
       "      <td>16129</td>\n",
       "      <td>-1</td>\n",
       "      <td>457</td>\n",
       "      <td>33</td>\n",
       "      <td>secondary education</td>\n",
       "      <td>1</td>\n",
       "      <td>married</td>\n",
       "      <td>0</td>\n",
       "      <td>f</td>\n",
       "      <td>employee</td>\n",
       "      <td>1</td>\n",
       "      <td>23942</td>\n",
       "      <td>car</td>\n",
       "    </tr>\n",
       "    <tr>\n",
       "      <td>16265</td>\n",
       "      <td>-1</td>\n",
       "      <td>2802</td>\n",
       "      <td>40</td>\n",
       "      <td>bachelor's degree</td>\n",
       "      <td>0</td>\n",
       "      <td>married</td>\n",
       "      <td>0</td>\n",
       "      <td>m</td>\n",
       "      <td>employee</td>\n",
       "      <td>0</td>\n",
       "      <td>17917</td>\n",
       "      <td>purchase of the house</td>\n",
       "    </tr>\n",
       "    <tr>\n",
       "      <td>17095</td>\n",
       "      <td>-1</td>\n",
       "      <td>2809</td>\n",
       "      <td>34</td>\n",
       "      <td>secondary education</td>\n",
       "      <td>1</td>\n",
       "      <td>married</td>\n",
       "      <td>0</td>\n",
       "      <td>f</td>\n",
       "      <td>employee</td>\n",
       "      <td>0</td>\n",
       "      <td>29207</td>\n",
       "      <td>buying a second-hand car</td>\n",
       "    </tr>\n",
       "    <tr>\n",
       "      <td>17429</td>\n",
       "      <td>-1</td>\n",
       "      <td>895</td>\n",
       "      <td>37</td>\n",
       "      <td>secondary education</td>\n",
       "      <td>1</td>\n",
       "      <td>married</td>\n",
       "      <td>0</td>\n",
       "      <td>f</td>\n",
       "      <td>business</td>\n",
       "      <td>0</td>\n",
       "      <td>34370</td>\n",
       "      <td>housing</td>\n",
       "    </tr>\n",
       "    <tr>\n",
       "      <td>17657</td>\n",
       "      <td>-1</td>\n",
       "      <td>4571</td>\n",
       "      <td>41</td>\n",
       "      <td>secondary education</td>\n",
       "      <td>1</td>\n",
       "      <td>married</td>\n",
       "      <td>0</td>\n",
       "      <td>f</td>\n",
       "      <td>employee</td>\n",
       "      <td>0</td>\n",
       "      <td>19536</td>\n",
       "      <td>transactions with my real estate</td>\n",
       "    </tr>\n",
       "    <tr>\n",
       "      <td>18219</td>\n",
       "      <td>-1</td>\n",
       "      <td>3575</td>\n",
       "      <td>33</td>\n",
       "      <td>secondary education</td>\n",
       "      <td>1</td>\n",
       "      <td>married</td>\n",
       "      <td>0</td>\n",
       "      <td>f</td>\n",
       "      <td>employee</td>\n",
       "      <td>0</td>\n",
       "      <td>20537</td>\n",
       "      <td>university education</td>\n",
       "    </tr>\n",
       "    <tr>\n",
       "      <td>19100</td>\n",
       "      <td>-1</td>\n",
       "      <td>617</td>\n",
       "      <td>38</td>\n",
       "      <td>secondary education</td>\n",
       "      <td>1</td>\n",
       "      <td>unmarried</td>\n",
       "      <td>4</td>\n",
       "      <td>m</td>\n",
       "      <td>employee</td>\n",
       "      <td>0</td>\n",
       "      <td>19552</td>\n",
       "      <td>building a real estate</td>\n",
       "    </tr>\n",
       "    <tr>\n",
       "      <td>19366</td>\n",
       "      <td>-1</td>\n",
       "      <td>372</td>\n",
       "      <td>43</td>\n",
       "      <td>secondary education</td>\n",
       "      <td>1</td>\n",
       "      <td>married</td>\n",
       "      <td>0</td>\n",
       "      <td>m</td>\n",
       "      <td>employee</td>\n",
       "      <td>0</td>\n",
       "      <td>24894</td>\n",
       "      <td>second-hand car purchase</td>\n",
       "    </tr>\n",
       "    <tr>\n",
       "      <td>19417</td>\n",
       "      <td>-1</td>\n",
       "      <td>350340</td>\n",
       "      <td>28</td>\n",
       "      <td>secondary education</td>\n",
       "      <td>1</td>\n",
       "      <td>divorced</td>\n",
       "      <td>3</td>\n",
       "      <td>f</td>\n",
       "      <td>retiree</td>\n",
       "      <td>0</td>\n",
       "      <td>8459</td>\n",
       "      <td>cars</td>\n",
       "    </tr>\n",
       "    <tr>\n",
       "      <td>20393</td>\n",
       "      <td>-1</td>\n",
       "      <td>355157</td>\n",
       "      <td>69</td>\n",
       "      <td>secondary education</td>\n",
       "      <td>1</td>\n",
       "      <td>unmarried</td>\n",
       "      <td>4</td>\n",
       "      <td>f</td>\n",
       "      <td>retiree</td>\n",
       "      <td>0</td>\n",
       "      <td>18643</td>\n",
       "      <td>real estate transactions</td>\n",
       "    </tr>\n",
       "    <tr>\n",
       "      <td>20717</td>\n",
       "      <td>-1</td>\n",
       "      <td>661</td>\n",
       "      <td>32</td>\n",
       "      <td>bachelor's degree</td>\n",
       "      <td>0</td>\n",
       "      <td>married</td>\n",
       "      <td>0</td>\n",
       "      <td>f</td>\n",
       "      <td>employee</td>\n",
       "      <td>0</td>\n",
       "      <td>21984</td>\n",
       "      <td>buy residential real estate</td>\n",
       "    </tr>\n",
       "    <tr>\n",
       "      <td>21140</td>\n",
       "      <td>-1</td>\n",
       "      <td>1422</td>\n",
       "      <td>44</td>\n",
       "      <td>secondary education</td>\n",
       "      <td>1</td>\n",
       "      <td>married</td>\n",
       "      <td>0</td>\n",
       "      <td>f</td>\n",
       "      <td>business</td>\n",
       "      <td>0</td>\n",
       "      <td>27129</td>\n",
       "      <td>transactions with my real estate</td>\n",
       "    </tr>\n",
       "  </tbody>\n",
       "</table>\n",
       "</div>"
      ],
      "text/plain": [
       "       children  days_employed  dob_years            education  education_id  \\\n",
       "291          -1           4417         46  secondary education             1   \n",
       "705          -1            902         50  secondary education             1   \n",
       "742          -1           3174         57  secondary education             1   \n",
       "800          -1         349987         54  secondary education             1   \n",
       "941          -1           2194         57  secondary education             1   \n",
       "1363         -1           1195         55  secondary education             1   \n",
       "1929         -1           1461         38  secondary education             1   \n",
       "2073         -1           2539         42  secondary education             1   \n",
       "3814         -1           3045         26  secondary education             1   \n",
       "4201         -1            901         41  secondary education             1   \n",
       "4402         -1         398001         64  secondary education             1   \n",
       "4542         -1           1811         32  secondary education             1   \n",
       "5272         -1           1143         46  secondary education             1   \n",
       "6013         -1           1361         46    bachelor's degree             0   \n",
       "6385         -1         370215         48  secondary education             1   \n",
       "7190         -1           5928         34  secondary education             1   \n",
       "7278         -1            526         51  secondary education             1   \n",
       "7615         -1           2194         35  secondary education             1   \n",
       "7685         -1           3237         53  secondary education             1   \n",
       "8229         -1           1803         54    bachelor's degree             0   \n",
       "8251         -1           3113         31  secondary education             1   \n",
       "8561         -1            195         31  secondary education             1   \n",
       "9565         -1           2896         34    bachelor's degree             0   \n",
       "9574         -1           2710         28    bachelor's degree             0   \n",
       "10177        -1           1743         37  secondary education             1   \n",
       "10365        -1         345774         63    bachelor's degree             0   \n",
       "10918        -1         340499         50  secondary education             1   \n",
       "11109        -1           3438         59  secondary education             1   \n",
       "11268        -1           1048         30    bachelor's degree             0   \n",
       "11617        -1            370         27  secondary education             1   \n",
       "12304        -1           8493         61         some college             2   \n",
       "13786        -1           2194         42  secondary education             1   \n",
       "14357        -1            268         23  secondary education             1   \n",
       "15147        -1           9851         44  secondary education             1   \n",
       "15435        -1           3614         40    bachelor's degree             0   \n",
       "16129        -1            457         33  secondary education             1   \n",
       "16265        -1           2802         40    bachelor's degree             0   \n",
       "17095        -1           2809         34  secondary education             1   \n",
       "17429        -1            895         37  secondary education             1   \n",
       "17657        -1           4571         41  secondary education             1   \n",
       "18219        -1           3575         33  secondary education             1   \n",
       "19100        -1            617         38  secondary education             1   \n",
       "19366        -1            372         43  secondary education             1   \n",
       "19417        -1         350340         28  secondary education             1   \n",
       "20393        -1         355157         69  secondary education             1   \n",
       "20717        -1            661         32    bachelor's degree             0   \n",
       "21140        -1           1422         44  secondary education             1   \n",
       "\n",
       "           family_status  family_status_id gender    income_type  debt  \\\n",
       "291    civil partnership                 1      f       employee     0   \n",
       "705              married                 0      f  civil servant     0   \n",
       "742              married                 0      f       employee     0   \n",
       "800            unmarried                 4      f        retiree     0   \n",
       "941              married                 0      f        retiree     0   \n",
       "1363             married                 0      f       business     0   \n",
       "1929           unmarried                 4      m       employee     0   \n",
       "2073            divorced                 3      f       business     0   \n",
       "3814   civil partnership                 1      f  civil servant     0   \n",
       "4201             married                 0      f  civil servant     0   \n",
       "4402             married                 0      f        retiree     0   \n",
       "4542             married                 0      f       employee     0   \n",
       "5272     widow / widower                 2      f       employee     0   \n",
       "6013             married                 0      f       employee     0   \n",
       "6385     widow / widower                 2      f        retiree     0   \n",
       "7190             married                 0      m       employee     0   \n",
       "7278             married                 0      f       employee     0   \n",
       "7615             married                 0      m       employee     0   \n",
       "7685     widow / widower                 2      f       employee     0   \n",
       "8229             married                 0      f       business     0   \n",
       "8251   civil partnership                 1      f       employee     0   \n",
       "8561             married                 0      f       employee     0   \n",
       "9565             married                 0      m       employee     0   \n",
       "9574             married                 0      m  civil servant     0   \n",
       "10177            married                 0      m       employee     0   \n",
       "10365    widow / widower                 2      f        retiree     0   \n",
       "10918            married                 0      m        retiree     0   \n",
       "11109            married                 0      f       employee     0   \n",
       "11268  civil partnership                 1      f       business     0   \n",
       "11617            married                 0      f       business     0   \n",
       "12304            married                 0      m       employee     0   \n",
       "13786          unmarried                 4      m       business     0   \n",
       "14357           divorced                 3      f       business     0   \n",
       "15147           divorced                 3      f       employee     0   \n",
       "15435  civil partnership                 1      f       employee     0   \n",
       "16129            married                 0      f       employee     1   \n",
       "16265            married                 0      m       employee     0   \n",
       "17095            married                 0      f       employee     0   \n",
       "17429            married                 0      f       business     0   \n",
       "17657            married                 0      f       employee     0   \n",
       "18219            married                 0      f       employee     0   \n",
       "19100          unmarried                 4      m       employee     0   \n",
       "19366            married                 0      m       employee     0   \n",
       "19417           divorced                 3      f        retiree     0   \n",
       "20393          unmarried                 4      f        retiree     0   \n",
       "20717            married                 0      f       employee     0   \n",
       "21140            married                 0      f       business     0   \n",
       "\n",
       "       total_income                                   purpose  \n",
       "291           16450                         profile education  \n",
       "705           22061                              car purchase  \n",
       "742           10282                   supplementary education  \n",
       "800           13806                   supplementary education  \n",
       "941           23202                         buying my own car  \n",
       "1363          11128                         profile education  \n",
       "1929          17459                     purchase of the house  \n",
       "2073          26022                     purchase of the house  \n",
       "3814          21102                          having a wedding  \n",
       "4201          36220          transactions with my real estate  \n",
       "4402          26122                           buy real estate  \n",
       "4542          25687                                 education  \n",
       "5272          44593                           buy real estate  \n",
       "6013          22881              construction of own property  \n",
       "6385           5768                                 education  \n",
       "7190          29490                              car purchase  \n",
       "7278          23508  transactions with commercial real estate  \n",
       "7615          23202                                 education  \n",
       "7685          25548                    building a real estate  \n",
       "8229          22209                           buy real estate  \n",
       "8251           8705                              to own a car  \n",
       "8561          23292                        housing renovation  \n",
       "9565          20280                  real estate transactions  \n",
       "9574          48501          to get a supplementary education  \n",
       "10177         49658                      getting an education  \n",
       "10365         27322                    building a real estate  \n",
       "10918         27322                  purchase of my own house  \n",
       "11109         35179                      housing transactions  \n",
       "11268         51456                              to buy a car  \n",
       "11617         26334           buying property for renting out  \n",
       "12304         50400                                  property  \n",
       "13786         23202                                       car  \n",
       "14357         14761               buy residential real estate  \n",
       "15147         17758                              to own a car  \n",
       "15435         15700                         to have a wedding  \n",
       "16129         23942                                       car  \n",
       "16265         17917                     purchase of the house  \n",
       "17095         29207                  buying a second-hand car  \n",
       "17429         34370                                   housing  \n",
       "17657         19536          transactions with my real estate  \n",
       "18219         20537                      university education  \n",
       "19100         19552                    building a real estate  \n",
       "19366         24894                  second-hand car purchase  \n",
       "19417          8459                                      cars  \n",
       "20393         18643                  real estate transactions  \n",
       "20717         21984               buy residential real estate  \n",
       "21140         27129          transactions with my real estate  "
      ]
     },
     "execution_count": 21,
     "metadata": {},
     "output_type": "execute_result"
    }
   ],
   "source": [
    "df[df[\"children\"]<0]"
   ]
  },
  {
   "cell_type": "code",
   "execution_count": 22,
   "metadata": {},
   "outputs": [],
   "source": [
    "#replace the -1 with 1\n",
    "df[df[\"children\"]<0]=1"
   ]
  },
  {
   "cell_type": "code",
   "execution_count": 23,
   "metadata": {
    "scrolled": true
   },
   "outputs": [
    {
     "data": {
      "text/plain": [
       "0"
      ]
     },
     "execution_count": 23,
     "metadata": {},
     "output_type": "execute_result"
    }
   ],
   "source": [
    "#checking there are no more negtive numbers\n",
    "(df[\"children\"]<0).sum()"
   ]
  },
  {
   "cell_type": "code",
   "execution_count": 24,
   "metadata": {},
   "outputs": [
    {
     "data": {
      "text/plain": [
       "array([ 1,  0,  3,  2,  4, 20,  5])"
      ]
     },
     "execution_count": 24,
     "metadata": {},
     "output_type": "execute_result"
    }
   ],
   "source": [
    "#children number groups \n",
    "df[\"children\"].unique()"
   ]
  },
  {
   "cell_type": "code",
   "execution_count": 25,
   "metadata": {},
   "outputs": [
    {
     "data": {
      "text/plain": [
       "76"
      ]
     },
     "execution_count": 25,
     "metadata": {},
     "output_type": "execute_result"
    }
   ],
   "source": [
    "#number of rows with 20 children - very very odd. I leave it without a change - have no more info to fix or maybe ok?\n",
    "(df[\"children\"]==20).sum()"
   ]
  },
  {
   "cell_type": "code",
   "execution_count": 26,
   "metadata": {},
   "outputs": [],
   "source": [
    "# days_employed cannot be negative, I dont know how to fix it, I can ignore this column because I dont know \n",
    "#what and how to manipulate the data"
   ]
  },
  {
   "cell_type": "markdown",
   "metadata": {},
   "source": [
    "<div class=\"alert alert-block alert-warning\">\n",
    "   <h2>Reviewer's commentary <a class=\"tocSkip\"> </h2>\n",
    "    <br/>\n",
    "<b>Remarks and recommendations📌:</b>  \n",
    "       \n",
    "As I mentioned above, you can use `abs()` to deal with all negative values in your dataset just apply it to column you want to preprocess."
   ]
  },
  {
   "cell_type": "code",
   "execution_count": 27,
   "metadata": {},
   "outputs": [
    {
     "data": {
      "text/plain": [
       "148"
      ]
     },
     "execution_count": 27,
     "metadata": {},
     "output_type": "execute_result"
    }
   ],
   "source": [
    "#checking age, it is immposible for age under 18:\n",
    "(df[\"dob_years\"]<18).sum()"
   ]
  },
  {
   "cell_type": "code",
   "execution_count": 28,
   "metadata": {},
   "outputs": [],
   "source": [
    "# I will replace them with the mean age of the data\n",
    "mean_age = int(df[\"dob_years\"].mean())\n",
    "df.loc[df[\"dob_years\"]<18,\"dob_years\"] = mean_age"
   ]
  },
  {
   "cell_type": "code",
   "execution_count": 29,
   "metadata": {},
   "outputs": [
    {
     "data": {
      "text/plain": [
       "0"
      ]
     },
     "execution_count": 29,
     "metadata": {},
     "output_type": "execute_result"
    }
   ],
   "source": [
    "#checking\n",
    "(df[\"dob_years\"]<18).sum()"
   ]
  },
  {
   "cell_type": "markdown",
   "metadata": {},
   "source": [
    "all the other numeric columns shows no errors"
   ]
  },
  {
   "cell_type": "markdown",
   "metadata": {},
   "source": [
    "### Categorizing Data"
   ]
  },
  {
   "cell_type": "code",
   "execution_count": 30,
   "metadata": {},
   "outputs": [
    {
     "name": "stdout",
     "output_type": "stream",
     "text": [
      "<class 'pandas.core.frame.DataFrame'>\n",
      "Int64Index: 21454 entries, 0 to 21524\n",
      "Data columns (total 12 columns):\n",
      "children            21454 non-null int64\n",
      "days_employed       21454 non-null int64\n",
      "dob_years           21454 non-null int64\n",
      "education           21454 non-null object\n",
      "education_id        21454 non-null int64\n",
      "family_status       21454 non-null object\n",
      "family_status_id    21454 non-null int64\n",
      "gender              21454 non-null object\n",
      "income_type         21454 non-null object\n",
      "debt                21454 non-null int64\n",
      "total_income        21454 non-null int64\n",
      "purpose             21454 non-null object\n",
      "dtypes: int64(7), object(5)\n",
      "memory usage: 2.1+ MB\n"
     ]
    }
   ],
   "source": [
    "df.info()"
   ]
  },
  {
   "cell_type": "markdown",
   "metadata": {},
   "source": [
    "I will start with checking the columns that I can benefit from categorizing. I'll check: dob_years and total_income. I'll use 4 group for each: <25%, 25%-50%, 50%-75%, >75%"
   ]
  },
  {
   "cell_type": "code",
   "execution_count": 31,
   "metadata": {},
   "outputs": [
    {
     "data": {
      "text/html": [
       "<div>\n",
       "<style scoped>\n",
       "    .dataframe tbody tr th:only-of-type {\n",
       "        vertical-align: middle;\n",
       "    }\n",
       "\n",
       "    .dataframe tbody tr th {\n",
       "        vertical-align: top;\n",
       "    }\n",
       "\n",
       "    .dataframe thead th {\n",
       "        text-align: right;\n",
       "    }\n",
       "</style>\n",
       "<table border=\"1\" class=\"dataframe\">\n",
       "  <thead>\n",
       "    <tr style=\"text-align: right;\">\n",
       "      <th></th>\n",
       "      <th>children</th>\n",
       "      <th>days_employed</th>\n",
       "      <th>dob_years</th>\n",
       "      <th>education_id</th>\n",
       "      <th>family_status_id</th>\n",
       "      <th>debt</th>\n",
       "      <th>total_income</th>\n",
       "    </tr>\n",
       "  </thead>\n",
       "  <tbody>\n",
       "    <tr>\n",
       "      <td>count</td>\n",
       "      <td>21454.000000</td>\n",
       "      <td>21454.000000</td>\n",
       "      <td>21454.000000</td>\n",
       "      <td>21454.000000</td>\n",
       "      <td>21454.000000</td>\n",
       "      <td>21454.000000</td>\n",
       "      <td>21454.000000</td>\n",
       "    </tr>\n",
       "    <tr>\n",
       "      <td>mean</td>\n",
       "      <td>0.544327</td>\n",
       "      <td>60448.651440</td>\n",
       "      <td>43.474597</td>\n",
       "      <td>0.817470</td>\n",
       "      <td>0.973991</td>\n",
       "      <td>0.083294</td>\n",
       "      <td>26381.918943</td>\n",
       "    </tr>\n",
       "    <tr>\n",
       "      <td>std</td>\n",
       "      <td>1.381726</td>\n",
       "      <td>133333.127709</td>\n",
       "      <td>12.202126</td>\n",
       "      <td>0.548374</td>\n",
       "      <td>1.420027</td>\n",
       "      <td>0.276333</td>\n",
       "      <td>15723.866795</td>\n",
       "    </tr>\n",
       "    <tr>\n",
       "      <td>min</td>\n",
       "      <td>0.000000</td>\n",
       "      <td>1.000000</td>\n",
       "      <td>19.000000</td>\n",
       "      <td>0.000000</td>\n",
       "      <td>0.000000</td>\n",
       "      <td>0.000000</td>\n",
       "      <td>1.000000</td>\n",
       "    </tr>\n",
       "    <tr>\n",
       "      <td>25%</td>\n",
       "      <td>0.000000</td>\n",
       "      <td>1017.000000</td>\n",
       "      <td>34.000000</td>\n",
       "      <td>1.000000</td>\n",
       "      <td>0.000000</td>\n",
       "      <td>0.000000</td>\n",
       "      <td>17156.250000</td>\n",
       "    </tr>\n",
       "    <tr>\n",
       "      <td>50%</td>\n",
       "      <td>0.000000</td>\n",
       "      <td>2194.000000</td>\n",
       "      <td>43.000000</td>\n",
       "      <td>1.000000</td>\n",
       "      <td>0.000000</td>\n",
       "      <td>0.000000</td>\n",
       "      <td>23202.000000</td>\n",
       "    </tr>\n",
       "    <tr>\n",
       "      <td>75%</td>\n",
       "      <td>1.000000</td>\n",
       "      <td>4791.750000</td>\n",
       "      <td>53.000000</td>\n",
       "      <td>1.000000</td>\n",
       "      <td>1.000000</td>\n",
       "      <td>0.000000</td>\n",
       "      <td>31317.750000</td>\n",
       "    </tr>\n",
       "    <tr>\n",
       "      <td>max</td>\n",
       "      <td>20.000000</td>\n",
       "      <td>401755.000000</td>\n",
       "      <td>75.000000</td>\n",
       "      <td>4.000000</td>\n",
       "      <td>4.000000</td>\n",
       "      <td>1.000000</td>\n",
       "      <td>362496.000000</td>\n",
       "    </tr>\n",
       "  </tbody>\n",
       "</table>\n",
       "</div>"
      ],
      "text/plain": [
       "           children  days_employed     dob_years  education_id  \\\n",
       "count  21454.000000   21454.000000  21454.000000  21454.000000   \n",
       "mean       0.544327   60448.651440     43.474597      0.817470   \n",
       "std        1.381726  133333.127709     12.202126      0.548374   \n",
       "min        0.000000       1.000000     19.000000      0.000000   \n",
       "25%        0.000000    1017.000000     34.000000      1.000000   \n",
       "50%        0.000000    2194.000000     43.000000      1.000000   \n",
       "75%        1.000000    4791.750000     53.000000      1.000000   \n",
       "max       20.000000  401755.000000     75.000000      4.000000   \n",
       "\n",
       "       family_status_id          debt   total_income  \n",
       "count      21454.000000  21454.000000   21454.000000  \n",
       "mean           0.973991      0.083294   26381.918943  \n",
       "std            1.420027      0.276333   15723.866795  \n",
       "min            0.000000      0.000000       1.000000  \n",
       "25%            0.000000      0.000000   17156.250000  \n",
       "50%            0.000000      0.000000   23202.000000  \n",
       "75%            1.000000      0.000000   31317.750000  \n",
       "max            4.000000      1.000000  362496.000000  "
      ]
     },
     "execution_count": 31,
     "metadata": {},
     "output_type": "execute_result"
    }
   ],
   "source": [
    "df.describe()"
   ]
  },
  {
   "cell_type": "code",
   "execution_count": 32,
   "metadata": {},
   "outputs": [],
   "source": [
    "df_backup=df.copy()"
   ]
  },
  {
   "cell_type": "code",
   "execution_count": 33,
   "metadata": {},
   "outputs": [],
   "source": [
    "def assign_age_group(age):\n",
    "    if age <= 33:\n",
    "        return '18-33'\n",
    "    elif age <= 42:\n",
    "        return \"34-42\"\n",
    "    elif age <= 53:\n",
    "        return \"43-53\"\n",
    "    return \"54+\"\n",
    "\n",
    "def assign_income_group(age):\n",
    "    if age <= 17225:\n",
    "        return '0-17k'\n",
    "    elif age <= 23202:\n",
    "        return \"17k-23k\"\n",
    "    elif age <= 31320:\n",
    "        return \"23k-31k\"\n",
    "    return \"31k+\"\n",
    "\n",
    "df[\"age_group\"] = df[\"dob_years\"].apply(assign_age_group)\n",
    "df[\"income_group\"] = df[\"total_income\"].apply(assign_income_group)"
   ]
  },
  {
   "cell_type": "code",
   "execution_count": 34,
   "metadata": {
    "scrolled": true
   },
   "outputs": [
    {
     "data": {
      "text/html": [
       "<div>\n",
       "<style scoped>\n",
       "    .dataframe tbody tr th:only-of-type {\n",
       "        vertical-align: middle;\n",
       "    }\n",
       "\n",
       "    .dataframe tbody tr th {\n",
       "        vertical-align: top;\n",
       "    }\n",
       "\n",
       "    .dataframe thead th {\n",
       "        text-align: right;\n",
       "    }\n",
       "</style>\n",
       "<table border=\"1\" class=\"dataframe\">\n",
       "  <thead>\n",
       "    <tr style=\"text-align: right;\">\n",
       "      <th></th>\n",
       "      <th>children</th>\n",
       "      <th>days_employed</th>\n",
       "      <th>dob_years</th>\n",
       "      <th>education</th>\n",
       "      <th>education_id</th>\n",
       "      <th>family_status</th>\n",
       "      <th>family_status_id</th>\n",
       "      <th>gender</th>\n",
       "      <th>income_type</th>\n",
       "      <th>debt</th>\n",
       "      <th>total_income</th>\n",
       "      <th>purpose</th>\n",
       "      <th>age_group</th>\n",
       "      <th>income_group</th>\n",
       "    </tr>\n",
       "  </thead>\n",
       "  <tbody>\n",
       "    <tr>\n",
       "      <td>0</td>\n",
       "      <td>1</td>\n",
       "      <td>8437</td>\n",
       "      <td>42</td>\n",
       "      <td>bachelor's degree</td>\n",
       "      <td>0</td>\n",
       "      <td>married</td>\n",
       "      <td>0</td>\n",
       "      <td>f</td>\n",
       "      <td>employee</td>\n",
       "      <td>0</td>\n",
       "      <td>40620</td>\n",
       "      <td>purchase of the house</td>\n",
       "      <td>34-42</td>\n",
       "      <td>31k+</td>\n",
       "    </tr>\n",
       "    <tr>\n",
       "      <td>1</td>\n",
       "      <td>1</td>\n",
       "      <td>4024</td>\n",
       "      <td>36</td>\n",
       "      <td>secondary education</td>\n",
       "      <td>1</td>\n",
       "      <td>married</td>\n",
       "      <td>0</td>\n",
       "      <td>f</td>\n",
       "      <td>employee</td>\n",
       "      <td>0</td>\n",
       "      <td>17932</td>\n",
       "      <td>car purchase</td>\n",
       "      <td>34-42</td>\n",
       "      <td>17k-23k</td>\n",
       "    </tr>\n",
       "    <tr>\n",
       "      <td>2</td>\n",
       "      <td>0</td>\n",
       "      <td>5623</td>\n",
       "      <td>33</td>\n",
       "      <td>secondary education</td>\n",
       "      <td>1</td>\n",
       "      <td>married</td>\n",
       "      <td>0</td>\n",
       "      <td>m</td>\n",
       "      <td>employee</td>\n",
       "      <td>0</td>\n",
       "      <td>23341</td>\n",
       "      <td>purchase of the house</td>\n",
       "      <td>18-33</td>\n",
       "      <td>23k-31k</td>\n",
       "    </tr>\n",
       "    <tr>\n",
       "      <td>3</td>\n",
       "      <td>3</td>\n",
       "      <td>4124</td>\n",
       "      <td>32</td>\n",
       "      <td>secondary education</td>\n",
       "      <td>1</td>\n",
       "      <td>married</td>\n",
       "      <td>0</td>\n",
       "      <td>m</td>\n",
       "      <td>employee</td>\n",
       "      <td>0</td>\n",
       "      <td>42820</td>\n",
       "      <td>supplementary education</td>\n",
       "      <td>18-33</td>\n",
       "      <td>31k+</td>\n",
       "    </tr>\n",
       "    <tr>\n",
       "      <td>4</td>\n",
       "      <td>0</td>\n",
       "      <td>340266</td>\n",
       "      <td>53</td>\n",
       "      <td>secondary education</td>\n",
       "      <td>1</td>\n",
       "      <td>civil partnership</td>\n",
       "      <td>1</td>\n",
       "      <td>f</td>\n",
       "      <td>retiree</td>\n",
       "      <td>0</td>\n",
       "      <td>25378</td>\n",
       "      <td>to have a wedding</td>\n",
       "      <td>43-53</td>\n",
       "      <td>23k-31k</td>\n",
       "    </tr>\n",
       "  </tbody>\n",
       "</table>\n",
       "</div>"
      ],
      "text/plain": [
       "   children  days_employed  dob_years            education  education_id  \\\n",
       "0         1           8437         42    bachelor's degree             0   \n",
       "1         1           4024         36  secondary education             1   \n",
       "2         0           5623         33  secondary education             1   \n",
       "3         3           4124         32  secondary education             1   \n",
       "4         0         340266         53  secondary education             1   \n",
       "\n",
       "       family_status  family_status_id gender income_type  debt  total_income  \\\n",
       "0            married                 0      f    employee     0         40620   \n",
       "1            married                 0      f    employee     0         17932   \n",
       "2            married                 0      m    employee     0         23341   \n",
       "3            married                 0      m    employee     0         42820   \n",
       "4  civil partnership                 1      f     retiree     0         25378   \n",
       "\n",
       "                   purpose age_group income_group  \n",
       "0    purchase of the house     34-42         31k+  \n",
       "1             car purchase     34-42      17k-23k  \n",
       "2    purchase of the house     18-33      23k-31k  \n",
       "3  supplementary education     18-33         31k+  \n",
       "4        to have a wedding     43-53      23k-31k  "
      ]
     },
     "execution_count": 34,
     "metadata": {},
     "output_type": "execute_result"
    }
   ],
   "source": [
    "df.head()"
   ]
  },
  {
   "cell_type": "markdown",
   "metadata": {},
   "source": [
    "### Conclusion"
   ]
  },
  {
   "cell_type": "markdown",
   "metadata": {},
   "source": [
    "I have made two new columns for categorizing age and income"
   ]
  },
  {
   "cell_type": "markdown",
   "metadata": {},
   "source": [
    "<div class=\"alert alert-block alert-success\">\n",
    "    <h2>Reviewer's commentary<a class=\"tocSkip\"> </h2>\n",
    "    <br/>\n",
    "<b>Well done!👍:</b> \n",
    "        \n",
    "Well, Amir, as a whole the logic of categorization in case of age and income is correct."
   ]
  },
  {
   "cell_type": "markdown",
   "metadata": {},
   "source": [
    "## Answer these questions"
   ]
  },
  {
   "cell_type": "markdown",
   "metadata": {},
   "source": [
    "- Is there a relation between having kids and repaying a loan on time?"
   ]
  },
  {
   "cell_type": "markdown",
   "metadata": {},
   "source": [
    "<div class=\"alert alert-info\">\n",
    "  <strong>My fix!</strong> here is what I added / changed\n",
    "</div>"
   ]
  },
  {
   "cell_type": "code",
   "execution_count": 35,
   "metadata": {},
   "outputs": [],
   "source": [
    "#It is better not to analyse the category of 20 children, \n",
    "#it is an error in the data and it is better to preprocess this value (you can change it to 2)\n",
    "df.loc[df[\"children\"]==20,\"children\"]=2"
   ]
  },
  {
   "cell_type": "markdown",
   "metadata": {},
   "source": [
    "#first - calculate repaying a loan retio\n",
    "df[\"debt\"].value_counts()"
   ]
  },
  {
   "cell_type": "code",
   "execution_count": 37,
   "metadata": {},
   "outputs": [
    {
     "data": {
      "text/html": [
       "<style  type=\"text/css\" >\n",
       "    #T_26e60ea4_cdda_11eb_96de_02420a39c0dcrow0_col3 {\n",
       "            width:  10em;\n",
       "             height:  80%;\n",
       "            background:  linear-gradient(90deg,#5fba7d 4.9%, transparent 4.9%);\n",
       "        }    #T_26e60ea4_cdda_11eb_96de_02420a39c0dcrow1_col3 {\n",
       "            width:  10em;\n",
       "             height:  80%;\n",
       "            background:  linear-gradient(90deg,#5fba7d 100.0%, transparent 100.0%);\n",
       "        }    #T_26e60ea4_cdda_11eb_96de_02420a39c0dcrow2_col3 {\n",
       "            width:  10em;\n",
       "             height:  80%;\n",
       "            background:  linear-gradient(90deg,#5fba7d 76.5%, transparent 76.5%);\n",
       "        }    #T_26e60ea4_cdda_11eb_96de_02420a39c0dcrow3_col3 {\n",
       "            width:  10em;\n",
       "             height:  80%;\n",
       "            background:  linear-gradient(90deg,#5fba7d 28.0%, transparent 28.0%);\n",
       "        }    #T_26e60ea4_cdda_11eb_96de_02420a39c0dcrow4_col3 {\n",
       "            width:  10em;\n",
       "             height:  80%;\n",
       "            background:  linear-gradient(90deg,#5fba7d 86.5%, transparent 86.5%);\n",
       "        }    #T_26e60ea4_cdda_11eb_96de_02420a39c0dcrow6_col3 {\n",
       "            width:  10em;\n",
       "             height:  80%;\n",
       "            background:  linear-gradient(90deg,#5fba7d 33.4%, transparent 33.4%);\n",
       "        }</style><table id=\"T_26e60ea4_cdda_11eb_96de_02420a39c0dc\" ><thead>    <tr>        <th class=\"blank level0\" ></th>        <th class=\"col_heading level0 col0\" >Paying</th>        <th class=\"col_heading level0 col1\" >Nonpaying</th>        <th class=\"col_heading level0 col2\" >All</th>        <th class=\"col_heading level0 col3\" >ratio_%</th>    </tr>    <tr>        <th class=\"index_name level0\" >children</th>        <th class=\"blank\" ></th>        <th class=\"blank\" ></th>        <th class=\"blank\" ></th>        <th class=\"blank\" ></th>    </tr></thead><tbody>\n",
       "                <tr>\n",
       "                        <th id=\"T_26e60ea4_cdda_11eb_96de_02420a39c0dclevel0_row0\" class=\"row_heading level0 row0\" >0</th>\n",
       "                        <td id=\"T_26e60ea4_cdda_11eb_96de_02420a39c0dcrow0_col0\" class=\"data row0 col0\" >13028</td>\n",
       "                        <td id=\"T_26e60ea4_cdda_11eb_96de_02420a39c0dcrow0_col1\" class=\"data row0 col1\" >1063</td>\n",
       "                        <td id=\"T_26e60ea4_cdda_11eb_96de_02420a39c0dcrow0_col2\" class=\"data row0 col2\" >14091</td>\n",
       "                        <td id=\"T_26e60ea4_cdda_11eb_96de_02420a39c0dcrow0_col3\" class=\"data row0 col3\" >8.15935</td>\n",
       "            </tr>\n",
       "            <tr>\n",
       "                        <th id=\"T_26e60ea4_cdda_11eb_96de_02420a39c0dclevel0_row1\" class=\"row_heading level0 row1\" >1</th>\n",
       "                        <td id=\"T_26e60ea4_cdda_11eb_96de_02420a39c0dcrow1_col0\" class=\"data row1 col0\" >4364</td>\n",
       "                        <td id=\"T_26e60ea4_cdda_11eb_96de_02420a39c0dcrow1_col1\" class=\"data row1 col1\" >491</td>\n",
       "                        <td id=\"T_26e60ea4_cdda_11eb_96de_02420a39c0dcrow1_col2\" class=\"data row1 col2\" >4855</td>\n",
       "                        <td id=\"T_26e60ea4_cdda_11eb_96de_02420a39c0dcrow1_col3\" class=\"data row1 col3\" >11.2511</td>\n",
       "            </tr>\n",
       "            <tr>\n",
       "                        <th id=\"T_26e60ea4_cdda_11eb_96de_02420a39c0dclevel0_row2\" class=\"row_heading level0 row2\" >2</th>\n",
       "                        <td id=\"T_26e60ea4_cdda_11eb_96de_02420a39c0dcrow2_col0\" class=\"data row2 col0\" >1926</td>\n",
       "                        <td id=\"T_26e60ea4_cdda_11eb_96de_02420a39c0dcrow2_col1\" class=\"data row2 col1\" >202</td>\n",
       "                        <td id=\"T_26e60ea4_cdda_11eb_96de_02420a39c0dcrow2_col2\" class=\"data row2 col2\" >2128</td>\n",
       "                        <td id=\"T_26e60ea4_cdda_11eb_96de_02420a39c0dcrow2_col3\" class=\"data row2 col3\" >10.4881</td>\n",
       "            </tr>\n",
       "            <tr>\n",
       "                        <th id=\"T_26e60ea4_cdda_11eb_96de_02420a39c0dclevel0_row3\" class=\"row_heading level0 row3\" >3</th>\n",
       "                        <td id=\"T_26e60ea4_cdda_11eb_96de_02420a39c0dcrow3_col0\" class=\"data row3 col0\" >303</td>\n",
       "                        <td id=\"T_26e60ea4_cdda_11eb_96de_02420a39c0dcrow3_col1\" class=\"data row3 col1\" >27</td>\n",
       "                        <td id=\"T_26e60ea4_cdda_11eb_96de_02420a39c0dcrow3_col2\" class=\"data row3 col2\" >330</td>\n",
       "                        <td id=\"T_26e60ea4_cdda_11eb_96de_02420a39c0dcrow3_col3\" class=\"data row3 col3\" >8.91089</td>\n",
       "            </tr>\n",
       "            <tr>\n",
       "                        <th id=\"T_26e60ea4_cdda_11eb_96de_02420a39c0dclevel0_row4\" class=\"row_heading level0 row4\" >4</th>\n",
       "                        <td id=\"T_26e60ea4_cdda_11eb_96de_02420a39c0dcrow4_col0\" class=\"data row4 col0\" >37</td>\n",
       "                        <td id=\"T_26e60ea4_cdda_11eb_96de_02420a39c0dcrow4_col1\" class=\"data row4 col1\" >4</td>\n",
       "                        <td id=\"T_26e60ea4_cdda_11eb_96de_02420a39c0dcrow4_col2\" class=\"data row4 col2\" >41</td>\n",
       "                        <td id=\"T_26e60ea4_cdda_11eb_96de_02420a39c0dcrow4_col3\" class=\"data row4 col3\" >10.8108</td>\n",
       "            </tr>\n",
       "            <tr>\n",
       "                        <th id=\"T_26e60ea4_cdda_11eb_96de_02420a39c0dclevel0_row5\" class=\"row_heading level0 row5\" >5</th>\n",
       "                        <td id=\"T_26e60ea4_cdda_11eb_96de_02420a39c0dcrow5_col0\" class=\"data row5 col0\" >9</td>\n",
       "                        <td id=\"T_26e60ea4_cdda_11eb_96de_02420a39c0dcrow5_col1\" class=\"data row5 col1\" >nan</td>\n",
       "                        <td id=\"T_26e60ea4_cdda_11eb_96de_02420a39c0dcrow5_col2\" class=\"data row5 col2\" >9</td>\n",
       "                        <td id=\"T_26e60ea4_cdda_11eb_96de_02420a39c0dcrow5_col3\" class=\"data row5 col3\" >nan</td>\n",
       "            </tr>\n",
       "            <tr>\n",
       "                        <th id=\"T_26e60ea4_cdda_11eb_96de_02420a39c0dclevel0_row6\" class=\"row_heading level0 row6\" >All</th>\n",
       "                        <td id=\"T_26e60ea4_cdda_11eb_96de_02420a39c0dcrow6_col0\" class=\"data row6 col0\" >19667</td>\n",
       "                        <td id=\"T_26e60ea4_cdda_11eb_96de_02420a39c0dcrow6_col1\" class=\"data row6 col1\" >1787</td>\n",
       "                        <td id=\"T_26e60ea4_cdda_11eb_96de_02420a39c0dcrow6_col2\" class=\"data row6 col2\" >21454</td>\n",
       "                        <td id=\"T_26e60ea4_cdda_11eb_96de_02420a39c0dcrow6_col3\" class=\"data row6 col3\" >9.08629</td>\n",
       "            </tr>\n",
       "    </tbody></table>"
      ],
      "text/plain": [
       "<pandas.io.formats.style.Styler at 0x7f6a5a6d7210>"
      ]
     },
     "execution_count": 37,
     "metadata": {},
     "output_type": "execute_result"
    }
   ],
   "source": [
    "#Checking if marital status is a parameter for repaying a loan on time\n",
    "table_children = df.pivot_table(index=\"children\",columns=\"debt\",values=\"family_status_id\",aggfunc=\"count\",margins=True)\n",
    "table_children.columns=[\"Paying\",\"Nonpaying\",\"All\"]\n",
    "table_children[\"ratio_%\"]=table_children[\"Nonpaying\"]/table_children[\"Paying\"]*100\n",
    "table_children.style.bar(subset=[\"ratio_%\"],color='#5fba7d',vmin=8.0)"
   ]
  },
  {
   "cell_type": "markdown",
   "metadata": {},
   "source": [
    "### Conclusion"
   ]
  },
  {
   "cell_type": "markdown",
   "metadata": {},
   "source": [
    "The ratio of default returning loan is smaller without children and with 3 childrens otherwise its about 2% greater"
   ]
  },
  {
   "cell_type": "markdown",
   "metadata": {},
   "source": [
    "<div class=\"alert alert-block alert-success\">\n",
    "    <h2>Reviewer's commentary<a class=\"tocSkip\"> </h2>\n",
    "    <br/>\n",
    "<b>Well done!👍:</b> \n",
    "        \n",
    "Ok, it is great that you used the pivot_table method here and calculated the ratio of debt repayment."
   ]
  },
  {
   "cell_type": "markdown",
   "metadata": {},
   "source": [
    "<div class=\"alert alert-block alert-success\">\n",
    "    <h2>Reviewer's commentary: second iteration of the review <a class=\"tocSkip\"> </h2>\n",
    "    <br/>\n",
    "<b>Well done!👍:</b> \n",
    "        \n",
    "Ok, you correctly preprocessed the 20 value in column `children`, keep it up!"
   ]
  },
  {
   "cell_type": "markdown",
   "metadata": {},
   "source": [
    "- Is there a relation between marital status and repaying a loan on time?"
   ]
  },
  {
   "cell_type": "code",
   "execution_count": 38,
   "metadata": {
    "scrolled": true
   },
   "outputs": [
    {
     "data": {
      "text/html": [
       "<style  type=\"text/css\" >\n",
       "    #T_26f652e6_cdda_11eb_96de_02420a39c0dcrow1_col3 {\n",
       "            width:  10em;\n",
       "             height:  80%;\n",
       "            background:  linear-gradient(90deg,#5fba7d 86.9%, transparent 86.9%);\n",
       "        }    #T_26f652e6_cdda_11eb_96de_02420a39c0dcrow2_col3 {\n",
       "            width:  10em;\n",
       "             height:  80%;\n",
       "            background:  linear-gradient(90deg,#5fba7d 17.9%, transparent 17.9%);\n",
       "        }    #T_26f652e6_cdda_11eb_96de_02420a39c0dcrow3_col3 {\n",
       "            width:  10em;\n",
       "             height:  80%;\n",
       "            background:  linear-gradient(90deg,#5fba7d 30.6%, transparent 30.6%);\n",
       "        }    #T_26f652e6_cdda_11eb_96de_02420a39c0dcrow4_col3 {\n",
       "            width:  10em;\n",
       "             height:  80%;\n",
       "            background:  linear-gradient(90deg,#5fba7d 100.0%, transparent 100.0%);\n",
       "        }    #T_26f652e6_cdda_11eb_96de_02420a39c0dcrow5_col3 {\n",
       "            width:  10em;\n",
       "             height:  80%;\n",
       "            background:  linear-gradient(90deg,#5fba7d 1.6%, transparent 1.6%);\n",
       "        }    #T_26f652e6_cdda_11eb_96de_02420a39c0dcrow6_col3 {\n",
       "            width:  10em;\n",
       "             height:  80%;\n",
       "            background:  linear-gradient(90deg,#5fba7d 54.5%, transparent 54.5%);\n",
       "        }</style><table id=\"T_26f652e6_cdda_11eb_96de_02420a39c0dc\" ><thead>    <tr>        <th class=\"blank level0\" ></th>        <th class=\"col_heading level0 col0\" >Paying</th>        <th class=\"col_heading level0 col1\" >Nonpaying</th>        <th class=\"col_heading level0 col2\" >All</th>        <th class=\"col_heading level0 col3\" >ratio_%</th>    </tr>    <tr>        <th class=\"index_name level0\" >family_status</th>        <th class=\"blank\" ></th>        <th class=\"blank\" ></th>        <th class=\"blank\" ></th>        <th class=\"blank\" ></th>    </tr></thead><tbody>\n",
       "                <tr>\n",
       "                        <th id=\"T_26f652e6_cdda_11eb_96de_02420a39c0dclevel0_row0\" class=\"row_heading level0 row0\" >1</th>\n",
       "                        <td id=\"T_26f652e6_cdda_11eb_96de_02420a39c0dcrow0_col0\" class=\"data row0 col0\" >nan</td>\n",
       "                        <td id=\"T_26f652e6_cdda_11eb_96de_02420a39c0dcrow0_col1\" class=\"data row0 col1\" >47</td>\n",
       "                        <td id=\"T_26f652e6_cdda_11eb_96de_02420a39c0dcrow0_col2\" class=\"data row0 col2\" >47</td>\n",
       "                        <td id=\"T_26f652e6_cdda_11eb_96de_02420a39c0dcrow0_col3\" class=\"data row0 col3\" >nan</td>\n",
       "            </tr>\n",
       "            <tr>\n",
       "                        <th id=\"T_26f652e6_cdda_11eb_96de_02420a39c0dclevel0_row1\" class=\"row_heading level0 row1\" >civil partnership</th>\n",
       "                        <td id=\"T_26f652e6_cdda_11eb_96de_02420a39c0dcrow1_col0\" class=\"data row1 col0\" >3758</td>\n",
       "                        <td id=\"T_26f652e6_cdda_11eb_96de_02420a39c0dcrow1_col1\" class=\"data row1 col1\" >388</td>\n",
       "                        <td id=\"T_26f652e6_cdda_11eb_96de_02420a39c0dcrow1_col2\" class=\"data row1 col2\" >4146</td>\n",
       "                        <td id=\"T_26f652e6_cdda_11eb_96de_02420a39c0dcrow1_col3\" class=\"data row1 col3\" >10.3246</td>\n",
       "            </tr>\n",
       "            <tr>\n",
       "                        <th id=\"T_26f652e6_cdda_11eb_96de_02420a39c0dclevel0_row2\" class=\"row_heading level0 row2\" >divorced</th>\n",
       "                        <td id=\"T_26f652e6_cdda_11eb_96de_02420a39c0dcrow2_col0\" class=\"data row2 col0\" >1106</td>\n",
       "                        <td id=\"T_26f652e6_cdda_11eb_96de_02420a39c0dcrow2_col1\" class=\"data row2 col1\" >85</td>\n",
       "                        <td id=\"T_26f652e6_cdda_11eb_96de_02420a39c0dcrow2_col2\" class=\"data row2 col2\" >1191</td>\n",
       "                        <td id=\"T_26f652e6_cdda_11eb_96de_02420a39c0dcrow2_col3\" class=\"data row2 col3\" >7.68535</td>\n",
       "            </tr>\n",
       "            <tr>\n",
       "                        <th id=\"T_26f652e6_cdda_11eb_96de_02420a39c0dclevel0_row3\" class=\"row_heading level0 row3\" >married</th>\n",
       "                        <td id=\"T_26f652e6_cdda_11eb_96de_02420a39c0dcrow3_col0\" class=\"data row3 col0\" >11380</td>\n",
       "                        <td id=\"T_26f652e6_cdda_11eb_96de_02420a39c0dcrow3_col1\" class=\"data row3 col1\" >930</td>\n",
       "                        <td id=\"T_26f652e6_cdda_11eb_96de_02420a39c0dcrow3_col2\" class=\"data row3 col2\" >12310</td>\n",
       "                        <td id=\"T_26f652e6_cdda_11eb_96de_02420a39c0dcrow3_col3\" class=\"data row3 col3\" >8.17223</td>\n",
       "            </tr>\n",
       "            <tr>\n",
       "                        <th id=\"T_26f652e6_cdda_11eb_96de_02420a39c0dclevel0_row4\" class=\"row_heading level0 row4\" >unmarried</th>\n",
       "                        <td id=\"T_26f652e6_cdda_11eb_96de_02420a39c0dcrow4_col0\" class=\"data row4 col0\" >2531</td>\n",
       "                        <td id=\"T_26f652e6_cdda_11eb_96de_02420a39c0dcrow4_col1\" class=\"data row4 col1\" >274</td>\n",
       "                        <td id=\"T_26f652e6_cdda_11eb_96de_02420a39c0dcrow4_col2\" class=\"data row4 col2\" >2805</td>\n",
       "                        <td id=\"T_26f652e6_cdda_11eb_96de_02420a39c0dcrow4_col3\" class=\"data row4 col3\" >10.8258</td>\n",
       "            </tr>\n",
       "            <tr>\n",
       "                        <th id=\"T_26f652e6_cdda_11eb_96de_02420a39c0dclevel0_row5\" class=\"row_heading level0 row5\" >widow / widower</th>\n",
       "                        <td id=\"T_26f652e6_cdda_11eb_96de_02420a39c0dcrow5_col0\" class=\"data row5 col0\" >892</td>\n",
       "                        <td id=\"T_26f652e6_cdda_11eb_96de_02420a39c0dcrow5_col1\" class=\"data row5 col1\" >63</td>\n",
       "                        <td id=\"T_26f652e6_cdda_11eb_96de_02420a39c0dcrow5_col2\" class=\"data row5 col2\" >955</td>\n",
       "                        <td id=\"T_26f652e6_cdda_11eb_96de_02420a39c0dcrow5_col3\" class=\"data row5 col3\" >7.06278</td>\n",
       "            </tr>\n",
       "            <tr>\n",
       "                        <th id=\"T_26f652e6_cdda_11eb_96de_02420a39c0dclevel0_row6\" class=\"row_heading level0 row6\" >All</th>\n",
       "                        <td id=\"T_26f652e6_cdda_11eb_96de_02420a39c0dcrow6_col0\" class=\"data row6 col0\" >19667</td>\n",
       "                        <td id=\"T_26f652e6_cdda_11eb_96de_02420a39c0dcrow6_col1\" class=\"data row6 col1\" >1787</td>\n",
       "                        <td id=\"T_26f652e6_cdda_11eb_96de_02420a39c0dcrow6_col2\" class=\"data row6 col2\" >21454</td>\n",
       "                        <td id=\"T_26f652e6_cdda_11eb_96de_02420a39c0dcrow6_col3\" class=\"data row6 col3\" >9.08629</td>\n",
       "            </tr>\n",
       "    </tbody></table>"
      ],
      "text/plain": [
       "<pandas.io.formats.style.Styler at 0x7f69f6dc1410>"
      ]
     },
     "execution_count": 38,
     "metadata": {},
     "output_type": "execute_result"
    }
   ],
   "source": [
    "#Checking if marital status is a parameter for repaying a loan on time\n",
    "table_martial = df.pivot_table(index=\"family_status\",columns=\"debt\",values=\"family_status_id\",aggfunc=\"count\",margins=True)\n",
    "table_martial.columns=[\"Paying\",\"Nonpaying\",\"All\"]\n",
    "table_martial[\"ratio_%\"]=table_martial[\"Nonpaying\"]/table_martial[\"Paying\"]*100\n",
    "table_martial.style.bar(subset=[\"ratio_%\"],color='#5fba7d',vmin=7.0)"
   ]
  },
  {
   "cell_type": "code",
   "execution_count": 39,
   "metadata": {
    "scrolled": true
   },
   "outputs": [
    {
     "data": {
      "text/html": [
       "<div>\n",
       "<style scoped>\n",
       "    .dataframe tbody tr th:only-of-type {\n",
       "        vertical-align: middle;\n",
       "    }\n",
       "\n",
       "    .dataframe tbody tr th {\n",
       "        vertical-align: top;\n",
       "    }\n",
       "\n",
       "    .dataframe thead th {\n",
       "        text-align: right;\n",
       "    }\n",
       "</style>\n",
       "<table border=\"1\" class=\"dataframe\">\n",
       "  <thead>\n",
       "    <tr style=\"text-align: right;\">\n",
       "      <th></th>\n",
       "      <th>children</th>\n",
       "      <th>days_employed</th>\n",
       "      <th>dob_years</th>\n",
       "      <th>education</th>\n",
       "      <th>education_id</th>\n",
       "      <th>family_status</th>\n",
       "      <th>family_status_id</th>\n",
       "      <th>gender</th>\n",
       "      <th>income_type</th>\n",
       "      <th>debt</th>\n",
       "      <th>total_income</th>\n",
       "      <th>purpose</th>\n",
       "      <th>age_group</th>\n",
       "      <th>income_group</th>\n",
       "    </tr>\n",
       "  </thead>\n",
       "  <tbody>\n",
       "    <tr>\n",
       "      <td>291</td>\n",
       "      <td>1</td>\n",
       "      <td>1</td>\n",
       "      <td>43</td>\n",
       "      <td>1</td>\n",
       "      <td>1</td>\n",
       "      <td>1</td>\n",
       "      <td>1</td>\n",
       "      <td>1</td>\n",
       "      <td>1</td>\n",
       "      <td>1</td>\n",
       "      <td>1</td>\n",
       "      <td>1</td>\n",
       "      <td>43-53</td>\n",
       "      <td>0-17k</td>\n",
       "    </tr>\n",
       "    <tr>\n",
       "      <td>705</td>\n",
       "      <td>1</td>\n",
       "      <td>1</td>\n",
       "      <td>43</td>\n",
       "      <td>1</td>\n",
       "      <td>1</td>\n",
       "      <td>1</td>\n",
       "      <td>1</td>\n",
       "      <td>1</td>\n",
       "      <td>1</td>\n",
       "      <td>1</td>\n",
       "      <td>1</td>\n",
       "      <td>1</td>\n",
       "      <td>43-53</td>\n",
       "      <td>0-17k</td>\n",
       "    </tr>\n",
       "    <tr>\n",
       "      <td>742</td>\n",
       "      <td>1</td>\n",
       "      <td>1</td>\n",
       "      <td>43</td>\n",
       "      <td>1</td>\n",
       "      <td>1</td>\n",
       "      <td>1</td>\n",
       "      <td>1</td>\n",
       "      <td>1</td>\n",
       "      <td>1</td>\n",
       "      <td>1</td>\n",
       "      <td>1</td>\n",
       "      <td>1</td>\n",
       "      <td>43-53</td>\n",
       "      <td>0-17k</td>\n",
       "    </tr>\n",
       "    <tr>\n",
       "      <td>800</td>\n",
       "      <td>1</td>\n",
       "      <td>1</td>\n",
       "      <td>43</td>\n",
       "      <td>1</td>\n",
       "      <td>1</td>\n",
       "      <td>1</td>\n",
       "      <td>1</td>\n",
       "      <td>1</td>\n",
       "      <td>1</td>\n",
       "      <td>1</td>\n",
       "      <td>1</td>\n",
       "      <td>1</td>\n",
       "      <td>43-53</td>\n",
       "      <td>0-17k</td>\n",
       "    </tr>\n",
       "    <tr>\n",
       "      <td>941</td>\n",
       "      <td>1</td>\n",
       "      <td>1</td>\n",
       "      <td>43</td>\n",
       "      <td>1</td>\n",
       "      <td>1</td>\n",
       "      <td>1</td>\n",
       "      <td>1</td>\n",
       "      <td>1</td>\n",
       "      <td>1</td>\n",
       "      <td>1</td>\n",
       "      <td>1</td>\n",
       "      <td>1</td>\n",
       "      <td>43-53</td>\n",
       "      <td>0-17k</td>\n",
       "    </tr>\n",
       "    <tr>\n",
       "      <td>1363</td>\n",
       "      <td>1</td>\n",
       "      <td>1</td>\n",
       "      <td>43</td>\n",
       "      <td>1</td>\n",
       "      <td>1</td>\n",
       "      <td>1</td>\n",
       "      <td>1</td>\n",
       "      <td>1</td>\n",
       "      <td>1</td>\n",
       "      <td>1</td>\n",
       "      <td>1</td>\n",
       "      <td>1</td>\n",
       "      <td>43-53</td>\n",
       "      <td>0-17k</td>\n",
       "    </tr>\n",
       "    <tr>\n",
       "      <td>1929</td>\n",
       "      <td>1</td>\n",
       "      <td>1</td>\n",
       "      <td>43</td>\n",
       "      <td>1</td>\n",
       "      <td>1</td>\n",
       "      <td>1</td>\n",
       "      <td>1</td>\n",
       "      <td>1</td>\n",
       "      <td>1</td>\n",
       "      <td>1</td>\n",
       "      <td>1</td>\n",
       "      <td>1</td>\n",
       "      <td>43-53</td>\n",
       "      <td>0-17k</td>\n",
       "    </tr>\n",
       "    <tr>\n",
       "      <td>2073</td>\n",
       "      <td>1</td>\n",
       "      <td>1</td>\n",
       "      <td>43</td>\n",
       "      <td>1</td>\n",
       "      <td>1</td>\n",
       "      <td>1</td>\n",
       "      <td>1</td>\n",
       "      <td>1</td>\n",
       "      <td>1</td>\n",
       "      <td>1</td>\n",
       "      <td>1</td>\n",
       "      <td>1</td>\n",
       "      <td>43-53</td>\n",
       "      <td>0-17k</td>\n",
       "    </tr>\n",
       "    <tr>\n",
       "      <td>3814</td>\n",
       "      <td>1</td>\n",
       "      <td>1</td>\n",
       "      <td>43</td>\n",
       "      <td>1</td>\n",
       "      <td>1</td>\n",
       "      <td>1</td>\n",
       "      <td>1</td>\n",
       "      <td>1</td>\n",
       "      <td>1</td>\n",
       "      <td>1</td>\n",
       "      <td>1</td>\n",
       "      <td>1</td>\n",
       "      <td>43-53</td>\n",
       "      <td>0-17k</td>\n",
       "    </tr>\n",
       "    <tr>\n",
       "      <td>4201</td>\n",
       "      <td>1</td>\n",
       "      <td>1</td>\n",
       "      <td>43</td>\n",
       "      <td>1</td>\n",
       "      <td>1</td>\n",
       "      <td>1</td>\n",
       "      <td>1</td>\n",
       "      <td>1</td>\n",
       "      <td>1</td>\n",
       "      <td>1</td>\n",
       "      <td>1</td>\n",
       "      <td>1</td>\n",
       "      <td>43-53</td>\n",
       "      <td>0-17k</td>\n",
       "    </tr>\n",
       "    <tr>\n",
       "      <td>4402</td>\n",
       "      <td>1</td>\n",
       "      <td>1</td>\n",
       "      <td>43</td>\n",
       "      <td>1</td>\n",
       "      <td>1</td>\n",
       "      <td>1</td>\n",
       "      <td>1</td>\n",
       "      <td>1</td>\n",
       "      <td>1</td>\n",
       "      <td>1</td>\n",
       "      <td>1</td>\n",
       "      <td>1</td>\n",
       "      <td>43-53</td>\n",
       "      <td>0-17k</td>\n",
       "    </tr>\n",
       "    <tr>\n",
       "      <td>4542</td>\n",
       "      <td>1</td>\n",
       "      <td>1</td>\n",
       "      <td>43</td>\n",
       "      <td>1</td>\n",
       "      <td>1</td>\n",
       "      <td>1</td>\n",
       "      <td>1</td>\n",
       "      <td>1</td>\n",
       "      <td>1</td>\n",
       "      <td>1</td>\n",
       "      <td>1</td>\n",
       "      <td>1</td>\n",
       "      <td>43-53</td>\n",
       "      <td>0-17k</td>\n",
       "    </tr>\n",
       "    <tr>\n",
       "      <td>5272</td>\n",
       "      <td>1</td>\n",
       "      <td>1</td>\n",
       "      <td>43</td>\n",
       "      <td>1</td>\n",
       "      <td>1</td>\n",
       "      <td>1</td>\n",
       "      <td>1</td>\n",
       "      <td>1</td>\n",
       "      <td>1</td>\n",
       "      <td>1</td>\n",
       "      <td>1</td>\n",
       "      <td>1</td>\n",
       "      <td>43-53</td>\n",
       "      <td>0-17k</td>\n",
       "    </tr>\n",
       "    <tr>\n",
       "      <td>6013</td>\n",
       "      <td>1</td>\n",
       "      <td>1</td>\n",
       "      <td>43</td>\n",
       "      <td>1</td>\n",
       "      <td>1</td>\n",
       "      <td>1</td>\n",
       "      <td>1</td>\n",
       "      <td>1</td>\n",
       "      <td>1</td>\n",
       "      <td>1</td>\n",
       "      <td>1</td>\n",
       "      <td>1</td>\n",
       "      <td>43-53</td>\n",
       "      <td>0-17k</td>\n",
       "    </tr>\n",
       "    <tr>\n",
       "      <td>6385</td>\n",
       "      <td>1</td>\n",
       "      <td>1</td>\n",
       "      <td>43</td>\n",
       "      <td>1</td>\n",
       "      <td>1</td>\n",
       "      <td>1</td>\n",
       "      <td>1</td>\n",
       "      <td>1</td>\n",
       "      <td>1</td>\n",
       "      <td>1</td>\n",
       "      <td>1</td>\n",
       "      <td>1</td>\n",
       "      <td>43-53</td>\n",
       "      <td>0-17k</td>\n",
       "    </tr>\n",
       "    <tr>\n",
       "      <td>7190</td>\n",
       "      <td>1</td>\n",
       "      <td>1</td>\n",
       "      <td>43</td>\n",
       "      <td>1</td>\n",
       "      <td>1</td>\n",
       "      <td>1</td>\n",
       "      <td>1</td>\n",
       "      <td>1</td>\n",
       "      <td>1</td>\n",
       "      <td>1</td>\n",
       "      <td>1</td>\n",
       "      <td>1</td>\n",
       "      <td>43-53</td>\n",
       "      <td>0-17k</td>\n",
       "    </tr>\n",
       "    <tr>\n",
       "      <td>7278</td>\n",
       "      <td>1</td>\n",
       "      <td>1</td>\n",
       "      <td>43</td>\n",
       "      <td>1</td>\n",
       "      <td>1</td>\n",
       "      <td>1</td>\n",
       "      <td>1</td>\n",
       "      <td>1</td>\n",
       "      <td>1</td>\n",
       "      <td>1</td>\n",
       "      <td>1</td>\n",
       "      <td>1</td>\n",
       "      <td>43-53</td>\n",
       "      <td>0-17k</td>\n",
       "    </tr>\n",
       "    <tr>\n",
       "      <td>7615</td>\n",
       "      <td>1</td>\n",
       "      <td>1</td>\n",
       "      <td>43</td>\n",
       "      <td>1</td>\n",
       "      <td>1</td>\n",
       "      <td>1</td>\n",
       "      <td>1</td>\n",
       "      <td>1</td>\n",
       "      <td>1</td>\n",
       "      <td>1</td>\n",
       "      <td>1</td>\n",
       "      <td>1</td>\n",
       "      <td>43-53</td>\n",
       "      <td>0-17k</td>\n",
       "    </tr>\n",
       "    <tr>\n",
       "      <td>7685</td>\n",
       "      <td>1</td>\n",
       "      <td>1</td>\n",
       "      <td>43</td>\n",
       "      <td>1</td>\n",
       "      <td>1</td>\n",
       "      <td>1</td>\n",
       "      <td>1</td>\n",
       "      <td>1</td>\n",
       "      <td>1</td>\n",
       "      <td>1</td>\n",
       "      <td>1</td>\n",
       "      <td>1</td>\n",
       "      <td>43-53</td>\n",
       "      <td>0-17k</td>\n",
       "    </tr>\n",
       "    <tr>\n",
       "      <td>8229</td>\n",
       "      <td>1</td>\n",
       "      <td>1</td>\n",
       "      <td>43</td>\n",
       "      <td>1</td>\n",
       "      <td>1</td>\n",
       "      <td>1</td>\n",
       "      <td>1</td>\n",
       "      <td>1</td>\n",
       "      <td>1</td>\n",
       "      <td>1</td>\n",
       "      <td>1</td>\n",
       "      <td>1</td>\n",
       "      <td>43-53</td>\n",
       "      <td>0-17k</td>\n",
       "    </tr>\n",
       "    <tr>\n",
       "      <td>8251</td>\n",
       "      <td>1</td>\n",
       "      <td>1</td>\n",
       "      <td>43</td>\n",
       "      <td>1</td>\n",
       "      <td>1</td>\n",
       "      <td>1</td>\n",
       "      <td>1</td>\n",
       "      <td>1</td>\n",
       "      <td>1</td>\n",
       "      <td>1</td>\n",
       "      <td>1</td>\n",
       "      <td>1</td>\n",
       "      <td>43-53</td>\n",
       "      <td>0-17k</td>\n",
       "    </tr>\n",
       "    <tr>\n",
       "      <td>8561</td>\n",
       "      <td>1</td>\n",
       "      <td>1</td>\n",
       "      <td>43</td>\n",
       "      <td>1</td>\n",
       "      <td>1</td>\n",
       "      <td>1</td>\n",
       "      <td>1</td>\n",
       "      <td>1</td>\n",
       "      <td>1</td>\n",
       "      <td>1</td>\n",
       "      <td>1</td>\n",
       "      <td>1</td>\n",
       "      <td>43-53</td>\n",
       "      <td>0-17k</td>\n",
       "    </tr>\n",
       "    <tr>\n",
       "      <td>9565</td>\n",
       "      <td>1</td>\n",
       "      <td>1</td>\n",
       "      <td>43</td>\n",
       "      <td>1</td>\n",
       "      <td>1</td>\n",
       "      <td>1</td>\n",
       "      <td>1</td>\n",
       "      <td>1</td>\n",
       "      <td>1</td>\n",
       "      <td>1</td>\n",
       "      <td>1</td>\n",
       "      <td>1</td>\n",
       "      <td>43-53</td>\n",
       "      <td>0-17k</td>\n",
       "    </tr>\n",
       "    <tr>\n",
       "      <td>9574</td>\n",
       "      <td>1</td>\n",
       "      <td>1</td>\n",
       "      <td>43</td>\n",
       "      <td>1</td>\n",
       "      <td>1</td>\n",
       "      <td>1</td>\n",
       "      <td>1</td>\n",
       "      <td>1</td>\n",
       "      <td>1</td>\n",
       "      <td>1</td>\n",
       "      <td>1</td>\n",
       "      <td>1</td>\n",
       "      <td>43-53</td>\n",
       "      <td>0-17k</td>\n",
       "    </tr>\n",
       "    <tr>\n",
       "      <td>10177</td>\n",
       "      <td>1</td>\n",
       "      <td>1</td>\n",
       "      <td>43</td>\n",
       "      <td>1</td>\n",
       "      <td>1</td>\n",
       "      <td>1</td>\n",
       "      <td>1</td>\n",
       "      <td>1</td>\n",
       "      <td>1</td>\n",
       "      <td>1</td>\n",
       "      <td>1</td>\n",
       "      <td>1</td>\n",
       "      <td>43-53</td>\n",
       "      <td>0-17k</td>\n",
       "    </tr>\n",
       "    <tr>\n",
       "      <td>10365</td>\n",
       "      <td>1</td>\n",
       "      <td>1</td>\n",
       "      <td>43</td>\n",
       "      <td>1</td>\n",
       "      <td>1</td>\n",
       "      <td>1</td>\n",
       "      <td>1</td>\n",
       "      <td>1</td>\n",
       "      <td>1</td>\n",
       "      <td>1</td>\n",
       "      <td>1</td>\n",
       "      <td>1</td>\n",
       "      <td>43-53</td>\n",
       "      <td>0-17k</td>\n",
       "    </tr>\n",
       "    <tr>\n",
       "      <td>10918</td>\n",
       "      <td>1</td>\n",
       "      <td>1</td>\n",
       "      <td>43</td>\n",
       "      <td>1</td>\n",
       "      <td>1</td>\n",
       "      <td>1</td>\n",
       "      <td>1</td>\n",
       "      <td>1</td>\n",
       "      <td>1</td>\n",
       "      <td>1</td>\n",
       "      <td>1</td>\n",
       "      <td>1</td>\n",
       "      <td>43-53</td>\n",
       "      <td>0-17k</td>\n",
       "    </tr>\n",
       "    <tr>\n",
       "      <td>11109</td>\n",
       "      <td>1</td>\n",
       "      <td>1</td>\n",
       "      <td>43</td>\n",
       "      <td>1</td>\n",
       "      <td>1</td>\n",
       "      <td>1</td>\n",
       "      <td>1</td>\n",
       "      <td>1</td>\n",
       "      <td>1</td>\n",
       "      <td>1</td>\n",
       "      <td>1</td>\n",
       "      <td>1</td>\n",
       "      <td>43-53</td>\n",
       "      <td>0-17k</td>\n",
       "    </tr>\n",
       "    <tr>\n",
       "      <td>11268</td>\n",
       "      <td>1</td>\n",
       "      <td>1</td>\n",
       "      <td>43</td>\n",
       "      <td>1</td>\n",
       "      <td>1</td>\n",
       "      <td>1</td>\n",
       "      <td>1</td>\n",
       "      <td>1</td>\n",
       "      <td>1</td>\n",
       "      <td>1</td>\n",
       "      <td>1</td>\n",
       "      <td>1</td>\n",
       "      <td>43-53</td>\n",
       "      <td>0-17k</td>\n",
       "    </tr>\n",
       "    <tr>\n",
       "      <td>11617</td>\n",
       "      <td>1</td>\n",
       "      <td>1</td>\n",
       "      <td>43</td>\n",
       "      <td>1</td>\n",
       "      <td>1</td>\n",
       "      <td>1</td>\n",
       "      <td>1</td>\n",
       "      <td>1</td>\n",
       "      <td>1</td>\n",
       "      <td>1</td>\n",
       "      <td>1</td>\n",
       "      <td>1</td>\n",
       "      <td>43-53</td>\n",
       "      <td>0-17k</td>\n",
       "    </tr>\n",
       "    <tr>\n",
       "      <td>12304</td>\n",
       "      <td>1</td>\n",
       "      <td>1</td>\n",
       "      <td>43</td>\n",
       "      <td>1</td>\n",
       "      <td>1</td>\n",
       "      <td>1</td>\n",
       "      <td>1</td>\n",
       "      <td>1</td>\n",
       "      <td>1</td>\n",
       "      <td>1</td>\n",
       "      <td>1</td>\n",
       "      <td>1</td>\n",
       "      <td>43-53</td>\n",
       "      <td>0-17k</td>\n",
       "    </tr>\n",
       "    <tr>\n",
       "      <td>13786</td>\n",
       "      <td>1</td>\n",
       "      <td>1</td>\n",
       "      <td>43</td>\n",
       "      <td>1</td>\n",
       "      <td>1</td>\n",
       "      <td>1</td>\n",
       "      <td>1</td>\n",
       "      <td>1</td>\n",
       "      <td>1</td>\n",
       "      <td>1</td>\n",
       "      <td>1</td>\n",
       "      <td>1</td>\n",
       "      <td>43-53</td>\n",
       "      <td>0-17k</td>\n",
       "    </tr>\n",
       "    <tr>\n",
       "      <td>14357</td>\n",
       "      <td>1</td>\n",
       "      <td>1</td>\n",
       "      <td>43</td>\n",
       "      <td>1</td>\n",
       "      <td>1</td>\n",
       "      <td>1</td>\n",
       "      <td>1</td>\n",
       "      <td>1</td>\n",
       "      <td>1</td>\n",
       "      <td>1</td>\n",
       "      <td>1</td>\n",
       "      <td>1</td>\n",
       "      <td>43-53</td>\n",
       "      <td>0-17k</td>\n",
       "    </tr>\n",
       "    <tr>\n",
       "      <td>15147</td>\n",
       "      <td>1</td>\n",
       "      <td>1</td>\n",
       "      <td>43</td>\n",
       "      <td>1</td>\n",
       "      <td>1</td>\n",
       "      <td>1</td>\n",
       "      <td>1</td>\n",
       "      <td>1</td>\n",
       "      <td>1</td>\n",
       "      <td>1</td>\n",
       "      <td>1</td>\n",
       "      <td>1</td>\n",
       "      <td>43-53</td>\n",
       "      <td>0-17k</td>\n",
       "    </tr>\n",
       "    <tr>\n",
       "      <td>15435</td>\n",
       "      <td>1</td>\n",
       "      <td>1</td>\n",
       "      <td>43</td>\n",
       "      <td>1</td>\n",
       "      <td>1</td>\n",
       "      <td>1</td>\n",
       "      <td>1</td>\n",
       "      <td>1</td>\n",
       "      <td>1</td>\n",
       "      <td>1</td>\n",
       "      <td>1</td>\n",
       "      <td>1</td>\n",
       "      <td>43-53</td>\n",
       "      <td>0-17k</td>\n",
       "    </tr>\n",
       "    <tr>\n",
       "      <td>16129</td>\n",
       "      <td>1</td>\n",
       "      <td>1</td>\n",
       "      <td>43</td>\n",
       "      <td>1</td>\n",
       "      <td>1</td>\n",
       "      <td>1</td>\n",
       "      <td>1</td>\n",
       "      <td>1</td>\n",
       "      <td>1</td>\n",
       "      <td>1</td>\n",
       "      <td>1</td>\n",
       "      <td>1</td>\n",
       "      <td>43-53</td>\n",
       "      <td>0-17k</td>\n",
       "    </tr>\n",
       "    <tr>\n",
       "      <td>16265</td>\n",
       "      <td>1</td>\n",
       "      <td>1</td>\n",
       "      <td>43</td>\n",
       "      <td>1</td>\n",
       "      <td>1</td>\n",
       "      <td>1</td>\n",
       "      <td>1</td>\n",
       "      <td>1</td>\n",
       "      <td>1</td>\n",
       "      <td>1</td>\n",
       "      <td>1</td>\n",
       "      <td>1</td>\n",
       "      <td>43-53</td>\n",
       "      <td>0-17k</td>\n",
       "    </tr>\n",
       "    <tr>\n",
       "      <td>17095</td>\n",
       "      <td>1</td>\n",
       "      <td>1</td>\n",
       "      <td>43</td>\n",
       "      <td>1</td>\n",
       "      <td>1</td>\n",
       "      <td>1</td>\n",
       "      <td>1</td>\n",
       "      <td>1</td>\n",
       "      <td>1</td>\n",
       "      <td>1</td>\n",
       "      <td>1</td>\n",
       "      <td>1</td>\n",
       "      <td>43-53</td>\n",
       "      <td>0-17k</td>\n",
       "    </tr>\n",
       "    <tr>\n",
       "      <td>17429</td>\n",
       "      <td>1</td>\n",
       "      <td>1</td>\n",
       "      <td>43</td>\n",
       "      <td>1</td>\n",
       "      <td>1</td>\n",
       "      <td>1</td>\n",
       "      <td>1</td>\n",
       "      <td>1</td>\n",
       "      <td>1</td>\n",
       "      <td>1</td>\n",
       "      <td>1</td>\n",
       "      <td>1</td>\n",
       "      <td>43-53</td>\n",
       "      <td>0-17k</td>\n",
       "    </tr>\n",
       "    <tr>\n",
       "      <td>17657</td>\n",
       "      <td>1</td>\n",
       "      <td>1</td>\n",
       "      <td>43</td>\n",
       "      <td>1</td>\n",
       "      <td>1</td>\n",
       "      <td>1</td>\n",
       "      <td>1</td>\n",
       "      <td>1</td>\n",
       "      <td>1</td>\n",
       "      <td>1</td>\n",
       "      <td>1</td>\n",
       "      <td>1</td>\n",
       "      <td>43-53</td>\n",
       "      <td>0-17k</td>\n",
       "    </tr>\n",
       "    <tr>\n",
       "      <td>18219</td>\n",
       "      <td>1</td>\n",
       "      <td>1</td>\n",
       "      <td>43</td>\n",
       "      <td>1</td>\n",
       "      <td>1</td>\n",
       "      <td>1</td>\n",
       "      <td>1</td>\n",
       "      <td>1</td>\n",
       "      <td>1</td>\n",
       "      <td>1</td>\n",
       "      <td>1</td>\n",
       "      <td>1</td>\n",
       "      <td>43-53</td>\n",
       "      <td>0-17k</td>\n",
       "    </tr>\n",
       "    <tr>\n",
       "      <td>19100</td>\n",
       "      <td>1</td>\n",
       "      <td>1</td>\n",
       "      <td>43</td>\n",
       "      <td>1</td>\n",
       "      <td>1</td>\n",
       "      <td>1</td>\n",
       "      <td>1</td>\n",
       "      <td>1</td>\n",
       "      <td>1</td>\n",
       "      <td>1</td>\n",
       "      <td>1</td>\n",
       "      <td>1</td>\n",
       "      <td>43-53</td>\n",
       "      <td>0-17k</td>\n",
       "    </tr>\n",
       "    <tr>\n",
       "      <td>19366</td>\n",
       "      <td>1</td>\n",
       "      <td>1</td>\n",
       "      <td>43</td>\n",
       "      <td>1</td>\n",
       "      <td>1</td>\n",
       "      <td>1</td>\n",
       "      <td>1</td>\n",
       "      <td>1</td>\n",
       "      <td>1</td>\n",
       "      <td>1</td>\n",
       "      <td>1</td>\n",
       "      <td>1</td>\n",
       "      <td>43-53</td>\n",
       "      <td>0-17k</td>\n",
       "    </tr>\n",
       "    <tr>\n",
       "      <td>19417</td>\n",
       "      <td>1</td>\n",
       "      <td>1</td>\n",
       "      <td>43</td>\n",
       "      <td>1</td>\n",
       "      <td>1</td>\n",
       "      <td>1</td>\n",
       "      <td>1</td>\n",
       "      <td>1</td>\n",
       "      <td>1</td>\n",
       "      <td>1</td>\n",
       "      <td>1</td>\n",
       "      <td>1</td>\n",
       "      <td>43-53</td>\n",
       "      <td>0-17k</td>\n",
       "    </tr>\n",
       "    <tr>\n",
       "      <td>20393</td>\n",
       "      <td>1</td>\n",
       "      <td>1</td>\n",
       "      <td>43</td>\n",
       "      <td>1</td>\n",
       "      <td>1</td>\n",
       "      <td>1</td>\n",
       "      <td>1</td>\n",
       "      <td>1</td>\n",
       "      <td>1</td>\n",
       "      <td>1</td>\n",
       "      <td>1</td>\n",
       "      <td>1</td>\n",
       "      <td>43-53</td>\n",
       "      <td>0-17k</td>\n",
       "    </tr>\n",
       "    <tr>\n",
       "      <td>20717</td>\n",
       "      <td>1</td>\n",
       "      <td>1</td>\n",
       "      <td>43</td>\n",
       "      <td>1</td>\n",
       "      <td>1</td>\n",
       "      <td>1</td>\n",
       "      <td>1</td>\n",
       "      <td>1</td>\n",
       "      <td>1</td>\n",
       "      <td>1</td>\n",
       "      <td>1</td>\n",
       "      <td>1</td>\n",
       "      <td>43-53</td>\n",
       "      <td>0-17k</td>\n",
       "    </tr>\n",
       "    <tr>\n",
       "      <td>21140</td>\n",
       "      <td>1</td>\n",
       "      <td>1</td>\n",
       "      <td>43</td>\n",
       "      <td>1</td>\n",
       "      <td>1</td>\n",
       "      <td>1</td>\n",
       "      <td>1</td>\n",
       "      <td>1</td>\n",
       "      <td>1</td>\n",
       "      <td>1</td>\n",
       "      <td>1</td>\n",
       "      <td>1</td>\n",
       "      <td>43-53</td>\n",
       "      <td>0-17k</td>\n",
       "    </tr>\n",
       "  </tbody>\n",
       "</table>\n",
       "</div>"
      ],
      "text/plain": [
       "       children  days_employed  dob_years education  education_id  \\\n",
       "291           1              1         43         1             1   \n",
       "705           1              1         43         1             1   \n",
       "742           1              1         43         1             1   \n",
       "800           1              1         43         1             1   \n",
       "941           1              1         43         1             1   \n",
       "1363          1              1         43         1             1   \n",
       "1929          1              1         43         1             1   \n",
       "2073          1              1         43         1             1   \n",
       "3814          1              1         43         1             1   \n",
       "4201          1              1         43         1             1   \n",
       "4402          1              1         43         1             1   \n",
       "4542          1              1         43         1             1   \n",
       "5272          1              1         43         1             1   \n",
       "6013          1              1         43         1             1   \n",
       "6385          1              1         43         1             1   \n",
       "7190          1              1         43         1             1   \n",
       "7278          1              1         43         1             1   \n",
       "7615          1              1         43         1             1   \n",
       "7685          1              1         43         1             1   \n",
       "8229          1              1         43         1             1   \n",
       "8251          1              1         43         1             1   \n",
       "8561          1              1         43         1             1   \n",
       "9565          1              1         43         1             1   \n",
       "9574          1              1         43         1             1   \n",
       "10177         1              1         43         1             1   \n",
       "10365         1              1         43         1             1   \n",
       "10918         1              1         43         1             1   \n",
       "11109         1              1         43         1             1   \n",
       "11268         1              1         43         1             1   \n",
       "11617         1              1         43         1             1   \n",
       "12304         1              1         43         1             1   \n",
       "13786         1              1         43         1             1   \n",
       "14357         1              1         43         1             1   \n",
       "15147         1              1         43         1             1   \n",
       "15435         1              1         43         1             1   \n",
       "16129         1              1         43         1             1   \n",
       "16265         1              1         43         1             1   \n",
       "17095         1              1         43         1             1   \n",
       "17429         1              1         43         1             1   \n",
       "17657         1              1         43         1             1   \n",
       "18219         1              1         43         1             1   \n",
       "19100         1              1         43         1             1   \n",
       "19366         1              1         43         1             1   \n",
       "19417         1              1         43         1             1   \n",
       "20393         1              1         43         1             1   \n",
       "20717         1              1         43         1             1   \n",
       "21140         1              1         43         1             1   \n",
       "\n",
       "      family_status  family_status_id gender income_type  debt  total_income  \\\n",
       "291               1                 1      1           1     1             1   \n",
       "705               1                 1      1           1     1             1   \n",
       "742               1                 1      1           1     1             1   \n",
       "800               1                 1      1           1     1             1   \n",
       "941               1                 1      1           1     1             1   \n",
       "1363              1                 1      1           1     1             1   \n",
       "1929              1                 1      1           1     1             1   \n",
       "2073              1                 1      1           1     1             1   \n",
       "3814              1                 1      1           1     1             1   \n",
       "4201              1                 1      1           1     1             1   \n",
       "4402              1                 1      1           1     1             1   \n",
       "4542              1                 1      1           1     1             1   \n",
       "5272              1                 1      1           1     1             1   \n",
       "6013              1                 1      1           1     1             1   \n",
       "6385              1                 1      1           1     1             1   \n",
       "7190              1                 1      1           1     1             1   \n",
       "7278              1                 1      1           1     1             1   \n",
       "7615              1                 1      1           1     1             1   \n",
       "7685              1                 1      1           1     1             1   \n",
       "8229              1                 1      1           1     1             1   \n",
       "8251              1                 1      1           1     1             1   \n",
       "8561              1                 1      1           1     1             1   \n",
       "9565              1                 1      1           1     1             1   \n",
       "9574              1                 1      1           1     1             1   \n",
       "10177             1                 1      1           1     1             1   \n",
       "10365             1                 1      1           1     1             1   \n",
       "10918             1                 1      1           1     1             1   \n",
       "11109             1                 1      1           1     1             1   \n",
       "11268             1                 1      1           1     1             1   \n",
       "11617             1                 1      1           1     1             1   \n",
       "12304             1                 1      1           1     1             1   \n",
       "13786             1                 1      1           1     1             1   \n",
       "14357             1                 1      1           1     1             1   \n",
       "15147             1                 1      1           1     1             1   \n",
       "15435             1                 1      1           1     1             1   \n",
       "16129             1                 1      1           1     1             1   \n",
       "16265             1                 1      1           1     1             1   \n",
       "17095             1                 1      1           1     1             1   \n",
       "17429             1                 1      1           1     1             1   \n",
       "17657             1                 1      1           1     1             1   \n",
       "18219             1                 1      1           1     1             1   \n",
       "19100             1                 1      1           1     1             1   \n",
       "19366             1                 1      1           1     1             1   \n",
       "19417             1                 1      1           1     1             1   \n",
       "20393             1                 1      1           1     1             1   \n",
       "20717             1                 1      1           1     1             1   \n",
       "21140             1                 1      1           1     1             1   \n",
       "\n",
       "      purpose age_group income_group  \n",
       "291         1     43-53        0-17k  \n",
       "705         1     43-53        0-17k  \n",
       "742         1     43-53        0-17k  \n",
       "800         1     43-53        0-17k  \n",
       "941         1     43-53        0-17k  \n",
       "1363        1     43-53        0-17k  \n",
       "1929        1     43-53        0-17k  \n",
       "2073        1     43-53        0-17k  \n",
       "3814        1     43-53        0-17k  \n",
       "4201        1     43-53        0-17k  \n",
       "4402        1     43-53        0-17k  \n",
       "4542        1     43-53        0-17k  \n",
       "5272        1     43-53        0-17k  \n",
       "6013        1     43-53        0-17k  \n",
       "6385        1     43-53        0-17k  \n",
       "7190        1     43-53        0-17k  \n",
       "7278        1     43-53        0-17k  \n",
       "7615        1     43-53        0-17k  \n",
       "7685        1     43-53        0-17k  \n",
       "8229        1     43-53        0-17k  \n",
       "8251        1     43-53        0-17k  \n",
       "8561        1     43-53        0-17k  \n",
       "9565        1     43-53        0-17k  \n",
       "9574        1     43-53        0-17k  \n",
       "10177       1     43-53        0-17k  \n",
       "10365       1     43-53        0-17k  \n",
       "10918       1     43-53        0-17k  \n",
       "11109       1     43-53        0-17k  \n",
       "11268       1     43-53        0-17k  \n",
       "11617       1     43-53        0-17k  \n",
       "12304       1     43-53        0-17k  \n",
       "13786       1     43-53        0-17k  \n",
       "14357       1     43-53        0-17k  \n",
       "15147       1     43-53        0-17k  \n",
       "15435       1     43-53        0-17k  \n",
       "16129       1     43-53        0-17k  \n",
       "16265       1     43-53        0-17k  \n",
       "17095       1     43-53        0-17k  \n",
       "17429       1     43-53        0-17k  \n",
       "17657       1     43-53        0-17k  \n",
       "18219       1     43-53        0-17k  \n",
       "19100       1     43-53        0-17k  \n",
       "19366       1     43-53        0-17k  \n",
       "19417       1     43-53        0-17k  \n",
       "20393       1     43-53        0-17k  \n",
       "20717       1     43-53        0-17k  \n",
       "21140       1     43-53        0-17k  "
      ]
     },
     "execution_count": 39,
     "metadata": {},
     "output_type": "execute_result"
    }
   ],
   "source": [
    "#family status 1 - checking why no one pays\n",
    "df[df[\"family_status\"]==1]"
   ]
  },
  {
   "cell_type": "code",
   "execution_count": 40,
   "metadata": {},
   "outputs": [
    {
     "data": {
      "text/html": [
       "<div>\n",
       "<style scoped>\n",
       "    .dataframe tbody tr th:only-of-type {\n",
       "        vertical-align: middle;\n",
       "    }\n",
       "\n",
       "    .dataframe tbody tr th {\n",
       "        vertical-align: top;\n",
       "    }\n",
       "\n",
       "    .dataframe thead th {\n",
       "        text-align: right;\n",
       "    }\n",
       "</style>\n",
       "<table border=\"1\" class=\"dataframe\">\n",
       "  <thead>\n",
       "    <tr style=\"text-align: right;\">\n",
       "      <th></th>\n",
       "      <th>children</th>\n",
       "      <th>days_employed</th>\n",
       "      <th>dob_years</th>\n",
       "      <th>education</th>\n",
       "      <th>education_id</th>\n",
       "      <th>family_status</th>\n",
       "      <th>family_status_id</th>\n",
       "      <th>gender</th>\n",
       "      <th>income_type</th>\n",
       "      <th>debt</th>\n",
       "      <th>total_income</th>\n",
       "      <th>purpose</th>\n",
       "      <th>age_group</th>\n",
       "      <th>income_group</th>\n",
       "    </tr>\n",
       "  </thead>\n",
       "  <tbody>\n",
       "  </tbody>\n",
       "</table>\n",
       "</div>"
      ],
      "text/plain": [
       "Empty DataFrame\n",
       "Columns: [children, days_employed, dob_years, education, education_id, family_status, family_status_id, gender, income_type, debt, total_income, purpose, age_group, income_group]\n",
       "Index: []"
      ]
     },
     "execution_count": 40,
     "metadata": {},
     "output_type": "execute_result"
    }
   ],
   "source": [
    "#family status 1 are all wrong data - should be deleted:\n",
    "df=df[df[\"family_status\"]!=1]\n",
    "#checking\n",
    "df[df[\"family_status\"]==1]"
   ]
  },
  {
   "cell_type": "markdown",
   "metadata": {},
   "source": [
    "<div class=\"alert alert-block alert-success\">\n",
    "    <h2>Reviewer's commentary<a class=\"tocSkip\"> </h2>\n",
    "    <br/>\n",
    "<b>Well done!👍:</b> \n",
    "        \n",
    "Yes, you are right, this values is error."
   ]
  },
  {
   "cell_type": "code",
   "execution_count": 41,
   "metadata": {},
   "outputs": [
    {
     "data": {
      "text/html": [
       "<div>\n",
       "<style scoped>\n",
       "    .dataframe tbody tr th:only-of-type {\n",
       "        vertical-align: middle;\n",
       "    }\n",
       "\n",
       "    .dataframe tbody tr th {\n",
       "        vertical-align: top;\n",
       "    }\n",
       "\n",
       "    .dataframe thead th {\n",
       "        text-align: right;\n",
       "    }\n",
       "</style>\n",
       "<table border=\"1\" class=\"dataframe\">\n",
       "  <thead>\n",
       "    <tr style=\"text-align: right;\">\n",
       "      <th></th>\n",
       "      <th>Paying</th>\n",
       "      <th>Nonpaying</th>\n",
       "      <th>All</th>\n",
       "      <th>ratio_%</th>\n",
       "    </tr>\n",
       "    <tr>\n",
       "      <th>family_status</th>\n",
       "      <th></th>\n",
       "      <th></th>\n",
       "      <th></th>\n",
       "      <th></th>\n",
       "    </tr>\n",
       "  </thead>\n",
       "  <tbody>\n",
       "    <tr>\n",
       "      <td>civil partnership</td>\n",
       "      <td>3758</td>\n",
       "      <td>388</td>\n",
       "      <td>4146</td>\n",
       "      <td>10.324641</td>\n",
       "    </tr>\n",
       "    <tr>\n",
       "      <td>divorced</td>\n",
       "      <td>1106</td>\n",
       "      <td>85</td>\n",
       "      <td>1191</td>\n",
       "      <td>7.685353</td>\n",
       "    </tr>\n",
       "    <tr>\n",
       "      <td>married</td>\n",
       "      <td>11380</td>\n",
       "      <td>930</td>\n",
       "      <td>12310</td>\n",
       "      <td>8.172232</td>\n",
       "    </tr>\n",
       "    <tr>\n",
       "      <td>unmarried</td>\n",
       "      <td>2531</td>\n",
       "      <td>274</td>\n",
       "      <td>2805</td>\n",
       "      <td>10.825761</td>\n",
       "    </tr>\n",
       "    <tr>\n",
       "      <td>widow / widower</td>\n",
       "      <td>892</td>\n",
       "      <td>63</td>\n",
       "      <td>955</td>\n",
       "      <td>7.062780</td>\n",
       "    </tr>\n",
       "    <tr>\n",
       "      <td>All</td>\n",
       "      <td>19667</td>\n",
       "      <td>1740</td>\n",
       "      <td>21407</td>\n",
       "      <td>8.847308</td>\n",
       "    </tr>\n",
       "  </tbody>\n",
       "</table>\n",
       "</div>"
      ],
      "text/plain": [
       "                   Paying  Nonpaying    All    ratio_%\n",
       "family_status                                         \n",
       "civil partnership    3758        388   4146  10.324641\n",
       "divorced             1106         85   1191   7.685353\n",
       "married             11380        930  12310   8.172232\n",
       "unmarried            2531        274   2805  10.825761\n",
       "widow / widower       892         63    955   7.062780\n",
       "All                 19667       1740  21407   8.847308"
      ]
     },
     "execution_count": 41,
     "metadata": {},
     "output_type": "execute_result"
    }
   ],
   "source": [
    "#now checking marital status again:\n",
    "table_martial = df.pivot_table(index=\"family_status\",columns=\"debt\",values=\"family_status_id\",aggfunc=\"count\",margins=True)\n",
    "table_martial.columns=[\"Paying\",\"Nonpaying\",\"All\"]\n",
    "table_martial[\"ratio_%\"]=table_martial[\"Nonpaying\"]/table_martial[\"Paying\"]*100\n",
    "table_martial"
   ]
  },
  {
   "cell_type": "markdown",
   "metadata": {},
   "source": [
    "### Conclusion"
   ]
  },
  {
   "cell_type": "markdown",
   "metadata": {},
   "source": [
    "The ratio of default returning loan is smaller with out children and with divorced, widow / widower and married. otherwise its about 2% greater"
   ]
  },
  {
   "cell_type": "markdown",
   "metadata": {},
   "source": [
    "<div class=\"alert alert-block alert-success\">\n",
    "    <h2>Reviewer's commentary<a class=\"tocSkip\"> </h2>\n",
    "    <br/>\n",
    "<b>Well done!👍:</b> \n",
    "        \n",
    "Ok, absolutely agree with your results."
   ]
  },
  {
   "cell_type": "markdown",
   "metadata": {},
   "source": [
    "- Is there a relation between income level and repaying a loan on time?"
   ]
  },
  {
   "cell_type": "code",
   "execution_count": 42,
   "metadata": {
    "scrolled": true
   },
   "outputs": [
    {
     "data": {
      "text/html": [
       "<style  type=\"text/css\" >\n",
       "    #T_2719fb06_cdda_11eb_96de_02420a39c0dcrow0_col3 {\n",
       "            width:  10em;\n",
       "             height:  80%;\n",
       "            background:  linear-gradient(90deg,#5fba7d 50.4%, transparent 50.4%);\n",
       "        }    #T_2719fb06_cdda_11eb_96de_02420a39c0dcrow1_col3 {\n",
       "            width:  10em;\n",
       "             height:  80%;\n",
       "            background:  linear-gradient(90deg,#5fba7d 80.9%, transparent 80.9%);\n",
       "        }    #T_2719fb06_cdda_11eb_96de_02420a39c0dcrow2_col3 {\n",
       "            width:  10em;\n",
       "             height:  80%;\n",
       "            background:  linear-gradient(90deg,#5fba7d 100.0%, transparent 100.0%);\n",
       "        }    #T_2719fb06_cdda_11eb_96de_02420a39c0dcrow3_col3 {\n",
       "            width:  10em;\n",
       "             height:  80%;\n",
       "            background:  linear-gradient(90deg,#5fba7d 8.6%, transparent 8.6%);\n",
       "        }    #T_2719fb06_cdda_11eb_96de_02420a39c0dcrow4_col3 {\n",
       "            width:  10em;\n",
       "             height:  80%;\n",
       "            background:  linear-gradient(90deg,#5fba7d 58.8%, transparent 58.8%);\n",
       "        }</style><table id=\"T_2719fb06_cdda_11eb_96de_02420a39c0dc\" ><thead>    <tr>        <th class=\"blank level0\" ></th>        <th class=\"col_heading level0 col0\" >Paying</th>        <th class=\"col_heading level0 col1\" >Nonpaying</th>        <th class=\"col_heading level0 col2\" >All</th>        <th class=\"col_heading level0 col3\" >ratio_%</th>    </tr>    <tr>        <th class=\"index_name level0\" >income_group</th>        <th class=\"blank\" ></th>        <th class=\"blank\" ></th>        <th class=\"blank\" ></th>        <th class=\"blank\" ></th>    </tr></thead><tbody>\n",
       "                <tr>\n",
       "                        <th id=\"T_2719fb06_cdda_11eb_96de_02420a39c0dclevel0_row0\" class=\"row_heading level0 row0\" >0-17k</th>\n",
       "                        <td id=\"T_2719fb06_cdda_11eb_96de_02420a39c0dcrow0_col0\" class=\"data row0 col0\" >4933</td>\n",
       "                        <td id=\"T_2719fb06_cdda_11eb_96de_02420a39c0dcrow0_col1\" class=\"data row0 col1\" >427</td>\n",
       "                        <td id=\"T_2719fb06_cdda_11eb_96de_02420a39c0dcrow0_col2\" class=\"data row0 col2\" >5360</td>\n",
       "                        <td id=\"T_2719fb06_cdda_11eb_96de_02420a39c0dcrow0_col3\" class=\"data row0 col3\" >8.65599</td>\n",
       "            </tr>\n",
       "            <tr>\n",
       "                        <th id=\"T_2719fb06_cdda_11eb_96de_02420a39c0dclevel0_row1\" class=\"row_heading level0 row1\" >17k-23k</th>\n",
       "                        <td id=\"T_2719fb06_cdda_11eb_96de_02420a39c0dcrow1_col0\" class=\"data row1 col0\" >5847</td>\n",
       "                        <td id=\"T_2719fb06_cdda_11eb_96de_02420a39c0dcrow1_col1\" class=\"data row1 col1\" >547</td>\n",
       "                        <td id=\"T_2719fb06_cdda_11eb_96de_02420a39c0dcrow1_col2\" class=\"data row1 col2\" >6394</td>\n",
       "                        <td id=\"T_2719fb06_cdda_11eb_96de_02420a39c0dcrow1_col3\" class=\"data row1 col3\" >9.35522</td>\n",
       "            </tr>\n",
       "            <tr>\n",
       "                        <th id=\"T_2719fb06_cdda_11eb_96de_02420a39c0dclevel0_row2\" class=\"row_heading level0 row2\" >23k-31k</th>\n",
       "                        <td id=\"T_2719fb06_cdda_11eb_96de_02420a39c0dcrow2_col0\" class=\"data row2 col0\" >3911</td>\n",
       "                        <td id=\"T_2719fb06_cdda_11eb_96de_02420a39c0dcrow2_col1\" class=\"data row2 col1\" >383</td>\n",
       "                        <td id=\"T_2719fb06_cdda_11eb_96de_02420a39c0dcrow2_col2\" class=\"data row2 col2\" >4294</td>\n",
       "                        <td id=\"T_2719fb06_cdda_11eb_96de_02420a39c0dcrow2_col3\" class=\"data row2 col3\" >9.79289</td>\n",
       "            </tr>\n",
       "            <tr>\n",
       "                        <th id=\"T_2719fb06_cdda_11eb_96de_02420a39c0dclevel0_row3\" class=\"row_heading level0 row3\" >31k+</th>\n",
       "                        <td id=\"T_2719fb06_cdda_11eb_96de_02420a39c0dcrow3_col0\" class=\"data row3 col0\" >4976</td>\n",
       "                        <td id=\"T_2719fb06_cdda_11eb_96de_02420a39c0dcrow3_col1\" class=\"data row3 col1\" >383</td>\n",
       "                        <td id=\"T_2719fb06_cdda_11eb_96de_02420a39c0dcrow3_col2\" class=\"data row3 col2\" >5359</td>\n",
       "                        <td id=\"T_2719fb06_cdda_11eb_96de_02420a39c0dcrow3_col3\" class=\"data row3 col3\" >7.69695</td>\n",
       "            </tr>\n",
       "            <tr>\n",
       "                        <th id=\"T_2719fb06_cdda_11eb_96de_02420a39c0dclevel0_row4\" class=\"row_heading level0 row4\" >All</th>\n",
       "                        <td id=\"T_2719fb06_cdda_11eb_96de_02420a39c0dcrow4_col0\" class=\"data row4 col0\" >19667</td>\n",
       "                        <td id=\"T_2719fb06_cdda_11eb_96de_02420a39c0dcrow4_col1\" class=\"data row4 col1\" >1740</td>\n",
       "                        <td id=\"T_2719fb06_cdda_11eb_96de_02420a39c0dcrow4_col2\" class=\"data row4 col2\" >21407</td>\n",
       "                        <td id=\"T_2719fb06_cdda_11eb_96de_02420a39c0dcrow4_col3\" class=\"data row4 col3\" >8.84731</td>\n",
       "            </tr>\n",
       "    </tbody></table>"
      ],
      "text/plain": [
       "<pandas.io.formats.style.Styler at 0x7f69f5c926d0>"
      ]
     },
     "execution_count": 42,
     "metadata": {},
     "output_type": "execute_result"
    }
   ],
   "source": [
    "#Checking if income is a parameter for repaying a loan on time\n",
    "table_income = df.pivot_table(index=\"income_group\",columns=\"debt\",values=\"total_income\",aggfunc=\"count\",margins=True)\n",
    "table_income.columns=[\"Paying\",\"Nonpaying\",\"All\"]\n",
    "table_income[\"ratio_%\"]=table_income[\"Nonpaying\"]/table_income[\"Paying\"]*100\n",
    "table_income.style.bar(subset=[\"ratio_%\"],color='#5fba7d',vmin=7.5)"
   ]
  },
  {
   "cell_type": "markdown",
   "metadata": {},
   "source": [
    "### Conclusion"
   ]
  },
  {
   "cell_type": "markdown",
   "metadata": {},
   "source": [
    "The ratio of default returning loan is smaller with the smalles and bigest income."
   ]
  },
  {
   "cell_type": "markdown",
   "metadata": {},
   "source": [
    "<div class=\"alert alert-block alert-success\">\n",
    "    <h2>Reviewer's commentary<a class=\"tocSkip\"> </h2>\n",
    "    <br/>\n",
    "<b>Well done!👍:</b> \n",
    "        \n",
    "Ok, good job!"
   ]
  },
  {
   "cell_type": "markdown",
   "metadata": {},
   "source": [
    "- Is there a relation between age and repaying a loan on time?"
   ]
  },
  {
   "cell_type": "code",
   "execution_count": 43,
   "metadata": {},
   "outputs": [
    {
     "data": {
      "text/html": [
       "<style  type=\"text/css\" >\n",
       "    #T_272fac62_cdda_11eb_96de_02420a39c0dcrow0_col3 {\n",
       "            width:  10em;\n",
       "             height:  80%;\n",
       "            background:  linear-gradient(90deg,#5fba7d 100.0%, transparent 100.0%);\n",
       "        }    #T_272fac62_cdda_11eb_96de_02420a39c0dcrow1_col3 {\n",
       "            width:  10em;\n",
       "             height:  80%;\n",
       "            background:  linear-gradient(90deg,#5fba7d 57.5%, transparent 57.5%);\n",
       "        }    #T_272fac62_cdda_11eb_96de_02420a39c0dcrow2_col3 {\n",
       "            width:  10em;\n",
       "             height:  80%;\n",
       "            background:  linear-gradient(90deg,#5fba7d 35.8%, transparent 35.8%);\n",
       "        }    #T_272fac62_cdda_11eb_96de_02420a39c0dcrow3_col3 {\n",
       "            width:  10em;\n",
       "             height:  80%;\n",
       "            background:  linear-gradient(90deg,#5fba7d 6.5%, transparent 6.5%);\n",
       "        }    #T_272fac62_cdda_11eb_96de_02420a39c0dcrow4_col3 {\n",
       "            width:  10em;\n",
       "             height:  80%;\n",
       "            background:  linear-gradient(90deg,#5fba7d 49.3%, transparent 49.3%);\n",
       "        }</style><table id=\"T_272fac62_cdda_11eb_96de_02420a39c0dc\" ><thead>    <tr>        <th class=\"blank level0\" ></th>        <th class=\"col_heading level0 col0\" >Paying</th>        <th class=\"col_heading level0 col1\" >Nonpaying</th>        <th class=\"col_heading level0 col2\" >All</th>        <th class=\"col_heading level0 col3\" >ratio_%</th>    </tr>    <tr>        <th class=\"index_name level0\" >age_group</th>        <th class=\"blank\" ></th>        <th class=\"blank\" ></th>        <th class=\"blank\" ></th>        <th class=\"blank\" ></th>    </tr></thead><tbody>\n",
       "                <tr>\n",
       "                        <th id=\"T_272fac62_cdda_11eb_96de_02420a39c0dclevel0_row0\" class=\"row_heading level0 row0\" >18-33</th>\n",
       "                        <td id=\"T_272fac62_cdda_11eb_96de_02420a39c0dcrow0_col0\" class=\"data row0 col0\" >4768</td>\n",
       "                        <td id=\"T_272fac62_cdda_11eb_96de_02420a39c0dcrow0_col1\" class=\"data row0 col1\" >586</td>\n",
       "                        <td id=\"T_272fac62_cdda_11eb_96de_02420a39c0dcrow0_col2\" class=\"data row0 col2\" >5354</td>\n",
       "                        <td id=\"T_272fac62_cdda_11eb_96de_02420a39c0dcrow0_col3\" class=\"data row0 col3\" >12.2903</td>\n",
       "            </tr>\n",
       "            <tr>\n",
       "                        <th id=\"T_272fac62_cdda_11eb_96de_02420a39c0dclevel0_row1\" class=\"row_heading level0 row1\" >34-42</th>\n",
       "                        <td id=\"T_272fac62_cdda_11eb_96de_02420a39c0dcrow1_col0\" class=\"data row1 col0\" >4817</td>\n",
       "                        <td id=\"T_272fac62_cdda_11eb_96de_02420a39c0dcrow1_col1\" class=\"data row1 col1\" >453</td>\n",
       "                        <td id=\"T_272fac62_cdda_11eb_96de_02420a39c0dcrow1_col2\" class=\"data row1 col2\" >5270</td>\n",
       "                        <td id=\"T_272fac62_cdda_11eb_96de_02420a39c0dcrow1_col3\" class=\"data row1 col3\" >9.40419</td>\n",
       "            </tr>\n",
       "            <tr>\n",
       "                        <th id=\"T_272fac62_cdda_11eb_96de_02420a39c0dclevel0_row2\" class=\"row_heading level0 row2\" >43-53</th>\n",
       "                        <td id=\"T_272fac62_cdda_11eb_96de_02420a39c0dcrow2_col0\" class=\"data row2 col0\" >5131</td>\n",
       "                        <td id=\"T_272fac62_cdda_11eb_96de_02420a39c0dcrow2_col1\" class=\"data row2 col1\" >407</td>\n",
       "                        <td id=\"T_272fac62_cdda_11eb_96de_02420a39c0dcrow2_col2\" class=\"data row2 col2\" >5538</td>\n",
       "                        <td id=\"T_272fac62_cdda_11eb_96de_02420a39c0dcrow2_col3\" class=\"data row2 col3\" >7.93218</td>\n",
       "            </tr>\n",
       "            <tr>\n",
       "                        <th id=\"T_272fac62_cdda_11eb_96de_02420a39c0dclevel0_row3\" class=\"row_heading level0 row3\" >54+</th>\n",
       "                        <td id=\"T_272fac62_cdda_11eb_96de_02420a39c0dcrow3_col0\" class=\"data row3 col0\" >4951</td>\n",
       "                        <td id=\"T_272fac62_cdda_11eb_96de_02420a39c0dcrow3_col1\" class=\"data row3 col1\" >294</td>\n",
       "                        <td id=\"T_272fac62_cdda_11eb_96de_02420a39c0dcrow3_col2\" class=\"data row3 col2\" >5245</td>\n",
       "                        <td id=\"T_272fac62_cdda_11eb_96de_02420a39c0dcrow3_col3\" class=\"data row3 col3\" >5.93819</td>\n",
       "            </tr>\n",
       "            <tr>\n",
       "                        <th id=\"T_272fac62_cdda_11eb_96de_02420a39c0dclevel0_row4\" class=\"row_heading level0 row4\" >All</th>\n",
       "                        <td id=\"T_272fac62_cdda_11eb_96de_02420a39c0dcrow4_col0\" class=\"data row4 col0\" >19667</td>\n",
       "                        <td id=\"T_272fac62_cdda_11eb_96de_02420a39c0dcrow4_col1\" class=\"data row4 col1\" >1740</td>\n",
       "                        <td id=\"T_272fac62_cdda_11eb_96de_02420a39c0dcrow4_col2\" class=\"data row4 col2\" >21407</td>\n",
       "                        <td id=\"T_272fac62_cdda_11eb_96de_02420a39c0dcrow4_col3\" class=\"data row4 col3\" >8.84731</td>\n",
       "            </tr>\n",
       "    </tbody></table>"
      ],
      "text/plain": [
       "<pandas.io.formats.style.Styler at 0x7f69f5c8d810>"
      ]
     },
     "execution_count": 43,
     "metadata": {},
     "output_type": "execute_result"
    }
   ],
   "source": [
    "#Checking if age is a parameter for repaying a loan on time\n",
    "table_age = df.pivot_table(index=\"age_group\",columns=\"debt\",values=\"dob_years\",aggfunc=\"count\",margins=True)\n",
    "table_age.columns=[\"Paying\",\"Nonpaying\",\"All\"]\n",
    "table_age[\"ratio_%\"]=table_age[\"Nonpaying\"]/table_age[\"Paying\"]*100\n",
    "table_age.style.bar(subset=[\"ratio_%\"],color='#5fba7d',vmin=5.5)"
   ]
  },
  {
   "cell_type": "markdown",
   "metadata": {},
   "source": [
    "### Conclusion"
   ]
  },
  {
   "cell_type": "markdown",
   "metadata": {},
   "source": [
    "The ratio of default returning loan decreaced as the loaner older."
   ]
  },
  {
   "cell_type": "markdown",
   "metadata": {},
   "source": [
    "<div class=\"alert alert-block alert-success\">\n",
    "    <h2>Reviewer's commentary<a class=\"tocSkip\"> </h2>\n",
    "    <br/>\n",
    "<b>Well done!👍:</b> \n",
    "        \n",
    "Ok, it is great that you didn't forget to analyse the age groups."
   ]
  },
  {
   "cell_type": "markdown",
   "metadata": {},
   "source": [
    "- How do different loan purposes affect on-time repayment of the loan?"
   ]
  },
  {
   "cell_type": "code",
   "execution_count": 44,
   "metadata": {
    "scrolled": true
   },
   "outputs": [
    {
     "data": {
      "text/plain": [
       "wedding ceremony                            791\n",
       "having a wedding                            767\n",
       "to have a wedding                           764\n",
       "real estate transactions                    673\n",
       "buy commercial real estate                  661\n",
       "housing transactions                        651\n",
       "buying property for renting out             650\n",
       "transactions with commercial real estate    649\n",
       "housing                                     645\n",
       "purchase of the house                       643\n",
       "purchase of the house for my family         638\n",
       "construction of own property                634\n",
       "property                                    632\n",
       "transactions with my real estate            624\n",
       "building a real estate                      621\n",
       "purchase of my own house                    619\n",
       "building a property                         619\n",
       "buy real estate                             618\n",
       "housing renovation                          606\n",
       "buy residential real estate                 604\n",
       "buying my own car                           504\n",
       "going to university                         496\n",
       "car                                         492\n",
       "second-hand car purchase                    485\n",
       "cars                                        477\n",
       "buying a second-hand car                    477\n",
       "to own a car                                476\n",
       "to buy a car                                470\n",
       "car purchase                                459\n",
       "supplementary education                     458\n",
       "purchase of a car                           455\n",
       "university education                        451\n",
       "to get a supplementary education            445\n",
       "education                                   444\n",
       "getting an education                        441\n",
       "profile education                           434\n",
       "getting higher education                    426\n",
       "to become educated                          408\n",
       "Name: purpose, dtype: int64"
      ]
     },
     "execution_count": 44,
     "metadata": {},
     "output_type": "execute_result"
    }
   ],
   "source": [
    "#checking loan proposes - how many there are\n",
    "df[\"purpose\"].value_counts()"
   ]
  },
  {
   "cell_type": "markdown",
   "metadata": {},
   "source": [
    "<div class=\"alert alert-info\">\n",
    "  <strong>My fix!</strong> here is what I added / changed\n",
    "</div>"
   ]
  },
  {
   "cell_type": "markdown",
   "metadata": {},
   "source": [
    "I can use the lemmatization technique for categorization of the loan purposes. This time I used the simplest way - just looking at the string. If it was failing or if there where a lot of unknown categories i would use lemmatization"
   ]
  },
  {
   "cell_type": "code",
   "execution_count": 45,
   "metadata": {
    "scrolled": true
   },
   "outputs": [
    {
     "name": "stdout",
     "output_type": "stream",
     "text": [
      "38\n",
      "purchase of the house   -house\n",
      "car purchase   -car\n",
      "supplementary education   -education\n",
      "to have a wedding   -wedd\n",
      "housing transactions   -house\n",
      "education   -education\n",
      "having a wedding   -wedd\n",
      "purchase of the house for my family   -house\n",
      "buy real estate   -real estate\n",
      "buy commercial real estate   -real estate\n",
      "buy residential real estate   -real estate\n",
      "construction of own property   -property\n",
      "property   -property\n",
      "building a property   -property\n",
      "buying a second-hand car   -car\n",
      "buying my own car   -car\n",
      "transactions with commercial real estate   -real estate\n",
      "building a real estate   -real estate\n",
      "housing   -house\n",
      "transactions with my real estate   -real estate\n",
      "cars   -car\n",
      "to become educated   -education\n",
      "second-hand car purchase   -car\n",
      "getting an education   -education\n",
      "car   -car\n",
      "wedding ceremony   -wedd\n",
      "to get a supplementary education   -education\n",
      "purchase of my own house   -house\n",
      "real estate transactions   -real estate\n",
      "getting higher education   -education\n",
      "to own a car   -car\n",
      "purchase of a car   -car\n",
      "profile education   -education\n",
      "university education   -education\n",
      "buying property for renting out   -property\n",
      "to buy a car   -car\n",
      "housing renovation   -house\n",
      "going to university   -university\n",
      "38\n"
     ]
    }
   ],
   "source": [
    "# checking the category of purpose can by divided to 7 categoris\n",
    "purpose_list = list(df[\"purpose\"].unique())\n",
    "print(len(purpose_list))\n",
    "count=0\n",
    "for i in purpose_list:\n",
    "    if \"car\" in i:\n",
    "        print(i,\"  -car\")\n",
    "        count+=1\n",
    "    elif \"hous\" in i:\n",
    "        print( i,\"  -house\")\n",
    "        count+=1\n",
    "    elif \"educat\" in i:\n",
    "        print( i,\"  -education\")\n",
    "        count+=1\n",
    "    elif \"real estate\" in i:\n",
    "        print( i,\"  -real estate\")\n",
    "        count+=1    \n",
    "    elif \"wedd\" in i:\n",
    "        print( i,\"  -wedd\")\n",
    "        count+=1    \n",
    "    elif \"property\" in i:\n",
    "        print( i,\"  -property\")\n",
    "        count+=1    \n",
    "    elif \"university\" in i:\n",
    "        print( i,\"  -university\")\n",
    "        count+=1        \n",
    "print(f\"{count}\")    "
   ]
  },
  {
   "cell_type": "code",
   "execution_count": 46,
   "metadata": {
    "scrolled": true
   },
   "outputs": [
    {
     "data": {
      "text/html": [
       "<div>\n",
       "<style scoped>\n",
       "    .dataframe tbody tr th:only-of-type {\n",
       "        vertical-align: middle;\n",
       "    }\n",
       "\n",
       "    .dataframe tbody tr th {\n",
       "        vertical-align: top;\n",
       "    }\n",
       "\n",
       "    .dataframe thead th {\n",
       "        text-align: right;\n",
       "    }\n",
       "</style>\n",
       "<table border=\"1\" class=\"dataframe\">\n",
       "  <thead>\n",
       "    <tr style=\"text-align: right;\">\n",
       "      <th></th>\n",
       "      <th>children</th>\n",
       "      <th>days_employed</th>\n",
       "      <th>dob_years</th>\n",
       "      <th>education</th>\n",
       "      <th>education_id</th>\n",
       "      <th>family_status</th>\n",
       "      <th>family_status_id</th>\n",
       "      <th>gender</th>\n",
       "      <th>income_type</th>\n",
       "      <th>debt</th>\n",
       "      <th>total_income</th>\n",
       "      <th>purpose</th>\n",
       "      <th>age_group</th>\n",
       "      <th>income_group</th>\n",
       "      <th>purpose_category</th>\n",
       "    </tr>\n",
       "  </thead>\n",
       "  <tbody>\n",
       "    <tr>\n",
       "      <td>0</td>\n",
       "      <td>1</td>\n",
       "      <td>8437</td>\n",
       "      <td>42</td>\n",
       "      <td>bachelor's degree</td>\n",
       "      <td>0</td>\n",
       "      <td>married</td>\n",
       "      <td>0</td>\n",
       "      <td>f</td>\n",
       "      <td>employee</td>\n",
       "      <td>0</td>\n",
       "      <td>40620</td>\n",
       "      <td>purchase of the house</td>\n",
       "      <td>34-42</td>\n",
       "      <td>31k+</td>\n",
       "      <td>house, property and real estate</td>\n",
       "    </tr>\n",
       "    <tr>\n",
       "      <td>1</td>\n",
       "      <td>1</td>\n",
       "      <td>4024</td>\n",
       "      <td>36</td>\n",
       "      <td>secondary education</td>\n",
       "      <td>1</td>\n",
       "      <td>married</td>\n",
       "      <td>0</td>\n",
       "      <td>f</td>\n",
       "      <td>employee</td>\n",
       "      <td>0</td>\n",
       "      <td>17932</td>\n",
       "      <td>car purchase</td>\n",
       "      <td>34-42</td>\n",
       "      <td>17k-23k</td>\n",
       "      <td>car</td>\n",
       "    </tr>\n",
       "    <tr>\n",
       "      <td>2</td>\n",
       "      <td>0</td>\n",
       "      <td>5623</td>\n",
       "      <td>33</td>\n",
       "      <td>secondary education</td>\n",
       "      <td>1</td>\n",
       "      <td>married</td>\n",
       "      <td>0</td>\n",
       "      <td>m</td>\n",
       "      <td>employee</td>\n",
       "      <td>0</td>\n",
       "      <td>23341</td>\n",
       "      <td>purchase of the house</td>\n",
       "      <td>18-33</td>\n",
       "      <td>23k-31k</td>\n",
       "      <td>house, property and real estate</td>\n",
       "    </tr>\n",
       "    <tr>\n",
       "      <td>3</td>\n",
       "      <td>3</td>\n",
       "      <td>4124</td>\n",
       "      <td>32</td>\n",
       "      <td>secondary education</td>\n",
       "      <td>1</td>\n",
       "      <td>married</td>\n",
       "      <td>0</td>\n",
       "      <td>m</td>\n",
       "      <td>employee</td>\n",
       "      <td>0</td>\n",
       "      <td>42820</td>\n",
       "      <td>supplementary education</td>\n",
       "      <td>18-33</td>\n",
       "      <td>31k+</td>\n",
       "      <td>education</td>\n",
       "    </tr>\n",
       "    <tr>\n",
       "      <td>4</td>\n",
       "      <td>0</td>\n",
       "      <td>340266</td>\n",
       "      <td>53</td>\n",
       "      <td>secondary education</td>\n",
       "      <td>1</td>\n",
       "      <td>civil partnership</td>\n",
       "      <td>1</td>\n",
       "      <td>f</td>\n",
       "      <td>retiree</td>\n",
       "      <td>0</td>\n",
       "      <td>25378</td>\n",
       "      <td>to have a wedding</td>\n",
       "      <td>43-53</td>\n",
       "      <td>23k-31k</td>\n",
       "      <td>wedding</td>\n",
       "    </tr>\n",
       "  </tbody>\n",
       "</table>\n",
       "</div>"
      ],
      "text/plain": [
       "   children  days_employed  dob_years            education  education_id  \\\n",
       "0         1           8437         42    bachelor's degree             0   \n",
       "1         1           4024         36  secondary education             1   \n",
       "2         0           5623         33  secondary education             1   \n",
       "3         3           4124         32  secondary education             1   \n",
       "4         0         340266         53  secondary education             1   \n",
       "\n",
       "       family_status  family_status_id gender income_type  debt  total_income  \\\n",
       "0            married                 0      f    employee     0         40620   \n",
       "1            married                 0      f    employee     0         17932   \n",
       "2            married                 0      m    employee     0         23341   \n",
       "3            married                 0      m    employee     0         42820   \n",
       "4  civil partnership                 1      f     retiree     0         25378   \n",
       "\n",
       "                   purpose age_group income_group  \\\n",
       "0    purchase of the house     34-42         31k+   \n",
       "1             car purchase     34-42      17k-23k   \n",
       "2    purchase of the house     18-33      23k-31k   \n",
       "3  supplementary education     18-33         31k+   \n",
       "4        to have a wedding     43-53      23k-31k   \n",
       "\n",
       "                  purpose_category  \n",
       "0  house, property and real estate  \n",
       "1                              car  \n",
       "2  house, property and real estate  \n",
       "3                        education  \n",
       "4                          wedding  "
      ]
     },
     "execution_count": 46,
     "metadata": {},
     "output_type": "execute_result"
    }
   ],
   "source": [
    "#building a function and adding the purpose\n",
    "def purpose_cat(pur):\n",
    "    if \"car\" in pur:\n",
    "        return \"car\"\n",
    "    elif \"hous\" in pur:\n",
    "        return \"house, property and real estate\"\n",
    "    elif \"educat\" in pur:\n",
    "        return \"education\"\n",
    "    elif \"real estate\" in pur:\n",
    "        return \"house, property and real estate\"\n",
    "    elif \"wedd\" in pur:\n",
    "        return \"wedding\"\n",
    "    elif \"property\" in pur:\n",
    "        return \"house, property and real estate\"\n",
    "    elif \"university\" in pur:\n",
    "        return \"education\"\n",
    "df[\"purpose_category\"]=df[\"purpose\"].apply(purpose_cat)\n",
    "df.head()"
   ]
  },
  {
   "cell_type": "code",
   "execution_count": 47,
   "metadata": {},
   "outputs": [
    {
     "data": {
      "text/html": [
       "<style  type=\"text/css\" >\n",
       "    #T_274f5ed6_cdda_11eb_96de_02420a39c0dcrow0_col3 {\n",
       "            width:  10em;\n",
       "             height:  80%;\n",
       "            background:  linear-gradient(90deg,#5fba7d 100.0%, transparent 100.0%);\n",
       "        }    #T_274f5ed6_cdda_11eb_96de_02420a39c0dcrow1_col3 {\n",
       "            width:  10em;\n",
       "             height:  80%;\n",
       "            background:  linear-gradient(90deg,#5fba7d 95.7%, transparent 95.7%);\n",
       "        }    #T_274f5ed6_cdda_11eb_96de_02420a39c0dcrow2_col3 {\n",
       "            width:  10em;\n",
       "             height:  80%;\n",
       "            background:  linear-gradient(90deg,#5fba7d 24.5%, transparent 24.5%);\n",
       "        }    #T_274f5ed6_cdda_11eb_96de_02420a39c0dcrow3_col3 {\n",
       "            width:  10em;\n",
       "             height:  80%;\n",
       "            background:  linear-gradient(90deg,#5fba7d 51.3%, transparent 51.3%);\n",
       "        }    #T_274f5ed6_cdda_11eb_96de_02420a39c0dcrow4_col3 {\n",
       "            width:  10em;\n",
       "             height:  80%;\n",
       "            background:  linear-gradient(90deg,#5fba7d 55.5%, transparent 55.5%);\n",
       "        }</style><table id=\"T_274f5ed6_cdda_11eb_96de_02420a39c0dc\" ><thead>    <tr>        <th class=\"blank level0\" ></th>        <th class=\"col_heading level0 col0\" >Paying</th>        <th class=\"col_heading level0 col1\" >Nonpaying</th>        <th class=\"col_heading level0 col2\" >All</th>        <th class=\"col_heading level0 col3\" >ratio_%</th>    </tr>    <tr>        <th class=\"index_name level0\" >purpose_category</th>        <th class=\"blank\" ></th>        <th class=\"blank\" ></th>        <th class=\"blank\" ></th>        <th class=\"blank\" ></th>    </tr></thead><tbody>\n",
       "                <tr>\n",
       "                        <th id=\"T_274f5ed6_cdda_11eb_96de_02420a39c0dclevel0_row0\" class=\"row_heading level0 row0\" >car</th>\n",
       "                        <td id=\"T_274f5ed6_cdda_11eb_96de_02420a39c0dcrow0_col0\" class=\"data row0 col0\" >3893</td>\n",
       "                        <td id=\"T_274f5ed6_cdda_11eb_96de_02420a39c0dcrow0_col1\" class=\"data row0 col1\" >402</td>\n",
       "                        <td id=\"T_274f5ed6_cdda_11eb_96de_02420a39c0dcrow0_col2\" class=\"data row0 col2\" >4295</td>\n",
       "                        <td id=\"T_274f5ed6_cdda_11eb_96de_02420a39c0dcrow0_col3\" class=\"data row0 col3\" >10.3262</td>\n",
       "            </tr>\n",
       "            <tr>\n",
       "                        <th id=\"T_274f5ed6_cdda_11eb_96de_02420a39c0dclevel0_row1\" class=\"row_heading level0 row1\" >education</th>\n",
       "                        <td id=\"T_274f5ed6_cdda_11eb_96de_02420a39c0dcrow1_col0\" class=\"data row1 col0\" >3633</td>\n",
       "                        <td id=\"T_274f5ed6_cdda_11eb_96de_02420a39c0dcrow1_col1\" class=\"data row1 col1\" >370</td>\n",
       "                        <td id=\"T_274f5ed6_cdda_11eb_96de_02420a39c0dcrow1_col2\" class=\"data row1 col2\" >4003</td>\n",
       "                        <td id=\"T_274f5ed6_cdda_11eb_96de_02420a39c0dcrow1_col3\" class=\"data row1 col3\" >10.1844</td>\n",
       "            </tr>\n",
       "            <tr>\n",
       "                        <th id=\"T_274f5ed6_cdda_11eb_96de_02420a39c0dclevel0_row2\" class=\"row_heading level0 row2\" >house, property and real estate</th>\n",
       "                        <td id=\"T_274f5ed6_cdda_11eb_96de_02420a39c0dcrow2_col0\" class=\"data row2 col0\" >10005</td>\n",
       "                        <td id=\"T_274f5ed6_cdda_11eb_96de_02420a39c0dcrow2_col1\" class=\"data row2 col1\" >782</td>\n",
       "                        <td id=\"T_274f5ed6_cdda_11eb_96de_02420a39c0dcrow2_col2\" class=\"data row2 col2\" >10787</td>\n",
       "                        <td id=\"T_274f5ed6_cdda_11eb_96de_02420a39c0dcrow2_col3\" class=\"data row2 col3\" >7.81609</td>\n",
       "            </tr>\n",
       "            <tr>\n",
       "                        <th id=\"T_274f5ed6_cdda_11eb_96de_02420a39c0dclevel0_row3\" class=\"row_heading level0 row3\" >wedding</th>\n",
       "                        <td id=\"T_274f5ed6_cdda_11eb_96de_02420a39c0dcrow3_col0\" class=\"data row3 col0\" >2136</td>\n",
       "                        <td id=\"T_274f5ed6_cdda_11eb_96de_02420a39c0dcrow3_col1\" class=\"data row3 col1\" >186</td>\n",
       "                        <td id=\"T_274f5ed6_cdda_11eb_96de_02420a39c0dcrow3_col2\" class=\"data row3 col2\" >2322</td>\n",
       "                        <td id=\"T_274f5ed6_cdda_11eb_96de_02420a39c0dcrow3_col3\" class=\"data row3 col3\" >8.70787</td>\n",
       "            </tr>\n",
       "            <tr>\n",
       "                        <th id=\"T_274f5ed6_cdda_11eb_96de_02420a39c0dclevel0_row4\" class=\"row_heading level0 row4\" >All</th>\n",
       "                        <td id=\"T_274f5ed6_cdda_11eb_96de_02420a39c0dcrow4_col0\" class=\"data row4 col0\" >19667</td>\n",
       "                        <td id=\"T_274f5ed6_cdda_11eb_96de_02420a39c0dcrow4_col1\" class=\"data row4 col1\" >1740</td>\n",
       "                        <td id=\"T_274f5ed6_cdda_11eb_96de_02420a39c0dcrow4_col2\" class=\"data row4 col2\" >21407</td>\n",
       "                        <td id=\"T_274f5ed6_cdda_11eb_96de_02420a39c0dcrow4_col3\" class=\"data row4 col3\" >8.84731</td>\n",
       "            </tr>\n",
       "    </tbody></table>"
      ],
      "text/plain": [
       "<pandas.io.formats.style.Styler at 0x7f69f5c8dd10>"
      ]
     },
     "execution_count": 47,
     "metadata": {},
     "output_type": "execute_result"
    }
   ],
   "source": [
    "#Checking if purpose is a parameter for repaying a loan on time\n",
    "table_purp = df.pivot_table(index=\"purpose_category\",columns=\"debt\",values=\"purpose\",aggfunc=\"count\",margins=True)\n",
    "table_purp.columns=[\"Paying\",\"Nonpaying\",\"All\"]\n",
    "table_purp[\"ratio_%\"]=table_purp[\"Nonpaying\"]/table_purp[\"Paying\"]*100\n",
    "table_purp.style.bar(subset=[\"ratio_%\"],color='#5fba7d',vmin=7.0)"
   ]
  },
  {
   "cell_type": "markdown",
   "metadata": {},
   "source": [
    "### Conclusion"
   ]
  },
  {
   "cell_type": "markdown",
   "metadata": {},
   "source": [
    "car and education default the most"
   ]
  },
  {
   "cell_type": "markdown",
   "metadata": {},
   "source": [
    "<div class=\"alert alert-block alert-warning\">\n",
    "   <h2>Reviewer's commentary <a class=\"tocSkip\"> </h2>\n",
    "    <br/>\n",
    "<b>Remarks and recommendations📌:</b>  \n",
    "       \n",
    "As for categorization, I can agree with the categories you managed to reveal, but I would like to recommend you to use the lemmatization technique fo categorization of the loan purposes.\n",
    "       \n",
    "How does this work?\n",
    "      \n",
    "You used the `.unique()` method to identify the unique entities in column with loan purposes, then you create the list of lemmatized loan purposes using special method, and finally you can apply the loop or function to categorize the data.\n",
    "       \n",
    "More information about the lemmatization see below:\n",
    "       \n",
    "https://www.machinelearningplus.com/nlp/lemmatization-examples-python/\n",
    "       \n",
    "https://www.guru99.com/stemming-lemmatization-python-nltk.html\n",
    "       \n",
    "And as for your final categories, I would like to recommend you to unite the categories house, property, real estate in one common category."
   ]
  },
  {
   "cell_type": "markdown",
   "metadata": {},
   "source": [
    "<div class=\"alert alert-block alert-success\">\n",
    "    <h2>Reviewer's commentary: second iteration of the review <a class=\"tocSkip\"> </h2>\n",
    "    <br/>\n",
    "<b>Well done!👍:</b> \n",
    "        \n",
    "Ok, now your decision is correct, you are doing great!"
   ]
  },
  {
   "cell_type": "markdown",
   "metadata": {},
   "source": [
    "## General conclusion"
   ]
  },
  {
   "cell_type": "markdown",
   "metadata": {},
   "source": [
    "The data is a list of loan takers with some characteristic about the. After cleaning the data, I found connection between these characteristic: age, number of children, income, family status and purpose.\n",
    "The connections are presented in separated tables, one for each parameter. I presented the relation in every table between the parameter and the ratio of default repay of the loans. The last parameter was str based. and included a few unique reason for taking the load. I used strait forward approach to categorized the list by word un the string like \"car\" and \"house\". If the list were bigger, I would had to take other approach to analyze the purpose like using stemming in nltk linrary."
   ]
  },
  {
   "cell_type": "markdown",
   "metadata": {},
   "source": [
    "<div style=\"border:solid Chocolate 2px; padding: 40px\">\n",
    "\n",
    "**The overall review conclusion**\n",
    "\n",
    "Amir, thank you for submitting your project! I can see that you've worked really hard on it! Good job! But there are several things in your project which I suppose it is important to fix in order to make your project really ideal! My comments will navigate you!\n",
    "\n",
    "**Good things and practices in your project I want to highlight🙂**:t!\n",
    "* You use different methods for working with your data. It is really great that you can apply these methods on practice, keep it up!\n",
    "* It is great that you use automation tools that you use for completing the tasks and created your own functions! \n",
    "* You have formulated the conclusions and explanations at each step of the analysis, it is the right strategy!\n",
    "    \n",
    "**What is worth working on👀**:\n",
    "    \n",
    "* It is important to preprocess the anomalies and artefacts values in data\n",
    "* For categorization of the loan purposes it is important to use lemmatization.\n",
    "* You will find additional recommendations in my comments!\n",
    "    \n",
    " \n",
    "**Good luck! I will wait for your work for a second iteration of the review!😉**\n",
    "\n",
    "![gif](https://media.giphy.com/media/pJu3xzRa2PzTq/giphy.gif)  "
   ]
  },
  {
   "cell_type": "markdown",
   "metadata": {},
   "source": [
    "<div style=\"border:solid Chocolate 2px; padding: 40px\">\n",
    "\n",
    "**The overall review conclusion: second iteration of the review**\n",
    "\n",
    "Amir, thank you for submitting your project with corrections!\n",
    "    \n",
    "You did a great job to improve the project, so I hasten to say that your project has been accepted and you can proceed to the next sprint!\n",
    "    \n",
    "**I wish you exciting and cool projects in the next sprints😉**\n",
    "\n",
    "![gif](https://media.giphy.com/media/HXF45CT8cvzZC/giphy.gif)  "
   ]
  },
  {
   "cell_type": "markdown",
   "metadata": {},
   "source": [
    "## Project Readiness Checklist\n",
    "\n",
    "Put 'x' in the completed points. Then press Shift + Enter."
   ]
  },
  {
   "cell_type": "markdown",
   "metadata": {},
   "source": [
    "- [x]  file open;\n",
    "- [x]  file examined;\n",
    "- [x]  missing values defined;\n",
    "- [x]  missing values are filled;\n",
    "- [x]  an explanation of which missing value types were detected;\n",
    "- [x]  explanation for the possible causes of missing values;\n",
    "- [x]  an explanation of how the blanks are filled;\n",
    "- [x]  replaced the real data type with an integer;\n",
    "- [x]  an explanation of which method is used to change the data type and why;\n",
    "- [x]  duplicates deleted;\n",
    "- [x]  an explanation of which method is used to find and remove duplicates;\n",
    "- [x]  description of the possible reasons for the appearance of duplicates in the data;\n",
    "- [x]  data is categorized;\n",
    "- [x]  an explanation of the principle of data categorization;\n",
    "- [x]  an answer to the question \"Is there a relation between having kids and repaying a loan on time?\";\n",
    "- [x]  an answer to the question \" Is there a relation between marital status and repaying a loan on time?\";\n",
    "- [x]   an answer to the question \" Is there a relation between income level and repaying a loan on time?\";\n",
    "- [x]  an answer to the question \" How do different loan purposes affect on-time repayment of the loan?\"\n",
    "- [x]  conclusions are present on each stage;\n",
    "- [x]  a general conclusion is made."
   ]
  },
  {
   "cell_type": "code",
   "execution_count": null,
   "metadata": {},
   "outputs": [],
   "source": []
  }
 ],
 "metadata": {
  "ExecuteTimeLog": [
   {
    "duration": 714,
    "start_time": "2021-06-11T14:20:25.897Z"
   },
   {
    "duration": 166,
    "start_time": "2021-06-11T14:24:19.755Z"
   },
   {
    "duration": 7,
    "start_time": "2021-06-11T14:26:04.148Z"
   },
   {
    "duration": 11,
    "start_time": "2021-06-11T14:26:24.983Z"
   },
   {
    "duration": 214,
    "start_time": "2021-06-11T14:26:52.204Z"
   },
   {
    "duration": 13,
    "start_time": "2021-06-11T14:26:53.645Z"
   },
   {
    "duration": 12,
    "start_time": "2021-06-11T14:27:00.613Z"
   },
   {
    "duration": 7,
    "start_time": "2021-06-11T14:36:09.933Z"
   },
   {
    "duration": 8,
    "start_time": "2021-06-11T14:36:26.671Z"
   },
   {
    "duration": 25,
    "start_time": "2021-06-11T14:36:53.055Z"
   },
   {
    "duration": 8,
    "start_time": "2021-06-11T14:37:11.544Z"
   },
   {
    "duration": 292,
    "start_time": "2021-06-11T14:39:02.844Z"
   },
   {
    "duration": 7,
    "start_time": "2021-06-11T14:39:26.618Z"
   },
   {
    "duration": 60,
    "start_time": "2021-06-11T14:42:37.742Z"
   },
   {
    "duration": 9,
    "start_time": "2021-06-11T14:42:53.854Z"
   },
   {
    "duration": 424,
    "start_time": "2021-06-11T14:46:04.544Z"
   },
   {
    "duration": 182,
    "start_time": "2021-06-11T14:46:13.202Z"
   },
   {
    "duration": 20,
    "start_time": "2021-06-11T14:46:28.453Z"
   },
   {
    "duration": 12,
    "start_time": "2021-06-11T14:46:41.547Z"
   },
   {
    "duration": 15,
    "start_time": "2021-06-11T14:47:37.003Z"
   },
   {
    "duration": 66,
    "start_time": "2021-06-11T14:55:22.059Z"
   },
   {
    "duration": 185,
    "start_time": "2021-06-11T14:55:31.047Z"
   },
   {
    "duration": 195,
    "start_time": "2021-06-11T14:56:15.575Z"
   },
   {
    "duration": 22,
    "start_time": "2021-06-11T14:57:02.997Z"
   },
   {
    "duration": 15,
    "start_time": "2021-06-11T14:58:09.235Z"
   },
   {
    "duration": 7,
    "start_time": "2021-06-11T15:08:44.344Z"
   },
   {
    "duration": 10,
    "start_time": "2021-06-11T15:09:27.312Z"
   },
   {
    "duration": 6,
    "start_time": "2021-06-11T15:09:59.587Z"
   },
   {
    "duration": 9,
    "start_time": "2021-06-11T15:10:02.617Z"
   },
   {
    "duration": 5,
    "start_time": "2021-06-11T15:10:58.697Z"
   },
   {
    "duration": 9,
    "start_time": "2021-06-11T15:11:00.234Z"
   },
   {
    "duration": 10,
    "start_time": "2021-06-11T15:14:02.262Z"
   },
   {
    "duration": 445,
    "start_time": "2021-06-12T17:29:29.120Z"
   },
   {
    "duration": 819,
    "start_time": "2021-06-12T17:29:41.583Z"
   },
   {
    "duration": 304,
    "start_time": "2021-06-12T17:29:43.703Z"
   },
   {
    "duration": 18,
    "start_time": "2021-06-12T17:29:48.110Z"
   },
   {
    "duration": 24,
    "start_time": "2021-06-12T17:29:51.943Z"
   },
   {
    "duration": 25,
    "start_time": "2021-06-12T17:29:54.832Z"
   },
   {
    "duration": 25,
    "start_time": "2021-06-12T17:29:57.775Z"
   },
   {
    "duration": 6,
    "start_time": "2021-06-12T17:30:03.800Z"
   },
   {
    "duration": 6,
    "start_time": "2021-06-12T17:30:05.735Z"
   },
   {
    "duration": 13,
    "start_time": "2021-06-12T17:30:07.591Z"
   },
   {
    "duration": 15,
    "start_time": "2021-06-12T17:30:10.639Z"
   },
   {
    "duration": 6,
    "start_time": "2021-06-12T17:30:14.944Z"
   },
   {
    "duration": 20,
    "start_time": "2021-06-12T17:30:55.728Z"
   },
   {
    "duration": 7,
    "start_time": "2021-06-12T17:42:52.524Z"
   },
   {
    "duration": 984,
    "start_time": "2021-06-12T17:43:19.979Z"
   },
   {
    "duration": 8732,
    "start_time": "2021-06-12T17:43:38.373Z"
   },
   {
    "duration": 11,
    "start_time": "2021-06-12T17:53:10.016Z"
   },
   {
    "duration": 12,
    "start_time": "2021-06-12T17:53:20.006Z"
   },
   {
    "duration": 36,
    "start_time": "2021-06-12T17:53:31.719Z"
   },
   {
    "duration": 118,
    "start_time": "2021-06-12T17:56:35.634Z"
   },
   {
    "duration": 22,
    "start_time": "2021-06-12T17:57:00.201Z"
   },
   {
    "duration": 23,
    "start_time": "2021-06-12T18:00:46.061Z"
   },
   {
    "duration": 23,
    "start_time": "2021-06-12T18:00:54.910Z"
   },
   {
    "duration": 22,
    "start_time": "2021-06-12T18:00:58.821Z"
   },
   {
    "duration": 21,
    "start_time": "2021-06-12T18:01:32.182Z"
   },
   {
    "duration": 10,
    "start_time": "2021-06-12T18:01:43.710Z"
   },
   {
    "duration": 10,
    "start_time": "2021-06-12T18:01:57.120Z"
   },
   {
    "duration": 315,
    "start_time": "2021-06-12T18:02:57.479Z"
   },
   {
    "duration": 347,
    "start_time": "2021-06-12T18:03:07.768Z"
   },
   {
    "duration": 359,
    "start_time": "2021-06-12T18:03:31.369Z"
   },
   {
    "duration": 7,
    "start_time": "2021-06-12T18:03:59.442Z"
   },
   {
    "duration": 7,
    "start_time": "2021-06-12T18:04:36.355Z"
   },
   {
    "duration": 9,
    "start_time": "2021-06-12T18:05:27.514Z"
   },
   {
    "duration": 8,
    "start_time": "2021-06-12T18:05:48.050Z"
   },
   {
    "duration": 10,
    "start_time": "2021-06-12T18:05:49.907Z"
   },
   {
    "duration": 11,
    "start_time": "2021-06-12T18:05:54.587Z"
   },
   {
    "duration": 356,
    "start_time": "2021-06-12T18:06:15.819Z"
   },
   {
    "duration": 14,
    "start_time": "2021-06-12T18:06:19.595Z"
   },
   {
    "duration": 6,
    "start_time": "2021-06-12T18:06:37.092Z"
   },
   {
    "duration": 6,
    "start_time": "2021-06-12T18:06:38.451Z"
   },
   {
    "duration": 13,
    "start_time": "2021-06-12T18:06:41.859Z"
   },
   {
    "duration": 14,
    "start_time": "2021-06-12T18:06:50.188Z"
   },
   {
    "duration": 6,
    "start_time": "2021-06-12T18:06:56.780Z"
   },
   {
    "duration": 16,
    "start_time": "2021-06-12T18:06:59.324Z"
   },
   {
    "duration": 20,
    "start_time": "2021-06-12T18:07:04.021Z"
   },
   {
    "duration": 21,
    "start_time": "2021-06-12T18:07:06.595Z"
   },
   {
    "duration": 14,
    "start_time": "2021-06-12T18:07:07.972Z"
   },
   {
    "duration": 22,
    "start_time": "2021-06-12T18:07:12.012Z"
   },
   {
    "duration": 24,
    "start_time": "2021-06-12T18:08:13.168Z"
   },
   {
    "duration": 1252,
    "start_time": "2021-06-12T18:08:38.773Z"
   },
   {
    "duration": 15,
    "start_time": "2021-06-12T18:08:55.311Z"
   },
   {
    "duration": 119,
    "start_time": "2021-06-13T16:29:08.700Z"
   },
   {
    "duration": 7,
    "start_time": "2021-06-13T16:29:27.440Z"
   },
   {
    "duration": 17,
    "start_time": "2021-06-13T16:29:42.648Z"
   },
   {
    "duration": 45,
    "start_time": "2021-06-13T16:29:50.648Z"
   },
   {
    "duration": 46,
    "start_time": "2021-06-13T19:22:33.223Z"
   },
   {
    "duration": 3,
    "start_time": "2021-06-13T19:24:29.590Z"
   },
   {
    "duration": 152,
    "start_time": "2021-06-13T19:25:08.774Z"
   },
   {
    "duration": 111,
    "start_time": "2021-06-13T19:25:14.751Z"
   },
   {
    "duration": 6,
    "start_time": "2021-06-13T19:25:20.015Z"
   },
   {
    "duration": 328,
    "start_time": "2021-06-13T19:25:43.735Z"
   },
   {
    "duration": 7,
    "start_time": "2021-06-13T19:26:08.240Z"
   },
   {
    "duration": 32,
    "start_time": "2021-06-13T19:26:44.080Z"
   },
   {
    "duration": 19,
    "start_time": "2021-06-13T19:27:54.665Z"
   },
   {
    "duration": 9,
    "start_time": "2021-06-13T19:28:12.001Z"
   },
   {
    "duration": 7,
    "start_time": "2021-06-13T19:33:42.312Z"
   },
   {
    "duration": 384,
    "start_time": "2021-06-13T19:34:35.560Z"
   },
   {
    "duration": 313,
    "start_time": "2021-06-13T19:34:43.721Z"
   },
   {
    "duration": 8,
    "start_time": "2021-06-13T19:35:07.017Z"
   },
   {
    "duration": 6,
    "start_time": "2021-06-13T19:35:34.825Z"
   },
   {
    "duration": 10,
    "start_time": "2021-06-13T19:37:26.652Z"
   },
   {
    "duration": 772,
    "start_time": "2021-06-13T19:37:56.748Z"
   },
   {
    "duration": 8,
    "start_time": "2021-06-13T19:38:39.685Z"
   },
   {
    "duration": 9,
    "start_time": "2021-06-13T19:40:59.768Z"
   },
   {
    "duration": 6,
    "start_time": "2021-06-13T19:41:14.023Z"
   },
   {
    "duration": 8,
    "start_time": "2021-06-13T19:42:43.690Z"
   },
   {
    "duration": 7,
    "start_time": "2021-06-13T19:44:10.883Z"
   },
   {
    "duration": 6,
    "start_time": "2021-06-13T19:45:24.781Z"
   },
   {
    "duration": 6,
    "start_time": "2021-06-13T19:45:28.364Z"
   },
   {
    "duration": 9,
    "start_time": "2021-06-13T19:49:59.186Z"
   },
   {
    "duration": 6,
    "start_time": "2021-06-13T19:50:01.280Z"
   },
   {
    "duration": 6,
    "start_time": "2021-06-13T19:50:24.760Z"
   },
   {
    "duration": 351,
    "start_time": "2021-06-13T19:52:53.987Z"
   },
   {
    "duration": 15,
    "start_time": "2021-06-13T19:52:58.395Z"
   },
   {
    "duration": 6,
    "start_time": "2021-06-13T19:56:49.720Z"
   },
   {
    "duration": 5,
    "start_time": "2021-06-13T20:06:02.962Z"
   },
   {
    "duration": 6,
    "start_time": "2021-06-13T20:06:22.817Z"
   },
   {
    "duration": 9,
    "start_time": "2021-06-13T20:07:39.809Z"
   },
   {
    "duration": 115,
    "start_time": "2021-06-13T20:07:48.114Z"
   },
   {
    "duration": 7,
    "start_time": "2021-06-13T20:07:58.218Z"
   },
   {
    "duration": 7,
    "start_time": "2021-06-13T20:08:11.962Z"
   },
   {
    "duration": 6,
    "start_time": "2021-06-13T20:10:18.445Z"
   },
   {
    "duration": 7,
    "start_time": "2021-06-13T20:11:21.517Z"
   },
   {
    "duration": 6,
    "start_time": "2021-06-13T20:16:21.715Z"
   },
   {
    "duration": 5,
    "start_time": "2021-06-13T20:16:41.730Z"
   },
   {
    "duration": 22,
    "start_time": "2021-06-13T20:16:43.900Z"
   },
   {
    "duration": 19,
    "start_time": "2021-06-13T20:16:56.434Z"
   },
   {
    "duration": 379,
    "start_time": "2021-06-13T20:21:09.312Z"
   },
   {
    "duration": 89,
    "start_time": "2021-06-13T20:21:28.761Z"
   },
   {
    "duration": 340,
    "start_time": "2021-06-13T20:22:02.668Z"
   },
   {
    "duration": 75,
    "start_time": "2021-06-13T20:22:14.961Z"
   },
   {
    "duration": 284,
    "start_time": "2021-06-13T20:23:24.531Z"
   },
   {
    "duration": 75,
    "start_time": "2021-06-13T20:25:22.669Z"
   },
   {
    "duration": 60,
    "start_time": "2021-06-13T20:26:36.447Z"
   },
   {
    "duration": 59,
    "start_time": "2021-06-13T20:27:22.400Z"
   },
   {
    "duration": 315,
    "start_time": "2021-06-13T20:27:41.679Z"
   },
   {
    "duration": 31,
    "start_time": "2021-06-13T20:33:43.513Z"
   },
   {
    "duration": 191,
    "start_time": "2021-06-13T20:34:35.415Z"
   },
   {
    "duration": 59,
    "start_time": "2021-06-13T20:43:07.316Z"
   },
   {
    "duration": 348,
    "start_time": "2021-06-13T20:44:00.193Z"
   },
   {
    "duration": 7,
    "start_time": "2021-06-13T20:44:05.839Z"
   },
   {
    "duration": 403,
    "start_time": "2021-06-13T20:44:26.254Z"
   },
   {
    "duration": 349,
    "start_time": "2021-06-13T20:44:54.032Z"
   },
   {
    "duration": 8,
    "start_time": "2021-06-13T20:44:57.864Z"
   },
   {
    "duration": 275,
    "start_time": "2021-06-13T20:46:55.195Z"
   },
   {
    "duration": 373,
    "start_time": "2021-06-13T20:47:15.339Z"
   },
   {
    "duration": 71,
    "start_time": "2021-06-13T20:48:27.484Z"
   },
   {
    "duration": 222,
    "start_time": "2021-06-13T20:48:43.916Z"
   },
   {
    "duration": 70,
    "start_time": "2021-06-13T20:49:30.478Z"
   },
   {
    "duration": 72,
    "start_time": "2021-06-13T20:50:33.038Z"
   },
   {
    "duration": 62,
    "start_time": "2021-06-13T20:51:23.320Z"
   },
   {
    "duration": 62,
    "start_time": "2021-06-13T20:53:44.514Z"
   },
   {
    "duration": 57,
    "start_time": "2021-06-13T20:54:58.049Z"
   },
   {
    "duration": 58,
    "start_time": "2021-06-13T20:55:15.939Z"
   },
   {
    "duration": 55,
    "start_time": "2021-06-13T20:56:21.089Z"
   },
   {
    "duration": 92,
    "start_time": "2021-06-13T20:56:36.076Z"
   },
   {
    "duration": 59,
    "start_time": "2021-06-13T20:57:01.412Z"
   },
   {
    "duration": 8682,
    "start_time": "2021-06-13T20:57:04.484Z"
   },
   {
    "duration": 9086,
    "start_time": "2021-06-13T20:57:24.188Z"
   },
   {
    "duration": 8507,
    "start_time": "2021-06-13T20:57:52.000Z"
   },
   {
    "duration": 8732,
    "start_time": "2021-06-13T20:58:13.126Z"
   },
   {
    "duration": 8287,
    "start_time": "2021-06-13T20:58:36.800Z"
   },
   {
    "duration": 118,
    "start_time": "2021-06-13T21:00:54.921Z"
   },
   {
    "duration": 59,
    "start_time": "2021-06-13T21:01:07.732Z"
   },
   {
    "duration": 57,
    "start_time": "2021-06-13T22:22:52.707Z"
   },
   {
    "duration": 54,
    "start_time": "2021-06-13T22:24:07.892Z"
   },
   {
    "duration": 61,
    "start_time": "2021-06-13T22:24:17.083Z"
   },
   {
    "duration": 67,
    "start_time": "2021-06-13T22:25:16.344Z"
   },
   {
    "duration": 63,
    "start_time": "2021-06-13T22:27:42.200Z"
   },
   {
    "duration": 71,
    "start_time": "2021-06-13T22:30:26.256Z"
   },
   {
    "duration": 69,
    "start_time": "2021-06-13T22:30:52.787Z"
   },
   {
    "duration": 38,
    "start_time": "2021-06-13T22:31:46.499Z"
   },
   {
    "duration": 4,
    "start_time": "2021-06-13T22:38:14.165Z"
   },
   {
    "duration": 108,
    "start_time": "2021-06-13T22:39:34.299Z"
   },
   {
    "duration": 21,
    "start_time": "2021-06-13T22:39:48.268Z"
   },
   {
    "duration": 19,
    "start_time": "2021-06-13T22:40:21.732Z"
   },
   {
    "duration": 64,
    "start_time": "2021-06-13T22:41:21.767Z"
   },
   {
    "duration": 62,
    "start_time": "2021-06-13T22:42:27.801Z"
   },
   {
    "duration": 7,
    "start_time": "2021-06-13T22:44:35.873Z"
   },
   {
    "duration": 17,
    "start_time": "2021-06-13T22:48:25.590Z"
   },
   {
    "duration": 63,
    "start_time": "2021-06-13T22:49:25.215Z"
   },
   {
    "duration": 66,
    "start_time": "2021-06-13T22:54:08.758Z"
   },
   {
    "duration": 398,
    "start_time": "2021-06-13T23:03:58.965Z"
   },
   {
    "duration": 885,
    "start_time": "2021-06-13T23:04:15.109Z"
   },
   {
    "duration": 346,
    "start_time": "2021-06-13T23:04:46.366Z"
   },
   {
    "duration": 10,
    "start_time": "2021-06-13T23:04:57.909Z"
   },
   {
    "duration": 129,
    "start_time": "2021-06-13T23:11:58.477Z"
   },
   {
    "duration": 7,
    "start_time": "2021-06-13T23:12:06.068Z"
   },
   {
    "duration": 5,
    "start_time": "2021-06-13T23:12:40.549Z"
   },
   {
    "duration": 7,
    "start_time": "2021-06-13T23:12:52.069Z"
   },
   {
    "duration": 7,
    "start_time": "2021-06-13T23:13:00.674Z"
   },
   {
    "duration": 7,
    "start_time": "2021-06-13T23:13:09.549Z"
   },
   {
    "duration": 7,
    "start_time": "2021-06-13T23:13:11.766Z"
   },
   {
    "duration": 7,
    "start_time": "2021-06-13T23:13:21.110Z"
   },
   {
    "duration": 7,
    "start_time": "2021-06-13T23:14:19.767Z"
   },
   {
    "duration": 11,
    "start_time": "2021-06-13T23:16:09.140Z"
   },
   {
    "duration": 10,
    "start_time": "2021-06-13T23:17:02.927Z"
   },
   {
    "duration": 11,
    "start_time": "2021-06-13T23:17:14.971Z"
   },
   {
    "duration": 11,
    "start_time": "2021-06-13T23:18:00.731Z"
   },
   {
    "duration": 122,
    "start_time": "2021-06-13T23:20:26.631Z"
   },
   {
    "duration": 106,
    "start_time": "2021-06-13T23:20:33.759Z"
   },
   {
    "duration": 6,
    "start_time": "2021-06-13T23:20:37.030Z"
   },
   {
    "duration": 13,
    "start_time": "2021-06-13T23:20:43.875Z"
   },
   {
    "duration": 19,
    "start_time": "2021-06-13T23:21:45.023Z"
   },
   {
    "duration": 17,
    "start_time": "2021-06-13T23:22:14.720Z"
   },
   {
    "duration": 16,
    "start_time": "2021-06-13T23:23:35.227Z"
   },
   {
    "duration": 373,
    "start_time": "2021-06-13T23:24:10.930Z"
   },
   {
    "duration": 18,
    "start_time": "2021-06-13T23:24:22.779Z"
   },
   {
    "duration": 20,
    "start_time": "2021-06-13T23:26:04.845Z"
   },
   {
    "duration": 20,
    "start_time": "2021-06-13T23:27:45.770Z"
   },
   {
    "duration": 32,
    "start_time": "2021-06-13T23:35:40.957Z"
   },
   {
    "duration": 72,
    "start_time": "2021-06-13T23:38:39.120Z"
   },
   {
    "duration": 757,
    "start_time": "2021-06-14T06:45:25.671Z"
   },
   {
    "duration": 332,
    "start_time": "2021-06-14T06:45:26.431Z"
   },
   {
    "duration": 15,
    "start_time": "2021-06-14T06:45:26.766Z"
   },
   {
    "duration": 44,
    "start_time": "2021-06-14T06:45:26.783Z"
   },
   {
    "duration": 23,
    "start_time": "2021-06-14T06:45:26.829Z"
   },
   {
    "duration": 23,
    "start_time": "2021-06-14T06:45:26.854Z"
   },
   {
    "duration": 6,
    "start_time": "2021-06-14T06:45:26.880Z"
   },
   {
    "duration": 5,
    "start_time": "2021-06-14T06:45:26.924Z"
   },
   {
    "duration": 14,
    "start_time": "2021-06-14T06:45:26.932Z"
   },
   {
    "duration": 14,
    "start_time": "2021-06-14T06:45:26.948Z"
   },
   {
    "duration": 6,
    "start_time": "2021-06-14T06:45:26.965Z"
   },
   {
    "duration": 52,
    "start_time": "2021-06-14T06:45:26.973Z"
   },
   {
    "duration": 20,
    "start_time": "2021-06-14T06:45:27.028Z"
   },
   {
    "duration": 21,
    "start_time": "2021-06-14T06:45:27.050Z"
   },
   {
    "duration": 14,
    "start_time": "2021-06-14T06:45:27.073Z"
   },
   {
    "duration": 44,
    "start_time": "2021-06-14T06:45:27.089Z"
   },
   {
    "duration": 48,
    "start_time": "2021-06-14T06:45:27.135Z"
   },
   {
    "duration": 8,
    "start_time": "2021-06-14T06:45:27.186Z"
   },
   {
    "duration": 40,
    "start_time": "2021-06-14T06:45:27.225Z"
   },
   {
    "duration": 34,
    "start_time": "2021-06-14T06:45:27.268Z"
   },
   {
    "duration": 21,
    "start_time": "2021-06-14T06:45:27.304Z"
   },
   {
    "duration": 16,
    "start_time": "2021-06-14T06:45:27.328Z"
   },
   {
    "duration": 7,
    "start_time": "2021-06-14T06:45:27.350Z"
   },
   {
    "duration": 3,
    "start_time": "2021-06-14T06:45:27.360Z"
   },
   {
    "duration": 9,
    "start_time": "2021-06-14T06:45:27.366Z"
   },
   {
    "duration": 49,
    "start_time": "2021-06-14T06:45:27.378Z"
   },
   {
    "duration": 10,
    "start_time": "2021-06-14T06:45:27.430Z"
   },
   {
    "duration": 16,
    "start_time": "2021-06-14T06:45:27.443Z"
   },
   {
    "duration": 75,
    "start_time": "2021-06-14T06:45:27.462Z"
   },
   {
    "duration": 6,
    "start_time": "2021-06-14T06:45:27.540Z"
   },
   {
    "duration": 27,
    "start_time": "2021-06-14T06:45:27.549Z"
   },
   {
    "duration": 18,
    "start_time": "2021-06-14T06:45:27.578Z"
   },
   {
    "duration": 8,
    "start_time": "2021-06-14T06:45:27.626Z"
   },
   {
    "duration": 89,
    "start_time": "2021-06-14T06:45:27.637Z"
   },
   {
    "duration": 66,
    "start_time": "2021-06-14T06:45:27.729Z"
   },
   {
    "duration": 63,
    "start_time": "2021-06-14T06:45:27.798Z"
   },
   {
    "duration": 23,
    "start_time": "2021-06-14T06:45:27.863Z"
   },
   {
    "duration": 88,
    "start_time": "2021-06-14T06:45:27.889Z"
   },
   {
    "duration": 75,
    "start_time": "2021-06-14T06:45:27.980Z"
   },
   {
    "duration": 70,
    "start_time": "2021-06-14T06:45:28.057Z"
   },
   {
    "duration": 10,
    "start_time": "2021-06-14T06:45:28.129Z"
   },
   {
    "duration": 16,
    "start_time": "2021-06-14T06:45:28.142Z"
   },
   {
    "duration": 79,
    "start_time": "2021-06-14T06:45:28.162Z"
   },
   {
    "duration": 102,
    "start_time": "2021-06-14T06:45:28.244Z"
   },
   {
    "duration": 338,
    "start_time": "2021-06-15T07:15:01.374Z"
   },
   {
    "duration": 726,
    "start_time": "2021-06-15T07:15:37.370Z"
   },
   {
    "duration": 241,
    "start_time": "2021-06-15T07:15:38.099Z"
   },
   {
    "duration": 18,
    "start_time": "2021-06-15T07:15:38.343Z"
   },
   {
    "duration": 48,
    "start_time": "2021-06-15T07:15:38.364Z"
   },
   {
    "duration": 28,
    "start_time": "2021-06-15T07:15:38.415Z"
   },
   {
    "duration": 28,
    "start_time": "2021-06-15T07:15:38.446Z"
   },
   {
    "duration": 3,
    "start_time": "2021-06-15T07:15:38.476Z"
   },
   {
    "duration": 87,
    "start_time": "2021-06-15T07:15:38.483Z"
   },
   {
    "duration": 5,
    "start_time": "2021-06-15T07:15:38.574Z"
   },
   {
    "duration": 21,
    "start_time": "2021-06-15T07:15:38.582Z"
   },
   {
    "duration": 30,
    "start_time": "2021-06-15T07:15:38.606Z"
   },
   {
    "duration": 19,
    "start_time": "2021-06-15T07:15:38.638Z"
   },
   {
    "duration": 6,
    "start_time": "2021-06-15T07:15:38.659Z"
   },
   {
    "duration": 21,
    "start_time": "2021-06-15T07:15:38.668Z"
   },
   {
    "duration": 49,
    "start_time": "2021-06-15T07:15:38.692Z"
   },
   {
    "duration": 21,
    "start_time": "2021-06-15T07:15:38.743Z"
   },
   {
    "duration": 15,
    "start_time": "2021-06-15T07:15:38.766Z"
   },
   {
    "duration": 41,
    "start_time": "2021-06-15T07:15:38.784Z"
   },
   {
    "duration": 45,
    "start_time": "2021-06-15T07:15:38.827Z"
   },
   {
    "duration": 6,
    "start_time": "2021-06-15T07:15:38.874Z"
   },
   {
    "duration": 60,
    "start_time": "2021-06-15T07:15:38.883Z"
   },
   {
    "duration": 20,
    "start_time": "2021-06-15T07:15:38.946Z"
   },
   {
    "duration": 6,
    "start_time": "2021-06-15T07:15:38.971Z"
   },
   {
    "duration": 6,
    "start_time": "2021-06-15T07:15:38.981Z"
   },
   {
    "duration": 38,
    "start_time": "2021-06-15T07:15:38.990Z"
   },
   {
    "duration": 7,
    "start_time": "2021-06-15T07:15:39.031Z"
   },
   {
    "duration": 11,
    "start_time": "2021-06-15T07:15:39.041Z"
   },
   {
    "duration": 21,
    "start_time": "2021-06-15T07:15:39.055Z"
   },
   {
    "duration": 7,
    "start_time": "2021-06-15T07:15:39.078Z"
   },
   {
    "duration": 49,
    "start_time": "2021-06-15T07:15:39.088Z"
   },
   {
    "duration": 47,
    "start_time": "2021-06-15T07:15:39.140Z"
   },
   {
    "duration": 6,
    "start_time": "2021-06-15T07:15:39.190Z"
   },
   {
    "duration": 44,
    "start_time": "2021-06-15T07:15:39.199Z"
   },
   {
    "duration": 21,
    "start_time": "2021-06-15T07:15:39.246Z"
   },
   {
    "duration": 10,
    "start_time": "2021-06-15T07:15:39.270Z"
   },
   {
    "duration": 109,
    "start_time": "2021-06-15T07:15:39.282Z"
   },
   {
    "duration": 79,
    "start_time": "2021-06-15T07:15:39.393Z"
   },
   {
    "duration": 52,
    "start_time": "2021-06-15T07:15:39.475Z"
   },
   {
    "duration": 18,
    "start_time": "2021-06-15T07:15:39.529Z"
   },
   {
    "duration": 89,
    "start_time": "2021-06-15T07:15:39.550Z"
   },
   {
    "duration": 83,
    "start_time": "2021-06-15T07:15:39.642Z"
   },
   {
    "duration": 59,
    "start_time": "2021-06-15T07:15:39.727Z"
   },
   {
    "duration": 11,
    "start_time": "2021-06-15T07:15:39.788Z"
   },
   {
    "duration": 24,
    "start_time": "2021-06-15T07:15:39.825Z"
   },
   {
    "duration": 32,
    "start_time": "2021-06-15T07:15:39.851Z"
   },
   {
    "duration": 108,
    "start_time": "2021-06-15T07:15:39.885Z"
   },
   {
    "duration": 4,
    "start_time": "2021-06-15T07:18:40.548Z"
   },
   {
    "duration": 45,
    "start_time": "2021-06-15T07:18:44.267Z"
   },
   {
    "duration": 86,
    "start_time": "2021-06-15T07:32:43.999Z"
   },
   {
    "duration": 29,
    "start_time": "2021-06-15T07:32:45.930Z"
   },
   {
    "duration": 29,
    "start_time": "2021-06-15T07:33:33.752Z"
   },
   {
    "duration": 18,
    "start_time": "2021-06-15T07:33:35.024Z"
   },
   {
    "duration": 11,
    "start_time": "2021-06-15T07:33:47.089Z"
   },
   {
    "duration": 25,
    "start_time": "2021-06-15T07:36:58.485Z"
   },
   {
    "duration": 1268,
    "start_time": "2021-06-15T07:37:02.949Z"
   },
   {
    "duration": 8,
    "start_time": "2021-06-15T07:37:29.277Z"
   },
   {
    "duration": 6,
    "start_time": "2021-06-15T07:38:14.303Z"
   },
   {
    "duration": 8,
    "start_time": "2021-06-15T07:38:16.278Z"
   },
   {
    "duration": 759,
    "start_time": "2021-06-15T07:38:27.422Z"
   },
   {
    "duration": 232,
    "start_time": "2021-06-15T07:38:28.184Z"
   },
   {
    "duration": 17,
    "start_time": "2021-06-15T07:38:28.420Z"
   },
   {
    "duration": 20,
    "start_time": "2021-06-15T07:38:28.440Z"
   },
   {
    "duration": 23,
    "start_time": "2021-06-15T07:38:28.463Z"
   },
   {
    "duration": 51,
    "start_time": "2021-06-15T07:38:28.489Z"
   },
   {
    "duration": 5,
    "start_time": "2021-06-15T07:38:28.542Z"
   },
   {
    "duration": 7,
    "start_time": "2021-06-15T07:38:28.550Z"
   },
   {
    "duration": 7,
    "start_time": "2021-06-15T07:38:28.560Z"
   },
   {
    "duration": 12,
    "start_time": "2021-06-15T07:38:28.569Z"
   },
   {
    "duration": 48,
    "start_time": "2021-06-15T07:38:28.583Z"
   },
   {
    "duration": 6,
    "start_time": "2021-06-15T07:38:28.634Z"
   },
   {
    "duration": 15,
    "start_time": "2021-06-15T07:38:28.642Z"
   },
   {
    "duration": 88,
    "start_time": "2021-06-15T07:38:28.659Z"
   },
   {
    "duration": 22,
    "start_time": "2021-06-15T07:38:28.749Z"
   },
   {
    "duration": 22,
    "start_time": "2021-06-15T07:38:28.774Z"
   },
   {
    "duration": 39,
    "start_time": "2021-06-15T07:38:28.798Z"
   },
   {
    "duration": 11,
    "start_time": "2021-06-15T07:38:28.840Z"
   },
   {
    "duration": 72,
    "start_time": "2021-06-15T07:38:28.854Z"
   },
   {
    "duration": 7,
    "start_time": "2021-06-15T07:38:28.929Z"
   },
   {
    "duration": 40,
    "start_time": "2021-06-15T07:38:28.938Z"
   },
   {
    "duration": 44,
    "start_time": "2021-06-15T07:38:28.980Z"
   },
   {
    "duration": 7,
    "start_time": "2021-06-15T07:38:29.029Z"
   },
   {
    "duration": 11,
    "start_time": "2021-06-15T07:38:29.039Z"
   },
   {
    "duration": 6,
    "start_time": "2021-06-15T07:38:29.053Z"
   },
   {
    "duration": 3,
    "start_time": "2021-06-15T07:38:29.062Z"
   },
   {
    "duration": 9,
    "start_time": "2021-06-15T07:38:29.067Z"
   },
   {
    "duration": 49,
    "start_time": "2021-06-15T07:38:29.079Z"
   },
   {
    "duration": 7,
    "start_time": "2021-06-15T07:38:29.131Z"
   },
   {
    "duration": 23,
    "start_time": "2021-06-15T07:38:29.141Z"
   },
   {
    "duration": 60,
    "start_time": "2021-06-15T07:38:29.167Z"
   },
   {
    "duration": 6,
    "start_time": "2021-06-15T07:38:29.230Z"
   },
   {
    "duration": 25,
    "start_time": "2021-06-15T07:38:29.239Z"
   },
   {
    "duration": 19,
    "start_time": "2021-06-15T07:38:29.266Z"
   },
   {
    "duration": 38,
    "start_time": "2021-06-15T07:38:29.288Z"
   },
   {
    "duration": 7,
    "start_time": "2021-06-15T07:38:29.328Z"
   },
   {
    "duration": 89,
    "start_time": "2021-06-15T07:38:29.337Z"
   },
   {
    "duration": 67,
    "start_time": "2021-06-15T07:38:29.429Z"
   },
   {
    "duration": 52,
    "start_time": "2021-06-15T07:38:29.499Z"
   },
   {
    "duration": 24,
    "start_time": "2021-06-15T07:38:29.554Z"
   },
   {
    "duration": 87,
    "start_time": "2021-06-15T07:38:29.581Z"
   },
   {
    "duration": 70,
    "start_time": "2021-06-15T07:38:29.671Z"
   },
   {
    "duration": 58,
    "start_time": "2021-06-15T07:38:29.744Z"
   },
   {
    "duration": 28,
    "start_time": "2021-06-15T07:38:29.804Z"
   },
   {
    "duration": 20,
    "start_time": "2021-06-15T07:38:29.835Z"
   },
   {
    "duration": 30,
    "start_time": "2021-06-15T07:38:29.857Z"
   },
   {
    "duration": 119,
    "start_time": "2021-06-15T07:38:29.889Z"
   },
   {
    "duration": 10,
    "start_time": "2021-06-15T07:41:06.598Z"
   },
   {
    "duration": 8,
    "start_time": "2021-06-15T07:41:08.797Z"
   },
   {
    "duration": 61,
    "start_time": "2021-06-15T07:41:11.911Z"
   },
   {
    "duration": 758,
    "start_time": "2021-06-15T07:42:49.400Z"
   },
   {
    "duration": 75,
    "start_time": "2021-06-15T07:43:32.497Z"
   },
   {
    "duration": 67,
    "start_time": "2021-06-15T07:44:18.483Z"
   },
   {
    "duration": 63,
    "start_time": "2021-06-15T07:44:37.097Z"
   },
   {
    "duration": 124,
    "start_time": "2021-06-15T07:44:57.058Z"
   },
   {
    "duration": 72,
    "start_time": "2021-06-15T07:45:05.899Z"
   },
   {
    "duration": 32,
    "start_time": "2021-06-15T07:47:28.446Z"
   },
   {
    "duration": 77,
    "start_time": "2021-06-15T07:47:30.661Z"
   },
   {
    "duration": 32,
    "start_time": "2021-06-15T07:47:53.942Z"
   },
   {
    "duration": 73,
    "start_time": "2021-06-15T07:47:56.413Z"
   },
   {
    "duration": 387,
    "start_time": "2021-06-15T10:48:46.153Z"
   },
   {
    "duration": 17,
    "start_time": "2021-06-15T10:48:52.808Z"
   },
   {
    "duration": 366,
    "start_time": "2021-06-15T10:49:52.129Z"
   },
   {
    "duration": 27,
    "start_time": "2021-06-15T10:50:03.105Z"
   },
   {
    "duration": 829,
    "start_time": "2021-06-15T10:50:37.439Z"
   },
   {
    "duration": 248,
    "start_time": "2021-06-15T10:50:38.271Z"
   },
   {
    "duration": 14,
    "start_time": "2021-06-15T10:50:38.522Z"
   },
   {
    "duration": 23,
    "start_time": "2021-06-15T10:50:38.539Z"
   },
   {
    "duration": 25,
    "start_time": "2021-06-15T10:50:38.564Z"
   },
   {
    "duration": 42,
    "start_time": "2021-06-15T10:50:38.592Z"
   },
   {
    "duration": 4,
    "start_time": "2021-06-15T10:50:38.637Z"
   },
   {
    "duration": 23,
    "start_time": "2021-06-15T10:50:38.645Z"
   },
   {
    "duration": 11,
    "start_time": "2021-06-15T10:50:38.671Z"
   },
   {
    "duration": 33,
    "start_time": "2021-06-15T10:50:38.685Z"
   },
   {
    "duration": 24,
    "start_time": "2021-06-15T10:50:38.721Z"
   },
   {
    "duration": 18,
    "start_time": "2021-06-15T10:50:38.748Z"
   },
   {
    "duration": 25,
    "start_time": "2021-06-15T10:50:38.768Z"
   },
   {
    "duration": 58,
    "start_time": "2021-06-15T10:50:38.796Z"
   },
   {
    "duration": 23,
    "start_time": "2021-06-15T10:50:38.857Z"
   },
   {
    "duration": 22,
    "start_time": "2021-06-15T10:50:38.882Z"
   },
   {
    "duration": 31,
    "start_time": "2021-06-15T10:50:38.906Z"
   },
   {
    "duration": 19,
    "start_time": "2021-06-15T10:50:38.940Z"
   },
   {
    "duration": 64,
    "start_time": "2021-06-15T10:50:38.961Z"
   },
   {
    "duration": 6,
    "start_time": "2021-06-15T10:50:39.027Z"
   },
   {
    "duration": 43,
    "start_time": "2021-06-15T10:50:39.035Z"
   },
   {
    "duration": 35,
    "start_time": "2021-06-15T10:50:39.081Z"
   },
   {
    "duration": 7,
    "start_time": "2021-06-15T10:50:39.121Z"
   },
   {
    "duration": 16,
    "start_time": "2021-06-15T10:50:39.130Z"
   },
   {
    "duration": 9,
    "start_time": "2021-06-15T10:50:39.148Z"
   },
   {
    "duration": 13,
    "start_time": "2021-06-15T10:50:39.159Z"
   },
   {
    "duration": 23,
    "start_time": "2021-06-15T10:50:39.175Z"
   },
   {
    "duration": 14,
    "start_time": "2021-06-15T10:50:39.200Z"
   },
   {
    "duration": 22,
    "start_time": "2021-06-15T10:50:39.216Z"
   },
   {
    "duration": 35,
    "start_time": "2021-06-15T10:50:39.240Z"
   },
   {
    "duration": 53,
    "start_time": "2021-06-15T10:50:39.277Z"
   },
   {
    "duration": 6,
    "start_time": "2021-06-15T10:50:39.332Z"
   },
   {
    "duration": 23,
    "start_time": "2021-06-15T10:50:39.340Z"
   },
   {
    "duration": 28,
    "start_time": "2021-06-15T10:50:39.365Z"
   },
   {
    "duration": 37,
    "start_time": "2021-06-15T10:50:39.396Z"
   },
   {
    "duration": 7,
    "start_time": "2021-06-15T10:50:39.436Z"
   },
   {
    "duration": 802,
    "start_time": "2021-06-15T10:50:39.445Z"
   },
   {
    "duration": 94,
    "start_time": "2021-06-15T10:50:40.249Z"
   },
   {
    "duration": 37,
    "start_time": "2021-06-15T10:50:40.345Z"
   },
   {
    "duration": 47,
    "start_time": "2021-06-15T10:50:40.385Z"
   },
   {
    "duration": 67,
    "start_time": "2021-06-15T10:50:40.434Z"
   },
   {
    "duration": 78,
    "start_time": "2021-06-15T10:50:40.504Z"
   },
   {
    "duration": 129,
    "start_time": "2021-06-15T10:50:40.584Z"
   },
   {
    "duration": 16,
    "start_time": "2021-06-15T10:50:40.715Z"
   },
   {
    "duration": 24,
    "start_time": "2021-06-15T10:50:40.733Z"
   },
   {
    "duration": 35,
    "start_time": "2021-06-15T10:50:40.759Z"
   },
   {
    "duration": 80,
    "start_time": "2021-06-15T10:50:40.825Z"
   },
   {
    "duration": 728,
    "start_time": "2021-06-15T13:03:57.337Z"
   },
   {
    "duration": 229,
    "start_time": "2021-06-15T13:03:58.067Z"
   },
   {
    "duration": 14,
    "start_time": "2021-06-15T13:03:58.299Z"
   },
   {
    "duration": 20,
    "start_time": "2021-06-15T13:03:58.315Z"
   },
   {
    "duration": 52,
    "start_time": "2021-06-15T13:03:58.338Z"
   },
   {
    "duration": 22,
    "start_time": "2021-06-15T13:03:58.392Z"
   },
   {
    "duration": 4,
    "start_time": "2021-06-15T13:03:58.416Z"
   },
   {
    "duration": 7,
    "start_time": "2021-06-15T13:03:58.424Z"
   },
   {
    "duration": 11,
    "start_time": "2021-06-15T13:03:58.434Z"
   },
   {
    "duration": 46,
    "start_time": "2021-06-15T13:03:58.447Z"
   },
   {
    "duration": 14,
    "start_time": "2021-06-15T13:03:58.496Z"
   },
   {
    "duration": 5,
    "start_time": "2021-06-15T13:03:58.512Z"
   },
   {
    "duration": 16,
    "start_time": "2021-06-15T13:03:58.520Z"
   },
   {
    "duration": 92,
    "start_time": "2021-06-15T13:03:58.538Z"
   },
   {
    "duration": 20,
    "start_time": "2021-06-15T13:03:58.633Z"
   },
   {
    "duration": 41,
    "start_time": "2021-06-15T13:03:58.656Z"
   },
   {
    "duration": 14,
    "start_time": "2021-06-15T13:03:58.700Z"
   },
   {
    "duration": 13,
    "start_time": "2021-06-15T13:03:58.717Z"
   },
   {
    "duration": 81,
    "start_time": "2021-06-15T13:03:58.733Z"
   },
   {
    "duration": 7,
    "start_time": "2021-06-15T13:03:58.817Z"
   },
   {
    "duration": 66,
    "start_time": "2021-06-15T13:03:58.827Z"
   },
   {
    "duration": 24,
    "start_time": "2021-06-15T13:03:58.897Z"
   },
   {
    "duration": 6,
    "start_time": "2021-06-15T13:03:58.927Z"
   },
   {
    "duration": 46,
    "start_time": "2021-06-15T13:03:58.937Z"
   },
   {
    "duration": 7,
    "start_time": "2021-06-15T13:03:58.986Z"
   },
   {
    "duration": 5,
    "start_time": "2021-06-15T13:03:58.996Z"
   },
   {
    "duration": 9,
    "start_time": "2021-06-15T13:03:59.004Z"
   },
   {
    "duration": 11,
    "start_time": "2021-06-15T13:03:59.016Z"
   },
   {
    "duration": 9,
    "start_time": "2021-06-15T13:03:59.029Z"
   },
   {
    "duration": 14,
    "start_time": "2021-06-15T13:03:59.084Z"
   },
   {
    "duration": 43,
    "start_time": "2021-06-15T13:03:59.100Z"
   },
   {
    "duration": 38,
    "start_time": "2021-06-15T13:03:59.145Z"
   },
   {
    "duration": 22,
    "start_time": "2021-06-15T13:03:59.185Z"
   },
   {
    "duration": 22,
    "start_time": "2021-06-15T13:03:59.210Z"
   },
   {
    "duration": 15,
    "start_time": "2021-06-15T13:03:59.234Z"
   },
   {
    "duration": 33,
    "start_time": "2021-06-15T13:03:59.252Z"
   },
   {
    "duration": 1132,
    "start_time": "2021-06-15T13:03:59.287Z"
   },
   {
    "duration": 101,
    "start_time": "2021-06-15T13:04:00.422Z"
   },
   {
    "duration": 37,
    "start_time": "2021-06-15T13:04:00.525Z"
   },
   {
    "duration": 39,
    "start_time": "2021-06-15T13:04:00.564Z"
   },
   {
    "duration": 80,
    "start_time": "2021-06-15T13:04:00.605Z"
   },
   {
    "duration": 69,
    "start_time": "2021-06-15T13:04:00.687Z"
   },
   {
    "duration": 140,
    "start_time": "2021-06-15T13:04:00.758Z"
   },
   {
    "duration": 13,
    "start_time": "2021-06-15T13:04:00.900Z"
   },
   {
    "duration": 23,
    "start_time": "2021-06-15T13:04:00.916Z"
   },
   {
    "duration": 64,
    "start_time": "2021-06-15T13:04:00.942Z"
   },
   {
    "duration": 97,
    "start_time": "2021-06-15T13:04:01.009Z"
   }
  ],
  "kernelspec": {
   "display_name": "Python 3",
   "language": "python",
   "name": "python3"
  },
  "language_info": {
   "codemirror_mode": {
    "name": "ipython",
    "version": 3
   },
   "file_extension": ".py",
   "mimetype": "text/x-python",
   "name": "python",
   "nbconvert_exporter": "python",
   "pygments_lexer": "ipython3",
   "version": "3.9.4"
  },
  "toc": {
   "base_numbering": 1,
   "nav_menu": {},
   "number_sections": true,
   "sideBar": true,
   "skip_h1_title": true,
   "title_cell": "Table of Contents",
   "title_sidebar": "Contents",
   "toc_cell": false,
   "toc_position": {},
   "toc_section_display": true,
   "toc_window_display": false
  }
 },
 "nbformat": 4,
 "nbformat_minor": 2
}
