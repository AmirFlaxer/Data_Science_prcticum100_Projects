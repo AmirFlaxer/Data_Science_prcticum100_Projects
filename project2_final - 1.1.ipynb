{
 "cells": [
  {
   "cell_type": "markdown",
   "metadata": {},
   "source": [
    "# Review(2)\n",
    "Thanks for your update. Now the project is accepted! You fixed the error just perfectly. Often, due to different versions of python, many code cells do not run. Such a small piece of code allows you to almost completely get rid of the\" misunderstanding \" between the two versions. 😀 "
   ]
  },
  {
   "cell_type": "markdown",
   "metadata": {},
   "source": [
    "Good luck in future learning!"
   ]
  },
  {
   "cell_type": "markdown",
   "metadata": {},
   "source": [
    "Hello, my name is Ivan Alexeev and I am going to review your project."
   ]
  },
  {
   "cell_type": "markdown",
   "metadata": {},
   "source": [
    "There may be some shortcomings in the work that I will ask you to eliminate, you fix them and I check your decisions. You can find my comments in <font color='green'>green</font>, <font color='orange'>orange</font> or <font color='red'>red</font> boxes like this:"
   ]
  },
  {
   "cell_type": "markdown",
   "metadata": {},
   "source": [
    "<div class=\"alert alert-success\" style=\"box-shadow: 4px 4px 4px\">\n",
    "Success: if everything is done successfully\n",
    "</div>"
   ]
  },
  {
   "cell_type": "markdown",
   "metadata": {},
   "source": [
    "<div class=\"alert alert-warning\" style=\"box-shadow: 4px 4px 4px\">\n",
    "Remark: if I can give some recommendations or additional information\n",
    "</div>"
   ]
  },
  {
   "cell_type": "markdown",
   "metadata": {},
   "source": [
    "<div class=\"alert alert-danger\" style=\"box-shadow: 4px 4px 4px\">\n",
    "Need fixing: if the block requires some corrections. Work can't be accepted with the red comments\n",
    "</div>"
   ]
  },
  {
   "cell_type": "markdown",
   "metadata": {},
   "source": [
    "Thank you for taking time to complete this project, I appreciate the amount of work you've done! There are some issues that you need to work on, but overall it is a great start! "
   ]
  },
  {
   "cell_type": "markdown",
   "metadata": {},
   "source": [
    "Please, don't delete my comments) "
   ]
  },
  {
   "cell_type": "markdown",
   "metadata": {},
   "source": [
    "# General feedback\n",
    "First of all, it is a great start! You did a great job with automation! Almost everywhere there are loops and the use of functions. Many of the methods used are simply amazing. I was particularly fascinated by <code>.query()</code> method and scatter_matrix. Unfortunately, there are some comments on the work. First, write a more detailed introduction. This will help other people understand your work better. Moreover, write more additional information in markdown. A more understandable code will always be more valuable. I would also like to say that it is not usual to leave empty code cells. Sure, this is not a mistake in this work, but it is better not to do this in real reports. I also want to ask you to take out information about future actions in markdown instead of commenting in the code. People who read the work often do not look at the code cells and, thus, the work will be less appreciated. Therefore, I also want to emphasize that it is undesirable to output just a number. You should always sign what this number means.\n",
    "\n",
    "Unfortunately, there are some serious mistakes in your work. Most of them are related to the fact that some part of the code did not run. Also, label axes of all of the graphs. Please fix the errors and send them to me. Good luck!"
   ]
  },
  {
   "cell_type": "markdown",
   "metadata": {},
   "source": [
    "# Research on car sales ads\n",
    "\n",
    "You're an analyst at Crankshaft List. Hundreds of free advertisements for vehicles are published on your site every day.\n",
    "\n",
    "You need to study data collected over the last few years and determine which factors influence the price of a vehicle. "
   ]
  },
  {
   "cell_type": "markdown",
   "metadata": {},
   "source": [
    "<div class=\"alert alert-warning\" style=\"box-shadow: 4px 4px 4px\">\n",
    "Remark: in real reports it is better to write more information in the introduction. For instance, a small plan can be written, more information about dataset can be added. \n",
    "</div>"
   ]
  },
  {
   "cell_type": "markdown",
   "metadata": {},
   "source": [
    "## Open the data file and study the general information. "
   ]
  },
  {
   "cell_type": "code",
   "execution_count": 1,
   "metadata": {},
   "outputs": [],
   "source": [
    "# import pandas and numpy library\n",
    "import numpy as np\n",
    "import pandas as pd\n",
    "from pandas.plotting import scatter_matrix"
   ]
  },
  {
   "cell_type": "markdown",
   "metadata": {},
   "source": [
    "<div class=\"alert alert-info\">\n",
    "  <strong>My fix!</strong> here is what I added / changed\n",
    "</div>"
   ]
  },
  {
   "cell_type": "code",
   "execution_count": 2,
   "metadata": {},
   "outputs": [
    {
     "name": "stdout",
     "output_type": "stream",
     "text": [
      "Defaulting to user installation because normal site-packages is not writeable\n",
      "Requirement already up-to-date: pandas in /home/jovyan/.local/lib/python3.7/site-packages (1.2.5)\n",
      "Requirement already satisfied, skipping upgrade: numpy>=1.16.5 in /opt/conda/lib/python3.7/site-packages (from pandas) (1.19.5)\n",
      "Requirement already satisfied, skipping upgrade: python-dateutil>=2.7.3 in /opt/conda/lib/python3.7/site-packages (from pandas) (2.8.1)\n",
      "Requirement already satisfied, skipping upgrade: pytz>=2017.3 in /opt/conda/lib/python3.7/site-packages (from pandas) (2021.1)\n",
      "Requirement already satisfied, skipping upgrade: six>=1.5 in /opt/conda/lib/python3.7/site-packages (from python-dateutil>=2.7.3->pandas) (1.15.0)\n",
      "Defaulting to user installation because normal site-packages is not writeable\n",
      "Requirement already up-to-date: matplotlib in /home/jovyan/.local/lib/python3.7/site-packages (3.4.2)\n",
      "Requirement already satisfied, skipping upgrade: numpy>=1.16 in /opt/conda/lib/python3.7/site-packages (from matplotlib) (1.19.5)\n",
      "Requirement already satisfied, skipping upgrade: kiwisolver>=1.0.1 in /opt/conda/lib/python3.7/site-packages (from matplotlib) (1.3.1)\n",
      "Requirement already satisfied, skipping upgrade: pyparsing>=2.2.1 in /opt/conda/lib/python3.7/site-packages (from matplotlib) (2.4.7)\n",
      "Requirement already satisfied, skipping upgrade: python-dateutil>=2.7 in /opt/conda/lib/python3.7/site-packages (from matplotlib) (2.8.1)\n",
      "Requirement already satisfied, skipping upgrade: cycler>=0.10 in /opt/conda/lib/python3.7/site-packages (from matplotlib) (0.10.0)\n",
      "Requirement already satisfied, skipping upgrade: pillow>=6.2.0 in /opt/conda/lib/python3.7/site-packages (from matplotlib) (7.0.0)\n",
      "Requirement already satisfied, skipping upgrade: six>=1.5 in /opt/conda/lib/python3.7/site-packages (from python-dateutil>=2.7->matplotlib) (1.15.0)\n"
     ]
    }
   ],
   "source": [
    "#update librarys: pandas and matplotlib\n",
    "!pip install -U pandas\n",
    "!pip install -U matplotlib"
   ]
  },
  {
   "cell_type": "markdown",
   "metadata": {},
   "source": [
    "<div class=\"alert alert-success\" style=\"box-shadow: 4px 4px 4px\">\n",
    "Success: this is the most brilliant idea of all possible! \n",
    "</div>"
   ]
  },
  {
   "cell_type": "code",
   "execution_count": 104,
   "metadata": {},
   "outputs": [],
   "source": [
    "#read input data\n",
    "try:\n",
    "    df=pd.read_csv(\"vehicles_us.csv\",sep=\",\")\n",
    "except:\n",
    "    df=pd.read_csv(\"/datasets/vehicles_us.csv\",sep=\",\")"
   ]
  },
  {
   "cell_type": "markdown",
   "metadata": {},
   "source": [
    "<div class=\"alert alert-success\" style=\"box-shadow: 4px 4px 4px\">\n",
    "Success: great that try-except method was used!\n",
    "</div>"
   ]
  },
  {
   "cell_type": "code",
   "execution_count": 4,
   "metadata": {},
   "outputs": [
    {
     "name": "stdout",
     "output_type": "stream",
     "text": [
      "<class 'pandas.core.frame.DataFrame'>\n",
      "RangeIndex: 51525 entries, 0 to 51524\n",
      "Data columns (total 13 columns):\n",
      " #   Column        Non-Null Count  Dtype  \n",
      "---  ------        --------------  -----  \n",
      " 0   price         51525 non-null  int64  \n",
      " 1   model_year    47906 non-null  float64\n",
      " 2   model         51525 non-null  object \n",
      " 3   condition     51525 non-null  object \n",
      " 4   cylinders     46265 non-null  float64\n",
      " 5   fuel          51525 non-null  object \n",
      " 6   odometer      43633 non-null  float64\n",
      " 7   transmission  51525 non-null  object \n",
      " 8   type          51525 non-null  object \n",
      " 9   paint_color   42258 non-null  object \n",
      " 10  is_4wd        25572 non-null  float64\n",
      " 11  date_posted   51525 non-null  object \n",
      " 12  days_listed   51525 non-null  int64  \n",
      "dtypes: float64(4), int64(2), object(7)\n",
      "memory usage: 5.1+ MB\n"
     ]
    }
   ],
   "source": [
    "df.info()"
   ]
  },
  {
   "cell_type": "code",
   "execution_count": 5,
   "metadata": {},
   "outputs": [
    {
     "data": {
      "text/html": [
       "<div>\n",
       "<style scoped>\n",
       "    .dataframe tbody tr th:only-of-type {\n",
       "        vertical-align: middle;\n",
       "    }\n",
       "\n",
       "    .dataframe tbody tr th {\n",
       "        vertical-align: top;\n",
       "    }\n",
       "\n",
       "    .dataframe thead th {\n",
       "        text-align: right;\n",
       "    }\n",
       "</style>\n",
       "<table border=\"1\" class=\"dataframe\">\n",
       "  <thead>\n",
       "    <tr style=\"text-align: right;\">\n",
       "      <th></th>\n",
       "      <th>price</th>\n",
       "      <th>model_year</th>\n",
       "      <th>model</th>\n",
       "      <th>condition</th>\n",
       "      <th>cylinders</th>\n",
       "      <th>fuel</th>\n",
       "      <th>odometer</th>\n",
       "      <th>transmission</th>\n",
       "      <th>type</th>\n",
       "      <th>paint_color</th>\n",
       "      <th>is_4wd</th>\n",
       "      <th>date_posted</th>\n",
       "      <th>days_listed</th>\n",
       "    </tr>\n",
       "  </thead>\n",
       "  <tbody>\n",
       "    <tr>\n",
       "      <th>0</th>\n",
       "      <td>9400</td>\n",
       "      <td>2011.0</td>\n",
       "      <td>bmw x5</td>\n",
       "      <td>good</td>\n",
       "      <td>6.0</td>\n",
       "      <td>gas</td>\n",
       "      <td>145000.0</td>\n",
       "      <td>automatic</td>\n",
       "      <td>SUV</td>\n",
       "      <td>NaN</td>\n",
       "      <td>1.0</td>\n",
       "      <td>2018-06-23</td>\n",
       "      <td>19</td>\n",
       "    </tr>\n",
       "    <tr>\n",
       "      <th>1</th>\n",
       "      <td>25500</td>\n",
       "      <td>NaN</td>\n",
       "      <td>ford f-150</td>\n",
       "      <td>good</td>\n",
       "      <td>6.0</td>\n",
       "      <td>gas</td>\n",
       "      <td>88705.0</td>\n",
       "      <td>automatic</td>\n",
       "      <td>pickup</td>\n",
       "      <td>white</td>\n",
       "      <td>1.0</td>\n",
       "      <td>2018-10-19</td>\n",
       "      <td>50</td>\n",
       "    </tr>\n",
       "    <tr>\n",
       "      <th>2</th>\n",
       "      <td>5500</td>\n",
       "      <td>2013.0</td>\n",
       "      <td>hyundai sonata</td>\n",
       "      <td>like new</td>\n",
       "      <td>4.0</td>\n",
       "      <td>gas</td>\n",
       "      <td>110000.0</td>\n",
       "      <td>automatic</td>\n",
       "      <td>sedan</td>\n",
       "      <td>red</td>\n",
       "      <td>NaN</td>\n",
       "      <td>2019-02-07</td>\n",
       "      <td>79</td>\n",
       "    </tr>\n",
       "    <tr>\n",
       "      <th>3</th>\n",
       "      <td>1500</td>\n",
       "      <td>2003.0</td>\n",
       "      <td>ford f-150</td>\n",
       "      <td>fair</td>\n",
       "      <td>8.0</td>\n",
       "      <td>gas</td>\n",
       "      <td>NaN</td>\n",
       "      <td>automatic</td>\n",
       "      <td>pickup</td>\n",
       "      <td>NaN</td>\n",
       "      <td>NaN</td>\n",
       "      <td>2019-03-22</td>\n",
       "      <td>9</td>\n",
       "    </tr>\n",
       "    <tr>\n",
       "      <th>4</th>\n",
       "      <td>14900</td>\n",
       "      <td>2017.0</td>\n",
       "      <td>chrysler 200</td>\n",
       "      <td>excellent</td>\n",
       "      <td>4.0</td>\n",
       "      <td>gas</td>\n",
       "      <td>80903.0</td>\n",
       "      <td>automatic</td>\n",
       "      <td>sedan</td>\n",
       "      <td>black</td>\n",
       "      <td>NaN</td>\n",
       "      <td>2019-04-02</td>\n",
       "      <td>28</td>\n",
       "    </tr>\n",
       "    <tr>\n",
       "      <th>5</th>\n",
       "      <td>14990</td>\n",
       "      <td>2014.0</td>\n",
       "      <td>chrysler 300</td>\n",
       "      <td>excellent</td>\n",
       "      <td>6.0</td>\n",
       "      <td>gas</td>\n",
       "      <td>57954.0</td>\n",
       "      <td>automatic</td>\n",
       "      <td>sedan</td>\n",
       "      <td>black</td>\n",
       "      <td>1.0</td>\n",
       "      <td>2018-06-20</td>\n",
       "      <td>15</td>\n",
       "    </tr>\n",
       "    <tr>\n",
       "      <th>6</th>\n",
       "      <td>12990</td>\n",
       "      <td>2015.0</td>\n",
       "      <td>toyota camry</td>\n",
       "      <td>excellent</td>\n",
       "      <td>4.0</td>\n",
       "      <td>gas</td>\n",
       "      <td>79212.0</td>\n",
       "      <td>automatic</td>\n",
       "      <td>sedan</td>\n",
       "      <td>white</td>\n",
       "      <td>NaN</td>\n",
       "      <td>2018-12-27</td>\n",
       "      <td>73</td>\n",
       "    </tr>\n",
       "    <tr>\n",
       "      <th>7</th>\n",
       "      <td>15990</td>\n",
       "      <td>2013.0</td>\n",
       "      <td>honda pilot</td>\n",
       "      <td>excellent</td>\n",
       "      <td>6.0</td>\n",
       "      <td>gas</td>\n",
       "      <td>109473.0</td>\n",
       "      <td>automatic</td>\n",
       "      <td>SUV</td>\n",
       "      <td>black</td>\n",
       "      <td>1.0</td>\n",
       "      <td>2019-01-07</td>\n",
       "      <td>68</td>\n",
       "    </tr>\n",
       "    <tr>\n",
       "      <th>8</th>\n",
       "      <td>11500</td>\n",
       "      <td>2012.0</td>\n",
       "      <td>kia sorento</td>\n",
       "      <td>excellent</td>\n",
       "      <td>4.0</td>\n",
       "      <td>gas</td>\n",
       "      <td>104174.0</td>\n",
       "      <td>automatic</td>\n",
       "      <td>SUV</td>\n",
       "      <td>NaN</td>\n",
       "      <td>1.0</td>\n",
       "      <td>2018-07-16</td>\n",
       "      <td>19</td>\n",
       "    </tr>\n",
       "    <tr>\n",
       "      <th>9</th>\n",
       "      <td>9200</td>\n",
       "      <td>2008.0</td>\n",
       "      <td>honda pilot</td>\n",
       "      <td>excellent</td>\n",
       "      <td>NaN</td>\n",
       "      <td>gas</td>\n",
       "      <td>147191.0</td>\n",
       "      <td>automatic</td>\n",
       "      <td>SUV</td>\n",
       "      <td>blue</td>\n",
       "      <td>1.0</td>\n",
       "      <td>2019-02-15</td>\n",
       "      <td>17</td>\n",
       "    </tr>\n",
       "  </tbody>\n",
       "</table>\n",
       "</div>"
      ],
      "text/plain": [
       "   price  model_year           model  condition  cylinders fuel  odometer  \\\n",
       "0   9400      2011.0          bmw x5       good        6.0  gas  145000.0   \n",
       "1  25500         NaN      ford f-150       good        6.0  gas   88705.0   \n",
       "2   5500      2013.0  hyundai sonata   like new        4.0  gas  110000.0   \n",
       "3   1500      2003.0      ford f-150       fair        8.0  gas       NaN   \n",
       "4  14900      2017.0    chrysler 200  excellent        4.0  gas   80903.0   \n",
       "5  14990      2014.0    chrysler 300  excellent        6.0  gas   57954.0   \n",
       "6  12990      2015.0    toyota camry  excellent        4.0  gas   79212.0   \n",
       "7  15990      2013.0     honda pilot  excellent        6.0  gas  109473.0   \n",
       "8  11500      2012.0     kia sorento  excellent        4.0  gas  104174.0   \n",
       "9   9200      2008.0     honda pilot  excellent        NaN  gas  147191.0   \n",
       "\n",
       "  transmission    type paint_color  is_4wd date_posted  days_listed  \n",
       "0    automatic     SUV         NaN     1.0  2018-06-23           19  \n",
       "1    automatic  pickup       white     1.0  2018-10-19           50  \n",
       "2    automatic   sedan         red     NaN  2019-02-07           79  \n",
       "3    automatic  pickup         NaN     NaN  2019-03-22            9  \n",
       "4    automatic   sedan       black     NaN  2019-04-02           28  \n",
       "5    automatic   sedan       black     1.0  2018-06-20           15  \n",
       "6    automatic   sedan       white     NaN  2018-12-27           73  \n",
       "7    automatic     SUV       black     1.0  2019-01-07           68  \n",
       "8    automatic     SUV         NaN     1.0  2018-07-16           19  \n",
       "9    automatic     SUV        blue     1.0  2019-02-15           17  "
      ]
     },
     "execution_count": 5,
     "metadata": {},
     "output_type": "execute_result"
    }
   ],
   "source": [
    "df.head(10)"
   ]
  },
  {
   "cell_type": "code",
   "execution_count": 6,
   "metadata": {},
   "outputs": [
    {
     "data": {
      "text/plain": [
       "(51525, 13)"
      ]
     },
     "execution_count": 6,
     "metadata": {},
     "output_type": "execute_result"
    }
   ],
   "source": [
    "df.shape"
   ]
  },
  {
   "cell_type": "markdown",
   "metadata": {},
   "source": [
    "### Conclusion"
   ]
  },
  {
   "cell_type": "markdown",
   "metadata": {},
   "source": [
    "1. In the data set 51,525 rows and 13 columns\n",
    "2. Five columns are missing data\n",
    "3. It is clearly that types have to be changed"
   ]
  },
  {
   "cell_type": "markdown",
   "metadata": {},
   "source": [
    "<div class=\"alert alert-success\" style=\"box-shadow: 4px 4px 4px\">\n",
    "Success: Agree\n",
    "</div>"
   ]
  },
  {
   "cell_type": "markdown",
   "metadata": {},
   "source": [
    "## Data preprocessing"
   ]
  },
  {
   "cell_type": "markdown",
   "metadata": {},
   "source": [
    "### steps in data preprocessing\n",
    "1. missing values\n",
    "2. checking for duplicate\n",
    "3. data type replacement\n",
    "4. categorizing Data"
   ]
  },
  {
   "cell_type": "markdown",
   "metadata": {},
   "source": [
    "<div class=\"alert alert-success\" style=\"box-shadow: 4px 4px 4px\">\n",
    "Success: great plan!\n",
    "</div>"
   ]
  },
  {
   "cell_type": "markdown",
   "metadata": {},
   "source": [
    "### missing values"
   ]
  },
  {
   "cell_type": "code",
   "execution_count": 7,
   "metadata": {},
   "outputs": [
    {
     "data": {
      "text/html": [
       "<div>\n",
       "<style scoped>\n",
       "    .dataframe tbody tr th:only-of-type {\n",
       "        vertical-align: middle;\n",
       "    }\n",
       "\n",
       "    .dataframe tbody tr th {\n",
       "        vertical-align: top;\n",
       "    }\n",
       "\n",
       "    .dataframe thead th {\n",
       "        text-align: right;\n",
       "    }\n",
       "</style>\n",
       "<table border=\"1\" class=\"dataframe\">\n",
       "  <thead>\n",
       "    <tr style=\"text-align: right;\">\n",
       "      <th></th>\n",
       "      <th>missing_values</th>\n",
       "      <th>%_of_total</th>\n",
       "    </tr>\n",
       "  </thead>\n",
       "  <tbody>\n",
       "    <tr>\n",
       "      <th>is_4wd</th>\n",
       "      <td>25953</td>\n",
       "      <td>50.37</td>\n",
       "    </tr>\n",
       "    <tr>\n",
       "      <th>paint_color</th>\n",
       "      <td>9267</td>\n",
       "      <td>17.99</td>\n",
       "    </tr>\n",
       "    <tr>\n",
       "      <th>odometer</th>\n",
       "      <td>7892</td>\n",
       "      <td>15.32</td>\n",
       "    </tr>\n",
       "    <tr>\n",
       "      <th>cylinders</th>\n",
       "      <td>5260</td>\n",
       "      <td>10.21</td>\n",
       "    </tr>\n",
       "    <tr>\n",
       "      <th>model_year</th>\n",
       "      <td>3619</td>\n",
       "      <td>7.02</td>\n",
       "    </tr>\n",
       "    <tr>\n",
       "      <th>price</th>\n",
       "      <td>0</td>\n",
       "      <td>0.00</td>\n",
       "    </tr>\n",
       "    <tr>\n",
       "      <th>model</th>\n",
       "      <td>0</td>\n",
       "      <td>0.00</td>\n",
       "    </tr>\n",
       "    <tr>\n",
       "      <th>condition</th>\n",
       "      <td>0</td>\n",
       "      <td>0.00</td>\n",
       "    </tr>\n",
       "    <tr>\n",
       "      <th>fuel</th>\n",
       "      <td>0</td>\n",
       "      <td>0.00</td>\n",
       "    </tr>\n",
       "    <tr>\n",
       "      <th>transmission</th>\n",
       "      <td>0</td>\n",
       "      <td>0.00</td>\n",
       "    </tr>\n",
       "    <tr>\n",
       "      <th>type</th>\n",
       "      <td>0</td>\n",
       "      <td>0.00</td>\n",
       "    </tr>\n",
       "    <tr>\n",
       "      <th>date_posted</th>\n",
       "      <td>0</td>\n",
       "      <td>0.00</td>\n",
       "    </tr>\n",
       "    <tr>\n",
       "      <th>days_listed</th>\n",
       "      <td>0</td>\n",
       "      <td>0.00</td>\n",
       "    </tr>\n",
       "  </tbody>\n",
       "</table>\n",
       "</div>"
      ],
      "text/plain": [
       "              missing_values  %_of_total\n",
       "is_4wd                 25953       50.37\n",
       "paint_color             9267       17.99\n",
       "odometer                7892       15.32\n",
       "cylinders               5260       10.21\n",
       "model_year              3619        7.02\n",
       "price                      0        0.00\n",
       "model                      0        0.00\n",
       "condition                  0        0.00\n",
       "fuel                       0        0.00\n",
       "transmission               0        0.00\n",
       "type                       0        0.00\n",
       "date_posted                0        0.00\n",
       "days_listed                0        0.00"
      ]
     },
     "execution_count": 7,
     "metadata": {},
     "output_type": "execute_result"
    }
   ],
   "source": [
    "# list of all missing values in the Dataset - in total and %\n",
    "report = df.isna().sum().to_frame()\n",
    "report = report.rename(columns={0: \"missing_values\"})\n",
    "report[\"%_of_total\"] = (report[\"missing_values\"] / df.shape[0] * 100).round(2)\n",
    "report.sort_values(by=\"missing_values\", ascending=False)"
   ]
  },
  {
   "cell_type": "code",
   "execution_count": 8,
   "metadata": {},
   "outputs": [
    {
     "data": {
      "text/html": [
       "<div>\n",
       "<style scoped>\n",
       "    .dataframe tbody tr th:only-of-type {\n",
       "        vertical-align: middle;\n",
       "    }\n",
       "\n",
       "    .dataframe tbody tr th {\n",
       "        vertical-align: top;\n",
       "    }\n",
       "\n",
       "    .dataframe thead th {\n",
       "        text-align: right;\n",
       "    }\n",
       "</style>\n",
       "<table border=\"1\" class=\"dataframe\">\n",
       "  <thead>\n",
       "    <tr style=\"text-align: right;\">\n",
       "      <th></th>\n",
       "      <th>price</th>\n",
       "      <th>model_year</th>\n",
       "      <th>model</th>\n",
       "      <th>condition</th>\n",
       "      <th>cylinders</th>\n",
       "      <th>fuel</th>\n",
       "      <th>odometer</th>\n",
       "      <th>transmission</th>\n",
       "      <th>type</th>\n",
       "      <th>paint_color</th>\n",
       "      <th>is_4wd</th>\n",
       "      <th>date_posted</th>\n",
       "      <th>days_listed</th>\n",
       "    </tr>\n",
       "  </thead>\n",
       "  <tbody>\n",
       "    <tr>\n",
       "      <th>2</th>\n",
       "      <td>5500</td>\n",
       "      <td>2013.0</td>\n",
       "      <td>hyundai sonata</td>\n",
       "      <td>like new</td>\n",
       "      <td>4.0</td>\n",
       "      <td>gas</td>\n",
       "      <td>110000.0</td>\n",
       "      <td>automatic</td>\n",
       "      <td>sedan</td>\n",
       "      <td>red</td>\n",
       "      <td>NaN</td>\n",
       "      <td>2019-02-07</td>\n",
       "      <td>79</td>\n",
       "    </tr>\n",
       "    <tr>\n",
       "      <th>3</th>\n",
       "      <td>1500</td>\n",
       "      <td>2003.0</td>\n",
       "      <td>ford f-150</td>\n",
       "      <td>fair</td>\n",
       "      <td>8.0</td>\n",
       "      <td>gas</td>\n",
       "      <td>NaN</td>\n",
       "      <td>automatic</td>\n",
       "      <td>pickup</td>\n",
       "      <td>NaN</td>\n",
       "      <td>NaN</td>\n",
       "      <td>2019-03-22</td>\n",
       "      <td>9</td>\n",
       "    </tr>\n",
       "    <tr>\n",
       "      <th>4</th>\n",
       "      <td>14900</td>\n",
       "      <td>2017.0</td>\n",
       "      <td>chrysler 200</td>\n",
       "      <td>excellent</td>\n",
       "      <td>4.0</td>\n",
       "      <td>gas</td>\n",
       "      <td>80903.0</td>\n",
       "      <td>automatic</td>\n",
       "      <td>sedan</td>\n",
       "      <td>black</td>\n",
       "      <td>NaN</td>\n",
       "      <td>2019-04-02</td>\n",
       "      <td>28</td>\n",
       "    </tr>\n",
       "    <tr>\n",
       "      <th>6</th>\n",
       "      <td>12990</td>\n",
       "      <td>2015.0</td>\n",
       "      <td>toyota camry</td>\n",
       "      <td>excellent</td>\n",
       "      <td>4.0</td>\n",
       "      <td>gas</td>\n",
       "      <td>79212.0</td>\n",
       "      <td>automatic</td>\n",
       "      <td>sedan</td>\n",
       "      <td>white</td>\n",
       "      <td>NaN</td>\n",
       "      <td>2018-12-27</td>\n",
       "      <td>73</td>\n",
       "    </tr>\n",
       "    <tr>\n",
       "      <th>11</th>\n",
       "      <td>8990</td>\n",
       "      <td>2012.0</td>\n",
       "      <td>honda accord</td>\n",
       "      <td>excellent</td>\n",
       "      <td>4.0</td>\n",
       "      <td>gas</td>\n",
       "      <td>111142.0</td>\n",
       "      <td>automatic</td>\n",
       "      <td>sedan</td>\n",
       "      <td>grey</td>\n",
       "      <td>NaN</td>\n",
       "      <td>2019-03-28</td>\n",
       "      <td>29</td>\n",
       "    </tr>\n",
       "  </tbody>\n",
       "</table>\n",
       "</div>"
      ],
      "text/plain": [
       "    price  model_year           model  condition  cylinders fuel  odometer  \\\n",
       "2    5500      2013.0  hyundai sonata   like new        4.0  gas  110000.0   \n",
       "3    1500      2003.0      ford f-150       fair        8.0  gas       NaN   \n",
       "4   14900      2017.0    chrysler 200  excellent        4.0  gas   80903.0   \n",
       "6   12990      2015.0    toyota camry  excellent        4.0  gas   79212.0   \n",
       "11   8990      2012.0    honda accord  excellent        4.0  gas  111142.0   \n",
       "\n",
       "   transmission    type paint_color  is_4wd date_posted  days_listed  \n",
       "2     automatic   sedan         red     NaN  2019-02-07           79  \n",
       "3     automatic  pickup         NaN     NaN  2019-03-22            9  \n",
       "4     automatic   sedan       black     NaN  2019-04-02           28  \n",
       "6     automatic   sedan       white     NaN  2018-12-27           73  \n",
       "11    automatic   sedan        grey     NaN  2019-03-28           29  "
      ]
     },
     "execution_count": 8,
     "metadata": {},
     "output_type": "execute_result"
    }
   ],
   "source": [
    "#look at some of the missing values to see if there is reason for the missing value\n",
    "df.loc[df[\"is_4wd\"].isnull(),:].head()"
   ]
  },
  {
   "cell_type": "code",
   "execution_count": 9,
   "metadata": {},
   "outputs": [
    {
     "data": {
      "text/plain": [
       "1.0    25572\n",
       "Name: is_4wd, dtype: int64"
      ]
     },
     "execution_count": 9,
     "metadata": {},
     "output_type": "execute_result"
    }
   ],
   "source": [
    "# I can guess that all missing values are not 4wd. \n",
    "#Is there any values in the column other then 1.0?\n",
    "df[\"is_4wd\"].value_counts()"
   ]
  },
  {
   "cell_type": "code",
   "execution_count": 10,
   "metadata": {},
   "outputs": [],
   "source": [
    "# I will replace all NaN with 0.0 and replace the type of the column to bool\n",
    "df.loc[df[\"is_4wd\"].isnull(), \"is_4wd\"] = 0.0"
   ]
  },
  {
   "cell_type": "markdown",
   "metadata": {},
   "source": [
    "<div class=\"alert alert-success\" style=\"box-shadow: 4px 4px 4px\">\n",
    "Success: Absolutely correct!\n",
    "</div>"
   ]
  },
  {
   "cell_type": "code",
   "execution_count": 11,
   "metadata": {},
   "outputs": [
    {
     "data": {
      "text/html": [
       "<div>\n",
       "<style scoped>\n",
       "    .dataframe tbody tr th:only-of-type {\n",
       "        vertical-align: middle;\n",
       "    }\n",
       "\n",
       "    .dataframe tbody tr th {\n",
       "        vertical-align: top;\n",
       "    }\n",
       "\n",
       "    .dataframe thead th {\n",
       "        text-align: right;\n",
       "    }\n",
       "</style>\n",
       "<table border=\"1\" class=\"dataframe\">\n",
       "  <thead>\n",
       "    <tr style=\"text-align: right;\">\n",
       "      <th></th>\n",
       "      <th>price</th>\n",
       "      <th>model_year</th>\n",
       "      <th>model</th>\n",
       "      <th>condition</th>\n",
       "      <th>cylinders</th>\n",
       "      <th>fuel</th>\n",
       "      <th>odometer</th>\n",
       "      <th>transmission</th>\n",
       "      <th>type</th>\n",
       "      <th>paint_color</th>\n",
       "      <th>is_4wd</th>\n",
       "      <th>date_posted</th>\n",
       "      <th>days_listed</th>\n",
       "    </tr>\n",
       "  </thead>\n",
       "  <tbody>\n",
       "    <tr>\n",
       "      <th>0</th>\n",
       "      <td>9400</td>\n",
       "      <td>2011.0</td>\n",
       "      <td>bmw x5</td>\n",
       "      <td>good</td>\n",
       "      <td>6.0</td>\n",
       "      <td>gas</td>\n",
       "      <td>145000.0</td>\n",
       "      <td>automatic</td>\n",
       "      <td>SUV</td>\n",
       "      <td>NaN</td>\n",
       "      <td>1.0</td>\n",
       "      <td>2018-06-23</td>\n",
       "      <td>19</td>\n",
       "    </tr>\n",
       "    <tr>\n",
       "      <th>3</th>\n",
       "      <td>1500</td>\n",
       "      <td>2003.0</td>\n",
       "      <td>ford f-150</td>\n",
       "      <td>fair</td>\n",
       "      <td>8.0</td>\n",
       "      <td>gas</td>\n",
       "      <td>NaN</td>\n",
       "      <td>automatic</td>\n",
       "      <td>pickup</td>\n",
       "      <td>NaN</td>\n",
       "      <td>0.0</td>\n",
       "      <td>2019-03-22</td>\n",
       "      <td>9</td>\n",
       "    </tr>\n",
       "    <tr>\n",
       "      <th>8</th>\n",
       "      <td>11500</td>\n",
       "      <td>2012.0</td>\n",
       "      <td>kia sorento</td>\n",
       "      <td>excellent</td>\n",
       "      <td>4.0</td>\n",
       "      <td>gas</td>\n",
       "      <td>104174.0</td>\n",
       "      <td>automatic</td>\n",
       "      <td>SUV</td>\n",
       "      <td>NaN</td>\n",
       "      <td>1.0</td>\n",
       "      <td>2018-07-16</td>\n",
       "      <td>19</td>\n",
       "    </tr>\n",
       "    <tr>\n",
       "      <th>12</th>\n",
       "      <td>18990</td>\n",
       "      <td>2012.0</td>\n",
       "      <td>ram 1500</td>\n",
       "      <td>excellent</td>\n",
       "      <td>8.0</td>\n",
       "      <td>gas</td>\n",
       "      <td>140742.0</td>\n",
       "      <td>automatic</td>\n",
       "      <td>pickup</td>\n",
       "      <td>NaN</td>\n",
       "      <td>1.0</td>\n",
       "      <td>2019-04-02</td>\n",
       "      <td>37</td>\n",
       "    </tr>\n",
       "    <tr>\n",
       "      <th>21</th>\n",
       "      <td>5250</td>\n",
       "      <td>2007.0</td>\n",
       "      <td>toyota rav4</td>\n",
       "      <td>good</td>\n",
       "      <td>6.0</td>\n",
       "      <td>gas</td>\n",
       "      <td>154000.0</td>\n",
       "      <td>automatic</td>\n",
       "      <td>SUV</td>\n",
       "      <td>NaN</td>\n",
       "      <td>0.0</td>\n",
       "      <td>2018-08-22</td>\n",
       "      <td>8</td>\n",
       "    </tr>\n",
       "  </tbody>\n",
       "</table>\n",
       "</div>"
      ],
      "text/plain": [
       "    price  model_year        model  condition  cylinders fuel  odometer  \\\n",
       "0    9400      2011.0       bmw x5       good        6.0  gas  145000.0   \n",
       "3    1500      2003.0   ford f-150       fair        8.0  gas       NaN   \n",
       "8   11500      2012.0  kia sorento  excellent        4.0  gas  104174.0   \n",
       "12  18990      2012.0     ram 1500  excellent        8.0  gas  140742.0   \n",
       "21   5250      2007.0  toyota rav4       good        6.0  gas  154000.0   \n",
       "\n",
       "   transmission    type paint_color  is_4wd date_posted  days_listed  \n",
       "0     automatic     SUV         NaN     1.0  2018-06-23           19  \n",
       "3     automatic  pickup         NaN     0.0  2019-03-22            9  \n",
       "8     automatic     SUV         NaN     1.0  2018-07-16           19  \n",
       "12    automatic  pickup         NaN     1.0  2019-04-02           37  \n",
       "21    automatic     SUV         NaN     0.0  2018-08-22            8  "
      ]
     },
     "execution_count": 11,
     "metadata": {},
     "output_type": "execute_result"
    }
   ],
   "source": [
    "# Checking the paint_color\n",
    "df.loc[df[\"paint_color\"].isnull(),:].head()"
   ]
  },
  {
   "cell_type": "code",
   "execution_count": 12,
   "metadata": {},
   "outputs": [],
   "source": [
    "# cannot find any connection between missing paint_color value to any other value\n",
    "# I will replace the NaN value with \"unpublished\"\n",
    "df.loc[df[\"paint_color\"].isnull(), \"paint_color\"] = \"unpublished\""
   ]
  },
  {
   "cell_type": "markdown",
   "metadata": {},
   "source": [
    "<div class=\"alert alert-success\" style=\"box-shadow: 4px 4px 4px\">\n",
    "Success: I couldn't agree more. Truth be told, I would do the same. There is too little additional information.\n",
    "</div>"
   ]
  },
  {
   "cell_type": "code",
   "execution_count": 13,
   "metadata": {},
   "outputs": [
    {
     "data": {
      "text/html": [
       "<div>\n",
       "<style scoped>\n",
       "    .dataframe tbody tr th:only-of-type {\n",
       "        vertical-align: middle;\n",
       "    }\n",
       "\n",
       "    .dataframe tbody tr th {\n",
       "        vertical-align: top;\n",
       "    }\n",
       "\n",
       "    .dataframe thead th {\n",
       "        text-align: right;\n",
       "    }\n",
       "</style>\n",
       "<table border=\"1\" class=\"dataframe\">\n",
       "  <thead>\n",
       "    <tr style=\"text-align: right;\">\n",
       "      <th></th>\n",
       "      <th>price</th>\n",
       "      <th>model_year</th>\n",
       "      <th>model</th>\n",
       "      <th>condition</th>\n",
       "      <th>cylinders</th>\n",
       "      <th>fuel</th>\n",
       "      <th>odometer</th>\n",
       "      <th>transmission</th>\n",
       "      <th>type</th>\n",
       "      <th>paint_color</th>\n",
       "      <th>is_4wd</th>\n",
       "      <th>date_posted</th>\n",
       "      <th>days_listed</th>\n",
       "    </tr>\n",
       "  </thead>\n",
       "  <tbody>\n",
       "    <tr>\n",
       "      <th>3</th>\n",
       "      <td>1500</td>\n",
       "      <td>2003.0</td>\n",
       "      <td>ford f-150</td>\n",
       "      <td>fair</td>\n",
       "      <td>8.0</td>\n",
       "      <td>gas</td>\n",
       "      <td>NaN</td>\n",
       "      <td>automatic</td>\n",
       "      <td>pickup</td>\n",
       "      <td>unpublished</td>\n",
       "      <td>0.0</td>\n",
       "      <td>2019-03-22</td>\n",
       "      <td>9</td>\n",
       "    </tr>\n",
       "    <tr>\n",
       "      <th>15</th>\n",
       "      <td>17990</td>\n",
       "      <td>2013.0</td>\n",
       "      <td>ram 1500</td>\n",
       "      <td>excellent</td>\n",
       "      <td>8.0</td>\n",
       "      <td>gas</td>\n",
       "      <td>NaN</td>\n",
       "      <td>automatic</td>\n",
       "      <td>pickup</td>\n",
       "      <td>red</td>\n",
       "      <td>1.0</td>\n",
       "      <td>2018-05-15</td>\n",
       "      <td>111</td>\n",
       "    </tr>\n",
       "    <tr>\n",
       "      <th>23</th>\n",
       "      <td>7500</td>\n",
       "      <td>2004.0</td>\n",
       "      <td>jeep wrangler</td>\n",
       "      <td>good</td>\n",
       "      <td>6.0</td>\n",
       "      <td>gas</td>\n",
       "      <td>NaN</td>\n",
       "      <td>automatic</td>\n",
       "      <td>SUV</td>\n",
       "      <td>red</td>\n",
       "      <td>1.0</td>\n",
       "      <td>2018-05-17</td>\n",
       "      <td>39</td>\n",
       "    </tr>\n",
       "    <tr>\n",
       "      <th>24</th>\n",
       "      <td>3950</td>\n",
       "      <td>2009.0</td>\n",
       "      <td>chrysler 200</td>\n",
       "      <td>excellent</td>\n",
       "      <td>4.0</td>\n",
       "      <td>gas</td>\n",
       "      <td>NaN</td>\n",
       "      <td>automatic</td>\n",
       "      <td>sedan</td>\n",
       "      <td>red</td>\n",
       "      <td>0.0</td>\n",
       "      <td>2018-06-11</td>\n",
       "      <td>40</td>\n",
       "    </tr>\n",
       "    <tr>\n",
       "      <th>25</th>\n",
       "      <td>11499</td>\n",
       "      <td>2017.0</td>\n",
       "      <td>chevrolet malibu</td>\n",
       "      <td>like new</td>\n",
       "      <td>4.0</td>\n",
       "      <td>gas</td>\n",
       "      <td>NaN</td>\n",
       "      <td>automatic</td>\n",
       "      <td>sedan</td>\n",
       "      <td>unpublished</td>\n",
       "      <td>0.0</td>\n",
       "      <td>2018-07-26</td>\n",
       "      <td>43</td>\n",
       "    </tr>\n",
       "  </tbody>\n",
       "</table>\n",
       "</div>"
      ],
      "text/plain": [
       "    price  model_year             model  condition  cylinders fuel  odometer  \\\n",
       "3    1500      2003.0        ford f-150       fair        8.0  gas       NaN   \n",
       "15  17990      2013.0          ram 1500  excellent        8.0  gas       NaN   \n",
       "23   7500      2004.0     jeep wrangler       good        6.0  gas       NaN   \n",
       "24   3950      2009.0      chrysler 200  excellent        4.0  gas       NaN   \n",
       "25  11499      2017.0  chevrolet malibu   like new        4.0  gas       NaN   \n",
       "\n",
       "   transmission    type  paint_color  is_4wd date_posted  days_listed  \n",
       "3     automatic  pickup  unpublished     0.0  2019-03-22            9  \n",
       "15    automatic  pickup          red     1.0  2018-05-15          111  \n",
       "23    automatic     SUV          red     1.0  2018-05-17           39  \n",
       "24    automatic   sedan          red     0.0  2018-06-11           40  \n",
       "25    automatic   sedan  unpublished     0.0  2018-07-26           43  "
      ]
     },
     "execution_count": 13,
     "metadata": {},
     "output_type": "execute_result"
    }
   ],
   "source": [
    "# Checking the odometer\n",
    "df.loc[df[\"odometer\"].isnull(),:].head()"
   ]
  },
  {
   "cell_type": "code",
   "execution_count": 14,
   "metadata": {},
   "outputs": [],
   "source": [
    "# cannot find any connection between missing odometer value to any other value\n",
    "# I will replace the NaN value with the mean of the odo per year multiply by the age of the car\n",
    "# calculating the mean odometer per year:\n",
    "\n",
    "mean_odometer=df[\"odometer\"].sum()/(pd.to_datetime(df['date_posted']).dt.year.sum() - df[\"model_year\"].sum())\n",
    "\n",
    "# replace the NaN with car age in years * mean odometer\n",
    "\n",
    "df.loc[df[\"odometer\"].isnull(), \"odometer\"] = mean_odometer * (\n",
    "    pd.to_datetime(df['date_posted']).dt.year - df[\"model_year\"]\n",
    ")"
   ]
  },
  {
   "cell_type": "markdown",
   "metadata": {},
   "source": [
    "<div class=\"alert alert-success\" style=\"box-shadow: 4px 4px 4px\">\n",
    "Success: Interesting decision! I've never thought about that. However, it seems correct!\n",
    "</div>"
   ]
  },
  {
   "cell_type": "code",
   "execution_count": 15,
   "metadata": {},
   "outputs": [
    {
     "data": {
      "text/plain": [
       "1.0655021834061136"
      ]
     },
     "execution_count": 15,
     "metadata": {},
     "output_type": "execute_result"
    }
   ],
   "source": [
    "#how many didn't I fix?\n",
    "df[\"odometer\"].isnull().mean() * 100"
   ]
  },
  {
   "cell_type": "markdown",
   "metadata": {},
   "source": [
    "<div class=\"alert alert-warning\" style=\"box-shadow: 4px 4px 4px\">\n",
    "Remark: Please do not leave the numbers without signatures. Always write in the output what this number means. \n",
    "</div>"
   ]
  },
  {
   "cell_type": "code",
   "execution_count": 16,
   "metadata": {},
   "outputs": [],
   "source": [
    "#It is about 1%, I can delete these, the odometer is very important factor \n",
    "#and I don't want the missing values to influence my calculations\n",
    "df.dropna(subset=['odometer'], inplace=True)"
   ]
  },
  {
   "cell_type": "markdown",
   "metadata": {},
   "source": [
    "<div class=\"alert alert-warning\" style=\"box-shadow: 4px 4px 4px\">\n",
    "Remark: Although 1% of data is really negligible, in some situations it is better to try to fix the problem. In this case it is possible to just delete this rows.  \n",
    "</div>"
   ]
  },
  {
   "cell_type": "code",
   "execution_count": 17,
   "metadata": {},
   "outputs": [
    {
     "data": {
      "text/html": [
       "<div>\n",
       "<style scoped>\n",
       "    .dataframe tbody tr th:only-of-type {\n",
       "        vertical-align: middle;\n",
       "    }\n",
       "\n",
       "    .dataframe tbody tr th {\n",
       "        vertical-align: top;\n",
       "    }\n",
       "\n",
       "    .dataframe thead th {\n",
       "        text-align: right;\n",
       "    }\n",
       "</style>\n",
       "<table border=\"1\" class=\"dataframe\">\n",
       "  <thead>\n",
       "    <tr style=\"text-align: right;\">\n",
       "      <th></th>\n",
       "      <th>price</th>\n",
       "      <th>model_year</th>\n",
       "      <th>model</th>\n",
       "      <th>condition</th>\n",
       "      <th>cylinders</th>\n",
       "      <th>fuel</th>\n",
       "      <th>odometer</th>\n",
       "      <th>transmission</th>\n",
       "      <th>type</th>\n",
       "      <th>paint_color</th>\n",
       "      <th>is_4wd</th>\n",
       "      <th>date_posted</th>\n",
       "      <th>days_listed</th>\n",
       "    </tr>\n",
       "  </thead>\n",
       "  <tbody>\n",
       "    <tr>\n",
       "      <th>9</th>\n",
       "      <td>9200</td>\n",
       "      <td>2008.0</td>\n",
       "      <td>honda pilot</td>\n",
       "      <td>excellent</td>\n",
       "      <td>NaN</td>\n",
       "      <td>gas</td>\n",
       "      <td>147191.0</td>\n",
       "      <td>automatic</td>\n",
       "      <td>SUV</td>\n",
       "      <td>blue</td>\n",
       "      <td>1.0</td>\n",
       "      <td>2019-02-15</td>\n",
       "      <td>17</td>\n",
       "    </tr>\n",
       "    <tr>\n",
       "      <th>36</th>\n",
       "      <td>10499</td>\n",
       "      <td>2013.0</td>\n",
       "      <td>chrysler 300</td>\n",
       "      <td>good</td>\n",
       "      <td>NaN</td>\n",
       "      <td>gas</td>\n",
       "      <td>88042.0</td>\n",
       "      <td>automatic</td>\n",
       "      <td>sedan</td>\n",
       "      <td>unpublished</td>\n",
       "      <td>0.0</td>\n",
       "      <td>2018-05-05</td>\n",
       "      <td>22</td>\n",
       "    </tr>\n",
       "    <tr>\n",
       "      <th>37</th>\n",
       "      <td>7500</td>\n",
       "      <td>2005.0</td>\n",
       "      <td>toyota tacoma</td>\n",
       "      <td>good</td>\n",
       "      <td>NaN</td>\n",
       "      <td>gas</td>\n",
       "      <td>160000.0</td>\n",
       "      <td>automatic</td>\n",
       "      <td>pickup</td>\n",
       "      <td>unpublished</td>\n",
       "      <td>0.0</td>\n",
       "      <td>2018-07-22</td>\n",
       "      <td>44</td>\n",
       "    </tr>\n",
       "    <tr>\n",
       "      <th>59</th>\n",
       "      <td>5200</td>\n",
       "      <td>2006.0</td>\n",
       "      <td>toyota highlander</td>\n",
       "      <td>good</td>\n",
       "      <td>NaN</td>\n",
       "      <td>gas</td>\n",
       "      <td>186000.0</td>\n",
       "      <td>automatic</td>\n",
       "      <td>SUV</td>\n",
       "      <td>green</td>\n",
       "      <td>0.0</td>\n",
       "      <td>2018-12-20</td>\n",
       "      <td>2</td>\n",
       "    </tr>\n",
       "    <tr>\n",
       "      <th>63</th>\n",
       "      <td>30000</td>\n",
       "      <td>1966.0</td>\n",
       "      <td>ford mustang</td>\n",
       "      <td>excellent</td>\n",
       "      <td>NaN</td>\n",
       "      <td>gas</td>\n",
       "      <td>51000.0</td>\n",
       "      <td>manual</td>\n",
       "      <td>convertible</td>\n",
       "      <td>red</td>\n",
       "      <td>0.0</td>\n",
       "      <td>2019-01-23</td>\n",
       "      <td>17</td>\n",
       "    </tr>\n",
       "  </tbody>\n",
       "</table>\n",
       "</div>"
      ],
      "text/plain": [
       "    price  model_year              model  condition  cylinders fuel  odometer  \\\n",
       "9    9200      2008.0        honda pilot  excellent        NaN  gas  147191.0   \n",
       "36  10499      2013.0       chrysler 300       good        NaN  gas   88042.0   \n",
       "37   7500      2005.0      toyota tacoma       good        NaN  gas  160000.0   \n",
       "59   5200      2006.0  toyota highlander       good        NaN  gas  186000.0   \n",
       "63  30000      1966.0       ford mustang  excellent        NaN  gas   51000.0   \n",
       "\n",
       "   transmission         type  paint_color  is_4wd date_posted  days_listed  \n",
       "9     automatic          SUV         blue     1.0  2019-02-15           17  \n",
       "36    automatic        sedan  unpublished     0.0  2018-05-05           22  \n",
       "37    automatic       pickup  unpublished     0.0  2018-07-22           44  \n",
       "59    automatic          SUV        green     0.0  2018-12-20            2  \n",
       "63       manual  convertible          red     0.0  2019-01-23           17  "
      ]
     },
     "execution_count": 17,
     "metadata": {},
     "output_type": "execute_result"
    }
   ],
   "source": [
    "#checking on cylinders\n",
    "df.loc[df[\"cylinders\"].isnull(),:].head(5)"
   ]
  },
  {
   "cell_type": "code",
   "execution_count": 18,
   "metadata": {},
   "outputs": [
    {
     "data": {
      "text/html": [
       "<div>\n",
       "<style scoped>\n",
       "    .dataframe tbody tr th:only-of-type {\n",
       "        vertical-align: middle;\n",
       "    }\n",
       "\n",
       "    .dataframe tbody tr th {\n",
       "        vertical-align: top;\n",
       "    }\n",
       "\n",
       "    .dataframe thead th {\n",
       "        text-align: right;\n",
       "    }\n",
       "</style>\n",
       "<table border=\"1\" class=\"dataframe\">\n",
       "  <thead>\n",
       "    <tr style=\"text-align: right;\">\n",
       "      <th></th>\n",
       "      <th>price</th>\n",
       "      <th>model_year</th>\n",
       "      <th>model</th>\n",
       "      <th>condition</th>\n",
       "      <th>cylinders</th>\n",
       "      <th>fuel</th>\n",
       "      <th>odometer</th>\n",
       "      <th>transmission</th>\n",
       "      <th>type</th>\n",
       "      <th>paint_color</th>\n",
       "      <th>is_4wd</th>\n",
       "      <th>date_posted</th>\n",
       "      <th>days_listed</th>\n",
       "    </tr>\n",
       "  </thead>\n",
       "  <tbody>\n",
       "    <tr>\n",
       "      <th>72</th>\n",
       "      <td>3650</td>\n",
       "      <td>NaN</td>\n",
       "      <td>subaru impreza</td>\n",
       "      <td>excellent</td>\n",
       "      <td>NaN</td>\n",
       "      <td>gas</td>\n",
       "      <td>74000.0</td>\n",
       "      <td>automatic</td>\n",
       "      <td>sedan</td>\n",
       "      <td>blue</td>\n",
       "      <td>1.0</td>\n",
       "      <td>2018-08-07</td>\n",
       "      <td>60</td>\n",
       "    </tr>\n",
       "    <tr>\n",
       "      <th>191</th>\n",
       "      <td>3950</td>\n",
       "      <td>2009.0</td>\n",
       "      <td>subaru impreza</td>\n",
       "      <td>excellent</td>\n",
       "      <td>4.0</td>\n",
       "      <td>gas</td>\n",
       "      <td>137882.0</td>\n",
       "      <td>automatic</td>\n",
       "      <td>hatchback</td>\n",
       "      <td>silver</td>\n",
       "      <td>1.0</td>\n",
       "      <td>2018-08-22</td>\n",
       "      <td>19</td>\n",
       "    </tr>\n",
       "    <tr>\n",
       "      <th>359</th>\n",
       "      <td>12500</td>\n",
       "      <td>2017.0</td>\n",
       "      <td>subaru impreza</td>\n",
       "      <td>like new</td>\n",
       "      <td>4.0</td>\n",
       "      <td>gas</td>\n",
       "      <td>25000.0</td>\n",
       "      <td>automatic</td>\n",
       "      <td>wagon</td>\n",
       "      <td>grey</td>\n",
       "      <td>1.0</td>\n",
       "      <td>2019-02-18</td>\n",
       "      <td>78</td>\n",
       "    </tr>\n",
       "    <tr>\n",
       "      <th>513</th>\n",
       "      <td>5495</td>\n",
       "      <td>2011.0</td>\n",
       "      <td>subaru impreza</td>\n",
       "      <td>like new</td>\n",
       "      <td>NaN</td>\n",
       "      <td>gas</td>\n",
       "      <td>128000.0</td>\n",
       "      <td>manual</td>\n",
       "      <td>sedan</td>\n",
       "      <td>silver</td>\n",
       "      <td>1.0</td>\n",
       "      <td>2018-10-16</td>\n",
       "      <td>47</td>\n",
       "    </tr>\n",
       "    <tr>\n",
       "      <th>611</th>\n",
       "      <td>5500</td>\n",
       "      <td>2011.0</td>\n",
       "      <td>subaru impreza</td>\n",
       "      <td>good</td>\n",
       "      <td>4.0</td>\n",
       "      <td>gas</td>\n",
       "      <td>140312.0</td>\n",
       "      <td>automatic</td>\n",
       "      <td>sedan</td>\n",
       "      <td>red</td>\n",
       "      <td>1.0</td>\n",
       "      <td>2019-04-15</td>\n",
       "      <td>48</td>\n",
       "    </tr>\n",
       "  </tbody>\n",
       "</table>\n",
       "</div>"
      ],
      "text/plain": [
       "     price  model_year           model  condition  cylinders fuel  odometer  \\\n",
       "72    3650         NaN  subaru impreza  excellent        NaN  gas   74000.0   \n",
       "191   3950      2009.0  subaru impreza  excellent        4.0  gas  137882.0   \n",
       "359  12500      2017.0  subaru impreza   like new        4.0  gas   25000.0   \n",
       "513   5495      2011.0  subaru impreza   like new        NaN  gas  128000.0   \n",
       "611   5500      2011.0  subaru impreza       good        4.0  gas  140312.0   \n",
       "\n",
       "    transmission       type paint_color  is_4wd date_posted  days_listed  \n",
       "72     automatic      sedan        blue     1.0  2018-08-07           60  \n",
       "191    automatic  hatchback      silver     1.0  2018-08-22           19  \n",
       "359    automatic      wagon        grey     1.0  2019-02-18           78  \n",
       "513       manual      sedan      silver     1.0  2018-10-16           47  \n",
       "611    automatic      sedan         red     1.0  2019-04-15           48  "
      ]
     },
     "execution_count": 18,
     "metadata": {},
     "output_type": "execute_result"
    }
   ],
   "source": [
    "#cannot find any connection between missing cylinders value to any other value\n",
    "#I can fix the missing values because most models have the same cylinder number.\n",
    "#for example:\n",
    "df.loc[df[\"model\"]==\"subaru impreza\",:].head()"
   ]
  },
  {
   "cell_type": "code",
   "execution_count": 19,
   "metadata": {},
   "outputs": [],
   "source": [
    "#But I'm not going to change that because some models can have different number of cylinders\n",
    "#I will ignore this column and I'll change all NaN with 0\n",
    "#df.loc[df[\"cylinders\"].isnull(), \"cylinders\"] = 0"
   ]
  },
  {
   "cell_type": "markdown",
   "metadata": {},
   "source": [
    "<div class=\"alert alert-info\">\n",
    "  <strong>My fix!</strong> here is what I added / changed\n",
    "</div>"
   ]
  },
  {
   "cell_type": "code",
   "execution_count": 20,
   "metadata": {},
   "outputs": [
    {
     "data": {
      "text/html": [
       "<div>\n",
       "<style scoped>\n",
       "    .dataframe tbody tr th:only-of-type {\n",
       "        vertical-align: middle;\n",
       "    }\n",
       "\n",
       "    .dataframe tbody tr th {\n",
       "        vertical-align: top;\n",
       "    }\n",
       "\n",
       "    .dataframe thead th {\n",
       "        text-align: right;\n",
       "    }\n",
       "</style>\n",
       "<table border=\"1\" class=\"dataframe\">\n",
       "  <thead>\n",
       "    <tr style=\"text-align: right;\">\n",
       "      <th></th>\n",
       "      <th>price</th>\n",
       "      <th>model_year</th>\n",
       "      <th>model</th>\n",
       "      <th>condition</th>\n",
       "      <th>cylinders</th>\n",
       "      <th>fuel</th>\n",
       "      <th>odometer</th>\n",
       "      <th>transmission</th>\n",
       "      <th>type</th>\n",
       "      <th>paint_color</th>\n",
       "      <th>is_4wd</th>\n",
       "      <th>date_posted</th>\n",
       "      <th>days_listed</th>\n",
       "    </tr>\n",
       "  </thead>\n",
       "  <tbody>\n",
       "    <tr>\n",
       "      <th>9</th>\n",
       "      <td>9200</td>\n",
       "      <td>2008.0</td>\n",
       "      <td>honda pilot</td>\n",
       "      <td>excellent</td>\n",
       "      <td>NaN</td>\n",
       "      <td>gas</td>\n",
       "      <td>147191.000000</td>\n",
       "      <td>automatic</td>\n",
       "      <td>SUV</td>\n",
       "      <td>blue</td>\n",
       "      <td>1.0</td>\n",
       "      <td>2019-02-15</td>\n",
       "      <td>17</td>\n",
       "    </tr>\n",
       "    <tr>\n",
       "      <th>36</th>\n",
       "      <td>10499</td>\n",
       "      <td>2013.0</td>\n",
       "      <td>chrysler 300</td>\n",
       "      <td>good</td>\n",
       "      <td>NaN</td>\n",
       "      <td>gas</td>\n",
       "      <td>88042.000000</td>\n",
       "      <td>automatic</td>\n",
       "      <td>sedan</td>\n",
       "      <td>unpublished</td>\n",
       "      <td>0.0</td>\n",
       "      <td>2018-05-05</td>\n",
       "      <td>22</td>\n",
       "    </tr>\n",
       "    <tr>\n",
       "      <th>37</th>\n",
       "      <td>7500</td>\n",
       "      <td>2005.0</td>\n",
       "      <td>toyota tacoma</td>\n",
       "      <td>good</td>\n",
       "      <td>NaN</td>\n",
       "      <td>gas</td>\n",
       "      <td>160000.000000</td>\n",
       "      <td>automatic</td>\n",
       "      <td>pickup</td>\n",
       "      <td>unpublished</td>\n",
       "      <td>0.0</td>\n",
       "      <td>2018-07-22</td>\n",
       "      <td>44</td>\n",
       "    </tr>\n",
       "    <tr>\n",
       "      <th>59</th>\n",
       "      <td>5200</td>\n",
       "      <td>2006.0</td>\n",
       "      <td>toyota highlander</td>\n",
       "      <td>good</td>\n",
       "      <td>NaN</td>\n",
       "      <td>gas</td>\n",
       "      <td>186000.000000</td>\n",
       "      <td>automatic</td>\n",
       "      <td>SUV</td>\n",
       "      <td>green</td>\n",
       "      <td>0.0</td>\n",
       "      <td>2018-12-20</td>\n",
       "      <td>2</td>\n",
       "    </tr>\n",
       "    <tr>\n",
       "      <th>63</th>\n",
       "      <td>30000</td>\n",
       "      <td>1966.0</td>\n",
       "      <td>ford mustang</td>\n",
       "      <td>excellent</td>\n",
       "      <td>NaN</td>\n",
       "      <td>gas</td>\n",
       "      <td>51000.000000</td>\n",
       "      <td>manual</td>\n",
       "      <td>convertible</td>\n",
       "      <td>red</td>\n",
       "      <td>0.0</td>\n",
       "      <td>2019-01-23</td>\n",
       "      <td>17</td>\n",
       "    </tr>\n",
       "    <tr>\n",
       "      <th>72</th>\n",
       "      <td>3650</td>\n",
       "      <td>NaN</td>\n",
       "      <td>subaru impreza</td>\n",
       "      <td>excellent</td>\n",
       "      <td>NaN</td>\n",
       "      <td>gas</td>\n",
       "      <td>74000.000000</td>\n",
       "      <td>automatic</td>\n",
       "      <td>sedan</td>\n",
       "      <td>blue</td>\n",
       "      <td>1.0</td>\n",
       "      <td>2018-08-07</td>\n",
       "      <td>60</td>\n",
       "    </tr>\n",
       "    <tr>\n",
       "      <th>75</th>\n",
       "      <td>6950</td>\n",
       "      <td>2005.0</td>\n",
       "      <td>chevrolet tahoe</td>\n",
       "      <td>excellent</td>\n",
       "      <td>NaN</td>\n",
       "      <td>gas</td>\n",
       "      <td>186021.000000</td>\n",
       "      <td>automatic</td>\n",
       "      <td>SUV</td>\n",
       "      <td>unpublished</td>\n",
       "      <td>1.0</td>\n",
       "      <td>2018-10-30</td>\n",
       "      <td>3</td>\n",
       "    </tr>\n",
       "    <tr>\n",
       "      <th>87</th>\n",
       "      <td>8499</td>\n",
       "      <td>2009.0</td>\n",
       "      <td>bmw x5</td>\n",
       "      <td>good</td>\n",
       "      <td>NaN</td>\n",
       "      <td>gas</td>\n",
       "      <td>104482.000000</td>\n",
       "      <td>automatic</td>\n",
       "      <td>SUV</td>\n",
       "      <td>blue</td>\n",
       "      <td>1.0</td>\n",
       "      <td>2019-03-04</td>\n",
       "      <td>52</td>\n",
       "    </tr>\n",
       "    <tr>\n",
       "      <th>119</th>\n",
       "      <td>14800</td>\n",
       "      <td>2016.0</td>\n",
       "      <td>kia sorento</td>\n",
       "      <td>like new</td>\n",
       "      <td>NaN</td>\n",
       "      <td>gas</td>\n",
       "      <td>1960.781421</td>\n",
       "      <td>automatic</td>\n",
       "      <td>SUV</td>\n",
       "      <td>brown</td>\n",
       "      <td>0.0</td>\n",
       "      <td>2019-02-27</td>\n",
       "      <td>93</td>\n",
       "    </tr>\n",
       "    <tr>\n",
       "      <th>126</th>\n",
       "      <td>25900</td>\n",
       "      <td>2012.0</td>\n",
       "      <td>chevrolet silverado 1500 crew</td>\n",
       "      <td>good</td>\n",
       "      <td>NaN</td>\n",
       "      <td>other</td>\n",
       "      <td>3921.562842</td>\n",
       "      <td>other</td>\n",
       "      <td>pickup</td>\n",
       "      <td>unpublished</td>\n",
       "      <td>1.0</td>\n",
       "      <td>2018-08-31</td>\n",
       "      <td>44</td>\n",
       "    </tr>\n",
       "  </tbody>\n",
       "</table>\n",
       "</div>"
      ],
      "text/plain": [
       "     price  model_year                          model  condition  cylinders  \\\n",
       "9     9200      2008.0                    honda pilot  excellent        NaN   \n",
       "36   10499      2013.0                   chrysler 300       good        NaN   \n",
       "37    7500      2005.0                  toyota tacoma       good        NaN   \n",
       "59    5200      2006.0              toyota highlander       good        NaN   \n",
       "63   30000      1966.0                   ford mustang  excellent        NaN   \n",
       "72    3650         NaN                 subaru impreza  excellent        NaN   \n",
       "75    6950      2005.0                chevrolet tahoe  excellent        NaN   \n",
       "87    8499      2009.0                         bmw x5       good        NaN   \n",
       "119  14800      2016.0                    kia sorento   like new        NaN   \n",
       "126  25900      2012.0  chevrolet silverado 1500 crew       good        NaN   \n",
       "\n",
       "      fuel       odometer transmission         type  paint_color  is_4wd  \\\n",
       "9      gas  147191.000000    automatic          SUV         blue     1.0   \n",
       "36     gas   88042.000000    automatic        sedan  unpublished     0.0   \n",
       "37     gas  160000.000000    automatic       pickup  unpublished     0.0   \n",
       "59     gas  186000.000000    automatic          SUV        green     0.0   \n",
       "63     gas   51000.000000       manual  convertible          red     0.0   \n",
       "72     gas   74000.000000    automatic        sedan         blue     1.0   \n",
       "75     gas  186021.000000    automatic          SUV  unpublished     1.0   \n",
       "87     gas  104482.000000    automatic          SUV         blue     1.0   \n",
       "119    gas    1960.781421    automatic          SUV        brown     0.0   \n",
       "126  other    3921.562842        other       pickup  unpublished     1.0   \n",
       "\n",
       "    date_posted  days_listed  \n",
       "9    2019-02-15           17  \n",
       "36   2018-05-05           22  \n",
       "37   2018-07-22           44  \n",
       "59   2018-12-20            2  \n",
       "63   2019-01-23           17  \n",
       "72   2018-08-07           60  \n",
       "75   2018-10-30            3  \n",
       "87   2019-03-04           52  \n",
       "119  2019-02-27           93  \n",
       "126  2018-08-31           44  "
      ]
     },
     "execution_count": 20,
     "metadata": {},
     "output_type": "execute_result"
    }
   ],
   "source": [
    "df[df[\"cylinders\"].isnull()].head(10)"
   ]
  },
  {
   "cell_type": "code",
   "execution_count": 21,
   "metadata": {},
   "outputs": [],
   "source": [
    "# I will replace cylinder with the mean of each model. For every NaN I'll use int().mean() of that model\n",
    "\n",
    "cylinders_mean=(df.groupby(\"model\").mean()[\"cylinders\"]).astype(\"int\").to_frame()\n",
    "cylinders_mean.reset_index(inplace=True)\n",
    "cylinders_mean.columns=[\"model\",\"mean_cylinders\"]\n",
    "dfn= df.merge(cylinders_mean,on=\"model\",how=\"left\")\n",
    "\n",
    "def fix_cylinders(row):\n",
    "    if pd.isna(row[\"cylinders\"]):\n",
    "        return row[\"mean_cylinders\"]\n",
    "    else:\n",
    "        return row[\"cylinders\"]\n",
    "\n",
    "dfn['cylinders'] = dfn.apply(fix_cylinders, axis=1)\n",
    "df=dfn.copy()"
   ]
  },
  {
   "cell_type": "markdown",
   "metadata": {},
   "source": [
    "<div class=\"alert alert-success\" style=\"box-shadow: 4px 4px 4px\">\n",
    "Success: Excellent! That's the right thing to do in this situation!\n",
    "</div>"
   ]
  },
  {
   "cell_type": "code",
   "execution_count": 22,
   "metadata": {},
   "outputs": [],
   "source": [
    "#model_year column is missing in about 6% of the rows.\n",
    "#This data is vital for calculation and rows without model_year are no good for me.\n",
    "#I will delete them\n",
    "#df.dropna(subset=['model_year'], inplace=True)"
   ]
  },
  {
   "cell_type": "markdown",
   "metadata": {},
   "source": [
    "<div class=\"alert alert-info\">\n",
    "  <strong>My fix!</strong> here is what I added / changed\n",
    "</div>"
   ]
  },
  {
   "cell_type": "code",
   "execution_count": 23,
   "metadata": {},
   "outputs": [],
   "source": [
    "#same treatment for model_year - I will replace the NaN with the mean of the type - Trucks, SUVs and so on\n",
    "model_year_mean=(df.groupby(\"type\").mean()[\"model_year\"]).astype(\"int\").to_frame()\n",
    "model_year_mean.reset_index(inplace=True)\n",
    "model_year_mean.columns=[\"type\",\"model_year_mean\"]\n",
    "dfn= df.merge(model_year_mean,on=\"type\",how=\"left\")\n",
    "\n",
    "def fix_model_year(row):\n",
    "    if pd.isna(row[\"model_year\"]):\n",
    "        return row[\"model_year_mean\"]\n",
    "    else:\n",
    "        return row[\"model_year\"]\n",
    "\n",
    "dfn['model_year'] = dfn.apply(fix_model_year, axis=1).astype(\"int\")\n",
    "df=dfn.copy()"
   ]
  },
  {
   "cell_type": "markdown",
   "metadata": {},
   "source": [
    "<div class=\"alert alert-success\" style=\"box-shadow: 4px 4px 4px\">\n",
    "Success: Correct!\n",
    "</div>"
   ]
  },
  {
   "cell_type": "code",
   "execution_count": 24,
   "metadata": {},
   "outputs": [
    {
     "data": {
      "text/html": [
       "<div>\n",
       "<style scoped>\n",
       "    .dataframe tbody tr th:only-of-type {\n",
       "        vertical-align: middle;\n",
       "    }\n",
       "\n",
       "    .dataframe tbody tr th {\n",
       "        vertical-align: top;\n",
       "    }\n",
       "\n",
       "    .dataframe thead th {\n",
       "        text-align: right;\n",
       "    }\n",
       "</style>\n",
       "<table border=\"1\" class=\"dataframe\">\n",
       "  <thead>\n",
       "    <tr style=\"text-align: right;\">\n",
       "      <th></th>\n",
       "      <th>missing_values</th>\n",
       "      <th>% of total</th>\n",
       "    </tr>\n",
       "  </thead>\n",
       "  <tbody>\n",
       "    <tr>\n",
       "      <th>price</th>\n",
       "      <td>0</td>\n",
       "      <td>0.0</td>\n",
       "    </tr>\n",
       "    <tr>\n",
       "      <th>model_year</th>\n",
       "      <td>0</td>\n",
       "      <td>0.0</td>\n",
       "    </tr>\n",
       "    <tr>\n",
       "      <th>model</th>\n",
       "      <td>0</td>\n",
       "      <td>0.0</td>\n",
       "    </tr>\n",
       "    <tr>\n",
       "      <th>condition</th>\n",
       "      <td>0</td>\n",
       "      <td>0.0</td>\n",
       "    </tr>\n",
       "    <tr>\n",
       "      <th>cylinders</th>\n",
       "      <td>0</td>\n",
       "      <td>0.0</td>\n",
       "    </tr>\n",
       "    <tr>\n",
       "      <th>fuel</th>\n",
       "      <td>0</td>\n",
       "      <td>0.0</td>\n",
       "    </tr>\n",
       "    <tr>\n",
       "      <th>odometer</th>\n",
       "      <td>0</td>\n",
       "      <td>0.0</td>\n",
       "    </tr>\n",
       "    <tr>\n",
       "      <th>transmission</th>\n",
       "      <td>0</td>\n",
       "      <td>0.0</td>\n",
       "    </tr>\n",
       "    <tr>\n",
       "      <th>type</th>\n",
       "      <td>0</td>\n",
       "      <td>0.0</td>\n",
       "    </tr>\n",
       "    <tr>\n",
       "      <th>paint_color</th>\n",
       "      <td>0</td>\n",
       "      <td>0.0</td>\n",
       "    </tr>\n",
       "    <tr>\n",
       "      <th>is_4wd</th>\n",
       "      <td>0</td>\n",
       "      <td>0.0</td>\n",
       "    </tr>\n",
       "    <tr>\n",
       "      <th>date_posted</th>\n",
       "      <td>0</td>\n",
       "      <td>0.0</td>\n",
       "    </tr>\n",
       "    <tr>\n",
       "      <th>days_listed</th>\n",
       "      <td>0</td>\n",
       "      <td>0.0</td>\n",
       "    </tr>\n",
       "    <tr>\n",
       "      <th>mean_cylinders</th>\n",
       "      <td>0</td>\n",
       "      <td>0.0</td>\n",
       "    </tr>\n",
       "    <tr>\n",
       "      <th>model_year_mean</th>\n",
       "      <td>0</td>\n",
       "      <td>0.0</td>\n",
       "    </tr>\n",
       "  </tbody>\n",
       "</table>\n",
       "</div>"
      ],
      "text/plain": [
       "                 missing_values  % of total\n",
       "price                         0         0.0\n",
       "model_year                    0         0.0\n",
       "model                         0         0.0\n",
       "condition                     0         0.0\n",
       "cylinders                     0         0.0\n",
       "fuel                          0         0.0\n",
       "odometer                      0         0.0\n",
       "transmission                  0         0.0\n",
       "type                          0         0.0\n",
       "paint_color                   0         0.0\n",
       "is_4wd                        0         0.0\n",
       "date_posted                   0         0.0\n",
       "days_listed                   0         0.0\n",
       "mean_cylinders                0         0.0\n",
       "model_year_mean               0         0.0"
      ]
     },
     "execution_count": 24,
     "metadata": {},
     "output_type": "execute_result"
    }
   ],
   "source": [
    "#just verifying\n",
    "report = df.isna().sum().to_frame()\n",
    "report = report.rename(columns = {0: 'missing_values'})\n",
    "report['% of total'] = (report['missing_values'] / df.shape[0] * 100).round(2)\n",
    "report.sort_values(by = 'missing_values', ascending = False)"
   ]
  },
  {
   "cell_type": "markdown",
   "metadata": {},
   "source": [
    "**conclusion**\n",
    "\n",
    "great! I dealt with 5 missing values columns. I fixed some and deleted the others, now I can continue"
   ]
  },
  {
   "cell_type": "markdown",
   "metadata": {},
   "source": [
    "### Checking for duplicate"
   ]
  },
  {
   "cell_type": "code",
   "execution_count": 25,
   "metadata": {},
   "outputs": [],
   "source": [
    "#first stage of finding duplicates - make all \"Object\" columns lower case \n",
    "#to avoid not finding duplicates with same values but mix upper and lower cases\n",
    "for column in df.select_dtypes(\"object\").columns:\n",
    "    df[column] = df[column].str.lower()"
   ]
  },
  {
   "cell_type": "code",
   "execution_count": 26,
   "metadata": {},
   "outputs": [
    {
     "name": "stdout",
     "output_type": "stream",
     "text": [
      "exact duplicates: 0\n"
     ]
    }
   ],
   "source": [
    "#check to see if there are exact duplicates:\n",
    "dup = df.duplicated().sum()\n",
    "print(f\"exact duplicates: {dup}\")"
   ]
  },
  {
   "cell_type": "markdown",
   "metadata": {},
   "source": [
    "<div class=\"alert alert-warning\" style=\"box-shadow: 4px 4px 4px\">\n",
    "<s>Remark: As I said previously, please do not leave the numbers without signatures. Always write in the output what this number means. </s>\n",
    "</div>"
   ]
  },
  {
   "cell_type": "markdown",
   "metadata": {},
   "source": [
    "**conclusion**\n",
    "\n",
    "I tried to look for duplicates. Because I have no unique key for the ad (I cannot know the unique ad's publisher), I checked for exact copy. There are no duplicates in the data set."
   ]
  },
  {
   "cell_type": "markdown",
   "metadata": {},
   "source": [
    "<div class=\"alert alert-success\" style=\"box-shadow: 4px 4px 4px\">\n",
    "Success: Correct!  \n",
    "</div> "
   ]
  },
  {
   "cell_type": "markdown",
   "metadata": {},
   "source": [
    "### Data type replacement"
   ]
  },
  {
   "cell_type": "code",
   "execution_count": 27,
   "metadata": {},
   "outputs": [
    {
     "name": "stdout",
     "output_type": "stream",
     "text": [
      "<class 'pandas.core.frame.DataFrame'>\n",
      "Int64Index: 50976 entries, 0 to 50975\n",
      "Data columns (total 15 columns):\n",
      " #   Column           Non-Null Count  Dtype  \n",
      "---  ------           --------------  -----  \n",
      " 0   price            50976 non-null  int64  \n",
      " 1   model_year       50976 non-null  int64  \n",
      " 2   model            50976 non-null  object \n",
      " 3   condition        50976 non-null  object \n",
      " 4   cylinders        50976 non-null  float64\n",
      " 5   fuel             50976 non-null  object \n",
      " 6   odometer         50976 non-null  float64\n",
      " 7   transmission     50976 non-null  object \n",
      " 8   type             50976 non-null  object \n",
      " 9   paint_color      50976 non-null  object \n",
      " 10  is_4wd           50976 non-null  float64\n",
      " 11  date_posted      50976 non-null  object \n",
      " 12  days_listed      50976 non-null  int64  \n",
      " 13  mean_cylinders   50976 non-null  int64  \n",
      " 14  model_year_mean  50976 non-null  int64  \n",
      "dtypes: float64(3), int64(5), object(7)\n",
      "memory usage: 6.2+ MB\n"
     ]
    }
   ],
   "source": [
    "#checking the data types\n",
    "df.info()"
   ]
  },
  {
   "cell_type": "markdown",
   "metadata": {},
   "source": [
    "My first goal is to change data type to make processing efficient, by changing from general type like \"object\" to specific type like float or category and from float to integer.\n",
    "My second goal is to use the minimum memory requirement of each column. Thus I check every column to see if memory requirement can be reduce\n",
    "$\\alpha^2$"
   ]
  },
  {
   "cell_type": "code",
   "execution_count": 28,
   "metadata": {},
   "outputs": [
    {
     "data": {
      "text/html": [
       "<div>\n",
       "<style scoped>\n",
       "    .dataframe tbody tr th:only-of-type {\n",
       "        vertical-align: middle;\n",
       "    }\n",
       "\n",
       "    .dataframe tbody tr th {\n",
       "        vertical-align: top;\n",
       "    }\n",
       "\n",
       "    .dataframe thead th {\n",
       "        text-align: right;\n",
       "    }\n",
       "</style>\n",
       "<table border=\"1\" class=\"dataframe\">\n",
       "  <thead>\n",
       "    <tr style=\"text-align: right;\">\n",
       "      <th></th>\n",
       "      <th>Column_Name</th>\n",
       "      <th>Num_Unique</th>\n",
       "    </tr>\n",
       "  </thead>\n",
       "  <tbody>\n",
       "    <tr>\n",
       "      <th>10</th>\n",
       "      <td>is_4wd</td>\n",
       "      <td>2</td>\n",
       "    </tr>\n",
       "    <tr>\n",
       "      <th>7</th>\n",
       "      <td>transmission</td>\n",
       "      <td>3</td>\n",
       "    </tr>\n",
       "    <tr>\n",
       "      <th>5</th>\n",
       "      <td>fuel</td>\n",
       "      <td>5</td>\n",
       "    </tr>\n",
       "    <tr>\n",
       "      <th>14</th>\n",
       "      <td>model_year_mean</td>\n",
       "      <td>5</td>\n",
       "    </tr>\n",
       "    <tr>\n",
       "      <th>3</th>\n",
       "      <td>condition</td>\n",
       "      <td>6</td>\n",
       "    </tr>\n",
       "    <tr>\n",
       "      <th>13</th>\n",
       "      <td>mean_cylinders</td>\n",
       "      <td>6</td>\n",
       "    </tr>\n",
       "    <tr>\n",
       "      <th>4</th>\n",
       "      <td>cylinders</td>\n",
       "      <td>8</td>\n",
       "    </tr>\n",
       "    <tr>\n",
       "      <th>8</th>\n",
       "      <td>type</td>\n",
       "      <td>13</td>\n",
       "    </tr>\n",
       "    <tr>\n",
       "      <th>9</th>\n",
       "      <td>paint_color</td>\n",
       "      <td>13</td>\n",
       "    </tr>\n",
       "    <tr>\n",
       "      <th>1</th>\n",
       "      <td>model_year</td>\n",
       "      <td>68</td>\n",
       "    </tr>\n",
       "    <tr>\n",
       "      <th>2</th>\n",
       "      <td>model</td>\n",
       "      <td>100</td>\n",
       "    </tr>\n",
       "    <tr>\n",
       "      <th>12</th>\n",
       "      <td>days_listed</td>\n",
       "      <td>226</td>\n",
       "    </tr>\n",
       "    <tr>\n",
       "      <th>11</th>\n",
       "      <td>date_posted</td>\n",
       "      <td>354</td>\n",
       "    </tr>\n",
       "    <tr>\n",
       "      <th>0</th>\n",
       "      <td>price</td>\n",
       "      <td>3425</td>\n",
       "    </tr>\n",
       "    <tr>\n",
       "      <th>6</th>\n",
       "      <td>odometer</td>\n",
       "      <td>17815</td>\n",
       "    </tr>\n",
       "  </tbody>\n",
       "</table>\n",
       "</div>"
      ],
      "text/plain": [
       "        Column_Name  Num_Unique\n",
       "10           is_4wd           2\n",
       "7      transmission           3\n",
       "5              fuel           5\n",
       "14  model_year_mean           5\n",
       "3         condition           6\n",
       "13   mean_cylinders           6\n",
       "4         cylinders           8\n",
       "8              type          13\n",
       "9       paint_color          13\n",
       "1        model_year          68\n",
       "2             model         100\n",
       "12      days_listed         226\n",
       "11      date_posted         354\n",
       "0             price        3425\n",
       "6          odometer       17815"
      ]
     },
     "execution_count": 28,
     "metadata": {},
     "output_type": "execute_result"
    }
   ],
   "source": [
    "#Checking for columns I can change to category type\n",
    "pd.DataFrame.from_records([(col, df[col].nunique()) for col in df.columns],\n",
    "                          columns=['Column_Name', 'Num_Unique']).sort_values(by=['Num_Unique'])"
   ]
  },
  {
   "cell_type": "markdown",
   "metadata": {},
   "source": [
    "#### Things planned to do\n",
    "1. price $ \\Rightarrow\\ $ int32\n",
    "2. model_year $ \\Rightarrow\\ $ int32\n",
    "3. model - keep\n",
    "4. condition - keep, It will be replace by number\n",
    "5. cylinders $ \\Rightarrow\\ $ int16\n",
    "6. fuel $ \\Rightarrow\\ $ category\n",
    "7. odometer $ \\Rightarrow\\ $ int64\n",
    "8. transmission $ \\Rightarrow\\ $ category\n",
    "9. type $ \\Rightarrow\\ $ category\n",
    "10. paint_color $ \\Rightarrow\\ $ category\n",
    "11. is_4wd $ \\Rightarrow\\ $ bool\n",
    "12. date_posted $ \\Rightarrow\\ $ DateTime\n",
    "13. days_listed $ \\Rightarrow\\ $ int32"
   ]
  },
  {
   "cell_type": "markdown",
   "metadata": {},
   "source": [
    "#### Changes I will do\n",
    "because the data file is not very big (5.1M), I will change only the necessary data types as follow:\n",
    "1. model_year $ \\Rightarrow\\ $ int32\n",
    "2. cylinders $ \\Rightarrow\\ $ int64\n",
    "3. fuel $ \\Rightarrow\\ $ category\n",
    "4. odometer $ \\Rightarrow\\ $ int64\n",
    "5. transmission $ \\Rightarrow\\ $ category\n",
    "6. type $ \\Rightarrow\\ $ category\n",
    "7. paint_color $ \\Rightarrow\\ $ category\n",
    "8. is_4wd $ \\Rightarrow\\ $ bool\n",
    "9. date_posted $ \\Rightarrow\\ $ DateTime"
   ]
  },
  {
   "cell_type": "code",
   "execution_count": 29,
   "metadata": {},
   "outputs": [],
   "source": [
    "df[\"model_year\"]=df[\"model_year\"].astype(\"int32\")\n",
    "df[\"cylinders\"]=df[\"cylinders\"].astype(\"int64\")\n",
    "df[\"fuel\"]=df[\"fuel\"].astype(\"category\")\n",
    "df[\"odometer\"]=df[\"odometer\"].astype(\"int64\")\n",
    "df[\"transmission\"]=df[\"transmission\"].astype(\"category\")\n",
    "df[\"type\"]=df[\"type\"].astype(\"category\")\n",
    "df[\"paint_color\"]=df[\"paint_color\"].astype(\"category\")\n",
    "df[\"is_4wd\"]=df[\"is_4wd\"].astype(\"bool\")\n",
    "df[\"date_posted\"]= pd.to_datetime(df[\"date_posted\"], format=\"%Y-%m-%d\")"
   ]
  },
  {
   "cell_type": "markdown",
   "metadata": {},
   "source": [
    "<div class=\"alert alert-success\" style=\"box-shadow: 4px 4px 4px\">\n",
    "Success: Amazing! \n",
    "</div>"
   ]
  },
  {
   "cell_type": "code",
   "execution_count": 30,
   "metadata": {},
   "outputs": [
    {
     "name": "stdout",
     "output_type": "stream",
     "text": [
      "<class 'pandas.core.frame.DataFrame'>\n",
      "Int64Index: 50976 entries, 0 to 50975\n",
      "Data columns (total 15 columns):\n",
      " #   Column           Non-Null Count  Dtype         \n",
      "---  ------           --------------  -----         \n",
      " 0   price            50976 non-null  int64         \n",
      " 1   model_year       50976 non-null  int32         \n",
      " 2   model            50976 non-null  object        \n",
      " 3   condition        50976 non-null  object        \n",
      " 4   cylinders        50976 non-null  int64         \n",
      " 5   fuel             50976 non-null  category      \n",
      " 6   odometer         50976 non-null  int64         \n",
      " 7   transmission     50976 non-null  category      \n",
      " 8   type             50976 non-null  category      \n",
      " 9   paint_color      50976 non-null  category      \n",
      " 10  is_4wd           50976 non-null  bool          \n",
      " 11  date_posted      50976 non-null  datetime64[ns]\n",
      " 12  days_listed      50976 non-null  int64         \n",
      " 13  mean_cylinders   50976 non-null  int64         \n",
      " 14  model_year_mean  50976 non-null  int64         \n",
      "dtypes: bool(1), category(4), datetime64[ns](1), int32(1), int64(6), object(2)\n",
      "memory usage: 4.3+ MB\n"
     ]
    }
   ],
   "source": [
    "#checking the data types are changed\n",
    "df.info()"
   ]
  },
  {
   "cell_type": "markdown",
   "metadata": {},
   "source": [
    "The total memory saving: from 5.1+ MB to 3.0+ MB"
   ]
  },
  {
   "cell_type": "markdown",
   "metadata": {},
   "source": [
    "<div class=\"alert alert-success\" style=\"box-shadow: 4px 4px 4px\">\n",
    "Success: Incredible! It is always great to save memory.\n",
    "</div>"
   ]
  },
  {
   "cell_type": "markdown",
   "metadata": {},
   "source": [
    "### Categorizing Data"
   ]
  },
  {
   "cell_type": "markdown",
   "metadata": {},
   "source": [
    "I will start with checking the columns that I can benefit from categorizing. I'll check: price and days_listed. I'll use 4 group for each: <25%, 25%-50%, 50%-75%, >75% as follow:"
   ]
  },
  {
   "cell_type": "code",
   "execution_count": 31,
   "metadata": {},
   "outputs": [
    {
     "data": {
      "text/html": [
       "<div>\n",
       "<style scoped>\n",
       "    .dataframe tbody tr th:only-of-type {\n",
       "        vertical-align: middle;\n",
       "    }\n",
       "\n",
       "    .dataframe tbody tr th {\n",
       "        vertical-align: top;\n",
       "    }\n",
       "\n",
       "    .dataframe thead th {\n",
       "        text-align: right;\n",
       "    }\n",
       "</style>\n",
       "<table border=\"1\" class=\"dataframe\">\n",
       "  <thead>\n",
       "    <tr style=\"text-align: right;\">\n",
       "      <th></th>\n",
       "      <th>price</th>\n",
       "      <th>model_year</th>\n",
       "      <th>cylinders</th>\n",
       "      <th>odometer</th>\n",
       "      <th>days_listed</th>\n",
       "      <th>mean_cylinders</th>\n",
       "      <th>model_year_mean</th>\n",
       "    </tr>\n",
       "  </thead>\n",
       "  <tbody>\n",
       "    <tr>\n",
       "      <th>count</th>\n",
       "      <td>50976.000000</td>\n",
       "      <td>50976.000000</td>\n",
       "      <td>50976.000000</td>\n",
       "      <td>50976.000000</td>\n",
       "      <td>50976.000000</td>\n",
       "      <td>50976.000000</td>\n",
       "      <td>50976.000000</td>\n",
       "    </tr>\n",
       "    <tr>\n",
       "      <th>mean</th>\n",
       "      <td>12130.932243</td>\n",
       "      <td>2009.711276</td>\n",
       "      <td>6.074839</td>\n",
       "      <td>99710.433380</td>\n",
       "      <td>39.542628</td>\n",
       "      <td>5.638300</td>\n",
       "      <td>2009.078566</td>\n",
       "    </tr>\n",
       "    <tr>\n",
       "      <th>std</th>\n",
       "      <td>10042.100831</td>\n",
       "      <td>6.096031</td>\n",
       "      <td>1.639935</td>\n",
       "      <td>71560.422821</td>\n",
       "      <td>28.197632</td>\n",
       "      <td>1.369184</td>\n",
       "      <td>0.970444</td>\n",
       "    </tr>\n",
       "    <tr>\n",
       "      <th>min</th>\n",
       "      <td>1.000000</td>\n",
       "      <td>1908.000000</td>\n",
       "      <td>3.000000</td>\n",
       "      <td>0.000000</td>\n",
       "      <td>0.000000</td>\n",
       "      <td>3.000000</td>\n",
       "      <td>2002.000000</td>\n",
       "    </tr>\n",
       "    <tr>\n",
       "      <th>25%</th>\n",
       "      <td>5000.000000</td>\n",
       "      <td>2007.000000</td>\n",
       "      <td>4.000000</td>\n",
       "      <td>38415.000000</td>\n",
       "      <td>19.000000</td>\n",
       "      <td>4.000000</td>\n",
       "      <td>2009.000000</td>\n",
       "    </tr>\n",
       "    <tr>\n",
       "      <th>50%</th>\n",
       "      <td>9000.000000</td>\n",
       "      <td>2010.000000</td>\n",
       "      <td>6.000000</td>\n",
       "      <td>100000.000000</td>\n",
       "      <td>33.000000</td>\n",
       "      <td>6.000000</td>\n",
       "      <td>2009.000000</td>\n",
       "    </tr>\n",
       "    <tr>\n",
       "      <th>75%</th>\n",
       "      <td>16800.000000</td>\n",
       "      <td>2014.000000</td>\n",
       "      <td>8.000000</td>\n",
       "      <td>147206.750000</td>\n",
       "      <td>53.000000</td>\n",
       "      <td>7.000000</td>\n",
       "      <td>2010.000000</td>\n",
       "    </tr>\n",
       "    <tr>\n",
       "      <th>max</th>\n",
       "      <td>375000.000000</td>\n",
       "      <td>2019.000000</td>\n",
       "      <td>12.000000</td>\n",
       "      <td>990000.000000</td>\n",
       "      <td>271.000000</td>\n",
       "      <td>8.000000</td>\n",
       "      <td>2010.000000</td>\n",
       "    </tr>\n",
       "  </tbody>\n",
       "</table>\n",
       "</div>"
      ],
      "text/plain": [
       "               price    model_year     cylinders       odometer   days_listed  \\\n",
       "count   50976.000000  50976.000000  50976.000000   50976.000000  50976.000000   \n",
       "mean    12130.932243   2009.711276      6.074839   99710.433380     39.542628   \n",
       "std     10042.100831      6.096031      1.639935   71560.422821     28.197632   \n",
       "min         1.000000   1908.000000      3.000000       0.000000      0.000000   \n",
       "25%      5000.000000   2007.000000      4.000000   38415.000000     19.000000   \n",
       "50%      9000.000000   2010.000000      6.000000  100000.000000     33.000000   \n",
       "75%     16800.000000   2014.000000      8.000000  147206.750000     53.000000   \n",
       "max    375000.000000   2019.000000     12.000000  990000.000000    271.000000   \n",
       "\n",
       "       mean_cylinders  model_year_mean  \n",
       "count    50976.000000     50976.000000  \n",
       "mean         5.638300      2009.078566  \n",
       "std          1.369184         0.970444  \n",
       "min          3.000000      2002.000000  \n",
       "25%          4.000000      2009.000000  \n",
       "50%          6.000000      2009.000000  \n",
       "75%          7.000000      2010.000000  \n",
       "max          8.000000      2010.000000  "
      ]
     },
     "execution_count": 31,
     "metadata": {},
     "output_type": "execute_result"
    }
   ],
   "source": [
    "df.describe()"
   ]
  },
  {
   "cell_type": "code",
   "execution_count": null,
   "metadata": {},
   "outputs": [],
   "source": []
  },
  {
   "cell_type": "code",
   "execution_count": 32,
   "metadata": {},
   "outputs": [],
   "source": [
    "def assign_price_group(price):\n",
    "    if price <= 5_000:\n",
    "        return 'A 1-5000'\n",
    "    elif price <= 9_000:\n",
    "        return \"B 5000-9000\"\n",
    "    elif price <= 16_900:\n",
    "        return \"C 9000-16900\"\n",
    "    return \"D 16900+\"\n",
    "\n",
    "def assign_day_listed_group(day):\n",
    "    if day <= 19:\n",
    "        return 'A 0-19'\n",
    "    elif day <= 33:\n",
    "        return \"B 20-33\"\n",
    "    elif day <= 53:\n",
    "        return \"C 34-53\"\n",
    "    return \"D 54+\"\n",
    "\n",
    "df[\"price_group\"] = df[\"price\"].apply(assign_price_group)\n",
    "df[\"day_listed_group\"] = df[\"days_listed\"].apply(assign_day_listed_group)"
   ]
  },
  {
   "cell_type": "code",
   "execution_count": 33,
   "metadata": {},
   "outputs": [],
   "source": [
    "df[\"price_group\"]=df[\"price_group\"].astype(\"category\")\n",
    "df[\"day_listed_group\"]=df[\"day_listed_group\"].astype(\"category\")"
   ]
  },
  {
   "cell_type": "markdown",
   "metadata": {},
   "source": [
    "<div class=\"alert alert-success\" style=\"box-shadow: 4px 4px 4px\">\n",
    "    Success: great that functions and <code>.apply()</code> were used!\n",
    "</div>"
   ]
  },
  {
   "cell_type": "markdown",
   "metadata": {},
   "source": [
    "**conclusion**\n",
    "\n",
    "I have made two new columns for categorizing price and day_listed"
   ]
  },
  {
   "cell_type": "markdown",
   "metadata": {},
   "source": [
    "## Make calculations and add them to the table"
   ]
  },
  {
   "cell_type": "markdown",
   "metadata": {},
   "source": [
    "### Day of the week, month, and year the ad was placed"
   ]
  },
  {
   "cell_type": "code",
   "execution_count": 34,
   "metadata": {},
   "outputs": [],
   "source": [
    "df[\"Day_of_the_week\"]= df[\"date_posted\"].dt.weekday\n",
    "df[\"month\"]=pd.to_datetime(df['date_posted']).dt.month\n",
    "df[\"year\"]=pd.to_datetime(df['date_posted']).dt.year"
   ]
  },
  {
   "cell_type": "code",
   "execution_count": 35,
   "metadata": {},
   "outputs": [],
   "source": [
    "df[\"Day_of_the_week\"]=df[\"Day_of_the_week\"].astype(\"int16\")\n",
    "df[\"month\"]=df[\"month\"].astype(\"int16\")"
   ]
  },
  {
   "cell_type": "markdown",
   "metadata": {},
   "source": [
    "<div class=\"alert alert-success\" style=\"box-shadow: 4px 4px 4px\">\n",
    "Success: Correct! Again, reducing memory is very useful.\n",
    "</div>"
   ]
  },
  {
   "cell_type": "markdown",
   "metadata": {},
   "source": [
    "### The vehicle's age (in years) when the ad was placed"
   ]
  },
  {
   "cell_type": "code",
   "execution_count": 36,
   "metadata": {},
   "outputs": [],
   "source": [
    "df[\"age\"]=pd.to_datetime(df['date_posted']).dt.year - df[\"model_year\"]\n",
    "df[\"age\"]+=1"
   ]
  },
  {
   "cell_type": "markdown",
   "metadata": {},
   "source": [
    "<div class=\"alert alert-warning\" style=\"box-shadow: 4px 4px 4px\">\n",
    "    <s>Remark: it is better to consider <code>df['age']+1</code>. This will get rid of problems with division by zero in the future.</s>\n",
    "</div>"
   ]
  },
  {
   "cell_type": "code",
   "execution_count": 37,
   "metadata": {},
   "outputs": [],
   "source": [
    "df[\"age\"]=df[\"age\"].astype(\"int32\")"
   ]
  },
  {
   "cell_type": "code",
   "execution_count": 38,
   "metadata": {},
   "outputs": [
    {
     "data": {
      "text/plain": [
       "count    50976.000000\n",
       "mean         9.596143\n",
       "std          6.109912\n",
       "min          1.000000\n",
       "25%          5.000000\n",
       "50%          9.000000\n",
       "75%         13.000000\n",
       "max        111.000000\n",
       "Name: age, dtype: float64"
      ]
     },
     "execution_count": 38,
     "metadata": {},
     "output_type": "execute_result"
    }
   ],
   "source": [
    "df[\"age\"].describe()"
   ]
  },
  {
   "cell_type": "code",
   "execution_count": 39,
   "metadata": {},
   "outputs": [],
   "source": [
    "#adding car age group\n",
    "def assign_car_age_group(age):\n",
    "    if age <= 4:\n",
    "        return 'A 0-4'\n",
    "    elif age <= 7:\n",
    "        return \"B 5-7\"\n",
    "    elif age <= 12:\n",
    "        return \"C 8-12\"\n",
    "    return \"D 13+\"\n",
    "\n",
    "df[\"age_group\"] = df[\"age\"].apply(assign_car_age_group)"
   ]
  },
  {
   "cell_type": "code",
   "execution_count": 40,
   "metadata": {},
   "outputs": [],
   "source": [
    "df[\"age_group\"]=df[\"age_group\"].astype(\"category\")"
   ]
  },
  {
   "cell_type": "markdown",
   "metadata": {},
   "source": [
    "<div class=\"alert alert-success\" style=\"box-shadow: 4px 4px 4px\">\n",
    "Success:  🦾\n",
    "</div>"
   ]
  },
  {
   "cell_type": "markdown",
   "metadata": {},
   "source": [
    "### The vehicle's average mileage per year"
   ]
  },
  {
   "cell_type": "code",
   "execution_count": 41,
   "metadata": {},
   "outputs": [],
   "source": [
    "df[\"mileage_per_year\"] = df[\"odometer\"] / df[\"age\"]"
   ]
  },
  {
   "cell_type": "code",
   "execution_count": 42,
   "metadata": {},
   "outputs": [
    {
     "name": "stdout",
     "output_type": "stream",
     "text": [
      "mileage_per_year: 0.0\n"
     ]
    }
   ],
   "source": [
    "#checking for error on calculation\n",
    "mpy = df[\"mileage_per_year\"].isnull().mean() * 100\n",
    "print(f\"mileage_per_year: {mpy}\")"
   ]
  },
  {
   "cell_type": "markdown",
   "metadata": {},
   "source": [
    "<div class=\"alert alert-warning\" style=\"box-shadow: 4px 4px 4px\">\n",
    "<s>Remark: As I said previously, please do not leave the numbers without signatures. Always write in the output what this number means. </s>\n",
    "</div>"
   ]
  },
  {
   "cell_type": "code",
   "execution_count": 43,
   "metadata": {},
   "outputs": [],
   "source": [
    "#because the error rate is less than 1% (0.67%), I will delete them\n",
    "df.dropna(subset=['mileage_per_year'], inplace=True)"
   ]
  },
  {
   "cell_type": "markdown",
   "metadata": {},
   "source": [
    "<div class=\"alert alert-warning\" style=\"box-shadow: 4px 4px 4px\">\n",
    "    <s>Remark: as I said, it would be better to add 1 to this column. </s>\n",
    "</div>"
   ]
  },
  {
   "cell_type": "code",
   "execution_count": 44,
   "metadata": {},
   "outputs": [
    {
     "data": {
      "text/plain": [
       "count     50976.000000\n",
       "mean      12439.345241\n",
       "std        9806.327306\n",
       "min           0.000000\n",
       "25%        6703.651250\n",
       "50%       11768.933566\n",
       "75%       16666.666667\n",
       "max      373200.000000\n",
       "Name: mileage_per_year, dtype: float64"
      ]
     },
     "execution_count": 44,
     "metadata": {},
     "output_type": "execute_result"
    }
   ],
   "source": [
    "df[\"mileage_per_year\"].describe()"
   ]
  },
  {
   "cell_type": "markdown",
   "metadata": {},
   "source": [
    "<div class=\"alert alert-warning\" style=\"box-shadow: 4px 4px 4px\">\n",
    "    Remark: as you can see, the mean and the maximum value are not infinity, as it was earlier. \n",
    "</div>"
   ]
  },
  {
   "cell_type": "code",
   "execution_count": 45,
   "metadata": {},
   "outputs": [],
   "source": [
    "#adding mileage_per_year group\n",
    "def assign_mean_mileage_group(mile):\n",
    "    if mile <= 7830:\n",
    "        return \"A 0-7,830\"\n",
    "    elif mile <= 13760:\n",
    "        return \"B 7,831-13,760\"\n",
    "    elif mile <= 20870:\n",
    "        return \"C 13,761-20,870\"\n",
    "    return \"D 20,871+\"\n",
    "\n",
    "df[\"mileage_per_year_group\"] = df[\"mileage_per_year\"].apply(assign_mean_mileage_group)\n",
    "df[\"mileage_per_year_group\"] = df[\"mileage_per_year_group\"].astype(\"category\")"
   ]
  },
  {
   "cell_type": "markdown",
   "metadata": {},
   "source": [
    "<div class=\"alert alert-success\" style=\"box-shadow: 4px 4px 4px\">\n",
    "    Success: Agree\n",
    "</div>"
   ]
  },
  {
   "cell_type": "markdown",
   "metadata": {},
   "source": [
    "### In the condition column, replace string values with a numeric scale"
   ]
  },
  {
   "cell_type": "markdown",
   "metadata": {},
   "source": [
    "In the condition column, replace string values with a numeric scale:\n",
    "\n",
    "    new = 5\n",
    "    like new = 4\n",
    "    excellent = 3\n",
    "    good = 2\n",
    "    fair = 1\n",
    "    salvage = 0"
   ]
  },
  {
   "cell_type": "code",
   "execution_count": 46,
   "metadata": {},
   "outputs": [
    {
     "data": {
      "text/plain": [
       "excellent    24533\n",
       "good         19901\n",
       "like new      4693\n",
       "fair          1592\n",
       "new            143\n",
       "salvage        114\n",
       "Name: condition, dtype: int64"
      ]
     },
     "execution_count": 46,
     "metadata": {},
     "output_type": "execute_result"
    }
   ],
   "source": [
    "#checking the content of df[\"condition\"], only 6 options, nothing else\n",
    "df [\"condition\"].value_counts()"
   ]
  },
  {
   "cell_type": "code",
   "execution_count": 47,
   "metadata": {},
   "outputs": [],
   "source": [
    "def assign_condition(condition):\n",
    "    if condition == \"new\":\n",
    "        return 5\n",
    "    elif condition == \"like new\":\n",
    "        return 4\n",
    "    elif condition == \"excellent\":\n",
    "        return 3\n",
    "    elif condition == \"good\":\n",
    "        return 2\n",
    "    elif condition == \"fair\":\n",
    "        return 1\n",
    "    return 0\n",
    "df[\"condition\"] = df[\"condition\"].apply(assign_condition)"
   ]
  },
  {
   "cell_type": "code",
   "execution_count": 48,
   "metadata": {},
   "outputs": [
    {
     "data": {
      "text/html": [
       "<div>\n",
       "<style scoped>\n",
       "    .dataframe tbody tr th:only-of-type {\n",
       "        vertical-align: middle;\n",
       "    }\n",
       "\n",
       "    .dataframe tbody tr th {\n",
       "        vertical-align: top;\n",
       "    }\n",
       "\n",
       "    .dataframe thead th {\n",
       "        text-align: right;\n",
       "    }\n",
       "</style>\n",
       "<table border=\"1\" class=\"dataframe\">\n",
       "  <thead>\n",
       "    <tr style=\"text-align: right;\">\n",
       "      <th></th>\n",
       "      <th>price</th>\n",
       "      <th>model_year</th>\n",
       "      <th>model</th>\n",
       "      <th>condition</th>\n",
       "      <th>cylinders</th>\n",
       "      <th>fuel</th>\n",
       "      <th>odometer</th>\n",
       "      <th>transmission</th>\n",
       "      <th>type</th>\n",
       "      <th>paint_color</th>\n",
       "      <th>...</th>\n",
       "      <th>model_year_mean</th>\n",
       "      <th>price_group</th>\n",
       "      <th>day_listed_group</th>\n",
       "      <th>Day_of_the_week</th>\n",
       "      <th>month</th>\n",
       "      <th>year</th>\n",
       "      <th>age</th>\n",
       "      <th>age_group</th>\n",
       "      <th>mileage_per_year</th>\n",
       "      <th>mileage_per_year_group</th>\n",
       "    </tr>\n",
       "  </thead>\n",
       "  <tbody>\n",
       "    <tr>\n",
       "      <th>0</th>\n",
       "      <td>9400</td>\n",
       "      <td>2011</td>\n",
       "      <td>bmw x5</td>\n",
       "      <td>2</td>\n",
       "      <td>6</td>\n",
       "      <td>gas</td>\n",
       "      <td>145000</td>\n",
       "      <td>automatic</td>\n",
       "      <td>suv</td>\n",
       "      <td>unpublished</td>\n",
       "      <td>...</td>\n",
       "      <td>2009</td>\n",
       "      <td>C 9000-16900</td>\n",
       "      <td>A 0-19</td>\n",
       "      <td>5</td>\n",
       "      <td>6</td>\n",
       "      <td>2018</td>\n",
       "      <td>8</td>\n",
       "      <td>C 8-12</td>\n",
       "      <td>18125.000000</td>\n",
       "      <td>C 13,761-20,870</td>\n",
       "    </tr>\n",
       "    <tr>\n",
       "      <th>1</th>\n",
       "      <td>25500</td>\n",
       "      <td>2009</td>\n",
       "      <td>ford f-150</td>\n",
       "      <td>2</td>\n",
       "      <td>6</td>\n",
       "      <td>gas</td>\n",
       "      <td>88705</td>\n",
       "      <td>automatic</td>\n",
       "      <td>pickup</td>\n",
       "      <td>white</td>\n",
       "      <td>...</td>\n",
       "      <td>2009</td>\n",
       "      <td>D 16900+</td>\n",
       "      <td>C 34-53</td>\n",
       "      <td>4</td>\n",
       "      <td>10</td>\n",
       "      <td>2018</td>\n",
       "      <td>10</td>\n",
       "      <td>C 8-12</td>\n",
       "      <td>8870.500000</td>\n",
       "      <td>B 7,831-13,760</td>\n",
       "    </tr>\n",
       "    <tr>\n",
       "      <th>2</th>\n",
       "      <td>5500</td>\n",
       "      <td>2013</td>\n",
       "      <td>hyundai sonata</td>\n",
       "      <td>4</td>\n",
       "      <td>4</td>\n",
       "      <td>gas</td>\n",
       "      <td>110000</td>\n",
       "      <td>automatic</td>\n",
       "      <td>sedan</td>\n",
       "      <td>red</td>\n",
       "      <td>...</td>\n",
       "      <td>2010</td>\n",
       "      <td>B 5000-9000</td>\n",
       "      <td>D 54+</td>\n",
       "      <td>3</td>\n",
       "      <td>2</td>\n",
       "      <td>2019</td>\n",
       "      <td>7</td>\n",
       "      <td>B 5-7</td>\n",
       "      <td>15714.285714</td>\n",
       "      <td>C 13,761-20,870</td>\n",
       "    </tr>\n",
       "    <tr>\n",
       "      <th>3</th>\n",
       "      <td>1500</td>\n",
       "      <td>2003</td>\n",
       "      <td>ford f-150</td>\n",
       "      <td>1</td>\n",
       "      <td>8</td>\n",
       "      <td>gas</td>\n",
       "      <td>10457</td>\n",
       "      <td>automatic</td>\n",
       "      <td>pickup</td>\n",
       "      <td>unpublished</td>\n",
       "      <td>...</td>\n",
       "      <td>2009</td>\n",
       "      <td>A 1-5000</td>\n",
       "      <td>A 0-19</td>\n",
       "      <td>4</td>\n",
       "      <td>3</td>\n",
       "      <td>2019</td>\n",
       "      <td>17</td>\n",
       "      <td>D 13+</td>\n",
       "      <td>615.117647</td>\n",
       "      <td>A 0-7,830</td>\n",
       "    </tr>\n",
       "    <tr>\n",
       "      <th>4</th>\n",
       "      <td>14900</td>\n",
       "      <td>2017</td>\n",
       "      <td>chrysler 200</td>\n",
       "      <td>3</td>\n",
       "      <td>4</td>\n",
       "      <td>gas</td>\n",
       "      <td>80903</td>\n",
       "      <td>automatic</td>\n",
       "      <td>sedan</td>\n",
       "      <td>black</td>\n",
       "      <td>...</td>\n",
       "      <td>2010</td>\n",
       "      <td>C 9000-16900</td>\n",
       "      <td>B 20-33</td>\n",
       "      <td>1</td>\n",
       "      <td>4</td>\n",
       "      <td>2019</td>\n",
       "      <td>3</td>\n",
       "      <td>A 0-4</td>\n",
       "      <td>26967.666667</td>\n",
       "      <td>D 20,871+</td>\n",
       "    </tr>\n",
       "  </tbody>\n",
       "</table>\n",
       "<p>5 rows × 24 columns</p>\n",
       "</div>"
      ],
      "text/plain": [
       "   price  model_year           model  condition  cylinders fuel  odometer  \\\n",
       "0   9400        2011          bmw x5          2          6  gas    145000   \n",
       "1  25500        2009      ford f-150          2          6  gas     88705   \n",
       "2   5500        2013  hyundai sonata          4          4  gas    110000   \n",
       "3   1500        2003      ford f-150          1          8  gas     10457   \n",
       "4  14900        2017    chrysler 200          3          4  gas     80903   \n",
       "\n",
       "  transmission    type  paint_color  ...  model_year_mean   price_group  \\\n",
       "0    automatic     suv  unpublished  ...             2009  C 9000-16900   \n",
       "1    automatic  pickup        white  ...             2009      D 16900+   \n",
       "2    automatic   sedan          red  ...             2010   B 5000-9000   \n",
       "3    automatic  pickup  unpublished  ...             2009      A 1-5000   \n",
       "4    automatic   sedan        black  ...             2010  C 9000-16900   \n",
       "\n",
       "   day_listed_group  Day_of_the_week  month  year age  age_group  \\\n",
       "0            A 0-19                5      6  2018   8     C 8-12   \n",
       "1           C 34-53                4     10  2018  10     C 8-12   \n",
       "2             D 54+                3      2  2019   7      B 5-7   \n",
       "3            A 0-19                4      3  2019  17      D 13+   \n",
       "4           B 20-33                1      4  2019   3      A 0-4   \n",
       "\n",
       "   mileage_per_year  mileage_per_year_group  \n",
       "0      18125.000000         C 13,761-20,870  \n",
       "1       8870.500000          B 7,831-13,760  \n",
       "2      15714.285714         C 13,761-20,870  \n",
       "3        615.117647               A 0-7,830  \n",
       "4      26967.666667               D 20,871+  \n",
       "\n",
       "[5 rows x 24 columns]"
      ]
     },
     "execution_count": 48,
     "metadata": {},
     "output_type": "execute_result"
    }
   ],
   "source": [
    "#checking..\n",
    "df.head()"
   ]
  },
  {
   "cell_type": "markdown",
   "metadata": {},
   "source": [
    "<div class=\"alert alert-success\" style=\"box-shadow: 4px 4px 4px\">\n",
    "    Success: again, great that fuction and <code>.apply()</code> method were used!\n",
    "</div>"
   ]
  },
  {
   "cell_type": "markdown",
   "metadata": {},
   "source": [
    "### Investigating parameters: price, vehicle's age when the ad was placed, mileage, number of cylinders, and condition"
   ]
  },
  {
   "cell_type": "markdown",
   "metadata": {},
   "source": [
    "- checking for relation between price and days_listed"
   ]
  },
  {
   "cell_type": "code",
   "execution_count": null,
   "metadata": {},
   "outputs": [],
   "source": []
  },
  {
   "cell_type": "code",
   "execution_count": 49,
   "metadata": {
    "scrolled": false
   },
   "outputs": [
    {
     "data": {
      "text/html": [
       "<style  type=\"text/css\" >\n",
       "#T_fc07c_row0_col0,#T_fc07c_row0_col1,#T_fc07c_row0_col2,#T_fc07c_row0_col3,#T_fc07c_row0_col4,#T_fc07c_row0_col5{\n",
       "            width:  10em;\n",
       "             height:  80%;\n",
       "            background:  linear-gradient(90deg,lightblue 100.0%, transparent 100.0%);\n",
       "        }#T_fc07c_row1_col0{\n",
       "            width:  10em;\n",
       "             height:  80%;\n",
       "            background:  linear-gradient(90deg,lightblue 40.9%, transparent 40.9%);\n",
       "        }#T_fc07c_row1_col1{\n",
       "            width:  10em;\n",
       "             height:  80%;\n",
       "            background:  linear-gradient(90deg,lightblue 3.2%, transparent 3.2%);\n",
       "        }#T_fc07c_row1_col2,#T_fc07c_row1_col3,#T_fc07c_row1_col4,#T_fc07c_row1_col5,#T_fc07c_row3_col0,#T_fc07c_row3_col1{\n",
       "            width:  10em;\n",
       "             height:  80%;\n",
       "        }#T_fc07c_row2_col0{\n",
       "            width:  10em;\n",
       "             height:  80%;\n",
       "            background:  linear-gradient(90deg,lightblue 24.5%, transparent 24.5%);\n",
       "        }#T_fc07c_row2_col1{\n",
       "            width:  10em;\n",
       "             height:  80%;\n",
       "            background:  linear-gradient(90deg,lightblue 12.7%, transparent 12.7%);\n",
       "        }#T_fc07c_row2_col2{\n",
       "            width:  10em;\n",
       "             height:  80%;\n",
       "            background:  linear-gradient(90deg,lightblue 55.8%, transparent 55.8%);\n",
       "        }#T_fc07c_row2_col3{\n",
       "            width:  10em;\n",
       "             height:  80%;\n",
       "            background:  linear-gradient(90deg,lightblue 98.1%, transparent 98.1%);\n",
       "        }#T_fc07c_row2_col4,#T_fc07c_row2_col5{\n",
       "            width:  10em;\n",
       "             height:  80%;\n",
       "            background:  linear-gradient(90deg,lightblue 52.2%, transparent 52.2%);\n",
       "        }#T_fc07c_row3_col2{\n",
       "            width:  10em;\n",
       "             height:  80%;\n",
       "            background:  linear-gradient(90deg,lightblue 16.3%, transparent 16.3%);\n",
       "        }#T_fc07c_row3_col3{\n",
       "            width:  10em;\n",
       "             height:  80%;\n",
       "            background:  linear-gradient(90deg,lightblue 20.8%, transparent 20.8%);\n",
       "        }#T_fc07c_row3_col4,#T_fc07c_row3_col5{\n",
       "            width:  10em;\n",
       "             height:  80%;\n",
       "            background:  linear-gradient(90deg,lightblue 4.0%, transparent 4.0%);\n",
       "        }</style><table id=\"T_fc07c_\" ><thead>    <tr>        <th class=\"index_name level0\" >day_listed_group</th>        <th class=\"col_heading level0 col0\" >A 0-19</th>        <th class=\"col_heading level0 col1\" >B 20-33</th>        <th class=\"col_heading level0 col2\" >C 34-53</th>        <th class=\"col_heading level0 col3\" >D 54+</th>        <th class=\"col_heading level0 col4\" >All</th>        <th class=\"col_heading level0 col5\" >ratio_%</th>    </tr>    <tr>        <th class=\"index_name level0\" >price_group</th>        <th class=\"blank\" ></th>        <th class=\"blank\" ></th>        <th class=\"blank\" ></th>        <th class=\"blank\" ></th>        <th class=\"blank\" ></th>        <th class=\"blank\" ></th>    </tr></thead><tbody>\n",
       "                <tr>\n",
       "                        <th id=\"T_fc07c_level0_row0\" class=\"row_heading level0 row0\" >A 1-5000</th>\n",
       "                        <td id=\"T_fc07c_row0_col0\" class=\"data row0 col0\" >3407</td>\n",
       "                        <td id=\"T_fc07c_row0_col1\" class=\"data row0 col1\" >3178</td>\n",
       "                        <td id=\"T_fc07c_row0_col2\" class=\"data row0 col2\" >3246</td>\n",
       "                        <td id=\"T_fc07c_row0_col3\" class=\"data row0 col3\" >3261</td>\n",
       "                        <td id=\"T_fc07c_row0_col4\" class=\"data row0 col4\" >13092</td>\n",
       "                        <td id=\"T_fc07c_row0_col5\" class=\"data row0 col5\" >25.682674</td>\n",
       "            </tr>\n",
       "            <tr>\n",
       "                        <th id=\"T_fc07c_level0_row1\" class=\"row_heading level0 row1\" >B 5000-9000</th>\n",
       "                        <td id=\"T_fc07c_row1_col0\" class=\"data row1 col0\" >3342</td>\n",
       "                        <td id=\"T_fc07c_row1_col1\" class=\"data row1 col1\" >3056</td>\n",
       "                        <td id=\"T_fc07c_row1_col2\" class=\"data row1 col2\" >3074</td>\n",
       "                        <td id=\"T_fc07c_row1_col3\" class=\"data row1 col3\" >3049</td>\n",
       "                        <td id=\"T_fc07c_row1_col4\" class=\"data row1 col4\" >12521</td>\n",
       "                        <td id=\"T_fc07c_row1_col5\" class=\"data row1 col5\" >24.562539</td>\n",
       "            </tr>\n",
       "            <tr>\n",
       "                        <th id=\"T_fc07c_level0_row2\" class=\"row_heading level0 row2\" >C 9000-16900</th>\n",
       "                        <td id=\"T_fc07c_row2_col0\" class=\"data row2 col0\" >3324</td>\n",
       "                        <td id=\"T_fc07c_row2_col1\" class=\"data row2 col1\" >3068</td>\n",
       "                        <td id=\"T_fc07c_row2_col2\" class=\"data row2 col2\" >3170</td>\n",
       "                        <td id=\"T_fc07c_row2_col3\" class=\"data row2 col3\" >3257</td>\n",
       "                        <td id=\"T_fc07c_row2_col4\" class=\"data row2 col4\" >12819</td>\n",
       "                        <td id=\"T_fc07c_row2_col5\" class=\"data row2 col5\" >25.147128</td>\n",
       "            </tr>\n",
       "            <tr>\n",
       "                        <th id=\"T_fc07c_level0_row3\" class=\"row_heading level0 row3\" >D 16900+</th>\n",
       "                        <td id=\"T_fc07c_row3_col0\" class=\"data row3 col0\" >3297</td>\n",
       "                        <td id=\"T_fc07c_row3_col1\" class=\"data row3 col1\" >3052</td>\n",
       "                        <td id=\"T_fc07c_row3_col2\" class=\"data row3 col2\" >3102</td>\n",
       "                        <td id=\"T_fc07c_row3_col3\" class=\"data row3 col3\" >3093</td>\n",
       "                        <td id=\"T_fc07c_row3_col4\" class=\"data row3 col4\" >12544</td>\n",
       "                        <td id=\"T_fc07c_row3_col5\" class=\"data row3 col5\" >24.607659</td>\n",
       "            </tr>\n",
       "    </tbody></table>"
      ],
      "text/plain": [
       "<pandas.io.formats.style.Styler at 0x7fbafd8094d0>"
      ]
     },
     "execution_count": 49,
     "metadata": {},
     "output_type": "execute_result"
    }
   ],
   "source": [
    "table_price = df.pivot_table(index=\"price_group\",columns=\"day_listed_group\",values=\"days_listed\",aggfunc=\"count\",margins=True)\n",
    "table_price[\"ratio_%\"]=table_price[\"All\"]/table_price.loc[\"All\",\"All\"]*100\n",
    "table_price=table_price.drop(\"All\")\n",
    "table_price.style.bar(color=\"lightblue\")"
   ]
  },
  {
   "cell_type": "markdown",
   "metadata": {},
   "source": [
    "- checking for relation between vehicle's age and days_listed"
   ]
  },
  {
   "cell_type": "code",
   "execution_count": 50,
   "metadata": {},
   "outputs": [
    {
     "data": {
      "text/html": [
       "<style  type=\"text/css\" >\n",
       "#T_4fddd_row0_col0{\n",
       "            width:  10em;\n",
       "             height:  80%;\n",
       "            background:  linear-gradient(90deg,lightblue 4.3%, transparent 4.3%);\n",
       "        }#T_4fddd_row0_col1,#T_4fddd_row0_col3,#T_4fddd_row0_col4,#T_4fddd_row0_col5,#T_4fddd_row1_col0,#T_4fddd_row1_col2{\n",
       "            width:  10em;\n",
       "             height:  80%;\n",
       "        }#T_4fddd_row0_col2{\n",
       "            width:  10em;\n",
       "             height:  80%;\n",
       "            background:  linear-gradient(90deg,lightblue 1.8%, transparent 1.8%);\n",
       "        }#T_4fddd_row1_col1{\n",
       "            width:  10em;\n",
       "             height:  80%;\n",
       "            background:  linear-gradient(90deg,lightblue 11.0%, transparent 11.0%);\n",
       "        }#T_4fddd_row1_col3{\n",
       "            width:  10em;\n",
       "             height:  80%;\n",
       "            background:  linear-gradient(90deg,lightblue 6.6%, transparent 6.6%);\n",
       "        }#T_4fddd_row1_col4,#T_4fddd_row1_col5{\n",
       "            width:  10em;\n",
       "             height:  80%;\n",
       "            background:  linear-gradient(90deg,lightblue 3.0%, transparent 3.0%);\n",
       "        }#T_4fddd_row2_col0,#T_4fddd_row2_col1,#T_4fddd_row2_col2,#T_4fddd_row2_col3,#T_4fddd_row2_col4,#T_4fddd_row2_col5{\n",
       "            width:  10em;\n",
       "             height:  80%;\n",
       "            background:  linear-gradient(90deg,lightblue 100.0%, transparent 100.0%);\n",
       "        }#T_4fddd_row3_col0{\n",
       "            width:  10em;\n",
       "             height:  80%;\n",
       "            background:  linear-gradient(90deg,lightblue 50.9%, transparent 50.9%);\n",
       "        }#T_4fddd_row3_col1{\n",
       "            width:  10em;\n",
       "             height:  80%;\n",
       "            background:  linear-gradient(90deg,lightblue 48.2%, transparent 48.2%);\n",
       "        }#T_4fddd_row3_col2{\n",
       "            width:  10em;\n",
       "             height:  80%;\n",
       "            background:  linear-gradient(90deg,lightblue 45.1%, transparent 45.1%);\n",
       "        }#T_4fddd_row3_col3{\n",
       "            width:  10em;\n",
       "             height:  80%;\n",
       "            background:  linear-gradient(90deg,lightblue 42.8%, transparent 42.8%);\n",
       "        }#T_4fddd_row3_col4,#T_4fddd_row3_col5{\n",
       "            width:  10em;\n",
       "             height:  80%;\n",
       "            background:  linear-gradient(90deg,lightblue 45.8%, transparent 45.8%);\n",
       "        }</style><table id=\"T_4fddd_\" ><thead>    <tr>        <th class=\"index_name level0\" >day_listed_group</th>        <th class=\"col_heading level0 col0\" >A 0-19</th>        <th class=\"col_heading level0 col1\" >B 20-33</th>        <th class=\"col_heading level0 col2\" >C 34-53</th>        <th class=\"col_heading level0 col3\" >D 54+</th>        <th class=\"col_heading level0 col4\" >All</th>        <th class=\"col_heading level0 col5\" >ratio_%</th>    </tr>    <tr>        <th class=\"index_name level0\" >age_group</th>        <th class=\"blank\" ></th>        <th class=\"blank\" ></th>        <th class=\"blank\" ></th>        <th class=\"blank\" ></th>        <th class=\"blank\" ></th>        <th class=\"blank\" ></th>    </tr></thead><tbody>\n",
       "                <tr>\n",
       "                        <th id=\"T_4fddd_level0_row0\" class=\"row_heading level0 row0\" >A 0-4</th>\n",
       "                        <td id=\"T_4fddd_row0_col0\" class=\"data row0 col0\" >2770</td>\n",
       "                        <td id=\"T_4fddd_row0_col1\" class=\"data row0 col1\" >2411</td>\n",
       "                        <td id=\"T_4fddd_row0_col2\" class=\"data row0 col2\" >2555</td>\n",
       "                        <td id=\"T_4fddd_row0_col3\" class=\"data row0 col3\" >2478</td>\n",
       "                        <td id=\"T_4fddd_row0_col4\" class=\"data row0 col4\" >10214</td>\n",
       "                        <td id=\"T_4fddd_row0_col5\" class=\"data row0 col5\" >20.036880</td>\n",
       "            </tr>\n",
       "            <tr>\n",
       "                        <th id=\"T_4fddd_level0_row1\" class=\"row_heading level0 row1\" >B 5-7</th>\n",
       "                        <td id=\"T_4fddd_row1_col0\" class=\"data row1 col0\" >2698</td>\n",
       "                        <td id=\"T_4fddd_row1_col1\" class=\"data row1 col1\" >2598</td>\n",
       "                        <td id=\"T_4fddd_row1_col2\" class=\"data row1 col2\" >2525</td>\n",
       "                        <td id=\"T_4fddd_row1_col3\" class=\"data row1 col3\" >2599</td>\n",
       "                        <td id=\"T_4fddd_row1_col4\" class=\"data row1 col4\" >10420</td>\n",
       "                        <td id=\"T_4fddd_row1_col5\" class=\"data row1 col5\" >20.440992</td>\n",
       "            </tr>\n",
       "            <tr>\n",
       "                        <th id=\"T_4fddd_level0_row2\" class=\"row_heading level0 row2\" >C 8-12</th>\n",
       "                        <td id=\"T_4fddd_row2_col0\" class=\"data row2 col0\" >4359</td>\n",
       "                        <td id=\"T_4fddd_row2_col1\" class=\"data row2 col1\" >4113</td>\n",
       "                        <td id=\"T_4fddd_row2_col2\" class=\"data row2 col2\" >4222</td>\n",
       "                        <td id=\"T_4fddd_row2_col3\" class=\"data row2 col3\" >4318</td>\n",
       "                        <td id=\"T_4fddd_row2_col4\" class=\"data row2 col4\" >17012</td>\n",
       "                        <td id=\"T_4fddd_row2_col5\" class=\"data row2 col5\" >33.372567</td>\n",
       "            </tr>\n",
       "            <tr>\n",
       "                        <th id=\"T_4fddd_level0_row3\" class=\"row_heading level0 row3\" >D 13+</th>\n",
       "                        <td id=\"T_4fddd_row3_col0\" class=\"data row3 col0\" >3543</td>\n",
       "                        <td id=\"T_4fddd_row3_col1\" class=\"data row3 col1\" >3232</td>\n",
       "                        <td id=\"T_4fddd_row3_col2\" class=\"data row3 col2\" >3290</td>\n",
       "                        <td id=\"T_4fddd_row3_col3\" class=\"data row3 col3\" >3265</td>\n",
       "                        <td id=\"T_4fddd_row3_col4\" class=\"data row3 col4\" >13330</td>\n",
       "                        <td id=\"T_4fddd_row3_col5\" class=\"data row3 col5\" >26.149561</td>\n",
       "            </tr>\n",
       "    </tbody></table>"
      ],
      "text/plain": [
       "<pandas.io.formats.style.Styler at 0x7fbaf4a44fd0>"
      ]
     },
     "execution_count": 50,
     "metadata": {},
     "output_type": "execute_result"
    }
   ],
   "source": [
    "table_age = df.pivot_table(index=\"age_group\",columns=\"day_listed_group\",values=\"days_listed\",aggfunc=\"count\",margins=True)\n",
    "table_age[\"ratio_%\"]=table_age[\"All\"]/table_age.loc[\"All\",\"All\"]*100\n",
    "table_age=table_age.drop(\"All\")\n",
    "table_age.style.bar(color=\"lightblue\")"
   ]
  },
  {
   "cell_type": "markdown",
   "metadata": {},
   "source": [
    "- checking for relation between when the ad was placed (day of week) and days_listed "
   ]
  },
  {
   "cell_type": "code",
   "execution_count": 51,
   "metadata": {},
   "outputs": [
    {
     "data": {
      "text/html": [
       "<style  type=\"text/css\" >\n",
       "#T_8422a_row0_col0,#T_8422a_row1_col1,#T_8422a_row3_col2,#T_8422a_row3_col4,#T_8422a_row3_col5,#T_8422a_row5_col3{\n",
       "            width:  10em;\n",
       "             height:  80%;\n",
       "            background:  linear-gradient(90deg,lightblue 100.0%, transparent 100.0%);\n",
       "        }#T_8422a_row0_col1{\n",
       "            width:  10em;\n",
       "             height:  80%;\n",
       "            background:  linear-gradient(90deg,lightblue 18.7%, transparent 18.7%);\n",
       "        }#T_8422a_row0_col2{\n",
       "            width:  10em;\n",
       "             height:  80%;\n",
       "            background:  linear-gradient(90deg,lightblue 20.8%, transparent 20.8%);\n",
       "        }#T_8422a_row0_col3{\n",
       "            width:  10em;\n",
       "             height:  80%;\n",
       "            background:  linear-gradient(90deg,lightblue 4.4%, transparent 4.4%);\n",
       "        }#T_8422a_row0_col4,#T_8422a_row0_col5{\n",
       "            width:  10em;\n",
       "             height:  80%;\n",
       "            background:  linear-gradient(90deg,lightblue 18.9%, transparent 18.9%);\n",
       "        }#T_8422a_row1_col0{\n",
       "            width:  10em;\n",
       "             height:  80%;\n",
       "            background:  linear-gradient(90deg,lightblue 5.0%, transparent 5.0%);\n",
       "        }#T_8422a_row1_col2,#T_8422a_row1_col4,#T_8422a_row1_col5,#T_8422a_row2_col3,#T_8422a_row3_col1,#T_8422a_row5_col2,#T_8422a_row6_col0{\n",
       "            width:  10em;\n",
       "             height:  80%;\n",
       "        }#T_8422a_row1_col3{\n",
       "            width:  10em;\n",
       "             height:  80%;\n",
       "            background:  linear-gradient(90deg,lightblue 23.0%, transparent 23.0%);\n",
       "        }#T_8422a_row2_col0{\n",
       "            width:  10em;\n",
       "             height:  80%;\n",
       "            background:  linear-gradient(90deg,lightblue 14.9%, transparent 14.9%);\n",
       "        }#T_8422a_row2_col1{\n",
       "            width:  10em;\n",
       "             height:  80%;\n",
       "            background:  linear-gradient(90deg,lightblue 73.7%, transparent 73.7%);\n",
       "        }#T_8422a_row2_col2{\n",
       "            width:  10em;\n",
       "             height:  80%;\n",
       "            background:  linear-gradient(90deg,lightblue 39.2%, transparent 39.2%);\n",
       "        }#T_8422a_row2_col4,#T_8422a_row2_col5{\n",
       "            width:  10em;\n",
       "             height:  80%;\n",
       "            background:  linear-gradient(90deg,lightblue 7.1%, transparent 7.1%);\n",
       "        }#T_8422a_row3_col0{\n",
       "            width:  10em;\n",
       "             height:  80%;\n",
       "            background:  linear-gradient(90deg,lightblue 64.4%, transparent 64.4%);\n",
       "        }#T_8422a_row3_col3{\n",
       "            width:  10em;\n",
       "             height:  80%;\n",
       "            background:  linear-gradient(90deg,lightblue 99.1%, transparent 99.1%);\n",
       "        }#T_8422a_row4_col0{\n",
       "            width:  10em;\n",
       "             height:  80%;\n",
       "            background:  linear-gradient(90deg,lightblue 41.6%, transparent 41.6%);\n",
       "        }#T_8422a_row4_col1{\n",
       "            width:  10em;\n",
       "             height:  80%;\n",
       "            background:  linear-gradient(90deg,lightblue 53.7%, transparent 53.7%);\n",
       "        }#T_8422a_row4_col2{\n",
       "            width:  10em;\n",
       "             height:  80%;\n",
       "            background:  linear-gradient(90deg,lightblue 19.2%, transparent 19.2%);\n",
       "        }#T_8422a_row4_col3{\n",
       "            width:  10em;\n",
       "             height:  80%;\n",
       "            background:  linear-gradient(90deg,lightblue 25.7%, transparent 25.7%);\n",
       "        }#T_8422a_row4_col4,#T_8422a_row4_col5{\n",
       "            width:  10em;\n",
       "             height:  80%;\n",
       "            background:  linear-gradient(90deg,lightblue 14.3%, transparent 14.3%);\n",
       "        }#T_8422a_row5_col0{\n",
       "            width:  10em;\n",
       "             height:  80%;\n",
       "            background:  linear-gradient(90deg,lightblue 16.8%, transparent 16.8%);\n",
       "        }#T_8422a_row5_col1{\n",
       "            width:  10em;\n",
       "             height:  80%;\n",
       "            background:  linear-gradient(90deg,lightblue 97.5%, transparent 97.5%);\n",
       "        }#T_8422a_row5_col4,#T_8422a_row5_col5{\n",
       "            width:  10em;\n",
       "             height:  80%;\n",
       "            background:  linear-gradient(90deg,lightblue 49.5%, transparent 49.5%);\n",
       "        }#T_8422a_row6_col1{\n",
       "            width:  10em;\n",
       "             height:  80%;\n",
       "            background:  linear-gradient(90deg,lightblue 66.2%, transparent 66.2%);\n",
       "        }#T_8422a_row6_col2{\n",
       "            width:  10em;\n",
       "             height:  80%;\n",
       "            background:  linear-gradient(90deg,lightblue 51.5%, transparent 51.5%);\n",
       "        }#T_8422a_row6_col3{\n",
       "            width:  10em;\n",
       "             height:  80%;\n",
       "            background:  linear-gradient(90deg,lightblue 36.3%, transparent 36.3%);\n",
       "        }#T_8422a_row6_col4,#T_8422a_row6_col5{\n",
       "            width:  10em;\n",
       "             height:  80%;\n",
       "            background:  linear-gradient(90deg,lightblue 25.5%, transparent 25.5%);\n",
       "        }</style><table id=\"T_8422a_\" ><thead>    <tr>        <th class=\"index_name level0\" >day_listed_group</th>        <th class=\"col_heading level0 col0\" >A 0-19</th>        <th class=\"col_heading level0 col1\" >B 20-33</th>        <th class=\"col_heading level0 col2\" >C 34-53</th>        <th class=\"col_heading level0 col3\" >D 54+</th>        <th class=\"col_heading level0 col4\" >All</th>        <th class=\"col_heading level0 col5\" >ratio_%</th>    </tr>    <tr>        <th class=\"index_name level0\" >Day_of_the_week</th>        <th class=\"blank\" ></th>        <th class=\"blank\" ></th>        <th class=\"blank\" ></th>        <th class=\"blank\" ></th>        <th class=\"blank\" ></th>        <th class=\"blank\" ></th>    </tr></thead><tbody>\n",
       "                <tr>\n",
       "                        <th id=\"T_8422a_level0_row0\" class=\"row_heading level0 row0\" >0</th>\n",
       "                        <td id=\"T_8422a_row0_col0\" class=\"data row0 col0\" >1976</td>\n",
       "                        <td id=\"T_8422a_row0_col1\" class=\"data row0 col1\" >1733</td>\n",
       "                        <td id=\"T_8422a_row0_col2\" class=\"data row0 col2\" >1783</td>\n",
       "                        <td id=\"T_8422a_row0_col3\" class=\"data row0 col3\" >1767</td>\n",
       "                        <td id=\"T_8422a_row0_col4\" class=\"data row0 col4\" >7259</td>\n",
       "                        <td id=\"T_8422a_row0_col5\" class=\"data row0 col5\" >14.240035</td>\n",
       "            </tr>\n",
       "            <tr>\n",
       "                        <th id=\"T_8422a_level0_row1\" class=\"row_heading level0 row1\" >1</th>\n",
       "                        <td id=\"T_8422a_row1_col0\" class=\"data row1 col0\" >1880</td>\n",
       "                        <td id=\"T_8422a_row1_col1\" class=\"data row1 col1\" >1798</td>\n",
       "                        <td id=\"T_8422a_row1_col2\" class=\"data row1 col2\" >1756</td>\n",
       "                        <td id=\"T_8422a_row1_col3\" class=\"data row1 col3\" >1788</td>\n",
       "                        <td id=\"T_8422a_row1_col4\" class=\"data row1 col4\" >7222</td>\n",
       "                        <td id=\"T_8422a_row1_col5\" class=\"data row1 col5\" >14.167451</td>\n",
       "            </tr>\n",
       "            <tr>\n",
       "                        <th id=\"T_8422a_level0_row2\" class=\"row_heading level0 row2\" >2</th>\n",
       "                        <td id=\"T_8422a_row2_col0\" class=\"data row2 col0\" >1890</td>\n",
       "                        <td id=\"T_8422a_row2_col1\" class=\"data row2 col1\" >1777</td>\n",
       "                        <td id=\"T_8422a_row2_col2\" class=\"data row2 col2\" >1807</td>\n",
       "                        <td id=\"T_8422a_row2_col3\" class=\"data row2 col3\" >1762</td>\n",
       "                        <td id=\"T_8422a_row2_col4\" class=\"data row2 col4\" >7236</td>\n",
       "                        <td id=\"T_8422a_row2_col5\" class=\"data row2 col5\" >14.194915</td>\n",
       "            </tr>\n",
       "            <tr>\n",
       "                        <th id=\"T_8422a_level0_row3\" class=\"row_heading level0 row3\" >3</th>\n",
       "                        <td id=\"T_8422a_row3_col0\" class=\"data row3 col0\" >1940</td>\n",
       "                        <td id=\"T_8422a_row3_col1\" class=\"data row3 col1\" >1718</td>\n",
       "                        <td id=\"T_8422a_row3_col2\" class=\"data row3 col2\" >1886</td>\n",
       "                        <td id=\"T_8422a_row3_col3\" class=\"data row3 col3\" >1874</td>\n",
       "                        <td id=\"T_8422a_row3_col4\" class=\"data row3 col4\" >7418</td>\n",
       "                        <td id=\"T_8422a_row3_col5\" class=\"data row3 col5\" >14.551946</td>\n",
       "            </tr>\n",
       "            <tr>\n",
       "                        <th id=\"T_8422a_level0_row4\" class=\"row_heading level0 row4\" >4</th>\n",
       "                        <td id=\"T_8422a_row4_col0\" class=\"data row4 col0\" >1917</td>\n",
       "                        <td id=\"T_8422a_row4_col1\" class=\"data row4 col1\" >1761</td>\n",
       "                        <td id=\"T_8422a_row4_col2\" class=\"data row4 col2\" >1781</td>\n",
       "                        <td id=\"T_8422a_row4_col3\" class=\"data row4 col3\" >1791</td>\n",
       "                        <td id=\"T_8422a_row4_col4\" class=\"data row4 col4\" >7250</td>\n",
       "                        <td id=\"T_8422a_row4_col5\" class=\"data row4 col5\" >14.222379</td>\n",
       "            </tr>\n",
       "            <tr>\n",
       "                        <th id=\"T_8422a_level0_row5\" class=\"row_heading level0 row5\" >5</th>\n",
       "                        <td id=\"T_8422a_row5_col0\" class=\"data row5 col0\" >1892</td>\n",
       "                        <td id=\"T_8422a_row5_col1\" class=\"data row5 col1\" >1796</td>\n",
       "                        <td id=\"T_8422a_row5_col2\" class=\"data row5 col2\" >1756</td>\n",
       "                        <td id=\"T_8422a_row5_col3\" class=\"data row5 col3\" >1875</td>\n",
       "                        <td id=\"T_8422a_row5_col4\" class=\"data row5 col4\" >7319</td>\n",
       "                        <td id=\"T_8422a_row5_col5\" class=\"data row5 col5\" >14.357737</td>\n",
       "            </tr>\n",
       "            <tr>\n",
       "                        <th id=\"T_8422a_level0_row6\" class=\"row_heading level0 row6\" >6</th>\n",
       "                        <td id=\"T_8422a_row6_col0\" class=\"data row6 col0\" >1875</td>\n",
       "                        <td id=\"T_8422a_row6_col1\" class=\"data row6 col1\" >1771</td>\n",
       "                        <td id=\"T_8422a_row6_col2\" class=\"data row6 col2\" >1823</td>\n",
       "                        <td id=\"T_8422a_row6_col3\" class=\"data row6 col3\" >1803</td>\n",
       "                        <td id=\"T_8422a_row6_col4\" class=\"data row6 col4\" >7272</td>\n",
       "                        <td id=\"T_8422a_row6_col5\" class=\"data row6 col5\" >14.265537</td>\n",
       "            </tr>\n",
       "    </tbody></table>"
      ],
      "text/plain": [
       "<pandas.io.formats.style.Styler at 0x7fbaf4da3710>"
      ]
     },
     "execution_count": 51,
     "metadata": {},
     "output_type": "execute_result"
    }
   ],
   "source": [
    "table_dow = df.pivot_table(index=\"Day_of_the_week\",columns=\"day_listed_group\",values=\"days_listed\",aggfunc=\"count\",margins=True)\n",
    "table_dow[\"ratio_%\"]=table_dow[\"All\"]/table_dow.loc[\"All\",\"All\"]*100\n",
    "table_dow=table_dow.drop(\"All\")\n",
    "table_dow.style.bar(color=\"lightblue\")"
   ]
  },
  {
   "cell_type": "markdown",
   "metadata": {},
   "source": [
    "- checking for relation between mileage and days_listed "
   ]
  },
  {
   "cell_type": "code",
   "execution_count": 52,
   "metadata": {},
   "outputs": [
    {
     "data": {
      "text/html": [
       "<style  type=\"text/css\" >\n",
       "#T_8df4a_row0_col0{\n",
       "            width:  10em;\n",
       "             height:  80%;\n",
       "            background:  linear-gradient(90deg,lightblue 88.2%, transparent 88.2%);\n",
       "        }#T_8df4a_row0_col1{\n",
       "            width:  10em;\n",
       "             height:  80%;\n",
       "            background:  linear-gradient(90deg,lightblue 77.9%, transparent 77.9%);\n",
       "        }#T_8df4a_row0_col2{\n",
       "            width:  10em;\n",
       "             height:  80%;\n",
       "            background:  linear-gradient(90deg,lightblue 82.1%, transparent 82.1%);\n",
       "        }#T_8df4a_row0_col3{\n",
       "            width:  10em;\n",
       "             height:  80%;\n",
       "            background:  linear-gradient(90deg,lightblue 80.7%, transparent 80.7%);\n",
       "        }#T_8df4a_row0_col4,#T_8df4a_row0_col5{\n",
       "            width:  10em;\n",
       "             height:  80%;\n",
       "            background:  linear-gradient(90deg,lightblue 82.2%, transparent 82.2%);\n",
       "        }#T_8df4a_row1_col0,#T_8df4a_row1_col1,#T_8df4a_row1_col2,#T_8df4a_row1_col3,#T_8df4a_row1_col4,#T_8df4a_row1_col5{\n",
       "            width:  10em;\n",
       "             height:  80%;\n",
       "            background:  linear-gradient(90deg,lightblue 100.0%, transparent 100.0%);\n",
       "        }#T_8df4a_row2_col0,#T_8df4a_row2_col4,#T_8df4a_row2_col5{\n",
       "            width:  10em;\n",
       "             height:  80%;\n",
       "            background:  linear-gradient(90deg,lightblue 63.2%, transparent 63.2%);\n",
       "        }#T_8df4a_row2_col1{\n",
       "            width:  10em;\n",
       "             height:  80%;\n",
       "            background:  linear-gradient(90deg,lightblue 59.8%, transparent 59.8%);\n",
       "        }#T_8df4a_row2_col2{\n",
       "            width:  10em;\n",
       "             height:  80%;\n",
       "            background:  linear-gradient(90deg,lightblue 66.0%, transparent 66.0%);\n",
       "        }#T_8df4a_row2_col3{\n",
       "            width:  10em;\n",
       "             height:  80%;\n",
       "            background:  linear-gradient(90deg,lightblue 64.0%, transparent 64.0%);\n",
       "        }#T_8df4a_row3_col0,#T_8df4a_row3_col1,#T_8df4a_row3_col2,#T_8df4a_row3_col3,#T_8df4a_row3_col4,#T_8df4a_row3_col5{\n",
       "            width:  10em;\n",
       "             height:  80%;\n",
       "        }</style><table id=\"T_8df4a_\" ><thead>    <tr>        <th class=\"index_name level0\" >day_listed_group</th>        <th class=\"col_heading level0 col0\" >A 0-19</th>        <th class=\"col_heading level0 col1\" >B 20-33</th>        <th class=\"col_heading level0 col2\" >C 34-53</th>        <th class=\"col_heading level0 col3\" >D 54+</th>        <th class=\"col_heading level0 col4\" >All</th>        <th class=\"col_heading level0 col5\" >ratio_%</th>    </tr>    <tr>        <th class=\"index_name level0\" >mileage_per_year_group</th>        <th class=\"blank\" ></th>        <th class=\"blank\" ></th>        <th class=\"blank\" ></th>        <th class=\"blank\" ></th>        <th class=\"blank\" ></th>        <th class=\"blank\" ></th>    </tr></thead><tbody>\n",
       "                <tr>\n",
       "                        <th id=\"T_8df4a_level0_row0\" class=\"row_heading level0 row0\" >A 0-7,830</th>\n",
       "                        <td id=\"T_8df4a_row0_col0\" class=\"data row0 col0\" >3957</td>\n",
       "                        <td id=\"T_8df4a_row0_col1\" class=\"data row0 col1\" >3541</td>\n",
       "                        <td id=\"T_8df4a_row0_col2\" class=\"data row0 col2\" >3629</td>\n",
       "                        <td id=\"T_8df4a_row0_col3\" class=\"data row0 col3\" >3636</td>\n",
       "                        <td id=\"T_8df4a_row0_col4\" class=\"data row0 col4\" >14763</td>\n",
       "                        <td id=\"T_8df4a_row0_col5\" class=\"data row0 col5\" >28.960687</td>\n",
       "            </tr>\n",
       "            <tr>\n",
       "                        <th id=\"T_8df4a_level0_row1\" class=\"row_heading level0 row1\" >B 7,831-13,760</th>\n",
       "                        <td id=\"T_8df4a_row1_col0\" class=\"data row1 col0\" >4244</td>\n",
       "                        <td id=\"T_8df4a_row1_col1\" class=\"data row1 col1\" >4083</td>\n",
       "                        <td id=\"T_8df4a_row1_col2\" class=\"data row1 col2\" >4058</td>\n",
       "                        <td id=\"T_8df4a_row1_col3\" class=\"data row1 col3\" >4100</td>\n",
       "                        <td id=\"T_8df4a_row1_col4\" class=\"data row1 col4\" >16485</td>\n",
       "                        <td id=\"T_8df4a_row1_col5\" class=\"data row1 col5\" >32.338748</td>\n",
       "            </tr>\n",
       "            <tr>\n",
       "                        <th id=\"T_8df4a_level0_row2\" class=\"row_heading level0 row2\" >C 13,761-20,870</th>\n",
       "                        <td id=\"T_8df4a_row2_col0\" class=\"data row2 col0\" >3351</td>\n",
       "                        <td id=\"T_8df4a_row2_col1\" class=\"data row2 col1\" >3098</td>\n",
       "                        <td id=\"T_8df4a_row2_col2\" class=\"data row2 col2\" >3244</td>\n",
       "                        <td id=\"T_8df4a_row2_col3\" class=\"data row2 col3\" >3233</td>\n",
       "                        <td id=\"T_8df4a_row2_col4\" class=\"data row2 col4\" >12926</td>\n",
       "                        <td id=\"T_8df4a_row2_col5\" class=\"data row2 col5\" >25.357031</td>\n",
       "            </tr>\n",
       "            <tr>\n",
       "                        <th id=\"T_8df4a_level0_row3\" class=\"row_heading level0 row3\" >D 20,871+</th>\n",
       "                        <td id=\"T_8df4a_row3_col0\" class=\"data row3 col0\" >1818</td>\n",
       "                        <td id=\"T_8df4a_row3_col1\" class=\"data row3 col1\" >1632</td>\n",
       "                        <td id=\"T_8df4a_row3_col2\" class=\"data row3 col2\" >1661</td>\n",
       "                        <td id=\"T_8df4a_row3_col3\" class=\"data row3 col3\" >1691</td>\n",
       "                        <td id=\"T_8df4a_row3_col4\" class=\"data row3 col4\" >6802</td>\n",
       "                        <td id=\"T_8df4a_row3_col5\" class=\"data row3 col5\" >13.343534</td>\n",
       "            </tr>\n",
       "    </tbody></table>"
      ],
      "text/plain": [
       "<pandas.io.formats.style.Styler at 0x7fbaf4da3050>"
      ]
     },
     "execution_count": 52,
     "metadata": {},
     "output_type": "execute_result"
    }
   ],
   "source": [
    "table_mpy = df.pivot_table(index=\"mileage_per_year_group\",columns=\"day_listed_group\",values=\"days_listed\",aggfunc=\"count\",margins=True)\n",
    "table_mpy[\"ratio_%\"]=table_mpy[\"All\"]/table_mpy.loc[\"All\",\"All\"]*100\n",
    "table_mpy=table_mpy.drop(\"All\")\n",
    "table_mpy.style.bar(color=\"lightblue\")"
   ]
  },
  {
   "cell_type": "markdown",
   "metadata": {},
   "source": [
    "- checking for relation between number of cylinders and days_listed "
   ]
  },
  {
   "cell_type": "code",
   "execution_count": 53,
   "metadata": {},
   "outputs": [
    {
     "data": {
      "text/html": [
       "<style  type=\"text/css\" >\n",
       "#T_5b1d1_row0_col0,#T_5b1d1_row0_col1{\n",
       "            width:  10em;\n",
       "             height:  80%;\n",
       "            background:  linear-gradient(90deg,lightblue 0.3%, transparent 0.3%);\n",
       "        }#T_5b1d1_row0_col2,#T_5b1d1_row0_col4,#T_5b1d1_row0_col5{\n",
       "            width:  10em;\n",
       "             height:  80%;\n",
       "            background:  linear-gradient(90deg,lightblue 0.4%, transparent 0.4%);\n",
       "        }#T_5b1d1_row0_col3{\n",
       "            width:  10em;\n",
       "             height:  80%;\n",
       "            background:  linear-gradient(90deg,lightblue 0.7%, transparent 0.7%);\n",
       "        }#T_5b1d1_row1_col0{\n",
       "            width:  10em;\n",
       "             height:  80%;\n",
       "            background:  linear-gradient(90deg,lightblue 97.0%, transparent 97.0%);\n",
       "        }#T_5b1d1_row1_col1{\n",
       "            width:  10em;\n",
       "             height:  80%;\n",
       "            background:  linear-gradient(90deg,lightblue 92.0%, transparent 92.0%);\n",
       "        }#T_5b1d1_row1_col2{\n",
       "            width:  10em;\n",
       "             height:  80%;\n",
       "            background:  linear-gradient(90deg,lightblue 90.5%, transparent 90.5%);\n",
       "        }#T_5b1d1_row1_col3{\n",
       "            width:  10em;\n",
       "             height:  80%;\n",
       "            background:  linear-gradient(90deg,lightblue 93.2%, transparent 93.2%);\n",
       "        }#T_5b1d1_row1_col4,#T_5b1d1_row1_col5{\n",
       "            width:  10em;\n",
       "             height:  80%;\n",
       "            background:  linear-gradient(90deg,lightblue 93.5%, transparent 93.5%);\n",
       "        }#T_5b1d1_row2_col0{\n",
       "            width:  10em;\n",
       "             height:  80%;\n",
       "            background:  linear-gradient(90deg,lightblue 7.3%, transparent 7.3%);\n",
       "        }#T_5b1d1_row2_col1{\n",
       "            width:  10em;\n",
       "             height:  80%;\n",
       "            background:  linear-gradient(90deg,lightblue 7.4%, transparent 7.4%);\n",
       "        }#T_5b1d1_row2_col2{\n",
       "            width:  10em;\n",
       "             height:  80%;\n",
       "            background:  linear-gradient(90deg,lightblue 6.4%, transparent 6.4%);\n",
       "        }#T_5b1d1_row2_col3{\n",
       "            width:  10em;\n",
       "             height:  80%;\n",
       "            background:  linear-gradient(90deg,lightblue 6.6%, transparent 6.6%);\n",
       "        }#T_5b1d1_row2_col4,#T_5b1d1_row2_col5{\n",
       "            width:  10em;\n",
       "             height:  80%;\n",
       "            background:  linear-gradient(90deg,lightblue 6.9%, transparent 6.9%);\n",
       "        }#T_5b1d1_row3_col0,#T_5b1d1_row3_col1,#T_5b1d1_row3_col2,#T_5b1d1_row3_col4,#T_5b1d1_row3_col5,#T_5b1d1_row5_col3{\n",
       "            width:  10em;\n",
       "             height:  80%;\n",
       "            background:  linear-gradient(90deg,lightblue 100.0%, transparent 100.0%);\n",
       "        }#T_5b1d1_row3_col3{\n",
       "            width:  10em;\n",
       "             height:  80%;\n",
       "            background:  linear-gradient(90deg,lightblue 98.8%, transparent 98.8%);\n",
       "        }#T_5b1d1_row4_col0{\n",
       "            width:  10em;\n",
       "             height:  80%;\n",
       "            background:  linear-gradient(90deg,lightblue 10.1%, transparent 10.1%);\n",
       "        }#T_5b1d1_row4_col1{\n",
       "            width:  10em;\n",
       "             height:  80%;\n",
       "            background:  linear-gradient(90deg,lightblue 9.1%, transparent 9.1%);\n",
       "        }#T_5b1d1_row4_col2,#T_5b1d1_row4_col4,#T_5b1d1_row4_col5{\n",
       "            width:  10em;\n",
       "             height:  80%;\n",
       "            background:  linear-gradient(90deg,lightblue 9.4%, transparent 9.4%);\n",
       "        }#T_5b1d1_row4_col3{\n",
       "            width:  10em;\n",
       "             height:  80%;\n",
       "            background:  linear-gradient(90deg,lightblue 8.9%, transparent 8.9%);\n",
       "        }#T_5b1d1_row5_col0{\n",
       "            width:  10em;\n",
       "             height:  80%;\n",
       "            background:  linear-gradient(90deg,lightblue 99.9%, transparent 99.9%);\n",
       "        }#T_5b1d1_row5_col1,#T_5b1d1_row5_col4,#T_5b1d1_row5_col5{\n",
       "            width:  10em;\n",
       "             height:  80%;\n",
       "            background:  linear-gradient(90deg,lightblue 97.9%, transparent 97.9%);\n",
       "        }#T_5b1d1_row5_col2{\n",
       "            width:  10em;\n",
       "             height:  80%;\n",
       "            background:  linear-gradient(90deg,lightblue 92.6%, transparent 92.6%);\n",
       "        }#T_5b1d1_row6_col0{\n",
       "            width:  10em;\n",
       "             height:  80%;\n",
       "            background:  linear-gradient(90deg,lightblue 3.5%, transparent 3.5%);\n",
       "        }#T_5b1d1_row6_col1{\n",
       "            width:  10em;\n",
       "             height:  80%;\n",
       "            background:  linear-gradient(90deg,lightblue 2.9%, transparent 2.9%);\n",
       "        }#T_5b1d1_row6_col2,#T_5b1d1_row6_col4,#T_5b1d1_row6_col5{\n",
       "            width:  10em;\n",
       "             height:  80%;\n",
       "            background:  linear-gradient(90deg,lightblue 3.3%, transparent 3.3%);\n",
       "        }#T_5b1d1_row6_col3{\n",
       "            width:  10em;\n",
       "             height:  80%;\n",
       "            background:  linear-gradient(90deg,lightblue 3.4%, transparent 3.4%);\n",
       "        }#T_5b1d1_row7_col0,#T_5b1d1_row7_col1,#T_5b1d1_row7_col2,#T_5b1d1_row7_col3,#T_5b1d1_row7_col4,#T_5b1d1_row7_col5{\n",
       "            width:  10em;\n",
       "             height:  80%;\n",
       "        }</style><table id=\"T_5b1d1_\" ><thead>    <tr>        <th class=\"index_name level0\" >day_listed_group</th>        <th class=\"col_heading level0 col0\" >A 0-19</th>        <th class=\"col_heading level0 col1\" >B 20-33</th>        <th class=\"col_heading level0 col2\" >C 34-53</th>        <th class=\"col_heading level0 col3\" >D 54+</th>        <th class=\"col_heading level0 col4\" >All</th>        <th class=\"col_heading level0 col5\" >ratio_%</th>    </tr>    <tr>        <th class=\"index_name level0\" >cylinders</th>        <th class=\"blank\" ></th>        <th class=\"blank\" ></th>        <th class=\"blank\" ></th>        <th class=\"blank\" ></th>        <th class=\"blank\" ></th>        <th class=\"blank\" ></th>    </tr></thead><tbody>\n",
       "                <tr>\n",
       "                        <th id=\"T_5b1d1_level0_row0\" class=\"row_heading level0 row0\" >3</th>\n",
       "                        <td id=\"T_5b1d1_row0_col0\" class=\"data row0 col0\" >13</td>\n",
       "                        <td id=\"T_5b1d1_row0_col1\" class=\"data row0 col1\" >15</td>\n",
       "                        <td id=\"T_5b1d1_row0_col2\" class=\"data row0 col2\" >15</td>\n",
       "                        <td id=\"T_5b1d1_row0_col3\" class=\"data row0 col3\" >29</td>\n",
       "                        <td id=\"T_5b1d1_row0_col4\" class=\"data row0 col4\" >72</td>\n",
       "                        <td id=\"T_5b1d1_row0_col5\" class=\"data row0 col5\" >0.141243</td>\n",
       "            </tr>\n",
       "            <tr>\n",
       "                        <th id=\"T_5b1d1_level0_row1\" class=\"row_heading level0 row1\" >4</th>\n",
       "                        <td id=\"T_5b1d1_row1_col0\" class=\"data row1 col0\" >4078</td>\n",
       "                        <td id=\"T_5b1d1_row1_col1\" class=\"data row1 col1\" >3668</td>\n",
       "                        <td id=\"T_5b1d1_row1_col2\" class=\"data row1 col2\" >3768</td>\n",
       "                        <td id=\"T_5b1d1_row1_col3\" class=\"data row1 col3\" >3787</td>\n",
       "                        <td id=\"T_5b1d1_row1_col4\" class=\"data row1 col4\" >15301</td>\n",
       "                        <td id=\"T_5b1d1_row1_col5\" class=\"data row1 col5\" >30.016086</td>\n",
       "            </tr>\n",
       "            <tr>\n",
       "                        <th id=\"T_5b1d1_level0_row2\" class=\"row_heading level0 row2\" >5</th>\n",
       "                        <td id=\"T_5b1d1_row2_col0\" class=\"data row2 col0\" >305</td>\n",
       "                        <td id=\"T_5b1d1_row2_col1\" class=\"data row2 col1\" >295</td>\n",
       "                        <td id=\"T_5b1d1_row2_col2\" class=\"data row2 col2\" >265</td>\n",
       "                        <td id=\"T_5b1d1_row2_col3\" class=\"data row2 col3\" >268</td>\n",
       "                        <td id=\"T_5b1d1_row2_col4\" class=\"data row2 col4\" >1133</td>\n",
       "                        <td id=\"T_5b1d1_row2_col5\" class=\"data row2 col5\" >2.222615</td>\n",
       "            </tr>\n",
       "            <tr>\n",
       "                        <th id=\"T_5b1d1_level0_row3\" class=\"row_heading level0 row3\" >6</th>\n",
       "                        <td id=\"T_5b1d1_row3_col0\" class=\"data row3 col0\" >4203</td>\n",
       "                        <td id=\"T_5b1d1_row3_col1\" class=\"data row3 col1\" >3988</td>\n",
       "                        <td id=\"T_5b1d1_row3_col2\" class=\"data row3 col2\" >4162</td>\n",
       "                        <td id=\"T_5b1d1_row3_col3\" class=\"data row3 col3\" >4012</td>\n",
       "                        <td id=\"T_5b1d1_row3_col4\" class=\"data row3 col4\" >16365</td>\n",
       "                        <td id=\"T_5b1d1_row3_col5\" class=\"data row3 col5\" >32.103343</td>\n",
       "            </tr>\n",
       "            <tr>\n",
       "                        <th id=\"T_5b1d1_level0_row4\" class=\"row_heading level0 row4\" >7</th>\n",
       "                        <td id=\"T_5b1d1_row4_col0\" class=\"data row4 col0\" >423</td>\n",
       "                        <td id=\"T_5b1d1_row4_col1\" class=\"data row4 col1\" >365</td>\n",
       "                        <td id=\"T_5b1d1_row4_col2\" class=\"data row4 col2\" >390</td>\n",
       "                        <td id=\"T_5b1d1_row4_col3\" class=\"data row4 col3\" >362</td>\n",
       "                        <td id=\"T_5b1d1_row4_col4\" class=\"data row4 col4\" >1540</td>\n",
       "                        <td id=\"T_5b1d1_row4_col5\" class=\"data row4 col5\" >3.021030</td>\n",
       "            </tr>\n",
       "            <tr>\n",
       "                        <th id=\"T_5b1d1_level0_row5\" class=\"row_heading level0 row5\" >8</th>\n",
       "                        <td id=\"T_5b1d1_row5_col0\" class=\"data row5 col0\" >4200</td>\n",
       "                        <td id=\"T_5b1d1_row5_col1\" class=\"data row5 col1\" >3903</td>\n",
       "                        <td id=\"T_5b1d1_row5_col2\" class=\"data row5 col2\" >3854</td>\n",
       "                        <td id=\"T_5b1d1_row5_col3\" class=\"data row5 col3\" >4062</td>\n",
       "                        <td id=\"T_5b1d1_row5_col4\" class=\"data row5 col4\" >16019</td>\n",
       "                        <td id=\"T_5b1d1_row5_col5\" class=\"data row5 col5\" >31.424592</td>\n",
       "            </tr>\n",
       "            <tr>\n",
       "                        <th id=\"T_5b1d1_level0_row6\" class=\"row_heading level0 row6\" >10</th>\n",
       "                        <td id=\"T_5b1d1_row6_col0\" class=\"data row6 col0\" >148</td>\n",
       "                        <td id=\"T_5b1d1_row6_col1\" class=\"data row6 col1\" >118</td>\n",
       "                        <td id=\"T_5b1d1_row6_col2\" class=\"data row6 col2\" >138</td>\n",
       "                        <td id=\"T_5b1d1_row6_col3\" class=\"data row6 col3\" >140</td>\n",
       "                        <td id=\"T_5b1d1_row6_col4\" class=\"data row6 col4\" >544</td>\n",
       "                        <td id=\"T_5b1d1_row6_col5\" class=\"data row6 col5\" >1.067169</td>\n",
       "            </tr>\n",
       "            <tr>\n",
       "                        <th id=\"T_5b1d1_level0_row7\" class=\"row_heading level0 row7\" >12</th>\n",
       "                        <td id=\"T_5b1d1_row7_col0\" class=\"data row7 col0\" >0</td>\n",
       "                        <td id=\"T_5b1d1_row7_col1\" class=\"data row7 col1\" >2</td>\n",
       "                        <td id=\"T_5b1d1_row7_col2\" class=\"data row7 col2\" >0</td>\n",
       "                        <td id=\"T_5b1d1_row7_col3\" class=\"data row7 col3\" >0</td>\n",
       "                        <td id=\"T_5b1d1_row7_col4\" class=\"data row7 col4\" >2</td>\n",
       "                        <td id=\"T_5b1d1_row7_col5\" class=\"data row7 col5\" >0.003923</td>\n",
       "            </tr>\n",
       "    </tbody></table>"
      ],
      "text/plain": [
       "<pandas.io.formats.style.Styler at 0x7fbaf4a8b650>"
      ]
     },
     "execution_count": 53,
     "metadata": {},
     "output_type": "execute_result"
    }
   ],
   "source": [
    "table_cyl = df.pivot_table(index=\"cylinders\",columns=\"day_listed_group\",values=\"days_listed\",aggfunc=\"count\",margins=True)\n",
    "table_cyl[\"ratio_%\"]=table_cyl[\"All\"]/table_cyl.loc[\"All\",\"All\"]*100\n",
    "table_cyl=table_cyl.drop(\"All\")\n",
    "table_cyl.style.bar(color=\"lightblue\")"
   ]
  },
  {
   "cell_type": "markdown",
   "metadata": {},
   "source": [
    "- checking for relation between condition and days_listed \n",
    "\n",
    "    new = 5\n",
    "    like new = 4\n",
    "    excellent = 3\n",
    "    good = 2\n",
    "    fair = 1\n",
    "    salvage = 0"
   ]
  },
  {
   "cell_type": "code",
   "execution_count": 54,
   "metadata": {},
   "outputs": [
    {
     "data": {
      "text/html": [
       "<style  type=\"text/css\" >\n",
       "#T_20f6f_row0_col0,#T_20f6f_row0_col3,#T_20f6f_row0_col4,#T_20f6f_row0_col5{\n",
       "            width:  10em;\n",
       "             height:  80%;\n",
       "            background:  linear-gradient(90deg,lightblue 0.1%, transparent 0.1%);\n",
       "        }#T_20f6f_row0_col1,#T_20f6f_row0_col2{\n",
       "            width:  10em;\n",
       "             height:  80%;\n",
       "            background:  linear-gradient(90deg,lightblue 0.2%, transparent 0.2%);\n",
       "        }#T_20f6f_row1_col0{\n",
       "            width:  10em;\n",
       "             height:  80%;\n",
       "            background:  linear-gradient(90deg,lightblue 20.1%, transparent 20.1%);\n",
       "        }#T_20f6f_row1_col1{\n",
       "            width:  10em;\n",
       "             height:  80%;\n",
       "            background:  linear-gradient(90deg,lightblue 17.8%, transparent 17.8%);\n",
       "        }#T_20f6f_row1_col2{\n",
       "            width:  10em;\n",
       "             height:  80%;\n",
       "            background:  linear-gradient(90deg,lightblue 17.9%, transparent 17.9%);\n",
       "        }#T_20f6f_row1_col3{\n",
       "            width:  10em;\n",
       "             height:  80%;\n",
       "            background:  linear-gradient(90deg,lightblue 19.2%, transparent 19.2%);\n",
       "        }#T_20f6f_row1_col4,#T_20f6f_row1_col5{\n",
       "            width:  10em;\n",
       "             height:  80%;\n",
       "            background:  linear-gradient(90deg,lightblue 18.8%, transparent 18.8%);\n",
       "        }#T_20f6f_row2_col0,#T_20f6f_row2_col1,#T_20f6f_row2_col2,#T_20f6f_row2_col3,#T_20f6f_row2_col4,#T_20f6f_row2_col5{\n",
       "            width:  10em;\n",
       "             height:  80%;\n",
       "            background:  linear-gradient(90deg,lightblue 100.0%, transparent 100.0%);\n",
       "        }#T_20f6f_row3_col0,#T_20f6f_row3_col4,#T_20f6f_row3_col5{\n",
       "            width:  10em;\n",
       "             height:  80%;\n",
       "            background:  linear-gradient(90deg,lightblue 81.0%, transparent 81.0%);\n",
       "        }#T_20f6f_row3_col1{\n",
       "            width:  10em;\n",
       "             height:  80%;\n",
       "            background:  linear-gradient(90deg,lightblue 80.9%, transparent 80.9%);\n",
       "        }#T_20f6f_row3_col2{\n",
       "            width:  10em;\n",
       "             height:  80%;\n",
       "            background:  linear-gradient(90deg,lightblue 80.5%, transparent 80.5%);\n",
       "        }#T_20f6f_row3_col3{\n",
       "            width:  10em;\n",
       "             height:  80%;\n",
       "            background:  linear-gradient(90deg,lightblue 81.7%, transparent 81.7%);\n",
       "        }#T_20f6f_row4_col0{\n",
       "            width:  10em;\n",
       "             height:  80%;\n",
       "            background:  linear-gradient(90deg,lightblue 6.3%, transparent 6.3%);\n",
       "        }#T_20f6f_row4_col1{\n",
       "            width:  10em;\n",
       "             height:  80%;\n",
       "            background:  linear-gradient(90deg,lightblue 5.9%, transparent 5.9%);\n",
       "        }#T_20f6f_row4_col2{\n",
       "            width:  10em;\n",
       "             height:  80%;\n",
       "            background:  linear-gradient(90deg,lightblue 5.8%, transparent 5.8%);\n",
       "        }#T_20f6f_row4_col3,#T_20f6f_row4_col4,#T_20f6f_row4_col5{\n",
       "            width:  10em;\n",
       "             height:  80%;\n",
       "            background:  linear-gradient(90deg,lightblue 6.1%, transparent 6.1%);\n",
       "        }#T_20f6f_row5_col0,#T_20f6f_row5_col1,#T_20f6f_row5_col2,#T_20f6f_row5_col3,#T_20f6f_row5_col4,#T_20f6f_row5_col5{\n",
       "            width:  10em;\n",
       "             height:  80%;\n",
       "        }</style><table id=\"T_20f6f_\" ><thead>    <tr>        <th class=\"index_name level0\" >day_listed_group</th>        <th class=\"col_heading level0 col0\" >A 0-19</th>        <th class=\"col_heading level0 col1\" >B 20-33</th>        <th class=\"col_heading level0 col2\" >C 34-53</th>        <th class=\"col_heading level0 col3\" >D 54+</th>        <th class=\"col_heading level0 col4\" >All</th>        <th class=\"col_heading level0 col5\" >ratio_%</th>    </tr>    <tr>        <th class=\"index_name level0\" >condition</th>        <th class=\"blank\" ></th>        <th class=\"blank\" ></th>        <th class=\"blank\" ></th>        <th class=\"blank\" ></th>        <th class=\"blank\" ></th>        <th class=\"blank\" ></th>    </tr></thead><tbody>\n",
       "                <tr>\n",
       "                        <th id=\"T_20f6f_level0_row0\" class=\"row_heading level0 row0\" >5</th>\n",
       "                        <td id=\"T_20f6f_row0_col0\" class=\"data row0 col0\" >34</td>\n",
       "                        <td id=\"T_20f6f_row0_col1\" class=\"data row0 col1\" >37</td>\n",
       "                        <td id=\"T_20f6f_row0_col2\" class=\"data row0 col2\" >42</td>\n",
       "                        <td id=\"T_20f6f_row0_col3\" class=\"data row0 col3\" >30</td>\n",
       "                        <td id=\"T_20f6f_row0_col4\" class=\"data row0 col4\" >143</td>\n",
       "                        <td id=\"T_20f6f_row0_col5\" class=\"data row0 col5\" >0.280524</td>\n",
       "            </tr>\n",
       "            <tr>\n",
       "                        <th id=\"T_20f6f_level0_row1\" class=\"row_heading level0 row1\" >4</th>\n",
       "                        <td id=\"T_20f6f_row1_col0\" class=\"data row1 col0\" >1305</td>\n",
       "                        <td id=\"T_20f6f_row1_col1\" class=\"data row1 col1\" >1088</td>\n",
       "                        <td id=\"T_20f6f_row1_col2\" class=\"data row1 col2\" >1117</td>\n",
       "                        <td id=\"T_20f6f_row1_col3\" class=\"data row1 col3\" >1183</td>\n",
       "                        <td id=\"T_20f6f_row1_col4\" class=\"data row1 col4\" >4693</td>\n",
       "                        <td id=\"T_20f6f_row1_col5\" class=\"data row1 col5\" >9.206293</td>\n",
       "            </tr>\n",
       "            <tr>\n",
       "                        <th id=\"T_20f6f_level0_row2\" class=\"row_heading level0 row2\" >3</th>\n",
       "                        <td id=\"T_20f6f_row2_col0\" class=\"data row2 col0\" >6388</td>\n",
       "                        <td id=\"T_20f6f_row2_col1\" class=\"data row2 col1\" >5978</td>\n",
       "                        <td id=\"T_20f6f_row2_col2\" class=\"data row2 col2\" >6101</td>\n",
       "                        <td id=\"T_20f6f_row2_col3\" class=\"data row2 col3\" >6066</td>\n",
       "                        <td id=\"T_20f6f_row2_col4\" class=\"data row2 col4\" >24533</td>\n",
       "                        <td id=\"T_20f6f_row2_col5\" class=\"data row2 col5\" >48.126569</td>\n",
       "            </tr>\n",
       "            <tr>\n",
       "                        <th id=\"T_20f6f_level0_row3\" class=\"row_heading level0 row3\" >2</th>\n",
       "                        <td id=\"T_20f6f_row3_col0\" class=\"data row3 col0\" >5180</td>\n",
       "                        <td id=\"T_20f6f_row3_col1\" class=\"data row3 col1\" >4843</td>\n",
       "                        <td id=\"T_20f6f_row3_col2\" class=\"data row3 col2\" >4916</td>\n",
       "                        <td id=\"T_20f6f_row3_col3\" class=\"data row3 col3\" >4962</td>\n",
       "                        <td id=\"T_20f6f_row3_col4\" class=\"data row3 col4\" >19901</td>\n",
       "                        <td id=\"T_20f6f_row3_col5\" class=\"data row3 col5\" >39.039940</td>\n",
       "            </tr>\n",
       "            <tr>\n",
       "                        <th id=\"T_20f6f_level0_row4\" class=\"row_heading level0 row4\" >1</th>\n",
       "                        <td id=\"T_20f6f_row4_col0\" class=\"data row4 col0\" >433</td>\n",
       "                        <td id=\"T_20f6f_row4_col1\" class=\"data row4 col1\" >380</td>\n",
       "                        <td id=\"T_20f6f_row4_col2\" class=\"data row4 col2\" >385</td>\n",
       "                        <td id=\"T_20f6f_row4_col3\" class=\"data row4 col3\" >394</td>\n",
       "                        <td id=\"T_20f6f_row4_col4\" class=\"data row4 col4\" >1592</td>\n",
       "                        <td id=\"T_20f6f_row4_col5\" class=\"data row4 col5\" >3.123038</td>\n",
       "            </tr>\n",
       "            <tr>\n",
       "                        <th id=\"T_20f6f_level0_row5\" class=\"row_heading level0 row5\" >0</th>\n",
       "                        <td id=\"T_20f6f_row5_col0\" class=\"data row5 col0\" >30</td>\n",
       "                        <td id=\"T_20f6f_row5_col1\" class=\"data row5 col1\" >28</td>\n",
       "                        <td id=\"T_20f6f_row5_col2\" class=\"data row5 col2\" >31</td>\n",
       "                        <td id=\"T_20f6f_row5_col3\" class=\"data row5 col3\" >25</td>\n",
       "                        <td id=\"T_20f6f_row5_col4\" class=\"data row5 col4\" >114</td>\n",
       "                        <td id=\"T_20f6f_row5_col5\" class=\"data row5 col5\" >0.223635</td>\n",
       "            </tr>\n",
       "    </tbody></table>"
      ],
      "text/plain": [
       "<pandas.io.formats.style.Styler at 0x7fbab8396bd0>"
      ]
     },
     "execution_count": 54,
     "metadata": {},
     "output_type": "execute_result"
    }
   ],
   "source": [
    "table_condition = df.pivot_table(index=\"condition\",columns=\"day_listed_group\",values=\"days_listed\",aggfunc=\"count\",margins=True)\n",
    "table_condition[\"ratio_%\"]=table_condition[\"All\"]/table_condition.loc[\"All\",\"All\"]*100\n",
    "table_condition=table_condition.drop(\"All\")\n",
    "table_condition.sort_values(by=\"condition\", ascending=False).style.bar(color=\"lightblue\")"
   ]
  },
  {
   "cell_type": "markdown",
   "metadata": {},
   "source": [
    "**conclusion**\n",
    "\n",
    "I showed six pivot tables each shows connection between one of the parameters and the days the ad was on line.\n",
    "here are summery of what I can understand from the tables:\n",
    "1. relation between price and days_listed \n",
    ">- I divided the prices to 4 groups and checked the relation between the price and days_listed. I cannot observe any correlation. I'll check again in the next part.\n",
    "2. relation between car age and days_listed\n",
    ">- I divided the cars ages to 4 groups and checked the relation between them and days_listed. I cannot observe any correlation. I'll check again in the next part.\n",
    "3. relation between day of week and days_listed\n",
    ">- I matched the day of week to the days_listed. I cannot observe any correlation. In any day of the week, most of the ads are published for 0 to 19 days. I'll check again in the next part.\n",
    "4. relation between car age and days_listed\n",
    ">- I divided the cars mileage_per_year to 4 groups and checked the relation between them and days_listed. I cannot observe any correlation. most of the ads are published for 0 to 19 days. I'll check again in the next part.\n",
    "mileage_per_year_group\n",
    "5. relation between number of cylinders and days_listed\n",
    ">- I matched the number of cylinders to the days_listed. I cannot observe any correlation. In any day of the week, most of the ads are published for 0 to 19 days. I'll check again in the next part.\n",
    "6. relation between cars condition and days_listed\n",
    ">- I matched the cars condition to the days_listed. I cannot observe any correlation. In any day of the week, most of the ads are published for 0 to 19 days. I'll check again in the next part."
   ]
  },
  {
   "cell_type": "markdown",
   "metadata": {},
   "source": [
    "<div class=\"alert alert-success\" style=\"box-shadow: 4px 4px 4px\">\n",
    "    Success: great conclusion! Also, great color design!  😀\n",
    "</div>"
   ]
  },
  {
   "cell_type": "markdown",
   "metadata": {},
   "source": [
    "<div class=\"alert alert-warning\" style=\"box-shadow: 4px 4px 4px\">\n",
    "    Remark: it is better to write conclusion after each step. In this case it would be easier for another person to analyze your results. \n",
    "</div>"
   ]
  },
  {
   "cell_type": "markdown",
   "metadata": {},
   "source": [
    "## Carry out exploratory data analysis"
   ]
  },
  {
   "cell_type": "code",
   "execution_count": 55,
   "metadata": {},
   "outputs": [
    {
     "name": "stdout",
     "output_type": "stream",
     "text": [
      "<class 'pandas.core.frame.DataFrame'>\n",
      "Int64Index: 50976 entries, 0 to 50975\n",
      "Data columns (total 24 columns):\n",
      " #   Column                  Non-Null Count  Dtype         \n",
      "---  ------                  --------------  -----         \n",
      " 0   price                   50976 non-null  int64         \n",
      " 1   model_year              50976 non-null  int32         \n",
      " 2   model                   50976 non-null  object        \n",
      " 3   condition               50976 non-null  int64         \n",
      " 4   cylinders               50976 non-null  int64         \n",
      " 5   fuel                    50976 non-null  category      \n",
      " 6   odometer                50976 non-null  int64         \n",
      " 7   transmission            50976 non-null  category      \n",
      " 8   type                    50976 non-null  category      \n",
      " 9   paint_color             50976 non-null  category      \n",
      " 10  is_4wd                  50976 non-null  bool          \n",
      " 11  date_posted             50976 non-null  datetime64[ns]\n",
      " 12  days_listed             50976 non-null  int64         \n",
      " 13  mean_cylinders          50976 non-null  int64         \n",
      " 14  model_year_mean         50976 non-null  int64         \n",
      " 15  price_group             50976 non-null  category      \n",
      " 16  day_listed_group        50976 non-null  category      \n",
      " 17  Day_of_the_week         50976 non-null  int16         \n",
      " 18  month                   50976 non-null  int16         \n",
      " 19  year                    50976 non-null  int64         \n",
      " 20  age                     50976 non-null  int32         \n",
      " 21  age_group               50976 non-null  category      \n",
      " 22  mileage_per_year        50976 non-null  float64       \n",
      " 23  mileage_per_year_group  50976 non-null  category      \n",
      "dtypes: bool(1), category(8), datetime64[ns](1), float64(1), int16(2), int32(2), int64(8), object(1)\n",
      "memory usage: 5.7+ MB\n"
     ]
    }
   ],
   "source": [
    "df.info()"
   ]
  },
  {
   "cell_type": "code",
   "execution_count": 56,
   "metadata": {},
   "outputs": [
    {
     "data": {
      "image/png": "[encoded data removed]",
      "text/plain": [
       "<Figure size 576x360 with 6 Axes>"
      ]
     },
     "metadata": {
      "needs_background": "light"
     },
     "output_type": "display_data"
    }
   ],
   "source": [
    "#price, vehicle's age when the ad was placed, mileage, number of cylinders, and condition\n",
    "for t in [[\"price\",\"age\",\"odometer\",\"cylinders\",\"condition\"]]:\n",
    "    df[t].hist(bins=50,figsize=(8,5));  "
   ]
  },
  {
   "cell_type": "markdown",
   "metadata": {},
   "source": [
    "<div class=\"alert alert-success\" style=\"box-shadow: 4px 4px 4px\">\n",
    "    Success: great that loops were used! However, read some additional information about <code>plt.subplots</code>. Here is a <a href=\"https://matplotlib.org/stable/api/_as_gen/matplotlib.pyplot.subplots.html\">link</a>. It wasn't necessary in this particular task. On the other hand, this plots look a little bit inappropriate for reports because the titles of the graphs overlap. \n",
    "</div>"
   ]
  },
  {
   "cell_type": "code",
   "execution_count": 57,
   "metadata": {
    "scrolled": true
   },
   "outputs": [
    {
     "data": {
      "text/html": [
       "<div>\n",
       "<style scoped>\n",
       "    .dataframe tbody tr th:only-of-type {\n",
       "        vertical-align: middle;\n",
       "    }\n",
       "\n",
       "    .dataframe tbody tr th {\n",
       "        vertical-align: top;\n",
       "    }\n",
       "\n",
       "    .dataframe thead th {\n",
       "        text-align: right;\n",
       "    }\n",
       "</style>\n",
       "<table border=\"1\" class=\"dataframe\">\n",
       "  <thead>\n",
       "    <tr style=\"text-align: right;\">\n",
       "      <th></th>\n",
       "      <th>price</th>\n",
       "      <th>model_year</th>\n",
       "      <th>model</th>\n",
       "      <th>condition</th>\n",
       "      <th>cylinders</th>\n",
       "      <th>fuel</th>\n",
       "      <th>odometer</th>\n",
       "      <th>transmission</th>\n",
       "      <th>type</th>\n",
       "      <th>paint_color</th>\n",
       "      <th>...</th>\n",
       "      <th>model_year_mean</th>\n",
       "      <th>price_group</th>\n",
       "      <th>day_listed_group</th>\n",
       "      <th>Day_of_the_week</th>\n",
       "      <th>month</th>\n",
       "      <th>year</th>\n",
       "      <th>age</th>\n",
       "      <th>age_group</th>\n",
       "      <th>mileage_per_year</th>\n",
       "      <th>mileage_per_year_group</th>\n",
       "    </tr>\n",
       "  </thead>\n",
       "  <tbody>\n",
       "    <tr>\n",
       "      <th>0</th>\n",
       "      <td>9400</td>\n",
       "      <td>2011</td>\n",
       "      <td>bmw x5</td>\n",
       "      <td>2</td>\n",
       "      <td>6</td>\n",
       "      <td>gas</td>\n",
       "      <td>145000</td>\n",
       "      <td>automatic</td>\n",
       "      <td>suv</td>\n",
       "      <td>unpublished</td>\n",
       "      <td>...</td>\n",
       "      <td>2009</td>\n",
       "      <td>C 9000-16900</td>\n",
       "      <td>A 0-19</td>\n",
       "      <td>5</td>\n",
       "      <td>6</td>\n",
       "      <td>2018</td>\n",
       "      <td>8</td>\n",
       "      <td>C 8-12</td>\n",
       "      <td>18125.000000</td>\n",
       "      <td>C 13,761-20,870</td>\n",
       "    </tr>\n",
       "    <tr>\n",
       "      <th>1</th>\n",
       "      <td>25500</td>\n",
       "      <td>2009</td>\n",
       "      <td>ford f-150</td>\n",
       "      <td>2</td>\n",
       "      <td>6</td>\n",
       "      <td>gas</td>\n",
       "      <td>88705</td>\n",
       "      <td>automatic</td>\n",
       "      <td>pickup</td>\n",
       "      <td>white</td>\n",
       "      <td>...</td>\n",
       "      <td>2009</td>\n",
       "      <td>D 16900+</td>\n",
       "      <td>C 34-53</td>\n",
       "      <td>4</td>\n",
       "      <td>10</td>\n",
       "      <td>2018</td>\n",
       "      <td>10</td>\n",
       "      <td>C 8-12</td>\n",
       "      <td>8870.500000</td>\n",
       "      <td>B 7,831-13,760</td>\n",
       "    </tr>\n",
       "    <tr>\n",
       "      <th>2</th>\n",
       "      <td>5500</td>\n",
       "      <td>2013</td>\n",
       "      <td>hyundai sonata</td>\n",
       "      <td>4</td>\n",
       "      <td>4</td>\n",
       "      <td>gas</td>\n",
       "      <td>110000</td>\n",
       "      <td>automatic</td>\n",
       "      <td>sedan</td>\n",
       "      <td>red</td>\n",
       "      <td>...</td>\n",
       "      <td>2010</td>\n",
       "      <td>B 5000-9000</td>\n",
       "      <td>D 54+</td>\n",
       "      <td>3</td>\n",
       "      <td>2</td>\n",
       "      <td>2019</td>\n",
       "      <td>7</td>\n",
       "      <td>B 5-7</td>\n",
       "      <td>15714.285714</td>\n",
       "      <td>C 13,761-20,870</td>\n",
       "    </tr>\n",
       "    <tr>\n",
       "      <th>3</th>\n",
       "      <td>1500</td>\n",
       "      <td>2003</td>\n",
       "      <td>ford f-150</td>\n",
       "      <td>1</td>\n",
       "      <td>8</td>\n",
       "      <td>gas</td>\n",
       "      <td>10457</td>\n",
       "      <td>automatic</td>\n",
       "      <td>pickup</td>\n",
       "      <td>unpublished</td>\n",
       "      <td>...</td>\n",
       "      <td>2009</td>\n",
       "      <td>A 1-5000</td>\n",
       "      <td>A 0-19</td>\n",
       "      <td>4</td>\n",
       "      <td>3</td>\n",
       "      <td>2019</td>\n",
       "      <td>17</td>\n",
       "      <td>D 13+</td>\n",
       "      <td>615.117647</td>\n",
       "      <td>A 0-7,830</td>\n",
       "    </tr>\n",
       "    <tr>\n",
       "      <th>4</th>\n",
       "      <td>14900</td>\n",
       "      <td>2017</td>\n",
       "      <td>chrysler 200</td>\n",
       "      <td>3</td>\n",
       "      <td>4</td>\n",
       "      <td>gas</td>\n",
       "      <td>80903</td>\n",
       "      <td>automatic</td>\n",
       "      <td>sedan</td>\n",
       "      <td>black</td>\n",
       "      <td>...</td>\n",
       "      <td>2010</td>\n",
       "      <td>C 9000-16900</td>\n",
       "      <td>B 20-33</td>\n",
       "      <td>1</td>\n",
       "      <td>4</td>\n",
       "      <td>2019</td>\n",
       "      <td>3</td>\n",
       "      <td>A 0-4</td>\n",
       "      <td>26967.666667</td>\n",
       "      <td>D 20,871+</td>\n",
       "    </tr>\n",
       "  </tbody>\n",
       "</table>\n",
       "<p>5 rows × 24 columns</p>\n",
       "</div>"
      ],
      "text/plain": [
       "   price  model_year           model  condition  cylinders fuel  odometer  \\\n",
       "0   9400        2011          bmw x5          2          6  gas    145000   \n",
       "1  25500        2009      ford f-150          2          6  gas     88705   \n",
       "2   5500        2013  hyundai sonata          4          4  gas    110000   \n",
       "3   1500        2003      ford f-150          1          8  gas     10457   \n",
       "4  14900        2017    chrysler 200          3          4  gas     80903   \n",
       "\n",
       "  transmission    type  paint_color  ...  model_year_mean   price_group  \\\n",
       "0    automatic     suv  unpublished  ...             2009  C 9000-16900   \n",
       "1    automatic  pickup        white  ...             2009      D 16900+   \n",
       "2    automatic   sedan          red  ...             2010   B 5000-9000   \n",
       "3    automatic  pickup  unpublished  ...             2009      A 1-5000   \n",
       "4    automatic   sedan        black  ...             2010  C 9000-16900   \n",
       "\n",
       "   day_listed_group  Day_of_the_week  month  year age  age_group  \\\n",
       "0            A 0-19                5      6  2018   8     C 8-12   \n",
       "1           C 34-53                4     10  2018  10     C 8-12   \n",
       "2             D 54+                3      2  2019   7      B 5-7   \n",
       "3            A 0-19                4      3  2019  17      D 13+   \n",
       "4           B 20-33                1      4  2019   3      A 0-4   \n",
       "\n",
       "   mileage_per_year  mileage_per_year_group  \n",
       "0      18125.000000         C 13,761-20,870  \n",
       "1       8870.500000          B 7,831-13,760  \n",
       "2      15714.285714         C 13,761-20,870  \n",
       "3        615.117647               A 0-7,830  \n",
       "4      26967.666667               D 20,871+  \n",
       "\n",
       "[5 rows x 24 columns]"
      ]
     },
     "execution_count": 57,
     "metadata": {},
     "output_type": "execute_result"
    }
   ],
   "source": [
    "df.head()"
   ]
  },
  {
   "cell_type": "markdown",
   "metadata": {},
   "source": [
    "### looking at price"
   ]
  },
  {
   "cell_type": "code",
   "execution_count": 58,
   "metadata": {},
   "outputs": [
    {
     "data": {
      "image/png": "[encoded data removed]",
      "text/plain": [
       "<Figure size 576x360 with 1 Axes>"
      ]
     },
     "metadata": {
      "needs_background": "light"
     },
     "output_type": "display_data"
    }
   ],
   "source": [
    "#price big picture\n",
    "df[\"price\"].plot(kind=\"hist\", bins=75,figsize=(8,5),title=\"Price\",xlabel=\"price\");"
   ]
  },
  {
   "cell_type": "code",
   "execution_count": 59,
   "metadata": {},
   "outputs": [
    {
     "name": "stdout",
     "output_type": "stream",
     "text": [
      "price lower than 5000: 13092\n"
     ]
    }
   ],
   "source": [
    "pl5=df[df[\"price\"]<=5_000].value_counts().sum()\n",
    "print(f\"price lower than 5000: {pl5}\")"
   ]
  },
  {
   "cell_type": "code",
   "execution_count": 60,
   "metadata": {},
   "outputs": [
    {
     "name": "stdout",
     "output_type": "stream",
     "text": [
      "price higher than 100,000: 17\n"
     ]
    }
   ],
   "source": [
    "ph10=df[df[\"price\"]>=100_000].value_counts().sum()\n",
    "print(f\"price higher than 100,000: {ph10}\")"
   ]
  },
  {
   "cell_type": "markdown",
   "metadata": {},
   "source": [
    "**conclusion**\n",
    "\n",
    "In the data there are 12,200 cars cheaper than 5,000 and 16 expensive cars above 100,000. The data looks ok"
   ]
  },
  {
   "cell_type": "markdown",
   "metadata": {},
   "source": [
    "<div class=\"alert alert-success\" style=\"box-shadow: 4px 4px 4px\">\n",
    "Success: tI couldn't agree more!\n",
    "</div>"
   ]
  },
  {
   "cell_type": "markdown",
   "metadata": {},
   "source": [
    "### looking at model_year"
   ]
  },
  {
   "cell_type": "code",
   "execution_count": 61,
   "metadata": {},
   "outputs": [
    {
     "data": {
      "image/png": "[encoded data removed]",
      "text/plain": [
       "<Figure size 576x360 with 1 Axes>"
      ]
     },
     "metadata": {
      "needs_background": "light"
     },
     "output_type": "display_data"
    }
   ],
   "source": [
    "#model_year big picture\n",
    "df[\"model_year\"].plot(kind=\"hist\", bins=50,figsize=(8,5),title=\"model_year\",xlabel=\"Year\");"
   ]
  },
  {
   "cell_type": "code",
   "execution_count": 62,
   "metadata": {},
   "outputs": [
    {
     "data": {
      "text/plain": [
       "203"
      ]
     },
     "execution_count": 62,
     "metadata": {},
     "output_type": "execute_result"
    }
   ],
   "source": [
    "df[df[\"model_year\"]<=1_980].value_counts().sum()"
   ]
  },
  {
   "cell_type": "code",
   "execution_count": 63,
   "metadata": {},
   "outputs": [
    {
     "data": {
      "text/html": [
       "<div>\n",
       "<style scoped>\n",
       "    .dataframe tbody tr th:only-of-type {\n",
       "        vertical-align: middle;\n",
       "    }\n",
       "\n",
       "    .dataframe tbody tr th {\n",
       "        vertical-align: top;\n",
       "    }\n",
       "\n",
       "    .dataframe thead th {\n",
       "        text-align: right;\n",
       "    }\n",
       "</style>\n",
       "<table border=\"1\" class=\"dataframe\">\n",
       "  <thead>\n",
       "    <tr style=\"text-align: right;\">\n",
       "      <th></th>\n",
       "      <th>price</th>\n",
       "      <th>model_year</th>\n",
       "      <th>model</th>\n",
       "      <th>condition</th>\n",
       "      <th>cylinders</th>\n",
       "      <th>fuel</th>\n",
       "      <th>odometer</th>\n",
       "      <th>transmission</th>\n",
       "      <th>type</th>\n",
       "      <th>paint_color</th>\n",
       "      <th>...</th>\n",
       "      <th>model_year_mean</th>\n",
       "      <th>price_group</th>\n",
       "      <th>day_listed_group</th>\n",
       "      <th>Day_of_the_week</th>\n",
       "      <th>month</th>\n",
       "      <th>year</th>\n",
       "      <th>age</th>\n",
       "      <th>age_group</th>\n",
       "      <th>mileage_per_year</th>\n",
       "      <th>mileage_per_year_group</th>\n",
       "    </tr>\n",
       "  </thead>\n",
       "  <tbody>\n",
       "    <tr>\n",
       "      <th>63</th>\n",
       "      <td>30000</td>\n",
       "      <td>1966</td>\n",
       "      <td>ford mustang</td>\n",
       "      <td>3</td>\n",
       "      <td>6</td>\n",
       "      <td>gas</td>\n",
       "      <td>51000</td>\n",
       "      <td>manual</td>\n",
       "      <td>convertible</td>\n",
       "      <td>red</td>\n",
       "      <td>...</td>\n",
       "      <td>2002</td>\n",
       "      <td>D 16900+</td>\n",
       "      <td>A 0-19</td>\n",
       "      <td>2</td>\n",
       "      <td>1</td>\n",
       "      <td>2019</td>\n",
       "      <td>54</td>\n",
       "      <td>D 13+</td>\n",
       "      <td>944.444444</td>\n",
       "      <td>A 0-7,830</td>\n",
       "    </tr>\n",
       "    <tr>\n",
       "      <th>73</th>\n",
       "      <td>1900</td>\n",
       "      <td>1994</td>\n",
       "      <td>jeep grand cherokee laredo</td>\n",
       "      <td>2</td>\n",
       "      <td>6</td>\n",
       "      <td>gas</td>\n",
       "      <td>207</td>\n",
       "      <td>automatic</td>\n",
       "      <td>suv</td>\n",
       "      <td>grey</td>\n",
       "      <td>...</td>\n",
       "      <td>2009</td>\n",
       "      <td>A 1-5000</td>\n",
       "      <td>A 0-19</td>\n",
       "      <td>4</td>\n",
       "      <td>7</td>\n",
       "      <td>2018</td>\n",
       "      <td>25</td>\n",
       "      <td>D 13+</td>\n",
       "      <td>8.280000</td>\n",
       "      <td>A 0-7,830</td>\n",
       "    </tr>\n",
       "    <tr>\n",
       "      <th>356</th>\n",
       "      <td>18400</td>\n",
       "      <td>1975</td>\n",
       "      <td>chevrolet corvette</td>\n",
       "      <td>3</td>\n",
       "      <td>8</td>\n",
       "      <td>gas</td>\n",
       "      <td>18000</td>\n",
       "      <td>automatic</td>\n",
       "      <td>coupe</td>\n",
       "      <td>orange</td>\n",
       "      <td>...</td>\n",
       "      <td>2007</td>\n",
       "      <td>D 16900+</td>\n",
       "      <td>C 34-53</td>\n",
       "      <td>6</td>\n",
       "      <td>1</td>\n",
       "      <td>2019</td>\n",
       "      <td>45</td>\n",
       "      <td>D 13+</td>\n",
       "      <td>400.000000</td>\n",
       "      <td>A 0-7,830</td>\n",
       "    </tr>\n",
       "    <tr>\n",
       "      <th>806</th>\n",
       "      <td>2995</td>\n",
       "      <td>1999</td>\n",
       "      <td>ford f-150</td>\n",
       "      <td>2</td>\n",
       "      <td>6</td>\n",
       "      <td>gas</td>\n",
       "      <td>0</td>\n",
       "      <td>manual</td>\n",
       "      <td>truck</td>\n",
       "      <td>unpublished</td>\n",
       "      <td>...</td>\n",
       "      <td>2009</td>\n",
       "      <td>A 1-5000</td>\n",
       "      <td>A 0-19</td>\n",
       "      <td>3</td>\n",
       "      <td>3</td>\n",
       "      <td>2019</td>\n",
       "      <td>21</td>\n",
       "      <td>D 13+</td>\n",
       "      <td>0.000000</td>\n",
       "      <td>A 0-7,830</td>\n",
       "    </tr>\n",
       "    <tr>\n",
       "      <th>845</th>\n",
       "      <td>13900</td>\n",
       "      <td>1985</td>\n",
       "      <td>chevrolet corvette</td>\n",
       "      <td>4</td>\n",
       "      <td>8</td>\n",
       "      <td>gas</td>\n",
       "      <td>25000</td>\n",
       "      <td>automatic</td>\n",
       "      <td>coupe</td>\n",
       "      <td>red</td>\n",
       "      <td>...</td>\n",
       "      <td>2007</td>\n",
       "      <td>C 9000-16900</td>\n",
       "      <td>A 0-19</td>\n",
       "      <td>2</td>\n",
       "      <td>10</td>\n",
       "      <td>2018</td>\n",
       "      <td>34</td>\n",
       "      <td>D 13+</td>\n",
       "      <td>735.294118</td>\n",
       "      <td>A 0-7,830</td>\n",
       "    </tr>\n",
       "    <tr>\n",
       "      <th>...</th>\n",
       "      <td>...</td>\n",
       "      <td>...</td>\n",
       "      <td>...</td>\n",
       "      <td>...</td>\n",
       "      <td>...</td>\n",
       "      <td>...</td>\n",
       "      <td>...</td>\n",
       "      <td>...</td>\n",
       "      <td>...</td>\n",
       "      <td>...</td>\n",
       "      <td>...</td>\n",
       "      <td>...</td>\n",
       "      <td>...</td>\n",
       "      <td>...</td>\n",
       "      <td>...</td>\n",
       "      <td>...</td>\n",
       "      <td>...</td>\n",
       "      <td>...</td>\n",
       "      <td>...</td>\n",
       "      <td>...</td>\n",
       "      <td>...</td>\n",
       "    </tr>\n",
       "    <tr>\n",
       "      <th>50127</th>\n",
       "      <td>3900</td>\n",
       "      <td>1992</td>\n",
       "      <td>ford mustang</td>\n",
       "      <td>3</td>\n",
       "      <td>8</td>\n",
       "      <td>gas</td>\n",
       "      <td>17647</td>\n",
       "      <td>automatic</td>\n",
       "      <td>convertible</td>\n",
       "      <td>blue</td>\n",
       "      <td>...</td>\n",
       "      <td>2002</td>\n",
       "      <td>A 1-5000</td>\n",
       "      <td>B 20-33</td>\n",
       "      <td>5</td>\n",
       "      <td>1</td>\n",
       "      <td>2019</td>\n",
       "      <td>28</td>\n",
       "      <td>D 13+</td>\n",
       "      <td>630.250000</td>\n",
       "      <td>A 0-7,830</td>\n",
       "    </tr>\n",
       "    <tr>\n",
       "      <th>50129</th>\n",
       "      <td>1550</td>\n",
       "      <td>1999</td>\n",
       "      <td>dodge dakota</td>\n",
       "      <td>3</td>\n",
       "      <td>8</td>\n",
       "      <td>gas</td>\n",
       "      <td>12418</td>\n",
       "      <td>automatic</td>\n",
       "      <td>pickup</td>\n",
       "      <td>unpublished</td>\n",
       "      <td>...</td>\n",
       "      <td>2009</td>\n",
       "      <td>A 1-5000</td>\n",
       "      <td>A 0-19</td>\n",
       "      <td>4</td>\n",
       "      <td>7</td>\n",
       "      <td>2018</td>\n",
       "      <td>20</td>\n",
       "      <td>D 13+</td>\n",
       "      <td>620.900000</td>\n",
       "      <td>A 0-7,830</td>\n",
       "    </tr>\n",
       "    <tr>\n",
       "      <th>50453</th>\n",
       "      <td>7300</td>\n",
       "      <td>1999</td>\n",
       "      <td>toyota 4runner</td>\n",
       "      <td>2</td>\n",
       "      <td>4</td>\n",
       "      <td>gas</td>\n",
       "      <td>12418</td>\n",
       "      <td>automatic</td>\n",
       "      <td>suv</td>\n",
       "      <td>unpublished</td>\n",
       "      <td>...</td>\n",
       "      <td>2009</td>\n",
       "      <td>B 5000-9000</td>\n",
       "      <td>B 20-33</td>\n",
       "      <td>3</td>\n",
       "      <td>7</td>\n",
       "      <td>2018</td>\n",
       "      <td>20</td>\n",
       "      <td>D 13+</td>\n",
       "      <td>620.900000</td>\n",
       "      <td>A 0-7,830</td>\n",
       "    </tr>\n",
       "    <tr>\n",
       "      <th>50610</th>\n",
       "      <td>3900</td>\n",
       "      <td>1988</td>\n",
       "      <td>ford f350</td>\n",
       "      <td>2</td>\n",
       "      <td>8</td>\n",
       "      <td>gas</td>\n",
       "      <td>30000</td>\n",
       "      <td>automatic</td>\n",
       "      <td>truck</td>\n",
       "      <td>unpublished</td>\n",
       "      <td>...</td>\n",
       "      <td>2009</td>\n",
       "      <td>A 1-5000</td>\n",
       "      <td>C 34-53</td>\n",
       "      <td>0</td>\n",
       "      <td>8</td>\n",
       "      <td>2018</td>\n",
       "      <td>31</td>\n",
       "      <td>D 13+</td>\n",
       "      <td>967.741935</td>\n",
       "      <td>A 0-7,830</td>\n",
       "    </tr>\n",
       "    <tr>\n",
       "      <th>50913</th>\n",
       "      <td>3500</td>\n",
       "      <td>1998</td>\n",
       "      <td>toyota 4runner</td>\n",
       "      <td>2</td>\n",
       "      <td>6</td>\n",
       "      <td>gas</td>\n",
       "      <td>13071</td>\n",
       "      <td>automatic</td>\n",
       "      <td>suv</td>\n",
       "      <td>brown</td>\n",
       "      <td>...</td>\n",
       "      <td>2009</td>\n",
       "      <td>A 1-5000</td>\n",
       "      <td>A 0-19</td>\n",
       "      <td>2</td>\n",
       "      <td>8</td>\n",
       "      <td>2018</td>\n",
       "      <td>21</td>\n",
       "      <td>D 13+</td>\n",
       "      <td>622.428571</td>\n",
       "      <td>A 0-7,830</td>\n",
       "    </tr>\n",
       "  </tbody>\n",
       "</table>\n",
       "<p>513 rows × 24 columns</p>\n",
       "</div>"
      ],
      "text/plain": [
       "       price  model_year                       model  condition  cylinders  \\\n",
       "63     30000        1966                ford mustang          3          6   \n",
       "73      1900        1994  jeep grand cherokee laredo          2          6   \n",
       "356    18400        1975          chevrolet corvette          3          8   \n",
       "806     2995        1999                  ford f-150          2          6   \n",
       "845    13900        1985          chevrolet corvette          4          8   \n",
       "...      ...         ...                         ...        ...        ...   \n",
       "50127   3900        1992                ford mustang          3          8   \n",
       "50129   1550        1999                dodge dakota          3          8   \n",
       "50453   7300        1999              toyota 4runner          2          4   \n",
       "50610   3900        1988                   ford f350          2          8   \n",
       "50913   3500        1998              toyota 4runner          2          6   \n",
       "\n",
       "      fuel  odometer transmission         type  paint_color  ...  \\\n",
       "63     gas     51000       manual  convertible          red  ...   \n",
       "73     gas       207    automatic          suv         grey  ...   \n",
       "356    gas     18000    automatic        coupe       orange  ...   \n",
       "806    gas         0       manual        truck  unpublished  ...   \n",
       "845    gas     25000    automatic        coupe          red  ...   \n",
       "...    ...       ...          ...          ...          ...  ...   \n",
       "50127  gas     17647    automatic  convertible         blue  ...   \n",
       "50129  gas     12418    automatic       pickup  unpublished  ...   \n",
       "50453  gas     12418    automatic          suv  unpublished  ...   \n",
       "50610  gas     30000    automatic        truck  unpublished  ...   \n",
       "50913  gas     13071    automatic          suv        brown  ...   \n",
       "\n",
       "       model_year_mean   price_group  day_listed_group  Day_of_the_week  \\\n",
       "63                2002      D 16900+            A 0-19                2   \n",
       "73                2009      A 1-5000            A 0-19                4   \n",
       "356               2007      D 16900+           C 34-53                6   \n",
       "806               2009      A 1-5000            A 0-19                3   \n",
       "845               2007  C 9000-16900            A 0-19                2   \n",
       "...                ...           ...               ...              ...   \n",
       "50127             2002      A 1-5000           B 20-33                5   \n",
       "50129             2009      A 1-5000            A 0-19                4   \n",
       "50453             2009   B 5000-9000           B 20-33                3   \n",
       "50610             2009      A 1-5000           C 34-53                0   \n",
       "50913             2009      A 1-5000            A 0-19                2   \n",
       "\n",
       "       month  year age  age_group  mileage_per_year  mileage_per_year_group  \n",
       "63         1  2019  54      D 13+        944.444444               A 0-7,830  \n",
       "73         7  2018  25      D 13+          8.280000               A 0-7,830  \n",
       "356        1  2019  45      D 13+        400.000000               A 0-7,830  \n",
       "806        3  2019  21      D 13+          0.000000               A 0-7,830  \n",
       "845       10  2018  34      D 13+        735.294118               A 0-7,830  \n",
       "...      ...   ...  ..        ...               ...                     ...  \n",
       "50127      1  2019  28      D 13+        630.250000               A 0-7,830  \n",
       "50129      7  2018  20      D 13+        620.900000               A 0-7,830  \n",
       "50453      7  2018  20      D 13+        620.900000               A 0-7,830  \n",
       "50610      8  2018  31      D 13+        967.741935               A 0-7,830  \n",
       "50913      8  2018  21      D 13+        622.428571               A 0-7,830  \n",
       "\n",
       "[513 rows x 24 columns]"
      ]
     },
     "execution_count": 63,
     "metadata": {},
     "output_type": "execute_result"
    }
   ],
   "source": [
    "#I'm checking old cars (before 2000) with the mileage per year less than 1000. got 511 cars.\n",
    "#unless its collectors cars, it is highly unlikely the year is correct. I'll move these cars to other table and delete them\n",
    "df.query(\"model_year<2000 and mileage_per_year<=1000\")"
   ]
  },
  {
   "cell_type": "code",
   "execution_count": 64,
   "metadata": {},
   "outputs": [],
   "source": [
    "old_cars=df.query(\"model_year<2000 and mileage_per_year<=1000\")\n",
    "df=df.loc[(df[\"model_year\"]>=2000) | (df[\"mileage_per_year\"]>1000)]"
   ]
  },
  {
   "cell_type": "code",
   "execution_count": 65,
   "metadata": {},
   "outputs": [
    {
     "data": {
      "text/html": [
       "<div>\n",
       "<style scoped>\n",
       "    .dataframe tbody tr th:only-of-type {\n",
       "        vertical-align: middle;\n",
       "    }\n",
       "\n",
       "    .dataframe tbody tr th {\n",
       "        vertical-align: top;\n",
       "    }\n",
       "\n",
       "    .dataframe thead th {\n",
       "        text-align: right;\n",
       "    }\n",
       "</style>\n",
       "<table border=\"1\" class=\"dataframe\">\n",
       "  <thead>\n",
       "    <tr style=\"text-align: right;\">\n",
       "      <th></th>\n",
       "      <th>price</th>\n",
       "      <th>model_year</th>\n",
       "      <th>model</th>\n",
       "      <th>condition</th>\n",
       "      <th>cylinders</th>\n",
       "      <th>fuel</th>\n",
       "      <th>odometer</th>\n",
       "      <th>transmission</th>\n",
       "      <th>type</th>\n",
       "      <th>paint_color</th>\n",
       "      <th>...</th>\n",
       "      <th>model_year_mean</th>\n",
       "      <th>price_group</th>\n",
       "      <th>day_listed_group</th>\n",
       "      <th>Day_of_the_week</th>\n",
       "      <th>month</th>\n",
       "      <th>year</th>\n",
       "      <th>age</th>\n",
       "      <th>age_group</th>\n",
       "      <th>mileage_per_year</th>\n",
       "      <th>mileage_per_year_group</th>\n",
       "    </tr>\n",
       "  </thead>\n",
       "  <tbody>\n",
       "    <tr>\n",
       "      <th>467</th>\n",
       "      <td>34000</td>\n",
       "      <td>2016</td>\n",
       "      <td>chevrolet camaro</td>\n",
       "      <td>5</td>\n",
       "      <td>8</td>\n",
       "      <td>gas</td>\n",
       "      <td>3396</td>\n",
       "      <td>automatic</td>\n",
       "      <td>coupe</td>\n",
       "      <td>red</td>\n",
       "      <td>...</td>\n",
       "      <td>2007</td>\n",
       "      <td>D 16900+</td>\n",
       "      <td>A 0-19</td>\n",
       "      <td>0</td>\n",
       "      <td>12</td>\n",
       "      <td>2018</td>\n",
       "      <td>3</td>\n",
       "      <td>A 0-4</td>\n",
       "      <td>1132.000000</td>\n",
       "      <td>A 0-7,830</td>\n",
       "    </tr>\n",
       "    <tr>\n",
       "      <th>1954</th>\n",
       "      <td>7000</td>\n",
       "      <td>2009</td>\n",
       "      <td>chevrolet silverado 1500</td>\n",
       "      <td>5</td>\n",
       "      <td>8</td>\n",
       "      <td>gas</td>\n",
       "      <td>194700</td>\n",
       "      <td>automatic</td>\n",
       "      <td>truck</td>\n",
       "      <td>white</td>\n",
       "      <td>...</td>\n",
       "      <td>2009</td>\n",
       "      <td>B 5000-9000</td>\n",
       "      <td>A 0-19</td>\n",
       "      <td>6</td>\n",
       "      <td>11</td>\n",
       "      <td>2018</td>\n",
       "      <td>10</td>\n",
       "      <td>C 8-12</td>\n",
       "      <td>19470.000000</td>\n",
       "      <td>C 13,761-20,870</td>\n",
       "    </tr>\n",
       "    <tr>\n",
       "      <th>2149</th>\n",
       "      <td>8300</td>\n",
       "      <td>2013</td>\n",
       "      <td>toyota camry</td>\n",
       "      <td>5</td>\n",
       "      <td>4</td>\n",
       "      <td>gas</td>\n",
       "      <td>140000</td>\n",
       "      <td>automatic</td>\n",
       "      <td>sedan</td>\n",
       "      <td>grey</td>\n",
       "      <td>...</td>\n",
       "      <td>2010</td>\n",
       "      <td>B 5000-9000</td>\n",
       "      <td>D 54+</td>\n",
       "      <td>2</td>\n",
       "      <td>4</td>\n",
       "      <td>2019</td>\n",
       "      <td>7</td>\n",
       "      <td>B 5-7</td>\n",
       "      <td>20000.000000</td>\n",
       "      <td>C 13,761-20,870</td>\n",
       "    </tr>\n",
       "    <tr>\n",
       "      <th>2767</th>\n",
       "      <td>76000</td>\n",
       "      <td>2016</td>\n",
       "      <td>chevrolet corvette</td>\n",
       "      <td>5</td>\n",
       "      <td>8</td>\n",
       "      <td>gas</td>\n",
       "      <td>1700</td>\n",
       "      <td>automatic</td>\n",
       "      <td>convertible</td>\n",
       "      <td>white</td>\n",
       "      <td>...</td>\n",
       "      <td>2002</td>\n",
       "      <td>D 16900+</td>\n",
       "      <td>D 54+</td>\n",
       "      <td>6</td>\n",
       "      <td>7</td>\n",
       "      <td>2018</td>\n",
       "      <td>3</td>\n",
       "      <td>A 0-4</td>\n",
       "      <td>566.666667</td>\n",
       "      <td>A 0-7,830</td>\n",
       "    </tr>\n",
       "    <tr>\n",
       "      <th>4535</th>\n",
       "      <td>4500</td>\n",
       "      <td>2012</td>\n",
       "      <td>ford focus</td>\n",
       "      <td>5</td>\n",
       "      <td>4</td>\n",
       "      <td>gas</td>\n",
       "      <td>4575</td>\n",
       "      <td>automatic</td>\n",
       "      <td>hatchback</td>\n",
       "      <td>white</td>\n",
       "      <td>...</td>\n",
       "      <td>2010</td>\n",
       "      <td>A 1-5000</td>\n",
       "      <td>C 34-53</td>\n",
       "      <td>5</td>\n",
       "      <td>3</td>\n",
       "      <td>2019</td>\n",
       "      <td>8</td>\n",
       "      <td>C 8-12</td>\n",
       "      <td>571.875000</td>\n",
       "      <td>A 0-7,830</td>\n",
       "    </tr>\n",
       "    <tr>\n",
       "      <th>6733</th>\n",
       "      <td>4700</td>\n",
       "      <td>2008</td>\n",
       "      <td>honda accord</td>\n",
       "      <td>5</td>\n",
       "      <td>4</td>\n",
       "      <td>gas</td>\n",
       "      <td>147000</td>\n",
       "      <td>automatic</td>\n",
       "      <td>sedan</td>\n",
       "      <td>grey</td>\n",
       "      <td>...</td>\n",
       "      <td>2010</td>\n",
       "      <td>A 1-5000</td>\n",
       "      <td>C 34-53</td>\n",
       "      <td>4</td>\n",
       "      <td>3</td>\n",
       "      <td>2019</td>\n",
       "      <td>12</td>\n",
       "      <td>C 8-12</td>\n",
       "      <td>12250.000000</td>\n",
       "      <td>B 7,831-13,760</td>\n",
       "    </tr>\n",
       "    <tr>\n",
       "      <th>9280</th>\n",
       "      <td>6200</td>\n",
       "      <td>2008</td>\n",
       "      <td>honda accord</td>\n",
       "      <td>5</td>\n",
       "      <td>4</td>\n",
       "      <td>gas</td>\n",
       "      <td>167000</td>\n",
       "      <td>automatic</td>\n",
       "      <td>sedan</td>\n",
       "      <td>grey</td>\n",
       "      <td>...</td>\n",
       "      <td>2010</td>\n",
       "      <td>B 5000-9000</td>\n",
       "      <td>D 54+</td>\n",
       "      <td>2</td>\n",
       "      <td>1</td>\n",
       "      <td>2019</td>\n",
       "      <td>12</td>\n",
       "      <td>C 8-12</td>\n",
       "      <td>13916.666667</td>\n",
       "      <td>C 13,761-20,870</td>\n",
       "    </tr>\n",
       "    <tr>\n",
       "      <th>9457</th>\n",
       "      <td>7500</td>\n",
       "      <td>2007</td>\n",
       "      <td>toyota highlander</td>\n",
       "      <td>5</td>\n",
       "      <td>6</td>\n",
       "      <td>gas</td>\n",
       "      <td>172000</td>\n",
       "      <td>automatic</td>\n",
       "      <td>suv</td>\n",
       "      <td>silver</td>\n",
       "      <td>...</td>\n",
       "      <td>2009</td>\n",
       "      <td>B 5000-9000</td>\n",
       "      <td>B 20-33</td>\n",
       "      <td>4</td>\n",
       "      <td>11</td>\n",
       "      <td>2018</td>\n",
       "      <td>12</td>\n",
       "      <td>C 8-12</td>\n",
       "      <td>14333.333333</td>\n",
       "      <td>C 13,761-20,870</td>\n",
       "    </tr>\n",
       "    <tr>\n",
       "      <th>9478</th>\n",
       "      <td>12300</td>\n",
       "      <td>2008</td>\n",
       "      <td>ford f-150</td>\n",
       "      <td>5</td>\n",
       "      <td>8</td>\n",
       "      <td>gas</td>\n",
       "      <td>178000</td>\n",
       "      <td>automatic</td>\n",
       "      <td>truck</td>\n",
       "      <td>white</td>\n",
       "      <td>...</td>\n",
       "      <td>2009</td>\n",
       "      <td>C 9000-16900</td>\n",
       "      <td>B 20-33</td>\n",
       "      <td>1</td>\n",
       "      <td>8</td>\n",
       "      <td>2018</td>\n",
       "      <td>11</td>\n",
       "      <td>C 8-12</td>\n",
       "      <td>16181.818182</td>\n",
       "      <td>C 13,761-20,870</td>\n",
       "    </tr>\n",
       "    <tr>\n",
       "      <th>10268</th>\n",
       "      <td>4500</td>\n",
       "      <td>2007</td>\n",
       "      <td>jeep grand cherokee</td>\n",
       "      <td>5</td>\n",
       "      <td>6</td>\n",
       "      <td>gas</td>\n",
       "      <td>217000</td>\n",
       "      <td>automatic</td>\n",
       "      <td>suv</td>\n",
       "      <td>white</td>\n",
       "      <td>...</td>\n",
       "      <td>2009</td>\n",
       "      <td>A 1-5000</td>\n",
       "      <td>C 34-53</td>\n",
       "      <td>6</td>\n",
       "      <td>2</td>\n",
       "      <td>2019</td>\n",
       "      <td>13</td>\n",
       "      <td>D 13+</td>\n",
       "      <td>16692.307692</td>\n",
       "      <td>C 13,761-20,870</td>\n",
       "    </tr>\n",
       "    <tr>\n",
       "      <th>10324</th>\n",
       "      <td>9800</td>\n",
       "      <td>2012</td>\n",
       "      <td>toyota corolla</td>\n",
       "      <td>5</td>\n",
       "      <td>4</td>\n",
       "      <td>gas</td>\n",
       "      <td>80147</td>\n",
       "      <td>automatic</td>\n",
       "      <td>sedan</td>\n",
       "      <td>black</td>\n",
       "      <td>...</td>\n",
       "      <td>2010</td>\n",
       "      <td>C 9000-16900</td>\n",
       "      <td>C 34-53</td>\n",
       "      <td>5</td>\n",
       "      <td>1</td>\n",
       "      <td>2019</td>\n",
       "      <td>8</td>\n",
       "      <td>C 8-12</td>\n",
       "      <td>10018.375000</td>\n",
       "      <td>B 7,831-13,760</td>\n",
       "    </tr>\n",
       "    <tr>\n",
       "      <th>10347</th>\n",
       "      <td>9600</td>\n",
       "      <td>2010</td>\n",
       "      <td>chevrolet cruze</td>\n",
       "      <td>5</td>\n",
       "      <td>4</td>\n",
       "      <td>gas</td>\n",
       "      <td>19000</td>\n",
       "      <td>automatic</td>\n",
       "      <td>sedan</td>\n",
       "      <td>white</td>\n",
       "      <td>...</td>\n",
       "      <td>2010</td>\n",
       "      <td>C 9000-16900</td>\n",
       "      <td>B 20-33</td>\n",
       "      <td>0</td>\n",
       "      <td>7</td>\n",
       "      <td>2018</td>\n",
       "      <td>9</td>\n",
       "      <td>C 8-12</td>\n",
       "      <td>2111.111111</td>\n",
       "      <td>A 0-7,830</td>\n",
       "    </tr>\n",
       "    <tr>\n",
       "      <th>10472</th>\n",
       "      <td>3995</td>\n",
       "      <td>2010</td>\n",
       "      <td>toyota camry le</td>\n",
       "      <td>5</td>\n",
       "      <td>4</td>\n",
       "      <td>gas</td>\n",
       "      <td>179000</td>\n",
       "      <td>automatic</td>\n",
       "      <td>sedan</td>\n",
       "      <td>custom</td>\n",
       "      <td>...</td>\n",
       "      <td>2010</td>\n",
       "      <td>A 1-5000</td>\n",
       "      <td>D 54+</td>\n",
       "      <td>6</td>\n",
       "      <td>10</td>\n",
       "      <td>2018</td>\n",
       "      <td>9</td>\n",
       "      <td>C 8-12</td>\n",
       "      <td>19888.888889</td>\n",
       "      <td>C 13,761-20,870</td>\n",
       "    </tr>\n",
       "    <tr>\n",
       "      <th>10688</th>\n",
       "      <td>2400</td>\n",
       "      <td>2005</td>\n",
       "      <td>jeep grand cherokee</td>\n",
       "      <td>5</td>\n",
       "      <td>6</td>\n",
       "      <td>gas</td>\n",
       "      <td>9150</td>\n",
       "      <td>automatic</td>\n",
       "      <td>convertible</td>\n",
       "      <td>white</td>\n",
       "      <td>...</td>\n",
       "      <td>2002</td>\n",
       "      <td>A 1-5000</td>\n",
       "      <td>D 54+</td>\n",
       "      <td>5</td>\n",
       "      <td>1</td>\n",
       "      <td>2019</td>\n",
       "      <td>15</td>\n",
       "      <td>D 13+</td>\n",
       "      <td>610.000000</td>\n",
       "      <td>A 0-7,830</td>\n",
       "    </tr>\n",
       "    <tr>\n",
       "      <th>10786</th>\n",
       "      <td>3995</td>\n",
       "      <td>2002</td>\n",
       "      <td>toyota camry le</td>\n",
       "      <td>5</td>\n",
       "      <td>4</td>\n",
       "      <td>gas</td>\n",
       "      <td>179000</td>\n",
       "      <td>automatic</td>\n",
       "      <td>sedan</td>\n",
       "      <td>custom</td>\n",
       "      <td>...</td>\n",
       "      <td>2010</td>\n",
       "      <td>A 1-5000</td>\n",
       "      <td>B 20-33</td>\n",
       "      <td>2</td>\n",
       "      <td>12</td>\n",
       "      <td>2018</td>\n",
       "      <td>17</td>\n",
       "      <td>D 13+</td>\n",
       "      <td>10529.411765</td>\n",
       "      <td>B 7,831-13,760</td>\n",
       "    </tr>\n",
       "    <tr>\n",
       "      <th>13172</th>\n",
       "      <td>4950</td>\n",
       "      <td>2011</td>\n",
       "      <td>ford focus se</td>\n",
       "      <td>5</td>\n",
       "      <td>4</td>\n",
       "      <td>gas</td>\n",
       "      <td>58000</td>\n",
       "      <td>automatic</td>\n",
       "      <td>sedan</td>\n",
       "      <td>white</td>\n",
       "      <td>...</td>\n",
       "      <td>2010</td>\n",
       "      <td>A 1-5000</td>\n",
       "      <td>B 20-33</td>\n",
       "      <td>4</td>\n",
       "      <td>6</td>\n",
       "      <td>2018</td>\n",
       "      <td>8</td>\n",
       "      <td>C 8-12</td>\n",
       "      <td>7250.000000</td>\n",
       "      <td>A 0-7,830</td>\n",
       "    </tr>\n",
       "    <tr>\n",
       "      <th>13389</th>\n",
       "      <td>12995</td>\n",
       "      <td>2016</td>\n",
       "      <td>nissan altima</td>\n",
       "      <td>5</td>\n",
       "      <td>4</td>\n",
       "      <td>gas</td>\n",
       "      <td>75356</td>\n",
       "      <td>automatic</td>\n",
       "      <td>sedan</td>\n",
       "      <td>red</td>\n",
       "      <td>...</td>\n",
       "      <td>2010</td>\n",
       "      <td>C 9000-16900</td>\n",
       "      <td>A 0-19</td>\n",
       "      <td>2</td>\n",
       "      <td>5</td>\n",
       "      <td>2018</td>\n",
       "      <td>3</td>\n",
       "      <td>A 0-4</td>\n",
       "      <td>25118.666667</td>\n",
       "      <td>D 20,871+</td>\n",
       "    </tr>\n",
       "    <tr>\n",
       "      <th>13482</th>\n",
       "      <td>6300</td>\n",
       "      <td>2014</td>\n",
       "      <td>ford focus</td>\n",
       "      <td>5</td>\n",
       "      <td>4</td>\n",
       "      <td>gas</td>\n",
       "      <td>75000</td>\n",
       "      <td>automatic</td>\n",
       "      <td>sedan</td>\n",
       "      <td>black</td>\n",
       "      <td>...</td>\n",
       "      <td>2010</td>\n",
       "      <td>B 5000-9000</td>\n",
       "      <td>A 0-19</td>\n",
       "      <td>3</td>\n",
       "      <td>6</td>\n",
       "      <td>2018</td>\n",
       "      <td>5</td>\n",
       "      <td>B 5-7</td>\n",
       "      <td>15000.000000</td>\n",
       "      <td>C 13,761-20,870</td>\n",
       "    </tr>\n",
       "    <tr>\n",
       "      <th>13743</th>\n",
       "      <td>4950</td>\n",
       "      <td>2008</td>\n",
       "      <td>honda accord</td>\n",
       "      <td>5</td>\n",
       "      <td>4</td>\n",
       "      <td>gas</td>\n",
       "      <td>98</td>\n",
       "      <td>automatic</td>\n",
       "      <td>sedan</td>\n",
       "      <td>red</td>\n",
       "      <td>...</td>\n",
       "      <td>2010</td>\n",
       "      <td>A 1-5000</td>\n",
       "      <td>A 0-19</td>\n",
       "      <td>0</td>\n",
       "      <td>1</td>\n",
       "      <td>2019</td>\n",
       "      <td>12</td>\n",
       "      <td>C 8-12</td>\n",
       "      <td>8.166667</td>\n",
       "      <td>A 0-7,830</td>\n",
       "    </tr>\n",
       "    <tr>\n",
       "      <th>16791</th>\n",
       "      <td>8300</td>\n",
       "      <td>2017</td>\n",
       "      <td>nissan altima</td>\n",
       "      <td>5</td>\n",
       "      <td>4</td>\n",
       "      <td>gas</td>\n",
       "      <td>50000</td>\n",
       "      <td>automatic</td>\n",
       "      <td>sedan</td>\n",
       "      <td>black</td>\n",
       "      <td>...</td>\n",
       "      <td>2010</td>\n",
       "      <td>B 5000-9000</td>\n",
       "      <td>C 34-53</td>\n",
       "      <td>3</td>\n",
       "      <td>1</td>\n",
       "      <td>2019</td>\n",
       "      <td>3</td>\n",
       "      <td>A 0-4</td>\n",
       "      <td>16666.666667</td>\n",
       "      <td>C 13,761-20,870</td>\n",
       "    </tr>\n",
       "    <tr>\n",
       "      <th>19780</th>\n",
       "      <td>1500</td>\n",
       "      <td>2016</td>\n",
       "      <td>ford fusion se</td>\n",
       "      <td>5</td>\n",
       "      <td>4</td>\n",
       "      <td>gas</td>\n",
       "      <td>44550</td>\n",
       "      <td>automatic</td>\n",
       "      <td>sedan</td>\n",
       "      <td>unpublished</td>\n",
       "      <td>...</td>\n",
       "      <td>2010</td>\n",
       "      <td>A 1-5000</td>\n",
       "      <td>C 34-53</td>\n",
       "      <td>0</td>\n",
       "      <td>6</td>\n",
       "      <td>2018</td>\n",
       "      <td>3</td>\n",
       "      <td>A 0-4</td>\n",
       "      <td>14850.000000</td>\n",
       "      <td>C 13,761-20,870</td>\n",
       "    </tr>\n",
       "    <tr>\n",
       "      <th>20080</th>\n",
       "      <td>3995</td>\n",
       "      <td>2002</td>\n",
       "      <td>toyota camry le</td>\n",
       "      <td>5</td>\n",
       "      <td>4</td>\n",
       "      <td>gas</td>\n",
       "      <td>10457</td>\n",
       "      <td>automatic</td>\n",
       "      <td>sedan</td>\n",
       "      <td>custom</td>\n",
       "      <td>...</td>\n",
       "      <td>2010</td>\n",
       "      <td>A 1-5000</td>\n",
       "      <td>B 20-33</td>\n",
       "      <td>6</td>\n",
       "      <td>11</td>\n",
       "      <td>2018</td>\n",
       "      <td>17</td>\n",
       "      <td>D 13+</td>\n",
       "      <td>615.117647</td>\n",
       "      <td>A 0-7,830</td>\n",
       "    </tr>\n",
       "    <tr>\n",
       "      <th>20162</th>\n",
       "      <td>7000</td>\n",
       "      <td>2010</td>\n",
       "      <td>volkswagen jetta</td>\n",
       "      <td>5</td>\n",
       "      <td>4</td>\n",
       "      <td>diesel</td>\n",
       "      <td>171000</td>\n",
       "      <td>automatic</td>\n",
       "      <td>sedan</td>\n",
       "      <td>white</td>\n",
       "      <td>...</td>\n",
       "      <td>2010</td>\n",
       "      <td>B 5000-9000</td>\n",
       "      <td>D 54+</td>\n",
       "      <td>3</td>\n",
       "      <td>3</td>\n",
       "      <td>2019</td>\n",
       "      <td>10</td>\n",
       "      <td>C 8-12</td>\n",
       "      <td>17100.000000</td>\n",
       "      <td>C 13,761-20,870</td>\n",
       "    </tr>\n",
       "    <tr>\n",
       "      <th>20396</th>\n",
       "      <td>28000</td>\n",
       "      <td>2016</td>\n",
       "      <td>ram 1500</td>\n",
       "      <td>5</td>\n",
       "      <td>8</td>\n",
       "      <td>gas</td>\n",
       "      <td>31000</td>\n",
       "      <td>automatic</td>\n",
       "      <td>truck</td>\n",
       "      <td>blue</td>\n",
       "      <td>...</td>\n",
       "      <td>2009</td>\n",
       "      <td>D 16900+</td>\n",
       "      <td>B 20-33</td>\n",
       "      <td>0</td>\n",
       "      <td>9</td>\n",
       "      <td>2018</td>\n",
       "      <td>3</td>\n",
       "      <td>A 0-4</td>\n",
       "      <td>10333.333333</td>\n",
       "      <td>B 7,831-13,760</td>\n",
       "    </tr>\n",
       "    <tr>\n",
       "      <th>20491</th>\n",
       "      <td>109999</td>\n",
       "      <td>2007</td>\n",
       "      <td>chevrolet corvette</td>\n",
       "      <td>5</td>\n",
       "      <td>8</td>\n",
       "      <td>gas</td>\n",
       "      <td>35</td>\n",
       "      <td>automatic</td>\n",
       "      <td>coupe</td>\n",
       "      <td>white</td>\n",
       "      <td>...</td>\n",
       "      <td>2007</td>\n",
       "      <td>D 16900+</td>\n",
       "      <td>D 54+</td>\n",
       "      <td>4</td>\n",
       "      <td>9</td>\n",
       "      <td>2018</td>\n",
       "      <td>12</td>\n",
       "      <td>C 8-12</td>\n",
       "      <td>2.916667</td>\n",
       "      <td>A 0-7,830</td>\n",
       "    </tr>\n",
       "    <tr>\n",
       "      <th>21538</th>\n",
       "      <td>23000</td>\n",
       "      <td>2009</td>\n",
       "      <td>ford escape</td>\n",
       "      <td>5</td>\n",
       "      <td>4</td>\n",
       "      <td>gas</td>\n",
       "      <td>12000</td>\n",
       "      <td>automatic</td>\n",
       "      <td>suv</td>\n",
       "      <td>unpublished</td>\n",
       "      <td>...</td>\n",
       "      <td>2009</td>\n",
       "      <td>D 16900+</td>\n",
       "      <td>B 20-33</td>\n",
       "      <td>2</td>\n",
       "      <td>2</td>\n",
       "      <td>2019</td>\n",
       "      <td>11</td>\n",
       "      <td>C 8-12</td>\n",
       "      <td>1090.909091</td>\n",
       "      <td>A 0-7,830</td>\n",
       "    </tr>\n",
       "    <tr>\n",
       "      <th>21614</th>\n",
       "      <td>8995</td>\n",
       "      <td>2011</td>\n",
       "      <td>toyota prius</td>\n",
       "      <td>5</td>\n",
       "      <td>4</td>\n",
       "      <td>hybrid</td>\n",
       "      <td>4575</td>\n",
       "      <td>automatic</td>\n",
       "      <td>sedan</td>\n",
       "      <td>unpublished</td>\n",
       "      <td>...</td>\n",
       "      <td>2010</td>\n",
       "      <td>B 5000-9000</td>\n",
       "      <td>B 20-33</td>\n",
       "      <td>5</td>\n",
       "      <td>10</td>\n",
       "      <td>2018</td>\n",
       "      <td>8</td>\n",
       "      <td>C 8-12</td>\n",
       "      <td>571.875000</td>\n",
       "      <td>A 0-7,830</td>\n",
       "    </tr>\n",
       "    <tr>\n",
       "      <th>21675</th>\n",
       "      <td>8700</td>\n",
       "      <td>2017</td>\n",
       "      <td>ford fusion se</td>\n",
       "      <td>5</td>\n",
       "      <td>4</td>\n",
       "      <td>gas</td>\n",
       "      <td>70000</td>\n",
       "      <td>automatic</td>\n",
       "      <td>sedan</td>\n",
       "      <td>unpublished</td>\n",
       "      <td>...</td>\n",
       "      <td>2010</td>\n",
       "      <td>B 5000-9000</td>\n",
       "      <td>C 34-53</td>\n",
       "      <td>4</td>\n",
       "      <td>10</td>\n",
       "      <td>2018</td>\n",
       "      <td>2</td>\n",
       "      <td>A 0-4</td>\n",
       "      <td>35000.000000</td>\n",
       "      <td>D 20,871+</td>\n",
       "    </tr>\n",
       "    <tr>\n",
       "      <th>22213</th>\n",
       "      <td>2900</td>\n",
       "      <td>2005</td>\n",
       "      <td>honda civic</td>\n",
       "      <td>5</td>\n",
       "      <td>4</td>\n",
       "      <td>gas</td>\n",
       "      <td>160650</td>\n",
       "      <td>automatic</td>\n",
       "      <td>sedan</td>\n",
       "      <td>grey</td>\n",
       "      <td>...</td>\n",
       "      <td>2010</td>\n",
       "      <td>A 1-5000</td>\n",
       "      <td>D 54+</td>\n",
       "      <td>0</td>\n",
       "      <td>8</td>\n",
       "      <td>2018</td>\n",
       "      <td>14</td>\n",
       "      <td>D 13+</td>\n",
       "      <td>11475.000000</td>\n",
       "      <td>B 7,831-13,760</td>\n",
       "    </tr>\n",
       "    <tr>\n",
       "      <th>22228</th>\n",
       "      <td>2500</td>\n",
       "      <td>2000</td>\n",
       "      <td>volkswagen passat</td>\n",
       "      <td>5</td>\n",
       "      <td>4</td>\n",
       "      <td>gas</td>\n",
       "      <td>190000</td>\n",
       "      <td>manual</td>\n",
       "      <td>sedan</td>\n",
       "      <td>silver</td>\n",
       "      <td>...</td>\n",
       "      <td>2010</td>\n",
       "      <td>A 1-5000</td>\n",
       "      <td>C 34-53</td>\n",
       "      <td>3</td>\n",
       "      <td>2</td>\n",
       "      <td>2019</td>\n",
       "      <td>20</td>\n",
       "      <td>D 13+</td>\n",
       "      <td>9500.000000</td>\n",
       "      <td>B 7,831-13,760</td>\n",
       "    </tr>\n",
       "    <tr>\n",
       "      <th>22788</th>\n",
       "      <td>11000</td>\n",
       "      <td>2017</td>\n",
       "      <td>ford focus se</td>\n",
       "      <td>5</td>\n",
       "      <td>3</td>\n",
       "      <td>gas</td>\n",
       "      <td>50600</td>\n",
       "      <td>manual</td>\n",
       "      <td>sedan</td>\n",
       "      <td>unpublished</td>\n",
       "      <td>...</td>\n",
       "      <td>2010</td>\n",
       "      <td>C 9000-16900</td>\n",
       "      <td>C 34-53</td>\n",
       "      <td>6</td>\n",
       "      <td>9</td>\n",
       "      <td>2018</td>\n",
       "      <td>2</td>\n",
       "      <td>A 0-4</td>\n",
       "      <td>25300.000000</td>\n",
       "      <td>D 20,871+</td>\n",
       "    </tr>\n",
       "    <tr>\n",
       "      <th>24580</th>\n",
       "      <td>16950</td>\n",
       "      <td>2017</td>\n",
       "      <td>volkswagen passat</td>\n",
       "      <td>5</td>\n",
       "      <td>4</td>\n",
       "      <td>gas</td>\n",
       "      <td>19300</td>\n",
       "      <td>automatic</td>\n",
       "      <td>sedan</td>\n",
       "      <td>white</td>\n",
       "      <td>...</td>\n",
       "      <td>2010</td>\n",
       "      <td>D 16900+</td>\n",
       "      <td>A 0-19</td>\n",
       "      <td>5</td>\n",
       "      <td>11</td>\n",
       "      <td>2018</td>\n",
       "      <td>2</td>\n",
       "      <td>A 0-4</td>\n",
       "      <td>9650.000000</td>\n",
       "      <td>B 7,831-13,760</td>\n",
       "    </tr>\n",
       "    <tr>\n",
       "      <th>24581</th>\n",
       "      <td>14950</td>\n",
       "      <td>2010</td>\n",
       "      <td>hyundai elantra</td>\n",
       "      <td>5</td>\n",
       "      <td>4</td>\n",
       "      <td>gas</td>\n",
       "      <td>30094</td>\n",
       "      <td>automatic</td>\n",
       "      <td>sedan</td>\n",
       "      <td>unpublished</td>\n",
       "      <td>...</td>\n",
       "      <td>2010</td>\n",
       "      <td>C 9000-16900</td>\n",
       "      <td>D 54+</td>\n",
       "      <td>1</td>\n",
       "      <td>11</td>\n",
       "      <td>2018</td>\n",
       "      <td>9</td>\n",
       "      <td>C 8-12</td>\n",
       "      <td>3343.777778</td>\n",
       "      <td>A 0-7,830</td>\n",
       "    </tr>\n",
       "    <tr>\n",
       "      <th>24996</th>\n",
       "      <td>15300</td>\n",
       "      <td>1999</td>\n",
       "      <td>ram 2500</td>\n",
       "      <td>5</td>\n",
       "      <td>6</td>\n",
       "      <td>diesel</td>\n",
       "      <td>315000</td>\n",
       "      <td>automatic</td>\n",
       "      <td>truck</td>\n",
       "      <td>white</td>\n",
       "      <td>...</td>\n",
       "      <td>2009</td>\n",
       "      <td>C 9000-16900</td>\n",
       "      <td>C 34-53</td>\n",
       "      <td>3</td>\n",
       "      <td>3</td>\n",
       "      <td>2019</td>\n",
       "      <td>21</td>\n",
       "      <td>D 13+</td>\n",
       "      <td>15000.000000</td>\n",
       "      <td>C 13,761-20,870</td>\n",
       "    </tr>\n",
       "    <tr>\n",
       "      <th>26627</th>\n",
       "      <td>14995</td>\n",
       "      <td>2002</td>\n",
       "      <td>chevrolet corvette</td>\n",
       "      <td>5</td>\n",
       "      <td>8</td>\n",
       "      <td>gas</td>\n",
       "      <td>69500</td>\n",
       "      <td>automatic</td>\n",
       "      <td>coupe</td>\n",
       "      <td>white</td>\n",
       "      <td>...</td>\n",
       "      <td>2007</td>\n",
       "      <td>C 9000-16900</td>\n",
       "      <td>A 0-19</td>\n",
       "      <td>4</td>\n",
       "      <td>5</td>\n",
       "      <td>2018</td>\n",
       "      <td>17</td>\n",
       "      <td>D 13+</td>\n",
       "      <td>4088.235294</td>\n",
       "      <td>A 0-7,830</td>\n",
       "    </tr>\n",
       "    <tr>\n",
       "      <th>28112</th>\n",
       "      <td>55000</td>\n",
       "      <td>2016</td>\n",
       "      <td>ram 2500</td>\n",
       "      <td>5</td>\n",
       "      <td>6</td>\n",
       "      <td>diesel</td>\n",
       "      <td>13000</td>\n",
       "      <td>manual</td>\n",
       "      <td>truck</td>\n",
       "      <td>custom</td>\n",
       "      <td>...</td>\n",
       "      <td>2009</td>\n",
       "      <td>D 16900+</td>\n",
       "      <td>C 34-53</td>\n",
       "      <td>1</td>\n",
       "      <td>2</td>\n",
       "      <td>2019</td>\n",
       "      <td>4</td>\n",
       "      <td>A 0-4</td>\n",
       "      <td>3250.000000</td>\n",
       "      <td>A 0-7,830</td>\n",
       "    </tr>\n",
       "    <tr>\n",
       "      <th>28271</th>\n",
       "      <td>4500</td>\n",
       "      <td>2004</td>\n",
       "      <td>ford f-150</td>\n",
       "      <td>5</td>\n",
       "      <td>6</td>\n",
       "      <td>gas</td>\n",
       "      <td>120000</td>\n",
       "      <td>automatic</td>\n",
       "      <td>truck</td>\n",
       "      <td>unpublished</td>\n",
       "      <td>...</td>\n",
       "      <td>2009</td>\n",
       "      <td>A 1-5000</td>\n",
       "      <td>D 54+</td>\n",
       "      <td>2</td>\n",
       "      <td>9</td>\n",
       "      <td>2018</td>\n",
       "      <td>15</td>\n",
       "      <td>D 13+</td>\n",
       "      <td>8000.000000</td>\n",
       "      <td>B 7,831-13,760</td>\n",
       "    </tr>\n",
       "    <tr>\n",
       "      <th>28458</th>\n",
       "      <td>7900</td>\n",
       "      <td>2010</td>\n",
       "      <td>toyota rav4</td>\n",
       "      <td>5</td>\n",
       "      <td>4</td>\n",
       "      <td>gas</td>\n",
       "      <td>117000</td>\n",
       "      <td>automatic</td>\n",
       "      <td>hatchback</td>\n",
       "      <td>black</td>\n",
       "      <td>...</td>\n",
       "      <td>2010</td>\n",
       "      <td>B 5000-9000</td>\n",
       "      <td>A 0-19</td>\n",
       "      <td>2</td>\n",
       "      <td>12</td>\n",
       "      <td>2018</td>\n",
       "      <td>9</td>\n",
       "      <td>C 8-12</td>\n",
       "      <td>13000.000000</td>\n",
       "      <td>B 7,831-13,760</td>\n",
       "    </tr>\n",
       "    <tr>\n",
       "      <th>32118</th>\n",
       "      <td>6500</td>\n",
       "      <td>2010</td>\n",
       "      <td>subaru outback</td>\n",
       "      <td>5</td>\n",
       "      <td>4</td>\n",
       "      <td>gas</td>\n",
       "      <td>144000</td>\n",
       "      <td>automatic</td>\n",
       "      <td>suv</td>\n",
       "      <td>green</td>\n",
       "      <td>...</td>\n",
       "      <td>2009</td>\n",
       "      <td>B 5000-9000</td>\n",
       "      <td>A 0-19</td>\n",
       "      <td>6</td>\n",
       "      <td>11</td>\n",
       "      <td>2018</td>\n",
       "      <td>9</td>\n",
       "      <td>C 8-12</td>\n",
       "      <td>16000.000000</td>\n",
       "      <td>C 13,761-20,870</td>\n",
       "    </tr>\n",
       "    <tr>\n",
       "      <th>32204</th>\n",
       "      <td>4500</td>\n",
       "      <td>2005</td>\n",
       "      <td>jeep grand cherokee</td>\n",
       "      <td>5</td>\n",
       "      <td>6</td>\n",
       "      <td>gas</td>\n",
       "      <td>149000</td>\n",
       "      <td>automatic</td>\n",
       "      <td>suv</td>\n",
       "      <td>blue</td>\n",
       "      <td>...</td>\n",
       "      <td>2009</td>\n",
       "      <td>A 1-5000</td>\n",
       "      <td>C 34-53</td>\n",
       "      <td>5</td>\n",
       "      <td>3</td>\n",
       "      <td>2019</td>\n",
       "      <td>15</td>\n",
       "      <td>D 13+</td>\n",
       "      <td>9933.333333</td>\n",
       "      <td>B 7,831-13,760</td>\n",
       "    </tr>\n",
       "    <tr>\n",
       "      <th>32205</th>\n",
       "      <td>4999</td>\n",
       "      <td>2011</td>\n",
       "      <td>chrysler 200</td>\n",
       "      <td>5</td>\n",
       "      <td>4</td>\n",
       "      <td>gas</td>\n",
       "      <td>116000</td>\n",
       "      <td>automatic</td>\n",
       "      <td>sedan</td>\n",
       "      <td>blue</td>\n",
       "      <td>...</td>\n",
       "      <td>2010</td>\n",
       "      <td>A 1-5000</td>\n",
       "      <td>D 54+</td>\n",
       "      <td>6</td>\n",
       "      <td>4</td>\n",
       "      <td>2019</td>\n",
       "      <td>9</td>\n",
       "      <td>C 8-12</td>\n",
       "      <td>12888.888889</td>\n",
       "      <td>B 7,831-13,760</td>\n",
       "    </tr>\n",
       "    <tr>\n",
       "      <th>32813</th>\n",
       "      <td>11000</td>\n",
       "      <td>2016</td>\n",
       "      <td>toyota corolla</td>\n",
       "      <td>5</td>\n",
       "      <td>4</td>\n",
       "      <td>gas</td>\n",
       "      <td>50</td>\n",
       "      <td>automatic</td>\n",
       "      <td>sedan</td>\n",
       "      <td>unpublished</td>\n",
       "      <td>...</td>\n",
       "      <td>2010</td>\n",
       "      <td>C 9000-16900</td>\n",
       "      <td>D 54+</td>\n",
       "      <td>0</td>\n",
       "      <td>9</td>\n",
       "      <td>2018</td>\n",
       "      <td>3</td>\n",
       "      <td>A 0-4</td>\n",
       "      <td>16.666667</td>\n",
       "      <td>A 0-7,830</td>\n",
       "    </tr>\n",
       "    <tr>\n",
       "      <th>33357</th>\n",
       "      <td>9200</td>\n",
       "      <td>2017</td>\n",
       "      <td>ford fusion se</td>\n",
       "      <td>5</td>\n",
       "      <td>4</td>\n",
       "      <td>gas</td>\n",
       "      <td>70</td>\n",
       "      <td>automatic</td>\n",
       "      <td>sedan</td>\n",
       "      <td>grey</td>\n",
       "      <td>...</td>\n",
       "      <td>2010</td>\n",
       "      <td>C 9000-16900</td>\n",
       "      <td>B 20-33</td>\n",
       "      <td>4</td>\n",
       "      <td>3</td>\n",
       "      <td>2019</td>\n",
       "      <td>3</td>\n",
       "      <td>A 0-4</td>\n",
       "      <td>23.333333</td>\n",
       "      <td>A 0-7,830</td>\n",
       "    </tr>\n",
       "    <tr>\n",
       "      <th>36329</th>\n",
       "      <td>26000</td>\n",
       "      <td>2010</td>\n",
       "      <td>toyota corolla</td>\n",
       "      <td>5</td>\n",
       "      <td>4</td>\n",
       "      <td>gas</td>\n",
       "      <td>6000</td>\n",
       "      <td>automatic</td>\n",
       "      <td>sedan</td>\n",
       "      <td>white</td>\n",
       "      <td>...</td>\n",
       "      <td>2010</td>\n",
       "      <td>D 16900+</td>\n",
       "      <td>A 0-19</td>\n",
       "      <td>5</td>\n",
       "      <td>7</td>\n",
       "      <td>2018</td>\n",
       "      <td>9</td>\n",
       "      <td>C 8-12</td>\n",
       "      <td>666.666667</td>\n",
       "      <td>A 0-7,830</td>\n",
       "    </tr>\n",
       "    <tr>\n",
       "      <th>37240</th>\n",
       "      <td>12500</td>\n",
       "      <td>2010</td>\n",
       "      <td>ford fusion</td>\n",
       "      <td>5</td>\n",
       "      <td>4</td>\n",
       "      <td>gas</td>\n",
       "      <td>2115</td>\n",
       "      <td>automatic</td>\n",
       "      <td>sedan</td>\n",
       "      <td>unpublished</td>\n",
       "      <td>...</td>\n",
       "      <td>2010</td>\n",
       "      <td>C 9000-16900</td>\n",
       "      <td>A 0-19</td>\n",
       "      <td>6</td>\n",
       "      <td>10</td>\n",
       "      <td>2018</td>\n",
       "      <td>9</td>\n",
       "      <td>C 8-12</td>\n",
       "      <td>235.000000</td>\n",
       "      <td>A 0-7,830</td>\n",
       "    </tr>\n",
       "    <tr>\n",
       "      <th>38607</th>\n",
       "      <td>30000</td>\n",
       "      <td>2017</td>\n",
       "      <td>gmc sierra 1500</td>\n",
       "      <td>5</td>\n",
       "      <td>8</td>\n",
       "      <td>gas</td>\n",
       "      <td>653</td>\n",
       "      <td>automatic</td>\n",
       "      <td>truck</td>\n",
       "      <td>white</td>\n",
       "      <td>...</td>\n",
       "      <td>2009</td>\n",
       "      <td>D 16900+</td>\n",
       "      <td>C 34-53</td>\n",
       "      <td>0</td>\n",
       "      <td>6</td>\n",
       "      <td>2018</td>\n",
       "      <td>2</td>\n",
       "      <td>A 0-4</td>\n",
       "      <td>326.500000</td>\n",
       "      <td>A 0-7,830</td>\n",
       "    </tr>\n",
       "    <tr>\n",
       "      <th>39630</th>\n",
       "      <td>8399</td>\n",
       "      <td>2014</td>\n",
       "      <td>nissan altima</td>\n",
       "      <td>5</td>\n",
       "      <td>4</td>\n",
       "      <td>gas</td>\n",
       "      <td>78000</td>\n",
       "      <td>automatic</td>\n",
       "      <td>sedan</td>\n",
       "      <td>white</td>\n",
       "      <td>...</td>\n",
       "      <td>2010</td>\n",
       "      <td>B 5000-9000</td>\n",
       "      <td>D 54+</td>\n",
       "      <td>0</td>\n",
       "      <td>3</td>\n",
       "      <td>2019</td>\n",
       "      <td>6</td>\n",
       "      <td>B 5-7</td>\n",
       "      <td>13000.000000</td>\n",
       "      <td>B 7,831-13,760</td>\n",
       "    </tr>\n",
       "    <tr>\n",
       "      <th>41021</th>\n",
       "      <td>21999</td>\n",
       "      <td>2017</td>\n",
       "      <td>jeep grand cherokee</td>\n",
       "      <td>5</td>\n",
       "      <td>6</td>\n",
       "      <td>gas</td>\n",
       "      <td>46574</td>\n",
       "      <td>automatic</td>\n",
       "      <td>suv</td>\n",
       "      <td>white</td>\n",
       "      <td>...</td>\n",
       "      <td>2009</td>\n",
       "      <td>D 16900+</td>\n",
       "      <td>A 0-19</td>\n",
       "      <td>3</td>\n",
       "      <td>1</td>\n",
       "      <td>2019</td>\n",
       "      <td>3</td>\n",
       "      <td>A 0-4</td>\n",
       "      <td>15524.666667</td>\n",
       "      <td>C 13,761-20,870</td>\n",
       "    </tr>\n",
       "    <tr>\n",
       "      <th>41772</th>\n",
       "      <td>16499</td>\n",
       "      <td>2015</td>\n",
       "      <td>honda odyssey</td>\n",
       "      <td>5</td>\n",
       "      <td>6</td>\n",
       "      <td>gas</td>\n",
       "      <td>52975</td>\n",
       "      <td>automatic</td>\n",
       "      <td>mini-van</td>\n",
       "      <td>white</td>\n",
       "      <td>...</td>\n",
       "      <td>2009</td>\n",
       "      <td>C 9000-16900</td>\n",
       "      <td>C 34-53</td>\n",
       "      <td>2</td>\n",
       "      <td>3</td>\n",
       "      <td>2019</td>\n",
       "      <td>5</td>\n",
       "      <td>B 5-7</td>\n",
       "      <td>10595.000000</td>\n",
       "      <td>B 7,831-13,760</td>\n",
       "    </tr>\n",
       "    <tr>\n",
       "      <th>44086</th>\n",
       "      <td>9800</td>\n",
       "      <td>2014</td>\n",
       "      <td>chevrolet silverado 1500</td>\n",
       "      <td>5</td>\n",
       "      <td>6</td>\n",
       "      <td>gas</td>\n",
       "      <td>215000</td>\n",
       "      <td>automatic</td>\n",
       "      <td>van</td>\n",
       "      <td>white</td>\n",
       "      <td>...</td>\n",
       "      <td>2009</td>\n",
       "      <td>C 9000-16900</td>\n",
       "      <td>A 0-19</td>\n",
       "      <td>4</td>\n",
       "      <td>1</td>\n",
       "      <td>2019</td>\n",
       "      <td>6</td>\n",
       "      <td>B 5-7</td>\n",
       "      <td>35833.333333</td>\n",
       "      <td>D 20,871+</td>\n",
       "    </tr>\n",
       "    <tr>\n",
       "      <th>45184</th>\n",
       "      <td>3200</td>\n",
       "      <td>2006</td>\n",
       "      <td>chevrolet trailblazer</td>\n",
       "      <td>5</td>\n",
       "      <td>8</td>\n",
       "      <td>gas</td>\n",
       "      <td>158380</td>\n",
       "      <td>automatic</td>\n",
       "      <td>suv</td>\n",
       "      <td>black</td>\n",
       "      <td>...</td>\n",
       "      <td>2009</td>\n",
       "      <td>A 1-5000</td>\n",
       "      <td>C 34-53</td>\n",
       "      <td>2</td>\n",
       "      <td>3</td>\n",
       "      <td>2019</td>\n",
       "      <td>14</td>\n",
       "      <td>D 13+</td>\n",
       "      <td>11312.857143</td>\n",
       "      <td>B 7,831-13,760</td>\n",
       "    </tr>\n",
       "    <tr>\n",
       "      <th>45353</th>\n",
       "      <td>65000</td>\n",
       "      <td>2013</td>\n",
       "      <td>chevrolet corvette</td>\n",
       "      <td>5</td>\n",
       "      <td>8</td>\n",
       "      <td>gas</td>\n",
       "      <td>1756</td>\n",
       "      <td>manual</td>\n",
       "      <td>convertible</td>\n",
       "      <td>white</td>\n",
       "      <td>...</td>\n",
       "      <td>2002</td>\n",
       "      <td>D 16900+</td>\n",
       "      <td>D 54+</td>\n",
       "      <td>4</td>\n",
       "      <td>1</td>\n",
       "      <td>2019</td>\n",
       "      <td>7</td>\n",
       "      <td>B 5-7</td>\n",
       "      <td>250.857143</td>\n",
       "      <td>A 0-7,830</td>\n",
       "    </tr>\n",
       "    <tr>\n",
       "      <th>46390</th>\n",
       "      <td>7100</td>\n",
       "      <td>2012</td>\n",
       "      <td>honda accord</td>\n",
       "      <td>5</td>\n",
       "      <td>4</td>\n",
       "      <td>gas</td>\n",
       "      <td>4575</td>\n",
       "      <td>automatic</td>\n",
       "      <td>sedan</td>\n",
       "      <td>grey</td>\n",
       "      <td>...</td>\n",
       "      <td>2010</td>\n",
       "      <td>B 5000-9000</td>\n",
       "      <td>A 0-19</td>\n",
       "      <td>5</td>\n",
       "      <td>3</td>\n",
       "      <td>2019</td>\n",
       "      <td>8</td>\n",
       "      <td>C 8-12</td>\n",
       "      <td>571.875000</td>\n",
       "      <td>A 0-7,830</td>\n",
       "    </tr>\n",
       "    <tr>\n",
       "      <th>46412</th>\n",
       "      <td>22300</td>\n",
       "      <td>2003</td>\n",
       "      <td>chevrolet corvette</td>\n",
       "      <td>5</td>\n",
       "      <td>8</td>\n",
       "      <td>gas</td>\n",
       "      <td>9803</td>\n",
       "      <td>manual</td>\n",
       "      <td>convertible</td>\n",
       "      <td>black</td>\n",
       "      <td>...</td>\n",
       "      <td>2002</td>\n",
       "      <td>D 16900+</td>\n",
       "      <td>B 20-33</td>\n",
       "      <td>3</td>\n",
       "      <td>11</td>\n",
       "      <td>2018</td>\n",
       "      <td>16</td>\n",
       "      <td>D 13+</td>\n",
       "      <td>612.687500</td>\n",
       "      <td>A 0-7,830</td>\n",
       "    </tr>\n",
       "    <tr>\n",
       "      <th>46653</th>\n",
       "      <td>6995</td>\n",
       "      <td>2010</td>\n",
       "      <td>jeep grand cherokee laredo</td>\n",
       "      <td>5</td>\n",
       "      <td>6</td>\n",
       "      <td>gas</td>\n",
       "      <td>99371</td>\n",
       "      <td>automatic</td>\n",
       "      <td>suv</td>\n",
       "      <td>unpublished</td>\n",
       "      <td>...</td>\n",
       "      <td>2009</td>\n",
       "      <td>B 5000-9000</td>\n",
       "      <td>B 20-33</td>\n",
       "      <td>2</td>\n",
       "      <td>3</td>\n",
       "      <td>2019</td>\n",
       "      <td>10</td>\n",
       "      <td>C 8-12</td>\n",
       "      <td>9937.100000</td>\n",
       "      <td>B 7,831-13,760</td>\n",
       "    </tr>\n",
       "    <tr>\n",
       "      <th>47234</th>\n",
       "      <td>14600</td>\n",
       "      <td>2013</td>\n",
       "      <td>ford expedition</td>\n",
       "      <td>5</td>\n",
       "      <td>8</td>\n",
       "      <td>gas</td>\n",
       "      <td>3267</td>\n",
       "      <td>automatic</td>\n",
       "      <td>suv</td>\n",
       "      <td>black</td>\n",
       "      <td>...</td>\n",
       "      <td>2009</td>\n",
       "      <td>C 9000-16900</td>\n",
       "      <td>C 34-53</td>\n",
       "      <td>4</td>\n",
       "      <td>5</td>\n",
       "      <td>2018</td>\n",
       "      <td>6</td>\n",
       "      <td>B 5-7</td>\n",
       "      <td>544.500000</td>\n",
       "      <td>A 0-7,830</td>\n",
       "    </tr>\n",
       "    <tr>\n",
       "      <th>47247</th>\n",
       "      <td>3800</td>\n",
       "      <td>1984</td>\n",
       "      <td>honda accord</td>\n",
       "      <td>5</td>\n",
       "      <td>4</td>\n",
       "      <td>gas</td>\n",
       "      <td>121000</td>\n",
       "      <td>manual</td>\n",
       "      <td>sedan</td>\n",
       "      <td>blue</td>\n",
       "      <td>...</td>\n",
       "      <td>2010</td>\n",
       "      <td>A 1-5000</td>\n",
       "      <td>D 54+</td>\n",
       "      <td>5</td>\n",
       "      <td>1</td>\n",
       "      <td>2019</td>\n",
       "      <td>36</td>\n",
       "      <td>D 13+</td>\n",
       "      <td>3361.111111</td>\n",
       "      <td>A 0-7,830</td>\n",
       "    </tr>\n",
       "    <tr>\n",
       "      <th>47390</th>\n",
       "      <td>13900</td>\n",
       "      <td>2009</td>\n",
       "      <td>jeep wrangler</td>\n",
       "      <td>5</td>\n",
       "      <td>5</td>\n",
       "      <td>gas</td>\n",
       "      <td>149000</td>\n",
       "      <td>automatic</td>\n",
       "      <td>suv</td>\n",
       "      <td>silver</td>\n",
       "      <td>...</td>\n",
       "      <td>2009</td>\n",
       "      <td>C 9000-16900</td>\n",
       "      <td>C 34-53</td>\n",
       "      <td>2</td>\n",
       "      <td>4</td>\n",
       "      <td>2019</td>\n",
       "      <td>11</td>\n",
       "      <td>C 8-12</td>\n",
       "      <td>13545.454545</td>\n",
       "      <td>B 7,831-13,760</td>\n",
       "    </tr>\n",
       "    <tr>\n",
       "      <th>48933</th>\n",
       "      <td>6800</td>\n",
       "      <td>2016</td>\n",
       "      <td>hyundai elantra</td>\n",
       "      <td>5</td>\n",
       "      <td>4</td>\n",
       "      <td>gas</td>\n",
       "      <td>69000</td>\n",
       "      <td>automatic</td>\n",
       "      <td>sedan</td>\n",
       "      <td>unpublished</td>\n",
       "      <td>...</td>\n",
       "      <td>2010</td>\n",
       "      <td>B 5000-9000</td>\n",
       "      <td>A 0-19</td>\n",
       "      <td>2</td>\n",
       "      <td>12</td>\n",
       "      <td>2018</td>\n",
       "      <td>3</td>\n",
       "      <td>A 0-4</td>\n",
       "      <td>23000.000000</td>\n",
       "      <td>D 20,871+</td>\n",
       "    </tr>\n",
       "    <tr>\n",
       "      <th>49288</th>\n",
       "      <td>8200</td>\n",
       "      <td>2008</td>\n",
       "      <td>toyota tacoma</td>\n",
       "      <td>5</td>\n",
       "      <td>6</td>\n",
       "      <td>gas</td>\n",
       "      <td>234000</td>\n",
       "      <td>automatic</td>\n",
       "      <td>truck</td>\n",
       "      <td>silver</td>\n",
       "      <td>...</td>\n",
       "      <td>2009</td>\n",
       "      <td>B 5000-9000</td>\n",
       "      <td>B 20-33</td>\n",
       "      <td>3</td>\n",
       "      <td>9</td>\n",
       "      <td>2018</td>\n",
       "      <td>11</td>\n",
       "      <td>C 8-12</td>\n",
       "      <td>21272.727273</td>\n",
       "      <td>D 20,871+</td>\n",
       "    </tr>\n",
       "  </tbody>\n",
       "</table>\n",
       "<p>60 rows × 24 columns</p>\n",
       "</div>"
      ],
      "text/plain": [
       "        price  model_year                       model  condition  cylinders  \\\n",
       "467     34000        2016            chevrolet camaro          5          8   \n",
       "1954     7000        2009    chevrolet silverado 1500          5          8   \n",
       "2149     8300        2013                toyota camry          5          4   \n",
       "2767    76000        2016          chevrolet corvette          5          8   \n",
       "4535     4500        2012                  ford focus          5          4   \n",
       "6733     4700        2008                honda accord          5          4   \n",
       "9280     6200        2008                honda accord          5          4   \n",
       "9457     7500        2007           toyota highlander          5          6   \n",
       "9478    12300        2008                  ford f-150          5          8   \n",
       "10268    4500        2007         jeep grand cherokee          5          6   \n",
       "10324    9800        2012              toyota corolla          5          4   \n",
       "10347    9600        2010             chevrolet cruze          5          4   \n",
       "10472    3995        2010             toyota camry le          5          4   \n",
       "10688    2400        2005         jeep grand cherokee          5          6   \n",
       "10786    3995        2002             toyota camry le          5          4   \n",
       "13172    4950        2011               ford focus se          5          4   \n",
       "13389   12995        2016               nissan altima          5          4   \n",
       "13482    6300        2014                  ford focus          5          4   \n",
       "13743    4950        2008                honda accord          5          4   \n",
       "16791    8300        2017               nissan altima          5          4   \n",
       "19780    1500        2016              ford fusion se          5          4   \n",
       "20080    3995        2002             toyota camry le          5          4   \n",
       "20162    7000        2010            volkswagen jetta          5          4   \n",
       "20396   28000        2016                    ram 1500          5          8   \n",
       "20491  109999        2007          chevrolet corvette          5          8   \n",
       "21538   23000        2009                 ford escape          5          4   \n",
       "21614    8995        2011                toyota prius          5          4   \n",
       "21675    8700        2017              ford fusion se          5          4   \n",
       "22213    2900        2005                 honda civic          5          4   \n",
       "22228    2500        2000           volkswagen passat          5          4   \n",
       "22788   11000        2017               ford focus se          5          3   \n",
       "24580   16950        2017           volkswagen passat          5          4   \n",
       "24581   14950        2010             hyundai elantra          5          4   \n",
       "24996   15300        1999                    ram 2500          5          6   \n",
       "26627   14995        2002          chevrolet corvette          5          8   \n",
       "28112   55000        2016                    ram 2500          5          6   \n",
       "28271    4500        2004                  ford f-150          5          6   \n",
       "28458    7900        2010                 toyota rav4          5          4   \n",
       "32118    6500        2010              subaru outback          5          4   \n",
       "32204    4500        2005         jeep grand cherokee          5          6   \n",
       "32205    4999        2011                chrysler 200          5          4   \n",
       "32813   11000        2016              toyota corolla          5          4   \n",
       "33357    9200        2017              ford fusion se          5          4   \n",
       "36329   26000        2010              toyota corolla          5          4   \n",
       "37240   12500        2010                 ford fusion          5          4   \n",
       "38607   30000        2017             gmc sierra 1500          5          8   \n",
       "39630    8399        2014               nissan altima          5          4   \n",
       "41021   21999        2017         jeep grand cherokee          5          6   \n",
       "41772   16499        2015               honda odyssey          5          6   \n",
       "44086    9800        2014    chevrolet silverado 1500          5          6   \n",
       "45184    3200        2006       chevrolet trailblazer          5          8   \n",
       "45353   65000        2013          chevrolet corvette          5          8   \n",
       "46390    7100        2012                honda accord          5          4   \n",
       "46412   22300        2003          chevrolet corvette          5          8   \n",
       "46653    6995        2010  jeep grand cherokee laredo          5          6   \n",
       "47234   14600        2013             ford expedition          5          8   \n",
       "47247    3800        1984                honda accord          5          4   \n",
       "47390   13900        2009               jeep wrangler          5          5   \n",
       "48933    6800        2016             hyundai elantra          5          4   \n",
       "49288    8200        2008               toyota tacoma          5          6   \n",
       "\n",
       "         fuel  odometer transmission         type  paint_color  ...  \\\n",
       "467       gas      3396    automatic        coupe          red  ...   \n",
       "1954      gas    194700    automatic        truck        white  ...   \n",
       "2149      gas    140000    automatic        sedan         grey  ...   \n",
       "2767      gas      1700    automatic  convertible        white  ...   \n",
       "4535      gas      4575    automatic    hatchback        white  ...   \n",
       "6733      gas    147000    automatic        sedan         grey  ...   \n",
       "9280      gas    167000    automatic        sedan         grey  ...   \n",
       "9457      gas    172000    automatic          suv       silver  ...   \n",
       "9478      gas    178000    automatic        truck        white  ...   \n",
       "10268     gas    217000    automatic          suv        white  ...   \n",
       "10324     gas     80147    automatic        sedan        black  ...   \n",
       "10347     gas     19000    automatic        sedan        white  ...   \n",
       "10472     gas    179000    automatic        sedan       custom  ...   \n",
       "10688     gas      9150    automatic  convertible        white  ...   \n",
       "10786     gas    179000    automatic        sedan       custom  ...   \n",
       "13172     gas     58000    automatic        sedan        white  ...   \n",
       "13389     gas     75356    automatic        sedan          red  ...   \n",
       "13482     gas     75000    automatic        sedan        black  ...   \n",
       "13743     gas        98    automatic        sedan          red  ...   \n",
       "16791     gas     50000    automatic        sedan        black  ...   \n",
       "19780     gas     44550    automatic        sedan  unpublished  ...   \n",
       "20080     gas     10457    automatic        sedan       custom  ...   \n",
       "20162  diesel    171000    automatic        sedan        white  ...   \n",
       "20396     gas     31000    automatic        truck         blue  ...   \n",
       "20491     gas        35    automatic        coupe        white  ...   \n",
       "21538     gas     12000    automatic          suv  unpublished  ...   \n",
       "21614  hybrid      4575    automatic        sedan  unpublished  ...   \n",
       "21675     gas     70000    automatic        sedan  unpublished  ...   \n",
       "22213     gas    160650    automatic        sedan         grey  ...   \n",
       "22228     gas    190000       manual        sedan       silver  ...   \n",
       "22788     gas     50600       manual        sedan  unpublished  ...   \n",
       "24580     gas     19300    automatic        sedan        white  ...   \n",
       "24581     gas     30094    automatic        sedan  unpublished  ...   \n",
       "24996  diesel    315000    automatic        truck        white  ...   \n",
       "26627     gas     69500    automatic        coupe        white  ...   \n",
       "28112  diesel     13000       manual        truck       custom  ...   \n",
       "28271     gas    120000    automatic        truck  unpublished  ...   \n",
       "28458     gas    117000    automatic    hatchback        black  ...   \n",
       "32118     gas    144000    automatic          suv        green  ...   \n",
       "32204     gas    149000    automatic          suv         blue  ...   \n",
       "32205     gas    116000    automatic        sedan         blue  ...   \n",
       "32813     gas        50    automatic        sedan  unpublished  ...   \n",
       "33357     gas        70    automatic        sedan         grey  ...   \n",
       "36329     gas      6000    automatic        sedan        white  ...   \n",
       "37240     gas      2115    automatic        sedan  unpublished  ...   \n",
       "38607     gas       653    automatic        truck        white  ...   \n",
       "39630     gas     78000    automatic        sedan        white  ...   \n",
       "41021     gas     46574    automatic          suv        white  ...   \n",
       "41772     gas     52975    automatic     mini-van        white  ...   \n",
       "44086     gas    215000    automatic          van        white  ...   \n",
       "45184     gas    158380    automatic          suv        black  ...   \n",
       "45353     gas      1756       manual  convertible        white  ...   \n",
       "46390     gas      4575    automatic        sedan         grey  ...   \n",
       "46412     gas      9803       manual  convertible        black  ...   \n",
       "46653     gas     99371    automatic          suv  unpublished  ...   \n",
       "47234     gas      3267    automatic          suv        black  ...   \n",
       "47247     gas    121000       manual        sedan         blue  ...   \n",
       "47390     gas    149000    automatic          suv       silver  ...   \n",
       "48933     gas     69000    automatic        sedan  unpublished  ...   \n",
       "49288     gas    234000    automatic        truck       silver  ...   \n",
       "\n",
       "       model_year_mean   price_group  day_listed_group  Day_of_the_week  \\\n",
       "467               2007      D 16900+            A 0-19                0   \n",
       "1954              2009   B 5000-9000            A 0-19                6   \n",
       "2149              2010   B 5000-9000             D 54+                2   \n",
       "2767              2002      D 16900+             D 54+                6   \n",
       "4535              2010      A 1-5000           C 34-53                5   \n",
       "6733              2010      A 1-5000           C 34-53                4   \n",
       "9280              2010   B 5000-9000             D 54+                2   \n",
       "9457              2009   B 5000-9000           B 20-33                4   \n",
       "9478              2009  C 9000-16900           B 20-33                1   \n",
       "10268             2009      A 1-5000           C 34-53                6   \n",
       "10324             2010  C 9000-16900           C 34-53                5   \n",
       "10347             2010  C 9000-16900           B 20-33                0   \n",
       "10472             2010      A 1-5000             D 54+                6   \n",
       "10688             2002      A 1-5000             D 54+                5   \n",
       "10786             2010      A 1-5000           B 20-33                2   \n",
       "13172             2010      A 1-5000           B 20-33                4   \n",
       "13389             2010  C 9000-16900            A 0-19                2   \n",
       "13482             2010   B 5000-9000            A 0-19                3   \n",
       "13743             2010      A 1-5000            A 0-19                0   \n",
       "16791             2010   B 5000-9000           C 34-53                3   \n",
       "19780             2010      A 1-5000           C 34-53                0   \n",
       "20080             2010      A 1-5000           B 20-33                6   \n",
       "20162             2010   B 5000-9000             D 54+                3   \n",
       "20396             2009      D 16900+           B 20-33                0   \n",
       "20491             2007      D 16900+             D 54+                4   \n",
       "21538             2009      D 16900+           B 20-33                2   \n",
       "21614             2010   B 5000-9000           B 20-33                5   \n",
       "21675             2010   B 5000-9000           C 34-53                4   \n",
       "22213             2010      A 1-5000             D 54+                0   \n",
       "22228             2010      A 1-5000           C 34-53                3   \n",
       "22788             2010  C 9000-16900           C 34-53                6   \n",
       "24580             2010      D 16900+            A 0-19                5   \n",
       "24581             2010  C 9000-16900             D 54+                1   \n",
       "24996             2009  C 9000-16900           C 34-53                3   \n",
       "26627             2007  C 9000-16900            A 0-19                4   \n",
       "28112             2009      D 16900+           C 34-53                1   \n",
       "28271             2009      A 1-5000             D 54+                2   \n",
       "28458             2010   B 5000-9000            A 0-19                2   \n",
       "32118             2009   B 5000-9000            A 0-19                6   \n",
       "32204             2009      A 1-5000           C 34-53                5   \n",
       "32205             2010      A 1-5000             D 54+                6   \n",
       "32813             2010  C 9000-16900             D 54+                0   \n",
       "33357             2010  C 9000-16900           B 20-33                4   \n",
       "36329             2010      D 16900+            A 0-19                5   \n",
       "37240             2010  C 9000-16900            A 0-19                6   \n",
       "38607             2009      D 16900+           C 34-53                0   \n",
       "39630             2010   B 5000-9000             D 54+                0   \n",
       "41021             2009      D 16900+            A 0-19                3   \n",
       "41772             2009  C 9000-16900           C 34-53                2   \n",
       "44086             2009  C 9000-16900            A 0-19                4   \n",
       "45184             2009      A 1-5000           C 34-53                2   \n",
       "45353             2002      D 16900+             D 54+                4   \n",
       "46390             2010   B 5000-9000            A 0-19                5   \n",
       "46412             2002      D 16900+           B 20-33                3   \n",
       "46653             2009   B 5000-9000           B 20-33                2   \n",
       "47234             2009  C 9000-16900           C 34-53                4   \n",
       "47247             2010      A 1-5000             D 54+                5   \n",
       "47390             2009  C 9000-16900           C 34-53                2   \n",
       "48933             2010   B 5000-9000            A 0-19                2   \n",
       "49288             2009   B 5000-9000           B 20-33                3   \n",
       "\n",
       "       month  year age  age_group  mileage_per_year  mileage_per_year_group  \n",
       "467       12  2018   3      A 0-4       1132.000000               A 0-7,830  \n",
       "1954      11  2018  10     C 8-12      19470.000000         C 13,761-20,870  \n",
       "2149       4  2019   7      B 5-7      20000.000000         C 13,761-20,870  \n",
       "2767       7  2018   3      A 0-4        566.666667               A 0-7,830  \n",
       "4535       3  2019   8     C 8-12        571.875000               A 0-7,830  \n",
       "6733       3  2019  12     C 8-12      12250.000000          B 7,831-13,760  \n",
       "9280       1  2019  12     C 8-12      13916.666667         C 13,761-20,870  \n",
       "9457      11  2018  12     C 8-12      14333.333333         C 13,761-20,870  \n",
       "9478       8  2018  11     C 8-12      16181.818182         C 13,761-20,870  \n",
       "10268      2  2019  13      D 13+      16692.307692         C 13,761-20,870  \n",
       "10324      1  2019   8     C 8-12      10018.375000          B 7,831-13,760  \n",
       "10347      7  2018   9     C 8-12       2111.111111               A 0-7,830  \n",
       "10472     10  2018   9     C 8-12      19888.888889         C 13,761-20,870  \n",
       "10688      1  2019  15      D 13+        610.000000               A 0-7,830  \n",
       "10786     12  2018  17      D 13+      10529.411765          B 7,831-13,760  \n",
       "13172      6  2018   8     C 8-12       7250.000000               A 0-7,830  \n",
       "13389      5  2018   3      A 0-4      25118.666667               D 20,871+  \n",
       "13482      6  2018   5      B 5-7      15000.000000         C 13,761-20,870  \n",
       "13743      1  2019  12     C 8-12          8.166667               A 0-7,830  \n",
       "16791      1  2019   3      A 0-4      16666.666667         C 13,761-20,870  \n",
       "19780      6  2018   3      A 0-4      14850.000000         C 13,761-20,870  \n",
       "20080     11  2018  17      D 13+        615.117647               A 0-7,830  \n",
       "20162      3  2019  10     C 8-12      17100.000000         C 13,761-20,870  \n",
       "20396      9  2018   3      A 0-4      10333.333333          B 7,831-13,760  \n",
       "20491      9  2018  12     C 8-12          2.916667               A 0-7,830  \n",
       "21538      2  2019  11     C 8-12       1090.909091               A 0-7,830  \n",
       "21614     10  2018   8     C 8-12        571.875000               A 0-7,830  \n",
       "21675     10  2018   2      A 0-4      35000.000000               D 20,871+  \n",
       "22213      8  2018  14      D 13+      11475.000000          B 7,831-13,760  \n",
       "22228      2  2019  20      D 13+       9500.000000          B 7,831-13,760  \n",
       "22788      9  2018   2      A 0-4      25300.000000               D 20,871+  \n",
       "24580     11  2018   2      A 0-4       9650.000000          B 7,831-13,760  \n",
       "24581     11  2018   9     C 8-12       3343.777778               A 0-7,830  \n",
       "24996      3  2019  21      D 13+      15000.000000         C 13,761-20,870  \n",
       "26627      5  2018  17      D 13+       4088.235294               A 0-7,830  \n",
       "28112      2  2019   4      A 0-4       3250.000000               A 0-7,830  \n",
       "28271      9  2018  15      D 13+       8000.000000          B 7,831-13,760  \n",
       "28458     12  2018   9     C 8-12      13000.000000          B 7,831-13,760  \n",
       "32118     11  2018   9     C 8-12      16000.000000         C 13,761-20,870  \n",
       "32204      3  2019  15      D 13+       9933.333333          B 7,831-13,760  \n",
       "32205      4  2019   9     C 8-12      12888.888889          B 7,831-13,760  \n",
       "32813      9  2018   3      A 0-4         16.666667               A 0-7,830  \n",
       "33357      3  2019   3      A 0-4         23.333333               A 0-7,830  \n",
       "36329      7  2018   9     C 8-12        666.666667               A 0-7,830  \n",
       "37240     10  2018   9     C 8-12        235.000000               A 0-7,830  \n",
       "38607      6  2018   2      A 0-4        326.500000               A 0-7,830  \n",
       "39630      3  2019   6      B 5-7      13000.000000          B 7,831-13,760  \n",
       "41021      1  2019   3      A 0-4      15524.666667         C 13,761-20,870  \n",
       "41772      3  2019   5      B 5-7      10595.000000          B 7,831-13,760  \n",
       "44086      1  2019   6      B 5-7      35833.333333               D 20,871+  \n",
       "45184      3  2019  14      D 13+      11312.857143          B 7,831-13,760  \n",
       "45353      1  2019   7      B 5-7        250.857143               A 0-7,830  \n",
       "46390      3  2019   8     C 8-12        571.875000               A 0-7,830  \n",
       "46412     11  2018  16      D 13+        612.687500               A 0-7,830  \n",
       "46653      3  2019  10     C 8-12       9937.100000          B 7,831-13,760  \n",
       "47234      5  2018   6      B 5-7        544.500000               A 0-7,830  \n",
       "47247      1  2019  36      D 13+       3361.111111               A 0-7,830  \n",
       "47390      4  2019  11     C 8-12      13545.454545          B 7,831-13,760  \n",
       "48933     12  2018   3      A 0-4      23000.000000               D 20,871+  \n",
       "49288      9  2018  11     C 8-12      21272.727273               D 20,871+  \n",
       "\n",
       "[60 rows x 24 columns]"
      ]
     },
     "execution_count": 65,
     "metadata": {},
     "output_type": "execute_result"
    }
   ],
   "source": [
    "#checking if condition = 5 only for cars from model_year >= 2018\n",
    "#I'll move these cars to other table and delete\n",
    "df.query(\"model_year<2018 and condition==5\")"
   ]
  },
  {
   "cell_type": "code",
   "execution_count": 66,
   "metadata": {},
   "outputs": [],
   "source": [
    "not_new_cars=df.query(\"model_year<2018 and condition==5\")\n",
    "df=df.loc[(df[\"model_year\"]>=2018) | (df[\"condition\"]!=5)]"
   ]
  },
  {
   "cell_type": "markdown",
   "metadata": {},
   "source": [
    "<div class=\"alert alert-success\" style=\"box-shadow: 4px 4px 4px\">\n",
    "Success: a great way to deal with outliers! It seems really logical and correct! Also, great that <code>.query()</code> was used!\n",
    "</div>"
   ]
  },
  {
   "cell_type": "markdown",
   "metadata": {},
   "source": [
    "## Looking at odometer"
   ]
  },
  {
   "cell_type": "code",
   "execution_count": 67,
   "metadata": {},
   "outputs": [
    {
     "data": {
      "image/png": "[encoded data removed]",
      "text/plain": [
       "<Figure size 576x360 with 1 Axes>"
      ]
     },
     "metadata": {
      "needs_background": "light"
     },
     "output_type": "display_data"
    }
   ],
   "source": [
    "#odometer big picture\n",
    "df[\"odometer\"].plot(kind=\"hist\", bins=50,figsize=(8,5),title=\"odometer\");"
   ]
  },
  {
   "cell_type": "code",
   "execution_count": 68,
   "metadata": {},
   "outputs": [
    {
     "data": {
      "text/plain": [
       "653.5938070458762"
      ]
     },
     "execution_count": 68,
     "metadata": {},
     "output_type": "execute_result"
    }
   ],
   "source": [
    "#I will check the mean odometer reading per year to find explanation to the spike near zero\n",
    "mean_odometer"
   ]
  },
  {
   "cell_type": "code",
   "execution_count": 69,
   "metadata": {},
   "outputs": [
    {
     "data": {
      "image/png": "[encoded data removed]",
      "text/plain": [
       "<Figure size 576x360 with 1 Axes>"
      ]
     },
     "metadata": {
      "needs_background": "light"
     },
     "output_type": "display_data"
    }
   ],
   "source": [
    "#a lot of cars with mean mileage_per_year near 653.5\n",
    "df[\"mileage_per_year\"].plot(kind=\"hist\", bins=50,figsize=(8,5),title=\"mileage_per_year\",range=(652.75,654));"
   ]
  },
  {
   "cell_type": "code",
   "execution_count": null,
   "metadata": {},
   "outputs": [],
   "source": []
  },
  {
   "cell_type": "code",
   "execution_count": 70,
   "metadata": {},
   "outputs": [
    {
     "data": {
      "text/html": [
       "<div>\n",
       "<style scoped>\n",
       "    .dataframe tbody tr th:only-of-type {\n",
       "        vertical-align: middle;\n",
       "    }\n",
       "\n",
       "    .dataframe tbody tr th {\n",
       "        vertical-align: top;\n",
       "    }\n",
       "\n",
       "    .dataframe thead th {\n",
       "        text-align: right;\n",
       "    }\n",
       "</style>\n",
       "<table border=\"1\" class=\"dataframe\">\n",
       "  <thead>\n",
       "    <tr style=\"text-align: right;\">\n",
       "      <th></th>\n",
       "      <th>price</th>\n",
       "      <th>model_year</th>\n",
       "      <th>model</th>\n",
       "      <th>condition</th>\n",
       "      <th>cylinders</th>\n",
       "      <th>fuel</th>\n",
       "      <th>odometer</th>\n",
       "      <th>transmission</th>\n",
       "      <th>type</th>\n",
       "      <th>paint_color</th>\n",
       "      <th>...</th>\n",
       "      <th>model_year_mean</th>\n",
       "      <th>price_group</th>\n",
       "      <th>day_listed_group</th>\n",
       "      <th>Day_of_the_week</th>\n",
       "      <th>month</th>\n",
       "      <th>year</th>\n",
       "      <th>age</th>\n",
       "      <th>age_group</th>\n",
       "      <th>mileage_per_year</th>\n",
       "      <th>mileage_per_year_group</th>\n",
       "    </tr>\n",
       "  </thead>\n",
       "  <tbody>\n",
       "  </tbody>\n",
       "</table>\n",
       "<p>0 rows × 24 columns</p>\n",
       "</div>"
      ],
      "text/plain": [
       "Empty DataFrame\n",
       "Columns: [price, model_year, model, condition, cylinders, fuel, odometer, transmission, type, paint_color, is_4wd, date_posted, days_listed, mean_cylinders, model_year_mean, price_group, day_listed_group, Day_of_the_week, month, year, age, age_group, mileage_per_year, mileage_per_year_group]\n",
       "Index: []\n",
       "\n",
       "[0 rows x 24 columns]"
      ]
     },
     "execution_count": 70,
     "metadata": {},
     "output_type": "execute_result"
    }
   ],
   "source": [
    "#what is the explenation?\n",
    "features = [\"model_year\",\"model\",\"days_listed\",\"odometer\",\"condition\"]\n",
    "df.query(\"653 <= mileage_per_year < 654\")"
   ]
  },
  {
   "cell_type": "code",
   "execution_count": 71,
   "metadata": {},
   "outputs": [],
   "source": [
    "#cannot find anything common to the finding. It is VERY unlikely that so many cars have the same LOW mileage_per_year\n",
    "#I have to move all 7027 cars to other dataset and delete\n",
    "too_low_odometer=df.query(\"653 <= mileage_per_year < 654\")\n",
    "df=df.loc[(df[\"mileage_per_year\"] < 653) | (df[\"mileage_per_year\"] >= 654)]"
   ]
  },
  {
   "cell_type": "code",
   "execution_count": 72,
   "metadata": {},
   "outputs": [
    {
     "data": {
      "image/png": "[encoded data removed]",
      "text/plain": [
       "<Figure size 576x360 with 1 Axes>"
      ]
     },
     "metadata": {
      "needs_background": "light"
     },
     "output_type": "display_data"
    }
   ],
   "source": [
    "#Checking the hist again\n",
    "df[\"odometer\"].plot(kind=\"hist\", bins=50,figsize=(8,5),title=\"odometer\");"
   ]
  },
  {
   "cell_type": "code",
   "execution_count": 73,
   "metadata": {},
   "outputs": [],
   "source": [
    "#Now the distribution looks better"
   ]
  },
  {
   "cell_type": "markdown",
   "metadata": {},
   "source": [
    "<div class=\"alert alert-success\" style=\"box-shadow: 4px 4px 4px\">\n",
    "Success: I couldn't agree more!\n",
    "</div>"
   ]
  },
  {
   "cell_type": "code",
   "execution_count": null,
   "metadata": {},
   "outputs": [],
   "source": []
  },
  {
   "cell_type": "code",
   "execution_count": 74,
   "metadata": {},
   "outputs": [
    {
     "data": {
      "text/plain": [
       "1095"
      ]
     },
     "execution_count": 74,
     "metadata": {},
     "output_type": "execute_result"
    }
   ],
   "source": [
    "#Clearly a lot of small odometer reading\n",
    "#how many are less than 1000 and the car is not new or \"as new\"?\n",
    "df.query(\"odometer<1000 and condition <4\").value_counts().sum()"
   ]
  },
  {
   "cell_type": "code",
   "execution_count": 75,
   "metadata": {},
   "outputs": [],
   "source": [
    "#I'll move these cars to other table and delete\n",
    "too_low_odometer_not_new=df.query(\"odometer<1000 and condition<4\")\n",
    "df=df.loc[(df[\"odometer\"]>=1000) | (df[\"condition\"]==4)| (df[\"condition\"]==5)]"
   ]
  },
  {
   "cell_type": "code",
   "execution_count": 76,
   "metadata": {},
   "outputs": [
    {
     "data": {
      "image/png": "[encoded data removed]",
      "text/plain": [
       "<Figure size 576x360 with 1 Axes>"
      ]
     },
     "metadata": {
      "needs_background": "light"
     },
     "output_type": "display_data"
    }
   ],
   "source": [
    "#after the change\n",
    "df[\"odometer\"].plot(kind=\"hist\", bins=50,figsize=(8,5),title=\"odometer\",xlim=(0,600000));"
   ]
  },
  {
   "cell_type": "markdown",
   "metadata": {},
   "source": [
    "## Checking days_listed"
   ]
  },
  {
   "cell_type": "code",
   "execution_count": 77,
   "metadata": {},
   "outputs": [
    {
     "data": {
      "image/png": "[encoded data removed]",
      "text/plain": [
       "<Figure size 576x360 with 1 Axes>"
      ]
     },
     "metadata": {
      "needs_background": "light"
     },
     "output_type": "display_data"
    }
   ],
   "source": [
    "#days_listed big picture\n",
    "df[\"days_listed\"].plot(kind=\"hist\", bins=20,figsize=(8,5),title=\"days_listed\");"
   ]
  },
  {
   "cell_type": "code",
   "execution_count": 78,
   "metadata": {},
   "outputs": [
    {
     "name": "stdout",
     "output_type": "stream",
     "text": [
      "The mean of days_listed is: 39.53 and the median is: 33.00\n"
     ]
    }
   ],
   "source": [
    "#Calculate the mean and median before changing the data\n",
    "dl_mean=df[\"days_listed\"].mean()\n",
    "dl_median=df[\"days_listed\"].median()\n",
    "print(f\"The mean of days_listed is: {dl_mean:.2f} and the median is: {dl_median:.2f}\")"
   ]
  },
  {
   "cell_type": "code",
   "execution_count": 79,
   "metadata": {},
   "outputs": [],
   "source": [
    "#Describe the typical lifetime of an ad. \n",
    "#Determine when ads were removed quickly, and when they were listed for an abnormally long time."
   ]
  },
  {
   "cell_type": "code",
   "execution_count": 80,
   "metadata": {},
   "outputs": [
    {
     "data": {
      "image/png": "[encoded data removed]",
      "text/plain": [
       "<Figure size 576x360 with 1 Axes>"
      ]
     },
     "metadata": {
      "needs_background": "light"
     },
     "output_type": "display_data"
    }
   ],
   "source": [
    "#checking 0 day listed\n",
    "df[\"days_listed\"].plot(kind=\"hist\", bins=20,figsize=(8,5),title=\"days_listed\",range=(0,5));"
   ]
  },
  {
   "cell_type": "code",
   "execution_count": 81,
   "metadata": {},
   "outputs": [
    {
     "data": {
      "text/html": [
       "<div>\n",
       "<style scoped>\n",
       "    .dataframe tbody tr th:only-of-type {\n",
       "        vertical-align: middle;\n",
       "    }\n",
       "\n",
       "    .dataframe tbody tr th {\n",
       "        vertical-align: top;\n",
       "    }\n",
       "\n",
       "    .dataframe thead th {\n",
       "        text-align: right;\n",
       "    }\n",
       "</style>\n",
       "<table border=\"1\" class=\"dataframe\">\n",
       "  <thead>\n",
       "    <tr style=\"text-align: right;\">\n",
       "      <th></th>\n",
       "      <th>price</th>\n",
       "      <th>model_year</th>\n",
       "      <th>model</th>\n",
       "      <th>condition</th>\n",
       "      <th>cylinders</th>\n",
       "      <th>fuel</th>\n",
       "      <th>odometer</th>\n",
       "      <th>transmission</th>\n",
       "      <th>type</th>\n",
       "      <th>paint_color</th>\n",
       "      <th>...</th>\n",
       "      <th>model_year_mean</th>\n",
       "      <th>price_group</th>\n",
       "      <th>day_listed_group</th>\n",
       "      <th>Day_of_the_week</th>\n",
       "      <th>month</th>\n",
       "      <th>year</th>\n",
       "      <th>age</th>\n",
       "      <th>age_group</th>\n",
       "      <th>mileage_per_year</th>\n",
       "      <th>mileage_per_year_group</th>\n",
       "    </tr>\n",
       "  </thead>\n",
       "  <tbody>\n",
       "    <tr>\n",
       "      <th>1235</th>\n",
       "      <td>14995</td>\n",
       "      <td>2008</td>\n",
       "      <td>chevrolet silverado 1500</td>\n",
       "      <td>3</td>\n",
       "      <td>8</td>\n",
       "      <td>gas</td>\n",
       "      <td>93300</td>\n",
       "      <td>automatic</td>\n",
       "      <td>truck</td>\n",
       "      <td>grey</td>\n",
       "      <td>...</td>\n",
       "      <td>2009</td>\n",
       "      <td>C 9000-16900</td>\n",
       "      <td>A 0-19</td>\n",
       "      <td>1</td>\n",
       "      <td>5</td>\n",
       "      <td>2018</td>\n",
       "      <td>11</td>\n",
       "      <td>C 8-12</td>\n",
       "      <td>8481.818182</td>\n",
       "      <td>B 7,831-13,760</td>\n",
       "    </tr>\n",
       "    <tr>\n",
       "      <th>1963</th>\n",
       "      <td>14000</td>\n",
       "      <td>1999</td>\n",
       "      <td>ford f250</td>\n",
       "      <td>3</td>\n",
       "      <td>8</td>\n",
       "      <td>diesel</td>\n",
       "      <td>137500</td>\n",
       "      <td>automatic</td>\n",
       "      <td>truck</td>\n",
       "      <td>red</td>\n",
       "      <td>...</td>\n",
       "      <td>2009</td>\n",
       "      <td>C 9000-16900</td>\n",
       "      <td>A 0-19</td>\n",
       "      <td>3</td>\n",
       "      <td>9</td>\n",
       "      <td>2018</td>\n",
       "      <td>20</td>\n",
       "      <td>D 13+</td>\n",
       "      <td>6875.000000</td>\n",
       "      <td>A 0-7,830</td>\n",
       "    </tr>\n",
       "    <tr>\n",
       "      <th>2859</th>\n",
       "      <td>4000</td>\n",
       "      <td>2004</td>\n",
       "      <td>ram 1500</td>\n",
       "      <td>3</td>\n",
       "      <td>8</td>\n",
       "      <td>gas</td>\n",
       "      <td>250000</td>\n",
       "      <td>automatic</td>\n",
       "      <td>truck</td>\n",
       "      <td>brown</td>\n",
       "      <td>...</td>\n",
       "      <td>2009</td>\n",
       "      <td>A 1-5000</td>\n",
       "      <td>A 0-19</td>\n",
       "      <td>0</td>\n",
       "      <td>8</td>\n",
       "      <td>2018</td>\n",
       "      <td>15</td>\n",
       "      <td>D 13+</td>\n",
       "      <td>16666.666667</td>\n",
       "      <td>C 13,761-20,870</td>\n",
       "    </tr>\n",
       "    <tr>\n",
       "      <th>4523</th>\n",
       "      <td>5000</td>\n",
       "      <td>2007</td>\n",
       "      <td>toyota corolla</td>\n",
       "      <td>2</td>\n",
       "      <td>4</td>\n",
       "      <td>gas</td>\n",
       "      <td>223000</td>\n",
       "      <td>manual</td>\n",
       "      <td>sedan</td>\n",
       "      <td>silver</td>\n",
       "      <td>...</td>\n",
       "      <td>2010</td>\n",
       "      <td>A 1-5000</td>\n",
       "      <td>A 0-19</td>\n",
       "      <td>2</td>\n",
       "      <td>7</td>\n",
       "      <td>2018</td>\n",
       "      <td>12</td>\n",
       "      <td>C 8-12</td>\n",
       "      <td>18583.333333</td>\n",
       "      <td>C 13,761-20,870</td>\n",
       "    </tr>\n",
       "    <tr>\n",
       "      <th>4856</th>\n",
       "      <td>12500</td>\n",
       "      <td>2001</td>\n",
       "      <td>ram 1500</td>\n",
       "      <td>2</td>\n",
       "      <td>8</td>\n",
       "      <td>gas</td>\n",
       "      <td>99892</td>\n",
       "      <td>automatic</td>\n",
       "      <td>truck</td>\n",
       "      <td>black</td>\n",
       "      <td>...</td>\n",
       "      <td>2009</td>\n",
       "      <td>C 9000-16900</td>\n",
       "      <td>A 0-19</td>\n",
       "      <td>4</td>\n",
       "      <td>5</td>\n",
       "      <td>2018</td>\n",
       "      <td>18</td>\n",
       "      <td>D 13+</td>\n",
       "      <td>5549.555556</td>\n",
       "      <td>A 0-7,830</td>\n",
       "    </tr>\n",
       "    <tr>\n",
       "      <th>6061</th>\n",
       "      <td>500</td>\n",
       "      <td>2003</td>\n",
       "      <td>dodge dakota</td>\n",
       "      <td>1</td>\n",
       "      <td>6</td>\n",
       "      <td>gas</td>\n",
       "      <td>215457</td>\n",
       "      <td>automatic</td>\n",
       "      <td>pickup</td>\n",
       "      <td>unpublished</td>\n",
       "      <td>...</td>\n",
       "      <td>2009</td>\n",
       "      <td>A 1-5000</td>\n",
       "      <td>A 0-19</td>\n",
       "      <td>2</td>\n",
       "      <td>10</td>\n",
       "      <td>2018</td>\n",
       "      <td>16</td>\n",
       "      <td>D 13+</td>\n",
       "      <td>13466.062500</td>\n",
       "      <td>B 7,831-13,760</td>\n",
       "    </tr>\n",
       "    <tr>\n",
       "      <th>6492</th>\n",
       "      <td>4800</td>\n",
       "      <td>2007</td>\n",
       "      <td>honda odyssey</td>\n",
       "      <td>2</td>\n",
       "      <td>6</td>\n",
       "      <td>gas</td>\n",
       "      <td>152400</td>\n",
       "      <td>automatic</td>\n",
       "      <td>mini-van</td>\n",
       "      <td>brown</td>\n",
       "      <td>...</td>\n",
       "      <td>2009</td>\n",
       "      <td>A 1-5000</td>\n",
       "      <td>A 0-19</td>\n",
       "      <td>1</td>\n",
       "      <td>9</td>\n",
       "      <td>2018</td>\n",
       "      <td>12</td>\n",
       "      <td>C 8-12</td>\n",
       "      <td>12700.000000</td>\n",
       "      <td>B 7,831-13,760</td>\n",
       "    </tr>\n",
       "    <tr>\n",
       "      <th>6971</th>\n",
       "      <td>5900</td>\n",
       "      <td>2007</td>\n",
       "      <td>jeep grand cherokee laredo</td>\n",
       "      <td>3</td>\n",
       "      <td>6</td>\n",
       "      <td>gas</td>\n",
       "      <td>7189</td>\n",
       "      <td>automatic</td>\n",
       "      <td>suv</td>\n",
       "      <td>grey</td>\n",
       "      <td>...</td>\n",
       "      <td>2009</td>\n",
       "      <td>B 5000-9000</td>\n",
       "      <td>A 0-19</td>\n",
       "      <td>5</td>\n",
       "      <td>7</td>\n",
       "      <td>2018</td>\n",
       "      <td>12</td>\n",
       "      <td>C 8-12</td>\n",
       "      <td>599.083333</td>\n",
       "      <td>A 0-7,830</td>\n",
       "    </tr>\n",
       "    <tr>\n",
       "      <th>9517</th>\n",
       "      <td>4999</td>\n",
       "      <td>2012</td>\n",
       "      <td>nissan sentra</td>\n",
       "      <td>3</td>\n",
       "      <td>4</td>\n",
       "      <td>gas</td>\n",
       "      <td>125000</td>\n",
       "      <td>automatic</td>\n",
       "      <td>sedan</td>\n",
       "      <td>silver</td>\n",
       "      <td>...</td>\n",
       "      <td>2010</td>\n",
       "      <td>A 1-5000</td>\n",
       "      <td>A 0-19</td>\n",
       "      <td>1</td>\n",
       "      <td>3</td>\n",
       "      <td>2019</td>\n",
       "      <td>8</td>\n",
       "      <td>C 8-12</td>\n",
       "      <td>15625.000000</td>\n",
       "      <td>C 13,761-20,870</td>\n",
       "    </tr>\n",
       "    <tr>\n",
       "      <th>9641</th>\n",
       "      <td>15000</td>\n",
       "      <td>2003</td>\n",
       "      <td>ford f-150</td>\n",
       "      <td>2</td>\n",
       "      <td>7</td>\n",
       "      <td>gas</td>\n",
       "      <td>90048</td>\n",
       "      <td>automatic</td>\n",
       "      <td>truck</td>\n",
       "      <td>black</td>\n",
       "      <td>...</td>\n",
       "      <td>2009</td>\n",
       "      <td>C 9000-16900</td>\n",
       "      <td>A 0-19</td>\n",
       "      <td>4</td>\n",
       "      <td>9</td>\n",
       "      <td>2018</td>\n",
       "      <td>16</td>\n",
       "      <td>D 13+</td>\n",
       "      <td>5628.000000</td>\n",
       "      <td>A 0-7,830</td>\n",
       "    </tr>\n",
       "    <tr>\n",
       "      <th>10619</th>\n",
       "      <td>3100</td>\n",
       "      <td>2000</td>\n",
       "      <td>chevrolet silverado</td>\n",
       "      <td>2</td>\n",
       "      <td>7</td>\n",
       "      <td>gas</td>\n",
       "      <td>211000</td>\n",
       "      <td>automatic</td>\n",
       "      <td>truck</td>\n",
       "      <td>white</td>\n",
       "      <td>...</td>\n",
       "      <td>2009</td>\n",
       "      <td>A 1-5000</td>\n",
       "      <td>A 0-19</td>\n",
       "      <td>4</td>\n",
       "      <td>7</td>\n",
       "      <td>2018</td>\n",
       "      <td>19</td>\n",
       "      <td>D 13+</td>\n",
       "      <td>11105.263158</td>\n",
       "      <td>B 7,831-13,760</td>\n",
       "    </tr>\n",
       "    <tr>\n",
       "      <th>12744</th>\n",
       "      <td>21997</td>\n",
       "      <td>2014</td>\n",
       "      <td>honda pilot</td>\n",
       "      <td>3</td>\n",
       "      <td>6</td>\n",
       "      <td>gas</td>\n",
       "      <td>37093</td>\n",
       "      <td>automatic</td>\n",
       "      <td>suv</td>\n",
       "      <td>silver</td>\n",
       "      <td>...</td>\n",
       "      <td>2009</td>\n",
       "      <td>D 16900+</td>\n",
       "      <td>A 0-19</td>\n",
       "      <td>0</td>\n",
       "      <td>3</td>\n",
       "      <td>2019</td>\n",
       "      <td>6</td>\n",
       "      <td>B 5-7</td>\n",
       "      <td>6182.166667</td>\n",
       "      <td>A 0-7,830</td>\n",
       "    </tr>\n",
       "    <tr>\n",
       "      <th>13952</th>\n",
       "      <td>10500</td>\n",
       "      <td>2005</td>\n",
       "      <td>gmc sierra 1500</td>\n",
       "      <td>3</td>\n",
       "      <td>8</td>\n",
       "      <td>gas</td>\n",
       "      <td>9150</td>\n",
       "      <td>automatic</td>\n",
       "      <td>pickup</td>\n",
       "      <td>black</td>\n",
       "      <td>...</td>\n",
       "      <td>2009</td>\n",
       "      <td>C 9000-16900</td>\n",
       "      <td>A 0-19</td>\n",
       "      <td>2</td>\n",
       "      <td>2</td>\n",
       "      <td>2019</td>\n",
       "      <td>15</td>\n",
       "      <td>D 13+</td>\n",
       "      <td>610.000000</td>\n",
       "      <td>A 0-7,830</td>\n",
       "    </tr>\n",
       "    <tr>\n",
       "      <th>14306</th>\n",
       "      <td>17995</td>\n",
       "      <td>2011</td>\n",
       "      <td>ford f250</td>\n",
       "      <td>2</td>\n",
       "      <td>8</td>\n",
       "      <td>gas</td>\n",
       "      <td>75465</td>\n",
       "      <td>automatic</td>\n",
       "      <td>truck</td>\n",
       "      <td>white</td>\n",
       "      <td>...</td>\n",
       "      <td>2009</td>\n",
       "      <td>D 16900+</td>\n",
       "      <td>A 0-19</td>\n",
       "      <td>6</td>\n",
       "      <td>9</td>\n",
       "      <td>2018</td>\n",
       "      <td>8</td>\n",
       "      <td>C 8-12</td>\n",
       "      <td>9433.125000</td>\n",
       "      <td>B 7,831-13,760</td>\n",
       "    </tr>\n",
       "    <tr>\n",
       "      <th>15887</th>\n",
       "      <td>8200</td>\n",
       "      <td>2014</td>\n",
       "      <td>honda accord</td>\n",
       "      <td>3</td>\n",
       "      <td>4</td>\n",
       "      <td>gas</td>\n",
       "      <td>121000</td>\n",
       "      <td>automatic</td>\n",
       "      <td>sedan</td>\n",
       "      <td>silver</td>\n",
       "      <td>...</td>\n",
       "      <td>2010</td>\n",
       "      <td>B 5000-9000</td>\n",
       "      <td>A 0-19</td>\n",
       "      <td>3</td>\n",
       "      <td>5</td>\n",
       "      <td>2018</td>\n",
       "      <td>5</td>\n",
       "      <td>B 5-7</td>\n",
       "      <td>24200.000000</td>\n",
       "      <td>D 20,871+</td>\n",
       "    </tr>\n",
       "    <tr>\n",
       "      <th>15979</th>\n",
       "      <td>3650</td>\n",
       "      <td>2013</td>\n",
       "      <td>kia soul</td>\n",
       "      <td>2</td>\n",
       "      <td>4</td>\n",
       "      <td>gas</td>\n",
       "      <td>3921</td>\n",
       "      <td>manual</td>\n",
       "      <td>hatchback</td>\n",
       "      <td>grey</td>\n",
       "      <td>...</td>\n",
       "      <td>2010</td>\n",
       "      <td>A 1-5000</td>\n",
       "      <td>A 0-19</td>\n",
       "      <td>6</td>\n",
       "      <td>1</td>\n",
       "      <td>2019</td>\n",
       "      <td>7</td>\n",
       "      <td>B 5-7</td>\n",
       "      <td>560.142857</td>\n",
       "      <td>A 0-7,830</td>\n",
       "    </tr>\n",
       "    <tr>\n",
       "      <th>16050</th>\n",
       "      <td>13995</td>\n",
       "      <td>2008</td>\n",
       "      <td>toyota 4runner</td>\n",
       "      <td>3</td>\n",
       "      <td>6</td>\n",
       "      <td>gas</td>\n",
       "      <td>6535</td>\n",
       "      <td>automatic</td>\n",
       "      <td>suv</td>\n",
       "      <td>unpublished</td>\n",
       "      <td>...</td>\n",
       "      <td>2009</td>\n",
       "      <td>C 9000-16900</td>\n",
       "      <td>A 0-19</td>\n",
       "      <td>1</td>\n",
       "      <td>7</td>\n",
       "      <td>2018</td>\n",
       "      <td>11</td>\n",
       "      <td>C 8-12</td>\n",
       "      <td>594.090909</td>\n",
       "      <td>A 0-7,830</td>\n",
       "    </tr>\n",
       "    <tr>\n",
       "      <th>16448</th>\n",
       "      <td>11900</td>\n",
       "      <td>2009</td>\n",
       "      <td>ford f250 super duty</td>\n",
       "      <td>2</td>\n",
       "      <td>8</td>\n",
       "      <td>gas</td>\n",
       "      <td>120971</td>\n",
       "      <td>automatic</td>\n",
       "      <td>pickup</td>\n",
       "      <td>white</td>\n",
       "      <td>...</td>\n",
       "      <td>2009</td>\n",
       "      <td>C 9000-16900</td>\n",
       "      <td>A 0-19</td>\n",
       "      <td>0</td>\n",
       "      <td>6</td>\n",
       "      <td>2018</td>\n",
       "      <td>10</td>\n",
       "      <td>C 8-12</td>\n",
       "      <td>12097.100000</td>\n",
       "      <td>B 7,831-13,760</td>\n",
       "    </tr>\n",
       "    <tr>\n",
       "      <th>17165</th>\n",
       "      <td>7800</td>\n",
       "      <td>2009</td>\n",
       "      <td>gmc sierra</td>\n",
       "      <td>3</td>\n",
       "      <td>6</td>\n",
       "      <td>gas</td>\n",
       "      <td>142000</td>\n",
       "      <td>automatic</td>\n",
       "      <td>truck</td>\n",
       "      <td>red</td>\n",
       "      <td>...</td>\n",
       "      <td>2009</td>\n",
       "      <td>B 5000-9000</td>\n",
       "      <td>A 0-19</td>\n",
       "      <td>3</td>\n",
       "      <td>7</td>\n",
       "      <td>2018</td>\n",
       "      <td>10</td>\n",
       "      <td>C 8-12</td>\n",
       "      <td>14200.000000</td>\n",
       "      <td>C 13,761-20,870</td>\n",
       "    </tr>\n",
       "    <tr>\n",
       "      <th>17763</th>\n",
       "      <td>14995</td>\n",
       "      <td>2009</td>\n",
       "      <td>ford f350 super duty</td>\n",
       "      <td>3</td>\n",
       "      <td>8</td>\n",
       "      <td>gas</td>\n",
       "      <td>126650</td>\n",
       "      <td>automatic</td>\n",
       "      <td>truck</td>\n",
       "      <td>white</td>\n",
       "      <td>...</td>\n",
       "      <td>2009</td>\n",
       "      <td>C 9000-16900</td>\n",
       "      <td>A 0-19</td>\n",
       "      <td>4</td>\n",
       "      <td>3</td>\n",
       "      <td>2019</td>\n",
       "      <td>11</td>\n",
       "      <td>C 8-12</td>\n",
       "      <td>11513.636364</td>\n",
       "      <td>B 7,831-13,760</td>\n",
       "    </tr>\n",
       "    <tr>\n",
       "      <th>18879</th>\n",
       "      <td>29999</td>\n",
       "      <td>2011</td>\n",
       "      <td>ford econoline</td>\n",
       "      <td>4</td>\n",
       "      <td>10</td>\n",
       "      <td>gas</td>\n",
       "      <td>117000</td>\n",
       "      <td>automatic</td>\n",
       "      <td>van</td>\n",
       "      <td>white</td>\n",
       "      <td>...</td>\n",
       "      <td>2009</td>\n",
       "      <td>D 16900+</td>\n",
       "      <td>A 0-19</td>\n",
       "      <td>1</td>\n",
       "      <td>8</td>\n",
       "      <td>2018</td>\n",
       "      <td>8</td>\n",
       "      <td>C 8-12</td>\n",
       "      <td>14625.000000</td>\n",
       "      <td>C 13,761-20,870</td>\n",
       "    </tr>\n",
       "    <tr>\n",
       "      <th>20607</th>\n",
       "      <td>11886</td>\n",
       "      <td>2017</td>\n",
       "      <td>ford fusion se</td>\n",
       "      <td>3</td>\n",
       "      <td>4</td>\n",
       "      <td>gas</td>\n",
       "      <td>72000</td>\n",
       "      <td>automatic</td>\n",
       "      <td>sedan</td>\n",
       "      <td>unpublished</td>\n",
       "      <td>...</td>\n",
       "      <td>2010</td>\n",
       "      <td>C 9000-16900</td>\n",
       "      <td>A 0-19</td>\n",
       "      <td>1</td>\n",
       "      <td>10</td>\n",
       "      <td>2018</td>\n",
       "      <td>2</td>\n",
       "      <td>A 0-4</td>\n",
       "      <td>36000.000000</td>\n",
       "      <td>D 20,871+</td>\n",
       "    </tr>\n",
       "    <tr>\n",
       "      <th>21037</th>\n",
       "      <td>16995</td>\n",
       "      <td>2009</td>\n",
       "      <td>dodge grand caravan</td>\n",
       "      <td>3</td>\n",
       "      <td>6</td>\n",
       "      <td>gas</td>\n",
       "      <td>45677</td>\n",
       "      <td>automatic</td>\n",
       "      <td>van</td>\n",
       "      <td>grey</td>\n",
       "      <td>...</td>\n",
       "      <td>2009</td>\n",
       "      <td>D 16900+</td>\n",
       "      <td>A 0-19</td>\n",
       "      <td>6</td>\n",
       "      <td>9</td>\n",
       "      <td>2018</td>\n",
       "      <td>10</td>\n",
       "      <td>C 8-12</td>\n",
       "      <td>4567.700000</td>\n",
       "      <td>A 0-7,830</td>\n",
       "    </tr>\n",
       "    <tr>\n",
       "      <th>21617</th>\n",
       "      <td>2950</td>\n",
       "      <td>2010</td>\n",
       "      <td>chevrolet malibu</td>\n",
       "      <td>2</td>\n",
       "      <td>4</td>\n",
       "      <td>gas</td>\n",
       "      <td>140000</td>\n",
       "      <td>automatic</td>\n",
       "      <td>sedan</td>\n",
       "      <td>unpublished</td>\n",
       "      <td>...</td>\n",
       "      <td>2010</td>\n",
       "      <td>A 1-5000</td>\n",
       "      <td>A 0-19</td>\n",
       "      <td>0</td>\n",
       "      <td>8</td>\n",
       "      <td>2018</td>\n",
       "      <td>9</td>\n",
       "      <td>C 8-12</td>\n",
       "      <td>15555.555556</td>\n",
       "      <td>C 13,761-20,870</td>\n",
       "    </tr>\n",
       "    <tr>\n",
       "      <th>22958</th>\n",
       "      <td>7995</td>\n",
       "      <td>2013</td>\n",
       "      <td>toyota corolla</td>\n",
       "      <td>3</td>\n",
       "      <td>4</td>\n",
       "      <td>gas</td>\n",
       "      <td>102466</td>\n",
       "      <td>automatic</td>\n",
       "      <td>sedan</td>\n",
       "      <td>silver</td>\n",
       "      <td>...</td>\n",
       "      <td>2010</td>\n",
       "      <td>B 5000-9000</td>\n",
       "      <td>A 0-19</td>\n",
       "      <td>5</td>\n",
       "      <td>3</td>\n",
       "      <td>2019</td>\n",
       "      <td>7</td>\n",
       "      <td>B 5-7</td>\n",
       "      <td>14638.000000</td>\n",
       "      <td>C 13,761-20,870</td>\n",
       "    </tr>\n",
       "    <tr>\n",
       "      <th>23895</th>\n",
       "      <td>39900</td>\n",
       "      <td>2018</td>\n",
       "      <td>toyota highlander</td>\n",
       "      <td>3</td>\n",
       "      <td>6</td>\n",
       "      <td>gas</td>\n",
       "      <td>7985</td>\n",
       "      <td>automatic</td>\n",
       "      <td>suv</td>\n",
       "      <td>unpublished</td>\n",
       "      <td>...</td>\n",
       "      <td>2009</td>\n",
       "      <td>D 16900+</td>\n",
       "      <td>A 0-19</td>\n",
       "      <td>6</td>\n",
       "      <td>5</td>\n",
       "      <td>2018</td>\n",
       "      <td>1</td>\n",
       "      <td>A 0-4</td>\n",
       "      <td>7985.000000</td>\n",
       "      <td>B 7,831-13,760</td>\n",
       "    </tr>\n",
       "    <tr>\n",
       "      <th>25033</th>\n",
       "      <td>9950</td>\n",
       "      <td>2008</td>\n",
       "      <td>toyota tundra</td>\n",
       "      <td>2</td>\n",
       "      <td>6</td>\n",
       "      <td>gas</td>\n",
       "      <td>229000</td>\n",
       "      <td>automatic</td>\n",
       "      <td>truck</td>\n",
       "      <td>red</td>\n",
       "      <td>...</td>\n",
       "      <td>2009</td>\n",
       "      <td>C 9000-16900</td>\n",
       "      <td>A 0-19</td>\n",
       "      <td>1</td>\n",
       "      <td>4</td>\n",
       "      <td>2019</td>\n",
       "      <td>12</td>\n",
       "      <td>C 8-12</td>\n",
       "      <td>19083.333333</td>\n",
       "      <td>C 13,761-20,870</td>\n",
       "    </tr>\n",
       "    <tr>\n",
       "      <th>26539</th>\n",
       "      <td>9995</td>\n",
       "      <td>2006</td>\n",
       "      <td>ram 1500</td>\n",
       "      <td>3</td>\n",
       "      <td>8</td>\n",
       "      <td>gas</td>\n",
       "      <td>101750</td>\n",
       "      <td>automatic</td>\n",
       "      <td>truck</td>\n",
       "      <td>black</td>\n",
       "      <td>...</td>\n",
       "      <td>2009</td>\n",
       "      <td>C 9000-16900</td>\n",
       "      <td>A 0-19</td>\n",
       "      <td>5</td>\n",
       "      <td>8</td>\n",
       "      <td>2018</td>\n",
       "      <td>13</td>\n",
       "      <td>D 13+</td>\n",
       "      <td>7826.923077</td>\n",
       "      <td>A 0-7,830</td>\n",
       "    </tr>\n",
       "    <tr>\n",
       "      <th>26598</th>\n",
       "      <td>8950</td>\n",
       "      <td>2005</td>\n",
       "      <td>chevrolet silverado 1500</td>\n",
       "      <td>2</td>\n",
       "      <td>8</td>\n",
       "      <td>gas</td>\n",
       "      <td>175788</td>\n",
       "      <td>automatic</td>\n",
       "      <td>truck</td>\n",
       "      <td>custom</td>\n",
       "      <td>...</td>\n",
       "      <td>2009</td>\n",
       "      <td>B 5000-9000</td>\n",
       "      <td>A 0-19</td>\n",
       "      <td>5</td>\n",
       "      <td>2</td>\n",
       "      <td>2019</td>\n",
       "      <td>15</td>\n",
       "      <td>D 13+</td>\n",
       "      <td>11719.200000</td>\n",
       "      <td>B 7,831-13,760</td>\n",
       "    </tr>\n",
       "    <tr>\n",
       "      <th>26857</th>\n",
       "      <td>10995</td>\n",
       "      <td>2010</td>\n",
       "      <td>chevrolet silverado 1500</td>\n",
       "      <td>2</td>\n",
       "      <td>8</td>\n",
       "      <td>gas</td>\n",
       "      <td>165178</td>\n",
       "      <td>automatic</td>\n",
       "      <td>truck</td>\n",
       "      <td>grey</td>\n",
       "      <td>...</td>\n",
       "      <td>2009</td>\n",
       "      <td>C 9000-16900</td>\n",
       "      <td>A 0-19</td>\n",
       "      <td>0</td>\n",
       "      <td>3</td>\n",
       "      <td>2019</td>\n",
       "      <td>10</td>\n",
       "      <td>C 8-12</td>\n",
       "      <td>16517.800000</td>\n",
       "      <td>C 13,761-20,870</td>\n",
       "    </tr>\n",
       "    <tr>\n",
       "      <th>27545</th>\n",
       "      <td>2900</td>\n",
       "      <td>2009</td>\n",
       "      <td>honda civic</td>\n",
       "      <td>3</td>\n",
       "      <td>4</td>\n",
       "      <td>gas</td>\n",
       "      <td>190222</td>\n",
       "      <td>automatic</td>\n",
       "      <td>sedan</td>\n",
       "      <td>silver</td>\n",
       "      <td>...</td>\n",
       "      <td>2010</td>\n",
       "      <td>A 1-5000</td>\n",
       "      <td>A 0-19</td>\n",
       "      <td>0</td>\n",
       "      <td>12</td>\n",
       "      <td>2018</td>\n",
       "      <td>10</td>\n",
       "      <td>C 8-12</td>\n",
       "      <td>19022.200000</td>\n",
       "      <td>C 13,761-20,870</td>\n",
       "    </tr>\n",
       "    <tr>\n",
       "      <th>29066</th>\n",
       "      <td>9450</td>\n",
       "      <td>2014</td>\n",
       "      <td>kia sorento</td>\n",
       "      <td>3</td>\n",
       "      <td>4</td>\n",
       "      <td>gas</td>\n",
       "      <td>91776</td>\n",
       "      <td>automatic</td>\n",
       "      <td>suv</td>\n",
       "      <td>silver</td>\n",
       "      <td>...</td>\n",
       "      <td>2009</td>\n",
       "      <td>C 9000-16900</td>\n",
       "      <td>A 0-19</td>\n",
       "      <td>0</td>\n",
       "      <td>8</td>\n",
       "      <td>2018</td>\n",
       "      <td>5</td>\n",
       "      <td>B 5-7</td>\n",
       "      <td>18355.200000</td>\n",
       "      <td>C 13,761-20,870</td>\n",
       "    </tr>\n",
       "    <tr>\n",
       "      <th>29884</th>\n",
       "      <td>9995</td>\n",
       "      <td>2006</td>\n",
       "      <td>chevrolet silverado 1500</td>\n",
       "      <td>3</td>\n",
       "      <td>7</td>\n",
       "      <td>gas</td>\n",
       "      <td>115000</td>\n",
       "      <td>automatic</td>\n",
       "      <td>pickup</td>\n",
       "      <td>grey</td>\n",
       "      <td>...</td>\n",
       "      <td>2009</td>\n",
       "      <td>C 9000-16900</td>\n",
       "      <td>A 0-19</td>\n",
       "      <td>3</td>\n",
       "      <td>4</td>\n",
       "      <td>2019</td>\n",
       "      <td>14</td>\n",
       "      <td>D 13+</td>\n",
       "      <td>8214.285714</td>\n",
       "      <td>B 7,831-13,760</td>\n",
       "    </tr>\n",
       "    <tr>\n",
       "      <th>30941</th>\n",
       "      <td>26900</td>\n",
       "      <td>2014</td>\n",
       "      <td>chevrolet silverado 1500 crew</td>\n",
       "      <td>2</td>\n",
       "      <td>8</td>\n",
       "      <td>gas</td>\n",
       "      <td>68607</td>\n",
       "      <td>automatic</td>\n",
       "      <td>pickup</td>\n",
       "      <td>black</td>\n",
       "      <td>...</td>\n",
       "      <td>2009</td>\n",
       "      <td>D 16900+</td>\n",
       "      <td>A 0-19</td>\n",
       "      <td>0</td>\n",
       "      <td>12</td>\n",
       "      <td>2018</td>\n",
       "      <td>5</td>\n",
       "      <td>B 5-7</td>\n",
       "      <td>13721.400000</td>\n",
       "      <td>B 7,831-13,760</td>\n",
       "    </tr>\n",
       "    <tr>\n",
       "      <th>31042</th>\n",
       "      <td>6200</td>\n",
       "      <td>2014</td>\n",
       "      <td>volkswagen jetta</td>\n",
       "      <td>4</td>\n",
       "      <td>4</td>\n",
       "      <td>gas</td>\n",
       "      <td>54000</td>\n",
       "      <td>manual</td>\n",
       "      <td>sedan</td>\n",
       "      <td>unpublished</td>\n",
       "      <td>...</td>\n",
       "      <td>2010</td>\n",
       "      <td>B 5000-9000</td>\n",
       "      <td>A 0-19</td>\n",
       "      <td>0</td>\n",
       "      <td>9</td>\n",
       "      <td>2018</td>\n",
       "      <td>5</td>\n",
       "      <td>B 5-7</td>\n",
       "      <td>10800.000000</td>\n",
       "      <td>B 7,831-13,760</td>\n",
       "    </tr>\n",
       "    <tr>\n",
       "      <th>32039</th>\n",
       "      <td>12500</td>\n",
       "      <td>2013</td>\n",
       "      <td>chrysler town &amp; country</td>\n",
       "      <td>4</td>\n",
       "      <td>6</td>\n",
       "      <td>gas</td>\n",
       "      <td>63778</td>\n",
       "      <td>automatic</td>\n",
       "      <td>mini-van</td>\n",
       "      <td>unpublished</td>\n",
       "      <td>...</td>\n",
       "      <td>2009</td>\n",
       "      <td>C 9000-16900</td>\n",
       "      <td>A 0-19</td>\n",
       "      <td>6</td>\n",
       "      <td>9</td>\n",
       "      <td>2018</td>\n",
       "      <td>6</td>\n",
       "      <td>B 5-7</td>\n",
       "      <td>10629.666667</td>\n",
       "      <td>B 7,831-13,760</td>\n",
       "    </tr>\n",
       "    <tr>\n",
       "      <th>33525</th>\n",
       "      <td>6995</td>\n",
       "      <td>2009</td>\n",
       "      <td>gmc acadia</td>\n",
       "      <td>2</td>\n",
       "      <td>6</td>\n",
       "      <td>gas</td>\n",
       "      <td>177676</td>\n",
       "      <td>automatic</td>\n",
       "      <td>suv</td>\n",
       "      <td>custom</td>\n",
       "      <td>...</td>\n",
       "      <td>2009</td>\n",
       "      <td>B 5000-9000</td>\n",
       "      <td>A 0-19</td>\n",
       "      <td>6</td>\n",
       "      <td>9</td>\n",
       "      <td>2018</td>\n",
       "      <td>10</td>\n",
       "      <td>C 8-12</td>\n",
       "      <td>17767.600000</td>\n",
       "      <td>C 13,761-20,870</td>\n",
       "    </tr>\n",
       "    <tr>\n",
       "      <th>35232</th>\n",
       "      <td>1500</td>\n",
       "      <td>1992</td>\n",
       "      <td>honda accord</td>\n",
       "      <td>2</td>\n",
       "      <td>4</td>\n",
       "      <td>gas</td>\n",
       "      <td>239199</td>\n",
       "      <td>automatic</td>\n",
       "      <td>sedan</td>\n",
       "      <td>red</td>\n",
       "      <td>...</td>\n",
       "      <td>2010</td>\n",
       "      <td>A 1-5000</td>\n",
       "      <td>A 0-19</td>\n",
       "      <td>3</td>\n",
       "      <td>8</td>\n",
       "      <td>2018</td>\n",
       "      <td>27</td>\n",
       "      <td>D 13+</td>\n",
       "      <td>8859.222222</td>\n",
       "      <td>B 7,831-13,760</td>\n",
       "    </tr>\n",
       "    <tr>\n",
       "      <th>35887</th>\n",
       "      <td>24500</td>\n",
       "      <td>2018</td>\n",
       "      <td>chevrolet silverado</td>\n",
       "      <td>3</td>\n",
       "      <td>7</td>\n",
       "      <td>gas</td>\n",
       "      <td>30000</td>\n",
       "      <td>automatic</td>\n",
       "      <td>pickup</td>\n",
       "      <td>silver</td>\n",
       "      <td>...</td>\n",
       "      <td>2009</td>\n",
       "      <td>D 16900+</td>\n",
       "      <td>A 0-19</td>\n",
       "      <td>0</td>\n",
       "      <td>1</td>\n",
       "      <td>2019</td>\n",
       "      <td>2</td>\n",
       "      <td>A 0-4</td>\n",
       "      <td>15000.000000</td>\n",
       "      <td>C 13,761-20,870</td>\n",
       "    </tr>\n",
       "    <tr>\n",
       "      <th>38406</th>\n",
       "      <td>17495</td>\n",
       "      <td>2018</td>\n",
       "      <td>chevrolet malibu</td>\n",
       "      <td>4</td>\n",
       "      <td>4</td>\n",
       "      <td>gas</td>\n",
       "      <td>16505</td>\n",
       "      <td>automatic</td>\n",
       "      <td>sedan</td>\n",
       "      <td>white</td>\n",
       "      <td>...</td>\n",
       "      <td>2010</td>\n",
       "      <td>D 16900+</td>\n",
       "      <td>A 0-19</td>\n",
       "      <td>1</td>\n",
       "      <td>6</td>\n",
       "      <td>2018</td>\n",
       "      <td>1</td>\n",
       "      <td>A 0-4</td>\n",
       "      <td>16505.000000</td>\n",
       "      <td>C 13,761-20,870</td>\n",
       "    </tr>\n",
       "    <tr>\n",
       "      <th>38619</th>\n",
       "      <td>1900</td>\n",
       "      <td>2005</td>\n",
       "      <td>toyota prius</td>\n",
       "      <td>1</td>\n",
       "      <td>4</td>\n",
       "      <td>gas</td>\n",
       "      <td>8496</td>\n",
       "      <td>automatic</td>\n",
       "      <td>hatchback</td>\n",
       "      <td>grey</td>\n",
       "      <td>...</td>\n",
       "      <td>2010</td>\n",
       "      <td>A 1-5000</td>\n",
       "      <td>A 0-19</td>\n",
       "      <td>1</td>\n",
       "      <td>5</td>\n",
       "      <td>2018</td>\n",
       "      <td>14</td>\n",
       "      <td>D 13+</td>\n",
       "      <td>606.857143</td>\n",
       "      <td>A 0-7,830</td>\n",
       "    </tr>\n",
       "    <tr>\n",
       "      <th>38880</th>\n",
       "      <td>21100</td>\n",
       "      <td>2017</td>\n",
       "      <td>chevrolet camaro lt coupe 2d</td>\n",
       "      <td>2</td>\n",
       "      <td>6</td>\n",
       "      <td>gas</td>\n",
       "      <td>24510</td>\n",
       "      <td>other</td>\n",
       "      <td>coupe</td>\n",
       "      <td>red</td>\n",
       "      <td>...</td>\n",
       "      <td>2007</td>\n",
       "      <td>D 16900+</td>\n",
       "      <td>A 0-19</td>\n",
       "      <td>5</td>\n",
       "      <td>3</td>\n",
       "      <td>2019</td>\n",
       "      <td>3</td>\n",
       "      <td>A 0-4</td>\n",
       "      <td>8170.000000</td>\n",
       "      <td>B 7,831-13,760</td>\n",
       "    </tr>\n",
       "    <tr>\n",
       "      <th>39666</th>\n",
       "      <td>5995</td>\n",
       "      <td>2003</td>\n",
       "      <td>jeep grand cherokee laredo</td>\n",
       "      <td>2</td>\n",
       "      <td>6</td>\n",
       "      <td>gas</td>\n",
       "      <td>137252</td>\n",
       "      <td>automatic</td>\n",
       "      <td>suv</td>\n",
       "      <td>blue</td>\n",
       "      <td>...</td>\n",
       "      <td>2009</td>\n",
       "      <td>B 5000-9000</td>\n",
       "      <td>A 0-19</td>\n",
       "      <td>1</td>\n",
       "      <td>7</td>\n",
       "      <td>2018</td>\n",
       "      <td>16</td>\n",
       "      <td>D 13+</td>\n",
       "      <td>8578.250000</td>\n",
       "      <td>B 7,831-13,760</td>\n",
       "    </tr>\n",
       "    <tr>\n",
       "      <th>40917</th>\n",
       "      <td>2200</td>\n",
       "      <td>2000</td>\n",
       "      <td>toyota sienna</td>\n",
       "      <td>4</td>\n",
       "      <td>6</td>\n",
       "      <td>gas</td>\n",
       "      <td>152600</td>\n",
       "      <td>automatic</td>\n",
       "      <td>van</td>\n",
       "      <td>custom</td>\n",
       "      <td>...</td>\n",
       "      <td>2009</td>\n",
       "      <td>A 1-5000</td>\n",
       "      <td>A 0-19</td>\n",
       "      <td>4</td>\n",
       "      <td>11</td>\n",
       "      <td>2018</td>\n",
       "      <td>19</td>\n",
       "      <td>D 13+</td>\n",
       "      <td>8031.578947</td>\n",
       "      <td>B 7,831-13,760</td>\n",
       "    </tr>\n",
       "    <tr>\n",
       "      <th>41485</th>\n",
       "      <td>1800</td>\n",
       "      <td>2002</td>\n",
       "      <td>honda civic</td>\n",
       "      <td>2</td>\n",
       "      <td>4</td>\n",
       "      <td>gas</td>\n",
       "      <td>238155</td>\n",
       "      <td>automatic</td>\n",
       "      <td>sedan</td>\n",
       "      <td>silver</td>\n",
       "      <td>...</td>\n",
       "      <td>2010</td>\n",
       "      <td>A 1-5000</td>\n",
       "      <td>A 0-19</td>\n",
       "      <td>4</td>\n",
       "      <td>9</td>\n",
       "      <td>2018</td>\n",
       "      <td>17</td>\n",
       "      <td>D 13+</td>\n",
       "      <td>14009.117647</td>\n",
       "      <td>C 13,761-20,870</td>\n",
       "    </tr>\n",
       "    <tr>\n",
       "      <th>43110</th>\n",
       "      <td>12900</td>\n",
       "      <td>1987</td>\n",
       "      <td>chevrolet camaro</td>\n",
       "      <td>3</td>\n",
       "      <td>8</td>\n",
       "      <td>gas</td>\n",
       "      <td>107000</td>\n",
       "      <td>manual</td>\n",
       "      <td>coupe</td>\n",
       "      <td>black</td>\n",
       "      <td>...</td>\n",
       "      <td>2007</td>\n",
       "      <td>C 9000-16900</td>\n",
       "      <td>A 0-19</td>\n",
       "      <td>0</td>\n",
       "      <td>7</td>\n",
       "      <td>2018</td>\n",
       "      <td>32</td>\n",
       "      <td>D 13+</td>\n",
       "      <td>3343.750000</td>\n",
       "      <td>A 0-7,830</td>\n",
       "    </tr>\n",
       "    <tr>\n",
       "      <th>43119</th>\n",
       "      <td>2800</td>\n",
       "      <td>2003</td>\n",
       "      <td>ford mustang</td>\n",
       "      <td>1</td>\n",
       "      <td>6</td>\n",
       "      <td>gas</td>\n",
       "      <td>181000</td>\n",
       "      <td>automatic</td>\n",
       "      <td>coupe</td>\n",
       "      <td>silver</td>\n",
       "      <td>...</td>\n",
       "      <td>2007</td>\n",
       "      <td>A 1-5000</td>\n",
       "      <td>A 0-19</td>\n",
       "      <td>1</td>\n",
       "      <td>10</td>\n",
       "      <td>2018</td>\n",
       "      <td>16</td>\n",
       "      <td>D 13+</td>\n",
       "      <td>11312.500000</td>\n",
       "      <td>B 7,831-13,760</td>\n",
       "    </tr>\n",
       "    <tr>\n",
       "      <th>43609</th>\n",
       "      <td>28699</td>\n",
       "      <td>2013</td>\n",
       "      <td>jeep wrangler unlimited</td>\n",
       "      <td>4</td>\n",
       "      <td>6</td>\n",
       "      <td>gas</td>\n",
       "      <td>34000</td>\n",
       "      <td>automatic</td>\n",
       "      <td>suv</td>\n",
       "      <td>white</td>\n",
       "      <td>...</td>\n",
       "      <td>2009</td>\n",
       "      <td>D 16900+</td>\n",
       "      <td>A 0-19</td>\n",
       "      <td>6</td>\n",
       "      <td>8</td>\n",
       "      <td>2018</td>\n",
       "      <td>6</td>\n",
       "      <td>B 5-7</td>\n",
       "      <td>5666.666667</td>\n",
       "      <td>A 0-7,830</td>\n",
       "    </tr>\n",
       "    <tr>\n",
       "      <th>48323</th>\n",
       "      <td>12000</td>\n",
       "      <td>2015</td>\n",
       "      <td>toyota rav4</td>\n",
       "      <td>3</td>\n",
       "      <td>4</td>\n",
       "      <td>gas</td>\n",
       "      <td>116000</td>\n",
       "      <td>automatic</td>\n",
       "      <td>hatchback</td>\n",
       "      <td>blue</td>\n",
       "      <td>...</td>\n",
       "      <td>2010</td>\n",
       "      <td>C 9000-16900</td>\n",
       "      <td>A 0-19</td>\n",
       "      <td>6</td>\n",
       "      <td>8</td>\n",
       "      <td>2018</td>\n",
       "      <td>4</td>\n",
       "      <td>A 0-4</td>\n",
       "      <td>29000.000000</td>\n",
       "      <td>D 20,871+</td>\n",
       "    </tr>\n",
       "    <tr>\n",
       "      <th>50811</th>\n",
       "      <td>2999</td>\n",
       "      <td>2004</td>\n",
       "      <td>ford taurus</td>\n",
       "      <td>2</td>\n",
       "      <td>6</td>\n",
       "      <td>gas</td>\n",
       "      <td>136000</td>\n",
       "      <td>automatic</td>\n",
       "      <td>sedan</td>\n",
       "      <td>unpublished</td>\n",
       "      <td>...</td>\n",
       "      <td>2010</td>\n",
       "      <td>A 1-5000</td>\n",
       "      <td>A 0-19</td>\n",
       "      <td>0</td>\n",
       "      <td>10</td>\n",
       "      <td>2018</td>\n",
       "      <td>15</td>\n",
       "      <td>D 13+</td>\n",
       "      <td>9066.666667</td>\n",
       "      <td>B 7,831-13,760</td>\n",
       "    </tr>\n",
       "  </tbody>\n",
       "</table>\n",
       "<p>50 rows × 24 columns</p>\n",
       "</div>"
      ],
      "text/plain": [
       "       price  model_year                          model  condition  cylinders  \\\n",
       "1235   14995        2008       chevrolet silverado 1500          3          8   \n",
       "1963   14000        1999                      ford f250          3          8   \n",
       "2859    4000        2004                       ram 1500          3          8   \n",
       "4523    5000        2007                 toyota corolla          2          4   \n",
       "4856   12500        2001                       ram 1500          2          8   \n",
       "6061     500        2003                   dodge dakota          1          6   \n",
       "6492    4800        2007                  honda odyssey          2          6   \n",
       "6971    5900        2007     jeep grand cherokee laredo          3          6   \n",
       "9517    4999        2012                  nissan sentra          3          4   \n",
       "9641   15000        2003                     ford f-150          2          7   \n",
       "10619   3100        2000            chevrolet silverado          2          7   \n",
       "12744  21997        2014                    honda pilot          3          6   \n",
       "13952  10500        2005                gmc sierra 1500          3          8   \n",
       "14306  17995        2011                      ford f250          2          8   \n",
       "15887   8200        2014                   honda accord          3          4   \n",
       "15979   3650        2013                       kia soul          2          4   \n",
       "16050  13995        2008                 toyota 4runner          3          6   \n",
       "16448  11900        2009           ford f250 super duty          2          8   \n",
       "17165   7800        2009                     gmc sierra          3          6   \n",
       "17763  14995        2009           ford f350 super duty          3          8   \n",
       "18879  29999        2011                 ford econoline          4         10   \n",
       "20607  11886        2017                 ford fusion se          3          4   \n",
       "21037  16995        2009            dodge grand caravan          3          6   \n",
       "21617   2950        2010               chevrolet malibu          2          4   \n",
       "22958   7995        2013                 toyota corolla          3          4   \n",
       "23895  39900        2018              toyota highlander          3          6   \n",
       "25033   9950        2008                  toyota tundra          2          6   \n",
       "26539   9995        2006                       ram 1500          3          8   \n",
       "26598   8950        2005       chevrolet silverado 1500          2          8   \n",
       "26857  10995        2010       chevrolet silverado 1500          2          8   \n",
       "27545   2900        2009                    honda civic          3          4   \n",
       "29066   9450        2014                    kia sorento          3          4   \n",
       "29884   9995        2006       chevrolet silverado 1500          3          7   \n",
       "30941  26900        2014  chevrolet silverado 1500 crew          2          8   \n",
       "31042   6200        2014               volkswagen jetta          4          4   \n",
       "32039  12500        2013        chrysler town & country          4          6   \n",
       "33525   6995        2009                     gmc acadia          2          6   \n",
       "35232   1500        1992                   honda accord          2          4   \n",
       "35887  24500        2018            chevrolet silverado          3          7   \n",
       "38406  17495        2018               chevrolet malibu          4          4   \n",
       "38619   1900        2005                   toyota prius          1          4   \n",
       "38880  21100        2017   chevrolet camaro lt coupe 2d          2          6   \n",
       "39666   5995        2003     jeep grand cherokee laredo          2          6   \n",
       "40917   2200        2000                  toyota sienna          4          6   \n",
       "41485   1800        2002                    honda civic          2          4   \n",
       "43110  12900        1987               chevrolet camaro          3          8   \n",
       "43119   2800        2003                   ford mustang          1          6   \n",
       "43609  28699        2013        jeep wrangler unlimited          4          6   \n",
       "48323  12000        2015                    toyota rav4          3          4   \n",
       "50811   2999        2004                    ford taurus          2          6   \n",
       "\n",
       "         fuel  odometer transmission       type  paint_color  ...  \\\n",
       "1235      gas     93300    automatic      truck         grey  ...   \n",
       "1963   diesel    137500    automatic      truck          red  ...   \n",
       "2859      gas    250000    automatic      truck        brown  ...   \n",
       "4523      gas    223000       manual      sedan       silver  ...   \n",
       "4856      gas     99892    automatic      truck        black  ...   \n",
       "6061      gas    215457    automatic     pickup  unpublished  ...   \n",
       "6492      gas    152400    automatic   mini-van        brown  ...   \n",
       "6971      gas      7189    automatic        suv         grey  ...   \n",
       "9517      gas    125000    automatic      sedan       silver  ...   \n",
       "9641      gas     90048    automatic      truck        black  ...   \n",
       "10619     gas    211000    automatic      truck        white  ...   \n",
       "12744     gas     37093    automatic        suv       silver  ...   \n",
       "13952     gas      9150    automatic     pickup        black  ...   \n",
       "14306     gas     75465    automatic      truck        white  ...   \n",
       "15887     gas    121000    automatic      sedan       silver  ...   \n",
       "15979     gas      3921       manual  hatchback         grey  ...   \n",
       "16050     gas      6535    automatic        suv  unpublished  ...   \n",
       "16448     gas    120971    automatic     pickup        white  ...   \n",
       "17165     gas    142000    automatic      truck          red  ...   \n",
       "17763     gas    126650    automatic      truck        white  ...   \n",
       "18879     gas    117000    automatic        van        white  ...   \n",
       "20607     gas     72000    automatic      sedan  unpublished  ...   \n",
       "21037     gas     45677    automatic        van         grey  ...   \n",
       "21617     gas    140000    automatic      sedan  unpublished  ...   \n",
       "22958     gas    102466    automatic      sedan       silver  ...   \n",
       "23895     gas      7985    automatic        suv  unpublished  ...   \n",
       "25033     gas    229000    automatic      truck          red  ...   \n",
       "26539     gas    101750    automatic      truck        black  ...   \n",
       "26598     gas    175788    automatic      truck       custom  ...   \n",
       "26857     gas    165178    automatic      truck         grey  ...   \n",
       "27545     gas    190222    automatic      sedan       silver  ...   \n",
       "29066     gas     91776    automatic        suv       silver  ...   \n",
       "29884     gas    115000    automatic     pickup         grey  ...   \n",
       "30941     gas     68607    automatic     pickup        black  ...   \n",
       "31042     gas     54000       manual      sedan  unpublished  ...   \n",
       "32039     gas     63778    automatic   mini-van  unpublished  ...   \n",
       "33525     gas    177676    automatic        suv       custom  ...   \n",
       "35232     gas    239199    automatic      sedan          red  ...   \n",
       "35887     gas     30000    automatic     pickup       silver  ...   \n",
       "38406     gas     16505    automatic      sedan        white  ...   \n",
       "38619     gas      8496    automatic  hatchback         grey  ...   \n",
       "38880     gas     24510        other      coupe          red  ...   \n",
       "39666     gas    137252    automatic        suv         blue  ...   \n",
       "40917     gas    152600    automatic        van       custom  ...   \n",
       "41485     gas    238155    automatic      sedan       silver  ...   \n",
       "43110     gas    107000       manual      coupe        black  ...   \n",
       "43119     gas    181000    automatic      coupe       silver  ...   \n",
       "43609     gas     34000    automatic        suv        white  ...   \n",
       "48323     gas    116000    automatic  hatchback         blue  ...   \n",
       "50811     gas    136000    automatic      sedan  unpublished  ...   \n",
       "\n",
       "       model_year_mean   price_group  day_listed_group  Day_of_the_week  \\\n",
       "1235              2009  C 9000-16900            A 0-19                1   \n",
       "1963              2009  C 9000-16900            A 0-19                3   \n",
       "2859              2009      A 1-5000            A 0-19                0   \n",
       "4523              2010      A 1-5000            A 0-19                2   \n",
       "4856              2009  C 9000-16900            A 0-19                4   \n",
       "6061              2009      A 1-5000            A 0-19                2   \n",
       "6492              2009      A 1-5000            A 0-19                1   \n",
       "6971              2009   B 5000-9000            A 0-19                5   \n",
       "9517              2010      A 1-5000            A 0-19                1   \n",
       "9641              2009  C 9000-16900            A 0-19                4   \n",
       "10619             2009      A 1-5000            A 0-19                4   \n",
       "12744             2009      D 16900+            A 0-19                0   \n",
       "13952             2009  C 9000-16900            A 0-19                2   \n",
       "14306             2009      D 16900+            A 0-19                6   \n",
       "15887             2010   B 5000-9000            A 0-19                3   \n",
       "15979             2010      A 1-5000            A 0-19                6   \n",
       "16050             2009  C 9000-16900            A 0-19                1   \n",
       "16448             2009  C 9000-16900            A 0-19                0   \n",
       "17165             2009   B 5000-9000            A 0-19                3   \n",
       "17763             2009  C 9000-16900            A 0-19                4   \n",
       "18879             2009      D 16900+            A 0-19                1   \n",
       "20607             2010  C 9000-16900            A 0-19                1   \n",
       "21037             2009      D 16900+            A 0-19                6   \n",
       "21617             2010      A 1-5000            A 0-19                0   \n",
       "22958             2010   B 5000-9000            A 0-19                5   \n",
       "23895             2009      D 16900+            A 0-19                6   \n",
       "25033             2009  C 9000-16900            A 0-19                1   \n",
       "26539             2009  C 9000-16900            A 0-19                5   \n",
       "26598             2009   B 5000-9000            A 0-19                5   \n",
       "26857             2009  C 9000-16900            A 0-19                0   \n",
       "27545             2010      A 1-5000            A 0-19                0   \n",
       "29066             2009  C 9000-16900            A 0-19                0   \n",
       "29884             2009  C 9000-16900            A 0-19                3   \n",
       "30941             2009      D 16900+            A 0-19                0   \n",
       "31042             2010   B 5000-9000            A 0-19                0   \n",
       "32039             2009  C 9000-16900            A 0-19                6   \n",
       "33525             2009   B 5000-9000            A 0-19                6   \n",
       "35232             2010      A 1-5000            A 0-19                3   \n",
       "35887             2009      D 16900+            A 0-19                0   \n",
       "38406             2010      D 16900+            A 0-19                1   \n",
       "38619             2010      A 1-5000            A 0-19                1   \n",
       "38880             2007      D 16900+            A 0-19                5   \n",
       "39666             2009   B 5000-9000            A 0-19                1   \n",
       "40917             2009      A 1-5000            A 0-19                4   \n",
       "41485             2010      A 1-5000            A 0-19                4   \n",
       "43110             2007  C 9000-16900            A 0-19                0   \n",
       "43119             2007      A 1-5000            A 0-19                1   \n",
       "43609             2009      D 16900+            A 0-19                6   \n",
       "48323             2010  C 9000-16900            A 0-19                6   \n",
       "50811             2010      A 1-5000            A 0-19                0   \n",
       "\n",
       "       month  year age  age_group  mileage_per_year  mileage_per_year_group  \n",
       "1235       5  2018  11     C 8-12       8481.818182          B 7,831-13,760  \n",
       "1963       9  2018  20      D 13+       6875.000000               A 0-7,830  \n",
       "2859       8  2018  15      D 13+      16666.666667         C 13,761-20,870  \n",
       "4523       7  2018  12     C 8-12      18583.333333         C 13,761-20,870  \n",
       "4856       5  2018  18      D 13+       5549.555556               A 0-7,830  \n",
       "6061      10  2018  16      D 13+      13466.062500          B 7,831-13,760  \n",
       "6492       9  2018  12     C 8-12      12700.000000          B 7,831-13,760  \n",
       "6971       7  2018  12     C 8-12        599.083333               A 0-7,830  \n",
       "9517       3  2019   8     C 8-12      15625.000000         C 13,761-20,870  \n",
       "9641       9  2018  16      D 13+       5628.000000               A 0-7,830  \n",
       "10619      7  2018  19      D 13+      11105.263158          B 7,831-13,760  \n",
       "12744      3  2019   6      B 5-7       6182.166667               A 0-7,830  \n",
       "13952      2  2019  15      D 13+        610.000000               A 0-7,830  \n",
       "14306      9  2018   8     C 8-12       9433.125000          B 7,831-13,760  \n",
       "15887      5  2018   5      B 5-7      24200.000000               D 20,871+  \n",
       "15979      1  2019   7      B 5-7        560.142857               A 0-7,830  \n",
       "16050      7  2018  11     C 8-12        594.090909               A 0-7,830  \n",
       "16448      6  2018  10     C 8-12      12097.100000          B 7,831-13,760  \n",
       "17165      7  2018  10     C 8-12      14200.000000         C 13,761-20,870  \n",
       "17763      3  2019  11     C 8-12      11513.636364          B 7,831-13,760  \n",
       "18879      8  2018   8     C 8-12      14625.000000         C 13,761-20,870  \n",
       "20607     10  2018   2      A 0-4      36000.000000               D 20,871+  \n",
       "21037      9  2018  10     C 8-12       4567.700000               A 0-7,830  \n",
       "21617      8  2018   9     C 8-12      15555.555556         C 13,761-20,870  \n",
       "22958      3  2019   7      B 5-7      14638.000000         C 13,761-20,870  \n",
       "23895      5  2018   1      A 0-4       7985.000000          B 7,831-13,760  \n",
       "25033      4  2019  12     C 8-12      19083.333333         C 13,761-20,870  \n",
       "26539      8  2018  13      D 13+       7826.923077               A 0-7,830  \n",
       "26598      2  2019  15      D 13+      11719.200000          B 7,831-13,760  \n",
       "26857      3  2019  10     C 8-12      16517.800000         C 13,761-20,870  \n",
       "27545     12  2018  10     C 8-12      19022.200000         C 13,761-20,870  \n",
       "29066      8  2018   5      B 5-7      18355.200000         C 13,761-20,870  \n",
       "29884      4  2019  14      D 13+       8214.285714          B 7,831-13,760  \n",
       "30941     12  2018   5      B 5-7      13721.400000          B 7,831-13,760  \n",
       "31042      9  2018   5      B 5-7      10800.000000          B 7,831-13,760  \n",
       "32039      9  2018   6      B 5-7      10629.666667          B 7,831-13,760  \n",
       "33525      9  2018  10     C 8-12      17767.600000         C 13,761-20,870  \n",
       "35232      8  2018  27      D 13+       8859.222222          B 7,831-13,760  \n",
       "35887      1  2019   2      A 0-4      15000.000000         C 13,761-20,870  \n",
       "38406      6  2018   1      A 0-4      16505.000000         C 13,761-20,870  \n",
       "38619      5  2018  14      D 13+        606.857143               A 0-7,830  \n",
       "38880      3  2019   3      A 0-4       8170.000000          B 7,831-13,760  \n",
       "39666      7  2018  16      D 13+       8578.250000          B 7,831-13,760  \n",
       "40917     11  2018  19      D 13+       8031.578947          B 7,831-13,760  \n",
       "41485      9  2018  17      D 13+      14009.117647         C 13,761-20,870  \n",
       "43110      7  2018  32      D 13+       3343.750000               A 0-7,830  \n",
       "43119     10  2018  16      D 13+      11312.500000          B 7,831-13,760  \n",
       "43609      8  2018   6      B 5-7       5666.666667               A 0-7,830  \n",
       "48323      8  2018   4      A 0-4      29000.000000               D 20,871+  \n",
       "50811     10  2018  15      D 13+       9066.666667          B 7,831-13,760  \n",
       "\n",
       "[50 rows x 24 columns]"
      ]
     },
     "execution_count": 81,
     "metadata": {},
     "output_type": "execute_result"
    }
   ],
   "source": [
    "#Lets check ads listed 0 or 1 day only. Is something common to them?\n",
    "df.query(\"days_listed <1\")"
   ]
  },
  {
   "cell_type": "code",
   "execution_count": 82,
   "metadata": {},
   "outputs": [],
   "source": [
    "#nothing pop out. It is impossible to advertise and delete the ad the same day. It must be publication error\n",
    "#I will delete them\n",
    "df=df.loc[df[\"days_listed\"]!=0]"
   ]
  },
  {
   "cell_type": "markdown",
   "metadata": {},
   "source": [
    "<div class=\"alert alert-success\" style=\"box-shadow: 4px 4px 4px\">\n",
    "Success: sometimes people change their minds too quickly 😂  \n",
    "</div>"
   ]
  },
  {
   "cell_type": "code",
   "execution_count": 83,
   "metadata": {},
   "outputs": [
    {
     "data": {
      "text/plain": [
       "count    49258.000000\n",
       "mean        39.573166\n",
       "std         28.168009\n",
       "min          1.000000\n",
       "25%         19.000000\n",
       "50%         33.000000\n",
       "75%         53.000000\n",
       "max        271.000000\n",
       "Name: days_listed, dtype: float64"
      ]
     },
     "execution_count": 83,
     "metadata": {},
     "output_type": "execute_result"
    }
   ],
   "source": [
    "df[\"days_listed\"].describe()"
   ]
  },
  {
   "cell_type": "code",
   "execution_count": 84,
   "metadata": {},
   "outputs": [
    {
     "data": {
      "image/png": "[encoded data removed]",
      "text/plain": [
       "<Figure size 360x360 with 1 Axes>"
      ]
     },
     "metadata": {
      "needs_background": "light"
     },
     "output_type": "display_data"
    }
   ],
   "source": [
    "#finding the outliers: first the box graph\n",
    "df[\"days_listed\"].plot(kind=\"box\",figsize=(5,5));"
   ]
  },
  {
   "cell_type": "code",
   "execution_count": 85,
   "metadata": {},
   "outputs": [
    {
     "data": {
      "text/plain": [
       "104.0"
      ]
     },
     "execution_count": 85,
     "metadata": {},
     "output_type": "execute_result"
    }
   ],
   "source": [
    "#finding the upper limit:\n",
    "#(75%-25%)*1.5+75%\n",
    "upper_limit=(53-19)*1.5+53\n",
    "upper_limit"
   ]
  },
  {
   "cell_type": "code",
   "execution_count": 86,
   "metadata": {},
   "outputs": [
    {
     "data": {
      "image/png": "[encoded data removed]",
      "text/plain": [
       "<Figure size 576x576 with 1 Axes>"
      ]
     },
     "metadata": {
      "needs_background": "light"
     },
     "output_type": "display_data"
    }
   ],
   "source": [
    "#verify in thr graph\n",
    "df[\"days_listed\"].plot(kind=\"box\",figsize=(8,8),grid=True,ylim=(100,110));"
   ]
  },
  {
   "cell_type": "code",
   "execution_count": 87,
   "metadata": {},
   "outputs": [],
   "source": [
    "#there is outliers above 104, its more than three months, I'll move them to other dataset and delete them\n",
    "too_long_days_listed=df.query(\"days_listed >=104\")\n",
    "df=df.loc[(df[\"days_listed\"] < 104)]"
   ]
  },
  {
   "cell_type": "markdown",
   "metadata": {},
   "source": [
    "<div class=\"alert alert-success\" style=\"box-shadow: 4px 4px 4px\">\n",
    "Success: Agree. For a more accurate analysis, it is always necessary to remove outliers.\n",
    "</div>"
   ]
  },
  {
   "cell_type": "markdown",
   "metadata": {},
   "source": [
    "## Checking the hist again"
   ]
  },
  {
   "cell_type": "code",
   "execution_count": 88,
   "metadata": {},
   "outputs": [
    {
     "data": {
      "image/png": "[encoded data removed]",
      "text/plain": [
       "<Figure size 576x360 with 6 Axes>"
      ]
     },
     "metadata": {
      "needs_background": "light"
     },
     "output_type": "display_data"
    }
   ],
   "source": [
    "#all the hist again:\n",
    "for t in [[\"price\",\"age\",\"odometer\",\"cylinders\",\"condition\"]]:\n",
    "    df[t].hist(bins=25,figsize=(8,5));"
   ]
  },
  {
   "cell_type": "markdown",
   "metadata": {},
   "source": [
    "<div class=\"alert alert-success\" style=\"box-shadow: 4px 4px 4px\">\n",
    "    Success: again, great that loops were used! Please, don't forget to read some info about subplots\n",
    "</div>"
   ]
  },
  {
   "cell_type": "markdown",
   "metadata": {},
   "source": [
    "## number of ads and the average price for each type of vehicle"
   ]
  },
  {
   "cell_type": "code",
   "execution_count": 89,
   "metadata": {},
   "outputs": [],
   "source": [
    "#Analyze the number of ads and the average price for each type of vehicle. \n",
    "#Plot a graph showing the dependence of the number of ads on the vehicle type. \n",
    "#Select the two types with the greatest number of ads. \""
   ]
  },
  {
   "cell_type": "code",
   "execution_count": 90,
   "metadata": {},
   "outputs": [
    {
     "data": {
      "text/html": [
       "<div>\n",
       "<style scoped>\n",
       "    .dataframe tbody tr th:only-of-type {\n",
       "        vertical-align: middle;\n",
       "    }\n",
       "\n",
       "    .dataframe tbody tr th {\n",
       "        vertical-align: top;\n",
       "    }\n",
       "\n",
       "    .dataframe thead th {\n",
       "        text-align: right;\n",
       "    }\n",
       "</style>\n",
       "<table border=\"1\" class=\"dataframe\">\n",
       "  <thead>\n",
       "    <tr style=\"text-align: right;\">\n",
       "      <th></th>\n",
       "      <th>number_of_ads</th>\n",
       "      <th>average_price</th>\n",
       "    </tr>\n",
       "    <tr>\n",
       "      <th>type</th>\n",
       "      <th></th>\n",
       "      <th></th>\n",
       "    </tr>\n",
       "  </thead>\n",
       "  <tbody>\n",
       "    <tr>\n",
       "      <th>bus</th>\n",
       "      <td>24</td>\n",
       "      <td>17135.666667</td>\n",
       "    </tr>\n",
       "    <tr>\n",
       "      <th>convertible</th>\n",
       "      <td>383</td>\n",
       "      <td>13940.305483</td>\n",
       "    </tr>\n",
       "    <tr>\n",
       "      <th>coupe</th>\n",
       "      <td>2046</td>\n",
       "      <td>14114.428641</td>\n",
       "    </tr>\n",
       "    <tr>\n",
       "      <th>hatchback</th>\n",
       "      <td>972</td>\n",
       "      <td>6788.679012</td>\n",
       "    </tr>\n",
       "    <tr>\n",
       "      <th>mini-van</th>\n",
       "      <td>1078</td>\n",
       "      <td>8213.280148</td>\n",
       "    </tr>\n",
       "    <tr>\n",
       "      <th>offroad</th>\n",
       "      <td>197</td>\n",
       "      <td>14251.340102</td>\n",
       "    </tr>\n",
       "    <tr>\n",
       "      <th>other</th>\n",
       "      <td>233</td>\n",
       "      <td>10869.858369</td>\n",
       "    </tr>\n",
       "    <tr>\n",
       "      <th>pickup</th>\n",
       "      <td>6459</td>\n",
       "      <td>16110.962843</td>\n",
       "    </tr>\n",
       "    <tr>\n",
       "      <th>sedan</th>\n",
       "      <td>11243</td>\n",
       "      <td>6931.660411</td>\n",
       "    </tr>\n",
       "    <tr>\n",
       "      <th>suv</th>\n",
       "      <td>11496</td>\n",
       "      <td>11171.776009</td>\n",
       "    </tr>\n",
       "    <tr>\n",
       "      <th>truck</th>\n",
       "      <td>11501</td>\n",
       "      <td>16814.558212</td>\n",
       "    </tr>\n",
       "    <tr>\n",
       "      <th>van</th>\n",
       "      <td>582</td>\n",
       "      <td>10150.599656</td>\n",
       "    </tr>\n",
       "    <tr>\n",
       "      <th>wagon</th>\n",
       "      <td>1422</td>\n",
       "      <td>9124.490155</td>\n",
       "    </tr>\n",
       "  </tbody>\n",
       "</table>\n",
       "</div>"
      ],
      "text/plain": [
       "             number_of_ads  average_price\n",
       "type                                     \n",
       "bus                     24   17135.666667\n",
       "convertible            383   13940.305483\n",
       "coupe                 2046   14114.428641\n",
       "hatchback              972    6788.679012\n",
       "mini-van              1078    8213.280148\n",
       "offroad                197   14251.340102\n",
       "other                  233   10869.858369\n",
       "pickup                6459   16110.962843\n",
       "sedan                11243    6931.660411\n",
       "suv                  11496   11171.776009\n",
       "truck                11501   16814.558212\n",
       "van                    582   10150.599656\n",
       "wagon                 1422    9124.490155"
      ]
     },
     "execution_count": 90,
     "metadata": {},
     "output_type": "execute_result"
    }
   ],
   "source": [
    "table_type = df.pivot_table(index=\"type\",values=\"price\",aggfunc=[\"count\", \"mean\"])\n",
    "table_type.columns=[\"number_of_ads\",\"average_price\"]\n",
    "table_type"
   ]
  },
  {
   "cell_type": "code",
   "execution_count": 91,
   "metadata": {},
   "outputs": [
    {
     "data": {
      "image/png": "[encoded data removed]",
      "text/plain": [
       "<Figure size 864x720 with 1 Axes>"
      ]
     },
     "metadata": {
      "needs_background": "light"
     },
     "output_type": "display_data"
    }
   ],
   "source": [
    "table_type[\"number_of_ads\"].plot(kind=\"bar\",by=\"type\", figsize=(12,10));"
   ]
  },
  {
   "cell_type": "code",
   "execution_count": 92,
   "metadata": {},
   "outputs": [
    {
     "data": {
      "image/png": "[encoded data removed]",
      "text/plain": [
       "<Figure size 576x432 with 1 Axes>"
      ]
     },
     "metadata": {
      "needs_background": "light"
     },
     "output_type": "display_data"
    }
   ],
   "source": [
    "#Select the two types with the greatest number of ads\"\n",
    "table_type.query(\"type in ['suv','truck']\")[\"number_of_ads\"].plot(kind=\"bar\",by=\"type\", figsize=(8,6));"
   ]
  },
  {
   "cell_type": "markdown",
   "metadata": {},
   "source": [
    "<div class=\"alert alert-success\" style=\"box-shadow: 4px 4px 4px\">\n",
    "    Success: correct!\n",
    "</div>"
   ]
  },
  {
   "cell_type": "markdown",
   "metadata": {},
   "source": [
    "### What factors impact the price most? \n",
    "1. Take each of the popular types you detected at the previous stage and study whether the price depends on\n",
    "2. age, mileage, condition, transmission type, and color. \n",
    "3. For categorical variables (transmission type and color), plot box-and-whisker charts, \n",
    "4. and create scatterplots for the rest. \n",
    "5. When analyzing categorical variables, note that the categories must have at least 50 ads; \n",
    "> otherwise, their parameters won't be valid for analysis"
   ]
  },
  {
   "cell_type": "markdown",
   "metadata": {},
   "source": [
    "<div class=\"alert alert-success\" style=\"box-shadow: 4px 4px 4px\">\n",
    "    Success: it sounds like a great plan!\n",
    "</div>"
   ]
  },
  {
   "cell_type": "code",
   "execution_count": 93,
   "metadata": {},
   "outputs": [],
   "source": [
    "# separating the trucks and SUV each in separate data set\n",
    "data_truck = df.query(\"type == 'truck'\")\n",
    "data_suv = df.query(\"type == 'suv'\")\n",
    "#list of numeric variables\n",
    "numeric_featurs = [\"age\",\"odometer\",\"condition\"]\n",
    "categorical_featurs = [\"transmition\", \"paint_color\"]\n",
    "numeric_featurs1 = [\"price\",\"age\",\"odometer\",\"condition\"]"
   ]
  },
  {
   "cell_type": "markdown",
   "metadata": {},
   "source": [
    "#### Trucks"
   ]
  },
  {
   "cell_type": "code",
   "execution_count": 94,
   "metadata": {},
   "outputs": [
    {
     "data": {
      "image/png": "[encoded data removed]",
      "text/plain": [
       "<Figure size 648x648 with 16 Axes>"
      ]
     },
     "metadata": {
      "needs_background": "light"
     },
     "output_type": "display_data"
    }
   ],
   "source": [
    "#getting the big picture\n",
    "pd.plotting.scatter_matrix(data_truck[numeric_featurs1],figsize=(9,9));"
   ]
  },
  {
   "cell_type": "markdown",
   "metadata": {},
   "source": [
    "<div class=\"alert alert-success\" style=\"box-shadow: 4px 4px 4px\">\n",
    "    Success: amazing that scatter_matrix was used!\n",
    "</div>"
   ]
  },
  {
   "cell_type": "code",
   "execution_count": 95,
   "metadata": {},
   "outputs": [
    {
     "data": {
      "image/png": "[encoded data removed]",
      "text/plain": [
       "<Figure size 576x432 with 1 Axes>"
      ]
     },
     "metadata": {
      "needs_background": "light"
     },
     "output_type": "display_data"
    },
    {
     "data": {
      "image/png": "[encoded data removed]",
      "text/plain": [
       "<Figure size 576x432 with 1 Axes>"
      ]
     },
     "metadata": {
      "needs_background": "light"
     },
     "output_type": "display_data"
    },
    {
     "data": {
      "image/png": "[encoded data removed]",
      "text/plain": [
       "<Figure size 576x432 with 1 Axes>"
      ]
     },
     "metadata": {
      "needs_background": "light"
     },
     "output_type": "display_data"
    }
   ],
   "source": [
    "#plotting scatter plot for each numeric variable against the price\n",
    "for pl in numeric_featurs:\n",
    "    data_truck.plot(kind=\"scatter\",x=pl,y=\"price\",grid=True,alpha=0.25,figsize=(8,6));"
   ]
  },
  {
   "cell_type": "markdown",
   "metadata": {},
   "source": [
    "<div class=\"alert alert-success\" style=\"box-shadow: 4px 4px 4px\">\n",
    "    Success: it is always important to automize your work!\n",
    "</div>"
   ]
  },
  {
   "cell_type": "code",
   "execution_count": 96,
   "metadata": {},
   "outputs": [
    {
     "data": {
      "image/png": "[encoded data removed]",
      "text/plain": [
       "<Figure size 864x360 with 1 Axes>"
      ]
     },
     "metadata": {
      "needs_background": "light"
     },
     "output_type": "display_data"
    }
   ],
   "source": [
    "#comparing the color to the price\n",
    "data_truck.plot(kind=\"scatter\",x=\"paint_color\",y=\"price\",figsize=(12,5),alpha=0.25);"
   ]
  },
  {
   "cell_type": "code",
   "execution_count": 97,
   "metadata": {},
   "outputs": [
    {
     "data": {
      "image/png": "[encoded data removed]",
      "text/plain": [
       "<Figure size 216x360 with 1 Axes>"
      ]
     },
     "metadata": {
      "needs_background": "light"
     },
     "output_type": "display_data"
    }
   ],
   "source": [
    "#comparing the transmission to the price\n",
    "data_truck.plot(kind=\"scatter\",x=\"transmission\",y=\"price\",figsize=(3,5),alpha=0.25);"
   ]
  },
  {
   "cell_type": "code",
   "execution_count": 98,
   "metadata": {},
   "outputs": [
    {
     "data": {
      "image/png": "[encoded data removed]",
      "text/plain": [
       "<Figure size 216x360 with 1 Axes>"
      ]
     },
     "metadata": {
      "needs_background": "light"
     },
     "output_type": "display_data"
    }
   ],
   "source": [
    "#looking at the price box plot\n",
    "data_truck.plot(kind=\"box\",y=\"price\",grid=True,figsize=(3,5));"
   ]
  },
  {
   "cell_type": "markdown",
   "metadata": {},
   "source": [
    "**conclusion**\n",
    ">1. In numeric variable the is a negative correlation to the price on age and odometer. \n",
    ">2. On condition, most outliers is on \"good\" condition. The description of \"good\" condition is misleading, it is hard to know that \"good\" is in the middle and maybe by mistake gave it more credit that it deserve.\n",
    ">3. on categorical variable, on transmission, most of the outliers are on automatic transmission because most of the data are there.\n",
    ">4. on body color, some colors doesn't show outliers, because these colors are rare: brown, orange, yellow and purple"
   ]
  },
  {
   "cell_type": "markdown",
   "metadata": {},
   "source": [
    "<div class=\"alert alert-success\" style=\"box-shadow: 4px 4px 4px\">\n",
    "Success: Agree\n",
    "</div>"
   ]
  },
  {
   "cell_type": "markdown",
   "metadata": {},
   "source": [
    "#### SUV"
   ]
  },
  {
   "cell_type": "code",
   "execution_count": 99,
   "metadata": {},
   "outputs": [
    {
     "data": {
      "image/png": "[encoded data removed]",
      "text/plain": [
       "<Figure size 648x648 with 16 Axes>"
      ]
     },
     "metadata": {
      "needs_background": "light"
     },
     "output_type": "display_data"
    }
   ],
   "source": [
    "#getting the big picture\n",
    "pd.plotting.scatter_matrix(data_suv[numeric_featurs1],figsize=(9,9));"
   ]
  },
  {
   "cell_type": "markdown",
   "metadata": {},
   "source": [
    "<div class=\"alert alert-success\" style=\"box-shadow: 4px 4px 4px\">\n",
    "    Success: as I said previously, amazing that scatter_matrix was used!\n",
    "</div>"
   ]
  },
  {
   "cell_type": "code",
   "execution_count": 100,
   "metadata": {},
   "outputs": [
    {
     "data": {
      "image/png": "[encoded data removed]",
      "text/plain": [
       "<Figure size 576x432 with 1 Axes>"
      ]
     },
     "metadata": {
      "needs_background": "light"
     },
     "output_type": "display_data"
    },
    {
     "data": {
      "image/png": "[encoded data removed]",
      "text/plain": [
       "<Figure size 576x432 with 1 Axes>"
      ]
     },
     "metadata": {
      "needs_background": "light"
     },
     "output_type": "display_data"
    },
    {
     "data": {
      "image/png": "[encoded data removed]",
      "text/plain": [
       "<Figure size 576x432 with 1 Axes>"
      ]
     },
     "metadata": {
      "needs_background": "light"
     },
     "output_type": "display_data"
    }
   ],
   "source": [
    "#plotting scatter plot for each numeric variable against the price\n",
    "for pl in numeric_featurs:\n",
    "    data_suv.plot(kind=\"scatter\",x=pl,y=\"price\",grid=True,alpha=0.25,figsize=(8,6));"
   ]
  },
  {
   "cell_type": "markdown",
   "metadata": {},
   "source": [
    "<div class=\"alert alert-success\" style=\"box-shadow: 4px 4px 4px\">\n",
    "    Success: great that automation was used!\n",
    "</div>"
   ]
  },
  {
   "cell_type": "code",
   "execution_count": 101,
   "metadata": {},
   "outputs": [
    {
     "data": {
      "image/png": "[encoded data removed]",
      "text/plain": [
       "<Figure size 864x360 with 1 Axes>"
      ]
     },
     "metadata": {
      "needs_background": "light"
     },
     "output_type": "display_data"
    }
   ],
   "source": [
    "#comparing the color to the price\n",
    "data_suv.plot(kind=\"scatter\",x=\"paint_color\",y=\"price\",figsize=(12,5),alpha=0.25);"
   ]
  },
  {
   "cell_type": "code",
   "execution_count": 102,
   "metadata": {},
   "outputs": [
    {
     "data": {
      "image/png": "[encoded data removed]",
      "text/plain": [
       "<Figure size 216x360 with 1 Axes>"
      ]
     },
     "metadata": {
      "needs_background": "light"
     },
     "output_type": "display_data"
    }
   ],
   "source": [
    "#comparing the transmission to the price\n",
    "data_suv.plot(kind=\"scatter\",x=\"transmission\",y=\"price\",figsize=(3,5),alpha=0.25);"
   ]
  },
  {
   "cell_type": "code",
   "execution_count": 103,
   "metadata": {},
   "outputs": [
    {
     "data": {
      "image/png": "[encoded data removed]",
      "text/plain": [
       "<Figure size 216x360 with 1 Axes>"
      ]
     },
     "metadata": {
      "needs_background": "light"
     },
     "output_type": "display_data"
    }
   ],
   "source": [
    "#looking at the price box plot\n",
    "data_truck.plot(kind=\"box\",y=\"price\",grid=True,figsize=(3,5));"
   ]
  },
  {
   "cell_type": "markdown",
   "metadata": {},
   "source": [
    "**conclusion**\n",
    "\n",
    "In the SUV's category, the finding are different from the trucks. It tell us that types behave differently and should be tried apart from the others\n",
    ">1. In numeric variable the is a negative correlation to the price on age and odometer. \n",
    ">2. On condition, most outliers is on \"excellent\" condition not the \"good\" as trucks).\n",
    ">3. on categorical variable, on transmission, most of the outliers are on automatic transmission because most of the data are there.\n",
    ">4. on body color, there is no different behavior like in the trucks"
   ]
  },
  {
   "cell_type": "markdown",
   "metadata": {},
   "source": [
    "<div class=\"alert alert-success\" style=\"box-shadow: 4px 4px 4px\">\n",
    "Success: 👍 \n",
    "</div>"
   ]
  },
  {
   "cell_type": "markdown",
   "metadata": {},
   "source": [
    "## Overall conclusion"
   ]
  },
  {
   "cell_type": "markdown",
   "metadata": {},
   "source": [
    "I checked the data set of advertisements list. I started with getting to understand the data, then started data preprocessing, fixing missing data, changing the type of the data and make sure  no duplicate exist. I added columns to the table: day of the week, month, and year the ad was placed, day of the week, month, and year the ad was placed, the vehicle's average mileage per year. As I did the EDA, I checked connection between variables as price, remove outliers from the main table to other tables. I concentrated on the two most common car types in the list: trucks and SUVs. For each, I tried to understand the correlation between parameters and price.\n",
    "I then found out that each group price derive from different parameters."
   ]
  },
  {
   "cell_type": "markdown",
   "metadata": {},
   "source": [
    "<div class=\"alert alert-success\" style=\"box-shadow: 4px 4px 4px\">\n",
    "Success: Correct conclusion!\n",
    "</div>"
   ]
  },
  {
   "cell_type": "markdown",
   "metadata": {},
   "source": [
    "# Project completion checklist\n",
    "\n",
    "Mark the completed tasks with 'x'. Then press Shift+Enter."
   ]
  },
  {
   "cell_type": "markdown",
   "metadata": {},
   "source": [
    "- [x]  file opened\n",
    "- [x]  files explored (first rows printed, info() method)\n",
    "- [x]  missing values determined\n",
    "- [x]  missing values filled in\n",
    "- [x]  clarification of the discovered missing values provided\n",
    "- [x]  data types converted\n",
    "- [x]  explanation of which columns had the data types changed and why\n",
    "- [x]  calculated and added to the table: day of the week, month, and year the ad was placed\n",
    "- [x]  calculated and added to the table: the vehicle's age (in years) when the ad was placed\n",
    "- [x]  calculated and added to the table: the vehicle's average mileage per year\n",
    "- [X]  the following parameters investigated: price, vehicle's age when the ad was placed, mileage, number of cylinders, and condition\n",
    "- [x]  histograms for each parameter created\n",
    "- [x]  task completed: \"Determine the upper limits of outliers, remove the outliers and store them in a separate DataFrame, and continue your work with the filtered data.\"\n",
    "- [x]  task completed: \"Use the filtered data to plot new histograms. Compare them with the earlier histograms (the ones that included outliers). Draw conclusions for each histogram.\"\n",
    "- [x]  task completed: \"Study how many days advertisements were displayed (days_listed). Plot a histogram. Calculate the mean and median. Describe the typical lifetime of an ad. Determine when ads were removed quickly, and when they were listed for an abnormally long time.  \"\n",
    "- [X]  task completed: \"Analyze the number of ads and the average price for each type of vehicle. Plot a graph showing the dependence of the number of ads on the vehicle type. Select the two types with the greatest number of ads. \"\n",
    "- [x]  task completed: \"What factors impact the price most? Take each of the popular types you detected at the previous stage and study whether the price depends on age, mileage, condition, transmission type, and color. For categorical variables (transmission type and color), plot box-and-whisker charts, and create scatterplots for the rest. When analyzing categorical variables, note that the categories must have at least 50 ads; otherwise, their parameters won't be valid for analysis.  \"\n",
    "- [x]  each stage has a conclusion\n",
    "- [x]  overall conclusion drawn"
   ]
  },
  {
   "cell_type": "code",
   "execution_count": null,
   "metadata": {},
   "outputs": [],
   "source": []
  }
 ],
 "metadata": {
  "ExecuteTimeLog": [
   {
    "duration": 740,
    "start_time": "2021-06-22T20:08:22.347Z"
   },
   {
    "duration": 372,
    "start_time": "2021-06-22T20:11:30.198Z"
   },
   {
    "duration": 4011,
    "start_time": "2021-06-22T20:11:34.571Z"
   },
   {
    "duration": 281,
    "start_time": "2021-06-22T20:11:45.969Z"
   },
   {
    "duration": 27,
    "start_time": "2021-06-22T20:11:49.693Z"
   },
   {
    "duration": 35,
    "start_time": "2021-06-22T20:11:59.566Z"
   },
   {
    "duration": 6,
    "start_time": "2021-06-22T20:18:13.613Z"
   },
   {
    "duration": 23,
    "start_time": "2021-06-22T20:22:39.780Z"
   },
   {
    "duration": 25,
    "start_time": "2021-06-22T20:23:20.260Z"
   },
   {
    "duration": 25,
    "start_time": "2021-06-22T20:24:23.606Z"
   },
   {
    "duration": 31,
    "start_time": "2021-06-22T20:24:33.230Z"
   },
   {
    "duration": 290,
    "start_time": "2021-06-22T20:25:42.184Z"
   },
   {
    "duration": 23,
    "start_time": "2021-06-22T20:25:55.519Z"
   },
   {
    "duration": 10,
    "start_time": "2021-06-22T20:26:00.398Z"
   },
   {
    "duration": 324,
    "start_time": "2021-06-22T20:27:48.272Z"
   },
   {
    "duration": 32,
    "start_time": "2021-06-22T20:28:02.377Z"
   },
   {
    "duration": 23,
    "start_time": "2021-06-22T20:29:02.474Z"
   },
   {
    "duration": 32,
    "start_time": "2021-06-22T20:29:09.250Z"
   },
   {
    "duration": 101,
    "start_time": "2021-06-22T20:30:08.388Z"
   },
   {
    "duration": 39,
    "start_time": "2021-06-22T20:30:27.788Z"
   },
   {
    "duration": 34,
    "start_time": "2021-06-22T20:33:00.982Z"
   },
   {
    "duration": 26,
    "start_time": "2021-06-22T20:35:02.625Z"
   },
   {
    "duration": 25,
    "start_time": "2021-06-22T20:36:48.699Z"
   },
   {
    "duration": 8,
    "start_time": "2021-06-22T20:40:02.024Z"
   },
   {
    "duration": 23,
    "start_time": "2021-06-22T20:42:46.024Z"
   },
   {
    "duration": 8,
    "start_time": "2021-06-22T20:44:53.194Z"
   },
   {
    "duration": 9,
    "start_time": "2021-06-22T20:44:54.994Z"
   },
   {
    "duration": 7,
    "start_time": "2021-06-22T20:45:12.786Z"
   },
   {
    "duration": 8,
    "start_time": "2021-06-22T20:47:20.850Z"
   },
   {
    "duration": 6,
    "start_time": "2021-06-22T20:47:23.071Z"
   },
   {
    "duration": 14,
    "start_time": "2021-06-22T20:50:28.873Z"
   },
   {
    "duration": 297,
    "start_time": "2021-06-22T20:50:40.936Z"
   },
   {
    "duration": 26,
    "start_time": "2021-06-22T20:50:47.936Z"
   },
   {
    "duration": 27,
    "start_time": "2021-06-22T20:51:57.876Z"
   },
   {
    "duration": 7,
    "start_time": "2021-06-22T20:52:08.537Z"
   },
   {
    "duration": 26,
    "start_time": "2021-06-22T20:52:09.865Z"
   },
   {
    "duration": 49,
    "start_time": "2021-06-22T20:52:31.730Z"
   },
   {
    "duration": 27,
    "start_time": "2021-06-22T20:54:28.020Z"
   },
   {
    "duration": 12,
    "start_time": "2021-06-22T21:00:08.998Z"
   },
   {
    "duration": 34,
    "start_time": "2021-06-22T21:01:16.842Z"
   },
   {
    "duration": 24,
    "start_time": "2021-06-22T21:02:19.891Z"
   },
   {
    "duration": 31,
    "start_time": "2021-06-22T21:02:32.541Z"
   },
   {
    "duration": 23,
    "start_time": "2021-06-22T21:03:17.742Z"
   },
   {
    "duration": 267,
    "start_time": "2021-06-22T21:08:37.578Z"
   },
   {
    "duration": 24,
    "start_time": "2021-06-22T21:08:59.162Z"
   },
   {
    "duration": 26,
    "start_time": "2021-06-22T21:09:28.994Z"
   },
   {
    "duration": 27,
    "start_time": "2021-06-22T21:10:42.387Z"
   },
   {
    "duration": 25,
    "start_time": "2021-06-22T21:11:33.140Z"
   },
   {
    "duration": 29,
    "start_time": "2021-06-22T21:11:55.597Z"
   },
   {
    "duration": 339,
    "start_time": "2021-06-22T21:12:26.373Z"
   },
   {
    "duration": 291,
    "start_time": "2021-06-22T21:13:14.191Z"
   },
   {
    "duration": 6,
    "start_time": "2021-06-22T21:13:51.967Z"
   },
   {
    "duration": 287,
    "start_time": "2021-06-22T21:14:04.855Z"
   },
   {
    "duration": 6,
    "start_time": "2021-06-22T21:14:37.569Z"
   },
   {
    "duration": 276,
    "start_time": "2021-06-22T21:15:01.432Z"
   },
   {
    "duration": 304,
    "start_time": "2021-06-22T21:15:17.576Z"
   },
   {
    "duration": 277,
    "start_time": "2021-06-22T21:15:58.153Z"
   },
   {
    "duration": 23,
    "start_time": "2021-06-22T21:16:06.361Z"
   },
   {
    "duration": 23,
    "start_time": "2021-06-22T21:16:28.770Z"
   },
   {
    "duration": 295,
    "start_time": "2021-06-22T21:19:50.796Z"
   },
   {
    "duration": 23,
    "start_time": "2021-06-22T21:20:02.453Z"
   },
   {
    "duration": 7,
    "start_time": "2021-06-22T21:26:15.260Z"
   },
   {
    "duration": 272,
    "start_time": "2021-06-22T21:26:27.052Z"
   },
   {
    "duration": 6333,
    "start_time": "2021-06-22T21:29:40.008Z"
   },
   {
    "duration": 18,
    "start_time": "2021-06-22T21:30:00.328Z"
   },
   {
    "duration": 305,
    "start_time": "2021-06-22T21:30:10.850Z"
   },
   {
    "duration": 24,
    "start_time": "2021-06-22T21:30:32.872Z"
   },
   {
    "duration": 28,
    "start_time": "2021-06-22T21:30:39.647Z"
   },
   {
    "duration": 25,
    "start_time": "2021-06-22T21:31:27.106Z"
   },
   {
    "duration": 100,
    "start_time": "2021-06-22T21:35:26.158Z"
   },
   {
    "duration": 258,
    "start_time": "2021-06-22T21:35:37.172Z"
   },
   {
    "duration": 24,
    "start_time": "2021-06-22T21:36:15.236Z"
   },
   {
    "duration": 287,
    "start_time": "2021-06-22T21:36:51.006Z"
   },
   {
    "duration": 27,
    "start_time": "2021-06-22T21:37:32.959Z"
   },
   {
    "duration": 45,
    "start_time": "2021-06-22T21:38:03.169Z"
   },
   {
    "duration": 44,
    "start_time": "2021-06-22T21:39:13.873Z"
   },
   {
    "duration": 42,
    "start_time": "2021-06-22T21:39:27.914Z"
   },
   {
    "duration": 23,
    "start_time": "2021-06-22T21:41:33.874Z"
   },
   {
    "duration": 7,
    "start_time": "2021-06-22T21:41:55.547Z"
   },
   {
    "duration": 15,
    "start_time": "2021-06-22T21:53:41.491Z"
   },
   {
    "duration": 7,
    "start_time": "2021-06-22T21:53:50.334Z"
   },
   {
    "duration": 22,
    "start_time": "2021-06-22T21:54:47.552Z"
   },
   {
    "duration": 33,
    "start_time": "2021-06-22T21:55:00.803Z"
   },
   {
    "duration": 56,
    "start_time": "2021-06-22T21:56:48.163Z"
   },
   {
    "duration": 26,
    "start_time": "2021-06-22T21:56:57.555Z"
   },
   {
    "duration": 32,
    "start_time": "2021-06-22T21:57:29.080Z"
   },
   {
    "duration": 27,
    "start_time": "2021-06-22T21:57:33.675Z"
   },
   {
    "duration": 26,
    "start_time": "2021-06-22T22:02:02.559Z"
   },
   {
    "duration": 8,
    "start_time": "2021-06-22T22:03:50.353Z"
   },
   {
    "duration": 8,
    "start_time": "2021-06-22T22:04:11.937Z"
   },
   {
    "duration": 8,
    "start_time": "2021-06-22T22:08:48.438Z"
   },
   {
    "duration": 17,
    "start_time": "2021-06-22T22:09:00.711Z"
   },
   {
    "duration": 6,
    "start_time": "2021-06-22T22:09:02.294Z"
   },
   {
    "duration": 32,
    "start_time": "2021-06-22T22:15:06.765Z"
   },
   {
    "duration": 26,
    "start_time": "2021-06-22T22:20:15.953Z"
   },
   {
    "duration": 24,
    "start_time": "2021-06-22T22:20:34.929Z"
   },
   {
    "duration": 30,
    "start_time": "2021-06-22T22:36:12.163Z"
   },
   {
    "duration": 10,
    "start_time": "2021-06-22T22:36:22.289Z"
   },
   {
    "duration": 354,
    "start_time": "2021-06-22T22:38:11.147Z"
   },
   {
    "duration": 6,
    "start_time": "2021-06-22T22:38:21.123Z"
   },
   {
    "duration": 38,
    "start_time": "2021-06-22T22:39:51.285Z"
   },
   {
    "duration": 24,
    "start_time": "2021-06-22T22:51:18.777Z"
   },
   {
    "duration": 25,
    "start_time": "2021-06-22T23:04:31.184Z"
   },
   {
    "duration": 23,
    "start_time": "2021-06-22T23:09:13.645Z"
   },
   {
    "duration": 3,
    "start_time": "2021-06-22T23:09:24.341Z"
   },
   {
    "duration": 6855,
    "start_time": "2021-06-22T23:10:44.512Z"
   },
   {
    "duration": 346,
    "start_time": "2021-06-22T23:11:13.017Z"
   },
   {
    "duration": 13,
    "start_time": "2021-06-22T23:11:30.370Z"
   },
   {
    "duration": 18,
    "start_time": "2021-06-22T23:11:33.872Z"
   },
   {
    "duration": 92,
    "start_time": "2021-06-22T23:14:24.060Z"
   },
   {
    "duration": 21,
    "start_time": "2021-06-22T23:14:52.651Z"
   },
   {
    "duration": 15,
    "start_time": "2021-06-22T23:14:56.524Z"
   },
   {
    "duration": 22,
    "start_time": "2021-06-22T23:15:16.299Z"
   },
   {
    "duration": 41,
    "start_time": "2021-06-22T23:17:14.799Z"
   },
   {
    "duration": 30,
    "start_time": "2021-06-22T23:18:50.298Z"
   },
   {
    "duration": 7,
    "start_time": "2021-06-22T23:18:52.639Z"
   },
   {
    "duration": 296,
    "start_time": "2021-06-22T23:19:04.784Z"
   },
   {
    "duration": 32,
    "start_time": "2021-06-22T23:19:14.657Z"
   },
   {
    "duration": 9,
    "start_time": "2021-06-22T23:19:35.072Z"
   },
   {
    "duration": 11,
    "start_time": "2021-06-22T23:19:38.523Z"
   },
   {
    "duration": 25,
    "start_time": "2021-06-22T23:19:41.224Z"
   },
   {
    "duration": 12,
    "start_time": "2021-06-22T23:19:43.936Z"
   },
   {
    "duration": 23,
    "start_time": "2021-06-22T23:19:46.032Z"
   },
   {
    "duration": 44,
    "start_time": "2021-06-22T23:19:53.906Z"
   },
   {
    "duration": 7,
    "start_time": "2021-06-22T23:19:56.001Z"
   },
   {
    "duration": 16,
    "start_time": "2021-06-22T23:20:04.017Z"
   },
   {
    "duration": 7,
    "start_time": "2021-06-22T23:20:11.400Z"
   },
   {
    "duration": 25,
    "start_time": "2021-06-22T23:20:14.641Z"
   },
   {
    "duration": 26,
    "start_time": "2021-06-22T23:20:18.177Z"
   },
   {
    "duration": 9,
    "start_time": "2021-06-22T23:20:22.459Z"
   },
   {
    "duration": 17,
    "start_time": "2021-06-22T23:20:23.810Z"
   },
   {
    "duration": 33,
    "start_time": "2021-06-22T23:20:29.017Z"
   },
   {
    "duration": 51,
    "start_time": "2021-06-22T23:20:34.936Z"
   },
   {
    "duration": 25,
    "start_time": "2021-06-22T23:21:43.330Z"
   },
   {
    "duration": 38,
    "start_time": "2021-06-22T23:21:49.243Z"
   },
   {
    "duration": 24,
    "start_time": "2021-06-22T23:21:55.450Z"
   },
   {
    "duration": 47,
    "start_time": "2021-06-22T23:22:18.012Z"
   },
   {
    "duration": 17,
    "start_time": "2021-06-22T23:22:19.651Z"
   },
   {
    "duration": 4,
    "start_time": "2021-06-22T23:22:53.707Z"
   },
   {
    "duration": 22,
    "start_time": "2021-06-22T23:23:10.893Z"
   },
   {
    "duration": 33,
    "start_time": "2021-06-22T23:26:14.119Z"
   },
   {
    "duration": 33,
    "start_time": "2021-06-22T23:26:18.270Z"
   },
   {
    "duration": 106,
    "start_time": "2021-06-22T23:28:07.057Z"
   },
   {
    "duration": 207,
    "start_time": "2021-06-22T23:28:14.242Z"
   },
   {
    "duration": 15,
    "start_time": "2021-06-22T23:28:33.594Z"
   },
   {
    "duration": 140,
    "start_time": "2021-06-22T23:28:54.682Z"
   },
   {
    "duration": 43,
    "start_time": "2021-06-22T23:29:16.917Z"
   },
   {
    "duration": 24,
    "start_time": "2021-06-22T23:30:16.723Z"
   },
   {
    "duration": 55,
    "start_time": "2021-06-22T23:30:26.580Z"
   },
   {
    "duration": 16,
    "start_time": "2021-06-22T23:30:29.115Z"
   },
   {
    "duration": 17,
    "start_time": "2021-06-22T23:32:23.685Z"
   },
   {
    "duration": 19,
    "start_time": "2021-06-22T23:32:42.540Z"
   },
   {
    "duration": 55,
    "start_time": "2021-06-22T23:32:56.573Z"
   },
   {
    "duration": 296,
    "start_time": "2021-06-22T23:33:29.659Z"
   },
   {
    "duration": 59,
    "start_time": "2021-06-22T23:33:43.474Z"
   },
   {
    "duration": 25,
    "start_time": "2021-06-22T23:41:13.106Z"
   },
   {
    "duration": 41,
    "start_time": "2021-06-22T23:41:16.947Z"
   },
   {
    "duration": 6,
    "start_time": "2021-06-22T23:42:06.179Z"
   },
   {
    "duration": 42,
    "start_time": "2021-06-22T23:47:55.554Z"
   },
   {
    "duration": 27,
    "start_time": "2021-06-22T23:48:08.840Z"
   },
   {
    "duration": 26,
    "start_time": "2021-06-22T23:49:34.794Z"
   },
   {
    "duration": 33,
    "start_time": "2021-06-23T06:15:00.388Z"
   },
   {
    "duration": 7,
    "start_time": "2021-06-23T06:15:09.511Z"
   },
   {
    "duration": 7,
    "start_time": "2021-06-23T06:15:21.342Z"
   },
   {
    "duration": 7,
    "start_time": "2021-06-23T06:15:30.534Z"
   },
   {
    "duration": 17,
    "start_time": "2021-06-23T06:16:38.607Z"
   },
   {
    "duration": 8,
    "start_time": "2021-06-23T06:16:40.111Z"
   },
   {
    "duration": 6,
    "start_time": "2021-06-23T06:17:35.816Z"
   },
   {
    "duration": 11,
    "start_time": "2021-06-23T06:17:37.240Z"
   },
   {
    "duration": 15,
    "start_time": "2021-06-23T06:20:27.622Z"
   },
   {
    "duration": 8617,
    "start_time": "2021-06-23T06:23:54.841Z"
   },
   {
    "duration": 27,
    "start_time": "2021-06-23T06:24:14.607Z"
   },
   {
    "duration": 38,
    "start_time": "2021-06-23T06:24:27.303Z"
   },
   {
    "duration": 39,
    "start_time": "2021-06-23T06:25:14.211Z"
   },
   {
    "duration": 10,
    "start_time": "2021-06-23T06:25:28.993Z"
   },
   {
    "duration": 41,
    "start_time": "2021-06-23T06:25:39.698Z"
   },
   {
    "duration": 8585,
    "start_time": "2021-06-23T06:29:00.276Z"
   },
   {
    "duration": 9028,
    "start_time": "2021-06-23T06:29:55.072Z"
   },
   {
    "duration": 54,
    "start_time": "2021-06-23T06:30:07.545Z"
   },
   {
    "duration": 69,
    "start_time": "2021-06-23T06:30:17.654Z"
   },
   {
    "duration": 11,
    "start_time": "2021-06-23T06:30:34.189Z"
   },
   {
    "duration": 50,
    "start_time": "2021-06-23T06:30:37.583Z"
   },
   {
    "duration": 9,
    "start_time": "2021-06-23T07:23:45.779Z"
   },
   {
    "duration": 53,
    "start_time": "2021-06-23T07:25:38.257Z"
   },
   {
    "duration": 12,
    "start_time": "2021-06-23T07:25:46.509Z"
   },
   {
    "duration": 7,
    "start_time": "2021-06-23T07:25:51.110Z"
   },
   {
    "duration": 52,
    "start_time": "2021-06-23T07:25:53.462Z"
   },
   {
    "duration": 28,
    "start_time": "2021-06-23T07:26:23.423Z"
   },
   {
    "duration": 83,
    "start_time": "2021-06-23T08:42:41.221Z"
   },
   {
    "duration": 758,
    "start_time": "2021-06-23T08:44:11.177Z"
   },
   {
    "duration": 80,
    "start_time": "2021-06-23T08:44:43.728Z"
   },
   {
    "duration": 81,
    "start_time": "2021-06-23T08:45:23.475Z"
   },
   {
    "duration": 79,
    "start_time": "2021-06-23T08:45:39.521Z"
   },
   {
    "duration": 78,
    "start_time": "2021-06-23T08:45:48.906Z"
   },
   {
    "duration": 79,
    "start_time": "2021-06-23T08:48:28.517Z"
   },
   {
    "duration": 102,
    "start_time": "2021-06-23T08:48:34.693Z"
   },
   {
    "duration": 86,
    "start_time": "2021-06-23T08:48:47.429Z"
   },
   {
    "duration": 84,
    "start_time": "2021-06-23T08:49:19.197Z"
   },
   {
    "duration": 87,
    "start_time": "2021-06-23T08:49:30.693Z"
   },
   {
    "duration": 92,
    "start_time": "2021-06-23T09:12:41.920Z"
   },
   {
    "duration": 52,
    "start_time": "2021-06-23T09:12:54.156Z"
   },
   {
    "duration": 41,
    "start_time": "2021-06-23T09:13:03.861Z"
   },
   {
    "duration": 42,
    "start_time": "2021-06-23T09:13:12.615Z"
   },
   {
    "duration": 40,
    "start_time": "2021-06-23T09:13:51.318Z"
   },
   {
    "duration": 42,
    "start_time": "2021-06-23T09:14:16.230Z"
   },
   {
    "duration": 42,
    "start_time": "2021-06-23T09:17:49.963Z"
   },
   {
    "duration": 47,
    "start_time": "2021-06-23T09:18:57.188Z"
   },
   {
    "duration": 44,
    "start_time": "2021-06-23T09:19:09.562Z"
   },
   {
    "duration": 49,
    "start_time": "2021-06-23T09:19:19.482Z"
   },
   {
    "duration": 3,
    "start_time": "2021-06-23T09:25:26.777Z"
   },
   {
    "duration": 97,
    "start_time": "2021-06-23T09:26:52.394Z"
   },
   {
    "duration": 7066,
    "start_time": "2021-06-23T09:27:28.450Z"
   },
   {
    "duration": 87,
    "start_time": "2021-06-23T09:28:49.124Z"
   },
   {
    "duration": 50,
    "start_time": "2021-06-23T09:29:10.851Z"
   },
   {
    "duration": 93,
    "start_time": "2021-06-23T09:30:11.219Z"
   },
   {
    "duration": 98,
    "start_time": "2021-06-23T09:30:26.133Z"
   },
   {
    "duration": 87,
    "start_time": "2021-06-23T09:30:35.270Z"
   },
   {
    "duration": 301,
    "start_time": "2021-06-23T09:32:14.503Z"
   },
   {
    "duration": 281,
    "start_time": "2021-06-23T09:32:39.524Z"
   },
   {
    "duration": 41,
    "start_time": "2021-06-23T09:33:12.867Z"
   },
   {
    "duration": 65,
    "start_time": "2021-06-23T09:33:39.464Z"
   },
   {
    "duration": 38,
    "start_time": "2021-06-23T09:34:02.632Z"
   },
   {
    "duration": 46,
    "start_time": "2021-06-23T09:34:47.201Z"
   },
   {
    "duration": 289,
    "start_time": "2021-06-23T09:35:19.217Z"
   },
   {
    "duration": 386,
    "start_time": "2021-06-23T09:35:27.680Z"
   },
   {
    "duration": 47,
    "start_time": "2021-06-23T09:35:33.059Z"
   },
   {
    "duration": 85,
    "start_time": "2021-06-23T09:35:59.818Z"
   },
   {
    "duration": 77,
    "start_time": "2021-06-23T09:36:15.202Z"
   },
   {
    "duration": 81,
    "start_time": "2021-06-23T09:38:51.837Z"
   },
   {
    "duration": 83,
    "start_time": "2021-06-23T09:41:46.327Z"
   },
   {
    "duration": 83,
    "start_time": "2021-06-23T09:42:31.089Z"
   },
   {
    "duration": 78,
    "start_time": "2021-06-23T09:42:40.416Z"
   },
   {
    "duration": 13,
    "start_time": "2021-06-23T09:46:50.260Z"
   },
   {
    "duration": 21,
    "start_time": "2021-06-23T09:47:58.854Z"
   },
   {
    "duration": 30,
    "start_time": "2021-06-23T09:48:34.525Z"
   },
   {
    "duration": 80,
    "start_time": "2021-06-23T09:48:52.574Z"
   },
   {
    "duration": 46,
    "start_time": "2021-06-23T09:51:13.103Z"
   },
   {
    "duration": 21,
    "start_time": "2021-06-23T09:51:16.897Z"
   },
   {
    "duration": 69,
    "start_time": "2021-06-23T09:52:47.890Z"
   },
   {
    "duration": 356,
    "start_time": "2021-06-23T09:54:56.085Z"
   },
   {
    "duration": 80,
    "start_time": "2021-06-23T09:55:10.828Z"
   },
   {
    "duration": 7006,
    "start_time": "2021-06-23T09:55:29.255Z"
   },
   {
    "duration": 7858,
    "start_time": "2021-06-23T09:59:28.341Z"
   },
   {
    "duration": 82,
    "start_time": "2021-06-23T10:00:05.600Z"
   },
   {
    "duration": 80,
    "start_time": "2021-06-23T10:00:50.309Z"
   },
   {
    "duration": 88,
    "start_time": "2021-06-23T10:00:58.735Z"
   },
   {
    "duration": 94,
    "start_time": "2021-06-23T10:01:17.534Z"
   },
   {
    "duration": 97,
    "start_time": "2021-06-23T10:01:33.334Z"
   },
   {
    "duration": 94,
    "start_time": "2021-06-23T10:01:45.616Z"
   },
   {
    "duration": 98,
    "start_time": "2021-06-23T10:04:45.258Z"
   },
   {
    "duration": 7,
    "start_time": "2021-06-23T10:05:27.890Z"
   },
   {
    "duration": 7145,
    "start_time": "2021-06-23T10:07:28.852Z"
   },
   {
    "duration": 6704,
    "start_time": "2021-06-23T10:07:49.389Z"
   },
   {
    "duration": 9,
    "start_time": "2021-06-23T10:08:04.900Z"
   },
   {
    "duration": 265,
    "start_time": "2021-06-23T10:08:16.075Z"
   },
   {
    "duration": 5,
    "start_time": "2021-06-23T10:11:29.000Z"
   },
   {
    "duration": 6,
    "start_time": "2021-06-23T10:12:05.567Z"
   },
   {
    "duration": 44,
    "start_time": "2021-06-23T10:20:24.670Z"
   },
   {
    "duration": 40,
    "start_time": "2021-06-23T10:20:27.177Z"
   },
   {
    "duration": 23,
    "start_time": "2021-06-23T10:20:56.977Z"
   },
   {
    "duration": 95,
    "start_time": "2021-06-23T10:21:17.283Z"
   },
   {
    "duration": 88,
    "start_time": "2021-06-23T10:21:25.266Z"
   },
   {
    "duration": 8807,
    "start_time": "2021-06-23T10:22:28.906Z"
   },
   {
    "duration": 5,
    "start_time": "2021-06-23T10:22:42.060Z"
   },
   {
    "duration": 7072,
    "start_time": "2021-06-23T10:22:59.260Z"
   },
   {
    "duration": 6929,
    "start_time": "2021-06-23T10:23:30.317Z"
   },
   {
    "duration": 751,
    "start_time": "2021-06-23T10:24:19.412Z"
   },
   {
    "duration": 101,
    "start_time": "2021-06-23T10:24:59.773Z"
   },
   {
    "duration": 77,
    "start_time": "2021-06-23T10:25:57.695Z"
   },
   {
    "duration": 95,
    "start_time": "2021-06-23T10:27:25.760Z"
   },
   {
    "duration": 91,
    "start_time": "2021-06-23T10:27:52.065Z"
   },
   {
    "duration": 97,
    "start_time": "2021-06-23T10:28:46.826Z"
   },
   {
    "duration": 42,
    "start_time": "2021-06-23T10:34:53.199Z"
   },
   {
    "duration": 26,
    "start_time": "2021-06-23T10:35:54.167Z"
   },
   {
    "duration": 15,
    "start_time": "2021-06-23T10:37:39.547Z"
   },
   {
    "duration": 39,
    "start_time": "2021-06-23T10:37:41.131Z"
   },
   {
    "duration": 20,
    "start_time": "2021-06-23T10:37:52.378Z"
   },
   {
    "duration": 17,
    "start_time": "2021-06-23T10:38:28.667Z"
   },
   {
    "duration": 32,
    "start_time": "2021-06-23T10:39:54.361Z"
   },
   {
    "duration": 7,
    "start_time": "2021-06-23T10:40:13.260Z"
   },
   {
    "duration": 6,
    "start_time": "2021-06-23T10:40:57.949Z"
   },
   {
    "duration": 12,
    "start_time": "2021-06-23T10:40:59.333Z"
   },
   {
    "duration": 9,
    "start_time": "2021-06-23T10:41:40.022Z"
   },
   {
    "duration": 286,
    "start_time": "2021-06-23T10:43:45.424Z"
   },
   {
    "duration": 298,
    "start_time": "2021-06-23T10:44:54.273Z"
   },
   {
    "duration": 5,
    "start_time": "2021-06-23T10:45:24.577Z"
   },
   {
    "duration": 79,
    "start_time": "2021-06-23T10:47:09.891Z"
   },
   {
    "duration": 7,
    "start_time": "2021-06-23T10:49:53.271Z"
   },
   {
    "duration": 5,
    "start_time": "2021-06-23T10:52:22.213Z"
   },
   {
    "duration": 19,
    "start_time": "2021-06-23T10:55:39.180Z"
   },
   {
    "duration": 7,
    "start_time": "2021-06-23T10:55:41.244Z"
   },
   {
    "duration": 13,
    "start_time": "2021-06-23T10:56:24.004Z"
   },
   {
    "duration": 74,
    "start_time": "2021-06-23T10:56:32.210Z"
   },
   {
    "duration": 12,
    "start_time": "2021-06-23T10:56:46.854Z"
   },
   {
    "duration": 24,
    "start_time": "2021-06-23T11:00:39.786Z"
   },
   {
    "duration": 38,
    "start_time": "2021-06-23T11:00:46.183Z"
   },
   {
    "duration": 37,
    "start_time": "2021-06-23T11:01:52.066Z"
   },
   {
    "duration": 110,
    "start_time": "2021-06-23T11:04:03.780Z"
   },
   {
    "duration": 104,
    "start_time": "2021-06-23T11:04:34.212Z"
   },
   {
    "duration": 111,
    "start_time": "2021-06-23T11:05:00.855Z"
   },
   {
    "duration": 104,
    "start_time": "2021-06-23T11:05:03.552Z"
   },
   {
    "duration": 21,
    "start_time": "2021-06-23T11:05:45.477Z"
   },
   {
    "duration": 37,
    "start_time": "2021-06-23T11:07:10.143Z"
   },
   {
    "duration": 812,
    "start_time": "2021-06-25T07:47:29.666Z"
   },
   {
    "duration": 344,
    "start_time": "2021-06-25T07:47:30.481Z"
   },
   {
    "duration": 27,
    "start_time": "2021-06-25T07:47:30.828Z"
   },
   {
    "duration": 42,
    "start_time": "2021-06-25T07:47:30.858Z"
   },
   {
    "duration": 5,
    "start_time": "2021-06-25T07:47:30.910Z"
   },
   {
    "duration": 51,
    "start_time": "2021-06-25T07:47:30.917Z"
   },
   {
    "duration": 43,
    "start_time": "2021-06-25T07:47:30.971Z"
   },
   {
    "duration": 7,
    "start_time": "2021-06-25T07:47:31.016Z"
   },
   {
    "duration": 62,
    "start_time": "2021-06-25T07:47:31.027Z"
   },
   {
    "duration": 42,
    "start_time": "2021-06-25T07:47:31.092Z"
   },
   {
    "duration": 13,
    "start_time": "2021-06-25T07:47:31.137Z"
   },
   {
    "duration": 28,
    "start_time": "2021-06-25T07:47:31.153Z"
   },
   {
    "duration": 66,
    "start_time": "2021-06-25T07:47:31.185Z"
   },
   {
    "duration": 8,
    "start_time": "2021-06-25T07:47:31.254Z"
   },
   {
    "duration": 46,
    "start_time": "2021-06-25T07:47:31.264Z"
   },
   {
    "duration": 23,
    "start_time": "2021-06-25T07:47:31.312Z"
   },
   {
    "duration": 42,
    "start_time": "2021-06-25T07:47:31.338Z"
   },
   {
    "duration": 13,
    "start_time": "2021-06-25T07:47:31.382Z"
   },
   {
    "duration": 18,
    "start_time": "2021-06-25T07:47:31.408Z"
   },
   {
    "duration": 34,
    "start_time": "2021-06-25T07:47:31.429Z"
   },
   {
    "duration": 220,
    "start_time": "2021-06-25T07:47:31.466Z"
   },
   {
    "duration": 55,
    "start_time": "2021-06-25T07:47:31.689Z"
   },
   {
    "duration": 24,
    "start_time": "2021-06-25T07:47:31.747Z"
   },
   {
    "duration": 61,
    "start_time": "2021-06-25T07:47:31.773Z"
   },
   {
    "duration": 79,
    "start_time": "2021-06-25T07:47:31.836Z"
   },
   {
    "duration": 17,
    "start_time": "2021-06-25T07:47:31.917Z"
   },
   {
    "duration": 42,
    "start_time": "2021-06-25T07:47:31.941Z"
   },
   {
    "duration": 62,
    "start_time": "2021-06-25T07:47:31.987Z"
   },
   {
    "duration": 16,
    "start_time": "2021-06-25T07:47:32.051Z"
   },
   {
    "duration": 62,
    "start_time": "2021-06-25T07:47:32.069Z"
   },
   {
    "duration": 8,
    "start_time": "2021-06-25T07:47:32.133Z"
   },
   {
    "duration": 26,
    "start_time": "2021-06-25T07:47:32.143Z"
   },
   {
    "duration": 6,
    "start_time": "2021-06-25T07:47:32.172Z"
   },
   {
    "duration": 39,
    "start_time": "2021-06-25T07:47:32.181Z"
   },
   {
    "duration": 27,
    "start_time": "2021-06-25T07:47:32.222Z"
   },
   {
    "duration": 9,
    "start_time": "2021-06-25T07:47:32.251Z"
   },
   {
    "duration": 11,
    "start_time": "2021-06-25T07:47:32.262Z"
   },
   {
    "duration": 37,
    "start_time": "2021-06-25T07:47:32.275Z"
   },
   {
    "duration": 25,
    "start_time": "2021-06-25T07:47:32.315Z"
   },
   {
    "duration": 13,
    "start_time": "2021-06-25T07:47:32.342Z"
   },
   {
    "duration": 55,
    "start_time": "2021-06-25T07:47:32.358Z"
   },
   {
    "duration": 16,
    "start_time": "2021-06-25T07:47:32.416Z"
   },
   {
    "duration": 37,
    "start_time": "2021-06-25T07:47:32.434Z"
   },
   {
    "duration": 65,
    "start_time": "2021-06-25T07:47:32.474Z"
   },
   {
    "duration": 853,
    "start_time": "2021-06-25T07:47:32.541Z"
   },
   {
    "duration": 114,
    "start_time": "2021-06-25T07:47:33.397Z"
   },
   {
    "duration": 180,
    "start_time": "2021-06-25T07:47:33.513Z"
   },
   {
    "duration": 101,
    "start_time": "2021-06-25T07:47:33.695Z"
   },
   {
    "duration": 122,
    "start_time": "2021-06-25T07:47:33.808Z"
   },
   {
    "duration": 113,
    "start_time": "2021-06-25T07:47:33.933Z"
   },
   {
    "duration": 19,
    "start_time": "2021-06-25T07:47:34.048Z"
   },
   {
    "duration": 1667,
    "start_time": "2021-06-25T07:47:34.070Z"
   },
   {
    "duration": 37,
    "start_time": "2021-06-25T07:47:35.739Z"
   },
   {
    "duration": 542,
    "start_time": "2021-06-25T07:47:35.779Z"
   },
   {
    "duration": 409,
    "start_time": "2021-06-25T07:47:36.323Z"
   },
   {
    "duration": -131,
    "start_time": "2021-06-25T07:47:36.867Z"
   },
   {
    "duration": -133,
    "start_time": "2021-06-25T07:47:36.870Z"
   },
   {
    "duration": -134,
    "start_time": "2021-06-25T07:47:36.872Z"
   },
   {
    "duration": -136,
    "start_time": "2021-06-25T07:47:36.875Z"
   },
   {
    "duration": -136,
    "start_time": "2021-06-25T07:47:36.877Z"
   },
   {
    "duration": -136,
    "start_time": "2021-06-25T07:47:36.878Z"
   },
   {
    "duration": -137,
    "start_time": "2021-06-25T07:47:36.880Z"
   },
   {
    "duration": -137,
    "start_time": "2021-06-25T07:47:36.881Z"
   },
   {
    "duration": -138,
    "start_time": "2021-06-25T07:47:36.883Z"
   },
   {
    "duration": -137,
    "start_time": "2021-06-25T07:47:36.884Z"
   },
   {
    "duration": -138,
    "start_time": "2021-06-25T07:47:36.886Z"
   },
   {
    "duration": -139,
    "start_time": "2021-06-25T07:47:36.888Z"
   },
   {
    "duration": -139,
    "start_time": "2021-06-25T07:47:36.889Z"
   },
   {
    "duration": -139,
    "start_time": "2021-06-25T07:47:36.891Z"
   },
   {
    "duration": -140,
    "start_time": "2021-06-25T07:47:36.893Z"
   },
   {
    "duration": -140,
    "start_time": "2021-06-25T07:47:36.895Z"
   },
   {
    "duration": -140,
    "start_time": "2021-06-25T07:47:36.896Z"
   },
   {
    "duration": -141,
    "start_time": "2021-06-25T07:47:36.898Z"
   },
   {
    "duration": -141,
    "start_time": "2021-06-25T07:47:36.899Z"
   },
   {
    "duration": -140,
    "start_time": "2021-06-25T07:47:36.900Z"
   },
   {
    "duration": -141,
    "start_time": "2021-06-25T07:47:36.902Z"
   },
   {
    "duration": -141,
    "start_time": "2021-06-25T07:47:36.903Z"
   },
   {
    "duration": -140,
    "start_time": "2021-06-25T07:47:36.904Z"
   },
   {
    "duration": -140,
    "start_time": "2021-06-25T07:47:36.905Z"
   },
   {
    "duration": -141,
    "start_time": "2021-06-25T07:47:36.907Z"
   },
   {
    "duration": -141,
    "start_time": "2021-06-25T07:47:36.908Z"
   },
   {
    "duration": -141,
    "start_time": "2021-06-25T07:47:36.909Z"
   },
   {
    "duration": -140,
    "start_time": "2021-06-25T07:47:36.910Z"
   },
   {
    "duration": -140,
    "start_time": "2021-06-25T07:47:36.911Z"
   },
   {
    "duration": -145,
    "start_time": "2021-06-25T07:47:36.917Z"
   },
   {
    "duration": -110,
    "start_time": "2021-06-25T07:47:36.919Z"
   },
   {
    "duration": -110,
    "start_time": "2021-06-25T07:47:36.920Z"
   },
   {
    "duration": -110,
    "start_time": "2021-06-25T07:47:36.922Z"
   },
   {
    "duration": -110,
    "start_time": "2021-06-25T07:47:36.923Z"
   },
   {
    "duration": -110,
    "start_time": "2021-06-25T07:47:36.924Z"
   },
   {
    "duration": -110,
    "start_time": "2021-06-25T07:47:36.925Z"
   },
   {
    "duration": -108,
    "start_time": "2021-06-25T07:47:36.926Z"
   },
   {
    "duration": -109,
    "start_time": "2021-06-25T07:47:36.928Z"
   },
   {
    "duration": -108,
    "start_time": "2021-06-25T07:47:36.929Z"
   },
   {
    "duration": -108,
    "start_time": "2021-06-25T07:47:36.930Z"
   },
   {
    "duration": -108,
    "start_time": "2021-06-25T07:47:36.931Z"
   },
   {
    "duration": -108,
    "start_time": "2021-06-25T07:47:36.932Z"
   },
   {
    "duration": -107,
    "start_time": "2021-06-25T07:47:36.933Z"
   },
   {
    "duration": -108,
    "start_time": "2021-06-25T07:47:36.935Z"
   },
   {
    "duration": 330,
    "start_time": "2021-06-25T07:48:27.702Z"
   },
   {
    "duration": 383,
    "start_time": "2021-06-25T07:48:44.901Z"
   },
   {
    "duration": 16,
    "start_time": "2021-06-25T07:49:13.015Z"
   },
   {
    "duration": 442,
    "start_time": "2021-06-25T07:49:23.818Z"
   },
   {
    "duration": 323,
    "start_time": "2021-06-25T07:49:25.232Z"
   },
   {
    "duration": 75,
    "start_time": "2021-06-25T07:49:25.671Z"
   },
   {
    "duration": 24,
    "start_time": "2021-06-25T07:49:26.004Z"
   },
   {
    "duration": 72,
    "start_time": "2021-06-25T07:49:26.701Z"
   },
   {
    "duration": 25,
    "start_time": "2021-06-25T07:49:27.148Z"
   },
   {
    "duration": 420,
    "start_time": "2021-06-25T07:49:28.555Z"
   },
   {
    "duration": 6,
    "start_time": "2021-06-25T07:49:29.110Z"
   },
   {
    "duration": 425,
    "start_time": "2021-06-25T07:49:29.560Z"
   },
   {
    "duration": 176,
    "start_time": "2021-06-25T07:49:30.514Z"
   },
   {
    "duration": 22,
    "start_time": "2021-06-25T07:49:30.898Z"
   },
   {
    "duration": 508,
    "start_time": "2021-06-25T07:49:31.330Z"
   },
   {
    "duration": 3,
    "start_time": "2021-06-25T07:49:31.841Z"
   },
   {
    "duration": 836,
    "start_time": "2021-06-25T07:49:32.527Z"
   },
   {
    "duration": -20,
    "start_time": "2021-06-25T07:49:33.385Z"
   },
   {
    "duration": -21,
    "start_time": "2021-06-25T07:49:33.388Z"
   },
   {
    "duration": 345,
    "start_time": "2021-06-25T07:49:34.228Z"
   },
   {
    "duration": 6,
    "start_time": "2021-06-25T07:49:34.576Z"
   },
   {
    "duration": 3,
    "start_time": "2021-06-25T07:49:34.941Z"
   },
   {
    "duration": 349,
    "start_time": "2021-06-25T07:49:35.319Z"
   },
   {
    "duration": 63,
    "start_time": "2021-06-25T07:49:35.715Z"
   },
   {
    "duration": 14,
    "start_time": "2021-06-25T07:49:36.054Z"
   },
   {
    "duration": 13,
    "start_time": "2021-06-25T07:49:36.480Z"
   },
   {
    "duration": 210,
    "start_time": "2021-06-25T07:49:36.822Z"
   },
   {
    "duration": 7,
    "start_time": "2021-06-25T07:49:37.213Z"
   },
   {
    "duration": 276,
    "start_time": "2021-06-25T07:49:37.619Z"
   },
   {
    "duration": 23,
    "start_time": "2021-06-25T07:49:38.019Z"
   },
   {
    "duration": 1296,
    "start_time": "2021-06-25T07:49:38.975Z"
   },
   {
    "duration": 2,
    "start_time": "2021-06-25T07:49:40.274Z"
   },
   {
    "duration": 53,
    "start_time": "2021-06-25T07:49:40.279Z"
   },
   {
    "duration": 465,
    "start_time": "2021-06-25T07:49:40.606Z"
   },
   {
    "duration": 260,
    "start_time": "2021-06-25T07:49:41.073Z"
   },
   {
    "duration": 32,
    "start_time": "2021-06-25T07:49:42.219Z"
   },
   {
    "duration": 4743,
    "start_time": "2021-06-25T07:49:44.458Z"
   },
   {
    "duration": 1719,
    "start_time": "2021-06-25T07:49:49.203Z"
   },
   {
    "duration": 322,
    "start_time": "2021-06-25T07:49:50.925Z"
   },
   {
    "duration": -23,
    "start_time": "2021-06-25T07:49:51.273Z"
   },
   {
    "duration": -25,
    "start_time": "2021-06-25T07:49:51.276Z"
   },
   {
    "duration": -25,
    "start_time": "2021-06-25T07:49:51.278Z"
   },
   {
    "duration": -29,
    "start_time": "2021-06-25T07:49:51.283Z"
   },
   {
    "duration": -30,
    "start_time": "2021-06-25T07:49:51.285Z"
   },
   {
    "duration": -30,
    "start_time": "2021-06-25T07:49:51.287Z"
   },
   {
    "duration": -31,
    "start_time": "2021-06-25T07:49:51.289Z"
   },
   {
    "duration": 1333,
    "start_time": "2021-06-25T07:50:08.855Z"
   },
   {
    "duration": 208,
    "start_time": "2021-06-25T07:50:11.452Z"
   },
   {
    "duration": 4848,
    "start_time": "2021-06-25T07:50:14.980Z"
   },
   {
    "duration": 1714,
    "start_time": "2021-06-25T07:50:19.830Z"
   },
   {
    "duration": 367,
    "start_time": "2021-06-25T07:50:21.547Z"
   },
   {
    "duration": -133,
    "start_time": "2021-06-25T07:50:22.050Z"
   },
   {
    "duration": -134,
    "start_time": "2021-06-25T07:50:22.052Z"
   },
   {
    "duration": 24,
    "start_time": "2021-06-25T08:59:02.707Z"
   },
   {
    "duration": 423,
    "start_time": "2021-06-25T08:59:03.580Z"
   },
   {
    "duration": 333,
    "start_time": "2021-06-25T08:59:16.417Z"
   },
   {
    "duration": 386,
    "start_time": "2021-06-25T09:11:11.181Z"
   },
   {
    "duration": 207,
    "start_time": "2021-06-25T09:11:14.665Z"
   },
   {
    "duration": 11302,
    "start_time": "2021-06-25T21:03:14.013Z"
   },
   {
    "duration": 84,
    "start_time": "2021-06-25T21:17:17.425Z"
   },
   {
    "duration": 9,
    "start_time": "2021-06-25T21:21:47.149Z"
   },
   {
    "duration": 7,
    "start_time": "2021-06-25T21:22:08.095Z"
   },
   {
    "duration": 11732,
    "start_time": "2021-06-25T21:22:44.294Z"
   },
   {
    "duration": 327,
    "start_time": "2021-06-25T21:22:58.094Z"
   },
   {
    "duration": 8,
    "start_time": "2021-06-25T21:23:16.649Z"
   },
   {
    "duration": 8,
    "start_time": "2021-06-25T21:23:41.944Z"
   },
   {
    "duration": 3163,
    "start_time": "2021-06-25T21:24:21.552Z"
   },
   {
    "duration": 260,
    "start_time": "2021-06-25T21:24:46.816Z"
   },
   {
    "duration": 9242,
    "start_time": "2021-06-25T21:26:06.451Z"
   },
   {
    "duration": 255,
    "start_time": "2021-06-25T21:26:35.461Z"
   },
   {
    "duration": 6,
    "start_time": "2021-06-25T21:39:35.105Z"
   },
   {
    "duration": 34,
    "start_time": "2021-06-25T21:39:59.914Z"
   },
   {
    "duration": 275,
    "start_time": "2021-06-25T21:41:06.140Z"
   },
   {
    "duration": 34,
    "start_time": "2021-06-25T21:41:18.961Z"
   },
   {
    "duration": 33,
    "start_time": "2021-06-25T21:42:18.805Z"
   },
   {
    "duration": 22,
    "start_time": "2021-06-25T21:43:07.276Z"
   },
   {
    "duration": 280,
    "start_time": "2021-06-25T21:43:25.620Z"
   },
   {
    "duration": 23,
    "start_time": "2021-06-25T21:45:43.959Z"
   },
   {
    "duration": 271,
    "start_time": "2021-06-25T21:46:25.158Z"
   },
   {
    "duration": 22,
    "start_time": "2021-06-25T21:46:29.502Z"
   },
   {
    "duration": 23,
    "start_time": "2021-06-25T21:46:48.919Z"
   },
   {
    "duration": 22,
    "start_time": "2021-06-25T21:50:40.460Z"
   },
   {
    "duration": 29,
    "start_time": "2021-06-25T21:52:43.973Z"
   },
   {
    "duration": 295,
    "start_time": "2021-06-25T22:08:38.580Z"
   },
   {
    "duration": 277,
    "start_time": "2021-06-25T22:09:28.925Z"
   },
   {
    "duration": 298,
    "start_time": "2021-06-25T22:09:48.407Z"
   },
   {
    "duration": 278,
    "start_time": "2021-06-25T22:09:51.766Z"
   },
   {
    "duration": 8,
    "start_time": "2021-06-25T22:13:58.146Z"
   },
   {
    "duration": 40,
    "start_time": "2021-06-25T22:14:06.945Z"
   },
   {
    "duration": 6257,
    "start_time": "2021-06-25T22:14:57.746Z"
   },
   {
    "duration": 21,
    "start_time": "2021-06-25T22:15:17.538Z"
   },
   {
    "duration": 7,
    "start_time": "2021-06-25T22:15:35.817Z"
   },
   {
    "duration": 6284,
    "start_time": "2021-06-25T22:17:32.245Z"
   },
   {
    "duration": 22,
    "start_time": "2021-06-25T22:18:32.944Z"
   },
   {
    "duration": 26,
    "start_time": "2021-06-25T22:18:45.311Z"
   },
   {
    "duration": 6652,
    "start_time": "2021-06-25T22:18:56.527Z"
   },
   {
    "duration": 28,
    "start_time": "2021-06-25T22:21:15.596Z"
   },
   {
    "duration": 44,
    "start_time": "2021-06-25T22:21:25.154Z"
   },
   {
    "duration": 25,
    "start_time": "2021-06-25T22:22:28.211Z"
   },
   {
    "duration": 6944,
    "start_time": "2021-06-25T22:23:53.414Z"
   },
   {
    "duration": 63,
    "start_time": "2021-06-25T22:25:47.886Z"
   },
   {
    "duration": 52,
    "start_time": "2021-06-25T22:27:35.760Z"
   },
   {
    "duration": 26,
    "start_time": "2021-06-25T22:28:45.182Z"
   },
   {
    "duration": 40,
    "start_time": "2021-06-25T22:29:23.920Z"
   },
   {
    "duration": 27,
    "start_time": "2021-06-25T22:29:32.280Z"
   },
   {
    "duration": 95,
    "start_time": "2021-06-25T22:30:24.504Z"
   },
   {
    "duration": 11,
    "start_time": "2021-06-25T22:30:33.697Z"
   },
   {
    "duration": 258,
    "start_time": "2021-06-25T22:31:07.737Z"
   },
   {
    "duration": 10,
    "start_time": "2021-06-25T22:31:18.410Z"
   },
   {
    "duration": 9778,
    "start_time": "2021-06-25T22:31:31.642Z"
   },
   {
    "duration": 6774,
    "start_time": "2021-06-25T22:43:44.218Z"
   },
   {
    "duration": 260,
    "start_time": "2021-06-25T23:21:35.542Z"
   },
   {
    "duration": 269,
    "start_time": "2021-06-25T23:22:07.189Z"
   },
   {
    "duration": 382,
    "start_time": "2021-06-25T23:22:58.460Z"
   },
   {
    "duration": 653,
    "start_time": "2021-06-25T23:23:30.827Z"
   },
   {
    "duration": 8224,
    "start_time": "2021-06-25T23:23:31.483Z"
   },
   {
    "duration": 219,
    "start_time": "2021-06-25T23:23:39.710Z"
   },
   {
    "duration": 49,
    "start_time": "2021-06-25T23:23:39.932Z"
   },
   {
    "duration": 38,
    "start_time": "2021-06-25T23:23:39.984Z"
   },
   {
    "duration": 29,
    "start_time": "2021-06-25T23:23:40.025Z"
   },
   {
    "duration": 43,
    "start_time": "2021-06-25T23:23:40.058Z"
   },
   {
    "duration": 74,
    "start_time": "2021-06-25T23:23:40.105Z"
   },
   {
    "duration": 8,
    "start_time": "2021-06-25T23:23:40.182Z"
   },
   {
    "duration": 6,
    "start_time": "2021-06-25T23:23:40.193Z"
   },
   {
    "duration": 80,
    "start_time": "2021-06-25T23:23:40.202Z"
   },
   {
    "duration": 9,
    "start_time": "2021-06-25T23:23:40.284Z"
   },
   {
    "duration": 61,
    "start_time": "2021-06-25T23:23:40.296Z"
   },
   {
    "duration": 51,
    "start_time": "2021-06-25T23:23:40.360Z"
   },
   {
    "duration": 5,
    "start_time": "2021-06-25T23:23:40.414Z"
   },
   {
    "duration": 49,
    "start_time": "2021-06-25T23:23:40.422Z"
   },
   {
    "duration": 28,
    "start_time": "2021-06-25T23:23:40.474Z"
   },
   {
    "duration": 70,
    "start_time": "2021-06-25T23:23:40.504Z"
   },
   {
    "duration": 3,
    "start_time": "2021-06-25T23:23:40.578Z"
   },
   {
    "duration": 16,
    "start_time": "2021-06-25T23:23:40.584Z"
   },
   {
    "duration": 82,
    "start_time": "2021-06-25T23:23:40.603Z"
   },
   {
    "duration": 122,
    "start_time": "2021-06-25T23:23:40.570Z"
   },
   {
    "duration": 109,
    "start_time": "2021-06-25T23:23:40.584Z"
   },
   {
    "duration": 103,
    "start_time": "2021-06-25T23:23:40.591Z"
   },
   {
    "duration": 94,
    "start_time": "2021-06-25T23:23:40.602Z"
   },
   {
    "duration": 87,
    "start_time": "2021-06-25T23:23:40.610Z"
   },
   {
    "duration": 76,
    "start_time": "2021-06-25T23:23:40.622Z"
   },
   {
    "duration": 68,
    "start_time": "2021-06-25T23:23:40.632Z"
   },
   {
    "duration": 7,
    "start_time": "2021-06-25T23:23:40.694Z"
   },
   {
    "duration": 2,
    "start_time": "2021-06-25T23:23:40.700Z"
   },
   {
    "duration": -4,
    "start_time": "2021-06-25T23:23:40.708Z"
   },
   {
    "duration": -12,
    "start_time": "2021-06-25T23:23:40.717Z"
   },
   {
    "duration": -19,
    "start_time": "2021-06-25T23:23:40.725Z"
   },
   {
    "duration": -29,
    "start_time": "2021-06-25T23:23:40.736Z"
   },
   {
    "duration": -39,
    "start_time": "2021-06-25T23:23:40.747Z"
   },
   {
    "duration": -45,
    "start_time": "2021-06-25T23:23:40.755Z"
   },
   {
    "duration": -55,
    "start_time": "2021-06-25T23:23:40.766Z"
   },
   {
    "duration": -62,
    "start_time": "2021-06-25T23:23:40.774Z"
   },
   {
    "duration": -70,
    "start_time": "2021-06-25T23:23:40.784Z"
   },
   {
    "duration": -82,
    "start_time": "2021-06-25T23:23:40.797Z"
   },
   {
    "duration": -88,
    "start_time": "2021-06-25T23:23:40.804Z"
   },
   {
    "duration": -98,
    "start_time": "2021-06-25T23:23:40.815Z"
   },
   {
    "duration": -104,
    "start_time": "2021-06-25T23:23:40.822Z"
   },
   {
    "duration": -112,
    "start_time": "2021-06-25T23:23:40.832Z"
   },
   {
    "duration": -117,
    "start_time": "2021-06-25T23:23:40.839Z"
   },
   {
    "duration": -142,
    "start_time": "2021-06-25T23:23:40.866Z"
   },
   {
    "duration": -148,
    "start_time": "2021-06-25T23:23:40.873Z"
   },
   {
    "duration": -131,
    "start_time": "2021-06-25T23:23:40.886Z"
   },
   {
    "duration": -143,
    "start_time": "2021-06-25T23:23:40.900Z"
   },
   {
    "duration": -148,
    "start_time": "2021-06-25T23:23:40.907Z"
   },
   {
    "duration": -156,
    "start_time": "2021-06-25T23:23:40.918Z"
   },
   {
    "duration": -162,
    "start_time": "2021-06-25T23:23:40.926Z"
   },
   {
    "duration": -170,
    "start_time": "2021-06-25T23:23:40.937Z"
   },
   {
    "duration": -179,
    "start_time": "2021-06-25T23:23:40.948Z"
   },
   {
    "duration": -184,
    "start_time": "2021-06-25T23:23:40.955Z"
   },
   {
    "duration": -194,
    "start_time": "2021-06-25T23:23:40.966Z"
   },
   {
    "duration": -199,
    "start_time": "2021-06-25T23:23:40.973Z"
   },
   {
    "duration": -210,
    "start_time": "2021-06-25T23:23:40.985Z"
   },
   {
    "duration": -276,
    "start_time": "2021-06-25T23:23:41.052Z"
   },
   {
    "duration": -284,
    "start_time": "2021-06-25T23:23:41.062Z"
   },
   {
    "duration": -294,
    "start_time": "2021-06-25T23:23:41.073Z"
   },
   {
    "duration": -302,
    "start_time": "2021-06-25T23:23:41.083Z"
   },
   {
    "duration": -309,
    "start_time": "2021-06-25T23:23:41.091Z"
   },
   {
    "duration": -318,
    "start_time": "2021-06-25T23:23:41.101Z"
   },
   {
    "duration": -324,
    "start_time": "2021-06-25T23:23:41.109Z"
   },
   {
    "duration": -332,
    "start_time": "2021-06-25T23:23:41.118Z"
   },
   {
    "duration": -338,
    "start_time": "2021-06-25T23:23:41.125Z"
   },
   {
    "duration": -344,
    "start_time": "2021-06-25T23:23:41.133Z"
   },
   {
    "duration": -351,
    "start_time": "2021-06-25T23:23:41.141Z"
   },
   {
    "duration": -359,
    "start_time": "2021-06-25T23:23:41.150Z"
   },
   {
    "duration": -364,
    "start_time": "2021-06-25T23:23:41.157Z"
   },
   {
    "duration": -373,
    "start_time": "2021-06-25T23:23:41.167Z"
   },
   {
    "duration": -313,
    "start_time": "2021-06-25T23:23:41.174Z"
   },
   {
    "duration": -319,
    "start_time": "2021-06-25T23:23:41.183Z"
   },
   {
    "duration": -322,
    "start_time": "2021-06-25T23:23:41.190Z"
   },
   {
    "duration": -329,
    "start_time": "2021-06-25T23:23:41.199Z"
   },
   {
    "duration": -334,
    "start_time": "2021-06-25T23:23:41.206Z"
   },
   {
    "duration": -342,
    "start_time": "2021-06-25T23:23:41.216Z"
   },
   {
    "duration": -347,
    "start_time": "2021-06-25T23:23:41.223Z"
   },
   {
    "duration": -356,
    "start_time": "2021-06-25T23:23:41.233Z"
   },
   {
    "duration": -360,
    "start_time": "2021-06-25T23:23:41.239Z"
   },
   {
    "duration": -369,
    "start_time": "2021-06-25T23:23:41.249Z"
   },
   {
    "duration": -387,
    "start_time": "2021-06-25T23:23:41.268Z"
   },
   {
    "duration": -393,
    "start_time": "2021-06-25T23:23:41.276Z"
   },
   {
    "duration": -404,
    "start_time": "2021-06-25T23:23:41.288Z"
   },
   {
    "duration": -413,
    "start_time": "2021-06-25T23:23:41.299Z"
   },
   {
    "duration": -419,
    "start_time": "2021-06-25T23:23:41.306Z"
   },
   {
    "duration": -427,
    "start_time": "2021-06-25T23:23:41.316Z"
   },
   {
    "duration": -432,
    "start_time": "2021-06-25T23:23:41.322Z"
   },
   {
    "duration": -439,
    "start_time": "2021-06-25T23:23:41.331Z"
   },
   {
    "duration": -447,
    "start_time": "2021-06-25T23:23:41.340Z"
   },
   {
    "duration": -459,
    "start_time": "2021-06-25T23:23:41.353Z"
   },
   {
    "duration": -467,
    "start_time": "2021-06-25T23:23:41.363Z"
   },
   {
    "duration": -472,
    "start_time": "2021-06-25T23:23:41.369Z"
   },
   {
    "duration": -427,
    "start_time": "2021-06-25T23:23:41.382Z"
   },
   {
    "duration": -430,
    "start_time": "2021-06-25T23:23:41.387Z"
   },
   {
    "duration": -441,
    "start_time": "2021-06-25T23:23:41.400Z"
   },
   {
    "duration": -457,
    "start_time": "2021-06-25T23:23:41.419Z"
   },
   {
    "duration": -467,
    "start_time": "2021-06-25T23:23:41.431Z"
   },
   {
    "duration": -471,
    "start_time": "2021-06-25T23:23:41.438Z"
   },
   {
    "duration": -487,
    "start_time": "2021-06-25T23:23:41.456Z"
   },
   {
    "duration": -497,
    "start_time": "2021-06-25T23:23:41.467Z"
   },
   {
    "duration": -502,
    "start_time": "2021-06-25T23:23:41.474Z"
   },
   {
    "duration": -509,
    "start_time": "2021-06-25T23:23:41.483Z"
   },
   {
    "duration": -515,
    "start_time": "2021-06-25T23:23:41.490Z"
   },
   {
    "duration": 612,
    "start_time": "2021-06-25T23:24:43.978Z"
   },
   {
    "duration": 7761,
    "start_time": "2021-06-25T23:24:44.593Z"
   },
   {
    "duration": 224,
    "start_time": "2021-06-25T23:24:52.358Z"
   },
   {
    "duration": 35,
    "start_time": "2021-06-25T23:24:52.585Z"
   },
   {
    "duration": 62,
    "start_time": "2021-06-25T23:24:52.622Z"
   },
   {
    "duration": 5,
    "start_time": "2021-06-25T23:24:52.687Z"
   },
   {
    "duration": 65,
    "start_time": "2021-06-25T23:24:52.695Z"
   },
   {
    "duration": 31,
    "start_time": "2021-06-25T23:24:52.763Z"
   },
   {
    "duration": 7,
    "start_time": "2021-06-25T23:24:52.798Z"
   },
   {
    "duration": 51,
    "start_time": "2021-06-25T23:24:52.807Z"
   },
   {
    "duration": 48,
    "start_time": "2021-06-25T23:24:52.861Z"
   },
   {
    "duration": 8,
    "start_time": "2021-06-25T23:24:52.911Z"
   },
   {
    "duration": 50,
    "start_time": "2021-06-25T23:24:52.921Z"
   },
   {
    "duration": 48,
    "start_time": "2021-06-25T23:24:52.973Z"
   },
   {
    "duration": 6,
    "start_time": "2021-06-25T23:24:53.023Z"
   },
   {
    "duration": 44,
    "start_time": "2021-06-25T23:24:53.031Z"
   },
   {
    "duration": 28,
    "start_time": "2021-06-25T23:24:53.078Z"
   },
   {
    "duration": 71,
    "start_time": "2021-06-25T23:24:53.109Z"
   },
   {
    "duration": 3,
    "start_time": "2021-06-25T23:24:53.182Z"
   },
   {
    "duration": 33,
    "start_time": "2021-06-25T23:24:53.187Z"
   },
   {
    "duration": 13,
    "start_time": "2021-06-25T23:24:53.223Z"
   },
   {
    "duration": 46,
    "start_time": "2021-06-25T23:24:53.238Z"
   },
   {
    "duration": 105,
    "start_time": "2021-06-25T23:24:53.291Z"
   },
   {
    "duration": 186,
    "start_time": "2021-06-25T23:24:53.216Z"
   },
   {
    "duration": 180,
    "start_time": "2021-06-25T23:24:53.223Z"
   },
   {
    "duration": 169,
    "start_time": "2021-06-25T23:24:53.236Z"
   },
   {
    "duration": 159,
    "start_time": "2021-06-25T23:24:53.247Z"
   },
   {
    "duration": 154,
    "start_time": "2021-06-25T23:24:53.254Z"
   },
   {
    "duration": 146,
    "start_time": "2021-06-25T23:24:53.263Z"
   },
   {
    "duration": 140,
    "start_time": "2021-06-25T23:24:53.270Z"
   },
   {
    "duration": 134,
    "start_time": "2021-06-25T23:24:53.278Z"
   },
   {
    "duration": 127,
    "start_time": "2021-06-25T23:24:53.287Z"
   },
   {
    "duration": 118,
    "start_time": "2021-06-25T23:24:53.297Z"
   },
   {
    "duration": 113,
    "start_time": "2021-06-25T23:24:53.304Z"
   },
   {
    "duration": 50,
    "start_time": "2021-06-25T23:24:53.368Z"
   },
   {
    "duration": 42,
    "start_time": "2021-06-25T23:24:53.378Z"
   },
   {
    "duration": 36,
    "start_time": "2021-06-25T23:24:53.385Z"
   },
   {
    "duration": 28,
    "start_time": "2021-06-25T23:24:53.394Z"
   },
   {
    "duration": 24,
    "start_time": "2021-06-25T23:24:53.400Z"
   },
   {
    "duration": 15,
    "start_time": "2021-06-25T23:24:53.410Z"
   },
   {
    "duration": 10,
    "start_time": "2021-06-25T23:24:53.417Z"
   },
   {
    "duration": 1,
    "start_time": "2021-06-25T23:24:53.427Z"
   },
   {
    "duration": -4,
    "start_time": "2021-06-25T23:24:53.434Z"
   },
   {
    "duration": -14,
    "start_time": "2021-06-25T23:24:53.445Z"
   },
   {
    "duration": -19,
    "start_time": "2021-06-25T23:24:53.452Z"
   },
   {
    "duration": -29,
    "start_time": "2021-06-25T23:24:53.463Z"
   },
   {
    "duration": -35,
    "start_time": "2021-06-25T23:24:53.470Z"
   },
   {
    "duration": -42,
    "start_time": "2021-06-25T23:24:53.479Z"
   },
   {
    "duration": -46,
    "start_time": "2021-06-25T23:24:53.484Z"
   },
   {
    "duration": -54,
    "start_time": "2021-06-25T23:24:53.494Z"
   },
   {
    "duration": -46,
    "start_time": "2021-06-25T23:24:53.501Z"
   },
   {
    "duration": -103,
    "start_time": "2021-06-25T23:24:53.560Z"
   },
   {
    "duration": -107,
    "start_time": "2021-06-25T23:24:53.566Z"
   },
   {
    "duration": -120,
    "start_time": "2021-06-25T23:24:53.582Z"
   },
   {
    "duration": -125,
    "start_time": "2021-06-25T23:24:53.589Z"
   },
   {
    "duration": -132,
    "start_time": "2021-06-25T23:24:53.599Z"
   },
   {
    "duration": -137,
    "start_time": "2021-06-25T23:24:53.606Z"
   },
   {
    "duration": -144,
    "start_time": "2021-06-25T23:24:53.615Z"
   },
   {
    "duration": -149,
    "start_time": "2021-06-25T23:24:53.622Z"
   },
   {
    "duration": -158,
    "start_time": "2021-06-25T23:24:53.632Z"
   },
   {
    "duration": -164,
    "start_time": "2021-06-25T23:24:53.639Z"
   },
   {
    "duration": -173,
    "start_time": "2021-06-25T23:24:53.650Z"
   },
   {
    "duration": -178,
    "start_time": "2021-06-25T23:24:53.656Z"
   },
   {
    "duration": -185,
    "start_time": "2021-06-25T23:24:53.665Z"
   },
   {
    "duration": -191,
    "start_time": "2021-06-25T23:24:53.672Z"
   },
   {
    "duration": -200,
    "start_time": "2021-06-25T23:24:53.683Z"
   },
   {
    "duration": -210,
    "start_time": "2021-06-25T23:24:53.694Z"
   },
   {
    "duration": -215,
    "start_time": "2021-06-25T23:24:53.700Z"
   },
   {
    "duration": -224,
    "start_time": "2021-06-25T23:24:53.712Z"
   },
   {
    "duration": -230,
    "start_time": "2021-06-25T23:24:53.719Z"
   },
   {
    "duration": -240,
    "start_time": "2021-06-25T23:24:53.730Z"
   },
   {
    "duration": -246,
    "start_time": "2021-06-25T23:24:53.738Z"
   },
   {
    "duration": -254,
    "start_time": "2021-06-25T23:24:53.747Z"
   },
   {
    "duration": -199,
    "start_time": "2021-06-25T23:24:53.753Z"
   },
   {
    "duration": -206,
    "start_time": "2021-06-25T23:24:53.763Z"
   },
   {
    "duration": -211,
    "start_time": "2021-06-25T23:24:53.770Z"
   },
   {
    "duration": -216,
    "start_time": "2021-06-25T23:24:53.778Z"
   },
   {
    "duration": -221,
    "start_time": "2021-06-25T23:24:53.785Z"
   },
   {
    "duration": -228,
    "start_time": "2021-06-25T23:24:53.794Z"
   },
   {
    "duration": -230,
    "start_time": "2021-06-25T23:24:53.799Z"
   },
   {
    "duration": -234,
    "start_time": "2021-06-25T23:24:53.805Z"
   },
   {
    "duration": -242,
    "start_time": "2021-06-25T23:24:53.815Z"
   },
   {
    "duration": -247,
    "start_time": "2021-06-25T23:24:53.821Z"
   },
   {
    "duration": -277,
    "start_time": "2021-06-25T23:24:53.853Z"
   },
   {
    "duration": -284,
    "start_time": "2021-06-25T23:24:53.862Z"
   },
   {
    "duration": -288,
    "start_time": "2021-06-25T23:24:53.867Z"
   },
   {
    "duration": -292,
    "start_time": "2021-06-25T23:24:53.873Z"
   },
   {
    "duration": -302,
    "start_time": "2021-06-25T23:24:53.884Z"
   },
   {
    "duration": -310,
    "start_time": "2021-06-25T23:24:53.894Z"
   },
   {
    "duration": -313,
    "start_time": "2021-06-25T23:24:53.898Z"
   },
   {
    "duration": -317,
    "start_time": "2021-06-25T23:24:53.904Z"
   },
   {
    "duration": -326,
    "start_time": "2021-06-25T23:24:53.914Z"
   },
   {
    "duration": -329,
    "start_time": "2021-06-25T23:24:53.919Z"
   },
   {
    "duration": -336,
    "start_time": "2021-06-25T23:24:53.928Z"
   },
   {
    "duration": -278,
    "start_time": "2021-06-25T23:24:53.934Z"
   },
   {
    "duration": -285,
    "start_time": "2021-06-25T23:24:53.943Z"
   },
   {
    "duration": -287,
    "start_time": "2021-06-25T23:24:53.948Z"
   },
   {
    "duration": -290,
    "start_time": "2021-06-25T23:24:53.953Z"
   },
   {
    "duration": -297,
    "start_time": "2021-06-25T23:24:53.962Z"
   },
   {
    "duration": -300,
    "start_time": "2021-06-25T23:24:53.967Z"
   },
   {
    "duration": -308,
    "start_time": "2021-06-25T23:24:53.977Z"
   },
   {
    "duration": -311,
    "start_time": "2021-06-25T23:24:53.982Z"
   },
   {
    "duration": -317,
    "start_time": "2021-06-25T23:24:53.989Z"
   },
   {
    "duration": -323,
    "start_time": "2021-06-25T23:24:53.997Z"
   },
   {
    "duration": -328,
    "start_time": "2021-06-25T23:24:54.003Z"
   },
   {
    "duration": 624,
    "start_time": "2021-06-25T23:25:24.444Z"
   },
   {
    "duration": 7765,
    "start_time": "2021-06-25T23:25:25.072Z"
   },
   {
    "duration": 209,
    "start_time": "2021-06-25T23:25:32.840Z"
   },
   {
    "duration": 44,
    "start_time": "2021-06-25T23:25:33.052Z"
   },
   {
    "duration": 73,
    "start_time": "2021-06-25T23:25:33.099Z"
   },
   {
    "duration": 6,
    "start_time": "2021-06-25T23:25:33.176Z"
   },
   {
    "duration": 72,
    "start_time": "2021-06-25T23:25:33.185Z"
   },
   {
    "duration": 28,
    "start_time": "2021-06-25T23:25:33.263Z"
   },
   {
    "duration": 7,
    "start_time": "2021-06-25T23:25:33.294Z"
   },
   {
    "duration": 16,
    "start_time": "2021-06-25T23:25:33.303Z"
   },
   {
    "duration": 33,
    "start_time": "2021-06-25T23:25:33.356Z"
   },
   {
    "duration": 8,
    "start_time": "2021-06-25T23:25:33.391Z"
   },
   {
    "duration": 70,
    "start_time": "2021-06-25T23:25:33.402Z"
   },
   {
    "duration": 49,
    "start_time": "2021-06-25T23:25:33.474Z"
   },
   {
    "duration": 30,
    "start_time": "2021-06-25T23:25:33.525Z"
   },
   {
    "duration": 21,
    "start_time": "2021-06-25T23:25:33.559Z"
   },
   {
    "duration": 28,
    "start_time": "2021-06-25T23:25:33.582Z"
   },
   {
    "duration": 69,
    "start_time": "2021-06-25T23:25:33.613Z"
   },
   {
    "duration": 4,
    "start_time": "2021-06-25T23:25:33.685Z"
   },
   {
    "duration": 29,
    "start_time": "2021-06-25T23:25:33.692Z"
   },
   {
    "duration": 11,
    "start_time": "2021-06-25T23:25:33.723Z"
   },
   {
    "duration": 50,
    "start_time": "2021-06-25T23:25:33.737Z"
   },
   {
    "duration": 3,
    "start_time": "2021-06-25T23:25:33.793Z"
   },
   {
    "duration": 19,
    "start_time": "2021-06-25T23:25:33.801Z"
   },
   {
    "duration": 55,
    "start_time": "2021-06-25T23:25:33.822Z"
   },
   {
    "duration": 31,
    "start_time": "2021-06-25T23:25:33.879Z"
   },
   {
    "duration": 163,
    "start_time": "2021-06-25T23:25:33.913Z"
   },
   {
    "duration": 56,
    "start_time": "2021-06-25T23:25:34.079Z"
   },
   {
    "duration": 48,
    "start_time": "2021-06-25T23:25:34.137Z"
   },
   {
    "duration": 105,
    "start_time": "2021-06-25T23:25:34.187Z"
   },
   {
    "duration": 406,
    "start_time": "2021-06-25T23:25:34.294Z"
   },
   {
    "duration": 43,
    "start_time": "2021-06-25T23:25:34.662Z"
   },
   {
    "duration": 38,
    "start_time": "2021-06-25T23:25:34.668Z"
   },
   {
    "duration": 28,
    "start_time": "2021-06-25T23:25:34.679Z"
   },
   {
    "duration": 22,
    "start_time": "2021-06-25T23:25:34.686Z"
   },
   {
    "duration": 13,
    "start_time": "2021-06-25T23:25:34.697Z"
   },
   {
    "duration": -54,
    "start_time": "2021-06-25T23:25:34.765Z"
   },
   {
    "duration": -64,
    "start_time": "2021-06-25T23:25:34.776Z"
   },
   {
    "duration": -68,
    "start_time": "2021-06-25T23:25:34.782Z"
   },
   {
    "duration": -77,
    "start_time": "2021-06-25T23:25:34.792Z"
   },
   {
    "duration": -83,
    "start_time": "2021-06-25T23:25:34.799Z"
   },
   {
    "duration": -93,
    "start_time": "2021-06-25T23:25:34.811Z"
   },
   {
    "duration": -103,
    "start_time": "2021-06-25T23:25:34.823Z"
   },
   {
    "duration": -113,
    "start_time": "2021-06-25T23:25:34.834Z"
   },
   {
    "duration": -124,
    "start_time": "2021-06-25T23:25:34.846Z"
   },
   {
    "duration": -129,
    "start_time": "2021-06-25T23:25:34.853Z"
   },
   {
    "duration": -137,
    "start_time": "2021-06-25T23:25:34.862Z"
   },
   {
    "duration": -143,
    "start_time": "2021-06-25T23:25:34.869Z"
   },
   {
    "duration": -155,
    "start_time": "2021-06-25T23:25:34.882Z"
   },
   {
    "duration": -164,
    "start_time": "2021-06-25T23:25:34.893Z"
   },
   {
    "duration": -171,
    "start_time": "2021-06-25T23:25:34.901Z"
   },
   {
    "duration": -246,
    "start_time": "2021-06-25T23:25:34.978Z"
   },
   {
    "duration": -252,
    "start_time": "2021-06-25T23:25:34.985Z"
   },
   {
    "duration": -261,
    "start_time": "2021-06-25T23:25:34.996Z"
   },
   {
    "duration": -247,
    "start_time": "2021-06-25T23:25:35.004Z"
   },
   {
    "duration": -254,
    "start_time": "2021-06-25T23:25:35.013Z"
   },
   {
    "duration": -258,
    "start_time": "2021-06-25T23:25:35.020Z"
   },
   {
    "duration": -266,
    "start_time": "2021-06-25T23:25:35.031Z"
   },
   {
    "duration": -274,
    "start_time": "2021-06-25T23:25:35.041Z"
   },
   {
    "duration": -282,
    "start_time": "2021-06-25T23:25:35.052Z"
   },
   {
    "duration": -290,
    "start_time": "2021-06-25T23:25:35.061Z"
   },
   {
    "duration": -294,
    "start_time": "2021-06-25T23:25:35.067Z"
   },
   {
    "duration": -301,
    "start_time": "2021-06-25T23:25:35.076Z"
   },
   {
    "duration": -306,
    "start_time": "2021-06-25T23:25:35.082Z"
   },
   {
    "duration": -311,
    "start_time": "2021-06-25T23:25:35.088Z"
   },
   {
    "duration": -319,
    "start_time": "2021-06-25T23:25:35.098Z"
   },
   {
    "duration": -326,
    "start_time": "2021-06-25T23:25:35.106Z"
   },
   {
    "duration": -335,
    "start_time": "2021-06-25T23:25:35.116Z"
   },
   {
    "duration": -343,
    "start_time": "2021-06-25T23:25:35.126Z"
   },
   {
    "duration": -349,
    "start_time": "2021-06-25T23:25:35.133Z"
   },
   {
    "duration": -360,
    "start_time": "2021-06-25T23:25:35.145Z"
   },
   {
    "duration": -366,
    "start_time": "2021-06-25T23:25:35.152Z"
   },
   {
    "duration": -375,
    "start_time": "2021-06-25T23:25:35.163Z"
   },
   {
    "duration": -380,
    "start_time": "2021-06-25T23:25:35.169Z"
   },
   {
    "duration": -389,
    "start_time": "2021-06-25T23:25:35.179Z"
   },
   {
    "duration": -394,
    "start_time": "2021-06-25T23:25:35.185Z"
   },
   {
    "duration": -401,
    "start_time": "2021-06-25T23:25:35.194Z"
   },
   {
    "duration": -347,
    "start_time": "2021-06-25T23:25:35.201Z"
   },
   {
    "duration": -356,
    "start_time": "2021-06-25T23:25:35.211Z"
   },
   {
    "duration": -359,
    "start_time": "2021-06-25T23:25:35.216Z"
   },
   {
    "duration": -389,
    "start_time": "2021-06-25T23:25:35.248Z"
   },
   {
    "duration": -399,
    "start_time": "2021-06-25T23:25:35.259Z"
   },
   {
    "duration": -403,
    "start_time": "2021-06-25T23:25:35.265Z"
   },
   {
    "duration": -406,
    "start_time": "2021-06-25T23:25:35.270Z"
   },
   {
    "duration": -414,
    "start_time": "2021-06-25T23:25:35.280Z"
   },
   {
    "duration": -418,
    "start_time": "2021-06-25T23:25:35.286Z"
   },
   {
    "duration": -424,
    "start_time": "2021-06-25T23:25:35.295Z"
   },
   {
    "duration": -427,
    "start_time": "2021-06-25T23:25:35.301Z"
   },
   {
    "duration": -434,
    "start_time": "2021-06-25T23:25:35.311Z"
   },
   {
    "duration": -437,
    "start_time": "2021-06-25T23:25:35.317Z"
   },
   {
    "duration": -444,
    "start_time": "2021-06-25T23:25:35.326Z"
   },
   {
    "duration": -447,
    "start_time": "2021-06-25T23:25:35.331Z"
   },
   {
    "duration": -452,
    "start_time": "2021-06-25T23:25:35.338Z"
   },
   {
    "duration": -459,
    "start_time": "2021-06-25T23:25:35.347Z"
   },
   {
    "duration": -465,
    "start_time": "2021-06-25T23:25:35.355Z"
   },
   {
    "duration": -409,
    "start_time": "2021-06-25T23:25:35.364Z"
   },
   {
    "duration": -413,
    "start_time": "2021-06-25T23:25:35.370Z"
   },
   {
    "duration": -421,
    "start_time": "2021-06-25T23:25:35.380Z"
   },
   {
    "duration": -426,
    "start_time": "2021-06-25T23:25:35.387Z"
   },
   {
    "duration": -434,
    "start_time": "2021-06-25T23:25:35.396Z"
   },
   {
    "duration": -438,
    "start_time": "2021-06-25T23:25:35.402Z"
   },
   {
    "duration": -445,
    "start_time": "2021-06-25T23:25:35.411Z"
   },
   {
    "duration": -451,
    "start_time": "2021-06-25T23:25:35.418Z"
   },
   {
    "duration": -459,
    "start_time": "2021-06-25T23:25:35.429Z"
   },
   {
    "duration": -467,
    "start_time": "2021-06-25T23:25:35.438Z"
   },
   {
    "duration": 33,
    "start_time": "2021-06-25T23:26:15.536Z"
   },
   {
    "duration": 49,
    "start_time": "2021-06-25T23:26:22.922Z"
   },
   {
    "duration": 39,
    "start_time": "2021-06-25T23:26:27.739Z"
   },
   {
    "duration": 17,
    "start_time": "2021-06-25T23:26:29.278Z"
   },
   {
    "duration": 267,
    "start_time": "2021-06-25T23:26:32.031Z"
   },
   {
    "duration": 3353,
    "start_time": "2021-06-25T23:26:39.160Z"
   },
   {
    "duration": 25,
    "start_time": "2021-06-25T23:27:01.225Z"
   },
   {
    "duration": 5,
    "start_time": "2021-06-25T23:27:02.969Z"
   },
   {
    "duration": 13,
    "start_time": "2021-06-25T23:27:03.943Z"
   },
   {
    "duration": 20,
    "start_time": "2021-06-25T23:27:06.201Z"
   },
   {
    "duration": 9,
    "start_time": "2021-06-25T23:27:07.712Z"
   },
   {
    "duration": 6,
    "start_time": "2021-06-25T23:27:10.433Z"
   },
   {
    "duration": 7,
    "start_time": "2021-06-25T23:27:11.616Z"
   },
   {
    "duration": 23,
    "start_time": "2021-06-25T23:27:14.240Z"
   },
   {
    "duration": 18,
    "start_time": "2021-06-25T23:27:16.256Z"
   },
   {
    "duration": 30,
    "start_time": "2021-06-25T23:27:18.080Z"
   },
   {
    "duration": 20,
    "start_time": "2021-06-25T23:27:21.865Z"
   },
   {
    "duration": 45,
    "start_time": "2021-06-25T23:27:23.520Z"
   },
   {
    "duration": 30,
    "start_time": "2021-06-25T23:27:25.816Z"
   },
   {
    "duration": 1795,
    "start_time": "2021-06-25T23:27:28.824Z"
   },
   {
    "duration": 97,
    "start_time": "2021-06-25T23:27:33.432Z"
   },
   {
    "duration": 297,
    "start_time": "2021-06-25T23:27:34.955Z"
   },
   {
    "duration": 92,
    "start_time": "2021-06-25T23:27:44.009Z"
   },
   {
    "duration": 96,
    "start_time": "2021-06-25T23:27:45.922Z"
   },
   {
    "duration": 91,
    "start_time": "2021-06-25T23:27:48.138Z"
   },
   {
    "duration": 49,
    "start_time": "2021-06-25T23:27:52.665Z"
   },
   {
    "duration": 1356,
    "start_time": "2021-06-25T23:27:54.456Z"
   },
   {
    "duration": 31,
    "start_time": "2021-06-25T23:28:00.386Z"
   },
   {
    "duration": 447,
    "start_time": "2021-06-25T23:28:04.147Z"
   },
   {
    "duration": 47,
    "start_time": "2021-06-25T23:28:06.587Z"
   },
   {
    "duration": 20,
    "start_time": "2021-06-25T23:28:10.467Z"
   },
   {
    "duration": 335,
    "start_time": "2021-06-25T23:28:27.730Z"
   },
   {
    "duration": 25,
    "start_time": "2021-06-25T23:28:30.356Z"
   },
   {
    "duration": 63,
    "start_time": "2021-06-25T23:28:45.505Z"
   },
   {
    "duration": 27,
    "start_time": "2021-06-25T23:28:48.145Z"
   },
   {
    "duration": 81,
    "start_time": "2021-06-25T23:28:49.713Z"
   },
   {
    "duration": 27,
    "start_time": "2021-06-25T23:28:52.385Z"
   },
   {
    "duration": 312,
    "start_time": "2021-06-25T23:28:56.868Z"
   },
   {
    "duration": 5,
    "start_time": "2021-06-25T23:28:57.183Z"
   },
   {
    "duration": 432,
    "start_time": "2021-06-25T23:29:00.427Z"
   },
   {
    "duration": 62,
    "start_time": "2021-06-25T23:29:04.874Z"
   },
   {
    "duration": 25,
    "start_time": "2021-06-25T23:29:07.290Z"
   },
   {
    "duration": 324,
    "start_time": "2021-06-25T23:29:09.097Z"
   },
   {
    "duration": 5,
    "start_time": "2021-06-25T23:29:12.753Z"
   },
   {
    "duration": 32,
    "start_time": "2021-06-25T23:29:15.545Z"
   },
   {
    "duration": 25,
    "start_time": "2021-06-25T23:29:22.634Z"
   },
   {
    "duration": 320,
    "start_time": "2021-06-25T23:29:29.170Z"
   },
   {
    "duration": 249,
    "start_time": "2021-06-25T23:29:32.330Z"
   },
   {
    "duration": 9,
    "start_time": "2021-06-25T23:29:34.668Z"
   },
   {
    "duration": 3,
    "start_time": "2021-06-25T23:29:36.586Z"
   },
   {
    "duration": 257,
    "start_time": "2021-06-25T23:29:38.114Z"
   },
   {
    "duration": 76,
    "start_time": "2021-06-25T23:29:40.946Z"
   },
   {
    "duration": 17,
    "start_time": "2021-06-25T23:29:45.371Z"
   },
   {
    "duration": 13,
    "start_time": "2021-06-25T23:29:47.587Z"
   },
   {
    "duration": 149,
    "start_time": "2021-06-25T23:29:49.679Z"
   },
   {
    "duration": 5,
    "start_time": "2021-06-25T23:29:51.618Z"
   },
   {
    "duration": 170,
    "start_time": "2021-06-25T23:29:52.908Z"
   },
   {
    "duration": 24,
    "start_time": "2021-06-25T23:29:54.971Z"
   },
   {
    "duration": 1023,
    "start_time": "2021-06-25T23:30:00.747Z"
   },
   {
    "duration": 1208,
    "start_time": "2021-06-25T23:30:02.607Z"
   },
   {
    "duration": 3,
    "start_time": "2021-06-25T23:30:12.342Z"
   },
   {
    "duration": 45,
    "start_time": "2021-06-25T23:30:14.068Z"
   },
   {
    "duration": 287,
    "start_time": "2021-06-25T23:30:16.116Z"
   },
   {
    "duration": 181,
    "start_time": "2021-06-25T23:30:19.045Z"
   },
   {
    "duration": 26,
    "start_time": "2021-06-25T23:30:22.461Z"
   },
   {
    "duration": 2311,
    "start_time": "2021-06-25T23:30:26.179Z"
   },
   {
    "duration": 848,
    "start_time": "2021-06-25T23:30:33.796Z"
   },
   {
    "duration": 307,
    "start_time": "2021-06-25T23:30:40.147Z"
   },
   {
    "duration": 222,
    "start_time": "2021-06-25T23:30:42.492Z"
   },
   {
    "duration": 173,
    "start_time": "2021-06-25T23:30:48.260Z"
   },
   {
    "duration": 2265,
    "start_time": "2021-06-25T23:30:53.075Z"
   },
   {
    "duration": 832,
    "start_time": "2021-06-25T23:30:55.576Z"
   },
   {
    "duration": 323,
    "start_time": "2021-06-25T23:31:00.213Z"
   },
   {
    "duration": 225,
    "start_time": "2021-06-25T23:31:02.516Z"
   },
   {
    "duration": 174,
    "start_time": "2021-06-25T23:31:08.133Z"
   },
   {
    "duration": 37,
    "start_time": "2021-06-25T23:34:00.716Z"
   },
   {
    "duration": 34,
    "start_time": "2021-06-25T23:42:19.015Z"
   },
   {
    "duration": 43,
    "start_time": "2021-06-25T23:42:36.651Z"
   },
   {
    "duration": 9,
    "start_time": "2021-06-25T23:42:50.607Z"
   },
   {
    "duration": 111,
    "start_time": "2021-06-25T23:46:47.383Z"
   },
   {
    "duration": 269,
    "start_time": "2021-06-25T23:48:40.913Z"
   },
   {
    "duration": 11,
    "start_time": "2021-06-25T23:48:51.927Z"
   },
   {
    "duration": 3474,
    "start_time": "2021-06-25T23:58:18.017Z"
   },
   {
    "duration": 527,
    "start_time": "2021-06-25T23:59:14.170Z"
   },
   {
    "duration": 793,
    "start_time": "2021-06-26T00:00:35.507Z"
   },
   {
    "duration": 744,
    "start_time": "2021-06-26T00:01:40.165Z"
   },
   {
    "duration": 53,
    "start_time": "2021-06-26T00:02:21.395Z"
   },
   {
    "duration": 747,
    "start_time": "2021-06-26T00:02:30.438Z"
   },
   {
    "duration": 63,
    "start_time": "2021-06-26T00:02:33.427Z"
   },
   {
    "duration": 848,
    "start_time": "2021-06-26T00:02:42.024Z"
   },
   {
    "duration": 829,
    "start_time": "2021-06-26T00:02:52.958Z"
   },
   {
    "duration": 1899,
    "start_time": "2021-06-26T00:03:04.318Z"
   },
   {
    "duration": 1786,
    "start_time": "2021-06-26T00:03:31.304Z"
   },
   {
    "duration": 2729,
    "start_time": "2021-06-26T00:04:04.016Z"
   },
   {
    "duration": 1799,
    "start_time": "2021-06-26T00:04:18.899Z"
   },
   {
    "duration": 1839,
    "start_time": "2021-06-26T00:05:23.692Z"
   },
   {
    "duration": 1831,
    "start_time": "2021-06-26T00:06:30.919Z"
   },
   {
    "duration": 1807,
    "start_time": "2021-06-26T00:06:50.148Z"
   },
   {
    "duration": 11099,
    "start_time": "2021-06-26T00:07:20.458Z"
   },
   {
    "duration": 1881,
    "start_time": "2021-06-26T00:09:27.388Z"
   },
   {
    "duration": 35,
    "start_time": "2021-06-26T00:10:37.254Z"
   },
   {
    "duration": 43,
    "start_time": "2021-06-26T00:11:05.053Z"
   },
   {
    "duration": 119,
    "start_time": "2021-06-26T00:12:08.881Z"
   },
   {
    "duration": 116,
    "start_time": "2021-06-26T00:12:33.681Z"
   },
   {
    "duration": 208,
    "start_time": "2021-06-26T00:13:38.303Z"
   },
   {
    "duration": 33,
    "start_time": "2021-06-26T00:13:41.902Z"
   },
   {
    "duration": 28,
    "start_time": "2021-06-26T00:13:45.993Z"
   },
   {
    "duration": 5,
    "start_time": "2021-06-26T00:13:53.479Z"
   },
   {
    "duration": 34,
    "start_time": "2021-06-26T00:13:57.399Z"
   },
   {
    "duration": 8,
    "start_time": "2021-06-26T00:14:19.592Z"
   },
   {
    "duration": 6,
    "start_time": "2021-06-26T00:14:21.237Z"
   },
   {
    "duration": 28,
    "start_time": "2021-06-26T00:14:24.727Z"
   },
   {
    "duration": 10,
    "start_time": "2021-06-26T00:14:27.574Z"
   },
   {
    "duration": 25,
    "start_time": "2021-06-26T00:14:31.383Z"
   },
   {
    "duration": 45,
    "start_time": "2021-06-26T00:14:34.137Z"
   },
   {
    "duration": 8,
    "start_time": "2021-06-26T00:14:36.663Z"
   },
   {
    "duration": 14,
    "start_time": "2021-06-26T00:14:38.279Z"
   },
   {
    "duration": 26,
    "start_time": "2021-06-26T00:14:44.031Z"
   },
   {
    "duration": 29,
    "start_time": "2021-06-26T00:14:51.407Z"
   },
   {
    "duration": 29,
    "start_time": "2021-06-26T00:15:08.278Z"
   },
   {
    "duration": 89,
    "start_time": "2021-06-26T00:15:21.029Z"
   },
   {
    "duration": 4,
    "start_time": "2021-06-26T00:15:50.050Z"
   },
   {
    "duration": 28,
    "start_time": "2021-06-26T00:15:53.538Z"
   },
   {
    "duration": 12,
    "start_time": "2021-06-26T00:16:11.292Z"
   },
   {
    "duration": 44,
    "start_time": "2021-06-26T00:16:13.689Z"
   },
   {
    "duration": 899,
    "start_time": "2021-06-26T00:17:10.860Z"
   },
   {
    "duration": 15,
    "start_time": "2021-06-26T00:17:14.213Z"
   },
   {
    "duration": 34,
    "start_time": "2021-06-26T00:17:50.964Z"
   },
   {
    "duration": 283,
    "start_time": "2021-06-26T00:23:35.386Z"
   },
   {
    "duration": 283,
    "start_time": "2021-06-26T00:25:02.140Z"
   },
   {
    "duration": 289,
    "start_time": "2021-06-26T00:25:41.132Z"
   },
   {
    "duration": 30,
    "start_time": "2021-06-26T00:25:48.435Z"
   },
   {
    "duration": 28,
    "start_time": "2021-06-26T00:26:13.685Z"
   },
   {
    "duration": 313,
    "start_time": "2021-06-26T00:26:28.628Z"
   },
   {
    "duration": 295,
    "start_time": "2021-06-26T00:26:56.372Z"
   },
   {
    "duration": 71,
    "start_time": "2021-06-26T00:27:08.853Z"
   },
   {
    "duration": 1023,
    "start_time": "2021-06-26T00:27:40.734Z"
   },
   {
    "duration": 980,
    "start_time": "2021-06-26T00:28:19.505Z"
   },
   {
    "duration": 985,
    "start_time": "2021-06-26T00:29:00.633Z"
   },
   {
    "duration": 34,
    "start_time": "2021-06-26T00:29:02.455Z"
   },
   {
    "duration": 53,
    "start_time": "2021-06-26T00:29:17.191Z"
   },
   {
    "duration": 55,
    "start_time": "2021-06-26T00:29:28.800Z"
   },
   {
    "duration": 7,
    "start_time": "2021-06-26T00:29:31.798Z"
   },
   {
    "duration": 29,
    "start_time": "2021-06-26T00:30:49.054Z"
   },
   {
    "duration": 90,
    "start_time": "2021-06-26T00:32:05.065Z"
   },
   {
    "duration": 213,
    "start_time": "2021-06-26T00:32:44.571Z"
   },
   {
    "duration": 4031,
    "start_time": "2021-06-26T00:32:56.903Z"
   },
   {
    "duration": 3157,
    "start_time": "2021-06-26T00:33:46.260Z"
   },
   {
    "duration": 3214,
    "start_time": "2021-06-26T00:34:16.941Z"
   },
   {
    "duration": 6,
    "start_time": "2021-06-26T00:34:23.850Z"
   },
   {
    "duration": 7,
    "start_time": "2021-06-26T00:34:26.027Z"
   },
   {
    "duration": 6,
    "start_time": "2021-06-26T00:35:12.173Z"
   },
   {
    "duration": 263,
    "start_time": "2021-06-26T00:35:43.821Z"
   },
   {
    "duration": 4133,
    "start_time": "2021-06-26T00:47:58.580Z"
   },
   {
    "duration": 962,
    "start_time": "2021-06-26T00:48:37.562Z"
   },
   {
    "duration": 872,
    "start_time": "2021-06-26T00:49:08.795Z"
   },
   {
    "duration": 990,
    "start_time": "2021-06-26T00:49:37.756Z"
   },
   {
    "duration": 261,
    "start_time": "2021-06-26T00:50:22.885Z"
   },
   {
    "duration": 867,
    "start_time": "2021-06-26T00:50:31.588Z"
   },
   {
    "duration": 1124,
    "start_time": "2021-06-26T00:51:13.181Z"
   },
   {
    "duration": 1160,
    "start_time": "2021-06-26T00:51:30.437Z"
   },
   {
    "duration": 1072,
    "start_time": "2021-06-26T00:53:52.248Z"
   },
   {
    "duration": 379,
    "start_time": "2021-06-26T00:56:11.715Z"
   },
   {
    "duration": 381,
    "start_time": "2021-06-26T00:56:26.465Z"
   },
   {
    "duration": 372,
    "start_time": "2021-06-26T00:56:34.113Z"
   },
   {
    "duration": 869,
    "start_time": "2021-06-26T00:57:30.876Z"
   },
   {
    "duration": 1498,
    "start_time": "2021-06-26T00:58:51.543Z"
   },
   {
    "duration": 1249,
    "start_time": "2021-06-26T00:58:56.395Z"
   },
   {
    "duration": 1272,
    "start_time": "2021-06-26T00:59:10.444Z"
   },
   {
    "duration": 1253,
    "start_time": "2021-06-26T00:59:17.035Z"
   },
   {
    "duration": 1111,
    "start_time": "2021-06-26T00:59:29.676Z"
   },
   {
    "duration": 96,
    "start_time": "2021-06-26T01:00:54.645Z"
   },
   {
    "duration": 287,
    "start_time": "2021-06-26T01:04:54.051Z"
   },
   {
    "duration": 1138,
    "start_time": "2021-06-26T01:05:08.800Z"
   },
   {
    "duration": 1016,
    "start_time": "2021-06-26T01:05:31.866Z"
   },
   {
    "duration": 1046,
    "start_time": "2021-06-26T01:06:15.763Z"
   },
   {
    "duration": 1584,
    "start_time": "2021-06-26T01:06:28.221Z"
   },
   {
    "duration": 1103,
    "start_time": "2021-06-26T01:07:24.187Z"
   },
   {
    "duration": 875,
    "start_time": "2021-06-26T01:07:36.886Z"
   },
   {
    "duration": 2630,
    "start_time": "2021-06-26T01:07:50.965Z"
   },
   {
    "duration": 5188,
    "start_time": "2021-06-26T01:09:04.575Z"
   },
   {
    "duration": 331,
    "start_time": "2021-06-26T01:10:26.140Z"
   },
   {
    "duration": 313,
    "start_time": "2021-06-26T01:10:46.063Z"
   },
   {
    "duration": 95,
    "start_time": "2021-06-26T01:14:09.068Z"
   },
   {
    "duration": 851,
    "start_time": "2021-06-26T01:14:23.035Z"
   },
   {
    "duration": 90,
    "start_time": "2021-06-26T01:19:26.738Z"
   },
   {
    "duration": 980,
    "start_time": "2021-06-26T01:19:32.952Z"
   },
   {
    "duration": 214,
    "start_time": "2021-06-26T01:19:51.288Z"
   },
   {
    "duration": 218,
    "start_time": "2021-06-26T01:20:01.930Z"
   },
   {
    "duration": 802,
    "start_time": "2021-06-26T01:21:40.971Z"
   },
   {
    "duration": 3910,
    "start_time": "2021-06-26T01:23:08.109Z"
   },
   {
    "duration": 1469,
    "start_time": "2021-06-26T01:24:08.333Z"
   },
   {
    "duration": 1690,
    "start_time": "2021-06-26T01:24:44.951Z"
   },
   {
    "duration": 315,
    "start_time": "2021-06-26T01:25:42.784Z"
   },
   {
    "duration": 99,
    "start_time": "2021-06-26T01:26:05.728Z"
   },
   {
    "duration": 653,
    "start_time": "2021-06-26T01:26:15.814Z"
   },
   {
    "duration": 1224,
    "start_time": "2021-06-26T01:26:35.498Z"
   },
   {
    "duration": 1574,
    "start_time": "2021-06-26T01:27:35.731Z"
   },
   {
    "duration": 1331,
    "start_time": "2021-06-26T01:27:59.289Z"
   },
   {
    "duration": 1013,
    "start_time": "2021-06-26T01:28:50.355Z"
   },
   {
    "duration": 1087,
    "start_time": "2021-06-26T01:29:14.371Z"
   },
   {
    "duration": 1289,
    "start_time": "2021-06-26T01:29:35.875Z"
   },
   {
    "duration": 38,
    "start_time": "2021-06-26T01:36:53.666Z"
   },
   {
    "duration": 20,
    "start_time": "2021-06-26T01:36:55.642Z"
   },
   {
    "duration": 300,
    "start_time": "2021-06-26T01:37:45.281Z"
   },
   {
    "duration": 593,
    "start_time": "2021-06-26T01:39:52.253Z"
   },
   {
    "duration": 7468,
    "start_time": "2021-06-26T01:39:52.849Z"
   },
   {
    "duration": 277,
    "start_time": "2021-06-26T01:40:00.320Z"
   },
   {
    "duration": 35,
    "start_time": "2021-06-26T01:40:00.600Z"
   },
   {
    "duration": 48,
    "start_time": "2021-06-26T01:40:00.637Z"
   },
   {
    "duration": 18,
    "start_time": "2021-06-26T01:40:00.688Z"
   },
   {
    "duration": 67,
    "start_time": "2021-06-26T01:40:00.708Z"
   },
   {
    "duration": 37,
    "start_time": "2021-06-26T01:40:00.779Z"
   },
   {
    "duration": 9,
    "start_time": "2021-06-26T01:40:00.819Z"
   },
   {
    "duration": 30,
    "start_time": "2021-06-26T01:40:00.830Z"
   },
   {
    "duration": 48,
    "start_time": "2021-06-26T01:40:00.862Z"
   },
   {
    "duration": 8,
    "start_time": "2021-06-26T01:40:00.913Z"
   },
   {
    "duration": 36,
    "start_time": "2021-06-26T01:40:00.923Z"
   },
   {
    "duration": 50,
    "start_time": "2021-06-26T01:40:00.961Z"
   },
   {
    "duration": 6,
    "start_time": "2021-06-26T01:40:01.013Z"
   },
   {
    "duration": 42,
    "start_time": "2021-06-26T01:40:01.021Z"
   },
   {
    "duration": 36,
    "start_time": "2021-06-26T01:40:01.065Z"
   },
   {
    "duration": 40,
    "start_time": "2021-06-26T01:40:01.103Z"
   },
   {
    "duration": 61,
    "start_time": "2021-06-26T01:40:01.145Z"
   },
   {
    "duration": 39,
    "start_time": "2021-06-26T01:40:01.208Z"
   },
   {
    "duration": 989,
    "start_time": "2021-06-26T01:40:01.250Z"
   },
   {
    "duration": 3,
    "start_time": "2021-06-26T01:40:02.241Z"
   },
   {
    "duration": 977,
    "start_time": "2021-06-26T01:40:02.256Z"
   },
   {
    "duration": 46,
    "start_time": "2021-06-26T01:40:03.237Z"
   },
   {
    "duration": 150,
    "start_time": "2021-06-26T01:40:03.286Z"
   },
   {
    "duration": 65,
    "start_time": "2021-06-26T01:40:03.439Z"
   },
   {
    "duration": 30,
    "start_time": "2021-06-26T01:40:03.507Z"
   },
   {
    "duration": 73,
    "start_time": "2021-06-26T01:40:03.555Z"
   },
   {
    "duration": 88,
    "start_time": "2021-06-26T01:40:03.631Z"
   },
   {
    "duration": 45,
    "start_time": "2021-06-26T01:40:03.722Z"
   },
   {
    "duration": 53,
    "start_time": "2021-06-26T01:40:03.769Z"
   },
   {
    "duration": 63,
    "start_time": "2021-06-26T01:40:03.825Z"
   },
   {
    "duration": 17,
    "start_time": "2021-06-26T01:40:03.890Z"
   },
   {
    "duration": 78,
    "start_time": "2021-06-26T01:40:03.910Z"
   },
   {
    "duration": 7,
    "start_time": "2021-06-26T01:40:03.991Z"
   },
   {
    "duration": 49,
    "start_time": "2021-06-26T01:40:04.001Z"
   },
   {
    "duration": 5,
    "start_time": "2021-06-26T01:40:04.055Z"
   },
   {
    "duration": 27,
    "start_time": "2021-06-26T01:40:04.063Z"
   },
   {
    "duration": 33,
    "start_time": "2021-06-26T01:40:04.093Z"
   },
   {
    "duration": 26,
    "start_time": "2021-06-26T01:40:04.129Z"
   },
   {
    "duration": 5,
    "start_time": "2021-06-26T01:40:04.158Z"
   },
   {
    "duration": 15,
    "start_time": "2021-06-26T01:40:04.165Z"
   },
   {
    "duration": 26,
    "start_time": "2021-06-26T01:40:04.183Z"
   },
   {
    "duration": 12,
    "start_time": "2021-06-26T01:40:04.212Z"
   },
   {
    "duration": 52,
    "start_time": "2021-06-26T01:40:04.226Z"
   },
   {
    "duration": 16,
    "start_time": "2021-06-26T01:40:04.281Z"
   },
   {
    "duration": 44,
    "start_time": "2021-06-26T01:40:04.300Z"
   },
   {
    "duration": 39,
    "start_time": "2021-06-26T01:40:04.355Z"
   },
   {
    "duration": 1041,
    "start_time": "2021-06-26T01:40:04.396Z"
   },
   {
    "duration": 93,
    "start_time": "2021-06-26T01:40:05.440Z"
   },
   {
    "duration": 95,
    "start_time": "2021-06-26T01:40:05.535Z"
   },
   {
    "duration": 99,
    "start_time": "2021-06-26T01:40:05.633Z"
   },
   {
    "duration": 94,
    "start_time": "2021-06-26T01:40:05.735Z"
   },
   {
    "duration": 91,
    "start_time": "2021-06-26T01:40:05.831Z"
   },
   {
    "duration": 57,
    "start_time": "2021-06-26T01:40:05.925Z"
   },
   {
    "duration": 1242,
    "start_time": "2021-06-26T01:40:05.984Z"
   },
   {
    "duration": 46,
    "start_time": "2021-06-26T01:40:07.228Z"
   },
   {
    "duration": 454,
    "start_time": "2021-06-26T01:40:07.276Z"
   },
   {
    "duration": 54,
    "start_time": "2021-06-26T01:40:07.732Z"
   },
   {
    "duration": 24,
    "start_time": "2021-06-26T01:40:07.788Z"
   },
   {
    "duration": 316,
    "start_time": "2021-06-26T01:40:07.815Z"
   },
   {
    "duration": 33,
    "start_time": "2021-06-26T01:40:08.133Z"
   },
   {
    "duration": 67,
    "start_time": "2021-06-26T01:40:08.168Z"
   },
   {
    "duration": 21,
    "start_time": "2021-06-26T01:40:08.254Z"
   },
   {
    "duration": 96,
    "start_time": "2021-06-26T01:40:08.277Z"
   },
   {
    "duration": 22,
    "start_time": "2021-06-26T01:40:08.375Z"
   },
   {
    "duration": 313,
    "start_time": "2021-06-26T01:40:08.399Z"
   },
   {
    "duration": 5,
    "start_time": "2021-06-26T01:40:08.721Z"
   },
   {
    "duration": 316,
    "start_time": "2021-06-26T01:40:08.729Z"
   },
   {
    "duration": 35,
    "start_time": "2021-06-26T01:40:09.047Z"
   },
   {
    "duration": 21,
    "start_time": "2021-06-26T01:40:09.085Z"
   },
   {
    "duration": 341,
    "start_time": "2021-06-26T01:40:09.109Z"
   },
   {
    "duration": 3,
    "start_time": "2021-06-26T01:40:09.455Z"
   },
   {
    "duration": 34,
    "start_time": "2021-06-26T01:40:09.461Z"
   },
   {
    "duration": 22,
    "start_time": "2021-06-26T01:40:09.497Z"
   },
   {
    "duration": 352,
    "start_time": "2021-06-26T01:40:09.521Z"
   },
   {
    "duration": 249,
    "start_time": "2021-06-26T01:40:09.876Z"
   },
   {
    "duration": 8,
    "start_time": "2021-06-26T01:40:10.127Z"
   },
   {
    "duration": 4,
    "start_time": "2021-06-26T01:40:10.154Z"
   },
   {
    "duration": 236,
    "start_time": "2021-06-26T01:40:10.160Z"
   },
   {
    "duration": 92,
    "start_time": "2021-06-26T01:40:10.398Z"
   },
   {
    "duration": 16,
    "start_time": "2021-06-26T01:40:10.492Z"
   },
   {
    "duration": 12,
    "start_time": "2021-06-26T01:40:10.511Z"
   },
   {
    "duration": 178,
    "start_time": "2021-06-26T01:40:10.526Z"
   },
   {
    "duration": 5,
    "start_time": "2021-06-26T01:40:10.707Z"
   },
   {
    "duration": 179,
    "start_time": "2021-06-26T01:40:10.715Z"
   },
   {
    "duration": 22,
    "start_time": "2021-06-26T01:40:10.897Z"
   },
   {
    "duration": 1050,
    "start_time": "2021-06-26T01:40:10.922Z"
   },
   {
    "duration": 3,
    "start_time": "2021-06-26T01:40:11.975Z"
   },
   {
    "duration": 43,
    "start_time": "2021-06-26T01:40:11.980Z"
   },
   {
    "duration": 299,
    "start_time": "2021-06-26T01:40:12.026Z"
   },
   {
    "duration": 193,
    "start_time": "2021-06-26T01:40:12.328Z"
   },
   {
    "duration": 38,
    "start_time": "2021-06-26T01:40:12.524Z"
   },
   {
    "duration": 2144,
    "start_time": "2021-06-26T01:40:12.564Z"
   },
   {
    "duration": 751,
    "start_time": "2021-06-26T01:40:14.710Z"
   },
   {
    "duration": 286,
    "start_time": "2021-06-26T01:40:15.463Z"
   },
   {
    "duration": 207,
    "start_time": "2021-06-26T01:40:15.754Z"
   },
   {
    "duration": 162,
    "start_time": "2021-06-26T01:40:15.964Z"
   },
   {
    "duration": 2258,
    "start_time": "2021-06-26T01:40:16.129Z"
   },
   {
    "duration": 748,
    "start_time": "2021-06-26T01:40:18.389Z"
   },
   {
    "duration": 287,
    "start_time": "2021-06-26T01:40:19.139Z"
   },
   {
    "duration": 212,
    "start_time": "2021-06-26T01:40:19.429Z"
   },
   {
    "duration": 162,
    "start_time": "2021-06-26T01:40:19.644Z"
   },
   {
    "duration": 44,
    "start_time": "2021-06-26T01:42:16.229Z"
   },
   {
    "duration": 37,
    "start_time": "2021-06-26T01:44:16.508Z"
   },
   {
    "duration": 24,
    "start_time": "2021-06-26T01:44:58.582Z"
   },
   {
    "duration": 855,
    "start_time": "2021-06-26T04:08:06.145Z"
   },
   {
    "duration": 17661,
    "start_time": "2021-06-26T04:08:07.002Z"
   },
   {
    "duration": 357,
    "start_time": "2021-06-26T04:08:24.667Z"
   },
   {
    "duration": 31,
    "start_time": "2021-06-26T04:08:25.028Z"
   },
   {
    "duration": 57,
    "start_time": "2021-06-26T04:08:25.062Z"
   },
   {
    "duration": 6,
    "start_time": "2021-06-26T04:08:25.122Z"
   },
   {
    "duration": 37,
    "start_time": "2021-06-26T04:08:25.130Z"
   },
   {
    "duration": 59,
    "start_time": "2021-06-26T04:08:25.170Z"
   },
   {
    "duration": 10,
    "start_time": "2021-06-26T04:08:25.233Z"
   },
   {
    "duration": 10,
    "start_time": "2021-06-26T04:08:25.246Z"
   },
   {
    "duration": 68,
    "start_time": "2021-06-26T04:08:25.258Z"
   },
   {
    "duration": 11,
    "start_time": "2021-06-26T04:08:25.329Z"
   },
   {
    "duration": 31,
    "start_time": "2021-06-26T04:08:25.343Z"
   },
   {
    "duration": 74,
    "start_time": "2021-06-26T04:08:25.376Z"
   },
   {
    "duration": 6,
    "start_time": "2021-06-26T04:08:25.453Z"
   },
   {
    "duration": 36,
    "start_time": "2021-06-26T04:08:25.462Z"
   },
   {
    "duration": 29,
    "start_time": "2021-06-26T04:08:25.501Z"
   },
   {
    "duration": 26,
    "start_time": "2021-06-26T04:08:25.533Z"
   },
   {
    "duration": 14,
    "start_time": "2021-06-26T04:08:25.562Z"
   },
   {
    "duration": 52,
    "start_time": "2021-06-26T04:08:25.578Z"
   },
   {
    "duration": 1541,
    "start_time": "2021-06-26T04:08:25.632Z"
   },
   {
    "duration": 3,
    "start_time": "2021-06-26T04:08:27.176Z"
   },
   {
    "duration": 1616,
    "start_time": "2021-06-26T04:08:27.189Z"
   },
   {
    "duration": 34,
    "start_time": "2021-06-26T04:08:28.811Z"
   },
   {
    "duration": 186,
    "start_time": "2021-06-26T04:08:28.847Z"
   },
   {
    "duration": 55,
    "start_time": "2021-06-26T04:08:29.035Z"
   },
   {
    "duration": 39,
    "start_time": "2021-06-26T04:08:29.093Z"
   },
   {
    "duration": 44,
    "start_time": "2021-06-26T04:08:29.135Z"
   },
   {
    "duration": 97,
    "start_time": "2021-06-26T04:08:29.182Z"
   },
   {
    "duration": 30,
    "start_time": "2021-06-26T04:08:29.282Z"
   },
   {
    "duration": 52,
    "start_time": "2021-06-26T04:08:29.315Z"
   },
   {
    "duration": 65,
    "start_time": "2021-06-26T04:08:29.370Z"
   },
   {
    "duration": 14,
    "start_time": "2021-06-26T04:08:29.437Z"
   },
   {
    "duration": 54,
    "start_time": "2021-06-26T04:08:29.454Z"
   },
   {
    "duration": 6,
    "start_time": "2021-06-26T04:08:29.511Z"
   },
   {
    "duration": 19,
    "start_time": "2021-06-26T04:08:29.520Z"
   },
   {
    "duration": 5,
    "start_time": "2021-06-26T04:08:29.542Z"
   },
   {
    "duration": 34,
    "start_time": "2021-06-26T04:08:29.549Z"
   },
   {
    "duration": 38,
    "start_time": "2021-06-26T04:08:29.585Z"
   },
   {
    "duration": 17,
    "start_time": "2021-06-26T04:08:29.627Z"
   },
   {
    "duration": 7,
    "start_time": "2021-06-26T04:08:29.647Z"
   },
   {
    "duration": 7,
    "start_time": "2021-06-26T04:08:29.657Z"
   },
   {
    "duration": 52,
    "start_time": "2021-06-26T04:08:29.666Z"
   },
   {
    "duration": 14,
    "start_time": "2021-06-26T04:08:29.722Z"
   },
   {
    "duration": 30,
    "start_time": "2021-06-26T04:08:29.738Z"
   },
   {
    "duration": 49,
    "start_time": "2021-06-26T04:08:29.771Z"
   },
   {
    "duration": 36,
    "start_time": "2021-06-26T04:08:29.822Z"
   },
   {
    "duration": 58,
    "start_time": "2021-06-26T04:08:29.861Z"
   },
   {
    "duration": 891,
    "start_time": "2021-06-26T04:08:29.922Z"
   },
   {
    "duration": 115,
    "start_time": "2021-06-26T04:08:30.817Z"
   },
   {
    "duration": 176,
    "start_time": "2021-06-26T04:08:30.934Z"
   },
   {
    "duration": 113,
    "start_time": "2021-06-26T04:08:31.113Z"
   },
   {
    "duration": 130,
    "start_time": "2021-06-26T04:08:31.229Z"
   },
   {
    "duration": 113,
    "start_time": "2021-06-26T04:08:31.362Z"
   },
   {
    "duration": 33,
    "start_time": "2021-06-26T04:08:31.477Z"
   },
   {
    "duration": 1862,
    "start_time": "2021-06-26T04:08:31.513Z"
   },
   {
    "duration": 51,
    "start_time": "2021-06-26T04:08:33.378Z"
   },
   {
    "duration": 1109,
    "start_time": "2021-06-26T04:08:33.432Z"
   },
   {
    "duration": -167,
    "start_time": "2021-06-26T04:08:34.716Z"
   },
   {
    "duration": -168,
    "start_time": "2021-06-26T04:08:34.719Z"
   },
   {
    "duration": -168,
    "start_time": "2021-06-26T04:08:34.721Z"
   },
   {
    "duration": -169,
    "start_time": "2021-06-26T04:08:34.724Z"
   },
   {
    "duration": -168,
    "start_time": "2021-06-26T04:08:34.726Z"
   },
   {
    "duration": -169,
    "start_time": "2021-06-26T04:08:34.729Z"
   },
   {
    "duration": -170,
    "start_time": "2021-06-26T04:08:34.732Z"
   },
   {
    "duration": -170,
    "start_time": "2021-06-26T04:08:34.734Z"
   },
   {
    "duration": -170,
    "start_time": "2021-06-26T04:08:34.736Z"
   },
   {
    "duration": -170,
    "start_time": "2021-06-26T04:08:34.738Z"
   },
   {
    "duration": -171,
    "start_time": "2021-06-26T04:08:34.741Z"
   },
   {
    "duration": -134,
    "start_time": "2021-06-26T04:08:34.743Z"
   },
   {
    "duration": -133,
    "start_time": "2021-06-26T04:08:34.744Z"
   },
   {
    "duration": -132,
    "start_time": "2021-06-26T04:08:34.746Z"
   },
   {
    "duration": -133,
    "start_time": "2021-06-26T04:08:34.748Z"
   },
   {
    "duration": -133,
    "start_time": "2021-06-26T04:08:34.750Z"
   },
   {
    "duration": -133,
    "start_time": "2021-06-26T04:08:34.752Z"
   },
   {
    "duration": -132,
    "start_time": "2021-06-26T04:08:34.753Z"
   },
   {
    "duration": -132,
    "start_time": "2021-06-26T04:08:34.755Z"
   },
   {
    "duration": -132,
    "start_time": "2021-06-26T04:08:34.757Z"
   },
   {
    "duration": -131,
    "start_time": "2021-06-26T04:08:34.758Z"
   },
   {
    "duration": -131,
    "start_time": "2021-06-26T04:08:34.760Z"
   },
   {
    "duration": -130,
    "start_time": "2021-06-26T04:08:34.762Z"
   },
   {
    "duration": -129,
    "start_time": "2021-06-26T04:08:34.763Z"
   },
   {
    "duration": -130,
    "start_time": "2021-06-26T04:08:34.765Z"
   },
   {
    "duration": -129,
    "start_time": "2021-06-26T04:08:34.766Z"
   },
   {
    "duration": -134,
    "start_time": "2021-06-26T04:08:34.773Z"
   },
   {
    "duration": -134,
    "start_time": "2021-06-26T04:08:34.775Z"
   },
   {
    "duration": -133,
    "start_time": "2021-06-26T04:08:34.776Z"
   },
   {
    "duration": -133,
    "start_time": "2021-06-26T04:08:34.778Z"
   },
   {
    "duration": -133,
    "start_time": "2021-06-26T04:08:34.780Z"
   },
   {
    "duration": -132,
    "start_time": "2021-06-26T04:08:34.781Z"
   },
   {
    "duration": -132,
    "start_time": "2021-06-26T04:08:34.783Z"
   },
   {
    "duration": -75,
    "start_time": "2021-06-26T04:08:34.784Z"
   },
   {
    "duration": -75,
    "start_time": "2021-06-26T04:08:34.786Z"
   },
   {
    "duration": -75,
    "start_time": "2021-06-26T04:08:34.788Z"
   },
   {
    "duration": -73,
    "start_time": "2021-06-26T04:08:34.789Z"
   },
   {
    "duration": -73,
    "start_time": "2021-06-26T04:08:34.791Z"
   },
   {
    "duration": -72,
    "start_time": "2021-06-26T04:08:34.792Z"
   },
   {
    "duration": -72,
    "start_time": "2021-06-26T04:08:34.794Z"
   },
   {
    "duration": -71,
    "start_time": "2021-06-26T04:08:34.795Z"
   },
   {
    "duration": -71,
    "start_time": "2021-06-26T04:08:34.797Z"
   },
   {
    "duration": -70,
    "start_time": "2021-06-26T04:08:34.798Z"
   },
   {
    "duration": -70,
    "start_time": "2021-06-26T04:08:34.800Z"
   },
   {
    "duration": -69,
    "start_time": "2021-06-26T04:08:34.801Z"
   },
   {
    "duration": 367,
    "start_time": "2021-06-26T04:09:06.470Z"
   },
   {
    "duration": 348,
    "start_time": "2021-06-26T04:09:17.214Z"
   },
   {
    "duration": 812,
    "start_time": "2021-06-26T04:14:18.685Z"
   },
   {
    "duration": 369,
    "start_time": "2021-06-26T04:14:22.667Z"
   },
   {
    "duration": 335,
    "start_time": "2021-06-26T04:14:33.335Z"
   },
   {
    "duration": 327,
    "start_time": "2021-06-26T04:14:43.155Z"
   },
   {
    "duration": 7775,
    "start_time": "2021-06-26T04:15:21.813Z"
   },
   {
    "duration": 539,
    "start_time": "2021-06-26T04:15:58.539Z"
   },
   {
    "duration": 7660,
    "start_time": "2021-06-26T04:15:59.081Z"
   },
   {
    "duration": 422,
    "start_time": "2021-06-26T04:16:06.745Z"
   },
   {
    "duration": -62,
    "start_time": "2021-06-26T04:16:07.236Z"
   },
   {
    "duration": -63,
    "start_time": "2021-06-26T04:16:07.239Z"
   },
   {
    "duration": -65,
    "start_time": "2021-06-26T04:16:07.242Z"
   },
   {
    "duration": -65,
    "start_time": "2021-06-26T04:16:07.244Z"
   },
   {
    "duration": -67,
    "start_time": "2021-06-26T04:16:07.247Z"
   },
   {
    "duration": -67,
    "start_time": "2021-06-26T04:16:07.249Z"
   },
   {
    "duration": -67,
    "start_time": "2021-06-26T04:16:07.251Z"
   },
   {
    "duration": -68,
    "start_time": "2021-06-26T04:16:07.253Z"
   },
   {
    "duration": -69,
    "start_time": "2021-06-26T04:16:07.255Z"
   },
   {
    "duration": -68,
    "start_time": "2021-06-26T04:16:07.257Z"
   },
   {
    "duration": -69,
    "start_time": "2021-06-26T04:16:07.259Z"
   },
   {
    "duration": -70,
    "start_time": "2021-06-26T04:16:07.261Z"
   },
   {
    "duration": -71,
    "start_time": "2021-06-26T04:16:07.263Z"
   },
   {
    "duration": -75,
    "start_time": "2021-06-26T04:16:07.269Z"
   },
   {
    "duration": -76,
    "start_time": "2021-06-26T04:16:07.271Z"
   },
   {
    "duration": -77,
    "start_time": "2021-06-26T04:16:07.273Z"
   },
   {
    "duration": -77,
    "start_time": "2021-06-26T04:16:07.274Z"
   },
   {
    "duration": -78,
    "start_time": "2021-06-26T04:16:07.276Z"
   },
   {
    "duration": -78,
    "start_time": "2021-06-26T04:16:07.278Z"
   },
   {
    "duration": -78,
    "start_time": "2021-06-26T04:16:07.279Z"
   },
   {
    "duration": -79,
    "start_time": "2021-06-26T04:16:07.281Z"
   },
   {
    "duration": -79,
    "start_time": "2021-06-26T04:16:07.282Z"
   },
   {
    "duration": -79,
    "start_time": "2021-06-26T04:16:07.284Z"
   },
   {
    "duration": -80,
    "start_time": "2021-06-26T04:16:07.286Z"
   },
   {
    "duration": -80,
    "start_time": "2021-06-26T04:16:07.287Z"
   },
   {
    "duration": -80,
    "start_time": "2021-06-26T04:16:07.289Z"
   },
   {
    "duration": -80,
    "start_time": "2021-06-26T04:16:07.290Z"
   },
   {
    "duration": -80,
    "start_time": "2021-06-26T04:16:07.292Z"
   },
   {
    "duration": -111,
    "start_time": "2021-06-26T04:16:07.324Z"
   },
   {
    "duration": -133,
    "start_time": "2021-06-26T04:16:07.347Z"
   },
   {
    "duration": -167,
    "start_time": "2021-06-26T04:16:07.382Z"
   },
   {
    "duration": -209,
    "start_time": "2021-06-26T04:16:07.426Z"
   },
   {
    "duration": -209,
    "start_time": "2021-06-26T04:16:07.427Z"
   },
   {
    "duration": -210,
    "start_time": "2021-06-26T04:16:07.429Z"
   },
   {
    "duration": -209,
    "start_time": "2021-06-26T04:16:07.430Z"
   },
   {
    "duration": -210,
    "start_time": "2021-06-26T04:16:07.432Z"
   },
   {
    "duration": -210,
    "start_time": "2021-06-26T04:16:07.433Z"
   },
   {
    "duration": -387,
    "start_time": "2021-06-26T04:16:07.611Z"
   },
   {
    "duration": -425,
    "start_time": "2021-06-26T04:16:07.651Z"
   },
   {
    "duration": -425,
    "start_time": "2021-06-26T04:16:07.652Z"
   },
   {
    "duration": -426,
    "start_time": "2021-06-26T04:16:07.654Z"
   },
   {
    "duration": -425,
    "start_time": "2021-06-26T04:16:07.655Z"
   },
   {
    "duration": -426,
    "start_time": "2021-06-26T04:16:07.657Z"
   },
   {
    "duration": -426,
    "start_time": "2021-06-26T04:16:07.658Z"
   },
   {
    "duration": -478,
    "start_time": "2021-06-26T04:16:07.712Z"
   },
   {
    "duration": -525,
    "start_time": "2021-06-26T04:16:07.760Z"
   },
   {
    "duration": -525,
    "start_time": "2021-06-26T04:16:07.761Z"
   },
   {
    "duration": -525,
    "start_time": "2021-06-26T04:16:07.763Z"
   },
   {
    "duration": -525,
    "start_time": "2021-06-26T04:16:07.764Z"
   },
   {
    "duration": -551,
    "start_time": "2021-06-26T04:16:07.791Z"
   },
   {
    "duration": -552,
    "start_time": "2021-06-26T04:16:07.793Z"
   },
   {
    "duration": -552,
    "start_time": "2021-06-26T04:16:07.795Z"
   },
   {
    "duration": -552,
    "start_time": "2021-06-26T04:16:07.796Z"
   },
   {
    "duration": -553,
    "start_time": "2021-06-26T04:16:07.798Z"
   },
   {
    "duration": -553,
    "start_time": "2021-06-26T04:16:07.799Z"
   },
   {
    "duration": -553,
    "start_time": "2021-06-26T04:16:07.800Z"
   },
   {
    "duration": -553,
    "start_time": "2021-06-26T04:16:07.802Z"
   },
   {
    "duration": -553,
    "start_time": "2021-06-26T04:16:07.803Z"
   },
   {
    "duration": -496,
    "start_time": "2021-06-26T04:16:07.805Z"
   },
   {
    "duration": -496,
    "start_time": "2021-06-26T04:16:07.806Z"
   },
   {
    "duration": -497,
    "start_time": "2021-06-26T04:16:07.808Z"
   },
   {
    "duration": -496,
    "start_time": "2021-06-26T04:16:07.809Z"
   },
   {
    "duration": -496,
    "start_time": "2021-06-26T04:16:07.810Z"
   },
   {
    "duration": -497,
    "start_time": "2021-06-26T04:16:07.812Z"
   },
   {
    "duration": -496,
    "start_time": "2021-06-26T04:16:07.813Z"
   },
   {
    "duration": -497,
    "start_time": "2021-06-26T04:16:07.815Z"
   },
   {
    "duration": -498,
    "start_time": "2021-06-26T04:16:07.817Z"
   },
   {
    "duration": -498,
    "start_time": "2021-06-26T04:16:07.818Z"
   },
   {
    "duration": -498,
    "start_time": "2021-06-26T04:16:07.819Z"
   },
   {
    "duration": -498,
    "start_time": "2021-06-26T04:16:07.821Z"
   },
   {
    "duration": -518,
    "start_time": "2021-06-26T04:16:07.842Z"
   },
   {
    "duration": -538,
    "start_time": "2021-06-26T04:16:07.863Z"
   },
   {
    "duration": -537,
    "start_time": "2021-06-26T04:16:07.864Z"
   },
   {
    "duration": -538,
    "start_time": "2021-06-26T04:16:07.866Z"
   },
   {
    "duration": -538,
    "start_time": "2021-06-26T04:16:07.867Z"
   },
   {
    "duration": -537,
    "start_time": "2021-06-26T04:16:07.868Z"
   },
   {
    "duration": -538,
    "start_time": "2021-06-26T04:16:07.870Z"
   },
   {
    "duration": -538,
    "start_time": "2021-06-26T04:16:07.871Z"
   },
   {
    "duration": -538,
    "start_time": "2021-06-26T04:16:07.873Z"
   },
   {
    "duration": -538,
    "start_time": "2021-06-26T04:16:07.874Z"
   },
   {
    "duration": -539,
    "start_time": "2021-06-26T04:16:07.876Z"
   },
   {
    "duration": -538,
    "start_time": "2021-06-26T04:16:07.877Z"
   },
   {
    "duration": -543,
    "start_time": "2021-06-26T04:16:07.883Z"
   },
   {
    "duration": -544,
    "start_time": "2021-06-26T04:16:07.885Z"
   },
   {
    "duration": -544,
    "start_time": "2021-06-26T04:16:07.887Z"
   },
   {
    "duration": -544,
    "start_time": "2021-06-26T04:16:07.888Z"
   },
   {
    "duration": -476,
    "start_time": "2021-06-26T04:16:07.890Z"
   },
   {
    "duration": -475,
    "start_time": "2021-06-26T04:16:07.891Z"
   },
   {
    "duration": -475,
    "start_time": "2021-06-26T04:16:07.892Z"
   },
   {
    "duration": -476,
    "start_time": "2021-06-26T04:16:07.894Z"
   },
   {
    "duration": -476,
    "start_time": "2021-06-26T04:16:07.896Z"
   },
   {
    "duration": -476,
    "start_time": "2021-06-26T04:16:07.897Z"
   },
   {
    "duration": -476,
    "start_time": "2021-06-26T04:16:07.899Z"
   },
   {
    "duration": -476,
    "start_time": "2021-06-26T04:16:07.900Z"
   },
   {
    "duration": -476,
    "start_time": "2021-06-26T04:16:07.901Z"
   },
   {
    "duration": -476,
    "start_time": "2021-06-26T04:16:07.903Z"
   },
   {
    "duration": -476,
    "start_time": "2021-06-26T04:16:07.904Z"
   },
   {
    "duration": -477,
    "start_time": "2021-06-26T04:16:07.906Z"
   },
   {
    "duration": -476,
    "start_time": "2021-06-26T04:16:07.907Z"
   },
   {
    "duration": 534,
    "start_time": "2021-06-26T04:16:38.342Z"
   },
   {
    "duration": 7570,
    "start_time": "2021-06-26T04:16:38.878Z"
   },
   {
    "duration": 262,
    "start_time": "2021-06-26T04:16:46.451Z"
   },
   {
    "duration": 34,
    "start_time": "2021-06-26T04:16:46.716Z"
   },
   {
    "duration": 58,
    "start_time": "2021-06-26T04:16:46.753Z"
   },
   {
    "duration": 5,
    "start_time": "2021-06-26T04:16:46.814Z"
   },
   {
    "duration": 40,
    "start_time": "2021-06-26T04:16:46.821Z"
   },
   {
    "duration": 60,
    "start_time": "2021-06-26T04:16:46.865Z"
   },
   {
    "duration": 8,
    "start_time": "2021-06-26T04:16:46.928Z"
   },
   {
    "duration": 5,
    "start_time": "2021-06-26T04:16:46.938Z"
   },
   {
    "duration": 63,
    "start_time": "2021-06-26T04:16:46.946Z"
   },
   {
    "duration": 8,
    "start_time": "2021-06-26T04:16:47.011Z"
   },
   {
    "duration": 27,
    "start_time": "2021-06-26T04:16:47.022Z"
   },
   {
    "duration": 72,
    "start_time": "2021-06-26T04:16:47.052Z"
   },
   {
    "duration": 6,
    "start_time": "2021-06-26T04:16:47.127Z"
   },
   {
    "duration": 32,
    "start_time": "2021-06-26T04:16:47.135Z"
   },
   {
    "duration": 26,
    "start_time": "2021-06-26T04:16:47.169Z"
   },
   {
    "duration": 30,
    "start_time": "2021-06-26T04:16:47.210Z"
   },
   {
    "duration": 3,
    "start_time": "2021-06-26T04:16:47.242Z"
   },
   {
    "duration": 33,
    "start_time": "2021-06-26T04:16:47.248Z"
   },
   {
    "duration": 1017,
    "start_time": "2021-06-26T04:16:47.309Z"
   },
   {
    "duration": 3,
    "start_time": "2021-06-26T04:16:48.328Z"
   },
   {
    "duration": 1036,
    "start_time": "2021-06-26T04:16:48.337Z"
   },
   {
    "duration": 43,
    "start_time": "2021-06-26T04:16:49.377Z"
   },
   {
    "duration": 147,
    "start_time": "2021-06-26T04:16:49.422Z"
   },
   {
    "duration": 72,
    "start_time": "2021-06-26T04:16:49.571Z"
   },
   {
    "duration": 31,
    "start_time": "2021-06-26T04:16:49.646Z"
   },
   {
    "duration": 95,
    "start_time": "2021-06-26T04:16:49.680Z"
   },
   {
    "duration": 90,
    "start_time": "2021-06-26T04:16:49.778Z"
   },
   {
    "duration": 39,
    "start_time": "2021-06-26T04:16:49.870Z"
   },
   {
    "duration": 55,
    "start_time": "2021-06-26T04:16:49.911Z"
   },
   {
    "duration": 60,
    "start_time": "2021-06-26T04:16:49.968Z"
   },
   {
    "duration": 15,
    "start_time": "2021-06-26T04:16:50.030Z"
   },
   {
    "duration": 76,
    "start_time": "2021-06-26T04:16:50.048Z"
   },
   {
    "duration": 5,
    "start_time": "2021-06-26T04:16:50.127Z"
   },
   {
    "duration": 31,
    "start_time": "2021-06-26T04:16:50.135Z"
   },
   {
    "duration": 4,
    "start_time": "2021-06-26T04:16:50.169Z"
   },
   {
    "duration": 38,
    "start_time": "2021-06-26T04:16:50.175Z"
   },
   {
    "duration": 21,
    "start_time": "2021-06-26T04:16:50.215Z"
   },
   {
    "duration": 10,
    "start_time": "2021-06-26T04:16:50.238Z"
   },
   {
    "duration": 9,
    "start_time": "2021-06-26T04:16:50.250Z"
   },
   {
    "duration": 9,
    "start_time": "2021-06-26T04:16:50.261Z"
   },
   {
    "duration": 50,
    "start_time": "2021-06-26T04:16:50.273Z"
   },
   {
    "duration": 12,
    "start_time": "2021-06-26T04:16:50.325Z"
   },
   {
    "duration": 30,
    "start_time": "2021-06-26T04:16:50.339Z"
   },
   {
    "duration": 38,
    "start_time": "2021-06-26T04:16:50.371Z"
   },
   {
    "duration": 36,
    "start_time": "2021-06-26T04:16:50.411Z"
   },
   {
    "duration": 62,
    "start_time": "2021-06-26T04:16:50.449Z"
   },
   {
    "duration": 1463,
    "start_time": "2021-06-26T04:16:50.513Z"
   },
   {
    "duration": 94,
    "start_time": "2021-06-26T04:16:51.979Z"
   },
   {
    "duration": 95,
    "start_time": "2021-06-26T04:16:52.076Z"
   },
   {
    "duration": 143,
    "start_time": "2021-06-26T04:16:52.173Z"
   },
   {
    "duration": 113,
    "start_time": "2021-06-26T04:16:52.319Z"
   },
   {
    "duration": 97,
    "start_time": "2021-06-26T04:16:52.434Z"
   },
   {
    "duration": 44,
    "start_time": "2021-06-26T04:16:52.534Z"
   },
   {
    "duration": 1315,
    "start_time": "2021-06-26T04:16:52.581Z"
   },
   {
    "duration": 45,
    "start_time": "2021-06-26T04:16:53.899Z"
   },
   {
    "duration": 485,
    "start_time": "2021-06-26T04:16:53.948Z"
   },
   {
    "duration": 43,
    "start_time": "2021-06-26T04:16:54.436Z"
   },
   {
    "duration": 45,
    "start_time": "2021-06-26T04:16:54.482Z"
   },
   {
    "duration": 324,
    "start_time": "2021-06-26T04:16:54.530Z"
   },
   {
    "duration": 24,
    "start_time": "2021-06-26T04:16:54.858Z"
   },
   {
    "duration": 93,
    "start_time": "2021-06-26T04:16:54.885Z"
   },
   {
    "duration": 43,
    "start_time": "2021-06-26T04:16:54.981Z"
   },
   {
    "duration": 93,
    "start_time": "2021-06-26T04:16:55.026Z"
   },
   {
    "duration": 22,
    "start_time": "2021-06-26T04:16:55.121Z"
   },
   {
    "duration": 307,
    "start_time": "2021-06-26T04:16:55.146Z"
   },
   {
    "duration": 5,
    "start_time": "2021-06-26T04:16:55.461Z"
   },
   {
    "duration": 422,
    "start_time": "2021-06-26T04:16:55.469Z"
   },
   {
    "duration": 38,
    "start_time": "2021-06-26T04:16:55.894Z"
   },
   {
    "duration": 22,
    "start_time": "2021-06-26T04:16:55.935Z"
   },
   {
    "duration": 327,
    "start_time": "2021-06-26T04:16:55.959Z"
   },
   {
    "duration": 3,
    "start_time": "2021-06-26T04:16:56.288Z"
   },
   {
    "duration": 45,
    "start_time": "2021-06-26T04:16:56.293Z"
   },
   {
    "duration": 23,
    "start_time": "2021-06-26T04:16:56.340Z"
   },
   {
    "duration": 345,
    "start_time": "2021-06-26T04:16:56.365Z"
   },
   {
    "duration": 257,
    "start_time": "2021-06-26T04:16:56.712Z"
   },
   {
    "duration": 7,
    "start_time": "2021-06-26T04:16:56.971Z"
   },
   {
    "duration": 5,
    "start_time": "2021-06-26T04:16:56.981Z"
   },
   {
    "duration": 256,
    "start_time": "2021-06-26T04:16:56.989Z"
   },
   {
    "duration": 93,
    "start_time": "2021-06-26T04:16:57.248Z"
   },
   {
    "duration": 15,
    "start_time": "2021-06-26T04:16:57.344Z"
   },
   {
    "duration": 13,
    "start_time": "2021-06-26T04:16:57.361Z"
   },
   {
    "duration": 192,
    "start_time": "2021-06-26T04:16:57.377Z"
   },
   {
    "duration": 5,
    "start_time": "2021-06-26T04:16:57.572Z"
   },
   {
    "duration": 184,
    "start_time": "2021-06-26T04:16:57.579Z"
   },
   {
    "duration": 22,
    "start_time": "2021-06-26T04:16:57.765Z"
   },
   {
    "duration": 1096,
    "start_time": "2021-06-26T04:16:57.789Z"
   },
   {
    "duration": 3,
    "start_time": "2021-06-26T04:16:58.888Z"
   },
   {
    "duration": 48,
    "start_time": "2021-06-26T04:16:58.894Z"
   },
   {
    "duration": 294,
    "start_time": "2021-06-26T04:16:58.945Z"
   },
   {
    "duration": 196,
    "start_time": "2021-06-26T04:16:59.242Z"
   },
   {
    "duration": 24,
    "start_time": "2021-06-26T04:16:59.441Z"
   },
   {
    "duration": 2302,
    "start_time": "2021-06-26T04:16:59.467Z"
   },
   {
    "duration": 784,
    "start_time": "2021-06-26T04:17:01.771Z"
   },
   {
    "duration": 298,
    "start_time": "2021-06-26T04:17:02.558Z"
   },
   {
    "duration": 215,
    "start_time": "2021-06-26T04:17:02.859Z"
   },
   {
    "duration": 176,
    "start_time": "2021-06-26T04:17:03.076Z"
   },
   {
    "duration": 2303,
    "start_time": "2021-06-26T04:17:03.254Z"
   },
   {
    "duration": 771,
    "start_time": "2021-06-26T04:17:05.559Z"
   },
   {
    "duration": 302,
    "start_time": "2021-06-26T04:17:06.332Z"
   },
   {
    "duration": 218,
    "start_time": "2021-06-26T04:17:06.637Z"
   },
   {
    "duration": 171,
    "start_time": "2021-06-26T04:17:06.858Z"
   },
   {
    "duration": 230,
    "start_time": "2021-06-26T04:18:55.743Z"
   }
  ],
  "kernelspec": {
   "display_name": "Python 3",
   "language": "python",
   "name": "python3"
  },
  "language_info": {
   "codemirror_mode": {
    "name": "ipython",
    "version": 3
   },
   "file_extension": ".py",
   "mimetype": "text/x-python",
   "name": "python",
   "nbconvert_exporter": "python",
   "pygments_lexer": "ipython3",
   "version": "3.9.4"
  },
  "toc": {
   "base_numbering": 1,
   "nav_menu": {},
   "number_sections": true,
   "sideBar": true,
   "skip_h1_title": true,
   "title_cell": "Table of Contents",
   "title_sidebar": "Contents",
   "toc_cell": false,
   "toc_position": {},
   "toc_section_display": true,
   "toc_window_display": false
  }
 },
 "nbformat": 4,
 "nbformat_minor": 2
}
