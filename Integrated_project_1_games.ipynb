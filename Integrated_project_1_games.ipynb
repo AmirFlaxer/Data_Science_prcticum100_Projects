{
 "cells": [
  {
   "cell_type": "markdown",
   "id": "dc10334e",
   "metadata": {
    "toc": true
   },
   "source": [
    "<h1>Table of Contents<span class=\"tocSkip\"></span></h1>\n",
    "<div class=\"toc\"><ul class=\"toc-item\"><li><span><a href=\"#Project-description\" data-toc-modified-id=\"Project-description-1\"><span class=\"toc-item-num\">1&nbsp;&nbsp;</span>Project description</a></span></li><li><span><a href=\"#Open-the-data-file-and-study-the-general-information\" data-toc-modified-id=\"Open-the-data-file-and-study-the-general-information-2\"><span class=\"toc-item-num\">2&nbsp;&nbsp;</span>Open the data file and study the general information</a></span><ul class=\"toc-item\"><li><span><a href=\"#study-the-general-information\" data-toc-modified-id=\"study-the-general-information-2.1\"><span class=\"toc-item-num\">2.1&nbsp;&nbsp;</span>study the general information</a></span></li></ul></li><li><span><a href=\"#Prepare-the-data\" data-toc-modified-id=\"Prepare-the-data-3\"><span class=\"toc-item-num\">3&nbsp;&nbsp;</span>Prepare the data</a></span><ul class=\"toc-item\"><li><ul class=\"toc-item\"><li><span><a href=\"#Looking-for-missing-values\" data-toc-modified-id=\"Looking-for-missing-values-3.0.1\"><span class=\"toc-item-num\">3.0.1&nbsp;&nbsp;</span>Looking for missing values</a></span></li><li><span><a href=\"#Changing-the-type-of-the-columns\" data-toc-modified-id=\"Changing-the-type-of-the-columns-3.0.2\"><span class=\"toc-item-num\">3.0.2&nbsp;&nbsp;</span>Changing the type of the columns</a></span><ul class=\"toc-item\"><li><span><a href=\"#Changes-I-will-do\" data-toc-modified-id=\"Changes-I-will-do-3.0.2.1\"><span class=\"toc-item-num\">3.0.2.1&nbsp;&nbsp;</span>Changes I will do</a></span></li></ul></li></ul></li></ul></li><li><span><a href=\"#Analyze-the-data\" data-toc-modified-id=\"Analyze-the-data-4\"><span class=\"toc-item-num\">4&nbsp;&nbsp;</span>Analyze the data</a></span><ul class=\"toc-item\"><li><span><a href=\"#checking-how-many-games-were-released-in-different-years\" data-toc-modified-id=\"checking-how-many-games-were-released-in-different-years-4.1\"><span class=\"toc-item-num\">4.1&nbsp;&nbsp;</span>checking how many games were released in different years</a></span></li><li><span><a href=\"#sales-varied-from-platform-to-platform.\" data-toc-modified-id=\"sales-varied-from-platform-to-platform.-4.2\"><span class=\"toc-item-num\">4.2&nbsp;&nbsp;</span>sales varied from platform to platform.</a></span><ul class=\"toc-item\"><li><span><a href=\"#Platforms-growing-and-shrinking\" data-toc-modified-id=\"Platforms-growing-and-shrinking-4.2.1\"><span class=\"toc-item-num\">4.2.1&nbsp;&nbsp;</span>Platforms growing and shrinking</a></span></li></ul></li><li><span><a href=\"#how-user-and-professional-reviews-affect-sales-for-PS2-platform\" data-toc-modified-id=\"how-user-and-professional-reviews-affect-sales-for-PS2-platform-4.3\"><span class=\"toc-item-num\">4.3&nbsp;&nbsp;</span>how user and professional reviews affect sales for PS2 platform</a></span><ul class=\"toc-item\"><li><span><a href=\"#Showing-the-correlation-total-sales-to-users-and-critic-score\" data-toc-modified-id=\"Showing-the-correlation-total-sales-to-users-and-critic-score-4.3.1\"><span class=\"toc-item-num\">4.3.1&nbsp;&nbsp;</span>Showing the correlation total sales to users and critic score</a></span></li><li><span><a href=\"#comparing-a-game-with-many-platform\" data-toc-modified-id=\"comparing-a-game-with-many-platform-4.3.2\"><span class=\"toc-item-num\">4.3.2&nbsp;&nbsp;</span>comparing a game with many platform</a></span></li></ul></li><li><span><a href=\"#Genre-profit\" data-toc-modified-id=\"Genre-profit-4.4\"><span class=\"toc-item-num\">4.4&nbsp;&nbsp;</span>Genre profit</a></span><ul class=\"toc-item\"><li><span><a href=\"#Average-profit-per-game-per-genre\" data-toc-modified-id=\"Average-profit-per-game-per-genre-4.4.1\"><span class=\"toc-item-num\">4.4.1&nbsp;&nbsp;</span>Average profit per game per genre</a></span></li><li><span><a href=\"#Total-profit-of-genres\" data-toc-modified-id=\"Total-profit-of-genres-4.4.2\"><span class=\"toc-item-num\">4.4.2&nbsp;&nbsp;</span>Total profit of genres</a></span></li></ul></li></ul></li><li><span><a href=\"#user-profile-for-each-region\" data-toc-modified-id=\"user-profile-for-each-region-5\"><span class=\"toc-item-num\">5&nbsp;&nbsp;</span>user profile for each region</a></span><ul class=\"toc-item\"><li><span><a href=\"#The-top-five-platforms.-Variations-in-their-market-shares-from-region-to-region.\" data-toc-modified-id=\"The-top-five-platforms.-Variations-in-their-market-shares-from-region-to-region.-5.1\"><span class=\"toc-item-num\">5.1&nbsp;&nbsp;</span>The top five platforms. Variations in their market shares from region to region.</a></span></li><li><span><a href=\"#The-top-five-genre.-Variations-in-their-market-shares-from-region-to-region.\" data-toc-modified-id=\"The-top-five-genre.-Variations-in-their-market-shares-from-region-to-region.-5.2\"><span class=\"toc-item-num\">5.2&nbsp;&nbsp;</span>The top five genre. Variations in their market shares from region to region.</a></span></li><li><span><a href=\"#Correlation-between-ESRB-ratings-and-sales-in-individual-regions\" data-toc-modified-id=\"Correlation-between-ESRB-ratings-and-sales-in-individual-regions-5.3\"><span class=\"toc-item-num\">5.3&nbsp;&nbsp;</span>Correlation between ESRB ratings and sales in individual regions</a></span></li></ul></li><li><span><a href=\"#Testing-the-following-hypotheses:\" data-toc-modified-id=\"Testing-the-following-hypotheses:-6\"><span class=\"toc-item-num\">6&nbsp;&nbsp;</span>Testing the following hypotheses:</a></span><ul class=\"toc-item\"><li><span><a href=\"#average-user-ratings-of-the-Xbox-One-and-PC-platforms-are-the-same.\" data-toc-modified-id=\"average-user-ratings-of-the-Xbox-One-and-PC-platforms-are-the-same.-6.1\"><span class=\"toc-item-num\">6.1&nbsp;&nbsp;</span>average user ratings of the Xbox One and PC platforms are the same.</a></span></li><li><span><a href=\"#hypotheses-1\" data-toc-modified-id=\"hypotheses-1-6.2\"><span class=\"toc-item-num\">6.2&nbsp;&nbsp;</span>hypotheses 1</a></span><ul class=\"toc-item\"><li><span><a href=\"#$H_0-=$-The-average-user-ratings-of-Xbox-One-is-probably-equal-to-the-average-user-ratings-of-PC-platform\" data-toc-modified-id=\"$H_0-=$-The-average-user-ratings-of-Xbox-One-is-probably-equal-to-the-average-user-ratings-of-PC-platform-6.2.1\"><span class=\"toc-item-num\">6.2.1&nbsp;&nbsp;</span>$H_0 =$ The average user ratings of <strong>Xbox One</strong> is probably equal to the average user ratings of <strong>PC</strong> platform</a></span></li><li><span><a href=\"#$H_1-=$-The-average-user-ratings-of-Xbox-One-is-not-equal-to-the-average-user-ratings-of-PC-platform\" data-toc-modified-id=\"$H_1-=$-The-average-user-ratings-of-Xbox-One-is-not-equal-to-the-average-user-ratings-of-PC-platform-6.2.2\"><span class=\"toc-item-num\">6.2.2&nbsp;&nbsp;</span>$H_1 =$ The average user ratings of <strong>Xbox One</strong> is not equal to the average user ratings of <strong>PC</strong> platform</a></span></li><li><span><a href=\"#explanation-of-the-hypotheses:-are-the-mean-of-the-user-ratings-in-Xbox-One-can-be-the-same-as-the-mean-of-the-PC-platform?\" data-toc-modified-id=\"explanation-of-the-hypotheses:-are-the-mean-of-the-user-ratings-in-Xbox-One-can-be-the-same-as-the-mean-of-the-PC-platform?-6.2.3\"><span class=\"toc-item-num\">6.2.3&nbsp;&nbsp;</span>explanation of the hypotheses: are the mean of the user ratings in Xbox One can be the same as the mean of the PC platform?</a></span><ul class=\"toc-item\"><li><span><a href=\"#the-result-of-the-test:\" data-toc-modified-id=\"the-result-of-the-test:-6.2.3.1\"><span class=\"toc-item-num\">6.2.3.1&nbsp;&nbsp;</span>the result of the test:</a></span></li></ul></li></ul></li><li><span><a href=\"#hypotheses-2\" data-toc-modified-id=\"hypotheses-2-6.3\"><span class=\"toc-item-num\">6.3&nbsp;&nbsp;</span>hypotheses 2</a></span><ul class=\"toc-item\"><li><span><a href=\"#$H_0-=$-The-average-user-ratings-for-the-Action-genre-is-probably-equal-to-the-average-user-ratings-of-Sports-genres\" data-toc-modified-id=\"$H_0-=$-The-average-user-ratings-for-the-Action-genre-is-probably-equal-to-the-average-user-ratings-of-Sports-genres-6.3.1\"><span class=\"toc-item-num\">6.3.1&nbsp;&nbsp;</span>$H_0 =$ The average user ratings for the <strong>Action</strong> genre is probably equal to the average user ratings of <strong>Sports</strong> genres</a></span></li><li><span><a href=\"#$H_1-=$-The-average-user-ratings-for-the-Action-genre-is-not-equal-to-the-average-user-ratings-of-Sports-genres\" data-toc-modified-id=\"$H_1-=$-The-average-user-ratings-for-the-Action-genre-is-not-equal-to-the-average-user-ratings-of-Sports-genres-6.3.2\"><span class=\"toc-item-num\">6.3.2&nbsp;&nbsp;</span>$H_1 =$ The average user ratings for the <strong>Action</strong> genre is not equal to the average user ratings of <strong>Sports</strong> genres</a></span></li><li><span><a href=\"#explanation-of-the-hypotheses:-are-the-mean-of-the-user-ratings-in-Action-genre-can-be-the-same-as-the-mean-of-the-sport-genre?\" data-toc-modified-id=\"explanation-of-the-hypotheses:-are-the-mean-of-the-user-ratings-in-Action-genre-can-be-the-same-as-the-mean-of-the-sport-genre?-6.3.3\"><span class=\"toc-item-num\">6.3.3&nbsp;&nbsp;</span>explanation of the hypotheses: are the mean of the user ratings in Action genre can be the same as the mean of the sport genre?</a></span><ul class=\"toc-item\"><li><span><a href=\"#the-result-of-the-test:\" data-toc-modified-id=\"the-result-of-the-test:-6.3.3.1\"><span class=\"toc-item-num\">6.3.3.1&nbsp;&nbsp;</span>the result of the test:</a></span></li></ul></li></ul></li></ul></li><li><span><a href=\"#general-conclusion\" data-toc-modified-id=\"general-conclusion-7\"><span class=\"toc-item-num\">7&nbsp;&nbsp;</span>general conclusion</a></span></li></ul></div>"
   ]
  },
  {
   "cell_type": "markdown",
   "id": "84243385",
   "metadata": {},
   "source": [
    "Hi Amir. I'm Svetlana and will review your project. I've added all my comments to new cells with different coloring. Please don't delete my comments.\n",
    "\n",
    "\n",
    "The first time I see a mistake, I'll just point it out and let you find it and fix it yourself. In a real job, your boss will do the same, and I'm trying to prepare you to work as an Data Analyst. But if you can't handle this task yet, I'll give you a more accurate hint at the next check.\n",
    "\n",
    "<div class=\"alert alert-success\" role=\"alert\">\n",
    "Reviewer's comment v. 1:\n",
    "    \n",
    "If you did something great I'm using green color for my comment\n",
    "</div>\n",
    "\n",
    "<div class=\"alert alert-warning\" role=\"alert\">\n",
    "Reviewer's comment v. 1:\n",
    "    \n",
    "If I want to give you advice or think that something can be improved, then I'll use yellow. This is an optional recommendation.\n",
    "</div>\n",
    "\n",
    "<div class=\"alert alert-danger\" role=\"alert\">\n",
    "Reviewer's comment v. 1:\n",
    "    \n",
    "If the topic requires some extra work so I can accept it then the color will be red\n",
    "</div>\n",
    "\n",
    "## Review v. 1<a class=\"tocSkip\">\n",
    "\n",
    "Thank you! Your project has been received. You've done a lot of work. Regrettably, your project is not quite ready for review. This is because the period of time for analysis is wrong. Every issue with our code is a chance for us to learn something new. Good luck!\n",
    "    \n",
    "## Review v. 2<a class=\"tocSkip\">\n",
    "    \n",
    "Thank you for correcting your project! There's still a minor issue with this part statistical test. Here are a few more pointers to help you put the final touches on your project. Keep working, you've got this!\n",
    "    \n",
    "## Review v. 3<a class=\"tocSkip\">\n",
    "    \n",
    "Congratulations! Your project now is perfect. I'm glad to say that your project has been accepted. Keep up the good work, and good luck on the next sprint!"
   ]
  },
  {
   "cell_type": "markdown",
   "id": "fd7f9e57",
   "metadata": {},
   "source": [
    "# Project description\n",
    "\n",
    "You work for the online store Ice, which sells video games all over the world. User and expert reviews, genres, platforms (e.g. Xbox or PlayStation), and historical data on game sales are available from open sources. You need to identify patterns that determine whether a game succeeds or not. This will allow you to spot potential big winners and plan advertising campaigns.\n",
    "In front of you is data going back to 2016. Let’s imagine that it’s December 2016 and you’re planning a campaign for 2017.\n",
    "(The important thing is to get experience working with data. It doesn't really matter whether you're forecasting 2017 sales based on data from 2016 or 2027 sales based on data from 2026.)\n",
    "The dataset contains the abbreviation ESRB. The Entertainment Software Rating Board evaluates a game's content and assigns an age rating such as Teen or Mature."
   ]
  },
  {
   "cell_type": "markdown",
   "id": "f3f0ffe0",
   "metadata": {},
   "source": [
    "<div class=\"alert alert-success\" role=\"alert\">\n",
    "Reviewer's comment v. 1:\n",
    "    \n",
    "Well done that you clearly described the project.\n",
    "</div>"
   ]
  },
  {
   "cell_type": "code",
   "execution_count": 1,
   "id": "079fcaa8",
   "metadata": {},
   "outputs": [
    {
     "name": "stdout",
     "output_type": "stream",
     "text": [
      "Defaulting to user installation because normal site-packages is not writeable\n",
      "Collecting sidetable\n",
      "  Downloading sidetable-0.8.0-py3-none-any.whl (15 kB)\n",
      "Collecting pandas>=1.0\n",
      "  Downloading pandas-1.3.0-cp37-cp37m-manylinux_2_5_x86_64.manylinux1_x86_64.whl (10.8 MB)\n",
      "\u001b[K     |████████████████████████████████| 10.8 MB 344 kB/s eta 0:00:01\n",
      "\u001b[?25hRequirement already satisfied: pytz>=2017.3 in /opt/conda/lib/python3.7/site-packages (from pandas>=1.0->sidetable) (2021.1)\n",
      "Requirement already satisfied: python-dateutil>=2.7.3 in /opt/conda/lib/python3.7/site-packages (from pandas>=1.0->sidetable) (2.8.1)\n",
      "Requirement already satisfied: numpy>=1.17.3 in /opt/conda/lib/python3.7/site-packages (from pandas>=1.0->sidetable) (1.19.5)\n",
      "Requirement already satisfied: six>=1.5 in /opt/conda/lib/python3.7/site-packages (from python-dateutil>=2.7.3->pandas>=1.0->sidetable) (1.15.0)\n",
      "Installing collected packages: pandas, sidetable\n",
      "Successfully installed pandas-1.3.0 sidetable-0.8.0\n",
      "Defaulting to user installation because normal site-packages is not writeable\n",
      "Collecting squarify\n",
      "  Downloading squarify-0.4.3-py3-none-any.whl (4.3 kB)\n",
      "Installing collected packages: squarify\n",
      "Successfully installed squarify-0.4.3\n"
     ]
    }
   ],
   "source": [
    "#import libraries\n",
    "import pandas as pd\n",
    "import numpy as np\n",
    "import matplotlib.pyplot as plt\n",
    "import matplotlib as mpl\n",
    "import seaborn as sns\n",
    "from scipy import stats as st\n",
    "import matplotlib.gridspec as grid_spec\n",
    "try:\n",
    "    import sidetable\n",
    "except:\n",
    "    !pip install sidetable\n",
    "    import sidetable\n",
    "try:\n",
    "    import squarify\n",
    "except:\n",
    "    !pip install squarify\n",
    "    import squarify\n",
    "\n",
    "# definitions\n",
    "%matplotlib inline\n",
    "pd.options.display.float_format = '{:,.2f}'.format"
   ]
  },
  {
   "cell_type": "markdown",
   "id": "56da5451",
   "metadata": {},
   "source": [
    "# Open the data file and study the general information"
   ]
  },
  {
   "cell_type": "code",
   "execution_count": 2,
   "id": "20e0ae1e",
   "metadata": {},
   "outputs": [],
   "source": [
    "# import the data set\n",
    "try:\n",
    "    df = pd.read_csv(\"games.csv\")\n",
    "except:\n",
    "    df = pd.read_csv(\"/datasets/games.csv\")"
   ]
  },
  {
   "cell_type": "markdown",
   "id": "fb08de9f",
   "metadata": {},
   "source": [
    "<div class=\"alert alert-success\" role=\"alert\">\n",
    "Reviewer's comment v. 1:\n",
    "    \n",
    "Well done for using try-except for the path to the file.\n",
    "</div>"
   ]
  },
  {
   "cell_type": "markdown",
   "id": "8839bbfb",
   "metadata": {},
   "source": [
    "## study the general information"
   ]
  },
  {
   "cell_type": "code",
   "execution_count": 3,
   "id": "1f433942",
   "metadata": {
    "cell_style": "center",
    "scrolled": true
   },
   "outputs": [
    {
     "data": {
      "text/html": [
       "<div>\n",
       "<style scoped>\n",
       "    .dataframe tbody tr th:only-of-type {\n",
       "        vertical-align: middle;\n",
       "    }\n",
       "\n",
       "    .dataframe tbody tr th {\n",
       "        vertical-align: top;\n",
       "    }\n",
       "\n",
       "    .dataframe thead th {\n",
       "        text-align: right;\n",
       "    }\n",
       "</style>\n",
       "<table border=\"1\" class=\"dataframe\">\n",
       "  <thead>\n",
       "    <tr style=\"text-align: right;\">\n",
       "      <th></th>\n",
       "      <th>Name</th>\n",
       "      <th>Platform</th>\n",
       "      <th>Year_of_Release</th>\n",
       "      <th>Genre</th>\n",
       "      <th>NA_sales</th>\n",
       "      <th>EU_sales</th>\n",
       "      <th>JP_sales</th>\n",
       "      <th>Other_sales</th>\n",
       "      <th>Critic_Score</th>\n",
       "      <th>User_Score</th>\n",
       "      <th>Rating</th>\n",
       "    </tr>\n",
       "  </thead>\n",
       "  <tbody>\n",
       "    <tr>\n",
       "      <td>0</td>\n",
       "      <td>Wii Sports</td>\n",
       "      <td>Wii</td>\n",
       "      <td>2,006.00</td>\n",
       "      <td>Sports</td>\n",
       "      <td>41.36</td>\n",
       "      <td>28.96</td>\n",
       "      <td>3.77</td>\n",
       "      <td>8.45</td>\n",
       "      <td>76.00</td>\n",
       "      <td>8</td>\n",
       "      <td>E</td>\n",
       "    </tr>\n",
       "    <tr>\n",
       "      <td>1</td>\n",
       "      <td>Super Mario Bros.</td>\n",
       "      <td>NES</td>\n",
       "      <td>1,985.00</td>\n",
       "      <td>Platform</td>\n",
       "      <td>29.08</td>\n",
       "      <td>3.58</td>\n",
       "      <td>6.81</td>\n",
       "      <td>0.77</td>\n",
       "      <td>nan</td>\n",
       "      <td>NaN</td>\n",
       "      <td>NaN</td>\n",
       "    </tr>\n",
       "    <tr>\n",
       "      <td>2</td>\n",
       "      <td>Mario Kart Wii</td>\n",
       "      <td>Wii</td>\n",
       "      <td>2,008.00</td>\n",
       "      <td>Racing</td>\n",
       "      <td>15.68</td>\n",
       "      <td>12.76</td>\n",
       "      <td>3.79</td>\n",
       "      <td>3.29</td>\n",
       "      <td>82.00</td>\n",
       "      <td>8.3</td>\n",
       "      <td>E</td>\n",
       "    </tr>\n",
       "    <tr>\n",
       "      <td>3</td>\n",
       "      <td>Wii Sports Resort</td>\n",
       "      <td>Wii</td>\n",
       "      <td>2,009.00</td>\n",
       "      <td>Sports</td>\n",
       "      <td>15.61</td>\n",
       "      <td>10.93</td>\n",
       "      <td>3.28</td>\n",
       "      <td>2.95</td>\n",
       "      <td>80.00</td>\n",
       "      <td>8</td>\n",
       "      <td>E</td>\n",
       "    </tr>\n",
       "    <tr>\n",
       "      <td>4</td>\n",
       "      <td>Pokemon Red/Pokemon Blue</td>\n",
       "      <td>GB</td>\n",
       "      <td>1,996.00</td>\n",
       "      <td>Role-Playing</td>\n",
       "      <td>11.27</td>\n",
       "      <td>8.89</td>\n",
       "      <td>10.22</td>\n",
       "      <td>1.00</td>\n",
       "      <td>nan</td>\n",
       "      <td>NaN</td>\n",
       "      <td>NaN</td>\n",
       "    </tr>\n",
       "  </tbody>\n",
       "</table>\n",
       "</div>"
      ],
      "text/plain": [
       "                       Name Platform  Year_of_Release         Genre  NA_sales  \\\n",
       "0                Wii Sports      Wii         2,006.00        Sports     41.36   \n",
       "1         Super Mario Bros.      NES         1,985.00      Platform     29.08   \n",
       "2            Mario Kart Wii      Wii         2,008.00        Racing     15.68   \n",
       "3         Wii Sports Resort      Wii         2,009.00        Sports     15.61   \n",
       "4  Pokemon Red/Pokemon Blue       GB         1,996.00  Role-Playing     11.27   \n",
       "\n",
       "   EU_sales  JP_sales  Other_sales  Critic_Score User_Score Rating  \n",
       "0     28.96      3.77         8.45         76.00          8      E  \n",
       "1      3.58      6.81         0.77           nan        NaN    NaN  \n",
       "2     12.76      3.79         3.29         82.00        8.3      E  \n",
       "3     10.93      3.28         2.95         80.00          8      E  \n",
       "4      8.89     10.22         1.00           nan        NaN    NaN  "
      ]
     },
     "execution_count": 3,
     "metadata": {},
     "output_type": "execute_result"
    }
   ],
   "source": [
    "df.head()"
   ]
  },
  {
   "cell_type": "code",
   "execution_count": 4,
   "id": "ceac0c32",
   "metadata": {},
   "outputs": [
    {
     "data": {
      "text/html": [
       "<div>\n",
       "<style scoped>\n",
       "    .dataframe tbody tr th:only-of-type {\n",
       "        vertical-align: middle;\n",
       "    }\n",
       "\n",
       "    .dataframe tbody tr th {\n",
       "        vertical-align: top;\n",
       "    }\n",
       "\n",
       "    .dataframe thead th {\n",
       "        text-align: right;\n",
       "    }\n",
       "</style>\n",
       "<table border=\"1\" class=\"dataframe\">\n",
       "  <thead>\n",
       "    <tr style=\"text-align: right;\">\n",
       "      <th></th>\n",
       "      <th>Name</th>\n",
       "      <th>Platform</th>\n",
       "      <th>Year_of_Release</th>\n",
       "      <th>Genre</th>\n",
       "      <th>NA_sales</th>\n",
       "      <th>EU_sales</th>\n",
       "      <th>JP_sales</th>\n",
       "      <th>Other_sales</th>\n",
       "      <th>Critic_Score</th>\n",
       "      <th>User_Score</th>\n",
       "      <th>Rating</th>\n",
       "    </tr>\n",
       "  </thead>\n",
       "  <tbody>\n",
       "    <tr>\n",
       "      <td>16710</td>\n",
       "      <td>Samurai Warriors: Sanada Maru</td>\n",
       "      <td>PS3</td>\n",
       "      <td>2,016.00</td>\n",
       "      <td>Action</td>\n",
       "      <td>0.00</td>\n",
       "      <td>0.00</td>\n",
       "      <td>0.01</td>\n",
       "      <td>0.00</td>\n",
       "      <td>nan</td>\n",
       "      <td>NaN</td>\n",
       "      <td>NaN</td>\n",
       "    </tr>\n",
       "    <tr>\n",
       "      <td>16711</td>\n",
       "      <td>LMA Manager 2007</td>\n",
       "      <td>X360</td>\n",
       "      <td>2,006.00</td>\n",
       "      <td>Sports</td>\n",
       "      <td>0.00</td>\n",
       "      <td>0.01</td>\n",
       "      <td>0.00</td>\n",
       "      <td>0.00</td>\n",
       "      <td>nan</td>\n",
       "      <td>NaN</td>\n",
       "      <td>NaN</td>\n",
       "    </tr>\n",
       "    <tr>\n",
       "      <td>16712</td>\n",
       "      <td>Haitaka no Psychedelica</td>\n",
       "      <td>PSV</td>\n",
       "      <td>2,016.00</td>\n",
       "      <td>Adventure</td>\n",
       "      <td>0.00</td>\n",
       "      <td>0.00</td>\n",
       "      <td>0.01</td>\n",
       "      <td>0.00</td>\n",
       "      <td>nan</td>\n",
       "      <td>NaN</td>\n",
       "      <td>NaN</td>\n",
       "    </tr>\n",
       "    <tr>\n",
       "      <td>16713</td>\n",
       "      <td>Spirits &amp; Spells</td>\n",
       "      <td>GBA</td>\n",
       "      <td>2,003.00</td>\n",
       "      <td>Platform</td>\n",
       "      <td>0.01</td>\n",
       "      <td>0.00</td>\n",
       "      <td>0.00</td>\n",
       "      <td>0.00</td>\n",
       "      <td>nan</td>\n",
       "      <td>NaN</td>\n",
       "      <td>NaN</td>\n",
       "    </tr>\n",
       "    <tr>\n",
       "      <td>16714</td>\n",
       "      <td>Winning Post 8 2016</td>\n",
       "      <td>PSV</td>\n",
       "      <td>2,016.00</td>\n",
       "      <td>Simulation</td>\n",
       "      <td>0.00</td>\n",
       "      <td>0.00</td>\n",
       "      <td>0.01</td>\n",
       "      <td>0.00</td>\n",
       "      <td>nan</td>\n",
       "      <td>NaN</td>\n",
       "      <td>NaN</td>\n",
       "    </tr>\n",
       "  </tbody>\n",
       "</table>\n",
       "</div>"
      ],
      "text/plain": [
       "                                Name Platform  Year_of_Release       Genre  \\\n",
       "16710  Samurai Warriors: Sanada Maru      PS3         2,016.00      Action   \n",
       "16711               LMA Manager 2007     X360         2,006.00      Sports   \n",
       "16712        Haitaka no Psychedelica      PSV         2,016.00   Adventure   \n",
       "16713               Spirits & Spells      GBA         2,003.00    Platform   \n",
       "16714            Winning Post 8 2016      PSV         2,016.00  Simulation   \n",
       "\n",
       "       NA_sales  EU_sales  JP_sales  Other_sales  Critic_Score User_Score  \\\n",
       "16710      0.00      0.00      0.01         0.00           nan        NaN   \n",
       "16711      0.00      0.01      0.00         0.00           nan        NaN   \n",
       "16712      0.00      0.00      0.01         0.00           nan        NaN   \n",
       "16713      0.01      0.00      0.00         0.00           nan        NaN   \n",
       "16714      0.00      0.00      0.01         0.00           nan        NaN   \n",
       "\n",
       "      Rating  \n",
       "16710    NaN  \n",
       "16711    NaN  \n",
       "16712    NaN  \n",
       "16713    NaN  \n",
       "16714    NaN  "
      ]
     },
     "execution_count": 4,
     "metadata": {},
     "output_type": "execute_result"
    }
   ],
   "source": [
    "df.tail()"
   ]
  },
  {
   "cell_type": "code",
   "execution_count": 5,
   "id": "ec279dd6",
   "metadata": {},
   "outputs": [
    {
     "name": "stdout",
     "output_type": "stream",
     "text": [
      "<class 'pandas.core.frame.DataFrame'>\n",
      "RangeIndex: 16715 entries, 0 to 16714\n",
      "Data columns (total 11 columns):\n",
      "Name               16713 non-null object\n",
      "Platform           16715 non-null object\n",
      "Year_of_Release    16446 non-null float64\n",
      "Genre              16713 non-null object\n",
      "NA_sales           16715 non-null float64\n",
      "EU_sales           16715 non-null float64\n",
      "JP_sales           16715 non-null float64\n",
      "Other_sales        16715 non-null float64\n",
      "Critic_Score       8137 non-null float64\n",
      "User_Score         10014 non-null object\n",
      "Rating             9949 non-null object\n",
      "dtypes: float64(6), object(5)\n",
      "memory usage: 1.4+ MB\n"
     ]
    }
   ],
   "source": [
    "df.info()"
   ]
  },
  {
   "cell_type": "markdown",
   "id": "421fea86",
   "metadata": {},
   "source": [
    "The dataset have 16715 rows and 11 columns. Looking at the tail, there are a lot of missing values"
   ]
  },
  {
   "cell_type": "markdown",
   "id": "86096862",
   "metadata": {},
   "source": [
    "<div class=\"alert alert-success\" role=\"alert\">\n",
    "Reviewer's comment v. 1:\n",
    "    \n",
    "Yes, you correctly noted one of the problems with data.\n",
    "</div>"
   ]
  },
  {
   "cell_type": "code",
   "execution_count": 6,
   "id": "022bce53",
   "metadata": {
    "scrolled": true
   },
   "outputs": [
    {
     "data": {
      "text/html": [
       "<div>\n",
       "<style scoped>\n",
       "    .dataframe tbody tr th:only-of-type {\n",
       "        vertical-align: middle;\n",
       "    }\n",
       "\n",
       "    .dataframe tbody tr th {\n",
       "        vertical-align: top;\n",
       "    }\n",
       "\n",
       "    .dataframe thead th {\n",
       "        text-align: right;\n",
       "    }\n",
       "</style>\n",
       "<table border=\"1\" class=\"dataframe\">\n",
       "  <thead>\n",
       "    <tr style=\"text-align: right;\">\n",
       "      <th></th>\n",
       "      <th>Year_of_Release</th>\n",
       "      <th>NA_sales</th>\n",
       "      <th>EU_sales</th>\n",
       "      <th>JP_sales</th>\n",
       "      <th>Other_sales</th>\n",
       "      <th>Critic_Score</th>\n",
       "    </tr>\n",
       "  </thead>\n",
       "  <tbody>\n",
       "    <tr>\n",
       "      <td>count</td>\n",
       "      <td>16,446.00</td>\n",
       "      <td>16,715.00</td>\n",
       "      <td>16,715.00</td>\n",
       "      <td>16,715.00</td>\n",
       "      <td>16,715.00</td>\n",
       "      <td>8,137.00</td>\n",
       "    </tr>\n",
       "    <tr>\n",
       "      <td>mean</td>\n",
       "      <td>2,006.48</td>\n",
       "      <td>0.26</td>\n",
       "      <td>0.15</td>\n",
       "      <td>0.08</td>\n",
       "      <td>0.05</td>\n",
       "      <td>68.97</td>\n",
       "    </tr>\n",
       "    <tr>\n",
       "      <td>std</td>\n",
       "      <td>5.88</td>\n",
       "      <td>0.81</td>\n",
       "      <td>0.50</td>\n",
       "      <td>0.31</td>\n",
       "      <td>0.19</td>\n",
       "      <td>13.94</td>\n",
       "    </tr>\n",
       "    <tr>\n",
       "      <td>min</td>\n",
       "      <td>1,980.00</td>\n",
       "      <td>0.00</td>\n",
       "      <td>0.00</td>\n",
       "      <td>0.00</td>\n",
       "      <td>0.00</td>\n",
       "      <td>13.00</td>\n",
       "    </tr>\n",
       "    <tr>\n",
       "      <td>25%</td>\n",
       "      <td>2,003.00</td>\n",
       "      <td>0.00</td>\n",
       "      <td>0.00</td>\n",
       "      <td>0.00</td>\n",
       "      <td>0.00</td>\n",
       "      <td>60.00</td>\n",
       "    </tr>\n",
       "    <tr>\n",
       "      <td>50%</td>\n",
       "      <td>2,007.00</td>\n",
       "      <td>0.08</td>\n",
       "      <td>0.02</td>\n",
       "      <td>0.00</td>\n",
       "      <td>0.01</td>\n",
       "      <td>71.00</td>\n",
       "    </tr>\n",
       "    <tr>\n",
       "      <td>75%</td>\n",
       "      <td>2,010.00</td>\n",
       "      <td>0.24</td>\n",
       "      <td>0.11</td>\n",
       "      <td>0.04</td>\n",
       "      <td>0.03</td>\n",
       "      <td>79.00</td>\n",
       "    </tr>\n",
       "    <tr>\n",
       "      <td>max</td>\n",
       "      <td>2,016.00</td>\n",
       "      <td>41.36</td>\n",
       "      <td>28.96</td>\n",
       "      <td>10.22</td>\n",
       "      <td>10.57</td>\n",
       "      <td>98.00</td>\n",
       "    </tr>\n",
       "  </tbody>\n",
       "</table>\n",
       "</div>"
      ],
      "text/plain": [
       "       Year_of_Release  NA_sales  EU_sales  JP_sales  Other_sales  \\\n",
       "count        16,446.00 16,715.00 16,715.00 16,715.00    16,715.00   \n",
       "mean          2,006.48      0.26      0.15      0.08         0.05   \n",
       "std               5.88      0.81      0.50      0.31         0.19   \n",
       "min           1,980.00      0.00      0.00      0.00         0.00   \n",
       "25%           2,003.00      0.00      0.00      0.00         0.00   \n",
       "50%           2,007.00      0.08      0.02      0.00         0.01   \n",
       "75%           2,010.00      0.24      0.11      0.04         0.03   \n",
       "max           2,016.00     41.36     28.96     10.22        10.57   \n",
       "\n",
       "       Critic_Score  \n",
       "count      8,137.00  \n",
       "mean          68.97  \n",
       "std           13.94  \n",
       "min           13.00  \n",
       "25%           60.00  \n",
       "50%           71.00  \n",
       "75%           79.00  \n",
       "max           98.00  "
      ]
     },
     "execution_count": 6,
     "metadata": {},
     "output_type": "execute_result"
    }
   ],
   "source": [
    "df.describe()"
   ]
  },
  {
   "cell_type": "markdown",
   "id": "c281e35d",
   "metadata": {},
   "source": [
    "1. The year start at 1980 until 2016\n",
    "2. All sale data exist"
   ]
  },
  {
   "cell_type": "code",
   "execution_count": 7,
   "id": "4c1bdb04",
   "metadata": {
    "scrolled": true
   },
   "outputs": [
    {
     "data": {
      "text/html": [
       "<div>\n",
       "<style scoped>\n",
       "    .dataframe tbody tr th:only-of-type {\n",
       "        vertical-align: middle;\n",
       "    }\n",
       "\n",
       "    .dataframe tbody tr th {\n",
       "        vertical-align: top;\n",
       "    }\n",
       "\n",
       "    .dataframe thead th {\n",
       "        text-align: right;\n",
       "    }\n",
       "</style>\n",
       "<table border=\"1\" class=\"dataframe\">\n",
       "  <thead>\n",
       "    <tr style=\"text-align: right;\">\n",
       "      <th></th>\n",
       "      <th>Name</th>\n",
       "      <th>Platform</th>\n",
       "      <th>Genre</th>\n",
       "      <th>User_Score</th>\n",
       "      <th>Rating</th>\n",
       "    </tr>\n",
       "  </thead>\n",
       "  <tbody>\n",
       "    <tr>\n",
       "      <td>count</td>\n",
       "      <td>16713</td>\n",
       "      <td>16715</td>\n",
       "      <td>16713</td>\n",
       "      <td>10014</td>\n",
       "      <td>9949</td>\n",
       "    </tr>\n",
       "    <tr>\n",
       "      <td>unique</td>\n",
       "      <td>11559</td>\n",
       "      <td>31</td>\n",
       "      <td>12</td>\n",
       "      <td>96</td>\n",
       "      <td>8</td>\n",
       "    </tr>\n",
       "    <tr>\n",
       "      <td>top</td>\n",
       "      <td>Need for Speed: Most Wanted</td>\n",
       "      <td>PS2</td>\n",
       "      <td>Action</td>\n",
       "      <td>tbd</td>\n",
       "      <td>E</td>\n",
       "    </tr>\n",
       "    <tr>\n",
       "      <td>freq</td>\n",
       "      <td>12</td>\n",
       "      <td>2161</td>\n",
       "      <td>3369</td>\n",
       "      <td>2424</td>\n",
       "      <td>3990</td>\n",
       "    </tr>\n",
       "  </tbody>\n",
       "</table>\n",
       "</div>"
      ],
      "text/plain": [
       "                               Name Platform   Genre User_Score Rating\n",
       "count                         16713    16715   16713      10014   9949\n",
       "unique                        11559       31      12         96      8\n",
       "top     Need for Speed: Most Wanted      PS2  Action        tbd      E\n",
       "freq                             12     2161    3369       2424   3990"
      ]
     },
     "execution_count": 7,
     "metadata": {},
     "output_type": "execute_result"
    }
   ],
   "source": [
    "df.describe(include=\"object\")"
   ]
  },
  {
   "cell_type": "markdown",
   "id": "d85a5a24",
   "metadata": {},
   "source": [
    "1. There are 31 platforms\n",
    "1. There are 12 genre\n",
    "1. User score has value \"tbd\" 2424 times"
   ]
  },
  {
   "cell_type": "markdown",
   "id": "39c91f42",
   "metadata": {},
   "source": [
    "<div class=\"alert alert-success\" role=\"alert\">\n",
    "Reviewer's comment v. 1:\n",
    "    \n",
    "Ok :)\n",
    "</div>"
   ]
  },
  {
   "cell_type": "markdown",
   "id": "813b9911",
   "metadata": {},
   "source": [
    "# Prepare the data"
   ]
  },
  {
   "cell_type": "markdown",
   "id": "607ce360",
   "metadata": {},
   "source": [
    "replace the column names and make them lowercase, Its easier to handle."
   ]
  },
  {
   "cell_type": "code",
   "execution_count": 8,
   "id": "39bde19e",
   "metadata": {},
   "outputs": [],
   "source": [
    "df.columns = df.columns.str.lower()"
   ]
  },
  {
   "cell_type": "markdown",
   "id": "9d64d9c8",
   "metadata": {},
   "source": [
    "<div class=\"alert alert-success\" role=\"alert\">\n",
    "Reviewer's comment v. 1:\n",
    "    \n",
    "It's great that you bring columns to the lower case.\n",
    "</div>"
   ]
  },
  {
   "cell_type": "markdown",
   "id": "6f2bccca",
   "metadata": {},
   "source": [
    " ### Looking for missing values"
   ]
  },
  {
   "cell_type": "code",
   "execution_count": 9,
   "id": "132500f0",
   "metadata": {},
   "outputs": [
    {
     "data": {
      "text/html": [
       "<style  type=\"text/css\" >\n",
       "</style><table id=\"T_fa570032_e3aa_11eb_8bd1_02420a399485\" ><thead>    <tr>        <th class=\"blank level0\" ></th>        <th class=\"col_heading level0 col0\" >missing</th>        <th class=\"col_heading level0 col1\" >total</th>        <th class=\"col_heading level0 col2\" >percent</th>    </tr></thead><tbody>\n",
       "                <tr>\n",
       "                        <th id=\"T_fa570032_e3aa_11eb_8bd1_02420a399485level0_row0\" class=\"row_heading level0 row0\" >critic_score</th>\n",
       "                        <td id=\"T_fa570032_e3aa_11eb_8bd1_02420a399485row0_col0\" class=\"data row0 col0\" >8,578</td>\n",
       "                        <td id=\"T_fa570032_e3aa_11eb_8bd1_02420a399485row0_col1\" class=\"data row0 col1\" >16,715</td>\n",
       "                        <td id=\"T_fa570032_e3aa_11eb_8bd1_02420a399485row0_col2\" class=\"data row0 col2\" >51.32%</td>\n",
       "            </tr>\n",
       "            <tr>\n",
       "                        <th id=\"T_fa570032_e3aa_11eb_8bd1_02420a399485level0_row1\" class=\"row_heading level0 row1\" >rating</th>\n",
       "                        <td id=\"T_fa570032_e3aa_11eb_8bd1_02420a399485row1_col0\" class=\"data row1 col0\" >6,766</td>\n",
       "                        <td id=\"T_fa570032_e3aa_11eb_8bd1_02420a399485row1_col1\" class=\"data row1 col1\" >16,715</td>\n",
       "                        <td id=\"T_fa570032_e3aa_11eb_8bd1_02420a399485row1_col2\" class=\"data row1 col2\" >40.48%</td>\n",
       "            </tr>\n",
       "            <tr>\n",
       "                        <th id=\"T_fa570032_e3aa_11eb_8bd1_02420a399485level0_row2\" class=\"row_heading level0 row2\" >user_score</th>\n",
       "                        <td id=\"T_fa570032_e3aa_11eb_8bd1_02420a399485row2_col0\" class=\"data row2 col0\" >6,701</td>\n",
       "                        <td id=\"T_fa570032_e3aa_11eb_8bd1_02420a399485row2_col1\" class=\"data row2 col1\" >16,715</td>\n",
       "                        <td id=\"T_fa570032_e3aa_11eb_8bd1_02420a399485row2_col2\" class=\"data row2 col2\" >40.09%</td>\n",
       "            </tr>\n",
       "            <tr>\n",
       "                        <th id=\"T_fa570032_e3aa_11eb_8bd1_02420a399485level0_row3\" class=\"row_heading level0 row3\" >year_of_release</th>\n",
       "                        <td id=\"T_fa570032_e3aa_11eb_8bd1_02420a399485row3_col0\" class=\"data row3 col0\" >269</td>\n",
       "                        <td id=\"T_fa570032_e3aa_11eb_8bd1_02420a399485row3_col1\" class=\"data row3 col1\" >16,715</td>\n",
       "                        <td id=\"T_fa570032_e3aa_11eb_8bd1_02420a399485row3_col2\" class=\"data row3 col2\" >1.61%</td>\n",
       "            </tr>\n",
       "            <tr>\n",
       "                        <th id=\"T_fa570032_e3aa_11eb_8bd1_02420a399485level0_row4\" class=\"row_heading level0 row4\" >name</th>\n",
       "                        <td id=\"T_fa570032_e3aa_11eb_8bd1_02420a399485row4_col0\" class=\"data row4 col0\" >2</td>\n",
       "                        <td id=\"T_fa570032_e3aa_11eb_8bd1_02420a399485row4_col1\" class=\"data row4 col1\" >16,715</td>\n",
       "                        <td id=\"T_fa570032_e3aa_11eb_8bd1_02420a399485row4_col2\" class=\"data row4 col2\" >0.01%</td>\n",
       "            </tr>\n",
       "            <tr>\n",
       "                        <th id=\"T_fa570032_e3aa_11eb_8bd1_02420a399485level0_row5\" class=\"row_heading level0 row5\" >genre</th>\n",
       "                        <td id=\"T_fa570032_e3aa_11eb_8bd1_02420a399485row5_col0\" class=\"data row5 col0\" >2</td>\n",
       "                        <td id=\"T_fa570032_e3aa_11eb_8bd1_02420a399485row5_col1\" class=\"data row5 col1\" >16,715</td>\n",
       "                        <td id=\"T_fa570032_e3aa_11eb_8bd1_02420a399485row5_col2\" class=\"data row5 col2\" >0.01%</td>\n",
       "            </tr>\n",
       "            <tr>\n",
       "                        <th id=\"T_fa570032_e3aa_11eb_8bd1_02420a399485level0_row6\" class=\"row_heading level0 row6\" >platform</th>\n",
       "                        <td id=\"T_fa570032_e3aa_11eb_8bd1_02420a399485row6_col0\" class=\"data row6 col0\" >0</td>\n",
       "                        <td id=\"T_fa570032_e3aa_11eb_8bd1_02420a399485row6_col1\" class=\"data row6 col1\" >16,715</td>\n",
       "                        <td id=\"T_fa570032_e3aa_11eb_8bd1_02420a399485row6_col2\" class=\"data row6 col2\" >0.00%</td>\n",
       "            </tr>\n",
       "            <tr>\n",
       "                        <th id=\"T_fa570032_e3aa_11eb_8bd1_02420a399485level0_row7\" class=\"row_heading level0 row7\" >na_sales</th>\n",
       "                        <td id=\"T_fa570032_e3aa_11eb_8bd1_02420a399485row7_col0\" class=\"data row7 col0\" >0</td>\n",
       "                        <td id=\"T_fa570032_e3aa_11eb_8bd1_02420a399485row7_col1\" class=\"data row7 col1\" >16,715</td>\n",
       "                        <td id=\"T_fa570032_e3aa_11eb_8bd1_02420a399485row7_col2\" class=\"data row7 col2\" >0.00%</td>\n",
       "            </tr>\n",
       "            <tr>\n",
       "                        <th id=\"T_fa570032_e3aa_11eb_8bd1_02420a399485level0_row8\" class=\"row_heading level0 row8\" >eu_sales</th>\n",
       "                        <td id=\"T_fa570032_e3aa_11eb_8bd1_02420a399485row8_col0\" class=\"data row8 col0\" >0</td>\n",
       "                        <td id=\"T_fa570032_e3aa_11eb_8bd1_02420a399485row8_col1\" class=\"data row8 col1\" >16,715</td>\n",
       "                        <td id=\"T_fa570032_e3aa_11eb_8bd1_02420a399485row8_col2\" class=\"data row8 col2\" >0.00%</td>\n",
       "            </tr>\n",
       "            <tr>\n",
       "                        <th id=\"T_fa570032_e3aa_11eb_8bd1_02420a399485level0_row9\" class=\"row_heading level0 row9\" >jp_sales</th>\n",
       "                        <td id=\"T_fa570032_e3aa_11eb_8bd1_02420a399485row9_col0\" class=\"data row9 col0\" >0</td>\n",
       "                        <td id=\"T_fa570032_e3aa_11eb_8bd1_02420a399485row9_col1\" class=\"data row9 col1\" >16,715</td>\n",
       "                        <td id=\"T_fa570032_e3aa_11eb_8bd1_02420a399485row9_col2\" class=\"data row9 col2\" >0.00%</td>\n",
       "            </tr>\n",
       "            <tr>\n",
       "                        <th id=\"T_fa570032_e3aa_11eb_8bd1_02420a399485level0_row10\" class=\"row_heading level0 row10\" >other_sales</th>\n",
       "                        <td id=\"T_fa570032_e3aa_11eb_8bd1_02420a399485row10_col0\" class=\"data row10 col0\" >0</td>\n",
       "                        <td id=\"T_fa570032_e3aa_11eb_8bd1_02420a399485row10_col1\" class=\"data row10 col1\" >16,715</td>\n",
       "                        <td id=\"T_fa570032_e3aa_11eb_8bd1_02420a399485row10_col2\" class=\"data row10 col2\" >0.00%</td>\n",
       "            </tr>\n",
       "    </tbody></table>"
      ],
      "text/plain": [
       "<pandas.io.formats.style.Styler at 0x7f18396b1610>"
      ]
     },
     "execution_count": 9,
     "metadata": {},
     "output_type": "execute_result"
    }
   ],
   "source": [
    "df.stb.missing(style=True)"
   ]
  },
  {
   "cell_type": "markdown",
   "id": "f6ea06a1",
   "metadata": {},
   "source": [
    "- Almost half of the critic score is missing. \n",
    "- A lot of rating and user score are missing. (more than 40%)\n",
    "- two are missing the name of the game and the genre - are they the same? We'll check"
   ]
  },
  {
   "cell_type": "markdown",
   "id": "0836f67c",
   "metadata": {},
   "source": [
    "<div class=\"alert alert-success\" role=\"alert\">\n",
    "Reviewer's comment v. 1:\n",
    "    \n",
    "Good job that you have calculated the percentage of a missing values. It's important to know when making decisions about processing missing values.\n",
    "</div>"
   ]
  },
  {
   "cell_type": "code",
   "execution_count": 10,
   "id": "9195c1c3",
   "metadata": {},
   "outputs": [
    {
     "data": {
      "text/html": [
       "<div>\n",
       "<style scoped>\n",
       "    .dataframe tbody tr th:only-of-type {\n",
       "        vertical-align: middle;\n",
       "    }\n",
       "\n",
       "    .dataframe tbody tr th {\n",
       "        vertical-align: top;\n",
       "    }\n",
       "\n",
       "    .dataframe thead th {\n",
       "        text-align: right;\n",
       "    }\n",
       "</style>\n",
       "<table border=\"1\" class=\"dataframe\">\n",
       "  <thead>\n",
       "    <tr style=\"text-align: right;\">\n",
       "      <th></th>\n",
       "      <th>name</th>\n",
       "      <th>platform</th>\n",
       "      <th>year_of_release</th>\n",
       "      <th>genre</th>\n",
       "      <th>na_sales</th>\n",
       "      <th>eu_sales</th>\n",
       "      <th>jp_sales</th>\n",
       "      <th>other_sales</th>\n",
       "      <th>critic_score</th>\n",
       "      <th>user_score</th>\n",
       "      <th>rating</th>\n",
       "    </tr>\n",
       "  </thead>\n",
       "  <tbody>\n",
       "    <tr>\n",
       "      <td>659</td>\n",
       "      <td>NaN</td>\n",
       "      <td>GEN</td>\n",
       "      <td>1,993.00</td>\n",
       "      <td>NaN</td>\n",
       "      <td>1.78</td>\n",
       "      <td>0.53</td>\n",
       "      <td>0.00</td>\n",
       "      <td>0.08</td>\n",
       "      <td>nan</td>\n",
       "      <td>NaN</td>\n",
       "      <td>NaN</td>\n",
       "    </tr>\n",
       "    <tr>\n",
       "      <td>14244</td>\n",
       "      <td>NaN</td>\n",
       "      <td>GEN</td>\n",
       "      <td>1,993.00</td>\n",
       "      <td>NaN</td>\n",
       "      <td>0.00</td>\n",
       "      <td>0.00</td>\n",
       "      <td>0.03</td>\n",
       "      <td>0.00</td>\n",
       "      <td>nan</td>\n",
       "      <td>NaN</td>\n",
       "      <td>NaN</td>\n",
       "    </tr>\n",
       "  </tbody>\n",
       "</table>\n",
       "</div>"
      ],
      "text/plain": [
       "      name platform  year_of_release genre  na_sales  eu_sales  jp_sales  \\\n",
       "659    NaN      GEN         1,993.00   NaN      1.78      0.53      0.00   \n",
       "14244  NaN      GEN         1,993.00   NaN      0.00      0.00      0.03   \n",
       "\n",
       "       other_sales  critic_score user_score rating  \n",
       "659           0.08           nan        NaN    NaN  \n",
       "14244         0.00           nan        NaN    NaN  "
      ]
     },
     "execution_count": 10,
     "metadata": {},
     "output_type": "execute_result"
    }
   ],
   "source": [
    "df[df[\"name\"].isnull()]"
   ]
  },
  {
   "cell_type": "markdown",
   "id": "8bac18cd",
   "metadata": {},
   "source": [
    "Yes they are! and a lot of information is missing in these two rows. We will delete them"
   ]
  },
  {
   "cell_type": "markdown",
   "id": "ea2061f4",
   "metadata": {},
   "source": [
    "<div class=\"alert alert-success\" role=\"alert\">\n",
    "Reviewer's comment v. 1:\n",
    "    \n",
    "Yes, it's just two rows so we can drop these data.\n",
    "</div>"
   ]
  },
  {
   "cell_type": "code",
   "execution_count": 11,
   "id": "3f665756",
   "metadata": {},
   "outputs": [],
   "source": [
    "df = df[df[\"name\"].notnull()]"
   ]
  },
  {
   "cell_type": "markdown",
   "id": "c1187de9",
   "metadata": {},
   "source": [
    "Add total sales from all over the world to a new column"
   ]
  },
  {
   "cell_type": "code",
   "execution_count": 12,
   "id": "5fbe52f7",
   "metadata": {},
   "outputs": [],
   "source": [
    "df.insert(8, \"total_sales\",\n",
    "          df[[\"na_sales\", \"eu_sales\", \"jp_sales\", \"other_sales\"]].sum(axis=1))"
   ]
  },
  {
   "cell_type": "markdown",
   "id": "d9eab19b",
   "metadata": {},
   "source": [
    "Looking at the \"tbd\" in the user score and see in which years they appaired   "
   ]
  },
  {
   "cell_type": "code",
   "execution_count": 13,
   "id": "55ad98d0",
   "metadata": {},
   "outputs": [
    {
     "data": {
      "text/plain": [
       "2,009.00    405\n",
       "2,010.00    331\n",
       "2,008.00    326\n",
       "2,011.00    217\n",
       "2,002.00    192\n",
       "2,007.00    192\n",
       "2,006.00    124\n",
       "2,005.00    121\n",
       "2,004.00    107\n",
       "2,003.00     95\n",
       "2,001.00     82\n",
       "2,000.00     43\n",
       "2,015.00     38\n",
       "2,016.00     34\n",
       "2,012.00     24\n",
       "2,014.00     21\n",
       "2,013.00     15\n",
       "1,999.00      8\n",
       "1,997.00      1\n",
       "Name: year_of_release, dtype: int64"
      ]
     },
     "execution_count": 13,
     "metadata": {},
     "output_type": "execute_result"
    }
   ],
   "source": [
    "df[df[\"user_score\"] == \"tbd\"][\"year_of_release\"].value_counts()"
   ]
  },
  {
   "cell_type": "markdown",
   "id": "35ff404e",
   "metadata": {},
   "source": [
    "Its all over the years, there is no explanation for tbd - maybe the source of the data is old or incomplete. We can replace them with \"NaN\""
   ]
  },
  {
   "cell_type": "markdown",
   "id": "d88c1225",
   "metadata": {},
   "source": [
    "<div class=\"alert alert-success\" role=\"alert\">\n",
    "Reviewer's comment v. 1:\n",
    "    \n",
    "Yes, 'tbd' is expected to be NaN.\n",
    "</div>"
   ]
  },
  {
   "cell_type": "markdown",
   "id": "30ee978a",
   "metadata": {},
   "source": [
    "<div class=\"alert alert-warning\" role=\"alert\">\n",
    "Reviewer's comment v. 1:\n",
    "    \n",
    "Please note that you can avoid warnings (if necessary) by using the code below.\n",
    "</div>"
   ]
  },
  {
   "cell_type": "code",
   "execution_count": 14,
   "id": "ccbf7ad9",
   "metadata": {},
   "outputs": [],
   "source": [
    "import sys\n",
    "import warnings\n",
    "if not sys.warnoptions:\n",
    "    warnings.simplefilter(\"ignore\")"
   ]
  },
  {
   "cell_type": "code",
   "execution_count": 15,
   "id": "3657409a",
   "metadata": {
    "scrolled": true
   },
   "outputs": [],
   "source": [
    "df['user_score'] = pd.to_numeric(df['user_score'], errors='coerce')"
   ]
  },
  {
   "cell_type": "markdown",
   "id": "5f19ad78",
   "metadata": {},
   "source": [
    "<div class=\"alert alert-success\" role=\"alert\">\n",
    "Reviewer's comment v. 1:\n",
    "    \n",
    "It's a good idea to optimize data type. \n",
    "</div>"
   ]
  },
  {
   "cell_type": "markdown",
   "id": "4a8f2120",
   "metadata": {},
   "source": [
    "##### Checking the missing year"
   ]
  },
  {
   "cell_type": "code",
   "execution_count": 16,
   "id": "9375588e",
   "metadata": {},
   "outputs": [
    {
     "data": {
      "text/html": [
       "<div>\n",
       "<style scoped>\n",
       "    .dataframe tbody tr th:only-of-type {\n",
       "        vertical-align: middle;\n",
       "    }\n",
       "\n",
       "    .dataframe tbody tr th {\n",
       "        vertical-align: top;\n",
       "    }\n",
       "\n",
       "    .dataframe thead th {\n",
       "        text-align: right;\n",
       "    }\n",
       "</style>\n",
       "<table border=\"1\" class=\"dataframe\">\n",
       "  <thead>\n",
       "    <tr style=\"text-align: right;\">\n",
       "      <th></th>\n",
       "      <th>name</th>\n",
       "      <th>platform</th>\n",
       "      <th>year_of_release</th>\n",
       "      <th>genre</th>\n",
       "      <th>na_sales</th>\n",
       "      <th>eu_sales</th>\n",
       "      <th>jp_sales</th>\n",
       "      <th>other_sales</th>\n",
       "      <th>total_sales</th>\n",
       "      <th>critic_score</th>\n",
       "      <th>user_score</th>\n",
       "      <th>rating</th>\n",
       "    </tr>\n",
       "  </thead>\n",
       "  <tbody>\n",
       "    <tr>\n",
       "      <td>183</td>\n",
       "      <td>Madden NFL 2004</td>\n",
       "      <td>PS2</td>\n",
       "      <td>nan</td>\n",
       "      <td>Sports</td>\n",
       "      <td>4.26</td>\n",
       "      <td>0.26</td>\n",
       "      <td>0.01</td>\n",
       "      <td>0.71</td>\n",
       "      <td>5.24</td>\n",
       "      <td>94.00</td>\n",
       "      <td>8.50</td>\n",
       "      <td>E</td>\n",
       "    </tr>\n",
       "    <tr>\n",
       "      <td>377</td>\n",
       "      <td>FIFA Soccer 2004</td>\n",
       "      <td>PS2</td>\n",
       "      <td>nan</td>\n",
       "      <td>Sports</td>\n",
       "      <td>0.59</td>\n",
       "      <td>2.36</td>\n",
       "      <td>0.04</td>\n",
       "      <td>0.51</td>\n",
       "      <td>3.50</td>\n",
       "      <td>84.00</td>\n",
       "      <td>6.40</td>\n",
       "      <td>E</td>\n",
       "    </tr>\n",
       "    <tr>\n",
       "      <td>456</td>\n",
       "      <td>LEGO Batman: The Videogame</td>\n",
       "      <td>Wii</td>\n",
       "      <td>nan</td>\n",
       "      <td>Action</td>\n",
       "      <td>1.80</td>\n",
       "      <td>0.97</td>\n",
       "      <td>0.00</td>\n",
       "      <td>0.29</td>\n",
       "      <td>3.06</td>\n",
       "      <td>74.00</td>\n",
       "      <td>7.90</td>\n",
       "      <td>E10+</td>\n",
       "    </tr>\n",
       "    <tr>\n",
       "      <td>475</td>\n",
       "      <td>wwe Smackdown vs. Raw 2006</td>\n",
       "      <td>PS2</td>\n",
       "      <td>nan</td>\n",
       "      <td>Fighting</td>\n",
       "      <td>1.57</td>\n",
       "      <td>1.02</td>\n",
       "      <td>0.00</td>\n",
       "      <td>0.41</td>\n",
       "      <td>3.00</td>\n",
       "      <td>nan</td>\n",
       "      <td>nan</td>\n",
       "      <td>NaN</td>\n",
       "    </tr>\n",
       "    <tr>\n",
       "      <td>609</td>\n",
       "      <td>Space Invaders</td>\n",
       "      <td>2600</td>\n",
       "      <td>nan</td>\n",
       "      <td>Shooter</td>\n",
       "      <td>2.36</td>\n",
       "      <td>0.14</td>\n",
       "      <td>0.00</td>\n",
       "      <td>0.03</td>\n",
       "      <td>2.53</td>\n",
       "      <td>nan</td>\n",
       "      <td>nan</td>\n",
       "      <td>NaN</td>\n",
       "    </tr>\n",
       "  </tbody>\n",
       "</table>\n",
       "</div>"
      ],
      "text/plain": [
       "                           name platform  year_of_release     genre  na_sales  \\\n",
       "183             Madden NFL 2004      PS2              nan    Sports      4.26   \n",
       "377            FIFA Soccer 2004      PS2              nan    Sports      0.59   \n",
       "456  LEGO Batman: The Videogame      Wii              nan    Action      1.80   \n",
       "475  wwe Smackdown vs. Raw 2006      PS2              nan  Fighting      1.57   \n",
       "609              Space Invaders     2600              nan   Shooter      2.36   \n",
       "\n",
       "     eu_sales  jp_sales  other_sales  total_sales  critic_score  user_score  \\\n",
       "183      0.26      0.01         0.71         5.24         94.00        8.50   \n",
       "377      2.36      0.04         0.51         3.50         84.00        6.40   \n",
       "456      0.97      0.00         0.29         3.06         74.00        7.90   \n",
       "475      1.02      0.00         0.41         3.00           nan         nan   \n",
       "609      0.14      0.00         0.03         2.53           nan         nan   \n",
       "\n",
       "    rating  \n",
       "183      E  \n",
       "377      E  \n",
       "456   E10+  \n",
       "475    NaN  \n",
       "609    NaN  "
      ]
     },
     "execution_count": 16,
     "metadata": {},
     "output_type": "execute_result"
    }
   ],
   "source": [
    "df[df[\"year_of_release\"].isnull()].head()"
   ]
  },
  {
   "cell_type": "code",
   "execution_count": 17,
   "id": "0cd9f0de",
   "metadata": {},
   "outputs": [
    {
     "name": "stdout",
     "output_type": "stream",
     "text": [
      "The ratio of sales of games without information about the year is 1.11%\n"
     ]
    }
   ],
   "source": [
    "sales_without_year = df[df[\"year_of_release\"].isnull()][\"total_sales\"].sum()\n",
    "total_sales = df[\"total_sales\"].sum()\n",
    "print(\n",
    "    f\"The ratio of sales of games without information about the year is {(sales_without_year/total_sales):.2%}\")"
   ]
  },
  {
   "cell_type": "markdown",
   "id": "db79d9bc",
   "metadata": {},
   "source": [
    "It seems by some of the games name that it about very old game. for example:\n",
    "- Madden NFL 2004\n",
    "- FIFA Soccer 2004\n",
    "- wwe Smackdown vs. Raw 2006\n",
    "\n",
    "\n",
    "Since the games without info about year of release are very old and there sales is about 1% of the total sales, We will delete them."
   ]
  },
  {
   "cell_type": "markdown",
   "id": "16120993",
   "metadata": {},
   "source": [
    "<div class=\"alert alert-success\" role=\"alert\">\n",
    "Reviewer's comment v. 1:\n",
    "    \n",
    "Ok, a reasonable decision :)\n",
    "</div>"
   ]
  },
  {
   "cell_type": "code",
   "execution_count": 18,
   "id": "1baaa181",
   "metadata": {},
   "outputs": [],
   "source": [
    "df = df[df[\"year_of_release\"].notnull()]"
   ]
  },
  {
   "cell_type": "markdown",
   "id": "4baeb732",
   "metadata": {},
   "source": [
    "filling the missing data based on platform and genre - critic and user score by the mean and rating by the mode"
   ]
  },
  {
   "cell_type": "markdown",
   "id": "853b0145",
   "metadata": {},
   "source": [
    "fixing ***critic_score*** by mean of platform and genre"
   ]
  },
  {
   "cell_type": "code",
   "execution_count": 19,
   "id": "32450e0d",
   "metadata": {
    "scrolled": true
   },
   "outputs": [],
   "source": [
    "# filling the critic score with the mean\n",
    "dtt = df.groupby([\"platform\", \"genre\"], as_index=False)\n",
    "df[\"critic_score\"] = dtt[\"critic_score\"].transform(\n",
    "    lambda x: x.fillna(x.mean()))"
   ]
  },
  {
   "cell_type": "markdown",
   "id": "853eea06",
   "metadata": {},
   "source": [
    "fixing ***user_score*** by mean of platform and genre"
   ]
  },
  {
   "cell_type": "code",
   "execution_count": 20,
   "id": "f8a87ca0",
   "metadata": {},
   "outputs": [],
   "source": [
    "# filling the user score with the mean\n",
    "dtt = df.groupby([\"platform\", \"genre\"], as_index=False)\n",
    "df[\"user_score\"] = dtt[\"user_score\"].transform(lambda x: x.fillna(x.mean()))"
   ]
  },
  {
   "cell_type": "markdown",
   "id": "3a3feecb",
   "metadata": {},
   "source": [
    "for the **rating** we will check the values at this column"
   ]
  },
  {
   "cell_type": "code",
   "execution_count": 21,
   "id": "47e2a539",
   "metadata": {},
   "outputs": [],
   "source": [
    "df[\"rating\"] = df[\"rating\"].astype(\"category\")\n",
    "df[\"rating\"] = df.groupby([\"platform\", \"genre\"], as_index=False)[\n",
    "    \"rating\"].transform(lambda x: x.fillna(x.value_counts().index[0]))"
   ]
  },
  {
   "cell_type": "markdown",
   "id": "b567caf0",
   "metadata": {},
   "source": [
    "replacing NaN with 0"
   ]
  },
  {
   "cell_type": "code",
   "execution_count": 22,
   "id": "4c3bef07",
   "metadata": {},
   "outputs": [],
   "source": [
    "# replace NaN with 0.0\n",
    "df.loc[df[\"user_score\"].isnull(), \"user_score\"] = 0.0\n",
    "df.loc[df[\"critic_score\"].isnull(), \"critic_score\"] = 0.0"
   ]
  },
  {
   "cell_type": "markdown",
   "id": "8f3b2a98",
   "metadata": {},
   "source": [
    "<div class=\"alert alert-info\">\n",
    "  <strong>My fixing: </strong> explain a possible reasons of a missing values\n",
    "</div>"
   ]
  },
  {
   "cell_type": "markdown",
   "id": "3226b823",
   "metadata": {},
   "source": [
    "**Missing values**: when examining the missing values, we notice that they are in score(critic and user) and rating. The origin of the data is not part of the sales info but came after that, for example, score are publish after the game start to sell and critics and users start to score them. Rating is given after the main data about selling is gathered.\n",
    "**The data seems to have been gathered from several data source, some of them are missing and not completed**"
   ]
  },
  {
   "cell_type": "markdown",
   "id": "e238dd00",
   "metadata": {},
   "source": [
    "<div class=\"alert alert-success\" role=\"alert\">\n",
    "Reviewer's comment v. 2:\n",
    "    \n",
    "Yes, a reasonable explanation. Also it can be due to technical or human errors during data input.\n",
    "</div>"
   ]
  },
  {
   "cell_type": "markdown",
   "id": "b43ee15a",
   "metadata": {},
   "source": [
    "Are there any missing values?"
   ]
  },
  {
   "cell_type": "code",
   "execution_count": 23,
   "id": "201ff9b1",
   "metadata": {},
   "outputs": [
    {
     "data": {
      "text/html": [
       "<div>\n",
       "<style scoped>\n",
       "    .dataframe tbody tr th:only-of-type {\n",
       "        vertical-align: middle;\n",
       "    }\n",
       "\n",
       "    .dataframe tbody tr th {\n",
       "        vertical-align: top;\n",
       "    }\n",
       "\n",
       "    .dataframe thead th {\n",
       "        text-align: right;\n",
       "    }\n",
       "</style>\n",
       "<table border=\"1\" class=\"dataframe\">\n",
       "  <thead>\n",
       "    <tr style=\"text-align: right;\">\n",
       "      <th></th>\n",
       "      <th>name</th>\n",
       "      <th>platform</th>\n",
       "      <th>year_of_release</th>\n",
       "      <th>genre</th>\n",
       "      <th>na_sales</th>\n",
       "      <th>eu_sales</th>\n",
       "      <th>jp_sales</th>\n",
       "      <th>other_sales</th>\n",
       "      <th>total_sales</th>\n",
       "      <th>critic_score</th>\n",
       "      <th>user_score</th>\n",
       "      <th>rating</th>\n",
       "    </tr>\n",
       "  </thead>\n",
       "  <tbody>\n",
       "  </tbody>\n",
       "</table>\n",
       "</div>"
      ],
      "text/plain": [
       "Empty DataFrame\n",
       "Columns: [name, platform, year_of_release, genre, na_sales, eu_sales, jp_sales, other_sales, total_sales, critic_score, user_score, rating]\n",
       "Index: []"
      ]
     },
     "execution_count": 23,
     "metadata": {},
     "output_type": "execute_result"
    }
   ],
   "source": [
    "df[df.isnull().any(axis=1)]"
   ]
  },
  {
   "cell_type": "markdown",
   "id": "fd71a9e5",
   "metadata": {},
   "source": [
    "<div class=\"alert alert-success\" role=\"alert\">\n",
    "Reviewer's comment v. 1:\n",
    "    \n",
    "Great, we don't have a missing values.\n",
    "</div>"
   ]
  },
  {
   "cell_type": "markdown",
   "id": "75a6fd74",
   "metadata": {
    "cell_style": "center"
   },
   "source": [
    "### Changing the type of the columns"
   ]
  },
  {
   "cell_type": "markdown",
   "id": "b0e0dbeb",
   "metadata": {},
   "source": [
    "Checking the structure"
   ]
  },
  {
   "cell_type": "code",
   "execution_count": 24,
   "id": "6f5decc9",
   "metadata": {},
   "outputs": [
    {
     "name": "stdout",
     "output_type": "stream",
     "text": [
      "<class 'pandas.core.frame.DataFrame'>\n",
      "Int64Index: 16444 entries, 0 to 16714\n",
      "Data columns (total 12 columns):\n",
      "name               16444 non-null object\n",
      "platform           16444 non-null object\n",
      "year_of_release    16444 non-null float64\n",
      "genre              16444 non-null object\n",
      "na_sales           16444 non-null float64\n",
      "eu_sales           16444 non-null float64\n",
      "jp_sales           16444 non-null float64\n",
      "other_sales        16444 non-null float64\n",
      "total_sales        16444 non-null float64\n",
      "critic_score       16444 non-null float64\n",
      "user_score         16444 non-null float64\n",
      "rating             16444 non-null object\n",
      "dtypes: float64(8), object(4)\n",
      "memory usage: 1.6+ MB\n"
     ]
    }
   ],
   "source": [
    "df.info()"
   ]
  },
  {
   "cell_type": "markdown",
   "id": "57c5caab",
   "metadata": {},
   "source": [
    "My first goal is to change data type to make processing efficient, by changing from general type like \"object\" to specific type like float or category and from float to integer. My second goal is to use the minimum memory requirement of each column. Thus I check every column to see if memory requirement can be reduce"
   ]
  },
  {
   "cell_type": "markdown",
   "id": "c13243e7",
   "metadata": {},
   "source": [
    "<div class=\"alert alert-success\" role=\"alert\">\n",
    "Reviewer's comment v. 1:\n",
    "    \n",
    "In case of large datasets optimization of the data type is a good practice.\n",
    "\n",
    "Please see for details: https://medium.com/@vincentteyssier/optimizing-the-size-of-a-pandas-dataframe-for-low-memory-environment-5f07db3d72e\n",
    "</div>"
   ]
  },
  {
   "cell_type": "markdown",
   "id": "3e6966c7",
   "metadata": {},
   "source": [
    "#### Changes I will do\n",
    "because the data file is not very big (1.6 MB), I will change only the necessary data types as follow:\n",
    "\n",
    "Number|column name|action|new type\n",
    "-|-|-|-\n",
    "1|name|keep|without change\n",
    "2|platform|$ \\Rightarrow\\ $|category\n",
    "3|year_of_release|$ \\Rightarrow\\ $|int16\n",
    "4|genre|$ \\Rightarrow\\ $|category\n",
    "5|na_sales|$ \\Rightarrow\\ $|float16\n",
    "6|eu_sales|$ \\Rightarrow\\ $|float16\n",
    "7|jp_sales|$ \\Rightarrow\\ $|float16\n",
    "8|other_sales|$ \\Rightarrow\\ $|float16\n",
    "9|total_sales|$ \\Rightarrow\\ $|float16\n",
    "10|critic_score|$ \\Rightarrow\\ $|int16\n",
    "11|user_score|$ \\Rightarrow\\ $|int16\n",
    "12|rating|$ \\Rightarrow\\ $|category\n",
    "\n",
    "`Machine limits for integer and floating point types`\n",
    "- ` int8 -128 to 127 `\n",
    "- ` uint8 0 to 255 `\n",
    "- ` int16 -32,768 to 32,767 `\n",
    "- ` uint16 0 to 65,535 `\n",
    "- ` int32 -2,147,483,648 to 2,147,483,647 `\n",
    "- ` float16 -6.55040e+04 to 6.55040e+04 `\n",
    "- ` float32 -3.4028235e+38 to 3.4028235e+38 `"
   ]
  },
  {
   "cell_type": "code",
   "execution_count": 25,
   "id": "894acecc",
   "metadata": {},
   "outputs": [],
   "source": [
    "df[\"platform\"] = df[\"platform\"].astype(\"category\")\n",
    "df[\"year_of_release\"] = df[\"year_of_release\"].astype(\"int16\")\n",
    "df[\"genre\"] = df[\"genre\"].astype(\"category\")\n",
    "df[\"na_sales\"] = df[\"na_sales\"].astype(\"float16\")\n",
    "df[\"eu_sales\"] = df[\"eu_sales\"].astype(\"float16\")\n",
    "df[\"jp_sales\"] = df[\"jp_sales\"].astype(\"float16\")\n",
    "df[\"other_sales\"] = df[\"other_sales\"].astype(\"float16\")\n",
    "df[\"total_sales\"] = df[\"total_sales\"].astype(\"float16\")\n",
    "df[\"critic_score\"] = df[\"critic_score\"].astype(\"int16\")\n",
    "df[\"user_score\"] = df[\"user_score\"].astype(\"int16\")\n",
    "df[\"rating\"] = df[\"rating\"].astype(\"category\")"
   ]
  },
  {
   "cell_type": "markdown",
   "id": "134d5e8d",
   "metadata": {},
   "source": [
    "checking the outcome"
   ]
  },
  {
   "cell_type": "code",
   "execution_count": 26,
   "id": "35ef398f",
   "metadata": {
    "scrolled": true
   },
   "outputs": [
    {
     "name": "stdout",
     "output_type": "stream",
     "text": [
      "<class 'pandas.core.frame.DataFrame'>\n",
      "Int64Index: 16444 entries, 0 to 16714\n",
      "Data columns (total 12 columns):\n",
      "name               16444 non-null object\n",
      "platform           16444 non-null category\n",
      "year_of_release    16444 non-null int16\n",
      "genre              16444 non-null category\n",
      "na_sales           16444 non-null float16\n",
      "eu_sales           16444 non-null float16\n",
      "jp_sales           16444 non-null float16\n",
      "other_sales        16444 non-null float16\n",
      "total_sales        16444 non-null float16\n",
      "critic_score       16444 non-null int16\n",
      "user_score         16444 non-null int16\n",
      "rating             16444 non-null category\n",
      "dtypes: category(3), float16(5), int16(3), object(1)\n",
      "memory usage: 564.3+ KB\n"
     ]
    }
   ],
   "source": [
    "df.info()"
   ]
  },
  {
   "cell_type": "markdown",
   "id": "53659848",
   "metadata": {},
   "source": [
    "<div class=\"alert alert-success\" role=\"alert\">\n",
    "Reviewer's comment v. 1:\n",
    "    \n",
    "It's great that you brought the data to the desired formats and optimize the size of dataset.\n",
    "</div>"
   ]
  },
  {
   "cell_type": "markdown",
   "id": "042cd954",
   "metadata": {},
   "source": [
    "<div class=\"alert alert-info\">\n",
    "  <strong>My fixing: </strong> conclusion\n",
    "</div>"
   ]
  },
  {
   "cell_type": "markdown",
   "id": "d55f658e",
   "metadata": {},
   "source": [
    "**conclusion**: after changing the types of the data and saving 2/3 of memory capacity and dealing with the missing values, the data is ready to be analyzed."
   ]
  },
  {
   "cell_type": "markdown",
   "id": "2d77ff7f",
   "metadata": {},
   "source": [
    "<div class=\"alert alert-success\" role=\"alert\">\n",
    "Reviewer's comment v. 2:\n",
    "    \n",
    "Ok :) It's a reaaly good result saving 2/3 of memory capacity. 👍👍👍\n",
    "</div>"
   ]
  },
  {
   "cell_type": "markdown",
   "id": "f4684d1f",
   "metadata": {},
   "source": [
    "# Analyze the data"
   ]
  },
  {
   "cell_type": "markdown",
   "id": "8a7fb7f8",
   "metadata": {},
   "source": [
    "## checking how many games were released in different years"
   ]
  },
  {
   "cell_type": "code",
   "execution_count": 27,
   "id": "2b9b6425",
   "metadata": {},
   "outputs": [
    {
     "data": {
      "text/html": [
       "<div>\n",
       "<style scoped>\n",
       "    .dataframe tbody tr th:only-of-type {\n",
       "        vertical-align: middle;\n",
       "    }\n",
       "\n",
       "    .dataframe tbody tr th {\n",
       "        vertical-align: top;\n",
       "    }\n",
       "\n",
       "    .dataframe thead th {\n",
       "        text-align: right;\n",
       "    }\n",
       "</style>\n",
       "<table border=\"1\" class=\"dataframe\">\n",
       "  <thead>\n",
       "    <tr style=\"text-align: right;\">\n",
       "      <th></th>\n",
       "      <th>year_of_release</th>\n",
       "      <th>name</th>\n",
       "    </tr>\n",
       "  </thead>\n",
       "  <tbody>\n",
       "    <tr>\n",
       "      <td>0</td>\n",
       "      <td>1980</td>\n",
       "      <td>9</td>\n",
       "    </tr>\n",
       "    <tr>\n",
       "      <td>1</td>\n",
       "      <td>1981</td>\n",
       "      <td>46</td>\n",
       "    </tr>\n",
       "    <tr>\n",
       "      <td>2</td>\n",
       "      <td>1982</td>\n",
       "      <td>36</td>\n",
       "    </tr>\n",
       "    <tr>\n",
       "      <td>3</td>\n",
       "      <td>1983</td>\n",
       "      <td>17</td>\n",
       "    </tr>\n",
       "    <tr>\n",
       "      <td>4</td>\n",
       "      <td>1984</td>\n",
       "      <td>14</td>\n",
       "    </tr>\n",
       "    <tr>\n",
       "      <td>5</td>\n",
       "      <td>1985</td>\n",
       "      <td>14</td>\n",
       "    </tr>\n",
       "    <tr>\n",
       "      <td>6</td>\n",
       "      <td>1986</td>\n",
       "      <td>21</td>\n",
       "    </tr>\n",
       "    <tr>\n",
       "      <td>7</td>\n",
       "      <td>1987</td>\n",
       "      <td>16</td>\n",
       "    </tr>\n",
       "    <tr>\n",
       "      <td>8</td>\n",
       "      <td>1988</td>\n",
       "      <td>15</td>\n",
       "    </tr>\n",
       "    <tr>\n",
       "      <td>9</td>\n",
       "      <td>1989</td>\n",
       "      <td>17</td>\n",
       "    </tr>\n",
       "    <tr>\n",
       "      <td>10</td>\n",
       "      <td>1990</td>\n",
       "      <td>16</td>\n",
       "    </tr>\n",
       "    <tr>\n",
       "      <td>11</td>\n",
       "      <td>1991</td>\n",
       "      <td>41</td>\n",
       "    </tr>\n",
       "    <tr>\n",
       "      <td>12</td>\n",
       "      <td>1992</td>\n",
       "      <td>43</td>\n",
       "    </tr>\n",
       "    <tr>\n",
       "      <td>13</td>\n",
       "      <td>1993</td>\n",
       "      <td>60</td>\n",
       "    </tr>\n",
       "    <tr>\n",
       "      <td>14</td>\n",
       "      <td>1994</td>\n",
       "      <td>121</td>\n",
       "    </tr>\n",
       "    <tr>\n",
       "      <td>15</td>\n",
       "      <td>1995</td>\n",
       "      <td>219</td>\n",
       "    </tr>\n",
       "    <tr>\n",
       "      <td>16</td>\n",
       "      <td>1996</td>\n",
       "      <td>263</td>\n",
       "    </tr>\n",
       "    <tr>\n",
       "      <td>17</td>\n",
       "      <td>1997</td>\n",
       "      <td>289</td>\n",
       "    </tr>\n",
       "    <tr>\n",
       "      <td>18</td>\n",
       "      <td>1998</td>\n",
       "      <td>379</td>\n",
       "    </tr>\n",
       "    <tr>\n",
       "      <td>19</td>\n",
       "      <td>1999</td>\n",
       "      <td>338</td>\n",
       "    </tr>\n",
       "    <tr>\n",
       "      <td>20</td>\n",
       "      <td>2000</td>\n",
       "      <td>350</td>\n",
       "    </tr>\n",
       "    <tr>\n",
       "      <td>21</td>\n",
       "      <td>2001</td>\n",
       "      <td>482</td>\n",
       "    </tr>\n",
       "    <tr>\n",
       "      <td>22</td>\n",
       "      <td>2002</td>\n",
       "      <td>829</td>\n",
       "    </tr>\n",
       "    <tr>\n",
       "      <td>23</td>\n",
       "      <td>2003</td>\n",
       "      <td>775</td>\n",
       "    </tr>\n",
       "    <tr>\n",
       "      <td>24</td>\n",
       "      <td>2004</td>\n",
       "      <td>762</td>\n",
       "    </tr>\n",
       "    <tr>\n",
       "      <td>25</td>\n",
       "      <td>2005</td>\n",
       "      <td>939</td>\n",
       "    </tr>\n",
       "    <tr>\n",
       "      <td>26</td>\n",
       "      <td>2006</td>\n",
       "      <td>1006</td>\n",
       "    </tr>\n",
       "    <tr>\n",
       "      <td>27</td>\n",
       "      <td>2007</td>\n",
       "      <td>1197</td>\n",
       "    </tr>\n",
       "    <tr>\n",
       "      <td>28</td>\n",
       "      <td>2008</td>\n",
       "      <td>1427</td>\n",
       "    </tr>\n",
       "    <tr>\n",
       "      <td>29</td>\n",
       "      <td>2009</td>\n",
       "      <td>1426</td>\n",
       "    </tr>\n",
       "    <tr>\n",
       "      <td>30</td>\n",
       "      <td>2010</td>\n",
       "      <td>1255</td>\n",
       "    </tr>\n",
       "    <tr>\n",
       "      <td>31</td>\n",
       "      <td>2011</td>\n",
       "      <td>1136</td>\n",
       "    </tr>\n",
       "    <tr>\n",
       "      <td>32</td>\n",
       "      <td>2012</td>\n",
       "      <td>653</td>\n",
       "    </tr>\n",
       "    <tr>\n",
       "      <td>33</td>\n",
       "      <td>2013</td>\n",
       "      <td>544</td>\n",
       "    </tr>\n",
       "    <tr>\n",
       "      <td>34</td>\n",
       "      <td>2014</td>\n",
       "      <td>581</td>\n",
       "    </tr>\n",
       "    <tr>\n",
       "      <td>35</td>\n",
       "      <td>2015</td>\n",
       "      <td>606</td>\n",
       "    </tr>\n",
       "    <tr>\n",
       "      <td>36</td>\n",
       "      <td>2016</td>\n",
       "      <td>502</td>\n",
       "    </tr>\n",
       "  </tbody>\n",
       "</table>\n",
       "</div>"
      ],
      "text/plain": [
       "    year_of_release  name\n",
       "0              1980     9\n",
       "1              1981    46\n",
       "2              1982    36\n",
       "3              1983    17\n",
       "4              1984    14\n",
       "5              1985    14\n",
       "6              1986    21\n",
       "7              1987    16\n",
       "8              1988    15\n",
       "9              1989    17\n",
       "10             1990    16\n",
       "11             1991    41\n",
       "12             1992    43\n",
       "13             1993    60\n",
       "14             1994   121\n",
       "15             1995   219\n",
       "16             1996   263\n",
       "17             1997   289\n",
       "18             1998   379\n",
       "19             1999   338\n",
       "20             2000   350\n",
       "21             2001   482\n",
       "22             2002   829\n",
       "23             2003   775\n",
       "24             2004   762\n",
       "25             2005   939\n",
       "26             2006  1006\n",
       "27             2007  1197\n",
       "28             2008  1427\n",
       "29             2009  1426\n",
       "30             2010  1255\n",
       "31             2011  1136\n",
       "32             2012   653\n",
       "33             2013   544\n",
       "34             2014   581\n",
       "35             2015   606\n",
       "36             2016   502"
      ]
     },
     "execution_count": 27,
     "metadata": {},
     "output_type": "execute_result"
    }
   ],
   "source": [
    "df_gb = df.groupby([\"year_of_release\"])[\"name\"].count(\n",
    ").reset_index().sort_values(by=\"year_of_release\")\n",
    "df_gb"
   ]
  },
  {
   "cell_type": "code",
   "execution_count": 28,
   "id": "ed8c763d",
   "metadata": {},
   "outputs": [
    {
     "data": {
      "image/png": "[encoded data removed]",
      "text/plain": [
       "<Figure size 1224x720 with 1 Axes>"
      ]
     },
     "metadata": {
      "needs_background": "light"
     },
     "output_type": "display_data"
    }
   ],
   "source": [
    "fig, ax = plt.subplots(figsize=(17, 10))\n",
    "ax.vlines(x=df_gb[\"year_of_release\"], ymin=0,\n",
    "          ymax=df_gb[\"name\"], color=\"purple\", alpha=0.65, linewidth=8)\n",
    "ax.scatter(x=df_gb[\"year_of_release\"], y=df_gb[\"name\"],\n",
    "           color=\"blue\", alpha=0.85, s=200)\n",
    "ax.set_title(\"Lolipop of Released Games\", fontdict={\"size\": 24})\n",
    "ax.set_ylabel(\"Number of Released Games\", fontdict={\"size\": 16})\n",
    "ax.set_xlabel(\"Y e a r\", fontdict={\"size\": 16})\n",
    "ax.set_xticks(df_gb[\"year_of_release\"])\n",
    "ax.set_xticklabels(df_gb[\"year_of_release\"], rotation=60)\n",
    "\n",
    "for row in df_gb.itertuples():\n",
    "    ax.text(row.year_of_release, row.name + 30, s=round(row.name, 2))"
   ]
  },
  {
   "cell_type": "markdown",
   "id": "69cb0afd",
   "metadata": {},
   "source": [
    "<div class=\"alert alert-success\" role=\"alert\">\n",
    "Reviewer's comment v. 1:\n",
    "    \n",
    "An excellent graph 👍👍👍\n",
    "</div>"
   ]
  },
  {
   "cell_type": "markdown",
   "id": "952fe2c7",
   "metadata": {},
   "source": [
    "- Until 2001 the number of new games was small. We can drop the data before 2001.\n",
    "- After the peek in 2008-2009, the number of new games are dropping."
   ]
  },
  {
   "cell_type": "markdown",
   "id": "cdc6ee9d",
   "metadata": {},
   "source": [
    "<div class=\"alert alert-warning\" role=\"alert\">\n",
    "Reviewer's comment v. 1:\n",
    "    \n",
    "Could you please describe a possible reason of increasing and decreasing in the number of games?\n",
    "</div>"
   ]
  },
  {
   "cell_type": "markdown",
   "id": "27f0fddf",
   "metadata": {},
   "source": [
    "<div class=\"alert alert-info\">\n",
    "  <strong>My fixing: </strong>  possible reason of increasing and decreasing in the number of games\n",
    "</div>"
   ]
  },
  {
   "cell_type": "markdown",
   "id": "ea1f59ad",
   "metadata": {},
   "source": [
    "**conclusion**: the number of new games was steady and small until 1993, then as the Internet become more popular, the demand grow until the economic crisis of 2008. From 2012 until 2016 it is steady"
   ]
  },
  {
   "cell_type": "markdown",
   "id": "4859f4f1",
   "metadata": {},
   "source": [
    "<div class=\"alert alert-success\" role=\"alert\">\n",
    "Reviewer's comment v. 2:\n",
    "    \n",
    "Yes, the growth the number of games could be associated with an increase in the number of personal computers/platforms per user and Internet users, and the decline with the growing popularity of mobile games. As you mention influence of economic crisis also can have influence on this trend.\n",
    "</div>"
   ]
  },
  {
   "cell_type": "markdown",
   "id": "af1f4b75",
   "metadata": {},
   "source": [
    "## sales varied from platform to platform.\n",
    "- The platforms with the greatest total sales\n",
    "- We use Z-score of the sales to calculate the better selling platforms\n",
    "- Adding color to the platforms:Green for positive z-score and Red for negative z-score"
   ]
  },
  {
   "cell_type": "code",
   "execution_count": 29,
   "id": "76333db4",
   "metadata": {},
   "outputs": [
    {
     "data": {
      "text/html": [
       "<div>\n",
       "<style scoped>\n",
       "    .dataframe tbody tr th:only-of-type {\n",
       "        vertical-align: middle;\n",
       "    }\n",
       "\n",
       "    .dataframe tbody tr th {\n",
       "        vertical-align: top;\n",
       "    }\n",
       "\n",
       "    .dataframe thead th {\n",
       "        text-align: right;\n",
       "    }\n",
       "</style>\n",
       "<table border=\"1\" class=\"dataframe\">\n",
       "  <thead>\n",
       "    <tr style=\"text-align: right;\">\n",
       "      <th></th>\n",
       "      <th>platform</th>\n",
       "      <th>total_sales</th>\n",
       "      <th>sales_z</th>\n",
       "      <th>colors</th>\n",
       "    </tr>\n",
       "  </thead>\n",
       "  <tbody>\n",
       "    <tr>\n",
       "      <td>0</td>\n",
       "      <td>PCFX</td>\n",
       "      <td>0.03</td>\n",
       "      <td>-0.84</td>\n",
       "      <td>red</td>\n",
       "    </tr>\n",
       "    <tr>\n",
       "      <td>1</td>\n",
       "      <td>GG</td>\n",
       "      <td>0.04</td>\n",
       "      <td>-0.84</td>\n",
       "      <td>red</td>\n",
       "    </tr>\n",
       "    <tr>\n",
       "      <td>2</td>\n",
       "      <td>3DO</td>\n",
       "      <td>0.10</td>\n",
       "      <td>-0.84</td>\n",
       "      <td>red</td>\n",
       "    </tr>\n",
       "    <tr>\n",
       "      <td>3</td>\n",
       "      <td>TG16</td>\n",
       "      <td>0.16</td>\n",
       "      <td>-0.84</td>\n",
       "      <td>red</td>\n",
       "    </tr>\n",
       "    <tr>\n",
       "      <td>4</td>\n",
       "      <td>WS</td>\n",
       "      <td>1.42</td>\n",
       "      <td>-0.84</td>\n",
       "      <td>red</td>\n",
       "    </tr>\n",
       "    <tr>\n",
       "      <td>5</td>\n",
       "      <td>NG</td>\n",
       "      <td>1.44</td>\n",
       "      <td>-0.84</td>\n",
       "      <td>red</td>\n",
       "    </tr>\n",
       "    <tr>\n",
       "      <td>6</td>\n",
       "      <td>SCD</td>\n",
       "      <td>1.86</td>\n",
       "      <td>-0.84</td>\n",
       "      <td>red</td>\n",
       "    </tr>\n",
       "    <tr>\n",
       "      <td>7</td>\n",
       "      <td>DC</td>\n",
       "      <td>15.95</td>\n",
       "      <td>-0.79</td>\n",
       "      <td>red</td>\n",
       "    </tr>\n",
       "    <tr>\n",
       "      <td>8</td>\n",
       "      <td>GEN</td>\n",
       "      <td>28.34</td>\n",
       "      <td>-0.76</td>\n",
       "      <td>red</td>\n",
       "    </tr>\n",
       "    <tr>\n",
       "      <td>9</td>\n",
       "      <td>SAT</td>\n",
       "      <td>33.59</td>\n",
       "      <td>-0.74</td>\n",
       "      <td>red</td>\n",
       "    </tr>\n",
       "    <tr>\n",
       "      <td>10</td>\n",
       "      <td>PSV</td>\n",
       "      <td>53.81</td>\n",
       "      <td>-0.68</td>\n",
       "      <td>red</td>\n",
       "    </tr>\n",
       "    <tr>\n",
       "      <td>11</td>\n",
       "      <td>WiiU</td>\n",
       "      <td>82.19</td>\n",
       "      <td>-0.60</td>\n",
       "      <td>red</td>\n",
       "    </tr>\n",
       "    <tr>\n",
       "      <td>12</td>\n",
       "      <td>2600</td>\n",
       "      <td>86.50</td>\n",
       "      <td>-0.58</td>\n",
       "      <td>red</td>\n",
       "    </tr>\n",
       "    <tr>\n",
       "      <td>13</td>\n",
       "      <td>XOne</td>\n",
       "      <td>159.38</td>\n",
       "      <td>-0.37</td>\n",
       "      <td>red</td>\n",
       "    </tr>\n",
       "    <tr>\n",
       "      <td>14</td>\n",
       "      <td>GC</td>\n",
       "      <td>196.75</td>\n",
       "      <td>-0.26</td>\n",
       "      <td>red</td>\n",
       "    </tr>\n",
       "    <tr>\n",
       "      <td>15</td>\n",
       "      <td>SNES</td>\n",
       "      <td>200.00</td>\n",
       "      <td>-0.25</td>\n",
       "      <td>red</td>\n",
       "    </tr>\n",
       "    <tr>\n",
       "      <td>16</td>\n",
       "      <td>N64</td>\n",
       "      <td>218.00</td>\n",
       "      <td>-0.20</td>\n",
       "      <td>red</td>\n",
       "    </tr>\n",
       "    <tr>\n",
       "      <td>17</td>\n",
       "      <td>NES</td>\n",
       "      <td>251.00</td>\n",
       "      <td>-0.10</td>\n",
       "      <td>red</td>\n",
       "    </tr>\n",
       "    <tr>\n",
       "      <td>18</td>\n",
       "      <td>XB</td>\n",
       "      <td>251.62</td>\n",
       "      <td>-0.10</td>\n",
       "      <td>red</td>\n",
       "    </tr>\n",
       "    <tr>\n",
       "      <td>19</td>\n",
       "      <td>GB</td>\n",
       "      <td>254.38</td>\n",
       "      <td>-0.09</td>\n",
       "      <td>red</td>\n",
       "    </tr>\n",
       "    <tr>\n",
       "      <td>20</td>\n",
       "      <td>PC</td>\n",
       "      <td>255.75</td>\n",
       "      <td>-0.08</td>\n",
       "      <td>red</td>\n",
       "    </tr>\n",
       "    <tr>\n",
       "      <td>21</td>\n",
       "      <td>3DS</td>\n",
       "      <td>257.75</td>\n",
       "      <td>-0.08</td>\n",
       "      <td>red</td>\n",
       "    </tr>\n",
       "    <tr>\n",
       "      <td>22</td>\n",
       "      <td>PSP</td>\n",
       "      <td>289.50</td>\n",
       "      <td>0.01</td>\n",
       "      <td>green</td>\n",
       "    </tr>\n",
       "    <tr>\n",
       "      <td>23</td>\n",
       "      <td>GBA</td>\n",
       "      <td>313.00</td>\n",
       "      <td>0.08</td>\n",
       "      <td>green</td>\n",
       "    </tr>\n",
       "    <tr>\n",
       "      <td>24</td>\n",
       "      <td>PS4</td>\n",
       "      <td>314.25</td>\n",
       "      <td>0.09</td>\n",
       "      <td>green</td>\n",
       "    </tr>\n",
       "    <tr>\n",
       "      <td>25</td>\n",
       "      <td>PS</td>\n",
       "      <td>727.50</td>\n",
       "      <td>1.31</td>\n",
       "      <td>green</td>\n",
       "    </tr>\n",
       "    <tr>\n",
       "      <td>26</td>\n",
       "      <td>DS</td>\n",
       "      <td>803.00</td>\n",
       "      <td>1.53</td>\n",
       "      <td>green</td>\n",
       "    </tr>\n",
       "    <tr>\n",
       "      <td>27</td>\n",
       "      <td>Wii</td>\n",
       "      <td>891.00</td>\n",
       "      <td>1.79</td>\n",
       "      <td>green</td>\n",
       "    </tr>\n",
       "    <tr>\n",
       "      <td>28</td>\n",
       "      <td>PS3</td>\n",
       "      <td>931.50</td>\n",
       "      <td>1.91</td>\n",
       "      <td>green</td>\n",
       "    </tr>\n",
       "    <tr>\n",
       "      <td>29</td>\n",
       "      <td>X360</td>\n",
       "      <td>961.00</td>\n",
       "      <td>2.00</td>\n",
       "      <td>green</td>\n",
       "    </tr>\n",
       "    <tr>\n",
       "      <td>30</td>\n",
       "      <td>PS2</td>\n",
       "      <td>1,234.00</td>\n",
       "      <td>2.80</td>\n",
       "      <td>green</td>\n",
       "    </tr>\n",
       "  </tbody>\n",
       "</table>\n",
       "</div>"
      ],
      "text/plain": [
       "   platform  total_sales  sales_z colors\n",
       "0      PCFX         0.03    -0.84    red\n",
       "1        GG         0.04    -0.84    red\n",
       "2       3DO         0.10    -0.84    red\n",
       "3      TG16         0.16    -0.84    red\n",
       "4        WS         1.42    -0.84    red\n",
       "5        NG         1.44    -0.84    red\n",
       "6       SCD         1.86    -0.84    red\n",
       "7        DC        15.95    -0.79    red\n",
       "8       GEN        28.34    -0.76    red\n",
       "9       SAT        33.59    -0.74    red\n",
       "10      PSV        53.81    -0.68    red\n",
       "11     WiiU        82.19    -0.60    red\n",
       "12     2600        86.50    -0.58    red\n",
       "13     XOne       159.38    -0.37    red\n",
       "14       GC       196.75    -0.26    red\n",
       "15     SNES       200.00    -0.25    red\n",
       "16      N64       218.00    -0.20    red\n",
       "17      NES       251.00    -0.10    red\n",
       "18       XB       251.62    -0.10    red\n",
       "19       GB       254.38    -0.09    red\n",
       "20       PC       255.75    -0.08    red\n",
       "21      3DS       257.75    -0.08    red\n",
       "22      PSP       289.50     0.01  green\n",
       "23      GBA       313.00     0.08  green\n",
       "24      PS4       314.25     0.09  green\n",
       "25       PS       727.50     1.31  green\n",
       "26       DS       803.00     1.53  green\n",
       "27      Wii       891.00     1.79  green\n",
       "28      PS3       931.50     1.91  green\n",
       "29     X360       961.00     2.00  green\n",
       "30      PS2     1,234.00     2.80  green"
      ]
     },
     "execution_count": 29,
     "metadata": {},
     "output_type": "execute_result"
    }
   ],
   "source": [
    "df_sale_platform = df[[\"platform\", \"total_sales\"]].groupby(\n",
    "    [\"platform\"]).sum().sort_values(by=\"total_sales\").reset_index()\n",
    "df_sale_platform[\"sales_z\"] = (df_sale_platform[\"total_sales\"] -\n",
    "                               df_sale_platform[\"total_sales\"].mean())/np.std(df_sale_platform[\"total_sales\"].tolist())\n",
    "df_sale_platform[\"colors\"] = [\"red\" if x <\n",
    "                              0 else \"green\" for x in df_sale_platform[\"sales_z\"]]\n",
    "df_sale_platform"
   ]
  },
  {
   "cell_type": "markdown",
   "id": "6897cabc",
   "metadata": {},
   "source": [
    "<div class=\"alert alert-warning\" role=\"alert\">\n",
    "Reviewer's comment v. 1:\n",
    "    \n",
    "Please note that you can avoid \"<matplotlib.collections.LineCollection at 0x7feb79b57990>\" by using \";\" after code lines with graph.\n",
    "</div>"
   ]
  },
  {
   "cell_type": "code",
   "execution_count": 30,
   "id": "f91bb522",
   "metadata": {},
   "outputs": [
    {
     "data": {
      "image/png": "[encoded data removed]",
      "text/plain": [
       "<Figure size 720x720 with 1 Axes>"
      ]
     },
     "metadata": {
      "needs_background": "light"
     },
     "output_type": "display_data"
    }
   ],
   "source": [
    "plt.figure(figsize=(10, 10))\n",
    "plt.hlines(y=df_sale_platform.platform, xmin=0, xmax=df_sale_platform.sales_z,\n",
    "           color=df_sale_platform.colors, alpha=0.4, linewidth=10)"
   ]
  },
  {
   "cell_type": "markdown",
   "id": "0ef165cc",
   "metadata": {},
   "source": [
    "<div class=\"alert alert-info\">\n",
    "  <strong>My fixing: </strong>  describe the graph\n",
    "</div>"
   ]
  },
  {
   "cell_type": "markdown",
   "id": "c4291d4c",
   "metadata": {},
   "source": [
    "<div class=\"alert alert-success\" role=\"alert\">\n",
    "Reviewer's comment v. 2:\n",
    "    \n",
    "Great, now graph looks better :)\n",
    "</div>"
   ]
  },
  {
   "cell_type": "markdown",
   "id": "0d6553e3",
   "metadata": {},
   "source": [
    "The graph depict the platforms ranking by order of selling. every platform get z-score of the total sales. 9 out of 31 platform are better than the rest."
   ]
  },
  {
   "cell_type": "markdown",
   "id": "59ae990e",
   "metadata": {},
   "source": [
    "<div class=\"alert alert-success\" role=\"alert\">\n",
    "Reviewer's comment v. 2:\n",
    "    \n",
    "It's great that you analyzed the graph in details. Here will be nice to mention top 9 platforms.\n",
    "</div>"
   ]
  },
  {
   "cell_type": "markdown",
   "id": "1a87b050",
   "metadata": {},
   "source": [
    "We compare 5 platform sales against year"
   ]
  },
  {
   "cell_type": "code",
   "execution_count": 31,
   "id": "e6b64288",
   "metadata": {},
   "outputs": [
    {
     "data": {
      "text/html": [
       "<div>\n",
       "<style scoped>\n",
       "    .dataframe tbody tr th:only-of-type {\n",
       "        vertical-align: middle;\n",
       "    }\n",
       "\n",
       "    .dataframe tbody tr th {\n",
       "        vertical-align: top;\n",
       "    }\n",
       "\n",
       "    .dataframe thead th {\n",
       "        text-align: right;\n",
       "    }\n",
       "</style>\n",
       "<table border=\"1\" class=\"dataframe\">\n",
       "  <thead>\n",
       "    <tr style=\"text-align: right;\">\n",
       "      <th></th>\n",
       "      <th>name</th>\n",
       "      <th>platform</th>\n",
       "      <th>year_of_release</th>\n",
       "      <th>genre</th>\n",
       "      <th>na_sales</th>\n",
       "      <th>eu_sales</th>\n",
       "      <th>jp_sales</th>\n",
       "      <th>other_sales</th>\n",
       "      <th>total_sales</th>\n",
       "      <th>critic_score</th>\n",
       "      <th>user_score</th>\n",
       "      <th>rating</th>\n",
       "    </tr>\n",
       "  </thead>\n",
       "  <tbody>\n",
       "    <tr>\n",
       "      <td>0</td>\n",
       "      <td>Wii Sports</td>\n",
       "      <td>Wii</td>\n",
       "      <td>2006</td>\n",
       "      <td>Sports</td>\n",
       "      <td>41.38</td>\n",
       "      <td>28.95</td>\n",
       "      <td>3.77</td>\n",
       "      <td>8.45</td>\n",
       "      <td>82.56</td>\n",
       "      <td>76</td>\n",
       "      <td>8</td>\n",
       "      <td>E</td>\n",
       "    </tr>\n",
       "    <tr>\n",
       "      <td>1</td>\n",
       "      <td>Super Mario Bros.</td>\n",
       "      <td>NES</td>\n",
       "      <td>1985</td>\n",
       "      <td>Platform</td>\n",
       "      <td>29.08</td>\n",
       "      <td>3.58</td>\n",
       "      <td>6.81</td>\n",
       "      <td>0.77</td>\n",
       "      <td>40.25</td>\n",
       "      <td>0</td>\n",
       "      <td>0</td>\n",
       "      <td>T</td>\n",
       "    </tr>\n",
       "    <tr>\n",
       "      <td>2</td>\n",
       "      <td>Mario Kart Wii</td>\n",
       "      <td>Wii</td>\n",
       "      <td>2008</td>\n",
       "      <td>Racing</td>\n",
       "      <td>15.68</td>\n",
       "      <td>12.76</td>\n",
       "      <td>3.79</td>\n",
       "      <td>3.29</td>\n",
       "      <td>35.53</td>\n",
       "      <td>82</td>\n",
       "      <td>8</td>\n",
       "      <td>E</td>\n",
       "    </tr>\n",
       "    <tr>\n",
       "      <td>3</td>\n",
       "      <td>Wii Sports Resort</td>\n",
       "      <td>Wii</td>\n",
       "      <td>2009</td>\n",
       "      <td>Sports</td>\n",
       "      <td>15.61</td>\n",
       "      <td>10.93</td>\n",
       "      <td>3.28</td>\n",
       "      <td>2.95</td>\n",
       "      <td>32.78</td>\n",
       "      <td>80</td>\n",
       "      <td>8</td>\n",
       "      <td>E</td>\n",
       "    </tr>\n",
       "    <tr>\n",
       "      <td>4</td>\n",
       "      <td>Pokemon Red/Pokemon Blue</td>\n",
       "      <td>GB</td>\n",
       "      <td>1996</td>\n",
       "      <td>Role-Playing</td>\n",
       "      <td>11.27</td>\n",
       "      <td>8.89</td>\n",
       "      <td>10.22</td>\n",
       "      <td>1.00</td>\n",
       "      <td>31.38</td>\n",
       "      <td>0</td>\n",
       "      <td>0</td>\n",
       "      <td>T</td>\n",
       "    </tr>\n",
       "  </tbody>\n",
       "</table>\n",
       "</div>"
      ],
      "text/plain": [
       "                       name platform  year_of_release         genre  na_sales  \\\n",
       "0                Wii Sports      Wii             2006        Sports     41.38   \n",
       "1         Super Mario Bros.      NES             1985      Platform     29.08   \n",
       "2            Mario Kart Wii      Wii             2008        Racing     15.68   \n",
       "3         Wii Sports Resort      Wii             2009        Sports     15.61   \n",
       "4  Pokemon Red/Pokemon Blue       GB             1996  Role-Playing     11.27   \n",
       "\n",
       "   eu_sales  jp_sales  other_sales  total_sales  critic_score  user_score  \\\n",
       "0     28.95      3.77         8.45        82.56            76           8   \n",
       "1      3.58      6.81         0.77        40.25             0           0   \n",
       "2     12.76      3.79         3.29        35.53            82           8   \n",
       "3     10.93      3.28         2.95        32.78            80           8   \n",
       "4      8.89     10.22         1.00        31.38             0           0   \n",
       "\n",
       "  rating  \n",
       "0      E  \n",
       "1      T  \n",
       "2      E  \n",
       "3      E  \n",
       "4      T  "
      ]
     },
     "execution_count": 31,
     "metadata": {},
     "output_type": "execute_result"
    }
   ],
   "source": [
    "df.head()"
   ]
  },
  {
   "cell_type": "code",
   "execution_count": 32,
   "id": "378ba1a0",
   "metadata": {},
   "outputs": [],
   "source": [
    "# FIX the type of total_sales, othrwise it would not work, Pandas bug #24445 and #9220\n",
    "df[\"total_sales\"] = df[\"total_sales\"].astype(\"float64\")"
   ]
  },
  {
   "cell_type": "code",
   "execution_count": 33,
   "id": "3e6d2c58",
   "metadata": {
    "scrolled": true
   },
   "outputs": [
    {
     "data": {
      "text/html": [
       "<div>\n",
       "<style scoped>\n",
       "    .dataframe tbody tr th:only-of-type {\n",
       "        vertical-align: middle;\n",
       "    }\n",
       "\n",
       "    .dataframe tbody tr th {\n",
       "        vertical-align: top;\n",
       "    }\n",
       "\n",
       "    .dataframe thead th {\n",
       "        text-align: right;\n",
       "    }\n",
       "</style>\n",
       "<table border=\"1\" class=\"dataframe\">\n",
       "  <thead>\n",
       "    <tr style=\"text-align: right;\">\n",
       "      <th>year_of_release</th>\n",
       "      <th>1980</th>\n",
       "      <th>1981</th>\n",
       "      <th>1982</th>\n",
       "      <th>1983</th>\n",
       "      <th>1984</th>\n",
       "      <th>1985</th>\n",
       "      <th>1986</th>\n",
       "      <th>1987</th>\n",
       "      <th>1988</th>\n",
       "      <th>1989</th>\n",
       "      <th>...</th>\n",
       "      <th>2007</th>\n",
       "      <th>2008</th>\n",
       "      <th>2009</th>\n",
       "      <th>2010</th>\n",
       "      <th>2011</th>\n",
       "      <th>2012</th>\n",
       "      <th>2013</th>\n",
       "      <th>2014</th>\n",
       "      <th>2015</th>\n",
       "      <th>2016</th>\n",
       "    </tr>\n",
       "    <tr>\n",
       "      <th>platform</th>\n",
       "      <th></th>\n",
       "      <th></th>\n",
       "      <th></th>\n",
       "      <th></th>\n",
       "      <th></th>\n",
       "      <th></th>\n",
       "      <th></th>\n",
       "      <th></th>\n",
       "      <th></th>\n",
       "      <th></th>\n",
       "      <th></th>\n",
       "      <th></th>\n",
       "      <th></th>\n",
       "      <th></th>\n",
       "      <th></th>\n",
       "      <th></th>\n",
       "      <th></th>\n",
       "      <th></th>\n",
       "      <th></th>\n",
       "      <th></th>\n",
       "      <th></th>\n",
       "    </tr>\n",
       "  </thead>\n",
       "  <tbody>\n",
       "    <tr>\n",
       "      <td>2600</td>\n",
       "      <td>11.38</td>\n",
       "      <td>35.68</td>\n",
       "      <td>28.88</td>\n",
       "      <td>5.84</td>\n",
       "      <td>0.27</td>\n",
       "      <td>0.45</td>\n",
       "      <td>0.67</td>\n",
       "      <td>1.94</td>\n",
       "      <td>0.74</td>\n",
       "      <td>0.63</td>\n",
       "      <td>...</td>\n",
       "      <td>nan</td>\n",
       "      <td>nan</td>\n",
       "      <td>nan</td>\n",
       "      <td>nan</td>\n",
       "      <td>nan</td>\n",
       "      <td>nan</td>\n",
       "      <td>nan</td>\n",
       "      <td>nan</td>\n",
       "      <td>nan</td>\n",
       "      <td>nan</td>\n",
       "    </tr>\n",
       "    <tr>\n",
       "      <td>3DO</td>\n",
       "      <td>nan</td>\n",
       "      <td>nan</td>\n",
       "      <td>nan</td>\n",
       "      <td>nan</td>\n",
       "      <td>nan</td>\n",
       "      <td>nan</td>\n",
       "      <td>nan</td>\n",
       "      <td>nan</td>\n",
       "      <td>nan</td>\n",
       "      <td>nan</td>\n",
       "      <td>...</td>\n",
       "      <td>nan</td>\n",
       "      <td>nan</td>\n",
       "      <td>nan</td>\n",
       "      <td>nan</td>\n",
       "      <td>nan</td>\n",
       "      <td>nan</td>\n",
       "      <td>nan</td>\n",
       "      <td>nan</td>\n",
       "      <td>nan</td>\n",
       "      <td>nan</td>\n",
       "    </tr>\n",
       "    <tr>\n",
       "      <td>3DS</td>\n",
       "      <td>nan</td>\n",
       "      <td>nan</td>\n",
       "      <td>nan</td>\n",
       "      <td>nan</td>\n",
       "      <td>nan</td>\n",
       "      <td>nan</td>\n",
       "      <td>nan</td>\n",
       "      <td>nan</td>\n",
       "      <td>nan</td>\n",
       "      <td>nan</td>\n",
       "      <td>...</td>\n",
       "      <td>nan</td>\n",
       "      <td>nan</td>\n",
       "      <td>nan</td>\n",
       "      <td>nan</td>\n",
       "      <td>63.20</td>\n",
       "      <td>51.36</td>\n",
       "      <td>56.57</td>\n",
       "      <td>43.76</td>\n",
       "      <td>27.78</td>\n",
       "      <td>15.14</td>\n",
       "    </tr>\n",
       "    <tr>\n",
       "      <td>DC</td>\n",
       "      <td>nan</td>\n",
       "      <td>nan</td>\n",
       "      <td>nan</td>\n",
       "      <td>nan</td>\n",
       "      <td>nan</td>\n",
       "      <td>nan</td>\n",
       "      <td>nan</td>\n",
       "      <td>nan</td>\n",
       "      <td>nan</td>\n",
       "      <td>nan</td>\n",
       "      <td>...</td>\n",
       "      <td>0.02</td>\n",
       "      <td>0.04</td>\n",
       "      <td>nan</td>\n",
       "      <td>nan</td>\n",
       "      <td>nan</td>\n",
       "      <td>nan</td>\n",
       "      <td>nan</td>\n",
       "      <td>nan</td>\n",
       "      <td>nan</td>\n",
       "      <td>nan</td>\n",
       "    </tr>\n",
       "    <tr>\n",
       "      <td>DS</td>\n",
       "      <td>nan</td>\n",
       "      <td>nan</td>\n",
       "      <td>nan</td>\n",
       "      <td>nan</td>\n",
       "      <td>nan</td>\n",
       "      <td>0.02</td>\n",
       "      <td>nan</td>\n",
       "      <td>nan</td>\n",
       "      <td>nan</td>\n",
       "      <td>nan</td>\n",
       "      <td>...</td>\n",
       "      <td>146.93</td>\n",
       "      <td>145.31</td>\n",
       "      <td>119.54</td>\n",
       "      <td>85.02</td>\n",
       "      <td>26.18</td>\n",
       "      <td>11.01</td>\n",
       "      <td>1.54</td>\n",
       "      <td>nan</td>\n",
       "      <td>nan</td>\n",
       "      <td>nan</td>\n",
       "    </tr>\n",
       "  </tbody>\n",
       "</table>\n",
       "<p>5 rows × 37 columns</p>\n",
       "</div>"
      ],
      "text/plain": [
       "year_of_release  1980  1981  1982  1983  1984  1985  1986  1987  1988  1989  \\\n",
       "platform                                                                      \n",
       "2600            11.38 35.68 28.88  5.84  0.27  0.45  0.67  1.94  0.74  0.63   \n",
       "3DO               nan   nan   nan   nan   nan   nan   nan   nan   nan   nan   \n",
       "3DS               nan   nan   nan   nan   nan   nan   nan   nan   nan   nan   \n",
       "DC                nan   nan   nan   nan   nan   nan   nan   nan   nan   nan   \n",
       "DS                nan   nan   nan   nan   nan  0.02   nan   nan   nan   nan   \n",
       "\n",
       "year_of_release  ...   2007   2008   2009  2010  2011  2012  2013  2014  2015  \\\n",
       "platform         ...                                                            \n",
       "2600             ...    nan    nan    nan   nan   nan   nan   nan   nan   nan   \n",
       "3DO              ...    nan    nan    nan   nan   nan   nan   nan   nan   nan   \n",
       "3DS              ...    nan    nan    nan   nan 63.20 51.36 56.57 43.76 27.78   \n",
       "DC               ...   0.02   0.04    nan   nan   nan   nan   nan   nan   nan   \n",
       "DS               ... 146.93 145.31 119.54 85.02 26.18 11.01  1.54   nan   nan   \n",
       "\n",
       "year_of_release  2016  \n",
       "platform               \n",
       "2600              nan  \n",
       "3DO               nan  \n",
       "3DS             15.14  \n",
       "DC                nan  \n",
       "DS                nan  \n",
       "\n",
       "[5 rows x 37 columns]"
      ]
     },
     "execution_count": 33,
     "metadata": {},
     "output_type": "execute_result"
    }
   ],
   "source": [
    "#good_platforms = [\"PS2\", \"X360\", \"PS3\", \"Wii\", \"DS\"]\n",
    "df_t_s_p_year = df.pivot_table(\n",
    "    values=\"total_sales\", index=\"platform\", columns=\"year_of_release\", aggfunc=\"sum\")\n",
    "df_t_s_p_year.head()"
   ]
  },
  {
   "cell_type": "code",
   "execution_count": 34,
   "id": "91f36c0e",
   "metadata": {},
   "outputs": [
    {
     "data": {
      "text/html": [
       "<div>\n",
       "<style scoped>\n",
       "    .dataframe tbody tr th:only-of-type {\n",
       "        vertical-align: middle;\n",
       "    }\n",
       "\n",
       "    .dataframe tbody tr th {\n",
       "        vertical-align: top;\n",
       "    }\n",
       "\n",
       "    .dataframe thead th {\n",
       "        text-align: right;\n",
       "    }\n",
       "</style>\n",
       "<table border=\"1\" class=\"dataframe\">\n",
       "  <thead>\n",
       "    <tr style=\"text-align: right;\">\n",
       "      <th></th>\n",
       "      <th>PS2</th>\n",
       "      <th>X360</th>\n",
       "      <th>PS3</th>\n",
       "      <th>Wii</th>\n",
       "      <th>DS</th>\n",
       "    </tr>\n",
       "    <tr>\n",
       "      <th>year_of_release</th>\n",
       "      <th></th>\n",
       "      <th></th>\n",
       "      <th></th>\n",
       "      <th></th>\n",
       "      <th></th>\n",
       "    </tr>\n",
       "  </thead>\n",
       "  <tbody>\n",
       "    <tr>\n",
       "      <td>2012</td>\n",
       "      <td>nan</td>\n",
       "      <td>99.74</td>\n",
       "      <td>107.37</td>\n",
       "      <td>21.71</td>\n",
       "      <td>11.01</td>\n",
       "    </tr>\n",
       "    <tr>\n",
       "      <td>2013</td>\n",
       "      <td>nan</td>\n",
       "      <td>88.58</td>\n",
       "      <td>113.25</td>\n",
       "      <td>8.59</td>\n",
       "      <td>1.54</td>\n",
       "    </tr>\n",
       "    <tr>\n",
       "      <td>2014</td>\n",
       "      <td>nan</td>\n",
       "      <td>34.74</td>\n",
       "      <td>47.76</td>\n",
       "      <td>3.75</td>\n",
       "      <td>nan</td>\n",
       "    </tr>\n",
       "    <tr>\n",
       "      <td>2015</td>\n",
       "      <td>nan</td>\n",
       "      <td>11.96</td>\n",
       "      <td>16.82</td>\n",
       "      <td>1.14</td>\n",
       "      <td>nan</td>\n",
       "    </tr>\n",
       "    <tr>\n",
       "      <td>2016</td>\n",
       "      <td>nan</td>\n",
       "      <td>1.52</td>\n",
       "      <td>3.60</td>\n",
       "      <td>0.18</td>\n",
       "      <td>nan</td>\n",
       "    </tr>\n",
       "  </tbody>\n",
       "</table>\n",
       "</div>"
      ],
      "text/plain": [
       "                 PS2  X360    PS3   Wii    DS\n",
       "year_of_release                              \n",
       "2012             nan 99.74 107.37 21.71 11.01\n",
       "2013             nan 88.58 113.25  8.59  1.54\n",
       "2014             nan 34.74  47.76  3.75   nan\n",
       "2015             nan 11.96  16.82  1.14   nan\n",
       "2016             nan  1.52   3.60  0.18   nan"
      ]
     },
     "execution_count": 34,
     "metadata": {},
     "output_type": "execute_result"
    }
   ],
   "source": [
    "d_ps2_year = df_t_s_p_year.loc[\"PS2\"].to_frame()\n",
    "d_x360_year = df_t_s_p_year.loc[\"X360\"].to_frame()\n",
    "d_ps3_year = df_t_s_p_year.loc[\"PS3\"].to_frame()\n",
    "d_wii_year = df_t_s_p_year.loc[\"Wii\"].to_frame()\n",
    "d_ds_year = df_t_s_p_year.loc[\"DS\"].to_frame()\n",
    "d_plat_year = d_ps2_year.join([d_x360_year, d_ps3_year, d_wii_year, d_ds_year])\n",
    "d_plat_year.tail()"
   ]
  },
  {
   "cell_type": "code",
   "execution_count": 35,
   "id": "614583d6",
   "metadata": {
    "scrolled": true
   },
   "outputs": [
    {
     "data": {
      "image/png": "[encoded data removed]",
      "text/plain": [
       "<Figure size 1080x576 with 1 Axes>"
      ]
     },
     "metadata": {
      "needs_background": "light"
     },
     "output_type": "display_data"
    }
   ],
   "source": [
    "fig, ax = plt.subplots(figsize=(15, 8))\n",
    "ax.plot(d_plat_year, linewidth=2)\n",
    "ax.set_title(\"Sales of Games every year\", fontsize=20)\n",
    "ax.set_xlabel(\"Y e a r\", fontsize=16)\n",
    "ax.set_ylabel(\"Total sales USD\", fontsize=16)\n",
    "ax.legend([\"PS2\", \"X360\", \"PS3\", \"Wii\", \"DS\"])\n",
    "ax.set_xticks(d_plat_year.index)\n",
    "ax.set_xticklabels(d_plat_year.index, rotation=90)\n",
    "ax.grid()"
   ]
  },
  {
   "cell_type": "markdown",
   "id": "57fc67d3",
   "metadata": {},
   "source": [
    "<div class=\"alert alert-success\" role=\"alert\">\n",
    "Reviewer's comment v. 1:\n",
    "    \n",
    "Please note that Ridgeplots can be useful here: https://matplotlib.org/matplotblog/posts/create-ridgeplots-in-matplotlib/ \n",
    "</div>"
   ]
  },
  {
   "cell_type": "markdown",
   "id": "a49ec90d",
   "metadata": {},
   "source": [
    "<div class=\"alert alert-info\">\n",
    "  <strong>My fixing: </strong>  Ridgeplots, using the maximum absolute scaling\n",
    "</div>"
   ]
  },
  {
   "cell_type": "code",
   "execution_count": 36,
   "id": "c3e69657",
   "metadata": {},
   "outputs": [],
   "source": [
    "platforms = d_plat_year.columns\n",
    "colors = ['#0000ff', '#3300cc', '#660099', '#990066', '#cc0033']"
   ]
  },
  {
   "cell_type": "code",
   "execution_count": 37,
   "id": "bf4bc3d9",
   "metadata": {},
   "outputs": [
    {
     "data": {
      "image/png": "[encoded data removed]",
      "text/plain": [
       "<Figure size 576x432 with 5 Axes>"
      ]
     },
     "metadata": {
      "needs_background": "light"
     },
     "output_type": "display_data"
    }
   ],
   "source": [
    "gs = (grid_spec.GridSpec(len(platforms), 1))\n",
    "\n",
    "fig = plt.figure(figsize=(8, 6))\n",
    "\n",
    "i = 0\n",
    "\n",
    "# creating empty list\n",
    "ax_objs = []\n",
    "\n",
    "for platform in platforms:\n",
    "    # creating new axes object and appending to ax_objs\n",
    "    ax_objs.append(fig.add_subplot(gs[i:i+1, 0:]))\n",
    "\n",
    "    # delete xticklabels except the last one\n",
    "    if i == len(platforms)-1:\n",
    "        pass\n",
    "    else:\n",
    "        ax_objs[-1].set_xticklabels([])\n",
    "\n",
    "    # remove all lines from border of graphs\n",
    "    spines = [\"top\", \"right\", \"left\", \"bottom\"]\n",
    "    for s in spines:\n",
    "        ax_objs[-1].spines[s].set_visible(False)\n",
    "\n",
    "    # make background transparent\n",
    "    rect = ax_objs[-1].patch\n",
    "    rect.set_alpha(0)\n",
    "\n",
    "    # remove borders, axis ticks, and labels\n",
    "    ax_objs[-1].set_yticklabels([])\n",
    "    ax_objs[-1].set_ylabel('')\n",
    "\n",
    "    # plotting the distribution\n",
    "    plot = ((d_plat_year[platform]/d_plat_year[platform].abs().max()\n",
    "             ).plot.kde(ax=ax_objs[-1], color=\"#f0f0f0\", lw=0.5))\n",
    "\n",
    "    # adding the name of the platform\n",
    "    ax_objs[-1].text(1.5, 0, platform, fontweight=\"bold\",\n",
    "                     fontsize=14, ha=\"center\")\n",
    "\n",
    "    # grabbing x and y data from the kde plot\n",
    "    x = plot.get_children()[0]._x\n",
    "    y = plot.get_children()[0]._y\n",
    "\n",
    "    # filling the space beneath the distribution\n",
    "    ax_objs[-1].fill_between(x, y, color=colors[i])\n",
    "\n",
    "    # setting uniform x and y lims\n",
    "    ax_objs[-1].set_xlim(0, 1.75)\n",
    "    ax_objs[-1].set_ylim(0, 3)\n",
    "\n",
    "    i += 1\n",
    "\n",
    "# make background transparent\n",
    "rect = ax_objs[-1].patch\n",
    "rect.set_alpha(0)\n",
    "\n",
    "# remove borders, axis ticks, and labels\n",
    "ax_objs[-1].set_yticklabels([])\n",
    "ax_objs[-1].set_ylabel('')\n",
    "\n",
    "\n",
    "plt.tight_layout()\n",
    "plt.show()"
   ]
  },
  {
   "cell_type": "markdown",
   "id": "56f9435d",
   "metadata": {},
   "source": [
    "life spans of most profitable platform are about 10 years"
   ]
  },
  {
   "cell_type": "markdown",
   "id": "8b6c42e5",
   "metadata": {},
   "source": [
    "<div class=\"alert alert-success\" role=\"alert\">\n",
    "Reviewer's comment v. 2:\n",
    "    \n",
    "👍👍👍\n",
    "</div>"
   ]
  },
  {
   "cell_type": "code",
   "execution_count": 38,
   "id": "3d7aac12",
   "metadata": {},
   "outputs": [
    {
     "data": {
      "text/html": [
       "<div>\n",
       "<style scoped>\n",
       "    .dataframe tbody tr th:only-of-type {\n",
       "        vertical-align: middle;\n",
       "    }\n",
       "\n",
       "    .dataframe tbody tr th {\n",
       "        vertical-align: top;\n",
       "    }\n",
       "\n",
       "    .dataframe thead th {\n",
       "        text-align: right;\n",
       "    }\n",
       "</style>\n",
       "<table border=\"1\" class=\"dataframe\">\n",
       "  <thead>\n",
       "    <tr style=\"text-align: right;\">\n",
       "      <th></th>\n",
       "      <th>PS2</th>\n",
       "      <th>PS3</th>\n",
       "    </tr>\n",
       "    <tr>\n",
       "      <th>year_of_release</th>\n",
       "      <th></th>\n",
       "      <th></th>\n",
       "    </tr>\n",
       "  </thead>\n",
       "  <tbody>\n",
       "    <tr>\n",
       "      <td>1980</td>\n",
       "      <td>nan</td>\n",
       "      <td>nan</td>\n",
       "    </tr>\n",
       "    <tr>\n",
       "      <td>1981</td>\n",
       "      <td>nan</td>\n",
       "      <td>nan</td>\n",
       "    </tr>\n",
       "    <tr>\n",
       "      <td>1982</td>\n",
       "      <td>nan</td>\n",
       "      <td>nan</td>\n",
       "    </tr>\n",
       "    <tr>\n",
       "      <td>1983</td>\n",
       "      <td>nan</td>\n",
       "      <td>nan</td>\n",
       "    </tr>\n",
       "    <tr>\n",
       "      <td>1984</td>\n",
       "      <td>nan</td>\n",
       "      <td>nan</td>\n",
       "    </tr>\n",
       "    <tr>\n",
       "      <td>1985</td>\n",
       "      <td>nan</td>\n",
       "      <td>nan</td>\n",
       "    </tr>\n",
       "    <tr>\n",
       "      <td>1986</td>\n",
       "      <td>nan</td>\n",
       "      <td>nan</td>\n",
       "    </tr>\n",
       "    <tr>\n",
       "      <td>1987</td>\n",
       "      <td>nan</td>\n",
       "      <td>nan</td>\n",
       "    </tr>\n",
       "    <tr>\n",
       "      <td>1988</td>\n",
       "      <td>nan</td>\n",
       "      <td>nan</td>\n",
       "    </tr>\n",
       "    <tr>\n",
       "      <td>1989</td>\n",
       "      <td>nan</td>\n",
       "      <td>nan</td>\n",
       "    </tr>\n",
       "    <tr>\n",
       "      <td>1990</td>\n",
       "      <td>nan</td>\n",
       "      <td>nan</td>\n",
       "    </tr>\n",
       "    <tr>\n",
       "      <td>1991</td>\n",
       "      <td>nan</td>\n",
       "      <td>nan</td>\n",
       "    </tr>\n",
       "    <tr>\n",
       "      <td>1992</td>\n",
       "      <td>nan</td>\n",
       "      <td>nan</td>\n",
       "    </tr>\n",
       "    <tr>\n",
       "      <td>1993</td>\n",
       "      <td>nan</td>\n",
       "      <td>nan</td>\n",
       "    </tr>\n",
       "    <tr>\n",
       "      <td>1994</td>\n",
       "      <td>nan</td>\n",
       "      <td>nan</td>\n",
       "    </tr>\n",
       "    <tr>\n",
       "      <td>1995</td>\n",
       "      <td>nan</td>\n",
       "      <td>nan</td>\n",
       "    </tr>\n",
       "    <tr>\n",
       "      <td>1996</td>\n",
       "      <td>nan</td>\n",
       "      <td>nan</td>\n",
       "    </tr>\n",
       "    <tr>\n",
       "      <td>1997</td>\n",
       "      <td>nan</td>\n",
       "      <td>nan</td>\n",
       "    </tr>\n",
       "    <tr>\n",
       "      <td>1998</td>\n",
       "      <td>nan</td>\n",
       "      <td>nan</td>\n",
       "    </tr>\n",
       "    <tr>\n",
       "      <td>1999</td>\n",
       "      <td>nan</td>\n",
       "      <td>nan</td>\n",
       "    </tr>\n",
       "    <tr>\n",
       "      <td>2000</td>\n",
       "      <td>39.17</td>\n",
       "      <td>nan</td>\n",
       "    </tr>\n",
       "    <tr>\n",
       "      <td>2001</td>\n",
       "      <td>166.43</td>\n",
       "      <td>nan</td>\n",
       "    </tr>\n",
       "    <tr>\n",
       "      <td>2002</td>\n",
       "      <td>205.39</td>\n",
       "      <td>nan</td>\n",
       "    </tr>\n",
       "    <tr>\n",
       "      <td>2003</td>\n",
       "      <td>184.31</td>\n",
       "      <td>nan</td>\n",
       "    </tr>\n",
       "    <tr>\n",
       "      <td>2004</td>\n",
       "      <td>211.81</td>\n",
       "      <td>nan</td>\n",
       "    </tr>\n",
       "    <tr>\n",
       "      <td>2005</td>\n",
       "      <td>160.66</td>\n",
       "      <td>nan</td>\n",
       "    </tr>\n",
       "    <tr>\n",
       "      <td>2006</td>\n",
       "      <td>103.42</td>\n",
       "      <td>20.96</td>\n",
       "    </tr>\n",
       "    <tr>\n",
       "      <td>2007</td>\n",
       "      <td>75.99</td>\n",
       "      <td>73.19</td>\n",
       "    </tr>\n",
       "    <tr>\n",
       "      <td>2008</td>\n",
       "      <td>53.90</td>\n",
       "      <td>118.52</td>\n",
       "    </tr>\n",
       "    <tr>\n",
       "      <td>2009</td>\n",
       "      <td>26.40</td>\n",
       "      <td>130.93</td>\n",
       "    </tr>\n",
       "    <tr>\n",
       "      <td>2010</td>\n",
       "      <td>5.64</td>\n",
       "      <td>142.17</td>\n",
       "    </tr>\n",
       "    <tr>\n",
       "      <td>2011</td>\n",
       "      <td>0.45</td>\n",
       "      <td>156.78</td>\n",
       "    </tr>\n",
       "    <tr>\n",
       "      <td>2012</td>\n",
       "      <td>nan</td>\n",
       "      <td>107.37</td>\n",
       "    </tr>\n",
       "    <tr>\n",
       "      <td>2013</td>\n",
       "      <td>nan</td>\n",
       "      <td>113.25</td>\n",
       "    </tr>\n",
       "    <tr>\n",
       "      <td>2014</td>\n",
       "      <td>nan</td>\n",
       "      <td>47.76</td>\n",
       "    </tr>\n",
       "    <tr>\n",
       "      <td>2015</td>\n",
       "      <td>nan</td>\n",
       "      <td>16.82</td>\n",
       "    </tr>\n",
       "    <tr>\n",
       "      <td>2016</td>\n",
       "      <td>nan</td>\n",
       "      <td>3.60</td>\n",
       "    </tr>\n",
       "  </tbody>\n",
       "</table>\n",
       "</div>"
      ],
      "text/plain": [
       "                   PS2    PS3\n",
       "year_of_release              \n",
       "1980               nan    nan\n",
       "1981               nan    nan\n",
       "1982               nan    nan\n",
       "1983               nan    nan\n",
       "1984               nan    nan\n",
       "1985               nan    nan\n",
       "1986               nan    nan\n",
       "1987               nan    nan\n",
       "1988               nan    nan\n",
       "1989               nan    nan\n",
       "1990               nan    nan\n",
       "1991               nan    nan\n",
       "1992               nan    nan\n",
       "1993               nan    nan\n",
       "1994               nan    nan\n",
       "1995               nan    nan\n",
       "1996               nan    nan\n",
       "1997               nan    nan\n",
       "1998               nan    nan\n",
       "1999               nan    nan\n",
       "2000             39.17    nan\n",
       "2001            166.43    nan\n",
       "2002            205.39    nan\n",
       "2003            184.31    nan\n",
       "2004            211.81    nan\n",
       "2005            160.66    nan\n",
       "2006            103.42  20.96\n",
       "2007             75.99  73.19\n",
       "2008             53.90 118.52\n",
       "2009             26.40 130.93\n",
       "2010              5.64 142.17\n",
       "2011              0.45 156.78\n",
       "2012               nan 107.37\n",
       "2013               nan 113.25\n",
       "2014               nan  47.76\n",
       "2015               nan  16.82\n",
       "2016               nan   3.60"
      ]
     },
     "execution_count": 38,
     "metadata": {},
     "output_type": "execute_result"
    }
   ],
   "source": [
    "d_ds_year_ps = d_ps2_year.join(d_ps3_year)\n",
    "d_ds_year_ps"
   ]
  },
  {
   "cell_type": "code",
   "execution_count": 39,
   "id": "1b91e8c8",
   "metadata": {},
   "outputs": [
    {
     "data": {
      "image/png": "[encoded data removed]",
      "text/plain": [
       "<Figure size 720x576 with 1 Axes>"
      ]
     },
     "metadata": {
      "needs_background": "light"
     },
     "output_type": "display_data"
    }
   ],
   "source": [
    "fig, ax = plt.subplots(figsize=(10, 8))\n",
    "ax.plot(d_ds_year_ps, linewidth=5, alpha=0.7)\n",
    "ax.set_title(\"Sales of PS2 and PS3\", fontsize=20)\n",
    "ax.set_xlabel(\"Y e a r\", fontsize=16)\n",
    "ax.set_ylabel(\"Total sales USD\", fontsize=16)\n",
    "ax.legend([\"PS2\", \"PS3\"])\n",
    "ax.set_xticks(d_ds_year_ps.index)\n",
    "ax.set_xticklabels(d_ds_year_ps.index, rotation=60)\n",
    "ax.grid()"
   ]
  },
  {
   "cell_type": "markdown",
   "id": "24c9f257",
   "metadata": {},
   "source": [
    "life spans of the PS2 and PS3 platform are about 10 years. PS3 start selling when PS2 was at the peek. PS3 was at the peek when PS2 stop selling."
   ]
  },
  {
   "cell_type": "markdown",
   "id": "2aea2f5b",
   "metadata": {},
   "source": [
    "For the analysis We will cut data before 2014"
   ]
  },
  {
   "cell_type": "markdown",
   "id": "4e6c8582",
   "metadata": {},
   "source": [
    "<div class=\"alert alert-info\">\n",
    "  <strong>My fixing: </strong>  use data since 2014\n",
    "</div"
   ]
  },
  {
   "cell_type": "markdown",
   "id": "c5b3bd29",
   "metadata": {},
   "source": [
    "<div class=\"alert alert-success\" role=\"alert\">\n",
    "Reviewer's comment v. 2:\n",
    "    \n",
    "The reason why to chose data since 2014 is the following. We see that the leader in sales for the entire history of the PS2. But sales by 2011 are already zero. The X360 was at its peak in 2010, but by 2016 it had fallen to almost 0. In general, a sharp decline in the platform can occur in just 3 years. Let's look at this sales horizon.\n",
    "</div>"
   ]
  },
  {
   "cell_type": "code",
   "execution_count": 40,
   "id": "351edf93",
   "metadata": {},
   "outputs": [
    {
     "data": {
      "text/html": [
       "<div>\n",
       "<style scoped>\n",
       "    .dataframe tbody tr th:only-of-type {\n",
       "        vertical-align: middle;\n",
       "    }\n",
       "\n",
       "    .dataframe tbody tr th {\n",
       "        vertical-align: top;\n",
       "    }\n",
       "\n",
       "    .dataframe thead th {\n",
       "        text-align: right;\n",
       "    }\n",
       "</style>\n",
       "<table border=\"1\" class=\"dataframe\">\n",
       "  <thead>\n",
       "    <tr style=\"text-align: right;\">\n",
       "      <th></th>\n",
       "      <th>name</th>\n",
       "      <th>platform</th>\n",
       "      <th>year_of_release</th>\n",
       "      <th>genre</th>\n",
       "      <th>na_sales</th>\n",
       "      <th>eu_sales</th>\n",
       "      <th>jp_sales</th>\n",
       "      <th>other_sales</th>\n",
       "      <th>total_sales</th>\n",
       "      <th>critic_score</th>\n",
       "      <th>user_score</th>\n",
       "      <th>rating</th>\n",
       "    </tr>\n",
       "  </thead>\n",
       "  <tbody>\n",
       "    <tr>\n",
       "      <td>31</td>\n",
       "      <td>Call of Duty: Black Ops 3</td>\n",
       "      <td>PS4</td>\n",
       "      <td>2015</td>\n",
       "      <td>Shooter</td>\n",
       "      <td>6.03</td>\n",
       "      <td>5.86</td>\n",
       "      <td>0.36</td>\n",
       "      <td>2.38</td>\n",
       "      <td>14.63</td>\n",
       "      <td>75</td>\n",
       "      <td>6</td>\n",
       "      <td>M</td>\n",
       "    </tr>\n",
       "    <tr>\n",
       "      <td>42</td>\n",
       "      <td>Grand Theft Auto V</td>\n",
       "      <td>PS4</td>\n",
       "      <td>2014</td>\n",
       "      <td>Action</td>\n",
       "      <td>3.96</td>\n",
       "      <td>6.31</td>\n",
       "      <td>0.38</td>\n",
       "      <td>1.97</td>\n",
       "      <td>12.62</td>\n",
       "      <td>97</td>\n",
       "      <td>8</td>\n",
       "      <td>M</td>\n",
       "    </tr>\n",
       "    <tr>\n",
       "      <td>47</td>\n",
       "      <td>Pokemon Omega Ruby/Pokemon Alpha Sapphire</td>\n",
       "      <td>3DS</td>\n",
       "      <td>2014</td>\n",
       "      <td>Role-Playing</td>\n",
       "      <td>4.35</td>\n",
       "      <td>3.49</td>\n",
       "      <td>3.10</td>\n",
       "      <td>0.74</td>\n",
       "      <td>11.68</td>\n",
       "      <td>72</td>\n",
       "      <td>7</td>\n",
       "      <td>T</td>\n",
       "    </tr>\n",
       "    <tr>\n",
       "      <td>77</td>\n",
       "      <td>FIFA 16</td>\n",
       "      <td>PS4</td>\n",
       "      <td>2015</td>\n",
       "      <td>Sports</td>\n",
       "      <td>1.12</td>\n",
       "      <td>6.12</td>\n",
       "      <td>0.06</td>\n",
       "      <td>1.28</td>\n",
       "      <td>8.58</td>\n",
       "      <td>82</td>\n",
       "      <td>4</td>\n",
       "      <td>E</td>\n",
       "    </tr>\n",
       "    <tr>\n",
       "      <td>87</td>\n",
       "      <td>Star Wars Battlefront (2015)</td>\n",
       "      <td>PS4</td>\n",
       "      <td>2015</td>\n",
       "      <td>Shooter</td>\n",
       "      <td>2.99</td>\n",
       "      <td>3.49</td>\n",
       "      <td>0.22</td>\n",
       "      <td>1.28</td>\n",
       "      <td>7.98</td>\n",
       "      <td>75</td>\n",
       "      <td>6</td>\n",
       "      <td>M</td>\n",
       "    </tr>\n",
       "  </tbody>\n",
       "</table>\n",
       "</div>"
      ],
      "text/plain": [
       "                                         name platform  year_of_release  \\\n",
       "31                  Call of Duty: Black Ops 3      PS4             2015   \n",
       "42                         Grand Theft Auto V      PS4             2014   \n",
       "47  Pokemon Omega Ruby/Pokemon Alpha Sapphire      3DS             2014   \n",
       "77                                    FIFA 16      PS4             2015   \n",
       "87               Star Wars Battlefront (2015)      PS4             2015   \n",
       "\n",
       "           genre  na_sales  eu_sales  jp_sales  other_sales  total_sales  \\\n",
       "31       Shooter      6.03      5.86      0.36         2.38        14.63   \n",
       "42        Action      3.96      6.31      0.38         1.97        12.62   \n",
       "47  Role-Playing      4.35      3.49      3.10         0.74        11.68   \n",
       "77        Sports      1.12      6.12      0.06         1.28         8.58   \n",
       "87       Shooter      2.99      3.49      0.22         1.28         7.98   \n",
       "\n",
       "    critic_score  user_score rating  \n",
       "31            75           6      M  \n",
       "42            97           8      M  \n",
       "47            72           7      T  \n",
       "77            82           4      E  \n",
       "87            75           6      M  "
      ]
     },
     "execution_count": 40,
     "metadata": {},
     "output_type": "execute_result"
    }
   ],
   "source": [
    "df_new = df[df[\"year_of_release\"] > 2013]\n",
    "df_new.head()"
   ]
  },
  {
   "cell_type": "code",
   "execution_count": 41,
   "id": "217315ee",
   "metadata": {},
   "outputs": [
    {
     "data": {
      "image/png": "[encoded data removed]",
      "text/plain": [
       "<Figure size 720x720 with 1 Axes>"
      ]
     },
     "metadata": {
      "needs_background": "light"
     },
     "output_type": "display_data"
    }
   ],
   "source": [
    "df_tree = df_sale_platform[[\"platform\", \"total_sales\"]]\n",
    "df_tree = df_tree[df_tree[\"total_sales\"] > 30]\n",
    "sizes = df_tree[\"total_sales\"].values.tolist()\n",
    "labels = df_tree.apply(lambda x: str(x[0])+\"\\n\"+\"$\"+str(round(x[1])), axis=1)\n",
    "plt.figure(figsize=(10, 10))\n",
    "squarify.plot(sizes=sizes, label=labels, alpha=0.5)"
   ]
  },
  {
   "cell_type": "markdown",
   "id": "3d1f3ded",
   "metadata": {},
   "source": [
    "<div class=\"alert alert-info\">\n",
    "  <strong>My fixing: </strong>  fix the overlapping on the graph. analyze graph\n",
    "</div"
   ]
  },
  {
   "cell_type": "markdown",
   "id": "3d433253",
   "metadata": {},
   "source": [
    "<div class=\"alert alert-success\" role=\"alert\">\n",
    "Reviewer's comment v. 2:\n",
    "    \n",
    "An excellent graph :)\n",
    "</div>"
   ]
  },
  {
   "cell_type": "markdown",
   "id": "a57ea678",
   "metadata": {},
   "source": [
    "**conclusion**: cutting platforms with total sales lower than 30. Now the graph gives the total sales of the platforms with sales more than 30 millions US$. The graph shows the comparison between the platforms"
   ]
  },
  {
   "cell_type": "markdown",
   "id": "4824b4a3",
   "metadata": {},
   "source": [
    "<div class=\"alert alert-success\" role=\"alert\">\n",
    "Reviewer's comment v. 2:\n",
    "    \n",
    "Yes, you are right :)\n",
    "</div>"
   ]
  },
  {
   "cell_type": "markdown",
   "id": "67fe774c",
   "metadata": {},
   "source": [
    "###  Platforms growing and shrinking"
   ]
  },
  {
   "cell_type": "markdown",
   "id": "40be4206",
   "metadata": {},
   "source": [
    "calculating the difference between"
   ]
  },
  {
   "cell_type": "code",
   "execution_count": 42,
   "id": "8a9fa074",
   "metadata": {},
   "outputs": [],
   "source": [
    "df_new = df[df[\"year_of_release\"] >= 2013]\n",
    "df_pt = pd.pivot_table(df_new, index=\"year_of_release\", columns=\"platform\",\n",
    "                       values=\"total_sales\", aggfunc=\"sum\", fill_value=0)"
   ]
  },
  {
   "cell_type": "code",
   "execution_count": 43,
   "id": "54005dcb",
   "metadata": {
    "scrolled": true
   },
   "outputs": [],
   "source": [
    "# calculating growing or shrinking - total sales\n",
    "dynamics = df_pt-df_pt.shift(1)"
   ]
  },
  {
   "cell_type": "code",
   "execution_count": 44,
   "id": "af153ee9",
   "metadata": {},
   "outputs": [],
   "source": [
    "# calculating growing or shrinking - %\n",
    "dynamics_pct = (df_pt-df_pt.shift(1))/df_pt\n",
    "dynamics_pct.fillna(0, inplace=True)"
   ]
  },
  {
   "cell_type": "code",
   "execution_count": 45,
   "id": "ec95edcf",
   "metadata": {},
   "outputs": [
    {
     "data": {
      "text/plain": [
       "<matplotlib.axes._subplots.AxesSubplot at 0x7f17cb095510>"
      ]
     },
     "execution_count": 45,
     "metadata": {},
     "output_type": "execute_result"
    },
    {
     "data": {
      "image/png": "[encoded data removed]",
      "text/plain": [
       "<Figure size 1080x648 with 2 Axes>"
      ]
     },
     "metadata": {
      "needs_background": "light"
     },
     "output_type": "display_data"
    }
   ],
   "source": [
    "plt.figure(figsize=(15, 9))\n",
    "sns.heatmap(dynamics.T, cmap=\"RdBu_r\")"
   ]
  },
  {
   "cell_type": "code",
   "execution_count": 46,
   "id": "21b38db4",
   "metadata": {},
   "outputs": [
    {
     "data": {
      "text/plain": [
       "<matplotlib.axes._subplots.AxesSubplot at 0x7f17cafb0750>"
      ]
     },
     "execution_count": 46,
     "metadata": {},
     "output_type": "execute_result"
    },
    {
     "data": {
      "image/png": "[encoded data removed]",
      "text/plain": [
       "<Figure size 1080x648 with 2 Axes>"
      ]
     },
     "metadata": {
      "needs_background": "light"
     },
     "output_type": "display_data"
    }
   ],
   "source": [
    "plt.figure(figsize=(15, 9))\n",
    "sns.heatmap(dynamics_pct.T, cmap=\"RdBu_r\")"
   ]
  },
  {
   "cell_type": "markdown",
   "id": "cbaf15c4",
   "metadata": {},
   "source": [
    "**conclusion**: all platform's sale decline in 2016 compared to 2015. Both totals and relatively. "
   ]
  },
  {
   "cell_type": "code",
   "execution_count": 47,
   "id": "8b74d278",
   "metadata": {},
   "outputs": [],
   "source": [
    "df_new_nz = df_new[df_new[\"total_sales\"] > 0]\n",
    "grouped = df_new_nz.groupby(['platform', 'year_of_release'])[\n",
    "    'total_sales'].mean().reset_index()\n",
    "ordered = grouped.groupby(['platform'])['total_sales'].sum(\n",
    ").sort_values().reset_index()['platform']"
   ]
  },
  {
   "cell_type": "code",
   "execution_count": 48,
   "id": "dd7fa272",
   "metadata": {},
   "outputs": [
    {
     "data": {
      "image/png": "[encoded data removed]",
      "text/plain": [
       "<Figure size 936x720 with 1 Axes>"
      ]
     },
     "metadata": {
      "needs_background": "light"
     },
     "output_type": "display_data"
    }
   ],
   "source": [
    "plt.figure(figsize=(13, 10))\n",
    "sns.boxplot(x='platform', y='total_sales', data=grouped, order=ordered)"
   ]
  },
  {
   "cell_type": "markdown",
   "id": "ff36873a",
   "metadata": {},
   "source": [
    "<div class=\"alert alert-success\" role=\"alert\">\n",
    "Reviewer's comment v. 2:\n",
    "    \n",
    "I recommend to rotate labels for this graph.\n",
    "</div>"
   ]
  },
  {
   "cell_type": "markdown",
   "id": "d98ce351",
   "metadata": {},
   "source": [
    "- There are significant differences in sales\n",
    "- The variance between platforms is significant\n",
    "- Some platforms's sale change a lot by 2014-2016, while some of them show small changes"
   ]
  },
  {
   "cell_type": "markdown",
   "id": "455dbd9b",
   "metadata": {},
   "source": [
    "<div class=\"alert alert-success\" role=\"alert\">\n",
    "Reviewer's comment v. 2:\n",
    "    \n",
    "Yes, you correctly noted that the variance between platforms is significant.\n",
    "</div>"
   ]
  },
  {
   "cell_type": "markdown",
   "id": "a46955d8",
   "metadata": {},
   "source": [
    "## how user and professional reviews affect sales for PS2 platform"
   ]
  },
  {
   "cell_type": "code",
   "execution_count": 49,
   "id": "5c6e50e5",
   "metadata": {},
   "outputs": [],
   "source": [
    "df_ps2 = df[df[\"platform\"] == \"PS2\"]"
   ]
  },
  {
   "cell_type": "code",
   "execution_count": 50,
   "id": "744d2eb2",
   "metadata": {},
   "outputs": [
    {
     "data": {
      "text/html": [
       "<div>\n",
       "<style scoped>\n",
       "    .dataframe tbody tr th:only-of-type {\n",
       "        vertical-align: middle;\n",
       "    }\n",
       "\n",
       "    .dataframe tbody tr th {\n",
       "        vertical-align: top;\n",
       "    }\n",
       "\n",
       "    .dataframe thead th {\n",
       "        text-align: right;\n",
       "    }\n",
       "</style>\n",
       "<table border=\"1\" class=\"dataframe\">\n",
       "  <thead>\n",
       "    <tr style=\"text-align: right;\">\n",
       "      <th></th>\n",
       "      <th>name</th>\n",
       "      <th>year_of_release</th>\n",
       "      <th>total_sales</th>\n",
       "      <th>critic_score</th>\n",
       "      <th>user_score</th>\n",
       "    </tr>\n",
       "  </thead>\n",
       "  <tbody>\n",
       "    <tr>\n",
       "      <td>count</td>\n",
       "      <td>2127</td>\n",
       "      <td>2,127.00</td>\n",
       "      <td>2,127.00</td>\n",
       "      <td>2,127.00</td>\n",
       "      <td>2,127.00</td>\n",
       "    </tr>\n",
       "    <tr>\n",
       "      <td>unique</td>\n",
       "      <td>2127</td>\n",
       "      <td>nan</td>\n",
       "      <td>nan</td>\n",
       "      <td>nan</td>\n",
       "      <td>nan</td>\n",
       "    </tr>\n",
       "    <tr>\n",
       "      <td>top</td>\n",
       "      <td>Batman Begins</td>\n",
       "      <td>nan</td>\n",
       "      <td>nan</td>\n",
       "      <td>nan</td>\n",
       "      <td>nan</td>\n",
       "    </tr>\n",
       "    <tr>\n",
       "      <td>freq</td>\n",
       "      <td>1</td>\n",
       "      <td>nan</td>\n",
       "      <td>nan</td>\n",
       "      <td>nan</td>\n",
       "      <td>nan</td>\n",
       "    </tr>\n",
       "    <tr>\n",
       "      <td>mean</td>\n",
       "      <td>NaN</td>\n",
       "      <td>2,004.58</td>\n",
       "      <td>0.58</td>\n",
       "      <td>68.26</td>\n",
       "      <td>7.12</td>\n",
       "    </tr>\n",
       "    <tr>\n",
       "      <td>std</td>\n",
       "      <td>NaN</td>\n",
       "      <td>2.57</td>\n",
       "      <td>1.14</td>\n",
       "      <td>10.34</td>\n",
       "      <td>1.01</td>\n",
       "    </tr>\n",
       "    <tr>\n",
       "      <td>min</td>\n",
       "      <td>NaN</td>\n",
       "      <td>2,000.00</td>\n",
       "      <td>0.00</td>\n",
       "      <td>24.00</td>\n",
       "      <td>1.00</td>\n",
       "    </tr>\n",
       "    <tr>\n",
       "      <td>25%</td>\n",
       "      <td>NaN</td>\n",
       "      <td>2,002.00</td>\n",
       "      <td>0.08</td>\n",
       "      <td>62.00</td>\n",
       "      <td>7.00</td>\n",
       "    </tr>\n",
       "    <tr>\n",
       "      <td>50%</td>\n",
       "      <td>NaN</td>\n",
       "      <td>2,005.00</td>\n",
       "      <td>0.23</td>\n",
       "      <td>68.00</td>\n",
       "      <td>7.00</td>\n",
       "    </tr>\n",
       "    <tr>\n",
       "      <td>75%</td>\n",
       "      <td>NaN</td>\n",
       "      <td>2,007.00</td>\n",
       "      <td>0.56</td>\n",
       "      <td>72.00</td>\n",
       "      <td>8.00</td>\n",
       "    </tr>\n",
       "    <tr>\n",
       "      <td>max</td>\n",
       "      <td>NaN</td>\n",
       "      <td>2,011.00</td>\n",
       "      <td>20.81</td>\n",
       "      <td>97.00</td>\n",
       "      <td>9.00</td>\n",
       "    </tr>\n",
       "  </tbody>\n",
       "</table>\n",
       "</div>"
      ],
      "text/plain": [
       "                 name  year_of_release  total_sales  critic_score  user_score\n",
       "count            2127         2,127.00     2,127.00      2,127.00    2,127.00\n",
       "unique           2127              nan          nan           nan         nan\n",
       "top     Batman Begins              nan          nan           nan         nan\n",
       "freq                1              nan          nan           nan         nan\n",
       "mean              NaN         2,004.58         0.58         68.26        7.12\n",
       "std               NaN             2.57         1.14         10.34        1.01\n",
       "min               NaN         2,000.00         0.00         24.00        1.00\n",
       "25%               NaN         2,002.00         0.08         62.00        7.00\n",
       "50%               NaN         2,005.00         0.23         68.00        7.00\n",
       "75%               NaN         2,007.00         0.56         72.00        8.00\n",
       "max               NaN         2,011.00        20.81         97.00        9.00"
      ]
     },
     "execution_count": 50,
     "metadata": {},
     "output_type": "execute_result"
    }
   ],
   "source": [
    "df_ps2 = df_ps2[[\"name\", \"year_of_release\",\n",
    "                 \"total_sales\", \"critic_score\", \"user_score\"]]\n",
    "df_ps2.describe(include=\"all\")"
   ]
  },
  {
   "cell_type": "markdown",
   "id": "8baf030c",
   "metadata": {},
   "source": [
    "### Showing the correlation total sales to users and critic score"
   ]
  },
  {
   "cell_type": "code",
   "execution_count": 51,
   "id": "40135f3d",
   "metadata": {},
   "outputs": [
    {
     "data": {
      "image/png": "[encoded data removed]",
      "text/plain": [
       "<Figure size 432x288 with 2 Axes>"
      ]
     },
     "metadata": {
      "needs_background": "light"
     },
     "output_type": "display_data"
    }
   ],
   "source": [
    "sns.heatmap(df_ps2.corr(), annot=True, cmap=\"YlGnBu\")\n",
    "plt.show()"
   ]
  },
  {
   "cell_type": "markdown",
   "id": "541a9336",
   "metadata": {},
   "source": [
    "The total sales correlate with critic score 0.38 and with user score 0.16. These correlation values are very small, and the critic score shows higher correlation value. It can be because the user score was given after the user already bought the game and the sale was made."
   ]
  },
  {
   "cell_type": "code",
   "execution_count": 52,
   "id": "22c04668",
   "metadata": {},
   "outputs": [
    {
     "name": "stdout",
     "output_type": "stream",
     "text": [
      "Number of games for PS2: 2127\n"
     ]
    }
   ],
   "source": [
    "print(f\"Number of games for PS2: {df_ps2.name.value_counts().count()}\")"
   ]
  },
  {
   "cell_type": "markdown",
   "id": "c22b81c0",
   "metadata": {},
   "source": [
    "<div class=\"alert alert-success\" role=\"alert\">\n",
    "Reviewer's comment v. 2:\n",
    "    \n",
    "Yes, we have weak correlation between variables. Please note that correlation function shows only linear dependecy between variables. Maybe this link will be interesting for you: https://machinelearningmastery.com/how-to-use-correlation-to-understand-the-relationship-between-variables/.\n",
    "</div>"
   ]
  },
  {
   "cell_type": "markdown",
   "id": "a07ba44b",
   "metadata": {},
   "source": [
    "### comparing a game with many platform"
   ]
  },
  {
   "cell_type": "markdown",
   "id": "663fd22e",
   "metadata": {},
   "source": [
    "looking at games that have the same name"
   ]
  },
  {
   "cell_type": "code",
   "execution_count": 53,
   "id": "441b4f9a",
   "metadata": {},
   "outputs": [
    {
     "data": {
      "text/plain": [
       "Need for Speed: Most Wanted                  12\n",
       "LEGO Marvel Super Heroes                      9\n",
       "Ratatouille                                   9\n",
       "FIFA 14                                       9\n",
       "Madden NFL 07                                 8\n",
       "                                             ..\n",
       "Hot Shots Golf Fore!                          1\n",
       "Dr. Seuss: How the Grinch Stole Christmas     1\n",
       "Eternal Poison (JP sales)                     1\n",
       "Tekken 5                                      1\n",
       "Jampack Summer 2002                           1\n",
       "Name: name, Length: 11426, dtype: int64"
      ]
     },
     "execution_count": 53,
     "metadata": {},
     "output_type": "execute_result"
    }
   ],
   "source": [
    "df[\"name\"].value_counts()"
   ]
  },
  {
   "cell_type": "markdown",
   "id": "b35d0c35",
   "metadata": {},
   "source": [
    "We will choose FIFA 14 that appeared in 9 platforms in 2013:"
   ]
  },
  {
   "cell_type": "code",
   "execution_count": 54,
   "id": "0a1ad425",
   "metadata": {},
   "outputs": [
    {
     "data": {
      "text/html": [
       "<div>\n",
       "<style scoped>\n",
       "    .dataframe tbody tr th:only-of-type {\n",
       "        vertical-align: middle;\n",
       "    }\n",
       "\n",
       "    .dataframe tbody tr th {\n",
       "        vertical-align: top;\n",
       "    }\n",
       "\n",
       "    .dataframe thead th {\n",
       "        text-align: right;\n",
       "    }\n",
       "</style>\n",
       "<table border=\"1\" class=\"dataframe\">\n",
       "  <thead>\n",
       "    <tr style=\"text-align: right;\">\n",
       "      <th></th>\n",
       "      <th>name</th>\n",
       "      <th>platform</th>\n",
       "      <th>year_of_release</th>\n",
       "      <th>genre</th>\n",
       "      <th>na_sales</th>\n",
       "      <th>eu_sales</th>\n",
       "      <th>jp_sales</th>\n",
       "      <th>other_sales</th>\n",
       "      <th>total_sales</th>\n",
       "      <th>critic_score</th>\n",
       "      <th>user_score</th>\n",
       "      <th>rating</th>\n",
       "    </tr>\n",
       "  </thead>\n",
       "  <tbody>\n",
       "    <tr>\n",
       "      <td>126</td>\n",
       "      <td>FIFA 14</td>\n",
       "      <td>PS3</td>\n",
       "      <td>2013</td>\n",
       "      <td>Sports</td>\n",
       "      <td>0.78</td>\n",
       "      <td>4.24</td>\n",
       "      <td>0.07</td>\n",
       "      <td>1.37</td>\n",
       "      <td>6.46</td>\n",
       "      <td>86</td>\n",
       "      <td>4</td>\n",
       "      <td>E</td>\n",
       "    </tr>\n",
       "    <tr>\n",
       "      <td>271</td>\n",
       "      <td>FIFA 14</td>\n",
       "      <td>X360</td>\n",
       "      <td>2013</td>\n",
       "      <td>Sports</td>\n",
       "      <td>0.92</td>\n",
       "      <td>2.89</td>\n",
       "      <td>0.01</td>\n",
       "      <td>0.40</td>\n",
       "      <td>4.22</td>\n",
       "      <td>84</td>\n",
       "      <td>4</td>\n",
       "      <td>E</td>\n",
       "    </tr>\n",
       "    <tr>\n",
       "      <td>469</td>\n",
       "      <td>FIFA 14</td>\n",
       "      <td>PS4</td>\n",
       "      <td>2013</td>\n",
       "      <td>Sports</td>\n",
       "      <td>0.61</td>\n",
       "      <td>1.85</td>\n",
       "      <td>0.11</td>\n",
       "      <td>0.44</td>\n",
       "      <td>3.01</td>\n",
       "      <td>87</td>\n",
       "      <td>6</td>\n",
       "      <td>E</td>\n",
       "    </tr>\n",
       "    <tr>\n",
       "      <td>1753</td>\n",
       "      <td>FIFA 14</td>\n",
       "      <td>XOne</td>\n",
       "      <td>2013</td>\n",
       "      <td>Sports</td>\n",
       "      <td>0.41</td>\n",
       "      <td>0.66</td>\n",
       "      <td>0.00</td>\n",
       "      <td>0.09</td>\n",
       "      <td>1.16</td>\n",
       "      <td>88</td>\n",
       "      <td>5</td>\n",
       "      <td>E</td>\n",
       "    </tr>\n",
       "    <tr>\n",
       "      <td>4699</td>\n",
       "      <td>FIFA 14</td>\n",
       "      <td>PSV</td>\n",
       "      <td>2013</td>\n",
       "      <td>Sports</td>\n",
       "      <td>0.08</td>\n",
       "      <td>0.23</td>\n",
       "      <td>0.01</td>\n",
       "      <td>0.09</td>\n",
       "      <td>0.41</td>\n",
       "      <td>72</td>\n",
       "      <td>1</td>\n",
       "      <td>E</td>\n",
       "    </tr>\n",
       "    <tr>\n",
       "      <td>4809</td>\n",
       "      <td>FIFA 14</td>\n",
       "      <td>PC</td>\n",
       "      <td>2013</td>\n",
       "      <td>Sports</td>\n",
       "      <td>0.01</td>\n",
       "      <td>0.36</td>\n",
       "      <td>0.00</td>\n",
       "      <td>0.03</td>\n",
       "      <td>0.40</td>\n",
       "      <td>87</td>\n",
       "      <td>4</td>\n",
       "      <td>E</td>\n",
       "    </tr>\n",
       "    <tr>\n",
       "      <td>4985</td>\n",
       "      <td>FIFA 14</td>\n",
       "      <td>Wii</td>\n",
       "      <td>2013</td>\n",
       "      <td>Sports</td>\n",
       "      <td>0.00</td>\n",
       "      <td>0.36</td>\n",
       "      <td>0.00</td>\n",
       "      <td>0.02</td>\n",
       "      <td>0.38</td>\n",
       "      <td>63</td>\n",
       "      <td>4</td>\n",
       "      <td>E</td>\n",
       "    </tr>\n",
       "    <tr>\n",
       "      <td>6871</td>\n",
       "      <td>FIFA 14</td>\n",
       "      <td>3DS</td>\n",
       "      <td>2013</td>\n",
       "      <td>Sports</td>\n",
       "      <td>0.00</td>\n",
       "      <td>0.22</td>\n",
       "      <td>0.00</td>\n",
       "      <td>0.01</td>\n",
       "      <td>0.23</td>\n",
       "      <td>62</td>\n",
       "      <td>5</td>\n",
       "      <td>E</td>\n",
       "    </tr>\n",
       "    <tr>\n",
       "      <td>7875</td>\n",
       "      <td>FIFA 14</td>\n",
       "      <td>PSP</td>\n",
       "      <td>2013</td>\n",
       "      <td>Sports</td>\n",
       "      <td>0.00</td>\n",
       "      <td>0.15</td>\n",
       "      <td>0.00</td>\n",
       "      <td>0.04</td>\n",
       "      <td>0.19</td>\n",
       "      <td>72</td>\n",
       "      <td>3</td>\n",
       "      <td>E</td>\n",
       "    </tr>\n",
       "  </tbody>\n",
       "</table>\n",
       "</div>"
      ],
      "text/plain": [
       "         name platform  year_of_release   genre  na_sales  eu_sales  jp_sales  \\\n",
       "126   FIFA 14      PS3             2013  Sports      0.78      4.24      0.07   \n",
       "271   FIFA 14     X360             2013  Sports      0.92      2.89      0.01   \n",
       "469   FIFA 14      PS4             2013  Sports      0.61      1.85      0.11   \n",
       "1753  FIFA 14     XOne             2013  Sports      0.41      0.66      0.00   \n",
       "4699  FIFA 14      PSV             2013  Sports      0.08      0.23      0.01   \n",
       "4809  FIFA 14       PC             2013  Sports      0.01      0.36      0.00   \n",
       "4985  FIFA 14      Wii             2013  Sports      0.00      0.36      0.00   \n",
       "6871  FIFA 14      3DS             2013  Sports      0.00      0.22      0.00   \n",
       "7875  FIFA 14      PSP             2013  Sports      0.00      0.15      0.00   \n",
       "\n",
       "      other_sales  total_sales  critic_score  user_score rating  \n",
       "126          1.37         6.46            86           4      E  \n",
       "271          0.40         4.22            84           4      E  \n",
       "469          0.44         3.01            87           6      E  \n",
       "1753         0.09         1.16            88           5      E  \n",
       "4699         0.09         0.41            72           1      E  \n",
       "4809         0.03         0.40            87           4      E  \n",
       "4985         0.02         0.38            63           4      E  \n",
       "6871         0.01         0.23            62           5      E  \n",
       "7875         0.04         0.19            72           3      E  "
      ]
     },
     "execution_count": 54,
     "metadata": {},
     "output_type": "execute_result"
    }
   ],
   "source": [
    "df_fifa14 = df[df[\"name\"] == \"FIFA 14\"]\n",
    "df_fifa14"
   ]
  },
  {
   "cell_type": "code",
   "execution_count": 55,
   "id": "9548ad86",
   "metadata": {},
   "outputs": [
    {
     "data": {
      "text/html": [
       "<div>\n",
       "<style scoped>\n",
       "    .dataframe tbody tr th:only-of-type {\n",
       "        vertical-align: middle;\n",
       "    }\n",
       "\n",
       "    .dataframe tbody tr th {\n",
       "        vertical-align: top;\n",
       "    }\n",
       "\n",
       "    .dataframe thead th {\n",
       "        text-align: right;\n",
       "    }\n",
       "</style>\n",
       "<table border=\"1\" class=\"dataframe\">\n",
       "  <thead>\n",
       "    <tr style=\"text-align: right;\">\n",
       "      <th></th>\n",
       "      <th>platform</th>\n",
       "      <th>total_sales</th>\n",
       "      <th>percent</th>\n",
       "    </tr>\n",
       "  </thead>\n",
       "  <tbody>\n",
       "    <tr>\n",
       "      <td>0</td>\n",
       "      <td>PS3</td>\n",
       "      <td>6.46</td>\n",
       "      <td>39.25</td>\n",
       "    </tr>\n",
       "    <tr>\n",
       "      <td>1</td>\n",
       "      <td>X360</td>\n",
       "      <td>4.22</td>\n",
       "      <td>25.63</td>\n",
       "    </tr>\n",
       "    <tr>\n",
       "      <td>2</td>\n",
       "      <td>PS4</td>\n",
       "      <td>3.01</td>\n",
       "      <td>18.29</td>\n",
       "    </tr>\n",
       "    <tr>\n",
       "      <td>3</td>\n",
       "      <td>XOne</td>\n",
       "      <td>1.16</td>\n",
       "      <td>7.05</td>\n",
       "    </tr>\n",
       "    <tr>\n",
       "      <td>4</td>\n",
       "      <td>PSV</td>\n",
       "      <td>0.41</td>\n",
       "      <td>2.49</td>\n",
       "    </tr>\n",
       "    <tr>\n",
       "      <td>5</td>\n",
       "      <td>PC</td>\n",
       "      <td>0.40</td>\n",
       "      <td>2.43</td>\n",
       "    </tr>\n",
       "    <tr>\n",
       "      <td>6</td>\n",
       "      <td>Wii</td>\n",
       "      <td>0.38</td>\n",
       "      <td>2.31</td>\n",
       "    </tr>\n",
       "    <tr>\n",
       "      <td>7</td>\n",
       "      <td>3DS</td>\n",
       "      <td>0.23</td>\n",
       "      <td>1.40</td>\n",
       "    </tr>\n",
       "    <tr>\n",
       "      <td>8</td>\n",
       "      <td>PSP</td>\n",
       "      <td>0.19</td>\n",
       "      <td>1.15</td>\n",
       "    </tr>\n",
       "  </tbody>\n",
       "</table>\n",
       "</div>"
      ],
      "text/plain": [
       "  platform  total_sales  percent\n",
       "0      PS3         6.46    39.25\n",
       "1     X360         4.22    25.63\n",
       "2      PS4         3.01    18.29\n",
       "3     XOne         1.16     7.05\n",
       "4      PSV         0.41     2.49\n",
       "5       PC         0.40     2.43\n",
       "6      Wii         0.38     2.31\n",
       "7      3DS         0.23     1.40\n",
       "8      PSP         0.19     1.15"
      ]
     },
     "execution_count": 55,
     "metadata": {},
     "output_type": "execute_result"
    }
   ],
   "source": [
    "df_fifa14 = df_fifa14[[\"platform\", \"total_sales\"]]\n",
    "df_fifa14.stb.freq([\"platform\"], value=\"total_sales\",\n",
    "                   cum_cols=False, style=False)"
   ]
  },
  {
   "cell_type": "code",
   "execution_count": 56,
   "id": "309cb1bd",
   "metadata": {},
   "outputs": [
    {
     "data": {
      "image/png": "[encoded data removed]",
      "text/plain": [
       "<Figure size 1224x720 with 1 Axes>"
      ]
     },
     "metadata": {
      "needs_background": "light"
     },
     "output_type": "display_data"
    }
   ],
   "source": [
    "fig, ax = plt.subplots(figsize=(17, 10))\n",
    "ax.vlines(x=df_fifa14[\"platform\"], ymin=0, ymax=df_fifa14[\"total_sales\"],\n",
    "          color=\"blue\", alpha=0.75, linewidth=25)\n",
    "ax.set_title(\"FIFA 14 Sales across platform\", fontdict={\"size\": 24})\n",
    "ax.set_ylabel(\"Total sales (Mil. USD)\", fontdict={\"size\": 16})\n",
    "ax.set_xlabel(\"Platform\", fontdict={\"size\": 16})\n",
    "ax.set_xticks(df_fifa14[\"platform\"])\n",
    "ax.set_xticklabels(df_fifa14[\"platform\"], rotation=60)\n",
    "\n",
    "for row in df_fifa14.itertuples():\n",
    "    ax.text(row.platform, row.total_sales + 0.15, s=round(row.total_sales, 2))"
   ]
  },
  {
   "cell_type": "markdown",
   "id": "f543a104",
   "metadata": {},
   "source": [
    "**conclusion**: Most sales made on ***PS3***, ***X360*** and ***PS4***  platform. the lower sales made on ***PSP, 3DS, Wii*** and PC"
   ]
  },
  {
   "cell_type": "markdown",
   "id": "678df629",
   "metadata": {},
   "source": [
    "<div class=\"alert alert-success\" role=\"alert\">\n",
    "Reviewer's comment v. 2:\n",
    "    \n",
    "Yes, the most profitable platforms are correctly defined.\n",
    "</div>"
   ]
  },
  {
   "cell_type": "markdown",
   "id": "f5c48731",
   "metadata": {},
   "source": [
    "## Genre profit"
   ]
  },
  {
   "cell_type": "markdown",
   "id": "c1ef05dc",
   "metadata": {},
   "source": [
    "### Average profit per game per genre"
   ]
  },
  {
   "cell_type": "code",
   "execution_count": 57,
   "id": "29673487",
   "metadata": {},
   "outputs": [
    {
     "data": {
      "text/html": [
       "<div>\n",
       "<style scoped>\n",
       "    .dataframe tbody tr th:only-of-type {\n",
       "        vertical-align: middle;\n",
       "    }\n",
       "\n",
       "    .dataframe tbody tr th {\n",
       "        vertical-align: top;\n",
       "    }\n",
       "\n",
       "    .dataframe thead th {\n",
       "        text-align: right;\n",
       "    }\n",
       "</style>\n",
       "<table border=\"1\" class=\"dataframe\">\n",
       "  <thead>\n",
       "    <tr style=\"text-align: right;\">\n",
       "      <th></th>\n",
       "      <th>genre</th>\n",
       "      <th>name</th>\n",
       "      <th>total_sales</th>\n",
       "      <th>sales_per_game</th>\n",
       "    </tr>\n",
       "  </thead>\n",
       "  <tbody>\n",
       "    <tr>\n",
       "      <td>1</td>\n",
       "      <td>Adventure</td>\n",
       "      <td>245</td>\n",
       "      <td>23.64</td>\n",
       "      <td>0.10</td>\n",
       "    </tr>\n",
       "    <tr>\n",
       "      <td>11</td>\n",
       "      <td>Strategy</td>\n",
       "      <td>56</td>\n",
       "      <td>10.08</td>\n",
       "      <td>0.18</td>\n",
       "    </tr>\n",
       "    <tr>\n",
       "      <td>5</td>\n",
       "      <td>Puzzle</td>\n",
       "      <td>17</td>\n",
       "      <td>3.17</td>\n",
       "      <td>0.19</td>\n",
       "    </tr>\n",
       "    <tr>\n",
       "      <td>9</td>\n",
       "      <td>Simulation</td>\n",
       "      <td>62</td>\n",
       "      <td>21.76</td>\n",
       "      <td>0.35</td>\n",
       "    </tr>\n",
       "    <tr>\n",
       "      <td>3</td>\n",
       "      <td>Misc</td>\n",
       "      <td>155</td>\n",
       "      <td>62.82</td>\n",
       "      <td>0.41</td>\n",
       "    </tr>\n",
       "    <tr>\n",
       "      <td>0</td>\n",
       "      <td>Action</td>\n",
       "      <td>766</td>\n",
       "      <td>321.86</td>\n",
       "      <td>0.42</td>\n",
       "    </tr>\n",
       "    <tr>\n",
       "      <td>2</td>\n",
       "      <td>Fighting</td>\n",
       "      <td>80</td>\n",
       "      <td>35.31</td>\n",
       "      <td>0.44</td>\n",
       "    </tr>\n",
       "    <tr>\n",
       "      <td>6</td>\n",
       "      <td>Racing</td>\n",
       "      <td>85</td>\n",
       "      <td>39.89</td>\n",
       "      <td>0.47</td>\n",
       "    </tr>\n",
       "    <tr>\n",
       "      <td>7</td>\n",
       "      <td>Role-Playing</td>\n",
       "      <td>292</td>\n",
       "      <td>145.89</td>\n",
       "      <td>0.50</td>\n",
       "    </tr>\n",
       "    <tr>\n",
       "      <td>4</td>\n",
       "      <td>Platform</td>\n",
       "      <td>74</td>\n",
       "      <td>42.63</td>\n",
       "      <td>0.58</td>\n",
       "    </tr>\n",
       "    <tr>\n",
       "      <td>10</td>\n",
       "      <td>Sports</td>\n",
       "      <td>214</td>\n",
       "      <td>150.65</td>\n",
       "      <td>0.70</td>\n",
       "    </tr>\n",
       "    <tr>\n",
       "      <td>8</td>\n",
       "      <td>Shooter</td>\n",
       "      <td>187</td>\n",
       "      <td>232.99</td>\n",
       "      <td>1.25</td>\n",
       "    </tr>\n",
       "  </tbody>\n",
       "</table>\n",
       "</div>"
      ],
      "text/plain": [
       "           genre  name  total_sales  sales_per_game\n",
       "1      Adventure   245        23.64            0.10\n",
       "11      Strategy    56        10.08            0.18\n",
       "5         Puzzle    17         3.17            0.19\n",
       "9     Simulation    62        21.76            0.35\n",
       "3           Misc   155        62.82            0.41\n",
       "0         Action   766       321.86            0.42\n",
       "2       Fighting    80        35.31            0.44\n",
       "6         Racing    85        39.89            0.47\n",
       "7   Role-Playing   292       145.89            0.50\n",
       "4       Platform    74        42.63            0.58\n",
       "10        Sports   214       150.65            0.70\n",
       "8        Shooter   187       232.99            1.25"
      ]
     },
     "execution_count": 57,
     "metadata": {},
     "output_type": "execute_result"
    }
   ],
   "source": [
    "df_by_ganre = df_new.groupby([\"genre\"])[\"name\"].count().to_frame()\n",
    "df_by_ganre1 = df_new.groupby([\"genre\"])[\"total_sales\"].sum()\n",
    "df_by_ganre = df_by_ganre.join(df_by_ganre1).reset_index()\n",
    "df_by_ganre[\"sales_per_game\"] = df_by_ganre[\"total_sales\"]/df_by_ganre[\"name\"]\n",
    "df_by_ganre = df_by_ganre.sort_values(by=\"sales_per_game\")\n",
    "df_by_ganre"
   ]
  },
  {
   "cell_type": "code",
   "execution_count": 58,
   "id": "f83f243d",
   "metadata": {},
   "outputs": [
    {
     "data": {
      "image/png": "[encoded data removed]",
      "text/plain": [
       "<Figure size 1224x720 with 1 Axes>"
      ]
     },
     "metadata": {
      "needs_background": "light"
     },
     "output_type": "display_data"
    }
   ],
   "source": [
    "fig, ax = plt.subplots(figsize=(17, 10))\n",
    "ax.vlines(x=df_by_ganre[\"genre\"], ymin=0, ymax=df_by_ganre[\"sales_per_game\"],\n",
    "          color=\"firebrick\", alpha=0.75, linewidth=25)\n",
    "ax.set_title(\"Mean Sale for a Game in Genre\", fontdict={\"size\": 24})\n",
    "ax.set_ylabel(\"Mean Sales for One game (Mil. USD)\", fontdict={\"size\": 16})\n",
    "ax.set_xlabel(\"Genre\", fontdict={\"size\": 16})\n",
    "ax.set_xticks(df_by_ganre[\"genre\"])\n",
    "ax.set_xticklabels(df_by_ganre[\"genre\"], rotation=60)\n",
    "\n",
    "for row in df_by_ganre.itertuples():\n",
    "    ax.text(row.genre, row.sales_per_game + 0.015, s=round(row.total_sales, 2))"
   ]
  },
  {
   "cell_type": "markdown",
   "id": "9bb87edc",
   "metadata": {},
   "source": [
    "### Total profit of genres"
   ]
  },
  {
   "cell_type": "code",
   "execution_count": 59,
   "id": "6fd2ad26",
   "metadata": {},
   "outputs": [
    {
     "data": {
      "image/png": "[encoded data removed]",
      "text/plain": [
       "<Figure size 1224x720 with 1 Axes>"
      ]
     },
     "metadata": {
      "needs_background": "light"
     },
     "output_type": "display_data"
    }
   ],
   "source": [
    "df_by_ganre = df_by_ganre.sort_values(by=\"total_sales\")\n",
    "fig, ax = plt.subplots(figsize=(17, 10))\n",
    "ax.vlines(x=df_by_ganre[\"genre\"], ymin=0, ymax=df_by_ganre[\"total_sales\"],\n",
    "          color=\"goldenrod\", alpha=0.75, linewidth=25)\n",
    "ax.set_title(\"Sales of total Games in Genre\", fontdict={\"size\": 24})\n",
    "ax.set_ylabel(\"Total Sales (Mil. USD)\", fontdict={\"size\": 16})\n",
    "ax.set_xlabel(\"Genre\", fontdict={\"size\": 16})\n",
    "ax.set_xticks(df_by_ganre[\"genre\"])\n",
    "ax.set_xticklabels(df_by_ganre[\"genre\"], rotation=60)\n",
    "\n",
    "for row in df_by_ganre.itertuples():\n",
    "    ax.text(row.genre, row.total_sales + 5, s=round(row.total_sales, 2))"
   ]
  },
  {
   "cell_type": "markdown",
   "id": "799da288",
   "metadata": {},
   "source": [
    "**Conclusion**\n",
    "- The best seller genre in sales per game is \"Shooter\", \"Sports\" and \"Platform\" follow \n",
    "- The looser genre in sales per game is \"Adventure\", \"Strategy\" and \"Puzzle\" follow\n",
    "- In total, \"Action\" genre sold the highest total, \"Shooter\" and \"sports\" follow\n",
    "- In total, \"Puzzle\" genre sold the lowest total, \"Strategy\" and \"Simulation\" follow.\n",
    "- The sale of the entire genre gives wrong insight. We should look at sales per game."
   ]
  },
  {
   "cell_type": "markdown",
   "id": "a543513c",
   "metadata": {},
   "source": [
    "<div class=\"alert alert-warning\" role=\"alert\">\n",
    "Reviewer's comment v. 2:\n",
    "    \n",
    "Yes, you correctly defined the most popular genres. But it will be better to explain these preferences.\n",
    "</div>"
   ]
  },
  {
   "cell_type": "markdown",
   "id": "7ae878c0",
   "metadata": {},
   "source": [
    "# user profile for each region"
   ]
  },
  {
   "cell_type": "markdown",
   "id": "6dcde4af",
   "metadata": {},
   "source": [
    "## The top five platforms. Variations in their market shares from region to region."
   ]
  },
  {
   "cell_type": "markdown",
   "id": "9c3bd057",
   "metadata": {},
   "source": [
    "Top 5 platform in **North America** sales"
   ]
  },
  {
   "cell_type": "code",
   "execution_count": 60,
   "id": "0dbcb875",
   "metadata": {},
   "outputs": [
    {
     "data": {
      "text/html": [
       "<div>\n",
       "<style scoped>\n",
       "    .dataframe tbody tr th:only-of-type {\n",
       "        vertical-align: middle;\n",
       "    }\n",
       "\n",
       "    .dataframe tbody tr th {\n",
       "        vertical-align: top;\n",
       "    }\n",
       "\n",
       "    .dataframe thead th {\n",
       "        text-align: right;\n",
       "    }\n",
       "</style>\n",
       "<table border=\"1\" class=\"dataframe\">\n",
       "  <thead>\n",
       "    <tr style=\"text-align: right;\">\n",
       "      <th></th>\n",
       "      <th>na_sales</th>\n",
       "    </tr>\n",
       "    <tr>\n",
       "      <th>platform</th>\n",
       "      <th></th>\n",
       "    </tr>\n",
       "  </thead>\n",
       "  <tbody>\n",
       "    <tr>\n",
       "      <td>PS4</td>\n",
       "      <td>108.75</td>\n",
       "    </tr>\n",
       "    <tr>\n",
       "      <td>XOne</td>\n",
       "      <td>93.12</td>\n",
       "    </tr>\n",
       "    <tr>\n",
       "      <td>X360</td>\n",
       "      <td>81.62</td>\n",
       "    </tr>\n",
       "    <tr>\n",
       "      <td>PS3</td>\n",
       "      <td>63.50</td>\n",
       "    </tr>\n",
       "    <tr>\n",
       "      <td>3DS</td>\n",
       "      <td>38.22</td>\n",
       "    </tr>\n",
       "  </tbody>\n",
       "</table>\n",
       "</div>"
      ],
      "text/plain": [
       "          na_sales\n",
       "platform          \n",
       "PS4         108.75\n",
       "XOne         93.12\n",
       "X360         81.62\n",
       "PS3          63.50\n",
       "3DS          38.22"
      ]
     },
     "execution_count": 60,
     "metadata": {},
     "output_type": "execute_result"
    }
   ],
   "source": [
    "df_new.groupby([\"platform\"])[\"na_sales\"].sum(\n",
    ").to_frame().nlargest(5, [\"na_sales\"])"
   ]
  },
  {
   "cell_type": "markdown",
   "id": "68e942d7",
   "metadata": {},
   "source": [
    "Top 5 platform in **Europe** sales"
   ]
  },
  {
   "cell_type": "code",
   "execution_count": 61,
   "id": "4b72f507",
   "metadata": {},
   "outputs": [
    {
     "data": {
      "text/html": [
       "<div>\n",
       "<style scoped>\n",
       "    .dataframe tbody tr th:only-of-type {\n",
       "        vertical-align: middle;\n",
       "    }\n",
       "\n",
       "    .dataframe tbody tr th {\n",
       "        vertical-align: top;\n",
       "    }\n",
       "\n",
       "    .dataframe thead th {\n",
       "        text-align: right;\n",
       "    }\n",
       "</style>\n",
       "<table border=\"1\" class=\"dataframe\">\n",
       "  <thead>\n",
       "    <tr style=\"text-align: right;\">\n",
       "      <th></th>\n",
       "      <th>eu_sales</th>\n",
       "    </tr>\n",
       "    <tr>\n",
       "      <th>platform</th>\n",
       "      <th></th>\n",
       "    </tr>\n",
       "  </thead>\n",
       "  <tbody>\n",
       "    <tr>\n",
       "      <td>PS4</td>\n",
       "      <td>141.12</td>\n",
       "    </tr>\n",
       "    <tr>\n",
       "      <td>PS3</td>\n",
       "      <td>67.81</td>\n",
       "    </tr>\n",
       "    <tr>\n",
       "      <td>XOne</td>\n",
       "      <td>51.59</td>\n",
       "    </tr>\n",
       "    <tr>\n",
       "      <td>X360</td>\n",
       "      <td>42.53</td>\n",
       "    </tr>\n",
       "    <tr>\n",
       "      <td>3DS</td>\n",
       "      <td>30.95</td>\n",
       "    </tr>\n",
       "  </tbody>\n",
       "</table>\n",
       "</div>"
      ],
      "text/plain": [
       "          eu_sales\n",
       "platform          \n",
       "PS4         141.12\n",
       "PS3          67.81\n",
       "XOne         51.59\n",
       "X360         42.53\n",
       "3DS          30.95"
      ]
     },
     "execution_count": 61,
     "metadata": {},
     "output_type": "execute_result"
    }
   ],
   "source": [
    "df_new.groupby([\"platform\"])[\"eu_sales\"].sum(\n",
    ").to_frame().nlargest(5, [\"eu_sales\"])"
   ]
  },
  {
   "cell_type": "markdown",
   "id": "ca0345d5",
   "metadata": {},
   "source": [
    "Top 5 platform in **Japan** sales"
   ]
  },
  {
   "cell_type": "code",
   "execution_count": 62,
   "id": "ee6e93a7",
   "metadata": {},
   "outputs": [
    {
     "data": {
      "text/html": [
       "<div>\n",
       "<style scoped>\n",
       "    .dataframe tbody tr th:only-of-type {\n",
       "        vertical-align: middle;\n",
       "    }\n",
       "\n",
       "    .dataframe tbody tr th {\n",
       "        vertical-align: top;\n",
       "    }\n",
       "\n",
       "    .dataframe thead th {\n",
       "        text-align: right;\n",
       "    }\n",
       "</style>\n",
       "<table border=\"1\" class=\"dataframe\">\n",
       "  <thead>\n",
       "    <tr style=\"text-align: right;\">\n",
       "      <th></th>\n",
       "      <th>jp_sales</th>\n",
       "    </tr>\n",
       "    <tr>\n",
       "      <th>platform</th>\n",
       "      <th></th>\n",
       "    </tr>\n",
       "  </thead>\n",
       "  <tbody>\n",
       "    <tr>\n",
       "      <td>3DS</td>\n",
       "      <td>67.81</td>\n",
       "    </tr>\n",
       "    <tr>\n",
       "      <td>PS3</td>\n",
       "      <td>23.34</td>\n",
       "    </tr>\n",
       "    <tr>\n",
       "      <td>PSV</td>\n",
       "      <td>18.59</td>\n",
       "    </tr>\n",
       "    <tr>\n",
       "      <td>PS4</td>\n",
       "      <td>15.96</td>\n",
       "    </tr>\n",
       "    <tr>\n",
       "      <td>WiiU</td>\n",
       "      <td>10.88</td>\n",
       "    </tr>\n",
       "  </tbody>\n",
       "</table>\n",
       "</div>"
      ],
      "text/plain": [
       "          jp_sales\n",
       "platform          \n",
       "3DS          67.81\n",
       "PS3          23.34\n",
       "PSV          18.59\n",
       "PS4          15.96\n",
       "WiiU         10.88"
      ]
     },
     "execution_count": 62,
     "metadata": {},
     "output_type": "execute_result"
    }
   ],
   "source": [
    "df_new.groupby([\"platform\"])[\"jp_sales\"].sum(\n",
    ").to_frame().nlargest(5, [\"jp_sales\"])"
   ]
  },
  {
   "cell_type": "markdown",
   "id": "c6495640",
   "metadata": {},
   "source": [
    "Displaying the top five platforms in each region"
   ]
  },
  {
   "cell_type": "code",
   "execution_count": 63,
   "id": "509e631f",
   "metadata": {},
   "outputs": [],
   "source": [
    "df_n = df_new.groupby([\"platform\"])[\"na_sales\"].sum(\n",
    ").to_frame().nlargest(5, [\"na_sales\"]).reset_index().T\n",
    "df_e = df_new.groupby([\"platform\"])[\"eu_sales\"].sum(\n",
    ").to_frame().nlargest(5, [\"eu_sales\"]).reset_index().T\n",
    "df_j = df_new.groupby([\"platform\"])[\"jp_sales\"].sum(\n",
    ").to_frame().nlargest(5, [\"jp_sales\"]).reset_index().T"
   ]
  },
  {
   "cell_type": "code",
   "execution_count": 64,
   "id": "397f33cb",
   "metadata": {},
   "outputs": [
    {
     "data": {
      "text/html": [
       "<div>\n",
       "<style scoped>\n",
       "    .dataframe tbody tr th:only-of-type {\n",
       "        vertical-align: middle;\n",
       "    }\n",
       "\n",
       "    .dataframe tbody tr th {\n",
       "        vertical-align: top;\n",
       "    }\n",
       "\n",
       "    .dataframe thead th {\n",
       "        text-align: right;\n",
       "    }\n",
       "</style>\n",
       "<table border=\"1\" class=\"dataframe\">\n",
       "  <thead>\n",
       "    <tr style=\"text-align: right;\">\n",
       "      <th></th>\n",
       "      <th>0</th>\n",
       "      <th>1</th>\n",
       "      <th>2</th>\n",
       "      <th>3</th>\n",
       "      <th>4</th>\n",
       "    </tr>\n",
       "  </thead>\n",
       "  <tbody>\n",
       "    <tr>\n",
       "      <td>platform</td>\n",
       "      <td>PS4</td>\n",
       "      <td>XOne</td>\n",
       "      <td>X360</td>\n",
       "      <td>PS3</td>\n",
       "      <td>3DS</td>\n",
       "    </tr>\n",
       "    <tr>\n",
       "      <td>na_sales</td>\n",
       "      <td>108.75</td>\n",
       "      <td>93.12</td>\n",
       "      <td>81.62</td>\n",
       "      <td>63.50</td>\n",
       "      <td>38.22</td>\n",
       "    </tr>\n",
       "  </tbody>\n",
       "</table>\n",
       "</div>"
      ],
      "text/plain": [
       "              0     1     2     3     4\n",
       "platform    PS4  XOne  X360   PS3   3DS\n",
       "na_sales 108.75 93.12 81.62 63.50 38.22"
      ]
     },
     "metadata": {},
     "output_type": "display_data"
    },
    {
     "data": {
      "text/html": [
       "<div>\n",
       "<style scoped>\n",
       "    .dataframe tbody tr th:only-of-type {\n",
       "        vertical-align: middle;\n",
       "    }\n",
       "\n",
       "    .dataframe tbody tr th {\n",
       "        vertical-align: top;\n",
       "    }\n",
       "\n",
       "    .dataframe thead th {\n",
       "        text-align: right;\n",
       "    }\n",
       "</style>\n",
       "<table border=\"1\" class=\"dataframe\">\n",
       "  <thead>\n",
       "    <tr style=\"text-align: right;\">\n",
       "      <th></th>\n",
       "      <th>0</th>\n",
       "      <th>1</th>\n",
       "      <th>2</th>\n",
       "      <th>3</th>\n",
       "      <th>4</th>\n",
       "    </tr>\n",
       "  </thead>\n",
       "  <tbody>\n",
       "    <tr>\n",
       "      <td>platform</td>\n",
       "      <td>PS4</td>\n",
       "      <td>PS3</td>\n",
       "      <td>XOne</td>\n",
       "      <td>X360</td>\n",
       "      <td>3DS</td>\n",
       "    </tr>\n",
       "    <tr>\n",
       "      <td>eu_sales</td>\n",
       "      <td>141.12</td>\n",
       "      <td>67.81</td>\n",
       "      <td>51.59</td>\n",
       "      <td>42.53</td>\n",
       "      <td>30.95</td>\n",
       "    </tr>\n",
       "  </tbody>\n",
       "</table>\n",
       "</div>"
      ],
      "text/plain": [
       "              0     1     2     3     4\n",
       "platform    PS4   PS3  XOne  X360   3DS\n",
       "eu_sales 141.12 67.81 51.59 42.53 30.95"
      ]
     },
     "metadata": {},
     "output_type": "display_data"
    },
    {
     "data": {
      "text/html": [
       "<div>\n",
       "<style scoped>\n",
       "    .dataframe tbody tr th:only-of-type {\n",
       "        vertical-align: middle;\n",
       "    }\n",
       "\n",
       "    .dataframe tbody tr th {\n",
       "        vertical-align: top;\n",
       "    }\n",
       "\n",
       "    .dataframe thead th {\n",
       "        text-align: right;\n",
       "    }\n",
       "</style>\n",
       "<table border=\"1\" class=\"dataframe\">\n",
       "  <thead>\n",
       "    <tr style=\"text-align: right;\">\n",
       "      <th></th>\n",
       "      <th>0</th>\n",
       "      <th>1</th>\n",
       "      <th>2</th>\n",
       "      <th>3</th>\n",
       "      <th>4</th>\n",
       "    </tr>\n",
       "  </thead>\n",
       "  <tbody>\n",
       "    <tr>\n",
       "      <td>platform</td>\n",
       "      <td>3DS</td>\n",
       "      <td>PS3</td>\n",
       "      <td>PSV</td>\n",
       "      <td>PS4</td>\n",
       "      <td>WiiU</td>\n",
       "    </tr>\n",
       "    <tr>\n",
       "      <td>jp_sales</td>\n",
       "      <td>67.81</td>\n",
       "      <td>23.34</td>\n",
       "      <td>18.59</td>\n",
       "      <td>15.96</td>\n",
       "      <td>10.88</td>\n",
       "    </tr>\n",
       "  </tbody>\n",
       "</table>\n",
       "</div>"
      ],
      "text/plain": [
       "             0     1     2     3     4\n",
       "platform   3DS   PS3   PSV   PS4  WiiU\n",
       "jp_sales 67.81 23.34 18.59 15.96 10.88"
      ]
     },
     "metadata": {},
     "output_type": "display_data"
    }
   ],
   "source": [
    "display(df_n)\n",
    "display(df_e)\n",
    "display(df_j)"
   ]
  },
  {
   "cell_type": "markdown",
   "id": "881bd950",
   "metadata": {},
   "source": [
    "The top five platform in North America and in Europe are identical, only there order are different. These are:\n",
    "- PS4\n",
    "- XOne\n",
    "- X360\n",
    "- PS3\n",
    "- 3DS\n",
    "In Japan there are other popular platforms. as in NA and EU there are PS4, PS3 and 3DS. Plus two platforms PSV and WiiU. these platform aren't most popular in Japan: XOne and X360"
   ]
  },
  {
   "cell_type": "markdown",
   "id": "b73e4e08",
   "metadata": {},
   "source": [
    "<div class=\"alert alert-success\" role=\"alert\">\n",
    "Reviewer's comment v. 2:\n",
    "    \n",
    "An excellent analysis :)\n",
    "</div>"
   ]
  },
  {
   "cell_type": "markdown",
   "id": "fc1b7c52",
   "metadata": {},
   "source": [
    "## The top five genre. Variations in their market shares from region to region."
   ]
  },
  {
   "cell_type": "code",
   "execution_count": 65,
   "id": "4e86d649",
   "metadata": {},
   "outputs": [],
   "source": [
    "df_n = df_new.groupby([\"genre\"])[\"na_sales\"].sum(\n",
    ").to_frame().nlargest(5, [\"na_sales\"]).reset_index().T\n",
    "df_e = df_new.groupby([\"genre\"])[\"eu_sales\"].sum(\n",
    ").to_frame().nlargest(5, [\"eu_sales\"]).reset_index().T\n",
    "df_j = df_new.groupby([\"genre\"])[\"jp_sales\"].sum(\n",
    ").to_frame().nlargest(5, [\"jp_sales\"]).reset_index().T"
   ]
  },
  {
   "cell_type": "code",
   "execution_count": 66,
   "id": "48543be5",
   "metadata": {},
   "outputs": [
    {
     "data": {
      "text/html": [
       "<div>\n",
       "<style scoped>\n",
       "    .dataframe tbody tr th:only-of-type {\n",
       "        vertical-align: middle;\n",
       "    }\n",
       "\n",
       "    .dataframe tbody tr th {\n",
       "        vertical-align: top;\n",
       "    }\n",
       "\n",
       "    .dataframe thead th {\n",
       "        text-align: right;\n",
       "    }\n",
       "</style>\n",
       "<table border=\"1\" class=\"dataframe\">\n",
       "  <thead>\n",
       "    <tr style=\"text-align: right;\">\n",
       "      <th></th>\n",
       "      <th>0</th>\n",
       "      <th>1</th>\n",
       "      <th>2</th>\n",
       "      <th>3</th>\n",
       "      <th>4</th>\n",
       "    </tr>\n",
       "  </thead>\n",
       "  <tbody>\n",
       "    <tr>\n",
       "      <td>genre</td>\n",
       "      <td>Action</td>\n",
       "      <td>Shooter</td>\n",
       "      <td>Sports</td>\n",
       "      <td>Role-Playing</td>\n",
       "      <td>Misc</td>\n",
       "    </tr>\n",
       "    <tr>\n",
       "      <td>na_sales</td>\n",
       "      <td>126.06</td>\n",
       "      <td>109.75</td>\n",
       "      <td>65.25</td>\n",
       "      <td>46.41</td>\n",
       "      <td>27.48</td>\n",
       "    </tr>\n",
       "  </tbody>\n",
       "</table>\n",
       "</div>"
      ],
      "text/plain": [
       "               0        1       2             3     4\n",
       "genre     Action  Shooter  Sports  Role-Playing  Misc\n",
       "na_sales  126.06   109.75   65.25         46.41 27.48"
      ]
     },
     "metadata": {},
     "output_type": "display_data"
    },
    {
     "data": {
      "text/html": [
       "<div>\n",
       "<style scoped>\n",
       "    .dataframe tbody tr th:only-of-type {\n",
       "        vertical-align: middle;\n",
       "    }\n",
       "\n",
       "    .dataframe tbody tr th {\n",
       "        vertical-align: top;\n",
       "    }\n",
       "\n",
       "    .dataframe thead th {\n",
       "        text-align: right;\n",
       "    }\n",
       "</style>\n",
       "<table border=\"1\" class=\"dataframe\">\n",
       "  <thead>\n",
       "    <tr style=\"text-align: right;\">\n",
       "      <th></th>\n",
       "      <th>0</th>\n",
       "      <th>1</th>\n",
       "      <th>2</th>\n",
       "      <th>3</th>\n",
       "      <th>4</th>\n",
       "    </tr>\n",
       "  </thead>\n",
       "  <tbody>\n",
       "    <tr>\n",
       "      <td>genre</td>\n",
       "      <td>Action</td>\n",
       "      <td>Shooter</td>\n",
       "      <td>Sports</td>\n",
       "      <td>Role-Playing</td>\n",
       "      <td>Racing</td>\n",
       "    </tr>\n",
       "    <tr>\n",
       "      <td>eu_sales</td>\n",
       "      <td>118.12</td>\n",
       "      <td>87.88</td>\n",
       "      <td>60.53</td>\n",
       "      <td>36.97</td>\n",
       "      <td>20.19</td>\n",
       "    </tr>\n",
       "  </tbody>\n",
       "</table>\n",
       "</div>"
      ],
      "text/plain": [
       "               0        1       2             3       4\n",
       "genre     Action  Shooter  Sports  Role-Playing  Racing\n",
       "eu_sales  118.12    87.88   60.53         36.97   20.19"
      ]
     },
     "metadata": {},
     "output_type": "display_data"
    },
    {
     "data": {
      "text/html": [
       "<div>\n",
       "<style scoped>\n",
       "    .dataframe tbody tr th:only-of-type {\n",
       "        vertical-align: middle;\n",
       "    }\n",
       "\n",
       "    .dataframe tbody tr th {\n",
       "        vertical-align: top;\n",
       "    }\n",
       "\n",
       "    .dataframe thead th {\n",
       "        text-align: right;\n",
       "    }\n",
       "</style>\n",
       "<table border=\"1\" class=\"dataframe\">\n",
       "  <thead>\n",
       "    <tr style=\"text-align: right;\">\n",
       "      <th></th>\n",
       "      <th>0</th>\n",
       "      <th>1</th>\n",
       "      <th>2</th>\n",
       "      <th>3</th>\n",
       "      <th>4</th>\n",
       "    </tr>\n",
       "  </thead>\n",
       "  <tbody>\n",
       "    <tr>\n",
       "      <td>genre</td>\n",
       "      <td>Role-Playing</td>\n",
       "      <td>Action</td>\n",
       "      <td>Misc</td>\n",
       "      <td>Fighting</td>\n",
       "      <td>Shooter</td>\n",
       "    </tr>\n",
       "    <tr>\n",
       "      <td>jp_sales</td>\n",
       "      <td>51.03</td>\n",
       "      <td>40.50</td>\n",
       "      <td>9.20</td>\n",
       "      <td>7.65</td>\n",
       "      <td>6.61</td>\n",
       "    </tr>\n",
       "  </tbody>\n",
       "</table>\n",
       "</div>"
      ],
      "text/plain": [
       "                     0       1     2         3        4\n",
       "genre     Role-Playing  Action  Misc  Fighting  Shooter\n",
       "jp_sales         51.03   40.50  9.20      7.65     6.61"
      ]
     },
     "metadata": {},
     "output_type": "display_data"
    }
   ],
   "source": [
    "display(df_n)\n",
    "display(df_e)\n",
    "display(df_j)"
   ]
  },
  {
   "cell_type": "markdown",
   "id": "c6306334",
   "metadata": {},
   "source": [
    "The top five genre in North America and in Europe are almost identical, the order is almost the same. These are:\n",
    "- Action  \n",
    "- Shooter\n",
    "- Sports\n",
    "- Role-Playing\n",
    "- NA: Misc / Eu: Racing\n",
    "In Japan the order of genre is different. \n",
    "**conclusion** The genre in North America and in Europe are almost identical while in Japan is totally different. It may connect to the fact the the culture in Japan is different, the players are influenced mainly by the culture and history of the country and while north America and Europe share similar culture, in Japan it is totally different."
   ]
  },
  {
   "cell_type": "markdown",
   "id": "cc9ded8b",
   "metadata": {},
   "source": [
    "<div class=\"alert alert-warning\" role=\"alert\">\n",
    "Reviewer's comment v. 1:\n",
    "    \n",
    "Could you please explain the possible reason of similarities and differences in preferences in these regions?\n",
    "</div>"
   ]
  },
  {
   "cell_type": "markdown",
   "id": "6bff9a5d",
   "metadata": {},
   "source": [
    "<div class=\"alert alert-success\" role=\"alert\">\n",
    "Reviewer's comment v. 2:\n",
    "    \n",
    "Yes, it can be connected with cultural differences between these regions.\n",
    "</div>"
   ]
  },
  {
   "cell_type": "markdown",
   "id": "df73aba2",
   "metadata": {},
   "source": [
    "## Correlation between ESRB ratings and sales in individual regions"
   ]
  },
  {
   "cell_type": "code",
   "execution_count": 67,
   "id": "e3b7b71b",
   "metadata": {},
   "outputs": [
    {
     "data": {
      "text/html": [
       "<div>\n",
       "<style scoped>\n",
       "    .dataframe tbody tr th:only-of-type {\n",
       "        vertical-align: middle;\n",
       "    }\n",
       "\n",
       "    .dataframe tbody tr th {\n",
       "        vertical-align: top;\n",
       "    }\n",
       "\n",
       "    .dataframe thead th {\n",
       "        text-align: right;\n",
       "    }\n",
       "</style>\n",
       "<table border=\"1\" class=\"dataframe\">\n",
       "  <thead>\n",
       "    <tr style=\"text-align: right;\">\n",
       "      <th></th>\n",
       "      <th>name</th>\n",
       "      <th>platform</th>\n",
       "      <th>year_of_release</th>\n",
       "      <th>genre</th>\n",
       "      <th>na_sales</th>\n",
       "      <th>eu_sales</th>\n",
       "      <th>jp_sales</th>\n",
       "      <th>other_sales</th>\n",
       "      <th>total_sales</th>\n",
       "      <th>critic_score</th>\n",
       "      <th>user_score</th>\n",
       "      <th>rating</th>\n",
       "    </tr>\n",
       "  </thead>\n",
       "  <tbody>\n",
       "    <tr>\n",
       "      <td>16</td>\n",
       "      <td>Grand Theft Auto V</td>\n",
       "      <td>PS3</td>\n",
       "      <td>2013</td>\n",
       "      <td>Action</td>\n",
       "      <td>7.02</td>\n",
       "      <td>9.09</td>\n",
       "      <td>0.98</td>\n",
       "      <td>3.96</td>\n",
       "      <td>21.05</td>\n",
       "      <td>97</td>\n",
       "      <td>8</td>\n",
       "      <td>M</td>\n",
       "    </tr>\n",
       "    <tr>\n",
       "      <td>23</td>\n",
       "      <td>Grand Theft Auto V</td>\n",
       "      <td>X360</td>\n",
       "      <td>2013</td>\n",
       "      <td>Action</td>\n",
       "      <td>9.66</td>\n",
       "      <td>5.14</td>\n",
       "      <td>0.06</td>\n",
       "      <td>1.41</td>\n",
       "      <td>16.27</td>\n",
       "      <td>97</td>\n",
       "      <td>8</td>\n",
       "      <td>M</td>\n",
       "    </tr>\n",
       "    <tr>\n",
       "      <td>31</td>\n",
       "      <td>Call of Duty: Black Ops 3</td>\n",
       "      <td>PS4</td>\n",
       "      <td>2015</td>\n",
       "      <td>Shooter</td>\n",
       "      <td>6.03</td>\n",
       "      <td>5.86</td>\n",
       "      <td>0.36</td>\n",
       "      <td>2.38</td>\n",
       "      <td>14.63</td>\n",
       "      <td>75</td>\n",
       "      <td>6</td>\n",
       "      <td>M</td>\n",
       "    </tr>\n",
       "    <tr>\n",
       "      <td>33</td>\n",
       "      <td>Pokemon X/Pokemon Y</td>\n",
       "      <td>3DS</td>\n",
       "      <td>2013</td>\n",
       "      <td>Role-Playing</td>\n",
       "      <td>5.28</td>\n",
       "      <td>4.19</td>\n",
       "      <td>4.35</td>\n",
       "      <td>0.78</td>\n",
       "      <td>14.60</td>\n",
       "      <td>72</td>\n",
       "      <td>7</td>\n",
       "      <td>T</td>\n",
       "    </tr>\n",
       "    <tr>\n",
       "      <td>42</td>\n",
       "      <td>Grand Theft Auto V</td>\n",
       "      <td>PS4</td>\n",
       "      <td>2014</td>\n",
       "      <td>Action</td>\n",
       "      <td>3.96</td>\n",
       "      <td>6.31</td>\n",
       "      <td>0.38</td>\n",
       "      <td>1.97</td>\n",
       "      <td>12.62</td>\n",
       "      <td>97</td>\n",
       "      <td>8</td>\n",
       "      <td>M</td>\n",
       "    </tr>\n",
       "  </tbody>\n",
       "</table>\n",
       "</div>"
      ],
      "text/plain": [
       "                         name platform  year_of_release         genre  \\\n",
       "16         Grand Theft Auto V      PS3             2013        Action   \n",
       "23         Grand Theft Auto V     X360             2013        Action   \n",
       "31  Call of Duty: Black Ops 3      PS4             2015       Shooter   \n",
       "33        Pokemon X/Pokemon Y      3DS             2013  Role-Playing   \n",
       "42         Grand Theft Auto V      PS4             2014        Action   \n",
       "\n",
       "    na_sales  eu_sales  jp_sales  other_sales  total_sales  critic_score  \\\n",
       "16      7.02      9.09      0.98         3.96        21.05            97   \n",
       "23      9.66      5.14      0.06         1.41        16.27            97   \n",
       "31      6.03      5.86      0.36         2.38        14.63            75   \n",
       "33      5.28      4.19      4.35         0.78        14.60            72   \n",
       "42      3.96      6.31      0.38         1.97        12.62            97   \n",
       "\n",
       "    user_score rating  \n",
       "16           8      M  \n",
       "23           8      M  \n",
       "31           6      M  \n",
       "33           7      T  \n",
       "42           8      M  "
      ]
     },
     "execution_count": 67,
     "metadata": {},
     "output_type": "execute_result"
    }
   ],
   "source": [
    "df_new.head()"
   ]
  },
  {
   "cell_type": "code",
   "execution_count": 68,
   "id": "0ea6cdf5",
   "metadata": {},
   "outputs": [
    {
     "data": {
      "text/html": [
       "<div>\n",
       "<style scoped>\n",
       "    .dataframe tbody tr th:only-of-type {\n",
       "        vertical-align: middle;\n",
       "    }\n",
       "\n",
       "    .dataframe tbody tr th {\n",
       "        vertical-align: top;\n",
       "    }\n",
       "\n",
       "    .dataframe thead th {\n",
       "        text-align: right;\n",
       "    }\n",
       "</style>\n",
       "<table border=\"1\" class=\"dataframe\">\n",
       "  <thead>\n",
       "    <tr style=\"text-align: right;\">\n",
       "      <th></th>\n",
       "      <th>na_sales</th>\n",
       "      <th>eu_sales</th>\n",
       "      <th>jp_sales</th>\n",
       "      <th>rating</th>\n",
       "    </tr>\n",
       "  </thead>\n",
       "  <tbody>\n",
       "    <tr>\n",
       "      <td>9460</td>\n",
       "      <td>0.09</td>\n",
       "      <td>0.03</td>\n",
       "      <td>0.00</td>\n",
       "      <td>M</td>\n",
       "    </tr>\n",
       "    <tr>\n",
       "      <td>12925</td>\n",
       "      <td>0.01</td>\n",
       "      <td>0.04</td>\n",
       "      <td>0.00</td>\n",
       "      <td>M</td>\n",
       "    </tr>\n",
       "    <tr>\n",
       "      <td>15143</td>\n",
       "      <td>0.00</td>\n",
       "      <td>0.00</td>\n",
       "      <td>0.02</td>\n",
       "      <td>M</td>\n",
       "    </tr>\n",
       "    <tr>\n",
       "      <td>11811</td>\n",
       "      <td>0.00</td>\n",
       "      <td>0.00</td>\n",
       "      <td>0.07</td>\n",
       "      <td>T</td>\n",
       "    </tr>\n",
       "    <tr>\n",
       "      <td>14332</td>\n",
       "      <td>0.00</td>\n",
       "      <td>0.03</td>\n",
       "      <td>0.00</td>\n",
       "      <td>E10+</td>\n",
       "    </tr>\n",
       "  </tbody>\n",
       "</table>\n",
       "</div>"
      ],
      "text/plain": [
       "       na_sales  eu_sales  jp_sales rating\n",
       "9460       0.09      0.03      0.00      M\n",
       "12925      0.01      0.04      0.00      M\n",
       "15143      0.00      0.00      0.02      M\n",
       "11811      0.00      0.00      0.07      T\n",
       "14332      0.00      0.03      0.00   E10+"
      ]
     },
     "execution_count": 68,
     "metadata": {},
     "output_type": "execute_result"
    }
   ],
   "source": [
    "df_esrb = df_new[[\"na_sales\", \"eu_sales\", \"jp_sales\", \"rating\"]]\n",
    "df_esrb.sample(5)"
   ]
  },
  {
   "cell_type": "code",
   "execution_count": 69,
   "id": "7a72af86",
   "metadata": {},
   "outputs": [
    {
     "data": {
      "text/plain": [
       "T       751\n",
       "M       675\n",
       "E       431\n",
       "E10+    376\n",
       "RP        0\n",
       "K-A       0\n",
       "EC        0\n",
       "AO        0\n",
       "Name: rating, dtype: int64"
      ]
     },
     "execution_count": 69,
     "metadata": {},
     "output_type": "execute_result"
    }
   ],
   "source": [
    "df_esrb[\"rating\"].value_counts()"
   ]
  },
  {
   "cell_type": "markdown",
   "id": "92337ce5",
   "metadata": {},
   "source": [
    "In order to calculate the relation, We will replace the category letter as follow:\n",
    "\n",
    "ESRB rating|numeric score|explenation\n",
    "-|-|-\n",
    "E|6|Everyone\n",
    "E10+|5|Everyone 10+\n",
    "T|4|Teen\n",
    "M|3|Mature 17+\n",
    "AO|2|Adults only 18+\n",
    "RP|1|Rating pending\n",
    "EC|1|No such ESRB rating - it a mistake\n"
   ]
  },
  {
   "cell_type": "code",
   "execution_count": 70,
   "id": "3b3541db",
   "metadata": {},
   "outputs": [
    {
     "data": {
      "text/html": [
       "<div>\n",
       "<style scoped>\n",
       "    .dataframe tbody tr th:only-of-type {\n",
       "        vertical-align: middle;\n",
       "    }\n",
       "\n",
       "    .dataframe tbody tr th {\n",
       "        vertical-align: top;\n",
       "    }\n",
       "\n",
       "    .dataframe thead th {\n",
       "        text-align: right;\n",
       "    }\n",
       "</style>\n",
       "<table border=\"1\" class=\"dataframe\">\n",
       "  <thead>\n",
       "    <tr style=\"text-align: right;\">\n",
       "      <th></th>\n",
       "      <th>na_sales</th>\n",
       "      <th>eu_sales</th>\n",
       "      <th>jp_sales</th>\n",
       "      <th>rating</th>\n",
       "      <th>num_rating</th>\n",
       "    </tr>\n",
       "  </thead>\n",
       "  <tbody>\n",
       "    <tr>\n",
       "      <td>1730</td>\n",
       "      <td>0.39</td>\n",
       "      <td>0.69</td>\n",
       "      <td>0.00</td>\n",
       "      <td>M</td>\n",
       "      <td>3.00</td>\n",
       "    </tr>\n",
       "    <tr>\n",
       "      <td>7466</td>\n",
       "      <td>0.14</td>\n",
       "      <td>0.04</td>\n",
       "      <td>0.00</td>\n",
       "      <td>M</td>\n",
       "      <td>3.00</td>\n",
       "    </tr>\n",
       "    <tr>\n",
       "      <td>14708</td>\n",
       "      <td>0.00</td>\n",
       "      <td>0.02</td>\n",
       "      <td>0.00</td>\n",
       "      <td>E10+</td>\n",
       "      <td>5.00</td>\n",
       "    </tr>\n",
       "    <tr>\n",
       "      <td>3767</td>\n",
       "      <td>0.35</td>\n",
       "      <td>0.13</td>\n",
       "      <td>0.00</td>\n",
       "      <td>E10+</td>\n",
       "      <td>5.00</td>\n",
       "    </tr>\n",
       "    <tr>\n",
       "      <td>15118</td>\n",
       "      <td>0.00</td>\n",
       "      <td>0.02</td>\n",
       "      <td>0.00</td>\n",
       "      <td>E</td>\n",
       "      <td>6.00</td>\n",
       "    </tr>\n",
       "  </tbody>\n",
       "</table>\n",
       "</div>"
      ],
      "text/plain": [
       "       na_sales  eu_sales  jp_sales rating  num_rating\n",
       "1730       0.39      0.69      0.00      M        3.00\n",
       "7466       0.14      0.04      0.00      M        3.00\n",
       "14708      0.00      0.02      0.00   E10+        5.00\n",
       "3767       0.35      0.13      0.00   E10+        5.00\n",
       "15118      0.00      0.02      0.00      E        6.00"
      ]
     },
     "execution_count": 70,
     "metadata": {},
     "output_type": "execute_result"
    }
   ],
   "source": [
    "def rating_to_num(row):\n",
    "    if row[\"rating\"] == \"E\":\n",
    "        return 6\n",
    "    elif row[\"rating\"] == \"E10+\":\n",
    "        return 5\n",
    "    elif row[\"rating\"] == \"T\":\n",
    "        return 4\n",
    "    elif row[\"rating\"] == \"M\":\n",
    "        return 3\n",
    "    elif row[\"rating\"] == \"AO\":\n",
    "        return 2\n",
    "    elif row[\"rating\"] == \"RP\":\n",
    "        return 1\n",
    "    elif row[\"rating\"] == \"EC\":\n",
    "        return 1\n",
    "\n",
    "\n",
    "df_esrb[\"num_rating\"] = df.apply(rating_to_num, axis=1)\n",
    "df_esrb.sample(5)"
   ]
  },
  {
   "cell_type": "code",
   "execution_count": 71,
   "id": "1ff3d7e1",
   "metadata": {},
   "outputs": [
    {
     "data": {
      "image/png": "[encoded data removed]",
      "text/plain": [
       "<Figure size 432x288 with 2 Axes>"
      ]
     },
     "metadata": {
      "needs_background": "light"
     },
     "output_type": "display_data"
    }
   ],
   "source": [
    "sns.heatmap(df_esrb.corr(), annot=True, cmap=\"YlGnBu\")\n",
    "plt.show()"
   ]
  },
  {
   "cell_type": "markdown",
   "id": "86ba8c86",
   "metadata": {},
   "source": [
    "**conclusion**:\n",
    "- North America: No correlation to the ESRB ranking (correlation almost 0)\n",
    "- Europe: No correlation to the ESRB ranking (correlation almost 0)\n",
    "- Japan: No correlation to the ESRB ranking (correlation almost 0)"
   ]
  },
  {
   "cell_type": "markdown",
   "id": "b110f295",
   "metadata": {},
   "source": [
    "<div class=\"alert alert-success\" role=\"alert\">\n",
    "Reviewer's comment v. 2:\n",
    "    \n",
    "Good job, you have made a correct conclusion.\n",
    "</div>"
   ]
  },
  {
   "cell_type": "markdown",
   "id": "1f0129f5",
   "metadata": {},
   "source": [
    "# Testing the following hypotheses:\n",
    "- average user ratings of the **Xbox One** and **PC** platforms are the same.\n",
    "- Average user ratings for the **Action** and **Sports** genres are different."
   ]
  },
  {
   "cell_type": "markdown",
   "id": "b47fc199",
   "metadata": {},
   "source": [
    "## average user ratings of the Xbox One and PC platforms are the same."
   ]
  },
  {
   "cell_type": "markdown",
   "id": "04b7f8c9",
   "metadata": {},
   "source": [
    "## hypotheses 1\n",
    "### $H_0 =$ The average user ratings of **Xbox One** is probably equal to the average user ratings of **PC** platform\n",
    "### $H_1 =$ The average user ratings of **Xbox One** is not equal to the average user ratings of **PC** platform\n",
    "**$ \\alpha = 0.05$**\n",
    "\n",
    "### explanation of the hypotheses: are the mean of the user ratings in Xbox One can be the same as the mean of the PC platform?"
   ]
  },
  {
   "cell_type": "markdown",
   "id": "3fd21e45",
   "metadata": {},
   "source": [
    "<div class=\"alert alert-success\" role=\"alert\">\n",
    "Reviewer's comment v. 1:\n",
    "    \n",
    "It's great that you formulated the null and alternative hypotheses explicitly.\n",
    "</div>"
   ]
  },
  {
   "cell_type": "code",
   "execution_count": 72,
   "id": "476af71d",
   "metadata": {},
   "outputs": [],
   "source": [
    "df_xb = df_new.loc[df_new[\"platform\"] == \"XOne\"]\n",
    "df_pc = df_new.loc[df_new[\"platform\"] == \"PC\"]"
   ]
  },
  {
   "cell_type": "code",
   "execution_count": 73,
   "id": "81721a28",
   "metadata": {},
   "outputs": [
    {
     "data": {
      "text/html": [
       "<div>\n",
       "<style scoped>\n",
       "    .dataframe tbody tr th:only-of-type {\n",
       "        vertical-align: middle;\n",
       "    }\n",
       "\n",
       "    .dataframe tbody tr th {\n",
       "        vertical-align: top;\n",
       "    }\n",
       "\n",
       "    .dataframe thead tr th {\n",
       "        text-align: left;\n",
       "    }\n",
       "\n",
       "    .dataframe thead tr:last-of-type th {\n",
       "        text-align: right;\n",
       "    }\n",
       "</style>\n",
       "<table border=\"1\" class=\"dataframe\">\n",
       "  <thead>\n",
       "    <tr>\n",
       "      <th></th>\n",
       "      <th>mean</th>\n",
       "    </tr>\n",
       "    <tr>\n",
       "      <th></th>\n",
       "      <th>user_score</th>\n",
       "    </tr>\n",
       "    <tr>\n",
       "      <th>year_of_release</th>\n",
       "      <th></th>\n",
       "    </tr>\n",
       "  </thead>\n",
       "  <tbody>\n",
       "    <tr>\n",
       "      <td>2013</td>\n",
       "      <td>5.37</td>\n",
       "    </tr>\n",
       "    <tr>\n",
       "      <td>2014</td>\n",
       "      <td>6.28</td>\n",
       "    </tr>\n",
       "    <tr>\n",
       "      <td>2015</td>\n",
       "      <td>6.11</td>\n",
       "    </tr>\n",
       "    <tr>\n",
       "      <td>2016</td>\n",
       "      <td>6.16</td>\n",
       "    </tr>\n",
       "  </tbody>\n",
       "</table>\n",
       "</div>"
      ],
      "text/plain": [
       "                      mean\n",
       "                user_score\n",
       "year_of_release           \n",
       "2013                  5.37\n",
       "2014                  6.28\n",
       "2015                  6.11\n",
       "2016                  6.16"
      ]
     },
     "execution_count": 73,
     "metadata": {},
     "output_type": "execute_result"
    }
   ],
   "source": [
    "df_xb_pivot = df_xb.pivot_table(values=\"user_score\", index=\"year_of_release\",\n",
    "                                fill_value=0, aggfunc=[\"mean\"], margins=False)\n",
    "df_xb_pivot.tail()"
   ]
  },
  {
   "cell_type": "code",
   "execution_count": 74,
   "id": "15d64fee",
   "metadata": {},
   "outputs": [
    {
     "data": {
      "text/html": [
       "<div>\n",
       "<style scoped>\n",
       "    .dataframe tbody tr th:only-of-type {\n",
       "        vertical-align: middle;\n",
       "    }\n",
       "\n",
       "    .dataframe tbody tr th {\n",
       "        vertical-align: top;\n",
       "    }\n",
       "\n",
       "    .dataframe thead tr th {\n",
       "        text-align: left;\n",
       "    }\n",
       "\n",
       "    .dataframe thead tr:last-of-type th {\n",
       "        text-align: right;\n",
       "    }\n",
       "</style>\n",
       "<table border=\"1\" class=\"dataframe\">\n",
       "  <thead>\n",
       "    <tr>\n",
       "      <th></th>\n",
       "      <th>mean</th>\n",
       "    </tr>\n",
       "    <tr>\n",
       "      <th></th>\n",
       "      <th>user_score</th>\n",
       "    </tr>\n",
       "    <tr>\n",
       "      <th>year_of_release</th>\n",
       "      <th></th>\n",
       "    </tr>\n",
       "  </thead>\n",
       "  <tbody>\n",
       "    <tr>\n",
       "      <td>2013</td>\n",
       "      <td>5.82</td>\n",
       "    </tr>\n",
       "    <tr>\n",
       "      <td>2014</td>\n",
       "      <td>6.00</td>\n",
       "    </tr>\n",
       "    <tr>\n",
       "      <td>2015</td>\n",
       "      <td>6.02</td>\n",
       "    </tr>\n",
       "    <tr>\n",
       "      <td>2016</td>\n",
       "      <td>5.96</td>\n",
       "    </tr>\n",
       "  </tbody>\n",
       "</table>\n",
       "</div>"
      ],
      "text/plain": [
       "                      mean\n",
       "                user_score\n",
       "year_of_release           \n",
       "2013                  5.82\n",
       "2014                  6.00\n",
       "2015                  6.02\n",
       "2016                  5.96"
      ]
     },
     "execution_count": 74,
     "metadata": {},
     "output_type": "execute_result"
    }
   ],
   "source": [
    "df_pc_pivot = df_pc.pivot_table(values=\"user_score\", index=\"year_of_release\",\n",
    "                                fill_value=0, aggfunc=[\"mean\"], margins=False)\n",
    "df_pc_pivot.tail()"
   ]
  },
  {
   "cell_type": "code",
   "execution_count": 75,
   "id": "626d8245",
   "metadata": {},
   "outputs": [
    {
     "name": "stdout",
     "output_type": "stream",
     "text": [
      "p-value:  [0.89049262]\n",
      "We can't reject the null hypothesis\n"
     ]
    }
   ],
   "source": [
    "# test the hypothesis that the average user ratings of Xbox One is probably equal to the average user ratings of PC\n",
    "\n",
    "alpha = 0.05  # critical statistical significance level\n",
    "\n",
    "# if the p-value is less than alpha, we reject the hypothesis\n",
    "results = st.ttest_ind(df_xb_pivot, df_pc_pivot)\n",
    "\n",
    "print('p-value: ', results.pvalue)\n",
    "\n",
    "if results.pvalue < alpha:\n",
    "    print(\"We reject the null hypothesis\")\n",
    "else:\n",
    "    print(\"We can't reject the null hypothesis\")"
   ]
  },
  {
   "cell_type": "markdown",
   "id": "7294d609",
   "metadata": {},
   "source": [
    "<div class=\"alert alert-info\">\n",
    "  <strong>My fixing 2: </strong>  fix the conclusion\n",
    "</div"
   ]
  },
  {
   "cell_type": "markdown",
   "id": "08e53dd1",
   "metadata": {},
   "source": [
    "#### the result of the test:\n",
    "- We cannot reject $H_0$ hypothesis that the average user ratings of Xbox One is probably equal to the average user ratings of PC."
   ]
  },
  {
   "cell_type": "markdown",
   "id": "cd3fa54c",
   "metadata": {},
   "source": [
    "<div class=\"alert alert-success\" role=\"alert\">\n",
    "Reviewer's comment v.  3:\n",
    "    \n",
    "Yes, you are right. We don't have a statistically significant differences between average XBox One user ratings and PC user ratings.\n",
    "</div>"
   ]
  },
  {
   "cell_type": "markdown",
   "id": "a9097e3b",
   "metadata": {},
   "source": [
    "## hypotheses 2\n",
    "### $H_0 =$ The average user ratings for the **Action** genre is probably equal to the average user ratings of **Sports** genres\n",
    "### $H_1 =$ The average user ratings for the **Action** genre is not equal to the average user ratings of **Sports** genres\n",
    "**$ \\alpha = 0.05$**\n",
    "\n",
    "### explanation of the hypotheses: are the mean of the user ratings in Action genre can be the same as the mean of the sport genre?"
   ]
  },
  {
   "cell_type": "markdown",
   "id": "c40bb21c",
   "metadata": {},
   "source": [
    "<div class=\"alert alert-success\" role=\"alert\">\n",
    "Reviewer's comment v. 1:\n",
    "    \n",
    "Hypotheses formulation is correct :)\n",
    "</div>"
   ]
  },
  {
   "cell_type": "code",
   "execution_count": 76,
   "id": "211ab011",
   "metadata": {},
   "outputs": [],
   "source": [
    "df_action = df_new.loc[df_new[\"genre\"] == \"Action\"]\n",
    "df_sport = df_new.loc[df_new[\"genre\"] == \"Sports\"]"
   ]
  },
  {
   "cell_type": "code",
   "execution_count": 77,
   "id": "f2fedc61",
   "metadata": {},
   "outputs": [
    {
     "data": {
      "text/html": [
       "<div>\n",
       "<style scoped>\n",
       "    .dataframe tbody tr th:only-of-type {\n",
       "        vertical-align: middle;\n",
       "    }\n",
       "\n",
       "    .dataframe tbody tr th {\n",
       "        vertical-align: top;\n",
       "    }\n",
       "\n",
       "    .dataframe thead tr th {\n",
       "        text-align: left;\n",
       "    }\n",
       "\n",
       "    .dataframe thead tr:last-of-type th {\n",
       "        text-align: right;\n",
       "    }\n",
       "</style>\n",
       "<table border=\"1\" class=\"dataframe\">\n",
       "  <thead>\n",
       "    <tr>\n",
       "      <th></th>\n",
       "      <th>mean</th>\n",
       "    </tr>\n",
       "    <tr>\n",
       "      <th></th>\n",
       "      <th>user_score</th>\n",
       "    </tr>\n",
       "    <tr>\n",
       "      <th>year_of_release</th>\n",
       "      <th></th>\n",
       "    </tr>\n",
       "  </thead>\n",
       "  <tbody>\n",
       "    <tr>\n",
       "      <td>2013</td>\n",
       "      <td>6.50</td>\n",
       "    </tr>\n",
       "    <tr>\n",
       "      <td>2014</td>\n",
       "      <td>6.20</td>\n",
       "    </tr>\n",
       "    <tr>\n",
       "      <td>2015</td>\n",
       "      <td>6.40</td>\n",
       "    </tr>\n",
       "    <tr>\n",
       "      <td>2016</td>\n",
       "      <td>6.26</td>\n",
       "    </tr>\n",
       "  </tbody>\n",
       "</table>\n",
       "</div>"
      ],
      "text/plain": [
       "                      mean\n",
       "                user_score\n",
       "year_of_release           \n",
       "2013                  6.50\n",
       "2014                  6.20\n",
       "2015                  6.40\n",
       "2016                  6.26"
      ]
     },
     "execution_count": 77,
     "metadata": {},
     "output_type": "execute_result"
    }
   ],
   "source": [
    "df_action_pivot = df_action.pivot_table(values=\"user_score\", index=\"year_of_release\",\n",
    "                                        fill_value=0, aggfunc=[\"mean\"], margins=False)\n",
    "df_action_pivot.tail()"
   ]
  },
  {
   "cell_type": "code",
   "execution_count": 78,
   "id": "a7f78e0c",
   "metadata": {},
   "outputs": [
    {
     "data": {
      "text/html": [
       "<div>\n",
       "<style scoped>\n",
       "    .dataframe tbody tr th:only-of-type {\n",
       "        vertical-align: middle;\n",
       "    }\n",
       "\n",
       "    .dataframe tbody tr th {\n",
       "        vertical-align: top;\n",
       "    }\n",
       "\n",
       "    .dataframe thead tr th {\n",
       "        text-align: left;\n",
       "    }\n",
       "\n",
       "    .dataframe thead tr:last-of-type th {\n",
       "        text-align: right;\n",
       "    }\n",
       "</style>\n",
       "<table border=\"1\" class=\"dataframe\">\n",
       "  <thead>\n",
       "    <tr>\n",
       "      <th></th>\n",
       "      <th>mean</th>\n",
       "    </tr>\n",
       "    <tr>\n",
       "      <th></th>\n",
       "      <th>user_score</th>\n",
       "    </tr>\n",
       "    <tr>\n",
       "      <th>year_of_release</th>\n",
       "      <th></th>\n",
       "    </tr>\n",
       "  </thead>\n",
       "  <tbody>\n",
       "    <tr>\n",
       "      <td>2013</td>\n",
       "      <td>5.19</td>\n",
       "    </tr>\n",
       "    <tr>\n",
       "      <td>2014</td>\n",
       "      <td>5.04</td>\n",
       "    </tr>\n",
       "    <tr>\n",
       "      <td>2015</td>\n",
       "      <td>4.88</td>\n",
       "    </tr>\n",
       "    <tr>\n",
       "      <td>2016</td>\n",
       "      <td>5.15</td>\n",
       "    </tr>\n",
       "  </tbody>\n",
       "</table>\n",
       "</div>"
      ],
      "text/plain": [
       "                      mean\n",
       "                user_score\n",
       "year_of_release           \n",
       "2013                  5.19\n",
       "2014                  5.04\n",
       "2015                  4.88\n",
       "2016                  5.15"
      ]
     },
     "execution_count": 78,
     "metadata": {},
     "output_type": "execute_result"
    }
   ],
   "source": [
    "df_sport_pivot = df_sport.pivot_table(values=\"user_score\", index=\"year_of_release\",\n",
    "                                      fill_value=0, aggfunc=[\"mean\"], margins=False)\n",
    "df_sport_pivot.tail()"
   ]
  },
  {
   "cell_type": "code",
   "execution_count": 79,
   "id": "07b3ff64",
   "metadata": {},
   "outputs": [
    {
     "name": "stdout",
     "output_type": "stream",
     "text": [
      "p-value:  [1.16565216e-05]\n",
      "We reject the null hypothesis\n"
     ]
    }
   ],
   "source": [
    "# test the hypothesis that the average user ratings of action is probably equal to the average user ratings of sports\n",
    "\n",
    "alpha = 0.05  # critical statistical significance level\n",
    "\n",
    "# if the p-value is less than alpha, we reject the hypothesis\n",
    "results = st.ttest_ind(df_action_pivot, df_sport_pivot)\n",
    "\n",
    "print('p-value: ', results.pvalue)\n",
    "\n",
    "if results.pvalue < alpha:\n",
    "    print(\"We reject the null hypothesis\")\n",
    "else:\n",
    "    print(\"We can't reject the null hypothesis\")"
   ]
  },
  {
   "cell_type": "markdown",
   "id": "07a61913",
   "metadata": {},
   "source": [
    "#### the result of the test:\n",
    "- We have to reject $H_0$ hypothesis that the average user ratings of Action genre is probably equal to the average user ratings of the Sports genre"
   ]
  },
  {
   "cell_type": "markdown",
   "id": "82d32382",
   "metadata": {},
   "source": [
    "<div class=\"alert alert-success\" role=\"alert\">\n",
    "Reviewer's comment v. 2:\n",
    "    \n",
    "Yes, you are right, there is a statistically significant differences in the average user_scores for Action and Sport.\n",
    "</div>"
   ]
  },
  {
   "cell_type": "markdown",
   "id": "81872046",
   "metadata": {},
   "source": [
    "# general conclusion"
   ]
  },
  {
   "cell_type": "markdown",
   "id": "42cea660",
   "metadata": {},
   "source": [
    "- We analyze data of sells in several regions by games, platforms an genre from 1980 until 2016\n",
    "   - The dataset had 16715 rows and 11 columns. \n",
    "   - There were a lot of missing values\n",
    "   - There are 31 platforms\n",
    "   - There are 12 genre\n",
    "- We cleaned the data, and cut the part prior to 2000\n",
    "   - Almost half of the critic score is missing\n",
    "   - A lot of rating and user score are missing. (more than 40%)\n",
    "   - when examining the missing values, we notice that they are in score(critic and user) and rating. The origin of the data is not part of the sales info but came after that, for example, score are publish after the game start to sell and critics and users start to score them. Rating is given after the main data about selling is gathered. The data seems to have been gathered from several data source, some of them are missing and not completed\n",
    "- Showed how many games were released in different years\n",
    "   - Until 2001 the number of new games was small.\n",
    "   - After the peek in 2008-2009, the number of new games are dropping.\n",
    "- showed how sales varied from platform to platform\n",
    "   - 9 out of 31 platform are better than the mean\n",
    "- Showed example of sales of PS2 andPS3\n",
    "   - life spans of the PS2 and PS3 platform are about 10 years. PS3 start selling when PS2 was at the peek. PS3 was at the peek when PS2 stop selling.\n",
    "- Showed which platforms are leading in sales. Which ones are growing or shrinking.\n",
    "   - all platform's sale decline in 2016 compared to 2015. Both totals and relatively. \n",
    "- Examine how user and professional reviews affect sales\n",
    "   - The total sales correlate with critic score 0.38 and with user score 0.16. These correlation values are very small, and the critic score shows higher correlation value. It can be because the user score was given after the user already bought the game and the sale was made.\n",
    "- Calculated the correlation between reviews and sales\n",
    "- We compared the sales of the same game on other platforms\n",
    "   - FIFA 14: conclusion: Most sales made on PS3, X360 and PS4 platform. the lower sales made on PSP, 3DS, Wii and PC\n",
    "- Examined the general distribution of games by genre\n",
    "   - The best seller genre in sales per game is \"Shooter\", \"Sports\" and \"Platform\" follow \n",
    "   - The looser genre in sales per game is \"Adventure\", \"Strategy\" and \"Puzzle\" follow\n",
    "   - In total, \"Action\" genre sold the highest total, \"Shooter\" and \"sports\" follow\n",
    "   - In total, \"Puzzle\" genre sold the lowest total, \"Strategy\" and \"Simulation\" follow.\n",
    "   - The sale of the entire genre gives wrong insight. We should look at sales per game.\n",
    "- We analyzed the top five platforms. Showed variations in their market shares from region to region\n",
    "   - The top five platform in North America and in Europe are identical, only there order are different. These are:\n",
    "      - PS4\n",
    "      - XOne\n",
    "      - X360\n",
    "      - PS3\n",
    "      - 3DS\n",
    "   - In Japan there are other popular platforms. as in NA and EU there are PS4, PS3 and 3DS. Plus two platforms PSV and WiiU. these platform aren't most popular in Japan: XOne and X360\n",
    "- We did the same on the top five genres\n",
    "   - The top five genre in North America and in Europe are almost identical, the order is almost the same. These are:\n",
    "     - Action  \n",
    "     - Shooter\n",
    "     - Sports\n",
    "     - Role-Playing\n",
    "     - NA: Misc / Eu: Racing\n",
    "   - In Japan the order of genre is different. \n",
    "   - The genre in North America and in Europe are almost identical while in Japan is totally different. It may connect to the fact the the culture in Japan is different, the players are influenced mainly by the culture and history of the country and while north America and Europe share similar culture, in Japan it is totally different.\n",
    "- We checked if ESRB ratings affect sales in individual regions and found out that the answer is no.\n",
    "   - - North America: No correlation to the ESRB ranking (correlation almost 0)\n",
    "   - Europe: No correlation to the ESRB ranking (correlation almost 0)\n",
    "   - Japan: No correlation to the ESRB ranking (correlation almost 0)\n",
    "- We checked the hypotheses: are the mean of the user ratings in Xbox One can be the same as the mean of the PC platform\n",
    "    - We could not reject the hypotheses\n",
    "- We checked the hypotheses: are the mean of the user ratings in Action genre can be the same as the mean of the sport genre\n",
    "   - But we had to reject the hypotheses"
   ]
  },
  {
   "cell_type": "markdown",
   "id": "92971edf",
   "metadata": {},
   "source": [
    "<div class=\"alert alert-info\">\n",
    "  <strong>My fixing 2: </strong>  describe the results\n",
    "</div"
   ]
  },
  {
   "cell_type": "markdown",
   "id": "8e3f1a6f",
   "metadata": {},
   "source": [
    "<div class=\"alert alert-success\" role=\"alert\">\n",
    "Reviewer's comment v. 3:\n",
    "    \n",
    "Great, now your conclusion is perfect!\n",
    "</div>"
   ]
  }
 ],
 "metadata": {
  "ExecuteTimeLog": [
   {
    "duration": 361,
    "start_time": "2021-07-11T04:54:44.618Z"
   },
   {
    "duration": 347,
    "start_time": "2021-07-11T04:54:44.634Z"
   },
   {
    "duration": 342,
    "start_time": "2021-07-11T04:54:44.640Z"
   },
   {
    "duration": 336,
    "start_time": "2021-07-11T04:54:44.647Z"
   },
   {
    "duration": 332,
    "start_time": "2021-07-11T04:54:44.652Z"
   },
   {
    "duration": 328,
    "start_time": "2021-07-11T04:54:44.657Z"
   },
   {
    "duration": 323,
    "start_time": "2021-07-11T04:54:44.663Z"
   },
   {
    "duration": 388,
    "start_time": "2021-07-11T04:54:44.668Z"
   },
   {
    "duration": 384,
    "start_time": "2021-07-11T04:54:44.673Z"
   },
   {
    "duration": 379,
    "start_time": "2021-07-11T04:54:44.680Z"
   },
   {
    "duration": 376,
    "start_time": "2021-07-11T04:54:44.684Z"
   },
   {
    "duration": 372,
    "start_time": "2021-07-11T04:54:44.689Z"
   },
   {
    "duration": 368,
    "start_time": "2021-07-11T04:54:44.695Z"
   },
   {
    "duration": 363,
    "start_time": "2021-07-11T04:54:44.701Z"
   },
   {
    "duration": 360,
    "start_time": "2021-07-11T04:54:44.706Z"
   },
   {
    "duration": 355,
    "start_time": "2021-07-11T04:54:44.712Z"
   },
   {
    "duration": 352,
    "start_time": "2021-07-11T04:54:44.716Z"
   },
   {
    "duration": 349,
    "start_time": "2021-07-11T04:54:44.721Z"
   },
   {
    "duration": 346,
    "start_time": "2021-07-11T04:54:44.725Z"
   },
   {
    "duration": 342,
    "start_time": "2021-07-11T04:54:44.731Z"
   },
   {
    "duration": 338,
    "start_time": "2021-07-11T04:54:44.736Z"
   },
   {
    "duration": 334,
    "start_time": "2021-07-11T04:54:44.741Z"
   },
   {
    "duration": 331,
    "start_time": "2021-07-11T04:54:44.746Z"
   },
   {
    "duration": 326,
    "start_time": "2021-07-11T04:54:44.752Z"
   },
   {
    "duration": 324,
    "start_time": "2021-07-11T04:54:44.756Z"
   },
   {
    "duration": 394,
    "start_time": "2021-07-11T04:54:44.763Z"
   },
   {
    "duration": 391,
    "start_time": "2021-07-11T04:54:44.767Z"
   },
   {
    "duration": 386,
    "start_time": "2021-07-11T04:54:44.774Z"
   },
   {
    "duration": 380,
    "start_time": "2021-07-11T04:54:44.781Z"
   },
   {
    "duration": 376,
    "start_time": "2021-07-11T04:54:44.786Z"
   },
   {
    "duration": 372,
    "start_time": "2021-07-11T04:54:44.792Z"
   },
   {
    "duration": 367,
    "start_time": "2021-07-11T04:54:44.798Z"
   },
   {
    "duration": 364,
    "start_time": "2021-07-11T04:54:44.802Z"
   },
   {
    "duration": 360,
    "start_time": "2021-07-11T04:54:44.808Z"
   },
   {
    "duration": 356,
    "start_time": "2021-07-11T04:54:44.813Z"
   },
   {
    "duration": 352,
    "start_time": "2021-07-11T04:54:44.818Z"
   },
   {
    "duration": 351,
    "start_time": "2021-07-11T04:54:44.821Z"
   },
   {
    "duration": 347,
    "start_time": "2021-07-11T04:54:44.826Z"
   },
   {
    "duration": 344,
    "start_time": "2021-07-11T04:54:44.831Z"
   },
   {
    "duration": 340,
    "start_time": "2021-07-11T04:54:44.836Z"
   },
   {
    "duration": 338,
    "start_time": "2021-07-11T04:54:44.840Z"
   },
   {
    "duration": 334,
    "start_time": "2021-07-11T04:54:44.846Z"
   },
   {
    "duration": 331,
    "start_time": "2021-07-11T04:54:44.850Z"
   },
   {
    "duration": 327,
    "start_time": "2021-07-11T04:54:44.855Z"
   },
   {
    "duration": 396,
    "start_time": "2021-07-11T04:54:44.860Z"
   },
   {
    "duration": 389,
    "start_time": "2021-07-11T04:54:44.868Z"
   },
   {
    "duration": 387,
    "start_time": "2021-07-11T04:54:44.872Z"
   },
   {
    "duration": 382,
    "start_time": "2021-07-11T04:54:44.878Z"
   },
   {
    "duration": 379,
    "start_time": "2021-07-11T04:54:44.883Z"
   },
   {
    "duration": 376,
    "start_time": "2021-07-11T04:54:44.887Z"
   },
   {
    "duration": 374,
    "start_time": "2021-07-11T04:54:44.891Z"
   },
   {
    "duration": 368,
    "start_time": "2021-07-11T04:54:44.898Z"
   },
   {
    "duration": 366,
    "start_time": "2021-07-11T04:54:44.902Z"
   },
   {
    "duration": 363,
    "start_time": "2021-07-11T04:54:44.906Z"
   },
   {
    "duration": 360,
    "start_time": "2021-07-11T04:54:44.911Z"
   },
   {
    "duration": 357,
    "start_time": "2021-07-11T04:54:44.915Z"
   },
   {
    "duration": 355,
    "start_time": "2021-07-11T04:54:44.919Z"
   },
   {
    "duration": 351,
    "start_time": "2021-07-11T04:54:44.924Z"
   },
   {
    "duration": 349,
    "start_time": "2021-07-11T04:54:44.928Z"
   },
   {
    "duration": 345,
    "start_time": "2021-07-11T04:54:44.933Z"
   },
   {
    "duration": 344,
    "start_time": "2021-07-11T04:54:44.936Z"
   },
   {
    "duration": 341,
    "start_time": "2021-07-11T04:54:44.940Z"
   },
   {
    "duration": 337,
    "start_time": "2021-07-11T04:54:44.946Z"
   },
   {
    "duration": 406,
    "start_time": "2021-07-11T04:54:44.950Z"
   },
   {
    "duration": 402,
    "start_time": "2021-07-11T04:54:44.955Z"
   },
   {
    "duration": 400,
    "start_time": "2021-07-11T04:54:44.959Z"
   },
   {
    "duration": 397,
    "start_time": "2021-07-11T04:54:44.963Z"
   },
   {
    "duration": 394,
    "start_time": "2021-07-11T04:54:44.968Z"
   },
   {
    "duration": 391,
    "start_time": "2021-07-11T04:54:44.972Z"
   },
   {
    "duration": 385,
    "start_time": "2021-07-11T04:54:44.980Z"
   },
   {
    "duration": 380,
    "start_time": "2021-07-11T04:54:44.986Z"
   },
   {
    "duration": 375,
    "start_time": "2021-07-11T04:54:44.993Z"
   },
   {
    "duration": 344,
    "start_time": "2021-07-11T04:54:45.026Z"
   },
   {
    "duration": 333,
    "start_time": "2021-07-11T04:54:45.038Z"
   },
   {
    "duration": 331,
    "start_time": "2021-07-11T04:54:45.041Z"
   },
   {
    "duration": 1568,
    "start_time": "2021-07-11T05:03:38.228Z"
   },
   {
    "duration": 133,
    "start_time": "2021-07-11T05:03:39.799Z"
   },
   {
    "duration": 20,
    "start_time": "2021-07-11T05:03:39.935Z"
   },
   {
    "duration": 15,
    "start_time": "2021-07-11T05:03:39.958Z"
   },
   {
    "duration": 21,
    "start_time": "2021-07-11T05:03:39.975Z"
   },
   {
    "duration": 59,
    "start_time": "2021-07-11T05:03:39.998Z"
   },
   {
    "duration": 36,
    "start_time": "2021-07-11T05:03:40.060Z"
   },
   {
    "duration": 4,
    "start_time": "2021-07-11T05:03:40.100Z"
   },
   {
    "duration": 88682,
    "start_time": "2021-07-11T05:03:40.107Z"
   },
   {
    "duration": 77,
    "start_time": "2021-07-11T05:05:08.792Z"
   },
   {
    "duration": 13,
    "start_time": "2021-07-11T05:05:08.872Z"
   },
   {
    "duration": 14,
    "start_time": "2021-07-11T05:05:08.887Z"
   },
   {
    "duration": 65,
    "start_time": "2021-07-11T05:05:08.904Z"
   },
   {
    "duration": 22,
    "start_time": "2021-07-11T05:05:08.972Z"
   },
   {
    "duration": 78,
    "start_time": "2021-07-11T05:05:08.997Z"
   },
   {
    "duration": 9,
    "start_time": "2021-07-11T05:05:09.078Z"
   },
   {
    "duration": 9,
    "start_time": "2021-07-11T05:05:09.090Z"
   },
   {
    "duration": 1229,
    "start_time": "2021-07-11T05:05:09.157Z"
   },
   {
    "duration": 1118,
    "start_time": "2021-07-11T05:05:10.389Z"
   },
   {
    "duration": 1753,
    "start_time": "2021-07-11T05:05:11.509Z"
   },
   {
    "duration": 9,
    "start_time": "2021-07-11T05:05:13.265Z"
   },
   {
    "duration": 81,
    "start_time": "2021-07-11T05:05:13.277Z"
   },
   {
    "duration": 18,
    "start_time": "2021-07-11T05:05:13.364Z"
   },
   {
    "duration": 76,
    "start_time": "2021-07-11T05:05:13.385Z"
   },
   {
    "duration": 19,
    "start_time": "2021-07-11T05:05:13.463Z"
   },
   {
    "duration": 14,
    "start_time": "2021-07-11T05:05:13.485Z"
   },
   {
    "duration": 2267,
    "start_time": "2021-07-11T05:05:13.501Z"
   },
   {
    "duration": 26,
    "start_time": "2021-07-11T05:05:15.771Z"
   },
   {
    "duration": 1586,
    "start_time": "2021-07-11T05:05:15.799Z"
   },
   {
    "duration": 86,
    "start_time": "2021-07-11T05:05:17.389Z"
   },
   {
    "duration": 187,
    "start_time": "2021-07-11T05:05:17.479Z"
   },
   {
    "duration": 99,
    "start_time": "2021-07-11T05:05:17.669Z"
   },
   {
    "duration": 2815,
    "start_time": "2021-07-11T05:05:17.771Z"
   },
   {
    "duration": 12,
    "start_time": "2021-07-11T05:05:20.656Z"
   },
   {
    "duration": 1394,
    "start_time": "2021-07-11T05:05:20.670Z"
   },
   {
    "duration": 21,
    "start_time": "2021-07-11T05:05:22.066Z"
   },
   {
    "duration": 1198,
    "start_time": "2021-07-11T05:05:22.091Z"
   },
   {
    "duration": 34,
    "start_time": "2021-07-11T05:05:23.291Z"
   },
   {
    "duration": 4,
    "start_time": "2021-07-11T05:05:23.328Z"
   },
   {
    "duration": 26,
    "start_time": "2021-07-11T05:05:23.334Z"
   },
   {
    "duration": 1021,
    "start_time": "2021-07-11T05:05:23.362Z"
   },
   {
    "duration": 1002,
    "start_time": "2021-07-11T05:05:24.386Z"
   },
   {
    "duration": 113,
    "start_time": "2021-07-11T05:05:25.391Z"
   },
   {
    "duration": 1105,
    "start_time": "2021-07-11T05:05:25.507Z"
   },
   {
    "duration": 7,
    "start_time": "2021-07-11T05:05:26.615Z"
   },
   {
    "duration": 53,
    "start_time": "2021-07-11T05:05:26.625Z"
   },
   {
    "duration": 385,
    "start_time": "2021-07-11T05:05:26.680Z"
   },
   {
    "duration": 9,
    "start_time": "2021-07-11T05:05:27.068Z"
   },
   {
    "duration": 18,
    "start_time": "2021-07-11T05:05:27.079Z"
   },
   {
    "duration": 56,
    "start_time": "2021-07-11T05:05:27.100Z"
   },
   {
    "duration": 14,
    "start_time": "2021-07-11T05:05:27.160Z"
   },
   {
    "duration": 583,
    "start_time": "2021-07-11T05:05:27.177Z"
   },
   {
    "duration": 22,
    "start_time": "2021-07-11T05:05:27.762Z"
   },
   {
    "duration": 693,
    "start_time": "2021-07-11T05:05:27.786Z"
   },
   {
    "duration": 673,
    "start_time": "2021-07-11T05:05:28.482Z"
   },
   {
    "duration": 12,
    "start_time": "2021-07-11T05:05:29.157Z"
   },
   {
    "duration": 18,
    "start_time": "2021-07-11T05:05:29.172Z"
   },
   {
    "duration": 16,
    "start_time": "2021-07-11T05:05:29.192Z"
   },
   {
    "duration": 52,
    "start_time": "2021-07-11T05:05:29.211Z"
   },
   {
    "duration": 26,
    "start_time": "2021-07-11T05:05:29.266Z"
   },
   {
    "duration": 19,
    "start_time": "2021-07-11T05:05:29.295Z"
   },
   {
    "duration": 57,
    "start_time": "2021-07-11T05:05:29.316Z"
   },
   {
    "duration": 16,
    "start_time": "2021-07-11T05:05:29.375Z"
   },
   {
    "duration": 15,
    "start_time": "2021-07-11T05:05:29.394Z"
   },
   {
    "duration": 11,
    "start_time": "2021-07-11T05:05:29.411Z"
   },
   {
    "duration": 355,
    "start_time": "2021-07-11T05:05:29.456Z"
   },
   {
    "duration": 413,
    "start_time": "2021-07-11T05:05:29.814Z"
   },
   {
    "duration": 7,
    "start_time": "2021-07-11T05:05:30.234Z"
   },
   {
    "duration": 27,
    "start_time": "2021-07-11T05:05:30.256Z"
   },
   {
    "duration": 53,
    "start_time": "2021-07-11T05:05:30.285Z"
   },
   {
    "duration": 55,
    "start_time": "2021-07-11T05:05:30.341Z"
   },
   {
    "duration": 27,
    "start_time": "2021-07-11T05:05:30.398Z"
   },
   {
    "duration": 35,
    "start_time": "2021-07-11T05:05:30.427Z"
   },
   {
    "duration": 20,
    "start_time": "2021-07-11T05:05:30.464Z"
   },
   {
    "duration": 11,
    "start_time": "2021-07-11T05:05:30.486Z"
   },
   {
    "duration": 3,
    "start_time": "2021-07-11T05:17:41.741Z"
   },
   {
    "duration": 5,
    "start_time": "2021-07-11T05:17:42.275Z"
   },
   {
    "duration": 17628,
    "start_time": "2021-07-11T09:34:15.377Z"
   },
   {
    "duration": 278,
    "start_time": "2021-07-11T09:34:33.008Z"
   },
   {
    "duration": 22,
    "start_time": "2021-07-11T09:34:33.289Z"
   },
   {
    "duration": 15,
    "start_time": "2021-07-11T09:34:33.314Z"
   },
   {
    "duration": 16,
    "start_time": "2021-07-11T09:34:33.332Z"
   },
   {
    "duration": 79,
    "start_time": "2021-07-11T09:34:33.350Z"
   },
   {
    "duration": 49,
    "start_time": "2021-07-11T09:34:33.432Z"
   },
   {
    "duration": 26,
    "start_time": "2021-07-11T09:34:33.485Z"
   },
   {
    "duration": 726,
    "start_time": "2021-07-11T09:34:33.514Z"
   },
   {
    "duration": 20,
    "start_time": "2021-07-11T09:34:34.244Z"
   },
   {
    "duration": 12,
    "start_time": "2021-07-11T09:34:34.267Z"
   },
   {
    "duration": 9,
    "start_time": "2021-07-11T09:34:34.310Z"
   },
   {
    "duration": 14,
    "start_time": "2021-07-11T09:34:34.321Z"
   },
   {
    "duration": 3,
    "start_time": "2021-07-11T09:34:34.338Z"
   },
   {
    "duration": 23,
    "start_time": "2021-07-11T09:34:34.344Z"
   },
   {
    "duration": 55,
    "start_time": "2021-07-11T09:34:34.370Z"
   },
   {
    "duration": 8,
    "start_time": "2021-07-11T09:34:34.428Z"
   },
   {
    "duration": 14,
    "start_time": "2021-07-11T09:34:34.439Z"
   },
   {
    "duration": 467,
    "start_time": "2021-07-11T09:34:34.456Z"
   },
   {
    "duration": 426,
    "start_time": "2021-07-11T09:34:34.926Z"
   },
   {
    "duration": 1126,
    "start_time": "2021-07-11T09:34:35.355Z"
   },
   {
    "duration": 12,
    "start_time": "2021-07-11T09:34:36.483Z"
   },
   {
    "duration": 16,
    "start_time": "2021-07-11T09:34:36.513Z"
   },
   {
    "duration": 13,
    "start_time": "2021-07-11T09:34:36.533Z"
   },
   {
    "duration": 60,
    "start_time": "2021-07-11T09:34:36.549Z"
   },
   {
    "duration": 12,
    "start_time": "2021-07-11T09:34:36.612Z"
   },
   {
    "duration": 18,
    "start_time": "2021-07-11T09:34:36.627Z"
   },
   {
    "duration": 1378,
    "start_time": "2021-07-11T09:34:36.648Z"
   },
   {
    "duration": 27,
    "start_time": "2021-07-11T09:34:38.028Z"
   },
   {
    "duration": 578,
    "start_time": "2021-07-11T09:34:38.058Z"
   },
   {
    "duration": 18,
    "start_time": "2021-07-11T09:34:38.639Z"
   },
   {
    "duration": 553,
    "start_time": "2021-07-11T09:34:38.660Z"
   },
   {
    "duration": 821,
    "start_time": "2021-07-11T09:34:38.395Z"
   },
   {
    "duration": 794,
    "start_time": "2021-07-11T09:34:38.424Z"
   },
   {
    "duration": 790,
    "start_time": "2021-07-11T09:34:38.429Z"
   },
   {
    "duration": 788,
    "start_time": "2021-07-11T09:34:38.432Z"
   },
   {
    "duration": 786,
    "start_time": "2021-07-11T09:34:38.436Z"
   },
   {
    "duration": 783,
    "start_time": "2021-07-11T09:34:38.440Z"
   },
   {
    "duration": 746,
    "start_time": "2021-07-11T09:34:38.478Z"
   },
   {
    "duration": 741,
    "start_time": "2021-07-11T09:34:38.484Z"
   },
   {
    "duration": 738,
    "start_time": "2021-07-11T09:34:38.489Z"
   },
   {
    "duration": 735,
    "start_time": "2021-07-11T09:34:38.493Z"
   },
   {
    "duration": 733,
    "start_time": "2021-07-11T09:34:38.497Z"
   },
   {
    "duration": 730,
    "start_time": "2021-07-11T09:34:38.501Z"
   },
   {
    "duration": 728,
    "start_time": "2021-07-11T09:34:38.505Z"
   },
   {
    "duration": 725,
    "start_time": "2021-07-11T09:34:38.509Z"
   },
   {
    "duration": 724,
    "start_time": "2021-07-11T09:34:38.512Z"
   },
   {
    "duration": 721,
    "start_time": "2021-07-11T09:34:38.516Z"
   },
   {
    "duration": 720,
    "start_time": "2021-07-11T09:34:38.519Z"
   },
   {
    "duration": 718,
    "start_time": "2021-07-11T09:34:38.522Z"
   },
   {
    "duration": 716,
    "start_time": "2021-07-11T09:34:38.526Z"
   },
   {
    "duration": 714,
    "start_time": "2021-07-11T09:34:38.529Z"
   },
   {
    "duration": 711,
    "start_time": "2021-07-11T09:34:38.533Z"
   },
   {
    "duration": 701,
    "start_time": "2021-07-11T09:34:38.545Z"
   },
   {
    "duration": 679,
    "start_time": "2021-07-11T09:34:38.568Z"
   },
   {
    "duration": 677,
    "start_time": "2021-07-11T09:34:38.572Z"
   },
   {
    "duration": 674,
    "start_time": "2021-07-11T09:34:38.576Z"
   },
   {
    "duration": 655,
    "start_time": "2021-07-11T09:34:38.596Z"
   },
   {
    "duration": 709,
    "start_time": "2021-07-11T09:34:38.600Z"
   },
   {
    "duration": 706,
    "start_time": "2021-07-11T09:34:38.604Z"
   },
   {
    "duration": 603,
    "start_time": "2021-07-11T09:34:38.709Z"
   },
   {
    "duration": 601,
    "start_time": "2021-07-11T09:34:38.713Z"
   },
   {
    "duration": 598,
    "start_time": "2021-07-11T09:34:38.717Z"
   },
   {
    "duration": 595,
    "start_time": "2021-07-11T09:34:38.721Z"
   },
   {
    "duration": 593,
    "start_time": "2021-07-11T09:34:38.725Z"
   },
   {
    "duration": 591,
    "start_time": "2021-07-11T09:34:38.729Z"
   },
   {
    "duration": 586,
    "start_time": "2021-07-11T09:34:38.735Z"
   },
   {
    "duration": 547,
    "start_time": "2021-07-11T09:34:38.775Z"
   },
   {
    "duration": 544,
    "start_time": "2021-07-11T09:34:38.779Z"
   },
   {
    "duration": 542,
    "start_time": "2021-07-11T09:34:38.783Z"
   },
   {
    "duration": 539,
    "start_time": "2021-07-11T09:34:38.787Z"
   },
   {
    "duration": 538,
    "start_time": "2021-07-11T09:34:38.790Z"
   },
   {
    "duration": 535,
    "start_time": "2021-07-11T09:34:38.794Z"
   },
   {
    "duration": 534,
    "start_time": "2021-07-11T09:34:38.797Z"
   },
   {
    "duration": 529,
    "start_time": "2021-07-11T09:34:38.803Z"
   },
   {
    "duration": 524,
    "start_time": "2021-07-11T09:34:38.809Z"
   },
   {
    "duration": 518,
    "start_time": "2021-07-11T09:34:38.817Z"
   },
   {
    "duration": 488,
    "start_time": "2021-07-11T09:34:38.848Z"
   },
   {
    "duration": 383,
    "start_time": "2021-07-11T09:37:39.557Z"
   },
   {
    "duration": 404,
    "start_time": "2021-07-11T09:42:30.081Z"
   },
   {
    "duration": 404,
    "start_time": "2021-07-11T09:43:02.889Z"
   },
   {
    "duration": 5,
    "start_time": "2021-07-11T09:48:26.328Z"
   },
   {
    "duration": 55,
    "start_time": "2021-07-11T09:48:27.903Z"
   },
   {
    "duration": 4,
    "start_time": "2021-07-11T09:51:57.753Z"
   },
   {
    "duration": 1700,
    "start_time": "2021-07-11T09:52:09.313Z"
   },
   {
    "duration": 166,
    "start_time": "2021-07-11T09:52:11.016Z"
   },
   {
    "duration": 24,
    "start_time": "2021-07-11T09:52:11.185Z"
   },
   {
    "duration": 16,
    "start_time": "2021-07-11T09:52:11.212Z"
   },
   {
    "duration": 26,
    "start_time": "2021-07-11T09:52:11.231Z"
   },
   {
    "duration": 69,
    "start_time": "2021-07-11T09:52:11.259Z"
   },
   {
    "duration": 39,
    "start_time": "2021-07-11T09:52:11.330Z"
   },
   {
    "duration": 4,
    "start_time": "2021-07-11T09:52:11.372Z"
   },
   {
    "duration": 706,
    "start_time": "2021-07-11T09:52:11.409Z"
   },
   {
    "duration": 22,
    "start_time": "2021-07-11T09:52:12.118Z"
   },
   {
    "duration": 12,
    "start_time": "2021-07-11T09:52:12.144Z"
   },
   {
    "duration": 55,
    "start_time": "2021-07-11T09:52:12.159Z"
   },
   {
    "duration": 16,
    "start_time": "2021-07-11T09:52:12.217Z"
   },
   {
    "duration": 5,
    "start_time": "2021-07-11T09:52:12.236Z"
   },
   {
    "duration": 18,
    "start_time": "2021-07-11T09:52:12.244Z"
   },
   {
    "duration": 68,
    "start_time": "2021-07-11T09:52:12.265Z"
   },
   {
    "duration": 8,
    "start_time": "2021-07-11T09:52:12.336Z"
   },
   {
    "duration": 10,
    "start_time": "2021-07-11T09:52:12.346Z"
   },
   {
    "duration": 708,
    "start_time": "2021-07-11T09:52:12.358Z"
   },
   {
    "duration": 669,
    "start_time": "2021-07-11T09:52:13.069Z"
   },
   {
    "duration": 1247,
    "start_time": "2021-07-11T09:52:13.741Z"
   },
   {
    "duration": 18,
    "start_time": "2021-07-11T09:52:14.991Z"
   },
   {
    "duration": 18,
    "start_time": "2021-07-11T09:52:15.015Z"
   },
   {
    "duration": 71,
    "start_time": "2021-07-11T09:52:15.037Z"
   },
   {
    "duration": 41,
    "start_time": "2021-07-11T09:52:15.110Z"
   },
   {
    "duration": 17,
    "start_time": "2021-07-11T09:52:15.153Z"
   },
   {
    "duration": 38,
    "start_time": "2021-07-11T09:52:15.172Z"
   },
   {
    "duration": 1180,
    "start_time": "2021-07-11T09:52:15.213Z"
   },
   {
    "duration": 35,
    "start_time": "2021-07-11T09:52:16.396Z"
   },
   {
    "duration": 570,
    "start_time": "2021-07-11T09:52:16.433Z"
   },
   {
    "duration": 18,
    "start_time": "2021-07-11T09:52:17.005Z"
   },
   {
    "duration": 5,
    "start_time": "2021-07-11T09:52:17.026Z"
   },
   {
    "duration": 82,
    "start_time": "2021-07-11T09:52:17.034Z"
   },
   {
    "duration": 19,
    "start_time": "2021-07-11T09:52:17.118Z"
   },
   {
    "duration": 780,
    "start_time": "2021-07-11T09:52:17.140Z"
   },
   {
    "duration": 3,
    "start_time": "2021-07-11T09:52:17.923Z"
   },
   {
    "duration": 1273,
    "start_time": "2021-07-11T09:52:17.929Z"
   },
   {
    "duration": 12,
    "start_time": "2021-07-11T09:52:19.205Z"
   },
   {
    "duration": 673,
    "start_time": "2021-07-11T09:52:19.220Z"
   },
   {
    "duration": 24,
    "start_time": "2021-07-11T09:52:19.895Z"
   },
   {
    "duration": 630,
    "start_time": "2021-07-11T09:52:19.921Z"
   },
   {
    "duration": 145,
    "start_time": "2021-07-11T09:52:20.554Z"
   },
   {
    "duration": 10,
    "start_time": "2021-07-11T09:52:20.702Z"
   },
   {
    "duration": 15,
    "start_time": "2021-07-11T09:52:20.714Z"
   },
   {
    "duration": 801,
    "start_time": "2021-07-11T09:52:20.732Z"
   },
   {
    "duration": 855,
    "start_time": "2021-07-11T09:52:21.536Z"
   },
   {
    "duration": 29,
    "start_time": "2021-07-11T09:52:22.395Z"
   },
   {
    "duration": 893,
    "start_time": "2021-07-11T09:52:22.427Z"
   },
   {
    "duration": 6,
    "start_time": "2021-07-11T09:52:23.323Z"
   },
   {
    "duration": 35,
    "start_time": "2021-07-11T09:52:23.331Z"
   },
   {
    "duration": 446,
    "start_time": "2021-07-11T09:52:23.369Z"
   },
   {
    "duration": 7,
    "start_time": "2021-07-11T09:52:23.818Z"
   },
   {
    "duration": 16,
    "start_time": "2021-07-11T09:52:23.827Z"
   },
   {
    "duration": 63,
    "start_time": "2021-07-11T09:52:23.846Z"
   },
   {
    "duration": 25,
    "start_time": "2021-07-11T09:52:23.912Z"
   },
   {
    "duration": 623,
    "start_time": "2021-07-11T09:52:23.940Z"
   },
   {
    "duration": 22,
    "start_time": "2021-07-11T09:52:24.566Z"
   },
   {
    "duration": 762,
    "start_time": "2021-07-11T09:52:24.609Z"
   },
   {
    "duration": 670,
    "start_time": "2021-07-11T09:52:25.374Z"
   },
   {
    "duration": 15,
    "start_time": "2021-07-11T09:52:26.047Z"
   },
   {
    "duration": 45,
    "start_time": "2021-07-11T09:52:26.066Z"
   },
   {
    "duration": 18,
    "start_time": "2021-07-11T09:52:26.115Z"
   },
   {
    "duration": 26,
    "start_time": "2021-07-11T09:52:26.136Z"
   },
   {
    "duration": 32,
    "start_time": "2021-07-11T09:52:26.210Z"
   },
   {
    "duration": 71,
    "start_time": "2021-07-11T09:52:26.245Z"
   },
   {
    "duration": 25,
    "start_time": "2021-07-11T09:52:26.319Z"
   },
   {
    "duration": 18,
    "start_time": "2021-07-11T09:52:26.346Z"
   },
   {
    "duration": 13,
    "start_time": "2021-07-11T09:52:26.413Z"
   },
   {
    "duration": 12,
    "start_time": "2021-07-11T09:52:26.429Z"
   },
   {
    "duration": 375,
    "start_time": "2021-07-11T09:52:26.444Z"
   },
   {
    "duration": 402,
    "start_time": "2021-07-11T09:52:26.822Z"
   },
   {
    "duration": 8,
    "start_time": "2021-07-11T09:52:27.227Z"
   },
   {
    "duration": 30,
    "start_time": "2021-07-11T09:52:27.238Z"
   },
   {
    "duration": 63,
    "start_time": "2021-07-11T09:52:27.271Z"
   },
   {
    "duration": 8,
    "start_time": "2021-07-11T09:52:27.336Z"
   },
   {
    "duration": 8,
    "start_time": "2021-07-11T09:52:27.346Z"
   },
   {
    "duration": 66,
    "start_time": "2021-07-11T09:52:27.357Z"
   },
   {
    "duration": 23,
    "start_time": "2021-07-11T09:52:27.425Z"
   },
   {
    "duration": 8,
    "start_time": "2021-07-11T09:52:27.450Z"
   },
   {
    "duration": 287377,
    "start_time": "2021-07-12T08:14:25.209Z"
   },
   {
    "duration": 280,
    "start_time": "2021-07-12T08:19:12.590Z"
   },
   {
    "duration": 23,
    "start_time": "2021-07-12T08:19:12.874Z"
   },
   {
    "duration": 18,
    "start_time": "2021-07-12T08:19:12.901Z"
   },
   {
    "duration": 45,
    "start_time": "2021-07-12T08:19:12.922Z"
   },
   {
    "duration": 42,
    "start_time": "2021-07-12T08:19:12.969Z"
   },
   {
    "duration": 76,
    "start_time": "2021-07-12T08:19:13.013Z"
   },
   {
    "duration": 4,
    "start_time": "2021-07-12T08:19:13.093Z"
   },
   {
    "duration": 103500,
    "start_time": "2021-07-12T08:19:13.100Z"
   },
   {
    "duration": 19,
    "start_time": "2021-07-12T08:20:56.603Z"
   },
   {
    "duration": 10,
    "start_time": "2021-07-12T08:20:56.624Z"
   },
   {
    "duration": 33,
    "start_time": "2021-07-12T08:20:56.636Z"
   },
   {
    "duration": 12,
    "start_time": "2021-07-12T08:20:56.672Z"
   },
   {
    "duration": 4,
    "start_time": "2021-07-12T08:20:56.686Z"
   },
   {
    "duration": 18,
    "start_time": "2021-07-12T08:20:56.692Z"
   },
   {
    "duration": 58,
    "start_time": "2021-07-12T08:20:56.713Z"
   },
   {
    "duration": 8,
    "start_time": "2021-07-12T08:20:56.774Z"
   },
   {
    "duration": 7,
    "start_time": "2021-07-12T08:20:56.784Z"
   },
   {
    "duration": 553,
    "start_time": "2021-07-12T08:20:56.794Z"
   },
   {
    "duration": 418,
    "start_time": "2021-07-12T08:20:57.349Z"
   },
   {
    "duration": 1072,
    "start_time": "2021-07-12T08:20:57.770Z"
   },
   {
    "duration": 23,
    "start_time": "2021-07-12T08:20:58.844Z"
   },
   {
    "duration": 16,
    "start_time": "2021-07-12T08:20:58.874Z"
   },
   {
    "duration": 14,
    "start_time": "2021-07-12T08:20:58.895Z"
   },
   {
    "duration": 22,
    "start_time": "2021-07-12T08:20:58.911Z"
   },
   {
    "duration": 14,
    "start_time": "2021-07-12T08:20:58.968Z"
   },
   {
    "duration": 19,
    "start_time": "2021-07-12T08:20:58.985Z"
   },
   {
    "duration": 1359,
    "start_time": "2021-07-12T08:20:59.008Z"
   },
   {
    "duration": 28,
    "start_time": "2021-07-12T08:21:00.370Z"
   },
   {
    "duration": 567,
    "start_time": "2021-07-12T08:21:00.400Z"
   },
   {
    "duration": 18,
    "start_time": "2021-07-12T08:21:00.969Z"
   },
   {
    "duration": 6,
    "start_time": "2021-07-12T08:21:00.989Z"
   },
   {
    "duration": 78,
    "start_time": "2021-07-12T08:21:00.998Z"
   },
   {
    "duration": 23,
    "start_time": "2021-07-12T08:21:01.078Z"
   },
   {
    "duration": 781,
    "start_time": "2021-07-12T08:21:01.104Z"
   },
   {
    "duration": 4,
    "start_time": "2021-07-12T08:21:01.889Z"
   },
   {
    "duration": 1755,
    "start_time": "2021-07-12T08:21:01.896Z"
   },
   {
    "duration": 23,
    "start_time": "2021-07-12T08:21:03.654Z"
   },
   {
    "duration": 657,
    "start_time": "2021-07-12T08:21:03.680Z"
   },
   {
    "duration": 40,
    "start_time": "2021-07-12T08:21:04.340Z"
   },
   {
    "duration": 635,
    "start_time": "2021-07-12T08:21:04.383Z"
   },
   {
    "duration": 53,
    "start_time": "2021-07-12T08:21:05.021Z"
   },
   {
    "duration": 5,
    "start_time": "2021-07-12T08:21:05.077Z"
   },
   {
    "duration": 10,
    "start_time": "2021-07-12T08:21:05.085Z"
   },
   {
    "duration": 673,
    "start_time": "2021-07-12T08:21:05.097Z"
   },
   {
    "duration": 629,
    "start_time": "2021-07-12T08:21:05.773Z"
   },
   {
    "duration": 25,
    "start_time": "2021-07-12T08:21:06.405Z"
   },
   {
    "duration": 1096,
    "start_time": "2021-07-12T08:21:06.432Z"
   },
   {
    "duration": 9,
    "start_time": "2021-07-12T08:21:07.530Z"
   },
   {
    "duration": 52,
    "start_time": "2021-07-12T08:21:07.542Z"
   },
   {
    "duration": 446,
    "start_time": "2021-07-12T08:21:07.597Z"
   },
   {
    "duration": 8,
    "start_time": "2021-07-12T08:21:08.045Z"
   },
   {
    "duration": 27,
    "start_time": "2021-07-12T08:21:08.055Z"
   },
   {
    "duration": 21,
    "start_time": "2021-07-12T08:21:08.085Z"
   },
   {
    "duration": 58,
    "start_time": "2021-07-12T08:21:08.109Z"
   },
   {
    "duration": 820,
    "start_time": "2021-07-12T08:21:08.170Z"
   },
   {
    "duration": 27,
    "start_time": "2021-07-12T08:21:08.993Z"
   },
   {
    "duration": 701,
    "start_time": "2021-07-12T08:21:09.022Z"
   },
   {
    "duration": 686,
    "start_time": "2021-07-12T08:21:09.725Z"
   },
   {
    "duration": 14,
    "start_time": "2021-07-12T08:21:10.414Z"
   },
   {
    "duration": 40,
    "start_time": "2021-07-12T08:21:10.430Z"
   },
   {
    "duration": 13,
    "start_time": "2021-07-12T08:21:10.473Z"
   },
   {
    "duration": 27,
    "start_time": "2021-07-12T08:21:10.488Z"
   },
   {
    "duration": 59,
    "start_time": "2021-07-12T08:21:10.518Z"
   },
   {
    "duration": 23,
    "start_time": "2021-07-12T08:21:10.579Z"
   },
   {
    "duration": 25,
    "start_time": "2021-07-12T08:21:10.605Z"
   },
   {
    "duration": 50,
    "start_time": "2021-07-12T08:21:10.633Z"
   },
   {
    "duration": 14,
    "start_time": "2021-07-12T08:21:10.693Z"
   },
   {
    "duration": 11,
    "start_time": "2021-07-12T08:21:10.710Z"
   },
   {
    "duration": 2610,
    "start_time": "2021-07-12T08:21:10.724Z"
   },
   {
    "duration": 424,
    "start_time": "2021-07-12T08:21:13.337Z"
   },
   {
    "duration": 10,
    "start_time": "2021-07-12T08:21:13.763Z"
   },
   {
    "duration": 24,
    "start_time": "2021-07-12T08:21:13.776Z"
   },
   {
    "duration": 23,
    "start_time": "2021-07-12T08:21:13.803Z"
   },
   {
    "duration": 8,
    "start_time": "2021-07-12T08:21:13.868Z"
   },
   {
    "duration": 10,
    "start_time": "2021-07-12T08:21:13.878Z"
   },
   {
    "duration": 23,
    "start_time": "2021-07-12T08:21:13.891Z"
   },
   {
    "duration": 61,
    "start_time": "2021-07-12T08:21:13.916Z"
   },
   {
    "duration": 8,
    "start_time": "2021-07-12T08:21:13.979Z"
   },
   {
    "duration": 22,
    "start_time": "2021-07-12T08:36:40.145Z"
   },
   {
    "duration": 11357,
    "start_time": "2021-07-12T10:29:12.153Z"
   },
   {
    "duration": 145,
    "start_time": "2021-07-12T10:29:23.513Z"
   },
   {
    "duration": 14,
    "start_time": "2021-07-12T10:29:23.660Z"
   },
   {
    "duration": 10,
    "start_time": "2021-07-12T10:29:23.676Z"
   },
   {
    "duration": 11,
    "start_time": "2021-07-12T10:29:23.688Z"
   },
   {
    "duration": 26,
    "start_time": "2021-07-12T10:29:23.700Z"
   },
   {
    "duration": 31,
    "start_time": "2021-07-12T10:29:23.728Z"
   },
   {
    "duration": 24,
    "start_time": "2021-07-12T10:29:23.761Z"
   },
   {
    "duration": 283,
    "start_time": "2021-07-12T10:29:23.787Z"
   },
   {
    "duration": 14,
    "start_time": "2021-07-12T10:29:24.072Z"
   },
   {
    "duration": 8,
    "start_time": "2021-07-12T10:29:24.087Z"
   },
   {
    "duration": 7,
    "start_time": "2021-07-12T10:29:24.096Z"
   },
   {
    "duration": 9,
    "start_time": "2021-07-12T10:29:24.105Z"
   },
   {
    "duration": 3,
    "start_time": "2021-07-12T10:29:24.115Z"
   },
   {
    "duration": 10,
    "start_time": "2021-07-12T10:29:24.120Z"
   },
   {
    "duration": 14,
    "start_time": "2021-07-12T10:29:24.132Z"
   },
   {
    "duration": 40,
    "start_time": "2021-07-12T10:29:24.147Z"
   },
   {
    "duration": 6,
    "start_time": "2021-07-12T10:29:24.188Z"
   },
   {
    "duration": 269,
    "start_time": "2021-07-12T10:29:24.196Z"
   },
   {
    "duration": 245,
    "start_time": "2021-07-12T10:29:24.467Z"
   },
   {
    "duration": 620,
    "start_time": "2021-07-12T10:29:24.713Z"
   },
   {
    "duration": 7,
    "start_time": "2021-07-12T10:29:25.335Z"
   },
   {
    "duration": 10,
    "start_time": "2021-07-12T10:29:25.346Z"
   },
   {
    "duration": 26,
    "start_time": "2021-07-12T10:29:25.358Z"
   },
   {
    "duration": 14,
    "start_time": "2021-07-12T10:29:25.386Z"
   },
   {
    "duration": 7,
    "start_time": "2021-07-12T10:29:25.402Z"
   },
   {
    "duration": 10,
    "start_time": "2021-07-12T10:29:25.411Z"
   },
   {
    "duration": 951,
    "start_time": "2021-07-12T10:29:25.423Z"
   },
   {
    "duration": 19,
    "start_time": "2021-07-12T10:29:26.375Z"
   },
   {
    "duration": 447,
    "start_time": "2021-07-12T10:29:26.395Z"
   },
   {
    "duration": 12,
    "start_time": "2021-07-12T10:29:26.843Z"
   },
   {
    "duration": 5,
    "start_time": "2021-07-12T10:29:26.856Z"
   },
   {
    "duration": 55,
    "start_time": "2021-07-12T10:29:26.862Z"
   },
   {
    "duration": 11,
    "start_time": "2021-07-12T10:29:26.919Z"
   },
   {
    "duration": 483,
    "start_time": "2021-07-12T10:29:26.932Z"
   },
   {
    "duration": 3,
    "start_time": "2021-07-12T10:29:27.416Z"
   },
   {
    "duration": 825,
    "start_time": "2021-07-12T10:29:27.421Z"
   },
   {
    "duration": 8,
    "start_time": "2021-07-12T10:29:28.248Z"
   },
   {
    "duration": 398,
    "start_time": "2021-07-12T10:29:28.257Z"
   },
   {
    "duration": 15,
    "start_time": "2021-07-12T10:29:28.657Z"
   },
   {
    "duration": 370,
    "start_time": "2021-07-12T10:29:28.673Z"
   },
   {
    "duration": 21,
    "start_time": "2021-07-12T10:29:29.045Z"
   },
   {
    "duration": 3,
    "start_time": "2021-07-12T10:29:29.068Z"
   },
   {
    "duration": 8,
    "start_time": "2021-07-12T10:29:29.085Z"
   },
   {
    "duration": 436,
    "start_time": "2021-07-12T10:29:29.095Z"
   },
   {
    "duration": 414,
    "start_time": "2021-07-12T10:29:29.533Z"
   },
   {
    "duration": 15,
    "start_time": "2021-07-12T10:29:29.949Z"
   },
   {
    "duration": 621,
    "start_time": "2021-07-12T10:29:29.966Z"
   },
   {
    "duration": 5,
    "start_time": "2021-07-12T10:29:30.589Z"
   },
   {
    "duration": 33,
    "start_time": "2021-07-12T10:29:30.595Z"
   },
   {
    "duration": 297,
    "start_time": "2021-07-12T10:29:30.630Z"
   },
   {
    "duration": 6,
    "start_time": "2021-07-12T10:29:30.929Z"
   },
   {
    "duration": 17,
    "start_time": "2021-07-12T10:29:30.936Z"
   },
   {
    "duration": 31,
    "start_time": "2021-07-12T10:29:30.955Z"
   },
   {
    "duration": 16,
    "start_time": "2021-07-12T10:29:30.987Z"
   },
   {
    "duration": 362,
    "start_time": "2021-07-12T10:29:31.004Z"
   },
   {
    "duration": 27,
    "start_time": "2021-07-12T10:29:31.367Z"
   },
   {
    "duration": 400,
    "start_time": "2021-07-12T10:29:31.395Z"
   },
   {
    "duration": 407,
    "start_time": "2021-07-12T10:29:31.797Z"
   },
   {
    "duration": 10,
    "start_time": "2021-07-12T10:29:32.206Z"
   },
   {
    "duration": 11,
    "start_time": "2021-07-12T10:29:32.218Z"
   },
   {
    "duration": 9,
    "start_time": "2021-07-12T10:29:32.230Z"
   },
   {
    "duration": 44,
    "start_time": "2021-07-12T10:29:32.241Z"
   },
   {
    "duration": 17,
    "start_time": "2021-07-12T10:29:32.287Z"
   },
   {
    "duration": 15,
    "start_time": "2021-07-12T10:29:32.306Z"
   },
   {
    "duration": 15,
    "start_time": "2021-07-12T10:29:32.323Z"
   },
   {
    "duration": 12,
    "start_time": "2021-07-12T10:29:32.339Z"
   },
   {
    "duration": 9,
    "start_time": "2021-07-12T10:29:32.387Z"
   },
   {
    "duration": 7,
    "start_time": "2021-07-12T10:29:32.397Z"
   },
   {
    "duration": 1265,
    "start_time": "2021-07-12T10:29:32.405Z"
   },
   {
    "duration": 313,
    "start_time": "2021-07-12T10:29:33.671Z"
   },
   {
    "duration": 6,
    "start_time": "2021-07-12T10:29:33.986Z"
   },
   {
    "duration": 16,
    "start_time": "2021-07-12T10:29:33.994Z"
   },
   {
    "duration": 15,
    "start_time": "2021-07-12T10:29:34.012Z"
   },
   {
    "duration": 7,
    "start_time": "2021-07-12T10:29:34.028Z"
   },
   {
    "duration": 8,
    "start_time": "2021-07-12T10:29:34.036Z"
   },
   {
    "duration": 49,
    "start_time": "2021-07-12T10:29:34.045Z"
   },
   {
    "duration": 15,
    "start_time": "2021-07-12T10:29:34.096Z"
   },
   {
    "duration": 5,
    "start_time": "2021-07-12T10:29:34.113Z"
   },
   {
    "duration": 131364,
    "start_time": "2021-07-13T07:18:38.859Z"
   },
   {
    "duration": 204,
    "start_time": "2021-07-13T07:20:50.225Z"
   },
   {
    "duration": 12,
    "start_time": "2021-07-13T07:20:50.431Z"
   },
   {
    "duration": 10,
    "start_time": "2021-07-13T07:20:50.445Z"
   },
   {
    "duration": 12,
    "start_time": "2021-07-13T07:20:50.456Z"
   },
   {
    "duration": 32,
    "start_time": "2021-07-13T07:20:50.470Z"
   },
   {
    "duration": 29,
    "start_time": "2021-07-13T07:20:50.504Z"
   },
   {
    "duration": 2,
    "start_time": "2021-07-13T07:20:50.536Z"
   },
   {
    "duration": 54353,
    "start_time": "2021-07-13T07:20:50.540Z"
   },
   {
    "duration": 11,
    "start_time": "2021-07-13T07:21:44.895Z"
   },
   {
    "duration": 8,
    "start_time": "2021-07-13T07:21:44.908Z"
   },
   {
    "duration": 6,
    "start_time": "2021-07-13T07:21:44.917Z"
   },
   {
    "duration": 8,
    "start_time": "2021-07-13T07:21:44.925Z"
   },
   {
    "duration": 3,
    "start_time": "2021-07-13T07:21:44.935Z"
   },
   {
    "duration": 10,
    "start_time": "2021-07-13T07:21:44.939Z"
   },
   {
    "duration": 15,
    "start_time": "2021-07-13T07:21:44.950Z"
   },
   {
    "duration": 5,
    "start_time": "2021-07-13T07:21:44.966Z"
   },
   {
    "duration": 7,
    "start_time": "2021-07-13T07:21:44.972Z"
   },
   {
    "duration": 228,
    "start_time": "2021-07-13T07:21:44.981Z"
   },
   {
    "duration": 216,
    "start_time": "2021-07-13T07:21:45.211Z"
   },
   {
    "duration": 865,
    "start_time": "2021-07-13T07:21:45.428Z"
   },
   {
    "duration": 9,
    "start_time": "2021-07-13T07:21:46.294Z"
   },
   {
    "duration": 9,
    "start_time": "2021-07-13T07:21:46.307Z"
   },
   {
    "duration": 8,
    "start_time": "2021-07-13T07:21:46.319Z"
   },
   {
    "duration": 14,
    "start_time": "2021-07-13T07:21:46.329Z"
   },
   {
    "duration": 8,
    "start_time": "2021-07-13T07:21:46.344Z"
   },
   {
    "duration": 46,
    "start_time": "2021-07-13T07:21:46.354Z"
   },
   {
    "duration": 724,
    "start_time": "2021-07-13T07:21:46.402Z"
   },
   {
    "duration": 17,
    "start_time": "2021-07-13T07:21:47.127Z"
   },
   {
    "duration": 350,
    "start_time": "2021-07-13T07:21:47.145Z"
   },
   {
    "duration": 10,
    "start_time": "2021-07-13T07:21:47.497Z"
   },
   {
    "duration": 6,
    "start_time": "2021-07-13T07:21:47.508Z"
   },
   {
    "duration": 30,
    "start_time": "2021-07-13T07:21:47.515Z"
   },
   {
    "duration": 10,
    "start_time": "2021-07-13T07:21:47.547Z"
   },
   {
    "duration": 411,
    "start_time": "2021-07-13T07:21:47.559Z"
   },
   {
    "duration": 2,
    "start_time": "2021-07-13T07:21:47.972Z"
   },
   {
    "duration": 799,
    "start_time": "2021-07-13T07:21:47.976Z"
   },
   {
    "duration": 15,
    "start_time": "2021-07-13T07:21:48.776Z"
   },
   {
    "duration": 342,
    "start_time": "2021-07-13T07:21:48.792Z"
   },
   {
    "duration": 12,
    "start_time": "2021-07-13T07:21:49.136Z"
   },
   {
    "duration": 316,
    "start_time": "2021-07-13T07:21:49.150Z"
   },
   {
    "duration": 29,
    "start_time": "2021-07-13T07:21:49.468Z"
   },
   {
    "duration": 4,
    "start_time": "2021-07-13T07:21:49.498Z"
   },
   {
    "duration": 19,
    "start_time": "2021-07-13T07:21:49.503Z"
   },
   {
    "duration": 514,
    "start_time": "2021-07-13T07:21:49.524Z"
   },
   {
    "duration": 524,
    "start_time": "2021-07-13T07:21:50.039Z"
   },
   {
    "duration": 14,
    "start_time": "2021-07-13T07:21:50.564Z"
   },
   {
    "duration": 658,
    "start_time": "2021-07-13T07:21:50.579Z"
   },
   {
    "duration": 5,
    "start_time": "2021-07-13T07:21:51.238Z"
   },
   {
    "duration": 20,
    "start_time": "2021-07-13T07:21:51.245Z"
   },
   {
    "duration": 324,
    "start_time": "2021-07-13T07:21:51.267Z"
   },
   {
    "duration": 6,
    "start_time": "2021-07-13T07:21:51.592Z"
   },
   {
    "duration": 12,
    "start_time": "2021-07-13T07:21:51.599Z"
   },
   {
    "duration": 13,
    "start_time": "2021-07-13T07:21:51.613Z"
   },
   {
    "duration": 17,
    "start_time": "2021-07-13T07:21:51.628Z"
   },
   {
    "duration": 350,
    "start_time": "2021-07-13T07:21:51.647Z"
   },
   {
    "duration": 17,
    "start_time": "2021-07-13T07:21:51.998Z"
   },
   {
    "duration": 479,
    "start_time": "2021-07-13T07:21:52.017Z"
   },
   {
    "duration": 357,
    "start_time": "2021-07-13T07:21:52.498Z"
   },
   {
    "duration": 10,
    "start_time": "2021-07-13T07:21:52.857Z"
   },
   {
    "duration": 23,
    "start_time": "2021-07-13T07:21:52.869Z"
   },
   {
    "duration": 10,
    "start_time": "2021-07-13T07:21:52.894Z"
   },
   {
    "duration": 16,
    "start_time": "2021-07-13T07:21:52.906Z"
   },
   {
    "duration": 16,
    "start_time": "2021-07-13T07:21:52.923Z"
   },
   {
    "duration": 14,
    "start_time": "2021-07-13T07:21:52.941Z"
   },
   {
    "duration": 49,
    "start_time": "2021-07-13T07:21:52.956Z"
   },
   {
    "duration": 10,
    "start_time": "2021-07-13T07:21:53.006Z"
   },
   {
    "duration": 8,
    "start_time": "2021-07-13T07:21:53.020Z"
   },
   {
    "duration": 8,
    "start_time": "2021-07-13T07:21:53.029Z"
   },
   {
    "duration": 1300,
    "start_time": "2021-07-13T07:21:53.038Z"
   },
   {
    "duration": 330,
    "start_time": "2021-07-13T07:21:54.340Z"
   },
   {
    "duration": 19,
    "start_time": "2021-07-13T07:21:54.672Z"
   },
   {
    "duration": 15,
    "start_time": "2021-07-13T07:21:54.693Z"
   },
   {
    "duration": 13,
    "start_time": "2021-07-13T07:21:54.709Z"
   },
   {
    "duration": 4,
    "start_time": "2021-07-13T07:21:54.724Z"
   },
   {
    "duration": 7,
    "start_time": "2021-07-13T07:21:54.730Z"
   },
   {
    "duration": 13,
    "start_time": "2021-07-13T07:21:54.739Z"
   },
   {
    "duration": 41,
    "start_time": "2021-07-13T07:21:54.754Z"
   },
   {
    "duration": 6,
    "start_time": "2021-07-13T07:21:54.797Z"
   }
  ],
  "kernelspec": {
   "display_name": "Python 3 (ipykernel)",
   "language": "python",
   "name": "python3"
  },
  "language_info": {
   "codemirror_mode": {
    "name": "ipython",
    "version": 3
   },
   "file_extension": ".py",
   "mimetype": "text/x-python",
   "name": "python",
   "nbconvert_exporter": "python",
   "pygments_lexer": "ipython3",
   "version": "3.9.5"
  },
  "toc": {
   "base_numbering": 1,
   "nav_menu": {},
   "number_sections": true,
   "sideBar": true,
   "skip_h1_title": false,
   "title_cell": "Table of Contents",
   "title_sidebar": "Contents",
   "toc_cell": true,
   "toc_position": {},
   "toc_section_display": true,
   "toc_window_display": false
  },
  "varInspector": {
   "cols": {
    "lenName": 16,
    "lenType": 16,
    "lenVar": 40
   },
   "kernels_config": {
    "python": {
     "delete_cmd_postfix": "",
     "delete_cmd_prefix": "del ",
     "library": "var_list.py",
     "varRefreshCmd": "print(var_dic_list())"
    },
    "r": {
     "delete_cmd_postfix": ") ",
     "delete_cmd_prefix": "rm(",
     "library": "var_list.r",
     "varRefreshCmd": "cat(var_dic_list()) "
    }
   },
   "types_to_exclude": [
    "module",
    "function",
    "builtin_function_or_method",
    "instance",
    "_Feature"
   ],
   "window_display": false
  }
 },
 "nbformat": 4,
 "nbformat_minor": 5
}
