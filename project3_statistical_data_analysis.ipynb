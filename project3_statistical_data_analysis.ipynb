{
 "cells": [
  {
   "cell_type": "markdown",
   "id": "5ed1240e",
   "metadata": {},
   "source": [
    "# Review\n",
    "\n",
    "Hi, there!\n",
    "\n",
    "My name is Alpamys and I am your code reviewer for this project. \n",
    "\n",
    "I want to set things up as following:\n",
    "<div class=\"alert alert-success\">\n",
    "<b>Reviewer's comment:</b> if everything is done succesfully\n",
    "</div>\n",
    "\n",
    "<div class=\"alert alert-warning\">\n",
    "<b>Reviewer's comment: </b> if I can give some recommendations\n",
    "</div>\n",
    "\n",
    "<div class=\"alert alert-danger\">\n",
    "<b>Reviewer's comment:</b> if the block requires some corrections.\n",
    "</div>    "
   ]
  },
  {
   "cell_type": "markdown",
   "id": "6b0556d3",
   "metadata": {},
   "source": [
    "\n",
    "<span style=\"color:orange\">\n",
    "\n",
    "**General feedback**\n",
    "\n",
    "</span>\n",
    "\n",
    "\n",
    "First of all, I want to thank you for sending your project. You've done a really good job on it.\n",
    "\n",
    "I really liked how the code was structured and organized. Great usage of markdown cells.\n",
    "\n",
    "Moreover, I loved how you were trying to go beyond and demonstrate some over performance. Keep it up!\n",
    "\n",
    "Unfortunately, it seems like some questions were misunderstood and there are minor issues with code. Below I have provided some overall recommendations:\n",
    "* I would recommend providing some introduction and conclusion sections. Try to treat your notebook as an essay which should have the previously mentioned sections. That kind of attitude would guarantee high readability and leave some good impressions about your work\n",
    "* Try not to leave analysis and conclusion part to the user. I highly encourage you to interpret any output/visualization. As data analysts we don't want to leave the analysis to the reader\n",
    "* Excluding any excessive information or output might be a good idea. Any output that doesn't support your arguments is useless. We really want to make sure that any output either supports our arguments or answers some important research-related question\n",
    "* Visualizations. I highly recommend specifying __title__ and __X-axis & Y-axis labels__. Otherwise, it would be a nameless chart that have no informational value.\n",
    "* Try to explain your findings. Otherwise, your points won't have a solid ground\n",
    "\n",
    "There are still room for improvement, however, I am really impressed with your apporach :) Keep it up!\n"
   ]
  },
  {
   "cell_type": "markdown",
   "id": "78abcc0b",
   "metadata": {},
   "source": [
    "<font color='orange'><b><u>Feedback: iteration#2</u></b></font>\n",
    "<div style=\"border:solid orange 2px; padding: 40px\">\n",
    "\n",
    "\n",
    "Hi! Happy to see you again :)\n",
    "    \n",
    "Really want to thank you for fixing issues. Keep it up!\n",
    "    \n",
    "Also, I want to point out that you've done good progress!\n",
    "    \n",
    "If everything is okay, then every <b>REMARK and NEEDS FIXING</b> sections will be <s>crossed</s>\n",
    "    "
   ]
  },
  {
   "cell_type": "markdown",
   "id": "818673ed",
   "metadata": {},
   "source": [
    "# Telecom operator preliminary analysis of the plans\n",
    "## Based on small sample\n",
    "You work as analyst for the telecom operator Megaline. The company offers its clients two prepaid plans, Surf and Ultimate. The commercial department wants to know which of the plans brings in more revenue in order to adjust the advertising budget. You are going to carry out a preliminary analysis of the plans based on a relatively small clients election. You'll have the data on 500 Mega line clients: who the clients are, where they're from, which plan they use, and the number of calls they made and text messages they sent in 2018. Your job is to analyze clients' behavior and determine which prepaid plan brings in more revenue."
   ]
  },
  {
   "cell_type": "markdown",
   "id": "0137ab54",
   "metadata": {},
   "source": [
    "<font color='orange'><b><u>REMARK</u></b></font>\n",
    "<div class=\"alert alert-warning\" style=\"box-shadow: 4px 4px 4px\">\n",
    "\n",
    "I would suggest providing some introduction here. By doing so we make clear what can be expected from the research and what question/s will be answered.\n",
    "    \n",
    "It is a good idea to treat notebooks as a research or an argumentative essay. Thus, it should better have nice structure with introduction and conclusion. Moreover, we want to provide solid arguments with no \"water\". We should try to display only necessary information that supports our point of view.\n",
    "    \n",
    "</div>"
   ]
  },
  {
   "cell_type": "markdown",
   "id": "483109e7",
   "metadata": {},
   "source": [
    "## Open the data file and study the general information. "
   ]
  },
  {
   "cell_type": "code",
   "execution_count": 1,
   "id": "6856b076",
   "metadata": {},
   "outputs": [],
   "source": [
    "# import pandas and numpy library\n",
    "import numpy as np\n",
    "import pandas as pd\n",
    "import matplotlib.pyplot as plt\n",
    "import seaborn as sns\n",
    "import datetime\n",
    "from scipy import stats as st\n",
    "%matplotlib inline"
   ]
  },
  {
   "cell_type": "code",
   "execution_count": 2,
   "id": "9bd69237",
   "metadata": {},
   "outputs": [],
   "source": [
    "# read input data\n",
    "try:\n",
    "    df_calls = pd.read_csv(\"megaline_calls.csv\", sep=\",\")\n",
    "    df_internet = pd.read_csv(\"megaline_internet.csv\", sep=\",\")\n",
    "    df_messages = pd.read_csv(\"megaline_messages.csv\", sep=\",\")\n",
    "    df_plans = pd.read_csv(\"megaline_plans.csv\", sep=\",\")\n",
    "    df_users = pd.read_csv(\"megaline_users.csv\", sep=\",\")\n",
    "except:\n",
    "    df_calls = pd.read_csv(\"/datasets/megaline_calls.csv\", sep=\",\")\n",
    "    df_internet = pd.read_csv(\"/datasets/megaline_internet.csv\", sep=\",\")\n",
    "    df_messages = pd.read_csv(\"/datasets/megaline_messages.csv\", sep=\",\")\n",
    "    df_plans = pd.read_csv(\"/datasets/megaline_plans.csv\", sep=\",\")\n",
    "    df_users = pd.read_csv(\"/datasets/megaline_users.csv\", sep=\",\")"
   ]
  },
  {
   "cell_type": "code",
   "execution_count": 3,
   "id": "588a2dd2",
   "metadata": {},
   "outputs": [],
   "source": [
    "# list of datasets\n",
    "df_list = [df_calls, df_internet, df_messages, df_plans, df_users]\n",
    "df_names = [\"df_calls\", \"df_internet\", \"df_messages\", \"df_plans\", \"df_users\"]"
   ]
  },
  {
   "cell_type": "markdown",
   "id": "303ef614",
   "metadata": {},
   "source": [
    "<font color='green'><b><u>REVIEW</u></b></font>\n",
    "<div class=\"alert alert-success\" style=\"box-shadow: 4px 4px 4px\">\n",
    "    \n",
    "Good strategy to store dataframes as a list!\n",
    "    \n",
    "</div>"
   ]
  },
  {
   "cell_type": "markdown",
   "id": "4c45c333",
   "metadata": {},
   "source": [
    "#### Ill check every dataframe for missing values and  duplicates\n",
    "Then I'll join all of them to one data frame, making all NaN equal to zero"
   ]
  },
  {
   "cell_type": "markdown",
   "id": "58c0246e",
   "metadata": {},
   "source": [
    "<div class=\"alert alert-info\">\n",
    "  <strong>My fixing: </strong> I replaced the future date with 0\n",
    "</div>"
   ]
  },
  {
   "cell_type": "code",
   "execution_count": 4,
   "id": "9e72077b",
   "metadata": {},
   "outputs": [
    {
     "name": "stdout",
     "output_type": "stream",
     "text": [
      "\n",
      "For DataFrame df_calls:\n",
      "\n",
      "<class 'pandas.core.frame.DataFrame'>\n",
      "RangeIndex: 137735 entries, 0 to 137734\n",
      "Data columns (total 4 columns):\n",
      "id           137735 non-null object\n",
      "user_id      137735 non-null int64\n",
      "call_date    137735 non-null object\n",
      "duration     137735 non-null float64\n",
      "dtypes: float64(1), int64(1), object(2)\n",
      "memory usage: 4.2+ MB\n",
      "None\n",
      "\n",
      "For DataFrame df_internet:\n",
      "\n",
      "<class 'pandas.core.frame.DataFrame'>\n",
      "RangeIndex: 104825 entries, 0 to 104824\n",
      "Data columns (total 4 columns):\n",
      "id              104825 non-null object\n",
      "user_id         104825 non-null int64\n",
      "session_date    104825 non-null object\n",
      "mb_used         104825 non-null float64\n",
      "dtypes: float64(1), int64(1), object(2)\n",
      "memory usage: 3.2+ MB\n",
      "None\n",
      "\n",
      "For DataFrame df_messages:\n",
      "\n",
      "<class 'pandas.core.frame.DataFrame'>\n",
      "RangeIndex: 76051 entries, 0 to 76050\n",
      "Data columns (total 3 columns):\n",
      "id              76051 non-null object\n",
      "user_id         76051 non-null int64\n",
      "message_date    76051 non-null object\n",
      "dtypes: int64(1), object(2)\n",
      "memory usage: 1.7+ MB\n",
      "None\n",
      "\n",
      "For DataFrame df_plans:\n",
      "\n",
      "<class 'pandas.core.frame.DataFrame'>\n",
      "RangeIndex: 2 entries, 0 to 1\n",
      "Data columns (total 8 columns):\n",
      "messages_included        2 non-null int64\n",
      "mb_per_month_included    2 non-null int64\n",
      "minutes_included         2 non-null int64\n",
      "usd_monthly_pay          2 non-null int64\n",
      "usd_per_gb               2 non-null int64\n",
      "usd_per_message          2 non-null float64\n",
      "usd_per_minute           2 non-null float64\n",
      "plan_name                2 non-null object\n",
      "dtypes: float64(2), int64(5), object(1)\n",
      "memory usage: 256.0+ bytes\n",
      "None\n",
      "\n",
      "For DataFrame df_users:\n",
      "\n",
      "<class 'pandas.core.frame.DataFrame'>\n",
      "RangeIndex: 500 entries, 0 to 499\n",
      "Data columns (total 8 columns):\n",
      "user_id       500 non-null int64\n",
      "first_name    500 non-null object\n",
      "last_name     500 non-null object\n",
      "age           500 non-null int64\n",
      "city          500 non-null object\n",
      "reg_date      500 non-null object\n",
      "plan          500 non-null object\n",
      "churn_date    34 non-null object\n",
      "dtypes: int64(2), object(6)\n",
      "memory usage: 31.4+ KB\n",
      "None\n"
     ]
    }
   ],
   "source": [
    "for dfl, dfn in zip(df_list, df_names):\n",
    "    print()\n",
    "    print(f\"For DataFrame {dfn}:\")\n",
    "    print()\n",
    "    print(dfl.info())"
   ]
  },
  {
   "cell_type": "markdown",
   "id": "ea27b26d",
   "metadata": {},
   "source": [
    "<s>\n",
    "<font color='orange'><b><u>REMARK</u></b></font>\n",
    "<div class=\"alert alert-warning\" style=\"box-shadow: 4px 4px 4px\">\n",
    "\n",
    "Looks quite messy to me. It is really hard to distinguish which dataframe's information is being outputted.\n",
    "    \n",
    "It's really great that you've tried to perform the operation with fewer lines of code, however, we shouldn't sacrifice readibility of the work for it.\n",
    "    \n",
    "Therefore, in case you want to accomplish the task with the loop, then I would recommend adding some newlines and dataframe names in print so that it will be clear which dataframe is being explored. Otherwise, 4 different cells can be used\n",
    "    \n",
    "<b>Hint:</b> If you want to use loops, then I would encourage yout to look at built-in function called <b>zip()</b>. By the following [link](https://stackoverflow.com/questions/49783594/for-loop-and-zip-in-python/49783707) you can find similar problem. I believe that you'd find out to how to elegantly print dataframe and their names😉\n",
    "    \n",
    "</div>\n",
    "</s>"
   ]
  },
  {
   "cell_type": "markdown",
   "id": "b3197dff",
   "metadata": {},
   "source": [
    "<div class=\"alert alert-info\">\n",
    "  <strong>My fixing: </strong> \n",
    "</div>"
   ]
  },
  {
   "cell_type": "code",
   "execution_count": 5,
   "id": "caee54d2",
   "metadata": {},
   "outputs": [
    {
     "name": "stdout",
     "output_type": "stream",
     "text": [
      "\n",
      "For DataFrame df_calls:\n"
     ]
    },
    {
     "data": {
      "text/html": [
       "<div>\n",
       "<style scoped>\n",
       "    .dataframe tbody tr th:only-of-type {\n",
       "        vertical-align: middle;\n",
       "    }\n",
       "\n",
       "    .dataframe tbody tr th {\n",
       "        vertical-align: top;\n",
       "    }\n",
       "\n",
       "    .dataframe thead th {\n",
       "        text-align: right;\n",
       "    }\n",
       "</style>\n",
       "<table border=\"1\" class=\"dataframe\">\n",
       "  <thead>\n",
       "    <tr style=\"text-align: right;\">\n",
       "      <th></th>\n",
       "      <th>id</th>\n",
       "      <th>user_id</th>\n",
       "      <th>call_date</th>\n",
       "      <th>duration</th>\n",
       "    </tr>\n",
       "  </thead>\n",
       "  <tbody>\n",
       "    <tr>\n",
       "      <td>0</td>\n",
       "      <td>1000_93</td>\n",
       "      <td>1000</td>\n",
       "      <td>2018-12-27</td>\n",
       "      <td>8.52</td>\n",
       "    </tr>\n",
       "    <tr>\n",
       "      <td>1</td>\n",
       "      <td>1000_145</td>\n",
       "      <td>1000</td>\n",
       "      <td>2018-12-27</td>\n",
       "      <td>13.66</td>\n",
       "    </tr>\n",
       "    <tr>\n",
       "      <td>2</td>\n",
       "      <td>1000_247</td>\n",
       "      <td>1000</td>\n",
       "      <td>2018-12-27</td>\n",
       "      <td>14.48</td>\n",
       "    </tr>\n",
       "    <tr>\n",
       "      <td>3</td>\n",
       "      <td>1000_309</td>\n",
       "      <td>1000</td>\n",
       "      <td>2018-12-28</td>\n",
       "      <td>5.76</td>\n",
       "    </tr>\n",
       "    <tr>\n",
       "      <td>4</td>\n",
       "      <td>1000_380</td>\n",
       "      <td>1000</td>\n",
       "      <td>2018-12-30</td>\n",
       "      <td>4.22</td>\n",
       "    </tr>\n",
       "  </tbody>\n",
       "</table>\n",
       "</div>"
      ],
      "text/plain": [
       "         id  user_id   call_date  duration\n",
       "0   1000_93     1000  2018-12-27      8.52\n",
       "1  1000_145     1000  2018-12-27     13.66\n",
       "2  1000_247     1000  2018-12-27     14.48\n",
       "3  1000_309     1000  2018-12-28      5.76\n",
       "4  1000_380     1000  2018-12-30      4.22"
      ]
     },
     "metadata": {},
     "output_type": "display_data"
    },
    {
     "data": {
      "text/plain": [
       "(137735, 4)"
      ]
     },
     "metadata": {},
     "output_type": "display_data"
    },
    {
     "name": "stdout",
     "output_type": "stream",
     "text": [
      "\n",
      "For DataFrame df_internet:\n"
     ]
    },
    {
     "data": {
      "text/html": [
       "<div>\n",
       "<style scoped>\n",
       "    .dataframe tbody tr th:only-of-type {\n",
       "        vertical-align: middle;\n",
       "    }\n",
       "\n",
       "    .dataframe tbody tr th {\n",
       "        vertical-align: top;\n",
       "    }\n",
       "\n",
       "    .dataframe thead th {\n",
       "        text-align: right;\n",
       "    }\n",
       "</style>\n",
       "<table border=\"1\" class=\"dataframe\">\n",
       "  <thead>\n",
       "    <tr style=\"text-align: right;\">\n",
       "      <th></th>\n",
       "      <th>id</th>\n",
       "      <th>user_id</th>\n",
       "      <th>session_date</th>\n",
       "      <th>mb_used</th>\n",
       "    </tr>\n",
       "  </thead>\n",
       "  <tbody>\n",
       "    <tr>\n",
       "      <td>0</td>\n",
       "      <td>1000_13</td>\n",
       "      <td>1000</td>\n",
       "      <td>2018-12-29</td>\n",
       "      <td>89.86</td>\n",
       "    </tr>\n",
       "    <tr>\n",
       "      <td>1</td>\n",
       "      <td>1000_204</td>\n",
       "      <td>1000</td>\n",
       "      <td>2018-12-31</td>\n",
       "      <td>0.00</td>\n",
       "    </tr>\n",
       "    <tr>\n",
       "      <td>2</td>\n",
       "      <td>1000_379</td>\n",
       "      <td>1000</td>\n",
       "      <td>2018-12-28</td>\n",
       "      <td>660.40</td>\n",
       "    </tr>\n",
       "    <tr>\n",
       "      <td>3</td>\n",
       "      <td>1000_413</td>\n",
       "      <td>1000</td>\n",
       "      <td>2018-12-26</td>\n",
       "      <td>270.99</td>\n",
       "    </tr>\n",
       "    <tr>\n",
       "      <td>4</td>\n",
       "      <td>1000_442</td>\n",
       "      <td>1000</td>\n",
       "      <td>2018-12-27</td>\n",
       "      <td>880.22</td>\n",
       "    </tr>\n",
       "  </tbody>\n",
       "</table>\n",
       "</div>"
      ],
      "text/plain": [
       "         id  user_id session_date  mb_used\n",
       "0   1000_13     1000   2018-12-29    89.86\n",
       "1  1000_204     1000   2018-12-31     0.00\n",
       "2  1000_379     1000   2018-12-28   660.40\n",
       "3  1000_413     1000   2018-12-26   270.99\n",
       "4  1000_442     1000   2018-12-27   880.22"
      ]
     },
     "metadata": {},
     "output_type": "display_data"
    },
    {
     "data": {
      "text/plain": [
       "(104825, 4)"
      ]
     },
     "metadata": {},
     "output_type": "display_data"
    },
    {
     "name": "stdout",
     "output_type": "stream",
     "text": [
      "\n",
      "For DataFrame df_messages:\n"
     ]
    },
    {
     "data": {
      "text/html": [
       "<div>\n",
       "<style scoped>\n",
       "    .dataframe tbody tr th:only-of-type {\n",
       "        vertical-align: middle;\n",
       "    }\n",
       "\n",
       "    .dataframe tbody tr th {\n",
       "        vertical-align: top;\n",
       "    }\n",
       "\n",
       "    .dataframe thead th {\n",
       "        text-align: right;\n",
       "    }\n",
       "</style>\n",
       "<table border=\"1\" class=\"dataframe\">\n",
       "  <thead>\n",
       "    <tr style=\"text-align: right;\">\n",
       "      <th></th>\n",
       "      <th>id</th>\n",
       "      <th>user_id</th>\n",
       "      <th>message_date</th>\n",
       "    </tr>\n",
       "  </thead>\n",
       "  <tbody>\n",
       "    <tr>\n",
       "      <td>0</td>\n",
       "      <td>1000_125</td>\n",
       "      <td>1000</td>\n",
       "      <td>2018-12-27</td>\n",
       "    </tr>\n",
       "    <tr>\n",
       "      <td>1</td>\n",
       "      <td>1000_160</td>\n",
       "      <td>1000</td>\n",
       "      <td>2018-12-31</td>\n",
       "    </tr>\n",
       "    <tr>\n",
       "      <td>2</td>\n",
       "      <td>1000_223</td>\n",
       "      <td>1000</td>\n",
       "      <td>2018-12-31</td>\n",
       "    </tr>\n",
       "    <tr>\n",
       "      <td>3</td>\n",
       "      <td>1000_251</td>\n",
       "      <td>1000</td>\n",
       "      <td>2018-12-27</td>\n",
       "    </tr>\n",
       "    <tr>\n",
       "      <td>4</td>\n",
       "      <td>1000_255</td>\n",
       "      <td>1000</td>\n",
       "      <td>2018-12-26</td>\n",
       "    </tr>\n",
       "  </tbody>\n",
       "</table>\n",
       "</div>"
      ],
      "text/plain": [
       "         id  user_id message_date\n",
       "0  1000_125     1000   2018-12-27\n",
       "1  1000_160     1000   2018-12-31\n",
       "2  1000_223     1000   2018-12-31\n",
       "3  1000_251     1000   2018-12-27\n",
       "4  1000_255     1000   2018-12-26"
      ]
     },
     "metadata": {},
     "output_type": "display_data"
    },
    {
     "data": {
      "text/plain": [
       "(76051, 3)"
      ]
     },
     "metadata": {},
     "output_type": "display_data"
    },
    {
     "name": "stdout",
     "output_type": "stream",
     "text": [
      "\n",
      "For DataFrame df_plans:\n"
     ]
    },
    {
     "data": {
      "text/html": [
       "<div>\n",
       "<style scoped>\n",
       "    .dataframe tbody tr th:only-of-type {\n",
       "        vertical-align: middle;\n",
       "    }\n",
       "\n",
       "    .dataframe tbody tr th {\n",
       "        vertical-align: top;\n",
       "    }\n",
       "\n",
       "    .dataframe thead th {\n",
       "        text-align: right;\n",
       "    }\n",
       "</style>\n",
       "<table border=\"1\" class=\"dataframe\">\n",
       "  <thead>\n",
       "    <tr style=\"text-align: right;\">\n",
       "      <th></th>\n",
       "      <th>messages_included</th>\n",
       "      <th>mb_per_month_included</th>\n",
       "      <th>minutes_included</th>\n",
       "      <th>usd_monthly_pay</th>\n",
       "      <th>usd_per_gb</th>\n",
       "      <th>usd_per_message</th>\n",
       "      <th>usd_per_minute</th>\n",
       "      <th>plan_name</th>\n",
       "    </tr>\n",
       "  </thead>\n",
       "  <tbody>\n",
       "    <tr>\n",
       "      <td>0</td>\n",
       "      <td>50</td>\n",
       "      <td>15360</td>\n",
       "      <td>500</td>\n",
       "      <td>20</td>\n",
       "      <td>10</td>\n",
       "      <td>0.03</td>\n",
       "      <td>0.03</td>\n",
       "      <td>surf</td>\n",
       "    </tr>\n",
       "    <tr>\n",
       "      <td>1</td>\n",
       "      <td>1000</td>\n",
       "      <td>30720</td>\n",
       "      <td>3000</td>\n",
       "      <td>70</td>\n",
       "      <td>7</td>\n",
       "      <td>0.01</td>\n",
       "      <td>0.01</td>\n",
       "      <td>ultimate</td>\n",
       "    </tr>\n",
       "  </tbody>\n",
       "</table>\n",
       "</div>"
      ],
      "text/plain": [
       "   messages_included  mb_per_month_included  minutes_included  \\\n",
       "0                 50                  15360               500   \n",
       "1               1000                  30720              3000   \n",
       "\n",
       "   usd_monthly_pay  usd_per_gb  usd_per_message  usd_per_minute plan_name  \n",
       "0               20          10             0.03            0.03      surf  \n",
       "1               70           7             0.01            0.01  ultimate  "
      ]
     },
     "metadata": {},
     "output_type": "display_data"
    },
    {
     "data": {
      "text/plain": [
       "(2, 8)"
      ]
     },
     "metadata": {},
     "output_type": "display_data"
    },
    {
     "name": "stdout",
     "output_type": "stream",
     "text": [
      "\n",
      "For DataFrame df_users:\n"
     ]
    },
    {
     "data": {
      "text/html": [
       "<div>\n",
       "<style scoped>\n",
       "    .dataframe tbody tr th:only-of-type {\n",
       "        vertical-align: middle;\n",
       "    }\n",
       "\n",
       "    .dataframe tbody tr th {\n",
       "        vertical-align: top;\n",
       "    }\n",
       "\n",
       "    .dataframe thead th {\n",
       "        text-align: right;\n",
       "    }\n",
       "</style>\n",
       "<table border=\"1\" class=\"dataframe\">\n",
       "  <thead>\n",
       "    <tr style=\"text-align: right;\">\n",
       "      <th></th>\n",
       "      <th>user_id</th>\n",
       "      <th>first_name</th>\n",
       "      <th>last_name</th>\n",
       "      <th>age</th>\n",
       "      <th>city</th>\n",
       "      <th>reg_date</th>\n",
       "      <th>plan</th>\n",
       "      <th>churn_date</th>\n",
       "    </tr>\n",
       "  </thead>\n",
       "  <tbody>\n",
       "    <tr>\n",
       "      <td>0</td>\n",
       "      <td>1000</td>\n",
       "      <td>Anamaria</td>\n",
       "      <td>Bauer</td>\n",
       "      <td>45</td>\n",
       "      <td>Atlanta-Sandy Springs-Roswell, GA MSA</td>\n",
       "      <td>2018-12-24</td>\n",
       "      <td>ultimate</td>\n",
       "      <td>NaN</td>\n",
       "    </tr>\n",
       "    <tr>\n",
       "      <td>1</td>\n",
       "      <td>1001</td>\n",
       "      <td>Mickey</td>\n",
       "      <td>Wilkerson</td>\n",
       "      <td>28</td>\n",
       "      <td>Seattle-Tacoma-Bellevue, WA MSA</td>\n",
       "      <td>2018-08-13</td>\n",
       "      <td>surf</td>\n",
       "      <td>NaN</td>\n",
       "    </tr>\n",
       "    <tr>\n",
       "      <td>2</td>\n",
       "      <td>1002</td>\n",
       "      <td>Carlee</td>\n",
       "      <td>Hoffman</td>\n",
       "      <td>36</td>\n",
       "      <td>Las Vegas-Henderson-Paradise, NV MSA</td>\n",
       "      <td>2018-10-21</td>\n",
       "      <td>surf</td>\n",
       "      <td>NaN</td>\n",
       "    </tr>\n",
       "    <tr>\n",
       "      <td>3</td>\n",
       "      <td>1003</td>\n",
       "      <td>Reynaldo</td>\n",
       "      <td>Jenkins</td>\n",
       "      <td>52</td>\n",
       "      <td>Tulsa, OK MSA</td>\n",
       "      <td>2018-01-28</td>\n",
       "      <td>surf</td>\n",
       "      <td>NaN</td>\n",
       "    </tr>\n",
       "    <tr>\n",
       "      <td>4</td>\n",
       "      <td>1004</td>\n",
       "      <td>Leonila</td>\n",
       "      <td>Thompson</td>\n",
       "      <td>40</td>\n",
       "      <td>Seattle-Tacoma-Bellevue, WA MSA</td>\n",
       "      <td>2018-05-23</td>\n",
       "      <td>surf</td>\n",
       "      <td>NaN</td>\n",
       "    </tr>\n",
       "  </tbody>\n",
       "</table>\n",
       "</div>"
      ],
      "text/plain": [
       "   user_id first_name  last_name  age                                   city  \\\n",
       "0     1000   Anamaria      Bauer   45  Atlanta-Sandy Springs-Roswell, GA MSA   \n",
       "1     1001     Mickey  Wilkerson   28        Seattle-Tacoma-Bellevue, WA MSA   \n",
       "2     1002     Carlee    Hoffman   36   Las Vegas-Henderson-Paradise, NV MSA   \n",
       "3     1003   Reynaldo    Jenkins   52                          Tulsa, OK MSA   \n",
       "4     1004    Leonila   Thompson   40        Seattle-Tacoma-Bellevue, WA MSA   \n",
       "\n",
       "     reg_date      plan churn_date  \n",
       "0  2018-12-24  ultimate        NaN  \n",
       "1  2018-08-13      surf        NaN  \n",
       "2  2018-10-21      surf        NaN  \n",
       "3  2018-01-28      surf        NaN  \n",
       "4  2018-05-23      surf        NaN  "
      ]
     },
     "metadata": {},
     "output_type": "display_data"
    },
    {
     "data": {
      "text/plain": [
       "(500, 8)"
      ]
     },
     "metadata": {},
     "output_type": "display_data"
    }
   ],
   "source": [
    "for dfl, dfn in zip(df_list, df_names):\n",
    "    print()\n",
    "    print(f\"For DataFrame {dfn}:\")\n",
    "    display(dfl.head())\n",
    "    display(dfl.shape)"
   ]
  },
  {
   "cell_type": "markdown",
   "id": "f410287d",
   "metadata": {},
   "source": [
    "<s>\n",
    "<font color='orange'><b><u>REMARK</u></b></font>\n",
    "<div class=\"alert alert-warning\" style=\"box-shadow: 4px 4px 4px\">\n",
    "\n",
    "It is highly recommended to <b>display() instead of print()</b> when we calling <b>df.head()</b>. Display method prints \"beautified\" version of the dataframe, thus, the outpud would look cleaner.\n",
    "    \n",
    "Moreover, I encourage you to print the dataframe names, so that outputs from different dataframes will be distinguishable. \n",
    "    \n",
    "It could be a good idea to add some information while printing the shape of dataframe. Now, it is not quite clear what those numbers mean and what they represent\n",
    "</div>\n",
    "</s>"
   ]
  },
  {
   "cell_type": "markdown",
   "id": "f038cdb3",
   "metadata": {},
   "source": [
    "checking for missing values"
   ]
  },
  {
   "cell_type": "markdown",
   "id": "9a732876",
   "metadata": {},
   "source": [
    "<div class=\"alert alert-info\">\n",
    "  <strong>My fixing: </strong> I replaced the future date with 0\n",
    "</div>"
   ]
  },
  {
   "cell_type": "code",
   "execution_count": 6,
   "id": "3cf391bf",
   "metadata": {},
   "outputs": [
    {
     "name": "stdout",
     "output_type": "stream",
     "text": [
      "\n",
      "For DataFrame df_calls:\n"
     ]
    },
    {
     "data": {
      "text/html": [
       "<div>\n",
       "<style scoped>\n",
       "    .dataframe tbody tr th:only-of-type {\n",
       "        vertical-align: middle;\n",
       "    }\n",
       "\n",
       "    .dataframe tbody tr th {\n",
       "        vertical-align: top;\n",
       "    }\n",
       "\n",
       "    .dataframe thead th {\n",
       "        text-align: right;\n",
       "    }\n",
       "</style>\n",
       "<table border=\"1\" class=\"dataframe\">\n",
       "  <thead>\n",
       "    <tr style=\"text-align: right;\">\n",
       "      <th></th>\n",
       "      <th>missing_values</th>\n",
       "      <th>%_of_total</th>\n",
       "    </tr>\n",
       "  </thead>\n",
       "  <tbody>\n",
       "    <tr>\n",
       "      <td>id</td>\n",
       "      <td>0</td>\n",
       "      <td>0.0</td>\n",
       "    </tr>\n",
       "    <tr>\n",
       "      <td>user_id</td>\n",
       "      <td>0</td>\n",
       "      <td>0.0</td>\n",
       "    </tr>\n",
       "    <tr>\n",
       "      <td>call_date</td>\n",
       "      <td>0</td>\n",
       "      <td>0.0</td>\n",
       "    </tr>\n",
       "    <tr>\n",
       "      <td>duration</td>\n",
       "      <td>0</td>\n",
       "      <td>0.0</td>\n",
       "    </tr>\n",
       "  </tbody>\n",
       "</table>\n",
       "</div>"
      ],
      "text/plain": [
       "           missing_values  %_of_total\n",
       "id                      0         0.0\n",
       "user_id                 0         0.0\n",
       "call_date               0         0.0\n",
       "duration                0         0.0"
      ]
     },
     "metadata": {},
     "output_type": "display_data"
    },
    {
     "name": "stdout",
     "output_type": "stream",
     "text": [
      "\n",
      "For DataFrame df_internet:\n"
     ]
    },
    {
     "data": {
      "text/html": [
       "<div>\n",
       "<style scoped>\n",
       "    .dataframe tbody tr th:only-of-type {\n",
       "        vertical-align: middle;\n",
       "    }\n",
       "\n",
       "    .dataframe tbody tr th {\n",
       "        vertical-align: top;\n",
       "    }\n",
       "\n",
       "    .dataframe thead th {\n",
       "        text-align: right;\n",
       "    }\n",
       "</style>\n",
       "<table border=\"1\" class=\"dataframe\">\n",
       "  <thead>\n",
       "    <tr style=\"text-align: right;\">\n",
       "      <th></th>\n",
       "      <th>missing_values</th>\n",
       "      <th>%_of_total</th>\n",
       "    </tr>\n",
       "  </thead>\n",
       "  <tbody>\n",
       "    <tr>\n",
       "      <td>id</td>\n",
       "      <td>0</td>\n",
       "      <td>0.0</td>\n",
       "    </tr>\n",
       "    <tr>\n",
       "      <td>user_id</td>\n",
       "      <td>0</td>\n",
       "      <td>0.0</td>\n",
       "    </tr>\n",
       "    <tr>\n",
       "      <td>session_date</td>\n",
       "      <td>0</td>\n",
       "      <td>0.0</td>\n",
       "    </tr>\n",
       "    <tr>\n",
       "      <td>mb_used</td>\n",
       "      <td>0</td>\n",
       "      <td>0.0</td>\n",
       "    </tr>\n",
       "  </tbody>\n",
       "</table>\n",
       "</div>"
      ],
      "text/plain": [
       "              missing_values  %_of_total\n",
       "id                         0         0.0\n",
       "user_id                    0         0.0\n",
       "session_date               0         0.0\n",
       "mb_used                    0         0.0"
      ]
     },
     "metadata": {},
     "output_type": "display_data"
    },
    {
     "name": "stdout",
     "output_type": "stream",
     "text": [
      "\n",
      "For DataFrame df_messages:\n"
     ]
    },
    {
     "data": {
      "text/html": [
       "<div>\n",
       "<style scoped>\n",
       "    .dataframe tbody tr th:only-of-type {\n",
       "        vertical-align: middle;\n",
       "    }\n",
       "\n",
       "    .dataframe tbody tr th {\n",
       "        vertical-align: top;\n",
       "    }\n",
       "\n",
       "    .dataframe thead th {\n",
       "        text-align: right;\n",
       "    }\n",
       "</style>\n",
       "<table border=\"1\" class=\"dataframe\">\n",
       "  <thead>\n",
       "    <tr style=\"text-align: right;\">\n",
       "      <th></th>\n",
       "      <th>missing_values</th>\n",
       "      <th>%_of_total</th>\n",
       "    </tr>\n",
       "  </thead>\n",
       "  <tbody>\n",
       "    <tr>\n",
       "      <td>id</td>\n",
       "      <td>0</td>\n",
       "      <td>0.0</td>\n",
       "    </tr>\n",
       "    <tr>\n",
       "      <td>user_id</td>\n",
       "      <td>0</td>\n",
       "      <td>0.0</td>\n",
       "    </tr>\n",
       "    <tr>\n",
       "      <td>message_date</td>\n",
       "      <td>0</td>\n",
       "      <td>0.0</td>\n",
       "    </tr>\n",
       "  </tbody>\n",
       "</table>\n",
       "</div>"
      ],
      "text/plain": [
       "              missing_values  %_of_total\n",
       "id                         0         0.0\n",
       "user_id                    0         0.0\n",
       "message_date               0         0.0"
      ]
     },
     "metadata": {},
     "output_type": "display_data"
    },
    {
     "name": "stdout",
     "output_type": "stream",
     "text": [
      "\n",
      "For DataFrame df_plans:\n"
     ]
    },
    {
     "data": {
      "text/html": [
       "<div>\n",
       "<style scoped>\n",
       "    .dataframe tbody tr th:only-of-type {\n",
       "        vertical-align: middle;\n",
       "    }\n",
       "\n",
       "    .dataframe tbody tr th {\n",
       "        vertical-align: top;\n",
       "    }\n",
       "\n",
       "    .dataframe thead th {\n",
       "        text-align: right;\n",
       "    }\n",
       "</style>\n",
       "<table border=\"1\" class=\"dataframe\">\n",
       "  <thead>\n",
       "    <tr style=\"text-align: right;\">\n",
       "      <th></th>\n",
       "      <th>missing_values</th>\n",
       "      <th>%_of_total</th>\n",
       "    </tr>\n",
       "  </thead>\n",
       "  <tbody>\n",
       "    <tr>\n",
       "      <td>messages_included</td>\n",
       "      <td>0</td>\n",
       "      <td>0.0</td>\n",
       "    </tr>\n",
       "    <tr>\n",
       "      <td>mb_per_month_included</td>\n",
       "      <td>0</td>\n",
       "      <td>0.0</td>\n",
       "    </tr>\n",
       "    <tr>\n",
       "      <td>minutes_included</td>\n",
       "      <td>0</td>\n",
       "      <td>0.0</td>\n",
       "    </tr>\n",
       "    <tr>\n",
       "      <td>usd_monthly_pay</td>\n",
       "      <td>0</td>\n",
       "      <td>0.0</td>\n",
       "    </tr>\n",
       "    <tr>\n",
       "      <td>usd_per_gb</td>\n",
       "      <td>0</td>\n",
       "      <td>0.0</td>\n",
       "    </tr>\n",
       "    <tr>\n",
       "      <td>usd_per_message</td>\n",
       "      <td>0</td>\n",
       "      <td>0.0</td>\n",
       "    </tr>\n",
       "    <tr>\n",
       "      <td>usd_per_minute</td>\n",
       "      <td>0</td>\n",
       "      <td>0.0</td>\n",
       "    </tr>\n",
       "    <tr>\n",
       "      <td>plan_name</td>\n",
       "      <td>0</td>\n",
       "      <td>0.0</td>\n",
       "    </tr>\n",
       "  </tbody>\n",
       "</table>\n",
       "</div>"
      ],
      "text/plain": [
       "                       missing_values  %_of_total\n",
       "messages_included                   0         0.0\n",
       "mb_per_month_included               0         0.0\n",
       "minutes_included                    0         0.0\n",
       "usd_monthly_pay                     0         0.0\n",
       "usd_per_gb                          0         0.0\n",
       "usd_per_message                     0         0.0\n",
       "usd_per_minute                      0         0.0\n",
       "plan_name                           0         0.0"
      ]
     },
     "metadata": {},
     "output_type": "display_data"
    },
    {
     "name": "stdout",
     "output_type": "stream",
     "text": [
      "\n",
      "For DataFrame df_users:\n"
     ]
    },
    {
     "data": {
      "text/html": [
       "<div>\n",
       "<style scoped>\n",
       "    .dataframe tbody tr th:only-of-type {\n",
       "        vertical-align: middle;\n",
       "    }\n",
       "\n",
       "    .dataframe tbody tr th {\n",
       "        vertical-align: top;\n",
       "    }\n",
       "\n",
       "    .dataframe thead th {\n",
       "        text-align: right;\n",
       "    }\n",
       "</style>\n",
       "<table border=\"1\" class=\"dataframe\">\n",
       "  <thead>\n",
       "    <tr style=\"text-align: right;\">\n",
       "      <th></th>\n",
       "      <th>missing_values</th>\n",
       "      <th>%_of_total</th>\n",
       "    </tr>\n",
       "  </thead>\n",
       "  <tbody>\n",
       "    <tr>\n",
       "      <td>churn_date</td>\n",
       "      <td>466</td>\n",
       "      <td>93.2</td>\n",
       "    </tr>\n",
       "    <tr>\n",
       "      <td>user_id</td>\n",
       "      <td>0</td>\n",
       "      <td>0.0</td>\n",
       "    </tr>\n",
       "    <tr>\n",
       "      <td>first_name</td>\n",
       "      <td>0</td>\n",
       "      <td>0.0</td>\n",
       "    </tr>\n",
       "    <tr>\n",
       "      <td>last_name</td>\n",
       "      <td>0</td>\n",
       "      <td>0.0</td>\n",
       "    </tr>\n",
       "    <tr>\n",
       "      <td>age</td>\n",
       "      <td>0</td>\n",
       "      <td>0.0</td>\n",
       "    </tr>\n",
       "    <tr>\n",
       "      <td>city</td>\n",
       "      <td>0</td>\n",
       "      <td>0.0</td>\n",
       "    </tr>\n",
       "    <tr>\n",
       "      <td>reg_date</td>\n",
       "      <td>0</td>\n",
       "      <td>0.0</td>\n",
       "    </tr>\n",
       "    <tr>\n",
       "      <td>plan</td>\n",
       "      <td>0</td>\n",
       "      <td>0.0</td>\n",
       "    </tr>\n",
       "  </tbody>\n",
       "</table>\n",
       "</div>"
      ],
      "text/plain": [
       "            missing_values  %_of_total\n",
       "churn_date             466        93.2\n",
       "user_id                  0         0.0\n",
       "first_name               0         0.0\n",
       "last_name                0         0.0\n",
       "age                      0         0.0\n",
       "city                     0         0.0\n",
       "reg_date                 0         0.0\n",
       "plan                     0         0.0"
      ]
     },
     "metadata": {},
     "output_type": "display_data"
    }
   ],
   "source": [
    "# list of all missing values in the Dataset - in total and %\n",
    "for dfl, dfn in zip(df_list, df_names):\n",
    "    print()\n",
    "    report = dfl.isna().sum().to_frame()\n",
    "    report = report.rename(columns={0: \"missing_values\"})\n",
    "    report[\"%_of_total\"] = (report[\"missing_values\"] /\n",
    "                            dfl.shape[0] * 100).round(2)\n",
    "    print(f\"For DataFrame {dfn}:\")\n",
    "    display(report.sort_values(by=\"missing_values\", ascending=False))"
   ]
  },
  {
   "cell_type": "markdown",
   "id": "32dcad1d",
   "metadata": {},
   "source": [
    "every table except \"users\" doesn't  have missing values. the only missing value is in churn_date — the date the user stopped using the service (if the value is missing, the calling plan was being used when this data was retrieved).\n",
    "I will replace it with the date of the year end in order to not change the calculations"
   ]
  },
  {
   "cell_type": "markdown",
   "id": "4a5f0d7d",
   "metadata": {},
   "source": [
    "<font color='green'><b><u>REVIEW</u></b></font>\n",
    "<div class=\"alert alert-success\" style=\"box-shadow: 4px 4px 4px\">\n",
    "\n",
    "Loved to see that share of missing values were also displayed in percents😍\n",
    "    \n",
    "</div>"
   ]
  },
  {
   "cell_type": "markdown",
   "id": "d587ccd0",
   "metadata": {},
   "source": [
    "<s>\n",
    "<font color='orange'><b><u>REMARK</u></b></font>\n",
    "<div class=\"alert alert-warning\" style=\"box-shadow: 4px 4px 4px\">\n",
    "\n",
    "Same as above. Usage of <b>display() instead of print()</b> and printing dataframes should work fine here.\n",
    "     \n",
    "</div>\n",
    "</s>"
   ]
  },
  {
   "cell_type": "code",
   "execution_count": 7,
   "id": "340336e0",
   "metadata": {},
   "outputs": [],
   "source": [
    "#df_users.loc[df_users[\"churn_date\"].isnull(), \"churn_date\"] = \"2019-12-31\""
   ]
  },
  {
   "cell_type": "markdown",
   "id": "3b0d6203",
   "metadata": {},
   "source": [
    "<div class=\"alert alert-info\">\n",
    "  <strong>My fixing: </strong> I replaced the future date with 0\n",
    "</div>"
   ]
  },
  {
   "cell_type": "code",
   "execution_count": 8,
   "id": "ef76fb34",
   "metadata": {},
   "outputs": [],
   "source": [
    "# I will replace all NaN with 0.0 and replace the type of the column to bool\n",
    "df_users.loc[df_users[\"churn_date\"].isnull(), \"churn_date\"] = 0"
   ]
  },
  {
   "cell_type": "code",
   "execution_count": 9,
   "id": "d7eccc6c",
   "metadata": {},
   "outputs": [
    {
     "data": {
      "text/html": [
       "<div>\n",
       "<style scoped>\n",
       "    .dataframe tbody tr th:only-of-type {\n",
       "        vertical-align: middle;\n",
       "    }\n",
       "\n",
       "    .dataframe tbody tr th {\n",
       "        vertical-align: top;\n",
       "    }\n",
       "\n",
       "    .dataframe thead th {\n",
       "        text-align: right;\n",
       "    }\n",
       "</style>\n",
       "<table border=\"1\" class=\"dataframe\">\n",
       "  <thead>\n",
       "    <tr style=\"text-align: right;\">\n",
       "      <th></th>\n",
       "      <th>missing_values</th>\n",
       "      <th>%_of_total</th>\n",
       "    </tr>\n",
       "  </thead>\n",
       "  <tbody>\n",
       "    <tr>\n",
       "      <td>user_id</td>\n",
       "      <td>0</td>\n",
       "      <td>0.0</td>\n",
       "    </tr>\n",
       "    <tr>\n",
       "      <td>first_name</td>\n",
       "      <td>0</td>\n",
       "      <td>0.0</td>\n",
       "    </tr>\n",
       "    <tr>\n",
       "      <td>last_name</td>\n",
       "      <td>0</td>\n",
       "      <td>0.0</td>\n",
       "    </tr>\n",
       "    <tr>\n",
       "      <td>age</td>\n",
       "      <td>0</td>\n",
       "      <td>0.0</td>\n",
       "    </tr>\n",
       "    <tr>\n",
       "      <td>city</td>\n",
       "      <td>0</td>\n",
       "      <td>0.0</td>\n",
       "    </tr>\n",
       "    <tr>\n",
       "      <td>reg_date</td>\n",
       "      <td>0</td>\n",
       "      <td>0.0</td>\n",
       "    </tr>\n",
       "    <tr>\n",
       "      <td>plan</td>\n",
       "      <td>0</td>\n",
       "      <td>0.0</td>\n",
       "    </tr>\n",
       "    <tr>\n",
       "      <td>churn_date</td>\n",
       "      <td>0</td>\n",
       "      <td>0.0</td>\n",
       "    </tr>\n",
       "  </tbody>\n",
       "</table>\n",
       "</div>"
      ],
      "text/plain": [
       "            missing_values  %_of_total\n",
       "user_id                  0         0.0\n",
       "first_name               0         0.0\n",
       "last_name                0         0.0\n",
       "age                      0         0.0\n",
       "city                     0         0.0\n",
       "reg_date                 0         0.0\n",
       "plan                     0         0.0\n",
       "churn_date               0         0.0"
      ]
     },
     "metadata": {},
     "output_type": "display_data"
    }
   ],
   "source": [
    "# veryfy\n",
    "report = df_users.isna().sum().to_frame()\n",
    "report = report.rename(columns={0: \"missing_values\"})\n",
    "report[\"%_of_total\"] = (report[\"missing_values\"] /\n",
    "                        df_users.shape[0] * 100).round(2)\n",
    "display(report.sort_values(by=\"missing_values\", ascending=False))"
   ]
  },
  {
   "cell_type": "markdown",
   "id": "bf208ce1",
   "metadata": {},
   "source": [
    "checking for duplicates"
   ]
  },
  {
   "cell_type": "markdown",
   "id": "9ae42d01",
   "metadata": {},
   "source": [
    "<div class=\"alert alert-info\">\n",
    "  <strong>My fixing: </strong>\n",
    "</div>"
   ]
  },
  {
   "cell_type": "code",
   "execution_count": 10,
   "id": "0d94e03a",
   "metadata": {},
   "outputs": [
    {
     "name": "stdout",
     "output_type": "stream",
     "text": [
      "Number of duplictes in df_calls is  \t\t0\n",
      "Number of duplictes in df_internet is  \t\t0\n",
      "Number of duplictes in df_messages is  \t\t0\n",
      "Number of duplictes in df_plans is  \t\t0\n",
      "Number of duplictes in df_users is  \t\t0\n"
     ]
    }
   ],
   "source": [
    "# first stage of finding duplicates - make all \"Object\" columns lower case\n",
    "# to avoid not finding duplicates with same values but mix upper and lower cases\n",
    "for df in df_list:\n",
    "    for column in df.select_dtypes(\"object\").columns:\n",
    "        df[column] = df[column].str.lower()\n",
    "# check to see if there are exact duplicates:\n",
    "for dfl, dfn in zip(df_list, df_names):\n",
    "    print(f\"Number of duplictes in {dfn} is  \\t\\t{dfl.duplicated().sum()}\")"
   ]
  },
  {
   "cell_type": "markdown",
   "id": "51b5baf6",
   "metadata": {},
   "source": [
    "no duplicates on the data"
   ]
  },
  {
   "cell_type": "markdown",
   "id": "76c64bca",
   "metadata": {},
   "source": [
    "<font color='green'><b><u>REVIEW</u></b></font>\n",
    "<div class=\"alert alert-success\" style=\"box-shadow: 4px 4px 4px\">\n",
    "\n",
    "I want to point out that your approach is really good! After fixing some minor issues it would perferct! Keep it up!  \n",
    "  \n",
    "</div>"
   ]
  },
  {
   "cell_type": "markdown",
   "id": "037c8ed2",
   "metadata": {},
   "source": [
    "### changing the type of the data\n",
    "manualy check every data frame"
   ]
  },
  {
   "cell_type": "markdown",
   "id": "e8b5fd87",
   "metadata": {},
   "source": [
    "#### df_calls"
   ]
  },
  {
   "cell_type": "code",
   "execution_count": 11,
   "id": "701031f9",
   "metadata": {},
   "outputs": [
    {
     "name": "stdout",
     "output_type": "stream",
     "text": [
      "<class 'pandas.core.frame.DataFrame'>\n",
      "RangeIndex: 137735 entries, 0 to 137734\n",
      "Data columns (total 4 columns):\n",
      "id           137735 non-null object\n",
      "user_id      137735 non-null int64\n",
      "call_date    137735 non-null object\n",
      "duration     137735 non-null float64\n",
      "dtypes: float64(1), int64(1), object(2)\n",
      "memory usage: 4.2+ MB\n"
     ]
    }
   ],
   "source": [
    "# checking the calls data frame columns type\n",
    "df_calls.info()"
   ]
  },
  {
   "cell_type": "code",
   "execution_count": 12,
   "id": "691d9e01",
   "metadata": {
    "scrolled": true
   },
   "outputs": [
    {
     "data": {
      "text/html": [
       "<div>\n",
       "<style scoped>\n",
       "    .dataframe tbody tr th:only-of-type {\n",
       "        vertical-align: middle;\n",
       "    }\n",
       "\n",
       "    .dataframe tbody tr th {\n",
       "        vertical-align: top;\n",
       "    }\n",
       "\n",
       "    .dataframe thead th {\n",
       "        text-align: right;\n",
       "    }\n",
       "</style>\n",
       "<table border=\"1\" class=\"dataframe\">\n",
       "  <thead>\n",
       "    <tr style=\"text-align: right;\">\n",
       "      <th></th>\n",
       "      <th>id</th>\n",
       "      <th>user_id</th>\n",
       "      <th>call_date</th>\n",
       "      <th>duration</th>\n",
       "    </tr>\n",
       "  </thead>\n",
       "  <tbody>\n",
       "    <tr>\n",
       "      <td>0</td>\n",
       "      <td>1000_93</td>\n",
       "      <td>1000</td>\n",
       "      <td>2018-12-27</td>\n",
       "      <td>8.52</td>\n",
       "    </tr>\n",
       "    <tr>\n",
       "      <td>1</td>\n",
       "      <td>1000_145</td>\n",
       "      <td>1000</td>\n",
       "      <td>2018-12-27</td>\n",
       "      <td>13.66</td>\n",
       "    </tr>\n",
       "    <tr>\n",
       "      <td>2</td>\n",
       "      <td>1000_247</td>\n",
       "      <td>1000</td>\n",
       "      <td>2018-12-27</td>\n",
       "      <td>14.48</td>\n",
       "    </tr>\n",
       "    <tr>\n",
       "      <td>3</td>\n",
       "      <td>1000_309</td>\n",
       "      <td>1000</td>\n",
       "      <td>2018-12-28</td>\n",
       "      <td>5.76</td>\n",
       "    </tr>\n",
       "    <tr>\n",
       "      <td>4</td>\n",
       "      <td>1000_380</td>\n",
       "      <td>1000</td>\n",
       "      <td>2018-12-30</td>\n",
       "      <td>4.22</td>\n",
       "    </tr>\n",
       "  </tbody>\n",
       "</table>\n",
       "</div>"
      ],
      "text/plain": [
       "         id  user_id   call_date  duration\n",
       "0   1000_93     1000  2018-12-27      8.52\n",
       "1  1000_145     1000  2018-12-27     13.66\n",
       "2  1000_247     1000  2018-12-27     14.48\n",
       "3  1000_309     1000  2018-12-28      5.76\n",
       "4  1000_380     1000  2018-12-30      4.22"
      ]
     },
     "execution_count": 12,
     "metadata": {},
     "output_type": "execute_result"
    }
   ],
   "source": [
    "# checking the calls data frame columns\n",
    "df_calls.head()"
   ]
  },
  {
   "cell_type": "code",
   "execution_count": 13,
   "id": "1c361b73",
   "metadata": {},
   "outputs": [],
   "source": [
    "# changing call_date to datetime\n",
    "df_calls[\"call_date\"] = pd.to_datetime(\n",
    "    df_calls[\"call_date\"], format=\"%Y-%m-%d\")"
   ]
  },
  {
   "cell_type": "markdown",
   "id": "3b89d83a",
   "metadata": {},
   "source": [
    "<font color='green'><b><u>REVIEW</u></b></font>\n",
    "<div class=\"alert alert-success\" style=\"box-shadow: 4px 4px 4px\">\n",
    "\n",
    "Great! We would like to use date-specific features, thus it is a good idea to convert the column to datetime\n",
    "   \n",
    "</div>"
   ]
  },
  {
   "cell_type": "markdown",
   "id": "52e6c6f7",
   "metadata": {},
   "source": [
    "#### df_internet"
   ]
  },
  {
   "cell_type": "code",
   "execution_count": 14,
   "id": "bf9472b5",
   "metadata": {},
   "outputs": [
    {
     "name": "stdout",
     "output_type": "stream",
     "text": [
      "<class 'pandas.core.frame.DataFrame'>\n",
      "RangeIndex: 104825 entries, 0 to 104824\n",
      "Data columns (total 4 columns):\n",
      "id              104825 non-null object\n",
      "user_id         104825 non-null int64\n",
      "session_date    104825 non-null object\n",
      "mb_used         104825 non-null float64\n",
      "dtypes: float64(1), int64(1), object(2)\n",
      "memory usage: 3.2+ MB\n"
     ]
    }
   ],
   "source": [
    "# checking the internet data frame columns type\n",
    "df_internet.info()"
   ]
  },
  {
   "cell_type": "code",
   "execution_count": 15,
   "id": "d427ab7c",
   "metadata": {},
   "outputs": [
    {
     "data": {
      "text/html": [
       "<div>\n",
       "<style scoped>\n",
       "    .dataframe tbody tr th:only-of-type {\n",
       "        vertical-align: middle;\n",
       "    }\n",
       "\n",
       "    .dataframe tbody tr th {\n",
       "        vertical-align: top;\n",
       "    }\n",
       "\n",
       "    .dataframe thead th {\n",
       "        text-align: right;\n",
       "    }\n",
       "</style>\n",
       "<table border=\"1\" class=\"dataframe\">\n",
       "  <thead>\n",
       "    <tr style=\"text-align: right;\">\n",
       "      <th></th>\n",
       "      <th>id</th>\n",
       "      <th>user_id</th>\n",
       "      <th>session_date</th>\n",
       "      <th>mb_used</th>\n",
       "    </tr>\n",
       "  </thead>\n",
       "  <tbody>\n",
       "    <tr>\n",
       "      <td>0</td>\n",
       "      <td>1000_13</td>\n",
       "      <td>1000</td>\n",
       "      <td>2018-12-29</td>\n",
       "      <td>89.86</td>\n",
       "    </tr>\n",
       "    <tr>\n",
       "      <td>1</td>\n",
       "      <td>1000_204</td>\n",
       "      <td>1000</td>\n",
       "      <td>2018-12-31</td>\n",
       "      <td>0.00</td>\n",
       "    </tr>\n",
       "    <tr>\n",
       "      <td>2</td>\n",
       "      <td>1000_379</td>\n",
       "      <td>1000</td>\n",
       "      <td>2018-12-28</td>\n",
       "      <td>660.40</td>\n",
       "    </tr>\n",
       "    <tr>\n",
       "      <td>3</td>\n",
       "      <td>1000_413</td>\n",
       "      <td>1000</td>\n",
       "      <td>2018-12-26</td>\n",
       "      <td>270.99</td>\n",
       "    </tr>\n",
       "    <tr>\n",
       "      <td>4</td>\n",
       "      <td>1000_442</td>\n",
       "      <td>1000</td>\n",
       "      <td>2018-12-27</td>\n",
       "      <td>880.22</td>\n",
       "    </tr>\n",
       "  </tbody>\n",
       "</table>\n",
       "</div>"
      ],
      "text/plain": [
       "         id  user_id session_date  mb_used\n",
       "0   1000_13     1000   2018-12-29    89.86\n",
       "1  1000_204     1000   2018-12-31     0.00\n",
       "2  1000_379     1000   2018-12-28   660.40\n",
       "3  1000_413     1000   2018-12-26   270.99\n",
       "4  1000_442     1000   2018-12-27   880.22"
      ]
     },
     "execution_count": 15,
     "metadata": {},
     "output_type": "execute_result"
    }
   ],
   "source": [
    "# checking the internet data frame columns\n",
    "df_internet.head()"
   ]
  },
  {
   "cell_type": "code",
   "execution_count": 16,
   "id": "6e7d556d",
   "metadata": {},
   "outputs": [],
   "source": [
    "# changing session_date to datetime\n",
    "df_internet[\"session_date\"] = pd.to_datetime(\n",
    "    df_internet[\"session_date\"], format=\"%Y-%m-%d\")"
   ]
  },
  {
   "cell_type": "markdown",
   "id": "67b1ddab",
   "metadata": {},
   "source": [
    "<font color='green'><b><u>REVIEW</u></b></font>\n",
    "<div class=\"alert alert-success\" style=\"box-shadow: 4px 4px 4px\">\n",
    "👍\n",
    "</div>"
   ]
  },
  {
   "cell_type": "markdown",
   "id": "48e71e73",
   "metadata": {},
   "source": [
    "#### df_messages"
   ]
  },
  {
   "cell_type": "code",
   "execution_count": 17,
   "id": "f1835e5d",
   "metadata": {},
   "outputs": [
    {
     "name": "stdout",
     "output_type": "stream",
     "text": [
      "<class 'pandas.core.frame.DataFrame'>\n",
      "RangeIndex: 76051 entries, 0 to 76050\n",
      "Data columns (total 3 columns):\n",
      "id              76051 non-null object\n",
      "user_id         76051 non-null int64\n",
      "message_date    76051 non-null object\n",
      "dtypes: int64(1), object(2)\n",
      "memory usage: 1.7+ MB\n"
     ]
    }
   ],
   "source": [
    "# checking the messages data frame columns type\n",
    "df_messages.info()"
   ]
  },
  {
   "cell_type": "code",
   "execution_count": 18,
   "id": "2fe07713",
   "metadata": {},
   "outputs": [
    {
     "data": {
      "text/html": [
       "<div>\n",
       "<style scoped>\n",
       "    .dataframe tbody tr th:only-of-type {\n",
       "        vertical-align: middle;\n",
       "    }\n",
       "\n",
       "    .dataframe tbody tr th {\n",
       "        vertical-align: top;\n",
       "    }\n",
       "\n",
       "    .dataframe thead th {\n",
       "        text-align: right;\n",
       "    }\n",
       "</style>\n",
       "<table border=\"1\" class=\"dataframe\">\n",
       "  <thead>\n",
       "    <tr style=\"text-align: right;\">\n",
       "      <th></th>\n",
       "      <th>id</th>\n",
       "      <th>user_id</th>\n",
       "      <th>message_date</th>\n",
       "    </tr>\n",
       "  </thead>\n",
       "  <tbody>\n",
       "    <tr>\n",
       "      <td>0</td>\n",
       "      <td>1000_125</td>\n",
       "      <td>1000</td>\n",
       "      <td>2018-12-27</td>\n",
       "    </tr>\n",
       "    <tr>\n",
       "      <td>1</td>\n",
       "      <td>1000_160</td>\n",
       "      <td>1000</td>\n",
       "      <td>2018-12-31</td>\n",
       "    </tr>\n",
       "    <tr>\n",
       "      <td>2</td>\n",
       "      <td>1000_223</td>\n",
       "      <td>1000</td>\n",
       "      <td>2018-12-31</td>\n",
       "    </tr>\n",
       "    <tr>\n",
       "      <td>3</td>\n",
       "      <td>1000_251</td>\n",
       "      <td>1000</td>\n",
       "      <td>2018-12-27</td>\n",
       "    </tr>\n",
       "    <tr>\n",
       "      <td>4</td>\n",
       "      <td>1000_255</td>\n",
       "      <td>1000</td>\n",
       "      <td>2018-12-26</td>\n",
       "    </tr>\n",
       "  </tbody>\n",
       "</table>\n",
       "</div>"
      ],
      "text/plain": [
       "         id  user_id message_date\n",
       "0  1000_125     1000   2018-12-27\n",
       "1  1000_160     1000   2018-12-31\n",
       "2  1000_223     1000   2018-12-31\n",
       "3  1000_251     1000   2018-12-27\n",
       "4  1000_255     1000   2018-12-26"
      ]
     },
     "execution_count": 18,
     "metadata": {},
     "output_type": "execute_result"
    }
   ],
   "source": [
    "# checking the messages data frame columns\n",
    "df_messages.head()"
   ]
  },
  {
   "cell_type": "code",
   "execution_count": 19,
   "id": "21ea97d8",
   "metadata": {},
   "outputs": [],
   "source": [
    "# changing message_date to datetime\n",
    "df_messages[\"message_date\"] = pd.to_datetime(\n",
    "    df_messages[\"message_date\"], format=\"%Y-%m-%d\")"
   ]
  },
  {
   "cell_type": "markdown",
   "id": "e31feabb",
   "metadata": {},
   "source": [
    "<font color='green'><b><u>REVIEW</u></b></font>\n",
    "<div class=\"alert alert-success\" style=\"box-shadow: 4px 4px 4px\">\n",
    "👍\n",
    "</div>\n"
   ]
  },
  {
   "cell_type": "markdown",
   "id": "4f76af58",
   "metadata": {},
   "source": [
    "#### df_plans"
   ]
  },
  {
   "cell_type": "code",
   "execution_count": 20,
   "id": "eabf8d0f",
   "metadata": {},
   "outputs": [
    {
     "name": "stdout",
     "output_type": "stream",
     "text": [
      "<class 'pandas.core.frame.DataFrame'>\n",
      "RangeIndex: 2 entries, 0 to 1\n",
      "Data columns (total 8 columns):\n",
      "messages_included        2 non-null int64\n",
      "mb_per_month_included    2 non-null int64\n",
      "minutes_included         2 non-null int64\n",
      "usd_monthly_pay          2 non-null int64\n",
      "usd_per_gb               2 non-null int64\n",
      "usd_per_message          2 non-null float64\n",
      "usd_per_minute           2 non-null float64\n",
      "plan_name                2 non-null object\n",
      "dtypes: float64(2), int64(5), object(1)\n",
      "memory usage: 256.0+ bytes\n"
     ]
    }
   ],
   "source": [
    "# checking the plans data frame columns type\n",
    "df_plans.info()"
   ]
  },
  {
   "cell_type": "code",
   "execution_count": 21,
   "id": "95dab1a2",
   "metadata": {},
   "outputs": [
    {
     "data": {
      "text/html": [
       "<div>\n",
       "<style scoped>\n",
       "    .dataframe tbody tr th:only-of-type {\n",
       "        vertical-align: middle;\n",
       "    }\n",
       "\n",
       "    .dataframe tbody tr th {\n",
       "        vertical-align: top;\n",
       "    }\n",
       "\n",
       "    .dataframe thead th {\n",
       "        text-align: right;\n",
       "    }\n",
       "</style>\n",
       "<table border=\"1\" class=\"dataframe\">\n",
       "  <thead>\n",
       "    <tr style=\"text-align: right;\">\n",
       "      <th></th>\n",
       "      <th>messages_included</th>\n",
       "      <th>mb_per_month_included</th>\n",
       "      <th>minutes_included</th>\n",
       "      <th>usd_monthly_pay</th>\n",
       "      <th>usd_per_gb</th>\n",
       "      <th>usd_per_message</th>\n",
       "      <th>usd_per_minute</th>\n",
       "      <th>plan_name</th>\n",
       "    </tr>\n",
       "  </thead>\n",
       "  <tbody>\n",
       "    <tr>\n",
       "      <td>0</td>\n",
       "      <td>50</td>\n",
       "      <td>15360</td>\n",
       "      <td>500</td>\n",
       "      <td>20</td>\n",
       "      <td>10</td>\n",
       "      <td>0.03</td>\n",
       "      <td>0.03</td>\n",
       "      <td>surf</td>\n",
       "    </tr>\n",
       "    <tr>\n",
       "      <td>1</td>\n",
       "      <td>1000</td>\n",
       "      <td>30720</td>\n",
       "      <td>3000</td>\n",
       "      <td>70</td>\n",
       "      <td>7</td>\n",
       "      <td>0.01</td>\n",
       "      <td>0.01</td>\n",
       "      <td>ultimate</td>\n",
       "    </tr>\n",
       "  </tbody>\n",
       "</table>\n",
       "</div>"
      ],
      "text/plain": [
       "   messages_included  mb_per_month_included  minutes_included  \\\n",
       "0                 50                  15360               500   \n",
       "1               1000                  30720              3000   \n",
       "\n",
       "   usd_monthly_pay  usd_per_gb  usd_per_message  usd_per_minute plan_name  \n",
       "0               20          10             0.03            0.03      surf  \n",
       "1               70           7             0.01            0.01  ultimate  "
      ]
     },
     "execution_count": 21,
     "metadata": {},
     "output_type": "execute_result"
    }
   ],
   "source": [
    "# checking the plans data frame columns\n",
    "df_plans.head()"
   ]
  },
  {
   "cell_type": "markdown",
   "id": "10fa6372",
   "metadata": {},
   "source": [
    "##### Nothing to change"
   ]
  },
  {
   "cell_type": "markdown",
   "id": "baa4262e",
   "metadata": {},
   "source": [
    "#### df_users"
   ]
  },
  {
   "cell_type": "code",
   "execution_count": 22,
   "id": "d5778dc5",
   "metadata": {},
   "outputs": [
    {
     "name": "stdout",
     "output_type": "stream",
     "text": [
      "<class 'pandas.core.frame.DataFrame'>\n",
      "RangeIndex: 500 entries, 0 to 499\n",
      "Data columns (total 8 columns):\n",
      "user_id       500 non-null int64\n",
      "first_name    500 non-null object\n",
      "last_name     500 non-null object\n",
      "age           500 non-null int64\n",
      "city          500 non-null object\n",
      "reg_date      500 non-null object\n",
      "plan          500 non-null object\n",
      "churn_date    34 non-null object\n",
      "dtypes: int64(2), object(6)\n",
      "memory usage: 31.4+ KB\n"
     ]
    }
   ],
   "source": [
    "# checking the users data frame columns type\n",
    "df_users.info()"
   ]
  },
  {
   "cell_type": "code",
   "execution_count": 23,
   "id": "6d193bbf",
   "metadata": {},
   "outputs": [
    {
     "data": {
      "text/html": [
       "<div>\n",
       "<style scoped>\n",
       "    .dataframe tbody tr th:only-of-type {\n",
       "        vertical-align: middle;\n",
       "    }\n",
       "\n",
       "    .dataframe tbody tr th {\n",
       "        vertical-align: top;\n",
       "    }\n",
       "\n",
       "    .dataframe thead th {\n",
       "        text-align: right;\n",
       "    }\n",
       "</style>\n",
       "<table border=\"1\" class=\"dataframe\">\n",
       "  <thead>\n",
       "    <tr style=\"text-align: right;\">\n",
       "      <th></th>\n",
       "      <th>user_id</th>\n",
       "      <th>first_name</th>\n",
       "      <th>last_name</th>\n",
       "      <th>age</th>\n",
       "      <th>city</th>\n",
       "      <th>reg_date</th>\n",
       "      <th>plan</th>\n",
       "      <th>churn_date</th>\n",
       "    </tr>\n",
       "  </thead>\n",
       "  <tbody>\n",
       "    <tr>\n",
       "      <td>0</td>\n",
       "      <td>1000</td>\n",
       "      <td>anamaria</td>\n",
       "      <td>bauer</td>\n",
       "      <td>45</td>\n",
       "      <td>atlanta-sandy springs-roswell, ga msa</td>\n",
       "      <td>2018-12-24</td>\n",
       "      <td>ultimate</td>\n",
       "      <td>NaN</td>\n",
       "    </tr>\n",
       "    <tr>\n",
       "      <td>1</td>\n",
       "      <td>1001</td>\n",
       "      <td>mickey</td>\n",
       "      <td>wilkerson</td>\n",
       "      <td>28</td>\n",
       "      <td>seattle-tacoma-bellevue, wa msa</td>\n",
       "      <td>2018-08-13</td>\n",
       "      <td>surf</td>\n",
       "      <td>NaN</td>\n",
       "    </tr>\n",
       "    <tr>\n",
       "      <td>2</td>\n",
       "      <td>1002</td>\n",
       "      <td>carlee</td>\n",
       "      <td>hoffman</td>\n",
       "      <td>36</td>\n",
       "      <td>las vegas-henderson-paradise, nv msa</td>\n",
       "      <td>2018-10-21</td>\n",
       "      <td>surf</td>\n",
       "      <td>NaN</td>\n",
       "    </tr>\n",
       "    <tr>\n",
       "      <td>3</td>\n",
       "      <td>1003</td>\n",
       "      <td>reynaldo</td>\n",
       "      <td>jenkins</td>\n",
       "      <td>52</td>\n",
       "      <td>tulsa, ok msa</td>\n",
       "      <td>2018-01-28</td>\n",
       "      <td>surf</td>\n",
       "      <td>NaN</td>\n",
       "    </tr>\n",
       "    <tr>\n",
       "      <td>4</td>\n",
       "      <td>1004</td>\n",
       "      <td>leonila</td>\n",
       "      <td>thompson</td>\n",
       "      <td>40</td>\n",
       "      <td>seattle-tacoma-bellevue, wa msa</td>\n",
       "      <td>2018-05-23</td>\n",
       "      <td>surf</td>\n",
       "      <td>NaN</td>\n",
       "    </tr>\n",
       "  </tbody>\n",
       "</table>\n",
       "</div>"
      ],
      "text/plain": [
       "   user_id first_name  last_name  age                                   city  \\\n",
       "0     1000   anamaria      bauer   45  atlanta-sandy springs-roswell, ga msa   \n",
       "1     1001     mickey  wilkerson   28        seattle-tacoma-bellevue, wa msa   \n",
       "2     1002     carlee    hoffman   36   las vegas-henderson-paradise, nv msa   \n",
       "3     1003   reynaldo    jenkins   52                          tulsa, ok msa   \n",
       "4     1004    leonila   thompson   40        seattle-tacoma-bellevue, wa msa   \n",
       "\n",
       "     reg_date      plan churn_date  \n",
       "0  2018-12-24  ultimate        NaN  \n",
       "1  2018-08-13      surf        NaN  \n",
       "2  2018-10-21      surf        NaN  \n",
       "3  2018-01-28      surf        NaN  \n",
       "4  2018-05-23      surf        NaN  "
      ]
     },
     "execution_count": 23,
     "metadata": {},
     "output_type": "execute_result"
    }
   ],
   "source": [
    "# checking the users data frame columns\n",
    "df_users.head()"
   ]
  },
  {
   "cell_type": "code",
   "execution_count": 24,
   "id": "aafa77a9",
   "metadata": {},
   "outputs": [],
   "source": [
    "# changing reg_date and churn_date to datetime\n",
    "df_users[\"reg_date\"] = pd.to_datetime(df_users[\"reg_date\"], format=\"%Y-%m-%d\")\n",
    "df_users[\"churn_date\"] = pd.to_datetime(\n",
    "    df_users[\"churn_date\"], format=\"%Y-%m-%d\")"
   ]
  },
  {
   "cell_type": "markdown",
   "id": "76dc9104",
   "metadata": {},
   "source": [
    "<font color='green'><b><u>REVIEW</u></b></font>\n",
    "<div class=\"alert alert-success\" style=\"box-shadow: 4px 4px 4px\">\n",
    "\n",
    "Nice!\n",
    "    \n",
    "</div>"
   ]
  },
  {
   "cell_type": "markdown",
   "id": "f48b1ac1",
   "metadata": {},
   "source": [
    "checking calls that have a duration of 0.0"
   ]
  },
  {
   "cell_type": "code",
   "execution_count": 25,
   "id": "144ddcab",
   "metadata": {},
   "outputs": [
    {
     "data": {
      "text/html": [
       "<div>\n",
       "<style scoped>\n",
       "    .dataframe tbody tr th:only-of-type {\n",
       "        vertical-align: middle;\n",
       "    }\n",
       "\n",
       "    .dataframe tbody tr th {\n",
       "        vertical-align: top;\n",
       "    }\n",
       "\n",
       "    .dataframe thead th {\n",
       "        text-align: right;\n",
       "    }\n",
       "</style>\n",
       "<table border=\"1\" class=\"dataframe\">\n",
       "  <thead>\n",
       "    <tr style=\"text-align: right;\">\n",
       "      <th></th>\n",
       "      <th>user_id</th>\n",
       "      <th>duration</th>\n",
       "    </tr>\n",
       "  </thead>\n",
       "  <tbody>\n",
       "    <tr>\n",
       "      <td>count</td>\n",
       "      <td>137735.000000</td>\n",
       "      <td>137735.000000</td>\n",
       "    </tr>\n",
       "    <tr>\n",
       "      <td>mean</td>\n",
       "      <td>1247.658046</td>\n",
       "      <td>6.745927</td>\n",
       "    </tr>\n",
       "    <tr>\n",
       "      <td>std</td>\n",
       "      <td>139.416268</td>\n",
       "      <td>5.839241</td>\n",
       "    </tr>\n",
       "    <tr>\n",
       "      <td>min</td>\n",
       "      <td>1000.000000</td>\n",
       "      <td>0.000000</td>\n",
       "    </tr>\n",
       "    <tr>\n",
       "      <td>25%</td>\n",
       "      <td>1128.000000</td>\n",
       "      <td>1.290000</td>\n",
       "    </tr>\n",
       "    <tr>\n",
       "      <td>50%</td>\n",
       "      <td>1247.000000</td>\n",
       "      <td>5.980000</td>\n",
       "    </tr>\n",
       "    <tr>\n",
       "      <td>75%</td>\n",
       "      <td>1365.000000</td>\n",
       "      <td>10.690000</td>\n",
       "    </tr>\n",
       "    <tr>\n",
       "      <td>max</td>\n",
       "      <td>1499.000000</td>\n",
       "      <td>37.600000</td>\n",
       "    </tr>\n",
       "  </tbody>\n",
       "</table>\n",
       "</div>"
      ],
      "text/plain": [
       "             user_id       duration\n",
       "count  137735.000000  137735.000000\n",
       "mean     1247.658046       6.745927\n",
       "std       139.416268       5.839241\n",
       "min      1000.000000       0.000000\n",
       "25%      1128.000000       1.290000\n",
       "50%      1247.000000       5.980000\n",
       "75%      1365.000000      10.690000\n",
       "max      1499.000000      37.600000"
      ]
     },
     "execution_count": 25,
     "metadata": {},
     "output_type": "execute_result"
    }
   ],
   "source": [
    "df_calls.describe()"
   ]
  },
  {
   "cell_type": "code",
   "execution_count": 26,
   "id": "b28f01ce",
   "metadata": {},
   "outputs": [
    {
     "name": "stdout",
     "output_type": "stream",
     "text": [
      "The number of zero time calls is:  \t26834\n",
      "The total number of calls is:     \t137735\n"
     ]
    }
   ],
   "source": [
    "# number of zero time calls\n",
    "print(\n",
    "    f'The number of zero time calls is:  \\t{df_calls.query(\"duration == 0.0\")[\"duration\"].count()}')\n",
    "print(f'The total number of calls is:     \\t{df_calls.shape[0]}')"
   ]
  },
  {
   "cell_type": "markdown",
   "id": "3d032367",
   "metadata": {},
   "source": [
    "Zero time calls are not real calls. It doesnt add up to the time the users are charge and it doesnt affect the user calculation. I will delete them"
   ]
  },
  {
   "cell_type": "code",
   "execution_count": 27,
   "id": "ae95e316",
   "metadata": {},
   "outputs": [],
   "source": [
    "df_calls = df_calls.query(\"duration != 0.0\")"
   ]
  },
  {
   "cell_type": "markdown",
   "id": "4e1863fa",
   "metadata": {},
   "source": [
    "I have finished the preprocesing"
   ]
  },
  {
   "cell_type": "markdown",
   "id": "da1e8ba6",
   "metadata": {},
   "source": [
    "<font color='green'><b><u>REVIEW</u></b></font>\n",
    "<div class=\"alert alert-success\" style=\"box-shadow: 4px 4px 4px\">\n",
    "\n",
    "Yeap, we can drop them!\n",
    "    \n",
    "</div>\n"
   ]
  },
  {
   "cell_type": "markdown",
   "id": "320fd7a6",
   "metadata": {},
   "source": [
    "Trying to figure out the period we are talking about"
   ]
  },
  {
   "cell_type": "markdown",
   "id": "0de55ed2",
   "metadata": {},
   "source": [
    "<div class=\"alert alert-info\">\n",
    "  <strong>My fixing: </strong> using min() and max()\n",
    "</div>"
   ]
  },
  {
   "cell_type": "code",
   "execution_count": 28,
   "id": "45f8e0f9",
   "metadata": {},
   "outputs": [
    {
     "name": "stdout",
     "output_type": "stream",
     "text": [
      "the data of calls start at 2018-01-15 00:00:00 and finished at 2018-12-31 00:00:00\n"
     ]
    }
   ],
   "source": [
    "# checking the span of the dates\n",
    "print(\n",
    "    f\"the data of calls start at {df_calls['call_date'].min()} and finished at {df_calls['call_date'].max()}\")"
   ]
  },
  {
   "cell_type": "code",
   "execution_count": 29,
   "id": "17b7e9f4",
   "metadata": {},
   "outputs": [
    {
     "name": "stdout",
     "output_type": "stream",
     "text": [
      "the data of sessions start at 2018-01-15 00:00:00 and finished at 2018-12-31 00:00:00\n"
     ]
    }
   ],
   "source": [
    "# checking the span of the dates\n",
    "print(\n",
    "    f\"the data of sessions start at {df_internet['session_date'].min()} and finished at {df_internet['session_date'].max()}\")"
   ]
  },
  {
   "cell_type": "code",
   "execution_count": 30,
   "id": "2b4e01dd",
   "metadata": {
    "scrolled": true
   },
   "outputs": [
    {
     "name": "stdout",
     "output_type": "stream",
     "text": [
      "the data of messages start at 2018-01-15 00:00:00 and finished at 2018-12-31 00:00:00\n"
     ]
    }
   ],
   "source": [
    "# checking the span of the dates\n",
    "print(\n",
    "    f\"the data of messages start at {df_messages['message_date'].min()} and finished at {df_messages['message_date'].max()}\")"
   ]
  },
  {
   "cell_type": "code",
   "execution_count": 31,
   "id": "3edffb98",
   "metadata": {},
   "outputs": [
    {
     "data": {
      "text/plain": [
       "count                      34\n",
       "unique                     29\n",
       "top       2018-12-18 00:00:00\n",
       "freq                        3\n",
       "first     2018-07-31 00:00:00\n",
       "last      2018-12-31 00:00:00\n",
       "Name: churn_date, dtype: object"
      ]
     },
     "execution_count": 31,
     "metadata": {},
     "output_type": "execute_result"
    }
   ],
   "source": [
    "# checking when the users start quitting the plans (at the end of July 2018)\n",
    "df_users[\"churn_date\"].describe()"
   ]
  },
  {
   "cell_type": "markdown",
   "id": "bc564e85",
   "metadata": {},
   "source": [
    "<font color='green'><b><u>REVIEW</u></b></font>\n",
    "<div class=\"alert alert-success\" style=\"box-shadow: 4px 4px 4px\">\n",
    "\n",
    "Great usage of describe method to find out the date ranges being analyzed!\n",
    "    \n",
    "</div>"
   ]
  },
  {
   "cell_type": "markdown",
   "id": "1e593d5e",
   "metadata": {},
   "source": [
    "<s>\n",
    "<font color='orange'><b><u>REMARK</u></b></font>\n",
    "<div class=\"alert alert-warning\" style=\"box-shadow: 4px 4px 4px\">\n",
    "\n",
    "Even if I really liked the usage of describe methods, nevertheless, I think that they provide some excessive information. In our case, <b>min() and max()</b> would work better.\n",
    "    \n",
    "</div>\n",
    "<s>"
   ]
  },
  {
   "cell_type": "markdown",
   "id": "411ce458",
   "metadata": {},
   "source": [
    "The information in the data start from January 2018 till December 2018. Accordingly, I have to calculate each month separately  and figure out how much every user paid and what he would paid if he/she used the other plan"
   ]
  },
  {
   "cell_type": "markdown",
   "id": "66d0133e",
   "metadata": {},
   "source": [
    "Calculating the users usage for every month. fixing the data as follow:\n",
    "- every call will be rounded to the higher minute\n",
    "- every month total of Internet usage will be rounded to the higher Giga bytes"
   ]
  },
  {
   "cell_type": "markdown",
   "id": "09e133fa",
   "metadata": {},
   "source": [
    "<div class=\"alert alert-info\">\n",
    "  <strong>My fixing: </strong> using df['column'] = np.ceil(df['column']) to replace df.loc[:,\"col\"] = df[\"col\"].apply(np.ceil)\n",
    "</div>"
   ]
  },
  {
   "cell_type": "code",
   "execution_count": 32,
   "id": "5a658807",
   "metadata": {},
   "outputs": [
    {
     "name": "stderr",
     "output_type": "stream",
     "text": [
      "/opt/conda/lib/python3.7/site-packages/ipykernel_launcher.py:3: SettingWithCopyWarning: \n",
      "A value is trying to be set on a copy of a slice from a DataFrame.\n",
      "Try using .loc[row_indexer,col_indexer] = value instead\n",
      "\n",
      "See the caveats in the documentation: http://pandas.pydata.org/pandas-docs/stable/user_guide/indexing.html#returning-a-view-versus-a-copy\n",
      "  This is separate from the ipykernel package so we can avoid doing imports until\n"
     ]
    }
   ],
   "source": [
    "# every call will be rounded to the higher minute\n",
    "#df_calls.loc[:,\"duration\"] = df_calls[\"duration\"].apply(np.ceil)\n",
    "df_calls[\"duration\"] = np.ceil(df_calls[\"duration\"])"
   ]
  },
  {
   "cell_type": "markdown",
   "id": "20d5b377",
   "metadata": {},
   "source": [
    "<s>\n",
    "<font color='orange'><b><u>REMARK</u></b></font>\n",
    "<div class=\"alert alert-warning\" style=\"box-shadow: 4px 4px 4px\">\n",
    "\n",
    "Here, <b>df['column'] = np.ceil(df['column'])</b> would work faster and better here. Since numpy functions can work with vectors, we can use them directly with pandas Series or DataFrame without using <b>apply()</b>.\n",
    "    \n",
    "</div>\n",
    "</s>"
   ]
  },
  {
   "cell_type": "code",
   "execution_count": 33,
   "id": "f57a3ac4",
   "metadata": {},
   "outputs": [],
   "source": [
    "# adding month to the data frame\n",
    "df_internet[\"month\"] = df_internet[\"session_date\"].dt.month"
   ]
  },
  {
   "cell_type": "code",
   "execution_count": 34,
   "id": "d67ebae4",
   "metadata": {},
   "outputs": [],
   "source": [
    "df_gb = df_internet.groupby([\"month\", \"user_id\"], as_index=True).sum()"
   ]
  },
  {
   "cell_type": "code",
   "execution_count": 35,
   "id": "5650384d",
   "metadata": {},
   "outputs": [
    {
     "data": {
      "text/html": [
       "<div>\n",
       "<style scoped>\n",
       "    .dataframe tbody tr th:only-of-type {\n",
       "        vertical-align: middle;\n",
       "    }\n",
       "\n",
       "    .dataframe tbody tr th {\n",
       "        vertical-align: top;\n",
       "    }\n",
       "\n",
       "    .dataframe thead th {\n",
       "        text-align: right;\n",
       "    }\n",
       "</style>\n",
       "<table border=\"1\" class=\"dataframe\">\n",
       "  <thead>\n",
       "    <tr style=\"text-align: right;\">\n",
       "      <th></th>\n",
       "      <th></th>\n",
       "      <th>mb_used</th>\n",
       "      <th>gb_used</th>\n",
       "    </tr>\n",
       "    <tr>\n",
       "      <th>month</th>\n",
       "      <th>user_id</th>\n",
       "      <th></th>\n",
       "      <th></th>\n",
       "    </tr>\n",
       "  </thead>\n",
       "  <tbody>\n",
       "    <tr>\n",
       "      <td rowspan=\"5\" valign=\"top\">1</td>\n",
       "      <td>1042</td>\n",
       "      <td>1854.93</td>\n",
       "      <td>2.0</td>\n",
       "    </tr>\n",
       "    <tr>\n",
       "      <td>1077</td>\n",
       "      <td>10635.64</td>\n",
       "      <td>11.0</td>\n",
       "    </tr>\n",
       "    <tr>\n",
       "      <td>1185</td>\n",
       "      <td>6812.77</td>\n",
       "      <td>7.0</td>\n",
       "    </tr>\n",
       "    <tr>\n",
       "      <td>1196</td>\n",
       "      <td>8908.61</td>\n",
       "      <td>9.0</td>\n",
       "    </tr>\n",
       "    <tr>\n",
       "      <td>1214</td>\n",
       "      <td>1315.35</td>\n",
       "      <td>2.0</td>\n",
       "    </tr>\n",
       "  </tbody>\n",
       "</table>\n",
       "</div>"
      ],
      "text/plain": [
       "                mb_used  gb_used\n",
       "month user_id                   \n",
       "1     1042      1854.93      2.0\n",
       "      1077     10635.64     11.0\n",
       "      1185      6812.77      7.0\n",
       "      1196      8908.61      9.0\n",
       "      1214      1315.35      2.0"
      ]
     },
     "execution_count": 35,
     "metadata": {},
     "output_type": "execute_result"
    }
   ],
   "source": [
    "# every user in every month will be rounded to the higher GB\n",
    "df_gb.loc[:, \"gb_used\"] = (df_gb[\"mb_used\"] / 1024).apply(np.ceil)\n",
    "df_gb.head()"
   ]
  },
  {
   "cell_type": "markdown",
   "id": "7e15d31c",
   "metadata": {},
   "source": [
    "## calculating the cost each user charged\n",
    "### The data is divided to five data frames\n",
    "group the information by month and by user \n",
    "- there are 3 parameters to charge the costumer\n",
    "\n",
    ">- calls duration\n",
    ">- number of messages\n",
    ">- Gb used\n",
    "\n",
    "- the calculation is made every month, Ill make table that will include the data"
   ]
  },
  {
   "cell_type": "markdown",
   "id": "c1a3c081",
   "metadata": {},
   "source": [
    "<font color='green'><b><u>REVIEW</u></b></font>\n",
    "<div class=\"alert alert-success\" style=\"box-shadow: 4px 4px 4px\">\n",
    "\n",
    "Good job!\n",
    "\n",
    "</div>"
   ]
  },
  {
   "cell_type": "code",
   "execution_count": 36,
   "id": "8f47a753",
   "metadata": {},
   "outputs": [
    {
     "name": "stderr",
     "output_type": "stream",
     "text": [
      "/opt/conda/lib/python3.7/site-packages/ipykernel_launcher.py:2: SettingWithCopyWarning: \n",
      "A value is trying to be set on a copy of a slice from a DataFrame.\n",
      "Try using .loc[row_indexer,col_indexer] = value instead\n",
      "\n",
      "See the caveats in the documentation: http://pandas.pydata.org/pandas-docs/stable/user_guide/indexing.html#returning-a-view-versus-a-copy\n",
      "  \n"
     ]
    }
   ],
   "source": [
    "# adding month to the data frame\n",
    "df_calls[\"month\"] = df_calls[\"call_date\"].dt.month\n",
    "df_messages[\"month\"] = df_messages[\"message_date\"].dt.month"
   ]
  },
  {
   "cell_type": "code",
   "execution_count": 37,
   "id": "d54486f4",
   "metadata": {},
   "outputs": [],
   "source": [
    "# making dataframe for groupby - month and user id\n",
    "df_c = df_calls.groupby([\"month\", \"user_id\"], as_index=True).sum()"
   ]
  },
  {
   "cell_type": "code",
   "execution_count": 38,
   "id": "5803e67e",
   "metadata": {},
   "outputs": [],
   "source": [
    "# making dataframe for groupby - month and user id\n",
    "df_m = df_messages.groupby([\"month\", \"user_id\"], as_index=True).count()"
   ]
  },
  {
   "cell_type": "code",
   "execution_count": 39,
   "id": "03bdae26",
   "metadata": {},
   "outputs": [],
   "source": [
    "df = df_c.join([df_m, df_gb], how=\"outer\", rsuffix=\"_mss_\")"
   ]
  },
  {
   "cell_type": "markdown",
   "id": "980642a6",
   "metadata": {},
   "source": [
    "adding the plan to the data frame "
   ]
  },
  {
   "cell_type": "code",
   "execution_count": 40,
   "id": "1186579f",
   "metadata": {},
   "outputs": [],
   "source": [
    "df.reset_index([\"user_id\"], inplace=True)\n",
    "df.reset_index([\"month\"], inplace=True)\n",
    "df.drop(columns=[\"id\"], inplace=True)\n",
    "df_u = df_users[[\"user_id\", \"plan\"]].copy()\n",
    "df_u.set_index([\"user_id\"], inplace=True)\n",
    "df = df.join(df_u, on=[\"user_id\"], how=\"left\",\n",
    "             lsuffix=\"_left\", rsuffix=\"_right\")\n",
    "df.columns = ['month', 'user_id', 'call_duration',\n",
    "              'message_number', 'mb_used', 'gb_used', 'plan']"
   ]
  },
  {
   "cell_type": "markdown",
   "id": "a7dfc24a",
   "metadata": {},
   "source": [
    "The new df hase all the information of the users including the plan they are in. in the data frame there are some NaNs from users that didnt send message at all. ill replace these NaNs with 0"
   ]
  },
  {
   "cell_type": "code",
   "execution_count": 41,
   "id": "6f759854",
   "metadata": {},
   "outputs": [],
   "source": [
    "df[\"message_number\"].fillna(value=0, inplace=True)"
   ]
  },
  {
   "cell_type": "markdown",
   "id": "601d9599",
   "metadata": {},
   "source": [
    "### calculating the price every user was charged\n",
    "\n",
    "#### Description of the plans\n",
    "Megaline rounds seconds up to minutes, and megabytes to gigabytes. \n",
    "For calls, each individual call is rounded up: even if the call lasted just one second, it will be counted as one minute. \n",
    "For web traffic, individual web sessions are not rounded up. Instead, the total for the month is rounded up. If someone uses 1025 megabytes this month, they will be charged for 2 gigabytes.\n",
    "\n",
    "Megaline rounds seconds up to minutes, and megabytes to gigabytes.\n",
    "For calls, each individual call is rounded up: even if the call lasted just one second, it will be counted as one minute. \n",
    "For web traffic, individual web sessions are not rounded up. Instead, the total for the month is rounded up. If\n",
    "someone uses 1025 megabytes this month, they will be charged for 2 gigabytes."
   ]
  },
  {
   "cell_type": "markdown",
   "id": "b7361052",
   "metadata": {},
   "source": [
    "#### the details of the two plans\n",
    "### Surf\n",
    ">- Monthly charge: $20\n",
    ">>- 500 monthly minutes\n",
    ">>- 50 texts\n",
    ">>- 15 GB of data\n",
    "\n",
    " - **After exceeding the package limits:**\n",
    " \n",
    ">- 1 minute: 3 cents\n",
    ">- 1 text message: 3 cents\n",
    ">- 1 GB of data: $10\n",
    "\n",
    "\n",
    "\n",
    "### Ultimate\n",
    ">- Monthly charge: $70\n",
    ">>- 3000 monthly minutes\n",
    ">>- 1000 text messages\n",
    ">>- 30 GB of data\n",
    "\n",
    "\n",
    "- **After exceeding the package limits:**\n",
    "\n",
    ">- 1 minute: 1 cent\n",
    ">- 1 text message: 1 cent\n",
    ">- 1 GB of data: $7\n"
   ]
  },
  {
   "cell_type": "code",
   "execution_count": 42,
   "id": "14f36e55",
   "metadata": {},
   "outputs": [],
   "source": [
    "# def cost_calc(row):\n",
    "#     # the SURF plan\n",
    "#     surf_nonthly_charge = 20\n",
    "#     surf_monthly_minutes = 500\n",
    "#     surf_monthly_messages = 50\n",
    "#     surf_monthly_data = 15\n",
    "#     surf_extra_minutes = 0.03\n",
    "#     surf_extra_messages = 0.03\n",
    "#     surf_extra_data = 10\n",
    "#     # the ULTIMATE plan\n",
    "#     ultimate_nonthly_charge = 70\n",
    "#     ultimate_monthly_minutes = 3000\n",
    "#     ultimate_monthly_messages = 1000\n",
    "#     ultimate_monthly_data = 30\n",
    "#     ultimate_extra_minutes = 0.01\n",
    "#     ultimate_extra_messages = 0.01\n",
    "#     ultimate_extra_data = 7\n",
    "#     if row[\"plan\"] == \"surf\":\n",
    "#         cost = surf_nonthly_charge\n",
    "#         call_duration = row[\"call_duration\"]- surf_monthly_minutes\n",
    "#         if call_duration < 0:\n",
    "#             call_duration = 0\n",
    "#         cost += call_duration * surf_extra_minutes\n",
    "#         message_number = row[\"message_number\"]- surf_monthly_messages\n",
    "#         if message_number < 0:\n",
    "#             message_number = 0\n",
    "#         cost += message_number * surf_extra_messages\n",
    "#         gb_used = row[\"gb_used\"]- surf_monthly_data\n",
    "#         if gb_used < 0:\n",
    "#             gb_used = 0\n",
    "#         cost += gb_used * surf_extra_data\n",
    "#     elif row[\"plan\"] == \"ultimate\":\n",
    "#         cost = ultimate_nonthly_charge\n",
    "#         call_duration = row[\"call_duration\"]- ultimate_monthly_minutes\n",
    "#         if call_duration < 0:\n",
    "#             call_duration = 0\n",
    "#         cost += call_duration * ultimate_extra_minutes\n",
    "#         message_number = row[\"message_number\"]- ultimate_monthly_messages\n",
    "#         if message_number < 0:\n",
    "#             message_number = 0\n",
    "#         cost += message_number * ultimate_extra_messages\n",
    "#         gb_used = row[\"gb_used\"]- ultimate_monthly_data\n",
    "#         if gb_used < 0:\n",
    "#             gb_used = 0\n",
    "#         cost += gb_used * ultimate_extra_data\n",
    "#     return cost\n",
    "\n",
    "\n",
    "# df[\"cost\"] = df.apply(cost_calc,axis=1)"
   ]
  },
  {
   "cell_type": "markdown",
   "id": "ad168360",
   "metadata": {},
   "source": [
    "<div class=\"alert alert-info\">\n",
    "  <strong>My fixing: </strong> adding colums to the dataframe from the plans data frame\n",
    "</div>"
   ]
  },
  {
   "cell_type": "code",
   "execution_count": 43,
   "id": "5438be90",
   "metadata": {},
   "outputs": [],
   "source": [
    "# adding the plas data to the main DataFrame\n",
    "df = df.merge(df_plans, left_on=[\"plan\"], right_on=[\"plan_name\"], how=\"left\")\n",
    "df.drop(columns=[\"plan_name\"], inplace=True)"
   ]
  },
  {
   "cell_type": "code",
   "execution_count": 44,
   "id": "055a5886",
   "metadata": {},
   "outputs": [],
   "source": [
    "# calculating the extra usage above the plan limits - calls\n",
    "df[\"call_xtra\"] = (df[\"call_duration\"]-df[\"minutes_included\"])\n",
    "df[\"call_xtra\"] = df[\"call_xtra\"].clip(lower=0)\n",
    "# calculating the extra usage above the plan limits - messages\n",
    "df[\"messages_xtra\"] = (df[\"message_number\"]-df[\"messages_included\"])\n",
    "df[\"messages_xtra\"] = df[\"messages_xtra\"].clip(lower=0)\n",
    "# calculating the extra usage above the plan limits - internet Gb\n",
    "df[\"gb_xtra\"] = (df[\"gb_used\"]-(df[\"mb_per_month_included\"])/1024)\n",
    "df[\"gb_xtra\"] = df[\"gb_xtra\"].clip(lower=0)"
   ]
  },
  {
   "cell_type": "code",
   "execution_count": 45,
   "id": "0c1189e3",
   "metadata": {},
   "outputs": [],
   "source": [
    "df_cost = df.copy()"
   ]
  },
  {
   "cell_type": "code",
   "execution_count": 46,
   "id": "7c4d766a",
   "metadata": {},
   "outputs": [],
   "source": [
    "df[\"cost\"] = df[\"usd_monthly_pay\"]+df[\"call_xtra\"]*df[\"usd_per_minute\"] + \\\n",
    "    df[\"messages_xtra\"]*df[\"usd_per_message\"]+df[\"gb_xtra\"]*df[\"usd_per_gb\"]"
   ]
  },
  {
   "cell_type": "markdown",
   "id": "2df7739e",
   "metadata": {},
   "source": [
    "#### Checking the cost "
   ]
  },
  {
   "cell_type": "code",
   "execution_count": 47,
   "id": "27904f98",
   "metadata": {},
   "outputs": [
    {
     "data": {
      "text/plain": [
       "<matplotlib.axes._subplots.AxesSubplot at 0x7ff8e9fcaa50>"
      ]
     },
     "execution_count": 47,
     "metadata": {},
     "output_type": "execute_result"
    },
    {
     "data": {
      "image/png": "[encoded data removed]",
      "text/plain": [
       "<Figure size 432x288 with 1 Axes>"
      ]
     },
     "metadata": {
      "needs_background": "light"
     },
     "output_type": "display_data"
    }
   ],
   "source": [
    "df[\"cost\"].plot(kind=\"hist\", bins=25)"
   ]
  },
  {
   "cell_type": "markdown",
   "id": "c09959e0",
   "metadata": {},
   "source": [
    "### checking the cost of every segment - alls messages and Internet"
   ]
  },
  {
   "cell_type": "code",
   "execution_count": 48,
   "id": "5ea437cf",
   "metadata": {},
   "outputs": [],
   "source": [
    "df_cost[\"calls\"] = df[\"call_xtra\"]*df[\"usd_per_minute\"]"
   ]
  },
  {
   "cell_type": "code",
   "execution_count": 49,
   "id": "db2f1c2d",
   "metadata": {},
   "outputs": [],
   "source": [
    "df_cost[\"messages\"] = df[\"messages_xtra\"]*df[\"usd_per_message\"]"
   ]
  },
  {
   "cell_type": "code",
   "execution_count": 50,
   "id": "27deacbf",
   "metadata": {},
   "outputs": [],
   "source": [
    "df_cost[\"gb\"] = df[\"gb_xtra\"]*df[\"usd_per_gb\"]"
   ]
  },
  {
   "cell_type": "code",
   "execution_count": 51,
   "id": "2fcaf424",
   "metadata": {},
   "outputs": [
    {
     "name": "stdout",
     "output_type": "stream",
     "text": [
      "The revenue from calls exceeding the plans for all the sample in 2018 is 2900.25 USD\n"
     ]
    }
   ],
   "source": [
    "print(\n",
    "    f'The revenue from calls exceeding the plans for all the sample in 2018 is {df_cost.groupby(\"month\")[\"calls\"].sum().sum()} USD')"
   ]
  },
  {
   "cell_type": "code",
   "execution_count": 52,
   "id": "b66d25f7",
   "metadata": {},
   "outputs": [
    {
     "name": "stdout",
     "output_type": "stream",
     "text": [
      "The revenue from messages exceeding the plans for all the sample in 2018 is 330.92999999999995 USD\n"
     ]
    }
   ],
   "source": [
    "print(\n",
    "    f'The revenue from messages exceeding the plans for all the sample in 2018 is {df_cost.groupby(\"month\")[\"messages\"].sum().sum()} USD')"
   ]
  },
  {
   "cell_type": "code",
   "execution_count": 53,
   "id": "8d0b0908",
   "metadata": {},
   "outputs": [
    {
     "name": "stdout",
     "output_type": "stream",
     "text": [
      "The revenue from intrnet-Gb exceeding the plans for all the sample in 2018 is 62466.0 USD\n"
     ]
    }
   ],
   "source": [
    "print(\n",
    "    f'The revenue from intrnet-Gb exceeding the plans for all the sample in 2018 is {df_cost.groupby(\"month\")[\"gb\"].sum().sum()} USD')"
   ]
  },
  {
   "cell_type": "markdown",
   "id": "456c49b9",
   "metadata": {},
   "source": [
    "### The company makes the biggest profit from users who are using  the Internet more than the plan they have"
   ]
  },
  {
   "cell_type": "markdown",
   "id": "31e97d82",
   "metadata": {},
   "source": [
    "## checking the churn date\n",
    "> ### check there is no churn date smaller than reg date (one cannot quit before one join..)"
   ]
  },
  {
   "cell_type": "code",
   "execution_count": 54,
   "id": "ff6499fc",
   "metadata": {},
   "outputs": [
    {
     "data": {
      "text/html": [
       "<div>\n",
       "<style scoped>\n",
       "    .dataframe tbody tr th:only-of-type {\n",
       "        vertical-align: middle;\n",
       "    }\n",
       "\n",
       "    .dataframe tbody tr th {\n",
       "        vertical-align: top;\n",
       "    }\n",
       "\n",
       "    .dataframe thead th {\n",
       "        text-align: right;\n",
       "    }\n",
       "</style>\n",
       "<table border=\"1\" class=\"dataframe\">\n",
       "  <thead>\n",
       "    <tr style=\"text-align: right;\">\n",
       "      <th></th>\n",
       "      <th>user_id</th>\n",
       "      <th>first_name</th>\n",
       "      <th>last_name</th>\n",
       "      <th>age</th>\n",
       "      <th>city</th>\n",
       "      <th>reg_date</th>\n",
       "      <th>plan</th>\n",
       "      <th>churn_date</th>\n",
       "    </tr>\n",
       "  </thead>\n",
       "  <tbody>\n",
       "  </tbody>\n",
       "</table>\n",
       "</div>"
      ],
      "text/plain": [
       "Empty DataFrame\n",
       "Columns: [user_id, first_name, last_name, age, city, reg_date, plan, churn_date]\n",
       "Index: []"
      ]
     },
     "execution_count": 54,
     "metadata": {},
     "output_type": "execute_result"
    }
   ],
   "source": [
    "df_churn = df_users.query(\"reg_date > churn_date\")\n",
    "df_churn"
   ]
  },
  {
   "cell_type": "markdown",
   "id": "fbfb5dfe",
   "metadata": {},
   "source": [
    "<font color='green'><b><u>REVIEW</u></b></font>\n",
    "<div class=\"alert alert-success\" style=\"box-shadow: 4px 4px 4px\">\n",
    "\n",
    "Really loved to see that you have validated correctness of the data before proceeding! Keep it up!\n",
    "    \n",
    "</div>"
   ]
  },
  {
   "cell_type": "markdown",
   "id": "8efa48f3",
   "metadata": {},
   "source": [
    "#### there are no chrun_date prior to reg_date"
   ]
  },
  {
   "cell_type": "code",
   "execution_count": 55,
   "id": "03c55731",
   "metadata": {},
   "outputs": [
    {
     "data": {
      "text/html": [
       "<div>\n",
       "<style scoped>\n",
       "    .dataframe tbody tr th:only-of-type {\n",
       "        vertical-align: middle;\n",
       "    }\n",
       "\n",
       "    .dataframe tbody tr th {\n",
       "        vertical-align: top;\n",
       "    }\n",
       "\n",
       "    .dataframe thead th {\n",
       "        text-align: right;\n",
       "    }\n",
       "</style>\n",
       "<table border=\"1\" class=\"dataframe\">\n",
       "  <thead>\n",
       "    <tr style=\"text-align: right;\">\n",
       "      <th></th>\n",
       "      <th>user_id</th>\n",
       "      <th>first_name</th>\n",
       "      <th>last_name</th>\n",
       "      <th>age</th>\n",
       "      <th>city</th>\n",
       "      <th>reg_date</th>\n",
       "      <th>plan</th>\n",
       "      <th>churn_date</th>\n",
       "    </tr>\n",
       "  </thead>\n",
       "  <tbody>\n",
       "    <tr>\n",
       "      <td>6</td>\n",
       "      <td>1006</td>\n",
       "      <td>jesusa</td>\n",
       "      <td>bradford</td>\n",
       "      <td>73</td>\n",
       "      <td>san francisco-oakland-berkeley, ca msa</td>\n",
       "      <td>2018-11-27</td>\n",
       "      <td>ultimate</td>\n",
       "      <td>2018-12-18</td>\n",
       "    </tr>\n",
       "    <tr>\n",
       "      <td>12</td>\n",
       "      <td>1012</td>\n",
       "      <td>jonelle</td>\n",
       "      <td>mcbride</td>\n",
       "      <td>59</td>\n",
       "      <td>chicago-naperville-elgin, il-in-wi msa</td>\n",
       "      <td>2018-06-28</td>\n",
       "      <td>surf</td>\n",
       "      <td>2018-11-16</td>\n",
       "    </tr>\n",
       "    <tr>\n",
       "      <td>22</td>\n",
       "      <td>1022</td>\n",
       "      <td>bo</td>\n",
       "      <td>snow</td>\n",
       "      <td>73</td>\n",
       "      <td>new york-newark-jersey city, ny-nj-pa msa</td>\n",
       "      <td>2018-04-20</td>\n",
       "      <td>surf</td>\n",
       "      <td>2018-09-07</td>\n",
       "    </tr>\n",
       "    <tr>\n",
       "      <td>40</td>\n",
       "      <td>1040</td>\n",
       "      <td>paris</td>\n",
       "      <td>santos</td>\n",
       "      <td>72</td>\n",
       "      <td>philadelphia-camden-wilmington, pa-nj-de-md msa</td>\n",
       "      <td>2018-12-23</td>\n",
       "      <td>surf</td>\n",
       "      <td>2018-12-30</td>\n",
       "    </tr>\n",
       "    <tr>\n",
       "      <td>50</td>\n",
       "      <td>1050</td>\n",
       "      <td>jone</td>\n",
       "      <td>owen</td>\n",
       "      <td>23</td>\n",
       "      <td>miami-fort lauderdale-west palm beach, fl msa</td>\n",
       "      <td>2018-03-20</td>\n",
       "      <td>ultimate</td>\n",
       "      <td>2018-10-07</td>\n",
       "    </tr>\n",
       "  </tbody>\n",
       "</table>\n",
       "</div>"
      ],
      "text/plain": [
       "    user_id first_name last_name  age  \\\n",
       "6      1006     jesusa  bradford   73   \n",
       "12     1012    jonelle   mcbride   59   \n",
       "22     1022         bo      snow   73   \n",
       "40     1040      paris    santos   72   \n",
       "50     1050       jone      owen   23   \n",
       "\n",
       "                                               city   reg_date      plan  \\\n",
       "6            san francisco-oakland-berkeley, ca msa 2018-11-27  ultimate   \n",
       "12           chicago-naperville-elgin, il-in-wi msa 2018-06-28      surf   \n",
       "22        new york-newark-jersey city, ny-nj-pa msa 2018-04-20      surf   \n",
       "40  philadelphia-camden-wilmington, pa-nj-de-md msa 2018-12-23      surf   \n",
       "50    miami-fort lauderdale-west palm beach, fl msa 2018-03-20  ultimate   \n",
       "\n",
       "   churn_date  \n",
       "6  2018-12-18  \n",
       "12 2018-11-16  \n",
       "22 2018-09-07  \n",
       "40 2018-12-30  \n",
       "50 2018-10-07  "
      ]
     },
     "execution_count": 55,
     "metadata": {},
     "output_type": "execute_result"
    }
   ],
   "source": [
    "# all rows with chrun date in 2018\n",
    "d1 = datetime.datetime(2019, 1, 1)\n",
    "df_churn = df_users[df_users[\"churn_date\"] < d1]\n",
    "df_churn.head()"
   ]
  },
  {
   "cell_type": "code",
   "execution_count": 56,
   "id": "bfff1743",
   "metadata": {},
   "outputs": [],
   "source": [
    "# joining the information from the churn_data to the users activity from df\n",
    "df_churn = df_churn.join(\n",
    "    df, on=[\"user_id\"], how=\"left\", lsuffix=\"_left\", rsuffix=\"_right\")"
   ]
  },
  {
   "cell_type": "code",
   "execution_count": 57,
   "id": "905e5ba2",
   "metadata": {},
   "outputs": [
    {
     "data": {
      "text/html": [
       "<div>\n",
       "<style scoped>\n",
       "    .dataframe tbody tr th:only-of-type {\n",
       "        vertical-align: middle;\n",
       "    }\n",
       "\n",
       "    .dataframe tbody tr th {\n",
       "        vertical-align: top;\n",
       "    }\n",
       "\n",
       "    .dataframe thead th {\n",
       "        text-align: right;\n",
       "    }\n",
       "</style>\n",
       "<table border=\"1\" class=\"dataframe\">\n",
       "  <thead>\n",
       "    <tr style=\"text-align: right;\">\n",
       "      <th></th>\n",
       "      <th>user_id_left</th>\n",
       "      <th>first_name</th>\n",
       "      <th>last_name</th>\n",
       "      <th>age</th>\n",
       "      <th>city</th>\n",
       "      <th>reg_date</th>\n",
       "      <th>plan_left</th>\n",
       "      <th>churn_date</th>\n",
       "      <th>month</th>\n",
       "      <th>user_id_right</th>\n",
       "      <th>...</th>\n",
       "      <th>mb_per_month_included</th>\n",
       "      <th>minutes_included</th>\n",
       "      <th>usd_monthly_pay</th>\n",
       "      <th>usd_per_gb</th>\n",
       "      <th>usd_per_message</th>\n",
       "      <th>usd_per_minute</th>\n",
       "      <th>call_xtra</th>\n",
       "      <th>messages_xtra</th>\n",
       "      <th>gb_xtra</th>\n",
       "      <th>cost</th>\n",
       "    </tr>\n",
       "  </thead>\n",
       "  <tbody>\n",
       "    <tr>\n",
       "      <td>6</td>\n",
       "      <td>1006</td>\n",
       "      <td>jesusa</td>\n",
       "      <td>bradford</td>\n",
       "      <td>73</td>\n",
       "      <td>san francisco-oakland-berkeley, ca msa</td>\n",
       "      <td>2018-11-27</td>\n",
       "      <td>ultimate</td>\n",
       "      <td>2018-12-18</td>\n",
       "      <td>9</td>\n",
       "      <td>1385</td>\n",
       "      <td>...</td>\n",
       "      <td>15360</td>\n",
       "      <td>500</td>\n",
       "      <td>20</td>\n",
       "      <td>10</td>\n",
       "      <td>0.03</td>\n",
       "      <td>0.03</td>\n",
       "      <td>0.0</td>\n",
       "      <td>0.0</td>\n",
       "      <td>3.0</td>\n",
       "      <td>50.00</td>\n",
       "    </tr>\n",
       "    <tr>\n",
       "      <td>12</td>\n",
       "      <td>1012</td>\n",
       "      <td>jonelle</td>\n",
       "      <td>mcbride</td>\n",
       "      <td>59</td>\n",
       "      <td>chicago-naperville-elgin, il-in-wi msa</td>\n",
       "      <td>2018-06-28</td>\n",
       "      <td>surf</td>\n",
       "      <td>2018-11-16</td>\n",
       "      <td>9</td>\n",
       "      <td>1394</td>\n",
       "      <td>...</td>\n",
       "      <td>15360</td>\n",
       "      <td>500</td>\n",
       "      <td>20</td>\n",
       "      <td>10</td>\n",
       "      <td>0.03</td>\n",
       "      <td>0.03</td>\n",
       "      <td>0.0</td>\n",
       "      <td>0.0</td>\n",
       "      <td>0.0</td>\n",
       "      <td>20.00</td>\n",
       "    </tr>\n",
       "    <tr>\n",
       "      <td>22</td>\n",
       "      <td>1022</td>\n",
       "      <td>bo</td>\n",
       "      <td>snow</td>\n",
       "      <td>73</td>\n",
       "      <td>new york-newark-jersey city, ny-nj-pa msa</td>\n",
       "      <td>2018-04-20</td>\n",
       "      <td>surf</td>\n",
       "      <td>2018-09-07</td>\n",
       "      <td>9</td>\n",
       "      <td>1406</td>\n",
       "      <td>...</td>\n",
       "      <td>15360</td>\n",
       "      <td>500</td>\n",
       "      <td>20</td>\n",
       "      <td>10</td>\n",
       "      <td>0.03</td>\n",
       "      <td>0.03</td>\n",
       "      <td>0.0</td>\n",
       "      <td>0.0</td>\n",
       "      <td>4.0</td>\n",
       "      <td>60.00</td>\n",
       "    </tr>\n",
       "    <tr>\n",
       "      <td>40</td>\n",
       "      <td>1040</td>\n",
       "      <td>paris</td>\n",
       "      <td>santos</td>\n",
       "      <td>72</td>\n",
       "      <td>philadelphia-camden-wilmington, pa-nj-de-md msa</td>\n",
       "      <td>2018-12-23</td>\n",
       "      <td>surf</td>\n",
       "      <td>2018-12-30</td>\n",
       "      <td>9</td>\n",
       "      <td>1444</td>\n",
       "      <td>...</td>\n",
       "      <td>15360</td>\n",
       "      <td>500</td>\n",
       "      <td>20</td>\n",
       "      <td>10</td>\n",
       "      <td>0.03</td>\n",
       "      <td>0.03</td>\n",
       "      <td>0.0</td>\n",
       "      <td>3.0</td>\n",
       "      <td>2.0</td>\n",
       "      <td>40.09</td>\n",
       "    </tr>\n",
       "    <tr>\n",
       "      <td>50</td>\n",
       "      <td>1050</td>\n",
       "      <td>jone</td>\n",
       "      <td>owen</td>\n",
       "      <td>23</td>\n",
       "      <td>miami-fort lauderdale-west palm beach, fl msa</td>\n",
       "      <td>2018-03-20</td>\n",
       "      <td>ultimate</td>\n",
       "      <td>2018-10-07</td>\n",
       "      <td>9</td>\n",
       "      <td>1466</td>\n",
       "      <td>...</td>\n",
       "      <td>15360</td>\n",
       "      <td>500</td>\n",
       "      <td>20</td>\n",
       "      <td>10</td>\n",
       "      <td>0.03</td>\n",
       "      <td>0.03</td>\n",
       "      <td>0.0</td>\n",
       "      <td>0.0</td>\n",
       "      <td>3.0</td>\n",
       "      <td>50.00</td>\n",
       "    </tr>\n",
       "  </tbody>\n",
       "</table>\n",
       "<p>5 rows × 26 columns</p>\n",
       "</div>"
      ],
      "text/plain": [
       "    user_id_left first_name last_name  age  \\\n",
       "6           1006     jesusa  bradford   73   \n",
       "12          1012    jonelle   mcbride   59   \n",
       "22          1022         bo      snow   73   \n",
       "40          1040      paris    santos   72   \n",
       "50          1050       jone      owen   23   \n",
       "\n",
       "                                               city   reg_date plan_left  \\\n",
       "6            san francisco-oakland-berkeley, ca msa 2018-11-27  ultimate   \n",
       "12           chicago-naperville-elgin, il-in-wi msa 2018-06-28      surf   \n",
       "22        new york-newark-jersey city, ny-nj-pa msa 2018-04-20      surf   \n",
       "40  philadelphia-camden-wilmington, pa-nj-de-md msa 2018-12-23      surf   \n",
       "50    miami-fort lauderdale-west palm beach, fl msa 2018-03-20  ultimate   \n",
       "\n",
       "   churn_date  month  user_id_right  ...  mb_per_month_included  \\\n",
       "6  2018-12-18      9           1385  ...                  15360   \n",
       "12 2018-11-16      9           1394  ...                  15360   \n",
       "22 2018-09-07      9           1406  ...                  15360   \n",
       "40 2018-12-30      9           1444  ...                  15360   \n",
       "50 2018-10-07      9           1466  ...                  15360   \n",
       "\n",
       "    minutes_included  usd_monthly_pay  usd_per_gb usd_per_message  \\\n",
       "6                500               20          10            0.03   \n",
       "12               500               20          10            0.03   \n",
       "22               500               20          10            0.03   \n",
       "40               500               20          10            0.03   \n",
       "50               500               20          10            0.03   \n",
       "\n",
       "    usd_per_minute  call_xtra  messages_xtra  gb_xtra   cost  \n",
       "6             0.03        0.0            0.0      3.0  50.00  \n",
       "12            0.03        0.0            0.0      0.0  20.00  \n",
       "22            0.03        0.0            0.0      4.0  60.00  \n",
       "40            0.03        0.0            3.0      2.0  40.09  \n",
       "50            0.03        0.0            0.0      3.0  50.00  \n",
       "\n",
       "[5 rows x 26 columns]"
      ]
     },
     "execution_count": 57,
     "metadata": {},
     "output_type": "execute_result"
    }
   ],
   "source": [
    "df_churn.head()"
   ]
  },
  {
   "cell_type": "code",
   "execution_count": 58,
   "id": "12e430dc",
   "metadata": {},
   "outputs": [
    {
     "name": "stdout",
     "output_type": "stream",
     "text": [
      "Number of rows with activity after churn_date 6\n"
     ]
    }
   ],
   "source": [
    "print(\"Number of rows with activity after churn_date\",\n",
    "      len(df_churn.query(\"month > churn_date.dt.month\")))"
   ]
  },
  {
   "cell_type": "markdown",
   "id": "922887f4",
   "metadata": {},
   "source": [
    "#### the number of rows with activity after churn_dateis very small (only 6). I will ignore them"
   ]
  },
  {
   "cell_type": "markdown",
   "id": "c9222476",
   "metadata": {},
   "source": [
    "\n",
    "<font color='orange'><b><u>REMARK</u></b></font>\n",
    "<div class=\"alert alert-warning\" style=\"box-shadow: 4px 4px 4px\">\n",
    "\n",
    "It would be great to provide some hypotheses on why some users have such \"weird\" activities. Maybe they were in another country. Maybe they were not able to use the phone for a while. Maybe they were returned by re-marketing\n",
    "    \n",
    "</div>"
   ]
  },
  {
   "cell_type": "markdown",
   "id": "56985d78",
   "metadata": {},
   "source": [
    "### Analyzing the data"
   ]
  },
  {
   "cell_type": "code",
   "execution_count": 59,
   "id": "b5db2d93",
   "metadata": {},
   "outputs": [
    {
     "data": {
      "text/html": [
       "<div>\n",
       "<style scoped>\n",
       "    .dataframe tbody tr th:only-of-type {\n",
       "        vertical-align: middle;\n",
       "    }\n",
       "\n",
       "    .dataframe tbody tr th {\n",
       "        vertical-align: top;\n",
       "    }\n",
       "\n",
       "    .dataframe thead th {\n",
       "        text-align: right;\n",
       "    }\n",
       "</style>\n",
       "<table border=\"1\" class=\"dataframe\">\n",
       "  <thead>\n",
       "    <tr style=\"text-align: right;\">\n",
       "      <th></th>\n",
       "      <th>month</th>\n",
       "      <th>user_id</th>\n",
       "      <th>call_duration</th>\n",
       "      <th>message_number</th>\n",
       "      <th>mb_used</th>\n",
       "      <th>gb_used</th>\n",
       "      <th>plan</th>\n",
       "      <th>messages_included</th>\n",
       "      <th>mb_per_month_included</th>\n",
       "      <th>minutes_included</th>\n",
       "      <th>usd_monthly_pay</th>\n",
       "      <th>usd_per_gb</th>\n",
       "      <th>usd_per_message</th>\n",
       "      <th>usd_per_minute</th>\n",
       "      <th>call_xtra</th>\n",
       "      <th>messages_xtra</th>\n",
       "      <th>gb_xtra</th>\n",
       "      <th>cost</th>\n",
       "    </tr>\n",
       "  </thead>\n",
       "  <tbody>\n",
       "    <tr>\n",
       "      <td>0</td>\n",
       "      <td>1</td>\n",
       "      <td>1042</td>\n",
       "      <td>114.0</td>\n",
       "      <td>0.0</td>\n",
       "      <td>1854.93</td>\n",
       "      <td>2.0</td>\n",
       "      <td>surf</td>\n",
       "      <td>50</td>\n",
       "      <td>15360</td>\n",
       "      <td>500</td>\n",
       "      <td>20</td>\n",
       "      <td>10</td>\n",
       "      <td>0.03</td>\n",
       "      <td>0.03</td>\n",
       "      <td>0.0</td>\n",
       "      <td>0.0</td>\n",
       "      <td>0.0</td>\n",
       "      <td>20.0</td>\n",
       "    </tr>\n",
       "    <tr>\n",
       "      <td>1</td>\n",
       "      <td>1</td>\n",
       "      <td>1077</td>\n",
       "      <td>290.0</td>\n",
       "      <td>37.0</td>\n",
       "      <td>10635.64</td>\n",
       "      <td>11.0</td>\n",
       "      <td>ultimate</td>\n",
       "      <td>1000</td>\n",
       "      <td>30720</td>\n",
       "      <td>3000</td>\n",
       "      <td>70</td>\n",
       "      <td>7</td>\n",
       "      <td>0.01</td>\n",
       "      <td>0.01</td>\n",
       "      <td>0.0</td>\n",
       "      <td>0.0</td>\n",
       "      <td>0.0</td>\n",
       "      <td>70.0</td>\n",
       "    </tr>\n",
       "    <tr>\n",
       "      <td>2</td>\n",
       "      <td>1</td>\n",
       "      <td>1185</td>\n",
       "      <td>181.0</td>\n",
       "      <td>0.0</td>\n",
       "      <td>6812.77</td>\n",
       "      <td>7.0</td>\n",
       "      <td>ultimate</td>\n",
       "      <td>1000</td>\n",
       "      <td>30720</td>\n",
       "      <td>3000</td>\n",
       "      <td>70</td>\n",
       "      <td>7</td>\n",
       "      <td>0.01</td>\n",
       "      <td>0.01</td>\n",
       "      <td>0.0</td>\n",
       "      <td>0.0</td>\n",
       "      <td>0.0</td>\n",
       "      <td>70.0</td>\n",
       "    </tr>\n",
       "    <tr>\n",
       "      <td>3</td>\n",
       "      <td>1</td>\n",
       "      <td>1196</td>\n",
       "      <td>287.0</td>\n",
       "      <td>23.0</td>\n",
       "      <td>8908.61</td>\n",
       "      <td>9.0</td>\n",
       "      <td>ultimate</td>\n",
       "      <td>1000</td>\n",
       "      <td>30720</td>\n",
       "      <td>3000</td>\n",
       "      <td>70</td>\n",
       "      <td>7</td>\n",
       "      <td>0.01</td>\n",
       "      <td>0.01</td>\n",
       "      <td>0.0</td>\n",
       "      <td>0.0</td>\n",
       "      <td>0.0</td>\n",
       "      <td>70.0</td>\n",
       "    </tr>\n",
       "    <tr>\n",
       "      <td>4</td>\n",
       "      <td>1</td>\n",
       "      <td>1214</td>\n",
       "      <td>16.0</td>\n",
       "      <td>2.0</td>\n",
       "      <td>1315.35</td>\n",
       "      <td>2.0</td>\n",
       "      <td>ultimate</td>\n",
       "      <td>1000</td>\n",
       "      <td>30720</td>\n",
       "      <td>3000</td>\n",
       "      <td>70</td>\n",
       "      <td>7</td>\n",
       "      <td>0.01</td>\n",
       "      <td>0.01</td>\n",
       "      <td>0.0</td>\n",
       "      <td>0.0</td>\n",
       "      <td>0.0</td>\n",
       "      <td>70.0</td>\n",
       "    </tr>\n",
       "  </tbody>\n",
       "</table>\n",
       "</div>"
      ],
      "text/plain": [
       "   month  user_id  call_duration  message_number   mb_used  gb_used      plan  \\\n",
       "0      1     1042          114.0             0.0   1854.93      2.0      surf   \n",
       "1      1     1077          290.0            37.0  10635.64     11.0  ultimate   \n",
       "2      1     1185          181.0             0.0   6812.77      7.0  ultimate   \n",
       "3      1     1196          287.0            23.0   8908.61      9.0  ultimate   \n",
       "4      1     1214           16.0             2.0   1315.35      2.0  ultimate   \n",
       "\n",
       "   messages_included  mb_per_month_included  minutes_included  \\\n",
       "0                 50                  15360               500   \n",
       "1               1000                  30720              3000   \n",
       "2               1000                  30720              3000   \n",
       "3               1000                  30720              3000   \n",
       "4               1000                  30720              3000   \n",
       "\n",
       "   usd_monthly_pay  usd_per_gb  usd_per_message  usd_per_minute  call_xtra  \\\n",
       "0               20          10             0.03            0.03        0.0   \n",
       "1               70           7             0.01            0.01        0.0   \n",
       "2               70           7             0.01            0.01        0.0   \n",
       "3               70           7             0.01            0.01        0.0   \n",
       "4               70           7             0.01            0.01        0.0   \n",
       "\n",
       "   messages_xtra  gb_xtra  cost  \n",
       "0            0.0      0.0  20.0  \n",
       "1            0.0      0.0  70.0  \n",
       "2            0.0      0.0  70.0  \n",
       "3            0.0      0.0  70.0  \n",
       "4            0.0      0.0  70.0  "
      ]
     },
     "execution_count": 59,
     "metadata": {},
     "output_type": "execute_result"
    }
   ],
   "source": [
    "df.head()"
   ]
  },
  {
   "cell_type": "code",
   "execution_count": 60,
   "id": "5ea88ed8",
   "metadata": {},
   "outputs": [
    {
     "data": {
      "image/png": "[encoded data removed]",
      "text/plain": [
       "<Figure size 432x288 with 1 Axes>"
      ]
     },
     "metadata": {
      "needs_background": "light"
     },
     "output_type": "display_data"
    },
    {
     "data": {
      "image/png": "[encoded data removed]",
      "text/plain": [
       "<Figure size 432x288 with 1 Axes>"
      ]
     },
     "metadata": {
      "needs_background": "light"
     },
     "output_type": "display_data"
    },
    {
     "data": {
      "image/png": "[encoded data removed]",
      "text/plain": [
       "<Figure size 432x288 with 1 Axes>"
      ]
     },
     "metadata": {
      "needs_background": "light"
     },
     "output_type": "display_data"
    },
    {
     "data": {
      "image/png": "[encoded data removed]",
      "text/plain": [
       "<Figure size 432x288 with 1 Axes>"
      ]
     },
     "metadata": {
      "needs_background": "light"
     },
     "output_type": "display_data"
    }
   ],
   "source": [
    "hist_list = [\"call_duration\", \"message_number\", \"gb_used\", \"cost\"]\n",
    "hist_list_expl = [\"call duration in minuts\", \"Number of message sent\",\n",
    "                  \"Internet use in GigaBytes\", \"Cost in US$\"]\n",
    "hist_list_x = [\"Calls minuts\", \"Message number\", \"GigaBytes\", \"US$\"]\n",
    "for tg, te, tx in zip(hist_list, hist_list_expl, hist_list_x):\n",
    "    fig, ax = plt.subplots(squeeze=False)\n",
    "    plt.hist(df[tg], bins=50)\n",
    "    plt.tight_layout()\n",
    "    plt.grid()\n",
    "    plt.title(te, fontsize=17)\n",
    "    plt.xlabel(tx, fontsize=14)\n",
    "    plt.ylabel(\"Number of Useres every month\", fontsize=14)"
   ]
  },
  {
   "cell_type": "markdown",
   "id": "78f5007c",
   "metadata": {},
   "source": [
    "### observation from the histograms:\n",
    "1. call duration in minutes\n",
    "> the Distribution is T-Distribution\n",
    "> the lower side start with 0\n",
    "2. Number of messages\n",
    "> most of the user don't send messages, this is normal because there are other alternatives\n",
    "3. Internet usage\n",
    "> everyone uses the Internet\n",
    "> most uses correspond to the plans limits\n",
    "4. cost\n",
    "> the minimum is the first plan fee\n",
    "> most users don't pay more than the plan fee (don't use above the plan limits)"
   ]
  },
  {
   "cell_type": "markdown",
   "id": "feef1df3",
   "metadata": {},
   "source": [
    "<div class=\"alert alert-info\">\n",
    "  <strong>My fixing: </strong> plotting 4 histograms \n",
    "</div>"
   ]
  },
  {
   "cell_type": "markdown",
   "id": "4985d400",
   "metadata": {},
   "source": [
    "Dividing the dataset to two: each for every plan"
   ]
  },
  {
   "cell_type": "code",
   "execution_count": 61,
   "id": "a329af47",
   "metadata": {},
   "outputs": [
    {
     "name": "stdout",
     "output_type": "stream",
     "text": [
      "number of users in plan surf: 333\n",
      "number of users in plan ultimate: 157\n"
     ]
    }
   ],
   "source": [
    "df_su = df[df[\"plan\"] == \"surf\"]\n",
    "df_ul = df[df[\"plan\"] == \"ultimate\"]\n",
    "print(f\"number of users in plan surf: {len(df_su.groupby('user_id'))}\")\n",
    "print(f\"number of users in plan ultimate: {len(df_ul.groupby('user_id'))}\")"
   ]
  },
  {
   "cell_type": "code",
   "execution_count": 62,
   "id": "197a9f9b",
   "metadata": {},
   "outputs": [
    {
     "data": {
      "text/plain": [
       "Text(24.0, 0.5, 'Number of Useres')"
      ]
     },
     "execution_count": 62,
     "metadata": {},
     "output_type": "execute_result"
    },
    {
     "data": {
      "image/png": "[encoded data removed]",
      "text/plain": [
       "<Figure size 432x288 with 1 Axes>"
      ]
     },
     "metadata": {
      "needs_background": "light"
     },
     "output_type": "display_data"
    }
   ],
   "source": [
    "bar_x = [\"surf\", \"ultimate\"]\n",
    "bar_y = [len(df_su.groupby('user_id')), len(df_ul.groupby('user_id'))]\n",
    "fig, ax = plt.subplots(squeeze=False)\n",
    "plt.bar(x=bar_x, height=bar_y)\n",
    "plt.tight_layout()\n",
    "plt.title(\"Number of users in each plan\", fontsize=17)\n",
    "plt.xlabel(\"plan\", fontsize=14)\n",
    "plt.ylabel(\"Number of Useres\", fontsize=14)"
   ]
  },
  {
   "cell_type": "code",
   "execution_count": 63,
   "id": "41fe29fc",
   "metadata": {},
   "outputs": [
    {
     "data": {
      "image/png": "[encoded data removed]",
      "text/plain": [
       "<Figure size 432x288 with 1 Axes>"
      ]
     },
     "metadata": {
      "needs_background": "light"
     },
     "output_type": "display_data"
    },
    {
     "data": {
      "image/png": "[encoded data removed]",
      "text/plain": [
       "<Figure size 432x288 with 1 Axes>"
      ]
     },
     "metadata": {
      "needs_background": "light"
     },
     "output_type": "display_data"
    },
    {
     "data": {
      "image/png": "[encoded data removed]",
      "text/plain": [
       "<Figure size 432x288 with 1 Axes>"
      ]
     },
     "metadata": {
      "needs_background": "light"
     },
     "output_type": "display_data"
    },
    {
     "data": {
      "image/png": "[encoded data removed]",
      "text/plain": [
       "<Figure size 432x288 with 1 Axes>"
      ]
     },
     "metadata": {
      "needs_background": "light"
     },
     "output_type": "display_data"
    }
   ],
   "source": [
    "hist_list = [\"call_duration\", \"message_number\", \"gb_used\", \"cost\"]\n",
    "hist_list_expl = [\"call duration in minuts\", \"Number of message sent\",\n",
    "                  \"Internet use in GigaBytes\", \"Cost in US$\"]\n",
    "hist_list_x = [\"Calls minuts\", \"Message number\", \"GigaBytes\", \"US$\"]\n",
    "for tg, te, tx in zip(hist_list, hist_list_expl, hist_list_x):\n",
    "    fig, ax = plt.subplots(squeeze=False)\n",
    "    plt.hist(df_su[tg], bins=50)\n",
    "    plt.tight_layout()\n",
    "    plt.grid()\n",
    "    plt.title(te + \" plan SURF\", fontsize=17)\n",
    "    plt.xlabel(tx, fontsize=14)\n",
    "    plt.ylabel(\"Number of Useres every month\", fontsize=14)"
   ]
  },
  {
   "cell_type": "markdown",
   "id": "02b426a1",
   "metadata": {},
   "source": [
    "#### conclusion:\n",
    "1. the call duration distribute simmilar to the overall distribution\n",
    "2. here also most users don't send messages\n",
    "3. Internet usage is like in the overall, maybe the users doesn't understand the limits of the plan - **the company can try to sell them the ultimate plan** \n",
    "4. most of the users dot pay more than the plan fee"
   ]
  },
  {
   "cell_type": "markdown",
   "id": "1779e472",
   "metadata": {},
   "source": [
    "<div class=\"alert alert-info\">\n",
    "  <strong>My fixing: </strong> plotting 4 histograms \n",
    "</div>"
   ]
  },
  {
   "cell_type": "code",
   "execution_count": 64,
   "id": "a0e6fee1",
   "metadata": {},
   "outputs": [
    {
     "data": {
      "image/png": "[encoded data removed]",
      "text/plain": [
       "<Figure size 432x288 with 1 Axes>"
      ]
     },
     "metadata": {
      "needs_background": "light"
     },
     "output_type": "display_data"
    },
    {
     "data": {
      "image/png": "[encoded data removed]",
      "text/plain": [
       "<Figure size 432x288 with 1 Axes>"
      ]
     },
     "metadata": {
      "needs_background": "light"
     },
     "output_type": "display_data"
    },
    {
     "data": {
      "image/png": "[encoded data removed]",
      "text/plain": [
       "<Figure size 432x288 with 1 Axes>"
      ]
     },
     "metadata": {
      "needs_background": "light"
     },
     "output_type": "display_data"
    },
    {
     "data": {
      "image/png": "[encoded data removed]",
      "text/plain": [
       "<Figure size 432x288 with 1 Axes>"
      ]
     },
     "metadata": {
      "needs_background": "light"
     },
     "output_type": "display_data"
    }
   ],
   "source": [
    "hist_list = [\"call_duration\", \"message_number\", \"gb_used\", \"cost\"]\n",
    "hist_list_expl = [\"call duration in minuts\", \"Number of message sent\",\n",
    "                  \"Internet use in GigaBytes\", \"Cost in US$\"]\n",
    "hist_list_x = [\"Calls minuts\", \"Message number\", \"GigaBytes\", \"US$\"]\n",
    "for tg, te, tx in zip(hist_list, hist_list_expl, hist_list_x):\n",
    "    fig, ax = plt.subplots(squeeze=False)\n",
    "    plt.hist(df_ul[tg], bins=50)\n",
    "    plt.tight_layout()\n",
    "    plt.grid()\n",
    "    plt.title(te + \" plan ULTIMATE\", fontsize=17)\n",
    "    plt.xlabel(tx, fontsize=14)\n",
    "    plt.ylabel(\"Number of Useres every month\", fontsize=14)"
   ]
  },
  {
   "cell_type": "markdown",
   "id": "8b5b93c9",
   "metadata": {},
   "source": [
    "#### conclusion:\n",
    "1. the call duration distribute simmilar to the overall distribution\n",
    "2. here also most users don't send messages\n",
    "3. Internet usage is similar to normal distribution. there are gaps in several bins in the graph. the company should explain it. \n",
    "4. most of the users dot pay more than the plan fee"
   ]
  },
  {
   "cell_type": "markdown",
   "id": "b5b0d851",
   "metadata": {},
   "source": [
    "<div class=\"alert alert-info\">\n",
    "  <strong>My fixing: </strong> plotting 4 histograms \n",
    "</div>"
   ]
  },
  {
   "cell_type": "code",
   "execution_count": 65,
   "id": "af8dafb6",
   "metadata": {},
   "outputs": [
    {
     "data": {
      "image/png": "[encoded data removed]",
      "text/plain": [
       "<Figure size 432x288 with 1 Axes>"
      ]
     },
     "metadata": {
      "needs_background": "light"
     },
     "output_type": "display_data"
    },
    {
     "data": {
      "image/png": "[encoded data removed]",
      "text/plain": [
       "<Figure size 432x288 with 1 Axes>"
      ]
     },
     "metadata": {
      "needs_background": "light"
     },
     "output_type": "display_data"
    },
    {
     "data": {
      "image/png": "[encoded data removed]",
      "text/plain": [
       "<Figure size 432x288 with 1 Axes>"
      ]
     },
     "metadata": {
      "needs_background": "light"
     },
     "output_type": "display_data"
    },
    {
     "data": {
      "image/png": "[encoded data removed]",
      "text/plain": [
       "<Figure size 432x288 with 1 Axes>"
      ]
     },
     "metadata": {
      "needs_background": "light"
     },
     "output_type": "display_data"
    }
   ],
   "source": [
    "hist_list = [\"call_duration\", \"message_number\", \"gb_used\", \"cost\"]\n",
    "hist_list_expl = [\"call duration in minuts\", \"Number of message sent\",\n",
    "                  \"Internet use in GigaBytes\", \"Cost in US$\"]\n",
    "hist_list_x = [\"Calls minuts\", \"Message number\", \"GigaBytes\", \"US$\"]\n",
    "for tg, te, tx in zip(hist_list, hist_list_expl, hist_list_x):\n",
    "    fig, ax = plt.subplots(squeeze=False)\n",
    "    plt.hist(df[tg], bins=50, label=(\"All \"+tg), alpha=0.3)\n",
    "    plt.hist(df_su[tg], bins=50, label=(\"SURF \"+tg), alpha=0.65)\n",
    "    plt.hist(df_ul[tg], bins=50, label=(\"ULTIMATE \"+tg))\n",
    "    plt.tight_layout()\n",
    "    plt.grid()\n",
    "    plt.title(te, fontsize=17)\n",
    "    plt.xlabel(tx, fontsize=14)\n",
    "    plt.ylabel(\"Number of Useres every month\", fontsize=14)\n",
    "    plt.legend()"
   ]
  },
  {
   "cell_type": "markdown",
   "id": "c06cfca1",
   "metadata": {},
   "source": [
    "#### observation\n",
    "1. on the price, most of the users pay the plan fee without extras\n",
    "2. The distributions of call minutes are similar in both plans\n",
    "3. The distributions of GigaByte used are similar in both plans\n",
    "4. Most of the cost in each plan is the base fee"
   ]
  },
  {
   "cell_type": "markdown",
   "id": "f811d70f",
   "metadata": {},
   "source": [
    "<font color='green'><b><u>REVIEW: iteration#2</u></b></font>\n",
    "<div style=\"border:solid green 2px; padding: 40px\">\n",
    "    \n",
    "Great visualizations! Nice analysis!"
   ]
  },
  {
   "cell_type": "markdown",
   "id": "3097ab3c",
   "metadata": {},
   "source": [
    "#### Checking the minuts:\n",
    "calculating pivot table for every user, the duration in minutes every month and the mean "
   ]
  },
  {
   "cell_type": "code",
   "execution_count": 66,
   "id": "f202a516",
   "metadata": {
    "scrolled": false
   },
   "outputs": [
    {
     "data": {
      "text/html": [
       "<div>\n",
       "<style scoped>\n",
       "    .dataframe tbody tr th:only-of-type {\n",
       "        vertical-align: middle;\n",
       "    }\n",
       "\n",
       "    .dataframe tbody tr th {\n",
       "        vertical-align: top;\n",
       "    }\n",
       "\n",
       "    .dataframe thead th {\n",
       "        text-align: right;\n",
       "    }\n",
       "</style>\n",
       "<table border=\"1\" class=\"dataframe\">\n",
       "  <thead>\n",
       "    <tr style=\"text-align: right;\">\n",
       "      <th></th>\n",
       "      <th>1</th>\n",
       "      <th>2</th>\n",
       "      <th>3</th>\n",
       "      <th>4</th>\n",
       "      <th>5</th>\n",
       "      <th>6</th>\n",
       "      <th>7</th>\n",
       "      <th>8</th>\n",
       "      <th>9</th>\n",
       "      <th>10</th>\n",
       "      <th>11</th>\n",
       "      <th>12</th>\n",
       "      <th>All</th>\n",
       "    </tr>\n",
       "    <tr>\n",
       "      <th>user_id</th>\n",
       "      <th></th>\n",
       "      <th></th>\n",
       "      <th></th>\n",
       "      <th></th>\n",
       "      <th></th>\n",
       "      <th></th>\n",
       "      <th></th>\n",
       "      <th></th>\n",
       "      <th></th>\n",
       "      <th></th>\n",
       "      <th></th>\n",
       "      <th></th>\n",
       "      <th></th>\n",
       "    </tr>\n",
       "  </thead>\n",
       "  <tbody>\n",
       "    <tr>\n",
       "      <td>1001</td>\n",
       "      <td>0</td>\n",
       "      <td>0</td>\n",
       "      <td>0</td>\n",
       "      <td>0</td>\n",
       "      <td>0</td>\n",
       "      <td>0</td>\n",
       "      <td>0</td>\n",
       "      <td>182</td>\n",
       "      <td>315</td>\n",
       "      <td>393</td>\n",
       "      <td>426</td>\n",
       "      <td>412</td>\n",
       "      <td>345.600000</td>\n",
       "    </tr>\n",
       "    <tr>\n",
       "      <td>1002</td>\n",
       "      <td>0</td>\n",
       "      <td>0</td>\n",
       "      <td>0</td>\n",
       "      <td>0</td>\n",
       "      <td>0</td>\n",
       "      <td>0</td>\n",
       "      <td>0</td>\n",
       "      <td>0</td>\n",
       "      <td>0</td>\n",
       "      <td>59</td>\n",
       "      <td>386</td>\n",
       "      <td>384</td>\n",
       "      <td>276.333333</td>\n",
       "    </tr>\n",
       "    <tr>\n",
       "      <td>1003</td>\n",
       "      <td>0</td>\n",
       "      <td>0</td>\n",
       "      <td>0</td>\n",
       "      <td>0</td>\n",
       "      <td>0</td>\n",
       "      <td>0</td>\n",
       "      <td>0</td>\n",
       "      <td>0</td>\n",
       "      <td>0</td>\n",
       "      <td>0</td>\n",
       "      <td>0</td>\n",
       "      <td>1104</td>\n",
       "      <td>1104.000000</td>\n",
       "    </tr>\n",
       "    <tr>\n",
       "      <td>1004</td>\n",
       "      <td>0</td>\n",
       "      <td>0</td>\n",
       "      <td>0</td>\n",
       "      <td>0</td>\n",
       "      <td>193</td>\n",
       "      <td>275</td>\n",
       "      <td>381</td>\n",
       "      <td>354</td>\n",
       "      <td>301</td>\n",
       "      <td>365</td>\n",
       "      <td>476</td>\n",
       "      <td>427</td>\n",
       "      <td>346.500000</td>\n",
       "    </tr>\n",
       "    <tr>\n",
       "      <td>1005</td>\n",
       "      <td>0</td>\n",
       "      <td>0</td>\n",
       "      <td>0</td>\n",
       "      <td>0</td>\n",
       "      <td>0</td>\n",
       "      <td>0</td>\n",
       "      <td>0</td>\n",
       "      <td>0</td>\n",
       "      <td>0</td>\n",
       "      <td>0</td>\n",
       "      <td>0</td>\n",
       "      <td>496</td>\n",
       "      <td>496.000000</td>\n",
       "    </tr>\n",
       "  </tbody>\n",
       "</table>\n",
       "</div>"
      ],
      "text/plain": [
       "         1  2  3  4    5    6    7    8    9   10   11    12          All\n",
       "user_id                                                                  \n",
       "1001     0  0  0  0    0    0    0  182  315  393  426   412   345.600000\n",
       "1002     0  0  0  0    0    0    0    0    0   59  386   384   276.333333\n",
       "1003     0  0  0  0    0    0    0    0    0    0    0  1104  1104.000000\n",
       "1004     0  0  0  0  193  275  381  354  301  365  476   427   346.500000\n",
       "1005     0  0  0  0    0    0    0    0    0    0    0   496   496.000000"
      ]
     },
     "execution_count": 66,
     "metadata": {},
     "output_type": "execute_result"
    }
   ],
   "source": [
    "df_su_pivot = df_su.pivot_table(values=\"call_duration\", index=\"user_id\",\n",
    "                                columns=\"month\", fill_value=0, aggfunc=[\"mean\"], margins=True)\n",
    "df_su_pivot.columns = [1, 2, 3, 4, 5, 6, 7, 8, 9, 10, 11, 12, \"All\"]\n",
    "df_su_pivot.head()"
   ]
  },
  {
   "cell_type": "markdown",
   "id": "476b79ca",
   "metadata": {},
   "source": [
    "<font color='green'><b><u>REVIEW</u></b></font>\n",
    "<div class=\"alert alert-success\" style=\"box-shadow: 4px 4px 4px\">\n",
    "\n",
    "Awesome usage of <b>margins</b> argument of the pivot table. It seems like you've read the documentation, huh?😊\n",
    "    \n",
    "</div>"
   ]
  },
  {
   "cell_type": "code",
   "execution_count": 67,
   "id": "a81087f2",
   "metadata": {},
   "outputs": [],
   "source": [
    "df_su_pivot_mean = df_su_pivot.loc[\"All\", :].to_frame()"
   ]
  },
  {
   "cell_type": "code",
   "execution_count": 68,
   "id": "185a9750",
   "metadata": {},
   "outputs": [
    {
     "data": {
      "text/html": [
       "<div>\n",
       "<style scoped>\n",
       "    .dataframe tbody tr th:only-of-type {\n",
       "        vertical-align: middle;\n",
       "    }\n",
       "\n",
       "    .dataframe tbody tr th {\n",
       "        vertical-align: top;\n",
       "    }\n",
       "\n",
       "    .dataframe thead th {\n",
       "        text-align: right;\n",
       "    }\n",
       "</style>\n",
       "<table border=\"1\" class=\"dataframe\">\n",
       "  <thead>\n",
       "    <tr style=\"text-align: right;\">\n",
       "      <th></th>\n",
       "      <th>1</th>\n",
       "      <th>2</th>\n",
       "      <th>3</th>\n",
       "      <th>4</th>\n",
       "      <th>5</th>\n",
       "      <th>6</th>\n",
       "      <th>7</th>\n",
       "      <th>8</th>\n",
       "      <th>9</th>\n",
       "      <th>10</th>\n",
       "      <th>11</th>\n",
       "      <th>12</th>\n",
       "      <th>All</th>\n",
       "    </tr>\n",
       "    <tr>\n",
       "      <th>user_id</th>\n",
       "      <th></th>\n",
       "      <th></th>\n",
       "      <th></th>\n",
       "      <th></th>\n",
       "      <th></th>\n",
       "      <th></th>\n",
       "      <th></th>\n",
       "      <th></th>\n",
       "      <th></th>\n",
       "      <th></th>\n",
       "      <th></th>\n",
       "      <th></th>\n",
       "      <th></th>\n",
       "    </tr>\n",
       "  </thead>\n",
       "  <tbody>\n",
       "    <tr>\n",
       "      <td>1487</td>\n",
       "      <td>0</td>\n",
       "      <td>0</td>\n",
       "      <td>0</td>\n",
       "      <td>0</td>\n",
       "      <td>0</td>\n",
       "      <td>0</td>\n",
       "      <td>0</td>\n",
       "      <td>0</td>\n",
       "      <td>0</td>\n",
       "      <td>0</td>\n",
       "      <td>0</td>\n",
       "      <td>416</td>\n",
       "      <td>416.000000</td>\n",
       "    </tr>\n",
       "    <tr>\n",
       "      <td>1490</td>\n",
       "      <td>0</td>\n",
       "      <td>0</td>\n",
       "      <td>0</td>\n",
       "      <td>0</td>\n",
       "      <td>0</td>\n",
       "      <td>0</td>\n",
       "      <td>126</td>\n",
       "      <td>517</td>\n",
       "      <td>526</td>\n",
       "      <td>253</td>\n",
       "      <td>448</td>\n",
       "      <td>368</td>\n",
       "      <td>373.000000</td>\n",
       "    </tr>\n",
       "    <tr>\n",
       "      <td>1493</td>\n",
       "      <td>0</td>\n",
       "      <td>0</td>\n",
       "      <td>0</td>\n",
       "      <td>0</td>\n",
       "      <td>0</td>\n",
       "      <td>0</td>\n",
       "      <td>0</td>\n",
       "      <td>373</td>\n",
       "      <td>529</td>\n",
       "      <td>450</td>\n",
       "      <td>500</td>\n",
       "      <td>473</td>\n",
       "      <td>465.000000</td>\n",
       "    </tr>\n",
       "    <tr>\n",
       "      <td>1497</td>\n",
       "      <td>0</td>\n",
       "      <td>0</td>\n",
       "      <td>0</td>\n",
       "      <td>0</td>\n",
       "      <td>0</td>\n",
       "      <td>0</td>\n",
       "      <td>0</td>\n",
       "      <td>0</td>\n",
       "      <td>0</td>\n",
       "      <td>0</td>\n",
       "      <td>0</td>\n",
       "      <td>300</td>\n",
       "      <td>300.000000</td>\n",
       "    </tr>\n",
       "    <tr>\n",
       "      <td>All</td>\n",
       "      <td>193</td>\n",
       "      <td>470</td>\n",
       "      <td>304</td>\n",
       "      <td>336</td>\n",
       "      <td>406</td>\n",
       "      <td>387</td>\n",
       "      <td>427</td>\n",
       "      <td>421</td>\n",
       "      <td>437</td>\n",
       "      <td>455</td>\n",
       "      <td>452</td>\n",
       "      <td>465</td>\n",
       "      <td>435.286517</td>\n",
       "    </tr>\n",
       "  </tbody>\n",
       "</table>\n",
       "</div>"
      ],
      "text/plain": [
       "           1    2    3    4    5    6    7    8    9   10   11   12  \\\n",
       "user_id                                                               \n",
       "1487       0    0    0    0    0    0    0    0    0    0    0  416   \n",
       "1490       0    0    0    0    0    0  126  517  526  253  448  368   \n",
       "1493       0    0    0    0    0    0    0  373  529  450  500  473   \n",
       "1497       0    0    0    0    0    0    0    0    0    0    0  300   \n",
       "All      193  470  304  336  406  387  427  421  437  455  452  465   \n",
       "\n",
       "                All  \n",
       "user_id              \n",
       "1487     416.000000  \n",
       "1490     373.000000  \n",
       "1493     465.000000  \n",
       "1497     300.000000  \n",
       "All      435.286517  "
      ]
     },
     "execution_count": 68,
     "metadata": {},
     "output_type": "execute_result"
    }
   ],
   "source": [
    "df_ul_pivot = df_ul.pivot_table(values=\"call_duration\", index=\"user_id\",\n",
    "                                columns=\"month\", fill_value=0, aggfunc=[\"mean\"], margins=True)\n",
    "df_ul_pivot.columns = [1, 2, 3, 4, 5, 6, 7, 8, 9, 10, 11, 12, \"All\"]\n",
    "df_ul_pivot.tail()"
   ]
  },
  {
   "cell_type": "code",
   "execution_count": 69,
   "id": "ca304a8b",
   "metadata": {},
   "outputs": [],
   "source": [
    "df_ul_pivot_mean = df_ul_pivot.loc[\"All\", :].to_frame()"
   ]
  },
  {
   "cell_type": "code",
   "execution_count": 70,
   "id": "9202da29",
   "metadata": {},
   "outputs": [
    {
     "name": "stdout",
     "output_type": "stream",
     "text": [
      "comparing the mean of the to plans (surf and ultimate) for every month in minutes calls\n"
     ]
    },
    {
     "data": {
      "text/html": [
       "<div>\n",
       "<style scoped>\n",
       "    .dataframe tbody tr th:only-of-type {\n",
       "        vertical-align: middle;\n",
       "    }\n",
       "\n",
       "    .dataframe tbody tr th {\n",
       "        vertical-align: top;\n",
       "    }\n",
       "\n",
       "    .dataframe thead th {\n",
       "        text-align: right;\n",
       "    }\n",
       "</style>\n",
       "<table border=\"1\" class=\"dataframe\">\n",
       "  <thead>\n",
       "    <tr style=\"text-align: right;\">\n",
       "      <th></th>\n",
       "      <th>All_surf-mean_minutes</th>\n",
       "      <th>All_ultimate-mean_minutes</th>\n",
       "    </tr>\n",
       "  </thead>\n",
       "  <tbody>\n",
       "    <tr>\n",
       "      <td>1</td>\n",
       "      <td>203.000000</td>\n",
       "      <td>193.000000</td>\n",
       "    </tr>\n",
       "    <tr>\n",
       "      <td>2</td>\n",
       "      <td>297.000000</td>\n",
       "      <td>470.000000</td>\n",
       "    </tr>\n",
       "    <tr>\n",
       "      <td>3</td>\n",
       "      <td>330.000000</td>\n",
       "      <td>304.000000</td>\n",
       "    </tr>\n",
       "    <tr>\n",
       "      <td>4</td>\n",
       "      <td>351.000000</td>\n",
       "      <td>336.000000</td>\n",
       "    </tr>\n",
       "    <tr>\n",
       "      <td>5</td>\n",
       "      <td>410.000000</td>\n",
       "      <td>406.000000</td>\n",
       "    </tr>\n",
       "    <tr>\n",
       "      <td>6</td>\n",
       "      <td>435.000000</td>\n",
       "      <td>387.000000</td>\n",
       "    </tr>\n",
       "    <tr>\n",
       "      <td>7</td>\n",
       "      <td>453.000000</td>\n",
       "      <td>427.000000</td>\n",
       "    </tr>\n",
       "    <tr>\n",
       "      <td>8</td>\n",
       "      <td>417.000000</td>\n",
       "      <td>421.000000</td>\n",
       "    </tr>\n",
       "    <tr>\n",
       "      <td>9</td>\n",
       "      <td>420.000000</td>\n",
       "      <td>437.000000</td>\n",
       "    </tr>\n",
       "    <tr>\n",
       "      <td>10</td>\n",
       "      <td>440.000000</td>\n",
       "      <td>455.000000</td>\n",
       "    </tr>\n",
       "    <tr>\n",
       "      <td>11</td>\n",
       "      <td>432.000000</td>\n",
       "      <td>452.000000</td>\n",
       "    </tr>\n",
       "    <tr>\n",
       "      <td>12</td>\n",
       "      <td>484.000000</td>\n",
       "      <td>465.000000</td>\n",
       "    </tr>\n",
       "    <tr>\n",
       "      <td>All</td>\n",
       "      <td>436.802461</td>\n",
       "      <td>435.286517</td>\n",
       "    </tr>\n",
       "  </tbody>\n",
       "</table>\n",
       "</div>"
      ],
      "text/plain": [
       "     All_surf-mean_minutes  All_ultimate-mean_minutes\n",
       "1               203.000000                 193.000000\n",
       "2               297.000000                 470.000000\n",
       "3               330.000000                 304.000000\n",
       "4               351.000000                 336.000000\n",
       "5               410.000000                 406.000000\n",
       "6               435.000000                 387.000000\n",
       "7               453.000000                 427.000000\n",
       "8               417.000000                 421.000000\n",
       "9               420.000000                 437.000000\n",
       "10              440.000000                 455.000000\n",
       "11              432.000000                 452.000000\n",
       "12              484.000000                 465.000000\n",
       "All             436.802461                 435.286517"
      ]
     },
     "execution_count": 70,
     "metadata": {},
     "output_type": "execute_result"
    }
   ],
   "source": [
    "print(\"comparing the mean of the to plans (surf and ultimate) for every month in minutes calls\")\n",
    "minute_compare = df_su_pivot_mean.join(\n",
    "    df_ul_pivot_mean, how=\"outer\", lsuffix=\"_surf-mean_minutes\", rsuffix=\"_ultimate-mean_minutes\")\n",
    "minute_compare"
   ]
  },
  {
   "cell_type": "code",
   "execution_count": 71,
   "id": "b59efedc",
   "metadata": {},
   "outputs": [
    {
     "data": {
      "text/plain": [
       "<matplotlib.legend.Legend at 0x7ff8e149ca90>"
      ]
     },
     "execution_count": 71,
     "metadata": {},
     "output_type": "execute_result"
    },
    {
     "data": {
      "image/png": "[encoded data removed]",
      "text/plain": [
       "<Figure size 864x576 with 1 Axes>"
      ]
     },
     "metadata": {
      "needs_background": "light"
     },
     "output_type": "display_data"
    }
   ],
   "source": [
    "bar_x = [\"Jan\", \"Feb\", \"Mar\", \"Apr\", \"May\", \"Jun\",\n",
    "         \"Jul\", \"Aug\", \"Sep\", \"Oct\", \"Nov\", \"Dec\", \"ALL\"]\n",
    "# set width of bar\n",
    "barWidth = 0.25\n",
    "fig = plt.subplots(figsize=(12, 8))\n",
    "\n",
    "# set height of bar\n",
    "bar_surf = minute_compare[\"All_surf-mean_minutes\"]\n",
    "bar_ultimate = minute_compare[\"All_ultimate-mean_minutes\"]\n",
    "\n",
    "# Set position of bar on X axis\n",
    "br1 = np.arange(len(bar_surf))\n",
    "br2 = [x + barWidth for x in br1]\n",
    "\n",
    "\n",
    "# Make the plot\n",
    "plt.bar(br1, bar_surf, color='r', width=barWidth,\n",
    "        edgecolor='grey', label='plan - SURF')\n",
    "plt.bar(br2, bar_ultimate, color='g', width=barWidth,\n",
    "        edgecolor='grey', label='plan - ULTIMATE')\n",
    "\n",
    "\n",
    "# Adding Xticks\n",
    "plt.xlabel('Month', fontweight='bold', fontsize=15)\n",
    "plt.ylabel(\"mean of every month in minutes calls\",\n",
    "           fontweight='bold', fontsize=15)\n",
    "plt.xticks([r + barWidth for r in range(len(bar_surf))], bar_x)\n",
    "plt.title(\"comparing the MEAN of the to plans (surf and ultimate) for every month in minutes calls\", fontsize=17)\n",
    "plt.legend()"
   ]
  },
  {
   "cell_type": "markdown",
   "id": "1ca09160",
   "metadata": {},
   "source": [
    "#### Conclusion:\n",
    "comparing the mean of minutes mean for every month, we can see:\n",
    "1. The mean of the ultimate plan is larger than the mean of the surf plan\n",
    "2. The mean of the ultimate plan is almost the same all year long\n",
    "3. The mean of the surf plan is growing from January until August and there it keep steady but below the ultimate plan"
   ]
  },
  {
   "cell_type": "markdown",
   "id": "3ce48cb6",
   "metadata": {},
   "source": [
    "<div class=\"alert alert-info\">\n",
    "  <strong>My fixing: </strong> plotting bar chart with title and adding analysis\n",
    "</div>"
   ]
  },
  {
   "cell_type": "markdown",
   "id": "b27f2d23",
   "metadata": {},
   "source": [
    "<font color='green'><b><u>REVIEW</u></b></font>\n",
    "<div class=\"alert alert-success\" style=\"box-shadow: 4px 4px 4px\">\n",
    "\n",
    "Impressive data wrangling and appropriate visualization!\n",
    "    \n",
    "</div>"
   ]
  },
  {
   "cell_type": "markdown",
   "id": "d2fbedb7",
   "metadata": {},
   "source": [
    "<font color='orange'><b><u>REMARK: iteration#2</u></b></font>\n",
    "<div style=\"border:solid orange 2px; padding: 40px\">\n",
    "    \n",
    "Here, I would recommend giving short names to axis-labels and plot titles. For instance, X-axis = 'Month', Y-axis = 'Calls duration (in min.)' and Title = 'Monthly average calls duration'"
   ]
  },
  {
   "cell_type": "code",
   "execution_count": 72,
   "id": "21358f15",
   "metadata": {},
   "outputs": [
    {
     "data": {
      "text/html": [
       "<div>\n",
       "<style scoped>\n",
       "    .dataframe tbody tr th:only-of-type {\n",
       "        vertical-align: middle;\n",
       "    }\n",
       "\n",
       "    .dataframe tbody tr th {\n",
       "        vertical-align: top;\n",
       "    }\n",
       "\n",
       "    .dataframe thead th {\n",
       "        text-align: right;\n",
       "    }\n",
       "</style>\n",
       "<table border=\"1\" class=\"dataframe\">\n",
       "  <thead>\n",
       "    <tr style=\"text-align: right;\">\n",
       "      <th></th>\n",
       "      <th>1</th>\n",
       "      <th>2</th>\n",
       "      <th>3</th>\n",
       "      <th>4</th>\n",
       "      <th>5</th>\n",
       "      <th>6</th>\n",
       "      <th>7</th>\n",
       "      <th>8</th>\n",
       "      <th>9</th>\n",
       "      <th>10</th>\n",
       "      <th>11</th>\n",
       "      <th>12</th>\n",
       "      <th>All</th>\n",
       "      <th>var</th>\n",
       "      <th>std</th>\n",
       "    </tr>\n",
       "    <tr>\n",
       "      <th>user_id</th>\n",
       "      <th></th>\n",
       "      <th></th>\n",
       "      <th></th>\n",
       "      <th></th>\n",
       "      <th></th>\n",
       "      <th></th>\n",
       "      <th></th>\n",
       "      <th></th>\n",
       "      <th></th>\n",
       "      <th></th>\n",
       "      <th></th>\n",
       "      <th></th>\n",
       "      <th></th>\n",
       "      <th></th>\n",
       "      <th></th>\n",
       "    </tr>\n",
       "  </thead>\n",
       "  <tbody>\n",
       "    <tr>\n",
       "      <td>1001</td>\n",
       "      <td>0</td>\n",
       "      <td>0</td>\n",
       "      <td>0</td>\n",
       "      <td>0</td>\n",
       "      <td>0</td>\n",
       "      <td>0</td>\n",
       "      <td>0</td>\n",
       "      <td>182</td>\n",
       "      <td>315</td>\n",
       "      <td>393</td>\n",
       "      <td>426</td>\n",
       "      <td>412</td>\n",
       "      <td>345.600000</td>\n",
       "      <td>35558.517436</td>\n",
       "      <td>188.569662</td>\n",
       "    </tr>\n",
       "    <tr>\n",
       "      <td>1002</td>\n",
       "      <td>0</td>\n",
       "      <td>0</td>\n",
       "      <td>0</td>\n",
       "      <td>0</td>\n",
       "      <td>0</td>\n",
       "      <td>0</td>\n",
       "      <td>0</td>\n",
       "      <td>0</td>\n",
       "      <td>0</td>\n",
       "      <td>59</td>\n",
       "      <td>386</td>\n",
       "      <td>384</td>\n",
       "      <td>276.333333</td>\n",
       "      <td>23525.952991</td>\n",
       "      <td>153.381723</td>\n",
       "    </tr>\n",
       "    <tr>\n",
       "      <td>1003</td>\n",
       "      <td>0</td>\n",
       "      <td>0</td>\n",
       "      <td>0</td>\n",
       "      <td>0</td>\n",
       "      <td>0</td>\n",
       "      <td>0</td>\n",
       "      <td>0</td>\n",
       "      <td>0</td>\n",
       "      <td>0</td>\n",
       "      <td>0</td>\n",
       "      <td>0</td>\n",
       "      <td>1104</td>\n",
       "      <td>1104.000000</td>\n",
       "      <td>171884.307692</td>\n",
       "      <td>414.589324</td>\n",
       "    </tr>\n",
       "    <tr>\n",
       "      <td>1004</td>\n",
       "      <td>0</td>\n",
       "      <td>0</td>\n",
       "      <td>0</td>\n",
       "      <td>0</td>\n",
       "      <td>193</td>\n",
       "      <td>275</td>\n",
       "      <td>381</td>\n",
       "      <td>354</td>\n",
       "      <td>301</td>\n",
       "      <td>365</td>\n",
       "      <td>476</td>\n",
       "      <td>427</td>\n",
       "      <td>346.500000</td>\n",
       "      <td>32338.673077</td>\n",
       "      <td>179.829567</td>\n",
       "    </tr>\n",
       "    <tr>\n",
       "      <td>1005</td>\n",
       "      <td>0</td>\n",
       "      <td>0</td>\n",
       "      <td>0</td>\n",
       "      <td>0</td>\n",
       "      <td>0</td>\n",
       "      <td>0</td>\n",
       "      <td>0</td>\n",
       "      <td>0</td>\n",
       "      <td>0</td>\n",
       "      <td>0</td>\n",
       "      <td>0</td>\n",
       "      <td>496</td>\n",
       "      <td>496.000000</td>\n",
       "      <td>34694.564103</td>\n",
       "      <td>186.264769</td>\n",
       "    </tr>\n",
       "  </tbody>\n",
       "</table>\n",
       "</div>"
      ],
      "text/plain": [
       "         1  2  3  4    5    6    7    8    9   10   11    12          All  \\\n",
       "user_id                                                                     \n",
       "1001     0  0  0  0    0    0    0  182  315  393  426   412   345.600000   \n",
       "1002     0  0  0  0    0    0    0    0    0   59  386   384   276.333333   \n",
       "1003     0  0  0  0    0    0    0    0    0    0    0  1104  1104.000000   \n",
       "1004     0  0  0  0  193  275  381  354  301  365  476   427   346.500000   \n",
       "1005     0  0  0  0    0    0    0    0    0    0    0   496   496.000000   \n",
       "\n",
       "                   var         std  \n",
       "user_id                             \n",
       "1001      35558.517436  188.569662  \n",
       "1002      23525.952991  153.381723  \n",
       "1003     171884.307692  414.589324  \n",
       "1004      32338.673077  179.829567  \n",
       "1005      34694.564103  186.264769  "
      ]
     },
     "execution_count": 72,
     "metadata": {},
     "output_type": "execute_result"
    }
   ],
   "source": [
    "df_su_pivot[\"var\"] = df_su_pivot.var(axis=1).to_frame()\n",
    "df_su_pivot[\"std\"] = np.sqrt(df_su_pivot[\"var\"])\n",
    "df_su_pivot.head()"
   ]
  },
  {
   "cell_type": "code",
   "execution_count": 73,
   "id": "388b88bd",
   "metadata": {
    "scrolled": true
   },
   "outputs": [
    {
     "data": {
      "text/html": [
       "<div>\n",
       "<style scoped>\n",
       "    .dataframe tbody tr th:only-of-type {\n",
       "        vertical-align: middle;\n",
       "    }\n",
       "\n",
       "    .dataframe tbody tr th {\n",
       "        vertical-align: top;\n",
       "    }\n",
       "\n",
       "    .dataframe thead th {\n",
       "        text-align: right;\n",
       "    }\n",
       "</style>\n",
       "<table border=\"1\" class=\"dataframe\">\n",
       "  <thead>\n",
       "    <tr style=\"text-align: right;\">\n",
       "      <th></th>\n",
       "      <th>1</th>\n",
       "      <th>2</th>\n",
       "      <th>3</th>\n",
       "      <th>4</th>\n",
       "      <th>5</th>\n",
       "      <th>6</th>\n",
       "      <th>7</th>\n",
       "      <th>8</th>\n",
       "      <th>9</th>\n",
       "      <th>10</th>\n",
       "      <th>11</th>\n",
       "      <th>12</th>\n",
       "      <th>All</th>\n",
       "      <th>var</th>\n",
       "      <th>std</th>\n",
       "    </tr>\n",
       "    <tr>\n",
       "      <th>user_id</th>\n",
       "      <th></th>\n",
       "      <th></th>\n",
       "      <th></th>\n",
       "      <th></th>\n",
       "      <th></th>\n",
       "      <th></th>\n",
       "      <th></th>\n",
       "      <th></th>\n",
       "      <th></th>\n",
       "      <th></th>\n",
       "      <th></th>\n",
       "      <th></th>\n",
       "      <th></th>\n",
       "      <th></th>\n",
       "      <th></th>\n",
       "    </tr>\n",
       "  </thead>\n",
       "  <tbody>\n",
       "    <tr>\n",
       "      <td>1000</td>\n",
       "      <td>0</td>\n",
       "      <td>0</td>\n",
       "      <td>0</td>\n",
       "      <td>0</td>\n",
       "      <td>0</td>\n",
       "      <td>0</td>\n",
       "      <td>0</td>\n",
       "      <td>0</td>\n",
       "      <td>0</td>\n",
       "      <td>0</td>\n",
       "      <td>0</td>\n",
       "      <td>124</td>\n",
       "      <td>124.000000</td>\n",
       "      <td>2168.410256</td>\n",
       "      <td>46.566192</td>\n",
       "    </tr>\n",
       "    <tr>\n",
       "      <td>1006</td>\n",
       "      <td>0</td>\n",
       "      <td>0</td>\n",
       "      <td>0</td>\n",
       "      <td>0</td>\n",
       "      <td>0</td>\n",
       "      <td>0</td>\n",
       "      <td>0</td>\n",
       "      <td>0</td>\n",
       "      <td>0</td>\n",
       "      <td>0</td>\n",
       "      <td>10</td>\n",
       "      <td>59</td>\n",
       "      <td>34.500000</td>\n",
       "      <td>328.935897</td>\n",
       "      <td>18.136590</td>\n",
       "    </tr>\n",
       "    <tr>\n",
       "      <td>1008</td>\n",
       "      <td>0</td>\n",
       "      <td>0</td>\n",
       "      <td>0</td>\n",
       "      <td>0</td>\n",
       "      <td>0</td>\n",
       "      <td>0</td>\n",
       "      <td>0</td>\n",
       "      <td>0</td>\n",
       "      <td>0</td>\n",
       "      <td>476</td>\n",
       "      <td>446</td>\n",
       "      <td>634</td>\n",
       "      <td>518.666667</td>\n",
       "      <td>63780.632479</td>\n",
       "      <td>252.548278</td>\n",
       "    </tr>\n",
       "    <tr>\n",
       "      <td>1011</td>\n",
       "      <td>0</td>\n",
       "      <td>0</td>\n",
       "      <td>0</td>\n",
       "      <td>0</td>\n",
       "      <td>0</td>\n",
       "      <td>118</td>\n",
       "      <td>499</td>\n",
       "      <td>486</td>\n",
       "      <td>484</td>\n",
       "      <td>504</td>\n",
       "      <td>505</td>\n",
       "      <td>311</td>\n",
       "      <td>415.285714</td>\n",
       "      <td>55213.035583</td>\n",
       "      <td>234.974542</td>\n",
       "    </tr>\n",
       "    <tr>\n",
       "      <td>1013</td>\n",
       "      <td>0</td>\n",
       "      <td>0</td>\n",
       "      <td>0</td>\n",
       "      <td>0</td>\n",
       "      <td>0</td>\n",
       "      <td>0</td>\n",
       "      <td>0</td>\n",
       "      <td>0</td>\n",
       "      <td>0</td>\n",
       "      <td>0</td>\n",
       "      <td>0</td>\n",
       "      <td>219</td>\n",
       "      <td>219.000000</td>\n",
       "      <td>6763.730769</td>\n",
       "      <td>82.241904</td>\n",
       "    </tr>\n",
       "  </tbody>\n",
       "</table>\n",
       "</div>"
      ],
      "text/plain": [
       "         1  2  3  4  5    6    7    8    9   10   11   12         All  \\\n",
       "user_id                                                                 \n",
       "1000     0  0  0  0  0    0    0    0    0    0    0  124  124.000000   \n",
       "1006     0  0  0  0  0    0    0    0    0    0   10   59   34.500000   \n",
       "1008     0  0  0  0  0    0    0    0    0  476  446  634  518.666667   \n",
       "1011     0  0  0  0  0  118  499  486  484  504  505  311  415.285714   \n",
       "1013     0  0  0  0  0    0    0    0    0    0    0  219  219.000000   \n",
       "\n",
       "                  var         std  \n",
       "user_id                            \n",
       "1000      2168.410256   46.566192  \n",
       "1006       328.935897   18.136590  \n",
       "1008     63780.632479  252.548278  \n",
       "1011     55213.035583  234.974542  \n",
       "1013      6763.730769   82.241904  "
      ]
     },
     "execution_count": 73,
     "metadata": {},
     "output_type": "execute_result"
    }
   ],
   "source": [
    "df_ul_pivot[\"var\"] = df_ul_pivot.var(axis=1).to_frame()\n",
    "df_ul_pivot[\"std\"] = np.sqrt(df_ul_pivot[\"var\"])\n",
    "df_ul_pivot.head()"
   ]
  },
  {
   "cell_type": "markdown",
   "id": "36b7677a",
   "metadata": {},
   "source": [
    "#### Checking the messages:\n",
    "calculating pivot table for every user, the number of messages every month and the mean "
   ]
  },
  {
   "cell_type": "code",
   "execution_count": 74,
   "id": "aa144783",
   "metadata": {
    "scrolled": false
   },
   "outputs": [
    {
     "data": {
      "text/html": [
       "<div>\n",
       "<style scoped>\n",
       "    .dataframe tbody tr th:only-of-type {\n",
       "        vertical-align: middle;\n",
       "    }\n",
       "\n",
       "    .dataframe tbody tr th {\n",
       "        vertical-align: top;\n",
       "    }\n",
       "\n",
       "    .dataframe thead th {\n",
       "        text-align: right;\n",
       "    }\n",
       "</style>\n",
       "<table border=\"1\" class=\"dataframe\">\n",
       "  <thead>\n",
       "    <tr style=\"text-align: right;\">\n",
       "      <th></th>\n",
       "      <th>1</th>\n",
       "      <th>2</th>\n",
       "      <th>3</th>\n",
       "      <th>4</th>\n",
       "      <th>5</th>\n",
       "      <th>6</th>\n",
       "      <th>7</th>\n",
       "      <th>8</th>\n",
       "      <th>9</th>\n",
       "      <th>10</th>\n",
       "      <th>11</th>\n",
       "      <th>12</th>\n",
       "      <th>All</th>\n",
       "    </tr>\n",
       "    <tr>\n",
       "      <th>user_id</th>\n",
       "      <th></th>\n",
       "      <th></th>\n",
       "      <th></th>\n",
       "      <th></th>\n",
       "      <th></th>\n",
       "      <th></th>\n",
       "      <th></th>\n",
       "      <th></th>\n",
       "      <th></th>\n",
       "      <th></th>\n",
       "      <th></th>\n",
       "      <th></th>\n",
       "      <th></th>\n",
       "    </tr>\n",
       "  </thead>\n",
       "  <tbody>\n",
       "    <tr>\n",
       "      <td>1001</td>\n",
       "      <td>0</td>\n",
       "      <td>0</td>\n",
       "      <td>0</td>\n",
       "      <td>0</td>\n",
       "      <td>0</td>\n",
       "      <td>0</td>\n",
       "      <td>0</td>\n",
       "      <td>30</td>\n",
       "      <td>44</td>\n",
       "      <td>53</td>\n",
       "      <td>36</td>\n",
       "      <td>44</td>\n",
       "      <td>41.400000</td>\n",
       "    </tr>\n",
       "    <tr>\n",
       "      <td>1002</td>\n",
       "      <td>0</td>\n",
       "      <td>0</td>\n",
       "      <td>0</td>\n",
       "      <td>0</td>\n",
       "      <td>0</td>\n",
       "      <td>0</td>\n",
       "      <td>0</td>\n",
       "      <td>0</td>\n",
       "      <td>0</td>\n",
       "      <td>15</td>\n",
       "      <td>32</td>\n",
       "      <td>41</td>\n",
       "      <td>29.333333</td>\n",
       "    </tr>\n",
       "    <tr>\n",
       "      <td>1003</td>\n",
       "      <td>0</td>\n",
       "      <td>0</td>\n",
       "      <td>0</td>\n",
       "      <td>0</td>\n",
       "      <td>0</td>\n",
       "      <td>0</td>\n",
       "      <td>0</td>\n",
       "      <td>0</td>\n",
       "      <td>0</td>\n",
       "      <td>0</td>\n",
       "      <td>0</td>\n",
       "      <td>50</td>\n",
       "      <td>50.000000</td>\n",
       "    </tr>\n",
       "    <tr>\n",
       "      <td>1004</td>\n",
       "      <td>0</td>\n",
       "      <td>0</td>\n",
       "      <td>0</td>\n",
       "      <td>0</td>\n",
       "      <td>7</td>\n",
       "      <td>18</td>\n",
       "      <td>26</td>\n",
       "      <td>25</td>\n",
       "      <td>21</td>\n",
       "      <td>24</td>\n",
       "      <td>25</td>\n",
       "      <td>31</td>\n",
       "      <td>22.125000</td>\n",
       "    </tr>\n",
       "    <tr>\n",
       "      <td>1005</td>\n",
       "      <td>0</td>\n",
       "      <td>0</td>\n",
       "      <td>0</td>\n",
       "      <td>0</td>\n",
       "      <td>0</td>\n",
       "      <td>0</td>\n",
       "      <td>0</td>\n",
       "      <td>0</td>\n",
       "      <td>0</td>\n",
       "      <td>0</td>\n",
       "      <td>0</td>\n",
       "      <td>11</td>\n",
       "      <td>11.000000</td>\n",
       "    </tr>\n",
       "  </tbody>\n",
       "</table>\n",
       "</div>"
      ],
      "text/plain": [
       "         1  2  3  4  5   6   7   8   9  10  11  12        All\n",
       "user_id                                                      \n",
       "1001     0  0  0  0  0   0   0  30  44  53  36  44  41.400000\n",
       "1002     0  0  0  0  0   0   0   0   0  15  32  41  29.333333\n",
       "1003     0  0  0  0  0   0   0   0   0   0   0  50  50.000000\n",
       "1004     0  0  0  0  7  18  26  25  21  24  25  31  22.125000\n",
       "1005     0  0  0  0  0   0   0   0   0   0   0  11  11.000000"
      ]
     },
     "execution_count": 74,
     "metadata": {},
     "output_type": "execute_result"
    }
   ],
   "source": [
    "df_su_pivot = df_su.pivot_table(values=\"message_number\", index=\"user_id\",\n",
    "                                columns=\"month\", fill_value=0, aggfunc=[\"mean\"], margins=True)\n",
    "df_su_pivot.columns = [1, 2, 3, 4, 5, 6, 7, 8, 9, 10, 11, 12, \"All\"]\n",
    "df_su_pivot.head()"
   ]
  },
  {
   "cell_type": "code",
   "execution_count": 75,
   "id": "ab8999b3",
   "metadata": {},
   "outputs": [],
   "source": [
    "df_su_pivot_mean = df_su_pivot.loc[\"All\", :].to_frame()"
   ]
  },
  {
   "cell_type": "code",
   "execution_count": 76,
   "id": "2e6fac56",
   "metadata": {},
   "outputs": [
    {
     "data": {
      "text/html": [
       "<div>\n",
       "<style scoped>\n",
       "    .dataframe tbody tr th:only-of-type {\n",
       "        vertical-align: middle;\n",
       "    }\n",
       "\n",
       "    .dataframe tbody tr th {\n",
       "        vertical-align: top;\n",
       "    }\n",
       "\n",
       "    .dataframe thead th {\n",
       "        text-align: right;\n",
       "    }\n",
       "</style>\n",
       "<table border=\"1\" class=\"dataframe\">\n",
       "  <thead>\n",
       "    <tr style=\"text-align: right;\">\n",
       "      <th></th>\n",
       "      <th>1</th>\n",
       "      <th>2</th>\n",
       "      <th>3</th>\n",
       "      <th>4</th>\n",
       "      <th>5</th>\n",
       "      <th>6</th>\n",
       "      <th>7</th>\n",
       "      <th>8</th>\n",
       "      <th>9</th>\n",
       "      <th>10</th>\n",
       "      <th>11</th>\n",
       "      <th>12</th>\n",
       "      <th>All</th>\n",
       "    </tr>\n",
       "    <tr>\n",
       "      <th>user_id</th>\n",
       "      <th></th>\n",
       "      <th></th>\n",
       "      <th></th>\n",
       "      <th></th>\n",
       "      <th></th>\n",
       "      <th></th>\n",
       "      <th></th>\n",
       "      <th></th>\n",
       "      <th></th>\n",
       "      <th></th>\n",
       "      <th></th>\n",
       "      <th></th>\n",
       "      <th></th>\n",
       "    </tr>\n",
       "  </thead>\n",
       "  <tbody>\n",
       "    <tr>\n",
       "      <td>1000</td>\n",
       "      <td>0</td>\n",
       "      <td>0</td>\n",
       "      <td>0</td>\n",
       "      <td>0</td>\n",
       "      <td>0</td>\n",
       "      <td>0</td>\n",
       "      <td>0</td>\n",
       "      <td>0</td>\n",
       "      <td>0</td>\n",
       "      <td>0</td>\n",
       "      <td>0</td>\n",
       "      <td>11</td>\n",
       "      <td>11.0</td>\n",
       "    </tr>\n",
       "    <tr>\n",
       "      <td>1006</td>\n",
       "      <td>0</td>\n",
       "      <td>0</td>\n",
       "      <td>0</td>\n",
       "      <td>0</td>\n",
       "      <td>0</td>\n",
       "      <td>0</td>\n",
       "      <td>0</td>\n",
       "      <td>0</td>\n",
       "      <td>0</td>\n",
       "      <td>0</td>\n",
       "      <td>15</td>\n",
       "      <td>139</td>\n",
       "      <td>77.0</td>\n",
       "    </tr>\n",
       "    <tr>\n",
       "      <td>1008</td>\n",
       "      <td>0</td>\n",
       "      <td>0</td>\n",
       "      <td>0</td>\n",
       "      <td>0</td>\n",
       "      <td>0</td>\n",
       "      <td>0</td>\n",
       "      <td>0</td>\n",
       "      <td>0</td>\n",
       "      <td>0</td>\n",
       "      <td>21</td>\n",
       "      <td>37</td>\n",
       "      <td>26</td>\n",
       "      <td>28.0</td>\n",
       "    </tr>\n",
       "    <tr>\n",
       "      <td>1011</td>\n",
       "      <td>0</td>\n",
       "      <td>0</td>\n",
       "      <td>0</td>\n",
       "      <td>0</td>\n",
       "      <td>0</td>\n",
       "      <td>21</td>\n",
       "      <td>53</td>\n",
       "      <td>54</td>\n",
       "      <td>60</td>\n",
       "      <td>64</td>\n",
       "      <td>58</td>\n",
       "      <td>61</td>\n",
       "      <td>53.0</td>\n",
       "    </tr>\n",
       "    <tr>\n",
       "      <td>1013</td>\n",
       "      <td>0</td>\n",
       "      <td>0</td>\n",
       "      <td>0</td>\n",
       "      <td>0</td>\n",
       "      <td>0</td>\n",
       "      <td>0</td>\n",
       "      <td>0</td>\n",
       "      <td>0</td>\n",
       "      <td>0</td>\n",
       "      <td>0</td>\n",
       "      <td>0</td>\n",
       "      <td>16</td>\n",
       "      <td>16.0</td>\n",
       "    </tr>\n",
       "  </tbody>\n",
       "</table>\n",
       "</div>"
      ],
      "text/plain": [
       "         1  2  3  4  5   6   7   8   9  10  11   12   All\n",
       "user_id                                                  \n",
       "1000     0  0  0  0  0   0   0   0   0   0   0   11  11.0\n",
       "1006     0  0  0  0  0   0   0   0   0   0  15  139  77.0\n",
       "1008     0  0  0  0  0   0   0   0   0  21  37   26  28.0\n",
       "1011     0  0  0  0  0  21  53  54  60  64  58   61  53.0\n",
       "1013     0  0  0  0  0   0   0   0   0   0   0   16  16.0"
      ]
     },
     "execution_count": 76,
     "metadata": {},
     "output_type": "execute_result"
    }
   ],
   "source": [
    "df_ul_pivot = df_ul.pivot_table(values=\"message_number\", index=\"user_id\",\n",
    "                                columns=\"month\", fill_value=0, aggfunc=[\"mean\"], margins=True)\n",
    "df_ul_pivot.columns = [1, 2, 3, 4, 5, 6, 7, 8, 9, 10, 11, 12, \"All\"]\n",
    "df_ul_pivot.head()"
   ]
  },
  {
   "cell_type": "code",
   "execution_count": 77,
   "id": "0c00d080",
   "metadata": {},
   "outputs": [],
   "source": [
    "df_ul_pivot_mean = df_ul_pivot.loc[\"All\", :].to_frame()"
   ]
  },
  {
   "cell_type": "code",
   "execution_count": 78,
   "id": "af1a68ac",
   "metadata": {},
   "outputs": [
    {
     "name": "stdout",
     "output_type": "stream",
     "text": [
      "comparing the mean of the to plans (surf and ultimate) for every month in number of messages\n"
     ]
    },
    {
     "data": {
      "text/html": [
       "<div>\n",
       "<style scoped>\n",
       "    .dataframe tbody tr th:only-of-type {\n",
       "        vertical-align: middle;\n",
       "    }\n",
       "\n",
       "    .dataframe tbody tr th {\n",
       "        vertical-align: top;\n",
       "    }\n",
       "\n",
       "    .dataframe thead th {\n",
       "        text-align: right;\n",
       "    }\n",
       "</style>\n",
       "<table border=\"1\" class=\"dataframe\">\n",
       "  <thead>\n",
       "    <tr style=\"text-align: right;\">\n",
       "      <th></th>\n",
       "      <th>All_surf-mean messages</th>\n",
       "      <th>All_ultimate-mean messages</th>\n",
       "    </tr>\n",
       "  </thead>\n",
       "  <tbody>\n",
       "    <tr>\n",
       "      <td>1</td>\n",
       "      <td>10.000000</td>\n",
       "      <td>15.000000</td>\n",
       "    </tr>\n",
       "    <tr>\n",
       "      <td>2</td>\n",
       "      <td>12.000000</td>\n",
       "      <td>21.000000</td>\n",
       "    </tr>\n",
       "    <tr>\n",
       "      <td>3</td>\n",
       "      <td>15.000000</td>\n",
       "      <td>20.000000</td>\n",
       "    </tr>\n",
       "    <tr>\n",
       "      <td>4</td>\n",
       "      <td>17.000000</td>\n",
       "      <td>22.000000</td>\n",
       "    </tr>\n",
       "    <tr>\n",
       "      <td>5</td>\n",
       "      <td>24.000000</td>\n",
       "      <td>32.000000</td>\n",
       "    </tr>\n",
       "    <tr>\n",
       "      <td>6</td>\n",
       "      <td>25.000000</td>\n",
       "      <td>29.000000</td>\n",
       "    </tr>\n",
       "    <tr>\n",
       "      <td>7</td>\n",
       "      <td>27.000000</td>\n",
       "      <td>32.000000</td>\n",
       "    </tr>\n",
       "    <tr>\n",
       "      <td>8</td>\n",
       "      <td>28.000000</td>\n",
       "      <td>38.000000</td>\n",
       "    </tr>\n",
       "    <tr>\n",
       "      <td>9</td>\n",
       "      <td>30.000000</td>\n",
       "      <td>37.000000</td>\n",
       "    </tr>\n",
       "    <tr>\n",
       "      <td>10</td>\n",
       "      <td>33.000000</td>\n",
       "      <td>39.000000</td>\n",
       "    </tr>\n",
       "    <tr>\n",
       "      <td>11</td>\n",
       "      <td>32.000000</td>\n",
       "      <td>38.000000</td>\n",
       "    </tr>\n",
       "    <tr>\n",
       "      <td>12</td>\n",
       "      <td>38.000000</td>\n",
       "      <td>45.000000</td>\n",
       "    </tr>\n",
       "    <tr>\n",
       "      <td>All</td>\n",
       "      <td>31.159568</td>\n",
       "      <td>37.551389</td>\n",
       "    </tr>\n",
       "  </tbody>\n",
       "</table>\n",
       "</div>"
      ],
      "text/plain": [
       "     All_surf-mean messages  All_ultimate-mean messages\n",
       "1                 10.000000                   15.000000\n",
       "2                 12.000000                   21.000000\n",
       "3                 15.000000                   20.000000\n",
       "4                 17.000000                   22.000000\n",
       "5                 24.000000                   32.000000\n",
       "6                 25.000000                   29.000000\n",
       "7                 27.000000                   32.000000\n",
       "8                 28.000000                   38.000000\n",
       "9                 30.000000                   37.000000\n",
       "10                33.000000                   39.000000\n",
       "11                32.000000                   38.000000\n",
       "12                38.000000                   45.000000\n",
       "All               31.159568                   37.551389"
      ]
     },
     "execution_count": 78,
     "metadata": {},
     "output_type": "execute_result"
    }
   ],
   "source": [
    "print(\"comparing the mean of the to plans (surf and ultimate) for every month in number of messages\")\n",
    "message_compare = df_su_pivot_mean.join(\n",
    "    df_ul_pivot_mean, how=\"outer\", lsuffix=\"_surf-mean messages\", rsuffix=\"_ultimate-mean messages\")\n",
    "message_compare"
   ]
  },
  {
   "cell_type": "code",
   "execution_count": 79,
   "id": "a2433da4",
   "metadata": {},
   "outputs": [
    {
     "data": {
      "text/plain": [
       "<matplotlib.legend.Legend at 0x7ff8e0d5ec50>"
      ]
     },
     "execution_count": 79,
     "metadata": {},
     "output_type": "execute_result"
    },
    {
     "data": {
      "image/png": "[encoded data removed]",
      "text/plain": [
       "<Figure size 864x576 with 1 Axes>"
      ]
     },
     "metadata": {
      "needs_background": "light"
     },
     "output_type": "display_data"
    }
   ],
   "source": [
    "bar_x = [\"Jan\", \"Feb\", \"Mar\", \"Apr\", \"May\", \"Jun\",\n",
    "         \"Jul\", \"Aug\", \"Sep\", \"Oct\", \"Nov\", \"Dec\", \"ALL\"]\n",
    "# set width of bar\n",
    "barWidth = 0.25\n",
    "fig = plt.subplots(figsize=(12, 8))\n",
    "\n",
    "# set height of bar\n",
    "bar_surf = message_compare[\"All_surf-mean messages\"]\n",
    "bar_ultimate = message_compare[\"All_ultimate-mean messages\"]\n",
    "\n",
    "# Set position of bar on X axis\n",
    "br1 = np.arange(len(bar_surf))\n",
    "br2 = [x + barWidth for x in br1]\n",
    "\n",
    "\n",
    "# Make the plot\n",
    "plt.bar(br1, bar_surf, color='r', width=barWidth,\n",
    "        edgecolor='grey', label='plan - SURF')\n",
    "plt.bar(br2, bar_ultimate, color='g', width=barWidth,\n",
    "        edgecolor='grey', label='plan - ULTIMATE')\n",
    "\n",
    "\n",
    "# Adding Xticks\n",
    "plt.xlabel('Month', fontweight='bold', fontsize=15)\n",
    "plt.ylabel(\"mean of every month in message sended\",\n",
    "           fontweight='bold', fontsize=15)\n",
    "plt.xticks([r + barWidth for r in range(len(bar_surf))], bar_x)\n",
    "plt.title(\"comparing the MEAN of the to plans (surf and ultimate) for every month in messages sended\", fontsize=17)\n",
    "plt.legend()"
   ]
  },
  {
   "cell_type": "markdown",
   "id": "a60c1bef",
   "metadata": {},
   "source": [
    "<s>\n",
    "<font color='orange'><b><u>REMARK</u></b></font>\n",
    "<div class=\"alert alert-warning\" style=\"box-shadow: 4px 4px 4px\">\n",
    "\n",
    "Here, I would suggest providing month names rather than their number. \n",
    "    \n",
    "</div>\n",
    "</s>"
   ]
  },
  {
   "cell_type": "markdown",
   "id": "bb10adc6",
   "metadata": {},
   "source": [
    "<font color='orange'><b><u>REMARK: iteration#2</u></b></font>\n",
    "<div style=\"border:solid orange 2px; padding: 40px\">\n",
    "    \n",
    "Here, I would recommend giving short names to axis-labels and plot titles"
   ]
  },
  {
   "cell_type": "markdown",
   "id": "082343ad",
   "metadata": {},
   "source": [
    "comparing the mean of messages mean for every month, we can see in every month that the ultimate plan's mean was higher  then the surf plan"
   ]
  },
  {
   "cell_type": "code",
   "execution_count": 80,
   "id": "6e47924b",
   "metadata": {},
   "outputs": [
    {
     "data": {
      "text/html": [
       "<div>\n",
       "<style scoped>\n",
       "    .dataframe tbody tr th:only-of-type {\n",
       "        vertical-align: middle;\n",
       "    }\n",
       "\n",
       "    .dataframe tbody tr th {\n",
       "        vertical-align: top;\n",
       "    }\n",
       "\n",
       "    .dataframe thead th {\n",
       "        text-align: right;\n",
       "    }\n",
       "</style>\n",
       "<table border=\"1\" class=\"dataframe\">\n",
       "  <thead>\n",
       "    <tr style=\"text-align: right;\">\n",
       "      <th></th>\n",
       "      <th>1</th>\n",
       "      <th>2</th>\n",
       "      <th>3</th>\n",
       "      <th>4</th>\n",
       "      <th>5</th>\n",
       "      <th>6</th>\n",
       "      <th>7</th>\n",
       "      <th>8</th>\n",
       "      <th>9</th>\n",
       "      <th>10</th>\n",
       "      <th>11</th>\n",
       "      <th>12</th>\n",
       "      <th>All</th>\n",
       "      <th>var</th>\n",
       "      <th>std</th>\n",
       "    </tr>\n",
       "    <tr>\n",
       "      <th>user_id</th>\n",
       "      <th></th>\n",
       "      <th></th>\n",
       "      <th></th>\n",
       "      <th></th>\n",
       "      <th></th>\n",
       "      <th></th>\n",
       "      <th></th>\n",
       "      <th></th>\n",
       "      <th></th>\n",
       "      <th></th>\n",
       "      <th></th>\n",
       "      <th></th>\n",
       "      <th></th>\n",
       "      <th></th>\n",
       "      <th></th>\n",
       "    </tr>\n",
       "  </thead>\n",
       "  <tbody>\n",
       "    <tr>\n",
       "      <td>1001</td>\n",
       "      <td>0</td>\n",
       "      <td>0</td>\n",
       "      <td>0</td>\n",
       "      <td>0</td>\n",
       "      <td>0</td>\n",
       "      <td>0</td>\n",
       "      <td>0</td>\n",
       "      <td>30</td>\n",
       "      <td>44</td>\n",
       "      <td>53</td>\n",
       "      <td>36</td>\n",
       "      <td>44</td>\n",
       "      <td>41.400000</td>\n",
       "      <td>487.050769</td>\n",
       "      <td>22.069227</td>\n",
       "    </tr>\n",
       "    <tr>\n",
       "      <td>1002</td>\n",
       "      <td>0</td>\n",
       "      <td>0</td>\n",
       "      <td>0</td>\n",
       "      <td>0</td>\n",
       "      <td>0</td>\n",
       "      <td>0</td>\n",
       "      <td>0</td>\n",
       "      <td>0</td>\n",
       "      <td>0</td>\n",
       "      <td>15</td>\n",
       "      <td>32</td>\n",
       "      <td>41</td>\n",
       "      <td>29.333333</td>\n",
       "      <td>227.619658</td>\n",
       "      <td>15.087069</td>\n",
       "    </tr>\n",
       "    <tr>\n",
       "      <td>1003</td>\n",
       "      <td>0</td>\n",
       "      <td>0</td>\n",
       "      <td>0</td>\n",
       "      <td>0</td>\n",
       "      <td>0</td>\n",
       "      <td>0</td>\n",
       "      <td>0</td>\n",
       "      <td>0</td>\n",
       "      <td>0</td>\n",
       "      <td>0</td>\n",
       "      <td>0</td>\n",
       "      <td>50</td>\n",
       "      <td>50.000000</td>\n",
       "      <td>352.564103</td>\n",
       "      <td>18.776690</td>\n",
       "    </tr>\n",
       "    <tr>\n",
       "      <td>1004</td>\n",
       "      <td>0</td>\n",
       "      <td>0</td>\n",
       "      <td>0</td>\n",
       "      <td>0</td>\n",
       "      <td>7</td>\n",
       "      <td>18</td>\n",
       "      <td>26</td>\n",
       "      <td>25</td>\n",
       "      <td>21</td>\n",
       "      <td>24</td>\n",
       "      <td>25</td>\n",
       "      <td>31</td>\n",
       "      <td>22.125000</td>\n",
       "      <td>143.038061</td>\n",
       "      <td>11.959852</td>\n",
       "    </tr>\n",
       "    <tr>\n",
       "      <td>1005</td>\n",
       "      <td>0</td>\n",
       "      <td>0</td>\n",
       "      <td>0</td>\n",
       "      <td>0</td>\n",
       "      <td>0</td>\n",
       "      <td>0</td>\n",
       "      <td>0</td>\n",
       "      <td>0</td>\n",
       "      <td>0</td>\n",
       "      <td>0</td>\n",
       "      <td>0</td>\n",
       "      <td>11</td>\n",
       "      <td>11.000000</td>\n",
       "      <td>17.064103</td>\n",
       "      <td>4.130872</td>\n",
       "    </tr>\n",
       "  </tbody>\n",
       "</table>\n",
       "</div>"
      ],
      "text/plain": [
       "         1  2  3  4  5   6   7   8   9  10  11  12        All         var  \\\n",
       "user_id                                                                     \n",
       "1001     0  0  0  0  0   0   0  30  44  53  36  44  41.400000  487.050769   \n",
       "1002     0  0  0  0  0   0   0   0   0  15  32  41  29.333333  227.619658   \n",
       "1003     0  0  0  0  0   0   0   0   0   0   0  50  50.000000  352.564103   \n",
       "1004     0  0  0  0  7  18  26  25  21  24  25  31  22.125000  143.038061   \n",
       "1005     0  0  0  0  0   0   0   0   0   0   0  11  11.000000   17.064103   \n",
       "\n",
       "               std  \n",
       "user_id             \n",
       "1001     22.069227  \n",
       "1002     15.087069  \n",
       "1003     18.776690  \n",
       "1004     11.959852  \n",
       "1005      4.130872  "
      ]
     },
     "execution_count": 80,
     "metadata": {},
     "output_type": "execute_result"
    }
   ],
   "source": [
    "df_su_pivot[\"var\"] = df_su_pivot.var(axis=1).to_frame()\n",
    "df_su_pivot[\"std\"] = np.sqrt(df_su_pivot[\"var\"])\n",
    "df_su_pivot.head()"
   ]
  },
  {
   "cell_type": "code",
   "execution_count": 81,
   "id": "5d47c731",
   "metadata": {
    "scrolled": false
   },
   "outputs": [
    {
     "data": {
      "text/html": [
       "<div>\n",
       "<style scoped>\n",
       "    .dataframe tbody tr th:only-of-type {\n",
       "        vertical-align: middle;\n",
       "    }\n",
       "\n",
       "    .dataframe tbody tr th {\n",
       "        vertical-align: top;\n",
       "    }\n",
       "\n",
       "    .dataframe thead th {\n",
       "        text-align: right;\n",
       "    }\n",
       "</style>\n",
       "<table border=\"1\" class=\"dataframe\">\n",
       "  <thead>\n",
       "    <tr style=\"text-align: right;\">\n",
       "      <th></th>\n",
       "      <th>1</th>\n",
       "      <th>2</th>\n",
       "      <th>3</th>\n",
       "      <th>4</th>\n",
       "      <th>5</th>\n",
       "      <th>6</th>\n",
       "      <th>7</th>\n",
       "      <th>8</th>\n",
       "      <th>9</th>\n",
       "      <th>10</th>\n",
       "      <th>11</th>\n",
       "      <th>12</th>\n",
       "      <th>All</th>\n",
       "      <th>var</th>\n",
       "      <th>std</th>\n",
       "    </tr>\n",
       "    <tr>\n",
       "      <th>user_id</th>\n",
       "      <th></th>\n",
       "      <th></th>\n",
       "      <th></th>\n",
       "      <th></th>\n",
       "      <th></th>\n",
       "      <th></th>\n",
       "      <th></th>\n",
       "      <th></th>\n",
       "      <th></th>\n",
       "      <th></th>\n",
       "      <th></th>\n",
       "      <th></th>\n",
       "      <th></th>\n",
       "      <th></th>\n",
       "      <th></th>\n",
       "    </tr>\n",
       "  </thead>\n",
       "  <tbody>\n",
       "    <tr>\n",
       "      <td>1000</td>\n",
       "      <td>0</td>\n",
       "      <td>0</td>\n",
       "      <td>0</td>\n",
       "      <td>0</td>\n",
       "      <td>0</td>\n",
       "      <td>0</td>\n",
       "      <td>0</td>\n",
       "      <td>0</td>\n",
       "      <td>0</td>\n",
       "      <td>0</td>\n",
       "      <td>0</td>\n",
       "      <td>11</td>\n",
       "      <td>11.0</td>\n",
       "      <td>17.064103</td>\n",
       "      <td>4.130872</td>\n",
       "    </tr>\n",
       "    <tr>\n",
       "      <td>1006</td>\n",
       "      <td>0</td>\n",
       "      <td>0</td>\n",
       "      <td>0</td>\n",
       "      <td>0</td>\n",
       "      <td>0</td>\n",
       "      <td>0</td>\n",
       "      <td>0</td>\n",
       "      <td>0</td>\n",
       "      <td>0</td>\n",
       "      <td>0</td>\n",
       "      <td>15</td>\n",
       "      <td>139</td>\n",
       "      <td>77.0</td>\n",
       "      <td>1780.858974</td>\n",
       "      <td>42.200225</td>\n",
       "    </tr>\n",
       "    <tr>\n",
       "      <td>1008</td>\n",
       "      <td>0</td>\n",
       "      <td>0</td>\n",
       "      <td>0</td>\n",
       "      <td>0</td>\n",
       "      <td>0</td>\n",
       "      <td>0</td>\n",
       "      <td>0</td>\n",
       "      <td>0</td>\n",
       "      <td>0</td>\n",
       "      <td>21</td>\n",
       "      <td>37</td>\n",
       "      <td>26</td>\n",
       "      <td>28.0</td>\n",
       "      <td>192.089744</td>\n",
       "      <td>13.859644</td>\n",
       "    </tr>\n",
       "    <tr>\n",
       "      <td>1011</td>\n",
       "      <td>0</td>\n",
       "      <td>0</td>\n",
       "      <td>0</td>\n",
       "      <td>0</td>\n",
       "      <td>0</td>\n",
       "      <td>21</td>\n",
       "      <td>53</td>\n",
       "      <td>54</td>\n",
       "      <td>60</td>\n",
       "      <td>64</td>\n",
       "      <td>58</td>\n",
       "      <td>61</td>\n",
       "      <td>53.0</td>\n",
       "      <td>827.256410</td>\n",
       "      <td>28.762065</td>\n",
       "    </tr>\n",
       "    <tr>\n",
       "      <td>1013</td>\n",
       "      <td>0</td>\n",
       "      <td>0</td>\n",
       "      <td>0</td>\n",
       "      <td>0</td>\n",
       "      <td>0</td>\n",
       "      <td>0</td>\n",
       "      <td>0</td>\n",
       "      <td>0</td>\n",
       "      <td>0</td>\n",
       "      <td>0</td>\n",
       "      <td>0</td>\n",
       "      <td>16</td>\n",
       "      <td>16.0</td>\n",
       "      <td>36.102564</td>\n",
       "      <td>6.008541</td>\n",
       "    </tr>\n",
       "  </tbody>\n",
       "</table>\n",
       "</div>"
      ],
      "text/plain": [
       "         1  2  3  4  5   6   7   8   9  10  11   12   All          var  \\\n",
       "user_id                                                                  \n",
       "1000     0  0  0  0  0   0   0   0   0   0   0   11  11.0    17.064103   \n",
       "1006     0  0  0  0  0   0   0   0   0   0  15  139  77.0  1780.858974   \n",
       "1008     0  0  0  0  0   0   0   0   0  21  37   26  28.0   192.089744   \n",
       "1011     0  0  0  0  0  21  53  54  60  64  58   61  53.0   827.256410   \n",
       "1013     0  0  0  0  0   0   0   0   0   0   0   16  16.0    36.102564   \n",
       "\n",
       "               std  \n",
       "user_id             \n",
       "1000      4.130872  \n",
       "1006     42.200225  \n",
       "1008     13.859644  \n",
       "1011     28.762065  \n",
       "1013      6.008541  "
      ]
     },
     "execution_count": 81,
     "metadata": {},
     "output_type": "execute_result"
    }
   ],
   "source": [
    "df_ul_pivot[\"var\"] = df_ul_pivot.var(axis=1).to_frame()\n",
    "df_ul_pivot[\"std\"] = np.sqrt(df_ul_pivot[\"var\"])\n",
    "df_ul_pivot.head()"
   ]
  },
  {
   "cell_type": "markdown",
   "id": "59c940dc",
   "metadata": {},
   "source": [
    "#### Checking the internet usage:\n",
    "calculating pivot table for every user, the number of Gb every month and the mean "
   ]
  },
  {
   "cell_type": "code",
   "execution_count": 82,
   "id": "2457a966",
   "metadata": {
    "scrolled": false
   },
   "outputs": [
    {
     "data": {
      "text/html": [
       "<div>\n",
       "<style scoped>\n",
       "    .dataframe tbody tr th:only-of-type {\n",
       "        vertical-align: middle;\n",
       "    }\n",
       "\n",
       "    .dataframe tbody tr th {\n",
       "        vertical-align: top;\n",
       "    }\n",
       "\n",
       "    .dataframe thead th {\n",
       "        text-align: right;\n",
       "    }\n",
       "</style>\n",
       "<table border=\"1\" class=\"dataframe\">\n",
       "  <thead>\n",
       "    <tr style=\"text-align: right;\">\n",
       "      <th></th>\n",
       "      <th>1</th>\n",
       "      <th>2</th>\n",
       "      <th>3</th>\n",
       "      <th>4</th>\n",
       "      <th>5</th>\n",
       "      <th>6</th>\n",
       "      <th>7</th>\n",
       "      <th>8</th>\n",
       "      <th>9</th>\n",
       "      <th>10</th>\n",
       "      <th>11</th>\n",
       "      <th>12</th>\n",
       "      <th>All</th>\n",
       "    </tr>\n",
       "    <tr>\n",
       "      <th>user_id</th>\n",
       "      <th></th>\n",
       "      <th></th>\n",
       "      <th></th>\n",
       "      <th></th>\n",
       "      <th></th>\n",
       "      <th></th>\n",
       "      <th></th>\n",
       "      <th></th>\n",
       "      <th></th>\n",
       "      <th></th>\n",
       "      <th></th>\n",
       "      <th></th>\n",
       "      <th></th>\n",
       "    </tr>\n",
       "  </thead>\n",
       "  <tbody>\n",
       "    <tr>\n",
       "      <td>1001</td>\n",
       "      <td>0</td>\n",
       "      <td>0</td>\n",
       "      <td>0</td>\n",
       "      <td>0</td>\n",
       "      <td>0</td>\n",
       "      <td>0</td>\n",
       "      <td>0</td>\n",
       "      <td>7</td>\n",
       "      <td>14</td>\n",
       "      <td>22</td>\n",
       "      <td>19</td>\n",
       "      <td>19</td>\n",
       "      <td>16.200000</td>\n",
       "    </tr>\n",
       "    <tr>\n",
       "      <td>1002</td>\n",
       "      <td>0</td>\n",
       "      <td>0</td>\n",
       "      <td>0</td>\n",
       "      <td>0</td>\n",
       "      <td>0</td>\n",
       "      <td>0</td>\n",
       "      <td>0</td>\n",
       "      <td>0</td>\n",
       "      <td>0</td>\n",
       "      <td>7</td>\n",
       "      <td>19</td>\n",
       "      <td>15</td>\n",
       "      <td>13.666667</td>\n",
       "    </tr>\n",
       "    <tr>\n",
       "      <td>1003</td>\n",
       "      <td>0</td>\n",
       "      <td>0</td>\n",
       "      <td>0</td>\n",
       "      <td>0</td>\n",
       "      <td>0</td>\n",
       "      <td>0</td>\n",
       "      <td>0</td>\n",
       "      <td>0</td>\n",
       "      <td>0</td>\n",
       "      <td>0</td>\n",
       "      <td>0</td>\n",
       "      <td>27</td>\n",
       "      <td>27.000000</td>\n",
       "    </tr>\n",
       "    <tr>\n",
       "      <td>1004</td>\n",
       "      <td>0</td>\n",
       "      <td>0</td>\n",
       "      <td>0</td>\n",
       "      <td>0</td>\n",
       "      <td>7</td>\n",
       "      <td>21</td>\n",
       "      <td>24</td>\n",
       "      <td>28</td>\n",
       "      <td>19</td>\n",
       "      <td>15</td>\n",
       "      <td>22</td>\n",
       "      <td>21</td>\n",
       "      <td>19.625000</td>\n",
       "    </tr>\n",
       "    <tr>\n",
       "      <td>1005</td>\n",
       "      <td>0</td>\n",
       "      <td>0</td>\n",
       "      <td>0</td>\n",
       "      <td>0</td>\n",
       "      <td>0</td>\n",
       "      <td>0</td>\n",
       "      <td>0</td>\n",
       "      <td>0</td>\n",
       "      <td>0</td>\n",
       "      <td>0</td>\n",
       "      <td>0</td>\n",
       "      <td>17</td>\n",
       "      <td>17.000000</td>\n",
       "    </tr>\n",
       "  </tbody>\n",
       "</table>\n",
       "</div>"
      ],
      "text/plain": [
       "         1  2  3  4  5   6   7   8   9  10  11  12        All\n",
       "user_id                                                      \n",
       "1001     0  0  0  0  0   0   0   7  14  22  19  19  16.200000\n",
       "1002     0  0  0  0  0   0   0   0   0   7  19  15  13.666667\n",
       "1003     0  0  0  0  0   0   0   0   0   0   0  27  27.000000\n",
       "1004     0  0  0  0  7  21  24  28  19  15  22  21  19.625000\n",
       "1005     0  0  0  0  0   0   0   0   0   0   0  17  17.000000"
      ]
     },
     "execution_count": 82,
     "metadata": {},
     "output_type": "execute_result"
    }
   ],
   "source": [
    "df_su_pivot = df_su.pivot_table(values=\"gb_used\", index=\"user_id\",\n",
    "                                columns=\"month\", fill_value=0, aggfunc=[\"mean\"], margins=True)\n",
    "df_su_pivot.columns = [1, 2, 3, 4, 5, 6, 7, 8, 9, 10, 11, 12, \"All\"]\n",
    "df_su_pivot.head()"
   ]
  },
  {
   "cell_type": "code",
   "execution_count": 83,
   "id": "490c1eca",
   "metadata": {},
   "outputs": [],
   "source": [
    "df_su_pivot_mean = df_su_pivot.loc[\"All\", :].to_frame()"
   ]
  },
  {
   "cell_type": "code",
   "execution_count": 84,
   "id": "141bc715",
   "metadata": {},
   "outputs": [
    {
     "data": {
      "text/html": [
       "<div>\n",
       "<style scoped>\n",
       "    .dataframe tbody tr th:only-of-type {\n",
       "        vertical-align: middle;\n",
       "    }\n",
       "\n",
       "    .dataframe tbody tr th {\n",
       "        vertical-align: top;\n",
       "    }\n",
       "\n",
       "    .dataframe thead th {\n",
       "        text-align: right;\n",
       "    }\n",
       "</style>\n",
       "<table border=\"1\" class=\"dataframe\">\n",
       "  <thead>\n",
       "    <tr style=\"text-align: right;\">\n",
       "      <th></th>\n",
       "      <th>1</th>\n",
       "      <th>2</th>\n",
       "      <th>3</th>\n",
       "      <th>4</th>\n",
       "      <th>5</th>\n",
       "      <th>6</th>\n",
       "      <th>7</th>\n",
       "      <th>8</th>\n",
       "      <th>9</th>\n",
       "      <th>10</th>\n",
       "      <th>11</th>\n",
       "      <th>12</th>\n",
       "      <th>All</th>\n",
       "    </tr>\n",
       "    <tr>\n",
       "      <th>user_id</th>\n",
       "      <th></th>\n",
       "      <th></th>\n",
       "      <th></th>\n",
       "      <th></th>\n",
       "      <th></th>\n",
       "      <th></th>\n",
       "      <th></th>\n",
       "      <th></th>\n",
       "      <th></th>\n",
       "      <th></th>\n",
       "      <th></th>\n",
       "      <th></th>\n",
       "      <th></th>\n",
       "    </tr>\n",
       "  </thead>\n",
       "  <tbody>\n",
       "    <tr>\n",
       "      <td>1000</td>\n",
       "      <td>0</td>\n",
       "      <td>0</td>\n",
       "      <td>0</td>\n",
       "      <td>0</td>\n",
       "      <td>0</td>\n",
       "      <td>0</td>\n",
       "      <td>0</td>\n",
       "      <td>0</td>\n",
       "      <td>0</td>\n",
       "      <td>0</td>\n",
       "      <td>0</td>\n",
       "      <td>2</td>\n",
       "      <td>2.000000</td>\n",
       "    </tr>\n",
       "    <tr>\n",
       "      <td>1006</td>\n",
       "      <td>0</td>\n",
       "      <td>0</td>\n",
       "      <td>0</td>\n",
       "      <td>0</td>\n",
       "      <td>0</td>\n",
       "      <td>0</td>\n",
       "      <td>0</td>\n",
       "      <td>0</td>\n",
       "      <td>0</td>\n",
       "      <td>0</td>\n",
       "      <td>3</td>\n",
       "      <td>32</td>\n",
       "      <td>17.500000</td>\n",
       "    </tr>\n",
       "    <tr>\n",
       "      <td>1008</td>\n",
       "      <td>0</td>\n",
       "      <td>0</td>\n",
       "      <td>0</td>\n",
       "      <td>0</td>\n",
       "      <td>0</td>\n",
       "      <td>0</td>\n",
       "      <td>0</td>\n",
       "      <td>0</td>\n",
       "      <td>0</td>\n",
       "      <td>17</td>\n",
       "      <td>24</td>\n",
       "      <td>15</td>\n",
       "      <td>18.666667</td>\n",
       "    </tr>\n",
       "    <tr>\n",
       "      <td>1011</td>\n",
       "      <td>0</td>\n",
       "      <td>0</td>\n",
       "      <td>0</td>\n",
       "      <td>0</td>\n",
       "      <td>0</td>\n",
       "      <td>7</td>\n",
       "      <td>21</td>\n",
       "      <td>21</td>\n",
       "      <td>17</td>\n",
       "      <td>24</td>\n",
       "      <td>22</td>\n",
       "      <td>20</td>\n",
       "      <td>18.857143</td>\n",
       "    </tr>\n",
       "    <tr>\n",
       "      <td>1013</td>\n",
       "      <td>0</td>\n",
       "      <td>0</td>\n",
       "      <td>0</td>\n",
       "      <td>0</td>\n",
       "      <td>0</td>\n",
       "      <td>0</td>\n",
       "      <td>0</td>\n",
       "      <td>0</td>\n",
       "      <td>0</td>\n",
       "      <td>0</td>\n",
       "      <td>0</td>\n",
       "      <td>20</td>\n",
       "      <td>20.000000</td>\n",
       "    </tr>\n",
       "  </tbody>\n",
       "</table>\n",
       "</div>"
      ],
      "text/plain": [
       "         1  2  3  4  5  6   7   8   9  10  11  12        All\n",
       "user_id                                                     \n",
       "1000     0  0  0  0  0  0   0   0   0   0   0   2   2.000000\n",
       "1006     0  0  0  0  0  0   0   0   0   0   3  32  17.500000\n",
       "1008     0  0  0  0  0  0   0   0   0  17  24  15  18.666667\n",
       "1011     0  0  0  0  0  7  21  21  17  24  22  20  18.857143\n",
       "1013     0  0  0  0  0  0   0   0   0   0   0  20  20.000000"
      ]
     },
     "execution_count": 84,
     "metadata": {},
     "output_type": "execute_result"
    }
   ],
   "source": [
    "df_ul_pivot = df_ul.pivot_table(values=\"gb_used\", index=\"user_id\",\n",
    "                                columns=\"month\", fill_value=0, aggfunc=[\"mean\"], margins=True)\n",
    "df_ul_pivot.columns = [1, 2, 3, 4, 5, 6, 7, 8, 9, 10, 11, 12, \"All\"]\n",
    "df_ul_pivot.head()"
   ]
  },
  {
   "cell_type": "code",
   "execution_count": 85,
   "id": "022414ba",
   "metadata": {},
   "outputs": [],
   "source": [
    "df_ul_pivot_mean = df_ul_pivot.loc[\"All\", :].to_frame()"
   ]
  },
  {
   "cell_type": "code",
   "execution_count": 86,
   "id": "307c6ecd",
   "metadata": {},
   "outputs": [
    {
     "name": "stdout",
     "output_type": "stream",
     "text": [
      "comparing the mean of the two plans (surf and ultimate) for every month in Gigabyte usage\n"
     ]
    },
    {
     "data": {
      "text/html": [
       "<div>\n",
       "<style scoped>\n",
       "    .dataframe tbody tr th:only-of-type {\n",
       "        vertical-align: middle;\n",
       "    }\n",
       "\n",
       "    .dataframe tbody tr th {\n",
       "        vertical-align: top;\n",
       "    }\n",
       "\n",
       "    .dataframe thead th {\n",
       "        text-align: right;\n",
       "    }\n",
       "</style>\n",
       "<table border=\"1\" class=\"dataframe\">\n",
       "  <thead>\n",
       "    <tr style=\"text-align: right;\">\n",
       "      <th></th>\n",
       "      <th>All_surf-mean gb_used</th>\n",
       "      <th>All_ultimate-mean gb_used</th>\n",
       "    </tr>\n",
       "  </thead>\n",
       "  <tbody>\n",
       "    <tr>\n",
       "      <td>1</td>\n",
       "      <td>5.000000</td>\n",
       "      <td>7.000000</td>\n",
       "    </tr>\n",
       "    <tr>\n",
       "      <td>2</td>\n",
       "      <td>12.000000</td>\n",
       "      <td>17.000000</td>\n",
       "    </tr>\n",
       "    <tr>\n",
       "      <td>3</td>\n",
       "      <td>13.000000</td>\n",
       "      <td>18.000000</td>\n",
       "    </tr>\n",
       "    <tr>\n",
       "      <td>4</td>\n",
       "      <td>12.000000</td>\n",
       "      <td>16.000000</td>\n",
       "    </tr>\n",
       "    <tr>\n",
       "      <td>5</td>\n",
       "      <td>14.000000</td>\n",
       "      <td>16.000000</td>\n",
       "    </tr>\n",
       "    <tr>\n",
       "      <td>6</td>\n",
       "      <td>15.000000</td>\n",
       "      <td>15.000000</td>\n",
       "    </tr>\n",
       "    <tr>\n",
       "      <td>7</td>\n",
       "      <td>17.000000</td>\n",
       "      <td>16.000000</td>\n",
       "    </tr>\n",
       "    <tr>\n",
       "      <td>8</td>\n",
       "      <td>17.000000</td>\n",
       "      <td>17.000000</td>\n",
       "    </tr>\n",
       "    <tr>\n",
       "      <td>9</td>\n",
       "      <td>16.000000</td>\n",
       "      <td>17.000000</td>\n",
       "    </tr>\n",
       "    <tr>\n",
       "      <td>10</td>\n",
       "      <td>17.000000</td>\n",
       "      <td>17.000000</td>\n",
       "    </tr>\n",
       "    <tr>\n",
       "      <td>11</td>\n",
       "      <td>16.000000</td>\n",
       "      <td>17.000000</td>\n",
       "    </tr>\n",
       "    <tr>\n",
       "      <td>12</td>\n",
       "      <td>18.000000</td>\n",
       "      <td>18.000000</td>\n",
       "    </tr>\n",
       "    <tr>\n",
       "      <td>All</td>\n",
       "      <td>16.831194</td>\n",
       "      <td>17.331015</td>\n",
       "    </tr>\n",
       "  </tbody>\n",
       "</table>\n",
       "</div>"
      ],
      "text/plain": [
       "     All_surf-mean gb_used  All_ultimate-mean gb_used\n",
       "1                 5.000000                   7.000000\n",
       "2                12.000000                  17.000000\n",
       "3                13.000000                  18.000000\n",
       "4                12.000000                  16.000000\n",
       "5                14.000000                  16.000000\n",
       "6                15.000000                  15.000000\n",
       "7                17.000000                  16.000000\n",
       "8                17.000000                  17.000000\n",
       "9                16.000000                  17.000000\n",
       "10               17.000000                  17.000000\n",
       "11               16.000000                  17.000000\n",
       "12               18.000000                  18.000000\n",
       "All              16.831194                  17.331015"
      ]
     },
     "execution_count": 86,
     "metadata": {},
     "output_type": "execute_result"
    }
   ],
   "source": [
    "print(\"comparing the mean of the two plans (surf and ultimate) for every month in Gigabyte usage\")\n",
    "gb_compare = df_su_pivot_mean.join(\n",
    "    df_ul_pivot_mean, how=\"outer\", lsuffix=\"_surf-mean gb_used\", rsuffix=\"_ultimate-mean gb_used\")\n",
    "gb_compare"
   ]
  },
  {
   "cell_type": "code",
   "execution_count": 87,
   "id": "2a81fdc8",
   "metadata": {},
   "outputs": [
    {
     "data": {
      "text/plain": [
       "<matplotlib.legend.Legend at 0x7ff8e1459850>"
      ]
     },
     "execution_count": 87,
     "metadata": {},
     "output_type": "execute_result"
    },
    {
     "data": {
      "image/png": "[encoded data removed]",
      "text/plain": [
       "<Figure size 864x576 with 1 Axes>"
      ]
     },
     "metadata": {
      "needs_background": "light"
     },
     "output_type": "display_data"
    }
   ],
   "source": [
    "bar_x = [\"Jan\", \"Feb\", \"Mar\", \"Apr\", \"May\", \"Jun\",\n",
    "         \"Jul\", \"Aug\", \"Sep\", \"Oct\", \"Nov\", \"Dec\", \"ALL\"]\n",
    "# set width of bar\n",
    "barWidth = 0.25\n",
    "fig = plt.subplots(figsize=(12, 8))\n",
    "\n",
    "# set height of bar\n",
    "bar_surf = gb_compare[\"All_surf-mean gb_used\"]\n",
    "bar_ultimate = gb_compare[\"All_ultimate-mean gb_used\"]\n",
    "\n",
    "# Set position of bar on X axis\n",
    "br1 = np.arange(len(bar_surf))\n",
    "br2 = [x + barWidth for x in br1]\n",
    "\n",
    "\n",
    "# Make the plot\n",
    "plt.bar(br1, bar_surf, color='r', width=barWidth,\n",
    "        edgecolor='grey', label='plan - SURF')\n",
    "plt.bar(br2, bar_ultimate, color='g', width=barWidth,\n",
    "        edgecolor='grey', label='plan - ULTIMATE')\n",
    "\n",
    "\n",
    "# Adding Xticks\n",
    "plt.xlabel('Month', fontweight='bold', fontsize=15)\n",
    "plt.ylabel(\"mean of every month in Gigabyte used\",\n",
    "           fontweight='bold', fontsize=15)\n",
    "plt.xticks([r + barWidth for r in range(len(bar_surf))], bar_x)\n",
    "plt.title(\"comparing the MEAN of the to plans (surf and ultimate) for every month in Gigabyte used\", fontsize=17)\n",
    "plt.legend()"
   ]
  },
  {
   "cell_type": "markdown",
   "id": "6b9a5e0e",
   "metadata": {},
   "source": [
    "<font color='orange'><b><u>REMARK: iteration#2</u></b></font>\n",
    "<div style=\"border:solid orange 2px; padding: 40px\">\n",
    "    \n",
    "Here, I would recommend giving short names to axis-labels and plot titles."
   ]
  },
  {
   "cell_type": "markdown",
   "id": "4e8e9ced",
   "metadata": {},
   "source": [
    "comparing the mean of gb_used mean for every month, we can see in January until April that the ultimate plan's mean was higher then the surf plan. **But** from June, the Gb usage is about the same for both plans. Maybe the company can sell the hight plan to the surf costumers."
   ]
  },
  {
   "cell_type": "code",
   "execution_count": 88,
   "id": "01b5b4b3",
   "metadata": {},
   "outputs": [
    {
     "data": {
      "text/html": [
       "<div>\n",
       "<style scoped>\n",
       "    .dataframe tbody tr th:only-of-type {\n",
       "        vertical-align: middle;\n",
       "    }\n",
       "\n",
       "    .dataframe tbody tr th {\n",
       "        vertical-align: top;\n",
       "    }\n",
       "\n",
       "    .dataframe thead th {\n",
       "        text-align: right;\n",
       "    }\n",
       "</style>\n",
       "<table border=\"1\" class=\"dataframe\">\n",
       "  <thead>\n",
       "    <tr style=\"text-align: right;\">\n",
       "      <th></th>\n",
       "      <th>1</th>\n",
       "      <th>2</th>\n",
       "      <th>3</th>\n",
       "      <th>4</th>\n",
       "      <th>5</th>\n",
       "      <th>6</th>\n",
       "      <th>7</th>\n",
       "      <th>8</th>\n",
       "      <th>9</th>\n",
       "      <th>10</th>\n",
       "      <th>11</th>\n",
       "      <th>12</th>\n",
       "      <th>All</th>\n",
       "      <th>var</th>\n",
       "      <th>std</th>\n",
       "    </tr>\n",
       "    <tr>\n",
       "      <th>user_id</th>\n",
       "      <th></th>\n",
       "      <th></th>\n",
       "      <th></th>\n",
       "      <th></th>\n",
       "      <th></th>\n",
       "      <th></th>\n",
       "      <th></th>\n",
       "      <th></th>\n",
       "      <th></th>\n",
       "      <th></th>\n",
       "      <th></th>\n",
       "      <th></th>\n",
       "      <th></th>\n",
       "      <th></th>\n",
       "      <th></th>\n",
       "    </tr>\n",
       "  </thead>\n",
       "  <tbody>\n",
       "    <tr>\n",
       "      <td>1001</td>\n",
       "      <td>0</td>\n",
       "      <td>0</td>\n",
       "      <td>0</td>\n",
       "      <td>0</td>\n",
       "      <td>0</td>\n",
       "      <td>0</td>\n",
       "      <td>0</td>\n",
       "      <td>7</td>\n",
       "      <td>14</td>\n",
       "      <td>22</td>\n",
       "      <td>19</td>\n",
       "      <td>19</td>\n",
       "      <td>16.200000</td>\n",
       "      <td>82.223590</td>\n",
       "      <td>9.067722</td>\n",
       "    </tr>\n",
       "    <tr>\n",
       "      <td>1002</td>\n",
       "      <td>0</td>\n",
       "      <td>0</td>\n",
       "      <td>0</td>\n",
       "      <td>0</td>\n",
       "      <td>0</td>\n",
       "      <td>0</td>\n",
       "      <td>0</td>\n",
       "      <td>0</td>\n",
       "      <td>0</td>\n",
       "      <td>7</td>\n",
       "      <td>19</td>\n",
       "      <td>15</td>\n",
       "      <td>13.666667</td>\n",
       "      <td>49.324786</td>\n",
       "      <td>7.023161</td>\n",
       "    </tr>\n",
       "    <tr>\n",
       "      <td>1003</td>\n",
       "      <td>0</td>\n",
       "      <td>0</td>\n",
       "      <td>0</td>\n",
       "      <td>0</td>\n",
       "      <td>0</td>\n",
       "      <td>0</td>\n",
       "      <td>0</td>\n",
       "      <td>0</td>\n",
       "      <td>0</td>\n",
       "      <td>0</td>\n",
       "      <td>0</td>\n",
       "      <td>27</td>\n",
       "      <td>27.000000</td>\n",
       "      <td>102.807692</td>\n",
       "      <td>10.139413</td>\n",
       "    </tr>\n",
       "    <tr>\n",
       "      <td>1004</td>\n",
       "      <td>0</td>\n",
       "      <td>0</td>\n",
       "      <td>0</td>\n",
       "      <td>0</td>\n",
       "      <td>7</td>\n",
       "      <td>21</td>\n",
       "      <td>24</td>\n",
       "      <td>28</td>\n",
       "      <td>19</td>\n",
       "      <td>15</td>\n",
       "      <td>22</td>\n",
       "      <td>21</td>\n",
       "      <td>19.625000</td>\n",
       "      <td>112.201522</td>\n",
       "      <td>10.592522</td>\n",
       "    </tr>\n",
       "    <tr>\n",
       "      <td>1005</td>\n",
       "      <td>0</td>\n",
       "      <td>0</td>\n",
       "      <td>0</td>\n",
       "      <td>0</td>\n",
       "      <td>0</td>\n",
       "      <td>0</td>\n",
       "      <td>0</td>\n",
       "      <td>0</td>\n",
       "      <td>0</td>\n",
       "      <td>0</td>\n",
       "      <td>0</td>\n",
       "      <td>17</td>\n",
       "      <td>17.000000</td>\n",
       "      <td>40.756410</td>\n",
       "      <td>6.384075</td>\n",
       "    </tr>\n",
       "  </tbody>\n",
       "</table>\n",
       "</div>"
      ],
      "text/plain": [
       "         1  2  3  4  5   6   7   8   9  10  11  12        All         var  \\\n",
       "user_id                                                                     \n",
       "1001     0  0  0  0  0   0   0   7  14  22  19  19  16.200000   82.223590   \n",
       "1002     0  0  0  0  0   0   0   0   0   7  19  15  13.666667   49.324786   \n",
       "1003     0  0  0  0  0   0   0   0   0   0   0  27  27.000000  102.807692   \n",
       "1004     0  0  0  0  7  21  24  28  19  15  22  21  19.625000  112.201522   \n",
       "1005     0  0  0  0  0   0   0   0   0   0   0  17  17.000000   40.756410   \n",
       "\n",
       "               std  \n",
       "user_id             \n",
       "1001      9.067722  \n",
       "1002      7.023161  \n",
       "1003     10.139413  \n",
       "1004     10.592522  \n",
       "1005      6.384075  "
      ]
     },
     "execution_count": 88,
     "metadata": {},
     "output_type": "execute_result"
    }
   ],
   "source": [
    "df_su_pivot[\"var\"] = df_su_pivot.var(axis=1).to_frame()\n",
    "df_su_pivot[\"std\"] = np.sqrt(df_su_pivot[\"var\"])\n",
    "df_su_pivot.head()"
   ]
  },
  {
   "cell_type": "code",
   "execution_count": 89,
   "id": "9364c4a9",
   "metadata": {
    "scrolled": false
   },
   "outputs": [
    {
     "data": {
      "text/html": [
       "<div>\n",
       "<style scoped>\n",
       "    .dataframe tbody tr th:only-of-type {\n",
       "        vertical-align: middle;\n",
       "    }\n",
       "\n",
       "    .dataframe tbody tr th {\n",
       "        vertical-align: top;\n",
       "    }\n",
       "\n",
       "    .dataframe thead th {\n",
       "        text-align: right;\n",
       "    }\n",
       "</style>\n",
       "<table border=\"1\" class=\"dataframe\">\n",
       "  <thead>\n",
       "    <tr style=\"text-align: right;\">\n",
       "      <th></th>\n",
       "      <th>1</th>\n",
       "      <th>2</th>\n",
       "      <th>3</th>\n",
       "      <th>4</th>\n",
       "      <th>5</th>\n",
       "      <th>6</th>\n",
       "      <th>7</th>\n",
       "      <th>8</th>\n",
       "      <th>9</th>\n",
       "      <th>10</th>\n",
       "      <th>11</th>\n",
       "      <th>12</th>\n",
       "      <th>All</th>\n",
       "      <th>var</th>\n",
       "      <th>std</th>\n",
       "    </tr>\n",
       "    <tr>\n",
       "      <th>user_id</th>\n",
       "      <th></th>\n",
       "      <th></th>\n",
       "      <th></th>\n",
       "      <th></th>\n",
       "      <th></th>\n",
       "      <th></th>\n",
       "      <th></th>\n",
       "      <th></th>\n",
       "      <th></th>\n",
       "      <th></th>\n",
       "      <th></th>\n",
       "      <th></th>\n",
       "      <th></th>\n",
       "      <th></th>\n",
       "      <th></th>\n",
       "    </tr>\n",
       "  </thead>\n",
       "  <tbody>\n",
       "    <tr>\n",
       "      <td>1000</td>\n",
       "      <td>0</td>\n",
       "      <td>0</td>\n",
       "      <td>0</td>\n",
       "      <td>0</td>\n",
       "      <td>0</td>\n",
       "      <td>0</td>\n",
       "      <td>0</td>\n",
       "      <td>0</td>\n",
       "      <td>0</td>\n",
       "      <td>0</td>\n",
       "      <td>0</td>\n",
       "      <td>2</td>\n",
       "      <td>2.000000</td>\n",
       "      <td>0.564103</td>\n",
       "      <td>0.751068</td>\n",
       "    </tr>\n",
       "    <tr>\n",
       "      <td>1006</td>\n",
       "      <td>0</td>\n",
       "      <td>0</td>\n",
       "      <td>0</td>\n",
       "      <td>0</td>\n",
       "      <td>0</td>\n",
       "      <td>0</td>\n",
       "      <td>0</td>\n",
       "      <td>0</td>\n",
       "      <td>0</td>\n",
       "      <td>0</td>\n",
       "      <td>3</td>\n",
       "      <td>32</td>\n",
       "      <td>17.500000</td>\n",
       "      <td>93.935897</td>\n",
       "      <td>9.692053</td>\n",
       "    </tr>\n",
       "    <tr>\n",
       "      <td>1008</td>\n",
       "      <td>0</td>\n",
       "      <td>0</td>\n",
       "      <td>0</td>\n",
       "      <td>0</td>\n",
       "      <td>0</td>\n",
       "      <td>0</td>\n",
       "      <td>0</td>\n",
       "      <td>0</td>\n",
       "      <td>0</td>\n",
       "      <td>17</td>\n",
       "      <td>24</td>\n",
       "      <td>15</td>\n",
       "      <td>18.666667</td>\n",
       "      <td>84.132479</td>\n",
       "      <td>9.172376</td>\n",
       "    </tr>\n",
       "    <tr>\n",
       "      <td>1011</td>\n",
       "      <td>0</td>\n",
       "      <td>0</td>\n",
       "      <td>0</td>\n",
       "      <td>0</td>\n",
       "      <td>0</td>\n",
       "      <td>7</td>\n",
       "      <td>21</td>\n",
       "      <td>21</td>\n",
       "      <td>17</td>\n",
       "      <td>24</td>\n",
       "      <td>22</td>\n",
       "      <td>20</td>\n",
       "      <td>18.857143</td>\n",
       "      <td>107.082156</td>\n",
       "      <td>10.348051</td>\n",
       "    </tr>\n",
       "    <tr>\n",
       "      <td>1013</td>\n",
       "      <td>0</td>\n",
       "      <td>0</td>\n",
       "      <td>0</td>\n",
       "      <td>0</td>\n",
       "      <td>0</td>\n",
       "      <td>0</td>\n",
       "      <td>0</td>\n",
       "      <td>0</td>\n",
       "      <td>0</td>\n",
       "      <td>0</td>\n",
       "      <td>0</td>\n",
       "      <td>20</td>\n",
       "      <td>20.000000</td>\n",
       "      <td>56.410256</td>\n",
       "      <td>7.510676</td>\n",
       "    </tr>\n",
       "  </tbody>\n",
       "</table>\n",
       "</div>"
      ],
      "text/plain": [
       "         1  2  3  4  5  6   7   8   9  10  11  12        All         var  \\\n",
       "user_id                                                                    \n",
       "1000     0  0  0  0  0  0   0   0   0   0   0   2   2.000000    0.564103   \n",
       "1006     0  0  0  0  0  0   0   0   0   0   3  32  17.500000   93.935897   \n",
       "1008     0  0  0  0  0  0   0   0   0  17  24  15  18.666667   84.132479   \n",
       "1011     0  0  0  0  0  7  21  21  17  24  22  20  18.857143  107.082156   \n",
       "1013     0  0  0  0  0  0   0   0   0   0   0  20  20.000000   56.410256   \n",
       "\n",
       "               std  \n",
       "user_id             \n",
       "1000      0.751068  \n",
       "1006      9.692053  \n",
       "1008      9.172376  \n",
       "1011     10.348051  \n",
       "1013      7.510676  "
      ]
     },
     "execution_count": 89,
     "metadata": {},
     "output_type": "execute_result"
    }
   ],
   "source": [
    "df_ul_pivot[\"var\"] = df_ul_pivot.var(axis=1).to_frame()\n",
    "df_ul_pivot[\"std\"] = np.sqrt(df_ul_pivot[\"var\"])\n",
    "df_ul_pivot.head()"
   ]
  },
  {
   "cell_type": "markdown",
   "id": "edc763a8",
   "metadata": {},
   "source": [
    "<div class=\"alert alert-info\">\n",
    "  <strong>My fixing </strong>\n",
    "</div>"
   ]
  },
  {
   "cell_type": "markdown",
   "id": "426b60fe",
   "metadata": {},
   "source": [
    "## hypotheses 1\n",
    "### $H_0 =$ The average revenue from users of Ultimate and Surf calling plans are equal\n",
    "### $H_1 =$ The average revenue from users of Ultimate and Surf calling plans differs\n",
    "#### $ \\alpha = 0.05$\n",
    "\n",
    "### explenation of the hypotheses: are the mean of the cost in plan surf can be the same as the mean of the ultimate cost?"
   ]
  },
  {
   "cell_type": "markdown",
   "id": "28473a66",
   "metadata": {},
   "source": [
    "<font color='orange'><b><u>REMARK</u></b></font>\n",
    "<div class=\"alert alert-warning\" style=\"box-shadow: 4px 4px 4px\">\n",
    "\n",
    "Actually, with the help of hypothesis testing we can't say if 2 samples are equal. We can only assess how probably 2 samples belong to the same population. \n",
    "    \n",
    "</div>"
   ]
  },
  {
   "cell_type": "markdown",
   "id": "ed0cd74e",
   "metadata": {},
   "source": [
    "<div class=\"alert alert-info\">\n",
    "  <strong>My fixing: </strong> add $\\alpha$ and explenation and explenation at the result\n",
    "</div>"
   ]
  },
  {
   "cell_type": "markdown",
   "id": "15ccdbec",
   "metadata": {},
   "source": [
    "### get the two samples\n"
   ]
  },
  {
   "cell_type": "code",
   "execution_count": 90,
   "id": "51d4e2aa",
   "metadata": {
    "scrolled": false
   },
   "outputs": [
    {
     "data": {
      "text/html": [
       "<div>\n",
       "<style scoped>\n",
       "    .dataframe tbody tr th:only-of-type {\n",
       "        vertical-align: middle;\n",
       "    }\n",
       "\n",
       "    .dataframe tbody tr th {\n",
       "        vertical-align: top;\n",
       "    }\n",
       "\n",
       "    .dataframe thead th {\n",
       "        text-align: right;\n",
       "    }\n",
       "</style>\n",
       "<table border=\"1\" class=\"dataframe\">\n",
       "  <thead>\n",
       "    <tr style=\"text-align: right;\">\n",
       "      <th></th>\n",
       "      <th>1</th>\n",
       "      <th>2</th>\n",
       "      <th>3</th>\n",
       "      <th>4</th>\n",
       "      <th>5</th>\n",
       "      <th>6</th>\n",
       "      <th>7</th>\n",
       "      <th>8</th>\n",
       "      <th>9</th>\n",
       "      <th>10</th>\n",
       "      <th>11</th>\n",
       "      <th>12</th>\n",
       "      <th>All</th>\n",
       "    </tr>\n",
       "    <tr>\n",
       "      <th>user_id</th>\n",
       "      <th></th>\n",
       "      <th></th>\n",
       "      <th></th>\n",
       "      <th></th>\n",
       "      <th></th>\n",
       "      <th></th>\n",
       "      <th></th>\n",
       "      <th></th>\n",
       "      <th></th>\n",
       "      <th></th>\n",
       "      <th></th>\n",
       "      <th></th>\n",
       "      <th></th>\n",
       "    </tr>\n",
       "  </thead>\n",
       "  <tbody>\n",
       "    <tr>\n",
       "      <td>1495</td>\n",
       "      <td>0</td>\n",
       "      <td>0.000000</td>\n",
       "      <td>0.000000</td>\n",
       "      <td>0.000000</td>\n",
       "      <td>0.000000</td>\n",
       "      <td>0.000000</td>\n",
       "      <td>0.000000</td>\n",
       "      <td>0.000000</td>\n",
       "      <td>100.000000</td>\n",
       "      <td>143.300000</td>\n",
       "      <td>120.000000</td>\n",
       "      <td>110.000000</td>\n",
       "      <td>118.325000</td>\n",
       "    </tr>\n",
       "    <tr>\n",
       "      <td>1496</td>\n",
       "      <td>0</td>\n",
       "      <td>0.000000</td>\n",
       "      <td>0.000000</td>\n",
       "      <td>0.000000</td>\n",
       "      <td>0.000000</td>\n",
       "      <td>0.000000</td>\n",
       "      <td>0.000000</td>\n",
       "      <td>20.000000</td>\n",
       "      <td>40.000000</td>\n",
       "      <td>20.000000</td>\n",
       "      <td>20.000000</td>\n",
       "      <td>40.000000</td>\n",
       "      <td>28.000000</td>\n",
       "    </tr>\n",
       "    <tr>\n",
       "      <td>1498</td>\n",
       "      <td>0</td>\n",
       "      <td>70.000000</td>\n",
       "      <td>70.000000</td>\n",
       "      <td>70.000000</td>\n",
       "      <td>90.000000</td>\n",
       "      <td>20.000000</td>\n",
       "      <td>120.000000</td>\n",
       "      <td>70.000000</td>\n",
       "      <td>100.000000</td>\n",
       "      <td>80.000000</td>\n",
       "      <td>60.000000</td>\n",
       "      <td>100.000000</td>\n",
       "      <td>77.272727</td>\n",
       "    </tr>\n",
       "    <tr>\n",
       "      <td>1499</td>\n",
       "      <td>0</td>\n",
       "      <td>0.000000</td>\n",
       "      <td>0.000000</td>\n",
       "      <td>0.000000</td>\n",
       "      <td>0.000000</td>\n",
       "      <td>0.000000</td>\n",
       "      <td>0.000000</td>\n",
       "      <td>0.000000</td>\n",
       "      <td>20.000000</td>\n",
       "      <td>70.000000</td>\n",
       "      <td>40.000000</td>\n",
       "      <td>90.000000</td>\n",
       "      <td>55.000000</td>\n",
       "    </tr>\n",
       "    <tr>\n",
       "      <td>All</td>\n",
       "      <td>20</td>\n",
       "      <td>34.396667</td>\n",
       "      <td>45.941304</td>\n",
       "      <td>41.133265</td>\n",
       "      <td>48.747838</td>\n",
       "      <td>50.163404</td>\n",
       "      <td>63.192689</td>\n",
       "      <td>65.203333</td>\n",
       "      <td>57.321421</td>\n",
       "      <td>65.567675</td>\n",
       "      <td>57.369564</td>\n",
       "      <td>69.318903</td>\n",
       "      <td>60.524585</td>\n",
       "    </tr>\n",
       "  </tbody>\n",
       "</table>\n",
       "</div>"
      ],
      "text/plain": [
       "          1          2          3          4          5          6  \\\n",
       "user_id                                                              \n",
       "1495      0   0.000000   0.000000   0.000000   0.000000   0.000000   \n",
       "1496      0   0.000000   0.000000   0.000000   0.000000   0.000000   \n",
       "1498      0  70.000000  70.000000  70.000000  90.000000  20.000000   \n",
       "1499      0   0.000000   0.000000   0.000000   0.000000   0.000000   \n",
       "All      20  34.396667  45.941304  41.133265  48.747838  50.163404   \n",
       "\n",
       "                  7          8           9          10          11  \\\n",
       "user_id                                                              \n",
       "1495       0.000000   0.000000  100.000000  143.300000  120.000000   \n",
       "1496       0.000000  20.000000   40.000000   20.000000   20.000000   \n",
       "1498     120.000000  70.000000  100.000000   80.000000   60.000000   \n",
       "1499       0.000000   0.000000   20.000000   70.000000   40.000000   \n",
       "All       63.192689  65.203333   57.321421   65.567675   57.369564   \n",
       "\n",
       "                 12         All  \n",
       "user_id                          \n",
       "1495     110.000000  118.325000  \n",
       "1496      40.000000   28.000000  \n",
       "1498     100.000000   77.272727  \n",
       "1499      90.000000   55.000000  \n",
       "All       69.318903   60.524585  "
      ]
     },
     "execution_count": 90,
     "metadata": {},
     "output_type": "execute_result"
    }
   ],
   "source": [
    "df_su_pivot = df_su.pivot_table(values=\"cost\", index=\"user_id\",\n",
    "                                columns=\"month\", fill_value=0, aggfunc=[\"mean\"], margins=True)\n",
    "df_su_pivot.columns = [1, 2, 3, 4, 5, 6, 7, 8, 9, 10, 11, 12, \"All\"]\n",
    "df_su_pivot.tail()"
   ]
  },
  {
   "cell_type": "code",
   "execution_count": 91,
   "id": "2552eb08",
   "metadata": {},
   "outputs": [],
   "source": [
    "df_su_pivot_mean = df_su_pivot.loc[\"All\", :].to_frame()"
   ]
  },
  {
   "cell_type": "code",
   "execution_count": 92,
   "id": "123b8b43",
   "metadata": {},
   "outputs": [
    {
     "data": {
      "text/html": [
       "<div>\n",
       "<style scoped>\n",
       "    .dataframe tbody tr th:only-of-type {\n",
       "        vertical-align: middle;\n",
       "    }\n",
       "\n",
       "    .dataframe tbody tr th {\n",
       "        vertical-align: top;\n",
       "    }\n",
       "\n",
       "    .dataframe thead th {\n",
       "        text-align: right;\n",
       "    }\n",
       "</style>\n",
       "<table border=\"1\" class=\"dataframe\">\n",
       "  <thead>\n",
       "    <tr style=\"text-align: right;\">\n",
       "      <th></th>\n",
       "      <th>1</th>\n",
       "      <th>2</th>\n",
       "      <th>3</th>\n",
       "      <th>4</th>\n",
       "      <th>5</th>\n",
       "      <th>6</th>\n",
       "      <th>7</th>\n",
       "      <th>8</th>\n",
       "      <th>9</th>\n",
       "      <th>10</th>\n",
       "      <th>11</th>\n",
       "      <th>12</th>\n",
       "      <th>All</th>\n",
       "    </tr>\n",
       "    <tr>\n",
       "      <th>user_id</th>\n",
       "      <th></th>\n",
       "      <th></th>\n",
       "      <th></th>\n",
       "      <th></th>\n",
       "      <th></th>\n",
       "      <th></th>\n",
       "      <th></th>\n",
       "      <th></th>\n",
       "      <th></th>\n",
       "      <th></th>\n",
       "      <th></th>\n",
       "      <th></th>\n",
       "      <th></th>\n",
       "    </tr>\n",
       "  </thead>\n",
       "  <tbody>\n",
       "    <tr>\n",
       "      <td>1487</td>\n",
       "      <td>0</td>\n",
       "      <td>0</td>\n",
       "      <td>0</td>\n",
       "      <td>0</td>\n",
       "      <td>0</td>\n",
       "      <td>0</td>\n",
       "      <td>0</td>\n",
       "      <td>0</td>\n",
       "      <td>0</td>\n",
       "      <td>0</td>\n",
       "      <td>0</td>\n",
       "      <td>70</td>\n",
       "      <td>70.000000</td>\n",
       "    </tr>\n",
       "    <tr>\n",
       "      <td>1490</td>\n",
       "      <td>0</td>\n",
       "      <td>0</td>\n",
       "      <td>0</td>\n",
       "      <td>0</td>\n",
       "      <td>0</td>\n",
       "      <td>0</td>\n",
       "      <td>70</td>\n",
       "      <td>133</td>\n",
       "      <td>112</td>\n",
       "      <td>119</td>\n",
       "      <td>70</td>\n",
       "      <td>182</td>\n",
       "      <td>114.333333</td>\n",
       "    </tr>\n",
       "    <tr>\n",
       "      <td>1493</td>\n",
       "      <td>0</td>\n",
       "      <td>0</td>\n",
       "      <td>0</td>\n",
       "      <td>0</td>\n",
       "      <td>0</td>\n",
       "      <td>0</td>\n",
       "      <td>0</td>\n",
       "      <td>70</td>\n",
       "      <td>70</td>\n",
       "      <td>70</td>\n",
       "      <td>70</td>\n",
       "      <td>70</td>\n",
       "      <td>70.000000</td>\n",
       "    </tr>\n",
       "    <tr>\n",
       "      <td>1497</td>\n",
       "      <td>0</td>\n",
       "      <td>0</td>\n",
       "      <td>0</td>\n",
       "      <td>0</td>\n",
       "      <td>0</td>\n",
       "      <td>0</td>\n",
       "      <td>0</td>\n",
       "      <td>0</td>\n",
       "      <td>0</td>\n",
       "      <td>0</td>\n",
       "      <td>0</td>\n",
       "      <td>70</td>\n",
       "      <td>70.000000</td>\n",
       "    </tr>\n",
       "    <tr>\n",
       "      <td>All</td>\n",
       "      <td>70</td>\n",
       "      <td>70</td>\n",
       "      <td>74</td>\n",
       "      <td>73</td>\n",
       "      <td>70</td>\n",
       "      <td>71</td>\n",
       "      <td>71</td>\n",
       "      <td>72</td>\n",
       "      <td>72</td>\n",
       "      <td>72</td>\n",
       "      <td>71</td>\n",
       "      <td>73</td>\n",
       "      <td>72.280899</td>\n",
       "    </tr>\n",
       "  </tbody>\n",
       "</table>\n",
       "</div>"
      ],
      "text/plain": [
       "          1   2   3   4   5   6   7    8    9   10  11   12         All\n",
       "user_id                                                                \n",
       "1487      0   0   0   0   0   0   0    0    0    0   0   70   70.000000\n",
       "1490      0   0   0   0   0   0  70  133  112  119  70  182  114.333333\n",
       "1493      0   0   0   0   0   0   0   70   70   70  70   70   70.000000\n",
       "1497      0   0   0   0   0   0   0    0    0    0   0   70   70.000000\n",
       "All      70  70  74  73  70  71  71   72   72   72  71   73   72.280899"
      ]
     },
     "execution_count": 92,
     "metadata": {},
     "output_type": "execute_result"
    }
   ],
   "source": [
    "df_ul_pivot = df_ul.pivot_table(values=\"cost\", index=\"user_id\",\n",
    "                                columns=\"month\", fill_value=0, aggfunc=[\"mean\"], margins=True)\n",
    "df_ul_pivot.columns = [1, 2, 3, 4, 5, 6, 7, 8, 9, 10, 11, 12, \"All\"]\n",
    "df_ul_pivot.tail()"
   ]
  },
  {
   "cell_type": "code",
   "execution_count": 93,
   "id": "0af84453",
   "metadata": {},
   "outputs": [],
   "source": [
    "df_ul_pivot_mean = df_ul_pivot.loc[\"All\", :].to_frame()"
   ]
  },
  {
   "cell_type": "code",
   "execution_count": 94,
   "id": "dac13168",
   "metadata": {},
   "outputs": [
    {
     "name": "stdout",
     "output_type": "stream",
     "text": [
      "comparing the mean of the two plans (surf and ultimate) for every month in cost\n"
     ]
    },
    {
     "data": {
      "text/html": [
       "<div>\n",
       "<style scoped>\n",
       "    .dataframe tbody tr th:only-of-type {\n",
       "        vertical-align: middle;\n",
       "    }\n",
       "\n",
       "    .dataframe tbody tr th {\n",
       "        vertical-align: top;\n",
       "    }\n",
       "\n",
       "    .dataframe thead th {\n",
       "        text-align: right;\n",
       "    }\n",
       "</style>\n",
       "<table border=\"1\" class=\"dataframe\">\n",
       "  <thead>\n",
       "    <tr style=\"text-align: right;\">\n",
       "      <th></th>\n",
       "      <th>All_surf_mean_cost</th>\n",
       "      <th>All_ultimate_mean_cost</th>\n",
       "    </tr>\n",
       "  </thead>\n",
       "  <tbody>\n",
       "    <tr>\n",
       "      <td>1</td>\n",
       "      <td>20.000000</td>\n",
       "      <td>70.000000</td>\n",
       "    </tr>\n",
       "    <tr>\n",
       "      <td>2</td>\n",
       "      <td>34.396667</td>\n",
       "      <td>70.000000</td>\n",
       "    </tr>\n",
       "    <tr>\n",
       "      <td>3</td>\n",
       "      <td>45.941304</td>\n",
       "      <td>74.000000</td>\n",
       "    </tr>\n",
       "    <tr>\n",
       "      <td>4</td>\n",
       "      <td>41.133265</td>\n",
       "      <td>73.000000</td>\n",
       "    </tr>\n",
       "    <tr>\n",
       "      <td>5</td>\n",
       "      <td>48.747838</td>\n",
       "      <td>70.000000</td>\n",
       "    </tr>\n",
       "    <tr>\n",
       "      <td>6</td>\n",
       "      <td>50.163404</td>\n",
       "      <td>71.000000</td>\n",
       "    </tr>\n",
       "    <tr>\n",
       "      <td>7</td>\n",
       "      <td>63.192689</td>\n",
       "      <td>71.000000</td>\n",
       "    </tr>\n",
       "    <tr>\n",
       "      <td>8</td>\n",
       "      <td>65.203333</td>\n",
       "      <td>72.000000</td>\n",
       "    </tr>\n",
       "    <tr>\n",
       "      <td>9</td>\n",
       "      <td>57.321421</td>\n",
       "      <td>72.000000</td>\n",
       "    </tr>\n",
       "    <tr>\n",
       "      <td>10</td>\n",
       "      <td>65.567675</td>\n",
       "      <td>72.000000</td>\n",
       "    </tr>\n",
       "    <tr>\n",
       "      <td>11</td>\n",
       "      <td>57.369564</td>\n",
       "      <td>71.000000</td>\n",
       "    </tr>\n",
       "    <tr>\n",
       "      <td>12</td>\n",
       "      <td>69.318903</td>\n",
       "      <td>73.000000</td>\n",
       "    </tr>\n",
       "    <tr>\n",
       "      <td>All</td>\n",
       "      <td>60.524585</td>\n",
       "      <td>72.280899</td>\n",
       "    </tr>\n",
       "  </tbody>\n",
       "</table>\n",
       "</div>"
      ],
      "text/plain": [
       "     All_surf_mean_cost  All_ultimate_mean_cost\n",
       "1             20.000000               70.000000\n",
       "2             34.396667               70.000000\n",
       "3             45.941304               74.000000\n",
       "4             41.133265               73.000000\n",
       "5             48.747838               70.000000\n",
       "6             50.163404               71.000000\n",
       "7             63.192689               71.000000\n",
       "8             65.203333               72.000000\n",
       "9             57.321421               72.000000\n",
       "10            65.567675               72.000000\n",
       "11            57.369564               71.000000\n",
       "12            69.318903               73.000000\n",
       "All           60.524585               72.280899"
      ]
     },
     "execution_count": 94,
     "metadata": {},
     "output_type": "execute_result"
    }
   ],
   "source": [
    "print(\"comparing the mean of the two plans (surf and ultimate) for every month in cost\")\n",
    "t_cost_compare = df_su_pivot_mean.join(\n",
    "    df_ul_pivot_mean, how=\"outer\", lsuffix=\"_surf_mean_cost\", rsuffix=\"_ultimate_mean_cost\")\n",
    "t_cost_compare"
   ]
  },
  {
   "cell_type": "code",
   "execution_count": 95,
   "id": "42ace675",
   "metadata": {},
   "outputs": [
    {
     "data": {
      "text/plain": [
       "<matplotlib.legend.Legend at 0x7ff8e113a210>"
      ]
     },
     "execution_count": 95,
     "metadata": {},
     "output_type": "execute_result"
    },
    {
     "data": {
      "image/png": "[encoded data removed]",
      "text/plain": [
       "<Figure size 864x576 with 1 Axes>"
      ]
     },
     "metadata": {
      "needs_background": "light"
     },
     "output_type": "display_data"
    }
   ],
   "source": [
    "bar_x = [\"Jan\", \"Feb\", \"Mar\", \"Apr\", \"May\", \"Jun\",\n",
    "         \"Jul\", \"Aug\", \"Sep\", \"Oct\", \"Nov\", \"Dec\", \"ALL\"]\n",
    "# set width of bar\n",
    "barWidth = 0.25\n",
    "fig = plt.subplots(figsize=(12, 8))\n",
    "\n",
    "# set height of bar\n",
    "bar_surf = t_cost_compare[\"All_surf_mean_cost\"]\n",
    "bar_ultimate = t_cost_compare[\"All_ultimate_mean_cost\"]\n",
    "\n",
    "# Set position of bar on X axis\n",
    "br1 = np.arange(len(bar_surf))\n",
    "br2 = [x + barWidth for x in br1]\n",
    "\n",
    "\n",
    "# Make the plot\n",
    "plt.bar(br1, bar_surf, color='r', width=barWidth,\n",
    "        edgecolor='grey', label='plan - SURF')\n",
    "plt.bar(br2, bar_ultimate, color='g', width=barWidth,\n",
    "        edgecolor='grey', label='plan - ULTIMATE')\n",
    "\n",
    "\n",
    "# Adding Xticks\n",
    "plt.xlabel('Month', fontweight='bold', fontsize=15)\n",
    "plt.ylabel(\"mean of every month in mean cost\", fontweight='bold', fontsize=15)\n",
    "plt.xticks([r + barWidth for r in range(len(bar_surf))], bar_x)\n",
    "plt.title(\"comparing the MEAN of the to plans (surf and ultimate) for every month cost\", fontsize=17)\n",
    "plt.legend()"
   ]
  },
  {
   "cell_type": "code",
   "execution_count": 96,
   "id": "bb00d7e0",
   "metadata": {},
   "outputs": [
    {
     "name": "stdout",
     "output_type": "stream",
     "text": [
      "p-value:  [5.16362151e-05]\n",
      "I reject the null hypothesis\n"
     ]
    }
   ],
   "source": [
    "# test the hypothesis that the means of two statistical populations are equal based on samples taken from them\n",
    "\n",
    "alpha = 0.05  # critical statistical significance level\n",
    "\n",
    "# if the p-value is less than alpha, we reject the hypothesis\n",
    "results = st.ttest_ind(df_su_pivot_mean, df_ul_pivot_mean)\n",
    "\n",
    "print('p-value: ', results.pvalue)\n",
    "\n",
    "if results.pvalue < alpha:\n",
    "    print(\"I reject the null hypothesis\")\n",
    "else:\n",
    "    print(\"I can't reject the null hypothesis\")"
   ]
  },
  {
   "cell_type": "markdown",
   "id": "a01c7f6b",
   "metadata": {},
   "source": [
    "#### the result of the test:\n",
    "- I cannot accept $H_0$ hypothesis that the mean of the two sample group are equal, rather I must accept that probably the mean of the two sample are different  ($H_1$)\n",
    "- The mean cost of the \"surf\" plan is 60.52 and the mean cost of the \"ultimate\" plan is 72.28\n",
    "- from the hypothesis rejection, the ultimate mean is probably higher then the surf in the population"
   ]
  },
  {
   "cell_type": "markdown",
   "id": "7995e78a",
   "metadata": {},
   "source": [
    "<font color='green'><b><u>REVIEW</u></b></font>\n",
    "<div class=\"alert alert-success\" style=\"box-shadow: 4px 4px 4px\">\n",
    "\n",
    "It's absolutely correct to use **t-test**.\n",
    "    \n",
    "</div>"
   ]
  },
  {
   "cell_type": "markdown",
   "id": "efb118cd",
   "metadata": {},
   "source": [
    "<font color='orange'><b><u>REMARK</u></b></font>\n",
    "<div class=\"alert alert-warning\" style=\"box-shadow: 4px 4px 4px\">\n",
    "\n",
    "Student's t-test has homoscedacity assumption. In other words, it assumes that variance of samples is equal. We can check it by calculating sample variances and comparing them.\n",
    "    \n",
    "Or we can use another statistical test to check for equal variance. For instance, Levene's test should do the job. The documentation can be found [here](https://docs.scipy.org/doc/scipy/reference/generated/scipy.stats.levene.html)\n",
    "    \n",
    "</div>"
   ]
  },
  {
   "cell_type": "markdown",
   "id": "1e2983fa",
   "metadata": {},
   "source": [
    "<div class=\"alert alert-info\">\n",
    "  <strong>My fixing: </strong> add explenation\n",
    "</div>"
   ]
  },
  {
   "cell_type": "markdown",
   "id": "8a39912a",
   "metadata": {},
   "source": [
    "<s>\n",
    "<font color='red'><b><u>NEEDS FIXING</u></b></font>\n",
    "<div class=\"alert alert-danger\" style=\"box-shadow: 4px 4px 4px\">\n",
    "\n",
    "We would want to explain to the reader what does rejecting the null hypothesis actually means. What kind of conclusion we got? Which plan is better in terms of revenue?\n",
    "    \n",
    "</div>\n",
    "</s>"
   ]
  },
  {
   "cell_type": "markdown",
   "id": "04821d8e",
   "metadata": {},
   "source": [
    "## hypotheses 2\n",
    "### $H_0 =$ The average revenues from users in NY-NJ area are equal from that of the users from other regions. \n",
    "### $H_1 =$ The average revenues from users in NY-NJ area are not equal from that of the users from other regions.\n",
    "#### $ \\alpha = 0.05$\n",
    "\n",
    "### explenation of the hypotheses: are the mean of the cost in resident of NY-NJ can be the same as the mean of the  cost of residents outside these states?"
   ]
  },
  {
   "cell_type": "markdown",
   "id": "46a1bef2",
   "metadata": {},
   "source": [
    "<div class=\"alert alert-info\">\n",
    "  <strong>My fixing: </strong> add $\\alpha$ and explenation and explenation at the result\n",
    "</div>"
   ]
  },
  {
   "cell_type": "markdown",
   "id": "a1955977",
   "metadata": {},
   "source": [
    "### get the two samples"
   ]
  },
  {
   "cell_type": "code",
   "execution_count": 97,
   "id": "05364086",
   "metadata": {},
   "outputs": [],
   "source": [
    "# Adding \"city\" to df\n",
    "df_u1 = df_users[[\"user_id\", \"city\"]].copy()\n",
    "df_u1.set_index([\"user_id\"], inplace=True)\n",
    "df_u1[\"city\"] = df_u1[\"city\"].str.upper()\n",
    "df = df.join(df_u1, on=[\"user_id\"], how=\"left\",\n",
    "             lsuffix=\"_left\", rsuffix=\"_right\")"
   ]
  },
  {
   "cell_type": "code",
   "execution_count": 98,
   "id": "fc3ffbe3",
   "metadata": {},
   "outputs": [],
   "source": [
    "# making two new df\n",
    "df_ny = df.loc[df[\"city\"].str.contains(\"NY-NJ\", case=False)]\n",
    "df_nony = df.loc[~(df[\"city\"].str.contains(\"NY-NJ\", case=False))]"
   ]
  },
  {
   "cell_type": "code",
   "execution_count": 99,
   "id": "7120f7a3",
   "metadata": {},
   "outputs": [
    {
     "name": "stdout",
     "output_type": "stream",
     "text": [
      "number of users in NY - NJ: 79\n",
      "number of users not in NY - NJ: 411\n"
     ]
    }
   ],
   "source": [
    "print(f\"number of users in NY - NJ: {len(df_ny.groupby('user_id'))}\")\n",
    "print(f\"number of users not in NY - NJ: {len(df_nony.groupby('user_id'))}\")"
   ]
  },
  {
   "cell_type": "code",
   "execution_count": 100,
   "id": "9c089f50",
   "metadata": {},
   "outputs": [
    {
     "data": {
      "text/plain": [
       "Text(24.0, 0.5, 'Number of Useres')"
      ]
     },
     "execution_count": 100,
     "metadata": {},
     "output_type": "execute_result"
    },
    {
     "data": {
      "image/png": "[encoded data removed]",
      "text/plain": [
       "<Figure size 432x288 with 1 Axes>"
      ]
     },
     "metadata": {
      "needs_background": "light"
     },
     "output_type": "display_data"
    }
   ],
   "source": [
    "bar_x = [\"NY-NJ\", \"All exclude NY-NJ\"]\n",
    "bar_y = [len(df_ny.groupby('user_id')), len(df_nony.groupby('user_id'))]\n",
    "fig, ax = plt.subplots(squeeze=False)\n",
    "plt.bar(x=bar_x, height=bar_y)\n",
    "plt.tight_layout()\n",
    "plt.title(\"Number of users in NY-NJ and other states\", fontsize=17)\n",
    "plt.xlabel(\"states\", fontsize=14)\n",
    "plt.ylabel(\"Number of Useres\", fontsize=14)"
   ]
  },
  {
   "cell_type": "markdown",
   "id": "f241fdae",
   "metadata": {},
   "source": [
    "### build the two dataframes\n"
   ]
  },
  {
   "cell_type": "code",
   "execution_count": 101,
   "id": "fab1e374",
   "metadata": {
    "scrolled": false
   },
   "outputs": [
    {
     "data": {
      "text/html": [
       "<div>\n",
       "<style scoped>\n",
       "    .dataframe tbody tr th:only-of-type {\n",
       "        vertical-align: middle;\n",
       "    }\n",
       "\n",
       "    .dataframe tbody tr th {\n",
       "        vertical-align: top;\n",
       "    }\n",
       "\n",
       "    .dataframe thead th {\n",
       "        text-align: right;\n",
       "    }\n",
       "</style>\n",
       "<table border=\"1\" class=\"dataframe\">\n",
       "  <thead>\n",
       "    <tr style=\"text-align: right;\">\n",
       "      <th></th>\n",
       "      <th>2</th>\n",
       "      <th>3</th>\n",
       "      <th>4</th>\n",
       "      <th>5</th>\n",
       "      <th>6</th>\n",
       "      <th>7</th>\n",
       "      <th>8</th>\n",
       "      <th>9</th>\n",
       "      <th>10</th>\n",
       "      <th>11</th>\n",
       "      <th>12</th>\n",
       "      <th>All</th>\n",
       "    </tr>\n",
       "    <tr>\n",
       "      <th>user_id</th>\n",
       "      <th></th>\n",
       "      <th></th>\n",
       "      <th></th>\n",
       "      <th></th>\n",
       "      <th></th>\n",
       "      <th></th>\n",
       "      <th></th>\n",
       "      <th></th>\n",
       "      <th></th>\n",
       "      <th></th>\n",
       "      <th></th>\n",
       "      <th></th>\n",
       "    </tr>\n",
       "  </thead>\n",
       "  <tbody>\n",
       "    <tr>\n",
       "      <td>1482</td>\n",
       "      <td>0</td>\n",
       "      <td>0.00</td>\n",
       "      <td>0.000000</td>\n",
       "      <td>0.000</td>\n",
       "      <td>0.0000</td>\n",
       "      <td>0.000000</td>\n",
       "      <td>0.0000</td>\n",
       "      <td>0.000000</td>\n",
       "      <td>0.000000</td>\n",
       "      <td>70.000000</td>\n",
       "      <td>70.0000</td>\n",
       "      <td>70.000000</td>\n",
       "    </tr>\n",
       "    <tr>\n",
       "      <td>1494</td>\n",
       "      <td>0</td>\n",
       "      <td>0.00</td>\n",
       "      <td>0.000000</td>\n",
       "      <td>0.000</td>\n",
       "      <td>0.0000</td>\n",
       "      <td>20.000000</td>\n",
       "      <td>40.0000</td>\n",
       "      <td>30.000000</td>\n",
       "      <td>23.480000</td>\n",
       "      <td>50.270000</td>\n",
       "      <td>20.0000</td>\n",
       "      <td>30.625000</td>\n",
       "    </tr>\n",
       "    <tr>\n",
       "      <td>1495</td>\n",
       "      <td>0</td>\n",
       "      <td>0.00</td>\n",
       "      <td>0.000000</td>\n",
       "      <td>0.000</td>\n",
       "      <td>0.0000</td>\n",
       "      <td>0.000000</td>\n",
       "      <td>0.0000</td>\n",
       "      <td>100.000000</td>\n",
       "      <td>143.300000</td>\n",
       "      <td>120.000000</td>\n",
       "      <td>110.0000</td>\n",
       "      <td>118.325000</td>\n",
       "    </tr>\n",
       "    <tr>\n",
       "      <td>1498</td>\n",
       "      <td>70</td>\n",
       "      <td>70.00</td>\n",
       "      <td>70.000000</td>\n",
       "      <td>90.000</td>\n",
       "      <td>20.0000</td>\n",
       "      <td>120.000000</td>\n",
       "      <td>70.0000</td>\n",
       "      <td>100.000000</td>\n",
       "      <td>80.000000</td>\n",
       "      <td>60.000000</td>\n",
       "      <td>100.0000</td>\n",
       "      <td>77.272727</td>\n",
       "    </tr>\n",
       "    <tr>\n",
       "      <td>All</td>\n",
       "      <td>45</td>\n",
       "      <td>41.14</td>\n",
       "      <td>41.119286</td>\n",
       "      <td>47.965</td>\n",
       "      <td>45.9416</td>\n",
       "      <td>53.747879</td>\n",
       "      <td>57.5045</td>\n",
       "      <td>58.804783</td>\n",
       "      <td>67.106078</td>\n",
       "      <td>64.115833</td>\n",
       "      <td>63.9556</td>\n",
       "      <td>58.836027</td>\n",
       "    </tr>\n",
       "  </tbody>\n",
       "</table>\n",
       "</div>"
      ],
      "text/plain": [
       "          2      3          4       5        6           7        8  \\\n",
       "user_id                                                               \n",
       "1482      0   0.00   0.000000   0.000   0.0000    0.000000   0.0000   \n",
       "1494      0   0.00   0.000000   0.000   0.0000   20.000000  40.0000   \n",
       "1495      0   0.00   0.000000   0.000   0.0000    0.000000   0.0000   \n",
       "1498     70  70.00  70.000000  90.000  20.0000  120.000000  70.0000   \n",
       "All      45  41.14  41.119286  47.965  45.9416   53.747879  57.5045   \n",
       "\n",
       "                  9          10          11        12         All  \n",
       "user_id                                                            \n",
       "1482       0.000000    0.000000   70.000000   70.0000   70.000000  \n",
       "1494      30.000000   23.480000   50.270000   20.0000   30.625000  \n",
       "1495     100.000000  143.300000  120.000000  110.0000  118.325000  \n",
       "1498     100.000000   80.000000   60.000000  100.0000   77.272727  \n",
       "All       58.804783   67.106078   64.115833   63.9556   58.836027  "
      ]
     },
     "execution_count": 101,
     "metadata": {},
     "output_type": "execute_result"
    }
   ],
   "source": [
    "df_ny_pivot = df_ny.pivot_table(values=\"cost\", index=\"user_id\",\n",
    "                                columns=\"month\", fill_value=0, aggfunc=[\"mean\"], margins=True)\n",
    "df_ny_pivot.columns = [2, 3, 4, 5, 6, 7, 8, 9, 10, 11, 12, \"All\"]\n",
    "df_ny_pivot.tail()"
   ]
  },
  {
   "cell_type": "code",
   "execution_count": 102,
   "id": "3c62db5d",
   "metadata": {},
   "outputs": [],
   "source": [
    "df_ny_pivot_mean = df_ny_pivot.loc[\"All\", :].to_frame()"
   ]
  },
  {
   "cell_type": "code",
   "execution_count": 103,
   "id": "f4ee473a",
   "metadata": {},
   "outputs": [
    {
     "data": {
      "text/html": [
       "<div>\n",
       "<style scoped>\n",
       "    .dataframe tbody tr th:only-of-type {\n",
       "        vertical-align: middle;\n",
       "    }\n",
       "\n",
       "    .dataframe tbody tr th {\n",
       "        vertical-align: top;\n",
       "    }\n",
       "\n",
       "    .dataframe thead th {\n",
       "        text-align: right;\n",
       "    }\n",
       "</style>\n",
       "<table border=\"1\" class=\"dataframe\">\n",
       "  <thead>\n",
       "    <tr style=\"text-align: right;\">\n",
       "      <th></th>\n",
       "      <th>1</th>\n",
       "      <th>2</th>\n",
       "      <th>3</th>\n",
       "      <th>4</th>\n",
       "      <th>5</th>\n",
       "      <th>6</th>\n",
       "      <th>7</th>\n",
       "      <th>8</th>\n",
       "      <th>9</th>\n",
       "      <th>10</th>\n",
       "      <th>11</th>\n",
       "      <th>12</th>\n",
       "      <th>All</th>\n",
       "    </tr>\n",
       "    <tr>\n",
       "      <th>user_id</th>\n",
       "      <th></th>\n",
       "      <th></th>\n",
       "      <th></th>\n",
       "      <th></th>\n",
       "      <th></th>\n",
       "      <th></th>\n",
       "      <th></th>\n",
       "      <th></th>\n",
       "      <th></th>\n",
       "      <th></th>\n",
       "      <th></th>\n",
       "      <th></th>\n",
       "      <th></th>\n",
       "    </tr>\n",
       "  </thead>\n",
       "  <tbody>\n",
       "    <tr>\n",
       "      <td>1493</td>\n",
       "      <td>0</td>\n",
       "      <td>0.000000</td>\n",
       "      <td>0.000000</td>\n",
       "      <td>0.000000</td>\n",
       "      <td>0.000000</td>\n",
       "      <td>0.000000</td>\n",
       "      <td>0.000000</td>\n",
       "      <td>70.000000</td>\n",
       "      <td>70.000000</td>\n",
       "      <td>70.000000</td>\n",
       "      <td>70.000000</td>\n",
       "      <td>70.000000</td>\n",
       "      <td>70.000000</td>\n",
       "    </tr>\n",
       "    <tr>\n",
       "      <td>1496</td>\n",
       "      <td>0</td>\n",
       "      <td>0.000000</td>\n",
       "      <td>0.000000</td>\n",
       "      <td>0.000000</td>\n",
       "      <td>0.000000</td>\n",
       "      <td>0.000000</td>\n",
       "      <td>0.000000</td>\n",
       "      <td>20.000000</td>\n",
       "      <td>40.000000</td>\n",
       "      <td>20.000000</td>\n",
       "      <td>20.000000</td>\n",
       "      <td>40.000000</td>\n",
       "      <td>28.000000</td>\n",
       "    </tr>\n",
       "    <tr>\n",
       "      <td>1497</td>\n",
       "      <td>0</td>\n",
       "      <td>0.000000</td>\n",
       "      <td>0.000000</td>\n",
       "      <td>0.000000</td>\n",
       "      <td>0.000000</td>\n",
       "      <td>0.000000</td>\n",
       "      <td>0.000000</td>\n",
       "      <td>0.000000</td>\n",
       "      <td>0.000000</td>\n",
       "      <td>0.000000</td>\n",
       "      <td>0.000000</td>\n",
       "      <td>70.000000</td>\n",
       "      <td>70.000000</td>\n",
       "    </tr>\n",
       "    <tr>\n",
       "      <td>1499</td>\n",
       "      <td>0</td>\n",
       "      <td>0.000000</td>\n",
       "      <td>0.000000</td>\n",
       "      <td>0.000000</td>\n",
       "      <td>0.000000</td>\n",
       "      <td>0.000000</td>\n",
       "      <td>0.000000</td>\n",
       "      <td>0.000000</td>\n",
       "      <td>20.000000</td>\n",
       "      <td>70.000000</td>\n",
       "      <td>40.000000</td>\n",
       "      <td>90.000000</td>\n",
       "      <td>55.000000</td>\n",
       "    </tr>\n",
       "    <tr>\n",
       "      <td>All</td>\n",
       "      <td>53</td>\n",
       "      <td>49.197692</td>\n",
       "      <td>58.821034</td>\n",
       "      <td>53.086786</td>\n",
       "      <td>56.411412</td>\n",
       "      <td>59.594912</td>\n",
       "      <td>68.884483</td>\n",
       "      <td>69.756898</td>\n",
       "      <td>62.526304</td>\n",
       "      <td>67.808582</td>\n",
       "      <td>61.460824</td>\n",
       "      <td>71.815599</td>\n",
       "      <td>65.332314</td>\n",
       "    </tr>\n",
       "  </tbody>\n",
       "</table>\n",
       "</div>"
      ],
      "text/plain": [
       "          1          2          3          4          5          6          7  \\\n",
       "user_id                                                                         \n",
       "1493      0   0.000000   0.000000   0.000000   0.000000   0.000000   0.000000   \n",
       "1496      0   0.000000   0.000000   0.000000   0.000000   0.000000   0.000000   \n",
       "1497      0   0.000000   0.000000   0.000000   0.000000   0.000000   0.000000   \n",
       "1499      0   0.000000   0.000000   0.000000   0.000000   0.000000   0.000000   \n",
       "All      53  49.197692  58.821034  53.086786  56.411412  59.594912  68.884483   \n",
       "\n",
       "                 8          9         10         11         12        All  \n",
       "user_id                                                                    \n",
       "1493     70.000000  70.000000  70.000000  70.000000  70.000000  70.000000  \n",
       "1496     20.000000  40.000000  20.000000  20.000000  40.000000  28.000000  \n",
       "1497      0.000000   0.000000   0.000000   0.000000  70.000000  70.000000  \n",
       "1499      0.000000  20.000000  70.000000  40.000000  90.000000  55.000000  \n",
       "All      69.756898  62.526304  67.808582  61.460824  71.815599  65.332314  "
      ]
     },
     "execution_count": 103,
     "metadata": {},
     "output_type": "execute_result"
    }
   ],
   "source": [
    "df_nony_pivot = df_nony.pivot_table(\n",
    "    values=\"cost\", index=\"user_id\", columns=\"month\", fill_value=0, aggfunc=[\"mean\"], margins=True)\n",
    "df_nony_pivot.columns = [1, 2, 3, 4, 5, 6, 7, 8, 9, 10, 11, 12, \"All\"]\n",
    "df_nony_pivot.tail()"
   ]
  },
  {
   "cell_type": "code",
   "execution_count": 104,
   "id": "b7c8dbb3",
   "metadata": {},
   "outputs": [],
   "source": [
    "df_nony_pivot_mean = df_nony_pivot.loc[\"All\", :].to_frame()"
   ]
  },
  {
   "cell_type": "code",
   "execution_count": 105,
   "id": "4c05c6c9",
   "metadata": {},
   "outputs": [
    {
     "name": "stdout",
     "output_type": "stream",
     "text": [
      "comparing the mean of the two geographic spots (NY-NJ and not NY-NJ) for every month in cost\n"
     ]
    },
    {
     "data": {
      "text/html": [
       "<div>\n",
       "<style scoped>\n",
       "    .dataframe tbody tr th:only-of-type {\n",
       "        vertical-align: middle;\n",
       "    }\n",
       "\n",
       "    .dataframe tbody tr th {\n",
       "        vertical-align: top;\n",
       "    }\n",
       "\n",
       "    .dataframe thead th {\n",
       "        text-align: right;\n",
       "    }\n",
       "</style>\n",
       "<table border=\"1\" class=\"dataframe\">\n",
       "  <thead>\n",
       "    <tr style=\"text-align: right;\">\n",
       "      <th></th>\n",
       "      <th>All_NY-NJ-mean</th>\n",
       "      <th>All_NOT NY-NJ-mean</th>\n",
       "    </tr>\n",
       "  </thead>\n",
       "  <tbody>\n",
       "    <tr>\n",
       "      <td>1</td>\n",
       "      <td>NaN</td>\n",
       "      <td>53.000000</td>\n",
       "    </tr>\n",
       "    <tr>\n",
       "      <td>2</td>\n",
       "      <td>45.000000</td>\n",
       "      <td>49.197692</td>\n",
       "    </tr>\n",
       "    <tr>\n",
       "      <td>3</td>\n",
       "      <td>41.140000</td>\n",
       "      <td>58.821034</td>\n",
       "    </tr>\n",
       "    <tr>\n",
       "      <td>4</td>\n",
       "      <td>41.119286</td>\n",
       "      <td>53.086786</td>\n",
       "    </tr>\n",
       "    <tr>\n",
       "      <td>5</td>\n",
       "      <td>47.965000</td>\n",
       "      <td>56.411412</td>\n",
       "    </tr>\n",
       "    <tr>\n",
       "      <td>6</td>\n",
       "      <td>45.941600</td>\n",
       "      <td>59.594912</td>\n",
       "    </tr>\n",
       "    <tr>\n",
       "      <td>7</td>\n",
       "      <td>53.747879</td>\n",
       "      <td>68.884483</td>\n",
       "    </tr>\n",
       "    <tr>\n",
       "      <td>8</td>\n",
       "      <td>57.504500</td>\n",
       "      <td>69.756898</td>\n",
       "    </tr>\n",
       "    <tr>\n",
       "      <td>9</td>\n",
       "      <td>58.804783</td>\n",
       "      <td>62.526304</td>\n",
       "    </tr>\n",
       "    <tr>\n",
       "      <td>10</td>\n",
       "      <td>67.106078</td>\n",
       "      <td>67.808582</td>\n",
       "    </tr>\n",
       "    <tr>\n",
       "      <td>11</td>\n",
       "      <td>64.115833</td>\n",
       "      <td>61.460824</td>\n",
       "    </tr>\n",
       "    <tr>\n",
       "      <td>12</td>\n",
       "      <td>63.955600</td>\n",
       "      <td>71.815599</td>\n",
       "    </tr>\n",
       "    <tr>\n",
       "      <td>All</td>\n",
       "      <td>58.836027</td>\n",
       "      <td>65.332314</td>\n",
       "    </tr>\n",
       "  </tbody>\n",
       "</table>\n",
       "</div>"
      ],
      "text/plain": [
       "     All_NY-NJ-mean  All_NOT NY-NJ-mean\n",
       "1               NaN           53.000000\n",
       "2         45.000000           49.197692\n",
       "3         41.140000           58.821034\n",
       "4         41.119286           53.086786\n",
       "5         47.965000           56.411412\n",
       "6         45.941600           59.594912\n",
       "7         53.747879           68.884483\n",
       "8         57.504500           69.756898\n",
       "9         58.804783           62.526304\n",
       "10        67.106078           67.808582\n",
       "11        64.115833           61.460824\n",
       "12        63.955600           71.815599\n",
       "All       58.836027           65.332314"
      ]
     },
     "execution_count": 105,
     "metadata": {},
     "output_type": "execute_result"
    }
   ],
   "source": [
    "print(\"comparing the mean of the two geographic spots (NY-NJ and not NY-NJ) for every month in cost\")\n",
    "city_compare = df_ny_pivot_mean.join(\n",
    "    df_nony_pivot_mean, how=\"outer\", lsuffix=\"_NY-NJ-mean\", rsuffix=\"_NOT NY-NJ-mean\")\n",
    "city_compare"
   ]
  },
  {
   "cell_type": "code",
   "execution_count": 106,
   "id": "11260efb",
   "metadata": {},
   "outputs": [
    {
     "data": {
      "text/plain": [
       "<matplotlib.legend.Legend at 0x7ff8e0dd9910>"
      ]
     },
     "execution_count": 106,
     "metadata": {},
     "output_type": "execute_result"
    },
    {
     "data": {
      "image/png": "[encoded data removed]",
      "text/plain": [
       "<Figure size 864x576 with 1 Axes>"
      ]
     },
     "metadata": {
      "needs_background": "light"
     },
     "output_type": "display_data"
    }
   ],
   "source": [
    "bar_x = [\"Jan\", \"Feb\", \"Mar\", \"Apr\", \"May\", \"Jun\",\n",
    "         \"Jul\", \"Aug\", \"Sep\", \"Oct\", \"Nov\", \"Dec\", \"ALL\"]\n",
    "# set width of bar\n",
    "barWidth = 0.25\n",
    "fig = plt.subplots(figsize=(12, 8))\n",
    "\n",
    "# set height of bar\n",
    "bar_surf = city_compare[\"All_NY-NJ-mean\"]\n",
    "bar_ultimate = city_compare[\"All_NOT NY-NJ-mean\"]\n",
    "\n",
    "# Set position of bar on X axis\n",
    "br1 = np.arange(len(bar_surf))\n",
    "br2 = [x + barWidth for x in br1]\n",
    "\n",
    "\n",
    "# Make the plot\n",
    "plt.bar(br1, bar_surf, color='r', width=barWidth,\n",
    "        edgecolor='grey', label='residents of NY-NJ')\n",
    "plt.bar(br2, bar_ultimate, color='g', width=barWidth,\n",
    "        edgecolor='grey', label='residents outside of of NY-NJ')\n",
    "\n",
    "# Adding Xticks\n",
    "plt.xlabel('Month', fontweight='bold', fontsize=15)\n",
    "plt.ylabel(\"mean of every month in mean cost\", fontweight='bold', fontsize=15)\n",
    "plt.xticks([r + barWidth for r in range(len(bar_surf))], bar_x)\n",
    "plt.title(\"comparing the MEAN of the residency (NY-NJ and other) for every month cost\", fontsize=17)\n",
    "plt.legend()"
   ]
  },
  {
   "cell_type": "code",
   "execution_count": 107,
   "id": "15d9f118",
   "metadata": {},
   "outputs": [
    {
     "name": "stdout",
     "output_type": "stream",
     "text": [
      "p-value:  [0.03071217]\n",
      "I reject the null hypothesis\n"
     ]
    }
   ],
   "source": [
    "# test the hypothesis that the means of two statistical populations are equal based on samples taken from them\n",
    "\n",
    "alpha = 0.05  # critical statistical significance level\n",
    "\n",
    "# if the p-value is less than alpha, we reject the hypothesis\n",
    "results = st.ttest_ind(df_ny_pivot_mean, df_nony_pivot_mean)\n",
    "\n",
    "print('p-value: ', results.pvalue)\n",
    "\n",
    "if results.pvalue < alpha:\n",
    "    print(\"I reject the null hypothesis\")\n",
    "else:\n",
    "    print(\"I can't reject the null hypothesis\")"
   ]
  },
  {
   "cell_type": "markdown",
   "id": "f76e6ab1",
   "metadata": {},
   "source": [
    "#### the result of the test:\n",
    "- I cannot accept $H_0$ hypothesis that the mean of the two sample group are equal, rather I must accept that probably the mean of the two sample are different ($H_1$) \n",
    "- The mean cost of the \"NY-NJ\" residents is 58.84 and the mean cost of the \"ultimate\" plan is 65.33\n",
    "- from the hypothesis rejection, the \"others\" mean is probably higher the the mean in the population\n"
   ]
  },
  {
   "cell_type": "markdown",
   "id": "6ac191b1",
   "metadata": {},
   "source": [
    "<div class=\"alert alert-info\">\n",
    "  <strong>My fixing: </strong> add explenation\n",
    "</div>"
   ]
  },
  {
   "cell_type": "markdown",
   "id": "95121738",
   "metadata": {},
   "source": [
    "## conclusion\n",
    "In this project I checked a sample of data from telecom operator for the year 2018. The company offers two plans. I had to calculate for every user the charge every month.\n",
    "\n",
    "### the major finding in analyzing the sample are:\n",
    "- The sample I got start on 15 Jan until 31 Dec\n",
    "- Out of 137.7K calls, 26.8K was of zero time.\n",
    "Zero time calls are not real calls. It doesn't add up to the time the users are charge and it doesn't affect the user calculation. I will delete them\n",
    "- In calculating the cost, I used the user plan as follow:\n",
    "Megaline rounds seconds up to minutes, and megabytes to gigabytes. \n",
    "For calls, each individual call is rounded up: even if the call lasted just one second, it will be counted as one minute. \n",
    "For web traffic, individual web sessions are not rounded up. Instead, the total for the month is rounded up. If someone uses 1025 megabytes this month, they will be charged for 2 gigabytes.\n",
    "\n",
    "Megaline rounds seconds up to minutes, and megabytes to gigabytes.\n",
    "For calls, each individual call is rounded up: even if the call lasted just one second, it will be counted as one minute. \n",
    "For web traffic, individual web sessions are not rounded up. Instead, the total for the month is rounded up. If\n",
    "someone uses 1025 megabytes this month, they will be charged for 2 gigabytes.\n",
    "- Most users pay the plan fee, not more. The minimum is the first plan fee \n",
    "- Most uses correspond to the plans limits\n",
    "- users by plans in the sample:\n",
    ">- number of users in plan surf: 333\n",
    ">- number of users in plan ultimate: 157\n",
    "- most users don't send messages\n",
    "- The distributions of call minutes are similar in both plans\n",
    "- The distributions of GigaByte used are similar in both plans\n",
    "- Comparing the mean of gb_used mean for every month, we can see in January until April that the ultimate plan's mean was higher then the surf plan. **But** from June, the Gb usage is about the same for both plans. Maybe the company can sell the ultimate plan to the surf costumers.\n",
    "- The company makes the biggest profit from users who are using  the Internet more than the plan they have\n",
    ">- The revenue from calls exceeding the plans for all the sample in 2018 is 2900.25 USD\n",
    ">- The revenue from messages exceeding the plans for all the sample in 2018 is 330.93 USD\n",
    ">- The revenue from intrnet-Gb exceeding the plans for all the sample in 2018 is 62466.0 USD\n",
    "\n",
    "\n",
    "### hypotheses\n",
    "I checked to hypotheses: \n",
    "\n",
    "#### the first hypotheses\n",
    "Is that the average revenue from users of Ultimate and Surf calling plans are considered equal (are the mean of the cost in plan surf can be the same as the mean of the ultimate cost?). \n",
    "After choosing alpha = 5%, I had to reject the hypotheses. The p-value was 4.03662371e-05.\n",
    "- I cannot accept $H_0$ hypothesis that the mean of the two sample group are equal, rather I must accept that probably the mean of the two sample are different  ($H_1$)\n",
    "- The mean cost of the \"surf\" plan is 60.52 and the mean cost of the \"ultimate\" plan is 72.28\n",
    "- from the hypothesis rejection, the ultimate mean is probably higher then the surf in the population\n",
    "\n",
    "#### The second hypotheses\n",
    "Is that the average revenues from users resident of NY-NJ area are equal to that of the users from other regions (are the mean of the cost in resident of NY-NJ can be the same as the mean of the  cost of residents outside these states?). \n",
    "After choosing alpha = 5%, I had to reject the hypotheses. The p-value was 0.0299454\n",
    "- I cannot accept $H_0$ hypothesis that the mean of the two sample group are equal, rather I must accept that probably the mean of the two sample are different ($H_1$) \n",
    "- The mean cost of the \"NY-NJ\" residents is 58.84 and the mean cost of the \"ultimate\" plan is 65.33\n",
    "- from the hypothesis rejection, the \"others\" mean is probably higher the the mean in the population"
   ]
  },
  {
   "cell_type": "markdown",
   "id": "d966d270",
   "metadata": {},
   "source": [
    "<div class=\"alert alert-info\">\n",
    "  <strong>My fixing: </strong> add explenation\n",
    "</div>"
   ]
  },
  {
   "cell_type": "markdown",
   "id": "a5d1891a",
   "metadata": {},
   "source": [
    "<font color='green'><b><u>REVIEW: iteration#2</u></b></font>\n",
    "<div style=\"border:solid green 2px; padding: 40px\">\n",
    "\n",
    "Good conclusion! Well done!"
   ]
  }
 ],
 "metadata": {
  "ExecuteTimeLog": [
   {
    "duration": 1077,
    "start_time": "2021-07-01T06:59:45.620Z"
   },
   {
    "duration": 412,
    "start_time": "2021-07-01T06:59:51.828Z"
   },
   {
    "duration": 3,
    "start_time": "2021-07-01T06:59:56.650Z"
   },
   {
    "duration": 3,
    "start_time": "2021-07-01T07:02:48.341Z"
   },
   {
    "duration": 41,
    "start_time": "2021-07-01T07:04:05.291Z"
   },
   {
    "duration": 268,
    "start_time": "2021-07-01T07:05:19.436Z"
   },
   {
    "duration": 6,
    "start_time": "2021-07-01T07:05:22.888Z"
   },
   {
    "duration": 3,
    "start_time": "2021-07-01T07:05:32.632Z"
   },
   {
    "duration": 116,
    "start_time": "2021-07-01T07:05:46.885Z"
   },
   {
    "duration": 4,
    "start_time": "2021-07-01T07:05:55.992Z"
   },
   {
    "duration": 17,
    "start_time": "2021-07-01T07:30:00.540Z"
   },
   {
    "duration": 4474,
    "start_time": "2021-07-01T07:30:06.571Z"
   },
   {
    "duration": 5,
    "start_time": "2021-07-01T07:30:12.021Z"
   },
   {
    "duration": 6,
    "start_time": "2021-07-01T07:30:30.277Z"
   },
   {
    "duration": 11,
    "start_time": "2021-07-01T07:40:53.081Z"
   },
   {
    "duration": 14,
    "start_time": "2021-07-01T07:41:01.865Z"
   },
   {
    "duration": 202,
    "start_time": "2021-07-01T07:41:12.898Z"
   },
   {
    "duration": 4,
    "start_time": "2021-07-01T07:45:18.726Z"
   },
   {
    "duration": 12,
    "start_time": "2021-07-01T07:45:41.234Z"
   },
   {
    "duration": 6,
    "start_time": "2021-07-01T07:55:00.866Z"
   },
   {
    "duration": 195,
    "start_time": "2021-07-01T07:55:04.601Z"
   },
   {
    "duration": 56,
    "start_time": "2021-07-01T07:57:13.661Z"
   },
   {
    "duration": 244,
    "start_time": "2021-07-01T08:46:22.410Z"
   },
   {
    "duration": 1060,
    "start_time": "2021-07-01T08:46:47.739Z"
   },
   {
    "duration": 448,
    "start_time": "2021-07-01T08:46:48.801Z"
   },
   {
    "duration": 3,
    "start_time": "2021-07-01T08:46:49.251Z"
   },
   {
    "duration": 43,
    "start_time": "2021-07-01T08:46:49.255Z"
   },
   {
    "duration": 16,
    "start_time": "2021-07-01T08:46:49.299Z"
   },
   {
    "duration": 49,
    "start_time": "2021-07-01T08:46:49.317Z"
   },
   {
    "duration": 21,
    "start_time": "2021-07-01T08:46:49.367Z"
   },
   {
    "duration": 10,
    "start_time": "2021-07-01T08:46:49.390Z"
   },
   {
    "duration": 321,
    "start_time": "2021-07-01T08:46:49.402Z"
   },
   {
    "duration": 15,
    "start_time": "2021-07-01T08:46:49.725Z"
   },
   {
    "duration": 10,
    "start_time": "2021-07-01T08:46:49.742Z"
   },
   {
    "duration": 50,
    "start_time": "2021-07-01T08:46:49.754Z"
   },
   {
    "duration": 13,
    "start_time": "2021-07-01T08:46:49.806Z"
   },
   {
    "duration": 7,
    "start_time": "2021-07-01T08:46:49.821Z"
   },
   {
    "duration": 22,
    "start_time": "2021-07-01T08:46:49.830Z"
   },
   {
    "duration": 33,
    "start_time": "2021-07-01T08:46:49.853Z"
   },
   {
    "duration": 7,
    "start_time": "2021-07-01T08:46:49.888Z"
   },
   {
    "duration": 20,
    "start_time": "2021-07-01T08:46:49.896Z"
   },
   {
    "duration": 7,
    "start_time": "2021-07-01T08:46:49.918Z"
   },
   {
    "duration": 10,
    "start_time": "2021-07-01T08:46:49.926Z"
   },
   {
    "duration": 6,
    "start_time": "2021-07-01T08:46:49.938Z"
   },
   {
    "duration": 40,
    "start_time": "2021-07-01T08:46:49.946Z"
   },
   {
    "duration": 6,
    "start_time": "2021-07-01T08:46:49.990Z"
   },
   {
    "duration": 28,
    "start_time": "2021-07-01T08:46:49.999Z"
   },
   {
    "duration": 11,
    "start_time": "2021-07-01T08:46:50.029Z"
   },
   {
    "duration": 43,
    "start_time": "2021-07-01T08:46:50.042Z"
   },
   {
    "duration": 262,
    "start_time": "2021-07-01T08:46:50.087Z"
   },
   {
    "duration": -18,
    "start_time": "2021-07-01T08:46:50.370Z"
   },
   {
    "duration": -20,
    "start_time": "2021-07-01T08:46:50.374Z"
   },
   {
    "duration": -22,
    "start_time": "2021-07-01T08:46:50.377Z"
   },
   {
    "duration": -22,
    "start_time": "2021-07-01T08:46:50.379Z"
   },
   {
    "duration": -24,
    "start_time": "2021-07-01T08:46:50.382Z"
   },
   {
    "duration": -60,
    "start_time": "2021-07-01T08:46:50.419Z"
   },
   {
    "duration": -68,
    "start_time": "2021-07-01T08:46:50.429Z"
   },
   {
    "duration": -70,
    "start_time": "2021-07-01T08:46:50.432Z"
   },
   {
    "duration": -71,
    "start_time": "2021-07-01T08:46:50.435Z"
   },
   {
    "duration": -74,
    "start_time": "2021-07-01T08:46:50.439Z"
   },
   {
    "duration": -76,
    "start_time": "2021-07-01T08:46:50.443Z"
   },
   {
    "duration": -78,
    "start_time": "2021-07-01T08:46:50.446Z"
   },
   {
    "duration": -81,
    "start_time": "2021-07-01T08:46:50.450Z"
   },
   {
    "duration": -82,
    "start_time": "2021-07-01T08:46:50.453Z"
   },
   {
    "duration": -85,
    "start_time": "2021-07-01T08:46:50.457Z"
   },
   {
    "duration": -86,
    "start_time": "2021-07-01T08:46:50.460Z"
   },
   {
    "duration": -88,
    "start_time": "2021-07-01T08:46:50.463Z"
   },
   {
    "duration": -89,
    "start_time": "2021-07-01T08:46:50.466Z"
   },
   {
    "duration": -91,
    "start_time": "2021-07-01T08:46:50.469Z"
   },
   {
    "duration": -93,
    "start_time": "2021-07-01T08:46:50.472Z"
   },
   {
    "duration": -94,
    "start_time": "2021-07-01T08:46:50.475Z"
   },
   {
    "duration": -96,
    "start_time": "2021-07-01T08:46:50.478Z"
   },
   {
    "duration": -97,
    "start_time": "2021-07-01T08:46:50.481Z"
   },
   {
    "duration": -98,
    "start_time": "2021-07-01T08:46:50.483Z"
   },
   {
    "duration": -101,
    "start_time": "2021-07-01T08:46:50.487Z"
   },
   {
    "duration": -102,
    "start_time": "2021-07-01T08:46:50.489Z"
   },
   {
    "duration": -106,
    "start_time": "2021-07-01T08:46:50.493Z"
   },
   {
    "duration": -107,
    "start_time": "2021-07-01T08:46:50.496Z"
   },
   {
    "duration": -110,
    "start_time": "2021-07-01T08:46:50.499Z"
   },
   {
    "duration": -111,
    "start_time": "2021-07-01T08:46:50.501Z"
   },
   {
    "duration": -113,
    "start_time": "2021-07-01T08:46:50.504Z"
   },
   {
    "duration": -115,
    "start_time": "2021-07-01T08:46:50.507Z"
   },
   {
    "duration": -117,
    "start_time": "2021-07-01T08:46:50.510Z"
   },
   {
    "duration": -119,
    "start_time": "2021-07-01T08:46:50.513Z"
   },
   {
    "duration": -121,
    "start_time": "2021-07-01T08:46:50.516Z"
   },
   {
    "duration": -131,
    "start_time": "2021-07-01T08:46:50.526Z"
   },
   {
    "duration": -134,
    "start_time": "2021-07-01T08:46:50.530Z"
   },
   {
    "duration": -136,
    "start_time": "2021-07-01T08:46:50.533Z"
   },
   {
    "duration": -138,
    "start_time": "2021-07-01T08:46:50.536Z"
   },
   {
    "duration": -141,
    "start_time": "2021-07-01T08:46:50.540Z"
   },
   {
    "duration": -143,
    "start_time": "2021-07-01T08:46:50.543Z"
   },
   {
    "duration": -145,
    "start_time": "2021-07-01T08:46:50.546Z"
   },
   {
    "duration": -147,
    "start_time": "2021-07-01T08:46:50.549Z"
   },
   {
    "duration": -149,
    "start_time": "2021-07-01T08:46:50.552Z"
   },
   {
    "duration": -152,
    "start_time": "2021-07-01T08:46:50.556Z"
   },
   {
    "duration": -155,
    "start_time": "2021-07-01T08:46:50.559Z"
   },
   {
    "duration": -157,
    "start_time": "2021-07-01T08:46:50.562Z"
   },
   {
    "duration": -162,
    "start_time": "2021-07-01T08:46:50.568Z"
   },
   {
    "duration": -164,
    "start_time": "2021-07-01T08:46:50.571Z"
   },
   {
    "duration": -168,
    "start_time": "2021-07-01T08:46:50.576Z"
   },
   {
    "duration": -170,
    "start_time": "2021-07-01T08:46:50.579Z"
   },
   {
    "duration": -172,
    "start_time": "2021-07-01T08:46:50.582Z"
   },
   {
    "duration": -175,
    "start_time": "2021-07-01T08:46:50.586Z"
   },
   {
    "duration": -191,
    "start_time": "2021-07-01T08:46:50.603Z"
   },
   {
    "duration": -193,
    "start_time": "2021-07-01T08:46:50.606Z"
   },
   {
    "duration": -195,
    "start_time": "2021-07-01T08:46:50.609Z"
   },
   {
    "duration": -197,
    "start_time": "2021-07-01T08:46:50.612Z"
   },
   {
    "duration": -199,
    "start_time": "2021-07-01T08:46:50.615Z"
   },
   {
    "duration": -202,
    "start_time": "2021-07-01T08:46:50.618Z"
   },
   {
    "duration": -203,
    "start_time": "2021-07-01T08:46:50.620Z"
   },
   {
    "duration": -205,
    "start_time": "2021-07-01T08:46:50.623Z"
   },
   {
    "duration": -215,
    "start_time": "2021-07-01T08:46:50.634Z"
   },
   {
    "duration": -218,
    "start_time": "2021-07-01T08:46:50.638Z"
   },
   {
    "duration": -220,
    "start_time": "2021-07-01T08:46:50.641Z"
   },
   {
    "duration": -222,
    "start_time": "2021-07-01T08:46:50.644Z"
   },
   {
    "duration": -224,
    "start_time": "2021-07-01T08:46:50.647Z"
   },
   {
    "duration": 11,
    "start_time": "2021-07-01T08:47:13.405Z"
   },
   {
    "duration": 6,
    "start_time": "2021-07-01T08:47:26.820Z"
   },
   {
    "duration": 13,
    "start_time": "2021-07-01T08:47:27.520Z"
   },
   {
    "duration": 18,
    "start_time": "2021-07-01T08:47:27.686Z"
   },
   {
    "duration": 11,
    "start_time": "2021-07-01T08:47:27.866Z"
   },
   {
    "duration": 22,
    "start_time": "2021-07-01T08:47:28.279Z"
   },
   {
    "duration": 19,
    "start_time": "2021-07-01T08:47:28.433Z"
   },
   {
    "duration": 14,
    "start_time": "2021-07-01T08:47:28.543Z"
   },
   {
    "duration": 18,
    "start_time": "2021-07-01T08:47:28.678Z"
   },
   {
    "duration": 11,
    "start_time": "2021-07-01T08:47:28.916Z"
   },
   {
    "duration": 4,
    "start_time": "2021-07-01T08:47:29.329Z"
   },
   {
    "duration": 72,
    "start_time": "2021-07-01T08:47:30.139Z"
   },
   {
    "duration": 9,
    "start_time": "2021-07-01T08:47:30.692Z"
   },
   {
    "duration": 12,
    "start_time": "2021-07-01T08:47:31.157Z"
   },
   {
    "duration": 6,
    "start_time": "2021-07-01T08:47:31.315Z"
   },
   {
    "duration": 16,
    "start_time": "2021-07-01T08:47:31.451Z"
   },
   {
    "duration": 8,
    "start_time": "2021-07-01T08:47:31.601Z"
   },
   {
    "duration": 11,
    "start_time": "2021-07-01T08:47:32.190Z"
   },
   {
    "duration": 934,
    "start_time": "2021-07-01T08:47:32.442Z"
   },
   {
    "duration": 94,
    "start_time": "2021-07-01T08:47:33.379Z"
   },
   {
    "duration": 945,
    "start_time": "2021-07-01T08:47:33.476Z"
   },
   {
    "duration": 957,
    "start_time": "2021-07-01T08:47:34.424Z"
   },
   {
    "duration": 52,
    "start_time": "2021-07-01T08:47:35.386Z"
   },
   {
    "duration": 4,
    "start_time": "2021-07-01T08:47:35.440Z"
   },
   {
    "duration": 76,
    "start_time": "2021-07-01T08:47:35.446Z"
   },
   {
    "duration": 4,
    "start_time": "2021-07-01T08:47:35.524Z"
   },
   {
    "duration": 13,
    "start_time": "2021-07-01T08:47:35.530Z"
   },
   {
    "duration": 324,
    "start_time": "2021-07-01T08:47:35.545Z"
   },
   {
    "duration": 16,
    "start_time": "2021-07-01T08:47:36.035Z"
   },
   {
    "duration": 16,
    "start_time": "2021-07-01T08:47:36.206Z"
   },
   {
    "duration": 51,
    "start_time": "2021-07-01T08:47:36.927Z"
   },
   {
    "duration": 3,
    "start_time": "2021-07-01T08:47:37.115Z"
   },
   {
    "duration": 51,
    "start_time": "2021-07-01T08:47:37.300Z"
   },
   {
    "duration": 4,
    "start_time": "2021-07-01T08:47:37.488Z"
   },
   {
    "duration": 10,
    "start_time": "2021-07-01T08:47:38.050Z"
   },
   {
    "duration": 302,
    "start_time": "2021-07-01T08:47:38.277Z"
   },
   {
    "duration": 14,
    "start_time": "2021-07-01T08:47:39.401Z"
   },
   {
    "duration": 14,
    "start_time": "2021-07-01T08:47:39.836Z"
   },
   {
    "duration": 52,
    "start_time": "2021-07-01T08:47:40.819Z"
   },
   {
    "duration": 4,
    "start_time": "2021-07-01T08:47:41.010Z"
   },
   {
    "duration": 49,
    "start_time": "2021-07-01T08:47:41.186Z"
   },
   {
    "duration": 4,
    "start_time": "2021-07-01T08:47:41.368Z"
   },
   {
    "duration": 10,
    "start_time": "2021-07-01T08:47:41.501Z"
   },
   {
    "duration": 316,
    "start_time": "2021-07-01T08:47:41.666Z"
   },
   {
    "duration": 15,
    "start_time": "2021-07-01T08:47:42.032Z"
   },
   {
    "duration": 14,
    "start_time": "2021-07-01T08:47:42.195Z"
   },
   {
    "duration": 140,
    "start_time": "2021-07-01T08:47:42.851Z"
   },
   {
    "duration": 4,
    "start_time": "2021-07-01T08:47:43.017Z"
   },
   {
    "duration": 50,
    "start_time": "2021-07-01T08:47:43.715Z"
   },
   {
    "duration": 4,
    "start_time": "2021-07-01T08:47:43.865Z"
   },
   {
    "duration": 9,
    "start_time": "2021-07-01T08:47:44.345Z"
   },
   {
    "duration": 305,
    "start_time": "2021-07-01T08:47:44.532Z"
   },
   {
    "duration": 5,
    "start_time": "2021-07-01T08:47:45.029Z"
   },
   {
    "duration": 11,
    "start_time": "2021-07-01T08:47:46.857Z"
   },
   {
    "duration": 8,
    "start_time": "2021-07-01T08:47:47.025Z"
   },
   {
    "duration": 10,
    "start_time": "2021-07-01T08:47:47.157Z"
   },
   {
    "duration": 22,
    "start_time": "2021-07-01T08:47:47.336Z"
   },
   {
    "duration": 50,
    "start_time": "2021-07-01T08:47:47.673Z"
   },
   {
    "duration": 4,
    "start_time": "2021-07-01T08:47:48.109Z"
   },
   {
    "duration": 54,
    "start_time": "2021-07-01T08:47:48.298Z"
   },
   {
    "duration": 3,
    "start_time": "2021-07-01T08:47:48.749Z"
   },
   {
    "duration": 10,
    "start_time": "2021-07-01T08:47:48.913Z"
   },
   {
    "duration": 303,
    "start_time": "2021-07-01T08:47:49.424Z"
   },
   {
    "duration": 5,
    "start_time": "2021-07-01T08:47:53.036Z"
   },
   {
    "duration": 1464,
    "start_time": "2021-07-02T03:33:34.176Z"
   },
   {
    "duration": 565,
    "start_time": "2021-07-02T03:33:35.643Z"
   },
   {
    "duration": 3,
    "start_time": "2021-07-02T03:33:36.211Z"
   },
   {
    "duration": 63,
    "start_time": "2021-07-02T03:33:36.217Z"
   },
   {
    "duration": 24,
    "start_time": "2021-07-02T03:33:37.514Z"
   },
   {
    "duration": 53,
    "start_time": "2021-07-02T03:33:57.015Z"
   },
   {
    "duration": 71,
    "start_time": "2021-07-02T03:39:56.411Z"
   },
   {
    "duration": 21,
    "start_time": "2021-07-02T04:01:22.774Z"
   },
   {
    "duration": 18,
    "start_time": "2021-07-02T04:01:23.555Z"
   },
   {
    "duration": 39,
    "start_time": "2021-07-02T04:01:24.462Z"
   },
   {
    "duration": 18,
    "start_time": "2021-07-02T04:01:24.955Z"
   },
   {
    "duration": 11,
    "start_time": "2021-07-02T04:01:25.105Z"
   },
   {
    "duration": 28,
    "start_time": "2021-07-02T04:01:25.252Z"
   },
   {
    "duration": 14,
    "start_time": "2021-07-02T04:01:25.676Z"
   },
   {
    "duration": 10,
    "start_time": "2021-07-02T04:01:25.811Z"
   },
   {
    "duration": 19,
    "start_time": "2021-07-02T04:01:25.961Z"
   },
   {
    "duration": 9,
    "start_time": "2021-07-02T04:01:26.336Z"
   },
   {
    "duration": 13,
    "start_time": "2021-07-02T04:01:26.475Z"
   },
   {
    "duration": 9,
    "start_time": "2021-07-02T04:01:27.094Z"
   },
   {
    "duration": 14,
    "start_time": "2021-07-02T04:01:27.333Z"
   },
   {
    "duration": 9,
    "start_time": "2021-07-02T04:01:27.514Z"
   },
   {
    "duration": 37,
    "start_time": "2021-07-02T04:01:28.103Z"
   },
   {
    "duration": 15,
    "start_time": "2021-07-02T04:01:28.323Z"
   },
   {
    "duration": 16,
    "start_time": "2021-07-02T04:01:28.901Z"
   },
   {
    "duration": 428,
    "start_time": "2021-07-02T04:01:30.251Z"
   },
   {
    "duration": 31,
    "start_time": "2021-07-02T04:01:30.651Z"
   },
   {
    "duration": 288,
    "start_time": "2021-07-02T04:01:31.032Z"
   },
   {
    "duration": 269,
    "start_time": "2021-07-02T04:01:36.197Z"
   },
   {
    "duration": 8,
    "start_time": "2021-07-02T04:01:38.440Z"
   },
   {
    "duration": 19,
    "start_time": "2021-07-02T04:01:39.581Z"
   },
   {
    "duration": 24,
    "start_time": "2021-07-02T04:01:40.114Z"
   },
   {
    "duration": 16,
    "start_time": "2021-07-02T04:01:40.385Z"
   },
   {
    "duration": 37,
    "start_time": "2021-07-02T04:01:42.161Z"
   },
   {
    "duration": 24,
    "start_time": "2021-07-02T04:01:42.806Z"
   },
   {
    "duration": 20,
    "start_time": "2021-07-02T04:01:43.227Z"
   },
   {
    "duration": 27,
    "start_time": "2021-07-02T04:01:43.518Z"
   },
   {
    "duration": 15,
    "start_time": "2021-07-02T04:01:43.900Z"
   },
   {
    "duration": 7,
    "start_time": "2021-07-02T04:01:44.277Z"
   },
   {
    "duration": 136,
    "start_time": "2021-07-02T04:01:45.805Z"
   },
   {
    "duration": 14,
    "start_time": "2021-07-02T04:01:47.335Z"
   },
   {
    "duration": 17,
    "start_time": "2021-07-02T04:01:48.814Z"
   },
   {
    "duration": 9,
    "start_time": "2021-07-02T04:01:49.211Z"
   },
   {
    "duration": 25,
    "start_time": "2021-07-02T04:01:49.778Z"
   },
   {
    "duration": 11,
    "start_time": "2021-07-02T04:01:50.135Z"
   },
   {
    "duration": 16,
    "start_time": "2021-07-02T04:01:51.701Z"
   },
   {
    "duration": 1654,
    "start_time": "2021-07-02T04:01:52.835Z"
   },
   {
    "duration": 968,
    "start_time": "2021-07-02T04:02:09.237Z"
   },
   {
    "duration": 412,
    "start_time": "2021-07-02T08:18:45.255Z"
   },
   {
    "duration": 330,
    "start_time": "2021-07-02T08:18:55.492Z"
   },
   {
    "duration": 1758,
    "start_time": "2021-07-02T08:19:07.285Z"
   },
   {
    "duration": 678,
    "start_time": "2021-07-02T08:19:12.056Z"
   },
   {
    "duration": 4,
    "start_time": "2021-07-02T08:19:15.372Z"
   },
   {
    "duration": 53,
    "start_time": "2021-07-02T08:19:22.180Z"
   },
   {
    "duration": 78,
    "start_time": "2021-07-02T08:19:38.298Z"
   },
   {
    "duration": 110,
    "start_time": "2021-07-02T08:19:51.487Z"
   },
   {
    "duration": 125,
    "start_time": "2021-07-02T08:20:30.248Z"
   },
   {
    "duration": 63,
    "start_time": "2021-07-02T08:20:55.950Z"
   },
   {
    "duration": 100,
    "start_time": "2021-07-02T08:21:11.520Z"
   },
   {
    "duration": 7,
    "start_time": "2021-07-02T08:22:55.187Z"
   },
   {
    "duration": 21,
    "start_time": "2021-07-02T08:23:05.354Z"
   },
   {
    "duration": 120,
    "start_time": "2021-07-02T08:26:42.126Z"
   },
   {
    "duration": 19,
    "start_time": "2021-07-02T08:27:02.556Z"
   },
   {
    "duration": 120,
    "start_time": "2021-07-02T08:27:04.686Z"
   },
   {
    "duration": 1517,
    "start_time": "2021-07-02T08:33:25.103Z"
   },
   {
    "duration": 582,
    "start_time": "2021-07-02T08:33:26.622Z"
   },
   {
    "duration": 4,
    "start_time": "2021-07-02T08:33:27.207Z"
   },
   {
    "duration": 57,
    "start_time": "2021-07-02T08:33:27.214Z"
   },
   {
    "duration": 98,
    "start_time": "2021-07-02T08:33:27.273Z"
   },
   {
    "duration": 111,
    "start_time": "2021-07-02T08:33:27.373Z"
   },
   {
    "duration": 3,
    "start_time": "2021-07-02T08:33:27.486Z"
   },
   {
    "duration": 15,
    "start_time": "2021-07-02T08:33:27.496Z"
   },
   {
    "duration": 54,
    "start_time": "2021-07-02T08:33:27.515Z"
   },
   {
    "duration": 877,
    "start_time": "2021-07-02T08:33:27.572Z"
   },
   {
    "duration": 45,
    "start_time": "2021-07-02T08:33:28.453Z"
   },
   {
    "duration": 19,
    "start_time": "2021-07-02T08:33:28.501Z"
   },
   {
    "duration": 67,
    "start_time": "2021-07-02T08:33:28.524Z"
   },
   {
    "duration": 18,
    "start_time": "2021-07-02T08:33:28.594Z"
   },
   {
    "duration": 22,
    "start_time": "2021-07-02T08:33:28.615Z"
   },
   {
    "duration": 50,
    "start_time": "2021-07-02T08:33:28.640Z"
   },
   {
    "duration": 16,
    "start_time": "2021-07-02T08:33:28.692Z"
   },
   {
    "duration": 23,
    "start_time": "2021-07-02T08:33:28.710Z"
   },
   {
    "duration": 49,
    "start_time": "2021-07-02T08:33:28.736Z"
   },
   {
    "duration": 11,
    "start_time": "2021-07-02T08:33:28.788Z"
   },
   {
    "duration": 26,
    "start_time": "2021-07-02T08:33:28.802Z"
   },
   {
    "duration": 19,
    "start_time": "2021-07-02T08:33:28.831Z"
   },
   {
    "duration": 14,
    "start_time": "2021-07-02T08:33:28.871Z"
   },
   {
    "duration": 24,
    "start_time": "2021-07-02T08:33:28.889Z"
   },
   {
    "duration": 62,
    "start_time": "2021-07-02T08:33:28.916Z"
   },
   {
    "duration": 18,
    "start_time": "2021-07-02T08:33:28.981Z"
   },
   {
    "duration": 20,
    "start_time": "2021-07-02T08:33:29.002Z"
   },
   {
    "duration": 94,
    "start_time": "2021-07-02T08:33:29.025Z"
   },
   {
    "duration": 134,
    "start_time": "2021-07-02T08:33:28.990Z"
   },
   {
    "duration": 130,
    "start_time": "2021-07-02T08:33:28.996Z"
   },
   {
    "duration": 122,
    "start_time": "2021-07-02T08:33:29.006Z"
   },
   {
    "duration": 119,
    "start_time": "2021-07-02T08:33:29.011Z"
   },
   {
    "duration": 115,
    "start_time": "2021-07-02T08:33:29.017Z"
   },
   {
    "duration": 109,
    "start_time": "2021-07-02T08:33:29.025Z"
   },
   {
    "duration": 104,
    "start_time": "2021-07-02T08:33:29.032Z"
   },
   {
    "duration": 48,
    "start_time": "2021-07-02T08:33:29.089Z"
   },
   {
    "duration": 46,
    "start_time": "2021-07-02T08:33:29.093Z"
   },
   {
    "duration": 40,
    "start_time": "2021-07-02T08:33:29.100Z"
   },
   {
    "duration": 34,
    "start_time": "2021-07-02T08:33:29.108Z"
   },
   {
    "duration": 31,
    "start_time": "2021-07-02T08:33:29.112Z"
   },
   {
    "duration": 24,
    "start_time": "2021-07-02T08:33:29.121Z"
   },
   {
    "duration": 19,
    "start_time": "2021-07-02T08:33:29.127Z"
   },
   {
    "duration": 15,
    "start_time": "2021-07-02T08:33:29.133Z"
   },
   {
    "duration": 10,
    "start_time": "2021-07-02T08:33:29.140Z"
   },
   {
    "duration": 6,
    "start_time": "2021-07-02T08:33:29.146Z"
   },
   {
    "duration": -1,
    "start_time": "2021-07-02T08:33:29.155Z"
   },
   {
    "duration": -4,
    "start_time": "2021-07-02T08:33:29.160Z"
   },
   {
    "duration": -9,
    "start_time": "2021-07-02T08:33:29.167Z"
   },
   {
    "duration": -15,
    "start_time": "2021-07-02T08:33:29.175Z"
   },
   {
    "duration": -20,
    "start_time": "2021-07-02T08:33:29.181Z"
   },
   {
    "duration": -27,
    "start_time": "2021-07-02T08:33:29.190Z"
   },
   {
    "duration": -30,
    "start_time": "2021-07-02T08:33:29.196Z"
   },
   {
    "duration": -37,
    "start_time": "2021-07-02T08:33:29.205Z"
   },
   {
    "duration": -42,
    "start_time": "2021-07-02T08:33:29.211Z"
   },
   {
    "duration": -42,
    "start_time": "2021-07-02T08:33:29.217Z"
   },
   {
    "duration": -48,
    "start_time": "2021-07-02T08:33:29.225Z"
   },
   {
    "duration": -55,
    "start_time": "2021-07-02T08:33:29.233Z"
   },
   {
    "duration": -61,
    "start_time": "2021-07-02T08:33:29.241Z"
   },
   {
    "duration": -67,
    "start_time": "2021-07-02T08:33:29.249Z"
   },
   {
    "duration": -75,
    "start_time": "2021-07-02T08:33:29.259Z"
   },
   {
    "duration": -79,
    "start_time": "2021-07-02T08:33:29.265Z"
   },
   {
    "duration": -85,
    "start_time": "2021-07-02T08:33:29.273Z"
   },
   {
    "duration": -88,
    "start_time": "2021-07-02T08:33:29.278Z"
   },
   {
    "duration": -95,
    "start_time": "2021-07-02T08:33:29.287Z"
   },
   {
    "duration": -98,
    "start_time": "2021-07-02T08:33:29.292Z"
   },
   {
    "duration": -102,
    "start_time": "2021-07-02T08:33:29.298Z"
   },
   {
    "duration": -108,
    "start_time": "2021-07-02T08:33:29.306Z"
   },
   {
    "duration": -135,
    "start_time": "2021-07-02T08:33:29.335Z"
   },
   {
    "duration": -139,
    "start_time": "2021-07-02T08:33:29.341Z"
   },
   {
    "duration": -143,
    "start_time": "2021-07-02T08:33:29.347Z"
   },
   {
    "duration": -89,
    "start_time": "2021-07-02T08:33:29.355Z"
   },
   {
    "duration": -91,
    "start_time": "2021-07-02T08:33:29.360Z"
   },
   {
    "duration": -96,
    "start_time": "2021-07-02T08:33:29.366Z"
   },
   {
    "duration": -102,
    "start_time": "2021-07-02T08:33:29.374Z"
   },
   {
    "duration": -105,
    "start_time": "2021-07-02T08:33:29.379Z"
   },
   {
    "duration": -112,
    "start_time": "2021-07-02T08:33:29.388Z"
   },
   {
    "duration": -116,
    "start_time": "2021-07-02T08:33:29.394Z"
   },
   {
    "duration": -121,
    "start_time": "2021-07-02T08:33:29.401Z"
   },
   {
    "duration": -127,
    "start_time": "2021-07-02T08:33:29.409Z"
   },
   {
    "duration": -132,
    "start_time": "2021-07-02T08:33:29.416Z"
   },
   {
    "duration": -137,
    "start_time": "2021-07-02T08:33:29.423Z"
   },
   {
    "duration": -140,
    "start_time": "2021-07-02T08:33:29.428Z"
   },
   {
    "duration": -147,
    "start_time": "2021-07-02T08:33:29.437Z"
   },
   {
    "duration": -150,
    "start_time": "2021-07-02T08:33:29.442Z"
   },
   {
    "duration": -154,
    "start_time": "2021-07-02T08:33:29.448Z"
   },
   {
    "duration": -160,
    "start_time": "2021-07-02T08:33:29.456Z"
   },
   {
    "duration": -164,
    "start_time": "2021-07-02T08:33:29.462Z"
   },
   {
    "duration": -171,
    "start_time": "2021-07-02T08:33:29.471Z"
   },
   {
    "duration": -175,
    "start_time": "2021-07-02T08:33:29.476Z"
   },
   {
    "duration": -179,
    "start_time": "2021-07-02T08:33:29.482Z"
   },
   {
    "duration": -184,
    "start_time": "2021-07-02T08:33:29.489Z"
   },
   {
    "duration": -188,
    "start_time": "2021-07-02T08:33:29.494Z"
   },
   {
    "duration": -133,
    "start_time": "2021-07-02T08:33:29.501Z"
   },
   {
    "duration": -140,
    "start_time": "2021-07-02T08:33:29.509Z"
   },
   {
    "duration": 85,
    "start_time": "2021-07-02T09:28:53.182Z"
   },
   {
    "duration": 514,
    "start_time": "2021-07-02T09:38:22.888Z"
   },
   {
    "duration": 85,
    "start_time": "2021-07-02T09:39:01.646Z"
   },
   {
    "duration": 33,
    "start_time": "2021-07-02T09:48:47.703Z"
   },
   {
    "duration": 46,
    "start_time": "2021-07-02T10:10:59.782Z"
   },
   {
    "duration": 55,
    "start_time": "2021-07-02T10:11:22.245Z"
   },
   {
    "duration": 113,
    "start_time": "2021-07-02T10:13:18.971Z"
   },
   {
    "duration": 59,
    "start_time": "2021-07-02T10:15:10.882Z"
   },
   {
    "duration": 92,
    "start_time": "2021-07-02T10:16:40.949Z"
   },
   {
    "duration": 106,
    "start_time": "2021-07-02T10:16:51.772Z"
   },
   {
    "duration": 9,
    "start_time": "2021-07-02T10:18:46.540Z"
   },
   {
    "duration": 18,
    "start_time": "2021-07-02T10:18:48.796Z"
   },
   {
    "duration": 338,
    "start_time": "2021-07-02T10:18:59.462Z"
   },
   {
    "duration": 3,
    "start_time": "2021-07-02T10:19:39.244Z"
   },
   {
    "duration": 7,
    "start_time": "2021-07-02T10:19:41.829Z"
   },
   {
    "duration": 18,
    "start_time": "2021-07-02T10:19:45.398Z"
   },
   {
    "duration": 325,
    "start_time": "2021-07-02T10:19:50.422Z"
   },
   {
    "duration": 95,
    "start_time": "2021-07-02T10:22:20.274Z"
   },
   {
    "duration": 326,
    "start_time": "2021-07-02T10:22:40.577Z"
   },
   {
    "duration": 340,
    "start_time": "2021-07-02T10:22:56.505Z"
   },
   {
    "duration": 351,
    "start_time": "2021-07-02T10:23:01.113Z"
   },
   {
    "duration": 326,
    "start_time": "2021-07-02T10:23:20.098Z"
   },
   {
    "duration": 14,
    "start_time": "2021-07-02T10:24:05.507Z"
   },
   {
    "duration": 848,
    "start_time": "2021-07-02T10:24:27.050Z"
   },
   {
    "duration": 9,
    "start_time": "2021-07-02T10:24:38.283Z"
   },
   {
    "duration": 105,
    "start_time": "2021-07-02T10:24:54.772Z"
   },
   {
    "duration": 8,
    "start_time": "2021-07-02T10:25:22.339Z"
   },
   {
    "duration": 6,
    "start_time": "2021-07-02T10:26:02.700Z"
   },
   {
    "duration": 118,
    "start_time": "2021-07-02T10:35:15.180Z"
   },
   {
    "duration": 101,
    "start_time": "2021-07-02T10:35:40.148Z"
   },
   {
    "duration": 103,
    "start_time": "2021-07-02T10:36:09.092Z"
   },
   {
    "duration": 299,
    "start_time": "2021-07-02T10:37:04.398Z"
   },
   {
    "duration": 7,
    "start_time": "2021-07-02T10:37:31.623Z"
   },
   {
    "duration": 322,
    "start_time": "2021-07-02T10:38:56.607Z"
   },
   {
    "duration": 374,
    "start_time": "2021-07-02T10:39:02.543Z"
   },
   {
    "duration": 7995,
    "start_time": "2021-07-02T10:39:24.657Z"
   },
   {
    "duration": 7,
    "start_time": "2021-07-02T10:40:15.249Z"
   },
   {
    "duration": 5,
    "start_time": "2021-07-02T10:41:09.537Z"
   },
   {
    "duration": 501,
    "start_time": "2021-07-02T10:42:05.227Z"
   },
   {
    "duration": 329,
    "start_time": "2021-07-02T10:42:48.061Z"
   },
   {
    "duration": 11,
    "start_time": "2021-07-02T10:43:08.900Z"
   },
   {
    "duration": 6,
    "start_time": "2021-07-02T10:45:28.191Z"
   },
   {
    "duration": 35,
    "start_time": "2021-07-02T10:51:55.438Z"
   },
   {
    "duration": 18,
    "start_time": "2021-07-02T10:55:20.703Z"
   },
   {
    "duration": 24,
    "start_time": "2021-07-02T10:55:22.166Z"
   },
   {
    "duration": 16,
    "start_time": "2021-07-02T10:55:23.464Z"
   },
   {
    "duration": 33,
    "start_time": "2021-07-02T10:55:32.215Z"
   },
   {
    "duration": 22,
    "start_time": "2021-07-02T10:55:45.214Z"
   },
   {
    "duration": 18,
    "start_time": "2021-07-02T10:55:46.743Z"
   },
   {
    "duration": 28,
    "start_time": "2021-07-02T10:55:48.191Z"
   },
   {
    "duration": 15,
    "start_time": "2021-07-02T10:55:50.712Z"
   },
   {
    "duration": 5,
    "start_time": "2021-07-02T10:55:53.159Z"
   },
   {
    "duration": 21,
    "start_time": "2021-07-02T10:55:58.961Z"
   },
   {
    "duration": 202,
    "start_time": "2021-07-02T10:56:21.868Z"
   },
   {
    "duration": 32,
    "start_time": "2021-07-02T10:56:24.496Z"
   },
   {
    "duration": 13,
    "start_time": "2021-07-02T10:58:28.946Z"
   },
   {
    "duration": 113,
    "start_time": "2021-07-02T11:00:12.476Z"
   },
   {
    "duration": 121,
    "start_time": "2021-07-02T11:00:26.803Z"
   },
   {
    "duration": 134,
    "start_time": "2021-07-02T11:00:39.820Z"
   },
   {
    "duration": 104,
    "start_time": "2021-07-02T11:02:31.326Z"
   },
   {
    "duration": 285,
    "start_time": "2021-07-02T11:02:41.271Z"
   },
   {
    "duration": 345,
    "start_time": "2021-07-02T11:03:12.935Z"
   },
   {
    "duration": 8,
    "start_time": "2021-07-02T11:03:23.359Z"
   },
   {
    "duration": 26,
    "start_time": "2021-07-02T11:03:32.047Z"
   },
   {
    "duration": 346,
    "start_time": "2021-07-02T11:04:15.911Z"
   },
   {
    "duration": 106,
    "start_time": "2021-07-02T11:04:51.072Z"
   },
   {
    "duration": 307,
    "start_time": "2021-07-02T11:04:58.880Z"
   },
   {
    "duration": 767,
    "start_time": "2021-07-02T11:05:34.353Z"
   },
   {
    "duration": 321,
    "start_time": "2021-07-02T11:09:09.350Z"
   },
   {
    "duration": 7,
    "start_time": "2021-07-02T11:10:42.677Z"
   },
   {
    "duration": 26,
    "start_time": "2021-07-02T11:10:44.909Z"
   },
   {
    "duration": 13,
    "start_time": "2021-07-02T11:11:15.806Z"
   },
   {
    "duration": 40,
    "start_time": "2021-07-02T11:11:17.423Z"
   },
   {
    "duration": 6,
    "start_time": "2021-07-02T11:11:27.766Z"
   },
   {
    "duration": 27,
    "start_time": "2021-07-02T11:11:29.966Z"
   },
   {
    "duration": 349,
    "start_time": "2021-07-02T11:12:15.727Z"
   },
   {
    "duration": 292,
    "start_time": "2021-07-02T11:12:31.560Z"
   },
   {
    "duration": 341,
    "start_time": "2021-07-02T11:13:04.399Z"
   },
   {
    "duration": 28,
    "start_time": "2021-07-02T11:20:22.934Z"
   },
   {
    "duration": 335,
    "start_time": "2021-07-02T11:20:40.434Z"
   },
   {
    "duration": 17,
    "start_time": "2021-07-02T11:20:46.287Z"
   },
   {
    "duration": 834,
    "start_time": "2021-07-02T11:27:23.406Z"
   },
   {
    "duration": 288,
    "start_time": "2021-07-02T11:28:14.159Z"
   },
   {
    "duration": 6,
    "start_time": "2021-07-02T11:31:49.842Z"
   },
   {
    "duration": 6,
    "start_time": "2021-07-02T11:32:11.994Z"
   },
   {
    "duration": 5,
    "start_time": "2021-07-02T11:32:23.875Z"
   },
   {
    "duration": 5,
    "start_time": "2021-07-02T11:32:34.739Z"
   },
   {
    "duration": 16,
    "start_time": "2021-07-02T11:32:46.627Z"
   },
   {
    "duration": 9,
    "start_time": "2021-07-02T11:33:05.484Z"
   },
   {
    "duration": 52,
    "start_time": "2021-07-02T11:33:12.675Z"
   },
   {
    "duration": 19,
    "start_time": "2021-07-02T11:33:46.774Z"
   },
   {
    "duration": 16,
    "start_time": "2021-07-02T11:34:59.407Z"
   },
   {
    "duration": 6,
    "start_time": "2021-07-02T11:35:01.694Z"
   },
   {
    "duration": 11,
    "start_time": "2021-07-02T11:35:17.784Z"
   },
   {
    "duration": 6,
    "start_time": "2021-07-02T11:35:21.846Z"
   },
   {
    "duration": 7,
    "start_time": "2021-07-02T11:35:43.918Z"
   },
   {
    "duration": 39,
    "start_time": "2021-07-02T11:45:02.554Z"
   },
   {
    "duration": 21,
    "start_time": "2021-07-02T11:45:24.700Z"
   },
   {
    "duration": 98,
    "start_time": "2021-07-02T11:47:37.110Z"
   },
   {
    "duration": 363,
    "start_time": "2021-07-02T11:50:12.414Z"
   },
   {
    "duration": 13,
    "start_time": "2021-07-02T11:50:24.463Z"
   },
   {
    "duration": 24,
    "start_time": "2021-07-02T11:50:37.606Z"
   },
   {
    "duration": 10,
    "start_time": "2021-07-02T11:51:01.432Z"
   },
   {
    "duration": 26,
    "start_time": "2021-07-02T11:51:04.064Z"
   },
   {
    "duration": 8792,
    "start_time": "2021-07-02T11:59:04.908Z"
   },
   {
    "duration": 22,
    "start_time": "2021-07-02T11:59:30.279Z"
   },
   {
    "duration": 11,
    "start_time": "2021-07-02T11:59:32.134Z"
   },
   {
    "duration": 28,
    "start_time": "2021-07-02T11:59:33.885Z"
   },
   {
    "duration": 20,
    "start_time": "2021-07-02T12:00:12.502Z"
   },
   {
    "duration": 38492,
    "start_time": "2021-07-02T12:00:59.261Z"
   },
   {
    "duration": 325,
    "start_time": "2021-07-02T12:02:17.688Z"
   },
   {
    "duration": 391,
    "start_time": "2021-07-02T12:03:11.960Z"
   },
   {
    "duration": 1757,
    "start_time": "2021-07-02T12:06:06.228Z"
   },
   {
    "duration": 1534,
    "start_time": "2021-07-02T12:06:15.155Z"
   },
   {
    "duration": 1730,
    "start_time": "2021-07-02T12:08:26.501Z"
   },
   {
    "duration": 2706,
    "start_time": "2021-07-02T12:10:13.602Z"
   },
   {
    "duration": 1727,
    "start_time": "2021-07-02T12:10:49.128Z"
   },
   {
    "duration": 4,
    "start_time": "2021-07-02T12:22:08.634Z"
   },
   {
    "duration": 13,
    "start_time": "2021-07-02T12:22:23.658Z"
   },
   {
    "duration": 101,
    "start_time": "2021-07-02T12:26:43.991Z"
   },
   {
    "duration": 95,
    "start_time": "2021-07-02T12:27:03.006Z"
   },
   {
    "duration": 101,
    "start_time": "2021-07-02T12:27:23.607Z"
   },
   {
    "duration": 101,
    "start_time": "2021-07-02T12:30:25.042Z"
   },
   {
    "duration": 383,
    "start_time": "2021-07-02T12:30:36.834Z"
   },
   {
    "duration": 480,
    "start_time": "2021-07-02T12:31:02.954Z"
   },
   {
    "duration": 365,
    "start_time": "2021-07-02T12:31:48.611Z"
   },
   {
    "duration": 1113,
    "start_time": "2021-07-02T12:32:00.925Z"
   },
   {
    "duration": 1271,
    "start_time": "2021-07-02T12:33:54.786Z"
   },
   {
    "duration": 119,
    "start_time": "2021-07-02T12:34:56.902Z"
   },
   {
    "duration": 114,
    "start_time": "2021-07-02T12:35:17.361Z"
   },
   {
    "duration": 120,
    "start_time": "2021-07-02T12:35:36.399Z"
   },
   {
    "duration": 134,
    "start_time": "2021-07-02T12:35:41.015Z"
   },
   {
    "duration": 1227,
    "start_time": "2021-07-02T12:36:07.105Z"
   },
   {
    "duration": 108,
    "start_time": "2021-07-02T12:36:39.669Z"
   },
   {
    "duration": 1546,
    "start_time": "2021-07-02T12:36:51.353Z"
   },
   {
    "duration": 1559,
    "start_time": "2021-07-02T12:43:27.513Z"
   },
   {
    "duration": 604,
    "start_time": "2021-07-02T12:43:29.076Z"
   },
   {
    "duration": 4,
    "start_time": "2021-07-02T12:43:29.683Z"
   },
   {
    "duration": 480,
    "start_time": "2021-07-02T12:43:29.689Z"
   },
   {
    "duration": 445,
    "start_time": "2021-07-02T12:43:29.734Z"
   },
   {
    "duration": 442,
    "start_time": "2021-07-02T12:43:29.739Z"
   },
   {
    "duration": 363,
    "start_time": "2021-07-02T12:43:29.819Z"
   },
   {
    "duration": 356,
    "start_time": "2021-07-02T12:43:29.828Z"
   },
   {
    "duration": 353,
    "start_time": "2021-07-02T12:43:29.834Z"
   },
   {
    "duration": 291,
    "start_time": "2021-07-02T12:43:29.897Z"
   },
   {
    "duration": 286,
    "start_time": "2021-07-02T12:43:29.903Z"
   },
   {
    "duration": 280,
    "start_time": "2021-07-02T12:43:29.911Z"
   },
   {
    "duration": 275,
    "start_time": "2021-07-02T12:43:29.917Z"
   },
   {
    "duration": 270,
    "start_time": "2021-07-02T12:43:29.923Z"
   },
   {
    "duration": 264,
    "start_time": "2021-07-02T12:43:29.932Z"
   },
   {
    "duration": 260,
    "start_time": "2021-07-02T12:43:29.937Z"
   },
   {
    "duration": 253,
    "start_time": "2021-07-02T12:43:29.946Z"
   },
   {
    "duration": 249,
    "start_time": "2021-07-02T12:43:29.951Z"
   },
   {
    "duration": 243,
    "start_time": "2021-07-02T12:43:29.959Z"
   },
   {
    "duration": 240,
    "start_time": "2021-07-02T12:43:29.964Z"
   },
   {
    "duration": 235,
    "start_time": "2021-07-02T12:43:29.970Z"
   },
   {
    "duration": 229,
    "start_time": "2021-07-02T12:43:29.978Z"
   },
   {
    "duration": 225,
    "start_time": "2021-07-02T12:43:29.983Z"
   },
   {
    "duration": 221,
    "start_time": "2021-07-02T12:43:29.989Z"
   },
   {
    "duration": 213,
    "start_time": "2021-07-02T12:43:29.998Z"
   },
   {
    "duration": 108,
    "start_time": "2021-07-02T12:43:30.105Z"
   },
   {
    "duration": 153,
    "start_time": "2021-07-02T12:43:30.113Z"
   },
   {
    "duration": 149,
    "start_time": "2021-07-02T12:43:30.119Z"
   },
   {
    "duration": 141,
    "start_time": "2021-07-02T12:43:30.128Z"
   },
   {
    "duration": 137,
    "start_time": "2021-07-02T12:43:30.133Z"
   },
   {
    "duration": 133,
    "start_time": "2021-07-02T12:43:30.139Z"
   },
   {
    "duration": 126,
    "start_time": "2021-07-02T12:43:30.148Z"
   },
   {
    "duration": 122,
    "start_time": "2021-07-02T12:43:30.153Z"
   },
   {
    "duration": 115,
    "start_time": "2021-07-02T12:43:30.161Z"
   },
   {
    "duration": 111,
    "start_time": "2021-07-02T12:43:30.167Z"
   },
   {
    "duration": 103,
    "start_time": "2021-07-02T12:43:30.176Z"
   },
   {
    "duration": 99,
    "start_time": "2021-07-02T12:43:30.181Z"
   },
   {
    "duration": 95,
    "start_time": "2021-07-02T12:43:30.187Z"
   },
   {
    "duration": 88,
    "start_time": "2021-07-02T12:43:30.195Z"
   },
   {
    "duration": 84,
    "start_time": "2021-07-02T12:43:30.200Z"
   },
   {
    "duration": 76,
    "start_time": "2021-07-02T12:43:30.209Z"
   },
   {
    "duration": 72,
    "start_time": "2021-07-02T12:43:30.215Z"
   },
   {
    "duration": 67,
    "start_time": "2021-07-02T12:43:30.221Z"
   },
   {
    "duration": 61,
    "start_time": "2021-07-02T12:43:30.229Z"
   },
   {
    "duration": 56,
    "start_time": "2021-07-02T12:43:30.235Z"
   },
   {
    "duration": 49,
    "start_time": "2021-07-02T12:43:30.243Z"
   },
   {
    "duration": 45,
    "start_time": "2021-07-02T12:43:30.248Z"
   },
   {
    "duration": 41,
    "start_time": "2021-07-02T12:43:30.254Z"
   },
   {
    "duration": 33,
    "start_time": "2021-07-02T12:43:30.263Z"
   },
   {
    "duration": 30,
    "start_time": "2021-07-02T12:43:30.268Z"
   },
   {
    "duration": 22,
    "start_time": "2021-07-02T12:43:30.277Z"
   },
   {
    "duration": 17,
    "start_time": "2021-07-02T12:43:30.283Z"
   },
   {
    "duration": 13,
    "start_time": "2021-07-02T12:43:30.289Z"
   },
   {
    "duration": 6,
    "start_time": "2021-07-02T12:43:30.297Z"
   },
   {
    "duration": 2,
    "start_time": "2021-07-02T12:43:30.303Z"
   },
   {
    "duration": -5,
    "start_time": "2021-07-02T12:43:30.311Z"
   },
   {
    "duration": -8,
    "start_time": "2021-07-02T12:43:30.315Z"
   },
   {
    "duration": -13,
    "start_time": "2021-07-02T12:43:30.321Z"
   },
   {
    "duration": 39,
    "start_time": "2021-07-02T12:43:30.328Z"
   },
   {
    "duration": 36,
    "start_time": "2021-07-02T12:43:30.333Z"
   },
   {
    "duration": 32,
    "start_time": "2021-07-02T12:43:30.339Z"
   },
   {
    "duration": 26,
    "start_time": "2021-07-02T12:43:30.347Z"
   },
   {
    "duration": 22,
    "start_time": "2021-07-02T12:43:30.353Z"
   },
   {
    "duration": 17,
    "start_time": "2021-07-02T12:43:30.360Z"
   },
   {
    "duration": 13,
    "start_time": "2021-07-02T12:43:30.366Z"
   },
   {
    "duration": 8,
    "start_time": "2021-07-02T12:43:30.372Z"
   },
   {
    "duration": 2,
    "start_time": "2021-07-02T12:43:30.379Z"
   },
   {
    "duration": -1,
    "start_time": "2021-07-02T12:43:30.384Z"
   },
   {
    "duration": -9,
    "start_time": "2021-07-02T12:43:30.393Z"
   },
   {
    "duration": -12,
    "start_time": "2021-07-02T12:43:30.397Z"
   },
   {
    "duration": -16,
    "start_time": "2021-07-02T12:43:30.403Z"
   },
   {
    "duration": -23,
    "start_time": "2021-07-02T12:43:30.411Z"
   },
   {
    "duration": -27,
    "start_time": "2021-07-02T12:43:30.416Z"
   },
   {
    "duration": -50,
    "start_time": "2021-07-02T12:43:30.441Z"
   },
   {
    "duration": -54,
    "start_time": "2021-07-02T12:43:30.446Z"
   },
   {
    "duration": -57,
    "start_time": "2021-07-02T12:43:30.451Z"
   },
   {
    "duration": -64,
    "start_time": "2021-07-02T12:43:30.459Z"
   },
   {
    "duration": -66,
    "start_time": "2021-07-02T12:43:30.463Z"
   },
   {
    "duration": -71,
    "start_time": "2021-07-02T12:43:30.469Z"
   },
   {
    "duration": -77,
    "start_time": "2021-07-02T12:43:30.477Z"
   },
   {
    "duration": -81,
    "start_time": "2021-07-02T12:43:30.482Z"
   },
   {
    "duration": -85,
    "start_time": "2021-07-02T12:43:30.488Z"
   },
   {
    "duration": -92,
    "start_time": "2021-07-02T12:43:30.496Z"
   },
   {
    "duration": -96,
    "start_time": "2021-07-02T12:43:30.501Z"
   },
   {
    "duration": -103,
    "start_time": "2021-07-02T12:43:30.510Z"
   },
   {
    "duration": -106,
    "start_time": "2021-07-02T12:43:30.514Z"
   },
   {
    "duration": -111,
    "start_time": "2021-07-02T12:43:30.520Z"
   },
   {
    "duration": -118,
    "start_time": "2021-07-02T12:43:30.528Z"
   },
   {
    "duration": -61,
    "start_time": "2021-07-02T12:43:30.533Z"
   },
   {
    "duration": -65,
    "start_time": "2021-07-02T12:43:30.539Z"
   },
   {
    "duration": -69,
    "start_time": "2021-07-02T12:43:30.546Z"
   },
   {
    "duration": -73,
    "start_time": "2021-07-02T12:43:30.551Z"
   },
   {
    "duration": -80,
    "start_time": "2021-07-02T12:43:30.560Z"
   },
   {
    "duration": -83,
    "start_time": "2021-07-02T12:43:30.565Z"
   },
   {
    "duration": -87,
    "start_time": "2021-07-02T12:43:30.570Z"
   },
   {
    "duration": -93,
    "start_time": "2021-07-02T12:43:30.578Z"
   },
   {
    "duration": -98,
    "start_time": "2021-07-02T12:43:30.584Z"
   },
   {
    "duration": -102,
    "start_time": "2021-07-02T12:43:30.590Z"
   },
   {
    "duration": 61,
    "start_time": "2021-07-02T12:44:19.899Z"
   },
   {
    "duration": 1566,
    "start_time": "2021-07-02T12:44:29.792Z"
   },
   {
    "duration": 690,
    "start_time": "2021-07-02T12:44:31.360Z"
   },
   {
    "duration": 3,
    "start_time": "2021-07-02T12:44:32.053Z"
   },
   {
    "duration": 71,
    "start_time": "2021-07-02T12:44:32.059Z"
   },
   {
    "duration": 849,
    "start_time": "2021-07-02T12:44:32.132Z"
   },
   {
    "duration": 442,
    "start_time": "2021-07-02T12:44:32.547Z"
   },
   {
    "duration": 437,
    "start_time": "2021-07-02T12:44:32.553Z"
   },
   {
    "duration": 356,
    "start_time": "2021-07-02T12:44:32.636Z"
   },
   {
    "duration": 346,
    "start_time": "2021-07-02T12:44:32.647Z"
   },
   {
    "duration": 342,
    "start_time": "2021-07-02T12:44:32.653Z"
   },
   {
    "duration": 334,
    "start_time": "2021-07-02T12:44:32.662Z"
   },
   {
    "duration": 330,
    "start_time": "2021-07-02T12:44:32.668Z"
   },
   {
    "duration": 322,
    "start_time": "2021-07-02T12:44:32.677Z"
   },
   {
    "duration": 316,
    "start_time": "2021-07-02T12:44:32.684Z"
   },
   {
    "duration": 308,
    "start_time": "2021-07-02T12:44:32.694Z"
   },
   {
    "duration": 243,
    "start_time": "2021-07-02T12:44:32.760Z"
   },
   {
    "duration": 239,
    "start_time": "2021-07-02T12:44:32.765Z"
   },
   {
    "duration": 229,
    "start_time": "2021-07-02T12:44:32.776Z"
   },
   {
    "duration": 226,
    "start_time": "2021-07-02T12:44:32.781Z"
   },
   {
    "duration": 213,
    "start_time": "2021-07-02T12:44:32.795Z"
   },
   {
    "duration": 208,
    "start_time": "2021-07-02T12:44:32.801Z"
   },
   {
    "duration": 200,
    "start_time": "2021-07-02T12:44:32.811Z"
   },
   {
    "duration": 196,
    "start_time": "2021-07-02T12:44:32.816Z"
   },
   {
    "duration": 187,
    "start_time": "2021-07-02T12:44:32.826Z"
   },
   {
    "duration": 182,
    "start_time": "2021-07-02T12:44:32.832Z"
   },
   {
    "duration": 174,
    "start_time": "2021-07-02T12:44:32.842Z"
   },
   {
    "duration": 170,
    "start_time": "2021-07-02T12:44:32.847Z"
   },
   {
    "duration": 159,
    "start_time": "2021-07-02T12:44:32.859Z"
   },
   {
    "duration": 154,
    "start_time": "2021-07-02T12:44:32.865Z"
   },
   {
    "duration": 147,
    "start_time": "2021-07-02T12:44:32.875Z"
   },
   {
    "duration": 143,
    "start_time": "2021-07-02T12:44:32.880Z"
   },
   {
    "duration": 138,
    "start_time": "2021-07-02T12:44:32.887Z"
   },
   {
    "duration": 172,
    "start_time": "2021-07-02T12:44:32.895Z"
   },
   {
    "duration": 167,
    "start_time": "2021-07-02T12:44:32.902Z"
   },
   {
    "duration": 161,
    "start_time": "2021-07-02T12:44:32.910Z"
   },
   {
    "duration": 157,
    "start_time": "2021-07-02T12:44:32.916Z"
   },
   {
    "duration": 148,
    "start_time": "2021-07-02T12:44:32.926Z"
   },
   {
    "duration": 144,
    "start_time": "2021-07-02T12:44:32.932Z"
   },
   {
    "duration": 137,
    "start_time": "2021-07-02T12:44:32.941Z"
   },
   {
    "duration": 132,
    "start_time": "2021-07-02T12:44:32.947Z"
   },
   {
    "duration": 80,
    "start_time": "2021-07-02T12:44:33.003Z"
   },
   {
    "duration": 73,
    "start_time": "2021-07-02T12:44:33.012Z"
   },
   {
    "duration": 69,
    "start_time": "2021-07-02T12:44:33.018Z"
   },
   {
    "duration": 63,
    "start_time": "2021-07-02T12:44:33.025Z"
   },
   {
    "duration": 60,
    "start_time": "2021-07-02T12:44:33.030Z"
   },
   {
    "duration": 55,
    "start_time": "2021-07-02T12:44:33.036Z"
   },
   {
    "duration": 45,
    "start_time": "2021-07-02T12:44:33.047Z"
   },
   {
    "duration": 41,
    "start_time": "2021-07-02T12:44:33.053Z"
   },
   {
    "duration": 33,
    "start_time": "2021-07-02T12:44:33.062Z"
   },
   {
    "duration": 28,
    "start_time": "2021-07-02T12:44:33.068Z"
   },
   {
    "duration": 21,
    "start_time": "2021-07-02T12:44:33.077Z"
   },
   {
    "duration": 17,
    "start_time": "2021-07-02T12:44:33.082Z"
   },
   {
    "duration": 8,
    "start_time": "2021-07-02T12:44:33.092Z"
   },
   {
    "duration": 6,
    "start_time": "2021-07-02T12:44:33.096Z"
   },
   {
    "duration": 0,
    "start_time": "2021-07-02T12:44:33.103Z"
   },
   {
    "duration": -8,
    "start_time": "2021-07-02T12:44:33.112Z"
   },
   {
    "duration": 52,
    "start_time": "2021-07-02T12:44:33.117Z"
   },
   {
    "duration": 46,
    "start_time": "2021-07-02T12:44:33.125Z"
   },
   {
    "duration": 42,
    "start_time": "2021-07-02T12:44:33.131Z"
   },
   {
    "duration": 39,
    "start_time": "2021-07-02T12:44:33.136Z"
   },
   {
    "duration": 32,
    "start_time": "2021-07-02T12:44:33.145Z"
   },
   {
    "duration": 28,
    "start_time": "2021-07-02T12:44:33.151Z"
   },
   {
    "duration": 22,
    "start_time": "2021-07-02T12:44:33.159Z"
   },
   {
    "duration": 19,
    "start_time": "2021-07-02T12:44:33.164Z"
   },
   {
    "duration": 14,
    "start_time": "2021-07-02T12:44:33.170Z"
   },
   {
    "duration": 8,
    "start_time": "2021-07-02T12:44:33.178Z"
   },
   {
    "duration": 4,
    "start_time": "2021-07-02T12:44:33.184Z"
   },
   {
    "duration": -5,
    "start_time": "2021-07-02T12:44:33.194Z"
   },
   {
    "duration": -10,
    "start_time": "2021-07-02T12:44:33.200Z"
   },
   {
    "duration": -15,
    "start_time": "2021-07-02T12:44:33.207Z"
   },
   {
    "duration": -20,
    "start_time": "2021-07-02T12:44:33.213Z"
   },
   {
    "duration": -24,
    "start_time": "2021-07-02T12:44:33.219Z"
   },
   {
    "duration": -34,
    "start_time": "2021-07-02T12:44:33.230Z"
   },
   {
    "duration": -46,
    "start_time": "2021-07-02T12:44:33.243Z"
   },
   {
    "duration": -49,
    "start_time": "2021-07-02T12:44:33.248Z"
   },
   {
    "duration": -60,
    "start_time": "2021-07-02T12:44:33.260Z"
   },
   {
    "duration": -64,
    "start_time": "2021-07-02T12:44:33.265Z"
   },
   {
    "duration": -72,
    "start_time": "2021-07-02T12:44:33.275Z"
   },
   {
    "duration": -77,
    "start_time": "2021-07-02T12:44:33.281Z"
   },
   {
    "duration": -80,
    "start_time": "2021-07-02T12:44:33.286Z"
   },
   {
    "duration": -30,
    "start_time": "2021-07-02T12:44:33.297Z"
   },
   {
    "duration": -40,
    "start_time": "2021-07-02T12:44:33.309Z"
   },
   {
    "duration": -44,
    "start_time": "2021-07-02T12:44:33.315Z"
   },
   {
    "duration": -53,
    "start_time": "2021-07-02T12:44:33.326Z"
   },
   {
    "duration": -58,
    "start_time": "2021-07-02T12:44:33.332Z"
   },
   {
    "duration": -67,
    "start_time": "2021-07-02T12:44:33.343Z"
   },
   {
    "duration": -71,
    "start_time": "2021-07-02T12:44:33.348Z"
   },
   {
    "duration": -77,
    "start_time": "2021-07-02T12:44:33.358Z"
   },
   {
    "duration": -81,
    "start_time": "2021-07-02T12:44:33.364Z"
   },
   {
    "duration": -88,
    "start_time": "2021-07-02T12:44:33.373Z"
   },
   {
    "duration": -98,
    "start_time": "2021-07-02T12:44:33.384Z"
   },
   {
    "duration": -104,
    "start_time": "2021-07-02T12:44:33.393Z"
   },
   {
    "duration": -108,
    "start_time": "2021-07-02T12:44:33.398Z"
   },
   {
    "duration": -116,
    "start_time": "2021-07-02T12:44:33.408Z"
   },
   {
    "duration": -120,
    "start_time": "2021-07-02T12:44:33.413Z"
   },
   {
    "duration": -125,
    "start_time": "2021-07-02T12:44:33.420Z"
   },
   {
    "duration": -133,
    "start_time": "2021-07-02T12:44:33.429Z"
   },
   {
    "duration": -137,
    "start_time": "2021-07-02T12:44:33.435Z"
   },
   {
    "duration": 63,
    "start_time": "2021-07-02T12:44:51.253Z"
   },
   {
    "duration": 100,
    "start_time": "2021-07-02T12:45:03.701Z"
   },
   {
    "duration": 1582,
    "start_time": "2021-07-02T12:45:27.964Z"
   },
   {
    "duration": 637,
    "start_time": "2021-07-02T12:45:29.549Z"
   },
   {
    "duration": 4,
    "start_time": "2021-07-02T12:45:30.189Z"
   },
   {
    "duration": 82,
    "start_time": "2021-07-02T12:45:30.195Z"
   },
   {
    "duration": 102,
    "start_time": "2021-07-02T12:45:30.280Z"
   },
   {
    "duration": 138,
    "start_time": "2021-07-02T12:45:30.385Z"
   },
   {
    "duration": 4,
    "start_time": "2021-07-02T12:45:30.525Z"
   },
   {
    "duration": 39,
    "start_time": "2021-07-02T12:45:30.533Z"
   },
   {
    "duration": 29,
    "start_time": "2021-07-02T12:45:30.576Z"
   },
   {
    "duration": 876,
    "start_time": "2021-07-02T12:45:30.608Z"
   },
   {
    "duration": 434,
    "start_time": "2021-07-02T12:45:31.056Z"
   },
   {
    "duration": 430,
    "start_time": "2021-07-02T12:45:31.061Z"
   },
   {
    "duration": 425,
    "start_time": "2021-07-02T12:45:31.068Z"
   },
   {
    "duration": 417,
    "start_time": "2021-07-02T12:45:31.077Z"
   },
   {
    "duration": 360,
    "start_time": "2021-07-02T12:45:31.135Z"
   },
   {
    "duration": 352,
    "start_time": "2021-07-02T12:45:31.145Z"
   },
   {
    "duration": 347,
    "start_time": "2021-07-02T12:45:31.151Z"
   },
   {
    "duration": 280,
    "start_time": "2021-07-02T12:45:31.219Z"
   },
   {
    "duration": 277,
    "start_time": "2021-07-02T12:45:31.224Z"
   },
   {
    "duration": 273,
    "start_time": "2021-07-02T12:45:31.229Z"
   },
   {
    "duration": 263,
    "start_time": "2021-07-02T12:45:31.240Z"
   },
   {
    "duration": 259,
    "start_time": "2021-07-02T12:45:31.246Z"
   },
   {
    "duration": 250,
    "start_time": "2021-07-02T12:45:31.256Z"
   },
   {
    "duration": 245,
    "start_time": "2021-07-02T12:45:31.262Z"
   },
   {
    "duration": 236,
    "start_time": "2021-07-02T12:45:31.273Z"
   },
   {
    "duration": 231,
    "start_time": "2021-07-02T12:45:31.279Z"
   },
   {
    "duration": 227,
    "start_time": "2021-07-02T12:45:31.284Z"
   },
   {
    "duration": 218,
    "start_time": "2021-07-02T12:45:31.294Z"
   },
   {
    "duration": 214,
    "start_time": "2021-07-02T12:45:31.300Z"
   },
   {
    "duration": 207,
    "start_time": "2021-07-02T12:45:31.308Z"
   },
   {
    "duration": 203,
    "start_time": "2021-07-02T12:45:31.314Z"
   },
   {
    "duration": 194,
    "start_time": "2021-07-02T12:45:31.324Z"
   },
   {
    "duration": 190,
    "start_time": "2021-07-02T12:45:31.329Z"
   },
   {
    "duration": 181,
    "start_time": "2021-07-02T12:45:31.339Z"
   },
   {
    "duration": 177,
    "start_time": "2021-07-02T12:45:31.345Z"
   },
   {
    "duration": 174,
    "start_time": "2021-07-02T12:45:31.350Z"
   },
   {
    "duration": 165,
    "start_time": "2021-07-02T12:45:31.360Z"
   },
   {
    "duration": 113,
    "start_time": "2021-07-02T12:45:31.414Z"
   },
   {
    "duration": 105,
    "start_time": "2021-07-02T12:45:31.423Z"
   },
   {
    "duration": 100,
    "start_time": "2021-07-02T12:45:31.429Z"
   },
   {
    "duration": 128,
    "start_time": "2021-07-02T12:45:31.439Z"
   },
   {
    "duration": 125,
    "start_time": "2021-07-02T12:45:31.444Z"
   },
   {
    "duration": 121,
    "start_time": "2021-07-02T12:45:31.450Z"
   },
   {
    "duration": 113,
    "start_time": "2021-07-02T12:45:31.460Z"
   },
   {
    "duration": 110,
    "start_time": "2021-07-02T12:45:31.465Z"
   },
   {
    "duration": 101,
    "start_time": "2021-07-02T12:45:31.475Z"
   },
   {
    "duration": 98,
    "start_time": "2021-07-02T12:45:31.480Z"
   },
   {
    "duration": 90,
    "start_time": "2021-07-02T12:45:31.489Z"
   },
   {
    "duration": 87,
    "start_time": "2021-07-02T12:45:31.494Z"
   },
   {
    "duration": 81,
    "start_time": "2021-07-02T12:45:31.502Z"
   },
   {
    "duration": 71,
    "start_time": "2021-07-02T12:45:31.513Z"
   },
   {
    "duration": 64,
    "start_time": "2021-07-02T12:45:31.522Z"
   },
   {
    "duration": 59,
    "start_time": "2021-07-02T12:45:31.528Z"
   },
   {
    "duration": 53,
    "start_time": "2021-07-02T12:45:31.534Z"
   },
   {
    "duration": 46,
    "start_time": "2021-07-02T12:45:31.542Z"
   },
   {
    "duration": 42,
    "start_time": "2021-07-02T12:45:31.547Z"
   },
   {
    "duration": 35,
    "start_time": "2021-07-02T12:45:31.556Z"
   },
   {
    "duration": 33,
    "start_time": "2021-07-02T12:45:31.561Z"
   },
   {
    "duration": 29,
    "start_time": "2021-07-02T12:45:31.567Z"
   },
   {
    "duration": 22,
    "start_time": "2021-07-02T12:45:31.575Z"
   },
   {
    "duration": 18,
    "start_time": "2021-07-02T12:45:31.581Z"
   },
   {
    "duration": 11,
    "start_time": "2021-07-02T12:45:31.590Z"
   },
   {
    "duration": 7,
    "start_time": "2021-07-02T12:45:31.595Z"
   },
   {
    "duration": 4,
    "start_time": "2021-07-02T12:45:31.600Z"
   },
   {
    "duration": -2,
    "start_time": "2021-07-02T12:45:31.608Z"
   },
   {
    "duration": 52,
    "start_time": "2021-07-02T12:45:31.615Z"
   },
   {
    "duration": 45,
    "start_time": "2021-07-02T12:45:31.624Z"
   },
   {
    "duration": 41,
    "start_time": "2021-07-02T12:45:31.630Z"
   },
   {
    "duration": 34,
    "start_time": "2021-07-02T12:45:31.638Z"
   },
   {
    "duration": 31,
    "start_time": "2021-07-02T12:45:31.643Z"
   },
   {
    "duration": 27,
    "start_time": "2021-07-02T12:45:31.648Z"
   },
   {
    "duration": 20,
    "start_time": "2021-07-02T12:45:31.657Z"
   },
   {
    "duration": 15,
    "start_time": "2021-07-02T12:45:31.663Z"
   },
   {
    "duration": 7,
    "start_time": "2021-07-02T12:45:31.672Z"
   },
   {
    "duration": 3,
    "start_time": "2021-07-02T12:45:31.678Z"
   },
   {
    "duration": -8,
    "start_time": "2021-07-02T12:45:31.690Z"
   },
   {
    "duration": -11,
    "start_time": "2021-07-02T12:45:31.694Z"
   },
   {
    "duration": -16,
    "start_time": "2021-07-02T12:45:31.700Z"
   },
   {
    "duration": -25,
    "start_time": "2021-07-02T12:45:31.710Z"
   },
   {
    "duration": -30,
    "start_time": "2021-07-02T12:45:31.716Z"
   },
   {
    "duration": -38,
    "start_time": "2021-07-02T12:45:31.725Z"
   },
   {
    "duration": -43,
    "start_time": "2021-07-02T12:45:31.732Z"
   },
   {
    "duration": -53,
    "start_time": "2021-07-02T12:45:31.743Z"
   },
   {
    "duration": -57,
    "start_time": "2021-07-02T12:45:31.749Z"
   },
   {
    "duration": -65,
    "start_time": "2021-07-02T12:45:31.758Z"
   },
   {
    "duration": -69,
    "start_time": "2021-07-02T12:45:31.764Z"
   },
   {
    "duration": -93,
    "start_time": "2021-07-02T12:45:31.789Z"
   },
   {
    "duration": -97,
    "start_time": "2021-07-02T12:45:31.795Z"
   },
   {
    "duration": -101,
    "start_time": "2021-07-02T12:45:31.801Z"
   },
   {
    "duration": -111,
    "start_time": "2021-07-02T12:45:31.812Z"
   },
   {
    "duration": -115,
    "start_time": "2021-07-02T12:45:31.817Z"
   },
   {
    "duration": -126,
    "start_time": "2021-07-02T12:45:31.830Z"
   },
   {
    "duration": -135,
    "start_time": "2021-07-02T12:45:31.840Z"
   },
   {
    "duration": -140,
    "start_time": "2021-07-02T12:45:31.846Z"
   },
   {
    "duration": -148,
    "start_time": "2021-07-02T12:45:31.856Z"
   },
   {
    "duration": -153,
    "start_time": "2021-07-02T12:45:31.862Z"
   },
   {
    "duration": -159,
    "start_time": "2021-07-02T12:45:31.869Z"
   },
   {
    "duration": -167,
    "start_time": "2021-07-02T12:45:31.879Z"
   },
   {
    "duration": 497,
    "start_time": "2021-07-02T12:45:57.716Z"
   },
   {
    "duration": 1614,
    "start_time": "2021-07-02T12:46:12.247Z"
   },
   {
    "duration": 643,
    "start_time": "2021-07-02T12:46:13.864Z"
   },
   {
    "duration": 4,
    "start_time": "2021-07-02T12:46:14.510Z"
   },
   {
    "duration": 85,
    "start_time": "2021-07-02T12:46:14.517Z"
   },
   {
    "duration": 92,
    "start_time": "2021-07-02T12:46:14.604Z"
   },
   {
    "duration": 180,
    "start_time": "2021-07-02T12:46:14.698Z"
   },
   {
    "duration": 6,
    "start_time": "2021-07-02T12:46:14.881Z"
   },
   {
    "duration": 14,
    "start_time": "2021-07-02T12:46:14.891Z"
   },
   {
    "duration": 27,
    "start_time": "2021-07-02T12:46:14.907Z"
   },
   {
    "duration": 572,
    "start_time": "2021-07-02T12:46:14.937Z"
   },
   {
    "duration": 28,
    "start_time": "2021-07-02T12:46:15.511Z"
   },
   {
    "duration": 27,
    "start_time": "2021-07-02T12:46:15.542Z"
   },
   {
    "duration": 45,
    "start_time": "2021-07-02T12:46:15.573Z"
   },
   {
    "duration": 46,
    "start_time": "2021-07-02T12:46:15.621Z"
   },
   {
    "duration": 17,
    "start_time": "2021-07-02T12:46:15.670Z"
   },
   {
    "duration": 36,
    "start_time": "2021-07-02T12:46:15.689Z"
   },
   {
    "duration": 47,
    "start_time": "2021-07-02T12:46:15.727Z"
   },
   {
    "duration": 12,
    "start_time": "2021-07-02T12:46:15.777Z"
   },
   {
    "duration": 25,
    "start_time": "2021-07-02T12:46:15.792Z"
   },
   {
    "duration": 8,
    "start_time": "2021-07-02T12:46:15.820Z"
   },
   {
    "duration": 49,
    "start_time": "2021-07-02T12:46:15.831Z"
   },
   {
    "duration": 11,
    "start_time": "2021-07-02T12:46:15.883Z"
   },
   {
    "duration": 15,
    "start_time": "2021-07-02T12:46:15.901Z"
   },
   {
    "duration": 15,
    "start_time": "2021-07-02T12:46:15.921Z"
   },
   {
    "duration": 37,
    "start_time": "2021-07-02T12:46:15.968Z"
   },
   {
    "duration": 14,
    "start_time": "2021-07-02T12:46:16.007Z"
   },
   {
    "duration": 43,
    "start_time": "2021-07-02T12:46:16.024Z"
   },
   {
    "duration": 7,
    "start_time": "2021-07-02T12:46:16.070Z"
   },
   {
    "duration": 7,
    "start_time": "2021-07-02T12:46:16.080Z"
   },
   {
    "duration": 7,
    "start_time": "2021-07-02T12:46:16.090Z"
   },
   {
    "duration": 12,
    "start_time": "2021-07-02T12:46:16.099Z"
   },
   {
    "duration": 54,
    "start_time": "2021-07-02T12:46:16.114Z"
   },
   {
    "duration": 21,
    "start_time": "2021-07-02T12:46:16.170Z"
   },
   {
    "duration": 24,
    "start_time": "2021-07-02T12:46:16.193Z"
   },
   {
    "duration": 52,
    "start_time": "2021-07-02T12:46:16.219Z"
   },
   {
    "duration": 33,
    "start_time": "2021-07-02T12:46:16.274Z"
   },
   {
    "duration": 23,
    "start_time": "2021-07-02T12:46:16.309Z"
   },
   {
    "duration": 54,
    "start_time": "2021-07-02T12:46:16.335Z"
   },
   {
    "duration": 29,
    "start_time": "2021-07-02T12:46:16.391Z"
   },
   {
    "duration": 44,
    "start_time": "2021-07-02T12:46:16.423Z"
   },
   {
    "duration": 5,
    "start_time": "2021-07-02T12:46:16.471Z"
   },
   {
    "duration": 6,
    "start_time": "2021-07-02T12:46:16.479Z"
   },
   {
    "duration": 16,
    "start_time": "2021-07-02T12:46:16.487Z"
   },
   {
    "duration": 16,
    "start_time": "2021-07-02T12:46:16.506Z"
   },
   {
    "duration": 43,
    "start_time": "2021-07-02T12:46:16.524Z"
   },
   {
    "duration": 472,
    "start_time": "2021-07-02T12:46:16.571Z"
   },
   {
    "duration": 22,
    "start_time": "2021-07-02T12:46:17.046Z"
   },
   {
    "duration": 21,
    "start_time": "2021-07-02T12:46:17.072Z"
   },
   {
    "duration": 12,
    "start_time": "2021-07-02T12:46:17.096Z"
   },
   {
    "duration": 74,
    "start_time": "2021-07-02T12:46:17.111Z"
   },
   {
    "duration": 12,
    "start_time": "2021-07-02T12:46:17.187Z"
   },
   {
    "duration": 24,
    "start_time": "2021-07-02T12:46:17.201Z"
   },
   {
    "duration": 372721,
    "start_time": "2021-07-02T12:46:17.228Z"
   },
   {
    "duration": 43,
    "start_time": "2021-07-02T12:52:29.951Z"
   },
   {
    "duration": 2647,
    "start_time": "2021-07-02T12:52:29.996Z"
   },
   {
    "duration": 3021,
    "start_time": "2021-07-02T12:52:32.646Z"
   },
   {
    "duration": 105,
    "start_time": "2021-07-02T12:52:35.671Z"
   },
   {
    "duration": 6,
    "start_time": "2021-07-02T12:52:35.782Z"
   },
   {
    "duration": 107,
    "start_time": "2021-07-02T12:52:35.791Z"
   },
   {
    "duration": 5,
    "start_time": "2021-07-02T12:52:35.901Z"
   },
   {
    "duration": 16,
    "start_time": "2021-07-02T12:52:35.910Z"
   },
   {
    "duration": 802,
    "start_time": "2021-07-02T12:52:35.929Z"
   },
   {
    "duration": 49,
    "start_time": "2021-07-02T12:52:36.735Z"
   },
   {
    "duration": 28,
    "start_time": "2021-07-02T12:52:36.787Z"
   },
   {
    "duration": 127,
    "start_time": "2021-07-02T12:52:36.818Z"
   },
   {
    "duration": 5,
    "start_time": "2021-07-02T12:52:36.947Z"
   },
   {
    "duration": 101,
    "start_time": "2021-07-02T12:52:36.954Z"
   },
   {
    "duration": 6,
    "start_time": "2021-07-02T12:52:37.075Z"
   },
   {
    "duration": 31,
    "start_time": "2021-07-02T12:52:37.085Z"
   },
   {
    "duration": 574,
    "start_time": "2021-07-02T12:52:37.119Z"
   },
   {
    "duration": 25,
    "start_time": "2021-07-02T12:52:37.696Z"
   },
   {
    "duration": 60,
    "start_time": "2021-07-02T12:52:37.724Z"
   },
   {
    "duration": 105,
    "start_time": "2021-07-02T12:52:37.786Z"
   },
   {
    "duration": 5,
    "start_time": "2021-07-02T12:52:37.893Z"
   },
   {
    "duration": 108,
    "start_time": "2021-07-02T12:52:37.901Z"
   },
   {
    "duration": 5,
    "start_time": "2021-07-02T12:52:38.011Z"
   },
   {
    "duration": 17,
    "start_time": "2021-07-02T12:52:38.018Z"
   },
   {
    "duration": 633,
    "start_time": "2021-07-02T12:52:38.038Z"
   },
   {
    "duration": 34,
    "start_time": "2021-07-02T12:52:38.675Z"
   },
   {
    "duration": 59,
    "start_time": "2021-07-02T12:52:38.712Z"
   },
   {
    "duration": 107,
    "start_time": "2021-07-02T12:52:38.773Z"
   },
   {
    "duration": 5,
    "start_time": "2021-07-02T12:52:38.883Z"
   },
   {
    "duration": 111,
    "start_time": "2021-07-02T12:52:38.891Z"
   },
   {
    "duration": 6,
    "start_time": "2021-07-02T12:52:39.006Z"
   },
   {
    "duration": 25,
    "start_time": "2021-07-02T12:52:39.015Z"
   },
   {
    "duration": 945,
    "start_time": "2021-07-02T12:52:39.043Z"
   },
   {
    "duration": 10,
    "start_time": "2021-07-02T12:52:39.991Z"
   },
   {
    "duration": 62,
    "start_time": "2021-07-02T12:52:40.005Z"
   },
   {
    "duration": 20,
    "start_time": "2021-07-02T12:52:40.070Z"
   },
   {
    "duration": 17,
    "start_time": "2021-07-02T12:52:40.093Z"
   },
   {
    "duration": 74,
    "start_time": "2021-07-02T12:52:40.112Z"
   },
   {
    "duration": 118,
    "start_time": "2021-07-02T12:52:40.189Z"
   },
   {
    "duration": 5,
    "start_time": "2021-07-02T12:52:40.309Z"
   },
   {
    "duration": 115,
    "start_time": "2021-07-02T12:52:40.316Z"
   },
   {
    "duration": 5,
    "start_time": "2021-07-02T12:52:40.433Z"
   },
   {
    "duration": 36,
    "start_time": "2021-07-02T12:52:40.441Z"
   },
   {
    "duration": 623,
    "start_time": "2021-07-02T12:52:40.481Z"
   },
   {
    "duration": 7,
    "start_time": "2021-07-02T12:52:41.107Z"
   },
   {
    "duration": 9271,
    "start_time": "2021-07-02T12:55:14.492Z"
   },
   {
    "duration": 1029,
    "start_time": "2021-07-02T12:56:07.701Z"
   },
   {
    "duration": 1835,
    "start_time": "2021-07-02T12:56:28.732Z"
   },
   {
    "duration": 13018,
    "start_time": "2021-07-02T12:56:58.141Z"
   },
   {
    "duration": 1541,
    "start_time": "2021-07-02T12:57:18.854Z"
   },
   {
    "duration": 1218,
    "start_time": "2021-07-02T13:00:32.754Z"
   },
   {
    "duration": 1203,
    "start_time": "2021-07-02T13:01:05.475Z"
   },
   {
    "duration": 1906,
    "start_time": "2021-07-02T13:01:21.698Z"
   },
   {
    "duration": 1920,
    "start_time": "2021-07-02T13:01:37.378Z"
   },
   {
    "duration": 2665,
    "start_time": "2021-07-02T13:02:16.211Z"
   },
   {
    "duration": 3137,
    "start_time": "2021-07-02T13:04:19.686Z"
   },
   {
    "duration": 1777,
    "start_time": "2021-07-02T13:04:37.143Z"
   },
   {
    "duration": 1246,
    "start_time": "2021-07-02T13:04:49.396Z"
   },
   {
    "duration": 1369,
    "start_time": "2021-07-02T13:06:01.682Z"
   },
   {
    "duration": 1886,
    "start_time": "2021-07-02T13:06:18.720Z"
   },
   {
    "duration": 1262,
    "start_time": "2021-07-02T13:08:17.267Z"
   },
   {
    "duration": 2137,
    "start_time": "2021-07-02T13:08:29.506Z"
   },
   {
    "duration": 1922,
    "start_time": "2021-07-02T13:09:37.819Z"
   },
   {
    "duration": 2068,
    "start_time": "2021-07-02T13:11:48.957Z"
   },
   {
    "duration": 2184,
    "start_time": "2021-07-02T13:12:09.029Z"
   },
   {
    "duration": 701,
    "start_time": "2021-07-02T13:12:34.927Z"
   },
   {
    "duration": 698,
    "start_time": "2021-07-02T13:12:52.663Z"
   },
   {
    "duration": 711,
    "start_time": "2021-07-02T13:13:55.777Z"
   },
   {
    "duration": 2273,
    "start_time": "2021-07-02T13:15:42.226Z"
   },
   {
    "duration": 2154,
    "start_time": "2021-07-02T13:16:02.675Z"
   },
   {
    "duration": 722,
    "start_time": "2021-07-02T13:18:58.805Z"
   },
   {
    "duration": 1035,
    "start_time": "2021-07-02T13:22:26.274Z"
   },
   {
    "duration": 2268,
    "start_time": "2021-07-02T13:22:34.337Z"
   },
   {
    "duration": 2322,
    "start_time": "2021-07-02T13:23:26.635Z"
   },
   {
    "duration": 2252,
    "start_time": "2021-07-02T13:25:49.012Z"
   },
   {
    "duration": 13,
    "start_time": "2021-07-02T13:31:39.786Z"
   },
   {
    "duration": 2197,
    "start_time": "2021-07-02T13:31:48.363Z"
   },
   {
    "duration": 2469,
    "start_time": "2021-07-02T13:32:51.478Z"
   },
   {
    "duration": 724,
    "start_time": "2021-07-02T13:33:12.372Z"
   },
   {
    "duration": 2955,
    "start_time": "2021-07-02T13:33:40.444Z"
   },
   {
    "duration": 2839,
    "start_time": "2021-07-02T13:35:56.039Z"
   },
   {
    "duration": 3009,
    "start_time": "2021-07-02T13:36:37.800Z"
   },
   {
    "duration": 8783,
    "start_time": "2021-07-02T14:14:55.165Z"
   },
   {
    "duration": 9866,
    "start_time": "2021-07-02T14:15:37.327Z"
   },
   {
    "duration": 3543,
    "start_time": "2021-07-02T14:16:27.181Z"
   },
   {
    "duration": 2977,
    "start_time": "2021-07-02T14:16:46.221Z"
   },
   {
    "duration": 2916,
    "start_time": "2021-07-02T14:17:29.855Z"
   },
   {
    "duration": 3141,
    "start_time": "2021-07-02T14:18:12.284Z"
   },
   {
    "duration": 2871,
    "start_time": "2021-07-02T14:18:19.430Z"
   },
   {
    "duration": 2781,
    "start_time": "2021-07-02T14:21:28.059Z"
   },
   {
    "duration": 4797,
    "start_time": "2021-07-02T14:32:30.148Z"
   },
   {
    "duration": 4514,
    "start_time": "2021-07-02T14:33:08.085Z"
   },
   {
    "duration": 5034,
    "start_time": "2021-07-02T14:33:33.438Z"
   },
   {
    "duration": 4987,
    "start_time": "2021-07-02T14:35:38.400Z"
   },
   {
    "duration": 5144,
    "start_time": "2021-07-02T14:36:09.743Z"
   },
   {
    "duration": 5206,
    "start_time": "2021-07-02T14:36:42.728Z"
   },
   {
    "duration": 1319,
    "start_time": "2021-07-02T14:36:53.760Z"
   },
   {
    "duration": 5111,
    "start_time": "2021-07-02T14:37:11.864Z"
   },
   {
    "duration": 5228,
    "start_time": "2021-07-02T16:20:09.911Z"
   },
   {
    "duration": 5200,
    "start_time": "2021-07-02T16:20:20.318Z"
   },
   {
    "duration": 5340,
    "start_time": "2021-07-02T16:20:49.767Z"
   },
   {
    "duration": 4941,
    "start_time": "2021-07-02T16:23:43.332Z"
   },
   {
    "duration": 5254,
    "start_time": "2021-07-02T16:24:54.875Z"
   },
   {
    "duration": 5345,
    "start_time": "2021-07-02T16:25:18.379Z"
   },
   {
    "duration": 5491,
    "start_time": "2021-07-02T16:25:56.587Z"
   },
   {
    "duration": 1051,
    "start_time": "2021-07-02T16:26:22.252Z"
   },
   {
    "duration": 5330,
    "start_time": "2021-07-02T16:26:45.213Z"
   },
   {
    "duration": 644,
    "start_time": "2021-07-02T16:31:26.040Z"
   },
   {
    "duration": 640,
    "start_time": "2021-07-02T16:31:43.353Z"
   },
   {
    "duration": 722,
    "start_time": "2021-07-02T16:32:49.735Z"
   },
   {
    "duration": 575,
    "start_time": "2021-07-02T16:33:00.962Z"
   },
   {
    "duration": 427,
    "start_time": "2021-07-02T16:33:13.570Z"
   },
   {
    "duration": 465,
    "start_time": "2021-07-02T16:34:06.291Z"
   },
   {
    "duration": 490,
    "start_time": "2021-07-02T16:34:18.627Z"
   },
   {
    "duration": 674,
    "start_time": "2021-07-02T16:34:55.379Z"
   },
   {
    "duration": 440,
    "start_time": "2021-07-02T16:35:14.291Z"
   },
   {
    "duration": 574,
    "start_time": "2021-07-02T16:41:22.842Z"
   },
   {
    "duration": 306,
    "start_time": "2021-07-02T16:42:41.133Z"
   },
   {
    "duration": 655,
    "start_time": "2021-07-02T16:42:49.163Z"
   },
   {
    "duration": 14,
    "start_time": "2021-07-02T16:44:35.765Z"
   },
   {
    "duration": 6,
    "start_time": "2021-07-02T16:45:25.148Z"
   },
   {
    "duration": 604,
    "start_time": "2021-07-02T16:46:40.263Z"
   },
   {
    "duration": 577,
    "start_time": "2021-07-02T16:47:48.080Z"
   },
   {
    "duration": 101,
    "start_time": "2021-07-02T16:49:36.027Z"
   },
   {
    "duration": 535,
    "start_time": "2021-07-02T16:50:21.060Z"
   },
   {
    "duration": 762,
    "start_time": "2021-07-02T16:51:26.269Z"
   },
   {
    "duration": 594,
    "start_time": "2021-07-02T16:54:15.887Z"
   },
   {
    "duration": 336,
    "start_time": "2021-07-02T16:55:37.713Z"
   },
   {
    "duration": 745,
    "start_time": "2021-07-02T16:56:06.097Z"
   },
   {
    "duration": 515,
    "start_time": "2021-07-02T17:03:03.072Z"
   },
   {
    "duration": 397,
    "start_time": "2021-07-02T17:03:31.849Z"
   },
   {
    "duration": 617,
    "start_time": "2021-07-02T17:04:50.737Z"
   },
   {
    "duration": 621,
    "start_time": "2021-07-02T17:05:27.935Z"
   },
   {
    "duration": 590,
    "start_time": "2021-07-02T17:14:19.754Z"
   },
   {
    "duration": 119,
    "start_time": "2021-07-02T17:16:59.045Z"
   },
   {
    "duration": 597,
    "start_time": "2021-07-02T17:17:14.886Z"
   },
   {
    "duration": 627,
    "start_time": "2021-07-02T17:18:03.006Z"
   },
   {
    "duration": 598,
    "start_time": "2021-07-02T17:22:00.314Z"
   },
   {
    "duration": 632,
    "start_time": "2021-07-02T17:22:58.235Z"
   },
   {
    "duration": 631,
    "start_time": "2021-07-02T17:23:13.836Z"
   },
   {
    "duration": 630,
    "start_time": "2021-07-02T17:23:32.421Z"
   },
   {
    "duration": 833,
    "start_time": "2021-07-02T17:24:16.469Z"
   },
   {
    "duration": 705,
    "start_time": "2021-07-02T17:26:41.648Z"
   },
   {
    "duration": 626,
    "start_time": "2021-07-02T17:27:18.359Z"
   },
   {
    "duration": 117,
    "start_time": "2021-07-02T17:28:05.025Z"
   },
   {
    "duration": 664,
    "start_time": "2021-07-02T17:28:16.903Z"
   },
   {
    "duration": 699,
    "start_time": "2021-07-02T17:28:39.593Z"
   },
   {
    "duration": 612,
    "start_time": "2021-07-02T17:30:10.002Z"
   },
   {
    "duration": 620,
    "start_time": "2021-07-02T17:31:24.419Z"
   },
   {
    "duration": 647,
    "start_time": "2021-07-02T17:32:51.173Z"
   },
   {
    "duration": 14,
    "start_time": "2021-07-02T18:37:24.236Z"
   },
   {
    "duration": 677,
    "start_time": "2021-07-02T18:38:33.779Z"
   },
   {
    "duration": 484,
    "start_time": "2021-07-02T18:39:12.234Z"
   },
   {
    "duration": 302,
    "start_time": "2021-07-02T18:41:41.726Z"
   },
   {
    "duration": 389,
    "start_time": "2021-07-02T18:45:40.026Z"
   },
   {
    "duration": 632,
    "start_time": "2021-07-02T18:49:08.663Z"
   },
   {
    "duration": 641,
    "start_time": "2021-07-02T18:49:40.152Z"
   },
   {
    "duration": 17,
    "start_time": "2021-07-02T18:52:33.862Z"
   },
   {
    "duration": 117,
    "start_time": "2021-07-02T18:54:55.636Z"
   },
   {
    "duration": 620,
    "start_time": "2021-07-02T18:55:22.125Z"
   },
   {
    "duration": 9,
    "start_time": "2021-07-02T18:57:41.917Z"
   },
   {
    "duration": 8,
    "start_time": "2021-07-02T18:58:41.813Z"
   },
   {
    "duration": 90,
    "start_time": "2021-07-02T18:59:04.982Z"
   },
   {
    "duration": 92,
    "start_time": "2021-07-02T18:59:32.856Z"
   },
   {
    "duration": 5,
    "start_time": "2021-07-02T18:59:45.809Z"
   },
   {
    "duration": 7,
    "start_time": "2021-07-02T18:59:47.222Z"
   },
   {
    "duration": 10,
    "start_time": "2021-07-02T18:59:50.439Z"
   },
   {
    "duration": 15,
    "start_time": "2021-07-02T19:00:00.239Z"
   },
   {
    "duration": 617,
    "start_time": "2021-07-02T19:00:03.531Z"
   },
   {
    "duration": 94,
    "start_time": "2021-07-02T19:01:29.257Z"
   },
   {
    "duration": 5,
    "start_time": "2021-07-02T19:01:34.152Z"
   },
   {
    "duration": 90,
    "start_time": "2021-07-02T19:01:36.145Z"
   },
   {
    "duration": 93,
    "start_time": "2021-07-02T19:01:41.921Z"
   },
   {
    "duration": 101,
    "start_time": "2021-07-02T19:01:47.849Z"
   },
   {
    "duration": 5,
    "start_time": "2021-07-02T19:01:50.593Z"
   },
   {
    "duration": 15,
    "start_time": "2021-07-02T19:01:54.288Z"
   },
   {
    "duration": 8187,
    "start_time": "2021-07-02T19:01:57.548Z"
   },
   {
    "duration": 625,
    "start_time": "2021-07-02T19:05:08.134Z"
   },
   {
    "duration": 92,
    "start_time": "2021-07-02T19:05:56.700Z"
   },
   {
    "duration": 6,
    "start_time": "2021-07-02T19:06:01.484Z"
   },
   {
    "duration": 98,
    "start_time": "2021-07-02T19:06:03.757Z"
   },
   {
    "duration": 6,
    "start_time": "2021-07-02T19:06:08.979Z"
   },
   {
    "duration": 16,
    "start_time": "2021-07-02T19:06:14.500Z"
   },
   {
    "duration": 641,
    "start_time": "2021-07-02T19:06:25.344Z"
   },
   {
    "duration": 23,
    "start_time": "2021-07-02T19:09:29.690Z"
   },
   {
    "duration": 93,
    "start_time": "2021-07-02T19:26:37.835Z"
   },
   {
    "duration": 109,
    "start_time": "2021-07-02T19:27:16.563Z"
   },
   {
    "duration": 5,
    "start_time": "2021-07-02T19:27:19.538Z"
   },
   {
    "duration": 91,
    "start_time": "2021-07-02T19:27:21.427Z"
   },
   {
    "duration": 98,
    "start_time": "2021-07-02T19:28:07.189Z"
   },
   {
    "duration": 5,
    "start_time": "2021-07-02T19:28:22.299Z"
   },
   {
    "duration": 92,
    "start_time": "2021-07-02T19:28:24.388Z"
   },
   {
    "duration": 93,
    "start_time": "2021-07-02T19:29:45.895Z"
   },
   {
    "duration": 14,
    "start_time": "2021-07-02T19:36:31.932Z"
   },
   {
    "duration": 13,
    "start_time": "2021-07-02T19:37:20.948Z"
   },
   {
    "duration": 14,
    "start_time": "2021-07-02T19:37:32.411Z"
   },
   {
    "duration": 624,
    "start_time": "2021-07-02T19:38:50.151Z"
   },
   {
    "duration": 11,
    "start_time": "2021-07-02T19:41:28.118Z"
   },
   {
    "duration": 10,
    "start_time": "2021-07-02T19:41:47.399Z"
   },
   {
    "duration": 7,
    "start_time": "2021-07-02T19:43:16.634Z"
   },
   {
    "duration": 11,
    "start_time": "2021-07-02T19:43:17.961Z"
   },
   {
    "duration": 15,
    "start_time": "2021-07-02T19:43:24.841Z"
   },
   {
    "duration": 610,
    "start_time": "2021-07-02T19:43:29.691Z"
   },
   {
    "duration": 8,
    "start_time": "2021-07-02T19:43:49.762Z"
   },
   {
    "duration": 13,
    "start_time": "2021-07-02T19:50:02.920Z"
   },
   {
    "duration": 7815,
    "start_time": "2021-07-02T19:50:05.607Z"
   },
   {
    "duration": 42,
    "start_time": "2021-07-02T19:50:30.570Z"
   },
   {
    "duration": 1613,
    "start_time": "2021-07-02T19:51:03.834Z"
   },
   {
    "duration": 631,
    "start_time": "2021-07-02T19:51:05.449Z"
   },
   {
    "duration": 4,
    "start_time": "2021-07-02T19:51:06.083Z"
   },
   {
    "duration": 64,
    "start_time": "2021-07-02T19:51:06.090Z"
   },
   {
    "duration": 111,
    "start_time": "2021-07-02T19:51:06.156Z"
   },
   {
    "duration": 126,
    "start_time": "2021-07-02T19:51:06.271Z"
   },
   {
    "duration": 3,
    "start_time": "2021-07-02T19:51:06.400Z"
   },
   {
    "duration": 9,
    "start_time": "2021-07-02T19:51:06.407Z"
   },
   {
    "duration": 54,
    "start_time": "2021-07-02T19:51:06.419Z"
   },
   {
    "duration": 514,
    "start_time": "2021-07-02T19:51:06.476Z"
   },
   {
    "duration": 24,
    "start_time": "2021-07-02T19:51:06.993Z"
   },
   {
    "duration": 14,
    "start_time": "2021-07-02T19:51:07.020Z"
   },
   {
    "duration": 46,
    "start_time": "2021-07-02T19:51:07.068Z"
   },
   {
    "duration": 20,
    "start_time": "2021-07-02T19:51:07.117Z"
   },
   {
    "duration": 16,
    "start_time": "2021-07-02T19:51:07.168Z"
   },
   {
    "duration": 34,
    "start_time": "2021-07-02T19:51:07.187Z"
   },
   {
    "duration": 16,
    "start_time": "2021-07-02T19:51:07.223Z"
   },
   {
    "duration": 37,
    "start_time": "2021-07-02T19:51:07.241Z"
   },
   {
    "duration": 26,
    "start_time": "2021-07-02T19:51:07.281Z"
   },
   {
    "duration": 8,
    "start_time": "2021-07-02T19:51:07.309Z"
   },
   {
    "duration": 50,
    "start_time": "2021-07-02T19:51:07.319Z"
   },
   {
    "duration": 18,
    "start_time": "2021-07-02T19:51:07.373Z"
   },
   {
    "duration": 17,
    "start_time": "2021-07-02T19:51:07.397Z"
   },
   {
    "duration": 9,
    "start_time": "2021-07-02T19:51:07.419Z"
   },
   {
    "duration": 68,
    "start_time": "2021-07-02T19:51:07.431Z"
   },
   {
    "duration": 13,
    "start_time": "2021-07-02T19:51:07.502Z"
   },
   {
    "duration": 14,
    "start_time": "2021-07-02T19:51:07.518Z"
   },
   {
    "duration": 32,
    "start_time": "2021-07-02T19:51:07.535Z"
   },
   {
    "duration": 7,
    "start_time": "2021-07-02T19:51:07.571Z"
   },
   {
    "duration": 7,
    "start_time": "2021-07-02T19:51:07.581Z"
   },
   {
    "duration": 18,
    "start_time": "2021-07-02T19:51:07.591Z"
   },
   {
    "duration": 11,
    "start_time": "2021-07-02T19:51:07.612Z"
   },
   {
    "duration": 59,
    "start_time": "2021-07-02T19:51:07.626Z"
   },
   {
    "duration": 29,
    "start_time": "2021-07-02T19:51:07.688Z"
   },
   {
    "duration": 15,
    "start_time": "2021-07-02T19:51:07.720Z"
   },
   {
    "duration": 65,
    "start_time": "2021-07-02T19:51:07.737Z"
   },
   {
    "duration": 26,
    "start_time": "2021-07-02T19:51:07.804Z"
   },
   {
    "duration": 41,
    "start_time": "2021-07-02T19:51:07.833Z"
   },
   {
    "duration": 28,
    "start_time": "2021-07-02T19:51:07.877Z"
   },
   {
    "duration": 14,
    "start_time": "2021-07-02T19:51:07.908Z"
   },
   {
    "duration": 4,
    "start_time": "2021-07-02T19:51:07.925Z"
   },
   {
    "duration": 38,
    "start_time": "2021-07-02T19:51:07.932Z"
   },
   {
    "duration": 19,
    "start_time": "2021-07-02T19:51:07.972Z"
   },
   {
    "duration": 16,
    "start_time": "2021-07-02T19:51:07.993Z"
   },
   {
    "duration": 15,
    "start_time": "2021-07-02T19:51:08.012Z"
   },
   {
    "duration": 429,
    "start_time": "2021-07-02T19:51:08.029Z"
   },
   {
    "duration": 21,
    "start_time": "2021-07-02T19:51:08.460Z"
   },
   {
    "duration": 19,
    "start_time": "2021-07-02T19:51:08.484Z"
   },
   {
    "duration": 12,
    "start_time": "2021-07-02T19:51:08.505Z"
   },
   {
    "duration": 69,
    "start_time": "2021-07-02T19:51:08.520Z"
   },
   {
    "duration": 10,
    "start_time": "2021-07-02T19:51:08.592Z"
   },
   {
    "duration": 27,
    "start_time": "2021-07-02T19:51:08.605Z"
   },
   {
    "duration": 3052,
    "start_time": "2021-07-02T19:51:08.635Z"
   },
   {
    "duration": 38,
    "start_time": "2021-07-02T19:51:11.690Z"
   },
   {
    "duration": 1121,
    "start_time": "2021-07-02T19:51:11.731Z"
   },
   {
    "duration": 725,
    "start_time": "2021-07-02T19:51:12.131Z"
   },
   {
    "duration": 659,
    "start_time": "2021-07-02T19:51:12.198Z"
   },
   {
    "duration": 652,
    "start_time": "2021-07-02T19:51:12.206Z"
   },
   {
    "duration": 651,
    "start_time": "2021-07-02T19:51:12.216Z"
   },
   {
    "duration": 642,
    "start_time": "2021-07-02T19:51:12.226Z"
   },
   {
    "duration": 639,
    "start_time": "2021-07-02T19:51:12.231Z"
   },
   {
    "duration": 627,
    "start_time": "2021-07-02T19:51:12.244Z"
   },
   {
    "duration": 622,
    "start_time": "2021-07-02T19:51:12.251Z"
   },
   {
    "duration": 613,
    "start_time": "2021-07-02T19:51:12.262Z"
   },
   {
    "duration": 609,
    "start_time": "2021-07-02T19:51:12.268Z"
   },
   {
    "duration": 600,
    "start_time": "2021-07-02T19:51:12.279Z"
   },
   {
    "duration": 594,
    "start_time": "2021-07-02T19:51:12.286Z"
   },
   {
    "duration": 585,
    "start_time": "2021-07-02T19:51:12.297Z"
   },
   {
    "duration": 580,
    "start_time": "2021-07-02T19:51:12.304Z"
   },
   {
    "duration": 571,
    "start_time": "2021-07-02T19:51:12.314Z"
   },
   {
    "duration": 566,
    "start_time": "2021-07-02T19:51:12.321Z"
   },
   {
    "duration": 557,
    "start_time": "2021-07-02T19:51:12.332Z"
   },
   {
    "duration": 552,
    "start_time": "2021-07-02T19:51:12.339Z"
   },
   {
    "duration": 514,
    "start_time": "2021-07-02T19:51:12.378Z"
   },
   {
    "duration": 509,
    "start_time": "2021-07-02T19:51:12.385Z"
   },
   {
    "duration": 501,
    "start_time": "2021-07-02T19:51:12.394Z"
   },
   {
    "duration": 496,
    "start_time": "2021-07-02T19:51:12.400Z"
   },
   {
    "duration": 487,
    "start_time": "2021-07-02T19:51:12.410Z"
   },
   {
    "duration": 483,
    "start_time": "2021-07-02T19:51:12.416Z"
   },
   {
    "duration": 478,
    "start_time": "2021-07-02T19:51:12.422Z"
   },
   {
    "duration": 470,
    "start_time": "2021-07-02T19:51:12.432Z"
   },
   {
    "duration": 448,
    "start_time": "2021-07-02T19:51:12.455Z"
   },
   {
    "duration": 439,
    "start_time": "2021-07-02T19:51:12.466Z"
   },
   {
    "duration": 496,
    "start_time": "2021-07-02T19:51:12.471Z"
   },
   {
    "duration": 488,
    "start_time": "2021-07-02T19:51:12.481Z"
   },
   {
    "duration": 483,
    "start_time": "2021-07-02T19:51:12.488Z"
   },
   {
    "duration": 476,
    "start_time": "2021-07-02T19:51:12.497Z"
   },
   {
    "duration": 470,
    "start_time": "2021-07-02T19:51:12.505Z"
   },
   {
    "duration": 462,
    "start_time": "2021-07-02T19:51:12.515Z"
   },
   {
    "duration": 459,
    "start_time": "2021-07-02T19:51:12.520Z"
   },
   {
    "duration": 450,
    "start_time": "2021-07-02T19:51:12.531Z"
   },
   {
    "duration": 445,
    "start_time": "2021-07-02T19:51:12.538Z"
   },
   {
    "duration": 437,
    "start_time": "2021-07-02T19:51:12.548Z"
   },
   {
    "duration": 431,
    "start_time": "2021-07-02T19:51:12.555Z"
   },
   {
    "duration": 422,
    "start_time": "2021-07-02T19:51:12.566Z"
   },
   {
    "duration": 412,
    "start_time": "2021-07-02T19:51:12.577Z"
   },
   {
    "duration": 408,
    "start_time": "2021-07-02T19:51:12.582Z"
   },
   {
    "duration": 399,
    "start_time": "2021-07-02T19:51:12.593Z"
   },
   {
    "duration": 393,
    "start_time": "2021-07-02T19:51:12.600Z"
   },
   {
    "duration": 390,
    "start_time": "2021-07-02T19:51:12.605Z"
   },
   {
    "duration": 435,
    "start_time": "2021-07-02T19:52:20.764Z"
   },
   {
    "duration": 1608,
    "start_time": "2021-07-02T19:52:41.448Z"
   },
   {
    "duration": 690,
    "start_time": "2021-07-02T19:52:43.059Z"
   },
   {
    "duration": 4,
    "start_time": "2021-07-02T19:52:43.752Z"
   },
   {
    "duration": 71,
    "start_time": "2021-07-02T19:52:43.759Z"
   },
   {
    "duration": 81,
    "start_time": "2021-07-02T19:52:43.832Z"
   },
   {
    "duration": 160,
    "start_time": "2021-07-02T19:52:43.916Z"
   },
   {
    "duration": 5,
    "start_time": "2021-07-02T19:52:44.079Z"
   },
   {
    "duration": 7,
    "start_time": "2021-07-02T19:52:44.088Z"
   },
   {
    "duration": 23,
    "start_time": "2021-07-02T19:52:44.098Z"
   },
   {
    "duration": 546,
    "start_time": "2021-07-02T19:52:44.123Z"
   },
   {
    "duration": 24,
    "start_time": "2021-07-02T19:52:44.671Z"
   },
   {
    "duration": 12,
    "start_time": "2021-07-02T19:52:44.697Z"
   },
   {
    "duration": 76,
    "start_time": "2021-07-02T19:52:44.712Z"
   },
   {
    "duration": 19,
    "start_time": "2021-07-02T19:52:44.791Z"
   },
   {
    "duration": 11,
    "start_time": "2021-07-02T19:52:44.812Z"
   },
   {
    "duration": 65,
    "start_time": "2021-07-02T19:52:44.825Z"
   },
   {
    "duration": 16,
    "start_time": "2021-07-02T19:52:44.893Z"
   },
   {
    "duration": 10,
    "start_time": "2021-07-02T19:52:44.911Z"
   },
   {
    "duration": 55,
    "start_time": "2021-07-02T19:52:44.924Z"
   },
   {
    "duration": 8,
    "start_time": "2021-07-02T19:52:44.982Z"
   },
   {
    "duration": 17,
    "start_time": "2021-07-02T19:52:44.992Z"
   },
   {
    "duration": 16,
    "start_time": "2021-07-02T19:52:45.012Z"
   },
   {
    "duration": 47,
    "start_time": "2021-07-02T19:52:45.035Z"
   },
   {
    "duration": 11,
    "start_time": "2021-07-02T19:52:45.086Z"
   },
   {
    "duration": 36,
    "start_time": "2021-07-02T19:52:45.100Z"
   },
   {
    "duration": 37,
    "start_time": "2021-07-02T19:52:45.139Z"
   },
   {
    "duration": 18,
    "start_time": "2021-07-02T19:52:45.179Z"
   },
   {
    "duration": 6,
    "start_time": "2021-07-02T19:52:45.199Z"
   },
   {
    "duration": 7,
    "start_time": "2021-07-02T19:52:45.208Z"
   },
   {
    "duration": 14,
    "start_time": "2021-07-02T19:52:45.217Z"
   },
   {
    "duration": 16,
    "start_time": "2021-07-02T19:52:45.268Z"
   },
   {
    "duration": 10,
    "start_time": "2021-07-02T19:52:45.286Z"
   },
   {
    "duration": 21,
    "start_time": "2021-07-02T19:52:45.299Z"
   },
   {
    "duration": 70,
    "start_time": "2021-07-02T19:52:45.322Z"
   },
   {
    "duration": 19,
    "start_time": "2021-07-02T19:52:45.394Z"
   },
   {
    "duration": 60,
    "start_time": "2021-07-02T19:52:45.415Z"
   },
   {
    "duration": 27,
    "start_time": "2021-07-02T19:52:45.478Z"
   },
   {
    "duration": 20,
    "start_time": "2021-07-02T19:52:45.507Z"
   },
   {
    "duration": 63,
    "start_time": "2021-07-02T19:52:45.529Z"
   },
   {
    "duration": 16,
    "start_time": "2021-07-02T19:52:45.594Z"
   },
   {
    "duration": 4,
    "start_time": "2021-07-02T19:52:45.612Z"
   },
   {
    "duration": 8,
    "start_time": "2021-07-02T19:52:45.618Z"
   },
   {
    "duration": 38,
    "start_time": "2021-07-02T19:52:45.629Z"
   },
   {
    "duration": 25,
    "start_time": "2021-07-02T19:52:45.670Z"
   },
   {
    "duration": 9,
    "start_time": "2021-07-02T19:52:45.697Z"
   },
   {
    "duration": 433,
    "start_time": "2021-07-02T19:52:45.708Z"
   },
   {
    "duration": 23,
    "start_time": "2021-07-02T19:52:46.144Z"
   },
   {
    "duration": 21,
    "start_time": "2021-07-02T19:52:46.170Z"
   },
   {
    "duration": 12,
    "start_time": "2021-07-02T19:52:46.193Z"
   },
   {
    "duration": 67,
    "start_time": "2021-07-02T19:52:46.207Z"
   },
   {
    "duration": 15,
    "start_time": "2021-07-02T19:52:46.277Z"
   },
   {
    "duration": 26,
    "start_time": "2021-07-02T19:52:46.295Z"
   },
   {
    "duration": 2962,
    "start_time": "2021-07-02T19:52:46.324Z"
   },
   {
    "duration": 38,
    "start_time": "2021-07-02T19:52:49.289Z"
   },
   {
    "duration": 513,
    "start_time": "2021-07-02T19:52:49.329Z"
   },
   {
    "duration": 2863,
    "start_time": "2021-07-02T19:52:49.845Z"
   },
   {
    "duration": 2905,
    "start_time": "2021-07-02T19:52:52.710Z"
   },
   {
    "duration": 5188,
    "start_time": "2021-07-02T19:52:55.617Z"
   },
   {
    "duration": 112,
    "start_time": "2021-07-02T19:53:00.807Z"
   },
   {
    "duration": 5,
    "start_time": "2021-07-02T19:53:00.921Z"
   },
   {
    "duration": 105,
    "start_time": "2021-07-02T19:53:00.928Z"
   },
   {
    "duration": 5,
    "start_time": "2021-07-02T19:53:01.036Z"
   },
   {
    "duration": 34,
    "start_time": "2021-07-02T19:53:01.043Z"
   },
   {
    "duration": 659,
    "start_time": "2021-07-02T19:53:01.080Z"
   },
   {
    "duration": 38,
    "start_time": "2021-07-02T19:53:01.742Z"
   },
   {
    "duration": 22,
    "start_time": "2021-07-02T19:53:01.783Z"
   },
   {
    "duration": 117,
    "start_time": "2021-07-02T19:53:01.807Z"
   },
   {
    "duration": 5,
    "start_time": "2021-07-02T19:53:01.934Z"
   },
   {
    "duration": 108,
    "start_time": "2021-07-02T19:53:01.942Z"
   },
   {
    "duration": 14,
    "start_time": "2021-07-02T19:53:02.053Z"
   },
   {
    "duration": 18,
    "start_time": "2021-07-02T19:53:02.071Z"
   },
   {
    "duration": 643,
    "start_time": "2021-07-02T19:53:02.092Z"
   },
   {
    "duration": 36,
    "start_time": "2021-07-02T19:53:02.737Z"
   },
   {
    "duration": 31,
    "start_time": "2021-07-02T19:53:02.776Z"
   },
   {
    "duration": 107,
    "start_time": "2021-07-02T19:53:02.810Z"
   },
   {
    "duration": 5,
    "start_time": "2021-07-02T19:53:02.919Z"
   },
   {
    "duration": 117,
    "start_time": "2021-07-02T19:53:02.926Z"
   },
   {
    "duration": 5,
    "start_time": "2021-07-02T19:53:03.045Z"
   },
   {
    "duration": 44,
    "start_time": "2021-07-02T19:53:03.052Z"
   },
   {
    "duration": 649,
    "start_time": "2021-07-02T19:53:03.098Z"
   },
   {
    "duration": 42,
    "start_time": "2021-07-02T19:53:03.749Z"
   },
   {
    "duration": 22,
    "start_time": "2021-07-02T19:53:03.793Z"
   },
   {
    "duration": 221,
    "start_time": "2021-07-02T19:53:03.817Z"
   },
   {
    "duration": 5,
    "start_time": "2021-07-02T19:53:04.040Z"
   },
   {
    "duration": 105,
    "start_time": "2021-07-02T19:53:04.047Z"
   },
   {
    "duration": 13,
    "start_time": "2021-07-02T19:53:04.154Z"
   },
   {
    "duration": 47,
    "start_time": "2021-07-02T19:53:04.169Z"
   },
   {
    "duration": 638,
    "start_time": "2021-07-02T19:53:04.219Z"
   },
   {
    "duration": 13,
    "start_time": "2021-07-02T19:53:04.860Z"
   },
   {
    "duration": 20,
    "start_time": "2021-07-02T19:53:04.876Z"
   },
   {
    "duration": 47,
    "start_time": "2021-07-02T19:53:04.898Z"
   },
   {
    "duration": 20,
    "start_time": "2021-07-02T19:53:04.967Z"
   },
   {
    "duration": 39,
    "start_time": "2021-07-02T19:53:04.989Z"
   },
   {
    "duration": 114,
    "start_time": "2021-07-02T19:53:05.031Z"
   },
   {
    "duration": 6,
    "start_time": "2021-07-02T19:53:05.148Z"
   },
   {
    "duration": 109,
    "start_time": "2021-07-02T19:53:05.168Z"
   },
   {
    "duration": 5,
    "start_time": "2021-07-02T19:53:05.279Z"
   },
   {
    "duration": 18,
    "start_time": "2021-07-02T19:53:05.287Z"
   },
   {
    "duration": 601,
    "start_time": "2021-07-02T19:53:05.307Z"
   },
   {
    "duration": 7,
    "start_time": "2021-07-02T19:53:05.911Z"
   },
   {
    "duration": 465,
    "start_time": "2021-07-02T19:59:11.168Z"
   },
   {
    "duration": 93,
    "start_time": "2021-07-02T20:01:28.276Z"
   },
   {
    "duration": 100,
    "start_time": "2021-07-02T20:01:41.389Z"
   },
   {
    "duration": 101,
    "start_time": "2021-07-02T20:05:09.472Z"
   },
   {
    "duration": 121,
    "start_time": "2021-07-02T20:05:19.344Z"
   },
   {
    "duration": 621,
    "start_time": "2021-07-02T20:05:47.777Z"
   },
   {
    "duration": 1574,
    "start_time": "2021-07-02T20:47:58.777Z"
   },
   {
    "duration": 638,
    "start_time": "2021-07-02T20:48:00.353Z"
   },
   {
    "duration": 4,
    "start_time": "2021-07-02T20:48:00.994Z"
   },
   {
    "duration": 77,
    "start_time": "2021-07-02T20:48:01.000Z"
   },
   {
    "duration": 91,
    "start_time": "2021-07-02T20:48:01.080Z"
   },
   {
    "duration": 134,
    "start_time": "2021-07-02T20:48:01.174Z"
   },
   {
    "duration": 3,
    "start_time": "2021-07-02T20:48:01.311Z"
   },
   {
    "duration": 24,
    "start_time": "2021-07-02T20:48:01.318Z"
   },
   {
    "duration": 41,
    "start_time": "2021-07-02T20:48:01.345Z"
   },
   {
    "duration": 606,
    "start_time": "2021-07-02T20:48:01.389Z"
   },
   {
    "duration": 20,
    "start_time": "2021-07-02T20:48:01.998Z"
   },
   {
    "duration": 14,
    "start_time": "2021-07-02T20:48:02.020Z"
   },
   {
    "duration": 70,
    "start_time": "2021-07-02T20:48:02.036Z"
   },
   {
    "duration": 19,
    "start_time": "2021-07-02T20:48:02.108Z"
   },
   {
    "duration": 39,
    "start_time": "2021-07-02T20:48:02.130Z"
   },
   {
    "duration": 34,
    "start_time": "2021-07-02T20:48:02.172Z"
   },
   {
    "duration": 15,
    "start_time": "2021-07-02T20:48:02.209Z"
   },
   {
    "duration": 42,
    "start_time": "2021-07-02T20:48:02.226Z"
   },
   {
    "duration": 28,
    "start_time": "2021-07-02T20:48:02.270Z"
   },
   {
    "duration": 9,
    "start_time": "2021-07-02T20:48:02.300Z"
   },
   {
    "duration": 17,
    "start_time": "2021-07-02T20:48:02.311Z"
   },
   {
    "duration": 40,
    "start_time": "2021-07-02T20:48:02.331Z"
   },
   {
    "duration": 16,
    "start_time": "2021-07-02T20:48:02.378Z"
   },
   {
    "duration": 10,
    "start_time": "2021-07-02T20:48:02.398Z"
   },
   {
    "duration": 75,
    "start_time": "2021-07-02T20:48:02.411Z"
   },
   {
    "duration": 15,
    "start_time": "2021-07-02T20:48:02.488Z"
   },
   {
    "duration": 16,
    "start_time": "2021-07-02T20:48:02.506Z"
   },
   {
    "duration": 5,
    "start_time": "2021-07-02T20:48:02.525Z"
   },
   {
    "duration": 7,
    "start_time": "2021-07-02T20:48:02.568Z"
   },
   {
    "duration": 11,
    "start_time": "2021-07-02T20:48:02.577Z"
   },
   {
    "duration": 15,
    "start_time": "2021-07-02T20:48:02.591Z"
   },
   {
    "duration": 10,
    "start_time": "2021-07-02T20:48:02.608Z"
   },
   {
    "duration": 55,
    "start_time": "2021-07-02T20:48:02.620Z"
   },
   {
    "duration": 27,
    "start_time": "2021-07-02T20:48:02.678Z"
   },
   {
    "duration": 18,
    "start_time": "2021-07-02T20:48:02.707Z"
   },
   {
    "duration": 67,
    "start_time": "2021-07-02T20:48:02.728Z"
   },
   {
    "duration": 27,
    "start_time": "2021-07-02T20:48:02.799Z"
   },
   {
    "duration": 50,
    "start_time": "2021-07-02T20:48:02.828Z"
   },
   {
    "duration": 28,
    "start_time": "2021-07-02T20:48:02.881Z"
   },
   {
    "duration": 16,
    "start_time": "2021-07-02T20:48:02.911Z"
   },
   {
    "duration": 4,
    "start_time": "2021-07-02T20:48:02.929Z"
   },
   {
    "duration": 36,
    "start_time": "2021-07-02T20:48:02.935Z"
   },
   {
    "duration": 17,
    "start_time": "2021-07-02T20:48:02.974Z"
   },
   {
    "duration": 17,
    "start_time": "2021-07-02T20:48:02.994Z"
   },
   {
    "duration": 15,
    "start_time": "2021-07-02T20:48:03.013Z"
   },
   {
    "duration": 10,
    "start_time": "2021-07-02T20:48:03.031Z"
   },
   {
    "duration": 428,
    "start_time": "2021-07-02T20:48:03.044Z"
   },
   {
    "duration": 7,
    "start_time": "2021-07-02T20:48:03.474Z"
   },
   {
    "duration": 9,
    "start_time": "2021-07-02T20:48:03.483Z"
   },
   {
    "duration": 9,
    "start_time": "2021-07-02T20:48:03.494Z"
   },
   {
    "duration": 17,
    "start_time": "2021-07-02T20:48:03.505Z"
   },
   {
    "duration": 48,
    "start_time": "2021-07-02T20:48:03.525Z"
   },
   {
    "duration": 14,
    "start_time": "2021-07-02T20:48:03.577Z"
   },
   {
    "duration": 37,
    "start_time": "2021-07-02T20:48:03.593Z"
   },
   {
    "duration": 40,
    "start_time": "2021-07-02T20:48:03.632Z"
   },
   {
    "duration": 26,
    "start_time": "2021-07-02T20:48:03.676Z"
   },
   {
    "duration": 2937,
    "start_time": "2021-07-02T20:48:03.705Z"
   },
   {
    "duration": 53,
    "start_time": "2021-07-02T20:48:06.644Z"
   },
   {
    "duration": 430,
    "start_time": "2021-07-02T20:48:06.700Z"
   },
   {
    "duration": 2900,
    "start_time": "2021-07-02T20:48:07.133Z"
   },
   {
    "duration": 2842,
    "start_time": "2021-07-02T20:48:10.036Z"
   },
   {
    "duration": 5190,
    "start_time": "2021-07-02T20:48:12.882Z"
   },
   {
    "duration": 111,
    "start_time": "2021-07-02T20:48:18.076Z"
   },
   {
    "duration": 5,
    "start_time": "2021-07-02T20:48:18.189Z"
   },
   {
    "duration": 107,
    "start_time": "2021-07-02T20:48:18.196Z"
   },
   {
    "duration": 5,
    "start_time": "2021-07-02T20:48:18.306Z"
   },
   {
    "duration": 17,
    "start_time": "2021-07-02T20:48:18.313Z"
   },
   {
    "duration": 704,
    "start_time": "2021-07-02T20:48:18.339Z"
   },
   {
    "duration": 41,
    "start_time": "2021-07-02T20:48:19.047Z"
   },
   {
    "duration": 21,
    "start_time": "2021-07-02T20:48:19.090Z"
   },
   {
    "duration": 123,
    "start_time": "2021-07-02T20:48:19.113Z"
   },
   {
    "duration": 6,
    "start_time": "2021-07-02T20:48:19.239Z"
   },
   {
    "duration": 111,
    "start_time": "2021-07-02T20:48:19.248Z"
   },
   {
    "duration": 5,
    "start_time": "2021-07-02T20:48:19.368Z"
   },
   {
    "duration": 23,
    "start_time": "2021-07-02T20:48:19.376Z"
   },
   {
    "duration": 645,
    "start_time": "2021-07-02T20:48:19.401Z"
   },
   {
    "duration": 34,
    "start_time": "2021-07-02T20:48:20.048Z"
   },
   {
    "duration": 22,
    "start_time": "2021-07-02T20:48:20.085Z"
   },
   {
    "duration": 117,
    "start_time": "2021-07-02T20:48:20.109Z"
   },
   {
    "duration": 4,
    "start_time": "2021-07-02T20:48:20.228Z"
   },
   {
    "duration": 106,
    "start_time": "2021-07-02T20:48:20.234Z"
   },
   {
    "duration": 5,
    "start_time": "2021-07-02T20:48:20.343Z"
   },
   {
    "duration": 34,
    "start_time": "2021-07-02T20:48:20.350Z"
   },
   {
    "duration": 650,
    "start_time": "2021-07-02T20:48:20.386Z"
   },
   {
    "duration": 36,
    "start_time": "2021-07-02T20:48:21.038Z"
   },
   {
    "duration": 24,
    "start_time": "2021-07-02T20:48:21.078Z"
   },
   {
    "duration": 219,
    "start_time": "2021-07-02T20:48:21.104Z"
   },
   {
    "duration": 5,
    "start_time": "2021-07-02T20:48:21.326Z"
   },
   {
    "duration": 117,
    "start_time": "2021-07-02T20:48:21.334Z"
   },
   {
    "duration": 15,
    "start_time": "2021-07-02T20:48:21.454Z"
   },
   {
    "duration": 17,
    "start_time": "2021-07-02T20:48:21.471Z"
   },
   {
    "duration": 690,
    "start_time": "2021-07-02T20:48:21.490Z"
   },
   {
    "duration": 8,
    "start_time": "2021-07-02T20:48:22.182Z"
   },
   {
    "duration": 18,
    "start_time": "2021-07-02T20:48:22.192Z"
   },
   {
    "duration": 26,
    "start_time": "2021-07-02T20:48:22.213Z"
   },
   {
    "duration": 60,
    "start_time": "2021-07-02T20:48:22.241Z"
   },
   {
    "duration": 483,
    "start_time": "2021-07-02T20:48:22.304Z"
   },
   {
    "duration": 110,
    "start_time": "2021-07-02T20:48:22.790Z"
   },
   {
    "duration": 6,
    "start_time": "2021-07-02T20:48:22.903Z"
   },
   {
    "duration": 113,
    "start_time": "2021-07-02T20:48:22.912Z"
   },
   {
    "duration": 5,
    "start_time": "2021-07-02T20:48:23.027Z"
   },
   {
    "duration": 37,
    "start_time": "2021-07-02T20:48:23.035Z"
   },
   {
    "duration": 701,
    "start_time": "2021-07-02T20:48:23.075Z"
   },
   {
    "duration": 10,
    "start_time": "2021-07-02T20:48:23.780Z"
   },
   {
    "duration": 8,
    "start_time": "2021-07-02T20:50:09.221Z"
   },
   {
    "duration": 39,
    "start_time": "2021-07-02T20:50:14.020Z"
   },
   {
    "duration": 36,
    "start_time": "2021-07-02T20:50:54.678Z"
   },
   {
    "duration": 9,
    "start_time": "2021-07-02T20:51:29.440Z"
   },
   {
    "duration": 9,
    "start_time": "2021-07-02T20:51:44.462Z"
   },
   {
    "duration": 8,
    "start_time": "2021-07-02T20:52:20.543Z"
   },
   {
    "duration": 8,
    "start_time": "2021-07-02T20:52:23.023Z"
   },
   {
    "duration": 112,
    "start_time": "2021-07-02T20:54:47.770Z"
   },
   {
    "duration": 7,
    "start_time": "2021-07-02T20:55:09.554Z"
   },
   {
    "duration": 6,
    "start_time": "2021-07-02T20:55:27.251Z"
   },
   {
    "duration": 7,
    "start_time": "2021-07-02T20:56:08.379Z"
   },
   {
    "duration": 430,
    "start_time": "2021-07-02T20:56:57.004Z"
   },
   {
    "duration": 8,
    "start_time": "2021-07-02T20:57:04.380Z"
   },
   {
    "duration": 1563,
    "start_time": "2021-07-02T21:02:51.917Z"
   },
   {
    "duration": 597,
    "start_time": "2021-07-02T21:02:53.483Z"
   },
   {
    "duration": 4,
    "start_time": "2021-07-02T21:02:54.084Z"
   },
   {
    "duration": 61,
    "start_time": "2021-07-02T21:02:54.090Z"
   },
   {
    "duration": 122,
    "start_time": "2021-07-02T21:02:54.153Z"
   },
   {
    "duration": 131,
    "start_time": "2021-07-02T21:02:54.278Z"
   },
   {
    "duration": 3,
    "start_time": "2021-07-02T21:02:54.412Z"
   },
   {
    "duration": 8,
    "start_time": "2021-07-02T21:02:54.419Z"
   },
   {
    "duration": 57,
    "start_time": "2021-07-02T21:02:54.430Z"
   },
   {
    "duration": 532,
    "start_time": "2021-07-02T21:02:54.490Z"
   },
   {
    "duration": 24,
    "start_time": "2021-07-02T21:02:55.025Z"
   },
   {
    "duration": 28,
    "start_time": "2021-07-02T21:02:55.051Z"
   },
   {
    "duration": 44,
    "start_time": "2021-07-02T21:02:55.083Z"
   },
   {
    "duration": 44,
    "start_time": "2021-07-02T21:02:55.130Z"
   },
   {
    "duration": 13,
    "start_time": "2021-07-02T21:02:55.177Z"
   },
   {
    "duration": 31,
    "start_time": "2021-07-02T21:02:55.193Z"
   },
   {
    "duration": 49,
    "start_time": "2021-07-02T21:02:55.227Z"
   },
   {
    "duration": 11,
    "start_time": "2021-07-02T21:02:55.280Z"
   },
   {
    "duration": 31,
    "start_time": "2021-07-02T21:02:55.294Z"
   },
   {
    "duration": 40,
    "start_time": "2021-07-02T21:02:55.328Z"
   },
   {
    "duration": 16,
    "start_time": "2021-07-02T21:02:55.371Z"
   },
   {
    "duration": 14,
    "start_time": "2021-07-02T21:02:55.390Z"
   },
   {
    "duration": 14,
    "start_time": "2021-07-02T21:02:55.410Z"
   },
   {
    "duration": 43,
    "start_time": "2021-07-02T21:02:55.428Z"
   },
   {
    "duration": 39,
    "start_time": "2021-07-02T21:02:55.473Z"
   },
   {
    "duration": 13,
    "start_time": "2021-07-02T21:02:55.515Z"
   },
   {
    "duration": 46,
    "start_time": "2021-07-02T21:02:55.531Z"
   },
   {
    "duration": 7,
    "start_time": "2021-07-02T21:02:55.580Z"
   },
   {
    "duration": 6,
    "start_time": "2021-07-02T21:02:55.591Z"
   },
   {
    "duration": 6,
    "start_time": "2021-07-02T21:02:55.601Z"
   },
   {
    "duration": 58,
    "start_time": "2021-07-02T21:02:55.611Z"
   },
   {
    "duration": 8,
    "start_time": "2021-07-02T21:02:55.673Z"
   },
   {
    "duration": 21,
    "start_time": "2021-07-02T21:02:55.683Z"
   },
   {
    "duration": 64,
    "start_time": "2021-07-02T21:02:55.706Z"
   },
   {
    "duration": 18,
    "start_time": "2021-07-02T21:02:55.773Z"
   },
   {
    "duration": 32,
    "start_time": "2021-07-02T21:02:55.793Z"
   },
   {
    "duration": 58,
    "start_time": "2021-07-02T21:02:55.827Z"
   },
   {
    "duration": 21,
    "start_time": "2021-07-02T21:02:55.887Z"
   },
   {
    "duration": 27,
    "start_time": "2021-07-02T21:02:55.911Z"
   },
   {
    "duration": 44,
    "start_time": "2021-07-02T21:02:55.940Z"
   },
   {
    "duration": 5,
    "start_time": "2021-07-02T21:02:55.987Z"
   },
   {
    "duration": 13,
    "start_time": "2021-07-02T21:02:55.994Z"
   },
   {
    "duration": 25,
    "start_time": "2021-07-02T21:02:56.010Z"
   },
   {
    "duration": 31,
    "start_time": "2021-07-02T21:02:56.038Z"
   },
   {
    "duration": 12,
    "start_time": "2021-07-02T21:02:56.072Z"
   },
   {
    "duration": 10,
    "start_time": "2021-07-02T21:02:56.087Z"
   },
   {
    "duration": 416,
    "start_time": "2021-07-02T21:02:56.099Z"
   },
   {
    "duration": 5,
    "start_time": "2021-07-02T21:02:56.517Z"
   },
   {
    "duration": 8,
    "start_time": "2021-07-02T21:02:56.525Z"
   },
   {
    "duration": 7,
    "start_time": "2021-07-02T21:02:56.536Z"
   },
   {
    "duration": 28,
    "start_time": "2021-07-02T21:02:56.546Z"
   },
   {
    "duration": 12,
    "start_time": "2021-07-02T21:02:56.577Z"
   },
   {
    "duration": 11,
    "start_time": "2021-07-02T21:02:56.591Z"
   },
   {
    "duration": 14,
    "start_time": "2021-07-02T21:02:56.605Z"
   },
   {
    "duration": 57,
    "start_time": "2021-07-02T21:02:56.622Z"
   },
   {
    "duration": 13,
    "start_time": "2021-07-02T21:02:56.682Z"
   },
   {
    "duration": 38,
    "start_time": "2021-07-02T21:02:56.697Z"
   },
   {
    "duration": 36,
    "start_time": "2021-07-02T21:02:56.737Z"
   },
   {
    "duration": 27,
    "start_time": "2021-07-02T21:02:56.776Z"
   },
   {
    "duration": 3096,
    "start_time": "2021-07-02T21:02:56.805Z"
   },
   {
    "duration": 38,
    "start_time": "2021-07-02T21:02:59.903Z"
   },
   {
    "duration": 494,
    "start_time": "2021-07-02T21:02:59.944Z"
   },
   {
    "duration": 2973,
    "start_time": "2021-07-02T21:03:00.441Z"
   },
   {
    "duration": 2877,
    "start_time": "2021-07-02T21:03:03.416Z"
   },
   {
    "duration": 5435,
    "start_time": "2021-07-02T21:03:06.296Z"
   },
   {
    "duration": 106,
    "start_time": "2021-07-02T21:03:11.734Z"
   },
   {
    "duration": 6,
    "start_time": "2021-07-02T21:03:11.843Z"
   },
   {
    "duration": 102,
    "start_time": "2021-07-02T21:03:11.876Z"
   },
   {
    "duration": 7,
    "start_time": "2021-07-02T21:03:11.982Z"
   },
   {
    "duration": 19,
    "start_time": "2021-07-02T21:03:11.992Z"
   },
   {
    "duration": 714,
    "start_time": "2021-07-02T21:03:12.014Z"
   },
   {
    "duration": 24,
    "start_time": "2021-07-02T21:03:12.730Z"
   },
   {
    "duration": 35,
    "start_time": "2021-07-02T21:03:12.756Z"
   },
   {
    "duration": 96,
    "start_time": "2021-07-02T21:03:12.794Z"
   },
   {
    "duration": 5,
    "start_time": "2021-07-02T21:03:12.892Z"
   },
   {
    "duration": 109,
    "start_time": "2021-07-02T21:03:12.900Z"
   },
   {
    "duration": 5,
    "start_time": "2021-07-02T21:03:13.012Z"
   },
   {
    "duration": 22,
    "start_time": "2021-07-02T21:03:13.020Z"
   },
   {
    "duration": 639,
    "start_time": "2021-07-02T21:03:13.044Z"
   },
   {
    "duration": 86,
    "start_time": "2021-07-02T21:03:13.686Z"
   },
   {
    "duration": 26,
    "start_time": "2021-07-02T21:03:13.775Z"
   },
   {
    "duration": 293,
    "start_time": "2021-07-02T21:03:13.803Z"
   },
   {
    "duration": 5,
    "start_time": "2021-07-02T21:03:14.098Z"
   },
   {
    "duration": 123,
    "start_time": "2021-07-02T21:03:14.105Z"
   },
   {
    "duration": 5,
    "start_time": "2021-07-02T21:03:14.231Z"
   },
   {
    "duration": 20,
    "start_time": "2021-07-02T21:03:14.238Z"
   },
   {
    "duration": 1085,
    "start_time": "2021-07-02T21:03:14.261Z"
   },
   {
    "duration": 38,
    "start_time": "2021-07-02T21:03:15.349Z"
   },
   {
    "duration": 32,
    "start_time": "2021-07-02T21:03:15.390Z"
   },
   {
    "duration": 244,
    "start_time": "2021-07-02T21:03:15.425Z"
   },
   {
    "duration": 6,
    "start_time": "2021-07-02T21:03:15.673Z"
   },
   {
    "duration": 113,
    "start_time": "2021-07-02T21:03:15.682Z"
   },
   {
    "duration": 5,
    "start_time": "2021-07-02T21:03:15.797Z"
   },
   {
    "duration": 18,
    "start_time": "2021-07-02T21:03:15.805Z"
   },
   {
    "duration": 669,
    "start_time": "2021-07-02T21:03:15.826Z"
   },
   {
    "duration": 8,
    "start_time": "2021-07-02T21:03:16.498Z"
   },
   {
    "duration": 16,
    "start_time": "2021-07-02T21:03:16.508Z"
   },
   {
    "duration": 44,
    "start_time": "2021-07-02T21:03:16.526Z"
   },
   {
    "duration": 55,
    "start_time": "2021-07-02T21:03:16.574Z"
   },
   {
    "duration": 493,
    "start_time": "2021-07-02T21:03:16.632Z"
   },
   {
    "duration": 119,
    "start_time": "2021-07-02T21:03:17.127Z"
   },
   {
    "duration": 4,
    "start_time": "2021-07-02T21:03:17.249Z"
   },
   {
    "duration": 109,
    "start_time": "2021-07-02T21:03:17.267Z"
   },
   {
    "duration": 5,
    "start_time": "2021-07-02T21:03:17.379Z"
   },
   {
    "duration": 21,
    "start_time": "2021-07-02T21:03:17.387Z"
   },
   {
    "duration": 677,
    "start_time": "2021-07-02T21:03:17.411Z"
   },
   {
    "duration": 9,
    "start_time": "2021-07-02T21:03:18.092Z"
   },
   {
    "duration": 1788,
    "start_time": "2021-07-03T06:41:01.189Z"
   },
   {
    "duration": 676,
    "start_time": "2021-07-03T06:41:02.980Z"
   },
   {
    "duration": 4,
    "start_time": "2021-07-03T06:41:03.660Z"
   },
   {
    "duration": 88,
    "start_time": "2021-07-03T06:41:05.342Z"
   },
   {
    "duration": 89,
    "start_time": "2021-07-03T06:42:14.885Z"
   },
   {
    "duration": 106,
    "start_time": "2021-07-03T06:42:25.291Z"
   },
   {
    "duration": 4,
    "start_time": "2021-07-03T06:42:49.623Z"
   },
   {
    "duration": 7,
    "start_time": "2021-07-03T06:43:05.489Z"
   },
   {
    "duration": 17,
    "start_time": "2021-07-03T06:43:07.083Z"
   },
   {
    "duration": 492,
    "start_time": "2021-07-03T06:43:27.647Z"
   },
   {
    "duration": 21,
    "start_time": "2021-07-03T06:43:48.102Z"
   },
   {
    "duration": 12,
    "start_time": "2021-07-03T06:43:48.961Z"
   },
   {
    "duration": 39,
    "start_time": "2021-07-03T06:43:49.745Z"
   },
   {
    "duration": 19,
    "start_time": "2021-07-03T06:43:51.656Z"
   },
   {
    "duration": 12,
    "start_time": "2021-07-03T06:43:52.613Z"
   },
   {
    "duration": 32,
    "start_time": "2021-07-03T06:43:54.493Z"
   },
   {
    "duration": 24,
    "start_time": "2021-07-03T06:44:04.375Z"
   },
   {
    "duration": 13,
    "start_time": "2021-07-03T06:44:05.005Z"
   },
   {
    "duration": 23,
    "start_time": "2021-07-03T06:44:05.645Z"
   },
   {
    "duration": 9,
    "start_time": "2021-07-03T06:44:08.910Z"
   },
   {
    "duration": 12,
    "start_time": "2021-07-03T06:44:12.915Z"
   },
   {
    "duration": 9,
    "start_time": "2021-07-03T06:44:14.756Z"
   },
   {
    "duration": 14,
    "start_time": "2021-07-03T06:44:14.958Z"
   },
   {
    "duration": 10,
    "start_time": "2021-07-03T06:44:15.467Z"
   },
   {
    "duration": 34,
    "start_time": "2021-07-03T06:44:15.704Z"
   },
   {
    "duration": 13,
    "start_time": "2021-07-03T06:44:15.793Z"
   },
   {
    "duration": 15,
    "start_time": "2021-07-03T06:44:15.958Z"
   },
   {
    "duration": 5,
    "start_time": "2021-07-03T06:44:16.381Z"
   },
   {
    "duration": 6,
    "start_time": "2021-07-03T06:44:16.464Z"
   },
   {
    "duration": 6,
    "start_time": "2021-07-03T06:44:16.555Z"
   },
   {
    "duration": 12,
    "start_time": "2021-07-03T06:44:16.628Z"
   },
   {
    "duration": 6,
    "start_time": "2021-07-03T06:44:17.134Z"
   },
   {
    "duration": 19,
    "start_time": "2021-07-03T06:44:17.305Z"
   },
   {
    "duration": 23,
    "start_time": "2021-07-03T06:44:17.385Z"
   },
   {
    "duration": 16,
    "start_time": "2021-07-03T06:44:17.480Z"
   },
   {
    "duration": 38,
    "start_time": "2021-07-03T06:44:17.736Z"
   },
   {
    "duration": 25,
    "start_time": "2021-07-03T06:44:17.802Z"
   },
   {
    "duration": 19,
    "start_time": "2021-07-03T06:44:17.927Z"
   },
   {
    "duration": 27,
    "start_time": "2021-07-03T06:44:17.978Z"
   },
   {
    "duration": 15,
    "start_time": "2021-07-03T06:44:18.137Z"
   },
   {
    "duration": 4,
    "start_time": "2021-07-03T06:44:18.306Z"
   },
   {
    "duration": 4,
    "start_time": "2021-07-03T06:44:18.560Z"
   },
   {
    "duration": 11,
    "start_time": "2021-07-03T06:44:18.808Z"
   },
   {
    "duration": 17,
    "start_time": "2021-07-03T06:44:18.897Z"
   },
   {
    "duration": 5,
    "start_time": "2021-07-03T06:44:18.975Z"
   },
   {
    "duration": 7,
    "start_time": "2021-07-03T06:44:19.057Z"
   },
   {
    "duration": 395,
    "start_time": "2021-07-03T06:44:19.227Z"
   },
   {
    "duration": 5,
    "start_time": "2021-07-03T06:44:19.625Z"
   },
   {
    "duration": 19,
    "start_time": "2021-07-03T06:44:19.633Z"
   },
   {
    "duration": 5,
    "start_time": "2021-07-03T06:44:19.663Z"
   },
   {
    "duration": 9,
    "start_time": "2021-07-03T06:44:19.670Z"
   },
   {
    "duration": 7,
    "start_time": "2021-07-03T06:44:19.771Z"
   },
   {
    "duration": 7,
    "start_time": "2021-07-03T06:44:19.825Z"
   },
   {
    "duration": 14,
    "start_time": "2021-07-03T06:44:20.095Z"
   },
   {
    "duration": 18,
    "start_time": "2021-07-03T06:44:20.331Z"
   },
   {
    "duration": 11,
    "start_time": "2021-07-03T06:44:20.431Z"
   },
   {
    "duration": 34,
    "start_time": "2021-07-03T06:44:20.480Z"
   },
   {
    "duration": 11,
    "start_time": "2021-07-03T06:44:20.570Z"
   },
   {
    "duration": 25,
    "start_time": "2021-07-03T06:44:20.910Z"
   },
   {
    "duration": 2811,
    "start_time": "2021-07-03T06:44:21.021Z"
   },
   {
    "duration": 46,
    "start_time": "2021-07-03T06:44:23.835Z"
   },
   {
    "duration": 445,
    "start_time": "2021-07-03T06:44:23.885Z"
   },
   {
    "duration": 3099,
    "start_time": "2021-07-03T06:44:24.332Z"
   },
   {
    "duration": 2793,
    "start_time": "2021-07-03T06:44:27.435Z"
   },
   {
    "duration": 5101,
    "start_time": "2021-07-03T06:44:30.230Z"
   },
   {
    "duration": 101,
    "start_time": "2021-07-03T06:44:35.334Z"
   },
   {
    "duration": 22,
    "start_time": "2021-07-03T06:44:35.440Z"
   },
   {
    "duration": 107,
    "start_time": "2021-07-03T06:44:35.465Z"
   },
   {
    "duration": 5,
    "start_time": "2021-07-03T06:44:35.574Z"
   },
   {
    "duration": 17,
    "start_time": "2021-07-03T06:44:35.582Z"
   },
   {
    "duration": 655,
    "start_time": "2021-07-03T06:44:35.602Z"
   },
   {
    "duration": 23,
    "start_time": "2021-07-03T06:44:36.262Z"
   },
   {
    "duration": 24,
    "start_time": "2021-07-03T06:44:36.288Z"
   },
   {
    "duration": 168,
    "start_time": "2021-07-03T06:44:36.316Z"
   },
   {
    "duration": 6,
    "start_time": "2021-07-03T06:44:36.487Z"
   },
   {
    "duration": 158,
    "start_time": "2021-07-03T06:44:36.496Z"
   },
   {
    "duration": 6,
    "start_time": "2021-07-03T06:44:36.661Z"
   },
   {
    "duration": 23,
    "start_time": "2021-07-03T06:44:36.670Z"
   },
   {
    "duration": 885,
    "start_time": "2021-07-03T06:44:36.696Z"
   },
   {
    "duration": 32,
    "start_time": "2021-07-03T06:44:37.585Z"
   },
   {
    "duration": 55,
    "start_time": "2021-07-03T06:44:37.620Z"
   },
   {
    "duration": 118,
    "start_time": "2021-07-03T06:44:37.682Z"
   },
   {
    "duration": 5,
    "start_time": "2021-07-03T06:44:37.804Z"
   },
   {
    "duration": 106,
    "start_time": "2021-07-03T06:44:37.811Z"
   },
   {
    "duration": 4,
    "start_time": "2021-07-03T06:44:37.920Z"
   },
   {
    "duration": 37,
    "start_time": "2021-07-03T06:44:37.927Z"
   },
   {
    "duration": 616,
    "start_time": "2021-07-03T06:44:37.967Z"
   },
   {
    "duration": 22,
    "start_time": "2021-07-03T06:44:38.586Z"
   },
   {
    "duration": 22,
    "start_time": "2021-07-03T06:44:38.610Z"
   },
   {
    "duration": 240,
    "start_time": "2021-07-03T06:44:38.634Z"
   },
   {
    "duration": 6,
    "start_time": "2021-07-03T06:44:38.877Z"
   },
   {
    "duration": 149,
    "start_time": "2021-07-03T06:44:38.886Z"
   },
   {
    "duration": 6,
    "start_time": "2021-07-03T06:44:39.039Z"
   },
   {
    "duration": 31,
    "start_time": "2021-07-03T06:44:39.048Z"
   },
   {
    "duration": 891,
    "start_time": "2021-07-03T06:44:39.082Z"
   },
   {
    "duration": 9,
    "start_time": "2021-07-03T06:44:39.976Z"
   },
   {
    "duration": 15,
    "start_time": "2021-07-03T06:44:39.987Z"
   },
   {
    "duration": 21,
    "start_time": "2021-07-03T06:44:40.004Z"
   },
   {
    "duration": 68,
    "start_time": "2021-07-03T06:44:40.027Z"
   },
   {
    "duration": 436,
    "start_time": "2021-07-03T06:44:40.098Z"
   },
   {
    "duration": 98,
    "start_time": "2021-07-03T06:44:40.537Z"
   },
   {
    "duration": 5,
    "start_time": "2021-07-03T06:44:40.638Z"
   },
   {
    "duration": 101,
    "start_time": "2021-07-03T06:44:40.645Z"
   },
   {
    "duration": 17,
    "start_time": "2021-07-03T06:44:40.748Z"
   },
   {
    "duration": 17,
    "start_time": "2021-07-03T06:44:40.768Z"
   },
   {
    "duration": 647,
    "start_time": "2021-07-03T06:44:40.787Z"
   },
   {
    "duration": 7,
    "start_time": "2021-07-03T06:44:41.436Z"
   }
  ],
  "kernelspec": {
   "display_name": "Python 3 (ipykernel)",
   "language": "python",
   "name": "python3"
  },
  "language_info": {
   "codemirror_mode": {
    "name": "ipython",
    "version": 3
   },
   "file_extension": ".py",
   "mimetype": "text/x-python",
   "name": "python",
   "nbconvert_exporter": "python",
   "pygments_lexer": "ipython3",
   "version": "3.8.10"
  },
  "toc": {
   "base_numbering": 1,
   "nav_menu": {},
   "number_sections": true,
   "sideBar": true,
   "skip_h1_title": true,
   "title_cell": "Table of Contents",
   "title_sidebar": "Contents",
   "toc_cell": false,
   "toc_position": {},
   "toc_section_display": true,
   "toc_window_display": false
  }
 },
 "nbformat": 4,
 "nbformat_minor": 5
}
