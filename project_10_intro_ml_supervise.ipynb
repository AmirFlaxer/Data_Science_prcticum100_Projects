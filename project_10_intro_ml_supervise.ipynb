{
 "cells": [
  {
   "cell_type": "markdown",
   "metadata": {},
   "source": [
    "**Review**\n",
    "\n",
    "Hi, my name is Dmitry and I will be reviewing your project.\n",
    "  \n",
    "You can find my comments in colored markdown cells:\n",
    "  \n",
    "<div class=\"alert alert-success\">\n",
    "  If everything is done successfully.\n",
    "</div>\n",
    "  \n",
    "<div class=\"alert alert-warning\">\n",
    "  If I have some (optional) suggestions, or questions to think about, or general comments.\n",
    "</div>\n",
    "  \n",
    "<div class=\"alert alert-danger\">\n",
    "  If a section requires some corrections. Work can't be accepted with red comments.\n",
    "</div>\n",
    "  \n",
    "Please don't remove my comments, as it will make further review iterations much harder for me.\n",
    "  \n",
    "Feel free to reply to my comments or ask questions using the following template:\n",
    "  \n",
    "<div class=\"alert alert-info\">\n",
    "  For your comments and questions.\n",
    "</div>\n",
    "  \n",
    "First of all, thank you for turning in the project! You did an excellent job! The project is accepted. Keep up the good work on the next sprint!"
   ]
  },
  {
   "cell_type": "markdown",
   "metadata": {},
   "source": [
    "<h1>Table of Contents<span class=\"tocSkip\"></span></h1>\n",
    "<div class=\"toc\"><ul class=\"toc-item\"><li><span><a href=\"#Project-description\" data-toc-modified-id=\"Project-description-1\"><span class=\"toc-item-num\">1&nbsp;&nbsp;</span>Project description</a></span></li><li><span><a href=\"#Data-description\" data-toc-modified-id=\"Data-description-2\"><span class=\"toc-item-num\">2&nbsp;&nbsp;</span>Data description</a></span></li><li><span><a href=\"#import-libraries\" data-toc-modified-id=\"import-libraries-3\"><span class=\"toc-item-num\">3&nbsp;&nbsp;</span>import libraries</a></span></li><li><span><a href=\"#Open-the-data-file-and-study-the-general-information.\" data-toc-modified-id=\"Open-the-data-file-and-study-the-general-information.-4\"><span class=\"toc-item-num\">4&nbsp;&nbsp;</span>Open the data file and study the general information.</a></span><ul class=\"toc-item\"><li><span><a href=\"#Read-the-data\" data-toc-modified-id=\"Read-the-data-4.1\"><span class=\"toc-item-num\">4.1&nbsp;&nbsp;</span>Read the data</a></span></li><li><span><a href=\"#Check-the-data\" data-toc-modified-id=\"Check-the-data-4.2\"><span class=\"toc-item-num\">4.2&nbsp;&nbsp;</span>Check the data</a></span></li><li><span><a href=\"#Check-the-data-frame-for-missing-values-and--duplicates\" data-toc-modified-id=\"Check-the-data-frame-for-missing-values-and--duplicates-4.3\"><span class=\"toc-item-num\">4.3&nbsp;&nbsp;</span>Check the data frame for missing values and  duplicates</a></span><ul class=\"toc-item\"><li><span><a href=\"#checking-for-missing-values\" data-toc-modified-id=\"checking-for-missing-values-4.3.1\"><span class=\"toc-item-num\">4.3.1&nbsp;&nbsp;</span>checking for missing values</a></span></li><li><span><a href=\"#checking-for-duplicates\" data-toc-modified-id=\"checking-for-duplicates-4.3.2\"><span class=\"toc-item-num\">4.3.2&nbsp;&nbsp;</span>checking for duplicates</a></span></li><li><span><a href=\"#changing-the-type-of-the-data\" data-toc-modified-id=\"changing-the-type-of-the-data-4.3.3\"><span class=\"toc-item-num\">4.3.3&nbsp;&nbsp;</span>changing the type of the data</a></span></li></ul></li></ul></li><li><span><a href=\"#Split-the-source-data-into-a-training-set,-a-validation-set,-and-a-test-set\" data-toc-modified-id=\"Split-the-source-data-into-a-training-set,-a-validation-set,-and-a-test-set-5\"><span class=\"toc-item-num\">5&nbsp;&nbsp;</span>Split the source data into a training set, a validation set, and a test set</a></span><ul class=\"toc-item\"><li><span><a href=\"#split-the-data-to-training,-validation-and-test\" data-toc-modified-id=\"split-the-data-to-training,-validation-and-test-5.1\"><span class=\"toc-item-num\">5.1&nbsp;&nbsp;</span>split the data to training, validation and test</a></span></li><li><span><a href=\"#divide-the-data-to-feature-and-target\" data-toc-modified-id=\"divide-the-data-to-feature-and-target-5.2\"><span class=\"toc-item-num\">5.2&nbsp;&nbsp;</span>divide the data to feature and target</a></span></li><li><span><a href=\"#Investigate-the-quality-of-different-models-by-changing-hyperparameters\" data-toc-modified-id=\"Investigate-the-quality-of-different-models-by-changing-hyperparameters-5.3\"><span class=\"toc-item-num\">5.3&nbsp;&nbsp;</span>Investigate the quality of different models by changing hyperparameters</a></span><ul class=\"toc-item\"><li><span><a href=\"#Decision-Tree\" data-toc-modified-id=\"Decision-Tree-5.3.1\"><span class=\"toc-item-num\">5.3.1&nbsp;&nbsp;</span>Decision Tree</a></span><ul class=\"toc-item\"><li><span><a href=\"#optimizing-hyperparameters\" data-toc-modified-id=\"optimizing-hyperparameters-5.3.1.1\"><span class=\"toc-item-num\">5.3.1.1&nbsp;&nbsp;</span>optimizing hyperparameters</a></span></li></ul></li><li><span><a href=\"#Random-Forest\" data-toc-modified-id=\"Random-Forest-5.3.2\"><span class=\"toc-item-num\">5.3.2&nbsp;&nbsp;</span>Random Forest</a></span><ul class=\"toc-item\"><li><span><a href=\"#optimizing-hyperparameters\" data-toc-modified-id=\"optimizing-hyperparameters-5.3.2.1\"><span class=\"toc-item-num\">5.3.2.1&nbsp;&nbsp;</span>optimizing hyperparameters</a></span></li></ul></li><li><span><a href=\"#Logistic-Regression\" data-toc-modified-id=\"Logistic-Regression-5.3.3\"><span class=\"toc-item-num\">5.3.3&nbsp;&nbsp;</span>Logistic Regression</a></span><ul class=\"toc-item\"><li><span><a href=\"#optimizing-hyperparameters\" data-toc-modified-id=\"optimizing-hyperparameters-5.3.3.1\"><span class=\"toc-item-num\">5.3.3.1&nbsp;&nbsp;</span>optimizing hyperparameters</a></span></li></ul></li></ul></li></ul></li><li><span><a href=\"#Sanity-check\" data-toc-modified-id=\"Sanity-check-6\"><span class=\"toc-item-num\">6&nbsp;&nbsp;</span>Sanity check</a></span><ul class=\"toc-item\"><li><span><a href=\"#ploting-confusion-matrix-to-the-three-models\" data-toc-modified-id=\"ploting-confusion-matrix-to-the-three-models-6.1\"><span class=\"toc-item-num\">6.1&nbsp;&nbsp;</span>ploting confusion matrix to the three models</a></span><ul class=\"toc-item\"><li><span><a href=\"#Decision-Tree-confusion-matrix\" data-toc-modified-id=\"Decision-Tree-confusion-matrix-6.1.1\"><span class=\"toc-item-num\">6.1.1&nbsp;&nbsp;</span>Decision Tree confusion matrix</a></span></li><li><span><a href=\"#Random-Forest-confusion-matrix\" data-toc-modified-id=\"Random-Forest-confusion-matrix-6.1.2\"><span class=\"toc-item-num\">6.1.2&nbsp;&nbsp;</span>Random Forest confusion matrix</a></span></li><li><span><a href=\"#Logistic-Regression-confusion-matrix\" data-toc-modified-id=\"Logistic-Regression-confusion-matrix-6.1.3\"><span class=\"toc-item-num\">6.1.3&nbsp;&nbsp;</span>Logistic Regression confusion matrix</a></span></li></ul></li><li><span><a href=\"#Conclusion\" data-toc-modified-id=\"Conclusion-6.2\"><span class=\"toc-item-num\">6.2&nbsp;&nbsp;</span>Conclusion</a></span><ul class=\"toc-item\"><li><span><a href=\"#The-major-finding\" data-toc-modified-id=\"The-major-finding-6.2.1\"><span class=\"toc-item-num\">6.2.1&nbsp;&nbsp;</span>The major finding</a></span></li><li><span><a href=\"#Sanity-check\" data-toc-modified-id=\"Sanity-check-6.2.2\"><span class=\"toc-item-num\">6.2.2&nbsp;&nbsp;</span>Sanity check</a></span></li></ul></li></ul></li></ul></div>|"
   ]
  },
  {
   "cell_type": "markdown",
   "metadata": {},
   "source": [
    "# Project description\n",
    "\n",
    "Mobile carrier **Megaline** has found out that many of their subscribers use legacy plans. \n",
    "\n",
    "They want to develop a model that would analyze subscribers' behavior and recommend one of **Megaline's** newer plans: Smart or Ultra.\n",
    "\n",
    "You have access to behavior data about subscribers who have already \n",
    "switched to the new plans. \n",
    "\n",
    "For this ***classification*** task, you need to develop a model that will pick the right plan. \n",
    "\n",
    "Develop a model with the highest possible accuracy. In this project, the \n",
    "threshold for accuracy is ***0.75***. Check the accuracy using the test dataset"
   ]
  },
  {
   "cell_type": "markdown",
   "metadata": {},
   "source": [
    "# Data description\n",
    "Every observation in the dataset contains monthly behavior information about one user. The information given is as follows:\n",
    "\n",
    "- **сalls** - number of calls,\n",
    "- **minutes** - total call duration in minutes,\n",
    "- **messages** - number of text messages,\n",
    "- **mb_used** - Internet traffic used in MB,\n",
    "- **is_ultra** - plan for the current month (Ultra - 1, Smart - 0)."
   ]
  },
  {
   "cell_type": "markdown",
   "metadata": {},
   "source": [
    "# import libraries"
   ]
  },
  {
   "cell_type": "code",
   "execution_count": 1,
   "metadata": {},
   "outputs": [
    {
     "name": "stdout",
     "output_type": "stream",
     "text": [
      "Defaulting to user installation because normal site-packages is not writeable\n",
      "Collecting pandas\n",
      "  Downloading pandas-1.3.3-cp37-cp37m-manylinux_2_17_x86_64.manylinux2014_x86_64.whl (11.3 MB)\n",
      "\u001b[K     |████████████████████████████████| 11.3 MB 1.1 MB/s eta 0:00:01\n",
      "\u001b[?25hRequirement already satisfied, skipping upgrade: numpy>=1.17.3 in /opt/conda/lib/python3.7/site-packages (from pandas) (1.19.5)\n",
      "Requirement already satisfied, skipping upgrade: python-dateutil>=2.7.3 in /opt/conda/lib/python3.7/site-packages (from pandas) (2.8.1)\n",
      "Requirement already satisfied, skipping upgrade: pytz>=2017.3 in /opt/conda/lib/python3.7/site-packages (from pandas) (2021.1)\n",
      "Requirement already satisfied, skipping upgrade: six>=1.5 in /opt/conda/lib/python3.7/site-packages (from python-dateutil>=2.7.3->pandas) (1.15.0)\n",
      "Installing collected packages: pandas\n",
      "Successfully installed pandas-1.3.3\n",
      "Defaulting to user installation because normal site-packages is not writeable\n",
      "Collecting scikit-learn\n",
      "  Downloading scikit_learn-0.24.2-cp37-cp37m-manylinux2010_x86_64.whl (22.3 MB)\n",
      "\u001b[K     |████████████████████████████████| 22.3 MB 24 kB/s eta 0:00:016\n",
      "\u001b[?25hRequirement already satisfied, skipping upgrade: numpy>=1.13.3 in /opt/conda/lib/python3.7/site-packages (from scikit-learn) (1.19.5)\n",
      "Requirement already satisfied, skipping upgrade: joblib>=0.11 in /opt/conda/lib/python3.7/site-packages (from scikit-learn) (1.0.1)\n",
      "Collecting threadpoolctl>=2.0.0\n",
      "  Downloading threadpoolctl-2.2.0-py3-none-any.whl (12 kB)\n",
      "Requirement already satisfied, skipping upgrade: scipy>=0.19.1 in /opt/conda/lib/python3.7/site-packages (from scikit-learn) (1.4.1)\n",
      "Installing collected packages: threadpoolctl, scikit-learn\n",
      "Successfully installed scikit-learn-0.24.2 threadpoolctl-2.2.0\n"
     ]
    }
   ],
   "source": [
    "# update libraries\n",
    "!pip install pandas -U\n",
    "!pip install scikit-learn -U"
   ]
  },
  {
   "cell_type": "code",
   "execution_count": 2,
   "metadata": {},
   "outputs": [],
   "source": [
    "# import libraries\n",
    "import numpy as np\n",
    "import pandas as pd\n",
    "from sklearn.tree import DecisionTreeClassifier\n",
    "from sklearn.ensemble import RandomForestClassifier\n",
    "from sklearn.linear_model import LogisticRegression\n",
    "from sklearn.metrics import accuracy_score\n",
    "from sklearn.model_selection import train_test_split\n",
    "from sklearn.metrics import accuracy_score\n",
    "from sklearn.dummy import DummyClassifier\n",
    "from sklearn.metrics import plot_confusion_matrix"
   ]
  },
  {
   "cell_type": "code",
   "execution_count": 3,
   "metadata": {},
   "outputs": [],
   "source": [
    "# definitions\n",
    "pd.options.display.float_format = '{:,.2f}'.format"
   ]
  },
  {
   "cell_type": "code",
   "execution_count": 4,
   "metadata": {},
   "outputs": [],
   "source": [
    "# delete error messages\n",
    "import sys\n",
    "import warnings\n",
    "if not sys.warnoptions:\n",
    "    warnings.simplefilter(\"ignore\")"
   ]
  },
  {
   "cell_type": "markdown",
   "metadata": {},
   "source": [
    "# Open the data file and study the general information. "
   ]
  },
  {
   "cell_type": "markdown",
   "metadata": {},
   "source": [
    "## Read the data"
   ]
  },
  {
   "cell_type": "code",
   "execution_count": 5,
   "metadata": {},
   "outputs": [],
   "source": [
    "# read input data\n",
    "try:\n",
    "    df = pd.read_csv(\"users_behavior.csv\", sep=\",\")\n",
    "except:\n",
    "    df = pd.read_csv(\"/datasets/users_behavior.csv\", sep=\",\")"
   ]
  },
  {
   "cell_type": "markdown",
   "metadata": {},
   "source": [
    "## Check the data"
   ]
  },
  {
   "cell_type": "code",
   "execution_count": 6,
   "metadata": {},
   "outputs": [
    {
     "data": {
      "text/html": [
       "<div>\n",
       "<style scoped>\n",
       "    .dataframe tbody tr th:only-of-type {\n",
       "        vertical-align: middle;\n",
       "    }\n",
       "\n",
       "    .dataframe tbody tr th {\n",
       "        vertical-align: top;\n",
       "    }\n",
       "\n",
       "    .dataframe thead th {\n",
       "        text-align: right;\n",
       "    }\n",
       "</style>\n",
       "<table border=\"1\" class=\"dataframe\">\n",
       "  <thead>\n",
       "    <tr style=\"text-align: right;\">\n",
       "      <th></th>\n",
       "      <th>calls</th>\n",
       "      <th>minutes</th>\n",
       "      <th>messages</th>\n",
       "      <th>mb_used</th>\n",
       "      <th>is_ultra</th>\n",
       "    </tr>\n",
       "  </thead>\n",
       "  <tbody>\n",
       "    <tr>\n",
       "      <th>0</th>\n",
       "      <td>40.00</td>\n",
       "      <td>311.90</td>\n",
       "      <td>83.00</td>\n",
       "      <td>19,915.42</td>\n",
       "      <td>0</td>\n",
       "    </tr>\n",
       "    <tr>\n",
       "      <th>1</th>\n",
       "      <td>85.00</td>\n",
       "      <td>516.75</td>\n",
       "      <td>56.00</td>\n",
       "      <td>22,696.96</td>\n",
       "      <td>0</td>\n",
       "    </tr>\n",
       "    <tr>\n",
       "      <th>2</th>\n",
       "      <td>77.00</td>\n",
       "      <td>467.66</td>\n",
       "      <td>86.00</td>\n",
       "      <td>21,060.45</td>\n",
       "      <td>0</td>\n",
       "    </tr>\n",
       "    <tr>\n",
       "      <th>3</th>\n",
       "      <td>106.00</td>\n",
       "      <td>745.53</td>\n",
       "      <td>81.00</td>\n",
       "      <td>8,437.39</td>\n",
       "      <td>1</td>\n",
       "    </tr>\n",
       "    <tr>\n",
       "      <th>4</th>\n",
       "      <td>66.00</td>\n",
       "      <td>418.74</td>\n",
       "      <td>1.00</td>\n",
       "      <td>14,502.75</td>\n",
       "      <td>0</td>\n",
       "    </tr>\n",
       "  </tbody>\n",
       "</table>\n",
       "</div>"
      ],
      "text/plain": [
       "   calls  minutes  messages   mb_used  is_ultra\n",
       "0  40.00   311.90     83.00 19,915.42         0\n",
       "1  85.00   516.75     56.00 22,696.96         0\n",
       "2  77.00   467.66     86.00 21,060.45         0\n",
       "3 106.00   745.53     81.00  8,437.39         1\n",
       "4  66.00   418.74      1.00 14,502.75         0"
      ]
     },
     "execution_count": 6,
     "metadata": {},
     "output_type": "execute_result"
    }
   ],
   "source": [
    "df.head()"
   ]
  },
  {
   "cell_type": "code",
   "execution_count": 7,
   "metadata": {
    "scrolled": true
   },
   "outputs": [
    {
     "name": "stdout",
     "output_type": "stream",
     "text": [
      "<class 'pandas.core.frame.DataFrame'>\n",
      "RangeIndex: 3214 entries, 0 to 3213\n",
      "Data columns (total 5 columns):\n",
      " #   Column    Non-Null Count  Dtype  \n",
      "---  ------    --------------  -----  \n",
      " 0   calls     3214 non-null   float64\n",
      " 1   minutes   3214 non-null   float64\n",
      " 2   messages  3214 non-null   float64\n",
      " 3   mb_used   3214 non-null   float64\n",
      " 4   is_ultra  3214 non-null   int64  \n",
      "dtypes: float64(4), int64(1)\n",
      "memory usage: 125.7 KB\n"
     ]
    }
   ],
   "source": [
    "df.info()"
   ]
  },
  {
   "cell_type": "markdown",
   "metadata": {},
   "source": [
    "## Check the data frame for missing values and  duplicates"
   ]
  },
  {
   "cell_type": "markdown",
   "metadata": {},
   "source": [
    "### checking for missing values"
   ]
  },
  {
   "cell_type": "code",
   "execution_count": 8,
   "metadata": {},
   "outputs": [
    {
     "data": {
      "text/html": [
       "<div>\n",
       "<style scoped>\n",
       "    .dataframe tbody tr th:only-of-type {\n",
       "        vertical-align: middle;\n",
       "    }\n",
       "\n",
       "    .dataframe tbody tr th {\n",
       "        vertical-align: top;\n",
       "    }\n",
       "\n",
       "    .dataframe thead th {\n",
       "        text-align: right;\n",
       "    }\n",
       "</style>\n",
       "<table border=\"1\" class=\"dataframe\">\n",
       "  <thead>\n",
       "    <tr style=\"text-align: right;\">\n",
       "      <th></th>\n",
       "      <th>missing_values</th>\n",
       "      <th>%_of_total</th>\n",
       "    </tr>\n",
       "  </thead>\n",
       "  <tbody>\n",
       "    <tr>\n",
       "      <th>calls</th>\n",
       "      <td>0</td>\n",
       "      <td>0.00</td>\n",
       "    </tr>\n",
       "    <tr>\n",
       "      <th>minutes</th>\n",
       "      <td>0</td>\n",
       "      <td>0.00</td>\n",
       "    </tr>\n",
       "    <tr>\n",
       "      <th>messages</th>\n",
       "      <td>0</td>\n",
       "      <td>0.00</td>\n",
       "    </tr>\n",
       "    <tr>\n",
       "      <th>mb_used</th>\n",
       "      <td>0</td>\n",
       "      <td>0.00</td>\n",
       "    </tr>\n",
       "    <tr>\n",
       "      <th>is_ultra</th>\n",
       "      <td>0</td>\n",
       "      <td>0.00</td>\n",
       "    </tr>\n",
       "  </tbody>\n",
       "</table>\n",
       "</div>"
      ],
      "text/plain": [
       "          missing_values  %_of_total\n",
       "calls                  0        0.00\n",
       "minutes                0        0.00\n",
       "messages               0        0.00\n",
       "mb_used                0        0.00\n",
       "is_ultra               0        0.00"
      ]
     },
     "execution_count": 8,
     "metadata": {},
     "output_type": "execute_result"
    }
   ],
   "source": [
    "# list of all missing values in the Dataset - in total and %\n",
    "report = df.isna().sum().to_frame()\n",
    "report = report.rename(columns={0: \"missing_values\"})\n",
    "report[\"%_of_total\"] = (report[\"missing_values\"] / df.shape[0] * 100).round(2)\n",
    "report.sort_values(by=\"missing_values\", ascending=False)"
   ]
  },
  {
   "cell_type": "markdown",
   "metadata": {},
   "source": [
    "No missing data"
   ]
  },
  {
   "cell_type": "markdown",
   "metadata": {},
   "source": [
    "### checking for duplicates"
   ]
  },
  {
   "cell_type": "code",
   "execution_count": 9,
   "metadata": {},
   "outputs": [
    {
     "name": "stdout",
     "output_type": "stream",
     "text": [
      "Number of duplictes is \t\t0\n"
     ]
    }
   ],
   "source": [
    "# check to see if there are exact duplicates:\n",
    "print(f\"Number of duplictes is \\t\\t{df.duplicated().sum()}\")"
   ]
  },
  {
   "cell_type": "markdown",
   "metadata": {},
   "source": [
    "no duplicates on the data"
   ]
  },
  {
   "cell_type": "markdown",
   "metadata": {},
   "source": [
    "### changing the type of the data\n",
    "manualy check every data frame"
   ]
  },
  {
   "cell_type": "code",
   "execution_count": 10,
   "metadata": {},
   "outputs": [
    {
     "name": "stdout",
     "output_type": "stream",
     "text": [
      "<class 'pandas.core.frame.DataFrame'>\n",
      "RangeIndex: 3214 entries, 0 to 3213\n",
      "Data columns (total 5 columns):\n",
      " #   Column    Non-Null Count  Dtype  \n",
      "---  ------    --------------  -----  \n",
      " 0   calls     3214 non-null   float64\n",
      " 1   minutes   3214 non-null   float64\n",
      " 2   messages  3214 non-null   float64\n",
      " 3   mb_used   3214 non-null   float64\n",
      " 4   is_ultra  3214 non-null   int64  \n",
      "dtypes: float64(4), int64(1)\n",
      "memory usage: 125.7 KB\n"
     ]
    }
   ],
   "source": [
    "# checking the data frame columns type\n",
    "df.info()"
   ]
  },
  {
   "cell_type": "code",
   "execution_count": 11,
   "metadata": {},
   "outputs": [],
   "source": [
    "df['calls'] = df['calls'].astype('int64')\n",
    "df['messages'] = df['messages'].astype('int64')"
   ]
  },
  {
   "cell_type": "markdown",
   "metadata": {},
   "source": [
    "<div class=\"alert alert-success\">\n",
    "<b>Reviewer's comment</b>\n",
    "  \n",
    "Alright, the data was loaded and inspected!\n",
    "  \n",
    "</div>"
   ]
  },
  {
   "cell_type": "markdown",
   "metadata": {},
   "source": [
    "# Split the source data into a training set, a validation set, and a test set"
   ]
  },
  {
   "cell_type": "markdown",
   "metadata": {},
   "source": [
    "features are all parameters (input) for the model. The target is the discrete class of the outcome."
   ]
  },
  {
   "cell_type": "markdown",
   "metadata": {},
   "source": [
    "## split the data to training, validation and test\n",
    "We use 60% for training, 20% for validation and 20% for the test"
   ]
  },
  {
   "cell_type": "code",
   "execution_count": 12,
   "metadata": {},
   "outputs": [],
   "source": [
    "# First, we split to taking 60% of the data and 40%\n",
    "df_train, df_temp = train_test_split(df, test_size=0.4, random_state=12345)"
   ]
  },
  {
   "cell_type": "code",
   "execution_count": 13,
   "metadata": {},
   "outputs": [],
   "source": [
    "# Then we split the temp to validate and test - each 20%\n",
    "df_validate, df_test = train_test_split(\n",
    "    df_temp, test_size=0.5, random_state=12345)"
   ]
  },
  {
   "cell_type": "markdown",
   "metadata": {},
   "source": [
    "## divide the data to feature and target"
   ]
  },
  {
   "cell_type": "code",
   "execution_count": 14,
   "metadata": {},
   "outputs": [],
   "source": [
    "features_train = df_train.drop(['is_ultra'], axis=1)\n",
    "features_validate = df_validate.drop(['is_ultra'], axis=1)\n",
    "features_test = df_test.drop(['is_ultra'], axis=1)"
   ]
  },
  {
   "cell_type": "code",
   "execution_count": 15,
   "metadata": {},
   "outputs": [],
   "source": [
    "target_train = df_train['is_ultra']\n",
    "target_validate = df_validate['is_ultra']\n",
    "target_test = df_test['is_ultra']"
   ]
  },
  {
   "cell_type": "markdown",
   "metadata": {},
   "source": [
    "<div class=\"alert alert-success\">\n",
    "<b>Reviewer's comment</b>\n",
    "  \n",
    "The data was split into train, validation and test. The ratios are reasonable.\n",
    "  \n",
    "</div>"
   ]
  },
  {
   "cell_type": "markdown",
   "metadata": {},
   "source": [
    "## Investigate the quality of different models by changing hyperparameters"
   ]
  },
  {
   "cell_type": "markdown",
   "metadata": {},
   "source": [
    "### Decision Tree"
   ]
  },
  {
   "cell_type": "markdown",
   "metadata": {},
   "source": [
    "Decision Tree is one of the predictive modeling approaches used in when the predicted outcome is the class (discrete) to which the data belongs.\n",
    "\n",
    "It uses a decision tree to go from observations (features) about an item (represented in the branches) to conclusions about the item's target value (represented in the leaves).\n",
    "\n",
    "Tree models where the target variable can take a discrete set of values are called classification trees; in these tree structures, leaves represent class labels and branches represent conjunctions of features that lead to those class labels. "
   ]
  },
  {
   "cell_type": "code",
   "execution_count": 16,
   "metadata": {},
   "outputs": [],
   "source": [
    "model_dt = DecisionTreeClassifier(random_state=12345,  max_depth=3)"
   ]
  },
  {
   "cell_type": "code",
   "execution_count": 17,
   "metadata": {},
   "outputs": [
    {
     "data": {
      "text/plain": [
       "DecisionTreeClassifier(max_depth=3, random_state=12345)"
      ]
     },
     "execution_count": 17,
     "metadata": {},
     "output_type": "execute_result"
    }
   ],
   "source": [
    "model_dt.fit(features_train, target_train)"
   ]
  },
  {
   "cell_type": "code",
   "execution_count": 18,
   "metadata": {},
   "outputs": [],
   "source": [
    "predictions_train = model_dt.predict(features_train)\n",
    "predictions_validate = model_dt.predict(features_validate)"
   ]
  },
  {
   "cell_type": "code",
   "execution_count": 19,
   "metadata": {},
   "outputs": [
    {
     "data": {
      "text/plain": [
       "0.7853810264385692"
      ]
     },
     "execution_count": 19,
     "metadata": {},
     "output_type": "execute_result"
    }
   ],
   "source": [
    "accuracy_dt = accuracy_score(target_validate, predictions_validate)\n",
    "accuracy_dt"
   ]
  },
  {
   "cell_type": "markdown",
   "metadata": {},
   "source": [
    "**conclusion:** when running the model on hyperparameter $max__depth = 3$, the accuracy score of the model is 0.785"
   ]
  },
  {
   "cell_type": "markdown",
   "metadata": {},
   "source": [
    "#### optimizing hyperparameters"
   ]
  },
  {
   "cell_type": "markdown",
   "metadata": {},
   "source": [
    "We will try to change the hyperparameter max_depth from 1 to 10 to find out what gives the best accuracy score of the model."
   ]
  },
  {
   "cell_type": "code",
   "execution_count": 20,
   "metadata": {},
   "outputs": [
    {
     "name": "stdout",
     "output_type": "stream",
     "text": [
      "For max_depth = 1,\t accuracy is 0.75428\n",
      "For max_depth = 2,\t accuracy is 0.78227\n",
      "For max_depth = 3,\t accuracy is 0.78538\n",
      "For max_depth = 4,\t accuracy is 0.77916\n",
      "For max_depth = 5,\t accuracy is 0.77916\n",
      "For max_depth = 6,\t accuracy is 0.78383\n",
      "For max_depth = 7,\t accuracy is 0.78227\n",
      "For max_depth = 8,\t accuracy is 0.77916\n",
      "For max_depth = 9,\t accuracy is 0.78227\n",
      "For max_depth = 10,\t accuracy is 0.77449\n"
     ]
    }
   ],
   "source": [
    "for i in range(1, 11):\n",
    "    model_dt = DecisionTreeClassifier(random_state=12345,  max_depth=i)\n",
    "    model_dt.fit(features_train, target_train)\n",
    "    predictions_validate = model_dt.predict(features_validate)\n",
    "    accuracy_dt = accuracy_score(target_validate, predictions_validate)\n",
    "    print(f'For max_depth = {i},\\t accuracy is {accuracy_dt:.5f}')"
   ]
  },
  {
   "cell_type": "markdown",
   "metadata": {},
   "source": [
    "**conclusion:** on checking the model on the validate data, the best accuracy score is $max__depth = 3$"
   ]
  },
  {
   "cell_type": "code",
   "execution_count": 21,
   "metadata": {},
   "outputs": [
    {
     "name": "stdout",
     "output_type": "stream",
     "text": [
      "For max_depth = 3 on the test data, accuracy is 0.77916\n"
     ]
    }
   ],
   "source": [
    "model_dt = DecisionTreeClassifier(random_state=12345, max_depth=3)\n",
    "model_dt.fit(features_train, target_train)\n",
    "predictions_test = model_dt.predict(features_test)\n",
    "accuracy_dt = accuracy_score(target_test, predictions_test)\n",
    "print(f'For max_depth = 3 on the test data, accuracy is {accuracy_dt:.5f}')"
   ]
  },
  {
   "cell_type": "markdown",
   "metadata": {},
   "source": [
    "### Random Forest"
   ]
  },
  {
   "cell_type": "markdown",
   "metadata": {},
   "source": [
    "Random forests are an ensemble learning method for classification that operates by constructing a multitude of decision trees at training time.\n",
    "\n",
    "For classification tasks, the output of the random forest is the class selected by most trees.\n",
    "\n",
    "Random decision forests correct for decision trees' habit of overfitting to their training set. \n",
    "\n",
    "Random forests generally outperform decision trees."
   ]
  },
  {
   "cell_type": "code",
   "execution_count": 22,
   "metadata": {},
   "outputs": [],
   "source": [
    "model_rf = RandomForestClassifier(random_state=12345, n_estimators=3)"
   ]
  },
  {
   "cell_type": "code",
   "execution_count": 23,
   "metadata": {},
   "outputs": [
    {
     "data": {
      "text/plain": [
       "RandomForestClassifier(n_estimators=3, random_state=12345)"
      ]
     },
     "execution_count": 23,
     "metadata": {},
     "output_type": "execute_result"
    }
   ],
   "source": [
    "model_rf.fit(features_train, target_train)"
   ]
  },
  {
   "cell_type": "code",
   "execution_count": 24,
   "metadata": {},
   "outputs": [],
   "source": [
    "predictions_train = model_rf.predict(features_train)\n",
    "predictions_validate = model_rf.predict(features_validate)"
   ]
  },
  {
   "cell_type": "code",
   "execution_count": 25,
   "metadata": {},
   "outputs": [
    {
     "data": {
      "text/plain": [
       "0.7387247278382582"
      ]
     },
     "execution_count": 25,
     "metadata": {},
     "output_type": "execute_result"
    }
   ],
   "source": [
    "accuracy_rf = accuracy_score(target_validate, predictions_validate)\n",
    "accuracy_rf"
   ]
  },
  {
   "cell_type": "markdown",
   "metadata": {},
   "source": [
    "**conclusion:** when running the model on hyperparameter $n__estimators = 3$, the accuracy score of the model is 0.7387"
   ]
  },
  {
   "cell_type": "markdown",
   "metadata": {},
   "source": [
    "#### optimizing hyperparameters"
   ]
  },
  {
   "cell_type": "markdown",
   "metadata": {},
   "source": [
    "We will try to change the hyperparameter n_estimators from 1 to 10 to find out what gives the best accuracy score of the model."
   ]
  },
  {
   "cell_type": "code",
   "execution_count": 26,
   "metadata": {},
   "outputs": [
    {
     "name": "stdout",
     "output_type": "stream",
     "text": [
      "For n_estimators = 1,\t accuracy is 0.71073\n",
      "For n_estimators = 2,\t accuracy is 0.76361\n",
      "For n_estimators = 3,\t accuracy is 0.73872\n",
      "For n_estimators = 4,\t accuracy is 0.77138\n",
      "For n_estimators = 5,\t accuracy is 0.74961\n",
      "For n_estimators = 6,\t accuracy is 0.78072\n",
      "For n_estimators = 7,\t accuracy is 0.76827\n",
      "For n_estimators = 8,\t accuracy is 0.78227\n",
      "For n_estimators = 9,\t accuracy is 0.77294\n",
      "For n_estimators = 10,\t accuracy is 0.78538\n"
     ]
    }
   ],
   "source": [
    "for i in range(1, 11):\n",
    "    model_rf = RandomForestClassifier(random_state=12345, n_estimators=i)\n",
    "    model_rf.fit(features_train, target_train)\n",
    "    predictions_validate = model_rf.predict(features_validate)\n",
    "    accuracy_rf = accuracy_score(target_validate, predictions_validate)\n",
    "    print(f'For n_estimators = {i},\\t accuracy is {accuracy_rf:.5f}')"
   ]
  },
  {
   "cell_type": "markdown",
   "metadata": {},
   "source": [
    "**conclusion:** on checking the model on the validate data, the best accuracy score is $n__estimators = 10$"
   ]
  },
  {
   "cell_type": "code",
   "execution_count": 27,
   "metadata": {},
   "outputs": [
    {
     "name": "stdout",
     "output_type": "stream",
     "text": [
      "For n_estimators = 10 on the test data, accuracy is 0.78072\n"
     ]
    }
   ],
   "source": [
    "model_rf = RandomForestClassifier(random_state=12345, n_estimators=10)\n",
    "model_rf.fit(features_train, target_train)\n",
    "predictions_test = model_rf.predict(features_test)\n",
    "accuracy_rf = accuracy_score(target_test, predictions_test)\n",
    "print(f'For n_estimators = 10 on the test data, accuracy is {accuracy_rf:.5f}')"
   ]
  },
  {
   "cell_type": "markdown",
   "metadata": {},
   "source": [
    "### Logistic Regression"
   ]
  },
  {
   "cell_type": "markdown",
   "metadata": {},
   "source": [
    "Logistic regression is a statistical model that uses a logistic function to model a binary dependent variable\n",
    "\n",
    "Logistic regression is estimating the parameters of a logistic model (a form of binary regression). \n",
    "\n",
    "Mathematically, a binary logistic model has a dependent variable with two possible values, such as pass/fail which is represented by an indicator variable (target) where the two values are labeled \"0\" and \"1\".\n",
    "\n",
    "In the logistic model, the log-odds (the logarithm of the odds) for the value labeled \"1\" is a linear combination of one or more independent variables (\"predictors\"); the independent variables can each be a binary variable (two classes, coded by an indicator variable) or a continuous variable (any real value).\n",
    "\n",
    "The corresponding probability of the value labeled \"1\" can vary between 0 (certainly the value \"0\") and 1 (certainly the value \"1\"), hence the labeling.\n",
    "\n",
    "The function that converts log-odds to probability is the sigmoid function.\n",
    "\n",
    "In a binary logistic regression model, the dependent variable (target) has two levels (categorical)."
   ]
  },
  {
   "cell_type": "code",
   "execution_count": 28,
   "metadata": {},
   "outputs": [],
   "source": [
    "model_lr = LogisticRegression(\n",
    "    random_state=12345, solver='liblinear', max_iter=100)"
   ]
  },
  {
   "cell_type": "code",
   "execution_count": 29,
   "metadata": {},
   "outputs": [
    {
     "data": {
      "text/plain": [
       "LogisticRegression(random_state=12345, solver='liblinear')"
      ]
     },
     "execution_count": 29,
     "metadata": {},
     "output_type": "execute_result"
    }
   ],
   "source": [
    "model_lr.fit(features_train, target_train)"
   ]
  },
  {
   "cell_type": "code",
   "execution_count": 30,
   "metadata": {},
   "outputs": [],
   "source": [
    "predictions_train = model_lr.predict(features_train)\n",
    "predictions_validate = model_lr.predict(features_validate)"
   ]
  },
  {
   "cell_type": "code",
   "execution_count": 31,
   "metadata": {},
   "outputs": [
    {
     "data": {
      "text/plain": [
       "0.7589424572317263"
      ]
     },
     "execution_count": 31,
     "metadata": {},
     "output_type": "execute_result"
    }
   ],
   "source": [
    "accuracy_lr = accuracy_score(target_validate, predictions_validate)\n",
    "accuracy_lr"
   ]
  },
  {
   "cell_type": "markdown",
   "metadata": {},
   "source": [
    "**conclusion:** when running the model on hyperparameter $solver = liblinear$ , the accuracy score of the model is 0.7574"
   ]
  },
  {
   "cell_type": "markdown",
   "metadata": {},
   "source": [
    "#### optimizing hyperparameters"
   ]
  },
  {
   "cell_type": "markdown",
   "metadata": {},
   "source": [
    "We will try to change the hyperparameter solver for every option to find out what gives the best accuracy score of the model."
   ]
  },
  {
   "cell_type": "code",
   "execution_count": 32,
   "metadata": {},
   "outputs": [
    {
     "name": "stdout",
     "output_type": "stream",
     "text": [
      "For solver = newton-cg,\t accuracy is 0.75583\n",
      "For solver = lbfgs,\t accuracy is 0.71073\n",
      "For solver = liblinear,\t accuracy is 0.75894\n",
      "For solver = sag,\t accuracy is 0.70607\n",
      "For solver = saga,\t accuracy is 0.70607\n"
     ]
    }
   ],
   "source": [
    "solver = ['newton-cg', 'lbfgs', 'liblinear', 'sag', 'saga']\n",
    "for i in solver:\n",
    "    model_lr = LogisticRegression(random_state=12345, solver=i)\n",
    "    model_lr.fit(features_train, target_train)\n",
    "    predictions_validate = model_lr.predict(features_validate)\n",
    "    accuracy_lr = accuracy_score(target_validate, predictions_validate)\n",
    "    print(f'For solver = {i},\\t accuracy is {accuracy_lr:.5f}')"
   ]
  },
  {
   "cell_type": "markdown",
   "metadata": {},
   "source": [
    "**conclusion:** on checking the model on the validate data, the best accuracy score is $solver = \"liblinear\"$"
   ]
  },
  {
   "cell_type": "code",
   "execution_count": 33,
   "metadata": {
    "scrolled": true
   },
   "outputs": [
    {
     "name": "stdout",
     "output_type": "stream",
     "text": [
      "For solver = \"liblinear\",\t accuracy is 0.74028\n"
     ]
    }
   ],
   "source": [
    "model_lr = LogisticRegression(random_state=12345, solver='liblinear')\n",
    "model_lr.fit(features_train, target_train)\n",
    "predictions_test = model_lr.predict(features_test)\n",
    "accuracy_lr = accuracy_score(target_test, predictions_test)\n",
    "print(f'For solver = \"liblinear\",\\t accuracy is {accuracy_lr:.5f}')"
   ]
  },
  {
   "cell_type": "markdown",
   "metadata": {},
   "source": [
    "<div class=\"alert alert-success\">\n",
    "<b>Reviewer's comment</b>\n",
    "  \n",
    "Very good! You tried three different models, tuned their hyperparameters using the validation set, evaluated the final models on the test set, and got great results!\n",
    "  \n",
    "</div>"
   ]
  },
  {
   "cell_type": "markdown",
   "metadata": {},
   "source": [
    "# Sanity check"
   ]
  },
  {
   "cell_type": "markdown",
   "metadata": {},
   "source": [
    "compare the models to the dummy classifier by using different metrics and the confusion matrix"
   ]
  },
  {
   "cell_type": "code",
   "execution_count": 34,
   "metadata": {},
   "outputs": [],
   "source": [
    "# making the dummy classifier\n",
    "clf_dummy = DummyClassifier(random_state=12345)\n",
    "clf_dummy.fit(features_train, target_train)\n",
    "predictions_test = clf_dummy.predict(features_test)"
   ]
  },
  {
   "cell_type": "code",
   "execution_count": 35,
   "metadata": {},
   "outputs": [
    {
     "data": {
      "text/plain": [
       "<sklearn.metrics._plot.confusion_matrix.ConfusionMatrixDisplay at 0x7f9106259650>"
      ]
     },
     "execution_count": 35,
     "metadata": {},
     "output_type": "execute_result"
    },
    {
     "data": {
      "image/png": "[encoded data removed]",
      "text/plain": [
       "<Figure size 432x288 with 2 Axes>"
      ]
     },
     "metadata": {
      "needs_background": "light"
     },
     "output_type": "display_data"
    }
   ],
   "source": [
    "# for the test data\n",
    "plot_confusion_matrix(estimator=clf_dummy, X=features_test, y_true=target_test,\n",
    "                      normalize='all', cmap='Blues', display_labels=['plan Smart=0', 'plan Ultra=1'])"
   ]
  },
  {
   "cell_type": "markdown",
   "metadata": {},
   "source": [
    "calculate the value_counts of the data to see whether there is explanation  why we got these results"
   ]
  },
  {
   "cell_type": "code",
   "execution_count": 36,
   "metadata": {},
   "outputs": [
    {
     "data": {
      "text/plain": [
       "0   0.69\n",
       "1   0.31\n",
       "Name: is_ultra, dtype: float64"
      ]
     },
     "execution_count": 36,
     "metadata": {},
     "output_type": "execute_result"
    }
   ],
   "source": [
    "target_train.value_counts(normalize=True)\n",
    "# plan for the current month (Ultra - 1, Smart - 0)"
   ]
  },
  {
   "cell_type": "markdown",
   "metadata": {},
   "source": [
    "**conclusion:** the data is not balanced. The dummy classifier gives about 70% accuracy only because of the imbalance target data. For this project we will not deal with it but only mention that the accuracy score of every model will start with 70% and give better score from that"
   ]
  },
  {
   "cell_type": "markdown",
   "metadata": {},
   "source": [
    "<div class=\"alert alert-success\">\n",
    "<b>Reviewer's comment</b>\n",
    "  \n",
    "Yep, you are right! A constant model always predicting the majority class serves as a good baseline in this case. Comparing your models to some baseline is a good way to make sure the models learn something non-trivial. \n",
    "  \n",
    "</div>"
   ]
  },
  {
   "cell_type": "markdown",
   "metadata": {},
   "source": [
    "## ploting confusion matrix to the three models"
   ]
  },
  {
   "cell_type": "markdown",
   "metadata": {},
   "source": [
    "### Decision Tree confusion matrix"
   ]
  },
  {
   "cell_type": "code",
   "execution_count": 37,
   "metadata": {},
   "outputs": [
    {
     "data": {
      "text/plain": [
       "<sklearn.metrics._plot.confusion_matrix.ConfusionMatrixDisplay at 0x7f90fcb93610>"
      ]
     },
     "execution_count": 37,
     "metadata": {},
     "output_type": "execute_result"
    },
    {
     "data": {
      "image/png": "[encoded data removed]",
      "text/plain": [
       "<Figure size 432x288 with 2 Axes>"
      ]
     },
     "metadata": {
      "needs_background": "light"
     },
     "output_type": "display_data"
    }
   ],
   "source": [
    "model_dt = DecisionTreeClassifier(random_state=12345, max_depth=3)\n",
    "model_dt.fit(features_train, target_train)\n",
    "plot_confusion_matrix(estimator=model_dt, X=features_test, y_true=target_test,\n",
    "                      normalize='all', cmap='Blues', display_labels=['plan Smart=0', 'plan Ultra=1'])"
   ]
  },
  {
   "cell_type": "markdown",
   "metadata": {},
   "source": [
    "### Random Forest confusion matrix"
   ]
  },
  {
   "cell_type": "code",
   "execution_count": 38,
   "metadata": {},
   "outputs": [
    {
     "data": {
      "text/plain": [
       "<sklearn.metrics._plot.confusion_matrix.ConfusionMatrixDisplay at 0x7f9106224250>"
      ]
     },
     "execution_count": 38,
     "metadata": {},
     "output_type": "execute_result"
    },
    {
     "data": {
      "image/png": "[encoded data removed]",
      "text/plain": [
       "<Figure size 432x288 with 2 Axes>"
      ]
     },
     "metadata": {
      "needs_background": "light"
     },
     "output_type": "display_data"
    }
   ],
   "source": [
    "model_rf = RandomForestClassifier(random_state=12345, n_estimators=10)\n",
    "model_rf.fit(features_train, target_train)\n",
    "plot_confusion_matrix(estimator=model_rf, X=features_test, y_true=target_test,\n",
    "                      normalize='all', cmap='Blues', display_labels=['plan Smart=0', 'plan Ultra=1'])"
   ]
  },
  {
   "cell_type": "markdown",
   "metadata": {},
   "source": [
    "### Logistic Regression confusion matrix"
   ]
  },
  {
   "cell_type": "code",
   "execution_count": 39,
   "metadata": {},
   "outputs": [
    {
     "data": {
      "text/plain": [
       "<sklearn.metrics._plot.confusion_matrix.ConfusionMatrixDisplay at 0x7f91061c07d0>"
      ]
     },
     "execution_count": 39,
     "metadata": {},
     "output_type": "execute_result"
    },
    {
     "data": {
      "image/png": "[encoded data removed]",
      "text/plain": [
       "<Figure size 432x288 with 2 Axes>"
      ]
     },
     "metadata": {
      "needs_background": "light"
     },
     "output_type": "display_data"
    }
   ],
   "source": [
    "model_lr = LogisticRegression(random_state=12345, solver='liblinear')\n",
    "model_lr.fit(features_train, target_train)\n",
    "plot_confusion_matrix(estimator=model_lr, X=features_test, y_true=target_test,\n",
    "                      normalize='all', cmap='Blues', display_labels=['plan Smart=0', 'plan Ultra=1'])"
   ]
  },
  {
   "cell_type": "markdown",
   "metadata": {},
   "source": [
    "## Conclusion\n",
    "This project is about training classification model. We have 2 options on the target: '0' and '1'.\n",
    "For selecting the best model, we checked three options: decision tree, random forest and Logistic Regression.\n",
    "To prepare the date, we checked it for duplicates and missing values, we changes the type of the data to appropriate types.\n",
    "\n",
    "We split the data between train date, validate data and test data with the ratio 60%, 20% and 20% respectively. \n",
    "For every split we had feature data for the independent variables and target for the outcome.\n",
    "after running the model, we tried to optimize it by changing one hyperparameter and to fine out what setting returns the best accurate score.\n",
    "\n",
    "### The major finding\n",
    "- The decision tree model\n",
    "    - hyperparameter: max_depth. best value = 3\n",
    "    - accuracy score on test data: 0.77916\n",
    "- The random forest model  \n",
    "    - hyperparameter: n_estimators. best value = 10\n",
    "    - accuracy score on test data: 0.78072\n",
    "- The logistic regression model  \n",
    "    - hyperparameter: solver. best value = liblinear\n",
    "    - accuracy score on test data: 0.74028\n",
    "\n",
    "The **random forest model** wins    \n",
    "\n",
    "### Sanity check\n",
    "To establishing a baseline model that we can compare our model’s performance we checked the data in the dummy classifier and plot confusion matrix. On the dummy classifier, we could find 68% for plan smart('0') and null for plan ultra('1').\n",
    "We, then, plot confusion matrix for every model and got these results:\n",
    "\n",
    "\n",
    "|True| model | decision tree | random forest | logistic regression | dummy classifier |\n",
    "|---|---|---|---|---|---|\n",
    "| 0  | 0  | 63%  | 61%  | 67%  |68% |\n",
    "| 0 | 1  | 5% |  7.2% |  1.6% | 0|\n",
    "| 1  |  0 | 17%  | 15%  | 24%  |32% |\n",
    "| 1  |  1 | 14%  | 17%  | 7.2%  |0 |\n",
    "\n",
    "All three models could not predict the ultra plan ('1') correctly. The results are very close to the dummy classifier. This mean we cannot relay on any model.\n",
    "\n",
    "To find out why the results came out incorrect we notice that the data is not balanced. About 70% for '0'.\n",
    "We need to address this problem to get better outcome for the models."
   ]
  },
  {
   "cell_type": "markdown",
   "metadata": {},
   "source": [
    "<div class=\"alert alert-success\">\n",
    "<b>Reviewer's comment</b>\n",
    "  \n",
    "You are correct that target imbalance is problematic for models, solutions to this will be explored in the next project.\n",
    "  \n",
    "</div>"
   ]
  },
  {
   "cell_type": "code",
   "execution_count": null,
   "metadata": {},
   "outputs": [],
   "source": []
  }
 ],
 "metadata": {
  "ExecuteTimeLog": [
   {
    "duration": 167,
    "start_time": "2021-09-17T02:06:43.213Z"
   },
   {
    "duration": 24912,
    "start_time": "2021-09-17T02:11:15.739Z"
   },
   {
    "duration": 1851,
    "start_time": "2021-09-17T02:11:40.654Z"
   },
   {
    "duration": 3,
    "start_time": "2021-09-17T02:11:42.508Z"
   },
   {
    "duration": 8,
    "start_time": "2021-09-17T02:11:42.517Z"
   },
   {
    "duration": 158,
    "start_time": "2021-09-17T02:11:42.527Z"
   },
   {
    "duration": 20,
    "start_time": "2021-09-17T02:11:42.688Z"
   },
   {
    "duration": 13,
    "start_time": "2021-09-17T02:11:42.711Z"
   },
   {
    "duration": 15,
    "start_time": "2021-09-17T02:11:42.729Z"
   },
   {
    "duration": 6,
    "start_time": "2021-09-17T02:11:42.747Z"
   },
   {
    "duration": 17,
    "start_time": "2021-09-17T02:11:42.756Z"
   },
   {
    "duration": 41,
    "start_time": "2021-09-17T02:11:42.776Z"
   },
   {
    "duration": 15,
    "start_time": "2021-09-17T02:11:42.820Z"
   },
   {
    "duration": 11,
    "start_time": "2021-09-17T02:11:42.837Z"
   },
   {
    "duration": 13,
    "start_time": "2021-09-17T02:11:42.851Z"
   },
   {
    "duration": 8,
    "start_time": "2021-09-17T02:11:42.866Z"
   },
   {
    "duration": 44,
    "start_time": "2021-09-17T02:11:42.876Z"
   },
   {
    "duration": 23,
    "start_time": "2021-09-17T02:11:42.923Z"
   },
   {
    "duration": 8,
    "start_time": "2021-09-17T02:11:42.949Z"
   },
   {
    "duration": 10,
    "start_time": "2021-09-17T02:11:42.960Z"
   },
   {
    "duration": 123,
    "start_time": "2021-09-17T02:11:42.972Z"
   },
   {
    "duration": 21,
    "start_time": "2021-09-17T02:11:43.098Z"
   },
   {
    "duration": 3,
    "start_time": "2021-09-17T02:11:43.122Z"
   },
   {
    "duration": 27,
    "start_time": "2021-09-17T02:11:43.130Z"
   },
   {
    "duration": 56,
    "start_time": "2021-09-17T02:11:43.160Z"
   },
   {
    "duration": 6,
    "start_time": "2021-09-17T02:11:43.219Z"
   },
   {
    "duration": 397,
    "start_time": "2021-09-17T02:11:43.228Z"
   },
   {
    "duration": 67,
    "start_time": "2021-09-17T02:11:43.628Z"
   },
   {
    "duration": 18,
    "start_time": "2021-09-17T02:11:43.698Z"
   },
   {
    "duration": 29,
    "start_time": "2021-09-17T02:11:43.718Z"
   },
   {
    "duration": 8,
    "start_time": "2021-09-17T02:11:43.749Z"
   },
   {
    "duration": 10,
    "start_time": "2021-09-17T02:11:43.759Z"
   },
   {
    "duration": 325,
    "start_time": "2021-09-17T02:11:43.771Z"
   },
   {
    "duration": 29,
    "start_time": "2021-09-17T02:11:44.098Z"
   },
   {
    "duration": 5,
    "start_time": "2021-09-17T02:11:44.129Z"
   },
   {
    "duration": 623,
    "start_time": "2021-09-17T02:11:44.136Z"
   },
   {
    "duration": 7,
    "start_time": "2021-09-17T02:11:44.762Z"
   },
   {
    "duration": 294,
    "start_time": "2021-09-17T02:11:44.771Z"
   },
   {
    "duration": 410,
    "start_time": "2021-09-17T02:11:45.067Z"
   },
   {
    "duration": 287,
    "start_time": "2021-09-17T02:11:45.480Z"
   }
  ],
  "kernelspec": {
   "display_name": "Python 3 (ipykernel)",
   "language": "python",
   "name": "python3"
  },
  "language_info": {
   "codemirror_mode": {
    "name": "ipython",
    "version": 3
   },
   "file_extension": ".py",
   "mimetype": "text/x-python",
   "name": "python",
   "nbconvert_exporter": "python",
   "pygments_lexer": "ipython3",
   "version": "3.9.6"
  },
  "toc": {
   "base_numbering": 1,
   "nav_menu": {},
   "number_sections": true,
   "sideBar": true,
   "skip_h1_title": false,
   "title_cell": "Table of Contents",
   "title_sidebar": "Contents",
   "toc_cell": false,
   "toc_position": {
    "height": "569.167px",
    "left": "28px",
    "top": "110.633px",
    "width": "212px"
   },
   "toc_section_display": true,
   "toc_window_display": false
  },
  "varInspector": {
   "cols": {
    "lenName": 16,
    "lenType": 16,
    "lenVar": 40
   },
   "kernels_config": {
    "python": {
     "delete_cmd_postfix": "",
     "delete_cmd_prefix": "del ",
     "library": "var_list.py",
     "varRefreshCmd": "print(var_dic_list())"
    },
    "r": {
     "delete_cmd_postfix": ") ",
     "delete_cmd_prefix": "rm(",
     "library": "var_list.r",
     "varRefreshCmd": "cat(var_dic_list()) "
    }
   },
   "types_to_exclude": [
    "module",
    "function",
    "builtin_function_or_method",
    "instance",
    "_Feature"
   ],
   "window_display": false
  }
 },
 "nbformat": 4,
 "nbformat_minor": 2
}
