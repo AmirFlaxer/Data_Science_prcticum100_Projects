{
 "cells": [
  {
   "cell_type": "markdown",
   "id": "e6f93bbe",
   "metadata": {},
   "source": [
    "Hi Amir. I'm Svetlana and will review your project. I've added all my comments to new cells with different coloring. Please don't delete my comments.\n",
    "\n",
    "\n",
    "The first time I see a mistake, I'll just point it out and let you find it and fix it yourself. In a real job, your boss will do the same, and I'm trying to prepare you to work as an Data Analyst. But if you can't handle this task yet, I'll give you a more accurate hint at the next check.\n",
    "\n",
    "<div class=\"alert alert-success\" role=\"alert\">\n",
    "Reviewer's comment v. 1:\n",
    "    \n",
    "If you did something great I'm using green color for my comment\n",
    "</div>\n",
    "\n",
    "<div class=\"alert alert-warning\" role=\"alert\">\n",
    "Reviewer's comment v. 1:\n",
    "    \n",
    "If I want to give you advice or think that something can be improved, then I'll use yellow. This is an optional recommendation.\n",
    "</div>\n",
    "\n",
    "<div class=\"alert alert-danger\" role=\"alert\">\n",
    "Reviewer's comment v. 1:\n",
    "    \n",
    "If the topic requires some extra work so I can accept it then the color will be red\n",
    "</div>\n",
    "\n",
    "## Review v. 1<a class=\"tocSkip\">\n",
    "\n",
    "Thank you! Your project has been received. It's clear that you've done a lot of work on it.  But, unfortunately, your project is not quite ready for review. This is because the code doesn’t run because of error. You've already done a lot, I am sure you can handle it!\n",
    "    \n",
    "## Review v. 2<a class=\"tocSkip\">\n",
    "    \n"
   ]
  },
  {
   "cell_type": "markdown",
   "id": "78a30442",
   "metadata": {
    "toc": true
   },
   "source": [
    "<h1>Table of Contents<span class=\"tocSkip\"></span></h1>\n",
    "<div class=\"toc\"><ul class=\"toc-item\"><li><span><a href=\"#Project-description\" data-toc-modified-id=\"Project-description-1\"><span class=\"toc-item-num\">1&nbsp;&nbsp;</span>Project description</a></span><ul class=\"toc-item\"><li><span><a href=\"#Description-of-the-data\" data-toc-modified-id=\"Description-of-the-data-1.1\"><span class=\"toc-item-num\">1.1&nbsp;&nbsp;</span>Description of the data</a></span></li></ul></li><li><span><a href=\"#Open-the-data-file-and-study-the-general-information\" data-toc-modified-id=\"Open-the-data-file-and-study-the-general-information-2\"><span class=\"toc-item-num\">2&nbsp;&nbsp;</span>Open the data file and study the general information</a></span><ul class=\"toc-item\"><li><span><a href=\"#Download-the-data\" data-toc-modified-id=\"Download-the-data-2.1\"><span class=\"toc-item-num\">2.1&nbsp;&nbsp;</span>Download the data</a></span></li></ul></li><li><span><a href=\"#Part-1\" data-toc-modified-id=\"Part-1-3\"><span class=\"toc-item-num\">3&nbsp;&nbsp;</span>Part 1</a></span><ul class=\"toc-item\"><li><span><a href=\"#prepare-it-for-analysis---hypotheses\" data-toc-modified-id=\"prepare-it-for-analysis---hypotheses-3.1\"><span class=\"toc-item-num\">3.1&nbsp;&nbsp;</span>prepare it for analysis - hypotheses</a></span><ul class=\"toc-item\"><li><span><a href=\"#Apply-the-ICE-framework-to-prioritize-hypotheses\" data-toc-modified-id=\"Apply-the-ICE-framework-to-prioritize-hypotheses-3.1.1\"><span class=\"toc-item-num\">3.1.1&nbsp;&nbsp;</span>Apply the ICE framework to prioritize hypotheses</a></span></li></ul></li></ul></li><li><span><a href=\"#Part-2.-A/B-Test-Analysis\" data-toc-modified-id=\"Part-2.-A/B-Test-Analysis-4\"><span class=\"toc-item-num\">4&nbsp;&nbsp;</span>Part 2. A/B Test Analysis</a></span><ul class=\"toc-item\"><li><span><a href=\"#prepare-it-for-analysis---visits\" data-toc-modified-id=\"prepare-it-for-analysis---visits-4.1\"><span class=\"toc-item-num\">4.1&nbsp;&nbsp;</span>prepare it for analysis - visits</a></span></li><li><span><a href=\"#prepare-it-for-analysis---orders\" data-toc-modified-id=\"prepare-it-for-analysis---orders-4.2\"><span class=\"toc-item-num\">4.2&nbsp;&nbsp;</span>prepare it for analysis - orders</a></span></li><li><span><a href=\"#cumulative-revenue-by-group\" data-toc-modified-id=\"cumulative-revenue-by-group-4.3\"><span class=\"toc-item-num\">4.3&nbsp;&nbsp;</span>cumulative revenue by group</a></span></li><li><span><a href=\"#cumulative-average-order-size-by-group\" data-toc-modified-id=\"cumulative-average-order-size-by-group-4.4\"><span class=\"toc-item-num\">4.4&nbsp;&nbsp;</span>cumulative average order size by group</a></span></li><li><span><a href=\"#relative-difference-in-cumulative-average-order-size-for-group-B-compared-with-group-A\" data-toc-modified-id=\"relative-difference-in-cumulative-average-order-size-for-group-B-compared-with-group-A-4.5\"><span class=\"toc-item-num\">4.5&nbsp;&nbsp;</span>relative difference in cumulative average order size for group B compared with group A</a></span></li><li><span><a href=\"#conversion-rate-as-the-ratio-of-orders-to-the-number-of-visits-for-each-day\" data-toc-modified-id=\"conversion-rate-as-the-ratio-of-orders-to-the-number-of-visits-for-each-day-4.6\"><span class=\"toc-item-num\">4.6&nbsp;&nbsp;</span>conversion rate as the ratio of orders to the number of visits for each day</a></span></li><li><span><a href=\"#scatter-chart-of-the-number-of-orders-per-user\" data-toc-modified-id=\"scatter-chart-of-the-number-of-orders-per-user-4.7\"><span class=\"toc-item-num\">4.7&nbsp;&nbsp;</span>scatter chart of the number of orders per user</a></span></li><li><span><a href=\"#Calculate-the-95th-and-99th-percentiles-for-the-number-of-orders-per-user.\" data-toc-modified-id=\"Calculate-the-95th-and-99th-percentiles-for-the-number-of-orders-per-user.-4.8\"><span class=\"toc-item-num\">4.8&nbsp;&nbsp;</span>Calculate the 95th and 99th percentiles for the number of orders per user.</a></span></li><li><span><a href=\"#scatter-chart-of-order-prices\" data-toc-modified-id=\"scatter-chart-of-order-prices-4.9\"><span class=\"toc-item-num\">4.9&nbsp;&nbsp;</span>scatter chart of order prices</a></span></li><li><span><a href=\"#Calculate-the-95th-and-99th-percentiles-of-order-prices\" data-toc-modified-id=\"Calculate-the-95th-and-99th-percentiles-of-order-prices-4.10\"><span class=\"toc-item-num\">4.10&nbsp;&nbsp;</span>Calculate the 95th and 99th percentiles of order prices</a></span></li><li><span><a href=\"#the-statistical-significance-of-the-difference-in-conversion-between-the-groups-using-the-raw-data\" data-toc-modified-id=\"the-statistical-significance-of-the-difference-in-conversion-between-the-groups-using-the-raw-data-4.11\"><span class=\"toc-item-num\">4.11&nbsp;&nbsp;</span>the statistical significance of the difference in conversion between the groups using the <em>raw</em> data</a></span></li><li><span><a href=\"#the-statistical-significance-of-the-difference-in-average-order-size-between-the-groups-using-the-raw-data\" data-toc-modified-id=\"the-statistical-significance-of-the-difference-in-average-order-size-between-the-groups-using-the-raw-data-4.12\"><span class=\"toc-item-num\">4.12&nbsp;&nbsp;</span>the statistical significance of the difference in average order size between the groups using the <em>raw</em> data</a></span></li><li><span><a href=\"#Filtering-the-data\" data-toc-modified-id=\"Filtering-the-data-4.13\"><span class=\"toc-item-num\">4.13&nbsp;&nbsp;</span>Filtering the data</a></span></li><li><span><a href=\"#the-statistical-significance-of-the-difference-in-conversion-between-the-groups-using-the-filtered-data\" data-toc-modified-id=\"the-statistical-significance-of-the-difference-in-conversion-between-the-groups-using-the-filtered-data-4.14\"><span class=\"toc-item-num\">4.14&nbsp;&nbsp;</span>the statistical significance of the difference in conversion between the groups using the filtered data</a></span></li><li><span><a href=\"#the-statistical-significance-of-the-difference-in-average-order-size-between-the-groups-using-the-filtered-data\" data-toc-modified-id=\"the-statistical-significance-of-the-difference-in-average-order-size-between-the-groups-using-the-filtered-data-4.15\"><span class=\"toc-item-num\">4.15&nbsp;&nbsp;</span>the statistical significance of the difference in average order size between the groups using the filtered data</a></span></li><li><span><a href=\"#decision-based-on-the-test-results\" data-toc-modified-id=\"decision-based-on-the-test-results-4.16\"><span class=\"toc-item-num\">4.16&nbsp;&nbsp;</span>decision based on the test results</a></span></li></ul></li><li><span><a href=\"#conclusion\" data-toc-modified-id=\"conclusion-5\"><span class=\"toc-item-num\">5&nbsp;&nbsp;</span>conclusion</a></span></li></ul></div>"
   ]
  },
  {
   "cell_type": "markdown",
   "id": "fca06101",
   "metadata": {},
   "source": [
    "# Project description\n",
    "\n",
    "You are an analyst at a big online store. Together with the marketing department, you've compiled a list of hypotheses that may help boost revenue.\n",
    "- **part 1**\n",
    "You need to prioritize these hypotheses\n",
    "- **part 2**\n",
    "launch an A/B test, and analyze the results. \n",
    "\n",
    "**The Project Goal**\n",
    "Firs is the goal to help boost revenue. From the marketing point of view, changes must be analyzed before taking place. There are list of hypotheses and we have to prioritize them. Only the hypotheses with the highest score could be checked.\n",
    "\n",
    "The second part is about the results analyzing A/B test and checking hypotheses about two statistics. the goal is to determine if the rest can stop or to be continued and what are the out cam."
   ]
  },
  {
   "cell_type": "markdown",
   "id": "c6fd99bb",
   "metadata": {},
   "source": [
    "<div class=\"alert alert-info\"> \n",
    "<b>Student's comment</b> \n",
    "Add project goal\n",
    "</div>"
   ]
  },
  {
   "cell_type": "markdown",
   "id": "f1abee49",
   "metadata": {},
   "source": [
    "## Description of the data\n",
    "\n",
    "**Part 1**\n",
    "The ***hypotheses_us*** table:\n",
    "\n",
    "-    **Hypotheses** - brief descriptions of the hypotheses\n",
    "-    **Reach** - user reach, on a scale of one to ten\n",
    "-    **Impact** - impact on users, on a scale of one to ten\n",
    "-    **Confidence** - confidence in the hypothesis, on a scale of one to ten\n",
    "-    **Effort** -  the resources required to test a hypothesis, on a scale of one to ten. The higher the Effort value, the more resource-intensive the test\n",
    "\n",
    "**Part 2**\n",
    "\n",
    "The ***orders_us*** table (data on orders):\n",
    "\n",
    "-    **transactionId** - order identifier\n",
    "-    **visitorId** - identifier of the user who placed the order\n",
    "-    **date** - of the order\n",
    "-    **revenue** - from the order\n",
    "-    **group** - the A/B test group that the user belongs to\n",
    "\n",
    "The ***visits_us*** table (data on orders):\n",
    "\n",
    "-    **date** - date\n",
    "-    **group** - A/B test group\n",
    "-    **visits** - the number of visits on the date specified in the A/B test group specified\n"
   ]
  },
  {
   "cell_type": "markdown",
   "id": "b00a38e2",
   "metadata": {},
   "source": [
    "<div class=\"alert alert-warning\" role=\"alert\">\n",
    "Reviewer's comment v. 1:\n",
    "    \n",
    "Well done that you clearly described a goal of the project, but please formulate a goal of the project.\n",
    "</div>"
   ]
  },
  {
   "cell_type": "code",
   "execution_count": 1,
   "id": "017300bf",
   "metadata": {},
   "outputs": [
    {
     "name": "stdout",
     "output_type": "stream",
     "text": [
      "Defaulting to user installation because normal site-packages is not writeable\n",
      "Requirement already up-to-date: pandas in /home/jovyan/.local/lib/python3.7/site-packages (1.3.2)\n",
      "Requirement already satisfied, skipping upgrade: numpy>=1.17.3 in /opt/conda/lib/python3.7/site-packages (from pandas) (1.19.5)\n",
      "Requirement already satisfied, skipping upgrade: pytz>=2017.3 in /opt/conda/lib/python3.7/site-packages (from pandas) (2021.1)\n",
      "Requirement already satisfied, skipping upgrade: python-dateutil>=2.7.3 in /opt/conda/lib/python3.7/site-packages (from pandas) (2.8.1)\n",
      "Requirement already satisfied, skipping upgrade: six>=1.5 in /opt/conda/lib/python3.7/site-packages (from python-dateutil>=2.7.3->pandas) (1.15.0)\n"
     ]
    }
   ],
   "source": [
    "# update library\n",
    "!pip install pandas -U"
   ]
  },
  {
   "cell_type": "code",
   "execution_count": 2,
   "id": "734b1597",
   "metadata": {},
   "outputs": [],
   "source": [
    "#import libraries\n",
    "import pandas as pd\n",
    "import numpy as np\n",
    "import matplotlib.pyplot as plt\n",
    "import matplotlib as mpl\n",
    "import seaborn as sns\n",
    "from scipy import stats as st\n",
    "import matplotlib.gridspec as grid_spec\n",
    "import plotly.express as px\n",
    "\n",
    "# definitions\n",
    "%matplotlib inline\n",
    "pd.options.display.float_format = '{:,.2f}'.format"
   ]
  },
  {
   "cell_type": "code",
   "execution_count": 3,
   "id": "56cdc794",
   "metadata": {},
   "outputs": [],
   "source": [
    "import sys\n",
    "import warnings\n",
    "if not sys.warnoptions:\n",
    "    warnings.simplefilter(\"ignore\")"
   ]
  },
  {
   "cell_type": "markdown",
   "id": "3716f7eb",
   "metadata": {},
   "source": [
    "<div class=\"alert alert-success\" role=\"alert\">\n",
    "Reviewer's comment v. 1:\n",
    "    \n",
    "It's a really good idea to use additional options for warnings.\n",
    "</div>"
   ]
  },
  {
   "cell_type": "markdown",
   "id": "ef68e658",
   "metadata": {},
   "source": [
    "# Open the data file and study the general information"
   ]
  },
  {
   "cell_type": "markdown",
   "id": "68f556cb",
   "metadata": {},
   "source": [
    "## Download the data"
   ]
  },
  {
   "cell_type": "code",
   "execution_count": 4,
   "id": "e86bc1d0",
   "metadata": {},
   "outputs": [],
   "source": [
    "# import the data set\n",
    "try:\n",
    "    hypotheses = pd.read_csv(\"hypotheses_us.csv\", sep=\";\")\n",
    "    orders = pd.read_csv(\"orders_us.csv\")\n",
    "    visits = pd.read_csv(\"visits_us.csv\")\n",
    "except:\n",
    "    hypotheses = pd.read_csv(\"/datasets/hypotheses_us.csv\", sep=\";\")\n",
    "    orders = pd.read_csv(\"/datasets/orders_us.csv\")\n",
    "    visits = pd.read_csv(\"/datasets/visits_us.csv\")"
   ]
  },
  {
   "cell_type": "markdown",
   "id": "d5bb8726",
   "metadata": {},
   "source": [
    "<div class=\"alert alert-success\" role=\"alert\">\n",
    "Reviewer's comment v. 1:\n",
    "    \n",
    "Well done for using try-except for the path to the file.\n",
    "</div>"
   ]
  },
  {
   "cell_type": "markdown",
   "id": "c4279792",
   "metadata": {},
   "source": [
    "# Part 1"
   ]
  },
  {
   "cell_type": "markdown",
   "id": "881b4009",
   "metadata": {},
   "source": [
    "## prepare it for analysis - hypotheses"
   ]
  },
  {
   "cell_type": "markdown",
   "id": "2d3df984",
   "metadata": {},
   "source": [
    "The file hypotheses_us.csv contains nine hypotheses on boosting an online store's revenue with Reach, Impact, Confidence, and Effort specified for each."
   ]
  },
  {
   "cell_type": "code",
   "execution_count": 5,
   "id": "2b2761c5",
   "metadata": {
    "cell_style": "center",
    "scrolled": true
   },
   "outputs": [
    {
     "data": {
      "text/html": [
       "<div>\n",
       "<style scoped>\n",
       "    .dataframe tbody tr th:only-of-type {\n",
       "        vertical-align: middle;\n",
       "    }\n",
       "\n",
       "    .dataframe tbody tr th {\n",
       "        vertical-align: top;\n",
       "    }\n",
       "\n",
       "    .dataframe thead th {\n",
       "        text-align: right;\n",
       "    }\n",
       "</style>\n",
       "<table border=\"1\" class=\"dataframe\">\n",
       "  <thead>\n",
       "    <tr style=\"text-align: right;\">\n",
       "      <th></th>\n",
       "      <th>Hypothesis</th>\n",
       "      <th>Reach</th>\n",
       "      <th>Impact</th>\n",
       "      <th>Confidence</th>\n",
       "      <th>Effort</th>\n",
       "    </tr>\n",
       "  </thead>\n",
       "  <tbody>\n",
       "    <tr>\n",
       "      <th>0</th>\n",
       "      <td>Add two new channels for attracting traffic. T...</td>\n",
       "      <td>3</td>\n",
       "      <td>10</td>\n",
       "      <td>8</td>\n",
       "      <td>6</td>\n",
       "    </tr>\n",
       "    <tr>\n",
       "      <th>1</th>\n",
       "      <td>Launch your own delivery service. This will sh...</td>\n",
       "      <td>2</td>\n",
       "      <td>5</td>\n",
       "      <td>4</td>\n",
       "      <td>10</td>\n",
       "    </tr>\n",
       "    <tr>\n",
       "      <th>2</th>\n",
       "      <td>Add product recommendation blocks to the store...</td>\n",
       "      <td>8</td>\n",
       "      <td>3</td>\n",
       "      <td>7</td>\n",
       "      <td>3</td>\n",
       "    </tr>\n",
       "    <tr>\n",
       "      <th>3</th>\n",
       "      <td>Change the category structure. This will incre...</td>\n",
       "      <td>8</td>\n",
       "      <td>3</td>\n",
       "      <td>3</td>\n",
       "      <td>8</td>\n",
       "    </tr>\n",
       "    <tr>\n",
       "      <th>4</th>\n",
       "      <td>Change the background color on the main page. ...</td>\n",
       "      <td>3</td>\n",
       "      <td>1</td>\n",
       "      <td>1</td>\n",
       "      <td>1</td>\n",
       "    </tr>\n",
       "    <tr>\n",
       "      <th>5</th>\n",
       "      <td>Add a customer review page. This will increase...</td>\n",
       "      <td>3</td>\n",
       "      <td>2</td>\n",
       "      <td>2</td>\n",
       "      <td>3</td>\n",
       "    </tr>\n",
       "    <tr>\n",
       "      <th>6</th>\n",
       "      <td>Show banners with current offers and sales on ...</td>\n",
       "      <td>5</td>\n",
       "      <td>3</td>\n",
       "      <td>8</td>\n",
       "      <td>3</td>\n",
       "    </tr>\n",
       "    <tr>\n",
       "      <th>7</th>\n",
       "      <td>Add a subscription form to all the main pages....</td>\n",
       "      <td>10</td>\n",
       "      <td>7</td>\n",
       "      <td>8</td>\n",
       "      <td>5</td>\n",
       "    </tr>\n",
       "    <tr>\n",
       "      <th>8</th>\n",
       "      <td>Launch a promotion that gives users discounts ...</td>\n",
       "      <td>1</td>\n",
       "      <td>9</td>\n",
       "      <td>9</td>\n",
       "      <td>5</td>\n",
       "    </tr>\n",
       "  </tbody>\n",
       "</table>\n",
       "</div>"
      ],
      "text/plain": [
       "                                          Hypothesis  Reach  Impact  \\\n",
       "0  Add two new channels for attracting traffic. T...      3      10   \n",
       "1  Launch your own delivery service. This will sh...      2       5   \n",
       "2  Add product recommendation blocks to the store...      8       3   \n",
       "3  Change the category structure. This will incre...      8       3   \n",
       "4  Change the background color on the main page. ...      3       1   \n",
       "5  Add a customer review page. This will increase...      3       2   \n",
       "6  Show banners with current offers and sales on ...      5       3   \n",
       "7  Add a subscription form to all the main pages....     10       7   \n",
       "8  Launch a promotion that gives users discounts ...      1       9   \n",
       "\n",
       "   Confidence  Effort  \n",
       "0           8       6  \n",
       "1           4      10  \n",
       "2           7       3  \n",
       "3           3       8  \n",
       "4           1       1  \n",
       "5           2       3  \n",
       "6           8       3  \n",
       "7           8       5  \n",
       "8           9       5  "
      ]
     },
     "execution_count": 5,
     "metadata": {},
     "output_type": "execute_result"
    }
   ],
   "source": [
    "hypotheses"
   ]
  },
  {
   "cell_type": "code",
   "execution_count": 6,
   "id": "00dae7d7",
   "metadata": {},
   "outputs": [
    {
     "name": "stdout",
     "output_type": "stream",
     "text": [
      "<class 'pandas.core.frame.DataFrame'>\n",
      "RangeIndex: 9 entries, 0 to 8\n",
      "Data columns (total 5 columns):\n",
      " #   Column      Non-Null Count  Dtype \n",
      "---  ------      --------------  ----- \n",
      " 0   Hypothesis  9 non-null      object\n",
      " 1   Reach       9 non-null      int64 \n",
      " 2   Impact      9 non-null      int64 \n",
      " 3   Confidence  9 non-null      int64 \n",
      " 4   Effort      9 non-null      int64 \n",
      "dtypes: int64(4), object(1)\n",
      "memory usage: 488.0+ bytes\n"
     ]
    }
   ],
   "source": [
    "hypotheses.info()"
   ]
  },
  {
   "cell_type": "markdown",
   "id": "3f8ad272",
   "metadata": {},
   "source": [
    "The hypotheses dataset has 9 rows and 5 columns. No missing values"
   ]
  },
  {
   "cell_type": "markdown",
   "id": "7be4779c",
   "metadata": {},
   "source": [
    "Changing columns names"
   ]
  },
  {
   "cell_type": "code",
   "execution_count": 7,
   "id": "97fa33fe",
   "metadata": {},
   "outputs": [],
   "source": [
    "#hypotheses.columns = hypotheses.columns.str.lower().str.replace(' ', '_')"
   ]
  },
  {
   "cell_type": "markdown",
   "id": "3a2be1a6",
   "metadata": {},
   "source": [
    "Changing types of the data"
   ]
  },
  {
   "cell_type": "markdown",
   "id": "6a351f20",
   "metadata": {},
   "source": [
    "No need to change the type of the columns. this is a very small data frame with only nine rows, less than 0.5 Kb"
   ]
  },
  {
   "cell_type": "markdown",
   "id": "3b136c63",
   "metadata": {},
   "source": [
    "<div class=\"alert alert-success\" role=\"alert\">\n",
    "Reviewer's comment v. 1:\n",
    "    \n",
    "Ok :)\n",
    "</div>"
   ]
  },
  {
   "cell_type": "markdown",
   "id": "2f21c79c",
   "metadata": {},
   "source": [
    "### Apply the ICE framework to prioritize hypotheses"
   ]
  },
  {
   "cell_type": "markdown",
   "id": "e305662c",
   "metadata": {},
   "source": [
    "**ICE** - Impact, confidence, effort/ease, ICE is one of the most popular ways of prioritizing problems"
   ]
  },
  {
   "cell_type": "markdown",
   "id": "0654c972",
   "metadata": {},
   "source": [
    "$ICE$ $SCORE = \\frac {Impact * Confidence} {Effort}$"
   ]
  },
  {
   "cell_type": "code",
   "execution_count": 8,
   "id": "de116306",
   "metadata": {},
   "outputs": [],
   "source": [
    "hypotheses[\"ICE\"] = hypotheses[\"Impact\"] * \\\n",
    "    hypotheses[\"Confidence\"] / hypotheses[\"Effort\"]"
   ]
  },
  {
   "cell_type": "code",
   "execution_count": 9,
   "id": "91b106ec",
   "metadata": {},
   "outputs": [
    {
     "data": {
      "text/html": [
       "<div>\n",
       "<style scoped>\n",
       "    .dataframe tbody tr th:only-of-type {\n",
       "        vertical-align: middle;\n",
       "    }\n",
       "\n",
       "    .dataframe tbody tr th {\n",
       "        vertical-align: top;\n",
       "    }\n",
       "\n",
       "    .dataframe thead th {\n",
       "        text-align: right;\n",
       "    }\n",
       "</style>\n",
       "<table border=\"1\" class=\"dataframe\">\n",
       "  <thead>\n",
       "    <tr style=\"text-align: right;\">\n",
       "      <th></th>\n",
       "      <th>Hypothesis</th>\n",
       "      <th>ICE</th>\n",
       "    </tr>\n",
       "  </thead>\n",
       "  <tbody>\n",
       "    <tr>\n",
       "      <th>8</th>\n",
       "      <td>Launch a promotion that gives users discounts ...</td>\n",
       "      <td>16.20</td>\n",
       "    </tr>\n",
       "    <tr>\n",
       "      <th>0</th>\n",
       "      <td>Add two new channels for attracting traffic. T...</td>\n",
       "      <td>13.33</td>\n",
       "    </tr>\n",
       "    <tr>\n",
       "      <th>7</th>\n",
       "      <td>Add a subscription form to all the main pages....</td>\n",
       "      <td>11.20</td>\n",
       "    </tr>\n",
       "    <tr>\n",
       "      <th>6</th>\n",
       "      <td>Show banners with current offers and sales on ...</td>\n",
       "      <td>8.00</td>\n",
       "    </tr>\n",
       "    <tr>\n",
       "      <th>2</th>\n",
       "      <td>Add product recommendation blocks to the store...</td>\n",
       "      <td>7.00</td>\n",
       "    </tr>\n",
       "    <tr>\n",
       "      <th>1</th>\n",
       "      <td>Launch your own delivery service. This will sh...</td>\n",
       "      <td>2.00</td>\n",
       "    </tr>\n",
       "    <tr>\n",
       "      <th>5</th>\n",
       "      <td>Add a customer review page. This will increase...</td>\n",
       "      <td>1.33</td>\n",
       "    </tr>\n",
       "    <tr>\n",
       "      <th>3</th>\n",
       "      <td>Change the category structure. This will incre...</td>\n",
       "      <td>1.12</td>\n",
       "    </tr>\n",
       "    <tr>\n",
       "      <th>4</th>\n",
       "      <td>Change the background color on the main page. ...</td>\n",
       "      <td>1.00</td>\n",
       "    </tr>\n",
       "  </tbody>\n",
       "</table>\n",
       "</div>"
      ],
      "text/plain": [
       "                                          Hypothesis   ICE\n",
       "8  Launch a promotion that gives users discounts ... 16.20\n",
       "0  Add two new channels for attracting traffic. T... 13.33\n",
       "7  Add a subscription form to all the main pages.... 11.20\n",
       "6  Show banners with current offers and sales on ...  8.00\n",
       "2  Add product recommendation blocks to the store...  7.00\n",
       "1  Launch your own delivery service. This will sh...  2.00\n",
       "5  Add a customer review page. This will increase...  1.33\n",
       "3  Change the category structure. This will incre...  1.12\n",
       "4  Change the background color on the main page. ...  1.00"
      ]
     },
     "execution_count": 9,
     "metadata": {},
     "output_type": "execute_result"
    }
   ],
   "source": [
    "hypotheses[[\"Hypothesis\", \"ICE\"]].sort_values(by=\"ICE\", ascending=False)"
   ]
  },
  {
   "cell_type": "markdown",
   "id": "373f16ad",
   "metadata": {},
   "source": [
    "The highest ICE rank Hypothesis are:\n",
    "- 8 Launch a promotion that gives users discounts ...\n",
    "- 0 Add two new channels for attracting traffic. T...\n",
    "- 7 Add a subscription form to all the main pages....\n",
    "- 6 Show banners with current offers and sales on ..."
   ]
  },
  {
   "cell_type": "markdown",
   "id": "7603e89c",
   "metadata": {},
   "source": [
    "**RICE** is modified version of **ICE**"
   ]
  },
  {
   "cell_type": "markdown",
   "id": "249b4402",
   "metadata": {},
   "source": [
    "$RICE$ $SCORE = \\frac{Reach * Impact * Confidence}{Effort}$"
   ]
  },
  {
   "cell_type": "code",
   "execution_count": 10,
   "id": "b38ed086",
   "metadata": {},
   "outputs": [],
   "source": [
    "hypotheses[\"RICE\"] = hypotheses[\"Reach\"]*hypotheses[\"Impact\"] * \\\n",
    "    hypotheses[\"Confidence\"]/hypotheses[\"Effort\"]"
   ]
  },
  {
   "cell_type": "code",
   "execution_count": 11,
   "id": "44711a72",
   "metadata": {},
   "outputs": [
    {
     "data": {
      "text/html": [
       "<div>\n",
       "<style scoped>\n",
       "    .dataframe tbody tr th:only-of-type {\n",
       "        vertical-align: middle;\n",
       "    }\n",
       "\n",
       "    .dataframe tbody tr th {\n",
       "        vertical-align: top;\n",
       "    }\n",
       "\n",
       "    .dataframe thead th {\n",
       "        text-align: right;\n",
       "    }\n",
       "</style>\n",
       "<table border=\"1\" class=\"dataframe\">\n",
       "  <thead>\n",
       "    <tr style=\"text-align: right;\">\n",
       "      <th></th>\n",
       "      <th>Hypothesis</th>\n",
       "      <th>RICE</th>\n",
       "    </tr>\n",
       "  </thead>\n",
       "  <tbody>\n",
       "    <tr>\n",
       "      <th>7</th>\n",
       "      <td>Add a subscription form to all the main pages....</td>\n",
       "      <td>112.00</td>\n",
       "    </tr>\n",
       "    <tr>\n",
       "      <th>2</th>\n",
       "      <td>Add product recommendation blocks to the store...</td>\n",
       "      <td>56.00</td>\n",
       "    </tr>\n",
       "    <tr>\n",
       "      <th>0</th>\n",
       "      <td>Add two new channels for attracting traffic. T...</td>\n",
       "      <td>40.00</td>\n",
       "    </tr>\n",
       "    <tr>\n",
       "      <th>6</th>\n",
       "      <td>Show banners with current offers and sales on ...</td>\n",
       "      <td>40.00</td>\n",
       "    </tr>\n",
       "    <tr>\n",
       "      <th>8</th>\n",
       "      <td>Launch a promotion that gives users discounts ...</td>\n",
       "      <td>16.20</td>\n",
       "    </tr>\n",
       "    <tr>\n",
       "      <th>3</th>\n",
       "      <td>Change the category structure. This will incre...</td>\n",
       "      <td>9.00</td>\n",
       "    </tr>\n",
       "    <tr>\n",
       "      <th>1</th>\n",
       "      <td>Launch your own delivery service. This will sh...</td>\n",
       "      <td>4.00</td>\n",
       "    </tr>\n",
       "    <tr>\n",
       "      <th>5</th>\n",
       "      <td>Add a customer review page. This will increase...</td>\n",
       "      <td>4.00</td>\n",
       "    </tr>\n",
       "    <tr>\n",
       "      <th>4</th>\n",
       "      <td>Change the background color on the main page. ...</td>\n",
       "      <td>3.00</td>\n",
       "    </tr>\n",
       "  </tbody>\n",
       "</table>\n",
       "</div>"
      ],
      "text/plain": [
       "                                          Hypothesis   RICE\n",
       "7  Add a subscription form to all the main pages.... 112.00\n",
       "2  Add product recommendation blocks to the store...  56.00\n",
       "0  Add two new channels for attracting traffic. T...  40.00\n",
       "6  Show banners with current offers and sales on ...  40.00\n",
       "8  Launch a promotion that gives users discounts ...  16.20\n",
       "3  Change the category structure. This will incre...   9.00\n",
       "1  Launch your own delivery service. This will sh...   4.00\n",
       "5  Add a customer review page. This will increase...   4.00\n",
       "4  Change the background color on the main page. ...   3.00"
      ]
     },
     "execution_count": 11,
     "metadata": {},
     "output_type": "execute_result"
    }
   ],
   "source": [
    "hypotheses[[\"Hypothesis\", \"RICE\"]].sort_values(by=\"RICE\", ascending=False)"
   ]
  },
  {
   "cell_type": "markdown",
   "id": "efe78b82",
   "metadata": {},
   "source": [
    "The highest RICE rank Hypothesis are:\n",
    "- 7 Add a subscription form to all the main pages....\n",
    "- 2 Add product recommendation blocks to the store...\n",
    "- 0 Add two new channels for attracting traffic. T...\n",
    "- 6 Show banners with current offers and sales on ..."
   ]
  },
  {
   "cell_type": "markdown",
   "id": "30d65532",
   "metadata": {},
   "source": [
    "**conclusion:**\n",
    "Comparing the four higher score of RICE to ICE, The first ranked ICE (number 8) is not in the list, and the 3rd on ICE list is the first on RICE list.\n",
    "\n",
    "The RICE add the \"Reach\" parameter - how many users will be affected by the update introduce. It makes the score different from the ICE score that does not use this parameter."
   ]
  },
  {
   "cell_type": "markdown",
   "id": "f4318cb2",
   "metadata": {},
   "source": [
    "<div class=\"alert alert-success\" role=\"alert\">\n",
    "Reviewer's comment v. 1:\n",
    "    \n",
    "You correctly calculated ICE scores and identified the highest priority hypotheses. It will be nice to show RICE and ICE scores on the same plot. This makes it easier to analyze.\n",
    "</div>"
   ]
  },
  {
   "cell_type": "markdown",
   "id": "777cf13a",
   "metadata": {},
   "source": [
    "# Part 2. A/B Test Analysis"
   ]
  },
  {
   "cell_type": "markdown",
   "id": "3a4e64ab",
   "metadata": {},
   "source": [
    "## prepare it for analysis - visits"
   ]
  },
  {
   "cell_type": "code",
   "execution_count": 12,
   "id": "cc700cef",
   "metadata": {},
   "outputs": [
    {
     "data": {
      "text/html": [
       "<div>\n",
       "<style scoped>\n",
       "    .dataframe tbody tr th:only-of-type {\n",
       "        vertical-align: middle;\n",
       "    }\n",
       "\n",
       "    .dataframe tbody tr th {\n",
       "        vertical-align: top;\n",
       "    }\n",
       "\n",
       "    .dataframe thead th {\n",
       "        text-align: right;\n",
       "    }\n",
       "</style>\n",
       "<table border=\"1\" class=\"dataframe\">\n",
       "  <thead>\n",
       "    <tr style=\"text-align: right;\">\n",
       "      <th></th>\n",
       "      <th>date</th>\n",
       "      <th>group</th>\n",
       "      <th>visits</th>\n",
       "    </tr>\n",
       "  </thead>\n",
       "  <tbody>\n",
       "    <tr>\n",
       "      <th>0</th>\n",
       "      <td>2019-08-01</td>\n",
       "      <td>A</td>\n",
       "      <td>719</td>\n",
       "    </tr>\n",
       "    <tr>\n",
       "      <th>1</th>\n",
       "      <td>2019-08-02</td>\n",
       "      <td>A</td>\n",
       "      <td>619</td>\n",
       "    </tr>\n",
       "    <tr>\n",
       "      <th>2</th>\n",
       "      <td>2019-08-03</td>\n",
       "      <td>A</td>\n",
       "      <td>507</td>\n",
       "    </tr>\n",
       "    <tr>\n",
       "      <th>3</th>\n",
       "      <td>2019-08-04</td>\n",
       "      <td>A</td>\n",
       "      <td>717</td>\n",
       "    </tr>\n",
       "    <tr>\n",
       "      <th>4</th>\n",
       "      <td>2019-08-05</td>\n",
       "      <td>A</td>\n",
       "      <td>756</td>\n",
       "    </tr>\n",
       "  </tbody>\n",
       "</table>\n",
       "</div>"
      ],
      "text/plain": [
       "         date group  visits\n",
       "0  2019-08-01     A     719\n",
       "1  2019-08-02     A     619\n",
       "2  2019-08-03     A     507\n",
       "3  2019-08-04     A     717\n",
       "4  2019-08-05     A     756"
      ]
     },
     "execution_count": 12,
     "metadata": {},
     "output_type": "execute_result"
    }
   ],
   "source": [
    "visits.head()"
   ]
  },
  {
   "cell_type": "code",
   "execution_count": 13,
   "id": "61fef733",
   "metadata": {},
   "outputs": [
    {
     "name": "stdout",
     "output_type": "stream",
     "text": [
      "<class 'pandas.core.frame.DataFrame'>\n",
      "RangeIndex: 62 entries, 0 to 61\n",
      "Data columns (total 3 columns):\n",
      " #   Column  Non-Null Count  Dtype \n",
      "---  ------  --------------  ----- \n",
      " 0   date    62 non-null     object\n",
      " 1   group   62 non-null     object\n",
      " 2   visits  62 non-null     int64 \n",
      "dtypes: int64(1), object(2)\n",
      "memory usage: 1.6+ KB\n"
     ]
    }
   ],
   "source": [
    "visits.info()"
   ]
  },
  {
   "cell_type": "markdown",
   "id": "ab07fb3c",
   "metadata": {},
   "source": [
    "The visits dataset has 62 rows and 3 columns. No missing values"
   ]
  },
  {
   "cell_type": "markdown",
   "id": "d041f10c",
   "metadata": {},
   "source": [
    "Changing types of the data"
   ]
  },
  {
   "cell_type": "code",
   "execution_count": 14,
   "id": "092d602c",
   "metadata": {},
   "outputs": [],
   "source": [
    "visits[\"date\"] = pd.to_datetime(visits[\"date\"])\n",
    "visits[\"group\"] = visits[\"group\"].astype(\"category\")"
   ]
  },
  {
   "cell_type": "markdown",
   "id": "c1a7f8e9",
   "metadata": {},
   "source": [
    "finding if duplicate exist"
   ]
  },
  {
   "cell_type": "code",
   "execution_count": 15,
   "id": "fad30055",
   "metadata": {},
   "outputs": [
    {
     "name": "stdout",
     "output_type": "stream",
     "text": [
      "Number of duplictes in visits is  \t0\n"
     ]
    }
   ],
   "source": [
    "print(f\"Number of duplictes in visits is  \\t{visits.duplicated().sum()}\")"
   ]
  },
  {
   "cell_type": "markdown",
   "id": "a4cfaac5",
   "metadata": {},
   "source": [
    "<div class=\"alert alert-success\" role=\"alert\">\n",
    "Reviewer's comment v. 1:\n",
    "    \n",
    "Yes, we don't have duplicates in our data.\n",
    "</div>"
   ]
  },
  {
   "cell_type": "markdown",
   "id": "8f2c6f91",
   "metadata": {},
   "source": [
    "## prepare it for analysis - orders"
   ]
  },
  {
   "cell_type": "code",
   "execution_count": 16,
   "id": "f92b3e31",
   "metadata": {},
   "outputs": [
    {
     "data": {
      "text/html": [
       "<div>\n",
       "<style scoped>\n",
       "    .dataframe tbody tr th:only-of-type {\n",
       "        vertical-align: middle;\n",
       "    }\n",
       "\n",
       "    .dataframe tbody tr th {\n",
       "        vertical-align: top;\n",
       "    }\n",
       "\n",
       "    .dataframe thead th {\n",
       "        text-align: right;\n",
       "    }\n",
       "</style>\n",
       "<table border=\"1\" class=\"dataframe\">\n",
       "  <thead>\n",
       "    <tr style=\"text-align: right;\">\n",
       "      <th></th>\n",
       "      <th>transactionId</th>\n",
       "      <th>visitorId</th>\n",
       "      <th>date</th>\n",
       "      <th>revenue</th>\n",
       "      <th>group</th>\n",
       "    </tr>\n",
       "  </thead>\n",
       "  <tbody>\n",
       "    <tr>\n",
       "      <th>0</th>\n",
       "      <td>3667963787</td>\n",
       "      <td>3312258926</td>\n",
       "      <td>2019-08-15</td>\n",
       "      <td>30.40</td>\n",
       "      <td>B</td>\n",
       "    </tr>\n",
       "    <tr>\n",
       "      <th>1</th>\n",
       "      <td>2804400009</td>\n",
       "      <td>3642806036</td>\n",
       "      <td>2019-08-15</td>\n",
       "      <td>15.20</td>\n",
       "      <td>B</td>\n",
       "    </tr>\n",
       "    <tr>\n",
       "      <th>2</th>\n",
       "      <td>2961555356</td>\n",
       "      <td>4069496402</td>\n",
       "      <td>2019-08-15</td>\n",
       "      <td>10.20</td>\n",
       "      <td>A</td>\n",
       "    </tr>\n",
       "    <tr>\n",
       "      <th>3</th>\n",
       "      <td>3797467345</td>\n",
       "      <td>1196621759</td>\n",
       "      <td>2019-08-15</td>\n",
       "      <td>155.10</td>\n",
       "      <td>B</td>\n",
       "    </tr>\n",
       "    <tr>\n",
       "      <th>4</th>\n",
       "      <td>2282983706</td>\n",
       "      <td>2322279887</td>\n",
       "      <td>2019-08-15</td>\n",
       "      <td>40.50</td>\n",
       "      <td>B</td>\n",
       "    </tr>\n",
       "  </tbody>\n",
       "</table>\n",
       "</div>"
      ],
      "text/plain": [
       "   transactionId   visitorId        date  revenue group\n",
       "0     3667963787  3312258926  2019-08-15    30.40     B\n",
       "1     2804400009  3642806036  2019-08-15    15.20     B\n",
       "2     2961555356  4069496402  2019-08-15    10.20     A\n",
       "3     3797467345  1196621759  2019-08-15   155.10     B\n",
       "4     2282983706  2322279887  2019-08-15    40.50     B"
      ]
     },
     "execution_count": 16,
     "metadata": {},
     "output_type": "execute_result"
    }
   ],
   "source": [
    "orders.head()"
   ]
  },
  {
   "cell_type": "code",
   "execution_count": 17,
   "id": "091ea30c",
   "metadata": {},
   "outputs": [
    {
     "name": "stdout",
     "output_type": "stream",
     "text": [
      "<class 'pandas.core.frame.DataFrame'>\n",
      "RangeIndex: 1197 entries, 0 to 1196\n",
      "Data columns (total 5 columns):\n",
      " #   Column         Non-Null Count  Dtype  \n",
      "---  ------         --------------  -----  \n",
      " 0   transactionId  1197 non-null   int64  \n",
      " 1   visitorId      1197 non-null   int64  \n",
      " 2   date           1197 non-null   object \n",
      " 3   revenue        1197 non-null   float64\n",
      " 4   group          1197 non-null   object \n",
      "dtypes: float64(1), int64(2), object(2)\n",
      "memory usage: 46.9+ KB\n"
     ]
    }
   ],
   "source": [
    "orders.info()"
   ]
  },
  {
   "cell_type": "markdown",
   "id": "4e93b317",
   "metadata": {},
   "source": [
    "Changing types of the data"
   ]
  },
  {
   "cell_type": "code",
   "execution_count": 18,
   "id": "c452839d",
   "metadata": {},
   "outputs": [],
   "source": [
    "orders[\"date\"] = pd.to_datetime(orders[\"date\"])\n",
    "orders[\"group\"] = orders[\"group\"].astype(\"category\")"
   ]
  },
  {
   "cell_type": "markdown",
   "id": "6725d928",
   "metadata": {},
   "source": [
    "<div class=\"alert alert-info\"> \n",
    "<b>Student's comment</b> \n",
    "update pandas - now it should be running\n",
    "</div>"
   ]
  },
  {
   "cell_type": "code",
   "execution_count": 19,
   "id": "511b1c86",
   "metadata": {},
   "outputs": [
    {
     "data": {
      "text/html": [
       "<div>\n",
       "<style scoped>\n",
       "    .dataframe tbody tr th:only-of-type {\n",
       "        vertical-align: middle;\n",
       "    }\n",
       "\n",
       "    .dataframe tbody tr th {\n",
       "        vertical-align: top;\n",
       "    }\n",
       "\n",
       "    .dataframe thead th {\n",
       "        text-align: right;\n",
       "    }\n",
       "</style>\n",
       "<table border=\"1\" class=\"dataframe\">\n",
       "  <thead>\n",
       "    <tr style=\"text-align: right;\">\n",
       "      <th></th>\n",
       "      <th>transactionId</th>\n",
       "      <th>visitorId</th>\n",
       "      <th>date</th>\n",
       "      <th>revenue</th>\n",
       "    </tr>\n",
       "  </thead>\n",
       "  <tbody>\n",
       "    <tr>\n",
       "      <th>count</th>\n",
       "      <td>1,197.00</td>\n",
       "      <td>1,197.00</td>\n",
       "      <td>1197</td>\n",
       "      <td>1,197.00</td>\n",
       "    </tr>\n",
       "    <tr>\n",
       "      <th>mean</th>\n",
       "      <td>2,155,621,385.53</td>\n",
       "      <td>2,165,960,143.10</td>\n",
       "      <td>2019-08-15 13:06:46.015037696</td>\n",
       "      <td>131.49</td>\n",
       "    </tr>\n",
       "    <tr>\n",
       "      <th>min</th>\n",
       "      <td>1,062,393.00</td>\n",
       "      <td>5,114,589.00</td>\n",
       "      <td>2019-08-01 00:00:00</td>\n",
       "      <td>5.00</td>\n",
       "    </tr>\n",
       "    <tr>\n",
       "      <th>25%</th>\n",
       "      <td>1,166,775,572.00</td>\n",
       "      <td>1,111,826,046.00</td>\n",
       "      <td>2019-08-08 00:00:00</td>\n",
       "      <td>20.80</td>\n",
       "    </tr>\n",
       "    <tr>\n",
       "      <th>50%</th>\n",
       "      <td>2,145,193,898.00</td>\n",
       "      <td>2,217,984,702.00</td>\n",
       "      <td>2019-08-15 00:00:00</td>\n",
       "      <td>50.20</td>\n",
       "    </tr>\n",
       "    <tr>\n",
       "      <th>75%</th>\n",
       "      <td>3,237,740,112.00</td>\n",
       "      <td>3,177,606,451.00</td>\n",
       "      <td>2019-08-23 00:00:00</td>\n",
       "      <td>130.40</td>\n",
       "    </tr>\n",
       "    <tr>\n",
       "      <th>max</th>\n",
       "      <td>4,293,855,558.00</td>\n",
       "      <td>4,283,872,382.00</td>\n",
       "      <td>2019-08-31 00:00:00</td>\n",
       "      <td>19,920.40</td>\n",
       "    </tr>\n",
       "    <tr>\n",
       "      <th>std</th>\n",
       "      <td>1,229,084,904.76</td>\n",
       "      <td>1,236,014,192.15</td>\n",
       "      <td>NaN</td>\n",
       "      <td>603.00</td>\n",
       "    </tr>\n",
       "  </tbody>\n",
       "</table>\n",
       "</div>"
      ],
      "text/plain": [
       "         transactionId        visitorId                           date  \\\n",
       "count         1,197.00         1,197.00                           1197   \n",
       "mean  2,155,621,385.53 2,165,960,143.10  2019-08-15 13:06:46.015037696   \n",
       "min       1,062,393.00     5,114,589.00            2019-08-01 00:00:00   \n",
       "25%   1,166,775,572.00 1,111,826,046.00            2019-08-08 00:00:00   \n",
       "50%   2,145,193,898.00 2,217,984,702.00            2019-08-15 00:00:00   \n",
       "75%   3,237,740,112.00 3,177,606,451.00            2019-08-23 00:00:00   \n",
       "max   4,293,855,558.00 4,283,872,382.00            2019-08-31 00:00:00   \n",
       "std   1,229,084,904.76 1,236,014,192.15                            NaN   \n",
       "\n",
       "        revenue  \n",
       "count  1,197.00  \n",
       "mean     131.49  \n",
       "min        5.00  \n",
       "25%       20.80  \n",
       "50%       50.20  \n",
       "75%      130.40  \n",
       "max   19,920.40  \n",
       "std      603.00  "
      ]
     },
     "execution_count": 19,
     "metadata": {},
     "output_type": "execute_result"
    }
   ],
   "source": [
    "orders.describe(datetime_is_numeric=True)"
   ]
  },
  {
   "cell_type": "markdown",
   "id": "74a9b1ab",
   "metadata": {},
   "source": [
    "finding if all visitors are from the same group:"
   ]
  },
  {
   "cell_type": "code",
   "execution_count": 20,
   "id": "0962bde2",
   "metadata": {},
   "outputs": [],
   "source": [
    "visitors_two_groups = orders.duplicated(subset=[\"visitorId\"]).sum(\n",
    ")-orders.duplicated(subset=[\"visitorId\", \"group\"]).sum()"
   ]
  },
  {
   "cell_type": "code",
   "execution_count": 21,
   "id": "b3f9fbd4",
   "metadata": {},
   "outputs": [
    {
     "name": "stdout",
     "output_type": "stream",
     "text": [
      "Number of visitors in two group together are  \t58\n"
     ]
    }
   ],
   "source": [
    "print(f\"Number of visitors in two group together are  \\t{visitors_two_groups}\")"
   ]
  },
  {
   "cell_type": "markdown",
   "id": "b9e199fa",
   "metadata": {},
   "source": [
    "**conclusion:**\n",
    "It is impossible to make A/B test for visitors that appear in two groups in the same test. In order to perform the test correctly, we will delete these 58 visitors from the visit data set and from the orders data set.\n",
    "For this project well continue with the data as is"
   ]
  },
  {
   "cell_type": "code",
   "execution_count": 22,
   "id": "0674a1f0",
   "metadata": {},
   "outputs": [
    {
     "data": {
      "text/plain": [
       "Text(0, 0.5, 'Number of Orders')"
      ]
     },
     "execution_count": 22,
     "metadata": {},
     "output_type": "execute_result"
    },
    {
     "data": {
      "image/png": "[encoded data removed]",
      "text/plain": [
       "<Figure size 432x288 with 1 Axes>"
      ]
     },
     "metadata": {
      "needs_background": "light"
     },
     "output_type": "display_data"
    }
   ],
   "source": [
    "orders[\"group\"].hist()\n",
    "plt.title(\"Division to groups A and B\")\n",
    "plt.xlabel(\"Group\")\n",
    "plt.ylabel(\"Number of Orders\")"
   ]
  },
  {
   "cell_type": "code",
   "execution_count": 23,
   "id": "8ee03b3f",
   "metadata": {},
   "outputs": [],
   "source": [
    "orders_a = orders[orders[\"group\"] == \"A\"]\n",
    "orders_b = orders[orders[\"group\"] == \"B\"]"
   ]
  },
  {
   "cell_type": "code",
   "execution_count": 24,
   "id": "42b0eb06",
   "metadata": {},
   "outputs": [],
   "source": [
    "cumulative_orders_a_revenue = orders_a.groupby(orders[\"date\"].astype(\n",
    "    'datetime64[D]'))[[\"date\", \"revenue\"]].sum().reset_index()\n",
    "cumulative_orders_a_revenue[\"revenue_cum\"] = cumulative_orders_a_revenue.groupby(\n",
    "    orders[\"date\"].astype('datetime64[D]'))[\"revenue\"].transform(pd.Series.cumsum)"
   ]
  },
  {
   "cell_type": "code",
   "execution_count": 25,
   "id": "1fe7f22d",
   "metadata": {},
   "outputs": [],
   "source": [
    "cumulative_orders_a_orders = orders_a.groupby(orders[\"date\"].astype(\n",
    "    'datetime64[D]'))[[\"transactionId\"]].count().reset_index()\n",
    "cumulative_orders_a_orders[\"number_of_orders\"] = cumulative_orders_a_orders.groupby(\n",
    "    orders[\"date\"].astype('datetime64[D]'))[\"transactionId\"].transform(pd.Series.cumsum)"
   ]
  },
  {
   "cell_type": "code",
   "execution_count": 26,
   "id": "0eb7dae6",
   "metadata": {},
   "outputs": [],
   "source": [
    "cumulative_orders_a = cumulative_orders_a_revenue.merge(\n",
    "    right=cumulative_orders_a_orders, on=\"date\")"
   ]
  },
  {
   "cell_type": "code",
   "execution_count": 27,
   "id": "b007f058",
   "metadata": {},
   "outputs": [],
   "source": [
    "cumulative_orders_a.columns = [\n",
    "    \"date\", \"revenue\", \"revenue_cum\", \"orders\", \"orders_cum\"]"
   ]
  },
  {
   "cell_type": "code",
   "execution_count": 28,
   "id": "c5d5e2c5",
   "metadata": {},
   "outputs": [],
   "source": [
    "cumulative_orders_a[\"cumulative_avg_order_size\"] = cumulative_orders_a[\"revenue_cum\"] / \\\n",
    "    cumulative_orders_a[\"orders_cum\"]"
   ]
  },
  {
   "cell_type": "code",
   "execution_count": 29,
   "id": "905dda54",
   "metadata": {},
   "outputs": [
    {
     "data": {
      "text/html": [
       "<div>\n",
       "<style scoped>\n",
       "    .dataframe tbody tr th:only-of-type {\n",
       "        vertical-align: middle;\n",
       "    }\n",
       "\n",
       "    .dataframe tbody tr th {\n",
       "        vertical-align: top;\n",
       "    }\n",
       "\n",
       "    .dataframe thead th {\n",
       "        text-align: right;\n",
       "    }\n",
       "</style>\n",
       "<table border=\"1\" class=\"dataframe\">\n",
       "  <thead>\n",
       "    <tr style=\"text-align: right;\">\n",
       "      <th></th>\n",
       "      <th>date</th>\n",
       "      <th>revenue</th>\n",
       "      <th>revenue_cum</th>\n",
       "      <th>orders</th>\n",
       "      <th>orders_cum</th>\n",
       "      <th>cumulative_avg_order_size</th>\n",
       "    </tr>\n",
       "  </thead>\n",
       "  <tbody>\n",
       "    <tr>\n",
       "      <th>26</th>\n",
       "      <td>2019-08-27</td>\n",
       "      <td>4,511.10</td>\n",
       "      <td>55,601.10</td>\n",
       "      <td>28</td>\n",
       "      <td>495</td>\n",
       "      <td>112.33</td>\n",
       "    </tr>\n",
       "    <tr>\n",
       "      <th>27</th>\n",
       "      <td>2019-08-28</td>\n",
       "      <td>1,602.60</td>\n",
       "      <td>57,203.70</td>\n",
       "      <td>17</td>\n",
       "      <td>512</td>\n",
       "      <td>111.73</td>\n",
       "    </tr>\n",
       "    <tr>\n",
       "      <th>28</th>\n",
       "      <td>2019-08-29</td>\n",
       "      <td>4,995.50</td>\n",
       "      <td>62,199.20</td>\n",
       "      <td>22</td>\n",
       "      <td>534</td>\n",
       "      <td>116.48</td>\n",
       "    </tr>\n",
       "    <tr>\n",
       "      <th>29</th>\n",
       "      <td>2019-08-30</td>\n",
       "      <td>1,364.30</td>\n",
       "      <td>63,563.50</td>\n",
       "      <td>11</td>\n",
       "      <td>545</td>\n",
       "      <td>116.63</td>\n",
       "    </tr>\n",
       "    <tr>\n",
       "      <th>30</th>\n",
       "      <td>2019-08-31</td>\n",
       "      <td>991.40</td>\n",
       "      <td>64,554.90</td>\n",
       "      <td>12</td>\n",
       "      <td>557</td>\n",
       "      <td>115.90</td>\n",
       "    </tr>\n",
       "  </tbody>\n",
       "</table>\n",
       "</div>"
      ],
      "text/plain": [
       "         date  revenue  revenue_cum  orders  orders_cum  \\\n",
       "26 2019-08-27 4,511.10    55,601.10      28         495   \n",
       "27 2019-08-28 1,602.60    57,203.70      17         512   \n",
       "28 2019-08-29 4,995.50    62,199.20      22         534   \n",
       "29 2019-08-30 1,364.30    63,563.50      11         545   \n",
       "30 2019-08-31   991.40    64,554.90      12         557   \n",
       "\n",
       "    cumulative_avg_order_size  \n",
       "26                     112.33  \n",
       "27                     111.73  \n",
       "28                     116.48  \n",
       "29                     116.63  \n",
       "30                     115.90  "
      ]
     },
     "execution_count": 29,
     "metadata": {},
     "output_type": "execute_result"
    }
   ],
   "source": [
    "cumulative_orders_a.tail()"
   ]
  },
  {
   "cell_type": "code",
   "execution_count": 30,
   "id": "8cde9953",
   "metadata": {},
   "outputs": [
    {
     "data": {
      "text/html": [
       "<div>\n",
       "<style scoped>\n",
       "    .dataframe tbody tr th:only-of-type {\n",
       "        vertical-align: middle;\n",
       "    }\n",
       "\n",
       "    .dataframe tbody tr th {\n",
       "        vertical-align: top;\n",
       "    }\n",
       "\n",
       "    .dataframe thead th {\n",
       "        text-align: right;\n",
       "    }\n",
       "</style>\n",
       "<table border=\"1\" class=\"dataframe\">\n",
       "  <thead>\n",
       "    <tr style=\"text-align: right;\">\n",
       "      <th></th>\n",
       "      <th>date</th>\n",
       "      <th>revenue</th>\n",
       "      <th>revenue_cum</th>\n",
       "      <th>orders</th>\n",
       "      <th>orders_cum</th>\n",
       "      <th>cumulative_avg_order_size</th>\n",
       "    </tr>\n",
       "  </thead>\n",
       "  <tbody>\n",
       "    <tr>\n",
       "      <th>26</th>\n",
       "      <td>2019-08-27</td>\n",
       "      <td>2,319.80</td>\n",
       "      <td>82,161.30</td>\n",
       "      <td>16</td>\n",
       "      <td>548</td>\n",
       "      <td>149.93</td>\n",
       "    </tr>\n",
       "    <tr>\n",
       "      <th>27</th>\n",
       "      <td>2019-08-28</td>\n",
       "      <td>1,558.00</td>\n",
       "      <td>83,719.30</td>\n",
       "      <td>28</td>\n",
       "      <td>576</td>\n",
       "      <td>145.35</td>\n",
       "    </tr>\n",
       "    <tr>\n",
       "      <th>28</th>\n",
       "      <td>2019-08-29</td>\n",
       "      <td>3,623.70</td>\n",
       "      <td>87,343.00</td>\n",
       "      <td>20</td>\n",
       "      <td>596</td>\n",
       "      <td>146.55</td>\n",
       "    </tr>\n",
       "    <tr>\n",
       "      <th>29</th>\n",
       "      <td>2019-08-30</td>\n",
       "      <td>3,393.30</td>\n",
       "      <td>90,736.30</td>\n",
       "      <td>24</td>\n",
       "      <td>620</td>\n",
       "      <td>146.35</td>\n",
       "    </tr>\n",
       "    <tr>\n",
       "      <th>30</th>\n",
       "      <td>2019-08-31</td>\n",
       "      <td>2,104.30</td>\n",
       "      <td>92,840.60</td>\n",
       "      <td>20</td>\n",
       "      <td>640</td>\n",
       "      <td>145.06</td>\n",
       "    </tr>\n",
       "  </tbody>\n",
       "</table>\n",
       "</div>"
      ],
      "text/plain": [
       "         date  revenue  revenue_cum  orders  orders_cum  \\\n",
       "26 2019-08-27 2,319.80    82,161.30      16         548   \n",
       "27 2019-08-28 1,558.00    83,719.30      28         576   \n",
       "28 2019-08-29 3,623.70    87,343.00      20         596   \n",
       "29 2019-08-30 3,393.30    90,736.30      24         620   \n",
       "30 2019-08-31 2,104.30    92,840.60      20         640   \n",
       "\n",
       "    cumulative_avg_order_size  \n",
       "26                     149.93  \n",
       "27                     145.35  \n",
       "28                     146.55  \n",
       "29                     146.35  \n",
       "30                     145.06  "
      ]
     },
     "execution_count": 30,
     "metadata": {},
     "output_type": "execute_result"
    }
   ],
   "source": [
    "cumulative_orders_b_revenue = orders_b.groupby(orders[\"date\"].astype(\n",
    "    'datetime64[D]'))[[\"date\", \"revenue\"]].sum().reset_index()\n",
    "cumulative_orders_b_revenue[\"revenue_cum\"] = cumulative_orders_b_revenue.groupby(\n",
    "    orders[\"date\"].astype('datetime64[D]'))[\"revenue\"].transform(pd.Series.cumsum)\n",
    "cumulative_orders_b_orders = orders_b.groupby(orders[\"date\"].astype(\n",
    "    'datetime64[D]'))[[\"transactionId\"]].count().reset_index()\n",
    "cumulative_orders_b_orders[\"number_of_orders\"] = cumulative_orders_b_orders.groupby(\n",
    "    orders[\"date\"].astype('datetime64[D]'))[\"transactionId\"].transform(pd.Series.cumsum)\n",
    "cumulative_orders_b = cumulative_orders_b_revenue.merge(\n",
    "    right=cumulative_orders_b_orders, on=\"date\")\n",
    "cumulative_orders_b.columns = [\n",
    "    \"date\", \"revenue\", \"revenue_cum\", \"orders\", \"orders_cum\"]\n",
    "cumulative_orders_b[\"cumulative_avg_order_size\"] = cumulative_orders_b[\"revenue_cum\"] / \\\n",
    "    cumulative_orders_b[\"orders_cum\"]\n",
    "cumulative_orders_b.tail()"
   ]
  },
  {
   "cell_type": "markdown",
   "id": "35f4628c",
   "metadata": {},
   "source": [
    "## cumulative revenue by group"
   ]
  },
  {
   "cell_type": "code",
   "execution_count": 31,
   "id": "553c30c8",
   "metadata": {},
   "outputs": [
    {
     "data": {
      "text/plain": [
       "<matplotlib.legend.Legend at 0x7fba3e0b8850>"
      ]
     },
     "execution_count": 31,
     "metadata": {},
     "output_type": "execute_result"
    },
    {
     "data": {
      "image/png": "[encoded data removed]",
      "text/plain": [
       "<Figure size 1224x720 with 1 Axes>"
      ]
     },
     "metadata": {
      "needs_background": "light"
     },
     "output_type": "display_data"
    }
   ],
   "source": [
    "fig, ax = plt.subplots(figsize=(17, 10))\n",
    "\n",
    "ax.plot(cumulative_orders_a.date, cumulative_orders_a.revenue_cum,\n",
    "        color=\"darkblue\", alpha=0.75, linewidth=2, label=\"group A\", linestyle=\"--\")\n",
    "ax.plot(cumulative_orders_b.date, cumulative_orders_b.revenue_cum,\n",
    "        color=\"green\", alpha=0.75, linewidth=2, label=\"group B\", linestyle=\"-.\")\n",
    "\n",
    "ax.set_title(\"cumulative orders revenue\", fontdict={\"size\": 24})\n",
    "\n",
    "ax.set_ylabel(\"revenue\", fontdict={\"size\": 16})\n",
    "\n",
    "ax.set_xlabel(\"date\", fontdict={\"size\": 16})\n",
    "ax.grid()\n",
    "ax.legend(fontsize=14)"
   ]
  },
  {
   "cell_type": "markdown",
   "id": "97aeebd5",
   "metadata": {},
   "source": [
    "**conclusion and conjectures:** The cumulative orders revenue have similar slope in the two groups after 19 days. There is a big jump on group B in the 18th day. Looks like group B revenue is higher than group A "
   ]
  },
  {
   "cell_type": "markdown",
   "id": "e7e5c2eb",
   "metadata": {},
   "source": [
    "## cumulative average order size by group"
   ]
  },
  {
   "cell_type": "code",
   "execution_count": 32,
   "id": "26652d43",
   "metadata": {},
   "outputs": [
    {
     "data": {
      "text/plain": [
       "<matplotlib.legend.Legend at 0x7fba3dcc8d10>"
      ]
     },
     "execution_count": 32,
     "metadata": {},
     "output_type": "execute_result"
    },
    {
     "data": {
      "image/png": "[encoded data removed]",
      "text/plain": [
       "<Figure size 1224x720 with 1 Axes>"
      ]
     },
     "metadata": {
      "needs_background": "light"
     },
     "output_type": "display_data"
    }
   ],
   "source": [
    "fig, ax = plt.subplots(figsize=(17, 10))\n",
    "\n",
    "ax.plot(cumulative_orders_a.date, cumulative_orders_a.cumulative_avg_order_size,\n",
    "        color=\"darkblue\", alpha=0.75, linewidth=2, label=\"group A\", linestyle=\"--\")\n",
    "ax.plot(cumulative_orders_b.date, cumulative_orders_b.cumulative_avg_order_size,\n",
    "        color=\"green\", alpha=0.75, linewidth=2, label=\"group B\", linestyle=\"-.\")\n",
    "\n",
    "ax.set_title(\"cumulative _average order size\", fontdict={\"size\": 24})\n",
    "\n",
    "ax.set_ylabel(\"revenue\", fontdict={\"size\": 16})\n",
    "\n",
    "ax.set_xlabel(\"date\", fontdict={\"size\": 16})\n",
    "\n",
    "ax.legend(fontsize=14)"
   ]
  },
  {
   "cell_type": "markdown",
   "id": "f8a54673",
   "metadata": {},
   "source": [
    "**conclusion and conjectures:** Here again, until the 18th day the average didn't got the same characteristics. After a  big jump on the 18th day, group B is declining and group A is rising. We think that if we will neutralize the outliers, there will be no jump and group B wouldn't be declining."
   ]
  },
  {
   "cell_type": "markdown",
   "id": "392a7c93",
   "metadata": {},
   "source": [
    "## relative difference in cumulative average order size for group B compared with group A"
   ]
  },
  {
   "cell_type": "code",
   "execution_count": 33,
   "id": "f081da32",
   "metadata": {},
   "outputs": [],
   "source": [
    "rel_diff = cumulative_orders_a.merge(right=cumulative_orders_b, on=\"date\")"
   ]
  },
  {
   "cell_type": "code",
   "execution_count": 34,
   "id": "f71865d4",
   "metadata": {},
   "outputs": [],
   "source": [
    "rel_diff[\"rel_diff\"] = rel_diff[\"cumulative_avg_order_size_y\"] / \\\n",
    "    rel_diff[\"cumulative_avg_order_size_x\"] - 1"
   ]
  },
  {
   "cell_type": "code",
   "execution_count": 35,
   "id": "aabdeb72",
   "metadata": {},
   "outputs": [],
   "source": [
    "rel_diff.columns = rel_diff.columns.str.replace(\n",
    "    \"_x\", \"_A\").str.replace(\"_y\", \"_B\")"
   ]
  },
  {
   "cell_type": "code",
   "execution_count": 36,
   "id": "eb912743",
   "metadata": {
    "cell_style": "center"
   },
   "outputs": [
    {
     "data": {
      "text/html": [
       "<div>\n",
       "<style scoped>\n",
       "    .dataframe tbody tr th:only-of-type {\n",
       "        vertical-align: middle;\n",
       "    }\n",
       "\n",
       "    .dataframe tbody tr th {\n",
       "        vertical-align: top;\n",
       "    }\n",
       "\n",
       "    .dataframe thead th {\n",
       "        text-align: right;\n",
       "    }\n",
       "</style>\n",
       "<table border=\"1\" class=\"dataframe\">\n",
       "  <thead>\n",
       "    <tr style=\"text-align: right;\">\n",
       "      <th></th>\n",
       "      <th>date</th>\n",
       "      <th>revenue_A</th>\n",
       "      <th>revenue_cum_A</th>\n",
       "      <th>orders_A</th>\n",
       "      <th>orders_cum_A</th>\n",
       "      <th>cumulative_avg_order_size_A</th>\n",
       "      <th>revenue_B</th>\n",
       "      <th>revenue_cum_B</th>\n",
       "      <th>orders_B</th>\n",
       "      <th>orders_cum_B</th>\n",
       "      <th>cumulative_avg_order_size_B</th>\n",
       "      <th>rel_diff</th>\n",
       "    </tr>\n",
       "  </thead>\n",
       "  <tbody>\n",
       "    <tr>\n",
       "      <th>0</th>\n",
       "      <td>2019-08-01</td>\n",
       "      <td>2,356.80</td>\n",
       "      <td>2,356.80</td>\n",
       "      <td>24</td>\n",
       "      <td>24</td>\n",
       "      <td>98.20</td>\n",
       "      <td>1,620.00</td>\n",
       "      <td>1,620.00</td>\n",
       "      <td>21</td>\n",
       "      <td>21</td>\n",
       "      <td>77.14</td>\n",
       "      <td>-0.21</td>\n",
       "    </tr>\n",
       "    <tr>\n",
       "      <th>1</th>\n",
       "      <td>2019-08-02</td>\n",
       "      <td>1,503.50</td>\n",
       "      <td>3,860.30</td>\n",
       "      <td>20</td>\n",
       "      <td>44</td>\n",
       "      <td>87.73</td>\n",
       "      <td>2,623.80</td>\n",
       "      <td>4,243.80</td>\n",
       "      <td>24</td>\n",
       "      <td>45</td>\n",
       "      <td>94.31</td>\n",
       "      <td>0.07</td>\n",
       "    </tr>\n",
       "    <tr>\n",
       "      <th>2</th>\n",
       "      <td>2019-08-03</td>\n",
       "      <td>1,815.20</td>\n",
       "      <td>5,675.50</td>\n",
       "      <td>24</td>\n",
       "      <td>68</td>\n",
       "      <td>83.46</td>\n",
       "      <td>1,806.80</td>\n",
       "      <td>6,050.60</td>\n",
       "      <td>16</td>\n",
       "      <td>61</td>\n",
       "      <td>99.19</td>\n",
       "      <td>0.19</td>\n",
       "    </tr>\n",
       "    <tr>\n",
       "      <th>3</th>\n",
       "      <td>2019-08-04</td>\n",
       "      <td>1,146.60</td>\n",
       "      <td>6,822.10</td>\n",
       "      <td>16</td>\n",
       "      <td>84</td>\n",
       "      <td>81.22</td>\n",
       "      <td>1,717.30</td>\n",
       "      <td>7,767.90</td>\n",
       "      <td>17</td>\n",
       "      <td>78</td>\n",
       "      <td>99.59</td>\n",
       "      <td>0.23</td>\n",
       "    </tr>\n",
       "    <tr>\n",
       "      <th>4</th>\n",
       "      <td>2019-08-05</td>\n",
       "      <td>1,988.10</td>\n",
       "      <td>8,810.20</td>\n",
       "      <td>25</td>\n",
       "      <td>109</td>\n",
       "      <td>80.83</td>\n",
       "      <td>1,495.00</td>\n",
       "      <td>9,262.90</td>\n",
       "      <td>23</td>\n",
       "      <td>101</td>\n",
       "      <td>91.71</td>\n",
       "      <td>0.13</td>\n",
       "    </tr>\n",
       "  </tbody>\n",
       "</table>\n",
       "</div>"
      ],
      "text/plain": [
       "        date  revenue_A  revenue_cum_A  orders_A  orders_cum_A  \\\n",
       "0 2019-08-01   2,356.80       2,356.80        24            24   \n",
       "1 2019-08-02   1,503.50       3,860.30        20            44   \n",
       "2 2019-08-03   1,815.20       5,675.50        24            68   \n",
       "3 2019-08-04   1,146.60       6,822.10        16            84   \n",
       "4 2019-08-05   1,988.10       8,810.20        25           109   \n",
       "\n",
       "   cumulative_avg_order_size_A  revenue_B  revenue_cum_B  orders_B  \\\n",
       "0                        98.20   1,620.00       1,620.00        21   \n",
       "1                        87.73   2,623.80       4,243.80        24   \n",
       "2                        83.46   1,806.80       6,050.60        16   \n",
       "3                        81.22   1,717.30       7,767.90        17   \n",
       "4                        80.83   1,495.00       9,262.90        23   \n",
       "\n",
       "   orders_cum_B  cumulative_avg_order_size_B  rel_diff  \n",
       "0            21                        77.14     -0.21  \n",
       "1            45                        94.31      0.07  \n",
       "2            61                        99.19      0.19  \n",
       "3            78                        99.59      0.23  \n",
       "4           101                        91.71      0.13  "
      ]
     },
     "execution_count": 36,
     "metadata": {},
     "output_type": "execute_result"
    }
   ],
   "source": [
    "rel_diff.head()"
   ]
  },
  {
   "cell_type": "code",
   "execution_count": 37,
   "id": "684bde39",
   "metadata": {},
   "outputs": [
    {
     "data": {
      "text/plain": [
       "<matplotlib.lines.Line2D at 0x7fba3dffa450>"
      ]
     },
     "execution_count": 37,
     "metadata": {},
     "output_type": "execute_result"
    },
    {
     "data": {
      "image/png": "[encoded data removed]",
      "text/plain": [
       "<Figure size 1224x720 with 1 Axes>"
      ]
     },
     "metadata": {
      "needs_background": "light"
     },
     "output_type": "display_data"
    }
   ],
   "source": [
    "fig, ax = plt.subplots(figsize=(17, 10))\n",
    "\n",
    "ax.plot(rel_diff.date, rel_diff.rel_diff, color=\"darkblue\",\n",
    "        alpha=0.75, linewidth=2, label=\"group A\", linestyle=\"--\")\n",
    "\n",
    "ax.set_title(\"relative difference in\\ncumulative average order size\\nfor group B compared with group A\",\n",
    "             fontdict={\"size\": 24})\n",
    "\n",
    "ax.set_ylabel(\"revenue\", fontdict={\"size\": 16})\n",
    "\n",
    "ax.set_xlabel(\"date\", fontdict={\"size\": 16})\n",
    "\n",
    "ax.axhline(y=0, color=\"red\", linestyle=\"--\", linewidth=5)"
   ]
  },
  {
   "cell_type": "markdown",
   "id": "fa69ea86",
   "metadata": {},
   "source": [
    "**conclusion and conjectures:** the relative difference is not stable in the first 18 days, after the big jump on the 18th day, it is declining. We think that if we will neutralize the outliers, there will be no jump and the relative difference wouldn't be declining."
   ]
  },
  {
   "cell_type": "markdown",
   "id": "b145ac19",
   "metadata": {},
   "source": [
    "## conversion rate as the ratio of orders to the number of visits for each day"
   ]
  },
  {
   "cell_type": "code",
   "execution_count": 38,
   "id": "3d00f0d4",
   "metadata": {},
   "outputs": [],
   "source": [
    "visits_a = visits[visits[\"group\"] == \"A\"]\n",
    "visits_b = visits[visits[\"group\"] == \"B\"]"
   ]
  },
  {
   "cell_type": "code",
   "execution_count": 39,
   "id": "47ace4d1",
   "metadata": {},
   "outputs": [],
   "source": [
    "visits_a[\"cum_visits\"] = visits_a[\"visits\"].cumsum()\n",
    "visits_b[\"cum_visits\"] = visits_b[\"visits\"].cumsum()"
   ]
  },
  {
   "cell_type": "code",
   "execution_count": 40,
   "id": "54ea6db7",
   "metadata": {},
   "outputs": [],
   "source": [
    "visits_groups = visits_a.merge(right=visits_b, on=\"date\")"
   ]
  },
  {
   "cell_type": "code",
   "execution_count": 41,
   "id": "327291d8",
   "metadata": {},
   "outputs": [
    {
     "data": {
      "text/html": [
       "<div>\n",
       "<style scoped>\n",
       "    .dataframe tbody tr th:only-of-type {\n",
       "        vertical-align: middle;\n",
       "    }\n",
       "\n",
       "    .dataframe tbody tr th {\n",
       "        vertical-align: top;\n",
       "    }\n",
       "\n",
       "    .dataframe thead th {\n",
       "        text-align: right;\n",
       "    }\n",
       "</style>\n",
       "<table border=\"1\" class=\"dataframe\">\n",
       "  <thead>\n",
       "    <tr style=\"text-align: right;\">\n",
       "      <th></th>\n",
       "      <th>date</th>\n",
       "      <th>visits_A</th>\n",
       "      <th>cum_visits_A</th>\n",
       "      <th>visits_B</th>\n",
       "      <th>cum_visits_B</th>\n",
       "    </tr>\n",
       "  </thead>\n",
       "  <tbody>\n",
       "    <tr>\n",
       "      <th>0</th>\n",
       "      <td>2019-08-01</td>\n",
       "      <td>719</td>\n",
       "      <td>719</td>\n",
       "      <td>713</td>\n",
       "      <td>713</td>\n",
       "    </tr>\n",
       "    <tr>\n",
       "      <th>1</th>\n",
       "      <td>2019-08-02</td>\n",
       "      <td>619</td>\n",
       "      <td>1338</td>\n",
       "      <td>581</td>\n",
       "      <td>1294</td>\n",
       "    </tr>\n",
       "    <tr>\n",
       "      <th>2</th>\n",
       "      <td>2019-08-03</td>\n",
       "      <td>507</td>\n",
       "      <td>1845</td>\n",
       "      <td>509</td>\n",
       "      <td>1803</td>\n",
       "    </tr>\n",
       "    <tr>\n",
       "      <th>3</th>\n",
       "      <td>2019-08-04</td>\n",
       "      <td>717</td>\n",
       "      <td>2562</td>\n",
       "      <td>770</td>\n",
       "      <td>2573</td>\n",
       "    </tr>\n",
       "    <tr>\n",
       "      <th>4</th>\n",
       "      <td>2019-08-05</td>\n",
       "      <td>756</td>\n",
       "      <td>3318</td>\n",
       "      <td>707</td>\n",
       "      <td>3280</td>\n",
       "    </tr>\n",
       "  </tbody>\n",
       "</table>\n",
       "</div>"
      ],
      "text/plain": [
       "        date  visits_A  cum_visits_A  visits_B  cum_visits_B\n",
       "0 2019-08-01       719           719       713           713\n",
       "1 2019-08-02       619          1338       581          1294\n",
       "2 2019-08-03       507          1845       509          1803\n",
       "3 2019-08-04       717          2562       770          2573\n",
       "4 2019-08-05       756          3318       707          3280"
      ]
     },
     "execution_count": 41,
     "metadata": {},
     "output_type": "execute_result"
    }
   ],
   "source": [
    "visits_groups = visits_groups.drop(columns=[\"group_x\", \"group_y\"])\n",
    "visits_groups.columns = visits_groups.columns.str.replace(\n",
    "    \"_x\", \"_A\").str.replace(\"_y\", \"_B\")\n",
    "visits_groups.head()"
   ]
  },
  {
   "cell_type": "code",
   "execution_count": 42,
   "id": "6fb43f06",
   "metadata": {},
   "outputs": [],
   "source": [
    "rel_diff = rel_diff.merge(right=visits_groups, on=\"date\")\n",
    "rel_diff[\"conver_a\"] = rel_diff[\"orders_A\"]/rel_diff[\"visits_A\"]-1\n",
    "rel_diff[\"conver_b\"] = rel_diff[\"orders_B\"]/rel_diff[\"visits_B\"]-1"
   ]
  },
  {
   "cell_type": "code",
   "execution_count": 43,
   "id": "529bdd1d",
   "metadata": {},
   "outputs": [
    {
     "data": {
      "text/html": [
       "<div>\n",
       "<style scoped>\n",
       "    .dataframe tbody tr th:only-of-type {\n",
       "        vertical-align: middle;\n",
       "    }\n",
       "\n",
       "    .dataframe tbody tr th {\n",
       "        vertical-align: top;\n",
       "    }\n",
       "\n",
       "    .dataframe thead th {\n",
       "        text-align: right;\n",
       "    }\n",
       "</style>\n",
       "<table border=\"1\" class=\"dataframe\">\n",
       "  <thead>\n",
       "    <tr style=\"text-align: right;\">\n",
       "      <th></th>\n",
       "      <th>date</th>\n",
       "      <th>revenue_A</th>\n",
       "      <th>revenue_cum_A</th>\n",
       "      <th>orders_A</th>\n",
       "      <th>orders_cum_A</th>\n",
       "      <th>cumulative_avg_order_size_A</th>\n",
       "      <th>revenue_B</th>\n",
       "      <th>revenue_cum_B</th>\n",
       "      <th>orders_B</th>\n",
       "      <th>orders_cum_B</th>\n",
       "      <th>cumulative_avg_order_size_B</th>\n",
       "      <th>rel_diff</th>\n",
       "      <th>visits_A</th>\n",
       "      <th>cum_visits_A</th>\n",
       "      <th>visits_B</th>\n",
       "      <th>cum_visits_B</th>\n",
       "      <th>conver_a</th>\n",
       "      <th>conver_b</th>\n",
       "    </tr>\n",
       "  </thead>\n",
       "  <tbody>\n",
       "    <tr>\n",
       "      <th>0</th>\n",
       "      <td>2019-08-01</td>\n",
       "      <td>2,356.80</td>\n",
       "      <td>2,356.80</td>\n",
       "      <td>24</td>\n",
       "      <td>24</td>\n",
       "      <td>98.20</td>\n",
       "      <td>1,620.00</td>\n",
       "      <td>1,620.00</td>\n",
       "      <td>21</td>\n",
       "      <td>21</td>\n",
       "      <td>77.14</td>\n",
       "      <td>-0.21</td>\n",
       "      <td>719</td>\n",
       "      <td>719</td>\n",
       "      <td>713</td>\n",
       "      <td>713</td>\n",
       "      <td>-0.97</td>\n",
       "      <td>-0.97</td>\n",
       "    </tr>\n",
       "    <tr>\n",
       "      <th>1</th>\n",
       "      <td>2019-08-02</td>\n",
       "      <td>1,503.50</td>\n",
       "      <td>3,860.30</td>\n",
       "      <td>20</td>\n",
       "      <td>44</td>\n",
       "      <td>87.73</td>\n",
       "      <td>2,623.80</td>\n",
       "      <td>4,243.80</td>\n",
       "      <td>24</td>\n",
       "      <td>45</td>\n",
       "      <td>94.31</td>\n",
       "      <td>0.07</td>\n",
       "      <td>619</td>\n",
       "      <td>1338</td>\n",
       "      <td>581</td>\n",
       "      <td>1294</td>\n",
       "      <td>-0.97</td>\n",
       "      <td>-0.96</td>\n",
       "    </tr>\n",
       "    <tr>\n",
       "      <th>2</th>\n",
       "      <td>2019-08-03</td>\n",
       "      <td>1,815.20</td>\n",
       "      <td>5,675.50</td>\n",
       "      <td>24</td>\n",
       "      <td>68</td>\n",
       "      <td>83.46</td>\n",
       "      <td>1,806.80</td>\n",
       "      <td>6,050.60</td>\n",
       "      <td>16</td>\n",
       "      <td>61</td>\n",
       "      <td>99.19</td>\n",
       "      <td>0.19</td>\n",
       "      <td>507</td>\n",
       "      <td>1845</td>\n",
       "      <td>509</td>\n",
       "      <td>1803</td>\n",
       "      <td>-0.95</td>\n",
       "      <td>-0.97</td>\n",
       "    </tr>\n",
       "    <tr>\n",
       "      <th>3</th>\n",
       "      <td>2019-08-04</td>\n",
       "      <td>1,146.60</td>\n",
       "      <td>6,822.10</td>\n",
       "      <td>16</td>\n",
       "      <td>84</td>\n",
       "      <td>81.22</td>\n",
       "      <td>1,717.30</td>\n",
       "      <td>7,767.90</td>\n",
       "      <td>17</td>\n",
       "      <td>78</td>\n",
       "      <td>99.59</td>\n",
       "      <td>0.23</td>\n",
       "      <td>717</td>\n",
       "      <td>2562</td>\n",
       "      <td>770</td>\n",
       "      <td>2573</td>\n",
       "      <td>-0.98</td>\n",
       "      <td>-0.98</td>\n",
       "    </tr>\n",
       "    <tr>\n",
       "      <th>4</th>\n",
       "      <td>2019-08-05</td>\n",
       "      <td>1,988.10</td>\n",
       "      <td>8,810.20</td>\n",
       "      <td>25</td>\n",
       "      <td>109</td>\n",
       "      <td>80.83</td>\n",
       "      <td>1,495.00</td>\n",
       "      <td>9,262.90</td>\n",
       "      <td>23</td>\n",
       "      <td>101</td>\n",
       "      <td>91.71</td>\n",
       "      <td>0.13</td>\n",
       "      <td>756</td>\n",
       "      <td>3318</td>\n",
       "      <td>707</td>\n",
       "      <td>3280</td>\n",
       "      <td>-0.97</td>\n",
       "      <td>-0.97</td>\n",
       "    </tr>\n",
       "  </tbody>\n",
       "</table>\n",
       "</div>"
      ],
      "text/plain": [
       "        date  revenue_A  revenue_cum_A  orders_A  orders_cum_A  \\\n",
       "0 2019-08-01   2,356.80       2,356.80        24            24   \n",
       "1 2019-08-02   1,503.50       3,860.30        20            44   \n",
       "2 2019-08-03   1,815.20       5,675.50        24            68   \n",
       "3 2019-08-04   1,146.60       6,822.10        16            84   \n",
       "4 2019-08-05   1,988.10       8,810.20        25           109   \n",
       "\n",
       "   cumulative_avg_order_size_A  revenue_B  revenue_cum_B  orders_B  \\\n",
       "0                        98.20   1,620.00       1,620.00        21   \n",
       "1                        87.73   2,623.80       4,243.80        24   \n",
       "2                        83.46   1,806.80       6,050.60        16   \n",
       "3                        81.22   1,717.30       7,767.90        17   \n",
       "4                        80.83   1,495.00       9,262.90        23   \n",
       "\n",
       "   orders_cum_B  cumulative_avg_order_size_B  rel_diff  visits_A  \\\n",
       "0            21                        77.14     -0.21       719   \n",
       "1            45                        94.31      0.07       619   \n",
       "2            61                        99.19      0.19       507   \n",
       "3            78                        99.59      0.23       717   \n",
       "4           101                        91.71      0.13       756   \n",
       "\n",
       "   cum_visits_A  visits_B  cum_visits_B  conver_a  conver_b  \n",
       "0           719       713           713     -0.97     -0.97  \n",
       "1          1338       581          1294     -0.97     -0.96  \n",
       "2          1845       509          1803     -0.95     -0.97  \n",
       "3          2562       770          2573     -0.98     -0.98  \n",
       "4          3318       707          3280     -0.97     -0.97  "
      ]
     },
     "execution_count": 43,
     "metadata": {},
     "output_type": "execute_result"
    }
   ],
   "source": [
    "rel_diff.head()"
   ]
  },
  {
   "cell_type": "code",
   "execution_count": 44,
   "id": "1ff04f6c",
   "metadata": {},
   "outputs": [
    {
     "data": {
      "text/plain": [
       "<matplotlib.legend.Legend at 0x7fba3decd4d0>"
      ]
     },
     "execution_count": 44,
     "metadata": {},
     "output_type": "execute_result"
    },
    {
     "data": {
      "image/png": "[encoded data removed]",
      "text/plain": [
       "<Figure size 1224x720 with 1 Axes>"
      ]
     },
     "metadata": {
      "needs_background": "light"
     },
     "output_type": "display_data"
    }
   ],
   "source": [
    "fig, ax = plt.subplots(figsize=(17, 10))\n",
    "\n",
    "ax.plot(rel_diff.date, rel_diff.conver_a, color=\"darkblue\",\n",
    "        alpha=0.75, linewidth=2, label=\"group A\", linestyle=\"--\")\n",
    "ax.plot(rel_diff.date, rel_diff.conver_b, color=\"green\",\n",
    "        alpha=0.75, linewidth=2, label=\"group B\", linestyle=\"-.\")\n",
    "\n",
    "ax.set_title(\"Daily \\nconversion rate as the ratio of orders to the number of visits for each day\",\n",
    "             fontdict={\"size\": 24})\n",
    "\n",
    "ax.set_ylabel(\"conversion rate\", fontdict={\"size\": 16})\n",
    "\n",
    "ax.set_xlabel(\"date\", fontdict={\"size\": 16})\n",
    "\n",
    "ax.legend(fontsize=14)"
   ]
  },
  {
   "cell_type": "code",
   "execution_count": 45,
   "id": "ac6e3240",
   "metadata": {},
   "outputs": [],
   "source": [
    "rel_diff_cum = rel_diff\n",
    "rel_diff_cum[\"conver_a\"] = rel_diff_cum[\"orders_cum_A\"] / \\\n",
    "    rel_diff_cum[\"cum_visits_A\"]\n",
    "rel_diff_cum[\"conver_b\"] = rel_diff_cum[\"orders_cum_B\"] / \\\n",
    "    rel_diff_cum[\"cum_visits_B\"]"
   ]
  },
  {
   "cell_type": "code",
   "execution_count": 46,
   "id": "9b0d21d4",
   "metadata": {},
   "outputs": [
    {
     "data": {
      "text/plain": [
       "<matplotlib.legend.Legend at 0x7fba3debaa50>"
      ]
     },
     "execution_count": 46,
     "metadata": {},
     "output_type": "execute_result"
    },
    {
     "data": {
      "image/png": "[encoded data removed]",
      "text/plain": [
       "<Figure size 1224x720 with 1 Axes>"
      ]
     },
     "metadata": {
      "needs_background": "light"
     },
     "output_type": "display_data"
    }
   ],
   "source": [
    "fig, ax = plt.subplots(figsize=(17, 10))\n",
    "\n",
    "ax.plot(rel_diff_cum.date, rel_diff_cum.conver_a, color=\"darkblue\",\n",
    "        alpha=0.75, linewidth=2, label=\"group A\", linestyle=\"--\")\n",
    "ax.plot(rel_diff_cum.date, rel_diff_cum.conver_b, color=\"green\",\n",
    "        alpha=0.75, linewidth=2, label=\"group B\", linestyle=\"-.\")\n",
    "\n",
    "ax.set_title(\"Cumulative \\nconversion rate as the ratio of orders to the number of visits for each day\",\n",
    "             fontdict={\"size\": 24})\n",
    "\n",
    "ax.set_ylabel(\"conversion rate\", fontdict={\"size\": 16})\n",
    "\n",
    "ax.set_xlabel(\"date\", fontdict={\"size\": 16})\n",
    "\n",
    "ax.legend(fontsize=14)"
   ]
  },
  {
   "cell_type": "markdown",
   "id": "927ff886",
   "metadata": {},
   "source": [
    "**conclusion and conjectures:** Daily Conversion rate doesn't give any significant understanding. Its change every day for the groups. When we look at the cumulative conversion rate, we can see that after six days it become stable and conversion rate of group b is higher than group a."
   ]
  },
  {
   "cell_type": "markdown",
   "id": "8c6ad508",
   "metadata": {},
   "source": [
    "## scatter chart of the number of orders per user"
   ]
  },
  {
   "cell_type": "code",
   "execution_count": 47,
   "id": "d65ee052",
   "metadata": {},
   "outputs": [
    {
     "data": {
      "text/html": [
       "<div>\n",
       "<style scoped>\n",
       "    .dataframe tbody tr th:only-of-type {\n",
       "        vertical-align: middle;\n",
       "    }\n",
       "\n",
       "    .dataframe tbody tr th {\n",
       "        vertical-align: top;\n",
       "    }\n",
       "\n",
       "    .dataframe thead tr th {\n",
       "        text-align: left;\n",
       "    }\n",
       "</style>\n",
       "<table border=\"1\" class=\"dataframe\">\n",
       "  <thead>\n",
       "    <tr>\n",
       "      <th></th>\n",
       "      <th>num_visitor</th>\n",
       "      <th>num_orders</th>\n",
       "    </tr>\n",
       "  </thead>\n",
       "  <tbody>\n",
       "    <tr>\n",
       "      <th>0</th>\n",
       "      <td>4256040402</td>\n",
       "      <td>11</td>\n",
       "    </tr>\n",
       "    <tr>\n",
       "      <th>1</th>\n",
       "      <td>2458001652</td>\n",
       "      <td>11</td>\n",
       "    </tr>\n",
       "    <tr>\n",
       "      <th>2</th>\n",
       "      <td>2378935119</td>\n",
       "      <td>9</td>\n",
       "    </tr>\n",
       "    <tr>\n",
       "      <th>3</th>\n",
       "      <td>2038680547</td>\n",
       "      <td>8</td>\n",
       "    </tr>\n",
       "    <tr>\n",
       "      <th>4</th>\n",
       "      <td>199603092</td>\n",
       "      <td>5</td>\n",
       "    </tr>\n",
       "  </tbody>\n",
       "</table>\n",
       "</div>"
      ],
      "text/plain": [
       "  num_visitor num_orders\n",
       "0  4256040402         11\n",
       "1  2458001652         11\n",
       "2  2378935119          9\n",
       "3  2038680547          8\n",
       "4   199603092          5"
      ]
     },
     "execution_count": 47,
     "metadata": {},
     "output_type": "execute_result"
    }
   ],
   "source": [
    "orders_per_user = orders.groupby(\"visitorId\")[[\"revenue\"]].count(\n",
    ").sort_values(\"revenue\", ascending=False).reset_index()\n",
    "orders_per_user.columns = [[\"num_visitor\", \"num_orders\"]]\n",
    "orders_per_user.head()"
   ]
  },
  {
   "cell_type": "code",
   "execution_count": 48,
   "id": "b81fd28b",
   "metadata": {},
   "outputs": [
    {
     "data": {
      "text/plain": [
       "Text(0.5, 0, 'users')"
      ]
     },
     "execution_count": 48,
     "metadata": {},
     "output_type": "execute_result"
    },
    {
     "data": {
      "image/png": "[encoded data removed]",
      "text/plain": [
       "<Figure size 1224x720 with 1 Axes>"
      ]
     },
     "metadata": {
      "needs_background": "light"
     },
     "output_type": "display_data"
    }
   ],
   "source": [
    "fig, ax = plt.subplots(figsize=(17, 10))\n",
    "\n",
    "ax.scatter(orders_per_user.num_visitor, orders_per_user.num_orders,\n",
    "           color=\"darkblue\", alpha=0.5, s=75)\n",
    "\n",
    "ax.set_title(\"Number of Orders per User\", fontdict={\"size\": 24})\n",
    "\n",
    "ax.set_ylabel(\"Number of Orders\", fontdict={\"size\": 16})\n",
    "\n",
    "ax.set_xlabel(\"users\", fontdict={\"size\": 16})"
   ]
  },
  {
   "cell_type": "markdown",
   "id": "781ddf55",
   "metadata": {},
   "source": [
    "**conclusion and conjectures:** most users make one order. Very few make more than three."
   ]
  },
  {
   "cell_type": "markdown",
   "id": "d4cea36a",
   "metadata": {},
   "source": [
    "## Calculate the 95th and 99th percentiles for the number of orders per user."
   ]
  },
  {
   "cell_type": "code",
   "execution_count": 49,
   "id": "719798e9",
   "metadata": {},
   "outputs": [
    {
     "name": "stdout",
     "output_type": "stream",
     "text": [
      "The 95th percentile for the number of orders per user is 2.0\n",
      "The 99th percentile for the number of orders per user is 4.0\n"
     ]
    }
   ],
   "source": [
    "print(\n",
    "    f\"The 95th percentile for the number of orders per user is {(np.percentile(orders_per_user.num_orders, [95]))[0]}\")\n",
    "print(\n",
    "    f\"The 99th percentile for the number of orders per user is {(np.percentile(orders_per_user.num_orders, [99]))[0]}\")"
   ]
  },
  {
   "cell_type": "markdown",
   "id": "e5cf4792",
   "metadata": {},
   "source": [
    "**conclusion and conjectures:** We'll choose 2 as the maximum order per user. Its the 95th percentile."
   ]
  },
  {
   "cell_type": "markdown",
   "id": "a6b75de9",
   "metadata": {},
   "source": [
    "##  scatter chart of order prices"
   ]
  },
  {
   "cell_type": "code",
   "execution_count": 50,
   "id": "1a3ce313",
   "metadata": {},
   "outputs": [
    {
     "data": {
      "text/plain": [
       "Text(0.5, 0, 'users')"
      ]
     },
     "execution_count": 50,
     "metadata": {},
     "output_type": "execute_result"
    },
    {
     "data": {
      "image/png": "[encoded data removed]",
      "text/plain": [
       "<Figure size 1224x720 with 1 Axes>"
      ]
     },
     "metadata": {
      "needs_background": "light"
     },
     "output_type": "display_data"
    }
   ],
   "source": [
    "fig, ax = plt.subplots(figsize=(17, 10))\n",
    "\n",
    "ax.scatter(orders.visitorId, orders.revenue,\n",
    "           color=\"darkblue\", alpha=0.25, s=75)\n",
    "\n",
    "ax.set_title(\"Order Prices per User\", fontdict={\"size\": 24})\n",
    "\n",
    "ax.set_ylabel(\"Orders Price\", fontdict={\"size\": 16})\n",
    "\n",
    "ax.set_xlabel(\"users\", fontdict={\"size\": 16})"
   ]
  },
  {
   "cell_type": "markdown",
   "id": "b89a2fbe",
   "metadata": {},
   "source": [
    "**conclusion and conjectures:** Most orders are less than 1,000. only two above 2,500."
   ]
  },
  {
   "cell_type": "markdown",
   "id": "06cdbc9a",
   "metadata": {},
   "source": [
    "## Calculate the 95th and 99th percentiles of order prices"
   ]
  },
  {
   "cell_type": "code",
   "execution_count": 51,
   "id": "677d0c5b",
   "metadata": {},
   "outputs": [
    {
     "name": "stdout",
     "output_type": "stream",
     "text": [
      "The 95th percentile for the number of orders per user is 435.54\n",
      "The 99th percentile for the number of orders per user is 900.9039999999998\n"
     ]
    }
   ],
   "source": [
    "print(\n",
    "    f\"The 95th percentile for the number of orders per user is {(np.percentile(orders.revenue, [95]))[0]}\")\n",
    "print(\n",
    "    f\"The 99th percentile for the number of orders per user is {(np.percentile(orders.revenue, [99]))[0]}\")"
   ]
  },
  {
   "cell_type": "markdown",
   "id": "eb4d171c",
   "metadata": {},
   "source": [
    "**conclusion and conjectures:** We'll choose 440 as the maximum order size. Its the 95th percentile, like the maximum order per user"
   ]
  },
  {
   "cell_type": "markdown",
   "id": "041b7f76",
   "metadata": {},
   "source": [
    "## the statistical significance of the difference in conversion between the groups using the *raw* data"
   ]
  },
  {
   "cell_type": "markdown",
   "id": "884a12cb",
   "metadata": {},
   "source": [
    "The Wilcoxon-Mann-Whitney Nonparametric Test"
   ]
  },
  {
   "cell_type": "markdown",
   "id": "9f9adea7",
   "metadata": {},
   "source": [
    "<div class=\"alert alert-info\"> \n",
    "<b>Student's comment</b> \n",
    "formulate the null and alternative hypotheses\n",
    "</div>"
   ]
  },
  {
   "cell_type": "markdown",
   "id": "e2771ba1",
   "metadata": {},
   "source": [
    "***hypotheses - statistical significance of the difference in conversion between the groups using the raw data***\n",
    "- $H_0 =$ The statistical significance of the difference in conversion between the groups using the raw data is probably equal.\n",
    "\n",
    "- $H_1 =$ The statistical significance of the difference in conversion between the groups using the raw data is not equal.\n",
    "\n",
    "**$ \\alpha = 0.05$**\n",
    "\n",
    "explanation of the hypotheses: are the difference in conversion rate between group A and group B are statistical significant, based on raw data?"
   ]
  },
  {
   "cell_type": "code",
   "execution_count": 52,
   "id": "93124c11",
   "metadata": {},
   "outputs": [],
   "source": [
    "alpha = .05  # significance level"
   ]
  },
  {
   "cell_type": "code",
   "execution_count": 53,
   "id": "38125319",
   "metadata": {},
   "outputs": [
    {
     "name": "stdout",
     "output_type": "stream",
     "text": [
      "p-value:  1.2368310681408489e-08\n",
      "Null hypothesis rejected: the difference is statistically significant\n"
     ]
    }
   ],
   "source": [
    "results = st.mannwhitneyu(rel_diff.conver_a, rel_diff.conver_b)\n",
    "\n",
    "print('p-value: ', results.pvalue)\n",
    "\n",
    "if (results.pvalue < alpha):\n",
    "    print(\"Null hypothesis rejected: the difference is statistically significant\")\n",
    "else:\n",
    "    print(\"Failed to reject the null hypothesis: we can't make conclusions about the difference\")"
   ]
  },
  {
   "cell_type": "markdown",
   "id": "3a5d03f9",
   "metadata": {},
   "source": [
    "**conclusion and conjectures:** The Null hypothesis $H_0$ was rejected. We can assume that there is difference in conversion rate based on raw data"
   ]
  },
  {
   "cell_type": "markdown",
   "id": "ed39d295",
   "metadata": {},
   "source": [
    "## the statistical significance of the difference in average order size between the groups using the *raw* data"
   ]
  },
  {
   "cell_type": "markdown",
   "id": "d57ac705",
   "metadata": {},
   "source": [
    "<div class=\"alert alert-info\"> \n",
    "<b>Student's comment</b> \n",
    "formulate the null and alternative hypotheses\n",
    "</div>"
   ]
  },
  {
   "cell_type": "markdown",
   "id": "19ac76ee",
   "metadata": {},
   "source": [
    "***hypotheses - statistical significance of the difference in average order size between the groups using the raw data***\n",
    "- $H_0 =$ The statistical significance of the difference in average order size between the groups using the raw data is probably equal.\n",
    "\n",
    "- $H_1 =$ The statistical significance of the difference in average order size between the groups using the raw data is not equal.\n",
    "\n",
    "**$ \\alpha = 0.05$**\n",
    "\n",
    "explanation of the hypotheses: are the difference in average order size between group A and group B are statistical significant, based on raw data?"
   ]
  },
  {
   "cell_type": "code",
   "execution_count": 54,
   "id": "7874b892",
   "metadata": {},
   "outputs": [
    {
     "data": {
      "text/html": [
       "<div>\n",
       "<style scoped>\n",
       "    .dataframe tbody tr th:only-of-type {\n",
       "        vertical-align: middle;\n",
       "    }\n",
       "\n",
       "    .dataframe tbody tr th {\n",
       "        vertical-align: top;\n",
       "    }\n",
       "\n",
       "    .dataframe thead tr th {\n",
       "        text-align: left;\n",
       "    }\n",
       "</style>\n",
       "<table border=\"1\" class=\"dataframe\">\n",
       "  <thead>\n",
       "    <tr>\n",
       "      <th></th>\n",
       "      <th>visitorId</th>\n",
       "      <th>orders</th>\n",
       "    </tr>\n",
       "  </thead>\n",
       "  <tbody>\n",
       "    <tr>\n",
       "      <th>0</th>\n",
       "      <td>4256040402</td>\n",
       "      <td>7</td>\n",
       "    </tr>\n",
       "    <tr>\n",
       "      <th>1</th>\n",
       "      <td>2038680547</td>\n",
       "      <td>5</td>\n",
       "    </tr>\n",
       "    <tr>\n",
       "      <th>2</th>\n",
       "      <td>2458001652</td>\n",
       "      <td>5</td>\n",
       "    </tr>\n",
       "    <tr>\n",
       "      <th>3</th>\n",
       "      <td>2378935119</td>\n",
       "      <td>4</td>\n",
       "    </tr>\n",
       "    <tr>\n",
       "      <th>4</th>\n",
       "      <td>199603092</td>\n",
       "      <td>4</td>\n",
       "    </tr>\n",
       "  </tbody>\n",
       "</table>\n",
       "</div>"
      ],
      "text/plain": [
       "    visitorId orders\n",
       "0  4256040402      7\n",
       "1  2038680547      5\n",
       "2  2458001652      5\n",
       "3  2378935119      4\n",
       "4   199603092      4"
      ]
     },
     "execution_count": 54,
     "metadata": {},
     "output_type": "execute_result"
    }
   ],
   "source": [
    "orders_per_user_a = orders[orders[\"group\"] == \"A\"].groupby(\"visitorId\")[\n",
    "    [\"revenue\"]].count().sort_values(\"revenue\", ascending=False).reset_index()\n",
    "orders_per_user_a.columns = [[\"visitorId\", \"orders\"]]\n",
    "orders_per_user_a.head()"
   ]
  },
  {
   "cell_type": "code",
   "execution_count": 55,
   "id": "a5dee773",
   "metadata": {},
   "outputs": [
    {
     "data": {
      "text/html": [
       "<div>\n",
       "<style scoped>\n",
       "    .dataframe tbody tr th:only-of-type {\n",
       "        vertical-align: middle;\n",
       "    }\n",
       "\n",
       "    .dataframe tbody tr th {\n",
       "        vertical-align: top;\n",
       "    }\n",
       "\n",
       "    .dataframe thead tr th {\n",
       "        text-align: left;\n",
       "    }\n",
       "</style>\n",
       "<table border=\"1\" class=\"dataframe\">\n",
       "  <thead>\n",
       "    <tr>\n",
       "      <th></th>\n",
       "      <th>visitorId</th>\n",
       "      <th>orders</th>\n",
       "    </tr>\n",
       "  </thead>\n",
       "  <tbody>\n",
       "    <tr>\n",
       "      <th>0</th>\n",
       "      <td>2458001652</td>\n",
       "      <td>6</td>\n",
       "    </tr>\n",
       "    <tr>\n",
       "      <th>1</th>\n",
       "      <td>2378935119</td>\n",
       "      <td>5</td>\n",
       "    </tr>\n",
       "    <tr>\n",
       "      <th>2</th>\n",
       "      <td>3717692402</td>\n",
       "      <td>4</td>\n",
       "    </tr>\n",
       "    <tr>\n",
       "      <th>3</th>\n",
       "      <td>3803269165</td>\n",
       "      <td>4</td>\n",
       "    </tr>\n",
       "    <tr>\n",
       "      <th>4</th>\n",
       "      <td>4256040402</td>\n",
       "      <td>4</td>\n",
       "    </tr>\n",
       "  </tbody>\n",
       "</table>\n",
       "</div>"
      ],
      "text/plain": [
       "    visitorId orders\n",
       "0  2458001652      6\n",
       "1  2378935119      5\n",
       "2  3717692402      4\n",
       "3  3803269165      4\n",
       "4  4256040402      4"
      ]
     },
     "execution_count": 55,
     "metadata": {},
     "output_type": "execute_result"
    }
   ],
   "source": [
    "orders_per_user_b = orders[orders[\"group\"] == \"B\"].groupby(\"visitorId\")[\n",
    "    [\"revenue\"]].count().sort_values(\"revenue\", ascending=False).reset_index()\n",
    "orders_per_user_b.columns = [[\"visitorId\", \"orders\"]]\n",
    "orders_per_user_b.head()"
   ]
  },
  {
   "cell_type": "code",
   "execution_count": 56,
   "id": "79e9b284",
   "metadata": {},
   "outputs": [
    {
     "name": "stdout",
     "output_type": "stream",
     "text": [
      "p-value:  0.4450296462335267\n",
      "Failed to reject the null hypothesis: we can't make conclusions about the difference\n"
     ]
    }
   ],
   "source": [
    "results = st.mannwhitneyu(orders_per_user_a.orders, orders_per_user_b.orders)\n",
    "\n",
    "print('p-value: ', results.pvalue)\n",
    "\n",
    "if (results.pvalue < alpha):\n",
    "    print(\"Null hypothesis rejected: the difference is statistically significant\")\n",
    "else:\n",
    "    print(\"Failed to reject the null hypothesis: we can't make conclusions about the difference\")"
   ]
  },
  {
   "cell_type": "markdown",
   "id": "95d537d0",
   "metadata": {},
   "source": [
    "**conclusion and conjectures:** We cannot reject the null hypothesis $H_0$. We cannot assume difference in order size based on raw data"
   ]
  },
  {
   "cell_type": "markdown",
   "id": "fc5b8d23",
   "metadata": {},
   "source": [
    "## Filtering the data"
   ]
  },
  {
   "cell_type": "code",
   "execution_count": 57,
   "id": "e3e0eec9",
   "metadata": {
    "cell_style": "center"
   },
   "outputs": [
    {
     "data": {
      "text/html": [
       "<div>\n",
       "<style scoped>\n",
       "    .dataframe tbody tr th:only-of-type {\n",
       "        vertical-align: middle;\n",
       "    }\n",
       "\n",
       "    .dataframe tbody tr th {\n",
       "        vertical-align: top;\n",
       "    }\n",
       "\n",
       "    .dataframe thead th {\n",
       "        text-align: right;\n",
       "    }\n",
       "</style>\n",
       "<table border=\"1\" class=\"dataframe\">\n",
       "  <thead>\n",
       "    <tr style=\"text-align: right;\">\n",
       "      <th></th>\n",
       "      <th>orders</th>\n",
       "    </tr>\n",
       "    <tr>\n",
       "      <th>visitorId</th>\n",
       "      <th></th>\n",
       "    </tr>\n",
       "  </thead>\n",
       "  <tbody>\n",
       "    <tr>\n",
       "      <th>4256040402</th>\n",
       "      <td>7</td>\n",
       "    </tr>\n",
       "    <tr>\n",
       "      <th>2038680547</th>\n",
       "      <td>5</td>\n",
       "    </tr>\n",
       "    <tr>\n",
       "      <th>2458001652</th>\n",
       "      <td>5</td>\n",
       "    </tr>\n",
       "    <tr>\n",
       "      <th>2378935119</th>\n",
       "      <td>4</td>\n",
       "    </tr>\n",
       "    <tr>\n",
       "      <th>199603092</th>\n",
       "      <td>4</td>\n",
       "    </tr>\n",
       "  </tbody>\n",
       "</table>\n",
       "</div>"
      ],
      "text/plain": [
       "            orders\n",
       "visitorId         \n",
       "4256040402       7\n",
       "2038680547       5\n",
       "2458001652       5\n",
       "2378935119       4\n",
       "199603092        4"
      ]
     },
     "execution_count": 57,
     "metadata": {},
     "output_type": "execute_result"
    }
   ],
   "source": [
    "orders_p_user_A = orders[orders[\"group\"] == \"A\"].groupby(\n",
    "    \"visitorId\")[[\"revenue\"]].count().sort_values(\"revenue\", ascending=False)\n",
    "orders_p_user_A.columns = [\"orders\"]\n",
    "orders_p_user_A.head()"
   ]
  },
  {
   "cell_type": "code",
   "execution_count": 58,
   "id": "b913f3cd",
   "metadata": {},
   "outputs": [
    {
     "data": {
      "text/html": [
       "<div>\n",
       "<style scoped>\n",
       "    .dataframe tbody tr th:only-of-type {\n",
       "        vertical-align: middle;\n",
       "    }\n",
       "\n",
       "    .dataframe tbody tr th {\n",
       "        vertical-align: top;\n",
       "    }\n",
       "\n",
       "    .dataframe thead th {\n",
       "        text-align: right;\n",
       "    }\n",
       "</style>\n",
       "<table border=\"1\" class=\"dataframe\">\n",
       "  <thead>\n",
       "    <tr style=\"text-align: right;\">\n",
       "      <th></th>\n",
       "      <th>orders</th>\n",
       "    </tr>\n",
       "    <tr>\n",
       "      <th>visitorId</th>\n",
       "      <th></th>\n",
       "    </tr>\n",
       "  </thead>\n",
       "  <tbody>\n",
       "    <tr>\n",
       "      <th>2458001652</th>\n",
       "      <td>6</td>\n",
       "    </tr>\n",
       "    <tr>\n",
       "      <th>2378935119</th>\n",
       "      <td>5</td>\n",
       "    </tr>\n",
       "    <tr>\n",
       "      <th>3717692402</th>\n",
       "      <td>4</td>\n",
       "    </tr>\n",
       "    <tr>\n",
       "      <th>3803269165</th>\n",
       "      <td>4</td>\n",
       "    </tr>\n",
       "    <tr>\n",
       "      <th>4256040402</th>\n",
       "      <td>4</td>\n",
       "    </tr>\n",
       "  </tbody>\n",
       "</table>\n",
       "</div>"
      ],
      "text/plain": [
       "            orders\n",
       "visitorId         \n",
       "2458001652       6\n",
       "2378935119       5\n",
       "3717692402       4\n",
       "3803269165       4\n",
       "4256040402       4"
      ]
     },
     "execution_count": 58,
     "metadata": {},
     "output_type": "execute_result"
    }
   ],
   "source": [
    "orders_p_user_B = orders[orders[\"group\"] == \"B\"].groupby(\n",
    "    \"visitorId\")[[\"revenue\"]].count().sort_values(\"revenue\", ascending=False)\n",
    "orders_p_user_B.columns = [\"orders\"]\n",
    "orders_p_user_B.head()"
   ]
  },
  {
   "cell_type": "code",
   "execution_count": 59,
   "id": "da1b1f40",
   "metadata": {},
   "outputs": [
    {
     "data": {
      "text/plain": [
       "0    4256040402\n",
       "1    2038680547\n",
       "2    2458001652\n",
       "3    2378935119\n",
       "4     199603092\n",
       "Name: visitorId, dtype: int64"
      ]
     },
     "execution_count": 59,
     "metadata": {},
     "output_type": "execute_result"
    }
   ],
   "source": [
    "users_with_many_orders_d = pd.concat(\n",
    "    [orders_p_user_A[orders_p_user_A[\"orders\"] > 2], orders_p_user_B[orders_p_user_B[\"orders\"] > 2]], axis=0)\n",
    "users_with_many_orders_d = users_with_many_orders_d.reset_index()\n",
    "users_with_many_orders = users_with_many_orders_d[\"visitorId\"]\n",
    "users_with_many_orders.head()"
   ]
  },
  {
   "cell_type": "code",
   "execution_count": 60,
   "id": "87a569cd",
   "metadata": {},
   "outputs": [
    {
     "data": {
      "text/plain": [
       "60     4256040402\n",
       "73     2947100995\n",
       "77      787824685\n",
       "78     3288820196\n",
       "131    2254586615\n",
       "Name: visitorId, dtype: int64"
      ]
     },
     "execution_count": 60,
     "metadata": {},
     "output_type": "execute_result"
    }
   ],
   "source": [
    "users_with_expensive_orders = orders[orders['revenue'] > 440][\"visitorId\"]\n",
    "users_with_expensive_orders.head()"
   ]
  },
  {
   "cell_type": "code",
   "execution_count": 61,
   "id": "be0de322",
   "metadata": {},
   "outputs": [
    {
     "data": {
      "text/plain": [
       "1099    148427295\n",
       "4       199603092\n",
       "928     204675465\n",
       "5       237748145\n",
       "20      249864742\n",
       "Name: visitorId, dtype: int64"
      ]
     },
     "execution_count": 61,
     "metadata": {},
     "output_type": "execute_result"
    }
   ],
   "source": [
    "abnormal_users = pd.concat(\n",
    "    [users_with_many_orders, users_with_expensive_orders], axis=0).drop_duplicates().sort_values()\n",
    "abnormal_users.head()"
   ]
  },
  {
   "cell_type": "code",
   "execution_count": 62,
   "id": "dc32316e",
   "metadata": {},
   "outputs": [],
   "source": [
    "orders_filter = orders[np.logical_not(\n",
    "    orders[\"visitorId\"].isin(abnormal_users))]"
   ]
  },
  {
   "cell_type": "markdown",
   "id": "9b1466bd",
   "metadata": {},
   "source": [
    "**conclusion and conjectures:** We filtered the orders data base on the 95th percentile, more than two orders and more than $440 revenue per order."
   ]
  },
  {
   "cell_type": "markdown",
   "id": "265acb00",
   "metadata": {},
   "source": [
    "## the statistical significance of the difference in conversion between the groups using the filtered data"
   ]
  },
  {
   "cell_type": "markdown",
   "id": "2d90733b",
   "metadata": {},
   "source": [
    "***NOTICE*** the calculation of *conversion* of filtered data must include filtered visitors and filtered users that made a purchase. We eliminate outliers from the list of visitors made a purchase but we **cannot** eliminate them from the visitors list because we have only total visitors per day. Even if we will eliminate from the visitors list the visits they made a purchase, we cannot eliminate them if they entered but didn't made  a purchase.\n",
    "\n",
    "\n",
    "\n",
    "***conclusion:*** after consulting, we made the modified conversion by the original visit data and the filtered orders data."
   ]
  },
  {
   "cell_type": "markdown",
   "id": "9ed2f93b",
   "metadata": {},
   "source": [
    "<div class=\"alert alert-info\"> \n",
    "<b>Student's comment</b> \n",
    "formulate the null and alternative hypotheses\n",
    "</div>"
   ]
  },
  {
   "cell_type": "markdown",
   "id": "7a64b4f9",
   "metadata": {},
   "source": [
    "***hypotheses - statistical significance of the difference in conversion between the groups using the filtered data***\n",
    "- $H_0 =$ The statistical significance of the difference in conversion between the groups using the filtered data is probably equal.\n",
    "\n",
    "- $H_1 =$ The statistical significance of the difference in conversion between the groups using the filtered data is not equal.\n",
    "\n",
    "**$ \\alpha = 0.05$**\n",
    "\n",
    "explanation of the hypotheses: are the difference in conversion rate between group A and group B are statistical significant, based on filtered data?"
   ]
  },
  {
   "cell_type": "code",
   "execution_count": 63,
   "id": "f36b1499",
   "metadata": {},
   "outputs": [],
   "source": [
    "orders_a_f = orders_filter[orders_filter[\"group\"] == \"A\"]\n",
    "orders_b_f = orders_filter[orders_filter[\"group\"] == \"B\"]"
   ]
  },
  {
   "cell_type": "code",
   "execution_count": 64,
   "id": "6a6f7e83",
   "metadata": {},
   "outputs": [
    {
     "data": {
      "text/html": [
       "<div>\n",
       "<style scoped>\n",
       "    .dataframe tbody tr th:only-of-type {\n",
       "        vertical-align: middle;\n",
       "    }\n",
       "\n",
       "    .dataframe tbody tr th {\n",
       "        vertical-align: top;\n",
       "    }\n",
       "\n",
       "    .dataframe thead th {\n",
       "        text-align: right;\n",
       "    }\n",
       "</style>\n",
       "<table border=\"1\" class=\"dataframe\">\n",
       "  <thead>\n",
       "    <tr style=\"text-align: right;\">\n",
       "      <th></th>\n",
       "      <th>date</th>\n",
       "      <th>revenue</th>\n",
       "      <th>revenue_cum</th>\n",
       "      <th>orders</th>\n",
       "      <th>orders_cum</th>\n",
       "      <th>cumulative_avg_order_size</th>\n",
       "    </tr>\n",
       "  </thead>\n",
       "  <tbody>\n",
       "    <tr>\n",
       "      <th>0</th>\n",
       "      <td>2019-08-01</td>\n",
       "      <td>883.20</td>\n",
       "      <td>883.20</td>\n",
       "      <td>16</td>\n",
       "      <td>16</td>\n",
       "      <td>55.20</td>\n",
       "    </tr>\n",
       "    <tr>\n",
       "      <th>1</th>\n",
       "      <td>2019-08-02</td>\n",
       "      <td>1,473.50</td>\n",
       "      <td>2,356.70</td>\n",
       "      <td>19</td>\n",
       "      <td>35</td>\n",
       "      <td>67.33</td>\n",
       "    </tr>\n",
       "    <tr>\n",
       "      <th>2</th>\n",
       "      <td>2019-08-03</td>\n",
       "      <td>1,815.20</td>\n",
       "      <td>4,171.90</td>\n",
       "      <td>24</td>\n",
       "      <td>59</td>\n",
       "      <td>70.71</td>\n",
       "    </tr>\n",
       "    <tr>\n",
       "      <th>3</th>\n",
       "      <td>2019-08-04</td>\n",
       "      <td>1,070.80</td>\n",
       "      <td>5,242.70</td>\n",
       "      <td>13</td>\n",
       "      <td>72</td>\n",
       "      <td>72.82</td>\n",
       "    </tr>\n",
       "    <tr>\n",
       "      <th>4</th>\n",
       "      <td>2019-08-05</td>\n",
       "      <td>1,988.10</td>\n",
       "      <td>7,230.80</td>\n",
       "      <td>25</td>\n",
       "      <td>97</td>\n",
       "      <td>74.54</td>\n",
       "    </tr>\n",
       "  </tbody>\n",
       "</table>\n",
       "</div>"
      ],
      "text/plain": [
       "        date  revenue  revenue_cum  orders  orders_cum  \\\n",
       "0 2019-08-01   883.20       883.20      16          16   \n",
       "1 2019-08-02 1,473.50     2,356.70      19          35   \n",
       "2 2019-08-03 1,815.20     4,171.90      24          59   \n",
       "3 2019-08-04 1,070.80     5,242.70      13          72   \n",
       "4 2019-08-05 1,988.10     7,230.80      25          97   \n",
       "\n",
       "   cumulative_avg_order_size  \n",
       "0                      55.20  \n",
       "1                      67.33  \n",
       "2                      70.71  \n",
       "3                      72.82  \n",
       "4                      74.54  "
      ]
     },
     "execution_count": 64,
     "metadata": {},
     "output_type": "execute_result"
    }
   ],
   "source": [
    "cumulative_orders_a_revenue_f = orders_a_f.groupby(orders[\"date\"].astype(\n",
    "    \"datetime64[D]\"))[[\"date\", \"revenue\"]].sum().reset_index()\n",
    "cumulative_orders_a_revenue_f[\"revenue_cum\"] = cumulative_orders_a_revenue_f.groupby(\n",
    "    orders[\"date\"].astype(\"datetime64[D]\"))[\"revenue\"].transform(pd.Series.cumsum)\n",
    "cumulative_orders_a_orders_f = orders_a_f.groupby(orders[\"date\"].astype(\n",
    "    'datetime64[D]'))[[\"transactionId\"]].count().reset_index()\n",
    "cumulative_orders_a_orders_f[\"number_of_orders\"] = cumulative_orders_a_orders_f.groupby(\n",
    "    orders[\"date\"].astype(\"datetime64[D]\"))[\"transactionId\"].transform(pd.Series.cumsum)\n",
    "cumulative_orders_a_f = cumulative_orders_a_revenue_f.merge(\n",
    "    right=cumulative_orders_a_orders_f, on=\"date\")\n",
    "cumulative_orders_a_f.columns = [\n",
    "    \"date\", \"revenue\", \"revenue_cum\", \"orders\", \"orders_cum\"]\n",
    "cumulative_orders_a_f[\"cumulative_avg_order_size\"] = cumulative_orders_a_f[\"revenue_cum\"] / \\\n",
    "    cumulative_orders_a_f[\"orders_cum\"]\n",
    "cumulative_orders_a_f.head()"
   ]
  },
  {
   "cell_type": "code",
   "execution_count": 65,
   "id": "21324eb6",
   "metadata": {},
   "outputs": [
    {
     "data": {
      "text/html": [
       "<div>\n",
       "<style scoped>\n",
       "    .dataframe tbody tr th:only-of-type {\n",
       "        vertical-align: middle;\n",
       "    }\n",
       "\n",
       "    .dataframe tbody tr th {\n",
       "        vertical-align: top;\n",
       "    }\n",
       "\n",
       "    .dataframe thead th {\n",
       "        text-align: right;\n",
       "    }\n",
       "</style>\n",
       "<table border=\"1\" class=\"dataframe\">\n",
       "  <thead>\n",
       "    <tr style=\"text-align: right;\">\n",
       "      <th></th>\n",
       "      <th>date</th>\n",
       "      <th>revenue</th>\n",
       "      <th>revenue_cum</th>\n",
       "      <th>orders</th>\n",
       "      <th>orders_cum</th>\n",
       "      <th>cumulative_avg_order_size</th>\n",
       "    </tr>\n",
       "  </thead>\n",
       "  <tbody>\n",
       "    <tr>\n",
       "      <th>0</th>\n",
       "      <td>2019-08-01</td>\n",
       "      <td>1,258.80</td>\n",
       "      <td>1,258.80</td>\n",
       "      <td>19</td>\n",
       "      <td>19</td>\n",
       "      <td>66.25</td>\n",
       "    </tr>\n",
       "    <tr>\n",
       "      <th>1</th>\n",
       "      <td>2019-08-02</td>\n",
       "      <td>1,502.50</td>\n",
       "      <td>2,761.30</td>\n",
       "      <td>21</td>\n",
       "      <td>40</td>\n",
       "      <td>69.03</td>\n",
       "    </tr>\n",
       "    <tr>\n",
       "      <th>2</th>\n",
       "      <td>2019-08-03</td>\n",
       "      <td>1,806.80</td>\n",
       "      <td>4,568.10</td>\n",
       "      <td>16</td>\n",
       "      <td>56</td>\n",
       "      <td>81.57</td>\n",
       "    </tr>\n",
       "    <tr>\n",
       "      <th>3</th>\n",
       "      <td>2019-08-04</td>\n",
       "      <td>1,186.90</td>\n",
       "      <td>5,755.00</td>\n",
       "      <td>15</td>\n",
       "      <td>71</td>\n",
       "      <td>81.06</td>\n",
       "    </tr>\n",
       "    <tr>\n",
       "      <th>4</th>\n",
       "      <td>2019-08-05</td>\n",
       "      <td>1,014.60</td>\n",
       "      <td>6,769.60</td>\n",
       "      <td>21</td>\n",
       "      <td>92</td>\n",
       "      <td>73.58</td>\n",
       "    </tr>\n",
       "  </tbody>\n",
       "</table>\n",
       "</div>"
      ],
      "text/plain": [
       "        date  revenue  revenue_cum  orders  orders_cum  \\\n",
       "0 2019-08-01 1,258.80     1,258.80      19          19   \n",
       "1 2019-08-02 1,502.50     2,761.30      21          40   \n",
       "2 2019-08-03 1,806.80     4,568.10      16          56   \n",
       "3 2019-08-04 1,186.90     5,755.00      15          71   \n",
       "4 2019-08-05 1,014.60     6,769.60      21          92   \n",
       "\n",
       "   cumulative_avg_order_size  \n",
       "0                      66.25  \n",
       "1                      69.03  \n",
       "2                      81.57  \n",
       "3                      81.06  \n",
       "4                      73.58  "
      ]
     },
     "execution_count": 65,
     "metadata": {},
     "output_type": "execute_result"
    }
   ],
   "source": [
    "cumulative_orders_b_revenue_f = orders_b_f.groupby(orders[\"date\"].astype(\n",
    "    \"datetime64[D]\"))[[\"date\", \"revenue\"]].sum().reset_index()\n",
    "cumulative_orders_b_revenue_f[\"revenue_cum\"] = cumulative_orders_b_revenue_f.groupby(\n",
    "    orders[\"date\"].astype(\"datetime64[D]\"))[\"revenue\"].transform(pd.Series.cumsum)\n",
    "cumulative_orders_b_orders_f = orders_b_f.groupby(orders[\"date\"].astype(\n",
    "    'datetime64[D]'))[[\"transactionId\"]].count().reset_index()\n",
    "cumulative_orders_b_orders_f[\"number_of_orders\"] = cumulative_orders_b_orders_f.groupby(\n",
    "    orders[\"date\"].astype(\"datetime64[D]\"))[\"transactionId\"].transform(pd.Series.cumsum)\n",
    "cumulative_orders_b_f = cumulative_orders_b_revenue_f.merge(\n",
    "    right=cumulative_orders_b_orders_f, on=\"date\")\n",
    "cumulative_orders_b_f.columns = [\n",
    "    \"date\", \"revenue\", \"revenue_cum\", \"orders\", \"orders_cum\"]\n",
    "cumulative_orders_b_f[\"cumulative_avg_order_size\"] = cumulative_orders_b_f[\"revenue_cum\"] / \\\n",
    "    cumulative_orders_b_f[\"orders_cum\"]\n",
    "cumulative_orders_b_f.head()"
   ]
  },
  {
   "cell_type": "code",
   "execution_count": 66,
   "id": "9d7763f0",
   "metadata": {},
   "outputs": [
    {
     "data": {
      "text/html": [
       "<div>\n",
       "<style scoped>\n",
       "    .dataframe tbody tr th:only-of-type {\n",
       "        vertical-align: middle;\n",
       "    }\n",
       "\n",
       "    .dataframe tbody tr th {\n",
       "        vertical-align: top;\n",
       "    }\n",
       "\n",
       "    .dataframe thead th {\n",
       "        text-align: right;\n",
       "    }\n",
       "</style>\n",
       "<table border=\"1\" class=\"dataframe\">\n",
       "  <thead>\n",
       "    <tr style=\"text-align: right;\">\n",
       "      <th></th>\n",
       "      <th>date</th>\n",
       "      <th>revenue_A</th>\n",
       "      <th>revenue_cum_A</th>\n",
       "      <th>orders_A</th>\n",
       "      <th>orders_cum_A</th>\n",
       "      <th>cumulative_avg_order_size_A</th>\n",
       "      <th>revenue_B</th>\n",
       "      <th>revenue_cum_B</th>\n",
       "      <th>orders_B</th>\n",
       "      <th>orders_cum_B</th>\n",
       "      <th>cumulative_avg_order_size_B</th>\n",
       "      <th>rel_diff</th>\n",
       "    </tr>\n",
       "  </thead>\n",
       "  <tbody>\n",
       "    <tr>\n",
       "      <th>0</th>\n",
       "      <td>2019-08-01</td>\n",
       "      <td>883.20</td>\n",
       "      <td>883.20</td>\n",
       "      <td>16</td>\n",
       "      <td>16</td>\n",
       "      <td>55.20</td>\n",
       "      <td>1,258.80</td>\n",
       "      <td>1,258.80</td>\n",
       "      <td>19</td>\n",
       "      <td>19</td>\n",
       "      <td>66.25</td>\n",
       "      <td>0.20</td>\n",
       "    </tr>\n",
       "    <tr>\n",
       "      <th>1</th>\n",
       "      <td>2019-08-02</td>\n",
       "      <td>1,473.50</td>\n",
       "      <td>2,356.70</td>\n",
       "      <td>19</td>\n",
       "      <td>35</td>\n",
       "      <td>67.33</td>\n",
       "      <td>1,502.50</td>\n",
       "      <td>2,761.30</td>\n",
       "      <td>21</td>\n",
       "      <td>40</td>\n",
       "      <td>69.03</td>\n",
       "      <td>0.03</td>\n",
       "    </tr>\n",
       "    <tr>\n",
       "      <th>2</th>\n",
       "      <td>2019-08-03</td>\n",
       "      <td>1,815.20</td>\n",
       "      <td>4,171.90</td>\n",
       "      <td>24</td>\n",
       "      <td>59</td>\n",
       "      <td>70.71</td>\n",
       "      <td>1,806.80</td>\n",
       "      <td>4,568.10</td>\n",
       "      <td>16</td>\n",
       "      <td>56</td>\n",
       "      <td>81.57</td>\n",
       "      <td>0.15</td>\n",
       "    </tr>\n",
       "    <tr>\n",
       "      <th>3</th>\n",
       "      <td>2019-08-04</td>\n",
       "      <td>1,070.80</td>\n",
       "      <td>5,242.70</td>\n",
       "      <td>13</td>\n",
       "      <td>72</td>\n",
       "      <td>72.82</td>\n",
       "      <td>1,186.90</td>\n",
       "      <td>5,755.00</td>\n",
       "      <td>15</td>\n",
       "      <td>71</td>\n",
       "      <td>81.06</td>\n",
       "      <td>0.11</td>\n",
       "    </tr>\n",
       "    <tr>\n",
       "      <th>4</th>\n",
       "      <td>2019-08-05</td>\n",
       "      <td>1,988.10</td>\n",
       "      <td>7,230.80</td>\n",
       "      <td>25</td>\n",
       "      <td>97</td>\n",
       "      <td>74.54</td>\n",
       "      <td>1,014.60</td>\n",
       "      <td>6,769.60</td>\n",
       "      <td>21</td>\n",
       "      <td>92</td>\n",
       "      <td>73.58</td>\n",
       "      <td>-0.01</td>\n",
       "    </tr>\n",
       "  </tbody>\n",
       "</table>\n",
       "</div>"
      ],
      "text/plain": [
       "        date  revenue_A  revenue_cum_A  orders_A  orders_cum_A  \\\n",
       "0 2019-08-01     883.20         883.20        16            16   \n",
       "1 2019-08-02   1,473.50       2,356.70        19            35   \n",
       "2 2019-08-03   1,815.20       4,171.90        24            59   \n",
       "3 2019-08-04   1,070.80       5,242.70        13            72   \n",
       "4 2019-08-05   1,988.10       7,230.80        25            97   \n",
       "\n",
       "   cumulative_avg_order_size_A  revenue_B  revenue_cum_B  orders_B  \\\n",
       "0                        55.20   1,258.80       1,258.80        19   \n",
       "1                        67.33   1,502.50       2,761.30        21   \n",
       "2                        70.71   1,806.80       4,568.10        16   \n",
       "3                        72.82   1,186.90       5,755.00        15   \n",
       "4                        74.54   1,014.60       6,769.60        21   \n",
       "\n",
       "   orders_cum_B  cumulative_avg_order_size_B  rel_diff  \n",
       "0            19                        66.25      0.20  \n",
       "1            40                        69.03      0.03  \n",
       "2            56                        81.57      0.15  \n",
       "3            71                        81.06      0.11  \n",
       "4            92                        73.58     -0.01  "
      ]
     },
     "execution_count": 66,
     "metadata": {},
     "output_type": "execute_result"
    }
   ],
   "source": [
    "rel_diff_f = cumulative_orders_a_f.merge(\n",
    "    right=cumulative_orders_b_f, on=\"date\")\n",
    "rel_diff_f[\"rel_diff\"] = rel_diff_f[\"cumulative_avg_order_size_y\"] / \\\n",
    "    rel_diff_f[\"cumulative_avg_order_size_x\"] - 1\n",
    "rel_diff_f.columns = rel_diff_f.columns.str.replace(\n",
    "    \"_x\", \"_A\").str.replace(\"_y\", \"_B\")\n",
    "rel_diff_f.head()"
   ]
  },
  {
   "cell_type": "code",
   "execution_count": 67,
   "id": "c2c649f7",
   "metadata": {},
   "outputs": [],
   "source": [
    "rel_diff_f = rel_diff_f.merge(right=visits_groups, on=\"date\")\n",
    "rel_diff_f[\"conver_a\"] = rel_diff_f[\"orders_A\"]/rel_diff_f[\"visits_A\"]-1\n",
    "rel_diff_f[\"conver_b\"] = rel_diff_f[\"orders_B\"]/rel_diff_f[\"visits_B\"]-1"
   ]
  },
  {
   "cell_type": "code",
   "execution_count": 68,
   "id": "e20946a4",
   "metadata": {},
   "outputs": [],
   "source": [
    "rel_diff_cum_f = rel_diff_f\n",
    "rel_diff_cum_f[\"conver_a\"] = rel_diff_cum_f[\"orders_cum_A\"] / \\\n",
    "    rel_diff_cum_f[\"cum_visits_A\"]\n",
    "rel_diff_cum_f[\"conver_b\"] = rel_diff_cum_f[\"orders_cum_B\"] / \\\n",
    "    rel_diff_cum_f[\"cum_visits_B\"]"
   ]
  },
  {
   "cell_type": "code",
   "execution_count": 69,
   "id": "c3c8dc89",
   "metadata": {},
   "outputs": [
    {
     "name": "stdout",
     "output_type": "stream",
     "text": [
      "p-value:  1.2368310681408489e-08\n",
      "Null hypothesis rejected: the difference is statistically significant\n"
     ]
    }
   ],
   "source": [
    "results = st.mannwhitneyu(rel_diff.conver_a, rel_diff.conver_b)\n",
    "\n",
    "print('p-value: ', results.pvalue)\n",
    "\n",
    "if (results.pvalue < alpha):\n",
    "    print(\"Null hypothesis rejected: the difference is statistically significant\")\n",
    "else:\n",
    "    print(\"Failed to reject the null hypothesis: we can't make conclusions about the difference\")"
   ]
  },
  {
   "cell_type": "code",
   "execution_count": 70,
   "id": "fe37c642",
   "metadata": {},
   "outputs": [
    {
     "data": {
      "text/plain": [
       "<matplotlib.legend.Legend at 0x7fba3e05e7d0>"
      ]
     },
     "execution_count": 70,
     "metadata": {},
     "output_type": "execute_result"
    },
    {
     "data": {
      "image/png": "[encoded data removed]",
      "text/plain": [
       "<Figure size 1224x720 with 1 Axes>"
      ]
     },
     "metadata": {
      "needs_background": "light"
     },
     "output_type": "display_data"
    }
   ],
   "source": [
    "fig, ax = plt.subplots(figsize=(17, 10))\n",
    "\n",
    "ax.plot(rel_diff_cum_f.date, rel_diff_cum_f.conver_a, color=\"darkblue\",\n",
    "        alpha=0.75, linewidth=2, label=\"group A\", linestyle=\"--\")\n",
    "ax.plot(rel_diff_cum_f.date, rel_diff_cum_f.conver_b, color=\"green\",\n",
    "        alpha=0.75, linewidth=2, label=\"group B\", linestyle=\"-.\")\n",
    "\n",
    "ax.set_title(\"Cumulative \\nconversion rate as the ratio of orders to the number of visits for each day\\nFILTERED\",\n",
    "             fontdict={\"size\": 24})\n",
    "\n",
    "ax.set_ylabel(\"conversion rate\", fontdict={\"size\": 16})\n",
    "\n",
    "ax.set_xlabel(\"date\", fontdict={\"size\": 16})\n",
    "\n",
    "ax.legend(fontsize=14)"
   ]
  },
  {
   "cell_type": "markdown",
   "id": "ca9829ee",
   "metadata": {},
   "source": [
    "**conclusion and conjectures:** After filtering the outliers from the data, the result is the same: The Null hypothesis $H_0$ was rejected. We can assume that there is difference in conversion rate based on filtered data"
   ]
  },
  {
   "cell_type": "markdown",
   "id": "b80f464c",
   "metadata": {},
   "source": [
    "## the statistical significance of the difference in average order size between the groups using the filtered data"
   ]
  },
  {
   "cell_type": "markdown",
   "id": "2195cb39",
   "metadata": {},
   "source": [
    "<div class=\"alert alert-info\"> \n",
    "<b>Student's comment</b> \n",
    "formulate the null and alternative hypotheses\n",
    "</div>"
   ]
  },
  {
   "cell_type": "markdown",
   "id": "b46d4b78",
   "metadata": {},
   "source": [
    "***hypotheses - statistical significance of the difference in average order size between the groups using the filtered data***\n",
    "- $H_0 =$ The statistical significance of the difference in average order size between the groups using the filtered data is probably equal.\n",
    "\n",
    "- $H_1 =$ The statistical significance of the difference in average order size between the groups using the filtered data is not equal.\n",
    "\n",
    "**$ \\alpha = 0.05$**\n",
    "\n",
    "explanation of the hypotheses: are the difference in average order size between group A and group B are statistical significant, based on filtered data?"
   ]
  },
  {
   "cell_type": "code",
   "execution_count": 71,
   "id": "3342943e",
   "metadata": {},
   "outputs": [
    {
     "data": {
      "text/html": [
       "<div>\n",
       "<style scoped>\n",
       "    .dataframe tbody tr th:only-of-type {\n",
       "        vertical-align: middle;\n",
       "    }\n",
       "\n",
       "    .dataframe tbody tr th {\n",
       "        vertical-align: top;\n",
       "    }\n",
       "\n",
       "    .dataframe thead tr th {\n",
       "        text-align: left;\n",
       "    }\n",
       "</style>\n",
       "<table border=\"1\" class=\"dataframe\">\n",
       "  <thead>\n",
       "    <tr>\n",
       "      <th></th>\n",
       "      <th>visitorId</th>\n",
       "      <th>orders</th>\n",
       "    </tr>\n",
       "  </thead>\n",
       "  <tbody>\n",
       "    <tr>\n",
       "      <th>0</th>\n",
       "      <td>2744017357</td>\n",
       "      <td>2</td>\n",
       "    </tr>\n",
       "    <tr>\n",
       "      <th>1</th>\n",
       "      <td>2706377257</td>\n",
       "      <td>2</td>\n",
       "    </tr>\n",
       "    <tr>\n",
       "      <th>2</th>\n",
       "      <td>1294878855</td>\n",
       "      <td>2</td>\n",
       "    </tr>\n",
       "    <tr>\n",
       "      <th>3</th>\n",
       "      <td>3891541246</td>\n",
       "      <td>2</td>\n",
       "    </tr>\n",
       "    <tr>\n",
       "      <th>4</th>\n",
       "      <td>4109358064</td>\n",
       "      <td>2</td>\n",
       "    </tr>\n",
       "  </tbody>\n",
       "</table>\n",
       "</div>"
      ],
      "text/plain": [
       "    visitorId orders\n",
       "0  2744017357      2\n",
       "1  2706377257      2\n",
       "2  1294878855      2\n",
       "3  3891541246      2\n",
       "4  4109358064      2"
      ]
     },
     "execution_count": 71,
     "metadata": {},
     "output_type": "execute_result"
    }
   ],
   "source": [
    "orders_per_user_a_f = orders_filter[orders_filter[\"group\"] == \"A\"].groupby(\n",
    "    \"visitorId\")[[\"revenue\"]].count().sort_values(\"revenue\", ascending=False).reset_index()\n",
    "orders_per_user_a_f.columns = [[\"visitorId\", \"orders\"]]\n",
    "orders_per_user_a_f.head()"
   ]
  },
  {
   "cell_type": "code",
   "execution_count": 72,
   "id": "40a446c4",
   "metadata": {},
   "outputs": [
    {
     "data": {
      "text/html": [
       "<div>\n",
       "<style scoped>\n",
       "    .dataframe tbody tr th:only-of-type {\n",
       "        vertical-align: middle;\n",
       "    }\n",
       "\n",
       "    .dataframe tbody tr th {\n",
       "        vertical-align: top;\n",
       "    }\n",
       "\n",
       "    .dataframe thead tr th {\n",
       "        text-align: left;\n",
       "    }\n",
       "</style>\n",
       "<table border=\"1\" class=\"dataframe\">\n",
       "  <thead>\n",
       "    <tr>\n",
       "      <th></th>\n",
       "      <th>visitorId</th>\n",
       "      <th>orders</th>\n",
       "    </tr>\n",
       "  </thead>\n",
       "  <tbody>\n",
       "    <tr>\n",
       "      <th>0</th>\n",
       "      <td>2096506107</td>\n",
       "      <td>2</td>\n",
       "    </tr>\n",
       "    <tr>\n",
       "      <th>1</th>\n",
       "      <td>1668030113</td>\n",
       "      <td>2</td>\n",
       "    </tr>\n",
       "    <tr>\n",
       "      <th>2</th>\n",
       "      <td>2366521417</td>\n",
       "      <td>2</td>\n",
       "    </tr>\n",
       "    <tr>\n",
       "      <th>3</th>\n",
       "      <td>2397843657</td>\n",
       "      <td>2</td>\n",
       "    </tr>\n",
       "    <tr>\n",
       "      <th>4</th>\n",
       "      <td>3941503500</td>\n",
       "      <td>2</td>\n",
       "    </tr>\n",
       "  </tbody>\n",
       "</table>\n",
       "</div>"
      ],
      "text/plain": [
       "    visitorId orders\n",
       "0  2096506107      2\n",
       "1  1668030113      2\n",
       "2  2366521417      2\n",
       "3  2397843657      2\n",
       "4  3941503500      2"
      ]
     },
     "execution_count": 72,
     "metadata": {},
     "output_type": "execute_result"
    }
   ],
   "source": [
    "orders_per_user_b_f = orders_filter[orders_filter[\"group\"] == \"B\"].groupby(\n",
    "    \"visitorId\")[[\"revenue\"]].count().sort_values(\"revenue\", ascending=False).reset_index()\n",
    "orders_per_user_b_f.columns = [[\"visitorId\", \"orders\"]]\n",
    "orders_per_user_b_f.head()"
   ]
  },
  {
   "cell_type": "code",
   "execution_count": 73,
   "id": "00a9e8d2",
   "metadata": {},
   "outputs": [
    {
     "name": "stdout",
     "output_type": "stream",
     "text": [
      "p-value:  0.3689374432974205\n",
      "Failed to reject the null hypothesis: we can't make conclusions about the difference\n"
     ]
    }
   ],
   "source": [
    "results = st.mannwhitneyu(orders_per_user_a_f.orders,\n",
    "                          orders_per_user_b_f.orders)\n",
    "\n",
    "print('p-value: ', results.pvalue)\n",
    "\n",
    "if (results.pvalue < alpha):\n",
    "    print(\"Null hypothesis rejected: the difference is statistically significant\")\n",
    "else:\n",
    "    print(\"Failed to reject the null hypothesis: we can't make conclusions about the difference\")"
   ]
  },
  {
   "cell_type": "code",
   "execution_count": 74,
   "id": "712baaee",
   "metadata": {},
   "outputs": [
    {
     "data": {
      "image/png": "[encoded data removed]",
      "text/plain": [
       "<Figure size 1224x720 with 1 Axes>"
      ]
     },
     "metadata": {
      "needs_background": "light"
     },
     "output_type": "display_data"
    }
   ],
   "source": [
    "fig, ax = plt.subplots(figsize=(17, 10))\n",
    "\n",
    "ax.plot(cumulative_orders_a_f.date, cumulative_orders_a_f.cumulative_avg_order_size,\n",
    "        color=\"darkblue\", alpha=0.75, linewidth=2, label=\"group A\", linestyle=\"--\")\n",
    "ax.plot(cumulative_orders_b_f.date, cumulative_orders_b_f.cumulative_avg_order_size,\n",
    "        color=\"green\", alpha=0.75, linewidth=2, label=\"group B\", linestyle=\"-.\")\n",
    "\n",
    "ax.set_title(\"cumulative _average order size\\nFILTERED\", fontdict={\"size\": 24})\n",
    "\n",
    "ax.set_ylabel(\"revenue\", fontdict={\"size\": 16})\n",
    "\n",
    "ax.set_xlabel(\"date\", fontdict={\"size\": 16})\n",
    "\n",
    "ax.legend(fontsize=14);"
   ]
  },
  {
   "cell_type": "markdown",
   "id": "2c3c9008",
   "metadata": {},
   "source": [
    "**conclusion and conjectures:**  After filtering the outliers from the data, the result is the same: We cannot reject the null hypothesis $H_0$. We cannot assume difference in order size based on filtered data"
   ]
  },
  {
   "cell_type": "markdown",
   "id": "42202c1d",
   "metadata": {},
   "source": [
    "## decision based on the test results"
   ]
  },
  {
   "cell_type": "markdown",
   "id": "1de1acc5",
   "metadata": {},
   "source": [
    "After examine two statistics: conversion rate and order size, we notice that there is difference on conversion and it keeps level the same for a little more than half the test time. We cannot assume any difference in the outcome of the test. Our conclusion is:\n",
    "1. Stop the test, consider group B the leader. "
   ]
  },
  {
   "cell_type": "markdown",
   "id": "6bbdcced",
   "metadata": {},
   "source": [
    "# conclusion"
   ]
  },
  {
   "cell_type": "markdown",
   "id": "da7d8146",
   "metadata": {},
   "source": [
    "<div class=\"alert alert-info\"> \n",
    "<b>Student's comment</b> \n",
    "conclusion\n",
    "</div>"
   ]
  },
  {
   "cell_type": "markdown",
   "id": "3e5330b6",
   "metadata": {},
   "source": [
    "In the project we first got list of hypotheses and we scored them, first by ICE and then by RICE. We explain the difference in the outcome score in these two methods.\n",
    "Then we got results from A/B test of visitors and orders made by users. We did checked the data for missing date, types of the data, duplicate date and made the data sets ready for analyzing.\n",
    "We divided the data to two groups A and B and run couple of statistics on them: conversion rate and average order size.\n",
    "We then check the data for outliers that might influence the analyze. We decided to cut out above the 95th percentile of orders per buyer and size of the order in $.\n",
    "After filtering the outliers, we ran the hypotheses again on the filtered data. Is seems that the results didn't changed. \n",
    "In the end we checked the outcome and decided to recommend to finish the A/B test because after about 9 days into the test we can notice that the cumulative conversion rate (as the ratio of orders to the number of visits for each day), stabilized and we predict that the outcome remains: ***Group B has better conversion rate than group A***"
   ]
  },
  {
   "cell_type": "code",
   "execution_count": null,
   "id": "8adb41db",
   "metadata": {},
   "outputs": [],
   "source": []
  }
 ],
 "metadata": {
  "ExecuteTimeLog": [
   {
    "duration": 361,
    "start_time": "2021-07-11T04:54:44.618Z"
   },
   {
    "duration": 347,
    "start_time": "2021-07-11T04:54:44.634Z"
   },
   {
    "duration": 342,
    "start_time": "2021-07-11T04:54:44.640Z"
   },
   {
    "duration": 336,
    "start_time": "2021-07-11T04:54:44.647Z"
   },
   {
    "duration": 332,
    "start_time": "2021-07-11T04:54:44.652Z"
   },
   {
    "duration": 328,
    "start_time": "2021-07-11T04:54:44.657Z"
   },
   {
    "duration": 323,
    "start_time": "2021-07-11T04:54:44.663Z"
   },
   {
    "duration": 388,
    "start_time": "2021-07-11T04:54:44.668Z"
   },
   {
    "duration": 384,
    "start_time": "2021-07-11T04:54:44.673Z"
   },
   {
    "duration": 379,
    "start_time": "2021-07-11T04:54:44.680Z"
   },
   {
    "duration": 376,
    "start_time": "2021-07-11T04:54:44.684Z"
   },
   {
    "duration": 372,
    "start_time": "2021-07-11T04:54:44.689Z"
   },
   {
    "duration": 368,
    "start_time": "2021-07-11T04:54:44.695Z"
   },
   {
    "duration": 363,
    "start_time": "2021-07-11T04:54:44.701Z"
   },
   {
    "duration": 360,
    "start_time": "2021-07-11T04:54:44.706Z"
   },
   {
    "duration": 355,
    "start_time": "2021-07-11T04:54:44.712Z"
   },
   {
    "duration": 352,
    "start_time": "2021-07-11T04:54:44.716Z"
   },
   {
    "duration": 349,
    "start_time": "2021-07-11T04:54:44.721Z"
   },
   {
    "duration": 346,
    "start_time": "2021-07-11T04:54:44.725Z"
   },
   {
    "duration": 342,
    "start_time": "2021-07-11T04:54:44.731Z"
   },
   {
    "duration": 338,
    "start_time": "2021-07-11T04:54:44.736Z"
   },
   {
    "duration": 334,
    "start_time": "2021-07-11T04:54:44.741Z"
   },
   {
    "duration": 331,
    "start_time": "2021-07-11T04:54:44.746Z"
   },
   {
    "duration": 326,
    "start_time": "2021-07-11T04:54:44.752Z"
   },
   {
    "duration": 324,
    "start_time": "2021-07-11T04:54:44.756Z"
   },
   {
    "duration": 394,
    "start_time": "2021-07-11T04:54:44.763Z"
   },
   {
    "duration": 391,
    "start_time": "2021-07-11T04:54:44.767Z"
   },
   {
    "duration": 386,
    "start_time": "2021-07-11T04:54:44.774Z"
   },
   {
    "duration": 380,
    "start_time": "2021-07-11T04:54:44.781Z"
   },
   {
    "duration": 376,
    "start_time": "2021-07-11T04:54:44.786Z"
   },
   {
    "duration": 372,
    "start_time": "2021-07-11T04:54:44.792Z"
   },
   {
    "duration": 367,
    "start_time": "2021-07-11T04:54:44.798Z"
   },
   {
    "duration": 364,
    "start_time": "2021-07-11T04:54:44.802Z"
   },
   {
    "duration": 360,
    "start_time": "2021-07-11T04:54:44.808Z"
   },
   {
    "duration": 356,
    "start_time": "2021-07-11T04:54:44.813Z"
   },
   {
    "duration": 352,
    "start_time": "2021-07-11T04:54:44.818Z"
   },
   {
    "duration": 351,
    "start_time": "2021-07-11T04:54:44.821Z"
   },
   {
    "duration": 347,
    "start_time": "2021-07-11T04:54:44.826Z"
   },
   {
    "duration": 344,
    "start_time": "2021-07-11T04:54:44.831Z"
   },
   {
    "duration": 340,
    "start_time": "2021-07-11T04:54:44.836Z"
   },
   {
    "duration": 338,
    "start_time": "2021-07-11T04:54:44.840Z"
   },
   {
    "duration": 334,
    "start_time": "2021-07-11T04:54:44.846Z"
   },
   {
    "duration": 331,
    "start_time": "2021-07-11T04:54:44.850Z"
   },
   {
    "duration": 327,
    "start_time": "2021-07-11T04:54:44.855Z"
   },
   {
    "duration": 396,
    "start_time": "2021-07-11T04:54:44.860Z"
   },
   {
    "duration": 389,
    "start_time": "2021-07-11T04:54:44.868Z"
   },
   {
    "duration": 387,
    "start_time": "2021-07-11T04:54:44.872Z"
   },
   {
    "duration": 382,
    "start_time": "2021-07-11T04:54:44.878Z"
   },
   {
    "duration": 379,
    "start_time": "2021-07-11T04:54:44.883Z"
   },
   {
    "duration": 376,
    "start_time": "2021-07-11T04:54:44.887Z"
   },
   {
    "duration": 374,
    "start_time": "2021-07-11T04:54:44.891Z"
   },
   {
    "duration": 368,
    "start_time": "2021-07-11T04:54:44.898Z"
   },
   {
    "duration": 366,
    "start_time": "2021-07-11T04:54:44.902Z"
   },
   {
    "duration": 363,
    "start_time": "2021-07-11T04:54:44.906Z"
   },
   {
    "duration": 360,
    "start_time": "2021-07-11T04:54:44.911Z"
   },
   {
    "duration": 357,
    "start_time": "2021-07-11T04:54:44.915Z"
   },
   {
    "duration": 355,
    "start_time": "2021-07-11T04:54:44.919Z"
   },
   {
    "duration": 351,
    "start_time": "2021-07-11T04:54:44.924Z"
   },
   {
    "duration": 349,
    "start_time": "2021-07-11T04:54:44.928Z"
   },
   {
    "duration": 345,
    "start_time": "2021-07-11T04:54:44.933Z"
   },
   {
    "duration": 344,
    "start_time": "2021-07-11T04:54:44.936Z"
   },
   {
    "duration": 341,
    "start_time": "2021-07-11T04:54:44.940Z"
   },
   {
    "duration": 337,
    "start_time": "2021-07-11T04:54:44.946Z"
   },
   {
    "duration": 406,
    "start_time": "2021-07-11T04:54:44.950Z"
   },
   {
    "duration": 402,
    "start_time": "2021-07-11T04:54:44.955Z"
   },
   {
    "duration": 400,
    "start_time": "2021-07-11T04:54:44.959Z"
   },
   {
    "duration": 397,
    "start_time": "2021-07-11T04:54:44.963Z"
   },
   {
    "duration": 394,
    "start_time": "2021-07-11T04:54:44.968Z"
   },
   {
    "duration": 391,
    "start_time": "2021-07-11T04:54:44.972Z"
   },
   {
    "duration": 385,
    "start_time": "2021-07-11T04:54:44.980Z"
   },
   {
    "duration": 380,
    "start_time": "2021-07-11T04:54:44.986Z"
   },
   {
    "duration": 375,
    "start_time": "2021-07-11T04:54:44.993Z"
   },
   {
    "duration": 344,
    "start_time": "2021-07-11T04:54:45.026Z"
   },
   {
    "duration": 333,
    "start_time": "2021-07-11T04:54:45.038Z"
   },
   {
    "duration": 331,
    "start_time": "2021-07-11T04:54:45.041Z"
   },
   {
    "duration": 1568,
    "start_time": "2021-07-11T05:03:38.228Z"
   },
   {
    "duration": 133,
    "start_time": "2021-07-11T05:03:39.799Z"
   },
   {
    "duration": 20,
    "start_time": "2021-07-11T05:03:39.935Z"
   },
   {
    "duration": 15,
    "start_time": "2021-07-11T05:03:39.958Z"
   },
   {
    "duration": 21,
    "start_time": "2021-07-11T05:03:39.975Z"
   },
   {
    "duration": 59,
    "start_time": "2021-07-11T05:03:39.998Z"
   },
   {
    "duration": 36,
    "start_time": "2021-07-11T05:03:40.060Z"
   },
   {
    "duration": 4,
    "start_time": "2021-07-11T05:03:40.100Z"
   },
   {
    "duration": 88682,
    "start_time": "2021-07-11T05:03:40.107Z"
   },
   {
    "duration": 77,
    "start_time": "2021-07-11T05:05:08.792Z"
   },
   {
    "duration": 13,
    "start_time": "2021-07-11T05:05:08.872Z"
   },
   {
    "duration": 14,
    "start_time": "2021-07-11T05:05:08.887Z"
   },
   {
    "duration": 65,
    "start_time": "2021-07-11T05:05:08.904Z"
   },
   {
    "duration": 22,
    "start_time": "2021-07-11T05:05:08.972Z"
   },
   {
    "duration": 78,
    "start_time": "2021-07-11T05:05:08.997Z"
   },
   {
    "duration": 9,
    "start_time": "2021-07-11T05:05:09.078Z"
   },
   {
    "duration": 9,
    "start_time": "2021-07-11T05:05:09.090Z"
   },
   {
    "duration": 1229,
    "start_time": "2021-07-11T05:05:09.157Z"
   },
   {
    "duration": 1118,
    "start_time": "2021-07-11T05:05:10.389Z"
   },
   {
    "duration": 1753,
    "start_time": "2021-07-11T05:05:11.509Z"
   },
   {
    "duration": 9,
    "start_time": "2021-07-11T05:05:13.265Z"
   },
   {
    "duration": 81,
    "start_time": "2021-07-11T05:05:13.277Z"
   },
   {
    "duration": 18,
    "start_time": "2021-07-11T05:05:13.364Z"
   },
   {
    "duration": 76,
    "start_time": "2021-07-11T05:05:13.385Z"
   },
   {
    "duration": 19,
    "start_time": "2021-07-11T05:05:13.463Z"
   },
   {
    "duration": 14,
    "start_time": "2021-07-11T05:05:13.485Z"
   },
   {
    "duration": 2267,
    "start_time": "2021-07-11T05:05:13.501Z"
   },
   {
    "duration": 26,
    "start_time": "2021-07-11T05:05:15.771Z"
   },
   {
    "duration": 1586,
    "start_time": "2021-07-11T05:05:15.799Z"
   },
   {
    "duration": 86,
    "start_time": "2021-07-11T05:05:17.389Z"
   },
   {
    "duration": 187,
    "start_time": "2021-07-11T05:05:17.479Z"
   },
   {
    "duration": 99,
    "start_time": "2021-07-11T05:05:17.669Z"
   },
   {
    "duration": 2815,
    "start_time": "2021-07-11T05:05:17.771Z"
   },
   {
    "duration": 12,
    "start_time": "2021-07-11T05:05:20.656Z"
   },
   {
    "duration": 1394,
    "start_time": "2021-07-11T05:05:20.670Z"
   },
   {
    "duration": 21,
    "start_time": "2021-07-11T05:05:22.066Z"
   },
   {
    "duration": 1198,
    "start_time": "2021-07-11T05:05:22.091Z"
   },
   {
    "duration": 34,
    "start_time": "2021-07-11T05:05:23.291Z"
   },
   {
    "duration": 4,
    "start_time": "2021-07-11T05:05:23.328Z"
   },
   {
    "duration": 26,
    "start_time": "2021-07-11T05:05:23.334Z"
   },
   {
    "duration": 1021,
    "start_time": "2021-07-11T05:05:23.362Z"
   },
   {
    "duration": 1002,
    "start_time": "2021-07-11T05:05:24.386Z"
   },
   {
    "duration": 113,
    "start_time": "2021-07-11T05:05:25.391Z"
   },
   {
    "duration": 1105,
    "start_time": "2021-07-11T05:05:25.507Z"
   },
   {
    "duration": 7,
    "start_time": "2021-07-11T05:05:26.615Z"
   },
   {
    "duration": 53,
    "start_time": "2021-07-11T05:05:26.625Z"
   },
   {
    "duration": 385,
    "start_time": "2021-07-11T05:05:26.680Z"
   },
   {
    "duration": 9,
    "start_time": "2021-07-11T05:05:27.068Z"
   },
   {
    "duration": 18,
    "start_time": "2021-07-11T05:05:27.079Z"
   },
   {
    "duration": 56,
    "start_time": "2021-07-11T05:05:27.100Z"
   },
   {
    "duration": 14,
    "start_time": "2021-07-11T05:05:27.160Z"
   },
   {
    "duration": 583,
    "start_time": "2021-07-11T05:05:27.177Z"
   },
   {
    "duration": 22,
    "start_time": "2021-07-11T05:05:27.762Z"
   },
   {
    "duration": 693,
    "start_time": "2021-07-11T05:05:27.786Z"
   },
   {
    "duration": 673,
    "start_time": "2021-07-11T05:05:28.482Z"
   },
   {
    "duration": 12,
    "start_time": "2021-07-11T05:05:29.157Z"
   },
   {
    "duration": 18,
    "start_time": "2021-07-11T05:05:29.172Z"
   },
   {
    "duration": 16,
    "start_time": "2021-07-11T05:05:29.192Z"
   },
   {
    "duration": 52,
    "start_time": "2021-07-11T05:05:29.211Z"
   },
   {
    "duration": 26,
    "start_time": "2021-07-11T05:05:29.266Z"
   },
   {
    "duration": 19,
    "start_time": "2021-07-11T05:05:29.295Z"
   },
   {
    "duration": 57,
    "start_time": "2021-07-11T05:05:29.316Z"
   },
   {
    "duration": 16,
    "start_time": "2021-07-11T05:05:29.375Z"
   },
   {
    "duration": 15,
    "start_time": "2021-07-11T05:05:29.394Z"
   },
   {
    "duration": 11,
    "start_time": "2021-07-11T05:05:29.411Z"
   },
   {
    "duration": 355,
    "start_time": "2021-07-11T05:05:29.456Z"
   },
   {
    "duration": 413,
    "start_time": "2021-07-11T05:05:29.814Z"
   },
   {
    "duration": 7,
    "start_time": "2021-07-11T05:05:30.234Z"
   },
   {
    "duration": 27,
    "start_time": "2021-07-11T05:05:30.256Z"
   },
   {
    "duration": 53,
    "start_time": "2021-07-11T05:05:30.285Z"
   },
   {
    "duration": 55,
    "start_time": "2021-07-11T05:05:30.341Z"
   },
   {
    "duration": 27,
    "start_time": "2021-07-11T05:05:30.398Z"
   },
   {
    "duration": 35,
    "start_time": "2021-07-11T05:05:30.427Z"
   },
   {
    "duration": 20,
    "start_time": "2021-07-11T05:05:30.464Z"
   },
   {
    "duration": 11,
    "start_time": "2021-07-11T05:05:30.486Z"
   },
   {
    "duration": 3,
    "start_time": "2021-07-11T05:17:41.741Z"
   },
   {
    "duration": 5,
    "start_time": "2021-07-11T05:17:42.275Z"
   },
   {
    "duration": 17628,
    "start_time": "2021-07-11T09:34:15.377Z"
   },
   {
    "duration": 278,
    "start_time": "2021-07-11T09:34:33.008Z"
   },
   {
    "duration": 22,
    "start_time": "2021-07-11T09:34:33.289Z"
   },
   {
    "duration": 15,
    "start_time": "2021-07-11T09:34:33.314Z"
   },
   {
    "duration": 16,
    "start_time": "2021-07-11T09:34:33.332Z"
   },
   {
    "duration": 79,
    "start_time": "2021-07-11T09:34:33.350Z"
   },
   {
    "duration": 49,
    "start_time": "2021-07-11T09:34:33.432Z"
   },
   {
    "duration": 26,
    "start_time": "2021-07-11T09:34:33.485Z"
   },
   {
    "duration": 726,
    "start_time": "2021-07-11T09:34:33.514Z"
   },
   {
    "duration": 20,
    "start_time": "2021-07-11T09:34:34.244Z"
   },
   {
    "duration": 12,
    "start_time": "2021-07-11T09:34:34.267Z"
   },
   {
    "duration": 9,
    "start_time": "2021-07-11T09:34:34.310Z"
   },
   {
    "duration": 14,
    "start_time": "2021-07-11T09:34:34.321Z"
   },
   {
    "duration": 3,
    "start_time": "2021-07-11T09:34:34.338Z"
   },
   {
    "duration": 23,
    "start_time": "2021-07-11T09:34:34.344Z"
   },
   {
    "duration": 55,
    "start_time": "2021-07-11T09:34:34.370Z"
   },
   {
    "duration": 8,
    "start_time": "2021-07-11T09:34:34.428Z"
   },
   {
    "duration": 14,
    "start_time": "2021-07-11T09:34:34.439Z"
   },
   {
    "duration": 467,
    "start_time": "2021-07-11T09:34:34.456Z"
   },
   {
    "duration": 426,
    "start_time": "2021-07-11T09:34:34.926Z"
   },
   {
    "duration": 1126,
    "start_time": "2021-07-11T09:34:35.355Z"
   },
   {
    "duration": 12,
    "start_time": "2021-07-11T09:34:36.483Z"
   },
   {
    "duration": 16,
    "start_time": "2021-07-11T09:34:36.513Z"
   },
   {
    "duration": 13,
    "start_time": "2021-07-11T09:34:36.533Z"
   },
   {
    "duration": 60,
    "start_time": "2021-07-11T09:34:36.549Z"
   },
   {
    "duration": 12,
    "start_time": "2021-07-11T09:34:36.612Z"
   },
   {
    "duration": 18,
    "start_time": "2021-07-11T09:34:36.627Z"
   },
   {
    "duration": 1378,
    "start_time": "2021-07-11T09:34:36.648Z"
   },
   {
    "duration": 27,
    "start_time": "2021-07-11T09:34:38.028Z"
   },
   {
    "duration": 578,
    "start_time": "2021-07-11T09:34:38.058Z"
   },
   {
    "duration": 18,
    "start_time": "2021-07-11T09:34:38.639Z"
   },
   {
    "duration": 553,
    "start_time": "2021-07-11T09:34:38.660Z"
   },
   {
    "duration": 821,
    "start_time": "2021-07-11T09:34:38.395Z"
   },
   {
    "duration": 794,
    "start_time": "2021-07-11T09:34:38.424Z"
   },
   {
    "duration": 790,
    "start_time": "2021-07-11T09:34:38.429Z"
   },
   {
    "duration": 788,
    "start_time": "2021-07-11T09:34:38.432Z"
   },
   {
    "duration": 786,
    "start_time": "2021-07-11T09:34:38.436Z"
   },
   {
    "duration": 783,
    "start_time": "2021-07-11T09:34:38.440Z"
   },
   {
    "duration": 746,
    "start_time": "2021-07-11T09:34:38.478Z"
   },
   {
    "duration": 741,
    "start_time": "2021-07-11T09:34:38.484Z"
   },
   {
    "duration": 738,
    "start_time": "2021-07-11T09:34:38.489Z"
   },
   {
    "duration": 735,
    "start_time": "2021-07-11T09:34:38.493Z"
   },
   {
    "duration": 733,
    "start_time": "2021-07-11T09:34:38.497Z"
   },
   {
    "duration": 730,
    "start_time": "2021-07-11T09:34:38.501Z"
   },
   {
    "duration": 728,
    "start_time": "2021-07-11T09:34:38.505Z"
   },
   {
    "duration": 725,
    "start_time": "2021-07-11T09:34:38.509Z"
   },
   {
    "duration": 724,
    "start_time": "2021-07-11T09:34:38.512Z"
   },
   {
    "duration": 721,
    "start_time": "2021-07-11T09:34:38.516Z"
   },
   {
    "duration": 720,
    "start_time": "2021-07-11T09:34:38.519Z"
   },
   {
    "duration": 718,
    "start_time": "2021-07-11T09:34:38.522Z"
   },
   {
    "duration": 716,
    "start_time": "2021-07-11T09:34:38.526Z"
   },
   {
    "duration": 714,
    "start_time": "2021-07-11T09:34:38.529Z"
   },
   {
    "duration": 711,
    "start_time": "2021-07-11T09:34:38.533Z"
   },
   {
    "duration": 701,
    "start_time": "2021-07-11T09:34:38.545Z"
   },
   {
    "duration": 679,
    "start_time": "2021-07-11T09:34:38.568Z"
   },
   {
    "duration": 677,
    "start_time": "2021-07-11T09:34:38.572Z"
   },
   {
    "duration": 674,
    "start_time": "2021-07-11T09:34:38.576Z"
   },
   {
    "duration": 655,
    "start_time": "2021-07-11T09:34:38.596Z"
   },
   {
    "duration": 709,
    "start_time": "2021-07-11T09:34:38.600Z"
   },
   {
    "duration": 706,
    "start_time": "2021-07-11T09:34:38.604Z"
   },
   {
    "duration": 603,
    "start_time": "2021-07-11T09:34:38.709Z"
   },
   {
    "duration": 601,
    "start_time": "2021-07-11T09:34:38.713Z"
   },
   {
    "duration": 598,
    "start_time": "2021-07-11T09:34:38.717Z"
   },
   {
    "duration": 595,
    "start_time": "2021-07-11T09:34:38.721Z"
   },
   {
    "duration": 593,
    "start_time": "2021-07-11T09:34:38.725Z"
   },
   {
    "duration": 591,
    "start_time": "2021-07-11T09:34:38.729Z"
   },
   {
    "duration": 586,
    "start_time": "2021-07-11T09:34:38.735Z"
   },
   {
    "duration": 547,
    "start_time": "2021-07-11T09:34:38.775Z"
   },
   {
    "duration": 544,
    "start_time": "2021-07-11T09:34:38.779Z"
   },
   {
    "duration": 542,
    "start_time": "2021-07-11T09:34:38.783Z"
   },
   {
    "duration": 539,
    "start_time": "2021-07-11T09:34:38.787Z"
   },
   {
    "duration": 538,
    "start_time": "2021-07-11T09:34:38.790Z"
   },
   {
    "duration": 535,
    "start_time": "2021-07-11T09:34:38.794Z"
   },
   {
    "duration": 534,
    "start_time": "2021-07-11T09:34:38.797Z"
   },
   {
    "duration": 529,
    "start_time": "2021-07-11T09:34:38.803Z"
   },
   {
    "duration": 524,
    "start_time": "2021-07-11T09:34:38.809Z"
   },
   {
    "duration": 518,
    "start_time": "2021-07-11T09:34:38.817Z"
   },
   {
    "duration": 488,
    "start_time": "2021-07-11T09:34:38.848Z"
   },
   {
    "duration": 383,
    "start_time": "2021-07-11T09:37:39.557Z"
   },
   {
    "duration": 404,
    "start_time": "2021-07-11T09:42:30.081Z"
   },
   {
    "duration": 404,
    "start_time": "2021-07-11T09:43:02.889Z"
   },
   {
    "duration": 5,
    "start_time": "2021-07-11T09:48:26.328Z"
   },
   {
    "duration": 55,
    "start_time": "2021-07-11T09:48:27.903Z"
   },
   {
    "duration": 4,
    "start_time": "2021-07-11T09:51:57.753Z"
   },
   {
    "duration": 1700,
    "start_time": "2021-07-11T09:52:09.313Z"
   },
   {
    "duration": 166,
    "start_time": "2021-07-11T09:52:11.016Z"
   },
   {
    "duration": 24,
    "start_time": "2021-07-11T09:52:11.185Z"
   },
   {
    "duration": 16,
    "start_time": "2021-07-11T09:52:11.212Z"
   },
   {
    "duration": 26,
    "start_time": "2021-07-11T09:52:11.231Z"
   },
   {
    "duration": 69,
    "start_time": "2021-07-11T09:52:11.259Z"
   },
   {
    "duration": 39,
    "start_time": "2021-07-11T09:52:11.330Z"
   },
   {
    "duration": 4,
    "start_time": "2021-07-11T09:52:11.372Z"
   },
   {
    "duration": 706,
    "start_time": "2021-07-11T09:52:11.409Z"
   },
   {
    "duration": 22,
    "start_time": "2021-07-11T09:52:12.118Z"
   },
   {
    "duration": 12,
    "start_time": "2021-07-11T09:52:12.144Z"
   },
   {
    "duration": 55,
    "start_time": "2021-07-11T09:52:12.159Z"
   },
   {
    "duration": 16,
    "start_time": "2021-07-11T09:52:12.217Z"
   },
   {
    "duration": 5,
    "start_time": "2021-07-11T09:52:12.236Z"
   },
   {
    "duration": 18,
    "start_time": "2021-07-11T09:52:12.244Z"
   },
   {
    "duration": 68,
    "start_time": "2021-07-11T09:52:12.265Z"
   },
   {
    "duration": 8,
    "start_time": "2021-07-11T09:52:12.336Z"
   },
   {
    "duration": 10,
    "start_time": "2021-07-11T09:52:12.346Z"
   },
   {
    "duration": 708,
    "start_time": "2021-07-11T09:52:12.358Z"
   },
   {
    "duration": 669,
    "start_time": "2021-07-11T09:52:13.069Z"
   },
   {
    "duration": 1247,
    "start_time": "2021-07-11T09:52:13.741Z"
   },
   {
    "duration": 18,
    "start_time": "2021-07-11T09:52:14.991Z"
   },
   {
    "duration": 18,
    "start_time": "2021-07-11T09:52:15.015Z"
   },
   {
    "duration": 71,
    "start_time": "2021-07-11T09:52:15.037Z"
   },
   {
    "duration": 41,
    "start_time": "2021-07-11T09:52:15.110Z"
   },
   {
    "duration": 17,
    "start_time": "2021-07-11T09:52:15.153Z"
   },
   {
    "duration": 38,
    "start_time": "2021-07-11T09:52:15.172Z"
   },
   {
    "duration": 1180,
    "start_time": "2021-07-11T09:52:15.213Z"
   },
   {
    "duration": 35,
    "start_time": "2021-07-11T09:52:16.396Z"
   },
   {
    "duration": 570,
    "start_time": "2021-07-11T09:52:16.433Z"
   },
   {
    "duration": 18,
    "start_time": "2021-07-11T09:52:17.005Z"
   },
   {
    "duration": 5,
    "start_time": "2021-07-11T09:52:17.026Z"
   },
   {
    "duration": 82,
    "start_time": "2021-07-11T09:52:17.034Z"
   },
   {
    "duration": 19,
    "start_time": "2021-07-11T09:52:17.118Z"
   },
   {
    "duration": 780,
    "start_time": "2021-07-11T09:52:17.140Z"
   },
   {
    "duration": 3,
    "start_time": "2021-07-11T09:52:17.923Z"
   },
   {
    "duration": 1273,
    "start_time": "2021-07-11T09:52:17.929Z"
   },
   {
    "duration": 12,
    "start_time": "2021-07-11T09:52:19.205Z"
   },
   {
    "duration": 673,
    "start_time": "2021-07-11T09:52:19.220Z"
   },
   {
    "duration": 24,
    "start_time": "2021-07-11T09:52:19.895Z"
   },
   {
    "duration": 630,
    "start_time": "2021-07-11T09:52:19.921Z"
   },
   {
    "duration": 145,
    "start_time": "2021-07-11T09:52:20.554Z"
   },
   {
    "duration": 10,
    "start_time": "2021-07-11T09:52:20.702Z"
   },
   {
    "duration": 15,
    "start_time": "2021-07-11T09:52:20.714Z"
   },
   {
    "duration": 801,
    "start_time": "2021-07-11T09:52:20.732Z"
   },
   {
    "duration": 855,
    "start_time": "2021-07-11T09:52:21.536Z"
   },
   {
    "duration": 29,
    "start_time": "2021-07-11T09:52:22.395Z"
   },
   {
    "duration": 893,
    "start_time": "2021-07-11T09:52:22.427Z"
   },
   {
    "duration": 6,
    "start_time": "2021-07-11T09:52:23.323Z"
   },
   {
    "duration": 35,
    "start_time": "2021-07-11T09:52:23.331Z"
   },
   {
    "duration": 446,
    "start_time": "2021-07-11T09:52:23.369Z"
   },
   {
    "duration": 7,
    "start_time": "2021-07-11T09:52:23.818Z"
   },
   {
    "duration": 16,
    "start_time": "2021-07-11T09:52:23.827Z"
   },
   {
    "duration": 63,
    "start_time": "2021-07-11T09:52:23.846Z"
   },
   {
    "duration": 25,
    "start_time": "2021-07-11T09:52:23.912Z"
   },
   {
    "duration": 623,
    "start_time": "2021-07-11T09:52:23.940Z"
   },
   {
    "duration": 22,
    "start_time": "2021-07-11T09:52:24.566Z"
   },
   {
    "duration": 762,
    "start_time": "2021-07-11T09:52:24.609Z"
   },
   {
    "duration": 670,
    "start_time": "2021-07-11T09:52:25.374Z"
   },
   {
    "duration": 15,
    "start_time": "2021-07-11T09:52:26.047Z"
   },
   {
    "duration": 45,
    "start_time": "2021-07-11T09:52:26.066Z"
   },
   {
    "duration": 18,
    "start_time": "2021-07-11T09:52:26.115Z"
   },
   {
    "duration": 26,
    "start_time": "2021-07-11T09:52:26.136Z"
   },
   {
    "duration": 32,
    "start_time": "2021-07-11T09:52:26.210Z"
   },
   {
    "duration": 71,
    "start_time": "2021-07-11T09:52:26.245Z"
   },
   {
    "duration": 25,
    "start_time": "2021-07-11T09:52:26.319Z"
   },
   {
    "duration": 18,
    "start_time": "2021-07-11T09:52:26.346Z"
   },
   {
    "duration": 13,
    "start_time": "2021-07-11T09:52:26.413Z"
   },
   {
    "duration": 12,
    "start_time": "2021-07-11T09:52:26.429Z"
   },
   {
    "duration": 375,
    "start_time": "2021-07-11T09:52:26.444Z"
   },
   {
    "duration": 402,
    "start_time": "2021-07-11T09:52:26.822Z"
   },
   {
    "duration": 8,
    "start_time": "2021-07-11T09:52:27.227Z"
   },
   {
    "duration": 30,
    "start_time": "2021-07-11T09:52:27.238Z"
   },
   {
    "duration": 63,
    "start_time": "2021-07-11T09:52:27.271Z"
   },
   {
    "duration": 8,
    "start_time": "2021-07-11T09:52:27.336Z"
   },
   {
    "duration": 8,
    "start_time": "2021-07-11T09:52:27.346Z"
   },
   {
    "duration": 66,
    "start_time": "2021-07-11T09:52:27.357Z"
   },
   {
    "duration": 23,
    "start_time": "2021-07-11T09:52:27.425Z"
   },
   {
    "duration": 8,
    "start_time": "2021-07-11T09:52:27.450Z"
   },
   {
    "duration": 287377,
    "start_time": "2021-07-12T08:14:25.209Z"
   },
   {
    "duration": 280,
    "start_time": "2021-07-12T08:19:12.590Z"
   },
   {
    "duration": 23,
    "start_time": "2021-07-12T08:19:12.874Z"
   },
   {
    "duration": 18,
    "start_time": "2021-07-12T08:19:12.901Z"
   },
   {
    "duration": 45,
    "start_time": "2021-07-12T08:19:12.922Z"
   },
   {
    "duration": 42,
    "start_time": "2021-07-12T08:19:12.969Z"
   },
   {
    "duration": 76,
    "start_time": "2021-07-12T08:19:13.013Z"
   },
   {
    "duration": 4,
    "start_time": "2021-07-12T08:19:13.093Z"
   },
   {
    "duration": 103500,
    "start_time": "2021-07-12T08:19:13.100Z"
   },
   {
    "duration": 19,
    "start_time": "2021-07-12T08:20:56.603Z"
   },
   {
    "duration": 10,
    "start_time": "2021-07-12T08:20:56.624Z"
   },
   {
    "duration": 33,
    "start_time": "2021-07-12T08:20:56.636Z"
   },
   {
    "duration": 12,
    "start_time": "2021-07-12T08:20:56.672Z"
   },
   {
    "duration": 4,
    "start_time": "2021-07-12T08:20:56.686Z"
   },
   {
    "duration": 18,
    "start_time": "2021-07-12T08:20:56.692Z"
   },
   {
    "duration": 58,
    "start_time": "2021-07-12T08:20:56.713Z"
   },
   {
    "duration": 8,
    "start_time": "2021-07-12T08:20:56.774Z"
   },
   {
    "duration": 7,
    "start_time": "2021-07-12T08:20:56.784Z"
   },
   {
    "duration": 553,
    "start_time": "2021-07-12T08:20:56.794Z"
   },
   {
    "duration": 418,
    "start_time": "2021-07-12T08:20:57.349Z"
   },
   {
    "duration": 1072,
    "start_time": "2021-07-12T08:20:57.770Z"
   },
   {
    "duration": 23,
    "start_time": "2021-07-12T08:20:58.844Z"
   },
   {
    "duration": 16,
    "start_time": "2021-07-12T08:20:58.874Z"
   },
   {
    "duration": 14,
    "start_time": "2021-07-12T08:20:58.895Z"
   },
   {
    "duration": 22,
    "start_time": "2021-07-12T08:20:58.911Z"
   },
   {
    "duration": 14,
    "start_time": "2021-07-12T08:20:58.968Z"
   },
   {
    "duration": 19,
    "start_time": "2021-07-12T08:20:58.985Z"
   },
   {
    "duration": 1359,
    "start_time": "2021-07-12T08:20:59.008Z"
   },
   {
    "duration": 28,
    "start_time": "2021-07-12T08:21:00.370Z"
   },
   {
    "duration": 567,
    "start_time": "2021-07-12T08:21:00.400Z"
   },
   {
    "duration": 18,
    "start_time": "2021-07-12T08:21:00.969Z"
   },
   {
    "duration": 6,
    "start_time": "2021-07-12T08:21:00.989Z"
   },
   {
    "duration": 78,
    "start_time": "2021-07-12T08:21:00.998Z"
   },
   {
    "duration": 23,
    "start_time": "2021-07-12T08:21:01.078Z"
   },
   {
    "duration": 781,
    "start_time": "2021-07-12T08:21:01.104Z"
   },
   {
    "duration": 4,
    "start_time": "2021-07-12T08:21:01.889Z"
   },
   {
    "duration": 1755,
    "start_time": "2021-07-12T08:21:01.896Z"
   },
   {
    "duration": 23,
    "start_time": "2021-07-12T08:21:03.654Z"
   },
   {
    "duration": 657,
    "start_time": "2021-07-12T08:21:03.680Z"
   },
   {
    "duration": 40,
    "start_time": "2021-07-12T08:21:04.340Z"
   },
   {
    "duration": 635,
    "start_time": "2021-07-12T08:21:04.383Z"
   },
   {
    "duration": 53,
    "start_time": "2021-07-12T08:21:05.021Z"
   },
   {
    "duration": 5,
    "start_time": "2021-07-12T08:21:05.077Z"
   },
   {
    "duration": 10,
    "start_time": "2021-07-12T08:21:05.085Z"
   },
   {
    "duration": 673,
    "start_time": "2021-07-12T08:21:05.097Z"
   },
   {
    "duration": 629,
    "start_time": "2021-07-12T08:21:05.773Z"
   },
   {
    "duration": 25,
    "start_time": "2021-07-12T08:21:06.405Z"
   },
   {
    "duration": 1096,
    "start_time": "2021-07-12T08:21:06.432Z"
   },
   {
    "duration": 9,
    "start_time": "2021-07-12T08:21:07.530Z"
   },
   {
    "duration": 52,
    "start_time": "2021-07-12T08:21:07.542Z"
   },
   {
    "duration": 446,
    "start_time": "2021-07-12T08:21:07.597Z"
   },
   {
    "duration": 8,
    "start_time": "2021-07-12T08:21:08.045Z"
   },
   {
    "duration": 27,
    "start_time": "2021-07-12T08:21:08.055Z"
   },
   {
    "duration": 21,
    "start_time": "2021-07-12T08:21:08.085Z"
   },
   {
    "duration": 58,
    "start_time": "2021-07-12T08:21:08.109Z"
   },
   {
    "duration": 820,
    "start_time": "2021-07-12T08:21:08.170Z"
   },
   {
    "duration": 27,
    "start_time": "2021-07-12T08:21:08.993Z"
   },
   {
    "duration": 701,
    "start_time": "2021-07-12T08:21:09.022Z"
   },
   {
    "duration": 686,
    "start_time": "2021-07-12T08:21:09.725Z"
   },
   {
    "duration": 14,
    "start_time": "2021-07-12T08:21:10.414Z"
   },
   {
    "duration": 40,
    "start_time": "2021-07-12T08:21:10.430Z"
   },
   {
    "duration": 13,
    "start_time": "2021-07-12T08:21:10.473Z"
   },
   {
    "duration": 27,
    "start_time": "2021-07-12T08:21:10.488Z"
   },
   {
    "duration": 59,
    "start_time": "2021-07-12T08:21:10.518Z"
   },
   {
    "duration": 23,
    "start_time": "2021-07-12T08:21:10.579Z"
   },
   {
    "duration": 25,
    "start_time": "2021-07-12T08:21:10.605Z"
   },
   {
    "duration": 50,
    "start_time": "2021-07-12T08:21:10.633Z"
   },
   {
    "duration": 14,
    "start_time": "2021-07-12T08:21:10.693Z"
   },
   {
    "duration": 11,
    "start_time": "2021-07-12T08:21:10.710Z"
   },
   {
    "duration": 2610,
    "start_time": "2021-07-12T08:21:10.724Z"
   },
   {
    "duration": 424,
    "start_time": "2021-07-12T08:21:13.337Z"
   },
   {
    "duration": 10,
    "start_time": "2021-07-12T08:21:13.763Z"
   },
   {
    "duration": 24,
    "start_time": "2021-07-12T08:21:13.776Z"
   },
   {
    "duration": 23,
    "start_time": "2021-07-12T08:21:13.803Z"
   },
   {
    "duration": 8,
    "start_time": "2021-07-12T08:21:13.868Z"
   },
   {
    "duration": 10,
    "start_time": "2021-07-12T08:21:13.878Z"
   },
   {
    "duration": 23,
    "start_time": "2021-07-12T08:21:13.891Z"
   },
   {
    "duration": 61,
    "start_time": "2021-07-12T08:21:13.916Z"
   },
   {
    "duration": 8,
    "start_time": "2021-07-12T08:21:13.979Z"
   },
   {
    "duration": 22,
    "start_time": "2021-07-12T08:36:40.145Z"
   },
   {
    "duration": 3203,
    "start_time": "2021-08-16T13:36:32.610Z"
   },
   {
    "duration": 2941,
    "start_time": "2021-08-16T13:36:35.815Z"
   },
   {
    "duration": 4,
    "start_time": "2021-08-16T13:36:38.759Z"
   },
   {
    "duration": 259,
    "start_time": "2021-08-16T13:36:38.766Z"
   },
   {
    "duration": 17,
    "start_time": "2021-08-16T13:36:39.027Z"
   },
   {
    "duration": 10,
    "start_time": "2021-08-16T13:36:39.046Z"
   },
   {
    "duration": 7,
    "start_time": "2021-08-16T13:36:39.059Z"
   },
   {
    "duration": 12,
    "start_time": "2021-08-16T13:36:39.070Z"
   },
   {
    "duration": 13,
    "start_time": "2021-08-16T13:36:39.086Z"
   },
   {
    "duration": 11,
    "start_time": "2021-08-16T13:36:39.102Z"
   },
   {
    "duration": 43,
    "start_time": "2021-08-16T13:36:39.116Z"
   },
   {
    "duration": 11,
    "start_time": "2021-08-16T13:36:39.162Z"
   },
   {
    "duration": 9,
    "start_time": "2021-08-16T13:36:39.175Z"
   },
   {
    "duration": 9,
    "start_time": "2021-08-16T13:36:39.187Z"
   },
   {
    "duration": 9,
    "start_time": "2021-08-16T13:36:39.198Z"
   },
   {
    "duration": 54,
    "start_time": "2021-08-16T13:36:39.209Z"
   },
   {
    "duration": 12,
    "start_time": "2021-08-16T13:36:39.266Z"
   },
   {
    "duration": 11,
    "start_time": "2021-08-16T13:36:39.280Z"
   },
   {
    "duration": 584,
    "start_time": "2021-08-16T13:36:39.293Z"
   },
   {
    "duration": 1566,
    "start_time": "2021-08-16T13:36:38.316Z"
   },
   {
    "duration": 1562,
    "start_time": "2021-08-16T13:36:38.321Z"
   },
   {
    "duration": 1560,
    "start_time": "2021-08-16T13:36:38.325Z"
   },
   {
    "duration": 1558,
    "start_time": "2021-08-16T13:36:38.328Z"
   },
   {
    "duration": 1553,
    "start_time": "2021-08-16T13:36:38.335Z"
   },
   {
    "duration": 1549,
    "start_time": "2021-08-16T13:36:38.340Z"
   },
   {
    "duration": 1545,
    "start_time": "2021-08-16T13:36:38.345Z"
   },
   {
    "duration": 1542,
    "start_time": "2021-08-16T13:36:38.350Z"
   },
   {
    "duration": 1539,
    "start_time": "2021-08-16T13:36:38.354Z"
   },
   {
    "duration": 1537,
    "start_time": "2021-08-16T13:36:38.358Z"
   },
   {
    "duration": 1529,
    "start_time": "2021-08-16T13:36:38.368Z"
   },
   {
    "duration": 1526,
    "start_time": "2021-08-16T13:36:38.372Z"
   },
   {
    "duration": 1523,
    "start_time": "2021-08-16T13:36:38.377Z"
   },
   {
    "duration": 1521,
    "start_time": "2021-08-16T13:36:38.380Z"
   },
   {
    "duration": 1517,
    "start_time": "2021-08-16T13:36:38.385Z"
   },
   {
    "duration": 1516,
    "start_time": "2021-08-16T13:36:38.388Z"
   },
   {
    "duration": 1513,
    "start_time": "2021-08-16T13:36:38.392Z"
   },
   {
    "duration": 1511,
    "start_time": "2021-08-16T13:36:38.396Z"
   },
   {
    "duration": 1508,
    "start_time": "2021-08-16T13:36:38.400Z"
   },
   {
    "duration": 1506,
    "start_time": "2021-08-16T13:36:38.404Z"
   },
   {
    "duration": 1503,
    "start_time": "2021-08-16T13:36:38.409Z"
   },
   {
    "duration": 1500,
    "start_time": "2021-08-16T13:36:38.413Z"
   },
   {
    "duration": 1497,
    "start_time": "2021-08-16T13:36:38.417Z"
   },
   {
    "duration": 1536,
    "start_time": "2021-08-16T13:36:38.420Z"
   },
   {
    "duration": 1533,
    "start_time": "2021-08-16T13:36:38.424Z"
   },
   {
    "duration": 1529,
    "start_time": "2021-08-16T13:36:38.429Z"
   },
   {
    "duration": 1527,
    "start_time": "2021-08-16T13:36:38.433Z"
   },
   {
    "duration": 1525,
    "start_time": "2021-08-16T13:36:38.436Z"
   },
   {
    "duration": 1523,
    "start_time": "2021-08-16T13:36:38.440Z"
   },
   {
    "duration": 1520,
    "start_time": "2021-08-16T13:36:38.444Z"
   },
   {
    "duration": 1517,
    "start_time": "2021-08-16T13:36:38.448Z"
   },
   {
    "duration": 1516,
    "start_time": "2021-08-16T13:36:38.451Z"
   },
   {
    "duration": 1513,
    "start_time": "2021-08-16T13:36:38.455Z"
   },
   {
    "duration": 1510,
    "start_time": "2021-08-16T13:36:38.459Z"
   },
   {
    "duration": 1508,
    "start_time": "2021-08-16T13:36:38.463Z"
   },
   {
    "duration": 1505,
    "start_time": "2021-08-16T13:36:38.467Z"
   },
   {
    "duration": 1502,
    "start_time": "2021-08-16T13:36:38.471Z"
   },
   {
    "duration": 1501,
    "start_time": "2021-08-16T13:36:38.474Z"
   },
   {
    "duration": 1498,
    "start_time": "2021-08-16T13:36:38.478Z"
   },
   {
    "duration": 1495,
    "start_time": "2021-08-16T13:36:38.482Z"
   },
   {
    "duration": 1493,
    "start_time": "2021-08-16T13:36:38.486Z"
   },
   {
    "duration": 1490,
    "start_time": "2021-08-16T13:36:38.490Z"
   },
   {
    "duration": 1487,
    "start_time": "2021-08-16T13:36:38.494Z"
   },
   {
    "duration": 1486,
    "start_time": "2021-08-16T13:36:38.497Z"
   },
   {
    "duration": 1482,
    "start_time": "2021-08-16T13:36:38.502Z"
   },
   {
    "duration": 1484,
    "start_time": "2021-08-16T13:36:38.505Z"
   },
   {
    "duration": 1483,
    "start_time": "2021-08-16T13:36:38.509Z"
   },
   {
    "duration": 1481,
    "start_time": "2021-08-16T13:36:38.513Z"
   },
   {
    "duration": 1540,
    "start_time": "2021-08-16T13:36:38.517Z"
   },
   {
    "duration": 1538,
    "start_time": "2021-08-16T13:36:38.521Z"
   },
   {
    "duration": 1537,
    "start_time": "2021-08-16T13:36:38.525Z"
   },
   {
    "duration": 1536,
    "start_time": "2021-08-16T13:36:38.528Z"
   },
   {
    "duration": 1533,
    "start_time": "2021-08-16T13:36:38.533Z"
   },
   {
    "duration": 1532,
    "start_time": "2021-08-16T13:36:38.536Z"
   },
   {
    "duration": 1529,
    "start_time": "2021-08-16T13:36:38.541Z"
   },
   {
    "duration": 2218,
    "start_time": "2021-08-16T13:37:27.013Z"
   },
   {
    "duration": 1978,
    "start_time": "2021-08-16T13:37:29.234Z"
   },
   {
    "duration": 4,
    "start_time": "2021-08-16T13:37:31.215Z"
   },
   {
    "duration": 270,
    "start_time": "2021-08-16T13:37:31.222Z"
   },
   {
    "duration": 16,
    "start_time": "2021-08-16T13:37:31.495Z"
   },
   {
    "duration": 30,
    "start_time": "2021-08-16T13:37:31.513Z"
   },
   {
    "duration": 28,
    "start_time": "2021-08-16T13:37:31.546Z"
   },
   {
    "duration": 26,
    "start_time": "2021-08-16T13:37:31.576Z"
   },
   {
    "duration": 61,
    "start_time": "2021-08-16T13:37:31.606Z"
   },
   {
    "duration": 34,
    "start_time": "2021-08-16T13:37:31.670Z"
   },
   {
    "duration": 52,
    "start_time": "2021-08-16T13:37:31.706Z"
   },
   {
    "duration": 19,
    "start_time": "2021-08-16T13:37:31.760Z"
   },
   {
    "duration": 14,
    "start_time": "2021-08-16T13:37:31.781Z"
   },
   {
    "duration": 17,
    "start_time": "2021-08-16T13:37:31.799Z"
   },
   {
    "duration": 32,
    "start_time": "2021-08-16T13:37:31.819Z"
   },
   {
    "duration": 25,
    "start_time": "2021-08-16T13:37:31.853Z"
   },
   {
    "duration": 18,
    "start_time": "2021-08-16T13:37:31.880Z"
   },
   {
    "duration": 26,
    "start_time": "2021-08-16T13:37:31.900Z"
   },
   {
    "duration": 568,
    "start_time": "2021-08-16T13:37:31.928Z"
   },
   {
    "duration": 2484,
    "start_time": "2021-08-16T13:37:30.018Z"
   },
   {
    "duration": 2472,
    "start_time": "2021-08-16T13:37:30.032Z"
   },
   {
    "duration": 2466,
    "start_time": "2021-08-16T13:37:30.040Z"
   },
   {
    "duration": 2463,
    "start_time": "2021-08-16T13:37:30.045Z"
   },
   {
    "duration": 2462,
    "start_time": "2021-08-16T13:37:30.049Z"
   },
   {
    "duration": 2459,
    "start_time": "2021-08-16T13:37:30.054Z"
   },
   {
    "duration": 2456,
    "start_time": "2021-08-16T13:37:30.059Z"
   },
   {
    "duration": 2454,
    "start_time": "2021-08-16T13:37:30.063Z"
   },
   {
    "duration": 2451,
    "start_time": "2021-08-16T13:37:30.068Z"
   },
   {
    "duration": 2449,
    "start_time": "2021-08-16T13:37:30.072Z"
   },
   {
    "duration": 2441,
    "start_time": "2021-08-16T13:37:30.082Z"
   },
   {
    "duration": 2437,
    "start_time": "2021-08-16T13:37:30.088Z"
   },
   {
    "duration": 2436,
    "start_time": "2021-08-16T13:37:30.091Z"
   },
   {
    "duration": 2432,
    "start_time": "2021-08-16T13:37:30.097Z"
   },
   {
    "duration": 2430,
    "start_time": "2021-08-16T13:37:30.101Z"
   },
   {
    "duration": 2427,
    "start_time": "2021-08-16T13:37:30.106Z"
   },
   {
    "duration": 2425,
    "start_time": "2021-08-16T13:37:30.110Z"
   },
   {
    "duration": 2423,
    "start_time": "2021-08-16T13:37:30.114Z"
   },
   {
    "duration": 2420,
    "start_time": "2021-08-16T13:37:30.119Z"
   },
   {
    "duration": 2416,
    "start_time": "2021-08-16T13:37:30.124Z"
   },
   {
    "duration": 2413,
    "start_time": "2021-08-16T13:37:30.128Z"
   },
   {
    "duration": 2409,
    "start_time": "2021-08-16T13:37:30.133Z"
   },
   {
    "duration": 2419,
    "start_time": "2021-08-16T13:37:30.137Z"
   },
   {
    "duration": 2416,
    "start_time": "2021-08-16T13:37:30.142Z"
   },
   {
    "duration": 2360,
    "start_time": "2021-08-16T13:37:30.200Z"
   },
   {
    "duration": 2358,
    "start_time": "2021-08-16T13:37:30.204Z"
   },
   {
    "duration": 2334,
    "start_time": "2021-08-16T13:37:30.230Z"
   },
   {
    "duration": 2331,
    "start_time": "2021-08-16T13:37:30.235Z"
   },
   {
    "duration": 2329,
    "start_time": "2021-08-16T13:37:30.239Z"
   },
   {
    "duration": 2326,
    "start_time": "2021-08-16T13:37:30.244Z"
   },
   {
    "duration": 2291,
    "start_time": "2021-08-16T13:37:30.281Z"
   },
   {
    "duration": 2285,
    "start_time": "2021-08-16T13:37:30.289Z"
   },
   {
    "duration": 2102,
    "start_time": "2021-08-16T13:37:30.474Z"
   },
   {
    "duration": 2078,
    "start_time": "2021-08-16T13:37:30.500Z"
   },
   {
    "duration": 2076,
    "start_time": "2021-08-16T13:37:30.504Z"
   },
   {
    "duration": 2073,
    "start_time": "2021-08-16T13:37:30.509Z"
   },
   {
    "duration": 2071,
    "start_time": "2021-08-16T13:37:30.513Z"
   },
   {
    "duration": 2069,
    "start_time": "2021-08-16T13:37:30.517Z"
   },
   {
    "duration": 2008,
    "start_time": "2021-08-16T13:37:30.580Z"
   },
   {
    "duration": 1977,
    "start_time": "2021-08-16T13:37:30.613Z"
   },
   {
    "duration": 2037,
    "start_time": "2021-08-16T13:37:30.618Z"
   },
   {
    "duration": 2035,
    "start_time": "2021-08-16T13:37:30.623Z"
   },
   {
    "duration": 2033,
    "start_time": "2021-08-16T13:37:30.627Z"
   },
   {
    "duration": 2031,
    "start_time": "2021-08-16T13:37:30.631Z"
   },
   {
    "duration": 2020,
    "start_time": "2021-08-16T13:37:30.645Z"
   },
   {
    "duration": 2017,
    "start_time": "2021-08-16T13:37:30.650Z"
   },
   {
    "duration": 2015,
    "start_time": "2021-08-16T13:37:30.654Z"
   },
   {
    "duration": 2005,
    "start_time": "2021-08-16T13:37:30.665Z"
   },
   {
    "duration": 2005,
    "start_time": "2021-08-16T13:37:30.668Z"
   },
   {
    "duration": 1997,
    "start_time": "2021-08-16T13:37:30.678Z"
   },
   {
    "duration": 1995,
    "start_time": "2021-08-16T13:37:30.682Z"
   },
   {
    "duration": 1993,
    "start_time": "2021-08-16T13:37:30.686Z"
   },
   {
    "duration": 1992,
    "start_time": "2021-08-16T13:37:30.690Z"
   },
   {
    "duration": 1990,
    "start_time": "2021-08-16T13:37:30.694Z"
   },
   {
    "duration": 1988,
    "start_time": "2021-08-16T13:37:30.698Z"
   },
   {
    "duration": 3843,
    "start_time": "2021-08-17T16:57:18.916Z"
   },
   {
    "duration": 2797,
    "start_time": "2021-08-17T16:57:22.762Z"
   },
   {
    "duration": 4,
    "start_time": "2021-08-17T16:57:25.562Z"
   },
   {
    "duration": 190,
    "start_time": "2021-08-17T16:57:25.568Z"
   },
   {
    "duration": 14,
    "start_time": "2021-08-17T16:57:25.761Z"
   },
   {
    "duration": 26,
    "start_time": "2021-08-17T16:57:25.778Z"
   },
   {
    "duration": 35,
    "start_time": "2021-08-17T16:57:25.806Z"
   },
   {
    "duration": 20,
    "start_time": "2021-08-17T16:57:25.845Z"
   },
   {
    "duration": 27,
    "start_time": "2021-08-17T16:57:25.868Z"
   },
   {
    "duration": 21,
    "start_time": "2021-08-17T16:57:25.897Z"
   },
   {
    "duration": 23,
    "start_time": "2021-08-17T16:57:25.920Z"
   },
   {
    "duration": 25,
    "start_time": "2021-08-17T16:57:25.945Z"
   },
   {
    "duration": 25,
    "start_time": "2021-08-17T16:57:25.972Z"
   },
   {
    "duration": 32,
    "start_time": "2021-08-17T16:57:26.000Z"
   },
   {
    "duration": 14,
    "start_time": "2021-08-17T16:57:26.034Z"
   },
   {
    "duration": 23,
    "start_time": "2021-08-17T16:57:26.050Z"
   },
   {
    "duration": 32,
    "start_time": "2021-08-17T16:57:26.075Z"
   },
   {
    "duration": 10,
    "start_time": "2021-08-17T16:57:26.110Z"
   },
   {
    "duration": 39,
    "start_time": "2021-08-17T16:57:26.122Z"
   },
   {
    "duration": 9,
    "start_time": "2021-08-17T16:57:26.163Z"
   },
   {
    "duration": 14,
    "start_time": "2021-08-17T16:57:26.174Z"
   },
   {
    "duration": 964,
    "start_time": "2021-08-17T16:57:26.190Z"
   },
   {
    "duration": 7,
    "start_time": "2021-08-17T16:57:27.160Z"
   },
   {
    "duration": 103,
    "start_time": "2021-08-17T16:57:27.171Z"
   },
   {
    "duration": 17,
    "start_time": "2021-08-17T16:57:27.277Z"
   },
   {
    "duration": 24,
    "start_time": "2021-08-17T16:57:27.296Z"
   },
   {
    "duration": 15,
    "start_time": "2021-08-17T16:57:27.323Z"
   },
   {
    "duration": 24,
    "start_time": "2021-08-17T16:57:27.341Z"
   },
   {
    "duration": 26,
    "start_time": "2021-08-17T16:57:27.367Z"
   },
   {
    "duration": 49,
    "start_time": "2021-08-17T16:57:27.395Z"
   },
   {
    "duration": 542,
    "start_time": "2021-08-17T16:57:27.447Z"
   },
   {
    "duration": 506,
    "start_time": "2021-08-17T16:57:27.991Z"
   },
   {
    "duration": 11,
    "start_time": "2021-08-17T16:57:28.500Z"
   },
   {
    "duration": 15,
    "start_time": "2021-08-17T16:57:28.514Z"
   },
   {
    "duration": 23,
    "start_time": "2021-08-17T16:57:28.531Z"
   },
   {
    "duration": 30,
    "start_time": "2021-08-17T16:57:28.557Z"
   },
   {
    "duration": 609,
    "start_time": "2021-08-17T16:57:28.590Z"
   },
   {
    "duration": 6,
    "start_time": "2021-08-17T16:57:29.201Z"
   },
   {
    "duration": 12,
    "start_time": "2021-08-17T16:57:29.209Z"
   },
   {
    "duration": 30,
    "start_time": "2021-08-17T16:57:29.224Z"
   },
   {
    "duration": 14,
    "start_time": "2021-08-17T16:57:29.257Z"
   },
   {
    "duration": 20,
    "start_time": "2021-08-17T16:57:29.273Z"
   },
   {
    "duration": 20,
    "start_time": "2021-08-17T16:57:29.296Z"
   },
   {
    "duration": 574,
    "start_time": "2021-08-17T16:57:29.319Z"
   },
   {
    "duration": 6,
    "start_time": "2021-08-17T16:57:29.895Z"
   },
   {
    "duration": 931,
    "start_time": "2021-08-17T16:57:29.904Z"
   },
   {
    "duration": 31,
    "start_time": "2021-08-17T16:57:30.838Z"
   },
   {
    "duration": 573,
    "start_time": "2021-08-17T16:57:30.872Z"
   },
   {
    "duration": 9,
    "start_time": "2021-08-17T16:57:31.455Z"
   },
   {
    "duration": 434,
    "start_time": "2021-08-17T16:57:31.468Z"
   },
   {
    "duration": 8,
    "start_time": "2021-08-17T16:57:31.906Z"
   },
   {
    "duration": 3,
    "start_time": "2021-08-17T16:57:31.950Z"
   },
   {
    "duration": 9,
    "start_time": "2021-08-17T16:57:31.956Z"
   },
   {
    "duration": 20,
    "start_time": "2021-08-17T16:57:31.968Z"
   },
   {
    "duration": 23,
    "start_time": "2021-08-17T16:57:31.991Z"
   },
   {
    "duration": 52,
    "start_time": "2021-08-17T16:57:32.016Z"
   },
   {
    "duration": 25,
    "start_time": "2021-08-17T16:57:32.071Z"
   },
   {
    "duration": 16,
    "start_time": "2021-08-17T16:57:32.099Z"
   },
   {
    "duration": 41,
    "start_time": "2021-08-17T16:57:32.117Z"
   },
   {
    "duration": 23,
    "start_time": "2021-08-17T16:57:32.163Z"
   },
   {
    "duration": 10,
    "start_time": "2021-08-17T16:57:32.189Z"
   },
   {
    "duration": 10,
    "start_time": "2021-08-17T16:57:32.202Z"
   },
   {
    "duration": 48,
    "start_time": "2021-08-17T16:57:32.215Z"
   },
   {
    "duration": 52,
    "start_time": "2021-08-17T16:57:32.266Z"
   },
   {
    "duration": 94,
    "start_time": "2021-08-17T16:57:32.320Z"
   },
   {
    "duration": 61,
    "start_time": "2021-08-17T16:57:32.417Z"
   },
   {
    "duration": 18,
    "start_time": "2021-08-17T16:57:32.483Z"
   },
   {
    "duration": 10,
    "start_time": "2021-08-17T16:57:32.511Z"
   },
   {
    "duration": 6,
    "start_time": "2021-08-17T16:57:32.525Z"
   },
   {
    "duration": 641,
    "start_time": "2021-08-17T16:57:32.558Z"
   },
   {
    "duration": 18,
    "start_time": "2021-08-17T16:57:33.202Z"
   },
   {
    "duration": 54,
    "start_time": "2021-08-17T16:57:33.223Z"
   },
   {
    "duration": 36,
    "start_time": "2021-08-17T16:57:33.280Z"
   },
   {
    "duration": 531,
    "start_time": "2021-08-17T16:57:33.318Z"
   }
  ],
  "kernelspec": {
   "display_name": "Python 3 (ipykernel)",
   "language": "python",
   "name": "python3"
  },
  "language_info": {
   "codemirror_mode": {
    "name": "ipython",
    "version": 3
   },
   "file_extension": ".py",
   "mimetype": "text/x-python",
   "name": "python",
   "nbconvert_exporter": "python",
   "pygments_lexer": "ipython3",
   "version": "3.9.6"
  },
  "toc": {
   "base_numbering": 1,
   "nav_menu": {},
   "number_sections": true,
   "sideBar": true,
   "skip_h1_title": false,
   "title_cell": "Table of Contents",
   "title_sidebar": "Contents",
   "toc_cell": true,
   "toc_position": {},
   "toc_section_display": true,
   "toc_window_display": false
  },
  "varInspector": {
   "cols": {
    "lenName": 16,
    "lenType": 16,
    "lenVar": 40
   },
   "kernels_config": {
    "python": {
     "delete_cmd_postfix": "",
     "delete_cmd_prefix": "del ",
     "library": "var_list.py",
     "varRefreshCmd": "print(var_dic_list())"
    },
    "r": {
     "delete_cmd_postfix": ") ",
     "delete_cmd_prefix": "rm(",
     "library": "var_list.r",
     "varRefreshCmd": "cat(var_dic_list()) "
    }
   },
   "position": {
    "height": "446.85px",
    "left": "1391px",
    "right": "20px",
    "top": "120px",
    "width": "350px"
   },
   "types_to_exclude": [
    "module",
    "function",
    "builtin_function_or_method",
    "instance",
    "_Feature"
   ],
   "window_display": false
  }
 },
 "nbformat": 4,
 "nbformat_minor": 5
}
