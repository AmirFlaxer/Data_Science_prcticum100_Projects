{
 "cells": [
  {
   "cell_type": "markdown",
   "id": "b14ddb81",
   "metadata": {},
   "source": [
    "<div class=\"alert alert-success\">\n",
    "Hey Amir!\n",
    "    \n",
    "    \n",
    "Such an amazing job! Frankly speaking, I am truly impressed by the progress that you've made. Your best performing model does great job. I would definitely like to take this model and move it to production, since seems to be so good in churn prediction. Business will benefit a lot from having it.\n",
    "    \n",
    "    \n",
    "The report is clear and neat. Each step is very well explained and described. I ended up with no questions at all after reading it.\n",
    "    \n",
    "    \n",
    "My congratulations on the completion of the program! Your skills now are impressive! Pls, text me when you get a job offer, so we can congratulate it together ;)\n",
    "</div>"
   ]
  },
  {
   "cell_type": "markdown",
   "id": "be884bac",
   "metadata": {},
   "source": [
    "**Review**\n",
    "\n",
    "Hi, my name is Dmitry and I will be reviewing your project.\n",
    "  \n",
    "You can find my comments in colored markdown cells:\n",
    "  \n",
    "<div class=\"alert alert-success\">\n",
    "  If everything is done successfully.\n",
    "</div>\n",
    "  \n",
    "<div class=\"alert alert-warning\">\n",
    "  If I have some (optional) suggestions, or questions to think about, or general comments.\n",
    "</div>\n",
    "  \n",
    "<div class=\"alert alert-danger\">\n",
    "  If a section requires some corrections. Work can't be accepted with red comments.\n",
    "</div>\n",
    "  \n",
    "Please don't remove my comments, as it will make further review iterations much harder for me.\n",
    "  \n",
    "Feel free to reply to my comments or ask questions using the following template:\n",
    "  \n",
    "<div class=\"alert alert-info\">\n",
    "  For your comments and questions.\n",
    "</div>\n",
    "  \n",
    "First of all, thank you for turning in the project! You did an excellent job! Based on the ROC-AUC score of your best model, you've got 6 SP. Congratulations!"
   ]
  },
  {
   "cell_type": "markdown",
   "id": "64feda4e",
   "metadata": {},
   "source": [
    "\n",
    "<div class=\"alert alert-success\">\n",
    "Well done. Thanks for the corrections made. Proceed with the project! I see that you've already done a lot of work. When everything is ready, submit it\n",
    "</div>"
   ]
  },
  {
   "cell_type": "markdown",
   "id": "16326138",
   "metadata": {},
   "source": [
    "# Project description"
   ]
  },
  {
   "cell_type": "markdown",
   "id": "740ffda8",
   "metadata": {},
   "source": [
    "The telecom operator Interconnect would like to be able to forecast their churn of clients. If it's discovered that a user is planning to leave, they will be offered promotional codes and special plan options. Interconnect's marketing team has collected some of their clientele's personal data, including information about their plans and contracts."
   ]
  },
  {
   "cell_type": "markdown",
   "id": "99d3f9bc",
   "metadata": {},
   "source": [
    "## Interconnect's services\n",
    "\n",
    "Interconnect mainly provides two types of services:\n",
    "1. Landline communication. The telephone can be connected to several lines simultaneously\n",
    "2. Internet. The network can be set up via a telephone line (DSL, digital subscriber line) or through a fiber optic cable.\n",
    "\n",
    "Some other services the company provides include:\n",
    "* Internet security: antivirus software (DeviceProtection) and a malicious website blocker (OnlineSecurity)\n",
    "* A dedicated technical support line (TechSupport)\n",
    "* Cloud file storage and data backup (OnlineBackup)\n",
    "* TV streaming (StreamingTV) and a movie directory (StreamingMovies)\n",
    "\n",
    "The clients can choose either a monthly payment or sign a 1- or 2-year contract. They can use various payment methods and receive an electronic invoice after a transaction."
   ]
  },
  {
   "cell_type": "markdown",
   "id": "5b029c4c",
   "metadata": {},
   "source": [
    "## Data Description\n",
    "The data consists of files obtained from different sources:\n",
    "* `contract.csv` - contract information\n",
    "* `personal.csv` - the client's personal data\n",
    "* `internet.csv` - information about Internet services\n",
    "* `phone.csv` - information about telephone services\n",
    "\n",
    "In each file, the column `customerID` contains a unique code assigned to each client.\n",
    "\n",
    "The contract information is valid as of February 1, 2020."
   ]
  },
  {
   "cell_type": "markdown",
   "id": "71c0d108",
   "metadata": {},
   "source": [
    "# Work Plan"
   ]
  },
  {
   "cell_type": "markdown",
   "id": "642b047c",
   "metadata": {},
   "source": [
    "1. read all the libraries\n",
    "2. load the data\n",
    "3. look at the data: all four data frame have one unique key to them. It is easier to merge all the data frames by the key to use the features of all the four files.\n",
    "    1. join all the data frames to one using the `customerID` to merge them all\n",
    "5. analyze the type of the features:\n",
    "    1. check the categorical features, how many option they have, is it numeric or strings. Are they mixed or the same type.\n",
    "    1. pay attention to missing values when joining the data sets.\n",
    "        1. if the missing value are targets, we cannot use it and delete the observation\n",
    "        1. if the missing value are features, examine if they can be replace with option that relate to lack of this feature like 'No' or 0.\n",
    "        1. replace the missing features with 'No'\n",
    "    1. replace type 'object' to 'category' \n",
    "    2. replace `BeginDate` from type 'object' type to datetime to be able to make manipulation on this feature.\n",
    "6. replace the datetime features with useful data that will help the model:\n",
    "    1. the exact date of joining is less important than the period of the customer is with the company. Because the customers pay monthly, lets transform this data to calculate how many months the customers are customers for the company. \n",
    "7. calculate th **target**\n",
    "    1. we need to know if the customer left or continue with the company. We do so by checking the `EndDate` column, if `EndDate` is not equal to 'No'(left the company), then it is Yes(continues).\n",
    "8. We now can remove the unnecessary columns: \n",
    "    1. `customerID`\n",
    "    2. `BeginDate`\n",
    "    3. `EndDate`\n",
    "10. check for duplicates\n",
    "12. check for imbalance data. If problem with imbalance data exist, we can address it by `imblearn` library objects.\n",
    "    1. we can try one of `imblearn` methods for oversampling (SMOTE) OR\n",
    "    2. try one of `imblearn` combined methods for oversampling and undersampling (SMOTE + Tomek or SMOTE + ENN)\n",
    "    3. we will have to check if addressing the imbalance problem giving better score.\n",
    "13. show the features distribution\n",
    "14. We will decide if we need to normalize the features, depend on the models we will choose. Some of the models doesn't need normalization.\n",
    "14. we will use encoding for all the categorical features for models that need it. We will use OHE Encoding on the features that are categorical\n",
    "15. before addressing the imbalance problem, we will divide the data to features and target\n",
    "16. and divide the data between train and test\n",
    "17. We will make to sets of train data:\n",
    "    1. without change\n",
    "    2. balance data\n",
    "\n",
    "on the model\n",
    "1. run baseline model (Decision Tree)\n",
    "2. try cross validation on some models (random forest, Gradient Boosting, LightGBM and XGBoost)\n",
    "3. we will calculate the roc_auc_score\n",
    "4. then we will use the balanced data and run it all again.\n",
    "5. hopefully the ROC AUC score will be above 90%"
   ]
  },
  {
   "cell_type": "code",
   "execution_count": 1,
   "id": "6d9fe69e",
   "metadata": {},
   "outputs": [
    {
     "name": "stdout",
     "output_type": "stream",
     "text": [
      "Requirement already satisfied: pandas in c:\\users\\benqu\\anaconda3\\envs\\notebook_2\\lib\\site-packages (1.3.5)\n",
      "Requirement already satisfied: numpy>=1.21.0 in c:\\users\\benqu\\anaconda3\\envs\\notebook_2\\lib\\site-packages (from pandas) (1.21.4)\n",
      "Requirement already satisfied: python-dateutil>=2.7.3 in c:\\users\\benqu\\anaconda3\\envs\\notebook_2\\lib\\site-packages (from pandas) (2.8.2)\n",
      "Requirement already satisfied: pytz>=2017.3 in c:\\users\\benqu\\anaconda3\\envs\\notebook_2\\lib\\site-packages (from pandas) (2021.3)\n",
      "Requirement already satisfied: six>=1.5 in c:\\users\\benqu\\anaconda3\\envs\\notebook_2\\lib\\site-packages (from python-dateutil>=2.7.3->pandas) (1.16.0)\n",
      "Requirement already satisfied: seaborn in c:\\users\\benqu\\anaconda3\\envs\\notebook_2\\lib\\site-packages (0.11.2)\n",
      "Requirement already satisfied: numpy>=1.15 in c:\\users\\benqu\\anaconda3\\envs\\notebook_2\\lib\\site-packages (from seaborn) (1.21.4)\n",
      "Requirement already satisfied: matplotlib>=2.2 in c:\\users\\benqu\\anaconda3\\envs\\notebook_2\\lib\\site-packages (from seaborn) (3.5.0)\n",
      "Requirement already satisfied: scipy>=1.0 in c:\\users\\benqu\\anaconda3\\envs\\notebook_2\\lib\\site-packages (from seaborn) (1.7.3)\n",
      "Requirement already satisfied: pandas>=0.23 in c:\\users\\benqu\\anaconda3\\envs\\notebook_2\\lib\\site-packages (from seaborn) (1.3.5)\n",
      "Requirement already satisfied: python-dateutil>=2.7 in c:\\users\\benqu\\anaconda3\\envs\\notebook_2\\lib\\site-packages (from matplotlib>=2.2->seaborn) (2.8.2)\n",
      "Requirement already satisfied: fonttools>=4.22.0 in c:\\users\\benqu\\anaconda3\\envs\\notebook_2\\lib\\site-packages (from matplotlib>=2.2->seaborn) (4.28.3)\n",
      "Requirement already satisfied: packaging>=20.0 in c:\\users\\benqu\\anaconda3\\envs\\notebook_2\\lib\\site-packages (from matplotlib>=2.2->seaborn) (21.3)\n",
      "Requirement already satisfied: kiwisolver>=1.0.1 in c:\\users\\benqu\\anaconda3\\envs\\notebook_2\\lib\\site-packages (from matplotlib>=2.2->seaborn) (1.3.2)\n",
      "Requirement already satisfied: cycler>=0.10 in c:\\users\\benqu\\anaconda3\\envs\\notebook_2\\lib\\site-packages (from matplotlib>=2.2->seaborn) (0.11.0)\n",
      "Requirement already satisfied: pillow>=6.2.0 in c:\\users\\benqu\\anaconda3\\envs\\notebook_2\\lib\\site-packages (from matplotlib>=2.2->seaborn) (8.4.0)\n",
      "Requirement already satisfied: pyparsing>=2.2.1 in c:\\users\\benqu\\anaconda3\\envs\\notebook_2\\lib\\site-packages (from matplotlib>=2.2->seaborn) (3.0.6)\n",
      "Requirement already satisfied: pytz>=2017.3 in c:\\users\\benqu\\anaconda3\\envs\\notebook_2\\lib\\site-packages (from pandas>=0.23->seaborn) (2021.3)\n",
      "Requirement already satisfied: six>=1.5 in c:\\users\\benqu\\anaconda3\\envs\\notebook_2\\lib\\site-packages (from python-dateutil>=2.7->matplotlib>=2.2->seaborn) (1.16.0)\n",
      "Requirement already satisfied: scikit-learn in c:\\users\\benqu\\anaconda3\\envs\\notebook_2\\lib\\site-packages (1.0.1)\n",
      "Requirement already satisfied: joblib>=0.11 in c:\\users\\benqu\\anaconda3\\envs\\notebook_2\\lib\\site-packages (from scikit-learn) (1.0.1)\n",
      "Requirement already satisfied: threadpoolctl>=2.0.0 in c:\\users\\benqu\\anaconda3\\envs\\notebook_2\\lib\\site-packages (from scikit-learn) (3.0.0)\n",
      "Requirement already satisfied: numpy>=1.14.6 in c:\\users\\benqu\\anaconda3\\envs\\notebook_2\\lib\\site-packages (from scikit-learn) (1.21.4)\n",
      "Requirement already satisfied: scipy>=1.1.0 in c:\\users\\benqu\\anaconda3\\envs\\notebook_2\\lib\\site-packages (from scikit-learn) (1.7.3)\n",
      "Requirement already satisfied: catboost in c:\\users\\benqu\\anaconda3\\envs\\notebook_2\\lib\\site-packages (1.0.3)\n",
      "Requirement already satisfied: scipy in c:\\users\\benqu\\anaconda3\\envs\\notebook_2\\lib\\site-packages (from catboost) (1.7.3)\n",
      "Requirement already satisfied: matplotlib in c:\\users\\benqu\\anaconda3\\envs\\notebook_2\\lib\\site-packages (from catboost) (3.5.0)\n",
      "Requirement already satisfied: six in c:\\users\\benqu\\anaconda3\\envs\\notebook_2\\lib\\site-packages (from catboost) (1.16.0)\n",
      "Requirement already satisfied: pandas>=0.24.0 in c:\\users\\benqu\\anaconda3\\envs\\notebook_2\\lib\\site-packages (from catboost) (1.3.5)\n",
      "Requirement already satisfied: graphviz in c:\\users\\benqu\\anaconda3\\envs\\notebook_2\\lib\\site-packages (from catboost) (0.18)\n",
      "Requirement already satisfied: plotly in c:\\users\\benqu\\anaconda3\\envs\\notebook_2\\lib\\site-packages (from catboost) (5.1.0)\n",
      "Requirement already satisfied: numpy>=1.16.0 in c:\\users\\benqu\\anaconda3\\envs\\notebook_2\\lib\\site-packages (from catboost) (1.21.4)\n",
      "Requirement already satisfied: python-dateutil>=2.7.3 in c:\\users\\benqu\\anaconda3\\envs\\notebook_2\\lib\\site-packages (from pandas>=0.24.0->catboost) (2.8.2)\n",
      "Requirement already satisfied: pytz>=2017.3 in c:\\users\\benqu\\anaconda3\\envs\\notebook_2\\lib\\site-packages (from pandas>=0.24.0->catboost) (2021.3)\n",
      "Requirement already satisfied: fonttools>=4.22.0 in c:\\users\\benqu\\anaconda3\\envs\\notebook_2\\lib\\site-packages (from matplotlib->catboost) (4.28.3)\n",
      "Requirement already satisfied: packaging>=20.0 in c:\\users\\benqu\\anaconda3\\envs\\notebook_2\\lib\\site-packages (from matplotlib->catboost) (21.3)\n",
      "Requirement already satisfied: cycler>=0.10 in c:\\users\\benqu\\anaconda3\\envs\\notebook_2\\lib\\site-packages (from matplotlib->catboost) (0.11.0)\n",
      "Requirement already satisfied: pillow>=6.2.0 in c:\\users\\benqu\\anaconda3\\envs\\notebook_2\\lib\\site-packages (from matplotlib->catboost) (8.4.0)\n",
      "Requirement already satisfied: kiwisolver>=1.0.1 in c:\\users\\benqu\\anaconda3\\envs\\notebook_2\\lib\\site-packages (from matplotlib->catboost) (1.3.2)\n",
      "Requirement already satisfied: pyparsing>=2.2.1 in c:\\users\\benqu\\anaconda3\\envs\\notebook_2\\lib\\site-packages (from matplotlib->catboost) (3.0.6)\n",
      "Requirement already satisfied: tenacity>=6.2.0 in c:\\users\\benqu\\anaconda3\\envs\\notebook_2\\lib\\site-packages (from plotly->catboost) (8.0.1)\n",
      "Requirement already satisfied: lightgbm in c:\\users\\benqu\\anaconda3\\envs\\notebook_2\\lib\\site-packages (3.3.1)\n",
      "Requirement already satisfied: numpy in c:\\users\\benqu\\anaconda3\\envs\\notebook_2\\lib\\site-packages (from lightgbm) (1.21.4)\n",
      "Requirement already satisfied: scipy in c:\\users\\benqu\\anaconda3\\envs\\notebook_2\\lib\\site-packages (from lightgbm) (1.7.3)\n",
      "Requirement already satisfied: wheel in c:\\users\\benqu\\anaconda3\\envs\\notebook_2\\lib\\site-packages (from lightgbm) (0.37.0)\n",
      "Requirement already satisfied: scikit-learn!=0.22.0 in c:\\users\\benqu\\anaconda3\\envs\\notebook_2\\lib\\site-packages (from lightgbm) (1.0.1)\n",
      "Requirement already satisfied: threadpoolctl>=2.0.0 in c:\\users\\benqu\\anaconda3\\envs\\notebook_2\\lib\\site-packages (from scikit-learn!=0.22.0->lightgbm) (3.0.0)\n",
      "Requirement already satisfied: joblib>=0.11 in c:\\users\\benqu\\anaconda3\\envs\\notebook_2\\lib\\site-packages (from scikit-learn!=0.22.0->lightgbm) (1.0.1)\n",
      "Requirement already satisfied: xgboost in c:\\users\\benqu\\anaconda3\\envs\\notebook_2\\lib\\site-packages (1.5.1)\n",
      "Requirement already satisfied: scipy in c:\\users\\benqu\\anaconda3\\envs\\notebook_2\\lib\\site-packages (from xgboost) (1.7.3)\n",
      "Requirement already satisfied: numpy in c:\\users\\benqu\\anaconda3\\envs\\notebook_2\\lib\\site-packages (from xgboost) (1.21.4)\n"
     ]
    }
   ],
   "source": [
    "#updating libraries\n",
    "!pip install pandas -U\n",
    "!pip install seaborn -U\n",
    "!pip install scikit-learn -U\n",
    "!pip install catboost -U\n",
    "!pip install lightgbm -U\n",
    "!pip install xgboost -U"
   ]
  },
  {
   "cell_type": "code",
   "execution_count": 2,
   "id": "70ada3d3",
   "metadata": {},
   "outputs": [],
   "source": [
    "#imports\n",
    "import numpy as np\n",
    "import pandas as pd\n",
    "import matplotlib.pyplot as plt\n",
    "import seaborn as sns\n",
    "\n",
    "from sklearn.model_selection import cross_val_score\n",
    "from sklearn.model_selection import train_test_split\n",
    "from sklearn.model_selection import RepeatedStratifiedKFold\n",
    "from sklearn.tree import DecisionTreeClassifier\n",
    "from sklearn.ensemble import RandomForestClassifier\n",
    "from sklearn.metrics import roc_auc_score\n",
    "from sklearn.metrics import accuracy_score\n",
    "from sklearn.model_selection import GridSearchCV\n",
    "from sklearn.ensemble import GradientBoostingClassifier\n",
    "import lightgbm as lgb\n",
    "import xgboost as xgb\n",
    "from sklearn.metrics import RocCurveDisplay"
   ]
  },
  {
   "cell_type": "code",
   "execution_count": 3,
   "id": "ea60fd9f",
   "metadata": {},
   "outputs": [],
   "source": [
    "# definitions\n",
    "pd.options.display.float_format = '{:,.2f}'.format\n",
    "state = np.random.RandomState(12345)"
   ]
  },
  {
   "cell_type": "code",
   "execution_count": 4,
   "id": "5c1968c0",
   "metadata": {},
   "outputs": [],
   "source": [
    "# delete error messages\n",
    "import sys\n",
    "import warnings\n",
    "if not sys.warnoptions:\n",
    "    warnings.simplefilter(\"ignore\")"
   ]
  },
  {
   "cell_type": "markdown",
   "id": "1e7ed858",
   "metadata": {},
   "source": [
    "# Read and analyze the data"
   ]
  },
  {
   "cell_type": "markdown",
   "id": "285d5d93",
   "metadata": {},
   "source": [
    "## Loading the data"
   ]
  },
  {
   "cell_type": "code",
   "execution_count": 5,
   "id": "bf5b1e96",
   "metadata": {
    "scrolled": false
   },
   "outputs": [],
   "source": [
    "# read input data\n",
    "try:\n",
    "    contract = pd.read_csv('contract.csv', sep=',')\n",
    "    personal = pd.read_csv('personal.csv', sep=',')\n",
    "    internet = pd.read_csv('internet.csv', sep=',')\n",
    "    phone = pd.read_csv('phone.csv', sep=',')\n",
    "except:\n",
    "    contract = pd.read_csv(\"/datasets/final_provider/contract.csv\", sep=',')\n",
    "    personal = pd.read_csv(\"/datasets/final_provider//personal.csv\", sep=',')\n",
    "    internet = pd.read_csv(\"/datasets/final_provider/internet.csv\", sep=',')\n",
    "    phone = pd.read_csv(\"/datasets/final_provider/phone.csv\", sep=',')\n",
    "contract.name='contract data'\n",
    "personal.name='personal data'\n",
    "internet.name='internet data'\n",
    "phone.name='phone data'\n",
    "df_list=[contract,personal,internet,phone]"
   ]
  },
  {
   "cell_type": "markdown",
   "id": "26b5deb4",
   "metadata": {},
   "source": [
    "## looking at the data"
   ]
  },
  {
   "cell_type": "code",
   "execution_count": 6,
   "id": "1b841fcc",
   "metadata": {},
   "outputs": [
    {
     "name": "stdout",
     "output_type": "stream",
     "text": [
      "contract data\n"
     ]
    },
    {
     "data": {
      "text/html": [
       "<div>\n",
       "<style scoped>\n",
       "    .dataframe tbody tr th:only-of-type {\n",
       "        vertical-align: middle;\n",
       "    }\n",
       "\n",
       "    .dataframe tbody tr th {\n",
       "        vertical-align: top;\n",
       "    }\n",
       "\n",
       "    .dataframe thead th {\n",
       "        text-align: right;\n",
       "    }\n",
       "</style>\n",
       "<table border=\"1\" class=\"dataframe\">\n",
       "  <thead>\n",
       "    <tr style=\"text-align: right;\">\n",
       "      <th></th>\n",
       "      <th>customerID</th>\n",
       "      <th>BeginDate</th>\n",
       "      <th>EndDate</th>\n",
       "      <th>Type</th>\n",
       "      <th>PaperlessBilling</th>\n",
       "      <th>PaymentMethod</th>\n",
       "      <th>MonthlyCharges</th>\n",
       "      <th>TotalCharges</th>\n",
       "    </tr>\n",
       "  </thead>\n",
       "  <tbody>\n",
       "    <tr>\n",
       "      <th>0</th>\n",
       "      <td>7590-VHVEG</td>\n",
       "      <td>2020-01-01</td>\n",
       "      <td>No</td>\n",
       "      <td>Month-to-month</td>\n",
       "      <td>Yes</td>\n",
       "      <td>Electronic check</td>\n",
       "      <td>29.85</td>\n",
       "      <td>29.85</td>\n",
       "    </tr>\n",
       "    <tr>\n",
       "      <th>1</th>\n",
       "      <td>5575-GNVDE</td>\n",
       "      <td>2017-04-01</td>\n",
       "      <td>No</td>\n",
       "      <td>One year</td>\n",
       "      <td>No</td>\n",
       "      <td>Mailed check</td>\n",
       "      <td>56.95</td>\n",
       "      <td>1889.5</td>\n",
       "    </tr>\n",
       "    <tr>\n",
       "      <th>2</th>\n",
       "      <td>3668-QPYBK</td>\n",
       "      <td>2019-10-01</td>\n",
       "      <td>2019-12-01 00:00:00</td>\n",
       "      <td>Month-to-month</td>\n",
       "      <td>Yes</td>\n",
       "      <td>Mailed check</td>\n",
       "      <td>53.85</td>\n",
       "      <td>108.15</td>\n",
       "    </tr>\n",
       "    <tr>\n",
       "      <th>3</th>\n",
       "      <td>7795-CFOCW</td>\n",
       "      <td>2016-05-01</td>\n",
       "      <td>No</td>\n",
       "      <td>One year</td>\n",
       "      <td>No</td>\n",
       "      <td>Bank transfer (automatic)</td>\n",
       "      <td>42.30</td>\n",
       "      <td>1840.75</td>\n",
       "    </tr>\n",
       "    <tr>\n",
       "      <th>4</th>\n",
       "      <td>9237-HQITU</td>\n",
       "      <td>2019-09-01</td>\n",
       "      <td>2019-11-01 00:00:00</td>\n",
       "      <td>Month-to-month</td>\n",
       "      <td>Yes</td>\n",
       "      <td>Electronic check</td>\n",
       "      <td>70.70</td>\n",
       "      <td>151.65</td>\n",
       "    </tr>\n",
       "  </tbody>\n",
       "</table>\n",
       "</div>"
      ],
      "text/plain": [
       "   customerID   BeginDate              EndDate            Type  \\\n",
       "0  7590-VHVEG  2020-01-01                   No  Month-to-month   \n",
       "1  5575-GNVDE  2017-04-01                   No        One year   \n",
       "2  3668-QPYBK  2019-10-01  2019-12-01 00:00:00  Month-to-month   \n",
       "3  7795-CFOCW  2016-05-01                   No        One year   \n",
       "4  9237-HQITU  2019-09-01  2019-11-01 00:00:00  Month-to-month   \n",
       "\n",
       "  PaperlessBilling              PaymentMethod  MonthlyCharges TotalCharges  \n",
       "0              Yes           Electronic check           29.85        29.85  \n",
       "1               No               Mailed check           56.95       1889.5  \n",
       "2              Yes               Mailed check           53.85       108.15  \n",
       "3               No  Bank transfer (automatic)           42.30      1840.75  \n",
       "4              Yes           Electronic check           70.70       151.65  "
      ]
     },
     "metadata": {},
     "output_type": "display_data"
    },
    {
     "name": "stdout",
     "output_type": "stream",
     "text": [
      "\n",
      "personal data\n"
     ]
    },
    {
     "data": {
      "text/html": [
       "<div>\n",
       "<style scoped>\n",
       "    .dataframe tbody tr th:only-of-type {\n",
       "        vertical-align: middle;\n",
       "    }\n",
       "\n",
       "    .dataframe tbody tr th {\n",
       "        vertical-align: top;\n",
       "    }\n",
       "\n",
       "    .dataframe thead th {\n",
       "        text-align: right;\n",
       "    }\n",
       "</style>\n",
       "<table border=\"1\" class=\"dataframe\">\n",
       "  <thead>\n",
       "    <tr style=\"text-align: right;\">\n",
       "      <th></th>\n",
       "      <th>customerID</th>\n",
       "      <th>gender</th>\n",
       "      <th>SeniorCitizen</th>\n",
       "      <th>Partner</th>\n",
       "      <th>Dependents</th>\n",
       "    </tr>\n",
       "  </thead>\n",
       "  <tbody>\n",
       "    <tr>\n",
       "      <th>0</th>\n",
       "      <td>7590-VHVEG</td>\n",
       "      <td>Female</td>\n",
       "      <td>0</td>\n",
       "      <td>Yes</td>\n",
       "      <td>No</td>\n",
       "    </tr>\n",
       "    <tr>\n",
       "      <th>1</th>\n",
       "      <td>5575-GNVDE</td>\n",
       "      <td>Male</td>\n",
       "      <td>0</td>\n",
       "      <td>No</td>\n",
       "      <td>No</td>\n",
       "    </tr>\n",
       "    <tr>\n",
       "      <th>2</th>\n",
       "      <td>3668-QPYBK</td>\n",
       "      <td>Male</td>\n",
       "      <td>0</td>\n",
       "      <td>No</td>\n",
       "      <td>No</td>\n",
       "    </tr>\n",
       "    <tr>\n",
       "      <th>3</th>\n",
       "      <td>7795-CFOCW</td>\n",
       "      <td>Male</td>\n",
       "      <td>0</td>\n",
       "      <td>No</td>\n",
       "      <td>No</td>\n",
       "    </tr>\n",
       "    <tr>\n",
       "      <th>4</th>\n",
       "      <td>9237-HQITU</td>\n",
       "      <td>Female</td>\n",
       "      <td>0</td>\n",
       "      <td>No</td>\n",
       "      <td>No</td>\n",
       "    </tr>\n",
       "  </tbody>\n",
       "</table>\n",
       "</div>"
      ],
      "text/plain": [
       "   customerID  gender  SeniorCitizen Partner Dependents\n",
       "0  7590-VHVEG  Female              0     Yes         No\n",
       "1  5575-GNVDE    Male              0      No         No\n",
       "2  3668-QPYBK    Male              0      No         No\n",
       "3  7795-CFOCW    Male              0      No         No\n",
       "4  9237-HQITU  Female              0      No         No"
      ]
     },
     "metadata": {},
     "output_type": "display_data"
    },
    {
     "name": "stdout",
     "output_type": "stream",
     "text": [
      "\n",
      "internet data\n"
     ]
    },
    {
     "data": {
      "text/html": [
       "<div>\n",
       "<style scoped>\n",
       "    .dataframe tbody tr th:only-of-type {\n",
       "        vertical-align: middle;\n",
       "    }\n",
       "\n",
       "    .dataframe tbody tr th {\n",
       "        vertical-align: top;\n",
       "    }\n",
       "\n",
       "    .dataframe thead th {\n",
       "        text-align: right;\n",
       "    }\n",
       "</style>\n",
       "<table border=\"1\" class=\"dataframe\">\n",
       "  <thead>\n",
       "    <tr style=\"text-align: right;\">\n",
       "      <th></th>\n",
       "      <th>customerID</th>\n",
       "      <th>InternetService</th>\n",
       "      <th>OnlineSecurity</th>\n",
       "      <th>OnlineBackup</th>\n",
       "      <th>DeviceProtection</th>\n",
       "      <th>TechSupport</th>\n",
       "      <th>StreamingTV</th>\n",
       "      <th>StreamingMovies</th>\n",
       "    </tr>\n",
       "  </thead>\n",
       "  <tbody>\n",
       "    <tr>\n",
       "      <th>0</th>\n",
       "      <td>7590-VHVEG</td>\n",
       "      <td>DSL</td>\n",
       "      <td>No</td>\n",
       "      <td>Yes</td>\n",
       "      <td>No</td>\n",
       "      <td>No</td>\n",
       "      <td>No</td>\n",
       "      <td>No</td>\n",
       "    </tr>\n",
       "    <tr>\n",
       "      <th>1</th>\n",
       "      <td>5575-GNVDE</td>\n",
       "      <td>DSL</td>\n",
       "      <td>Yes</td>\n",
       "      <td>No</td>\n",
       "      <td>Yes</td>\n",
       "      <td>No</td>\n",
       "      <td>No</td>\n",
       "      <td>No</td>\n",
       "    </tr>\n",
       "    <tr>\n",
       "      <th>2</th>\n",
       "      <td>3668-QPYBK</td>\n",
       "      <td>DSL</td>\n",
       "      <td>Yes</td>\n",
       "      <td>Yes</td>\n",
       "      <td>No</td>\n",
       "      <td>No</td>\n",
       "      <td>No</td>\n",
       "      <td>No</td>\n",
       "    </tr>\n",
       "    <tr>\n",
       "      <th>3</th>\n",
       "      <td>7795-CFOCW</td>\n",
       "      <td>DSL</td>\n",
       "      <td>Yes</td>\n",
       "      <td>No</td>\n",
       "      <td>Yes</td>\n",
       "      <td>Yes</td>\n",
       "      <td>No</td>\n",
       "      <td>No</td>\n",
       "    </tr>\n",
       "    <tr>\n",
       "      <th>4</th>\n",
       "      <td>9237-HQITU</td>\n",
       "      <td>Fiber optic</td>\n",
       "      <td>No</td>\n",
       "      <td>No</td>\n",
       "      <td>No</td>\n",
       "      <td>No</td>\n",
       "      <td>No</td>\n",
       "      <td>No</td>\n",
       "    </tr>\n",
       "  </tbody>\n",
       "</table>\n",
       "</div>"
      ],
      "text/plain": [
       "   customerID InternetService OnlineSecurity OnlineBackup DeviceProtection  \\\n",
       "0  7590-VHVEG             DSL             No          Yes               No   \n",
       "1  5575-GNVDE             DSL            Yes           No              Yes   \n",
       "2  3668-QPYBK             DSL            Yes          Yes               No   \n",
       "3  7795-CFOCW             DSL            Yes           No              Yes   \n",
       "4  9237-HQITU     Fiber optic             No           No               No   \n",
       "\n",
       "  TechSupport StreamingTV StreamingMovies  \n",
       "0          No          No              No  \n",
       "1          No          No              No  \n",
       "2          No          No              No  \n",
       "3         Yes          No              No  \n",
       "4          No          No              No  "
      ]
     },
     "metadata": {},
     "output_type": "display_data"
    },
    {
     "name": "stdout",
     "output_type": "stream",
     "text": [
      "\n",
      "phone data\n"
     ]
    },
    {
     "data": {
      "text/html": [
       "<div>\n",
       "<style scoped>\n",
       "    .dataframe tbody tr th:only-of-type {\n",
       "        vertical-align: middle;\n",
       "    }\n",
       "\n",
       "    .dataframe tbody tr th {\n",
       "        vertical-align: top;\n",
       "    }\n",
       "\n",
       "    .dataframe thead th {\n",
       "        text-align: right;\n",
       "    }\n",
       "</style>\n",
       "<table border=\"1\" class=\"dataframe\">\n",
       "  <thead>\n",
       "    <tr style=\"text-align: right;\">\n",
       "      <th></th>\n",
       "      <th>customerID</th>\n",
       "      <th>MultipleLines</th>\n",
       "    </tr>\n",
       "  </thead>\n",
       "  <tbody>\n",
       "    <tr>\n",
       "      <th>0</th>\n",
       "      <td>5575-GNVDE</td>\n",
       "      <td>No</td>\n",
       "    </tr>\n",
       "    <tr>\n",
       "      <th>1</th>\n",
       "      <td>3668-QPYBK</td>\n",
       "      <td>No</td>\n",
       "    </tr>\n",
       "    <tr>\n",
       "      <th>2</th>\n",
       "      <td>9237-HQITU</td>\n",
       "      <td>No</td>\n",
       "    </tr>\n",
       "    <tr>\n",
       "      <th>3</th>\n",
       "      <td>9305-CDSKC</td>\n",
       "      <td>Yes</td>\n",
       "    </tr>\n",
       "    <tr>\n",
       "      <th>4</th>\n",
       "      <td>1452-KIOVK</td>\n",
       "      <td>Yes</td>\n",
       "    </tr>\n",
       "  </tbody>\n",
       "</table>\n",
       "</div>"
      ],
      "text/plain": [
       "   customerID MultipleLines\n",
       "0  5575-GNVDE            No\n",
       "1  3668-QPYBK            No\n",
       "2  9237-HQITU            No\n",
       "3  9305-CDSKC           Yes\n",
       "4  1452-KIOVK           Yes"
      ]
     },
     "metadata": {},
     "output_type": "display_data"
    },
    {
     "name": "stdout",
     "output_type": "stream",
     "text": [
      "\n"
     ]
    }
   ],
   "source": [
    "for df in df_list:\n",
    "    print(df.name)\n",
    "    display(df.head())\n",
    "    print()"
   ]
  },
  {
   "cell_type": "markdown",
   "id": "8c9f57c9",
   "metadata": {},
   "source": [
    "## Merging the data"
   ]
  },
  {
   "cell_type": "code",
   "execution_count": 7,
   "id": "711ae380",
   "metadata": {},
   "outputs": [
    {
     "data": {
      "text/html": [
       "<div>\n",
       "<style scoped>\n",
       "    .dataframe tbody tr th:only-of-type {\n",
       "        vertical-align: middle;\n",
       "    }\n",
       "\n",
       "    .dataframe tbody tr th {\n",
       "        vertical-align: top;\n",
       "    }\n",
       "\n",
       "    .dataframe thead th {\n",
       "        text-align: right;\n",
       "    }\n",
       "</style>\n",
       "<table border=\"1\" class=\"dataframe\">\n",
       "  <thead>\n",
       "    <tr style=\"text-align: right;\">\n",
       "      <th></th>\n",
       "      <th>customerID</th>\n",
       "      <th>gender</th>\n",
       "      <th>SeniorCitizen</th>\n",
       "      <th>Partner</th>\n",
       "      <th>Dependents</th>\n",
       "      <th>BeginDate</th>\n",
       "      <th>EndDate</th>\n",
       "      <th>Type</th>\n",
       "      <th>PaperlessBilling</th>\n",
       "      <th>PaymentMethod</th>\n",
       "      <th>MonthlyCharges</th>\n",
       "      <th>TotalCharges</th>\n",
       "      <th>InternetService</th>\n",
       "      <th>OnlineSecurity</th>\n",
       "      <th>OnlineBackup</th>\n",
       "      <th>DeviceProtection</th>\n",
       "      <th>TechSupport</th>\n",
       "      <th>StreamingTV</th>\n",
       "      <th>StreamingMovies</th>\n",
       "      <th>MultipleLines</th>\n",
       "    </tr>\n",
       "  </thead>\n",
       "  <tbody>\n",
       "    <tr>\n",
       "      <th>0</th>\n",
       "      <td>7590-VHVEG</td>\n",
       "      <td>Female</td>\n",
       "      <td>0</td>\n",
       "      <td>Yes</td>\n",
       "      <td>No</td>\n",
       "      <td>2020-01-01</td>\n",
       "      <td>No</td>\n",
       "      <td>Month-to-month</td>\n",
       "      <td>Yes</td>\n",
       "      <td>Electronic check</td>\n",
       "      <td>29.85</td>\n",
       "      <td>29.85</td>\n",
       "      <td>DSL</td>\n",
       "      <td>No</td>\n",
       "      <td>Yes</td>\n",
       "      <td>No</td>\n",
       "      <td>No</td>\n",
       "      <td>No</td>\n",
       "      <td>No</td>\n",
       "      <td>NaN</td>\n",
       "    </tr>\n",
       "    <tr>\n",
       "      <th>1</th>\n",
       "      <td>5575-GNVDE</td>\n",
       "      <td>Male</td>\n",
       "      <td>0</td>\n",
       "      <td>No</td>\n",
       "      <td>No</td>\n",
       "      <td>2017-04-01</td>\n",
       "      <td>No</td>\n",
       "      <td>One year</td>\n",
       "      <td>No</td>\n",
       "      <td>Mailed check</td>\n",
       "      <td>56.95</td>\n",
       "      <td>1889.5</td>\n",
       "      <td>DSL</td>\n",
       "      <td>Yes</td>\n",
       "      <td>No</td>\n",
       "      <td>Yes</td>\n",
       "      <td>No</td>\n",
       "      <td>No</td>\n",
       "      <td>No</td>\n",
       "      <td>No</td>\n",
       "    </tr>\n",
       "    <tr>\n",
       "      <th>2</th>\n",
       "      <td>3668-QPYBK</td>\n",
       "      <td>Male</td>\n",
       "      <td>0</td>\n",
       "      <td>No</td>\n",
       "      <td>No</td>\n",
       "      <td>2019-10-01</td>\n",
       "      <td>2019-12-01 00:00:00</td>\n",
       "      <td>Month-to-month</td>\n",
       "      <td>Yes</td>\n",
       "      <td>Mailed check</td>\n",
       "      <td>53.85</td>\n",
       "      <td>108.15</td>\n",
       "      <td>DSL</td>\n",
       "      <td>Yes</td>\n",
       "      <td>Yes</td>\n",
       "      <td>No</td>\n",
       "      <td>No</td>\n",
       "      <td>No</td>\n",
       "      <td>No</td>\n",
       "      <td>No</td>\n",
       "    </tr>\n",
       "    <tr>\n",
       "      <th>3</th>\n",
       "      <td>7795-CFOCW</td>\n",
       "      <td>Male</td>\n",
       "      <td>0</td>\n",
       "      <td>No</td>\n",
       "      <td>No</td>\n",
       "      <td>2016-05-01</td>\n",
       "      <td>No</td>\n",
       "      <td>One year</td>\n",
       "      <td>No</td>\n",
       "      <td>Bank transfer (automatic)</td>\n",
       "      <td>42.30</td>\n",
       "      <td>1840.75</td>\n",
       "      <td>DSL</td>\n",
       "      <td>Yes</td>\n",
       "      <td>No</td>\n",
       "      <td>Yes</td>\n",
       "      <td>Yes</td>\n",
       "      <td>No</td>\n",
       "      <td>No</td>\n",
       "      <td>NaN</td>\n",
       "    </tr>\n",
       "    <tr>\n",
       "      <th>4</th>\n",
       "      <td>9237-HQITU</td>\n",
       "      <td>Female</td>\n",
       "      <td>0</td>\n",
       "      <td>No</td>\n",
       "      <td>No</td>\n",
       "      <td>2019-09-01</td>\n",
       "      <td>2019-11-01 00:00:00</td>\n",
       "      <td>Month-to-month</td>\n",
       "      <td>Yes</td>\n",
       "      <td>Electronic check</td>\n",
       "      <td>70.70</td>\n",
       "      <td>151.65</td>\n",
       "      <td>Fiber optic</td>\n",
       "      <td>No</td>\n",
       "      <td>No</td>\n",
       "      <td>No</td>\n",
       "      <td>No</td>\n",
       "      <td>No</td>\n",
       "      <td>No</td>\n",
       "      <td>No</td>\n",
       "    </tr>\n",
       "  </tbody>\n",
       "</table>\n",
       "</div>"
      ],
      "text/plain": [
       "   customerID  gender  SeniorCitizen Partner Dependents   BeginDate  \\\n",
       "0  7590-VHVEG  Female              0     Yes         No  2020-01-01   \n",
       "1  5575-GNVDE    Male              0      No         No  2017-04-01   \n",
       "2  3668-QPYBK    Male              0      No         No  2019-10-01   \n",
       "3  7795-CFOCW    Male              0      No         No  2016-05-01   \n",
       "4  9237-HQITU  Female              0      No         No  2019-09-01   \n",
       "\n",
       "               EndDate            Type PaperlessBilling  \\\n",
       "0                   No  Month-to-month              Yes   \n",
       "1                   No        One year               No   \n",
       "2  2019-12-01 00:00:00  Month-to-month              Yes   \n",
       "3                   No        One year               No   \n",
       "4  2019-11-01 00:00:00  Month-to-month              Yes   \n",
       "\n",
       "               PaymentMethod  MonthlyCharges TotalCharges InternetService  \\\n",
       "0           Electronic check           29.85        29.85             DSL   \n",
       "1               Mailed check           56.95       1889.5             DSL   \n",
       "2               Mailed check           53.85       108.15             DSL   \n",
       "3  Bank transfer (automatic)           42.30      1840.75             DSL   \n",
       "4           Electronic check           70.70       151.65     Fiber optic   \n",
       "\n",
       "  OnlineSecurity OnlineBackup DeviceProtection TechSupport StreamingTV  \\\n",
       "0             No          Yes               No          No          No   \n",
       "1            Yes           No              Yes          No          No   \n",
       "2            Yes          Yes               No          No          No   \n",
       "3            Yes           No              Yes         Yes          No   \n",
       "4             No           No               No          No          No   \n",
       "\n",
       "  StreamingMovies MultipleLines  \n",
       "0              No           NaN  \n",
       "1              No            No  \n",
       "2              No            No  \n",
       "3              No           NaN  \n",
       "4              No            No  "
      ]
     },
     "execution_count": 7,
     "metadata": {},
     "output_type": "execute_result"
    }
   ],
   "source": [
    "df=pd.merge(left=personal,right=contract,how='outer',on='customerID')\n",
    "df = pd.merge(left=df,right=internet,how='outer',on='customerID')\n",
    "df = pd.merge(left=df,right=phone,how='outer',on='customerID')\n",
    "df.head()"
   ]
  },
  {
   "cell_type": "code",
   "execution_count": 8,
   "id": "4c4ae4bb",
   "metadata": {},
   "outputs": [
    {
     "name": "stdout",
     "output_type": "stream",
     "text": [
      "<class 'pandas.core.frame.DataFrame'>\n",
      "Int64Index: 7043 entries, 0 to 7042\n",
      "Data columns (total 20 columns):\n",
      " #   Column            Non-Null Count  Dtype  \n",
      "---  ------            --------------  -----  \n",
      " 0   customerID        7043 non-null   object \n",
      " 1   gender            7043 non-null   object \n",
      " 2   SeniorCitizen     7043 non-null   int64  \n",
      " 3   Partner           7043 non-null   object \n",
      " 4   Dependents        7043 non-null   object \n",
      " 5   BeginDate         7043 non-null   object \n",
      " 6   EndDate           7043 non-null   object \n",
      " 7   Type              7043 non-null   object \n",
      " 8   PaperlessBilling  7043 non-null   object \n",
      " 9   PaymentMethod     7043 non-null   object \n",
      " 10  MonthlyCharges    7043 non-null   float64\n",
      " 11  TotalCharges      7043 non-null   object \n",
      " 12  InternetService   5517 non-null   object \n",
      " 13  OnlineSecurity    5517 non-null   object \n",
      " 14  OnlineBackup      5517 non-null   object \n",
      " 15  DeviceProtection  5517 non-null   object \n",
      " 16  TechSupport       5517 non-null   object \n",
      " 17  StreamingTV       5517 non-null   object \n",
      " 18  StreamingMovies   5517 non-null   object \n",
      " 19  MultipleLines     6361 non-null   object \n",
      "dtypes: float64(1), int64(1), object(18)\n",
      "memory usage: 1.1+ MB\n"
     ]
    }
   ],
   "source": [
    "df.info()"
   ]
  },
  {
   "cell_type": "code",
   "execution_count": 9,
   "id": "702bb1fd",
   "metadata": {},
   "outputs": [
    {
     "data": {
      "text/plain": [
       "(7043, 20)"
      ]
     },
     "execution_count": 9,
     "metadata": {},
     "output_type": "execute_result"
    }
   ],
   "source": [
    "df.shape"
   ]
  },
  {
   "cell_type": "markdown",
   "id": "ee04c382",
   "metadata": {},
   "source": [
    "conclusion:\n",
    "1. The dataframe has 7,042 observation (rows)\n",
    "2.    The dataframe has 20 columns\n",
    "3.    There are missing values - not every customer has Internet or Landline communication\n"
   ]
  },
  {
   "cell_type": "markdown",
   "id": "a44801be",
   "metadata": {},
   "source": [
    "## missing values"
   ]
  },
  {
   "cell_type": "code",
   "execution_count": 10,
   "id": "2b843448",
   "metadata": {},
   "outputs": [
    {
     "data": {
      "text/plain": [
       "customerID             0\n",
       "gender                 0\n",
       "SeniorCitizen          0\n",
       "Partner                0\n",
       "Dependents             0\n",
       "BeginDate              0\n",
       "EndDate                0\n",
       "Type                   0\n",
       "PaperlessBilling       0\n",
       "PaymentMethod          0\n",
       "MonthlyCharges         0\n",
       "TotalCharges           0\n",
       "InternetService     1526\n",
       "OnlineSecurity      1526\n",
       "OnlineBackup        1526\n",
       "DeviceProtection    1526\n",
       "TechSupport         1526\n",
       "StreamingTV         1526\n",
       "StreamingMovies     1526\n",
       "MultipleLines        682\n",
       "dtype: int64"
      ]
     },
     "execution_count": 10,
     "metadata": {},
     "output_type": "execute_result"
    }
   ],
   "source": [
    "df.isnull().sum()"
   ]
  },
  {
   "cell_type": "markdown",
   "id": "37ecb7b0",
   "metadata": {},
   "source": [
    "The missing values are from the `internet` and the `phone` data frames.\n"
   ]
  },
  {
   "cell_type": "code",
   "execution_count": 11,
   "id": "aba04f7f",
   "metadata": {},
   "outputs": [],
   "source": [
    "df['InternetService']=df['InternetService'].fillna('No_internet')"
   ]
  },
  {
   "cell_type": "code",
   "execution_count": 12,
   "id": "7ae04ea1",
   "metadata": {},
   "outputs": [],
   "source": [
    "df=df.fillna('No')"
   ]
  },
  {
   "cell_type": "markdown",
   "id": "d962122c",
   "metadata": {},
   "source": [
    "## Changing data type"
   ]
  },
  {
   "cell_type": "code",
   "execution_count": 13,
   "id": "16d8c8fa",
   "metadata": {},
   "outputs": [
    {
     "name": "stdout",
     "output_type": "stream",
     "text": [
      "customerID\n",
      "7590-VHVEG    1\n",
      "3791-LGQCY    1\n",
      "6008-NAIXK    1\n",
      "5956-YHHRX    1\n",
      "5365-LLFYV    1\n",
      "             ..\n",
      "9796-MVYXX    1\n",
      "2637-FKFSY    1\n",
      "1552-AAGRX    1\n",
      "4304-TSPVK    1\n",
      "3186-AJIEK    1\n",
      "Name: customerID, Length: 7043, dtype: int64\n",
      "\n",
      "gender\n",
      "Male      3555\n",
      "Female    3488\n",
      "Name: gender, dtype: int64\n",
      "\n",
      "SeniorCitizen\n",
      "0    5901\n",
      "1    1142\n",
      "Name: SeniorCitizen, dtype: int64\n",
      "\n",
      "Partner\n",
      "No     3641\n",
      "Yes    3402\n",
      "Name: Partner, dtype: int64\n",
      "\n",
      "Dependents\n",
      "No     4933\n",
      "Yes    2110\n",
      "Name: Dependents, dtype: int64\n",
      "\n",
      "BeginDate\n",
      "2014-02-01    366\n",
      "2019-10-01    237\n",
      "2019-11-01    237\n",
      "2019-09-01    237\n",
      "2020-01-01    233\n",
      "             ... \n",
      "2020-02-01     11\n",
      "2014-01-01      7\n",
      "2013-10-01      3\n",
      "2013-12-01      3\n",
      "2013-11-01      2\n",
      "Name: BeginDate, Length: 77, dtype: int64\n",
      "\n",
      "EndDate\n",
      "No                     5174\n",
      "2019-11-01 00:00:00     485\n",
      "2019-12-01 00:00:00     466\n",
      "2020-01-01 00:00:00     460\n",
      "2019-10-01 00:00:00     458\n",
      "Name: EndDate, dtype: int64\n",
      "\n",
      "Type\n",
      "Month-to-month    3875\n",
      "Two year          1695\n",
      "One year          1473\n",
      "Name: Type, dtype: int64\n",
      "\n",
      "PaperlessBilling\n",
      "Yes    4171\n",
      "No     2872\n",
      "Name: PaperlessBilling, dtype: int64\n",
      "\n",
      "PaymentMethod\n",
      "Electronic check             2365\n",
      "Mailed check                 1612\n",
      "Bank transfer (automatic)    1544\n",
      "Credit card (automatic)      1522\n",
      "Name: PaymentMethod, dtype: int64\n",
      "\n",
      "MonthlyCharges\n",
      "20.05     61\n",
      "19.85     45\n",
      "19.95     44\n",
      "19.90     44\n",
      "20.00     43\n",
      "          ..\n",
      "23.65      1\n",
      "114.70     1\n",
      "43.65      1\n",
      "87.80      1\n",
      "78.70      1\n",
      "Name: MonthlyCharges, Length: 1585, dtype: int64\n",
      "\n",
      "TotalCharges\n",
      "          11\n",
      "20.2      11\n",
      "19.75      9\n",
      "20.05      8\n",
      "19.9       8\n",
      "          ..\n",
      "6849.4     1\n",
      "692.35     1\n",
      "130.15     1\n",
      "3211.9     1\n",
      "6844.5     1\n",
      "Name: TotalCharges, Length: 6531, dtype: int64\n",
      "\n",
      "InternetService\n",
      "Fiber optic    3096\n",
      "DSL            2421\n",
      "No_internet    1526\n",
      "Name: InternetService, dtype: int64\n",
      "\n",
      "OnlineSecurity\n",
      "No     5024\n",
      "Yes    2019\n",
      "Name: OnlineSecurity, dtype: int64\n",
      "\n",
      "OnlineBackup\n",
      "No     4614\n",
      "Yes    2429\n",
      "Name: OnlineBackup, dtype: int64\n",
      "\n",
      "DeviceProtection\n",
      "No     4621\n",
      "Yes    2422\n",
      "Name: DeviceProtection, dtype: int64\n",
      "\n",
      "TechSupport\n",
      "No     4999\n",
      "Yes    2044\n",
      "Name: TechSupport, dtype: int64\n",
      "\n",
      "StreamingTV\n",
      "No     4336\n",
      "Yes    2707\n",
      "Name: StreamingTV, dtype: int64\n",
      "\n",
      "StreamingMovies\n",
      "No     4311\n",
      "Yes    2732\n",
      "Name: StreamingMovies, dtype: int64\n",
      "\n",
      "MultipleLines\n",
      "No     4072\n",
      "Yes    2971\n",
      "Name: MultipleLines, dtype: int64\n",
      "\n"
     ]
    }
   ],
   "source": [
    "for co in df.columns:\n",
    "    print(co)\n",
    "    print(df[co].value_counts())\n",
    "    print()"
   ]
  },
  {
   "cell_type": "code",
   "execution_count": 14,
   "id": "32d603de",
   "metadata": {},
   "outputs": [],
   "source": [
    "df['gender']=df['gender'].astype('category')\n",
    "df['Partner']=df['Partner'].astype('category')\n",
    "df['Dependents']=df['Dependents'].astype('category')\n",
    "df['Type']=df['Type'].astype('category')\n",
    "df['PaperlessBilling']=df['PaperlessBilling'].astype('category')\n",
    "df['PaymentMethod']=df['PaymentMethod'].astype('category')\n",
    "df['InternetService']=df['InternetService'].astype('category')\n",
    "df['OnlineSecurity']=df['OnlineSecurity'].astype('category')\n",
    "df['OnlineBackup']=df['OnlineBackup'].astype('category')\n",
    "df['DeviceProtection']=df['DeviceProtection'].astype('category')\n",
    "df['TechSupport']=df['TechSupport'].astype('category')\n",
    "df['StreamingTV']=df['StreamingTV'].astype('category')\n",
    "df['StreamingMovies']=df['StreamingMovies'].astype('category')\n",
    "df['MultipleLines']=df['MultipleLines'].astype('category')"
   ]
  },
  {
   "cell_type": "code",
   "execution_count": 15,
   "id": "e2f1b606",
   "metadata": {},
   "outputs": [],
   "source": [
    "df['TotalCharges']=df['TotalCharges'].replace(to_replace=' ',value=0)\n",
    "df['TotalCharges']=df['TotalCharges'].astype('float64')"
   ]
  },
  {
   "cell_type": "code",
   "execution_count": 16,
   "id": "0263907e",
   "metadata": {},
   "outputs": [],
   "source": [
    "df['BeginDate']=pd.to_datetime(df['BeginDate'])"
   ]
  },
  {
   "cell_type": "code",
   "execution_count": 17,
   "id": "ba7315a1",
   "metadata": {},
   "outputs": [],
   "source": [
    "df['EndDate']=df['EndDate'].replace(to_replace='No',value=0)\n",
    "df['EndDate']=pd.to_datetime(df['EndDate'])\n",
    "df['ED']=df['EndDate'].copy()\n",
    "df['EndDate']=df['EndDate'].replace(to_replace={'1970-01-01':0,'2019-10-01':1,'2019-11-01':1,'2019-12-01':1,'2020-01-01':1})\n",
    "df['stopped']=df['EndDate'].copy()\n",
    "df['EndDate']=df['ED']\n",
    "df=df.drop('ED',axis=1)"
   ]
  },
  {
   "cell_type": "code",
   "execution_count": 18,
   "id": "8b47d330",
   "metadata": {},
   "outputs": [
    {
     "data": {
      "text/plain": [
       "0     1\n",
       "1    34\n",
       "2     4\n",
       "3    45\n",
       "4     5\n",
       "Name: period, dtype: int64"
      ]
     },
     "execution_count": 18,
     "metadata": {},
     "output_type": "execute_result"
    }
   ],
   "source": [
    "df['period']= (pd.to_datetime('2020-02-01')- df['BeginDate']).dt.days//30\n",
    "df['period'].head()"
   ]
  },
  {
   "cell_type": "markdown",
   "id": "1a253434",
   "metadata": {},
   "source": [
    "The data if for 2020 February 1st. The period column is the number of days a customer is with the company. We don't need the BeginDate and the EndDate, so we will delete them."
   ]
  },
  {
   "cell_type": "code",
   "execution_count": 19,
   "id": "0d11627d",
   "metadata": {},
   "outputs": [
    {
     "name": "stdout",
     "output_type": "stream",
     "text": [
      "<class 'pandas.core.frame.DataFrame'>\n",
      "Int64Index: 7043 entries, 0 to 7042\n",
      "Data columns (total 19 columns):\n",
      " #   Column            Non-Null Count  Dtype   \n",
      "---  ------            --------------  -----   \n",
      " 0   gender            7043 non-null   category\n",
      " 1   SeniorCitizen     7043 non-null   int64   \n",
      " 2   Partner           7043 non-null   category\n",
      " 3   Dependents        7043 non-null   category\n",
      " 4   Type              7043 non-null   category\n",
      " 5   PaperlessBilling  7043 non-null   category\n",
      " 6   PaymentMethod     7043 non-null   category\n",
      " 7   MonthlyCharges    7043 non-null   float64 \n",
      " 8   TotalCharges      7043 non-null   float64 \n",
      " 9   InternetService   7043 non-null   category\n",
      " 10  OnlineSecurity    7043 non-null   category\n",
      " 11  OnlineBackup      7043 non-null   category\n",
      " 12  DeviceProtection  7043 non-null   category\n",
      " 13  TechSupport       7043 non-null   category\n",
      " 14  StreamingTV       7043 non-null   category\n",
      " 15  StreamingMovies   7043 non-null   category\n",
      " 16  MultipleLines     7043 non-null   category\n",
      " 17  stopped           7043 non-null   int64   \n",
      " 18  period            7043 non-null   int64   \n",
      "dtypes: category(14), float64(2), int64(3)\n",
      "memory usage: 428.2 KB\n"
     ]
    }
   ],
   "source": [
    "df=df.drop(['BeginDate','EndDate','customerID'],axis=1)\n",
    "df.info()"
   ]
  },
  {
   "cell_type": "markdown",
   "id": "969a937b",
   "metadata": {},
   "source": [
    "<div class=\"alert alert-success\">\n",
    "<b>Reviewer's comment</b>\n",
    "\n",
    "The preprocessing looks good, the contract length is calculated correctly, and begindate and enddate are dropped, so there should be no target leakage\n",
    "\n",
    "</div>"
   ]
  },
  {
   "cell_type": "markdown",
   "id": "f07bb744",
   "metadata": {},
   "source": [
    "## showing imbalance data"
   ]
  },
  {
   "cell_type": "code",
   "execution_count": 20,
   "id": "0a71751a",
   "metadata": {},
   "outputs": [
    {
     "data": {
      "text/plain": [
       "0    5174\n",
       "1    1869\n",
       "Name: stopped, dtype: int64"
      ]
     },
     "execution_count": 20,
     "metadata": {},
     "output_type": "execute_result"
    }
   ],
   "source": [
    "df['stopped'].value_counts()"
   ]
  },
  {
   "cell_type": "code",
   "execution_count": 21,
   "id": "484a45eb",
   "metadata": {},
   "outputs": [
    {
     "name": "stdout",
     "output_type": "stream",
     "text": [
      "The ratio in the target between churn clients to total clients is: 26.54%\n"
     ]
    }
   ],
   "source": [
    "print(f'The ratio in the target between churn clients to total clients is: {1869/(5174+1869):.2%}')"
   ]
  },
  {
   "cell_type": "markdown",
   "id": "07cefe6e",
   "metadata": {},
   "source": [
    "We will use SMOTE to oversample and balance the target"
   ]
  },
  {
   "cell_type": "markdown",
   "id": "09adca39",
   "metadata": {},
   "source": [
    "## features distribution"
   ]
  },
  {
   "cell_type": "code",
   "execution_count": 22,
   "id": "b0400868",
   "metadata": {},
   "outputs": [
    {
     "data": {
      "text/plain": [
       "18"
      ]
     },
     "execution_count": 22,
     "metadata": {},
     "output_type": "execute_result"
    }
   ],
   "source": [
    "df_to_show=df.drop(['stopped'], axis=1)\n",
    "features_list = df_to_show.columns.to_list()\n",
    "len(features_list)"
   ]
  },
  {
   "cell_type": "code",
   "execution_count": 23,
   "id": "c6517303",
   "metadata": {},
   "outputs": [
    {
     "data": {
      "image/png": "[encoded data removed]",
      "text/plain": [
       "<Figure size 1080x1800 with 18 Axes>"
      ]
     },
     "metadata": {
      "needs_background": "light"
     },
     "output_type": "display_data"
    }
   ],
   "source": [
    "fig=plt.figure(figsize=(15,25))\n",
    "for i,f in enumerate(features_list):\n",
    "    plt.subplot(9,2,i+1, label=f)\n",
    "    sns.histplot(data=df[f])\n",
    "    fig.tight_layout(pad=2.2)"
   ]
  },
  {
   "cell_type": "markdown",
   "id": "2bd08f11",
   "metadata": {},
   "source": [
    "## Encoding OHE"
   ]
  },
  {
   "cell_type": "code",
   "execution_count": 24,
   "id": "4323915d",
   "metadata": {},
   "outputs": [
    {
     "data": {
      "text/html": [
       "<div>\n",
       "<style scoped>\n",
       "    .dataframe tbody tr th:only-of-type {\n",
       "        vertical-align: middle;\n",
       "    }\n",
       "\n",
       "    .dataframe tbody tr th {\n",
       "        vertical-align: top;\n",
       "    }\n",
       "\n",
       "    .dataframe thead th {\n",
       "        text-align: right;\n",
       "    }\n",
       "</style>\n",
       "<table border=\"1\" class=\"dataframe\">\n",
       "  <thead>\n",
       "    <tr style=\"text-align: right;\">\n",
       "      <th></th>\n",
       "      <th>SeniorCitizen</th>\n",
       "      <th>MonthlyCharges</th>\n",
       "      <th>TotalCharges</th>\n",
       "      <th>stopped</th>\n",
       "      <th>period</th>\n",
       "      <th>gender_Male</th>\n",
       "      <th>Partner_Yes</th>\n",
       "      <th>Dependents_Yes</th>\n",
       "      <th>Type_One year</th>\n",
       "      <th>Type_Two year</th>\n",
       "      <th>...</th>\n",
       "      <th>PaymentMethod_Mailed check</th>\n",
       "      <th>InternetService_Fiber optic</th>\n",
       "      <th>InternetService_No_internet</th>\n",
       "      <th>OnlineSecurity_Yes</th>\n",
       "      <th>OnlineBackup_Yes</th>\n",
       "      <th>DeviceProtection_Yes</th>\n",
       "      <th>TechSupport_Yes</th>\n",
       "      <th>StreamingTV_Yes</th>\n",
       "      <th>StreamingMovies_Yes</th>\n",
       "      <th>MultipleLines_Yes</th>\n",
       "    </tr>\n",
       "  </thead>\n",
       "  <tbody>\n",
       "    <tr>\n",
       "      <th>0</th>\n",
       "      <td>0</td>\n",
       "      <td>29.85</td>\n",
       "      <td>29.85</td>\n",
       "      <td>0</td>\n",
       "      <td>1</td>\n",
       "      <td>0</td>\n",
       "      <td>1</td>\n",
       "      <td>0</td>\n",
       "      <td>0</td>\n",
       "      <td>0</td>\n",
       "      <td>...</td>\n",
       "      <td>0</td>\n",
       "      <td>0</td>\n",
       "      <td>0</td>\n",
       "      <td>0</td>\n",
       "      <td>1</td>\n",
       "      <td>0</td>\n",
       "      <td>0</td>\n",
       "      <td>0</td>\n",
       "      <td>0</td>\n",
       "      <td>0</td>\n",
       "    </tr>\n",
       "    <tr>\n",
       "      <th>1</th>\n",
       "      <td>0</td>\n",
       "      <td>56.95</td>\n",
       "      <td>1,889.50</td>\n",
       "      <td>0</td>\n",
       "      <td>34</td>\n",
       "      <td>1</td>\n",
       "      <td>0</td>\n",
       "      <td>0</td>\n",
       "      <td>1</td>\n",
       "      <td>0</td>\n",
       "      <td>...</td>\n",
       "      <td>1</td>\n",
       "      <td>0</td>\n",
       "      <td>0</td>\n",
       "      <td>1</td>\n",
       "      <td>0</td>\n",
       "      <td>1</td>\n",
       "      <td>0</td>\n",
       "      <td>0</td>\n",
       "      <td>0</td>\n",
       "      <td>0</td>\n",
       "    </tr>\n",
       "    <tr>\n",
       "      <th>2</th>\n",
       "      <td>0</td>\n",
       "      <td>53.85</td>\n",
       "      <td>108.15</td>\n",
       "      <td>1</td>\n",
       "      <td>4</td>\n",
       "      <td>1</td>\n",
       "      <td>0</td>\n",
       "      <td>0</td>\n",
       "      <td>0</td>\n",
       "      <td>0</td>\n",
       "      <td>...</td>\n",
       "      <td>1</td>\n",
       "      <td>0</td>\n",
       "      <td>0</td>\n",
       "      <td>1</td>\n",
       "      <td>1</td>\n",
       "      <td>0</td>\n",
       "      <td>0</td>\n",
       "      <td>0</td>\n",
       "      <td>0</td>\n",
       "      <td>0</td>\n",
       "    </tr>\n",
       "    <tr>\n",
       "      <th>3</th>\n",
       "      <td>0</td>\n",
       "      <td>42.30</td>\n",
       "      <td>1,840.75</td>\n",
       "      <td>0</td>\n",
       "      <td>45</td>\n",
       "      <td>1</td>\n",
       "      <td>0</td>\n",
       "      <td>0</td>\n",
       "      <td>1</td>\n",
       "      <td>0</td>\n",
       "      <td>...</td>\n",
       "      <td>0</td>\n",
       "      <td>0</td>\n",
       "      <td>0</td>\n",
       "      <td>1</td>\n",
       "      <td>0</td>\n",
       "      <td>1</td>\n",
       "      <td>1</td>\n",
       "      <td>0</td>\n",
       "      <td>0</td>\n",
       "      <td>0</td>\n",
       "    </tr>\n",
       "    <tr>\n",
       "      <th>4</th>\n",
       "      <td>0</td>\n",
       "      <td>70.70</td>\n",
       "      <td>151.65</td>\n",
       "      <td>1</td>\n",
       "      <td>5</td>\n",
       "      <td>0</td>\n",
       "      <td>0</td>\n",
       "      <td>0</td>\n",
       "      <td>0</td>\n",
       "      <td>0</td>\n",
       "      <td>...</td>\n",
       "      <td>0</td>\n",
       "      <td>1</td>\n",
       "      <td>0</td>\n",
       "      <td>0</td>\n",
       "      <td>0</td>\n",
       "      <td>0</td>\n",
       "      <td>0</td>\n",
       "      <td>0</td>\n",
       "      <td>0</td>\n",
       "      <td>0</td>\n",
       "    </tr>\n",
       "  </tbody>\n",
       "</table>\n",
       "<p>5 rows × 23 columns</p>\n",
       "</div>"
      ],
      "text/plain": [
       "   SeniorCitizen  MonthlyCharges  TotalCharges  stopped  period  gender_Male  \\\n",
       "0              0           29.85         29.85        0       1            0   \n",
       "1              0           56.95      1,889.50        0      34            1   \n",
       "2              0           53.85        108.15        1       4            1   \n",
       "3              0           42.30      1,840.75        0      45            1   \n",
       "4              0           70.70        151.65        1       5            0   \n",
       "\n",
       "   Partner_Yes  Dependents_Yes  Type_One year  Type_Two year  ...  \\\n",
       "0            1               0              0              0  ...   \n",
       "1            0               0              1              0  ...   \n",
       "2            0               0              0              0  ...   \n",
       "3            0               0              1              0  ...   \n",
       "4            0               0              0              0  ...   \n",
       "\n",
       "   PaymentMethod_Mailed check  InternetService_Fiber optic  \\\n",
       "0                           0                            0   \n",
       "1                           1                            0   \n",
       "2                           1                            0   \n",
       "3                           0                            0   \n",
       "4                           0                            1   \n",
       "\n",
       "   InternetService_No_internet  OnlineSecurity_Yes  OnlineBackup_Yes  \\\n",
       "0                            0                   0                 1   \n",
       "1                            0                   1                 0   \n",
       "2                            0                   1                 1   \n",
       "3                            0                   1                 0   \n",
       "4                            0                   0                 0   \n",
       "\n",
       "   DeviceProtection_Yes  TechSupport_Yes  StreamingTV_Yes  \\\n",
       "0                     0                0                0   \n",
       "1                     1                0                0   \n",
       "2                     0                0                0   \n",
       "3                     1                1                0   \n",
       "4                     0                0                0   \n",
       "\n",
       "   StreamingMovies_Yes  MultipleLines_Yes  \n",
       "0                    0                  0  \n",
       "1                    0                  0  \n",
       "2                    0                  0  \n",
       "3                    0                  0  \n",
       "4                    0                  0  \n",
       "\n",
       "[5 rows x 23 columns]"
      ]
     },
     "execution_count": 24,
     "metadata": {},
     "output_type": "execute_result"
    }
   ],
   "source": [
    "df = pd.get_dummies(df,drop_first=True)\n",
    "df.head()"
   ]
  },
  {
   "cell_type": "markdown",
   "id": "34b47df1",
   "metadata": {},
   "source": [
    "<div class=\"alert alert-success\">\n",
    "<b>Reviewer's comment</b>\n",
    "\n",
    "Categorical features were encoded\n",
    "\n",
    "</div>"
   ]
  },
  {
   "cell_type": "markdown",
   "id": "ecd69c40",
   "metadata": {},
   "source": [
    "## splitting train-test and features-target"
   ]
  },
  {
   "cell_type": "code",
   "execution_count": 25,
   "id": "3215b570",
   "metadata": {},
   "outputs": [
    {
     "data": {
      "text/plain": [
       "((7043, 22), (7043,))"
      ]
     },
     "execution_count": 25,
     "metadata": {},
     "output_type": "execute_result"
    }
   ],
   "source": [
    "features=df.drop(['stopped'], axis=1)\n",
    "target=df['stopped']\n",
    "features.shape,target.shape"
   ]
  },
  {
   "cell_type": "code",
   "execution_count": 26,
   "id": "aa419c01",
   "metadata": {},
   "outputs": [],
   "source": [
    "features_train, features_test, target_train, target_test = train_test_split(features, target, test_size=0.25, random_state=12345)"
   ]
  },
  {
   "cell_type": "markdown",
   "id": "5850b63f",
   "metadata": {},
   "source": [
    "<div class=\"alert alert-success\">\n",
    "<b>Reviewer's comment</b>\n",
    "\n",
    "The data is split into train and test. Target variable fits the task\n",
    "\n",
    "</div>"
   ]
  },
  {
   "cell_type": "markdown",
   "id": "a8273cab",
   "metadata": {},
   "source": [
    "# running models"
   ]
  },
  {
   "cell_type": "markdown",
   "id": "5843442b",
   "metadata": {},
   "source": [
    "## without balancing"
   ]
  },
  {
   "cell_type": "markdown",
   "id": "cf76845b",
   "metadata": {},
   "source": [
    "### random forest"
   ]
  },
  {
   "cell_type": "code",
   "execution_count": 27,
   "id": "55dd4929",
   "metadata": {},
   "outputs": [],
   "source": [
    "# Number of trees in Random Forest\n",
    "rf_n_estimators = [int(x) for x in np.linspace(75, 400, 5)]\n",
    "\n",
    "# Maximum number of levels in tree\n",
    "rf_max_depth = [int(x) for x in np.linspace(5, 100, 5)]\n",
    "# Add the default as a possible value\n",
    "rf_max_depth.append(None)\n",
    "\n",
    "#The minimum number of samples required to split an internal node\n",
    "rt_min_samples_split = [int(x) for x in np.linspace(2, 20, 5)]\n",
    "\n",
    "# Create the grid\n",
    "rf_grid = {'n_estimators': rf_n_estimators,\n",
    "           'max_depth': rf_max_depth,\n",
    "           'min_samples_split': rt_min_samples_split}"
   ]
  },
  {
   "cell_type": "code",
   "execution_count": 28,
   "id": "e4f099ef",
   "metadata": {},
   "outputs": [
    {
     "name": "stdout",
     "output_type": "stream",
     "text": [
      "Fitting 5 folds for each of 150 candidates, totalling 750 fits\n",
      "Wall time: 2min 49s\n"
     ]
    },
    {
     "data": {
      "text/plain": [
       "{'max_depth': 28, 'min_samples_split': 11, 'n_estimators': 400}"
      ]
     },
     "execution_count": 28,
     "metadata": {},
     "output_type": "execute_result"
    }
   ],
   "source": [
    "%%time\n",
    "# Create the model to be tuned\n",
    "rf_base = RandomForestClassifier(random_state=12345)\n",
    "\n",
    "# Create the grid search\n",
    "rf_gridCV = GridSearchCV(estimator = rf_base, param_grid = rf_grid, scoring='roc_auc',\n",
    "                               return_train_score=True, cv = 5, verbose = 3, n_jobs = -1)\n",
    "\n",
    "# Fit the grid search model\n",
    "rf_gridCV.fit(features_train, target_train)\n",
    "\n",
    "# View the best parameters from the grid search\n",
    "rf_gridCV.best_params_"
   ]
  },
  {
   "cell_type": "code",
   "execution_count": 82,
   "id": "47fa71c1",
   "metadata": {},
   "outputs": [],
   "source": [
    "rf = RandomForestClassifier(max_depth= 28, n_estimators= 400, min_samples_split=11,random_state=12345)"
   ]
  },
  {
   "cell_type": "code",
   "execution_count": 83,
   "id": "b1ce0c1f",
   "metadata": {},
   "outputs": [
    {
     "data": {
      "text/plain": [
       "RandomForestClassifier(max_depth=28, min_samples_split=11, n_estimators=400,\n",
       "                       random_state=12345)"
      ]
     },
     "execution_count": 83,
     "metadata": {},
     "output_type": "execute_result"
    }
   ],
   "source": [
    "rf.fit(features_train, target_train)"
   ]
  },
  {
   "cell_type": "code",
   "execution_count": 84,
   "id": "ddcc844f",
   "metadata": {},
   "outputs": [
    {
     "name": "stdout",
     "output_type": "stream",
     "text": [
      "ROC AUC: \t= 88.2391%\n"
     ]
    }
   ],
   "source": [
    "roc = roc_auc_score(target_test, rf.predict_proba(features_test)[:,1])\n",
    "print(f'ROC AUC: \\t= {roc:.4%}')"
   ]
  },
  {
   "cell_type": "markdown",
   "id": "abcbbccb",
   "metadata": {},
   "source": [
    "### Gradient Boosting"
   ]
  },
  {
   "cell_type": "code",
   "execution_count": 32,
   "id": "d2e5f153",
   "metadata": {},
   "outputs": [],
   "source": [
    "# Number of trees in Random Forest\n",
    "gb_n_estimators = [int(x) for x in np.linspace(75, 400, 10)]\n",
    "\n",
    "# Learning rate\n",
    "gb_learning_rate = [0.001,0.05,0.1,0.2]\n",
    "\n",
    "# Maximum number of levels in tree\n",
    "gb_max_depth = [int(x) for x in np.linspace(5, 100, 10)]\n",
    "# Add the default as a possible value\n",
    "gb_max_depth.append(None)\n",
    "\n",
    "# Create the grid\n",
    "gb_grid = {'n_estimators': gb_n_estimators,\n",
    "           'learning_rate': gb_learning_rate,\n",
    "                'max_depth': gb_max_depth}\n"
   ]
  },
  {
   "cell_type": "code",
   "execution_count": 33,
   "id": "34dada97",
   "metadata": {},
   "outputs": [
    {
     "name": "stdout",
     "output_type": "stream",
     "text": [
      "Fitting 5 folds for each of 440 candidates, totalling 2200 fits\n",
      "Wall time: 46min 26s\n"
     ]
    },
    {
     "data": {
      "text/plain": [
       "{'learning_rate': 0.2, 'max_depth': 5, 'n_estimators': 327}"
      ]
     },
     "execution_count": 33,
     "metadata": {},
     "output_type": "execute_result"
    }
   ],
   "source": [
    "%%time\n",
    "# Create the model to be tuned\n",
    "gb_model_base = GradientBoostingClassifier(random_state=12345)\n",
    "\n",
    "# Create the grid search\n",
    "gb_gridCV = GridSearchCV(estimator = gb_model_base, param_grid = gb_grid, scoring='roc_auc',\n",
    "                        return_train_score=True, cv = 5, verbose = 3, n_jobs = -1)\n",
    "\n",
    "# Fit the grid search model\n",
    "gb_gridCV.fit(features_train, target_train)\n",
    "\n",
    "# View the best parameters from the grid search\n",
    "gb_gridCV.best_params_"
   ]
  },
  {
   "cell_type": "code",
   "execution_count": 34,
   "id": "d14826f3",
   "metadata": {},
   "outputs": [],
   "source": [
    "gb = GradientBoostingClassifier(max_depth= 5, n_estimators= 327,learning_rate=0.2,random_state=12345)"
   ]
  },
  {
   "cell_type": "code",
   "execution_count": 35,
   "id": "8156455f",
   "metadata": {},
   "outputs": [
    {
     "data": {
      "text/plain": [
       "GradientBoostingClassifier(learning_rate=0.2, max_depth=5, n_estimators=327,\n",
       "                           random_state=12345)"
      ]
     },
     "execution_count": 35,
     "metadata": {},
     "output_type": "execute_result"
    }
   ],
   "source": [
    "gb.fit(features_train, target_train)"
   ]
  },
  {
   "cell_type": "code",
   "execution_count": 36,
   "id": "f1a9a68e",
   "metadata": {},
   "outputs": [
    {
     "name": "stdout",
     "output_type": "stream",
     "text": [
      "ROC AUC: \t= 92.9922%\n"
     ]
    }
   ],
   "source": [
    "roc = roc_auc_score(target_test, gb.predict_proba(features_test)[:,1])\n",
    "print(f'ROC AUC: \\t= {roc:.4%}')"
   ]
  },
  {
   "cell_type": "markdown",
   "id": "b4bfb837",
   "metadata": {},
   "source": [
    "###  LightGBM"
   ]
  },
  {
   "cell_type": "code",
   "execution_count": 37,
   "id": "7774cd6d",
   "metadata": {},
   "outputs": [],
   "source": [
    "lgb_grid = {'num_leaves': [int(x) for x in np.linspace(1, 500, 10)],\n",
    "           'min_data_in_leaf': [1,3,5,7,10],\n",
    "           'learning_rate': [0.001,0.01,0.03,0.05,0.1,0.3,0.55],\n",
    "           'min_data': [int(x) for x in np.linspace(1, 500, 10)]}"
   ]
  },
  {
   "cell_type": "code",
   "execution_count": 38,
   "id": "a51a2327",
   "metadata": {},
   "outputs": [
    {
     "name": "stdout",
     "output_type": "stream",
     "text": [
      "Fitting 5 folds for each of 3500 candidates, totalling 17500 fits\n",
      "[LightGBM] [Warning] min_data_in_leaf is set with min_child_samples=20, will be overridden by min_data=1. Current value: min_data_in_leaf=1\n",
      "[LightGBM] [Warning] min_data_in_leaf is set=3, min_data=1 will be ignored. Current value: min_data_in_leaf=3\n",
      "Wall time: 30min 15s\n"
     ]
    },
    {
     "data": {
      "text/plain": [
       "{'learning_rate': 0.1, 'min_data': 1, 'min_data_in_leaf': 3, 'num_leaves': 56}"
      ]
     },
     "execution_count": 38,
     "metadata": {},
     "output_type": "execute_result"
    }
   ],
   "source": [
    "%%time\n",
    "# Create the model to be tuned\n",
    "lgb_model_base = lgb.LGBMClassifier()\n",
    "\n",
    "# Create the grid search\n",
    "lgb_gridCV = GridSearchCV(estimator = lgb_model_base, param_grid = lgb_grid, scoring='roc_auc',\n",
    "                        return_train_score=True, cv = 5, verbose = 3, n_jobs = -1)\n",
    "\n",
    "# Fit the grid search model\n",
    "lgb_gridCV.fit(features_train, target_train)\n",
    "\n",
    "# View the best parameters from the grid search\n",
    "lgb_gridCV.best_params_"
   ]
  },
  {
   "cell_type": "code",
   "execution_count": 39,
   "id": "336788ee",
   "metadata": {},
   "outputs": [],
   "source": [
    "lgb_model = lgb.LGBMClassifier(learning_rate= 0.1, min_data= 1, min_data_in_leaf= 3, num_leaves= 56)"
   ]
  },
  {
   "cell_type": "code",
   "execution_count": 40,
   "id": "b19feff1",
   "metadata": {},
   "outputs": [
    {
     "data": {
      "text/plain": [
       "LGBMClassifier(min_data=1, min_data_in_leaf=3, num_leaves=56)"
      ]
     },
     "execution_count": 40,
     "metadata": {},
     "output_type": "execute_result"
    }
   ],
   "source": [
    "lgb_model.fit(features_train, target_train)"
   ]
  },
  {
   "cell_type": "code",
   "execution_count": 41,
   "id": "7d96620d",
   "metadata": {},
   "outputs": [
    {
     "name": "stdout",
     "output_type": "stream",
     "text": [
      "ROC AUC: \t= 92.8840%\n"
     ]
    }
   ],
   "source": [
    "roc = roc_auc_score(target_test, lgb_model.predict_proba(features_test)[:,1])\n",
    "print(f'ROC AUC: \\t= {roc:.4%}')"
   ]
  },
  {
   "cell_type": "markdown",
   "id": "de6d9df9",
   "metadata": {},
   "source": [
    "### XGBoost"
   ]
  },
  {
   "cell_type": "code",
   "execution_count": 42,
   "id": "a0ac0519",
   "metadata": {},
   "outputs": [],
   "source": [
    "xgb_grid = {\"max_depth\": [int(x) for x in np.linspace(1, 150, 7)],\n",
    "              \"min_child_weight\" : [1,3,6,12],\n",
    "              \"n_estimators\": [50,100,200,500,750],\n",
    "              \"learning_rate\": [0.001,0.05, 0.1,0.16,0.3]}"
   ]
  },
  {
   "cell_type": "code",
   "execution_count": 43,
   "id": "89162acd",
   "metadata": {},
   "outputs": [
    {
     "name": "stdout",
     "output_type": "stream",
     "text": [
      "Fitting 5 folds for each of 700 candidates, totalling 3500 fits\n",
      "[05:04:09] WARNING: C:/Users/Administrator/workspace/xgboost-win64_release_1.5.1/src/learner.cc:1115: Starting in XGBoost 1.3.0, the default evaluation metric used with the objective 'binary:logistic' was changed from 'error' to 'logloss'. Explicitly set eval_metric if you'd like to restore the old behavior.\n",
      "Wall time: 48min 11s\n"
     ]
    },
    {
     "data": {
      "text/plain": [
       "{'learning_rate': 0.3,\n",
       " 'max_depth': 25,\n",
       " 'min_child_weight': 12,\n",
       " 'n_estimators': 500}"
      ]
     },
     "execution_count": 43,
     "metadata": {},
     "output_type": "execute_result"
    }
   ],
   "source": [
    "%%time\n",
    "xgb_model_base = xgb.XGBClassifier()\n",
    "\n",
    "# Create the grid search\n",
    "xgb_gridCV = GridSearchCV(estimator = xgb_model_base, param_grid = xgb_grid, scoring='roc_auc',\n",
    "                        return_train_score=True, cv = 5, verbose = 3, n_jobs = -1)\n",
    "\n",
    "# Fit the grid search model\n",
    "xgb_gridCV.fit(features_train, target_train)\n",
    "\n",
    "# View the best parameters from the grid search\n",
    "xgb_gridCV.best_params_"
   ]
  },
  {
   "cell_type": "code",
   "execution_count": 44,
   "id": "d763d73e",
   "metadata": {},
   "outputs": [],
   "source": [
    "xgb_model = xgb.XGBClassifier(learning_rate= 0.3, max_depth= 25, min_child_weight= 12, n_estimators= 500)"
   ]
  },
  {
   "cell_type": "code",
   "execution_count": 45,
   "id": "3f875b45",
   "metadata": {},
   "outputs": [
    {
     "name": "stdout",
     "output_type": "stream",
     "text": [
      "[05:04:11] WARNING: C:/Users/Administrator/workspace/xgboost-win64_release_1.5.1/src/learner.cc:1115: Starting in XGBoost 1.3.0, the default evaluation metric used with the objective 'binary:logistic' was changed from 'error' to 'logloss'. Explicitly set eval_metric if you'd like to restore the old behavior.\n"
     ]
    },
    {
     "data": {
      "text/plain": [
       "XGBClassifier(base_score=0.5, booster='gbtree', colsample_bylevel=1,\n",
       "              colsample_bynode=1, colsample_bytree=1, enable_categorical=False,\n",
       "              gamma=0, gpu_id=-1, importance_type=None,\n",
       "              interaction_constraints='', learning_rate=0.3, max_delta_step=0,\n",
       "              max_depth=25, min_child_weight=12, missing=nan,\n",
       "              monotone_constraints='()', n_estimators=500, n_jobs=8,\n",
       "              num_parallel_tree=1, predictor='auto', random_state=0,\n",
       "              reg_alpha=0, reg_lambda=1, scale_pos_weight=1, subsample=1,\n",
       "              tree_method='exact', validate_parameters=1, verbosity=None)"
      ]
     },
     "execution_count": 45,
     "metadata": {},
     "output_type": "execute_result"
    }
   ],
   "source": [
    "xgb_model.fit(features_train, target_train)"
   ]
  },
  {
   "cell_type": "code",
   "execution_count": 46,
   "id": "a15a449d",
   "metadata": {},
   "outputs": [],
   "source": [
    "predicted_test = xgb_model.predict(features_test)"
   ]
  },
  {
   "cell_type": "code",
   "execution_count": 47,
   "id": "814db88b",
   "metadata": {},
   "outputs": [
    {
     "name": "stdout",
     "output_type": "stream",
     "text": [
      "ROC AUC: \t= 93.6809%\n",
      "Accuracy: \t= 90.8575%\n"
     ]
    }
   ],
   "source": [
    "roc = roc_auc_score(target_test, xgb_model.predict_proba(features_test)[:,1])\n",
    "print(f'ROC AUC: \\t= {roc:.4%}')\n",
    "acc = accuracy_score(target_test, predicted_test)\n",
    "print(f'Accuracy: \\t= {acc:.4%}')"
   ]
  },
  {
   "cell_type": "markdown",
   "id": "21c7367e",
   "metadata": {},
   "source": [
    "## with balancing "
   ]
  },
  {
   "cell_type": "markdown",
   "id": "c373a6d2",
   "metadata": {},
   "source": [
    "### balance the train"
   ]
  },
  {
   "cell_type": "code",
   "execution_count": 48,
   "id": "d94e1ab3",
   "metadata": {},
   "outputs": [
    {
     "data": {
      "image/png": "[encoded data removed]",
      "text/plain": [
       "<Figure size 432x288 with 1 Axes>"
      ]
     },
     "metadata": {
      "needs_background": "light"
     },
     "output_type": "display_data"
    }
   ],
   "source": [
    "sns.countplot(df['stopped']);"
   ]
  },
  {
   "cell_type": "code",
   "execution_count": 49,
   "id": "7a8d5881",
   "metadata": {},
   "outputs": [
    {
     "name": "stdout",
     "output_type": "stream",
     "text": [
      "Requirement already satisfied: imbalanced-learn in c:\\users\\benqu\\anaconda3\\envs\\notebook_2\\lib\\site-packages (0.8.1)\n",
      "Requirement already satisfied: scikit-learn>=0.24 in c:\\users\\benqu\\anaconda3\\envs\\notebook_2\\lib\\site-packages (from imbalanced-learn) (1.0.1)\n",
      "Requirement already satisfied: scipy>=0.19.1 in c:\\users\\benqu\\anaconda3\\envs\\notebook_2\\lib\\site-packages (from imbalanced-learn) (1.7.3)\n",
      "Requirement already satisfied: numpy>=1.13.3 in c:\\users\\benqu\\anaconda3\\envs\\notebook_2\\lib\\site-packages (from imbalanced-learn) (1.21.4)\n",
      "Requirement already satisfied: joblib>=0.11 in c:\\users\\benqu\\anaconda3\\envs\\notebook_2\\lib\\site-packages (from imbalanced-learn) (1.0.1)\n",
      "Requirement already satisfied: threadpoolctl>=2.0.0 in c:\\users\\benqu\\anaconda3\\envs\\notebook_2\\lib\\site-packages (from scikit-learn>=0.24->imbalanced-learn) (3.0.0)\n"
     ]
    }
   ],
   "source": [
    "!pip install -U imbalanced-learn"
   ]
  },
  {
   "cell_type": "markdown",
   "id": "31ad7c6a",
   "metadata": {},
   "source": [
    "We will use **SMOTE** to oversample and balance the target"
   ]
  },
  {
   "cell_type": "code",
   "execution_count": 50,
   "id": "6231f181",
   "metadata": {},
   "outputs": [],
   "source": [
    "from imblearn.combine import SMOTETomek"
   ]
  },
  {
   "cell_type": "code",
   "execution_count": 51,
   "id": "41636129",
   "metadata": {},
   "outputs": [],
   "source": [
    "smt = SMOTETomek(random_state=12345)\n",
    "features_train_os, target_train_os=smt.fit_resample(features_train, target_train)\n",
    "train_os=pd.concat([features_train_os,target_train_os],axis=1)"
   ]
  },
  {
   "cell_type": "code",
   "execution_count": 52,
   "id": "7fc0ff35",
   "metadata": {},
   "outputs": [
    {
     "data": {
      "image/png": "[encoded data removed]",
      "text/plain": [
       "<Figure size 432x288 with 1 Axes>"
      ]
     },
     "metadata": {
      "needs_background": "light"
     },
     "output_type": "display_data"
    }
   ],
   "source": [
    "sns.countplot(train_os['stopped']);"
   ]
  },
  {
   "cell_type": "markdown",
   "id": "a7cb9960",
   "metadata": {},
   "source": [
    "### random forest"
   ]
  },
  {
   "cell_type": "code",
   "execution_count": 53,
   "id": "867edd44",
   "metadata": {},
   "outputs": [],
   "source": [
    "# Number of trees in Random Forest\n",
    "rf_n_estimators = [int(x) for x in np.linspace(75, 400, 5)]\n",
    "\n",
    "# Maximum number of levels in tree\n",
    "rf_max_depth = [int(x) for x in np.linspace(5, 100, 5)]\n",
    "# Add the default as a possible value\n",
    "rf_max_depth.append(None)\n",
    "\n",
    "#The minimum number of samples required to split an internal node\n",
    "rt_min_samples_split = [int(x) for x in np.linspace(2, 20, 5)]\n",
    "\n",
    "# Create the grid\n",
    "rf_grid = {'n_estimators': rf_n_estimators,\n",
    "           'max_depth': rf_max_depth,\n",
    "           'min_samples_split': rt_min_samples_split}"
   ]
  },
  {
   "cell_type": "code",
   "execution_count": 54,
   "id": "2e718208",
   "metadata": {},
   "outputs": [
    {
     "name": "stdout",
     "output_type": "stream",
     "text": [
      "Fitting 5 folds for each of 150 candidates, totalling 750 fits\n",
      "Wall time: 3min 37s\n"
     ]
    },
    {
     "data": {
      "text/plain": [
       "{'max_depth': 28, 'min_samples_split': 2, 'n_estimators': 400}"
      ]
     },
     "execution_count": 54,
     "metadata": {},
     "output_type": "execute_result"
    }
   ],
   "source": [
    "%%time\n",
    "# Create the model to be tuned\n",
    "rf_base = RandomForestClassifier(random_state=12345)\n",
    "\n",
    "# Create the grid search Random Forest\n",
    "rf_gridCV = GridSearchCV(estimator = rf_base, param_grid = rf_grid, scoring='roc_auc',\n",
    "                               return_train_score=True, cv = 5, verbose = 3, n_jobs = -1)\n",
    "\n",
    "# Fit the grid search model\n",
    "rf_gridCV.fit(features_train_os, target_train_os)\n",
    "\n",
    "# View the best parameters from the grid search\n",
    "rf_gridCV.best_params_\n"
   ]
  },
  {
   "cell_type": "code",
   "execution_count": 85,
   "id": "fbe64cf7",
   "metadata": {},
   "outputs": [],
   "source": [
    "rf = RandomForestClassifier(max_depth= 28, n_estimators= 400,min_samples_split=2,random_state=12345)"
   ]
  },
  {
   "cell_type": "code",
   "execution_count": 86,
   "id": "f923c6fd",
   "metadata": {},
   "outputs": [
    {
     "data": {
      "text/plain": [
       "RandomForestClassifier(max_depth=28, n_estimators=400, random_state=12345)"
      ]
     },
     "execution_count": 86,
     "metadata": {},
     "output_type": "execute_result"
    }
   ],
   "source": [
    "rf.fit(features_train_os, target_train_os)"
   ]
  },
  {
   "cell_type": "code",
   "execution_count": 87,
   "id": "ed0a00d5",
   "metadata": {},
   "outputs": [],
   "source": [
    "predicted_test = rf.predict(features_test)"
   ]
  },
  {
   "cell_type": "code",
   "execution_count": 88,
   "id": "ca346ec2",
   "metadata": {},
   "outputs": [
    {
     "name": "stdout",
     "output_type": "stream",
     "text": [
      "ROC AUC: \t= 86.546%\n",
      "Accuracy: \t= 80.806%\n"
     ]
    }
   ],
   "source": [
    "roc = roc_auc_score(target_test, rf.predict_proba(features_test)[:,1])\n",
    "print(f'ROC AUC: \\t= {roc:.3%}')\n",
    "acc = accuracy_score(target_test, predicted_test)\n",
    "print(f'Accuracy: \\t= {acc:.3%}')"
   ]
  },
  {
   "cell_type": "code",
   "execution_count": 89,
   "id": "29d04a1f",
   "metadata": {},
   "outputs": [
    {
     "data": {
      "image/png": "[encoded data removed]",
      "text/plain": [
       "<Figure size 432x288 with 1 Axes>"
      ]
     },
     "metadata": {
      "needs_background": "light"
     },
     "output_type": "display_data"
    }
   ],
   "source": [
    "RocCurveDisplay.from_estimator(rf, features_test, target_test);"
   ]
  },
  {
   "cell_type": "markdown",
   "id": "a5cb36d7",
   "metadata": {},
   "source": [
    "### Gradient Boosting"
   ]
  },
  {
   "cell_type": "code",
   "execution_count": 60,
   "id": "71e55f24",
   "metadata": {},
   "outputs": [],
   "source": [
    "# Number of trees in Random Forest\n",
    "gb_n_estimators = [int(x) for x in np.linspace(100, 450, 5)]\n",
    "\n",
    "# Learning rate\n",
    "gb_learning_rate = [0.001,0.2,0.5]\n",
    "\n",
    "# Maximum number of levels in tree\n",
    "gb_max_depth = [int(x) for x in np.linspace(1, 25, 5)]\n",
    "# Add the default as a possible value\n",
    "gb_max_depth.append(None)\n",
    "\n",
    "# Create the grid\n",
    "gb_grid = {'n_estimators': gb_n_estimators,\n",
    "           'learning_rate': gb_learning_rate,\n",
    "                'max_depth': gb_max_depth}"
   ]
  },
  {
   "cell_type": "code",
   "execution_count": 61,
   "id": "0cd489e5",
   "metadata": {},
   "outputs": [
    {
     "name": "stdout",
     "output_type": "stream",
     "text": [
      "Fitting 5 folds for each of 90 candidates, totalling 450 fits\n",
      "Wall time: 8min 56s\n"
     ]
    },
    {
     "data": {
      "text/plain": [
       "{'learning_rate': 0.5, 'max_depth': 7, 'n_estimators': 450}"
      ]
     },
     "execution_count": 61,
     "metadata": {},
     "output_type": "execute_result"
    }
   ],
   "source": [
    "%%time\n",
    "# Create the model to be tuned\n",
    "gb_model_base = GradientBoostingClassifier(random_state=12345)\n",
    "\n",
    "# Create the grid search\n",
    "gb_gridCV = GridSearchCV(estimator = gb_model_base, param_grid = gb_grid, scoring='roc_auc',\n",
    "                        return_train_score=True, cv = 5, verbose = 3, n_jobs = -1)\n",
    "\n",
    "# Fit the grid search model\n",
    "gb_gridCV.fit(features_train_os, target_train_os)\n",
    "\n",
    "# View the best parameters from the grid search\n",
    "gb_gridCV.best_params_"
   ]
  },
  {
   "cell_type": "code",
   "execution_count": 62,
   "id": "c5b5eab5",
   "metadata": {},
   "outputs": [],
   "source": [
    "gb = GradientBoostingClassifier(max_depth= 7, n_estimators= 450,learning_rate=0.5,random_state=12345)"
   ]
  },
  {
   "cell_type": "code",
   "execution_count": 63,
   "id": "e3b324ad",
   "metadata": {},
   "outputs": [
    {
     "data": {
      "text/plain": [
       "GradientBoostingClassifier(learning_rate=0.5, max_depth=7, n_estimators=450,\n",
       "                           random_state=12345)"
      ]
     },
     "execution_count": 63,
     "metadata": {},
     "output_type": "execute_result"
    }
   ],
   "source": [
    "gb.fit(features_train_os, target_train_os)"
   ]
  },
  {
   "cell_type": "code",
   "execution_count": 64,
   "id": "30f2c480",
   "metadata": {},
   "outputs": [],
   "source": [
    "predicted_test = gb.predict(features_test)"
   ]
  },
  {
   "cell_type": "code",
   "execution_count": 65,
   "id": "60bc716a",
   "metadata": {},
   "outputs": [
    {
     "name": "stdout",
     "output_type": "stream",
     "text": [
      "ROC AUC: \t= 92.593%\n",
      "Accuracy: \t= 87.791%\n"
     ]
    }
   ],
   "source": [
    "roc = roc_auc_score(target_test, gb.predict_proba(features_test)[:,1])\n",
    "print(f'ROC AUC: \\t= {roc:.3%}')\n",
    "acc = accuracy_score(target_test, predicted_test)\n",
    "print(f'Accuracy: \\t= {acc:.3%}')"
   ]
  },
  {
   "cell_type": "code",
   "execution_count": 66,
   "id": "62ae057c",
   "metadata": {},
   "outputs": [
    {
     "data": {
      "image/png": "[encoded data removed]",
      "text/plain": [
       "<Figure size 432x288 with 1 Axes>"
      ]
     },
     "metadata": {
      "needs_background": "light"
     },
     "output_type": "display_data"
    }
   ],
   "source": [
    "RocCurveDisplay.from_estimator(gb, features_test, target_test);"
   ]
  },
  {
   "cell_type": "markdown",
   "id": "a95f89ea",
   "metadata": {},
   "source": [
    "###  LightGBM"
   ]
  },
  {
   "cell_type": "code",
   "execution_count": 67,
   "id": "27312710",
   "metadata": {},
   "outputs": [],
   "source": [
    "lgb_grid = {'num_leaves': [int(x) for x in np.linspace(1, 500, 10)],\n",
    "           'min_data_in_leaf': [1,3,5,7,10],\n",
    "           'learning_rate': [0.001,0.01,0.03,0.05,0.1,0.3,0.55],\n",
    "           'min_data': [int(x) for x in np.linspace(1, 500, 10)]}"
   ]
  },
  {
   "cell_type": "code",
   "execution_count": 68,
   "id": "0a0ffd82",
   "metadata": {},
   "outputs": [
    {
     "name": "stdout",
     "output_type": "stream",
     "text": [
      "Fitting 5 folds for each of 3500 candidates, totalling 17500 fits\n",
      "[LightGBM] [Warning] min_data_in_leaf is set with min_child_samples=20, will be overridden by min_data=1. Current value: min_data_in_leaf=1\n",
      "[LightGBM] [Warning] min_data_in_leaf is set=10, min_data=1 will be ignored. Current value: min_data_in_leaf=10\n",
      "Wall time: 2h 35min 15s\n"
     ]
    },
    {
     "data": {
      "text/plain": [
       "{'learning_rate': 0.55,\n",
       " 'min_data': 1,\n",
       " 'min_data_in_leaf': 10,\n",
       " 'num_leaves': 56}"
      ]
     },
     "execution_count": 68,
     "metadata": {},
     "output_type": "execute_result"
    }
   ],
   "source": [
    "%%time\n",
    "# Create the model to be tuned\n",
    "lgb_model_base = lgb.LGBMClassifier()\n",
    "\n",
    "# Create the grid search\n",
    "lgb_gridCV = GridSearchCV(estimator = lgb_model_base, param_grid = lgb_grid, scoring='roc_auc',\n",
    "                        return_train_score=True, cv = 5, verbose = 3, n_jobs = -1)\n",
    "\n",
    "# Fit the grid search model\n",
    "lgb_gridCV.fit(features_train_os, target_train_os)\n",
    "\n",
    "# View the best parameters from the grid search\n",
    "lgb_gridCV.best_params_"
   ]
  },
  {
   "cell_type": "code",
   "execution_count": 69,
   "id": "45d3de80",
   "metadata": {},
   "outputs": [],
   "source": [
    "lgb_model = lgb.LGBMClassifier(learning_rate= 0.55, min_data= 1, min_data_in_leaf= 10, num_leaves= 56)"
   ]
  },
  {
   "cell_type": "code",
   "execution_count": 70,
   "id": "521dcb32",
   "metadata": {},
   "outputs": [
    {
     "data": {
      "text/plain": [
       "LGBMClassifier(learning_rate=0.55, min_data=1, min_data_in_leaf=10,\n",
       "               num_leaves=56)"
      ]
     },
     "execution_count": 70,
     "metadata": {},
     "output_type": "execute_result"
    }
   ],
   "source": [
    "lgb_model.fit(features_train_os, target_train_os)"
   ]
  },
  {
   "cell_type": "code",
   "execution_count": 71,
   "id": "7f554c79",
   "metadata": {},
   "outputs": [],
   "source": [
    "predicted_test = lgb_model.predict(features_test)"
   ]
  },
  {
   "cell_type": "code",
   "execution_count": 72,
   "id": "f6e63c3e",
   "metadata": {},
   "outputs": [
    {
     "name": "stdout",
     "output_type": "stream",
     "text": [
      "ROC AUC: \t= 92.044%\n",
      "Accuracy: \t= 87.507%\n"
     ]
    }
   ],
   "source": [
    "roc = roc_auc_score(target_test, lgb_model.predict_proba(features_test)[:,1])\n",
    "print(f'ROC AUC: \\t= {roc:.3%}')\n",
    "acc = accuracy_score(target_test, predicted_test)\n",
    "print(f'Accuracy: \\t= {acc:.3%}')"
   ]
  },
  {
   "cell_type": "code",
   "execution_count": 73,
   "id": "ee7add9d",
   "metadata": {},
   "outputs": [
    {
     "data": {
      "image/png": "[encoded data removed]",
      "text/plain": [
       "<Figure size 432x288 with 1 Axes>"
      ]
     },
     "metadata": {
      "needs_background": "light"
     },
     "output_type": "display_data"
    }
   ],
   "source": [
    "RocCurveDisplay.from_estimator(lgb_model, features_test, target_test);"
   ]
  },
  {
   "cell_type": "markdown",
   "id": "486f43c5",
   "metadata": {},
   "source": [
    "### XGBoost"
   ]
  },
  {
   "cell_type": "code",
   "execution_count": 74,
   "id": "b026a252",
   "metadata": {},
   "outputs": [],
   "source": [
    "xgb_grid = {\"max_depth\": [int(x) for x in np.linspace(1, 150, 7)],\n",
    "              \"min_child_weight\" : [1,3,6,12],\n",
    "              \"n_estimators\": [50,100,200,500,750],\n",
    "              \"learning_rate\": [0.001,0.05, 0.1,0.16,0.3]}"
   ]
  },
  {
   "cell_type": "code",
   "execution_count": 75,
   "id": "d9d0ae49",
   "metadata": {},
   "outputs": [
    {
     "name": "stdout",
     "output_type": "stream",
     "text": [
      "Fitting 5 folds for each of 700 candidates, totalling 3500 fits\n",
      "[09:00:37] WARNING: C:/Users/Administrator/workspace/xgboost-win64_release_1.5.1/src/learner.cc:1115: Starting in XGBoost 1.3.0, the default evaluation metric used with the objective 'binary:logistic' was changed from 'error' to 'logloss'. Explicitly set eval_metric if you'd like to restore the old behavior.\n",
      "Wall time: 1h 7min 53s\n"
     ]
    },
    {
     "data": {
      "text/plain": [
       "{'learning_rate': 0.3,\n",
       " 'max_depth': 25,\n",
       " 'min_child_weight': 12,\n",
       " 'n_estimators': 750}"
      ]
     },
     "execution_count": 75,
     "metadata": {},
     "output_type": "execute_result"
    }
   ],
   "source": [
    "%%time\n",
    "# Create the model to be tuned\n",
    "xgb_model_base = xgb.XGBClassifier()\n",
    "\n",
    "# Create the grid search\n",
    "xgb_gridCV = GridSearchCV(estimator = xgb_model_base, param_grid = xgb_grid, scoring='roc_auc',\n",
    "                        return_train_score=True, cv = 5, verbose = 3, n_jobs = -1)\n",
    "\n",
    "# Fit the grid search model\n",
    "xgb_gridCV.fit(features_train_os, target_train_os)\n",
    "\n",
    "# View the best parameters from the grid search\n",
    "xgb_gridCV.best_params_"
   ]
  },
  {
   "cell_type": "code",
   "execution_count": 76,
   "id": "633e6b2c",
   "metadata": {},
   "outputs": [],
   "source": [
    "xgb_model = xgb.XGBClassifier(learning_rate= 0.3, max_depth= 25, min_child_weight= 12, n_estimators= 750)"
   ]
  },
  {
   "cell_type": "code",
   "execution_count": 77,
   "id": "8852783e",
   "metadata": {},
   "outputs": [
    {
     "name": "stdout",
     "output_type": "stream",
     "text": [
      "[09:00:41] WARNING: C:/Users/Administrator/workspace/xgboost-win64_release_1.5.1/src/learner.cc:1115: Starting in XGBoost 1.3.0, the default evaluation metric used with the objective 'binary:logistic' was changed from 'error' to 'logloss'. Explicitly set eval_metric if you'd like to restore the old behavior.\n"
     ]
    },
    {
     "data": {
      "text/plain": [
       "XGBClassifier(base_score=0.5, booster='gbtree', colsample_bylevel=1,\n",
       "              colsample_bynode=1, colsample_bytree=1, enable_categorical=False,\n",
       "              gamma=0, gpu_id=-1, importance_type=None,\n",
       "              interaction_constraints='', learning_rate=0.3, max_delta_step=0,\n",
       "              max_depth=25, min_child_weight=12, missing=nan,\n",
       "              monotone_constraints='()', n_estimators=750, n_jobs=8,\n",
       "              num_parallel_tree=1, predictor='auto', random_state=0,\n",
       "              reg_alpha=0, reg_lambda=1, scale_pos_weight=1, subsample=1,\n",
       "              tree_method='exact', validate_parameters=1, verbosity=None)"
      ]
     },
     "execution_count": 77,
     "metadata": {},
     "output_type": "execute_result"
    }
   ],
   "source": [
    "xgb_model.fit(features_train_os, target_train_os)"
   ]
  },
  {
   "cell_type": "code",
   "execution_count": 78,
   "id": "8bf113da",
   "metadata": {},
   "outputs": [],
   "source": [
    "predicted_test = xgb_model.predict(features_test)"
   ]
  },
  {
   "cell_type": "code",
   "execution_count": 79,
   "id": "663f1018",
   "metadata": {},
   "outputs": [
    {
     "name": "stdout",
     "output_type": "stream",
     "text": [
      "ROC AUC: \t= 93.266%\n",
      "Accuracy: \t= 90.460%\n"
     ]
    }
   ],
   "source": [
    "roc = roc_auc_score(target_test, xgb_model.predict_proba(features_test)[:,1])\n",
    "print(f'ROC AUC: \\t= {roc:.3%}')\n",
    "acc = accuracy_score(target_test, predicted_test)\n",
    "print(f'Accuracy: \\t= {acc:.3%}')"
   ]
  },
  {
   "cell_type": "code",
   "execution_count": 80,
   "id": "7a809b31",
   "metadata": {},
   "outputs": [
    {
     "data": {
      "image/png": "[encoded data removed]",
      "text/plain": [
       "<Figure size 432x288 with 1 Axes>"
      ]
     },
     "metadata": {
      "needs_background": "light"
     },
     "output_type": "display_data"
    }
   ],
   "source": [
    "RocCurveDisplay.from_estimator(xgb_model, features_test, target_test);"
   ]
  },
  {
   "cell_type": "code",
   "execution_count": 81,
   "id": "ea011d55",
   "metadata": {},
   "outputs": [],
   "source": [
    "pd.DataFrame(xgb_gridCV.cv_results_).head()"
   ]
  },
  {
   "cell_type": "markdown",
   "id": "e8702769",
   "metadata": {},
   "source": [
    "<div class=\"alert alert-success\">\n",
    "<b>Reviewer's comment</b>\n",
    "\n",
    "Excellent, you tried a few different models, tuned their hyperparameters using a cross-validated grid search and used a balancing technique to deal with the class imbalance!\n",
    "\n",
    "</div>"
   ]
  },
  {
   "cell_type": "markdown",
   "id": "afe33ad4",
   "metadata": {},
   "source": [
    "# Solution Report"
   ]
  },
  {
   "cell_type": "markdown",
   "id": "de8254fa",
   "metadata": {},
   "source": [
    "## What steps of the plan were performed and what steps were skipped (explain why)?"
   ]
  },
  {
   "cell_type": "markdown",
   "id": "229035da",
   "metadata": {},
   "source": [
    "Generally, all the steps of the plan were preformed as planned. When we had to consider one of two options, here is what we did:\n",
    "\n",
    "### Steps that was made as planned:\n",
    "1. read all the libraries\n",
    "2. load the data\n",
    "3. join all the data frames to one using the `customerID` to merge them all\n",
    "4. check the categorical features, how many option they have, is it numeric or strings. Are they mixed or the same type.\n",
    "5. missing values when joining the data sets: replace with option that relate to lack of this feature like 'No'.\n",
    "6. replace type 'object' to 'category' \n",
    "7. replace `BeginDate` from type 'object' type to datetime to be able to make manipulation on this feature.\n",
    "8. replace the datetime features with useful data that will help the model: calculate how many months the customers are customers for the company\n",
    "9. calculate th **target**: check the `EndDate` column, if `EndDate` is not equal to 'No'(left the company), then it is Yes(continues).\n",
    "10. remove the unnecessary columns: `customerID`, `BeginDate`, `EndDate`\n",
    "10. check for duplicates\n",
    "12. check for imbalance data. imbalance data exist, we address it by `imblearn` library objects, try `imblearn` combined methods for oversampling and undersampling (SMOTE + Tomek)\n",
    "13. we checked if addressing the imbalance problem giving better score: ***NO!***\n",
    "13. show the features distribution\n",
    "14. we used encoding for all the categorical features for models that need it. We will use OHE Encoding on the features that are categorical\n",
    "15. divide the data to features and target\n",
    "16. divide the data between train and test\n",
    "17. make two sets of train data:\n",
    "    1. without change\n",
    "    2. balance data\n",
    "1. run baseline model (Decision Tree)\n",
    "2. try cross validation on some models (random forest, Gradient Boosting, LightGBM and XGBoost)\n",
    "3. we will calculate the roc_auc_score\n",
    "4. then we will use the balanced data and run it all again.\n",
    "5. hopefully the ROC AUC score will be above 90%\n",
    "\n",
    "### Steps that was skipped:\n",
    "1. We will decide if we need to normalize the features, depend on the models we will choose. Some of the models doesn't need normalization - We **didn't** use normalization because the models we tried doesn't need normalization to operate."
   ]
  },
  {
   "cell_type": "markdown",
   "id": "5670b310",
   "metadata": {},
   "source": [
    "## What difficulties did you encounter and how did you manage to solve them?"
   ]
  },
  {
   "cell_type": "markdown",
   "id": "e43c63ea",
   "metadata": {},
   "source": [
    "When using balanced data, the score didn't get higher. the scores of the models on unbalanced and balanced - the *test* set didn't improve. We had to check three kinds of balancing data: oversampling - SMOTE, over- and under- balancing: SMOTE + Tomek and SMOTE + ENN. We decided to kip the SMOTE + Tomek for marginal extra score."
   ]
  },
  {
   "cell_type": "markdown",
   "id": "bfe92ee1",
   "metadata": {},
   "source": [
    "## What were some of the key steps to solving the task?"
   ]
  },
  {
   "cell_type": "markdown",
   "id": "69a031d2",
   "metadata": {},
   "source": [
    "The project key steps was: reading the data, EDA, preprocess the data for modeling, try some models, find better hyperparameters than the default and compare balanced result to the unbalanced result."
   ]
  },
  {
   "cell_type": "markdown",
   "id": "ea3e19e2",
   "metadata": {},
   "source": [
    "## What is your final model and what quality score does it have?"
   ]
  },
  {
   "cell_type": "markdown",
   "id": "853bb02f",
   "metadata": {},
   "source": [
    "The Best model we got, considering ROC - AUC and Accuracy is:\n",
    "xgb.XGBClassifier(learning_rate= 0.3, max_depth= 25, min_child_weight= 12, n_estimators= 750)\n",
    "\n",
    "| Model | data | roc auc - score | accuracy - score |\n",
    "|---|---|---|---|\n",
    "| XGBoost | unbalance | 93.68 | 90.85 |\n",
    "| XGBoost | balance | 93.27 | 90.46 |\n",
    "| LightGBM | unbalance | 92.88 |  |\n",
    "| LightGBM | balance | 92.04 | 87.51 |\n",
    "| GradientBoosting | unbalance | 92.99 |  |\n",
    "| GradientBoosting | balance | 92.59 | 87.79 |\n",
    "| Random Forest | unbalance | 88.24 |  |\n",
    "| Random Forest | balance | 86.55 | 80.81 |"
   ]
  },
  {
   "cell_type": "code",
   "execution_count": null,
   "id": "dbc7c4f0",
   "metadata": {},
   "outputs": [],
   "source": []
  }
 ],
 "metadata": {
  "ExecuteTimeLog": [
   {
    "duration": 2562,
    "start_time": "2021-12-15T00:05:52.532Z"
   },
   {
    "duration": 159,
    "start_time": "2021-12-15T00:05:54.943Z"
   },
   {
    "duration": 156,
    "start_time": "2021-12-15T00:05:54.947Z"
   },
   {
    "duration": 150,
    "start_time": "2021-12-15T00:05:54.954Z"
   },
   {
    "duration": 148,
    "start_time": "2021-12-15T00:05:54.958Z"
   },
   {
    "duration": 147,
    "start_time": "2021-12-15T00:05:54.961Z"
   },
   {
    "duration": 144,
    "start_time": "2021-12-15T00:05:54.965Z"
   },
   {
    "duration": 138,
    "start_time": "2021-12-15T00:05:54.972Z"
   },
   {
    "duration": 137,
    "start_time": "2021-12-15T00:05:54.975Z"
   },
   {
    "duration": 135,
    "start_time": "2021-12-15T00:05:54.978Z"
   },
   {
    "duration": 131,
    "start_time": "2021-12-15T00:05:54.983Z"
   },
   {
    "duration": 127,
    "start_time": "2021-12-15T00:05:54.989Z"
   },
   {
    "duration": 125,
    "start_time": "2021-12-15T00:05:54.992Z"
   },
   {
    "duration": 123,
    "start_time": "2021-12-15T00:05:54.996Z"
   },
   {
    "duration": 18,
    "start_time": "2021-12-15T00:05:55.104Z"
   },
   {
    "duration": 17,
    "start_time": "2021-12-15T00:05:55.107Z"
   },
   {
    "duration": 15,
    "start_time": "2021-12-15T00:05:55.110Z"
   },
   {
    "duration": 13,
    "start_time": "2021-12-15T00:05:55.114Z"
   },
   {
    "duration": 6,
    "start_time": "2021-12-15T00:05:55.122Z"
   },
   {
    "duration": 4,
    "start_time": "2021-12-15T00:05:55.125Z"
   },
   {
    "duration": 2,
    "start_time": "2021-12-15T00:05:55.129Z"
   },
   {
    "duration": 1,
    "start_time": "2021-12-15T00:05:55.132Z"
   },
   {
    "duration": -5,
    "start_time": "2021-12-15T00:05:55.139Z"
   },
   {
    "duration": -7,
    "start_time": "2021-12-15T00:05:55.142Z"
   },
   {
    "duration": -60,
    "start_time": "2021-12-15T00:05:55.197Z"
   },
   {
    "duration": -65,
    "start_time": "2021-12-15T00:05:55.203Z"
   },
   {
    "duration": -40,
    "start_time": "2021-12-15T00:05:55.207Z"
   },
   {
    "duration": -42,
    "start_time": "2021-12-15T00:05:55.210Z"
   },
   {
    "duration": -44,
    "start_time": "2021-12-15T00:05:55.213Z"
   },
   {
    "duration": -49,
    "start_time": "2021-12-15T00:05:55.220Z"
   },
   {
    "duration": -52,
    "start_time": "2021-12-15T00:05:55.224Z"
   },
   {
    "duration": -54,
    "start_time": "2021-12-15T00:05:55.227Z"
   },
   {
    "duration": -58,
    "start_time": "2021-12-15T00:05:55.233Z"
   },
   {
    "duration": -64,
    "start_time": "2021-12-15T00:05:55.240Z"
   },
   {
    "duration": -66,
    "start_time": "2021-12-15T00:05:55.243Z"
   },
   {
    "duration": -112,
    "start_time": "2021-12-15T00:05:55.290Z"
   },
   {
    "duration": -140,
    "start_time": "2021-12-15T00:05:55.319Z"
   },
   {
    "duration": -145,
    "start_time": "2021-12-15T00:05:55.326Z"
   },
   {
    "duration": -147,
    "start_time": "2021-12-15T00:05:55.329Z"
   },
   {
    "duration": -149,
    "start_time": "2021-12-15T00:05:55.333Z"
   },
   {
    "duration": -152,
    "start_time": "2021-12-15T00:05:55.337Z"
   },
   {
    "duration": -154,
    "start_time": "2021-12-15T00:05:55.341Z"
   },
   {
    "duration": -155,
    "start_time": "2021-12-15T00:05:55.343Z"
   },
   {
    "duration": -157,
    "start_time": "2021-12-15T00:05:55.347Z"
   },
   {
    "duration": -162,
    "start_time": "2021-12-15T00:05:55.354Z"
   },
   {
    "duration": -164,
    "start_time": "2021-12-15T00:05:55.357Z"
   },
   {
    "duration": -186,
    "start_time": "2021-12-15T00:05:55.381Z"
   },
   {
    "duration": -209,
    "start_time": "2021-12-15T00:05:55.405Z"
   },
   {
    "duration": -210,
    "start_time": "2021-12-15T00:05:55.408Z"
   },
   {
    "duration": -211,
    "start_time": "2021-12-15T00:05:55.411Z"
   },
   {
    "duration": -214,
    "start_time": "2021-12-15T00:05:55.415Z"
   },
   {
    "duration": -219,
    "start_time": "2021-12-15T00:05:55.421Z"
   },
   {
    "duration": -222,
    "start_time": "2021-12-15T00:05:55.425Z"
   },
   {
    "duration": -224,
    "start_time": "2021-12-15T00:05:55.429Z"
   },
   {
    "duration": -166,
    "start_time": "2021-12-15T00:05:55.432Z"
   },
   {
    "duration": -194,
    "start_time": "2021-12-15T00:05:55.462Z"
   },
   {
    "duration": -197,
    "start_time": "2021-12-15T00:05:55.466Z"
   },
   {
    "duration": -202,
    "start_time": "2021-12-15T00:05:55.472Z"
   },
   {
    "duration": -238,
    "start_time": "2021-12-15T00:05:55.510Z"
   },
   {
    "duration": -242,
    "start_time": "2021-12-15T00:05:55.515Z"
   },
   {
    "duration": -248,
    "start_time": "2021-12-15T00:05:55.522Z"
   },
   {
    "duration": -251,
    "start_time": "2021-12-15T00:05:55.526Z"
   },
   {
    "duration": -264,
    "start_time": "2021-12-15T00:05:55.541Z"
   },
   {
    "duration": -268,
    "start_time": "2021-12-15T00:05:55.546Z"
   },
   {
    "duration": -270,
    "start_time": "2021-12-15T00:05:55.549Z"
   },
   {
    "duration": -275,
    "start_time": "2021-12-15T00:05:55.556Z"
   },
   {
    "duration": -295,
    "start_time": "2021-12-15T00:05:55.577Z"
   },
   {
    "duration": -296,
    "start_time": "2021-12-15T00:05:55.580Z"
   },
   {
    "duration": -324,
    "start_time": "2021-12-15T00:05:55.609Z"
   },
   {
    "duration": -326,
    "start_time": "2021-12-15T00:05:55.613Z"
   },
   {
    "duration": -343,
    "start_time": "2021-12-15T00:05:55.631Z"
   },
   {
    "duration": -347,
    "start_time": "2021-12-15T00:05:55.637Z"
   },
   {
    "duration": -350,
    "start_time": "2021-12-15T00:05:55.641Z"
   },
   {
    "duration": -352,
    "start_time": "2021-12-15T00:05:55.644Z"
   },
   {
    "duration": -355,
    "start_time": "2021-12-15T00:05:55.649Z"
   },
   {
    "duration": -360,
    "start_time": "2021-12-15T00:05:55.655Z"
   },
   {
    "duration": -363,
    "start_time": "2021-12-15T00:05:55.659Z"
   },
   {
    "duration": -378,
    "start_time": "2021-12-15T00:05:55.675Z"
   },
   {
    "duration": -379,
    "start_time": "2021-12-15T00:05:55.678Z"
   },
   {
    "duration": 92145,
    "start_time": "2021-12-15T00:08:11.616Z"
   },
   {
    "duration": 25746,
    "start_time": "2021-12-15T00:09:58.930Z"
   },
   {
    "duration": 3590,
    "start_time": "2021-12-15T00:10:24.680Z"
   },
   {
    "duration": 5,
    "start_time": "2021-12-15T00:10:28.272Z"
   },
   {
    "duration": 1305,
    "start_time": "2021-12-15T00:10:28.279Z"
   },
   {
    "duration": 876,
    "start_time": "2021-12-15T00:10:29.587Z"
   },
   {
    "duration": 116,
    "start_time": "2021-12-15T00:10:30.428Z"
   },
   {
    "duration": 113,
    "start_time": "2021-12-15T00:10:30.432Z"
   },
   {
    "duration": 112,
    "start_time": "2021-12-15T00:10:30.435Z"
   },
   {
    "duration": 106,
    "start_time": "2021-12-15T00:10:30.442Z"
   },
   {
    "duration": 104,
    "start_time": "2021-12-15T00:10:30.445Z"
   },
   {
    "duration": 102,
    "start_time": "2021-12-15T00:10:30.449Z"
   },
   {
    "duration": 100,
    "start_time": "2021-12-15T00:10:30.452Z"
   },
   {
    "duration": 99,
    "start_time": "2021-12-15T00:10:30.455Z"
   },
   {
    "duration": 92,
    "start_time": "2021-12-15T00:10:30.463Z"
   },
   {
    "duration": 101,
    "start_time": "2021-12-15T00:10:30.466Z"
   },
   {
    "duration": 101,
    "start_time": "2021-12-15T00:10:30.468Z"
   },
   {
    "duration": 99,
    "start_time": "2021-12-15T00:10:30.471Z"
   },
   {
    "duration": 93,
    "start_time": "2021-12-15T00:10:30.478Z"
   },
   {
    "duration": 93,
    "start_time": "2021-12-15T00:10:30.480Z"
   },
   {
    "duration": 91,
    "start_time": "2021-12-15T00:10:30.483Z"
   },
   {
    "duration": 88,
    "start_time": "2021-12-15T00:10:30.487Z"
   },
   {
    "duration": 84,
    "start_time": "2021-12-15T00:10:30.493Z"
   },
   {
    "duration": 83,
    "start_time": "2021-12-15T00:10:30.496Z"
   },
   {
    "duration": 83,
    "start_time": "2021-12-15T00:10:30.498Z"
   },
   {
    "duration": 81,
    "start_time": "2021-12-15T00:10:30.501Z"
   },
   {
    "duration": 80,
    "start_time": "2021-12-15T00:10:30.504Z"
   },
   {
    "duration": 74,
    "start_time": "2021-12-15T00:10:30.511Z"
   },
   {
    "duration": 74,
    "start_time": "2021-12-15T00:10:30.513Z"
   },
   {
    "duration": 73,
    "start_time": "2021-12-15T00:10:30.516Z"
   },
   {
    "duration": 72,
    "start_time": "2021-12-15T00:10:30.519Z"
   },
   {
    "duration": 68,
    "start_time": "2021-12-15T00:10:30.525Z"
   },
   {
    "duration": 66,
    "start_time": "2021-12-15T00:10:30.528Z"
   },
   {
    "duration": 66,
    "start_time": "2021-12-15T00:10:30.530Z"
   },
   {
    "duration": 66,
    "start_time": "2021-12-15T00:10:30.533Z"
   },
   {
    "duration": 65,
    "start_time": "2021-12-15T00:10:30.535Z"
   },
   {
    "duration": 63,
    "start_time": "2021-12-15T00:10:30.539Z"
   },
   {
    "duration": 56,
    "start_time": "2021-12-15T00:10:30.547Z"
   },
   {
    "duration": 118,
    "start_time": "2021-12-15T00:10:30.549Z"
   },
   {
    "duration": 117,
    "start_time": "2021-12-15T00:10:30.552Z"
   },
   {
    "duration": 114,
    "start_time": "2021-12-15T00:10:30.557Z"
   },
   {
    "duration": 88,
    "start_time": "2021-12-15T00:10:30.584Z"
   },
   {
    "duration": 87,
    "start_time": "2021-12-15T00:10:30.587Z"
   },
   {
    "duration": 82,
    "start_time": "2021-12-15T00:10:30.593Z"
   },
   {
    "duration": 81,
    "start_time": "2021-12-15T00:10:30.595Z"
   },
   {
    "duration": 80,
    "start_time": "2021-12-15T00:10:30.598Z"
   },
   {
    "duration": 78,
    "start_time": "2021-12-15T00:10:30.601Z"
   },
   {
    "duration": 77,
    "start_time": "2021-12-15T00:10:30.604Z"
   },
   {
    "duration": 72,
    "start_time": "2021-12-15T00:10:30.610Z"
   },
   {
    "duration": 71,
    "start_time": "2021-12-15T00:10:30.612Z"
   },
   {
    "duration": 70,
    "start_time": "2021-12-15T00:10:30.615Z"
   },
   {
    "duration": 68,
    "start_time": "2021-12-15T00:10:30.618Z"
   },
   {
    "duration": 66,
    "start_time": "2021-12-15T00:10:30.621Z"
   },
   {
    "duration": 62,
    "start_time": "2021-12-15T00:10:30.627Z"
   },
   {
    "duration": 61,
    "start_time": "2021-12-15T00:10:30.629Z"
   },
   {
    "duration": 60,
    "start_time": "2021-12-15T00:10:30.632Z"
   },
   {
    "duration": 58,
    "start_time": "2021-12-15T00:10:30.635Z"
   },
   {
    "duration": 57,
    "start_time": "2021-12-15T00:10:30.637Z"
   },
   {
    "duration": 53,
    "start_time": "2021-12-15T00:10:30.643Z"
   },
   {
    "duration": 51,
    "start_time": "2021-12-15T00:10:30.646Z"
   },
   {
    "duration": 50,
    "start_time": "2021-12-15T00:10:30.649Z"
   },
   {
    "duration": 49,
    "start_time": "2021-12-15T00:10:30.651Z"
   },
   {
    "duration": 48,
    "start_time": "2021-12-15T00:10:30.654Z"
   },
   {
    "duration": 42,
    "start_time": "2021-12-15T00:10:30.661Z"
   },
   {
    "duration": 40,
    "start_time": "2021-12-15T00:10:30.664Z"
   },
   {
    "duration": 99,
    "start_time": "2021-12-15T00:10:30.668Z"
   },
   {
    "duration": 99,
    "start_time": "2021-12-15T00:10:30.670Z"
   },
   {
    "duration": 94,
    "start_time": "2021-12-15T00:10:30.676Z"
   },
   {
    "duration": 93,
    "start_time": "2021-12-15T00:10:30.678Z"
   },
   {
    "duration": 92,
    "start_time": "2021-12-15T00:10:30.681Z"
   },
   {
    "duration": 90,
    "start_time": "2021-12-15T00:10:30.684Z"
   },
   {
    "duration": 89,
    "start_time": "2021-12-15T00:10:30.687Z"
   },
   {
    "duration": 85,
    "start_time": "2021-12-15T00:10:30.692Z"
   },
   {
    "duration": 84,
    "start_time": "2021-12-15T00:10:30.695Z"
   },
   {
    "duration": 84,
    "start_time": "2021-12-15T00:10:30.697Z"
   },
   {
    "duration": 68,
    "start_time": "2021-12-15T00:10:30.714Z"
   },
   {
    "duration": 68,
    "start_time": "2021-12-15T00:10:30.716Z"
   },
   {
    "duration": 66,
    "start_time": "2021-12-15T00:10:30.719Z"
   },
   {
    "duration": 63,
    "start_time": "2021-12-15T00:10:30.724Z"
   },
   {
    "duration": 61,
    "start_time": "2021-12-15T00:10:30.727Z"
   },
   {
    "duration": 61,
    "start_time": "2021-12-15T00:10:30.729Z"
   }
  ],
  "kernelspec": {
   "display_name": "Python 3 (ipykernel)",
   "language": "python",
   "name": "python3"
  },
  "language_info": {
   "codemirror_mode": {
    "name": "ipython",
    "version": 3
   },
   "file_extension": ".py",
   "mimetype": "text/x-python",
   "name": "python",
   "nbconvert_exporter": "python",
   "pygments_lexer": "ipython3",
   "version": "3.10.0"
  },
  "toc": {
   "base_numbering": 1,
   "nav_menu": {},
   "number_sections": true,
   "sideBar": true,
   "skip_h1_title": false,
   "title_cell": "Table of Contents",
   "title_sidebar": "Contents",
   "toc_cell": false,
   "toc_position": {},
   "toc_section_display": true,
   "toc_window_display": false
  },
  "varInspector": {
   "cols": {
    "lenName": 16,
    "lenType": 16,
    "lenVar": 40
   },
   "kernels_config": {
    "python": {
     "delete_cmd_postfix": "",
     "delete_cmd_prefix": "del ",
     "library": "var_list.py",
     "varRefreshCmd": "print(var_dic_list())"
    },
    "r": {
     "delete_cmd_postfix": ") ",
     "delete_cmd_prefix": "rm(",
     "library": "var_list.r",
     "varRefreshCmd": "cat(var_dic_list()) "
    }
   },
   "types_to_exclude": [
    "module",
    "function",
    "builtin_function_or_method",
    "instance",
    "_Feature"
   ],
   "window_display": false
  }
 },
 "nbformat": 4,
 "nbformat_minor": 5
}
