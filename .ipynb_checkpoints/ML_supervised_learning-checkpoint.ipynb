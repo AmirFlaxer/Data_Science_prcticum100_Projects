{
 "cells": [
  {
   "cell_type": "markdown",
   "id": "b791034b",
   "metadata": {},
   "source": [
    "Hello, my name is Ivan and I am going to review your project.\n",
    "\n",
    "\n",
    "There may be some shortcomings in the work that I will ask you to eliminate, you fix them and I check your decisions. You can find my comments in <font color='green'>green</font>, <font color='orange'>orange</font> or <font color='red'>red</font> boxes like this:\n",
    "\n",
    "\n",
    "<div class=\"alert alert-success\" style=\"box-shadow: 4px 4px 4px\">\n",
    "Success: if everything is done successfully\n",
    "</div>\n",
    "\n",
    "\n",
    "<div class=\"alert alert-warning\" style=\"box-shadow: 4px 4px 4px\">\n",
    "Remark: if I can give some recommendations or additional information\n",
    "</div>\n",
    "\n",
    "\n",
    "<div class=\"alert alert-danger\" style=\"box-shadow: 4px 4px 4px\">\n",
    "Need fixing: if the block requires some corrections. Work can't be accepted with the red comments\n",
    "</div>\n",
    "\n",
    "\n",
    "Thank you for taking time to complete this project, I appreciate the amount of work you've done! There are some issues that you need to work on, but overall it is a great start! \n",
    "\n",
    "\n",
    "Please, don't delete my comments) "
   ]
  },
  {
   "cell_type": "markdown",
   "id": "96cf514c",
   "metadata": {},
   "source": [
    "# Review(2)\n",
    "Thanks for your update. Now the project is accepted! I left one small remark, which does not affect the fact that project is accepted. \n",
    "\n",
    "\n",
    "Good luck in future learning!"
   ]
  },
  {
   "cell_type": "markdown",
   "id": "7f9fea37",
   "metadata": {
    "toc": true
   },
   "source": [
    "<h1>Table of Contents<span class=\"tocSkip\"></span></h1>\n",
    "<div class=\"toc\"><ul class=\"toc-item\"><li><span><a href=\"#Review(2)\" data-toc-modified-id=\"Review(2)-1\"><span class=\"toc-item-num\">1&nbsp;&nbsp;</span>Review(2)</a></span></li><li><span><a href=\"#General-feedback\" data-toc-modified-id=\"General-feedback-2\"><span class=\"toc-item-num\">2&nbsp;&nbsp;</span>General feedback</a></span></li><li><span><a href=\"#Project-description\" data-toc-modified-id=\"Project-description-3\"><span class=\"toc-item-num\">3&nbsp;&nbsp;</span>Project description</a></span><ul class=\"toc-item\"><li><span><a href=\"#Data-description\" data-toc-modified-id=\"Data-description-3.1\"><span class=\"toc-item-num\">3.1&nbsp;&nbsp;</span>Data description</a></span></li></ul></li><li><span><a href=\"#import-libraries\" data-toc-modified-id=\"import-libraries-4\"><span class=\"toc-item-num\">4&nbsp;&nbsp;</span>import libraries</a></span></li><li><span><a href=\"#Open-the-data-file-and-study-the-general-information.\" data-toc-modified-id=\"Open-the-data-file-and-study-the-general-information.-5\"><span class=\"toc-item-num\">5&nbsp;&nbsp;</span>Open the data file and study the general information.</a></span><ul class=\"toc-item\"><li><span><a href=\"#Read-the-data\" data-toc-modified-id=\"Read-the-data-5.1\"><span class=\"toc-item-num\">5.1&nbsp;&nbsp;</span>Read the data</a></span></li><li><span><a href=\"#Check-the-data\" data-toc-modified-id=\"Check-the-data-5.2\"><span class=\"toc-item-num\">5.2&nbsp;&nbsp;</span>Check the data</a></span></li><li><span><a href=\"#Check-the-data-frame-for-missing-values-and--duplicates\" data-toc-modified-id=\"Check-the-data-frame-for-missing-values-and--duplicates-5.3\"><span class=\"toc-item-num\">5.3&nbsp;&nbsp;</span>Check the data frame for missing values and  duplicates</a></span><ul class=\"toc-item\"><li><span><a href=\"#checking-for-missing-values\" data-toc-modified-id=\"checking-for-missing-values-5.3.1\"><span class=\"toc-item-num\">5.3.1&nbsp;&nbsp;</span>checking for missing values</a></span></li><li><span><a href=\"#checking-for-duplicates\" data-toc-modified-id=\"checking-for-duplicates-5.3.2\"><span class=\"toc-item-num\">5.3.2&nbsp;&nbsp;</span>checking for duplicates</a></span></li></ul></li><li><span><a href=\"#Removing-unnecessary-feature-columns\" data-toc-modified-id=\"Removing-unnecessary-feature-columns-5.4\"><span class=\"toc-item-num\">5.4&nbsp;&nbsp;</span>Removing unnecessary feature columns</a></span></li><li><span><a href=\"#Encoding\" data-toc-modified-id=\"Encoding-5.5\"><span class=\"toc-item-num\">5.5&nbsp;&nbsp;</span>Encoding</a></span><ul class=\"toc-item\"><li><span><a href=\"#Encoding---Gender\" data-toc-modified-id=\"Encoding---Gender-5.5.1\"><span class=\"toc-item-num\">5.5.1&nbsp;&nbsp;</span>Encoding - Gender</a></span></li><li><span><a href=\"#OHE---Geography\" data-toc-modified-id=\"OHE---Geography-5.5.2\"><span class=\"toc-item-num\">5.5.2&nbsp;&nbsp;</span>OHE - Geography</a></span></li></ul></li></ul></li><li><span><a href=\"#Split-the-source-data-into-a-training-set-and-a-validation-set\" data-toc-modified-id=\"Split-the-source-data-into-a-training-set-and-a-validation-set-6\"><span class=\"toc-item-num\">6&nbsp;&nbsp;</span>Split the source data into a training set and a validation set</a></span><ul class=\"toc-item\"><li><span><a href=\"#split-the-data-to-training-and-validation\" data-toc-modified-id=\"split-the-data-to-training-and-validation-6.1\"><span class=\"toc-item-num\">6.1&nbsp;&nbsp;</span>split the data to training and validation</a></span></li><li><span><a href=\"#divide-the-data-to-feature-and-target\" data-toc-modified-id=\"divide-the-data-to-feature-and-target-6.2\"><span class=\"toc-item-num\">6.2&nbsp;&nbsp;</span>divide the data to feature and target</a></span></li></ul></li><li><span><a href=\"#Feature-Scaling\" data-toc-modified-id=\"Feature-Scaling-7\"><span class=\"toc-item-num\">7&nbsp;&nbsp;</span>Feature Scaling</a></span></li><li><span><a href=\"#Checking-models\" data-toc-modified-id=\"Checking-models-8\"><span class=\"toc-item-num\">8&nbsp;&nbsp;</span>Checking models</a></span><ul class=\"toc-item\"><li><ul class=\"toc-item\"><li><span><a href=\"#checking-score-of-DecisionTreeClassifier\" data-toc-modified-id=\"checking-score-of-DecisionTreeClassifier-8.0.1\"><span class=\"toc-item-num\">8.0.1&nbsp;&nbsp;</span>checking score of DecisionTreeClassifier</a></span></li></ul></li><li><span><a href=\"#Sanity-Check\" data-toc-modified-id=\"Sanity-Check-8.1\"><span class=\"toc-item-num\">8.1&nbsp;&nbsp;</span>Sanity Check</a></span></li><li><span><a href=\"#Calculating-F1\" data-toc-modified-id=\"Calculating-F1-8.2\"><span class=\"toc-item-num\">8.2&nbsp;&nbsp;</span>Calculating F1</a></span></li></ul></li><li><span><a href=\"#class-imbalance\" data-toc-modified-id=\"class-imbalance-9\"><span class=\"toc-item-num\">9&nbsp;&nbsp;</span>class imbalance</a></span><ul class=\"toc-item\"><li><span><a href=\"#altering-the-model-parameters\" data-toc-modified-id=\"altering-the-model-parameters-9.1\"><span class=\"toc-item-num\">9.1&nbsp;&nbsp;</span>altering the model parameters</a></span></li><li><span><a href=\"#adjusting-the-threshold\" data-toc-modified-id=\"adjusting-the-threshold-9.2\"><span class=\"toc-item-num\">9.2&nbsp;&nbsp;</span>adjusting the threshold</a></span></li><li><span><a href=\"#ROC-curve-&amp;-AUC-ROC\" data-toc-modified-id=\"ROC-curve-&amp;-AUC-ROC-9.3\"><span class=\"toc-item-num\">9.3&nbsp;&nbsp;</span>ROC curve &amp; AUC-ROC</a></span><ul class=\"toc-item\"><li><span><a href=\"#graph-ROC-curve\" data-toc-modified-id=\"graph-ROC-curve-9.3.1\"><span class=\"toc-item-num\">9.3.1&nbsp;&nbsp;</span>graph ROC curve</a></span></li><li><span><a href=\"#imbalance-target----Upsampling\" data-toc-modified-id=\"imbalance-target----Upsampling-9.3.2\"><span class=\"toc-item-num\">9.3.2&nbsp;&nbsp;</span>imbalance target -  Upsampling</a></span></li></ul></li></ul></li><li><span><a href=\"#Investigate-the-quality-of-different-models-and-changing-hyperparameters\" data-toc-modified-id=\"Investigate-the-quality-of-different-models-and-changing-hyperparameters-10\"><span class=\"toc-item-num\">10&nbsp;&nbsp;</span>Investigate the quality of different models and changing hyperparameters</a></span><ul class=\"toc-item\"><li><span><a href=\"#Decision-Tree\" data-toc-modified-id=\"Decision-Tree-10.1\"><span class=\"toc-item-num\">10.1&nbsp;&nbsp;</span>Decision Tree</a></span><ul class=\"toc-item\"><li><span><a href=\"#optimizing-hyperparameters\" data-toc-modified-id=\"optimizing-hyperparameters-10.1.1\"><span class=\"toc-item-num\">10.1.1&nbsp;&nbsp;</span>optimizing hyperparameters</a></span><ul class=\"toc-item\"><li><span><a href=\"#F1\" data-toc-modified-id=\"F1-10.1.1.1\"><span class=\"toc-item-num\">10.1.1.1&nbsp;&nbsp;</span>F1</a></span></li><li><span><a href=\"#AUC-ROC\" data-toc-modified-id=\"AUC-ROC-10.1.1.2\"><span class=\"toc-item-num\">10.1.1.2&nbsp;&nbsp;</span>AUC-ROC</a></span></li><li><span><a href=\"#ROC-curve\" data-toc-modified-id=\"ROC-curve-10.1.1.3\"><span class=\"toc-item-num\">10.1.1.3&nbsp;&nbsp;</span>ROC curve</a></span></li></ul></li></ul></li><li><span><a href=\"#Random-Forest\" data-toc-modified-id=\"Random-Forest-10.2\"><span class=\"toc-item-num\">10.2&nbsp;&nbsp;</span>Random Forest</a></span><ul class=\"toc-item\"><li><span><a href=\"#optimizing-hyperparameters\" data-toc-modified-id=\"optimizing-hyperparameters-10.2.1\"><span class=\"toc-item-num\">10.2.1&nbsp;&nbsp;</span>optimizing hyperparameters</a></span><ul class=\"toc-item\"><li><span><a href=\"#F1\" data-toc-modified-id=\"F1-10.2.1.1\"><span class=\"toc-item-num\">10.2.1.1&nbsp;&nbsp;</span>F1</a></span></li><li><span><a href=\"#AUC-ROC\" data-toc-modified-id=\"AUC-ROC-10.2.1.2\"><span class=\"toc-item-num\">10.2.1.2&nbsp;&nbsp;</span>AUC-ROC</a></span></li><li><span><a href=\"#ROC-curve\" data-toc-modified-id=\"ROC-curve-10.2.1.3\"><span class=\"toc-item-num\">10.2.1.3&nbsp;&nbsp;</span>ROC curve</a></span></li></ul></li></ul></li><li><span><a href=\"#Logistic-Regression\" data-toc-modified-id=\"Logistic-Regression-10.3\"><span class=\"toc-item-num\">10.3&nbsp;&nbsp;</span>Logistic Regression</a></span><ul class=\"toc-item\"><li><span><a href=\"#optimizing-hyperparameters\" data-toc-modified-id=\"optimizing-hyperparameters-10.3.1\"><span class=\"toc-item-num\">10.3.1&nbsp;&nbsp;</span>optimizing hyperparameters</a></span><ul class=\"toc-item\"><li><span><a href=\"#F1\" data-toc-modified-id=\"F1-10.3.1.1\"><span class=\"toc-item-num\">10.3.1.1&nbsp;&nbsp;</span>F1</a></span></li><li><span><a href=\"#AUC-ROC\" data-toc-modified-id=\"AUC-ROC-10.3.1.2\"><span class=\"toc-item-num\">10.3.1.2&nbsp;&nbsp;</span>AUC-ROC</a></span></li><li><span><a href=\"#ROC-curve\" data-toc-modified-id=\"ROC-curve-10.3.1.3\"><span class=\"toc-item-num\">10.3.1.3&nbsp;&nbsp;</span>ROC curve</a></span></li></ul></li></ul></li><li><span><a href=\"#Conclusion\" data-toc-modified-id=\"Conclusion-10.4\"><span class=\"toc-item-num\">10.4&nbsp;&nbsp;</span>Conclusion</a></span><ul class=\"toc-item\"><li><span><a href=\"#The-major-finding\" data-toc-modified-id=\"The-major-finding-10.4.1\"><span class=\"toc-item-num\">10.4.1&nbsp;&nbsp;</span>The major finding</a></span></li></ul></li></ul></li><li><span><a href=\"#Test-data\" data-toc-modified-id=\"Test-data-11\"><span class=\"toc-item-num\">11&nbsp;&nbsp;</span>Test data</a></span><ul class=\"toc-item\"><li><span><a href=\"#F1-score-of-the-test-data\" data-toc-modified-id=\"F1-score-of-the-test-data-11.1\"><span class=\"toc-item-num\">11.1&nbsp;&nbsp;</span>F1 score of the test data</a></span></li><li><span><a href=\"#AUC---ROC-test-data\" data-toc-modified-id=\"AUC---ROC-test-data-11.2\"><span class=\"toc-item-num\">11.2&nbsp;&nbsp;</span>AUC - ROC test data</a></span></li></ul></li><li><span><a href=\"#Confusion-matrix\" data-toc-modified-id=\"Confusion-matrix-12\"><span class=\"toc-item-num\">12&nbsp;&nbsp;</span>Confusion matrix</a></span><ul class=\"toc-item\"><li><span><a href=\"#dummy-classifier\" data-toc-modified-id=\"dummy-classifier-12.1\"><span class=\"toc-item-num\">12.1&nbsp;&nbsp;</span>dummy classifier</a></span></li><li><span><a href=\"#ploting-confusion-matrix-to-the-three-models\" data-toc-modified-id=\"ploting-confusion-matrix-to-the-three-models-12.2\"><span class=\"toc-item-num\">12.2&nbsp;&nbsp;</span>ploting confusion matrix to the three models</a></span><ul class=\"toc-item\"><li><span><a href=\"#Decision-Tree-confusion-matrix\" data-toc-modified-id=\"Decision-Tree-confusion-matrix-12.2.1\"><span class=\"toc-item-num\">12.2.1&nbsp;&nbsp;</span>Decision Tree confusion matrix</a></span></li><li><span><a href=\"#Random-Forest-confusion-matrix\" data-toc-modified-id=\"Random-Forest-confusion-matrix-12.2.2\"><span class=\"toc-item-num\">12.2.2&nbsp;&nbsp;</span>Random Forest confusion matrix</a></span></li><li><span><a href=\"#Logistic-Regression-confusion-matrix\" data-toc-modified-id=\"Logistic-Regression-confusion-matrix-12.2.3\"><span class=\"toc-item-num\">12.2.3&nbsp;&nbsp;</span>Logistic Regression confusion matrix</a></span></li><li><span><a href=\"#The-major-finding\" data-toc-modified-id=\"The-major-finding-12.2.4\"><span class=\"toc-item-num\">12.2.4&nbsp;&nbsp;</span>The major finding</a></span></li></ul></li><li><span><a href=\"#The-random-forest-model-wins!\" data-toc-modified-id=\"The-random-forest-model-wins!-12.3\"><span class=\"toc-item-num\">12.3&nbsp;&nbsp;</span>The <strong>random forest model</strong> wins!</a></span></li></ul></li></ul></div>"
   ]
  },
  {
   "cell_type": "markdown",
   "id": "3cbc9112",
   "metadata": {},
   "source": [
    "# General feedback\n",
    "First of all, it is a great start! You've done an amazing job! I want to highlight a large number of graphs separately! This makes the analysis even more understandable. However, there are some shortcomings in your work. The design of the notebook needs to be improved a little. Try to write more comments between the code cells. This will help people understand your code. In addition, this will get rid of some misunderstandings.\n",
    "\n",
    "\n",
    "Good luck! I'll wait for your corrections) "
   ]
  },
  {
   "cell_type": "markdown",
   "id": "2e6fc36d",
   "metadata": {},
   "source": [
    "<div class=\"alert alert-success\" style=\"box-shadow: 4px 4px 4px\">\n",
    "Success: Great that table of contents was added! \n",
    "</div>"
   ]
  },
  {
   "cell_type": "markdown",
   "id": "587cc381",
   "metadata": {},
   "source": [
    "# Project description\n",
    "\n",
    "Beta Bank customers are leaving: little by little, chipping away every month. The bankers figured out it’s cheaper to save the existing customers rather than to attract new ones.\n",
    "We need to predict whether a customer will leave the bank soon. We have the data on clients’ past behavior and termination of contracts with the bank.\n",
    "\n",
    "Our mission: Build a model with the maximum possible F1 score. To pass the project, you need an F1 score of at least **0.59**. Check the F1 for the test set.\n",
    "\n",
    "Additionally, measure the AUC-ROC metric and compare it with the F1.\n",
    "\n",
    "**Type of problem** Classification"
   ]
  },
  {
   "cell_type": "markdown",
   "id": "8ab3b7ed",
   "metadata": {},
   "source": [
    "## Data description\n",
    "\n",
    "***Features***\n",
    "\n",
    "- **RowNumber** -data string index\n",
    "- **CustomerId** - unique customer identifier\n",
    "- **Surname** - surname\n",
    "- **CreditScore** - credit score\n",
    "- **Geography** - country of residence\n",
    "- **Gender** - gender\n",
    "- **Age** - age\n",
    "- **Tenure** - period of maturation for a customer’s fixed deposit (years)\n",
    "- **Balance** - account balance\n",
    "- **NumOfProducts** - number of banking products used by the customer\n",
    "- **HasCrCard** - customer has a credit card\n",
    "- **IsActiveMember** - customer’s activeness\n",
    "- **EstimatedSalary** - estimated salary\n",
    "\n",
    "***Target***\n",
    "\n",
    "- **Exited** - сustomer has left"
   ]
  },
  {
   "cell_type": "markdown",
   "id": "4e69be1d",
   "metadata": {},
   "source": [
    "# import libraries"
   ]
  },
  {
   "cell_type": "code",
   "execution_count": 1,
   "id": "e5cbcecc",
   "metadata": {},
   "outputs": [],
   "source": [
    "# update libraries\n",
    "!pip install pandas - U\n",
    "!pip install scikit-learn - U"
   ]
  },
  {
   "cell_type": "code",
   "execution_count": 2,
   "id": "fafc40e0",
   "metadata": {},
   "outputs": [],
   "source": [
    "# import libraries\n",
    "import numpy as np\n",
    "import pandas as pd\n",
    "import matplotlib.pyplot as plt\n",
    "from sklearn.tree import DecisionTreeClassifier\n",
    "from sklearn.ensemble import RandomForestClassifier\n",
    "from sklearn.linear_model import LogisticRegression\n",
    "from sklearn.metrics import accuracy_score\n",
    "from sklearn.model_selection import train_test_split\n",
    "from sklearn.metrics import plot_confusion_matrix\n",
    "\n",
    "from sklearn.preprocessing import OrdinalEncoder\n",
    "from sklearn.preprocessing import StandardScaler\n",
    "from sklearn.metrics import plot_confusion_matrix\n",
    "from sklearn.metrics import f1_score\n",
    "from sklearn.metrics import precision_score, recall_score\n",
    "from sklearn.metrics import roc_curve\n",
    "from sklearn.metrics import roc_auc_score\n",
    "from sklearn.dummy import DummyClassifier\n",
    "from sklearn.utils import shuffle"
   ]
  },
  {
   "cell_type": "code",
   "execution_count": 3,
   "id": "096b4e7f",
   "metadata": {},
   "outputs": [],
   "source": [
    "# definitions\n",
    "pd.options.display.float_format = '{:,.2f}'.format"
   ]
  },
  {
   "cell_type": "code",
   "execution_count": 4,
   "id": "0bfda719",
   "metadata": {},
   "outputs": [],
   "source": [
    "# delete error messages\n",
    "import sys\n",
    "import warnings\n",
    "if not sys.warnoptions:\n",
    "    warnings.simplefilter(\"ignore\")"
   ]
  },
  {
   "cell_type": "markdown",
   "id": "75d659ef",
   "metadata": {},
   "source": [
    "<div class=\"alert alert-success\" style=\"box-shadow: 4px 4px 4px\">\n",
    "Success: it is great that all of the libraries and methods are imported in one part of the notebook!\n",
    "</div>"
   ]
  },
  {
   "cell_type": "markdown",
   "id": "6abb8e74",
   "metadata": {},
   "source": [
    "# Open the data file and study the general information. "
   ]
  },
  {
   "cell_type": "markdown",
   "id": "ed6a9c1c",
   "metadata": {},
   "source": [
    "## Read the data"
   ]
  },
  {
   "cell_type": "code",
   "execution_count": 5,
   "id": "ba61c3e0",
   "metadata": {},
   "outputs": [],
   "source": [
    "# read input data\n",
    "try:\n",
    "    df = pd.read_csv(\"Churn.csv\", sep=\",\")\n",
    "except:\n",
    "    df = pd.read_csv(\"/datasets/Churn.csv\", sep=\",\")"
   ]
  },
  {
   "cell_type": "markdown",
   "id": "dc05de97",
   "metadata": {},
   "source": [
    "<div class=\"alert alert-success\" style=\"box-shadow: 4px 4px 4px\">\n",
    "Success: Great that try-except method was used!\n",
    "</div>"
   ]
  },
  {
   "cell_type": "markdown",
   "id": "361b16bf",
   "metadata": {},
   "source": [
    "## Check the data"
   ]
  },
  {
   "cell_type": "code",
   "execution_count": 6,
   "id": "f3183d2c",
   "metadata": {},
   "outputs": [
    {
     "data": {},
     "execution_count": 6,
     "metadata": {},
     "output_type": "execute_result"
    }
   ],
   "source": [
    "df.head()"
   ]
  },
  {
   "cell_type": "code",
   "execution_count": 7,
   "id": "217a6585",
   "metadata": {
    "scrolled": true
   },
   "outputs": [],
   "source": [
    "df.info()"
   ]
  },
  {
   "cell_type": "markdown",
   "id": "e99545c2",
   "metadata": {},
   "source": [
    "The Data Frame has 10,000 rows and 14 columns. Except column 'Tenure' there is no missing values"
   ]
  },
  {
   "cell_type": "markdown",
   "id": "b3f0f38a",
   "metadata": {},
   "source": [
    "<div class=\"alert alert-success\" style=\"box-shadow: 4px 4px 4px\">\n",
    "Success: I couldn't agree more!\n",
    "</div>"
   ]
  },
  {
   "cell_type": "markdown",
   "id": "564081f1",
   "metadata": {},
   "source": [
    "## Check the data frame for missing values and  duplicates"
   ]
  },
  {
   "cell_type": "markdown",
   "id": "b3627970",
   "metadata": {},
   "source": [
    "### checking for missing values"
   ]
  },
  {
   "cell_type": "code",
   "execution_count": 8,
   "id": "314731ce",
   "metadata": {},
   "outputs": [
    {
     "data": {},
     "execution_count": 8,
     "metadata": {},
     "output_type": "execute_result"
    }
   ],
   "source": [
    "# list of all missing values in the Dataset - in total and %\n",
    "report = df.isna().sum().to_frame()\n",
    "report = report.rename(columns={0: \"missing_values\"})\n",
    "report[\"%_of_total\"] = (report[\"missing_values\"] / df.shape[0] * 100).round(2)\n",
    "report.sort_values(by=\"missing_values\", ascending=False)"
   ]
  },
  {
   "cell_type": "markdown",
   "id": "37ed2857",
   "metadata": {},
   "source": [
    "missing data on Tenure"
   ]
  },
  {
   "cell_type": "code",
   "execution_count": 9,
   "id": "808f8f10",
   "metadata": {},
   "outputs": [
    {
     "data": {},
     "execution_count": 9,
     "metadata": {},
     "output_type": "execute_result"
    }
   ],
   "source": [
    "df[df['Tenure'].isna()].head(10)"
   ]
  },
  {
   "cell_type": "markdown",
   "id": "b4c8b571",
   "metadata": {},
   "source": [
    "We will replace the NaN with the median of this feature"
   ]
  },
  {
   "cell_type": "markdown",
   "id": "79de7bc1",
   "metadata": {},
   "source": [
    "<div class=\"alert alert-success\" style=\"box-shadow: 4px 4px 4px\">\n",
    "Success: Perfect!\n",
    "</div>"
   ]
  },
  {
   "cell_type": "code",
   "execution_count": 10,
   "id": "e23a2a83",
   "metadata": {},
   "outputs": [],
   "source": [
    "Tenure_med = round(df['Tenure'].median())\n",
    "df['Tenure'].fillna(value=Tenure_med, inplace=True)"
   ]
  },
  {
   "cell_type": "markdown",
   "id": "1ef72f37",
   "metadata": {},
   "source": [
    "### checking for duplicates"
   ]
  },
  {
   "cell_type": "code",
   "execution_count": 11,
   "id": "39e90bb4",
   "metadata": {},
   "outputs": [],
   "source": [
    "# check to see if there are exact duplicates:\n",
    "print(f\"Number of duplictes is \\t\\t{df.duplicated().sum()}\")"
   ]
  },
  {
   "cell_type": "markdown",
   "id": "84d3fde3",
   "metadata": {},
   "source": [
    "no duplicates on the data"
   ]
  },
  {
   "cell_type": "markdown",
   "id": "4565f96a",
   "metadata": {},
   "source": [
    "<div class=\"alert alert-success\" style=\"box-shadow: 4px 4px 4px\">\n",
    "Success: Great!\n",
    "</div>"
   ]
  },
  {
   "cell_type": "markdown",
   "id": "3d7b1390",
   "metadata": {},
   "source": [
    "## Removing unnecessary feature columns"
   ]
  },
  {
   "cell_type": "markdown",
   "id": "a461802e",
   "metadata": {},
   "source": [
    "no need for the following columns:\n",
    "- RowNumber\n",
    "- CustomerId\n",
    "- Surname"
   ]
  },
  {
   "cell_type": "code",
   "execution_count": 12,
   "id": "cf606913",
   "metadata": {},
   "outputs": [],
   "source": [
    "df = df.drop(['RowNumber', 'CustomerId', 'Surname'], axis=1)"
   ]
  },
  {
   "cell_type": "code",
   "execution_count": 13,
   "id": "f9712091",
   "metadata": {},
   "outputs": [
    {
     "data": {},
     "execution_count": 13,
     "metadata": {},
     "output_type": "execute_result"
    }
   ],
   "source": [
    "df.head()"
   ]
  },
  {
   "cell_type": "markdown",
   "id": "a7553c6f",
   "metadata": {},
   "source": [
    "## Encoding\n",
    "\n",
    "Two features need encoding:\n",
    "- **Gender** - we will use encoding by map\n",
    "- **Geography** - we will use One-Hot Encoding (OHE)"
   ]
  },
  {
   "cell_type": "markdown",
   "id": "b9f34838",
   "metadata": {},
   "source": [
    "### Encoding - Gender"
   ]
  },
  {
   "cell_type": "code",
   "execution_count": 14,
   "id": "79080ec3",
   "metadata": {},
   "outputs": [
    {
     "data": {
      "image/png": "[encoded data removed]"
     },
     "metadata": {
      "needs_background": "light"
     },
     "output_type": "display_data"
    }
   ],
   "source": [
    "# checking the content of the feature\n",
    "df['Gender'].value_counts().plot(kind='bar')"
   ]
  },
  {
   "cell_type": "code",
   "execution_count": 15,
   "id": "7cb51812",
   "metadata": {},
   "outputs": [
    {
     "data": {},
     "execution_count": 15,
     "metadata": {},
     "output_type": "execute_result"
    }
   ],
   "source": [
    "# only two option\n",
    "gender_dict = {'Male': 0, 'Female': 1}\n",
    "df['Gender'] = df['Gender'].map(gender_dict)\n",
    "df.head()"
   ]
  },
  {
   "cell_type": "markdown",
   "id": "2692483e",
   "metadata": {},
   "source": [
    "<div class=\"alert alert-success\" style=\"box-shadow: 4px 4px 4px\">\n",
    "Success: Absolutely correct!\n",
    "</div>"
   ]
  },
  {
   "cell_type": "markdown",
   "id": "e1a3bd65",
   "metadata": {},
   "source": [
    "### OHE - Geography"
   ]
  },
  {
   "cell_type": "code",
   "execution_count": 16,
   "id": "28d90109",
   "metadata": {},
   "outputs": [
    {
     "data": {
      "image/png": "[encoded data removed]"
     },
     "metadata": {
      "needs_background": "light"
     },
     "output_type": "display_data"
    }
   ],
   "source": [
    "# checking the content of the feature\n",
    "df['Geography'].value_counts().plot(kind='bar')"
   ]
  },
  {
   "cell_type": "code",
   "execution_count": 17,
   "id": "27d57fa5",
   "metadata": {},
   "outputs": [
    {
     "data": {},
     "execution_count": 17,
     "metadata": {},
     "output_type": "execute_result"
    }
   ],
   "source": [
    "df = pd.get_dummies(df, drop_first=True)\n",
    "df.head()"
   ]
  },
  {
   "cell_type": "markdown",
   "id": "506753c1",
   "metadata": {},
   "source": [
    "<div class=\"alert alert-success\" style=\"box-shadow: 4px 4px 4px\">\n",
    "Success: It is great that get_dummies method was used!\n",
    "</div>"
   ]
  },
  {
   "cell_type": "markdown",
   "id": "77dceb29",
   "metadata": {},
   "source": [
    "# Split the source data into a training set and a validation set"
   ]
  },
  {
   "cell_type": "markdown",
   "id": "415f9f08",
   "metadata": {},
   "source": [
    "features are all parameters (input) for the model. The target is the discrete class of the outcome."
   ]
  },
  {
   "cell_type": "markdown",
   "id": "ad1e2587",
   "metadata": {},
   "source": [
    "## split the data to training and validation\n",
    "We use 75% for training and 25% for validation"
   ]
  },
  {
   "cell_type": "code",
   "execution_count": 18,
   "id": "913ebf61",
   "metadata": {},
   "outputs": [],
   "source": [
    "# First, we split the data to train and temp\n",
    "df_train, df_temp = train_test_split(df, test_size=0.4, random_state=12345)"
   ]
  },
  {
   "cell_type": "code",
   "execution_count": 19,
   "id": "28d066e7",
   "metadata": {},
   "outputs": [],
   "source": [
    "# Then, we split the temp to test and valid\n",
    "df_test, df_validate = train_test_split(\n",
    "    df_temp, test_size=0.5, random_state=12345)"
   ]
  },
  {
   "cell_type": "markdown",
   "id": "e274d9ed",
   "metadata": {},
   "source": [
    "<div class=\"alert alert-success\" style=\"box-shadow: 4px 4px 4px\">\n",
    "Success: Everything is correct now!\n",
    "</div>"
   ]
  },
  {
   "cell_type": "markdown",
   "id": "7c731039",
   "metadata": {},
   "source": [
    "## divide the data to feature and target"
   ]
  },
  {
   "cell_type": "code",
   "execution_count": 20,
   "id": "6204afc2",
   "metadata": {},
   "outputs": [],
   "source": [
    "# feature\n",
    "features_train = df_train.drop(['Exited'], axis=1)\n",
    "features_validate = df_validate.drop(['Exited'], axis=1)\n",
    "features_test = df_test.drop(['Exited'], axis=1)"
   ]
  },
  {
   "cell_type": "code",
   "execution_count": 21,
   "id": "f6324f56",
   "metadata": {},
   "outputs": [],
   "source": [
    "# target\n",
    "target_train = df_train['Exited']\n",
    "target_validate = df_validate['Exited']\n",
    "target_test = df_test['Exited']"
   ]
  },
  {
   "cell_type": "markdown",
   "id": "abf4e020",
   "metadata": {},
   "source": [
    "# Feature Scaling"
   ]
  },
  {
   "cell_type": "code",
   "execution_count": 22,
   "id": "e100f9ae",
   "metadata": {},
   "outputs": [],
   "source": [
    "numeric = ['CreditScore', 'Age', 'Tenure', 'Balance', 'EstimatedSalary']"
   ]
  },
  {
   "cell_type": "code",
   "execution_count": 23,
   "id": "cb87e440",
   "metadata": {},
   "outputs": [
    {
     "data": {},
     "execution_count": 23,
     "metadata": {},
     "output_type": "execute_result"
    }
   ],
   "source": [
    "scaler = StandardScaler()\n",
    "scaler.fit(features_train[numeric])"
   ]
  },
  {
   "cell_type": "code",
   "execution_count": 24,
   "id": "cb8dd37a",
   "metadata": {},
   "outputs": [],
   "source": [
    "features_train[numeric] = scaler.transform(features_train[numeric])\n",
    "features_validate[numeric] = scaler.transform(features_validate[numeric])\n",
    "features_test[numeric] = scaler.transform(features_test[numeric])"
   ]
  },
  {
   "cell_type": "markdown",
   "id": "bf3ea530",
   "metadata": {},
   "source": [
    "<div class=\"alert alert-success\" style=\"box-shadow: 4px 4px 4px\">\n",
    "Success: Great idea!\n",
    "</div>"
   ]
  },
  {
   "cell_type": "markdown",
   "id": "a66c79f8",
   "metadata": {},
   "source": [
    "# Checking models"
   ]
  },
  {
   "cell_type": "markdown",
   "id": "cad69e1e",
   "metadata": {},
   "source": [
    "### checking score of DecisionTreeClassifier"
   ]
  },
  {
   "cell_type": "code",
   "execution_count": 25,
   "id": "97bfe744",
   "metadata": {},
   "outputs": [
    {
     "data": {},
     "execution_count": 25,
     "metadata": {},
     "output_type": "execute_result"
    }
   ],
   "source": [
    "model_dtc = DecisionTreeClassifier(random_state=12345, max_depth=11)\n",
    "model_dtc.fit(features_train, target_train)\n",
    "predicted_validate = model_dtc.predict(features_validate)\n",
    "accuracy_valid = accuracy_score(target_validate, predicted_validate)\n",
    "accuracy_valid"
   ]
  },
  {
   "cell_type": "markdown",
   "id": "6c77622e",
   "metadata": {},
   "source": [
    "## Sanity Check"
   ]
  },
  {
   "cell_type": "markdown",
   "id": "02aa268d",
   "metadata": {},
   "source": [
    "Checking the relation between the target outcome 1 and 0"
   ]
  },
  {
   "cell_type": "code",
   "execution_count": 26,
   "id": "961be811",
   "metadata": {},
   "outputs": [
    {
     "data": {
      "image/png": "[encoded data removed]"
     },
     "metadata": {
      "needs_background": "light"
     },
     "output_type": "display_data"
    }
   ],
   "source": [
    "target_train.value_counts().plot(kind='bar')"
   ]
  },
  {
   "cell_type": "markdown",
   "id": "483c9c6e",
   "metadata": {},
   "source": [
    "Most of the target is '0'"
   ]
  },
  {
   "cell_type": "code",
   "execution_count": 27,
   "id": "d9aaa375",
   "metadata": {},
   "outputs": [
    {
     "data": {},
     "execution_count": 27,
     "metadata": {},
     "output_type": "execute_result"
    }
   ],
   "source": [
    "target_pred_constant = pd.Series(0 for i in target_train)\n",
    "accuracy_score(target_train, target_pred_constant)"
   ]
  },
  {
   "cell_type": "markdown",
   "id": "6f882640",
   "metadata": {},
   "source": [
    "dummy model that return '0' every time, get a score of 0.8"
   ]
  },
  {
   "cell_type": "code",
   "execution_count": 28,
   "id": "34f2f9bf",
   "metadata": {},
   "outputs": [
    {
     "data": {
      "image/png": "[encoded data removed]"
     },
     "metadata": {
      "needs_background": "light"
     },
     "output_type": "display_data"
    }
   ],
   "source": [
    "#model_dt = DecisionTreeClassifier(random_state=12345, max_depth=3)\n",
    "#model_dt.fit(features_train, target_train)\n",
    "plot_confusion_matrix(estimator=model_dtc, X=features_validate, y_true=target_validate,\n",
    "                      normalize='all', cmap='Blues', display_labels=['Exited=0', 'Exited=1'])"
   ]
  },
  {
   "cell_type": "markdown",
   "id": "b5bd2617",
   "metadata": {},
   "source": [
    "## Calculating F1"
   ]
  },
  {
   "cell_type": "code",
   "execution_count": 29,
   "id": "4eb3f399",
   "metadata": {},
   "outputs": [
    {
     "data": {},
     "execution_count": 29,
     "metadata": {},
     "output_type": "execute_result"
    }
   ],
   "source": [
    "predicted_validate = model_dtc.predict(features_validate)\n",
    "f1_score(target_validate, predicted_validate)"
   ]
  },
  {
   "cell_type": "markdown",
   "id": "4c9bc665",
   "metadata": {},
   "source": [
    "<div class=\"alert alert-success\" style=\"box-shadow: 4px 4px 4px\">\n",
    "Success: That is a big F1 score for such a simple model!\n",
    "</div>"
   ]
  },
  {
   "cell_type": "markdown",
   "id": "89db079f",
   "metadata": {},
   "source": [
    "# class imbalance"
   ]
  },
  {
   "cell_type": "markdown",
   "id": "a340cd07",
   "metadata": {},
   "source": [
    "We are checking the target to find out if the target is balance or not"
   ]
  },
  {
   "cell_type": "code",
   "execution_count": 30,
   "id": "28d615b5",
   "metadata": {},
   "outputs": [
    {
     "data": {},
     "execution_count": 30,
     "metadata": {},
     "output_type": "execute_result"
    }
   ],
   "source": [
    "df['Exited'].value_counts()"
   ]
  },
  {
   "cell_type": "markdown",
   "id": "e4e3e672",
   "metadata": {},
   "source": [
    "As we can see, the imbalance ratio is almost 1:4 '0' to '1'.\n",
    "\n",
    "We need to address this imbalance."
   ]
  },
  {
   "cell_type": "markdown",
   "id": "6cf03471",
   "metadata": {},
   "source": [
    "## altering the model parameters"
   ]
  },
  {
   "cell_type": "code",
   "execution_count": 31,
   "id": "3252687d",
   "metadata": {},
   "outputs": [
    {
     "data": {},
     "execution_count": 31,
     "metadata": {},
     "output_type": "execute_result"
    }
   ],
   "source": [
    "model_dtc_bal = DecisionTreeClassifier(\n",
    "    random_state=12345, max_depth=11, class_weight='balanced')\n",
    "model_dtc_bal.fit(features_train, target_train)\n",
    "predicted_validate = model_dtc_bal.predict(features_validate)\n",
    "f1_score(target_validate, predicted_validate)"
   ]
  },
  {
   "cell_type": "markdown",
   "id": "3111f203",
   "metadata": {},
   "source": [
    "Using class weight in the model raise the F1 score"
   ]
  },
  {
   "cell_type": "markdown",
   "id": "7e575c0e",
   "metadata": {},
   "source": [
    "## adjusting the threshold "
   ]
  },
  {
   "cell_type": "code",
   "execution_count": 32,
   "id": "6367fe81",
   "metadata": {},
   "outputs": [],
   "source": [
    "model_dtc_bal = DecisionTreeClassifier(\n",
    "    random_state=12345, max_depth=11, class_weight='balanced')\n",
    "model_dtc_bal.fit(features_train, target_train)\n",
    "probabilities_validate = model_dtc_bal.predict_proba(features_validate)\n",
    "probabilities_one_valid = probabilities_validate[:, 1]\n",
    "\n",
    "for threshold in np.arange(0, 0.95, 0.04):\n",
    "    predicted_validate = probabilities_one_valid > threshold\n",
    "    precision = precision_score(target_validate, predicted_validate)\n",
    "    recall = recall_score(target_validate, predicted_validate)\n",
    "    f1 = f1_score(target_validate, predicted_validate)\n",
    "\n",
    "    print(\n",
    "        f'Threshold = {threshold:.2f} | Precision = {precision:.3f}, Recall = {recall:.3f}, F1 = {f1:.3f}')"
   ]
  },
  {
   "cell_type": "markdown",
   "id": "6aa7213b",
   "metadata": {},
   "source": [
    "The best F1 score is in threshhold = 0.6"
   ]
  },
  {
   "cell_type": "markdown",
   "id": "1097e550",
   "metadata": {},
   "source": [
    "## ROC curve & AUC-ROC"
   ]
  },
  {
   "cell_type": "code",
   "execution_count": 33,
   "id": "efba6459",
   "metadata": {},
   "outputs": [
    {
     "data": {},
     "execution_count": 33,
     "metadata": {},
     "output_type": "execute_result"
    }
   ],
   "source": [
    "model_dtc_bal = DecisionTreeClassifier(\n",
    "    random_state=12345, max_depth=11, class_weight='balanced')\n",
    "model_dtc_bal.fit(features_train, target_train)\n",
    "\n",
    "probabilities_validate = model_dtc_bal.predict_proba(features_validate)\n",
    "probabilities_one_validate = probabilities_validate[:, 1]\n",
    "\n",
    "auc_roc = roc_auc_score(target_validate, probabilities_one_validate)\n",
    "\n",
    "auc_roc"
   ]
  },
  {
   "cell_type": "markdown",
   "id": "e094323a",
   "metadata": {},
   "source": [
    "### graph ROC curve"
   ]
  },
  {
   "cell_type": "code",
   "execution_count": 34,
   "id": "eeffbe24",
   "metadata": {},
   "outputs": [
    {
     "data": {
      "image/png": "[encoded data removed]"
     },
     "metadata": {
      "needs_background": "light"
     },
     "output_type": "display_data"
    }
   ],
   "source": [
    "fpr, tpr, thresholds = roc_curve(target_validate, probabilities_one_validate)\n",
    "\n",
    "# the graph\n",
    "plt.figure()\n",
    "plt.plot(fpr, tpr)\n",
    "\n",
    "# ROC curve for random model\n",
    "plt.plot([0, 1], [0, 1], linestyle='--')\n",
    "\n",
    "#   set the boundary for the axes from 0 to 1 >\n",
    "plt.ylim([0.0, 1.0])\n",
    "plt.xlim([0.0, 1.0])\n",
    "\n",
    "# name the axes \"False Positive Rate\" and \"True Positive Rate\"\n",
    "plt.xlabel('False Positive Rate')\n",
    "plt.ylabel('True Positive Rate')\n",
    "\n",
    "# add the heading \"ROC curve\"\n",
    "plt.title('ROC curve')\n",
    "\n",
    "plt.show()"
   ]
  },
  {
   "cell_type": "markdown",
   "id": "dec10b38",
   "metadata": {},
   "source": [
    "<div class=\"alert alert-success\" style=\"box-shadow: 4px 4px 4px\">\n",
    "Success: It is great that ROC curve graph was plotted!\n",
    "</div>"
   ]
  },
  {
   "cell_type": "markdown",
   "id": "87037052",
   "metadata": {},
   "source": [
    "**conclusion:** Our model is not very helpful.\n",
    "\n",
    "We will try other models and change the hyperparameters."
   ]
  },
  {
   "cell_type": "markdown",
   "id": "7a4fdb17",
   "metadata": {},
   "source": [
    "### imbalance target -  Upsampling"
   ]
  },
  {
   "cell_type": "code",
   "execution_count": 35,
   "id": "2cf69f11",
   "metadata": {},
   "outputs": [],
   "source": [
    "def upsample(features, target, repeat):\n",
    "    features_zeros = features[target == 0]\n",
    "    features_ones = features[target == 1]\n",
    "    target_zeros = target[target == 0]\n",
    "    target_ones = target[target == 1]\n",
    "\n",
    "    features_upsampled = pd.concat([features_zeros] + [features_ones] * repeat)\n",
    "    target_upsampled = pd.concat([target_zeros] + [target_ones] * repeat)\n",
    "\n",
    "    features_upsampled, target_upsampled = shuffle(\n",
    "        features_upsampled, target_upsampled, random_state=12345)\n",
    "\n",
    "    return features_upsampled, target_upsampled"
   ]
  },
  {
   "cell_type": "code",
   "execution_count": 36,
   "id": "346f0a4b",
   "metadata": {},
   "outputs": [],
   "source": [
    "features_upsampled, target_upsampled = upsample(\n",
    "    features_train, target_train, 3)"
   ]
  },
  {
   "cell_type": "code",
   "execution_count": 37,
   "id": "1b91f0b1",
   "metadata": {},
   "outputs": [],
   "source": [
    "model_dtc_bal_us = DecisionTreeClassifier(\n",
    "    random_state=12345, max_depth=11, class_weight='balanced')\n",
    "model_dtc_bal_us.fit(features_upsampled, target_upsampled)\n",
    "predicted_valid = model_dtc_bal_us.predict(features_validate)\n",
    "\n",
    "\n",
    "print('F1:', f1_score(target_validate, predicted_valid))"
   ]
  },
  {
   "cell_type": "markdown",
   "id": "8cd2451d",
   "metadata": {},
   "source": [
    "**conclusion:** Upsampling by 3 times improve the F1 score. \n",
    "\n",
    "We will replace the feature train with feature upsampled and target train with target upsampled"
   ]
  },
  {
   "cell_type": "code",
   "execution_count": 38,
   "id": "c96f991c",
   "metadata": {},
   "outputs": [],
   "source": [
    "features_train = features_upsampled\n",
    "target_train = target_upsampled"
   ]
  },
  {
   "cell_type": "markdown",
   "id": "d882d85b",
   "metadata": {},
   "source": [
    "# Investigate the quality of different models and changing hyperparameters"
   ]
  },
  {
   "cell_type": "markdown",
   "id": "f8581074",
   "metadata": {},
   "source": [
    "## Decision Tree"
   ]
  },
  {
   "cell_type": "markdown",
   "id": "6709ebf0",
   "metadata": {},
   "source": [
    "Decision Tree is one of the predictive modeling approaches used in when the predicted outcome is the class (discrete) to which the data belongs.\n",
    "\n",
    "It uses a decision tree to go from observations (features) about an item (represented in the branches) to conclusions about the item's target value (represented in the leaves).\n",
    "\n",
    "Tree models where the target variable can take a discrete set of values are called classification trees; in these tree structures, leaves represent class labels and branches represent conjunctions of features that lead to those class labels. "
   ]
  },
  {
   "cell_type": "code",
   "execution_count": 39,
   "id": "1c24c437",
   "metadata": {},
   "outputs": [],
   "source": [
    "# We will start with max_depth = 3 for fast model and then we will optimize this hyper parameter\n",
    "model_dtc = DecisionTreeClassifier(\n",
    "    random_state=12345, max_depth=3, class_weight='balanced')"
   ]
  },
  {
   "cell_type": "code",
   "execution_count": 40,
   "id": "a1143ac9",
   "metadata": {},
   "outputs": [
    {
     "data": {},
     "execution_count": 40,
     "metadata": {},
     "output_type": "execute_result"
    }
   ],
   "source": [
    "model_dtc.fit(features_train, target_train)"
   ]
  },
  {
   "cell_type": "code",
   "execution_count": 41,
   "id": "1c88b5e0",
   "metadata": {},
   "outputs": [
    {
     "data": {},
     "execution_count": 41,
     "metadata": {},
     "output_type": "execute_result"
    }
   ],
   "source": [
    "predicted_validate = model_dtc.predict(features_validate)\n",
    "f1_score(target_validate, predicted_validate)"
   ]
  },
  {
   "cell_type": "markdown",
   "id": "02c76606",
   "metadata": {},
   "source": [
    "**conclusion:** when running the model on hyperparameter $max__depth = 3$, the F1 score of the model is 0.513"
   ]
  },
  {
   "cell_type": "markdown",
   "id": "a542c972",
   "metadata": {},
   "source": [
    "### optimizing hyperparameters"
   ]
  },
  {
   "cell_type": "markdown",
   "id": "65312a91",
   "metadata": {},
   "source": [
    "We will try to change the hyperparameter max_depth from 1 to 10 to find out what gives the best accuracy score of the model."
   ]
  },
  {
   "cell_type": "code",
   "execution_count": 42,
   "id": "e6ec98bd",
   "metadata": {},
   "outputs": [],
   "source": [
    "for i in range(1, 11):\n",
    "    model_dt = DecisionTreeClassifier(\n",
    "        random_state=12345,  max_depth=i, class_weight='balanced')\n",
    "    model_dt.fit(features_train, target_train)\n",
    "    predictions_validate = model_dt.predict(features_validate)\n",
    "    f1_dt = f1_score(target_validate, predictions_validate)\n",
    "    print(f'For max_depth = {i},\\t F1 is {f1_dt:.5f}')"
   ]
  },
  {
   "cell_type": "markdown",
   "id": "91347e35",
   "metadata": {},
   "source": [
    "**conclusion:** on checking the model on the validate data, the best F1 score is $max__depth = 5$"
   ]
  },
  {
   "cell_type": "markdown",
   "id": "5fc1b7d7",
   "metadata": {},
   "source": [
    "<div class=\"alert alert-success\" style=\"box-shadow: 4px 4px 4px\">\n",
    "Success: Great model!\n",
    "</div>"
   ]
  },
  {
   "cell_type": "markdown",
   "id": "050c35c8",
   "metadata": {},
   "source": [
    "#### F1"
   ]
  },
  {
   "cell_type": "code",
   "execution_count": 43,
   "id": "9049b55b",
   "metadata": {},
   "outputs": [],
   "source": [
    "model_dt = DecisionTreeClassifier(\n",
    "    random_state=12345, max_depth=5, class_weight='balanced')\n",
    "model_dt.fit(features_train, target_train)\n",
    "predictions_validate = model_dt.predict(features_validate)\n",
    "f1_dt = f1_score(target_validate, predictions_validate)\n",
    "print(f'For max_depth = 5 on validation data, F1 is {f1_dt:.5f}')"
   ]
  },
  {
   "cell_type": "markdown",
   "id": "6f16e248",
   "metadata": {},
   "source": [
    "#### AUC-ROC"
   ]
  },
  {
   "cell_type": "code",
   "execution_count": 44,
   "id": "4ac968b0",
   "metadata": {},
   "outputs": [
    {
     "data": {},
     "execution_count": 44,
     "metadata": {},
     "output_type": "execute_result"
    }
   ],
   "source": [
    "probabilities_validate = model_dt.predict_proba(features_validate)\n",
    "probabilities_one_validate = probabilities_validate[:, 1]\n",
    "\n",
    "auc_roc = roc_auc_score(target_validate, probabilities_one_validate)\n",
    "\n",
    "auc_roc"
   ]
  },
  {
   "cell_type": "markdown",
   "id": "6e368af7",
   "metadata": {},
   "source": [
    "#### ROC curve"
   ]
  },
  {
   "cell_type": "code",
   "execution_count": 45,
   "id": "e71fa828",
   "metadata": {},
   "outputs": [
    {
     "data": {
      "image/png": "[encoded data removed]"
     },
     "metadata": {
      "needs_background": "light"
     },
     "output_type": "display_data"
    }
   ],
   "source": [
    "fpr, tpr, thresholds = roc_curve(target_validate, probabilities_one_validate)\n",
    "\n",
    "# the graph\n",
    "plt.figure()\n",
    "plt.plot(fpr, tpr)\n",
    "\n",
    "# ROC curve for random model\n",
    "plt.plot([0, 1], [0, 1], linestyle='--')\n",
    "\n",
    "#   set the boundary for the axes from 0 to 1 >\n",
    "plt.ylim([0.0, 1.0])\n",
    "plt.xlim([0.0, 1.0])\n",
    "\n",
    "# name the axes \"False Positive Rate\" and \"True Positive Rate\"\n",
    "plt.xlabel('False Positive Rate')\n",
    "plt.ylabel('True Positive Rate')\n",
    "\n",
    "# add the heading \"ROC curve\"\n",
    "plt.title('ROC curve')\n",
    "\n",
    "plt.show()"
   ]
  },
  {
   "cell_type": "markdown",
   "id": "be5069c2",
   "metadata": {},
   "source": [
    "<div class=\"alert alert-success\" style=\"box-shadow: 4px 4px 4px\">\n",
    "Success: It is great that ROC curve graph was plotted!\n",
    "</div>"
   ]
  },
  {
   "cell_type": "markdown",
   "id": "7ed4482e",
   "metadata": {},
   "source": [
    "## Random Forest"
   ]
  },
  {
   "cell_type": "markdown",
   "id": "b4767d0f",
   "metadata": {},
   "source": [
    "Random forests are an ensemble learning method for classification that operates by constructing a multitude of decision trees at training time.\n",
    "\n",
    "For classification tasks, the output of the random forest is the class selected by most trees.\n",
    "\n",
    "Random decision forests correct for decision trees' habit of overfitting to their training set. \n",
    "\n",
    "Random forests generally outperform decision trees."
   ]
  },
  {
   "cell_type": "code",
   "execution_count": 46,
   "id": "ec64fa5a",
   "metadata": {},
   "outputs": [],
   "source": [
    "# We will start with n_estimators = 10 for fast model and then we will optimize this hyper parameter\n",
    "model_rfc = RandomForestClassifier(\n",
    "    random_state=12345, n_estimators=10, class_weight='balanced')"
   ]
  },
  {
   "cell_type": "code",
   "execution_count": 47,
   "id": "21038517",
   "metadata": {},
   "outputs": [
    {
     "data": {},
     "execution_count": 47,
     "metadata": {},
     "output_type": "execute_result"
    }
   ],
   "source": [
    "model_rfc.fit(features_train, target_train)"
   ]
  },
  {
   "cell_type": "code",
   "execution_count": 48,
   "id": "f598b10a",
   "metadata": {},
   "outputs": [
    {
     "data": {},
     "execution_count": 48,
     "metadata": {},
     "output_type": "execute_result"
    }
   ],
   "source": [
    "predicted_validate = model_rfc.predict(features_validate)\n",
    "f1_score(target_validate, predicted_validate)"
   ]
  },
  {
   "cell_type": "markdown",
   "id": "abc114b9",
   "metadata": {},
   "source": [
    "**conclusion:** when running the model on hyperparameter $n__estimators = 10$, the accuracy score of the model is 0.5571"
   ]
  },
  {
   "cell_type": "markdown",
   "id": "aa0a74a2",
   "metadata": {},
   "source": [
    "### optimizing hyperparameters"
   ]
  },
  {
   "cell_type": "markdown",
   "id": "4722fe61",
   "metadata": {},
   "source": [
    "We will try to change the hyperparameter n_estimators from 1 to 10 to find out what gives the best accuracy score of the model."
   ]
  },
  {
   "cell_type": "code",
   "execution_count": 49,
   "id": "45764cee",
   "metadata": {},
   "outputs": [],
   "source": [
    "list_f1 = []\n",
    "for i in range(1, 101):\n",
    "    model_rf = RandomForestClassifier(\n",
    "        random_state=12345, n_estimators=i, class_weight='balanced')\n",
    "    model_rf.fit(features_train, target_train)\n",
    "    predictions_validate = model_rf.predict(features_validate)\n",
    "    f1_rf = f1_score(target_validate, predictions_validate)\n",
    "    list_f1.append(f1_rf)\n",
    "    print(f'For n_estimators = {i},\\t F1 is {f1_rf:.5f}')"
   ]
  },
  {
   "cell_type": "code",
   "execution_count": 50,
   "id": "e816edb2",
   "metadata": {},
   "outputs": [],
   "source": [
    "print(f'The max value of F1 score is {max(list_f1):.4f}')"
   ]
  },
  {
   "cell_type": "code",
   "execution_count": 51,
   "id": "b57e0fe6",
   "metadata": {},
   "outputs": [],
   "source": [
    "print(\n",
    "    f'The max F1 score is when n_estimators is {list_f1.index(max(list_f1))+1}')"
   ]
  },
  {
   "cell_type": "markdown",
   "id": "cea9bd6d",
   "metadata": {},
   "source": [
    "**conclusion:** on checking the model on the validate data, the best F1 score is $n__estimators = 41$"
   ]
  },
  {
   "cell_type": "markdown",
   "id": "0ba2d449",
   "metadata": {},
   "source": [
    "#### F1"
   ]
  },
  {
   "cell_type": "code",
   "execution_count": 52,
   "id": "21d7619d",
   "metadata": {},
   "outputs": [],
   "source": [
    "model_rf = RandomForestClassifier(\n",
    "    random_state=12345, n_estimators=41, class_weight='balanced')\n",
    "model_rf.fit(features_train, target_train)\n",
    "predictions_validate = model_rf.predict(features_validate)\n",
    "f1_rf = accuracy_score(target_validate, predictions_validate)\n",
    "print(f'For n_estimators = 41 on the validation data, F1 is {f1_rf:.5f}')"
   ]
  },
  {
   "cell_type": "markdown",
   "id": "e8171415",
   "metadata": {},
   "source": [
    "<div class=\"alert alert-success\" style=\"box-shadow: 4px 4px 4px\">\n",
    "Success: That is a big F1 score!\n",
    "</div>"
   ]
  },
  {
   "cell_type": "markdown",
   "id": "1ddaae5f",
   "metadata": {},
   "source": [
    "#### AUC-ROC"
   ]
  },
  {
   "cell_type": "code",
   "execution_count": 53,
   "id": "7034cb96",
   "metadata": {},
   "outputs": [
    {
     "data": {},
     "execution_count": 53,
     "metadata": {},
     "output_type": "execute_result"
    }
   ],
   "source": [
    "probabilities_validate = model_rf.predict_proba(features_validate)\n",
    "probabilities_one_validate = probabilities_validate[:, 1]\n",
    "\n",
    "auc_roc = roc_auc_score(target_validate, probabilities_one_validate)\n",
    "\n",
    "auc_roc"
   ]
  },
  {
   "cell_type": "markdown",
   "id": "10216b98",
   "metadata": {},
   "source": [
    "#### ROC curve"
   ]
  },
  {
   "cell_type": "code",
   "execution_count": 54,
   "id": "eeeea9b4",
   "metadata": {},
   "outputs": [
    {
     "data": {
      "image/png": "[encoded data removed]"
     },
     "metadata": {
      "needs_background": "light"
     },
     "output_type": "display_data"
    }
   ],
   "source": [
    "fpr, tpr, thresholds = roc_curve(target_validate, probabilities_one_validate)\n",
    "\n",
    "# the graph\n",
    "plt.figure()\n",
    "plt.plot(fpr, tpr)\n",
    "\n",
    "# ROC curve for random model\n",
    "plt.plot([0, 1], [0, 1], linestyle='--')\n",
    "\n",
    "#   set the boundary for the axes from 0 to 1 >\n",
    "plt.ylim([0.0, 1.0])\n",
    "plt.xlim([0.0, 1.0])\n",
    "\n",
    "# name the axes \"False Positive Rate\" and \"True Positive Rate\"\n",
    "plt.xlabel('False Positive Rate')\n",
    "plt.ylabel('True Positive Rate')\n",
    "\n",
    "# add the heading \"ROC curve\"\n",
    "plt.title('ROC curve')\n",
    "\n",
    "plt.show()"
   ]
  },
  {
   "cell_type": "markdown",
   "id": "0c8122db",
   "metadata": {},
   "source": [
    "<div class=\"alert alert-success\" style=\"box-shadow: 4px 4px 4px\">\n",
    "Success: Great graph!\n",
    "</div>"
   ]
  },
  {
   "cell_type": "markdown",
   "id": "a01773fc",
   "metadata": {},
   "source": [
    "## Logistic Regression"
   ]
  },
  {
   "cell_type": "markdown",
   "id": "eea56d9d",
   "metadata": {},
   "source": [
    "Logistic regression is a statistical model that uses a logistic function to model a binary dependent variable\n",
    "\n",
    "Logistic regression is estimating the parameters of a logistic model (a form of binary regression). \n",
    "\n",
    "Mathematically, a binary logistic model has a dependent variable with two possible values, such as pass/fail which is represented by an indicator variable (target) where the two values are labeled \"0\" and \"1\".\n",
    "\n",
    "In the logistic model, the log-odds (the logarithm of the odds) for the value labeled \"1\" is a linear combination of one or more independent variables (\"predictors\"); the independent variables can each be a binary variable (two classes, coded by an indicator variable) or a continuous variable (any real value).\n",
    "\n",
    "The corresponding probability of the value labeled \"1\" can vary between 0 (certainly the value \"0\") and 1 (certainly the value \"1\"), hence the labeling.\n",
    "\n",
    "The function that converts log-odds to probability is the sigmoid function.\n",
    "\n",
    "In a binary logistic regression model, the dependent variable (target) has two levels (categorical)."
   ]
  },
  {
   "cell_type": "code",
   "execution_count": 55,
   "id": "5de42048",
   "metadata": {},
   "outputs": [],
   "source": [
    "model_lrc = LogisticRegression(\n",
    "    random_state=12345, solver='liblinear', max_iter=100, class_weight='balanced')"
   ]
  },
  {
   "cell_type": "code",
   "execution_count": 56,
   "id": "4ba525f1",
   "metadata": {},
   "outputs": [
    {
     "data": {},
     "execution_count": 56,
     "metadata": {},
     "output_type": "execute_result"
    }
   ],
   "source": [
    "model_lrc.fit(features_train, target_train)"
   ]
  },
  {
   "cell_type": "code",
   "execution_count": 57,
   "id": "5f02ec0e",
   "metadata": {},
   "outputs": [
    {
     "data": {},
     "execution_count": 57,
     "metadata": {},
     "output_type": "execute_result"
    }
   ],
   "source": [
    "predicted_validate = model_lrc.predict(features_validate)\n",
    "f1_score(target_validate, predicted_validate)"
   ]
  },
  {
   "cell_type": "markdown",
   "id": "6ce5ad6e",
   "metadata": {},
   "source": [
    "**conclusion:** when running the model on hyperparameter $max__iter = 100$ , the F1 score of the model is 0.4798"
   ]
  },
  {
   "cell_type": "markdown",
   "id": "c5454093",
   "metadata": {},
   "source": [
    "### optimizing hyperparameters"
   ]
  },
  {
   "cell_type": "markdown",
   "id": "c40fc5c0",
   "metadata": {},
   "source": [
    "We will try to change the hyperparameter solver for every option to find out what gives the best accuracy score of the model."
   ]
  },
  {
   "cell_type": "code",
   "execution_count": 58,
   "id": "13baeb60",
   "metadata": {},
   "outputs": [],
   "source": [
    "solver = ['newton-cg', 'lbfgs', 'liblinear', 'sag', 'saga']\n",
    "for i in solver:\n",
    "    model_lr = LogisticRegression(\n",
    "        random_state=12345, solver=i, class_weight='balanced')\n",
    "    model_lr.fit(features_train, target_train)\n",
    "    predictions_validate = model_lr.predict(features_validate)\n",
    "    f1_lr = f1_score(target_validate, predictions_validate)\n",
    "    print(f'For solver = {i},\\t F1 is {f1_lr:.5f}')"
   ]
  },
  {
   "cell_type": "code",
   "execution_count": 59,
   "id": "01d24165",
   "metadata": {},
   "outputs": [],
   "source": [
    "for i in range(1, 1000, 100):\n",
    "    model_lr = LogisticRegression(\n",
    "        random_state=12345, solver='liblinear', max_iter=i, C=1, class_weight='balanced')\n",
    "    model_lr.fit(features_train, target_train)\n",
    "    predictions_validate = model_lr.predict(features_validate)\n",
    "\n",
    "    f1_lr = f1_score(target_validate, predictions_validate)\n",
    "    print(f'For max_iter = {i},\\t F1 is {f1_lr:.5f}')"
   ]
  },
  {
   "cell_type": "markdown",
   "id": "59640d91",
   "metadata": {},
   "source": [
    "**conclusion:** \n",
    "- on checking the max_iter on the validate data, there is no change in F1 after the hyperparameter is above 10 \n",
    "- on checking the model on the validate data, all the solvers got the same F1 score"
   ]
  },
  {
   "cell_type": "markdown",
   "id": "b9ba7ab1",
   "metadata": {},
   "source": [
    "<div class=\"alert alert-success\" style=\"box-shadow: 4px 4px 4px\">\n",
    "Success: I couldn't agree more!\n",
    "</div>"
   ]
  },
  {
   "cell_type": "markdown",
   "id": "c35444e9",
   "metadata": {},
   "source": [
    "#### F1"
   ]
  },
  {
   "cell_type": "code",
   "execution_count": 60,
   "id": "9cfe930e",
   "metadata": {},
   "outputs": [],
   "source": [
    "model_lr = LogisticRegression(\n",
    "    random_state=12345, solver='liblinear', class_weight='balanced')\n",
    "model_lr.fit(features_train, target_train)\n",
    "predictions_validate = model_lr.predict(features_validate)\n",
    "f1_lr = f1_score(target_validate, predictions_validate)\n",
    "print(f'For solver = \"liblinear\",\\t F1 is {f1_lr:.5f}')"
   ]
  },
  {
   "cell_type": "markdown",
   "id": "811e6f04",
   "metadata": {},
   "source": [
    "#### AUC-ROC"
   ]
  },
  {
   "cell_type": "code",
   "execution_count": 61,
   "id": "33a695c2",
   "metadata": {},
   "outputs": [
    {
     "data": {},
     "execution_count": 61,
     "metadata": {},
     "output_type": "execute_result"
    }
   ],
   "source": [
    "probabilities_validate = model_lr.predict_proba(features_validate)\n",
    "probabilities_one_validate = probabilities_validate[:, 1]\n",
    "\n",
    "auc_roc = roc_auc_score(target_validate, probabilities_one_validate)\n",
    "\n",
    "auc_roc"
   ]
  },
  {
   "cell_type": "markdown",
   "id": "d9cfec29",
   "metadata": {},
   "source": [
    "#### ROC curve"
   ]
  },
  {
   "cell_type": "code",
   "execution_count": 62,
   "id": "9f562313",
   "metadata": {},
   "outputs": [
    {
     "data": {
      "image/png": "[encoded data removed]"
     },
     "metadata": {
      "needs_background": "light"
     },
     "output_type": "display_data"
    }
   ],
   "source": [
    "fpr, tpr, thresholds = roc_curve(target_validate, probabilities_one_validate)\n",
    "\n",
    "# the graph\n",
    "plt.figure()\n",
    "plt.plot(fpr, tpr)\n",
    "\n",
    "# ROC curve for random model\n",
    "plt.plot([0, 1], [0, 1], linestyle='--')\n",
    "\n",
    "#   set the boundary for the axes from 0 to 1 >\n",
    "plt.ylim([0.0, 1.0])\n",
    "plt.xlim([0.0, 1.0])\n",
    "\n",
    "# name the axes \"False Positive Rate\" and \"True Positive Rate\"\n",
    "plt.xlabel('False Positive Rate')\n",
    "plt.ylabel('True Positive Rate')\n",
    "\n",
    "# add the heading \"ROC curve\"\n",
    "plt.title('ROC curve')\n",
    "\n",
    "plt.show()"
   ]
  },
  {
   "cell_type": "markdown",
   "id": "a847afdf",
   "metadata": {},
   "source": [
    "<div class=\"alert alert-success\" style=\"box-shadow: 4px 4px 4px\">\n",
    "Success: This part is flawless!\n",
    "</div>"
   ]
  },
  {
   "cell_type": "markdown",
   "id": "2c669318",
   "metadata": {},
   "source": [
    "## Conclusion\n",
    "This project is about training classification model. We have 2 options on the target: '0' and '1'.\n",
    "For selecting the best model, we checked three options: decision tree, random forest and Logistic Regression.\n",
    "To prepare the date, we checked it for duplicates and missing values\n",
    "\n",
    "We split the data between train data and validate data with the ratio 25%. \n",
    "For every split we had feature data for the independent variables and target for the outcome.\n",
    "after running the model, we tried to optimize it by changing one hyperparameter and to fine out what setting returns the best accurate score.\n",
    "\n",
    "### The major finding\n",
    "- The decision tree model\n",
    "    - hyperparameter: max_depth. best value = 5\n",
    "    - F1 score on test data: 0.58091\n",
    "    - auc_roc: 0.83625\n",
    "- The random forest model  \n",
    "    - hyperparameter: n_estimators. best value = 41\n",
    "    - F1 score on test data: 0.8455\n",
    "    - auc_roc: 0.84663\n",
    "- The logistic regression model  \n",
    "    - hyperparameter: solver. best value = liblinear\n",
    "    - F1 score on test data: 0.478\n",
    "    - auc_roc: 0.73878\n",
    "\n",
    "The **random forest model** wins\n",
    "\n",
    "\n",
    "| model | decision tree | random forest | logistic regression |\n",
    "|---|---|---|---|\n",
    "| F1 score  | 0.581  | 0.845  | 0.478  |\n",
    "| AUC ROC  | 0.836 |  0.847 |  0.739 |\n"
   ]
  },
  {
   "cell_type": "markdown",
   "id": "84d3274d",
   "metadata": {},
   "source": [
    "<div class=\"alert alert-success\" style=\"box-shadow: 4px 4px 4px\">\n",
    "Success: Such an amazing conclusion!\n",
    "</div>"
   ]
  },
  {
   "cell_type": "markdown",
   "id": "1c2fc85e",
   "metadata": {},
   "source": [
    "# Test data"
   ]
  },
  {
   "cell_type": "markdown",
   "id": "4fe434a4",
   "metadata": {},
   "source": [
    "## F1 score of the test data"
   ]
  },
  {
   "cell_type": "code",
   "execution_count": 63,
   "id": "d82c43a6",
   "metadata": {},
   "outputs": [],
   "source": [
    "model_rf = RandomForestClassifier(\n",
    "    random_state=12345, n_estimators=41, class_weight='balanced')\n",
    "model_rf.fit(features_train, target_train)\n",
    "predictions_test = model_rf.predict(features_test)\n",
    "f1_rf = accuracy_score(target_test, predictions_test)\n",
    "print(f'For n_estimators = 41 on the test data, F1 is {f1_rf:.5f}')"
   ]
  },
  {
   "cell_type": "markdown",
   "id": "26aee98d",
   "metadata": {},
   "source": [
    "## AUC - ROC test data"
   ]
  },
  {
   "cell_type": "code",
   "execution_count": 64,
   "id": "25d23079",
   "metadata": {},
   "outputs": [
    {
     "data": {},
     "execution_count": 64,
     "metadata": {},
     "output_type": "execute_result"
    }
   ],
   "source": [
    "probabilities_test = model_rf.predict_proba(features_test)\n",
    "probabilities_one_test = probabilities_test[:, 1]\n",
    "\n",
    "auc_roc = roc_auc_score(target_test, probabilities_one_test)\n",
    "\n",
    "auc_roc"
   ]
  },
  {
   "cell_type": "markdown",
   "id": "2ea671b3",
   "metadata": {},
   "source": [
    "<div class=\"alert alert-info\">\n",
    "  running best model on <b>test</b> data\n",
    "</div>"
   ]
  },
  {
   "cell_type": "markdown",
   "id": "5ee56115",
   "metadata": {},
   "source": [
    "# Confusion matrix"
   ]
  },
  {
   "cell_type": "markdown",
   "id": "e53a2a4b",
   "metadata": {},
   "source": [
    "## dummy classifier"
   ]
  },
  {
   "cell_type": "markdown",
   "id": "d8629af8",
   "metadata": {},
   "source": [
    "compare the models to the dummy classifier by the confusion matrix"
   ]
  },
  {
   "cell_type": "code",
   "execution_count": 65,
   "id": "57e9fe9d",
   "metadata": {},
   "outputs": [],
   "source": [
    "# making the dummy classifier\n",
    "clf_dummy = DummyClassifier(random_state=12345)\n",
    "clf_dummy.fit(features_train, target_train)\n",
    "predictions_test = clf_dummy.predict(features_test)"
   ]
  },
  {
   "cell_type": "code",
   "execution_count": 66,
   "id": "608d53b4",
   "metadata": {},
   "outputs": [
    {
     "data": {
      "image/png": "[encoded data removed]"
     },
     "metadata": {
      "needs_background": "light"
     },
     "output_type": "display_data"
    }
   ],
   "source": [
    "# for the test data\n",
    "plot_confusion_matrix(estimator=clf_dummy, X=predictions_test,\n",
    "                      y_true=target_test, cmap='Blues', normalize='all')"
   ]
  },
  {
   "cell_type": "markdown",
   "id": "23c34de9",
   "metadata": {},
   "source": [
    "calculate the value_counts of the data to see the unbalanced data"
   ]
  },
  {
   "cell_type": "code",
   "execution_count": 67,
   "id": "b7eacc69",
   "metadata": {},
   "outputs": [
    {
     "data": {},
     "execution_count": 67,
     "metadata": {},
     "output_type": "execute_result"
    }
   ],
   "source": [
    "target_test.value_counts(normalize=True)"
   ]
  },
  {
   "cell_type": "code",
   "execution_count": 68,
   "id": "6c62ad31",
   "metadata": {},
   "outputs": [
    {
     "data": {
      "image/png": "[encoded data removed]"
     },
     "metadata": {
      "needs_background": "light"
     },
     "output_type": "display_data"
    }
   ],
   "source": [
    "target_test.value_counts(normalize=True).plot(kind='bar')"
   ]
  },
  {
   "cell_type": "markdown",
   "id": "d46d96bc",
   "metadata": {},
   "source": [
    "**conclusion:** the test data is not balanced. The dummy classifier gives about 80% accuracy only because of the imbalance target data."
   ]
  },
  {
   "cell_type": "markdown",
   "id": "0537feb9",
   "metadata": {},
   "source": [
    "## ploting confusion matrix to the three models"
   ]
  },
  {
   "cell_type": "markdown",
   "id": "696aac4e",
   "metadata": {},
   "source": [
    "### Decision Tree confusion matrix"
   ]
  },
  {
   "cell_type": "code",
   "execution_count": 69,
   "id": "87811f26",
   "metadata": {},
   "outputs": [
    {
     "data": {},
     "execution_count": 69,
     "metadata": {},
     "output_type": "execute_result"
    },
    {
     "data": {
      "image/png": "[encoded data removed]"
     },
     "metadata": {
      "needs_background": "light"
     },
     "output_type": "display_data"
    }
   ],
   "source": [
    "plot_confusion_matrix(estimator=model_dt, X=features_test,\n",
    "                      y_true=target_test, cmap='Blues')"
   ]
  },
  {
   "cell_type": "markdown",
   "id": "63086869",
   "metadata": {},
   "source": [
    "### Random Forest confusion matrix"
   ]
  },
  {
   "cell_type": "code",
   "execution_count": 70,
   "id": "ddfc1aa9",
   "metadata": {},
   "outputs": [
    {
     "data": {},
     "execution_count": 70,
     "metadata": {},
     "output_type": "execute_result"
    },
    {
     "data": {
      "image/png": "[encoded data removed]"
     },
     "metadata": {
      "needs_background": "light"
     },
     "output_type": "display_data"
    }
   ],
   "source": [
    "plot_confusion_matrix(estimator=model_rf, X=features_validate,\n",
    "                      y_true=target_validate, cmap='Blues')"
   ]
  },
  {
   "cell_type": "markdown",
   "id": "37a41b3c",
   "metadata": {},
   "source": [
    "### Logistic Regression confusion matrix"
   ]
  },
  {
   "cell_type": "code",
   "execution_count": 71,
   "id": "d0a8fabf",
   "metadata": {},
   "outputs": [
    {
     "data": {},
     "execution_count": 71,
     "metadata": {},
     "output_type": "execute_result"
    },
    {
     "data": {
      "image/png": "[encoded data removed]"
     },
     "metadata": {
      "needs_background": "light"
     },
     "output_type": "display_data"
    }
   ],
   "source": [
    "plot_confusion_matrix(estimator=model_lr, X=features_validate,\n",
    "                      y_true=target_validate, cmap='Blues')"
   ]
  },
  {
   "cell_type": "markdown",
   "id": "03ce6b65",
   "metadata": {},
   "source": [
    "### The major finding\n",
    "- The decision tree model\n",
    "    - hyperparameter: max_depth. best value = \n",
    "    - F1 score on test data: 0.60097\n",
    "    - auc_roc: 0.75143\n",
    "- The random forest model  \n",
    "    - hyperparameter: n_estimators. best value = 9\n",
    "    - F1 score on test data: 0.8444\n",
    "    - auc_roc: 0.8447\n",
    "- The logistic regression model  \n",
    "    - hyperparameter: solver. best value = liblinear\n",
    "    - F1 score on test data: 0.5050\n",
    "    - auc_roc: 0.7633\n",
    "\n",
    "## The **random forest model** wins!\n",
    "\n",
    "\n",
    "| model | decision tree | random forest | logistic regression |\n",
    "|---|---|---|---|\n",
    "| F1 score  | 0.601  | 0.844  | 0.505  |\n",
    "| AUC ROC  | 0.751 |  0.845 |  0.763 |\n"
   ]
  },
  {
   "cell_type": "markdown",
   "id": "32656d87",
   "metadata": {},
   "source": [
    "<div class=\"alert alert-success\" style=\"box-shadow: 4px 4px 4px\">\n",
    "Success: The conclusion is perfect!\n",
    "</div>"
   ]
  },
  {
   "cell_type": "code",
   "execution_count": null,
   "id": "b81dbce4",
   "metadata": {},
   "outputs": [],
   "source": []
  }
 ],
 "metadata": {
  "ExecuteTimeLog": [
   {
    "duration": 1077,
    "start_time": "2021-07-01T06:59:45.620Z"
   },
   {
    "duration": 412,
    "start_time": "2021-07-01T06:59:51.828Z"
   },
   {
    "duration": 3,
    "start_time": "2021-07-01T06:59:56.650Z"
   },
   {
    "duration": 3,
    "start_time": "2021-07-01T07:02:48.341Z"
   },
   {
    "duration": 41,
    "start_time": "2021-07-01T07:04:05.291Z"
   },
   {
    "duration": 268,
    "start_time": "2021-07-01T07:05:19.436Z"
   },
   {
    "duration": 6,
    "start_time": "2021-07-01T07:05:22.888Z"
   },
   {
    "duration": 3,
    "start_time": "2021-07-01T07:05:32.632Z"
   },
   {
    "duration": 116,
    "start_time": "2021-07-01T07:05:46.885Z"
   },
   {
    "duration": 4,
    "start_time": "2021-07-01T07:05:55.992Z"
   },
   {
    "duration": 17,
    "start_time": "2021-07-01T07:30:00.540Z"
   },
   {
    "duration": 4474,
    "start_time": "2021-07-01T07:30:06.571Z"
   },
   {
    "duration": 5,
    "start_time": "2021-07-01T07:30:12.021Z"
   },
   {
    "duration": 6,
    "start_time": "2021-07-01T07:30:30.277Z"
   },
   {
    "duration": 11,
    "start_time": "2021-07-01T07:40:53.081Z"
   },
   {
    "duration": 14,
    "start_time": "2021-07-01T07:41:01.865Z"
   },
   {
    "duration": 202,
    "start_time": "2021-07-01T07:41:12.898Z"
   },
   {
    "duration": 4,
    "start_time": "2021-07-01T07:45:18.726Z"
   },
   {
    "duration": 12,
    "start_time": "2021-07-01T07:45:41.234Z"
   },
   {
    "duration": 6,
    "start_time": "2021-07-01T07:55:00.866Z"
   },
   {
    "duration": 195,
    "start_time": "2021-07-01T07:55:04.601Z"
   },
   {
    "duration": 56,
    "start_time": "2021-07-01T07:57:13.661Z"
   },
   {
    "duration": 244,
    "start_time": "2021-07-01T08:46:22.410Z"
   },
   {
    "duration": 1060,
    "start_time": "2021-07-01T08:46:47.739Z"
   },
   {
    "duration": 448,
    "start_time": "2021-07-01T08:46:48.801Z"
   },
   {
    "duration": 3,
    "start_time": "2021-07-01T08:46:49.251Z"
   },
   {
    "duration": 43,
    "start_time": "2021-07-01T08:46:49.255Z"
   },
   {
    "duration": 16,
    "start_time": "2021-07-01T08:46:49.299Z"
   },
   {
    "duration": 49,
    "start_time": "2021-07-01T08:46:49.317Z"
   },
   {
    "duration": 21,
    "start_time": "2021-07-01T08:46:49.367Z"
   },
   {
    "duration": 10,
    "start_time": "2021-07-01T08:46:49.390Z"
   },
   {
    "duration": 321,
    "start_time": "2021-07-01T08:46:49.402Z"
   },
   {
    "duration": 15,
    "start_time": "2021-07-01T08:46:49.725Z"
   },
   {
    "duration": 10,
    "start_time": "2021-07-01T08:46:49.742Z"
   },
   {
    "duration": 50,
    "start_time": "2021-07-01T08:46:49.754Z"
   },
   {
    "duration": 13,
    "start_time": "2021-07-01T08:46:49.806Z"
   },
   {
    "duration": 7,
    "start_time": "2021-07-01T08:46:49.821Z"
   },
   {
    "duration": 22,
    "start_time": "2021-07-01T08:46:49.830Z"
   },
   {
    "duration": 33,
    "start_time": "2021-07-01T08:46:49.853Z"
   },
   {
    "duration": 7,
    "start_time": "2021-07-01T08:46:49.888Z"
   },
   {
    "duration": 20,
    "start_time": "2021-07-01T08:46:49.896Z"
   },
   {
    "duration": 7,
    "start_time": "2021-07-01T08:46:49.918Z"
   },
   {
    "duration": 10,
    "start_time": "2021-07-01T08:46:49.926Z"
   },
   {
    "duration": 6,
    "start_time": "2021-07-01T08:46:49.938Z"
   },
   {
    "duration": 40,
    "start_time": "2021-07-01T08:46:49.946Z"
   },
   {
    "duration": 6,
    "start_time": "2021-07-01T08:46:49.990Z"
   },
   {
    "duration": 28,
    "start_time": "2021-07-01T08:46:49.999Z"
   },
   {
    "duration": 11,
    "start_time": "2021-07-01T08:46:50.029Z"
   },
   {
    "duration": 43,
    "start_time": "2021-07-01T08:46:50.042Z"
   },
   {
    "duration": 262,
    "start_time": "2021-07-01T08:46:50.087Z"
   },
   {
    "duration": -18,
    "start_time": "2021-07-01T08:46:50.370Z"
   },
   {
    "duration": -20,
    "start_time": "2021-07-01T08:46:50.374Z"
   },
   {
    "duration": -22,
    "start_time": "2021-07-01T08:46:50.377Z"
   },
   {
    "duration": -22,
    "start_time": "2021-07-01T08:46:50.379Z"
   },
   {
    "duration": -24,
    "start_time": "2021-07-01T08:46:50.382Z"
   },
   {
    "duration": -60,
    "start_time": "2021-07-01T08:46:50.419Z"
   },
   {
    "duration": -68,
    "start_time": "2021-07-01T08:46:50.429Z"
   },
   {
    "duration": -70,
    "start_time": "2021-07-01T08:46:50.432Z"
   },
   {
    "duration": -71,
    "start_time": "2021-07-01T08:46:50.435Z"
   },
   {
    "duration": -74,
    "start_time": "2021-07-01T08:46:50.439Z"
   },
   {
    "duration": -76,
    "start_time": "2021-07-01T08:46:50.443Z"
   },
   {
    "duration": -78,
    "start_time": "2021-07-01T08:46:50.446Z"
   },
   {
    "duration": -81,
    "start_time": "2021-07-01T08:46:50.450Z"
   },
   {
    "duration": -82,
    "start_time": "2021-07-01T08:46:50.453Z"
   },
   {
    "duration": -85,
    "start_time": "2021-07-01T08:46:50.457Z"
   },
   {
    "duration": -86,
    "start_time": "2021-07-01T08:46:50.460Z"
   },
   {
    "duration": -88,
    "start_time": "2021-07-01T08:46:50.463Z"
   },
   {
    "duration": -89,
    "start_time": "2021-07-01T08:46:50.466Z"
   },
   {
    "duration": -91,
    "start_time": "2021-07-01T08:46:50.469Z"
   },
   {
    "duration": -93,
    "start_time": "2021-07-01T08:46:50.472Z"
   },
   {
    "duration": -94,
    "start_time": "2021-07-01T08:46:50.475Z"
   },
   {
    "duration": -96,
    "start_time": "2021-07-01T08:46:50.478Z"
   },
   {
    "duration": -97,
    "start_time": "2021-07-01T08:46:50.481Z"
   },
   {
    "duration": -98,
    "start_time": "2021-07-01T08:46:50.483Z"
   },
   {
    "duration": -101,
    "start_time": "2021-07-01T08:46:50.487Z"
   },
   {
    "duration": -102,
    "start_time": "2021-07-01T08:46:50.489Z"
   },
   {
    "duration": -106,
    "start_time": "2021-07-01T08:46:50.493Z"
   },
   {
    "duration": -107,
    "start_time": "2021-07-01T08:46:50.496Z"
   },
   {
    "duration": -110,
    "start_time": "2021-07-01T08:46:50.499Z"
   },
   {
    "duration": -111,
    "start_time": "2021-07-01T08:46:50.501Z"
   },
   {
    "duration": -113,
    "start_time": "2021-07-01T08:46:50.504Z"
   },
   {
    "duration": -115,
    "start_time": "2021-07-01T08:46:50.507Z"
   },
   {
    "duration": -117,
    "start_time": "2021-07-01T08:46:50.510Z"
   },
   {
    "duration": -119,
    "start_time": "2021-07-01T08:46:50.513Z"
   },
   {
    "duration": -121,
    "start_time": "2021-07-01T08:46:50.516Z"
   },
   {
    "duration": -131,
    "start_time": "2021-07-01T08:46:50.526Z"
   },
   {
    "duration": -134,
    "start_time": "2021-07-01T08:46:50.530Z"
   },
   {
    "duration": -136,
    "start_time": "2021-07-01T08:46:50.533Z"
   },
   {
    "duration": -138,
    "start_time": "2021-07-01T08:46:50.536Z"
   },
   {
    "duration": -141,
    "start_time": "2021-07-01T08:46:50.540Z"
   },
   {
    "duration": -143,
    "start_time": "2021-07-01T08:46:50.543Z"
   },
   {
    "duration": -145,
    "start_time": "2021-07-01T08:46:50.546Z"
   },
   {
    "duration": -147,
    "start_time": "2021-07-01T08:46:50.549Z"
   },
   {
    "duration": -149,
    "start_time": "2021-07-01T08:46:50.552Z"
   },
   {
    "duration": -152,
    "start_time": "2021-07-01T08:46:50.556Z"
   },
   {
    "duration": -155,
    "start_time": "2021-07-01T08:46:50.559Z"
   },
   {
    "duration": -157,
    "start_time": "2021-07-01T08:46:50.562Z"
   },
   {
    "duration": -162,
    "start_time": "2021-07-01T08:46:50.568Z"
   },
   {
    "duration": -164,
    "start_time": "2021-07-01T08:46:50.571Z"
   },
   {
    "duration": -168,
    "start_time": "2021-07-01T08:46:50.576Z"
   },
   {
    "duration": -170,
    "start_time": "2021-07-01T08:46:50.579Z"
   },
   {
    "duration": -172,
    "start_time": "2021-07-01T08:46:50.582Z"
   },
   {
    "duration": -175,
    "start_time": "2021-07-01T08:46:50.586Z"
   },
   {
    "duration": -191,
    "start_time": "2021-07-01T08:46:50.603Z"
   },
   {
    "duration": -193,
    "start_time": "2021-07-01T08:46:50.606Z"
   },
   {
    "duration": -195,
    "start_time": "2021-07-01T08:46:50.609Z"
   },
   {
    "duration": -197,
    "start_time": "2021-07-01T08:46:50.612Z"
   },
   {
    "duration": -199,
    "start_time": "2021-07-01T08:46:50.615Z"
   },
   {
    "duration": -202,
    "start_time": "2021-07-01T08:46:50.618Z"
   },
   {
    "duration": -203,
    "start_time": "2021-07-01T08:46:50.620Z"
   },
   {
    "duration": -205,
    "start_time": "2021-07-01T08:46:50.623Z"
   },
   {
    "duration": -215,
    "start_time": "2021-07-01T08:46:50.634Z"
   },
   {
    "duration": -218,
    "start_time": "2021-07-01T08:46:50.638Z"
   },
   {
    "duration": -220,
    "start_time": "2021-07-01T08:46:50.641Z"
   },
   {
    "duration": -222,
    "start_time": "2021-07-01T08:46:50.644Z"
   },
   {
    "duration": -224,
    "start_time": "2021-07-01T08:46:50.647Z"
   },
   {
    "duration": 11,
    "start_time": "2021-07-01T08:47:13.405Z"
   },
   {
    "duration": 6,
    "start_time": "2021-07-01T08:47:26.820Z"
   },
   {
    "duration": 13,
    "start_time": "2021-07-01T08:47:27.520Z"
   },
   {
    "duration": 18,
    "start_time": "2021-07-01T08:47:27.686Z"
   },
   {
    "duration": 11,
    "start_time": "2021-07-01T08:47:27.866Z"
   },
   {
    "duration": 22,
    "start_time": "2021-07-01T08:47:28.279Z"
   },
   {
    "duration": 19,
    "start_time": "2021-07-01T08:47:28.433Z"
   },
   {
    "duration": 14,
    "start_time": "2021-07-01T08:47:28.543Z"
   },
   {
    "duration": 18,
    "start_time": "2021-07-01T08:47:28.678Z"
   },
   {
    "duration": 11,
    "start_time": "2021-07-01T08:47:28.916Z"
   },
   {
    "duration": 4,
    "start_time": "2021-07-01T08:47:29.329Z"
   },
   {
    "duration": 72,
    "start_time": "2021-07-01T08:47:30.139Z"
   },
   {
    "duration": 9,
    "start_time": "2021-07-01T08:47:30.692Z"
   },
   {
    "duration": 12,
    "start_time": "2021-07-01T08:47:31.157Z"
   },
   {
    "duration": 6,
    "start_time": "2021-07-01T08:47:31.315Z"
   },
   {
    "duration": 16,
    "start_time": "2021-07-01T08:47:31.451Z"
   },
   {
    "duration": 8,
    "start_time": "2021-07-01T08:47:31.601Z"
   },
   {
    "duration": 11,
    "start_time": "2021-07-01T08:47:32.190Z"
   },
   {
    "duration": 934,
    "start_time": "2021-07-01T08:47:32.442Z"
   },
   {
    "duration": 94,
    "start_time": "2021-07-01T08:47:33.379Z"
   },
   {
    "duration": 945,
    "start_time": "2021-07-01T08:47:33.476Z"
   },
   {
    "duration": 957,
    "start_time": "2021-07-01T08:47:34.424Z"
   },
   {
    "duration": 52,
    "start_time": "2021-07-01T08:47:35.386Z"
   },
   {
    "duration": 4,
    "start_time": "2021-07-01T08:47:35.440Z"
   },
   {
    "duration": 76,
    "start_time": "2021-07-01T08:47:35.446Z"
   },
   {
    "duration": 4,
    "start_time": "2021-07-01T08:47:35.524Z"
   },
   {
    "duration": 13,
    "start_time": "2021-07-01T08:47:35.530Z"
   },
   {
    "duration": 324,
    "start_time": "2021-07-01T08:47:35.545Z"
   },
   {
    "duration": 16,
    "start_time": "2021-07-01T08:47:36.035Z"
   },
   {
    "duration": 16,
    "start_time": "2021-07-01T08:47:36.206Z"
   },
   {
    "duration": 51,
    "start_time": "2021-07-01T08:47:36.927Z"
   },
   {
    "duration": 3,
    "start_time": "2021-07-01T08:47:37.115Z"
   },
   {
    "duration": 51,
    "start_time": "2021-07-01T08:47:37.300Z"
   },
   {
    "duration": 4,
    "start_time": "2021-07-01T08:47:37.488Z"
   },
   {
    "duration": 10,
    "start_time": "2021-07-01T08:47:38.050Z"
   },
   {
    "duration": 302,
    "start_time": "2021-07-01T08:47:38.277Z"
   },
   {
    "duration": 14,
    "start_time": "2021-07-01T08:47:39.401Z"
   },
   {
    "duration": 14,
    "start_time": "2021-07-01T08:47:39.836Z"
   },
   {
    "duration": 52,
    "start_time": "2021-07-01T08:47:40.819Z"
   },
   {
    "duration": 4,
    "start_time": "2021-07-01T08:47:41.010Z"
   },
   {
    "duration": 49,
    "start_time": "2021-07-01T08:47:41.186Z"
   },
   {
    "duration": 4,
    "start_time": "2021-07-01T08:47:41.368Z"
   },
   {
    "duration": 10,
    "start_time": "2021-07-01T08:47:41.501Z"
   },
   {
    "duration": 316,
    "start_time": "2021-07-01T08:47:41.666Z"
   },
   {
    "duration": 15,
    "start_time": "2021-07-01T08:47:42.032Z"
   },
   {
    "duration": 14,
    "start_time": "2021-07-01T08:47:42.195Z"
   },
   {
    "duration": 140,
    "start_time": "2021-07-01T08:47:42.851Z"
   },
   {
    "duration": 4,
    "start_time": "2021-07-01T08:47:43.017Z"
   },
   {
    "duration": 50,
    "start_time": "2021-07-01T08:47:43.715Z"
   },
   {
    "duration": 4,
    "start_time": "2021-07-01T08:47:43.865Z"
   },
   {
    "duration": 9,
    "start_time": "2021-07-01T08:47:44.345Z"
   },
   {
    "duration": 305,
    "start_time": "2021-07-01T08:47:44.532Z"
   },
   {
    "duration": 5,
    "start_time": "2021-07-01T08:47:45.029Z"
   },
   {
    "duration": 11,
    "start_time": "2021-07-01T08:47:46.857Z"
   },
   {
    "duration": 8,
    "start_time": "2021-07-01T08:47:47.025Z"
   },
   {
    "duration": 10,
    "start_time": "2021-07-01T08:47:47.157Z"
   },
   {
    "duration": 22,
    "start_time": "2021-07-01T08:47:47.336Z"
   },
   {
    "duration": 50,
    "start_time": "2021-07-01T08:47:47.673Z"
   },
   {
    "duration": 4,
    "start_time": "2021-07-01T08:47:48.109Z"
   },
   {
    "duration": 54,
    "start_time": "2021-07-01T08:47:48.298Z"
   },
   {
    "duration": 3,
    "start_time": "2021-07-01T08:47:48.749Z"
   },
   {
    "duration": 10,
    "start_time": "2021-07-01T08:47:48.913Z"
   },
   {
    "duration": 303,
    "start_time": "2021-07-01T08:47:49.424Z"
   },
   {
    "duration": 5,
    "start_time": "2021-07-01T08:47:53.036Z"
   },
   {
    "duration": 1464,
    "start_time": "2021-07-02T03:33:34.176Z"
   },
   {
    "duration": 565,
    "start_time": "2021-07-02T03:33:35.643Z"
   },
   {
    "duration": 3,
    "start_time": "2021-07-02T03:33:36.211Z"
   },
   {
    "duration": 63,
    "start_time": "2021-07-02T03:33:36.217Z"
   },
   {
    "duration": 24,
    "start_time": "2021-07-02T03:33:37.514Z"
   },
   {
    "duration": 53,
    "start_time": "2021-07-02T03:33:57.015Z"
   },
   {
    "duration": 71,
    "start_time": "2021-07-02T03:39:56.411Z"
   },
   {
    "duration": 21,
    "start_time": "2021-07-02T04:01:22.774Z"
   },
   {
    "duration": 18,
    "start_time": "2021-07-02T04:01:23.555Z"
   },
   {
    "duration": 39,
    "start_time": "2021-07-02T04:01:24.462Z"
   },
   {
    "duration": 18,
    "start_time": "2021-07-02T04:01:24.955Z"
   },
   {
    "duration": 11,
    "start_time": "2021-07-02T04:01:25.105Z"
   },
   {
    "duration": 28,
    "start_time": "2021-07-02T04:01:25.252Z"
   },
   {
    "duration": 14,
    "start_time": "2021-07-02T04:01:25.676Z"
   },
   {
    "duration": 10,
    "start_time": "2021-07-02T04:01:25.811Z"
   },
   {
    "duration": 19,
    "start_time": "2021-07-02T04:01:25.961Z"
   },
   {
    "duration": 9,
    "start_time": "2021-07-02T04:01:26.336Z"
   },
   {
    "duration": 13,
    "start_time": "2021-07-02T04:01:26.475Z"
   },
   {
    "duration": 9,
    "start_time": "2021-07-02T04:01:27.094Z"
   },
   {
    "duration": 14,
    "start_time": "2021-07-02T04:01:27.333Z"
   },
   {
    "duration": 9,
    "start_time": "2021-07-02T04:01:27.514Z"
   },
   {
    "duration": 37,
    "start_time": "2021-07-02T04:01:28.103Z"
   },
   {
    "duration": 15,
    "start_time": "2021-07-02T04:01:28.323Z"
   },
   {
    "duration": 16,
    "start_time": "2021-07-02T04:01:28.901Z"
   },
   {
    "duration": 428,
    "start_time": "2021-07-02T04:01:30.251Z"
   },
   {
    "duration": 31,
    "start_time": "2021-07-02T04:01:30.651Z"
   },
   {
    "duration": 288,
    "start_time": "2021-07-02T04:01:31.032Z"
   },
   {
    "duration": 269,
    "start_time": "2021-07-02T04:01:36.197Z"
   },
   {
    "duration": 8,
    "start_time": "2021-07-02T04:01:38.440Z"
   },
   {
    "duration": 19,
    "start_time": "2021-07-02T04:01:39.581Z"
   },
   {
    "duration": 24,
    "start_time": "2021-07-02T04:01:40.114Z"
   },
   {
    "duration": 16,
    "start_time": "2021-07-02T04:01:40.385Z"
   },
   {
    "duration": 37,
    "start_time": "2021-07-02T04:01:42.161Z"
   },
   {
    "duration": 24,
    "start_time": "2021-07-02T04:01:42.806Z"
   },
   {
    "duration": 20,
    "start_time": "2021-07-02T04:01:43.227Z"
   },
   {
    "duration": 27,
    "start_time": "2021-07-02T04:01:43.518Z"
   },
   {
    "duration": 15,
    "start_time": "2021-07-02T04:01:43.900Z"
   },
   {
    "duration": 7,
    "start_time": "2021-07-02T04:01:44.277Z"
   },
   {
    "duration": 136,
    "start_time": "2021-07-02T04:01:45.805Z"
   },
   {
    "duration": 14,
    "start_time": "2021-07-02T04:01:47.335Z"
   },
   {
    "duration": 17,
    "start_time": "2021-07-02T04:01:48.814Z"
   },
   {
    "duration": 9,
    "start_time": "2021-07-02T04:01:49.211Z"
   },
   {
    "duration": 25,
    "start_time": "2021-07-02T04:01:49.778Z"
   },
   {
    "duration": 11,
    "start_time": "2021-07-02T04:01:50.135Z"
   },
   {
    "duration": 16,
    "start_time": "2021-07-02T04:01:51.701Z"
   },
   {
    "duration": 1654,
    "start_time": "2021-07-02T04:01:52.835Z"
   },
   {
    "duration": 968,
    "start_time": "2021-07-02T04:02:09.237Z"
   },
   {
    "duration": 412,
    "start_time": "2021-07-02T08:18:45.255Z"
   },
   {
    "duration": 330,
    "start_time": "2021-07-02T08:18:55.492Z"
   },
   {
    "duration": 1758,
    "start_time": "2021-07-02T08:19:07.285Z"
   },
   {
    "duration": 678,
    "start_time": "2021-07-02T08:19:12.056Z"
   },
   {
    "duration": 4,
    "start_time": "2021-07-02T08:19:15.372Z"
   },
   {
    "duration": 53,
    "start_time": "2021-07-02T08:19:22.180Z"
   },
   {
    "duration": 78,
    "start_time": "2021-07-02T08:19:38.298Z"
   },
   {
    "duration": 110,
    "start_time": "2021-07-02T08:19:51.487Z"
   },
   {
    "duration": 125,
    "start_time": "2021-07-02T08:20:30.248Z"
   },
   {
    "duration": 63,
    "start_time": "2021-07-02T08:20:55.950Z"
   },
   {
    "duration": 100,
    "start_time": "2021-07-02T08:21:11.520Z"
   },
   {
    "duration": 7,
    "start_time": "2021-07-02T08:22:55.187Z"
   },
   {
    "duration": 21,
    "start_time": "2021-07-02T08:23:05.354Z"
   },
   {
    "duration": 120,
    "start_time": "2021-07-02T08:26:42.126Z"
   },
   {
    "duration": 19,
    "start_time": "2021-07-02T08:27:02.556Z"
   },
   {
    "duration": 120,
    "start_time": "2021-07-02T08:27:04.686Z"
   },
   {
    "duration": 1517,
    "start_time": "2021-07-02T08:33:25.103Z"
   },
   {
    "duration": 582,
    "start_time": "2021-07-02T08:33:26.622Z"
   },
   {
    "duration": 4,
    "start_time": "2021-07-02T08:33:27.207Z"
   },
   {
    "duration": 57,
    "start_time": "2021-07-02T08:33:27.214Z"
   },
   {
    "duration": 98,
    "start_time": "2021-07-02T08:33:27.273Z"
   },
   {
    "duration": 111,
    "start_time": "2021-07-02T08:33:27.373Z"
   },
   {
    "duration": 3,
    "start_time": "2021-07-02T08:33:27.486Z"
   },
   {
    "duration": 15,
    "start_time": "2021-07-02T08:33:27.496Z"
   },
   {
    "duration": 54,
    "start_time": "2021-07-02T08:33:27.515Z"
   },
   {
    "duration": 877,
    "start_time": "2021-07-02T08:33:27.572Z"
   },
   {
    "duration": 45,
    "start_time": "2021-07-02T08:33:28.453Z"
   },
   {
    "duration": 19,
    "start_time": "2021-07-02T08:33:28.501Z"
   },
   {
    "duration": 67,
    "start_time": "2021-07-02T08:33:28.524Z"
   },
   {
    "duration": 18,
    "start_time": "2021-07-02T08:33:28.594Z"
   },
   {
    "duration": 22,
    "start_time": "2021-07-02T08:33:28.615Z"
   },
   {
    "duration": 50,
    "start_time": "2021-07-02T08:33:28.640Z"
   },
   {
    "duration": 16,
    "start_time": "2021-07-02T08:33:28.692Z"
   },
   {
    "duration": 23,
    "start_time": "2021-07-02T08:33:28.710Z"
   },
   {
    "duration": 49,
    "start_time": "2021-07-02T08:33:28.736Z"
   },
   {
    "duration": 11,
    "start_time": "2021-07-02T08:33:28.788Z"
   },
   {
    "duration": 26,
    "start_time": "2021-07-02T08:33:28.802Z"
   },
   {
    "duration": 19,
    "start_time": "2021-07-02T08:33:28.831Z"
   },
   {
    "duration": 14,
    "start_time": "2021-07-02T08:33:28.871Z"
   },
   {
    "duration": 24,
    "start_time": "2021-07-02T08:33:28.889Z"
   },
   {
    "duration": 62,
    "start_time": "2021-07-02T08:33:28.916Z"
   },
   {
    "duration": 18,
    "start_time": "2021-07-02T08:33:28.981Z"
   },
   {
    "duration": 20,
    "start_time": "2021-07-02T08:33:29.002Z"
   },
   {
    "duration": 94,
    "start_time": "2021-07-02T08:33:29.025Z"
   },
   {
    "duration": 134,
    "start_time": "2021-07-02T08:33:28.990Z"
   },
   {
    "duration": 130,
    "start_time": "2021-07-02T08:33:28.996Z"
   },
   {
    "duration": 122,
    "start_time": "2021-07-02T08:33:29.006Z"
   },
   {
    "duration": 119,
    "start_time": "2021-07-02T08:33:29.011Z"
   },
   {
    "duration": 115,
    "start_time": "2021-07-02T08:33:29.017Z"
   },
   {
    "duration": 109,
    "start_time": "2021-07-02T08:33:29.025Z"
   },
   {
    "duration": 104,
    "start_time": "2021-07-02T08:33:29.032Z"
   },
   {
    "duration": 48,
    "start_time": "2021-07-02T08:33:29.089Z"
   },
   {
    "duration": 46,
    "start_time": "2021-07-02T08:33:29.093Z"
   },
   {
    "duration": 40,
    "start_time": "2021-07-02T08:33:29.100Z"
   },
   {
    "duration": 34,
    "start_time": "2021-07-02T08:33:29.108Z"
   },
   {
    "duration": 31,
    "start_time": "2021-07-02T08:33:29.112Z"
   },
   {
    "duration": 24,
    "start_time": "2021-07-02T08:33:29.121Z"
   },
   {
    "duration": 19,
    "start_time": "2021-07-02T08:33:29.127Z"
   },
   {
    "duration": 15,
    "start_time": "2021-07-02T08:33:29.133Z"
   },
   {
    "duration": 10,
    "start_time": "2021-07-02T08:33:29.140Z"
   },
   {
    "duration": 6,
    "start_time": "2021-07-02T08:33:29.146Z"
   },
   {
    "duration": -1,
    "start_time": "2021-07-02T08:33:29.155Z"
   },
   {
    "duration": -4,
    "start_time": "2021-07-02T08:33:29.160Z"
   },
   {
    "duration": -9,
    "start_time": "2021-07-02T08:33:29.167Z"
   },
   {
    "duration": -15,
    "start_time": "2021-07-02T08:33:29.175Z"
   },
   {
    "duration": -20,
    "start_time": "2021-07-02T08:33:29.181Z"
   },
   {
    "duration": -27,
    "start_time": "2021-07-02T08:33:29.190Z"
   },
   {
    "duration": -30,
    "start_time": "2021-07-02T08:33:29.196Z"
   },
   {
    "duration": -37,
    "start_time": "2021-07-02T08:33:29.205Z"
   },
   {
    "duration": -42,
    "start_time": "2021-07-02T08:33:29.211Z"
   },
   {
    "duration": -42,
    "start_time": "2021-07-02T08:33:29.217Z"
   },
   {
    "duration": -48,
    "start_time": "2021-07-02T08:33:29.225Z"
   },
   {
    "duration": -55,
    "start_time": "2021-07-02T08:33:29.233Z"
   },
   {
    "duration": -61,
    "start_time": "2021-07-02T08:33:29.241Z"
   },
   {
    "duration": -67,
    "start_time": "2021-07-02T08:33:29.249Z"
   },
   {
    "duration": -75,
    "start_time": "2021-07-02T08:33:29.259Z"
   },
   {
    "duration": -79,
    "start_time": "2021-07-02T08:33:29.265Z"
   },
   {
    "duration": -85,
    "start_time": "2021-07-02T08:33:29.273Z"
   },
   {
    "duration": -88,
    "start_time": "2021-07-02T08:33:29.278Z"
   },
   {
    "duration": -95,
    "start_time": "2021-07-02T08:33:29.287Z"
   },
   {
    "duration": -98,
    "start_time": "2021-07-02T08:33:29.292Z"
   },
   {
    "duration": -102,
    "start_time": "2021-07-02T08:33:29.298Z"
   },
   {
    "duration": -108,
    "start_time": "2021-07-02T08:33:29.306Z"
   },
   {
    "duration": -135,
    "start_time": "2021-07-02T08:33:29.335Z"
   },
   {
    "duration": -139,
    "start_time": "2021-07-02T08:33:29.341Z"
   },
   {
    "duration": -143,
    "start_time": "2021-07-02T08:33:29.347Z"
   },
   {
    "duration": -89,
    "start_time": "2021-07-02T08:33:29.355Z"
   },
   {
    "duration": -91,
    "start_time": "2021-07-02T08:33:29.360Z"
   },
   {
    "duration": -96,
    "start_time": "2021-07-02T08:33:29.366Z"
   },
   {
    "duration": -102,
    "start_time": "2021-07-02T08:33:29.374Z"
   },
   {
    "duration": -105,
    "start_time": "2021-07-02T08:33:29.379Z"
   },
   {
    "duration": -112,
    "start_time": "2021-07-02T08:33:29.388Z"
   },
   {
    "duration": -116,
    "start_time": "2021-07-02T08:33:29.394Z"
   },
   {
    "duration": -121,
    "start_time": "2021-07-02T08:33:29.401Z"
   },
   {
    "duration": -127,
    "start_time": "2021-07-02T08:33:29.409Z"
   },
   {
    "duration": -132,
    "start_time": "2021-07-02T08:33:29.416Z"
   },
   {
    "duration": -137,
    "start_time": "2021-07-02T08:33:29.423Z"
   },
   {
    "duration": -140,
    "start_time": "2021-07-02T08:33:29.428Z"
   },
   {
    "duration": -147,
    "start_time": "2021-07-02T08:33:29.437Z"
   },
   {
    "duration": -150,
    "start_time": "2021-07-02T08:33:29.442Z"
   },
   {
    "duration": -154,
    "start_time": "2021-07-02T08:33:29.448Z"
   },
   {
    "duration": -160,
    "start_time": "2021-07-02T08:33:29.456Z"
   },
   {
    "duration": -164,
    "start_time": "2021-07-02T08:33:29.462Z"
   },
   {
    "duration": -171,
    "start_time": "2021-07-02T08:33:29.471Z"
   },
   {
    "duration": -175,
    "start_time": "2021-07-02T08:33:29.476Z"
   },
   {
    "duration": -179,
    "start_time": "2021-07-02T08:33:29.482Z"
   },
   {
    "duration": -184,
    "start_time": "2021-07-02T08:33:29.489Z"
   },
   {
    "duration": -188,
    "start_time": "2021-07-02T08:33:29.494Z"
   },
   {
    "duration": -133,
    "start_time": "2021-07-02T08:33:29.501Z"
   },
   {
    "duration": -140,
    "start_time": "2021-07-02T08:33:29.509Z"
   },
   {
    "duration": 85,
    "start_time": "2021-07-02T09:28:53.182Z"
   },
   {
    "duration": 514,
    "start_time": "2021-07-02T09:38:22.888Z"
   },
   {
    "duration": 85,
    "start_time": "2021-07-02T09:39:01.646Z"
   },
   {
    "duration": 33,
    "start_time": "2021-07-02T09:48:47.703Z"
   },
   {
    "duration": 46,
    "start_time": "2021-07-02T10:10:59.782Z"
   },
   {
    "duration": 55,
    "start_time": "2021-07-02T10:11:22.245Z"
   },
   {
    "duration": 113,
    "start_time": "2021-07-02T10:13:18.971Z"
   },
   {
    "duration": 59,
    "start_time": "2021-07-02T10:15:10.882Z"
   },
   {
    "duration": 92,
    "start_time": "2021-07-02T10:16:40.949Z"
   },
   {
    "duration": 106,
    "start_time": "2021-07-02T10:16:51.772Z"
   },
   {
    "duration": 9,
    "start_time": "2021-07-02T10:18:46.540Z"
   },
   {
    "duration": 18,
    "start_time": "2021-07-02T10:18:48.796Z"
   },
   {
    "duration": 338,
    "start_time": "2021-07-02T10:18:59.462Z"
   },
   {
    "duration": 3,
    "start_time": "2021-07-02T10:19:39.244Z"
   },
   {
    "duration": 7,
    "start_time": "2021-07-02T10:19:41.829Z"
   },
   {
    "duration": 18,
    "start_time": "2021-07-02T10:19:45.398Z"
   },
   {
    "duration": 325,
    "start_time": "2021-07-02T10:19:50.422Z"
   },
   {
    "duration": 95,
    "start_time": "2021-07-02T10:22:20.274Z"
   },
   {
    "duration": 326,
    "start_time": "2021-07-02T10:22:40.577Z"
   },
   {
    "duration": 340,
    "start_time": "2021-07-02T10:22:56.505Z"
   },
   {
    "duration": 351,
    "start_time": "2021-07-02T10:23:01.113Z"
   },
   {
    "duration": 326,
    "start_time": "2021-07-02T10:23:20.098Z"
   },
   {
    "duration": 14,
    "start_time": "2021-07-02T10:24:05.507Z"
   },
   {
    "duration": 848,
    "start_time": "2021-07-02T10:24:27.050Z"
   },
   {
    "duration": 9,
    "start_time": "2021-07-02T10:24:38.283Z"
   },
   {
    "duration": 105,
    "start_time": "2021-07-02T10:24:54.772Z"
   },
   {
    "duration": 8,
    "start_time": "2021-07-02T10:25:22.339Z"
   },
   {
    "duration": 6,
    "start_time": "2021-07-02T10:26:02.700Z"
   },
   {
    "duration": 118,
    "start_time": "2021-07-02T10:35:15.180Z"
   },
   {
    "duration": 101,
    "start_time": "2021-07-02T10:35:40.148Z"
   },
   {
    "duration": 103,
    "start_time": "2021-07-02T10:36:09.092Z"
   },
   {
    "duration": 299,
    "start_time": "2021-07-02T10:37:04.398Z"
   },
   {
    "duration": 7,
    "start_time": "2021-07-02T10:37:31.623Z"
   },
   {
    "duration": 322,
    "start_time": "2021-07-02T10:38:56.607Z"
   },
   {
    "duration": 374,
    "start_time": "2021-07-02T10:39:02.543Z"
   },
   {
    "duration": 7995,
    "start_time": "2021-07-02T10:39:24.657Z"
   },
   {
    "duration": 7,
    "start_time": "2021-07-02T10:40:15.249Z"
   },
   {
    "duration": 5,
    "start_time": "2021-07-02T10:41:09.537Z"
   },
   {
    "duration": 501,
    "start_time": "2021-07-02T10:42:05.227Z"
   },
   {
    "duration": 329,
    "start_time": "2021-07-02T10:42:48.061Z"
   },
   {
    "duration": 11,
    "start_time": "2021-07-02T10:43:08.900Z"
   },
   {
    "duration": 6,
    "start_time": "2021-07-02T10:45:28.191Z"
   },
   {
    "duration": 35,
    "start_time": "2021-07-02T10:51:55.438Z"
   },
   {
    "duration": 18,
    "start_time": "2021-07-02T10:55:20.703Z"
   },
   {
    "duration": 24,
    "start_time": "2021-07-02T10:55:22.166Z"
   },
   {
    "duration": 16,
    "start_time": "2021-07-02T10:55:23.464Z"
   },
   {
    "duration": 33,
    "start_time": "2021-07-02T10:55:32.215Z"
   },
   {
    "duration": 22,
    "start_time": "2021-07-02T10:55:45.214Z"
   },
   {
    "duration": 18,
    "start_time": "2021-07-02T10:55:46.743Z"
   },
   {
    "duration": 28,
    "start_time": "2021-07-02T10:55:48.191Z"
   },
   {
    "duration": 15,
    "start_time": "2021-07-02T10:55:50.712Z"
   },
   {
    "duration": 5,
    "start_time": "2021-07-02T10:55:53.159Z"
   },
   {
    "duration": 21,
    "start_time": "2021-07-02T10:55:58.961Z"
   },
   {
    "duration": 202,
    "start_time": "2021-07-02T10:56:21.868Z"
   },
   {
    "duration": 32,
    "start_time": "2021-07-02T10:56:24.496Z"
   },
   {
    "duration": 13,
    "start_time": "2021-07-02T10:58:28.946Z"
   },
   {
    "duration": 113,
    "start_time": "2021-07-02T11:00:12.476Z"
   },
   {
    "duration": 121,
    "start_time": "2021-07-02T11:00:26.803Z"
   },
   {
    "duration": 134,
    "start_time": "2021-07-02T11:00:39.820Z"
   },
   {
    "duration": 104,
    "start_time": "2021-07-02T11:02:31.326Z"
   },
   {
    "duration": 285,
    "start_time": "2021-07-02T11:02:41.271Z"
   },
   {
    "duration": 345,
    "start_time": "2021-07-02T11:03:12.935Z"
   },
   {
    "duration": 8,
    "start_time": "2021-07-02T11:03:23.359Z"
   },
   {
    "duration": 26,
    "start_time": "2021-07-02T11:03:32.047Z"
   },
   {
    "duration": 346,
    "start_time": "2021-07-02T11:04:15.911Z"
   },
   {
    "duration": 106,
    "start_time": "2021-07-02T11:04:51.072Z"
   },
   {
    "duration": 307,
    "start_time": "2021-07-02T11:04:58.880Z"
   },
   {
    "duration": 767,
    "start_time": "2021-07-02T11:05:34.353Z"
   },
   {
    "duration": 321,
    "start_time": "2021-07-02T11:09:09.350Z"
   },
   {
    "duration": 7,
    "start_time": "2021-07-02T11:10:42.677Z"
   },
   {
    "duration": 26,
    "start_time": "2021-07-02T11:10:44.909Z"
   },
   {
    "duration": 13,
    "start_time": "2021-07-02T11:11:15.806Z"
   },
   {
    "duration": 40,
    "start_time": "2021-07-02T11:11:17.423Z"
   },
   {
    "duration": 6,
    "start_time": "2021-07-02T11:11:27.766Z"
   },
   {
    "duration": 27,
    "start_time": "2021-07-02T11:11:29.966Z"
   },
   {
    "duration": 349,
    "start_time": "2021-07-02T11:12:15.727Z"
   },
   {
    "duration": 292,
    "start_time": "2021-07-02T11:12:31.560Z"
   },
   {
    "duration": 341,
    "start_time": "2021-07-02T11:13:04.399Z"
   },
   {
    "duration": 28,
    "start_time": "2021-07-02T11:20:22.934Z"
   },
   {
    "duration": 335,
    "start_time": "2021-07-02T11:20:40.434Z"
   },
   {
    "duration": 17,
    "start_time": "2021-07-02T11:20:46.287Z"
   },
   {
    "duration": 834,
    "start_time": "2021-07-02T11:27:23.406Z"
   },
   {
    "duration": 288,
    "start_time": "2021-07-02T11:28:14.159Z"
   },
   {
    "duration": 6,
    "start_time": "2021-07-02T11:31:49.842Z"
   },
   {
    "duration": 6,
    "start_time": "2021-07-02T11:32:11.994Z"
   },
   {
    "duration": 5,
    "start_time": "2021-07-02T11:32:23.875Z"
   },
   {
    "duration": 5,
    "start_time": "2021-07-02T11:32:34.739Z"
   },
   {
    "duration": 16,
    "start_time": "2021-07-02T11:32:46.627Z"
   },
   {
    "duration": 9,
    "start_time": "2021-07-02T11:33:05.484Z"
   },
   {
    "duration": 52,
    "start_time": "2021-07-02T11:33:12.675Z"
   },
   {
    "duration": 19,
    "start_time": "2021-07-02T11:33:46.774Z"
   },
   {
    "duration": 16,
    "start_time": "2021-07-02T11:34:59.407Z"
   },
   {
    "duration": 6,
    "start_time": "2021-07-02T11:35:01.694Z"
   },
   {
    "duration": 11,
    "start_time": "2021-07-02T11:35:17.784Z"
   },
   {
    "duration": 6,
    "start_time": "2021-07-02T11:35:21.846Z"
   },
   {
    "duration": 7,
    "start_time": "2021-07-02T11:35:43.918Z"
   },
   {
    "duration": 39,
    "start_time": "2021-07-02T11:45:02.554Z"
   },
   {
    "duration": 21,
    "start_time": "2021-07-02T11:45:24.700Z"
   },
   {
    "duration": 98,
    "start_time": "2021-07-02T11:47:37.110Z"
   },
   {
    "duration": 363,
    "start_time": "2021-07-02T11:50:12.414Z"
   },
   {
    "duration": 13,
    "start_time": "2021-07-02T11:50:24.463Z"
   },
   {
    "duration": 24,
    "start_time": "2021-07-02T11:50:37.606Z"
   },
   {
    "duration": 10,
    "start_time": "2021-07-02T11:51:01.432Z"
   },
   {
    "duration": 26,
    "start_time": "2021-07-02T11:51:04.064Z"
   },
   {
    "duration": 8792,
    "start_time": "2021-07-02T11:59:04.908Z"
   },
   {
    "duration": 22,
    "start_time": "2021-07-02T11:59:30.279Z"
   },
   {
    "duration": 11,
    "start_time": "2021-07-02T11:59:32.134Z"
   },
   {
    "duration": 28,
    "start_time": "2021-07-02T11:59:33.885Z"
   },
   {
    "duration": 20,
    "start_time": "2021-07-02T12:00:12.502Z"
   },
   {
    "duration": 38492,
    "start_time": "2021-07-02T12:00:59.261Z"
   },
   {
    "duration": 325,
    "start_time": "2021-07-02T12:02:17.688Z"
   },
   {
    "duration": 391,
    "start_time": "2021-07-02T12:03:11.960Z"
   },
   {
    "duration": 1757,
    "start_time": "2021-07-02T12:06:06.228Z"
   },
   {
    "duration": 1534,
    "start_time": "2021-07-02T12:06:15.155Z"
   },
   {
    "duration": 1730,
    "start_time": "2021-07-02T12:08:26.501Z"
   },
   {
    "duration": 2706,
    "start_time": "2021-07-02T12:10:13.602Z"
   },
   {
    "duration": 1727,
    "start_time": "2021-07-02T12:10:49.128Z"
   },
   {
    "duration": 4,
    "start_time": "2021-07-02T12:22:08.634Z"
   },
   {
    "duration": 13,
    "start_time": "2021-07-02T12:22:23.658Z"
   },
   {
    "duration": 101,
    "start_time": "2021-07-02T12:26:43.991Z"
   },
   {
    "duration": 95,
    "start_time": "2021-07-02T12:27:03.006Z"
   },
   {
    "duration": 101,
    "start_time": "2021-07-02T12:27:23.607Z"
   },
   {
    "duration": 101,
    "start_time": "2021-07-02T12:30:25.042Z"
   },
   {
    "duration": 383,
    "start_time": "2021-07-02T12:30:36.834Z"
   },
   {
    "duration": 480,
    "start_time": "2021-07-02T12:31:02.954Z"
   },
   {
    "duration": 365,
    "start_time": "2021-07-02T12:31:48.611Z"
   },
   {
    "duration": 1113,
    "start_time": "2021-07-02T12:32:00.925Z"
   },
   {
    "duration": 1271,
    "start_time": "2021-07-02T12:33:54.786Z"
   },
   {
    "duration": 119,
    "start_time": "2021-07-02T12:34:56.902Z"
   },
   {
    "duration": 114,
    "start_time": "2021-07-02T12:35:17.361Z"
   },
   {
    "duration": 120,
    "start_time": "2021-07-02T12:35:36.399Z"
   },
   {
    "duration": 134,
    "start_time": "2021-07-02T12:35:41.015Z"
   },
   {
    "duration": 1227,
    "start_time": "2021-07-02T12:36:07.105Z"
   },
   {
    "duration": 108,
    "start_time": "2021-07-02T12:36:39.669Z"
   },
   {
    "duration": 1546,
    "start_time": "2021-07-02T12:36:51.353Z"
   },
   {
    "duration": 1559,
    "start_time": "2021-07-02T12:43:27.513Z"
   },
   {
    "duration": 604,
    "start_time": "2021-07-02T12:43:29.076Z"
   },
   {
    "duration": 4,
    "start_time": "2021-07-02T12:43:29.683Z"
   },
   {
    "duration": 480,
    "start_time": "2021-07-02T12:43:29.689Z"
   },
   {
    "duration": 445,
    "start_time": "2021-07-02T12:43:29.734Z"
   },
   {
    "duration": 442,
    "start_time": "2021-07-02T12:43:29.739Z"
   },
   {
    "duration": 363,
    "start_time": "2021-07-02T12:43:29.819Z"
   },
   {
    "duration": 356,
    "start_time": "2021-07-02T12:43:29.828Z"
   },
   {
    "duration": 353,
    "start_time": "2021-07-02T12:43:29.834Z"
   },
   {
    "duration": 291,
    "start_time": "2021-07-02T12:43:29.897Z"
   },
   {
    "duration": 286,
    "start_time": "2021-07-02T12:43:29.903Z"
   },
   {
    "duration": 280,
    "start_time": "2021-07-02T12:43:29.911Z"
   },
   {
    "duration": 275,
    "start_time": "2021-07-02T12:43:29.917Z"
   },
   {
    "duration": 270,
    "start_time": "2021-07-02T12:43:29.923Z"
   },
   {
    "duration": 264,
    "start_time": "2021-07-02T12:43:29.932Z"
   },
   {
    "duration": 260,
    "start_time": "2021-07-02T12:43:29.937Z"
   },
   {
    "duration": 253,
    "start_time": "2021-07-02T12:43:29.946Z"
   },
   {
    "duration": 249,
    "start_time": "2021-07-02T12:43:29.951Z"
   },
   {
    "duration": 243,
    "start_time": "2021-07-02T12:43:29.959Z"
   },
   {
    "duration": 240,
    "start_time": "2021-07-02T12:43:29.964Z"
   },
   {
    "duration": 235,
    "start_time": "2021-07-02T12:43:29.970Z"
   },
   {
    "duration": 229,
    "start_time": "2021-07-02T12:43:29.978Z"
   },
   {
    "duration": 225,
    "start_time": "2021-07-02T12:43:29.983Z"
   },
   {
    "duration": 221,
    "start_time": "2021-07-02T12:43:29.989Z"
   },
   {
    "duration": 213,
    "start_time": "2021-07-02T12:43:29.998Z"
   },
   {
    "duration": 108,
    "start_time": "2021-07-02T12:43:30.105Z"
   },
   {
    "duration": 153,
    "start_time": "2021-07-02T12:43:30.113Z"
   },
   {
    "duration": 149,
    "start_time": "2021-07-02T12:43:30.119Z"
   },
   {
    "duration": 141,
    "start_time": "2021-07-02T12:43:30.128Z"
   },
   {
    "duration": 137,
    "start_time": "2021-07-02T12:43:30.133Z"
   },
   {
    "duration": 133,
    "start_time": "2021-07-02T12:43:30.139Z"
   },
   {
    "duration": 126,
    "start_time": "2021-07-02T12:43:30.148Z"
   },
   {
    "duration": 122,
    "start_time": "2021-07-02T12:43:30.153Z"
   },
   {
    "duration": 115,
    "start_time": "2021-07-02T12:43:30.161Z"
   },
   {
    "duration": 111,
    "start_time": "2021-07-02T12:43:30.167Z"
   },
   {
    "duration": 103,
    "start_time": "2021-07-02T12:43:30.176Z"
   },
   {
    "duration": 99,
    "start_time": "2021-07-02T12:43:30.181Z"
   },
   {
    "duration": 95,
    "start_time": "2021-07-02T12:43:30.187Z"
   },
   {
    "duration": 88,
    "start_time": "2021-07-02T12:43:30.195Z"
   },
   {
    "duration": 84,
    "start_time": "2021-07-02T12:43:30.200Z"
   },
   {
    "duration": 76,
    "start_time": "2021-07-02T12:43:30.209Z"
   },
   {
    "duration": 72,
    "start_time": "2021-07-02T12:43:30.215Z"
   },
   {
    "duration": 67,
    "start_time": "2021-07-02T12:43:30.221Z"
   },
   {
    "duration": 61,
    "start_time": "2021-07-02T12:43:30.229Z"
   },
   {
    "duration": 56,
    "start_time": "2021-07-02T12:43:30.235Z"
   },
   {
    "duration": 49,
    "start_time": "2021-07-02T12:43:30.243Z"
   },
   {
    "duration": 45,
    "start_time": "2021-07-02T12:43:30.248Z"
   },
   {
    "duration": 41,
    "start_time": "2021-07-02T12:43:30.254Z"
   },
   {
    "duration": 33,
    "start_time": "2021-07-02T12:43:30.263Z"
   },
   {
    "duration": 30,
    "start_time": "2021-07-02T12:43:30.268Z"
   },
   {
    "duration": 22,
    "start_time": "2021-07-02T12:43:30.277Z"
   },
   {
    "duration": 17,
    "start_time": "2021-07-02T12:43:30.283Z"
   },
   {
    "duration": 13,
    "start_time": "2021-07-02T12:43:30.289Z"
   },
   {
    "duration": 6,
    "start_time": "2021-07-02T12:43:30.297Z"
   },
   {
    "duration": 2,
    "start_time": "2021-07-02T12:43:30.303Z"
   },
   {
    "duration": -5,
    "start_time": "2021-07-02T12:43:30.311Z"
   },
   {
    "duration": -8,
    "start_time": "2021-07-02T12:43:30.315Z"
   },
   {
    "duration": -13,
    "start_time": "2021-07-02T12:43:30.321Z"
   },
   {
    "duration": 39,
    "start_time": "2021-07-02T12:43:30.328Z"
   },
   {
    "duration": 36,
    "start_time": "2021-07-02T12:43:30.333Z"
   },
   {
    "duration": 32,
    "start_time": "2021-07-02T12:43:30.339Z"
   },
   {
    "duration": 26,
    "start_time": "2021-07-02T12:43:30.347Z"
   },
   {
    "duration": 22,
    "start_time": "2021-07-02T12:43:30.353Z"
   },
   {
    "duration": 17,
    "start_time": "2021-07-02T12:43:30.360Z"
   },
   {
    "duration": 13,
    "start_time": "2021-07-02T12:43:30.366Z"
   },
   {
    "duration": 8,
    "start_time": "2021-07-02T12:43:30.372Z"
   },
   {
    "duration": 2,
    "start_time": "2021-07-02T12:43:30.379Z"
   },
   {
    "duration": -1,
    "start_time": "2021-07-02T12:43:30.384Z"
   },
   {
    "duration": -9,
    "start_time": "2021-07-02T12:43:30.393Z"
   },
   {
    "duration": -12,
    "start_time": "2021-07-02T12:43:30.397Z"
   },
   {
    "duration": -16,
    "start_time": "2021-07-02T12:43:30.403Z"
   },
   {
    "duration": -23,
    "start_time": "2021-07-02T12:43:30.411Z"
   },
   {
    "duration": -27,
    "start_time": "2021-07-02T12:43:30.416Z"
   },
   {
    "duration": -50,
    "start_time": "2021-07-02T12:43:30.441Z"
   },
   {
    "duration": -54,
    "start_time": "2021-07-02T12:43:30.446Z"
   },
   {
    "duration": -57,
    "start_time": "2021-07-02T12:43:30.451Z"
   },
   {
    "duration": -64,
    "start_time": "2021-07-02T12:43:30.459Z"
   },
   {
    "duration": -66,
    "start_time": "2021-07-02T12:43:30.463Z"
   },
   {
    "duration": -71,
    "start_time": "2021-07-02T12:43:30.469Z"
   },
   {
    "duration": -77,
    "start_time": "2021-07-02T12:43:30.477Z"
   },
   {
    "duration": -81,
    "start_time": "2021-07-02T12:43:30.482Z"
   },
   {
    "duration": -85,
    "start_time": "2021-07-02T12:43:30.488Z"
   },
   {
    "duration": -92,
    "start_time": "2021-07-02T12:43:30.496Z"
   },
   {
    "duration": -96,
    "start_time": "2021-07-02T12:43:30.501Z"
   },
   {
    "duration": -103,
    "start_time": "2021-07-02T12:43:30.510Z"
   },
   {
    "duration": -106,
    "start_time": "2021-07-02T12:43:30.514Z"
   },
   {
    "duration": -111,
    "start_time": "2021-07-02T12:43:30.520Z"
   },
   {
    "duration": -118,
    "start_time": "2021-07-02T12:43:30.528Z"
   },
   {
    "duration": -61,
    "start_time": "2021-07-02T12:43:30.533Z"
   },
   {
    "duration": -65,
    "start_time": "2021-07-02T12:43:30.539Z"
   },
   {
    "duration": -69,
    "start_time": "2021-07-02T12:43:30.546Z"
   },
   {
    "duration": -73,
    "start_time": "2021-07-02T12:43:30.551Z"
   },
   {
    "duration": -80,
    "start_time": "2021-07-02T12:43:30.560Z"
   },
   {
    "duration": -83,
    "start_time": "2021-07-02T12:43:30.565Z"
   },
   {
    "duration": -87,
    "start_time": "2021-07-02T12:43:30.570Z"
   },
   {
    "duration": -93,
    "start_time": "2021-07-02T12:43:30.578Z"
   },
   {
    "duration": -98,
    "start_time": "2021-07-02T12:43:30.584Z"
   },
   {
    "duration": -102,
    "start_time": "2021-07-02T12:43:30.590Z"
   },
   {
    "duration": 61,
    "start_time": "2021-07-02T12:44:19.899Z"
   },
   {
    "duration": 1566,
    "start_time": "2021-07-02T12:44:29.792Z"
   },
   {
    "duration": 690,
    "start_time": "2021-07-02T12:44:31.360Z"
   },
   {
    "duration": 3,
    "start_time": "2021-07-02T12:44:32.053Z"
   },
   {
    "duration": 71,
    "start_time": "2021-07-02T12:44:32.059Z"
   },
   {
    "duration": 849,
    "start_time": "2021-07-02T12:44:32.132Z"
   },
   {
    "duration": 442,
    "start_time": "2021-07-02T12:44:32.547Z"
   },
   {
    "duration": 437,
    "start_time": "2021-07-02T12:44:32.553Z"
   },
   {
    "duration": 356,
    "start_time": "2021-07-02T12:44:32.636Z"
   },
   {
    "duration": 346,
    "start_time": "2021-07-02T12:44:32.647Z"
   },
   {
    "duration": 342,
    "start_time": "2021-07-02T12:44:32.653Z"
   },
   {
    "duration": 334,
    "start_time": "2021-07-02T12:44:32.662Z"
   },
   {
    "duration": 330,
    "start_time": "2021-07-02T12:44:32.668Z"
   },
   {
    "duration": 322,
    "start_time": "2021-07-02T12:44:32.677Z"
   },
   {
    "duration": 316,
    "start_time": "2021-07-02T12:44:32.684Z"
   },
   {
    "duration": 308,
    "start_time": "2021-07-02T12:44:32.694Z"
   },
   {
    "duration": 243,
    "start_time": "2021-07-02T12:44:32.760Z"
   },
   {
    "duration": 239,
    "start_time": "2021-07-02T12:44:32.765Z"
   },
   {
    "duration": 229,
    "start_time": "2021-07-02T12:44:32.776Z"
   },
   {
    "duration": 226,
    "start_time": "2021-07-02T12:44:32.781Z"
   },
   {
    "duration": 213,
    "start_time": "2021-07-02T12:44:32.795Z"
   },
   {
    "duration": 208,
    "start_time": "2021-07-02T12:44:32.801Z"
   },
   {
    "duration": 200,
    "start_time": "2021-07-02T12:44:32.811Z"
   },
   {
    "duration": 196,
    "start_time": "2021-07-02T12:44:32.816Z"
   },
   {
    "duration": 187,
    "start_time": "2021-07-02T12:44:32.826Z"
   },
   {
    "duration": 182,
    "start_time": "2021-07-02T12:44:32.832Z"
   },
   {
    "duration": 174,
    "start_time": "2021-07-02T12:44:32.842Z"
   },
   {
    "duration": 170,
    "start_time": "2021-07-02T12:44:32.847Z"
   },
   {
    "duration": 159,
    "start_time": "2021-07-02T12:44:32.859Z"
   },
   {
    "duration": 154,
    "start_time": "2021-07-02T12:44:32.865Z"
   },
   {
    "duration": 147,
    "start_time": "2021-07-02T12:44:32.875Z"
   },
   {
    "duration": 143,
    "start_time": "2021-07-02T12:44:32.880Z"
   },
   {
    "duration": 138,
    "start_time": "2021-07-02T12:44:32.887Z"
   },
   {
    "duration": 172,
    "start_time": "2021-07-02T12:44:32.895Z"
   },
   {
    "duration": 167,
    "start_time": "2021-07-02T12:44:32.902Z"
   },
   {
    "duration": 161,
    "start_time": "2021-07-02T12:44:32.910Z"
   },
   {
    "duration": 157,
    "start_time": "2021-07-02T12:44:32.916Z"
   },
   {
    "duration": 148,
    "start_time": "2021-07-02T12:44:32.926Z"
   },
   {
    "duration": 144,
    "start_time": "2021-07-02T12:44:32.932Z"
   },
   {
    "duration": 137,
    "start_time": "2021-07-02T12:44:32.941Z"
   },
   {
    "duration": 132,
    "start_time": "2021-07-02T12:44:32.947Z"
   },
   {
    "duration": 80,
    "start_time": "2021-07-02T12:44:33.003Z"
   },
   {
    "duration": 73,
    "start_time": "2021-07-02T12:44:33.012Z"
   },
   {
    "duration": 69,
    "start_time": "2021-07-02T12:44:33.018Z"
   },
   {
    "duration": 63,
    "start_time": "2021-07-02T12:44:33.025Z"
   },
   {
    "duration": 60,
    "start_time": "2021-07-02T12:44:33.030Z"
   },
   {
    "duration": 55,
    "start_time": "2021-07-02T12:44:33.036Z"
   },
   {
    "duration": 45,
    "start_time": "2021-07-02T12:44:33.047Z"
   },
   {
    "duration": 41,
    "start_time": "2021-07-02T12:44:33.053Z"
   },
   {
    "duration": 33,
    "start_time": "2021-07-02T12:44:33.062Z"
   },
   {
    "duration": 28,
    "start_time": "2021-07-02T12:44:33.068Z"
   },
   {
    "duration": 21,
    "start_time": "2021-07-02T12:44:33.077Z"
   },
   {
    "duration": 17,
    "start_time": "2021-07-02T12:44:33.082Z"
   },
   {
    "duration": 8,
    "start_time": "2021-07-02T12:44:33.092Z"
   },
   {
    "duration": 6,
    "start_time": "2021-07-02T12:44:33.096Z"
   },
   {
    "duration": 0,
    "start_time": "2021-07-02T12:44:33.103Z"
   },
   {
    "duration": -8,
    "start_time": "2021-07-02T12:44:33.112Z"
   },
   {
    "duration": 52,
    "start_time": "2021-07-02T12:44:33.117Z"
   },
   {
    "duration": 46,
    "start_time": "2021-07-02T12:44:33.125Z"
   },
   {
    "duration": 42,
    "start_time": "2021-07-02T12:44:33.131Z"
   },
   {
    "duration": 39,
    "start_time": "2021-07-02T12:44:33.136Z"
   },
   {
    "duration": 32,
    "start_time": "2021-07-02T12:44:33.145Z"
   },
   {
    "duration": 28,
    "start_time": "2021-07-02T12:44:33.151Z"
   },
   {
    "duration": 22,
    "start_time": "2021-07-02T12:44:33.159Z"
   },
   {
    "duration": 19,
    "start_time": "2021-07-02T12:44:33.164Z"
   },
   {
    "duration": 14,
    "start_time": "2021-07-02T12:44:33.170Z"
   },
   {
    "duration": 8,
    "start_time": "2021-07-02T12:44:33.178Z"
   },
   {
    "duration": 4,
    "start_time": "2021-07-02T12:44:33.184Z"
   },
   {
    "duration": -5,
    "start_time": "2021-07-02T12:44:33.194Z"
   },
   {
    "duration": -10,
    "start_time": "2021-07-02T12:44:33.200Z"
   },
   {
    "duration": -15,
    "start_time": "2021-07-02T12:44:33.207Z"
   },
   {
    "duration": -20,
    "start_time": "2021-07-02T12:44:33.213Z"
   },
   {
    "duration": -24,
    "start_time": "2021-07-02T12:44:33.219Z"
   },
   {
    "duration": -34,
    "start_time": "2021-07-02T12:44:33.230Z"
   },
   {
    "duration": -46,
    "start_time": "2021-07-02T12:44:33.243Z"
   },
   {
    "duration": -49,
    "start_time": "2021-07-02T12:44:33.248Z"
   },
   {
    "duration": -60,
    "start_time": "2021-07-02T12:44:33.260Z"
   },
   {
    "duration": -64,
    "start_time": "2021-07-02T12:44:33.265Z"
   },
   {
    "duration": -72,
    "start_time": "2021-07-02T12:44:33.275Z"
   },
   {
    "duration": -77,
    "start_time": "2021-07-02T12:44:33.281Z"
   },
   {
    "duration": -80,
    "start_time": "2021-07-02T12:44:33.286Z"
   },
   {
    "duration": -30,
    "start_time": "2021-07-02T12:44:33.297Z"
   },
   {
    "duration": -40,
    "start_time": "2021-07-02T12:44:33.309Z"
   },
   {
    "duration": -44,
    "start_time": "2021-07-02T12:44:33.315Z"
   },
   {
    "duration": -53,
    "start_time": "2021-07-02T12:44:33.326Z"
   },
   {
    "duration": -58,
    "start_time": "2021-07-02T12:44:33.332Z"
   },
   {
    "duration": -67,
    "start_time": "2021-07-02T12:44:33.343Z"
   },
   {
    "duration": -71,
    "start_time": "2021-07-02T12:44:33.348Z"
   },
   {
    "duration": -77,
    "start_time": "2021-07-02T12:44:33.358Z"
   },
   {
    "duration": -81,
    "start_time": "2021-07-02T12:44:33.364Z"
   },
   {
    "duration": -88,
    "start_time": "2021-07-02T12:44:33.373Z"
   },
   {
    "duration": -98,
    "start_time": "2021-07-02T12:44:33.384Z"
   },
   {
    "duration": -104,
    "start_time": "2021-07-02T12:44:33.393Z"
   },
   {
    "duration": -108,
    "start_time": "2021-07-02T12:44:33.398Z"
   },
   {
    "duration": -116,
    "start_time": "2021-07-02T12:44:33.408Z"
   },
   {
    "duration": -120,
    "start_time": "2021-07-02T12:44:33.413Z"
   },
   {
    "duration": -125,
    "start_time": "2021-07-02T12:44:33.420Z"
   },
   {
    "duration": -133,
    "start_time": "2021-07-02T12:44:33.429Z"
   },
   {
    "duration": -137,
    "start_time": "2021-07-02T12:44:33.435Z"
   },
   {
    "duration": 63,
    "start_time": "2021-07-02T12:44:51.253Z"
   },
   {
    "duration": 100,
    "start_time": "2021-07-02T12:45:03.701Z"
   },
   {
    "duration": 1582,
    "start_time": "2021-07-02T12:45:27.964Z"
   },
   {
    "duration": 637,
    "start_time": "2021-07-02T12:45:29.549Z"
   },
   {
    "duration": 4,
    "start_time": "2021-07-02T12:45:30.189Z"
   },
   {
    "duration": 82,
    "start_time": "2021-07-02T12:45:30.195Z"
   },
   {
    "duration": 102,
    "start_time": "2021-07-02T12:45:30.280Z"
   },
   {
    "duration": 138,
    "start_time": "2021-07-02T12:45:30.385Z"
   },
   {
    "duration": 4,
    "start_time": "2021-07-02T12:45:30.525Z"
   },
   {
    "duration": 39,
    "start_time": "2021-07-02T12:45:30.533Z"
   },
   {
    "duration": 29,
    "start_time": "2021-07-02T12:45:30.576Z"
   },
   {
    "duration": 876,
    "start_time": "2021-07-02T12:45:30.608Z"
   },
   {
    "duration": 434,
    "start_time": "2021-07-02T12:45:31.056Z"
   },
   {
    "duration": 430,
    "start_time": "2021-07-02T12:45:31.061Z"
   },
   {
    "duration": 425,
    "start_time": "2021-07-02T12:45:31.068Z"
   },
   {
    "duration": 417,
    "start_time": "2021-07-02T12:45:31.077Z"
   },
   {
    "duration": 360,
    "start_time": "2021-07-02T12:45:31.135Z"
   },
   {
    "duration": 352,
    "start_time": "2021-07-02T12:45:31.145Z"
   },
   {
    "duration": 347,
    "start_time": "2021-07-02T12:45:31.151Z"
   },
   {
    "duration": 280,
    "start_time": "2021-07-02T12:45:31.219Z"
   },
   {
    "duration": 277,
    "start_time": "2021-07-02T12:45:31.224Z"
   },
   {
    "duration": 273,
    "start_time": "2021-07-02T12:45:31.229Z"
   },
   {
    "duration": 263,
    "start_time": "2021-07-02T12:45:31.240Z"
   },
   {
    "duration": 259,
    "start_time": "2021-07-02T12:45:31.246Z"
   },
   {
    "duration": 250,
    "start_time": "2021-07-02T12:45:31.256Z"
   },
   {
    "duration": 245,
    "start_time": "2021-07-02T12:45:31.262Z"
   },
   {
    "duration": 236,
    "start_time": "2021-07-02T12:45:31.273Z"
   },
   {
    "duration": 231,
    "start_time": "2021-07-02T12:45:31.279Z"
   },
   {
    "duration": 227,
    "start_time": "2021-07-02T12:45:31.284Z"
   },
   {
    "duration": 218,
    "start_time": "2021-07-02T12:45:31.294Z"
   },
   {
    "duration": 214,
    "start_time": "2021-07-02T12:45:31.300Z"
   },
   {
    "duration": 207,
    "start_time": "2021-07-02T12:45:31.308Z"
   },
   {
    "duration": 203,
    "start_time": "2021-07-02T12:45:31.314Z"
   },
   {
    "duration": 194,
    "start_time": "2021-07-02T12:45:31.324Z"
   },
   {
    "duration": 190,
    "start_time": "2021-07-02T12:45:31.329Z"
   },
   {
    "duration": 181,
    "start_time": "2021-07-02T12:45:31.339Z"
   },
   {
    "duration": 177,
    "start_time": "2021-07-02T12:45:31.345Z"
   },
   {
    "duration": 174,
    "start_time": "2021-07-02T12:45:31.350Z"
   },
   {
    "duration": 165,
    "start_time": "2021-07-02T12:45:31.360Z"
   },
   {
    "duration": 113,
    "start_time": "2021-07-02T12:45:31.414Z"
   },
   {
    "duration": 105,
    "start_time": "2021-07-02T12:45:31.423Z"
   },
   {
    "duration": 100,
    "start_time": "2021-07-02T12:45:31.429Z"
   },
   {
    "duration": 128,
    "start_time": "2021-07-02T12:45:31.439Z"
   },
   {
    "duration": 125,
    "start_time": "2021-07-02T12:45:31.444Z"
   },
   {
    "duration": 121,
    "start_time": "2021-07-02T12:45:31.450Z"
   },
   {
    "duration": 113,
    "start_time": "2021-07-02T12:45:31.460Z"
   },
   {
    "duration": 110,
    "start_time": "2021-07-02T12:45:31.465Z"
   },
   {
    "duration": 101,
    "start_time": "2021-07-02T12:45:31.475Z"
   },
   {
    "duration": 98,
    "start_time": "2021-07-02T12:45:31.480Z"
   },
   {
    "duration": 90,
    "start_time": "2021-07-02T12:45:31.489Z"
   },
   {
    "duration": 87,
    "start_time": "2021-07-02T12:45:31.494Z"
   },
   {
    "duration": 81,
    "start_time": "2021-07-02T12:45:31.502Z"
   },
   {
    "duration": 71,
    "start_time": "2021-07-02T12:45:31.513Z"
   },
   {
    "duration": 64,
    "start_time": "2021-07-02T12:45:31.522Z"
   },
   {
    "duration": 59,
    "start_time": "2021-07-02T12:45:31.528Z"
   },
   {
    "duration": 53,
    "start_time": "2021-07-02T12:45:31.534Z"
   },
   {
    "duration": 46,
    "start_time": "2021-07-02T12:45:31.542Z"
   },
   {
    "duration": 42,
    "start_time": "2021-07-02T12:45:31.547Z"
   },
   {
    "duration": 35,
    "start_time": "2021-07-02T12:45:31.556Z"
   },
   {
    "duration": 33,
    "start_time": "2021-07-02T12:45:31.561Z"
   },
   {
    "duration": 29,
    "start_time": "2021-07-02T12:45:31.567Z"
   },
   {
    "duration": 22,
    "start_time": "2021-07-02T12:45:31.575Z"
   },
   {
    "duration": 18,
    "start_time": "2021-07-02T12:45:31.581Z"
   },
   {
    "duration": 11,
    "start_time": "2021-07-02T12:45:31.590Z"
   },
   {
    "duration": 7,
    "start_time": "2021-07-02T12:45:31.595Z"
   },
   {
    "duration": 4,
    "start_time": "2021-07-02T12:45:31.600Z"
   },
   {
    "duration": -2,
    "start_time": "2021-07-02T12:45:31.608Z"
   },
   {
    "duration": 52,
    "start_time": "2021-07-02T12:45:31.615Z"
   },
   {
    "duration": 45,
    "start_time": "2021-07-02T12:45:31.624Z"
   },
   {
    "duration": 41,
    "start_time": "2021-07-02T12:45:31.630Z"
   },
   {
    "duration": 34,
    "start_time": "2021-07-02T12:45:31.638Z"
   },
   {
    "duration": 31,
    "start_time": "2021-07-02T12:45:31.643Z"
   },
   {
    "duration": 27,
    "start_time": "2021-07-02T12:45:31.648Z"
   },
   {
    "duration": 20,
    "start_time": "2021-07-02T12:45:31.657Z"
   },
   {
    "duration": 15,
    "start_time": "2021-07-02T12:45:31.663Z"
   },
   {
    "duration": 7,
    "start_time": "2021-07-02T12:45:31.672Z"
   },
   {
    "duration": 3,
    "start_time": "2021-07-02T12:45:31.678Z"
   },
   {
    "duration": -8,
    "start_time": "2021-07-02T12:45:31.690Z"
   },
   {
    "duration": -11,
    "start_time": "2021-07-02T12:45:31.694Z"
   },
   {
    "duration": -16,
    "start_time": "2021-07-02T12:45:31.700Z"
   },
   {
    "duration": -25,
    "start_time": "2021-07-02T12:45:31.710Z"
   },
   {
    "duration": -30,
    "start_time": "2021-07-02T12:45:31.716Z"
   },
   {
    "duration": -38,
    "start_time": "2021-07-02T12:45:31.725Z"
   },
   {
    "duration": -43,
    "start_time": "2021-07-02T12:45:31.732Z"
   },
   {
    "duration": -53,
    "start_time": "2021-07-02T12:45:31.743Z"
   },
   {
    "duration": -57,
    "start_time": "2021-07-02T12:45:31.749Z"
   },
   {
    "duration": -65,
    "start_time": "2021-07-02T12:45:31.758Z"
   },
   {
    "duration": -69,
    "start_time": "2021-07-02T12:45:31.764Z"
   },
   {
    "duration": -93,
    "start_time": "2021-07-02T12:45:31.789Z"
   },
   {
    "duration": -97,
    "start_time": "2021-07-02T12:45:31.795Z"
   },
   {
    "duration": -101,
    "start_time": "2021-07-02T12:45:31.801Z"
   },
   {
    "duration": -111,
    "start_time": "2021-07-02T12:45:31.812Z"
   },
   {
    "duration": -115,
    "start_time": "2021-07-02T12:45:31.817Z"
   },
   {
    "duration": -126,
    "start_time": "2021-07-02T12:45:31.830Z"
   },
   {
    "duration": -135,
    "start_time": "2021-07-02T12:45:31.840Z"
   },
   {
    "duration": -140,
    "start_time": "2021-07-02T12:45:31.846Z"
   },
   {
    "duration": -148,
    "start_time": "2021-07-02T12:45:31.856Z"
   },
   {
    "duration": -153,
    "start_time": "2021-07-02T12:45:31.862Z"
   },
   {
    "duration": -159,
    "start_time": "2021-07-02T12:45:31.869Z"
   },
   {
    "duration": -167,
    "start_time": "2021-07-02T12:45:31.879Z"
   },
   {
    "duration": 497,
    "start_time": "2021-07-02T12:45:57.716Z"
   },
   {
    "duration": 1614,
    "start_time": "2021-07-02T12:46:12.247Z"
   },
   {
    "duration": 643,
    "start_time": "2021-07-02T12:46:13.864Z"
   },
   {
    "duration": 4,
    "start_time": "2021-07-02T12:46:14.510Z"
   },
   {
    "duration": 85,
    "start_time": "2021-07-02T12:46:14.517Z"
   },
   {
    "duration": 92,
    "start_time": "2021-07-02T12:46:14.604Z"
   },
   {
    "duration": 180,
    "start_time": "2021-07-02T12:46:14.698Z"
   },
   {
    "duration": 6,
    "start_time": "2021-07-02T12:46:14.881Z"
   },
   {
    "duration": 14,
    "start_time": "2021-07-02T12:46:14.891Z"
   },
   {
    "duration": 27,
    "start_time": "2021-07-02T12:46:14.907Z"
   },
   {
    "duration": 572,
    "start_time": "2021-07-02T12:46:14.937Z"
   },
   {
    "duration": 28,
    "start_time": "2021-07-02T12:46:15.511Z"
   },
   {
    "duration": 27,
    "start_time": "2021-07-02T12:46:15.542Z"
   },
   {
    "duration": 45,
    "start_time": "2021-07-02T12:46:15.573Z"
   },
   {
    "duration": 46,
    "start_time": "2021-07-02T12:46:15.621Z"
   },
   {
    "duration": 17,
    "start_time": "2021-07-02T12:46:15.670Z"
   },
   {
    "duration": 36,
    "start_time": "2021-07-02T12:46:15.689Z"
   },
   {
    "duration": 47,
    "start_time": "2021-07-02T12:46:15.727Z"
   },
   {
    "duration": 12,
    "start_time": "2021-07-02T12:46:15.777Z"
   },
   {
    "duration": 25,
    "start_time": "2021-07-02T12:46:15.792Z"
   },
   {
    "duration": 8,
    "start_time": "2021-07-02T12:46:15.820Z"
   },
   {
    "duration": 49,
    "start_time": "2021-07-02T12:46:15.831Z"
   },
   {
    "duration": 11,
    "start_time": "2021-07-02T12:46:15.883Z"
   },
   {
    "duration": 15,
    "start_time": "2021-07-02T12:46:15.901Z"
   },
   {
    "duration": 15,
    "start_time": "2021-07-02T12:46:15.921Z"
   },
   {
    "duration": 37,
    "start_time": "2021-07-02T12:46:15.968Z"
   },
   {
    "duration": 14,
    "start_time": "2021-07-02T12:46:16.007Z"
   },
   {
    "duration": 43,
    "start_time": "2021-07-02T12:46:16.024Z"
   },
   {
    "duration": 7,
    "start_time": "2021-07-02T12:46:16.070Z"
   },
   {
    "duration": 7,
    "start_time": "2021-07-02T12:46:16.080Z"
   },
   {
    "duration": 7,
    "start_time": "2021-07-02T12:46:16.090Z"
   },
   {
    "duration": 12,
    "start_time": "2021-07-02T12:46:16.099Z"
   },
   {
    "duration": 54,
    "start_time": "2021-07-02T12:46:16.114Z"
   },
   {
    "duration": 21,
    "start_time": "2021-07-02T12:46:16.170Z"
   },
   {
    "duration": 24,
    "start_time": "2021-07-02T12:46:16.193Z"
   },
   {
    "duration": 52,
    "start_time": "2021-07-02T12:46:16.219Z"
   },
   {
    "duration": 33,
    "start_time": "2021-07-02T12:46:16.274Z"
   },
   {
    "duration": 23,
    "start_time": "2021-07-02T12:46:16.309Z"
   },
   {
    "duration": 54,
    "start_time": "2021-07-02T12:46:16.335Z"
   },
   {
    "duration": 29,
    "start_time": "2021-07-02T12:46:16.391Z"
   },
   {
    "duration": 44,
    "start_time": "2021-07-02T12:46:16.423Z"
   },
   {
    "duration": 5,
    "start_time": "2021-07-02T12:46:16.471Z"
   },
   {
    "duration": 6,
    "start_time": "2021-07-02T12:46:16.479Z"
   },
   {
    "duration": 16,
    "start_time": "2021-07-02T12:46:16.487Z"
   },
   {
    "duration": 16,
    "start_time": "2021-07-02T12:46:16.506Z"
   },
   {
    "duration": 43,
    "start_time": "2021-07-02T12:46:16.524Z"
   },
   {
    "duration": 472,
    "start_time": "2021-07-02T12:46:16.571Z"
   },
   {
    "duration": 22,
    "start_time": "2021-07-02T12:46:17.046Z"
   },
   {
    "duration": 21,
    "start_time": "2021-07-02T12:46:17.072Z"
   },
   {
    "duration": 12,
    "start_time": "2021-07-02T12:46:17.096Z"
   },
   {
    "duration": 74,
    "start_time": "2021-07-02T12:46:17.111Z"
   },
   {
    "duration": 12,
    "start_time": "2021-07-02T12:46:17.187Z"
   },
   {
    "duration": 24,
    "start_time": "2021-07-02T12:46:17.201Z"
   },
   {
    "duration": 372721,
    "start_time": "2021-07-02T12:46:17.228Z"
   },
   {
    "duration": 43,
    "start_time": "2021-07-02T12:52:29.951Z"
   },
   {
    "duration": 2647,
    "start_time": "2021-07-02T12:52:29.996Z"
   },
   {
    "duration": 3021,
    "start_time": "2021-07-02T12:52:32.646Z"
   },
   {
    "duration": 105,
    "start_time": "2021-07-02T12:52:35.671Z"
   },
   {
    "duration": 6,
    "start_time": "2021-07-02T12:52:35.782Z"
   },
   {
    "duration": 107,
    "start_time": "2021-07-02T12:52:35.791Z"
   },
   {
    "duration": 5,
    "start_time": "2021-07-02T12:52:35.901Z"
   },
   {
    "duration": 16,
    "start_time": "2021-07-02T12:52:35.910Z"
   },
   {
    "duration": 802,
    "start_time": "2021-07-02T12:52:35.929Z"
   },
   {
    "duration": 49,
    "start_time": "2021-07-02T12:52:36.735Z"
   },
   {
    "duration": 28,
    "start_time": "2021-07-02T12:52:36.787Z"
   },
   {
    "duration": 127,
    "start_time": "2021-07-02T12:52:36.818Z"
   },
   {
    "duration": 5,
    "start_time": "2021-07-02T12:52:36.947Z"
   },
   {
    "duration": 101,
    "start_time": "2021-07-02T12:52:36.954Z"
   },
   {
    "duration": 6,
    "start_time": "2021-07-02T12:52:37.075Z"
   },
   {
    "duration": 31,
    "start_time": "2021-07-02T12:52:37.085Z"
   },
   {
    "duration": 574,
    "start_time": "2021-07-02T12:52:37.119Z"
   },
   {
    "duration": 25,
    "start_time": "2021-07-02T12:52:37.696Z"
   },
   {
    "duration": 60,
    "start_time": "2021-07-02T12:52:37.724Z"
   },
   {
    "duration": 105,
    "start_time": "2021-07-02T12:52:37.786Z"
   },
   {
    "duration": 5,
    "start_time": "2021-07-02T12:52:37.893Z"
   },
   {
    "duration": 108,
    "start_time": "2021-07-02T12:52:37.901Z"
   },
   {
    "duration": 5,
    "start_time": "2021-07-02T12:52:38.011Z"
   },
   {
    "duration": 17,
    "start_time": "2021-07-02T12:52:38.018Z"
   },
   {
    "duration": 633,
    "start_time": "2021-07-02T12:52:38.038Z"
   },
   {
    "duration": 34,
    "start_time": "2021-07-02T12:52:38.675Z"
   },
   {
    "duration": 59,
    "start_time": "2021-07-02T12:52:38.712Z"
   },
   {
    "duration": 107,
    "start_time": "2021-07-02T12:52:38.773Z"
   },
   {
    "duration": 5,
    "start_time": "2021-07-02T12:52:38.883Z"
   },
   {
    "duration": 111,
    "start_time": "2021-07-02T12:52:38.891Z"
   },
   {
    "duration": 6,
    "start_time": "2021-07-02T12:52:39.006Z"
   },
   {
    "duration": 25,
    "start_time": "2021-07-02T12:52:39.015Z"
   },
   {
    "duration": 945,
    "start_time": "2021-07-02T12:52:39.043Z"
   },
   {
    "duration": 10,
    "start_time": "2021-07-02T12:52:39.991Z"
   },
   {
    "duration": 62,
    "start_time": "2021-07-02T12:52:40.005Z"
   },
   {
    "duration": 20,
    "start_time": "2021-07-02T12:52:40.070Z"
   },
   {
    "duration": 17,
    "start_time": "2021-07-02T12:52:40.093Z"
   },
   {
    "duration": 74,
    "start_time": "2021-07-02T12:52:40.112Z"
   },
   {
    "duration": 118,
    "start_time": "2021-07-02T12:52:40.189Z"
   },
   {
    "duration": 5,
    "start_time": "2021-07-02T12:52:40.309Z"
   },
   {
    "duration": 115,
    "start_time": "2021-07-02T12:52:40.316Z"
   },
   {
    "duration": 5,
    "start_time": "2021-07-02T12:52:40.433Z"
   },
   {
    "duration": 36,
    "start_time": "2021-07-02T12:52:40.441Z"
   },
   {
    "duration": 623,
    "start_time": "2021-07-02T12:52:40.481Z"
   },
   {
    "duration": 7,
    "start_time": "2021-07-02T12:52:41.107Z"
   },
   {
    "duration": 9271,
    "start_time": "2021-07-02T12:55:14.492Z"
   },
   {
    "duration": 1029,
    "start_time": "2021-07-02T12:56:07.701Z"
   },
   {
    "duration": 1835,
    "start_time": "2021-07-02T12:56:28.732Z"
   },
   {
    "duration": 13018,
    "start_time": "2021-07-02T12:56:58.141Z"
   },
   {
    "duration": 1541,
    "start_time": "2021-07-02T12:57:18.854Z"
   },
   {
    "duration": 1218,
    "start_time": "2021-07-02T13:00:32.754Z"
   },
   {
    "duration": 1203,
    "start_time": "2021-07-02T13:01:05.475Z"
   },
   {
    "duration": 1906,
    "start_time": "2021-07-02T13:01:21.698Z"
   },
   {
    "duration": 1920,
    "start_time": "2021-07-02T13:01:37.378Z"
   },
   {
    "duration": 2665,
    "start_time": "2021-07-02T13:02:16.211Z"
   },
   {
    "duration": 3137,
    "start_time": "2021-07-02T13:04:19.686Z"
   },
   {
    "duration": 1777,
    "start_time": "2021-07-02T13:04:37.143Z"
   },
   {
    "duration": 1246,
    "start_time": "2021-07-02T13:04:49.396Z"
   },
   {
    "duration": 1369,
    "start_time": "2021-07-02T13:06:01.682Z"
   },
   {
    "duration": 1886,
    "start_time": "2021-07-02T13:06:18.720Z"
   },
   {
    "duration": 1262,
    "start_time": "2021-07-02T13:08:17.267Z"
   },
   {
    "duration": 2137,
    "start_time": "2021-07-02T13:08:29.506Z"
   },
   {
    "duration": 1922,
    "start_time": "2021-07-02T13:09:37.819Z"
   },
   {
    "duration": 2068,
    "start_time": "2021-07-02T13:11:48.957Z"
   },
   {
    "duration": 2184,
    "start_time": "2021-07-02T13:12:09.029Z"
   },
   {
    "duration": 701,
    "start_time": "2021-07-02T13:12:34.927Z"
   },
   {
    "duration": 698,
    "start_time": "2021-07-02T13:12:52.663Z"
   },
   {
    "duration": 711,
    "start_time": "2021-07-02T13:13:55.777Z"
   },
   {
    "duration": 2273,
    "start_time": "2021-07-02T13:15:42.226Z"
   },
   {
    "duration": 2154,
    "start_time": "2021-07-02T13:16:02.675Z"
   },
   {
    "duration": 722,
    "start_time": "2021-07-02T13:18:58.805Z"
   },
   {
    "duration": 1035,
    "start_time": "2021-07-02T13:22:26.274Z"
   },
   {
    "duration": 2268,
    "start_time": "2021-07-02T13:22:34.337Z"
   },
   {
    "duration": 2322,
    "start_time": "2021-07-02T13:23:26.635Z"
   },
   {
    "duration": 2252,
    "start_time": "2021-07-02T13:25:49.012Z"
   },
   {
    "duration": 13,
    "start_time": "2021-07-02T13:31:39.786Z"
   },
   {
    "duration": 2197,
    "start_time": "2021-07-02T13:31:48.363Z"
   },
   {
    "duration": 2469,
    "start_time": "2021-07-02T13:32:51.478Z"
   },
   {
    "duration": 724,
    "start_time": "2021-07-02T13:33:12.372Z"
   },
   {
    "duration": 2955,
    "start_time": "2021-07-02T13:33:40.444Z"
   },
   {
    "duration": 2839,
    "start_time": "2021-07-02T13:35:56.039Z"
   },
   {
    "duration": 3009,
    "start_time": "2021-07-02T13:36:37.800Z"
   },
   {
    "duration": 8783,
    "start_time": "2021-07-02T14:14:55.165Z"
   },
   {
    "duration": 9866,
    "start_time": "2021-07-02T14:15:37.327Z"
   },
   {
    "duration": 3543,
    "start_time": "2021-07-02T14:16:27.181Z"
   },
   {
    "duration": 2977,
    "start_time": "2021-07-02T14:16:46.221Z"
   },
   {
    "duration": 2916,
    "start_time": "2021-07-02T14:17:29.855Z"
   },
   {
    "duration": 3141,
    "start_time": "2021-07-02T14:18:12.284Z"
   },
   {
    "duration": 2871,
    "start_time": "2021-07-02T14:18:19.430Z"
   },
   {
    "duration": 2781,
    "start_time": "2021-07-02T14:21:28.059Z"
   },
   {
    "duration": 4797,
    "start_time": "2021-07-02T14:32:30.148Z"
   },
   {
    "duration": 4514,
    "start_time": "2021-07-02T14:33:08.085Z"
   },
   {
    "duration": 5034,
    "start_time": "2021-07-02T14:33:33.438Z"
   },
   {
    "duration": 4987,
    "start_time": "2021-07-02T14:35:38.400Z"
   },
   {
    "duration": 5144,
    "start_time": "2021-07-02T14:36:09.743Z"
   },
   {
    "duration": 5206,
    "start_time": "2021-07-02T14:36:42.728Z"
   },
   {
    "duration": 1319,
    "start_time": "2021-07-02T14:36:53.760Z"
   },
   {
    "duration": 5111,
    "start_time": "2021-07-02T14:37:11.864Z"
   },
   {
    "duration": 5228,
    "start_time": "2021-07-02T16:20:09.911Z"
   },
   {
    "duration": 5200,
    "start_time": "2021-07-02T16:20:20.318Z"
   },
   {
    "duration": 5340,
    "start_time": "2021-07-02T16:20:49.767Z"
   },
   {
    "duration": 4941,
    "start_time": "2021-07-02T16:23:43.332Z"
   },
   {
    "duration": 5254,
    "start_time": "2021-07-02T16:24:54.875Z"
   },
   {
    "duration": 5345,
    "start_time": "2021-07-02T16:25:18.379Z"
   },
   {
    "duration": 5491,
    "start_time": "2021-07-02T16:25:56.587Z"
   },
   {
    "duration": 1051,
    "start_time": "2021-07-02T16:26:22.252Z"
   },
   {
    "duration": 5330,
    "start_time": "2021-07-02T16:26:45.213Z"
   },
   {
    "duration": 644,
    "start_time": "2021-07-02T16:31:26.040Z"
   },
   {
    "duration": 640,
    "start_time": "2021-07-02T16:31:43.353Z"
   },
   {
    "duration": 722,
    "start_time": "2021-07-02T16:32:49.735Z"
   },
   {
    "duration": 575,
    "start_time": "2021-07-02T16:33:00.962Z"
   },
   {
    "duration": 427,
    "start_time": "2021-07-02T16:33:13.570Z"
   },
   {
    "duration": 465,
    "start_time": "2021-07-02T16:34:06.291Z"
   },
   {
    "duration": 490,
    "start_time": "2021-07-02T16:34:18.627Z"
   },
   {
    "duration": 674,
    "start_time": "2021-07-02T16:34:55.379Z"
   },
   {
    "duration": 440,
    "start_time": "2021-07-02T16:35:14.291Z"
   },
   {
    "duration": 574,
    "start_time": "2021-07-02T16:41:22.842Z"
   },
   {
    "duration": 306,
    "start_time": "2021-07-02T16:42:41.133Z"
   },
   {
    "duration": 655,
    "start_time": "2021-07-02T16:42:49.163Z"
   },
   {
    "duration": 14,
    "start_time": "2021-07-02T16:44:35.765Z"
   },
   {
    "duration": 6,
    "start_time": "2021-07-02T16:45:25.148Z"
   },
   {
    "duration": 604,
    "start_time": "2021-07-02T16:46:40.263Z"
   },
   {
    "duration": 577,
    "start_time": "2021-07-02T16:47:48.080Z"
   },
   {
    "duration": 101,
    "start_time": "2021-07-02T16:49:36.027Z"
   },
   {
    "duration": 535,
    "start_time": "2021-07-02T16:50:21.060Z"
   },
   {
    "duration": 762,
    "start_time": "2021-07-02T16:51:26.269Z"
   },
   {
    "duration": 594,
    "start_time": "2021-07-02T16:54:15.887Z"
   },
   {
    "duration": 336,
    "start_time": "2021-07-02T16:55:37.713Z"
   },
   {
    "duration": 745,
    "start_time": "2021-07-02T16:56:06.097Z"
   },
   {
    "duration": 515,
    "start_time": "2021-07-02T17:03:03.072Z"
   },
   {
    "duration": 397,
    "start_time": "2021-07-02T17:03:31.849Z"
   },
   {
    "duration": 617,
    "start_time": "2021-07-02T17:04:50.737Z"
   },
   {
    "duration": 621,
    "start_time": "2021-07-02T17:05:27.935Z"
   },
   {
    "duration": 590,
    "start_time": "2021-07-02T17:14:19.754Z"
   },
   {
    "duration": 119,
    "start_time": "2021-07-02T17:16:59.045Z"
   },
   {
    "duration": 597,
    "start_time": "2021-07-02T17:17:14.886Z"
   },
   {
    "duration": 627,
    "start_time": "2021-07-02T17:18:03.006Z"
   },
   {
    "duration": 598,
    "start_time": "2021-07-02T17:22:00.314Z"
   },
   {
    "duration": 632,
    "start_time": "2021-07-02T17:22:58.235Z"
   },
   {
    "duration": 631,
    "start_time": "2021-07-02T17:23:13.836Z"
   },
   {
    "duration": 630,
    "start_time": "2021-07-02T17:23:32.421Z"
   },
   {
    "duration": 833,
    "start_time": "2021-07-02T17:24:16.469Z"
   },
   {
    "duration": 705,
    "start_time": "2021-07-02T17:26:41.648Z"
   },
   {
    "duration": 626,
    "start_time": "2021-07-02T17:27:18.359Z"
   },
   {
    "duration": 117,
    "start_time": "2021-07-02T17:28:05.025Z"
   },
   {
    "duration": 664,
    "start_time": "2021-07-02T17:28:16.903Z"
   },
   {
    "duration": 699,
    "start_time": "2021-07-02T17:28:39.593Z"
   },
   {
    "duration": 612,
    "start_time": "2021-07-02T17:30:10.002Z"
   },
   {
    "duration": 620,
    "start_time": "2021-07-02T17:31:24.419Z"
   },
   {
    "duration": 647,
    "start_time": "2021-07-02T17:32:51.173Z"
   },
   {
    "duration": 14,
    "start_time": "2021-07-02T18:37:24.236Z"
   },
   {
    "duration": 677,
    "start_time": "2021-07-02T18:38:33.779Z"
   },
   {
    "duration": 484,
    "start_time": "2021-07-02T18:39:12.234Z"
   },
   {
    "duration": 302,
    "start_time": "2021-07-02T18:41:41.726Z"
   },
   {
    "duration": 389,
    "start_time": "2021-07-02T18:45:40.026Z"
   },
   {
    "duration": 632,
    "start_time": "2021-07-02T18:49:08.663Z"
   },
   {
    "duration": 641,
    "start_time": "2021-07-02T18:49:40.152Z"
   },
   {
    "duration": 17,
    "start_time": "2021-07-02T18:52:33.862Z"
   },
   {
    "duration": 117,
    "start_time": "2021-07-02T18:54:55.636Z"
   },
   {
    "duration": 620,
    "start_time": "2021-07-02T18:55:22.125Z"
   },
   {
    "duration": 9,
    "start_time": "2021-07-02T18:57:41.917Z"
   },
   {
    "duration": 8,
    "start_time": "2021-07-02T18:58:41.813Z"
   },
   {
    "duration": 90,
    "start_time": "2021-07-02T18:59:04.982Z"
   },
   {
    "duration": 92,
    "start_time": "2021-07-02T18:59:32.856Z"
   },
   {
    "duration": 5,
    "start_time": "2021-07-02T18:59:45.809Z"
   },
   {
    "duration": 7,
    "start_time": "2021-07-02T18:59:47.222Z"
   },
   {
    "duration": 10,
    "start_time": "2021-07-02T18:59:50.439Z"
   },
   {
    "duration": 15,
    "start_time": "2021-07-02T19:00:00.239Z"
   },
   {
    "duration": 617,
    "start_time": "2021-07-02T19:00:03.531Z"
   },
   {
    "duration": 94,
    "start_time": "2021-07-02T19:01:29.257Z"
   },
   {
    "duration": 5,
    "start_time": "2021-07-02T19:01:34.152Z"
   },
   {
    "duration": 90,
    "start_time": "2021-07-02T19:01:36.145Z"
   },
   {
    "duration": 93,
    "start_time": "2021-07-02T19:01:41.921Z"
   },
   {
    "duration": 101,
    "start_time": "2021-07-02T19:01:47.849Z"
   },
   {
    "duration": 5,
    "start_time": "2021-07-02T19:01:50.593Z"
   },
   {
    "duration": 15,
    "start_time": "2021-07-02T19:01:54.288Z"
   },
   {
    "duration": 8187,
    "start_time": "2021-07-02T19:01:57.548Z"
   },
   {
    "duration": 625,
    "start_time": "2021-07-02T19:05:08.134Z"
   },
   {
    "duration": 92,
    "start_time": "2021-07-02T19:05:56.700Z"
   },
   {
    "duration": 6,
    "start_time": "2021-07-02T19:06:01.484Z"
   },
   {
    "duration": 98,
    "start_time": "2021-07-02T19:06:03.757Z"
   },
   {
    "duration": 6,
    "start_time": "2021-07-02T19:06:08.979Z"
   },
   {
    "duration": 16,
    "start_time": "2021-07-02T19:06:14.500Z"
   },
   {
    "duration": 641,
    "start_time": "2021-07-02T19:06:25.344Z"
   },
   {
    "duration": 23,
    "start_time": "2021-07-02T19:09:29.690Z"
   },
   {
    "duration": 93,
    "start_time": "2021-07-02T19:26:37.835Z"
   },
   {
    "duration": 109,
    "start_time": "2021-07-02T19:27:16.563Z"
   },
   {
    "duration": 5,
    "start_time": "2021-07-02T19:27:19.538Z"
   },
   {
    "duration": 91,
    "start_time": "2021-07-02T19:27:21.427Z"
   },
   {
    "duration": 98,
    "start_time": "2021-07-02T19:28:07.189Z"
   },
   {
    "duration": 5,
    "start_time": "2021-07-02T19:28:22.299Z"
   },
   {
    "duration": 92,
    "start_time": "2021-07-02T19:28:24.388Z"
   },
   {
    "duration": 93,
    "start_time": "2021-07-02T19:29:45.895Z"
   },
   {
    "duration": 14,
    "start_time": "2021-07-02T19:36:31.932Z"
   },
   {
    "duration": 13,
    "start_time": "2021-07-02T19:37:20.948Z"
   },
   {
    "duration": 14,
    "start_time": "2021-07-02T19:37:32.411Z"
   },
   {
    "duration": 624,
    "start_time": "2021-07-02T19:38:50.151Z"
   },
   {
    "duration": 11,
    "start_time": "2021-07-02T19:41:28.118Z"
   },
   {
    "duration": 10,
    "start_time": "2021-07-02T19:41:47.399Z"
   },
   {
    "duration": 7,
    "start_time": "2021-07-02T19:43:16.634Z"
   },
   {
    "duration": 11,
    "start_time": "2021-07-02T19:43:17.961Z"
   },
   {
    "duration": 15,
    "start_time": "2021-07-02T19:43:24.841Z"
   },
   {
    "duration": 610,
    "start_time": "2021-07-02T19:43:29.691Z"
   },
   {
    "duration": 8,
    "start_time": "2021-07-02T19:43:49.762Z"
   },
   {
    "duration": 13,
    "start_time": "2021-07-02T19:50:02.920Z"
   },
   {
    "duration": 7815,
    "start_time": "2021-07-02T19:50:05.607Z"
   },
   {
    "duration": 42,
    "start_time": "2021-07-02T19:50:30.570Z"
   },
   {
    "duration": 1613,
    "start_time": "2021-07-02T19:51:03.834Z"
   },
   {
    "duration": 631,
    "start_time": "2021-07-02T19:51:05.449Z"
   },
   {
    "duration": 4,
    "start_time": "2021-07-02T19:51:06.083Z"
   },
   {
    "duration": 64,
    "start_time": "2021-07-02T19:51:06.090Z"
   },
   {
    "duration": 111,
    "start_time": "2021-07-02T19:51:06.156Z"
   },
   {
    "duration": 126,
    "start_time": "2021-07-02T19:51:06.271Z"
   },
   {
    "duration": 3,
    "start_time": "2021-07-02T19:51:06.400Z"
   },
   {
    "duration": 9,
    "start_time": "2021-07-02T19:51:06.407Z"
   },
   {
    "duration": 54,
    "start_time": "2021-07-02T19:51:06.419Z"
   },
   {
    "duration": 514,
    "start_time": "2021-07-02T19:51:06.476Z"
   },
   {
    "duration": 24,
    "start_time": "2021-07-02T19:51:06.993Z"
   },
   {
    "duration": 14,
    "start_time": "2021-07-02T19:51:07.020Z"
   },
   {
    "duration": 46,
    "start_time": "2021-07-02T19:51:07.068Z"
   },
   {
    "duration": 20,
    "start_time": "2021-07-02T19:51:07.117Z"
   },
   {
    "duration": 16,
    "start_time": "2021-07-02T19:51:07.168Z"
   },
   {
    "duration": 34,
    "start_time": "2021-07-02T19:51:07.187Z"
   },
   {
    "duration": 16,
    "start_time": "2021-07-02T19:51:07.223Z"
   },
   {
    "duration": 37,
    "start_time": "2021-07-02T19:51:07.241Z"
   },
   {
    "duration": 26,
    "start_time": "2021-07-02T19:51:07.281Z"
   },
   {
    "duration": 8,
    "start_time": "2021-07-02T19:51:07.309Z"
   },
   {
    "duration": 50,
    "start_time": "2021-07-02T19:51:07.319Z"
   },
   {
    "duration": 18,
    "start_time": "2021-07-02T19:51:07.373Z"
   },
   {
    "duration": 17,
    "start_time": "2021-07-02T19:51:07.397Z"
   },
   {
    "duration": 9,
    "start_time": "2021-07-02T19:51:07.419Z"
   },
   {
    "duration": 68,
    "start_time": "2021-07-02T19:51:07.431Z"
   },
   {
    "duration": 13,
    "start_time": "2021-07-02T19:51:07.502Z"
   },
   {
    "duration": 14,
    "start_time": "2021-07-02T19:51:07.518Z"
   },
   {
    "duration": 32,
    "start_time": "2021-07-02T19:51:07.535Z"
   },
   {
    "duration": 7,
    "start_time": "2021-07-02T19:51:07.571Z"
   },
   {
    "duration": 7,
    "start_time": "2021-07-02T19:51:07.581Z"
   },
   {
    "duration": 18,
    "start_time": "2021-07-02T19:51:07.591Z"
   },
   {
    "duration": 11,
    "start_time": "2021-07-02T19:51:07.612Z"
   },
   {
    "duration": 59,
    "start_time": "2021-07-02T19:51:07.626Z"
   },
   {
    "duration": 29,
    "start_time": "2021-07-02T19:51:07.688Z"
   },
   {
    "duration": 15,
    "start_time": "2021-07-02T19:51:07.720Z"
   },
   {
    "duration": 65,
    "start_time": "2021-07-02T19:51:07.737Z"
   },
   {
    "duration": 26,
    "start_time": "2021-07-02T19:51:07.804Z"
   },
   {
    "duration": 41,
    "start_time": "2021-07-02T19:51:07.833Z"
   },
   {
    "duration": 28,
    "start_time": "2021-07-02T19:51:07.877Z"
   },
   {
    "duration": 14,
    "start_time": "2021-07-02T19:51:07.908Z"
   },
   {
    "duration": 4,
    "start_time": "2021-07-02T19:51:07.925Z"
   },
   {
    "duration": 38,
    "start_time": "2021-07-02T19:51:07.932Z"
   },
   {
    "duration": 19,
    "start_time": "2021-07-02T19:51:07.972Z"
   },
   {
    "duration": 16,
    "start_time": "2021-07-02T19:51:07.993Z"
   },
   {
    "duration": 15,
    "start_time": "2021-07-02T19:51:08.012Z"
   },
   {
    "duration": 429,
    "start_time": "2021-07-02T19:51:08.029Z"
   },
   {
    "duration": 21,
    "start_time": "2021-07-02T19:51:08.460Z"
   },
   {
    "duration": 19,
    "start_time": "2021-07-02T19:51:08.484Z"
   },
   {
    "duration": 12,
    "start_time": "2021-07-02T19:51:08.505Z"
   },
   {
    "duration": 69,
    "start_time": "2021-07-02T19:51:08.520Z"
   },
   {
    "duration": 10,
    "start_time": "2021-07-02T19:51:08.592Z"
   },
   {
    "duration": 27,
    "start_time": "2021-07-02T19:51:08.605Z"
   },
   {
    "duration": 3052,
    "start_time": "2021-07-02T19:51:08.635Z"
   },
   {
    "duration": 38,
    "start_time": "2021-07-02T19:51:11.690Z"
   },
   {
    "duration": 1121,
    "start_time": "2021-07-02T19:51:11.731Z"
   },
   {
    "duration": 725,
    "start_time": "2021-07-02T19:51:12.131Z"
   },
   {
    "duration": 659,
    "start_time": "2021-07-02T19:51:12.198Z"
   },
   {
    "duration": 652,
    "start_time": "2021-07-02T19:51:12.206Z"
   },
   {
    "duration": 651,
    "start_time": "2021-07-02T19:51:12.216Z"
   },
   {
    "duration": 642,
    "start_time": "2021-07-02T19:51:12.226Z"
   },
   {
    "duration": 639,
    "start_time": "2021-07-02T19:51:12.231Z"
   },
   {
    "duration": 627,
    "start_time": "2021-07-02T19:51:12.244Z"
   },
   {
    "duration": 622,
    "start_time": "2021-07-02T19:51:12.251Z"
   },
   {
    "duration": 613,
    "start_time": "2021-07-02T19:51:12.262Z"
   },
   {
    "duration": 609,
    "start_time": "2021-07-02T19:51:12.268Z"
   },
   {
    "duration": 600,
    "start_time": "2021-07-02T19:51:12.279Z"
   },
   {
    "duration": 594,
    "start_time": "2021-07-02T19:51:12.286Z"
   },
   {
    "duration": 585,
    "start_time": "2021-07-02T19:51:12.297Z"
   },
   {
    "duration": 580,
    "start_time": "2021-07-02T19:51:12.304Z"
   },
   {
    "duration": 571,
    "start_time": "2021-07-02T19:51:12.314Z"
   },
   {
    "duration": 566,
    "start_time": "2021-07-02T19:51:12.321Z"
   },
   {
    "duration": 557,
    "start_time": "2021-07-02T19:51:12.332Z"
   },
   {
    "duration": 552,
    "start_time": "2021-07-02T19:51:12.339Z"
   },
   {
    "duration": 514,
    "start_time": "2021-07-02T19:51:12.378Z"
   },
   {
    "duration": 509,
    "start_time": "2021-07-02T19:51:12.385Z"
   },
   {
    "duration": 501,
    "start_time": "2021-07-02T19:51:12.394Z"
   },
   {
    "duration": 496,
    "start_time": "2021-07-02T19:51:12.400Z"
   },
   {
    "duration": 487,
    "start_time": "2021-07-02T19:51:12.410Z"
   },
   {
    "duration": 483,
    "start_time": "2021-07-02T19:51:12.416Z"
   },
   {
    "duration": 478,
    "start_time": "2021-07-02T19:51:12.422Z"
   },
   {
    "duration": 470,
    "start_time": "2021-07-02T19:51:12.432Z"
   },
   {
    "duration": 448,
    "start_time": "2021-07-02T19:51:12.455Z"
   },
   {
    "duration": 439,
    "start_time": "2021-07-02T19:51:12.466Z"
   },
   {
    "duration": 496,
    "start_time": "2021-07-02T19:51:12.471Z"
   },
   {
    "duration": 488,
    "start_time": "2021-07-02T19:51:12.481Z"
   },
   {
    "duration": 483,
    "start_time": "2021-07-02T19:51:12.488Z"
   },
   {
    "duration": 476,
    "start_time": "2021-07-02T19:51:12.497Z"
   },
   {
    "duration": 470,
    "start_time": "2021-07-02T19:51:12.505Z"
   },
   {
    "duration": 462,
    "start_time": "2021-07-02T19:51:12.515Z"
   },
   {
    "duration": 459,
    "start_time": "2021-07-02T19:51:12.520Z"
   },
   {
    "duration": 450,
    "start_time": "2021-07-02T19:51:12.531Z"
   },
   {
    "duration": 445,
    "start_time": "2021-07-02T19:51:12.538Z"
   },
   {
    "duration": 437,
    "start_time": "2021-07-02T19:51:12.548Z"
   },
   {
    "duration": 431,
    "start_time": "2021-07-02T19:51:12.555Z"
   },
   {
    "duration": 422,
    "start_time": "2021-07-02T19:51:12.566Z"
   },
   {
    "duration": 412,
    "start_time": "2021-07-02T19:51:12.577Z"
   },
   {
    "duration": 408,
    "start_time": "2021-07-02T19:51:12.582Z"
   },
   {
    "duration": 399,
    "start_time": "2021-07-02T19:51:12.593Z"
   },
   {
    "duration": 393,
    "start_time": "2021-07-02T19:51:12.600Z"
   },
   {
    "duration": 390,
    "start_time": "2021-07-02T19:51:12.605Z"
   },
   {
    "duration": 435,
    "start_time": "2021-07-02T19:52:20.764Z"
   },
   {
    "duration": 1608,
    "start_time": "2021-07-02T19:52:41.448Z"
   },
   {
    "duration": 690,
    "start_time": "2021-07-02T19:52:43.059Z"
   },
   {
    "duration": 4,
    "start_time": "2021-07-02T19:52:43.752Z"
   },
   {
    "duration": 71,
    "start_time": "2021-07-02T19:52:43.759Z"
   },
   {
    "duration": 81,
    "start_time": "2021-07-02T19:52:43.832Z"
   },
   {
    "duration": 160,
    "start_time": "2021-07-02T19:52:43.916Z"
   },
   {
    "duration": 5,
    "start_time": "2021-07-02T19:52:44.079Z"
   },
   {
    "duration": 7,
    "start_time": "2021-07-02T19:52:44.088Z"
   },
   {
    "duration": 23,
    "start_time": "2021-07-02T19:52:44.098Z"
   },
   {
    "duration": 546,
    "start_time": "2021-07-02T19:52:44.123Z"
   },
   {
    "duration": 24,
    "start_time": "2021-07-02T19:52:44.671Z"
   },
   {
    "duration": 12,
    "start_time": "2021-07-02T19:52:44.697Z"
   },
   {
    "duration": 76,
    "start_time": "2021-07-02T19:52:44.712Z"
   },
   {
    "duration": 19,
    "start_time": "2021-07-02T19:52:44.791Z"
   },
   {
    "duration": 11,
    "start_time": "2021-07-02T19:52:44.812Z"
   },
   {
    "duration": 65,
    "start_time": "2021-07-02T19:52:44.825Z"
   },
   {
    "duration": 16,
    "start_time": "2021-07-02T19:52:44.893Z"
   },
   {
    "duration": 10,
    "start_time": "2021-07-02T19:52:44.911Z"
   },
   {
    "duration": 55,
    "start_time": "2021-07-02T19:52:44.924Z"
   },
   {
    "duration": 8,
    "start_time": "2021-07-02T19:52:44.982Z"
   },
   {
    "duration": 17,
    "start_time": "2021-07-02T19:52:44.992Z"
   },
   {
    "duration": 16,
    "start_time": "2021-07-02T19:52:45.012Z"
   },
   {
    "duration": 47,
    "start_time": "2021-07-02T19:52:45.035Z"
   },
   {
    "duration": 11,
    "start_time": "2021-07-02T19:52:45.086Z"
   },
   {
    "duration": 36,
    "start_time": "2021-07-02T19:52:45.100Z"
   },
   {
    "duration": 37,
    "start_time": "2021-07-02T19:52:45.139Z"
   },
   {
    "duration": 18,
    "start_time": "2021-07-02T19:52:45.179Z"
   },
   {
    "duration": 6,
    "start_time": "2021-07-02T19:52:45.199Z"
   },
   {
    "duration": 7,
    "start_time": "2021-07-02T19:52:45.208Z"
   },
   {
    "duration": 14,
    "start_time": "2021-07-02T19:52:45.217Z"
   },
   {
    "duration": 16,
    "start_time": "2021-07-02T19:52:45.268Z"
   },
   {
    "duration": 10,
    "start_time": "2021-07-02T19:52:45.286Z"
   },
   {
    "duration": 21,
    "start_time": "2021-07-02T19:52:45.299Z"
   },
   {
    "duration": 70,
    "start_time": "2021-07-02T19:52:45.322Z"
   },
   {
    "duration": 19,
    "start_time": "2021-07-02T19:52:45.394Z"
   },
   {
    "duration": 60,
    "start_time": "2021-07-02T19:52:45.415Z"
   },
   {
    "duration": 27,
    "start_time": "2021-07-02T19:52:45.478Z"
   },
   {
    "duration": 20,
    "start_time": "2021-07-02T19:52:45.507Z"
   },
   {
    "duration": 63,
    "start_time": "2021-07-02T19:52:45.529Z"
   },
   {
    "duration": 16,
    "start_time": "2021-07-02T19:52:45.594Z"
   },
   {
    "duration": 4,
    "start_time": "2021-07-02T19:52:45.612Z"
   },
   {
    "duration": 8,
    "start_time": "2021-07-02T19:52:45.618Z"
   },
   {
    "duration": 38,
    "start_time": "2021-07-02T19:52:45.629Z"
   },
   {
    "duration": 25,
    "start_time": "2021-07-02T19:52:45.670Z"
   },
   {
    "duration": 9,
    "start_time": "2021-07-02T19:52:45.697Z"
   },
   {
    "duration": 433,
    "start_time": "2021-07-02T19:52:45.708Z"
   },
   {
    "duration": 23,
    "start_time": "2021-07-02T19:52:46.144Z"
   },
   {
    "duration": 21,
    "start_time": "2021-07-02T19:52:46.170Z"
   },
   {
    "duration": 12,
    "start_time": "2021-07-02T19:52:46.193Z"
   },
   {
    "duration": 67,
    "start_time": "2021-07-02T19:52:46.207Z"
   },
   {
    "duration": 15,
    "start_time": "2021-07-02T19:52:46.277Z"
   },
   {
    "duration": 26,
    "start_time": "2021-07-02T19:52:46.295Z"
   },
   {
    "duration": 2962,
    "start_time": "2021-07-02T19:52:46.324Z"
   },
   {
    "duration": 38,
    "start_time": "2021-07-02T19:52:49.289Z"
   },
   {
    "duration": 513,
    "start_time": "2021-07-02T19:52:49.329Z"
   },
   {
    "duration": 2863,
    "start_time": "2021-07-02T19:52:49.845Z"
   },
   {
    "duration": 2905,
    "start_time": "2021-07-02T19:52:52.710Z"
   },
   {
    "duration": 5188,
    "start_time": "2021-07-02T19:52:55.617Z"
   },
   {
    "duration": 112,
    "start_time": "2021-07-02T19:53:00.807Z"
   },
   {
    "duration": 5,
    "start_time": "2021-07-02T19:53:00.921Z"
   },
   {
    "duration": 105,
    "start_time": "2021-07-02T19:53:00.928Z"
   },
   {
    "duration": 5,
    "start_time": "2021-07-02T19:53:01.036Z"
   },
   {
    "duration": 34,
    "start_time": "2021-07-02T19:53:01.043Z"
   },
   {
    "duration": 659,
    "start_time": "2021-07-02T19:53:01.080Z"
   },
   {
    "duration": 38,
    "start_time": "2021-07-02T19:53:01.742Z"
   },
   {
    "duration": 22,
    "start_time": "2021-07-02T19:53:01.783Z"
   },
   {
    "duration": 117,
    "start_time": "2021-07-02T19:53:01.807Z"
   },
   {
    "duration": 5,
    "start_time": "2021-07-02T19:53:01.934Z"
   },
   {
    "duration": 108,
    "start_time": "2021-07-02T19:53:01.942Z"
   },
   {
    "duration": 14,
    "start_time": "2021-07-02T19:53:02.053Z"
   },
   {
    "duration": 18,
    "start_time": "2021-07-02T19:53:02.071Z"
   },
   {
    "duration": 643,
    "start_time": "2021-07-02T19:53:02.092Z"
   },
   {
    "duration": 36,
    "start_time": "2021-07-02T19:53:02.737Z"
   },
   {
    "duration": 31,
    "start_time": "2021-07-02T19:53:02.776Z"
   },
   {
    "duration": 107,
    "start_time": "2021-07-02T19:53:02.810Z"
   },
   {
    "duration": 5,
    "start_time": "2021-07-02T19:53:02.919Z"
   },
   {
    "duration": 117,
    "start_time": "2021-07-02T19:53:02.926Z"
   },
   {
    "duration": 5,
    "start_time": "2021-07-02T19:53:03.045Z"
   },
   {
    "duration": 44,
    "start_time": "2021-07-02T19:53:03.052Z"
   },
   {
    "duration": 649,
    "start_time": "2021-07-02T19:53:03.098Z"
   },
   {
    "duration": 42,
    "start_time": "2021-07-02T19:53:03.749Z"
   },
   {
    "duration": 22,
    "start_time": "2021-07-02T19:53:03.793Z"
   },
   {
    "duration": 221,
    "start_time": "2021-07-02T19:53:03.817Z"
   },
   {
    "duration": 5,
    "start_time": "2021-07-02T19:53:04.040Z"
   },
   {
    "duration": 105,
    "start_time": "2021-07-02T19:53:04.047Z"
   },
   {
    "duration": 13,
    "start_time": "2021-07-02T19:53:04.154Z"
   },
   {
    "duration": 47,
    "start_time": "2021-07-02T19:53:04.169Z"
   },
   {
    "duration": 638,
    "start_time": "2021-07-02T19:53:04.219Z"
   },
   {
    "duration": 13,
    "start_time": "2021-07-02T19:53:04.860Z"
   },
   {
    "duration": 20,
    "start_time": "2021-07-02T19:53:04.876Z"
   },
   {
    "duration": 47,
    "start_time": "2021-07-02T19:53:04.898Z"
   },
   {
    "duration": 20,
    "start_time": "2021-07-02T19:53:04.967Z"
   },
   {
    "duration": 39,
    "start_time": "2021-07-02T19:53:04.989Z"
   },
   {
    "duration": 114,
    "start_time": "2021-07-02T19:53:05.031Z"
   },
   {
    "duration": 6,
    "start_time": "2021-07-02T19:53:05.148Z"
   },
   {
    "duration": 109,
    "start_time": "2021-07-02T19:53:05.168Z"
   },
   {
    "duration": 5,
    "start_time": "2021-07-02T19:53:05.279Z"
   },
   {
    "duration": 18,
    "start_time": "2021-07-02T19:53:05.287Z"
   },
   {
    "duration": 601,
    "start_time": "2021-07-02T19:53:05.307Z"
   },
   {
    "duration": 7,
    "start_time": "2021-07-02T19:53:05.911Z"
   },
   {
    "duration": 465,
    "start_time": "2021-07-02T19:59:11.168Z"
   },
   {
    "duration": 93,
    "start_time": "2021-07-02T20:01:28.276Z"
   },
   {
    "duration": 100,
    "start_time": "2021-07-02T20:01:41.389Z"
   },
   {
    "duration": 101,
    "start_time": "2021-07-02T20:05:09.472Z"
   },
   {
    "duration": 121,
    "start_time": "2021-07-02T20:05:19.344Z"
   },
   {
    "duration": 621,
    "start_time": "2021-07-02T20:05:47.777Z"
   },
   {
    "duration": 1574,
    "start_time": "2021-07-02T20:47:58.777Z"
   },
   {
    "duration": 638,
    "start_time": "2021-07-02T20:48:00.353Z"
   },
   {
    "duration": 4,
    "start_time": "2021-07-02T20:48:00.994Z"
   },
   {
    "duration": 77,
    "start_time": "2021-07-02T20:48:01.000Z"
   },
   {
    "duration": 91,
    "start_time": "2021-07-02T20:48:01.080Z"
   },
   {
    "duration": 134,
    "start_time": "2021-07-02T20:48:01.174Z"
   },
   {
    "duration": 3,
    "start_time": "2021-07-02T20:48:01.311Z"
   },
   {
    "duration": 24,
    "start_time": "2021-07-02T20:48:01.318Z"
   },
   {
    "duration": 41,
    "start_time": "2021-07-02T20:48:01.345Z"
   },
   {
    "duration": 606,
    "start_time": "2021-07-02T20:48:01.389Z"
   },
   {
    "duration": 20,
    "start_time": "2021-07-02T20:48:01.998Z"
   },
   {
    "duration": 14,
    "start_time": "2021-07-02T20:48:02.020Z"
   },
   {
    "duration": 70,
    "start_time": "2021-07-02T20:48:02.036Z"
   },
   {
    "duration": 19,
    "start_time": "2021-07-02T20:48:02.108Z"
   },
   {
    "duration": 39,
    "start_time": "2021-07-02T20:48:02.130Z"
   },
   {
    "duration": 34,
    "start_time": "2021-07-02T20:48:02.172Z"
   },
   {
    "duration": 15,
    "start_time": "2021-07-02T20:48:02.209Z"
   },
   {
    "duration": 42,
    "start_time": "2021-07-02T20:48:02.226Z"
   },
   {
    "duration": 28,
    "start_time": "2021-07-02T20:48:02.270Z"
   },
   {
    "duration": 9,
    "start_time": "2021-07-02T20:48:02.300Z"
   },
   {
    "duration": 17,
    "start_time": "2021-07-02T20:48:02.311Z"
   },
   {
    "duration": 40,
    "start_time": "2021-07-02T20:48:02.331Z"
   },
   {
    "duration": 16,
    "start_time": "2021-07-02T20:48:02.378Z"
   },
   {
    "duration": 10,
    "start_time": "2021-07-02T20:48:02.398Z"
   },
   {
    "duration": 75,
    "start_time": "2021-07-02T20:48:02.411Z"
   },
   {
    "duration": 15,
    "start_time": "2021-07-02T20:48:02.488Z"
   },
   {
    "duration": 16,
    "start_time": "2021-07-02T20:48:02.506Z"
   },
   {
    "duration": 5,
    "start_time": "2021-07-02T20:48:02.525Z"
   },
   {
    "duration": 7,
    "start_time": "2021-07-02T20:48:02.568Z"
   },
   {
    "duration": 11,
    "start_time": "2021-07-02T20:48:02.577Z"
   },
   {
    "duration": 15,
    "start_time": "2021-07-02T20:48:02.591Z"
   },
   {
    "duration": 10,
    "start_time": "2021-07-02T20:48:02.608Z"
   },
   {
    "duration": 55,
    "start_time": "2021-07-02T20:48:02.620Z"
   },
   {
    "duration": 27,
    "start_time": "2021-07-02T20:48:02.678Z"
   },
   {
    "duration": 18,
    "start_time": "2021-07-02T20:48:02.707Z"
   },
   {
    "duration": 67,
    "start_time": "2021-07-02T20:48:02.728Z"
   },
   {
    "duration": 27,
    "start_time": "2021-07-02T20:48:02.799Z"
   },
   {
    "duration": 50,
    "start_time": "2021-07-02T20:48:02.828Z"
   },
   {
    "duration": 28,
    "start_time": "2021-07-02T20:48:02.881Z"
   },
   {
    "duration": 16,
    "start_time": "2021-07-02T20:48:02.911Z"
   },
   {
    "duration": 4,
    "start_time": "2021-07-02T20:48:02.929Z"
   },
   {
    "duration": 36,
    "start_time": "2021-07-02T20:48:02.935Z"
   },
   {
    "duration": 17,
    "start_time": "2021-07-02T20:48:02.974Z"
   },
   {
    "duration": 17,
    "start_time": "2021-07-02T20:48:02.994Z"
   },
   {
    "duration": 15,
    "start_time": "2021-07-02T20:48:03.013Z"
   },
   {
    "duration": 10,
    "start_time": "2021-07-02T20:48:03.031Z"
   },
   {
    "duration": 428,
    "start_time": "2021-07-02T20:48:03.044Z"
   },
   {
    "duration": 7,
    "start_time": "2021-07-02T20:48:03.474Z"
   },
   {
    "duration": 9,
    "start_time": "2021-07-02T20:48:03.483Z"
   },
   {
    "duration": 9,
    "start_time": "2021-07-02T20:48:03.494Z"
   },
   {
    "duration": 17,
    "start_time": "2021-07-02T20:48:03.505Z"
   },
   {
    "duration": 48,
    "start_time": "2021-07-02T20:48:03.525Z"
   },
   {
    "duration": 14,
    "start_time": "2021-07-02T20:48:03.577Z"
   },
   {
    "duration": 37,
    "start_time": "2021-07-02T20:48:03.593Z"
   },
   {
    "duration": 40,
    "start_time": "2021-07-02T20:48:03.632Z"
   },
   {
    "duration": 26,
    "start_time": "2021-07-02T20:48:03.676Z"
   },
   {
    "duration": 2937,
    "start_time": "2021-07-02T20:48:03.705Z"
   },
   {
    "duration": 53,
    "start_time": "2021-07-02T20:48:06.644Z"
   },
   {
    "duration": 430,
    "start_time": "2021-07-02T20:48:06.700Z"
   },
   {
    "duration": 2900,
    "start_time": "2021-07-02T20:48:07.133Z"
   },
   {
    "duration": 2842,
    "start_time": "2021-07-02T20:48:10.036Z"
   },
   {
    "duration": 5190,
    "start_time": "2021-07-02T20:48:12.882Z"
   },
   {
    "duration": 111,
    "start_time": "2021-07-02T20:48:18.076Z"
   },
   {
    "duration": 5,
    "start_time": "2021-07-02T20:48:18.189Z"
   },
   {
    "duration": 107,
    "start_time": "2021-07-02T20:48:18.196Z"
   },
   {
    "duration": 5,
    "start_time": "2021-07-02T20:48:18.306Z"
   },
   {
    "duration": 17,
    "start_time": "2021-07-02T20:48:18.313Z"
   },
   {
    "duration": 704,
    "start_time": "2021-07-02T20:48:18.339Z"
   },
   {
    "duration": 41,
    "start_time": "2021-07-02T20:48:19.047Z"
   },
   {
    "duration": 21,
    "start_time": "2021-07-02T20:48:19.090Z"
   },
   {
    "duration": 123,
    "start_time": "2021-07-02T20:48:19.113Z"
   },
   {
    "duration": 6,
    "start_time": "2021-07-02T20:48:19.239Z"
   },
   {
    "duration": 111,
    "start_time": "2021-07-02T20:48:19.248Z"
   },
   {
    "duration": 5,
    "start_time": "2021-07-02T20:48:19.368Z"
   },
   {
    "duration": 23,
    "start_time": "2021-07-02T20:48:19.376Z"
   },
   {
    "duration": 645,
    "start_time": "2021-07-02T20:48:19.401Z"
   },
   {
    "duration": 34,
    "start_time": "2021-07-02T20:48:20.048Z"
   },
   {
    "duration": 22,
    "start_time": "2021-07-02T20:48:20.085Z"
   },
   {
    "duration": 117,
    "start_time": "2021-07-02T20:48:20.109Z"
   },
   {
    "duration": 4,
    "start_time": "2021-07-02T20:48:20.228Z"
   },
   {
    "duration": 106,
    "start_time": "2021-07-02T20:48:20.234Z"
   },
   {
    "duration": 5,
    "start_time": "2021-07-02T20:48:20.343Z"
   },
   {
    "duration": 34,
    "start_time": "2021-07-02T20:48:20.350Z"
   },
   {
    "duration": 650,
    "start_time": "2021-07-02T20:48:20.386Z"
   },
   {
    "duration": 36,
    "start_time": "2021-07-02T20:48:21.038Z"
   },
   {
    "duration": 24,
    "start_time": "2021-07-02T20:48:21.078Z"
   },
   {
    "duration": 219,
    "start_time": "2021-07-02T20:48:21.104Z"
   },
   {
    "duration": 5,
    "start_time": "2021-07-02T20:48:21.326Z"
   },
   {
    "duration": 117,
    "start_time": "2021-07-02T20:48:21.334Z"
   },
   {
    "duration": 15,
    "start_time": "2021-07-02T20:48:21.454Z"
   },
   {
    "duration": 17,
    "start_time": "2021-07-02T20:48:21.471Z"
   },
   {
    "duration": 690,
    "start_time": "2021-07-02T20:48:21.490Z"
   },
   {
    "duration": 8,
    "start_time": "2021-07-02T20:48:22.182Z"
   },
   {
    "duration": 18,
    "start_time": "2021-07-02T20:48:22.192Z"
   },
   {
    "duration": 26,
    "start_time": "2021-07-02T20:48:22.213Z"
   },
   {
    "duration": 60,
    "start_time": "2021-07-02T20:48:22.241Z"
   },
   {
    "duration": 483,
    "start_time": "2021-07-02T20:48:22.304Z"
   },
   {
    "duration": 110,
    "start_time": "2021-07-02T20:48:22.790Z"
   },
   {
    "duration": 6,
    "start_time": "2021-07-02T20:48:22.903Z"
   },
   {
    "duration": 113,
    "start_time": "2021-07-02T20:48:22.912Z"
   },
   {
    "duration": 5,
    "start_time": "2021-07-02T20:48:23.027Z"
   },
   {
    "duration": 37,
    "start_time": "2021-07-02T20:48:23.035Z"
   },
   {
    "duration": 701,
    "start_time": "2021-07-02T20:48:23.075Z"
   },
   {
    "duration": 10,
    "start_time": "2021-07-02T20:48:23.780Z"
   },
   {
    "duration": 8,
    "start_time": "2021-07-02T20:50:09.221Z"
   },
   {
    "duration": 39,
    "start_time": "2021-07-02T20:50:14.020Z"
   },
   {
    "duration": 36,
    "start_time": "2021-07-02T20:50:54.678Z"
   },
   {
    "duration": 9,
    "start_time": "2021-07-02T20:51:29.440Z"
   },
   {
    "duration": 9,
    "start_time": "2021-07-02T20:51:44.462Z"
   },
   {
    "duration": 8,
    "start_time": "2021-07-02T20:52:20.543Z"
   },
   {
    "duration": 8,
    "start_time": "2021-07-02T20:52:23.023Z"
   },
   {
    "duration": 112,
    "start_time": "2021-07-02T20:54:47.770Z"
   },
   {
    "duration": 7,
    "start_time": "2021-07-02T20:55:09.554Z"
   },
   {
    "duration": 6,
    "start_time": "2021-07-02T20:55:27.251Z"
   },
   {
    "duration": 7,
    "start_time": "2021-07-02T20:56:08.379Z"
   },
   {
    "duration": 430,
    "start_time": "2021-07-02T20:56:57.004Z"
   },
   {
    "duration": 8,
    "start_time": "2021-07-02T20:57:04.380Z"
   },
   {
    "duration": 1563,
    "start_time": "2021-07-02T21:02:51.917Z"
   },
   {
    "duration": 597,
    "start_time": "2021-07-02T21:02:53.483Z"
   },
   {
    "duration": 4,
    "start_time": "2021-07-02T21:02:54.084Z"
   },
   {
    "duration": 61,
    "start_time": "2021-07-02T21:02:54.090Z"
   },
   {
    "duration": 122,
    "start_time": "2021-07-02T21:02:54.153Z"
   },
   {
    "duration": 131,
    "start_time": "2021-07-02T21:02:54.278Z"
   },
   {
    "duration": 3,
    "start_time": "2021-07-02T21:02:54.412Z"
   },
   {
    "duration": 8,
    "start_time": "2021-07-02T21:02:54.419Z"
   },
   {
    "duration": 57,
    "start_time": "2021-07-02T21:02:54.430Z"
   },
   {
    "duration": 532,
    "start_time": "2021-07-02T21:02:54.490Z"
   },
   {
    "duration": 24,
    "start_time": "2021-07-02T21:02:55.025Z"
   },
   {
    "duration": 28,
    "start_time": "2021-07-02T21:02:55.051Z"
   },
   {
    "duration": 44,
    "start_time": "2021-07-02T21:02:55.083Z"
   },
   {
    "duration": 44,
    "start_time": "2021-07-02T21:02:55.130Z"
   },
   {
    "duration": 13,
    "start_time": "2021-07-02T21:02:55.177Z"
   },
   {
    "duration": 31,
    "start_time": "2021-07-02T21:02:55.193Z"
   },
   {
    "duration": 49,
    "start_time": "2021-07-02T21:02:55.227Z"
   },
   {
    "duration": 11,
    "start_time": "2021-07-02T21:02:55.280Z"
   },
   {
    "duration": 31,
    "start_time": "2021-07-02T21:02:55.294Z"
   },
   {
    "duration": 40,
    "start_time": "2021-07-02T21:02:55.328Z"
   },
   {
    "duration": 16,
    "start_time": "2021-07-02T21:02:55.371Z"
   },
   {
    "duration": 14,
    "start_time": "2021-07-02T21:02:55.390Z"
   },
   {
    "duration": 14,
    "start_time": "2021-07-02T21:02:55.410Z"
   },
   {
    "duration": 43,
    "start_time": "2021-07-02T21:02:55.428Z"
   },
   {
    "duration": 39,
    "start_time": "2021-07-02T21:02:55.473Z"
   },
   {
    "duration": 13,
    "start_time": "2021-07-02T21:02:55.515Z"
   },
   {
    "duration": 46,
    "start_time": "2021-07-02T21:02:55.531Z"
   },
   {
    "duration": 7,
    "start_time": "2021-07-02T21:02:55.580Z"
   },
   {
    "duration": 6,
    "start_time": "2021-07-02T21:02:55.591Z"
   },
   {
    "duration": 6,
    "start_time": "2021-07-02T21:02:55.601Z"
   },
   {
    "duration": 58,
    "start_time": "2021-07-02T21:02:55.611Z"
   },
   {
    "duration": 8,
    "start_time": "2021-07-02T21:02:55.673Z"
   },
   {
    "duration": 21,
    "start_time": "2021-07-02T21:02:55.683Z"
   },
   {
    "duration": 64,
    "start_time": "2021-07-02T21:02:55.706Z"
   },
   {
    "duration": 18,
    "start_time": "2021-07-02T21:02:55.773Z"
   },
   {
    "duration": 32,
    "start_time": "2021-07-02T21:02:55.793Z"
   },
   {
    "duration": 58,
    "start_time": "2021-07-02T21:02:55.827Z"
   },
   {
    "duration": 21,
    "start_time": "2021-07-02T21:02:55.887Z"
   },
   {
    "duration": 27,
    "start_time": "2021-07-02T21:02:55.911Z"
   },
   {
    "duration": 44,
    "start_time": "2021-07-02T21:02:55.940Z"
   },
   {
    "duration": 5,
    "start_time": "2021-07-02T21:02:55.987Z"
   },
   {
    "duration": 13,
    "start_time": "2021-07-02T21:02:55.994Z"
   },
   {
    "duration": 25,
    "start_time": "2021-07-02T21:02:56.010Z"
   },
   {
    "duration": 31,
    "start_time": "2021-07-02T21:02:56.038Z"
   },
   {
    "duration": 12,
    "start_time": "2021-07-02T21:02:56.072Z"
   },
   {
    "duration": 10,
    "start_time": "2021-07-02T21:02:56.087Z"
   },
   {
    "duration": 416,
    "start_time": "2021-07-02T21:02:56.099Z"
   },
   {
    "duration": 5,
    "start_time": "2021-07-02T21:02:56.517Z"
   },
   {
    "duration": 8,
    "start_time": "2021-07-02T21:02:56.525Z"
   },
   {
    "duration": 7,
    "start_time": "2021-07-02T21:02:56.536Z"
   },
   {
    "duration": 28,
    "start_time": "2021-07-02T21:02:56.546Z"
   },
   {
    "duration": 12,
    "start_time": "2021-07-02T21:02:56.577Z"
   },
   {
    "duration": 11,
    "start_time": "2021-07-02T21:02:56.591Z"
   },
   {
    "duration": 14,
    "start_time": "2021-07-02T21:02:56.605Z"
   },
   {
    "duration": 57,
    "start_time": "2021-07-02T21:02:56.622Z"
   },
   {
    "duration": 13,
    "start_time": "2021-07-02T21:02:56.682Z"
   },
   {
    "duration": 38,
    "start_time": "2021-07-02T21:02:56.697Z"
   },
   {
    "duration": 36,
    "start_time": "2021-07-02T21:02:56.737Z"
   },
   {
    "duration": 27,
    "start_time": "2021-07-02T21:02:56.776Z"
   },
   {
    "duration": 3096,
    "start_time": "2021-07-02T21:02:56.805Z"
   },
   {
    "duration": 38,
    "start_time": "2021-07-02T21:02:59.903Z"
   },
   {
    "duration": 494,
    "start_time": "2021-07-02T21:02:59.944Z"
   },
   {
    "duration": 2973,
    "start_time": "2021-07-02T21:03:00.441Z"
   },
   {
    "duration": 2877,
    "start_time": "2021-07-02T21:03:03.416Z"
   },
   {
    "duration": 5435,
    "start_time": "2021-07-02T21:03:06.296Z"
   },
   {
    "duration": 106,
    "start_time": "2021-07-02T21:03:11.734Z"
   },
   {
    "duration": 6,
    "start_time": "2021-07-02T21:03:11.843Z"
   },
   {
    "duration": 102,
    "start_time": "2021-07-02T21:03:11.876Z"
   },
   {
    "duration": 7,
    "start_time": "2021-07-02T21:03:11.982Z"
   },
   {
    "duration": 19,
    "start_time": "2021-07-02T21:03:11.992Z"
   },
   {
    "duration": 714,
    "start_time": "2021-07-02T21:03:12.014Z"
   },
   {
    "duration": 24,
    "start_time": "2021-07-02T21:03:12.730Z"
   },
   {
    "duration": 35,
    "start_time": "2021-07-02T21:03:12.756Z"
   },
   {
    "duration": 96,
    "start_time": "2021-07-02T21:03:12.794Z"
   },
   {
    "duration": 5,
    "start_time": "2021-07-02T21:03:12.892Z"
   },
   {
    "duration": 109,
    "start_time": "2021-07-02T21:03:12.900Z"
   },
   {
    "duration": 5,
    "start_time": "2021-07-02T21:03:13.012Z"
   },
   {
    "duration": 22,
    "start_time": "2021-07-02T21:03:13.020Z"
   },
   {
    "duration": 639,
    "start_time": "2021-07-02T21:03:13.044Z"
   },
   {
    "duration": 86,
    "start_time": "2021-07-02T21:03:13.686Z"
   },
   {
    "duration": 26,
    "start_time": "2021-07-02T21:03:13.775Z"
   },
   {
    "duration": 293,
    "start_time": "2021-07-02T21:03:13.803Z"
   },
   {
    "duration": 5,
    "start_time": "2021-07-02T21:03:14.098Z"
   },
   {
    "duration": 123,
    "start_time": "2021-07-02T21:03:14.105Z"
   },
   {
    "duration": 5,
    "start_time": "2021-07-02T21:03:14.231Z"
   },
   {
    "duration": 20,
    "start_time": "2021-07-02T21:03:14.238Z"
   },
   {
    "duration": 1085,
    "start_time": "2021-07-02T21:03:14.261Z"
   },
   {
    "duration": 38,
    "start_time": "2021-07-02T21:03:15.349Z"
   },
   {
    "duration": 32,
    "start_time": "2021-07-02T21:03:15.390Z"
   },
   {
    "duration": 244,
    "start_time": "2021-07-02T21:03:15.425Z"
   },
   {
    "duration": 6,
    "start_time": "2021-07-02T21:03:15.673Z"
   },
   {
    "duration": 113,
    "start_time": "2021-07-02T21:03:15.682Z"
   },
   {
    "duration": 5,
    "start_time": "2021-07-02T21:03:15.797Z"
   },
   {
    "duration": 18,
    "start_time": "2021-07-02T21:03:15.805Z"
   },
   {
    "duration": 669,
    "start_time": "2021-07-02T21:03:15.826Z"
   },
   {
    "duration": 8,
    "start_time": "2021-07-02T21:03:16.498Z"
   },
   {
    "duration": 16,
    "start_time": "2021-07-02T21:03:16.508Z"
   },
   {
    "duration": 44,
    "start_time": "2021-07-02T21:03:16.526Z"
   },
   {
    "duration": 55,
    "start_time": "2021-07-02T21:03:16.574Z"
   },
   {
    "duration": 493,
    "start_time": "2021-07-02T21:03:16.632Z"
   },
   {
    "duration": 119,
    "start_time": "2021-07-02T21:03:17.127Z"
   },
   {
    "duration": 4,
    "start_time": "2021-07-02T21:03:17.249Z"
   },
   {
    "duration": 109,
    "start_time": "2021-07-02T21:03:17.267Z"
   },
   {
    "duration": 5,
    "start_time": "2021-07-02T21:03:17.379Z"
   },
   {
    "duration": 21,
    "start_time": "2021-07-02T21:03:17.387Z"
   },
   {
    "duration": 677,
    "start_time": "2021-07-02T21:03:17.411Z"
   },
   {
    "duration": 9,
    "start_time": "2021-07-02T21:03:18.092Z"
   },
   {
    "duration": 1788,
    "start_time": "2021-07-03T06:41:01.189Z"
   },
   {
    "duration": 676,
    "start_time": "2021-07-03T06:41:02.980Z"
   },
   {
    "duration": 4,
    "start_time": "2021-07-03T06:41:03.660Z"
   },
   {
    "duration": 88,
    "start_time": "2021-07-03T06:41:05.342Z"
   },
   {
    "duration": 89,
    "start_time": "2021-07-03T06:42:14.885Z"
   },
   {
    "duration": 106,
    "start_time": "2021-07-03T06:42:25.291Z"
   },
   {
    "duration": 4,
    "start_time": "2021-07-03T06:42:49.623Z"
   },
   {
    "duration": 7,
    "start_time": "2021-07-03T06:43:05.489Z"
   },
   {
    "duration": 17,
    "start_time": "2021-07-03T06:43:07.083Z"
   },
   {
    "duration": 492,
    "start_time": "2021-07-03T06:43:27.647Z"
   },
   {
    "duration": 21,
    "start_time": "2021-07-03T06:43:48.102Z"
   },
   {
    "duration": 12,
    "start_time": "2021-07-03T06:43:48.961Z"
   },
   {
    "duration": 39,
    "start_time": "2021-07-03T06:43:49.745Z"
   },
   {
    "duration": 19,
    "start_time": "2021-07-03T06:43:51.656Z"
   },
   {
    "duration": 12,
    "start_time": "2021-07-03T06:43:52.613Z"
   },
   {
    "duration": 32,
    "start_time": "2021-07-03T06:43:54.493Z"
   },
   {
    "duration": 24,
    "start_time": "2021-07-03T06:44:04.375Z"
   },
   {
    "duration": 13,
    "start_time": "2021-07-03T06:44:05.005Z"
   },
   {
    "duration": 23,
    "start_time": "2021-07-03T06:44:05.645Z"
   },
   {
    "duration": 9,
    "start_time": "2021-07-03T06:44:08.910Z"
   },
   {
    "duration": 12,
    "start_time": "2021-07-03T06:44:12.915Z"
   },
   {
    "duration": 9,
    "start_time": "2021-07-03T06:44:14.756Z"
   },
   {
    "duration": 14,
    "start_time": "2021-07-03T06:44:14.958Z"
   },
   {
    "duration": 10,
    "start_time": "2021-07-03T06:44:15.467Z"
   },
   {
    "duration": 34,
    "start_time": "2021-07-03T06:44:15.704Z"
   },
   {
    "duration": 13,
    "start_time": "2021-07-03T06:44:15.793Z"
   },
   {
    "duration": 15,
    "start_time": "2021-07-03T06:44:15.958Z"
   },
   {
    "duration": 5,
    "start_time": "2021-07-03T06:44:16.381Z"
   },
   {
    "duration": 6,
    "start_time": "2021-07-03T06:44:16.464Z"
   },
   {
    "duration": 6,
    "start_time": "2021-07-03T06:44:16.555Z"
   },
   {
    "duration": 12,
    "start_time": "2021-07-03T06:44:16.628Z"
   },
   {
    "duration": 6,
    "start_time": "2021-07-03T06:44:17.134Z"
   },
   {
    "duration": 19,
    "start_time": "2021-07-03T06:44:17.305Z"
   },
   {
    "duration": 23,
    "start_time": "2021-07-03T06:44:17.385Z"
   },
   {
    "duration": 16,
    "start_time": "2021-07-03T06:44:17.480Z"
   },
   {
    "duration": 38,
    "start_time": "2021-07-03T06:44:17.736Z"
   },
   {
    "duration": 25,
    "start_time": "2021-07-03T06:44:17.802Z"
   },
   {
    "duration": 19,
    "start_time": "2021-07-03T06:44:17.927Z"
   },
   {
    "duration": 27,
    "start_time": "2021-07-03T06:44:17.978Z"
   },
   {
    "duration": 15,
    "start_time": "2021-07-03T06:44:18.137Z"
   },
   {
    "duration": 4,
    "start_time": "2021-07-03T06:44:18.306Z"
   },
   {
    "duration": 4,
    "start_time": "2021-07-03T06:44:18.560Z"
   },
   {
    "duration": 11,
    "start_time": "2021-07-03T06:44:18.808Z"
   },
   {
    "duration": 17,
    "start_time": "2021-07-03T06:44:18.897Z"
   },
   {
    "duration": 5,
    "start_time": "2021-07-03T06:44:18.975Z"
   },
   {
    "duration": 7,
    "start_time": "2021-07-03T06:44:19.057Z"
   },
   {
    "duration": 395,
    "start_time": "2021-07-03T06:44:19.227Z"
   },
   {
    "duration": 5,
    "start_time": "2021-07-03T06:44:19.625Z"
   },
   {
    "duration": 19,
    "start_time": "2021-07-03T06:44:19.633Z"
   },
   {
    "duration": 5,
    "start_time": "2021-07-03T06:44:19.663Z"
   },
   {
    "duration": 9,
    "start_time": "2021-07-03T06:44:19.670Z"
   },
   {
    "duration": 7,
    "start_time": "2021-07-03T06:44:19.771Z"
   },
   {
    "duration": 7,
    "start_time": "2021-07-03T06:44:19.825Z"
   },
   {
    "duration": 14,
    "start_time": "2021-07-03T06:44:20.095Z"
   },
   {
    "duration": 18,
    "start_time": "2021-07-03T06:44:20.331Z"
   },
   {
    "duration": 11,
    "start_time": "2021-07-03T06:44:20.431Z"
   },
   {
    "duration": 34,
    "start_time": "2021-07-03T06:44:20.480Z"
   },
   {
    "duration": 11,
    "start_time": "2021-07-03T06:44:20.570Z"
   },
   {
    "duration": 25,
    "start_time": "2021-07-03T06:44:20.910Z"
   },
   {
    "duration": 2811,
    "start_time": "2021-07-03T06:44:21.021Z"
   },
   {
    "duration": 46,
    "start_time": "2021-07-03T06:44:23.835Z"
   },
   {
    "duration": 445,
    "start_time": "2021-07-03T06:44:23.885Z"
   },
   {
    "duration": 3099,
    "start_time": "2021-07-03T06:44:24.332Z"
   },
   {
    "duration": 2793,
    "start_time": "2021-07-03T06:44:27.435Z"
   },
   {
    "duration": 5101,
    "start_time": "2021-07-03T06:44:30.230Z"
   },
   {
    "duration": 101,
    "start_time": "2021-07-03T06:44:35.334Z"
   },
   {
    "duration": 22,
    "start_time": "2021-07-03T06:44:35.440Z"
   },
   {
    "duration": 107,
    "start_time": "2021-07-03T06:44:35.465Z"
   },
   {
    "duration": 5,
    "start_time": "2021-07-03T06:44:35.574Z"
   },
   {
    "duration": 17,
    "start_time": "2021-07-03T06:44:35.582Z"
   },
   {
    "duration": 655,
    "start_time": "2021-07-03T06:44:35.602Z"
   },
   {
    "duration": 23,
    "start_time": "2021-07-03T06:44:36.262Z"
   },
   {
    "duration": 24,
    "start_time": "2021-07-03T06:44:36.288Z"
   },
   {
    "duration": 168,
    "start_time": "2021-07-03T06:44:36.316Z"
   },
   {
    "duration": 6,
    "start_time": "2021-07-03T06:44:36.487Z"
   },
   {
    "duration": 158,
    "start_time": "2021-07-03T06:44:36.496Z"
   },
   {
    "duration": 6,
    "start_time": "2021-07-03T06:44:36.661Z"
   },
   {
    "duration": 23,
    "start_time": "2021-07-03T06:44:36.670Z"
   },
   {
    "duration": 885,
    "start_time": "2021-07-03T06:44:36.696Z"
   },
   {
    "duration": 32,
    "start_time": "2021-07-03T06:44:37.585Z"
   },
   {
    "duration": 55,
    "start_time": "2021-07-03T06:44:37.620Z"
   },
   {
    "duration": 118,
    "start_time": "2021-07-03T06:44:37.682Z"
   },
   {
    "duration": 5,
    "start_time": "2021-07-03T06:44:37.804Z"
   },
   {
    "duration": 106,
    "start_time": "2021-07-03T06:44:37.811Z"
   },
   {
    "duration": 4,
    "start_time": "2021-07-03T06:44:37.920Z"
   },
   {
    "duration": 37,
    "start_time": "2021-07-03T06:44:37.927Z"
   },
   {
    "duration": 616,
    "start_time": "2021-07-03T06:44:37.967Z"
   },
   {
    "duration": 22,
    "start_time": "2021-07-03T06:44:38.586Z"
   },
   {
    "duration": 22,
    "start_time": "2021-07-03T06:44:38.610Z"
   },
   {
    "duration": 240,
    "start_time": "2021-07-03T06:44:38.634Z"
   },
   {
    "duration": 6,
    "start_time": "2021-07-03T06:44:38.877Z"
   },
   {
    "duration": 149,
    "start_time": "2021-07-03T06:44:38.886Z"
   },
   {
    "duration": 6,
    "start_time": "2021-07-03T06:44:39.039Z"
   },
   {
    "duration": 31,
    "start_time": "2021-07-03T06:44:39.048Z"
   },
   {
    "duration": 891,
    "start_time": "2021-07-03T06:44:39.082Z"
   },
   {
    "duration": 9,
    "start_time": "2021-07-03T06:44:39.976Z"
   },
   {
    "duration": 15,
    "start_time": "2021-07-03T06:44:39.987Z"
   },
   {
    "duration": 21,
    "start_time": "2021-07-03T06:44:40.004Z"
   },
   {
    "duration": 68,
    "start_time": "2021-07-03T06:44:40.027Z"
   },
   {
    "duration": 436,
    "start_time": "2021-07-03T06:44:40.098Z"
   },
   {
    "duration": 98,
    "start_time": "2021-07-03T06:44:40.537Z"
   },
   {
    "duration": 5,
    "start_time": "2021-07-03T06:44:40.638Z"
   },
   {
    "duration": 101,
    "start_time": "2021-07-03T06:44:40.645Z"
   },
   {
    "duration": 17,
    "start_time": "2021-07-03T06:44:40.748Z"
   },
   {
    "duration": 17,
    "start_time": "2021-07-03T06:44:40.768Z"
   },
   {
    "duration": 647,
    "start_time": "2021-07-03T06:44:40.787Z"
   },
   {
    "duration": 7,
    "start_time": "2021-07-03T06:44:41.436Z"
   },
   {
    "duration": 7295,
    "start_time": "2021-10-06T07:00:26.778Z"
   },
   {
    "duration": 3191,
    "start_time": "2021-10-06T07:00:34.076Z"
   },
   {
    "duration": 4,
    "start_time": "2021-10-06T07:00:37.271Z"
   },
   {
    "duration": 9,
    "start_time": "2021-10-06T07:00:37.278Z"
   },
   {
    "duration": 211,
    "start_time": "2021-10-06T07:00:37.290Z"
   },
   {
    "duration": 71,
    "start_time": "2021-10-06T07:00:37.503Z"
   },
   {
    "duration": 12,
    "start_time": "2021-10-06T07:00:37.577Z"
   },
   {
    "duration": 88,
    "start_time": "2021-10-06T07:00:37.593Z"
   },
   {
    "duration": 22,
    "start_time": "2021-10-06T07:00:37.684Z"
   },
   {
    "duration": 6,
    "start_time": "2021-10-06T07:00:37.768Z"
   },
   {
    "duration": 20,
    "start_time": "2021-10-06T07:00:37.776Z"
   },
   {
    "duration": 6,
    "start_time": "2021-10-06T07:00:37.799Z"
   },
   {
    "duration": 81,
    "start_time": "2021-10-06T07:00:37.807Z"
   },
   {
    "duration": 10,
    "start_time": "2021-10-06T07:00:37.890Z"
   },
   {
    "duration": 83,
    "start_time": "2021-10-06T07:00:37.902Z"
   },
   {
    "duration": 9,
    "start_time": "2021-10-06T07:00:37.987Z"
   },
   {
    "duration": 95,
    "start_time": "2021-10-06T07:00:37.999Z"
   },
   {
    "duration": 9,
    "start_time": "2021-10-06T07:00:38.097Z"
   },
   {
    "duration": 62,
    "start_time": "2021-10-06T07:00:38.109Z"
   },
   {
    "duration": 9,
    "start_time": "2021-10-06T07:00:38.174Z"
   },
   {
    "duration": 7,
    "start_time": "2021-10-06T07:00:38.186Z"
   },
   {
    "duration": 77,
    "start_time": "2021-10-06T07:00:38.195Z"
   },
   {
    "duration": 27,
    "start_time": "2021-10-06T07:00:38.278Z"
   },
   {
    "duration": 111,
    "start_time": "2021-10-06T07:00:38.369Z"
   },
   {
    "duration": 7,
    "start_time": "2021-10-06T07:00:38.483Z"
   },
   {
    "duration": 75,
    "start_time": "2021-10-06T07:00:38.492Z"
   },
   {
    "duration": 545,
    "start_time": "2021-10-06T07:00:38.569Z"
   },
   {
    "duration": 12,
    "start_time": "2021-10-06T07:00:39.168Z"
   },
   {
    "duration": 8,
    "start_time": "2021-10-06T07:00:39.182Z"
   },
   {
    "duration": 177,
    "start_time": "2021-10-06T07:00:39.192Z"
   },
   {
    "duration": 518,
    "start_time": "2021-10-06T07:00:39.371Z"
   },
   {
    "duration": 115,
    "start_time": "2021-10-06T07:00:39.891Z"
   },
   {
    "duration": 574,
    "start_time": "2021-10-06T07:00:40.008Z"
   },
   {
    "duration": 3,
    "start_time": "2021-10-06T07:00:40.584Z"
   },
   {
    "duration": 87,
    "start_time": "2021-10-06T07:00:40.590Z"
   },
   {
    "duration": 11,
    "start_time": "2021-10-06T07:00:40.679Z"
   },
   {
    "duration": 714,
    "start_time": "2021-10-06T07:00:40.692Z"
   },
   {
    "duration": 90,
    "start_time": "2021-10-06T07:00:41.409Z"
   },
   {
    "duration": 72,
    "start_time": "2021-10-06T07:00:41.501Z"
   },
   {
    "duration": 599,
    "start_time": "2021-10-06T07:00:41.576Z"
   },
   {
    "duration": 3,
    "start_time": "2021-10-06T07:00:42.178Z"
   },
   {
    "duration": 396,
    "start_time": "2021-10-06T07:00:42.183Z"
   },
   {
    "duration": 20,
    "start_time": "2021-10-06T07:00:42.581Z"
   },
   {
    "duration": 5496,
    "start_time": "2021-10-06T07:00:42.603Z"
   },
   {
    "duration": 290,
    "start_time": "2021-10-06T07:00:48.102Z"
   },
   {
    "duration": 78,
    "start_time": "2021-10-06T07:00:48.395Z"
   },
   {
    "duration": 538,
    "start_time": "2021-10-06T07:00:48.475Z"
   },
   {
    "duration": 53,
    "start_time": "2021-10-06T07:00:49.015Z"
   },
   {
    "duration": 99,
    "start_time": "2021-10-06T07:00:49.071Z"
   },
   {
    "duration": 196,
    "start_time": "2021-10-06T07:00:49.173Z"
   },
   {
    "duration": 2509,
    "start_time": "2021-10-06T07:00:49.372Z"
   },
   {
    "duration": 2083,
    "start_time": "2021-10-06T07:00:51.885Z"
   },
   {
    "duration": 202,
    "start_time": "2021-10-06T07:00:54.066Z"
   },
   {
    "duration": 101,
    "start_time": "2021-10-06T07:00:54.270Z"
   },
   {
    "duration": 608,
    "start_time": "2021-10-06T07:00:54.375Z"
   },
   {
    "duration": 5,
    "start_time": "2021-10-06T07:00:54.985Z"
   },
   {
    "duration": 575,
    "start_time": "2021-10-06T07:00:54.993Z"
   },
   {
    "duration": 8,
    "start_time": "2021-10-06T07:00:55.570Z"
   },
   {
    "duration": 718,
    "start_time": "2021-10-06T07:00:55.581Z"
   },
   {
    "duration": 598,
    "start_time": "2021-10-06T07:00:56.301Z"
   },
   {
    "duration": 672,
    "start_time": "2021-10-06T07:00:56.902Z"
   }
  ],
  "kernelspec": {
   "display_name": "Python 3 (ipykernel)",
   "language": "python",
   "name": "python3"
  },
  "language_info": {
   "codemirror_mode": {
    "name": "ipython",
    "version": 3
   },
   "file_extension": ".py",
   "mimetype": "text/x-python",
   "name": "python",
   "nbconvert_exporter": "python",
   "pygments_lexer": "ipython3",
   "version": "3.9.7"
  },
  "toc": {
   "base_numbering": 1,
   "nav_menu": {},
   "number_sections": true,
   "sideBar": true,
   "skip_h1_title": false,
   "title_cell": "Table of Contents",
   "title_sidebar": "Contents",
   "toc_cell": true,
   "toc_position": {},
   "toc_section_display": true,
   "toc_window_display": false
  },
  "varInspector": {
   "cols": {
    "lenName": 16,
    "lenType": 16,
    "lenVar": 40
   },
   "kernels_config": {
    "python": {
     "delete_cmd_postfix": "",
     "delete_cmd_prefix": "del ",
     "library": "var_list.py",
     "varRefreshCmd": "print(var_dic_list())"
    },
    "r": {
     "delete_cmd_postfix": ") ",
     "delete_cmd_prefix": "rm(",
     "library": "var_list.r",
     "varRefreshCmd": "cat(var_dic_list()) "
    }
   },
   "types_to_exclude": [
    "module",
    "function",
    "builtin_function_or_method",
    "instance",
    "_Feature"
   ],
   "window_display": false
  }
 },
 "nbformat": 4,
 "nbformat_minor": 5
}
